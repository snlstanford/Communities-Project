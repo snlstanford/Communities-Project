{
 "cells": [
  {
   "cell_type": "markdown",
   "metadata": {},
   "source": [
    "# Does your dorm matter for your well-being?\n",
    "\n",
    "We build models to predict:\n",
    "1. Spring well-being from fall well-being\n",
    "1. Spring well-being from fall well-being, demographic items (age, family income, family education, race, gender), and ambient empathy\n",
    "1. Same, plus random effects by dorm.\n",
    "\n",
    "# Results:\n",
    "- Demographics and ambient empathy do not improve model\n",
    "- Random effect model does not improve fit, and no variance is apportioned to the dorm level"
   ]
  },
  {
   "cell_type": "markdown",
   "metadata": {
    "toc": true
   },
   "source": [
    "<h1>Table of Contents<span class=\"tocSkip\"></span></h1>\n",
    "<div class=\"toc\"><ul class=\"toc-item\"><li><span><a href=\"#Configuration\" data-toc-modified-id=\"Configuration-1\"><span class=\"toc-item-num\">1&nbsp;&nbsp;</span>Configuration</a></span></li><li><span><a href=\"#Import-and-load\" data-toc-modified-id=\"Import-and-load-2\"><span class=\"toc-item-num\">2&nbsp;&nbsp;</span>Import and load</a></span></li><li><span><a href=\"#Quick-summary-of-whole-dorm-well-beings\" data-toc-modified-id=\"Quick-summary-of-whole-dorm-well-beings-3\"><span class=\"toc-item-num\">3&nbsp;&nbsp;</span>Quick summary of whole-dorm well-beings</a></span></li><li><span><a href=\"#Standard-regression-models-(not-mixed)\" data-toc-modified-id=\"Standard-regression-models-(not-mixed)-4\"><span class=\"toc-item-num\">4&nbsp;&nbsp;</span>Standard regression models (not mixed)</a></span><ul class=\"toc-item\"><li><span><a href=\"#Base-model,-minimal-predictors\" data-toc-modified-id=\"Base-model,-minimal-predictors-4.1\"><span class=\"toc-item-num\">4.1&nbsp;&nbsp;</span>Base model, minimal predictors</a></span></li><li><span><a href=\"#Add-demographic-covariates\" data-toc-modified-id=\"Add-demographic-covariates-4.2\"><span class=\"toc-item-num\">4.2&nbsp;&nbsp;</span>Add demographic covariates</a></span></li><li><span><a href=\"#Is-this-a-significant-improvement?-(No)\" data-toc-modified-id=\"Is-this-a-significant-improvement?-(No)-4.3\"><span class=\"toc-item-num\">4.3&nbsp;&nbsp;</span>Is this a significant improvement? (No)</a></span></li></ul></li><li><span><a href=\"#Mixed-effect-models\" data-toc-modified-id=\"Mixed-effect-models-5\"><span class=\"toc-item-num\">5&nbsp;&nbsp;</span>Mixed effect models</a></span><ul class=\"toc-item\"><li><span><a href=\"#REML-model-to-accurately-determine-variance-apportioned-to-dorm-(zero)\" data-toc-modified-id=\"REML-model-to-accurately-determine-variance-apportioned-to-dorm-(zero)-5.1\"><span class=\"toc-item-num\">5.1&nbsp;&nbsp;</span>REML model to accurately determine variance apportioned to dorm (zero)</a></span></li><li><span><a href=\"#REML=false-model-to-maximize-predictive-value.-Is-this-a-significant-improvement-over-the-non-mixed-model?-(No)\" data-toc-modified-id=\"REML=false-model-to-maximize-predictive-value.-Is-this-a-significant-improvement-over-the-non-mixed-model?-(No)-5.2\"><span class=\"toc-item-num\">5.2&nbsp;&nbsp;</span>REML=false model to maximize predictive value. Is this a significant improvement over the non-mixed model? (No)</a></span></li></ul></li><li><span><a href=\"#Bring-in-network-density-to-the-mixed-model\" data-toc-modified-id=\"Bring-in-network-density-to-the-mixed-model-6\"><span class=\"toc-item-num\">6&nbsp;&nbsp;</span>Bring in network density to the mixed model</a></span><ul class=\"toc-item\"><li><span><a href=\"#Prepare-the-data\" data-toc-modified-id=\"Prepare-the-data-6.1\"><span class=\"toc-item-num\">6.1&nbsp;&nbsp;</span>Prepare the data</a></span></li><li><span><a href=\"#Mixed-models---REML\" data-toc-modified-id=\"Mixed-models---REML-6.2\"><span class=\"toc-item-num\">6.2&nbsp;&nbsp;</span>Mixed models - REML</a></span></li></ul></li></ul></div>"
   ]
  },
  {
   "cell_type": "markdown",
   "metadata": {},
   "source": [
    "## Configuration"
   ]
  },
  {
   "cell_type": "code",
   "execution_count": 27,
   "metadata": {},
   "outputs": [],
   "source": [
    "DATA_FILE = 'data/postprocessed/final_for_analysis_R.csv'\n",
    "\n",
    "IMPUTE_MISSING = TRUE\n",
    "INCLUDE_FALL_WB_AS_PREDICTOR = TRUE\n",
    "INCLUDE_DEMOS_AS_PREDICTOR = TRUE\n",
    "# DV = 'Wellbeing_fall'\n",
    "DV = 'Wellbeing_spring'\n",
    "\n",
    "if (INCLUDE_FALL_WB_AS_PREDICTOR) {\n",
    "    stopifnot(DV == 'Wellbeing_spring')\n",
    "}"
   ]
  },
  {
   "cell_type": "markdown",
   "metadata": {},
   "source": [
    "## Import and load"
   ]
  },
  {
   "cell_type": "code",
   "execution_count": 28,
   "metadata": {},
   "outputs": [],
   "source": [
    "library(car)\n",
    "library(plyr)\n",
    "library(tidyverse)\n",
    "library(hexbin)\n",
    "library(mice)\n",
    "library(nlme)\n",
    "library(lme4)\n",
    "library(lmerTest)\n",
    "\n",
    "options(width=200)"
   ]
  },
  {
   "cell_type": "code",
   "execution_count": 29,
   "metadata": {},
   "outputs": [
    {
     "data": {
      "text/html": [
       "<ol class=list-inline>\n",
       "\t<li>204</li>\n",
       "\t<li>10</li>\n",
       "</ol>\n"
      ],
      "text/latex": [
       "\\begin{enumerate*}\n",
       "\\item 204\n",
       "\\item 10\n",
       "\\end{enumerate*}\n"
      ],
      "text/markdown": [
       "1. 204\n",
       "2. 10\n",
       "\n",
       "\n"
      ],
      "text/plain": [
       "[1] 204  10"
      ]
     },
     "metadata": {},
     "output_type": "display_data"
    },
    {
     "data": {
      "text/html": [
       "<table>\n",
       "<caption>A data.frame: 6 × 10</caption>\n",
       "<thead>\n",
       "\t<tr><th></th><th scope=col>NID</th><th scope=col>Age</th><th scope=col>ParentEducationMax</th><th scope=col>FinclAid</th><th scope=col>FmlyIncome</th><th scope=col>Gender</th><th scope=col>Race</th><th scope=col>Ambient_empathy</th><th scope=col>Wellbeing_fall</th><th scope=col>Wellbeing_spring</th></tr>\n",
       "\t<tr><th></th><th scope=col>&lt;dbl&gt;</th><th scope=col>&lt;dbl&gt;</th><th scope=col>&lt;dbl&gt;</th><th scope=col>&lt;dbl&gt;</th><th scope=col>&lt;dbl&gt;</th><th scope=col>&lt;fct&gt;</th><th scope=col>&lt;fct&gt;</th><th scope=col>&lt;dbl&gt;</th><th scope=col>&lt;dbl&gt;</th><th scope=col>&lt;dbl&gt;</th></tr>\n",
       "</thead>\n",
       "<tbody>\n",
       "\t<tr><th scope=row>1</th><td> 7</td><td>18</td><td>4.0</td><td>0</td><td> 87500</td><td>M</td><td>white      </td><td>-0.7154534</td><td>-2.06354788</td><td>-0.76535414</td></tr>\n",
       "\t<tr><th scope=row>2</th><td>11</td><td>18</td><td>3.5</td><td>1</td><td>    NA</td><td>F</td><td>south_asian</td><td>-0.8199099</td><td>-0.01143413</td><td>-0.04997158</td></tr>\n",
       "\t<tr><th scope=row>3</th><td> 9</td><td>18</td><td>4.0</td><td>1</td><td>125000</td><td>M</td><td>white      </td><td>-0.8994971</td><td> 0.91965600</td><td> 0.66541099</td></tr>\n",
       "\t<tr><th scope=row>4</th><td> 4</td><td>18</td><td>4.0</td><td>0</td><td>200000</td><td>F</td><td>east_asian </td><td>        NA</td><td> 0.65342017</td><td> 0.48656535</td></tr>\n",
       "\t<tr><th scope=row>5</th><td> 5</td><td>18</td><td>2.5</td><td>1</td><td>125000</td><td>M</td><td>south_asian</td><td>-0.4873343</td><td> 0.69839160</td><td>-0.04997158</td></tr>\n",
       "\t<tr><th scope=row>6</th><td>13</td><td>18</td><td>4.0</td><td>1</td><td> 45000</td><td>F</td><td>east_asian </td><td>        NA</td><td> 0.04290417</td><td>-0.13939440</td></tr>\n",
       "</tbody>\n",
       "</table>\n"
      ],
      "text/latex": [
       "A data.frame: 6 × 10\n",
       "\\begin{tabular}{r|llllllllll}\n",
       "  & NID & Age & ParentEducationMax & FinclAid & FmlyIncome & Gender & Race & Ambient\\_empathy & Wellbeing\\_fall & Wellbeing\\_spring\\\\\n",
       "  & <dbl> & <dbl> & <dbl> & <dbl> & <dbl> & <fct> & <fct> & <dbl> & <dbl> & <dbl>\\\\\n",
       "\\hline\n",
       "\t1 &  7 & 18 & 4.0 & 0 &  87500 & M & white       & -0.7154534 & -2.06354788 & -0.76535414\\\\\n",
       "\t2 & 11 & 18 & 3.5 & 1 &     NA & F & south\\_asian & -0.8199099 & -0.01143413 & -0.04997158\\\\\n",
       "\t3 &  9 & 18 & 4.0 & 1 & 125000 & M & white       & -0.8994971 &  0.91965600 &  0.66541099\\\\\n",
       "\t4 &  4 & 18 & 4.0 & 0 & 200000 & F & east\\_asian  &         NA &  0.65342017 &  0.48656535\\\\\n",
       "\t5 &  5 & 18 & 2.5 & 1 & 125000 & M & south\\_asian & -0.4873343 &  0.69839160 & -0.04997158\\\\\n",
       "\t6 & 13 & 18 & 4.0 & 1 &  45000 & F & east\\_asian  &         NA &  0.04290417 & -0.13939440\\\\\n",
       "\\end{tabular}\n"
      ],
      "text/markdown": [
       "\n",
       "A data.frame: 6 × 10\n",
       "\n",
       "| <!--/--> | NID &lt;dbl&gt; | Age &lt;dbl&gt; | ParentEducationMax &lt;dbl&gt; | FinclAid &lt;dbl&gt; | FmlyIncome &lt;dbl&gt; | Gender &lt;fct&gt; | Race &lt;fct&gt; | Ambient_empathy &lt;dbl&gt; | Wellbeing_fall &lt;dbl&gt; | Wellbeing_spring &lt;dbl&gt; |\n",
       "|---|---|---|---|---|---|---|---|---|---|---|\n",
       "| 1 |  7 | 18 | 4.0 | 0 |  87500 | M | white       | -0.7154534 | -2.06354788 | -0.76535414 |\n",
       "| 2 | 11 | 18 | 3.5 | 1 |     NA | F | south_asian | -0.8199099 | -0.01143413 | -0.04997158 |\n",
       "| 3 |  9 | 18 | 4.0 | 1 | 125000 | M | white       | -0.8994971 |  0.91965600 |  0.66541099 |\n",
       "| 4 |  4 | 18 | 4.0 | 0 | 200000 | F | east_asian  |         NA |  0.65342017 |  0.48656535 |\n",
       "| 5 |  5 | 18 | 2.5 | 1 | 125000 | M | south_asian | -0.4873343 |  0.69839160 | -0.04997158 |\n",
       "| 6 | 13 | 18 | 4.0 | 1 |  45000 | F | east_asian  |         NA |  0.04290417 | -0.13939440 |\n",
       "\n"
      ],
      "text/plain": [
       "  NID Age ParentEducationMax FinclAid FmlyIncome Gender Race        Ambient_empathy Wellbeing_fall Wellbeing_spring\n",
       "1  7  18  4.0                0         87500     M      white       -0.7154534      -2.06354788    -0.76535414     \n",
       "2 11  18  3.5                1            NA     F      south_asian -0.8199099      -0.01143413    -0.04997158     \n",
       "3  9  18  4.0                1        125000     M      white       -0.8994971       0.91965600     0.66541099     \n",
       "4  4  18  4.0                0        200000     F      east_asian          NA       0.65342017     0.48656535     \n",
       "5  5  18  2.5                1        125000     M      south_asian -0.4873343       0.69839160    -0.04997158     \n",
       "6 13  18  4.0                1         45000     F      east_asian          NA       0.04290417    -0.13939440     "
      ]
     },
     "metadata": {},
     "output_type": "display_data"
    }
   ],
   "source": [
    "df = read.csv(DATA_FILE, na.strings=c(\"\", \" \", \"NA\"))\n",
    "df = df[,c('NID', 'Age', 'ParentEducationMax',\n",
    "           'FinclAid', 'FmlyIncome', 'Gender', 'Race',\n",
    "           'Ambient_empathy',\n",
    "           'Wellbeing_fall', 'Wellbeing_spring')]\n",
    "dim(df)\n",
    "head(df)"
   ]
  },
  {
   "cell_type": "code",
   "execution_count": 30,
   "metadata": {},
   "outputs": [
    {
     "name": "stdout",
     "output_type": "stream",
     "text": [
      "[1] \"Imputing missing values\"\n",
      "\n",
      " iter imp variable\n",
      "  1   1  ParentEducationMax  FinclAid  FmlyIncome  Race  Ambient_empathy\n",
      "  1   2  ParentEducationMax  FinclAid  FmlyIncome  Race  Ambient_empathy\n",
      "  1   3  ParentEducationMax  FinclAid  FmlyIncome  Race  Ambient_empathy\n",
      "  1   4  ParentEducationMax  FinclAid  FmlyIncome  Race  Ambient_empathy\n",
      "  1   5  ParentEducationMax  FinclAid  FmlyIncome  Race  Ambient_empathy\n",
      "  2   1  ParentEducationMax  FinclAid  FmlyIncome  Race  Ambient_empathy\n",
      "  2   2  ParentEducationMax  FinclAid  FmlyIncome  Race  Ambient_empathy\n",
      "  2   3  ParentEducationMax  FinclAid  FmlyIncome  Race  Ambient_empathy\n",
      "  2   4  ParentEducationMax  FinclAid  FmlyIncome  Race  Ambient_empathy\n",
      "  2   5  ParentEducationMax  FinclAid  FmlyIncome  Race  Ambient_empathy\n",
      "  3   1  ParentEducationMax  FinclAid  FmlyIncome  Race  Ambient_empathy\n",
      "  3   2  ParentEducationMax  FinclAid  FmlyIncome  Race  Ambient_empathy\n",
      "  3   3  ParentEducationMax  FinclAid  FmlyIncome  Race  Ambient_empathy\n",
      "  3   4  ParentEducationMax  FinclAid  FmlyIncome  Race  Ambient_empathy\n",
      "  3   5  ParentEducationMax  FinclAid  FmlyIncome  Race  Ambient_empathy\n",
      "  4   1  ParentEducationMax  FinclAid  FmlyIncome  Race  Ambient_empathy\n",
      "  4   2  ParentEducationMax  FinclAid  FmlyIncome  Race  Ambient_empathy\n",
      "  4   3  ParentEducationMax  FinclAid  FmlyIncome  Race  Ambient_empathy\n",
      "  4   4  ParentEducationMax  FinclAid  FmlyIncome  Race  Ambient_empathy\n",
      "  4   5  ParentEducationMax  FinclAid  FmlyIncome  Race  Ambient_empathy\n",
      "  5   1  ParentEducationMax  FinclAid  FmlyIncome  Race  Ambient_empathy\n",
      "  5   2  ParentEducationMax  FinclAid  FmlyIncome  Race  Ambient_empathy\n",
      "  5   3  ParentEducationMax  FinclAid  FmlyIncome  Race  Ambient_empathy\n",
      "  5   4  ParentEducationMax  FinclAid  FmlyIncome  Race  Ambient_empathy\n",
      "  5   5  ParentEducationMax  FinclAid  FmlyIncome  Race  Ambient_empathy\n"
     ]
    },
    {
     "data": {
      "text/html": [
       "<table>\n",
       "<caption>A data.frame: 6 × 10</caption>\n",
       "<thead>\n",
       "\t<tr><th></th><th scope=col>NID</th><th scope=col>Age</th><th scope=col>ParentEducationMax</th><th scope=col>FinclAid</th><th scope=col>FmlyIncome</th><th scope=col>Gender</th><th scope=col>Race</th><th scope=col>Ambient_empathy</th><th scope=col>Wellbeing_fall</th><th scope=col>Wellbeing_spring</th></tr>\n",
       "\t<tr><th></th><th scope=col>&lt;dbl&gt;</th><th scope=col>&lt;dbl&gt;</th><th scope=col>&lt;dbl&gt;</th><th scope=col>&lt;dbl&gt;</th><th scope=col>&lt;dbl&gt;</th><th scope=col>&lt;fct&gt;</th><th scope=col>&lt;fct&gt;</th><th scope=col>&lt;dbl&gt;</th><th scope=col>&lt;dbl&gt;</th><th scope=col>&lt;dbl&gt;</th></tr>\n",
       "</thead>\n",
       "<tbody>\n",
       "\t<tr><th scope=row>1</th><td> 7</td><td>18</td><td>4.0</td><td>0</td><td> 87500</td><td>M</td><td>white      </td><td>-0.7154534</td><td>-2.06354788</td><td>-0.76535414</td></tr>\n",
       "\t<tr><th scope=row>2</th><td>11</td><td>18</td><td>3.5</td><td>1</td><td>200000</td><td>F</td><td>south_asian</td><td>-0.8199099</td><td>-0.01143413</td><td>-0.04997158</td></tr>\n",
       "\t<tr><th scope=row>3</th><td> 9</td><td>18</td><td>4.0</td><td>1</td><td>125000</td><td>M</td><td>white      </td><td>-0.8994971</td><td> 0.91965600</td><td> 0.66541099</td></tr>\n",
       "\t<tr><th scope=row>4</th><td> 4</td><td>18</td><td>4.0</td><td>0</td><td>200000</td><td>F</td><td>east_asian </td><td>-1.1311982</td><td> 0.65342017</td><td> 0.48656535</td></tr>\n",
       "\t<tr><th scope=row>5</th><td> 5</td><td>18</td><td>2.5</td><td>1</td><td>125000</td><td>M</td><td>south_asian</td><td>-0.4873343</td><td> 0.69839160</td><td>-0.04997158</td></tr>\n",
       "\t<tr><th scope=row>6</th><td>13</td><td>18</td><td>4.0</td><td>1</td><td> 45000</td><td>F</td><td>east_asian </td><td>-0.8199099</td><td> 0.04290417</td><td>-0.13939440</td></tr>\n",
       "</tbody>\n",
       "</table>\n"
      ],
      "text/latex": [
       "A data.frame: 6 × 10\n",
       "\\begin{tabular}{r|llllllllll}\n",
       "  & NID & Age & ParentEducationMax & FinclAid & FmlyIncome & Gender & Race & Ambient\\_empathy & Wellbeing\\_fall & Wellbeing\\_spring\\\\\n",
       "  & <dbl> & <dbl> & <dbl> & <dbl> & <dbl> & <fct> & <fct> & <dbl> & <dbl> & <dbl>\\\\\n",
       "\\hline\n",
       "\t1 &  7 & 18 & 4.0 & 0 &  87500 & M & white       & -0.7154534 & -2.06354788 & -0.76535414\\\\\n",
       "\t2 & 11 & 18 & 3.5 & 1 & 200000 & F & south\\_asian & -0.8199099 & -0.01143413 & -0.04997158\\\\\n",
       "\t3 &  9 & 18 & 4.0 & 1 & 125000 & M & white       & -0.8994971 &  0.91965600 &  0.66541099\\\\\n",
       "\t4 &  4 & 18 & 4.0 & 0 & 200000 & F & east\\_asian  & -1.1311982 &  0.65342017 &  0.48656535\\\\\n",
       "\t5 &  5 & 18 & 2.5 & 1 & 125000 & M & south\\_asian & -0.4873343 &  0.69839160 & -0.04997158\\\\\n",
       "\t6 & 13 & 18 & 4.0 & 1 &  45000 & F & east\\_asian  & -0.8199099 &  0.04290417 & -0.13939440\\\\\n",
       "\\end{tabular}\n"
      ],
      "text/markdown": [
       "\n",
       "A data.frame: 6 × 10\n",
       "\n",
       "| <!--/--> | NID &lt;dbl&gt; | Age &lt;dbl&gt; | ParentEducationMax &lt;dbl&gt; | FinclAid &lt;dbl&gt; | FmlyIncome &lt;dbl&gt; | Gender &lt;fct&gt; | Race &lt;fct&gt; | Ambient_empathy &lt;dbl&gt; | Wellbeing_fall &lt;dbl&gt; | Wellbeing_spring &lt;dbl&gt; |\n",
       "|---|---|---|---|---|---|---|---|---|---|---|\n",
       "| 1 |  7 | 18 | 4.0 | 0 |  87500 | M | white       | -0.7154534 | -2.06354788 | -0.76535414 |\n",
       "| 2 | 11 | 18 | 3.5 | 1 | 200000 | F | south_asian | -0.8199099 | -0.01143413 | -0.04997158 |\n",
       "| 3 |  9 | 18 | 4.0 | 1 | 125000 | M | white       | -0.8994971 |  0.91965600 |  0.66541099 |\n",
       "| 4 |  4 | 18 | 4.0 | 0 | 200000 | F | east_asian  | -1.1311982 |  0.65342017 |  0.48656535 |\n",
       "| 5 |  5 | 18 | 2.5 | 1 | 125000 | M | south_asian | -0.4873343 |  0.69839160 | -0.04997158 |\n",
       "| 6 | 13 | 18 | 4.0 | 1 |  45000 | F | east_asian  | -0.8199099 |  0.04290417 | -0.13939440 |\n",
       "\n"
      ],
      "text/plain": [
       "  NID Age ParentEducationMax FinclAid FmlyIncome Gender Race        Ambient_empathy Wellbeing_fall Wellbeing_spring\n",
       "1  7  18  4.0                0         87500     M      white       -0.7154534      -2.06354788    -0.76535414     \n",
       "2 11  18  3.5                1        200000     F      south_asian -0.8199099      -0.01143413    -0.04997158     \n",
       "3  9  18  4.0                1        125000     M      white       -0.8994971       0.91965600     0.66541099     \n",
       "4  4  18  4.0                0        200000     F      east_asian  -1.1311982       0.65342017     0.48656535     \n",
       "5  5  18  2.5                1        125000     M      south_asian -0.4873343       0.69839160    -0.04997158     \n",
       "6 13  18  4.0                1         45000     F      east_asian  -0.8199099       0.04290417    -0.13939440     "
      ]
     },
     "metadata": {},
     "output_type": "display_data"
    }
   ],
   "source": [
    "if (IMPUTE_MISSING) {\n",
    "    print(\"Imputing missing values\")\n",
    "    imp = mice(df)\n",
    "    df = complete(imp)\n",
    "    head(df)\n",
    "} else {\n",
    "    df = na.omit(df)\n",
    "}"
   ]
  },
  {
   "cell_type": "markdown",
   "metadata": {},
   "source": [
    "## Quick summary of whole-dorm well-beings"
   ]
  },
  {
   "cell_type": "code",
   "execution_count": 31,
   "metadata": {},
   "outputs": [
    {
     "data": {
      "text/html": [
       "<table>\n",
       "<caption>A tibble: 11 × 3</caption>\n",
       "<thead>\n",
       "\t<tr><th scope=col>NID</th><th scope=col>wb_fall</th><th scope=col>wb_spring</th></tr>\n",
       "\t<tr><th scope=col>&lt;dbl&gt;</th><th scope=col>&lt;dbl&gt;</th><th scope=col>&lt;dbl&gt;</th></tr>\n",
       "</thead>\n",
       "<tbody>\n",
       "\t<tr><td> 1</td><td> 0.17958135</td><td> 0.43067609</td></tr>\n",
       "\t<tr><td> 2</td><td> 0.10039586</td><td> 0.23049091</td></tr>\n",
       "\t<tr><td> 4</td><td>-0.04213750</td><td> 0.00871215</td></tr>\n",
       "\t<tr><td> 5</td><td> 0.05322856</td><td> 0.01841058</td></tr>\n",
       "\t<tr><td> 7</td><td> 0.06902635</td><td> 0.17164150</td></tr>\n",
       "\t<tr><td> 8</td><td>-0.15094904</td><td>-0.45876161</td></tr>\n",
       "\t<tr><td> 9</td><td>-0.09749154</td><td>-0.34804765</td></tr>\n",
       "\t<tr><td>10</td><td>-0.35117851</td><td>-0.30147326</td></tr>\n",
       "\t<tr><td>11</td><td> 0.14734051</td><td> 0.15272015</td></tr>\n",
       "\t<tr><td>13</td><td>-0.30415259</td><td>-0.49261454</td></tr>\n",
       "\t<tr><td>15</td><td> 0.43878610</td><td> 0.47538750</td></tr>\n",
       "</tbody>\n",
       "</table>\n"
      ],
      "text/latex": [
       "A tibble: 11 × 3\n",
       "\\begin{tabular}{lll}\n",
       " NID & wb\\_fall & wb\\_spring\\\\\n",
       " <dbl> & <dbl> & <dbl>\\\\\n",
       "\\hline\n",
       "\t  1 &  0.17958135 &  0.43067609\\\\\n",
       "\t  2 &  0.10039586 &  0.23049091\\\\\n",
       "\t  4 & -0.04213750 &  0.00871215\\\\\n",
       "\t  5 &  0.05322856 &  0.01841058\\\\\n",
       "\t  7 &  0.06902635 &  0.17164150\\\\\n",
       "\t  8 & -0.15094904 & -0.45876161\\\\\n",
       "\t  9 & -0.09749154 & -0.34804765\\\\\n",
       "\t 10 & -0.35117851 & -0.30147326\\\\\n",
       "\t 11 &  0.14734051 &  0.15272015\\\\\n",
       "\t 13 & -0.30415259 & -0.49261454\\\\\n",
       "\t 15 &  0.43878610 &  0.47538750\\\\\n",
       "\\end{tabular}\n"
      ],
      "text/markdown": [
       "\n",
       "A tibble: 11 × 3\n",
       "\n",
       "| NID &lt;dbl&gt; | wb_fall &lt;dbl&gt; | wb_spring &lt;dbl&gt; |\n",
       "|---|---|---|\n",
       "|  1 |  0.17958135 |  0.43067609 |\n",
       "|  2 |  0.10039586 |  0.23049091 |\n",
       "|  4 | -0.04213750 |  0.00871215 |\n",
       "|  5 |  0.05322856 |  0.01841058 |\n",
       "|  7 |  0.06902635 |  0.17164150 |\n",
       "|  8 | -0.15094904 | -0.45876161 |\n",
       "|  9 | -0.09749154 | -0.34804765 |\n",
       "| 10 | -0.35117851 | -0.30147326 |\n",
       "| 11 |  0.14734051 |  0.15272015 |\n",
       "| 13 | -0.30415259 | -0.49261454 |\n",
       "| 15 |  0.43878610 |  0.47538750 |\n",
       "\n"
      ],
      "text/plain": [
       "   NID wb_fall     wb_spring  \n",
       "1   1   0.17958135  0.43067609\n",
       "2   2   0.10039586  0.23049091\n",
       "3   4  -0.04213750  0.00871215\n",
       "4   5   0.05322856  0.01841058\n",
       "5   7   0.06902635  0.17164150\n",
       "6   8  -0.15094904 -0.45876161\n",
       "7   9  -0.09749154 -0.34804765\n",
       "8  10  -0.35117851 -0.30147326\n",
       "9  11   0.14734051  0.15272015\n",
       "10 13  -0.30415259 -0.49261454\n",
       "11 15   0.43878610  0.47538750"
      ]
     },
     "metadata": {},
     "output_type": "display_data"
    }
   ],
   "source": [
    "df %>% group_by(NID) %>%\n",
    "    summarize(wb_fall = mean(Wellbeing_fall),\n",
    "              wb_spring = mean(Wellbeing_spring))"
   ]
  },
  {
   "cell_type": "markdown",
   "metadata": {},
   "source": [
    "## Standard regression models (not mixed)"
   ]
  },
  {
   "cell_type": "markdown",
   "metadata": {},
   "source": [
    "### Base model, minimal predictors"
   ]
  },
  {
   "cell_type": "code",
   "execution_count": 32,
   "metadata": {},
   "outputs": [
    {
     "name": "stdout",
     "output_type": "stream",
     "text": [
      "[1] \"Wellbeing_spring  ~  1  + Wellbeing_fall\"\n"
     ]
    },
    {
     "data": {
      "text/plain": [
       "\n",
       "Call:\n",
       "lm(formula = as.formula(equation), data = df)\n",
       "\n",
       "Residuals:\n",
       "     Min       1Q   Median       3Q      Max \n",
       "-2.69297 -0.48662  0.06646  0.49158  2.76843 \n",
       "\n",
       "Coefficients:\n",
       "                 Estimate Std. Error t value Pr(>|t|)    \n",
       "(Intercept)    -3.286e-16  5.373e-02    0.00        1    \n",
       "Wellbeing_fall  6.433e-01  5.387e-02   11.94   <2e-16 ***\n",
       "---\n",
       "Signif. codes:  0 ‘***’ 0.001 ‘**’ 0.01 ‘*’ 0.05 ‘.’ 0.1 ‘ ’ 1\n",
       "\n",
       "Residual standard error: 0.7675 on 202 degrees of freedom\n",
       "Multiple R-squared:  0.4139,\tAdjusted R-squared:  0.411 \n",
       "F-statistic: 142.6 on 1 and 202 DF,  p-value: < 2.2e-16\n"
      ]
     },
     "metadata": {},
     "output_type": "display_data"
    }
   ],
   "source": [
    "equation = paste(DV, ' ~  1')\n",
    "if (INCLUDE_FALL_WB_AS_PREDICTOR) {\n",
    "    equation = paste(equation, ' + Wellbeing_fall')\n",
    "}\n",
    "print(equation)\n",
    "model1 = lm(as.formula(equation), df)\n",
    "summary(model1)"
   ]
  },
  {
   "cell_type": "markdown",
   "metadata": {},
   "source": [
    "### Add demographic covariates"
   ]
  },
  {
   "cell_type": "code",
   "execution_count": 33,
   "metadata": {},
   "outputs": [
    {
     "data": {
      "text/html": [
       "<ol class=list-inline>\n",
       "\t<li>'NID'</li>\n",
       "\t<li>'Age'</li>\n",
       "\t<li>'ParentEducationMax'</li>\n",
       "\t<li>'FinclAid'</li>\n",
       "\t<li>'FmlyIncome'</li>\n",
       "\t<li>'Gender'</li>\n",
       "\t<li>'Race'</li>\n",
       "\t<li>'Ambient_empathy'</li>\n",
       "\t<li>'Wellbeing_fall'</li>\n",
       "\t<li>'Wellbeing_spring'</li>\n",
       "</ol>\n"
      ],
      "text/latex": [
       "\\begin{enumerate*}\n",
       "\\item 'NID'\n",
       "\\item 'Age'\n",
       "\\item 'ParentEducationMax'\n",
       "\\item 'FinclAid'\n",
       "\\item 'FmlyIncome'\n",
       "\\item 'Gender'\n",
       "\\item 'Race'\n",
       "\\item 'Ambient\\_empathy'\n",
       "\\item 'Wellbeing\\_fall'\n",
       "\\item 'Wellbeing\\_spring'\n",
       "\\end{enumerate*}\n"
      ],
      "text/markdown": [
       "1. 'NID'\n",
       "2. 'Age'\n",
       "3. 'ParentEducationMax'\n",
       "4. 'FinclAid'\n",
       "5. 'FmlyIncome'\n",
       "6. 'Gender'\n",
       "7. 'Race'\n",
       "8. 'Ambient_empathy'\n",
       "9. 'Wellbeing_fall'\n",
       "10. 'Wellbeing_spring'\n",
       "\n",
       "\n"
      ],
      "text/plain": [
       " [1] \"NID\"                \"Age\"                \"ParentEducationMax\" \"FinclAid\"           \"FmlyIncome\"         \"Gender\"             \"Race\"               \"Ambient_empathy\"    \"Wellbeing_fall\"    \n",
       "[10] \"Wellbeing_spring\"  "
      ]
     },
     "metadata": {},
     "output_type": "display_data"
    }
   ],
   "source": [
    "names(df)"
   ]
  },
  {
   "cell_type": "code",
   "execution_count": 34,
   "metadata": {},
   "outputs": [
    {
     "name": "stdout",
     "output_type": "stream",
     "text": [
      "[1] \"Wellbeing_spring  ~  1  + Wellbeing_fall + Age + ParentEducationMax + FinclAid + FmlyIncome + Gender + Race + Ambient_empathy\"\n"
     ]
    },
    {
     "data": {
      "text/plain": [
       "\n",
       "Call:\n",
       "lm(formula = as.formula(equation), data = df)\n",
       "\n",
       "Residuals:\n",
       "     Min       1Q   Median       3Q      Max \n",
       "-2.49880 -0.38430  0.02461  0.50533  2.50432 \n",
       "\n",
       "Coefficients:\n",
       "                     Estimate Std. Error t value Pr(>|t|)    \n",
       "(Intercept)        -4.394e-01  1.037e+00  -0.424 0.672155    \n",
       "Wellbeing_fall      6.076e-01  5.513e-02  11.020  < 2e-16 ***\n",
       "Age                -6.803e-04  5.173e-02  -0.013 0.989521    \n",
       "ParentEducationMax  5.868e-02  9.571e-02   0.613 0.540506    \n",
       "FinclAid            1.559e-02  1.380e-01   0.113 0.910148    \n",
       "FmlyIncome          1.681e-06  9.990e-07   1.683 0.094072 .  \n",
       "GenderM             1.868e-01  1.115e-01   1.674 0.095698 .  \n",
       "Genderother         3.684e-02  3.539e-01   0.104 0.917204    \n",
       "Raceeast_asian      1.137e-01  2.192e-01   0.519 0.604486    \n",
       "Racehispanic        3.246e-01  2.745e-01   1.183 0.238473    \n",
       "Raceother_or_mixed -5.437e-02  2.183e-01  -0.249 0.803545    \n",
       "Racesouth_asian    -1.797e-01  2.935e-01  -0.612 0.541205    \n",
       "Racewhite           2.131e-01  2.299e-01   0.927 0.355189    \n",
       "Ambient_empathy     2.386e-01  7.015e-02   3.402 0.000816 ***\n",
       "---\n",
       "Signif. codes:  0 ‘***’ 0.001 ‘**’ 0.01 ‘*’ 0.05 ‘.’ 0.1 ‘ ’ 1\n",
       "\n",
       "Residual standard error: 0.7458 on 190 degrees of freedom\n",
       "Multiple R-squared:  0.4794,\tAdjusted R-squared:  0.4438 \n",
       "F-statistic: 13.46 on 13 and 190 DF,  p-value: < 2.2e-16\n"
      ]
     },
     "metadata": {},
     "output_type": "display_data"
    }
   ],
   "source": [
    "if (INCLUDE_DEMOS_AS_PREDICTOR) {\n",
    "    equation = paste(equation, '+ Age + ParentEducationMax + FinclAid + FmlyIncome + Gender + Race + Ambient_empathy')\n",
    "    print(equation)\n",
    "    model2 = lm(as.formula(equation), df)\n",
    "    summary(model2)\n",
    "} else {\n",
    "    model2 = model1\n",
    "}"
   ]
  },
  {
   "cell_type": "markdown",
   "metadata": {},
   "source": [
    "### Is this a significant improvement? (No)"
   ]
  },
  {
   "cell_type": "code",
   "execution_count": 35,
   "metadata": {},
   "outputs": [
    {
     "data": {
      "text/html": [
       "<table>\n",
       "<caption>A anova: 2 × 6</caption>\n",
       "<thead>\n",
       "\t<tr><th></th><th scope=col>Res.Df</th><th scope=col>RSS</th><th scope=col>Df</th><th scope=col>Sum of Sq</th><th scope=col>F</th><th scope=col>Pr(&gt;F)</th></tr>\n",
       "\t<tr><th></th><th scope=col>&lt;dbl&gt;</th><th scope=col>&lt;dbl&gt;</th><th scope=col>&lt;dbl&gt;</th><th scope=col>&lt;dbl&gt;</th><th scope=col>&lt;dbl&gt;</th><th scope=col>&lt;dbl&gt;</th></tr>\n",
       "</thead>\n",
       "<tbody>\n",
       "\t<tr><th scope=row>1</th><td>202</td><td>118.9815</td><td>NA</td><td>      NA</td><td>      NA</td><td>        NA</td></tr>\n",
       "\t<tr><th scope=row>2</th><td>190</td><td>105.6852</td><td>12</td><td>13.29623</td><td>1.991988</td><td>0.02690039</td></tr>\n",
       "</tbody>\n",
       "</table>\n"
      ],
      "text/latex": [
       "A anova: 2 × 6\n",
       "\\begin{tabular}{r|llllll}\n",
       "  & Res.Df & RSS & Df & Sum of Sq & F & Pr(>F)\\\\\n",
       "  & <dbl> & <dbl> & <dbl> & <dbl> & <dbl> & <dbl>\\\\\n",
       "\\hline\n",
       "\t1 & 202 & 118.9815 & NA &       NA &       NA &         NA\\\\\n",
       "\t2 & 190 & 105.6852 & 12 & 13.29623 & 1.991988 & 0.02690039\\\\\n",
       "\\end{tabular}\n"
      ],
      "text/markdown": [
       "\n",
       "A anova: 2 × 6\n",
       "\n",
       "| <!--/--> | Res.Df &lt;dbl&gt; | RSS &lt;dbl&gt; | Df &lt;dbl&gt; | Sum of Sq &lt;dbl&gt; | F &lt;dbl&gt; | Pr(&gt;F) &lt;dbl&gt; |\n",
       "|---|---|---|---|---|---|---|\n",
       "| 1 | 202 | 118.9815 | NA |       NA |       NA |         NA |\n",
       "| 2 | 190 | 105.6852 | 12 | 13.29623 | 1.991988 | 0.02690039 |\n",
       "\n"
      ],
      "text/plain": [
       "  Res.Df RSS      Df Sum of Sq F        Pr(>F)    \n",
       "1 202    118.9815 NA       NA        NA         NA\n",
       "2 190    105.6852 12 13.29623  1.991988 0.02690039"
      ]
     },
     "metadata": {},
     "output_type": "display_data"
    }
   ],
   "source": [
    "anova(model1, model2)"
   ]
  },
  {
   "cell_type": "markdown",
   "metadata": {},
   "source": [
    "## Mixed effect models"
   ]
  },
  {
   "cell_type": "markdown",
   "metadata": {},
   "source": [
    "### REML model to accurately determine variance apportioned to dorm (zero)"
   ]
  },
  {
   "cell_type": "code",
   "execution_count": 36,
   "metadata": {},
   "outputs": [
    {
     "name": "stderr",
     "output_type": "stream",
     "text": [
      "Warning message:\n",
      "“Some predictor variables are on very different scales: consider rescaling”\n",
      "boundary (singular) fit: see ?isSingular\n",
      "\n",
      "Warning message:\n",
      "“Some predictor variables are on very different scales: consider rescaling”\n",
      "\n",
      "Correlation matrix not shown by default, as p = 14 > 12.\n",
      "Use print(obj, correlation=TRUE)  or\n",
      "    vcov(obj)        if you need it\n",
      "\n",
      "\n"
     ]
    },
    {
     "data": {
      "text/plain": [
       "Linear mixed model fit by REML. t-tests use Satterthwaite's method ['lmerModLmerTest']\n",
       "Formula: as.formula(paste(equation, \"+ (1|NID)\"))\n",
       "   Data: df\n",
       "\n",
       "REML criterion at convergence: 503.5\n",
       "\n",
       "Scaled residuals: \n",
       "    Min      1Q  Median      3Q     Max \n",
       "-3.3504 -0.5153  0.0330  0.6776  3.3578 \n",
       "\n",
       "Random effects:\n",
       " Groups   Name        Variance Std.Dev.\n",
       " NID      (Intercept) 0.0000   0.0000  \n",
       " Residual             0.5562   0.7458  \n",
       "Number of obs: 204, groups:  NID, 11\n",
       "\n",
       "Fixed effects:\n",
       "                     Estimate Std. Error         df t value Pr(>|t|)    \n",
       "(Intercept)        -4.394e-01  1.037e+00  1.900e+02  -0.424 0.672155    \n",
       "Wellbeing_fall      6.076e-01  5.513e-02  1.900e+02  11.020  < 2e-16 ***\n",
       "Age                -6.803e-04  5.173e-02  1.900e+02  -0.013 0.989521    \n",
       "ParentEducationMax  5.868e-02  9.571e-02  1.900e+02   0.613 0.540506    \n",
       "FinclAid            1.559e-02  1.380e-01  1.900e+02   0.113 0.910148    \n",
       "FmlyIncome          1.681e-06  9.990e-07  1.900e+02   1.683 0.094072 .  \n",
       "GenderM             1.868e-01  1.115e-01  1.900e+02   1.674 0.095698 .  \n",
       "Genderother         3.684e-02  3.539e-01  1.900e+02   0.104 0.917204    \n",
       "Raceeast_asian      1.137e-01  2.192e-01  1.900e+02   0.519 0.604486    \n",
       "Racehispanic        3.246e-01  2.745e-01  1.900e+02   1.183 0.238473    \n",
       "Raceother_or_mixed -5.437e-02  2.183e-01  1.900e+02  -0.249 0.803545    \n",
       "Racesouth_asian    -1.797e-01  2.935e-01  1.900e+02  -0.612 0.541205    \n",
       "Racewhite           2.131e-01  2.299e-01  1.900e+02   0.927 0.355189    \n",
       "Ambient_empathy     2.386e-01  7.015e-02  1.900e+02   3.402 0.000816 ***\n",
       "---\n",
       "Signif. codes:  0 ‘***’ 0.001 ‘**’ 0.01 ‘*’ 0.05 ‘.’ 0.1 ‘ ’ 1\n",
       "fit warnings:\n",
       "Some predictor variables are on very different scales: consider rescaling\n",
       "convergence code: 0\n",
       "boundary (singular) fit: see ?isSingular\n"
      ]
     },
     "metadata": {},
     "output_type": "display_data"
    }
   ],
   "source": [
    "model3 = lmer(as.formula(paste(equation, '+ (1|NID)')), data=df, REML=TRUE)\n",
    "summary(model3)"
   ]
  },
  {
   "cell_type": "markdown",
   "metadata": {},
   "source": [
    "### REML=false model to maximize predictive value. Is this a significant improvement over the non-mixed model? (No)"
   ]
  },
  {
   "cell_type": "code",
   "execution_count": 37,
   "metadata": {},
   "outputs": [
    {
     "name": "stderr",
     "output_type": "stream",
     "text": [
      "Warning message:\n",
      "“Some predictor variables are on very different scales: consider rescaling”\n",
      "boundary (singular) fit: see ?isSingular\n",
      "\n",
      "Warning message:\n",
      "“Some predictor variables are on very different scales: consider rescaling”\n"
     ]
    },
    {
     "data": {
      "text/html": [
       "<table>\n",
       "<caption>A anova: 2 × 8</caption>\n",
       "<thead>\n",
       "\t<tr><th></th><th scope=col>Df</th><th scope=col>AIC</th><th scope=col>BIC</th><th scope=col>logLik</th><th scope=col>deviance</th><th scope=col>Chisq</th><th scope=col>Chi Df</th><th scope=col>Pr(&gt;Chisq)</th></tr>\n",
       "\t<tr><th></th><th scope=col>&lt;dbl&gt;</th><th scope=col>&lt;dbl&gt;</th><th scope=col>&lt;dbl&gt;</th><th scope=col>&lt;dbl&gt;</th><th scope=col>&lt;dbl&gt;</th><th scope=col>&lt;dbl&gt;</th><th scope=col>&lt;dbl&gt;</th><th scope=col>&lt;dbl&gt;</th></tr>\n",
       "</thead>\n",
       "<tbody>\n",
       "\t<tr><th scope=row>model2</th><td>15</td><td>474.7653</td><td>524.5371</td><td>-222.3827</td><td>444.7653</td><td>NA</td><td>NA</td><td>NA</td></tr>\n",
       "\t<tr><th scope=row>model4</th><td>16</td><td>476.7653</td><td>529.8552</td><td>-222.3827</td><td>444.7653</td><td> 0</td><td> 1</td><td> 1</td></tr>\n",
       "</tbody>\n",
       "</table>\n"
      ],
      "text/latex": [
       "A anova: 2 × 8\n",
       "\\begin{tabular}{r|llllllll}\n",
       "  & Df & AIC & BIC & logLik & deviance & Chisq & Chi Df & Pr(>Chisq)\\\\\n",
       "  & <dbl> & <dbl> & <dbl> & <dbl> & <dbl> & <dbl> & <dbl> & <dbl>\\\\\n",
       "\\hline\n",
       "\tmodel2 & 15 & 474.7653 & 524.5371 & -222.3827 & 444.7653 & NA & NA & NA\\\\\n",
       "\tmodel4 & 16 & 476.7653 & 529.8552 & -222.3827 & 444.7653 &  0 &  1 &  1\\\\\n",
       "\\end{tabular}\n"
      ],
      "text/markdown": [
       "\n",
       "A anova: 2 × 8\n",
       "\n",
       "| <!--/--> | Df &lt;dbl&gt; | AIC &lt;dbl&gt; | BIC &lt;dbl&gt; | logLik &lt;dbl&gt; | deviance &lt;dbl&gt; | Chisq &lt;dbl&gt; | Chi Df &lt;dbl&gt; | Pr(&gt;Chisq) &lt;dbl&gt; |\n",
       "|---|---|---|---|---|---|---|---|---|\n",
       "| model2 | 15 | 474.7653 | 524.5371 | -222.3827 | 444.7653 | NA | NA | NA |\n",
       "| model4 | 16 | 476.7653 | 529.8552 | -222.3827 | 444.7653 |  0 |  1 |  1 |\n",
       "\n"
      ],
      "text/plain": [
       "       Df AIC      BIC      logLik    deviance Chisq Chi Df Pr(>Chisq)\n",
       "model2 15 474.7653 524.5371 -222.3827 444.7653 NA    NA     NA        \n",
       "model4 16 476.7653 529.8552 -222.3827 444.7653  0     1      1        "
      ]
     },
     "metadata": {},
     "output_type": "display_data"
    }
   ],
   "source": [
    "model4 = lmer(as.formula(paste(equation, '+ (1|NID)')), data=df, REML=FALSE)\n",
    "anova(model4, model2)#, refit=FALSE)"
   ]
  },
  {
   "cell_type": "markdown",
   "metadata": {},
   "source": [
    "## Bring in network density to the mixed model"
   ]
  },
  {
   "cell_type": "markdown",
   "metadata": {},
   "source": [
    "### Prepare the data"
   ]
  },
  {
   "cell_type": "code",
   "execution_count": 38,
   "metadata": {},
   "outputs": [
    {
     "data": {
      "text/html": [
       "<table>\n",
       "<caption>A data.frame: 6 × 3</caption>\n",
       "<thead>\n",
       "\t<tr><th></th><th scope=col>Dorm</th><th scope=col>Network</th><th scope=col>Density</th></tr>\n",
       "\t<tr><th></th><th scope=col>&lt;fct&gt;</th><th scope=col>&lt;fct&gt;</th><th scope=col>&lt;dbl&gt;</th></tr>\n",
       "</thead>\n",
       "<tbody>\n",
       "\t<tr><th scope=row>1</th><td>FroSoCo         </td><td>SpendTime </td><td>0.0008166282</td></tr>\n",
       "\t<tr><th scope=row>2</th><td>Norcliffe&amp;Adelfa</td><td>SocAdvice </td><td>0.0002515091</td></tr>\n",
       "\t<tr><th scope=row>3</th><td><span style=white-space:pre-wrap>Meier&amp;Naranja   </span></td><td><span style=white-space:pre-wrap>EmpSupp   </span></td><td>0.0002639293</td></tr>\n",
       "\t<tr><th scope=row>4</th><td>FroSoCo         </td><td>EmpSupp   </td><td>0.0006054848</td></tr>\n",
       "\t<tr><th scope=row>5</th><td>Okada           </td><td>Persuasive</td><td>0.0001800929</td></tr>\n",
       "\t<tr><th scope=row>6</th><td>JRo             </td><td>NegAffPres</td><td>0.0001459374</td></tr>\n",
       "</tbody>\n",
       "</table>\n"
      ],
      "text/latex": [
       "A data.frame: 6 × 3\n",
       "\\begin{tabular}{r|lll}\n",
       "  & Dorm & Network & Density\\\\\n",
       "  & <fct> & <fct> & <dbl>\\\\\n",
       "\\hline\n",
       "\t1 & FroSoCo          & SpendTime  & 0.0008166282\\\\\n",
       "\t2 & Norcliffe\\&Adelfa & SocAdvice  & 0.0002515091\\\\\n",
       "\t3 & Meier\\&Naranja    & EmpSupp    & 0.0002639293\\\\\n",
       "\t4 & FroSoCo          & EmpSupp    & 0.0006054848\\\\\n",
       "\t5 & Okada            & Persuasive & 0.0001800929\\\\\n",
       "\t6 & JRo              & NegAffPres & 0.0001459374\\\\\n",
       "\\end{tabular}\n"
      ],
      "text/markdown": [
       "\n",
       "A data.frame: 6 × 3\n",
       "\n",
       "| <!--/--> | Dorm &lt;fct&gt; | Network &lt;fct&gt; | Density &lt;dbl&gt; |\n",
       "|---|---|---|---|\n",
       "| 1 | FroSoCo          | SpendTime  | 0.0008166282 |\n",
       "| 2 | Norcliffe&amp;Adelfa | SocAdvice  | 0.0002515091 |\n",
       "| 3 | Meier&amp;Naranja    | EmpSupp    | 0.0002639293 |\n",
       "| 4 | FroSoCo          | EmpSupp    | 0.0006054848 |\n",
       "| 5 | Okada            | Persuasive | 0.0001800929 |\n",
       "| 6 | JRo              | NegAffPres | 0.0001459374 |\n",
       "\n"
      ],
      "text/plain": [
       "  Dorm             Network    Density     \n",
       "1 FroSoCo          SpendTime  0.0008166282\n",
       "2 Norcliffe&Adelfa SocAdvice  0.0002515091\n",
       "3 Meier&Naranja    EmpSupp    0.0002639293\n",
       "4 FroSoCo          EmpSupp    0.0006054848\n",
       "5 Okada            Persuasive 0.0001800929\n",
       "6 JRo              NegAffPres 0.0001459374"
      ]
     },
     "metadata": {},
     "output_type": "display_data"
    }
   ],
   "source": [
    "density = read.csv('data/NetworkDensity2018.csv')\n",
    "density = density[,2:ncol(density)]  # First row is a meaningless row number\n",
    "head(density)"
   ]
  },
  {
   "cell_type": "code",
   "execution_count": 39,
   "metadata": {},
   "outputs": [
    {
     "data": {
      "text/plain": [
       "\n",
       "         Alondra            Cedro          FroSoCo              JRo           Larkin    Meier&Naranja Norcliffe&Adelfa            Okada            Twain           Ujamaa        WestFloMo \n",
       "              12               12               12               12               12               12               12               12               12               12               12 "
      ]
     },
     "metadata": {},
     "output_type": "display_data"
    }
   ],
   "source": [
    "table(density$Dorm)"
   ]
  },
  {
   "cell_type": "code",
   "execution_count": 40,
   "metadata": {},
   "outputs": [
    {
     "name": "stderr",
     "output_type": "stream",
     "text": [
      "The following `from` values were not present in `x`: EAST, Kimball\n",
      "\n"
     ]
    }
   ],
   "source": [
    "density$NID <- mapvalues(\n",
    "    density$Dorm, \n",
    "    from=c(\"Alondra\", \"Cedro\", \"EAST\", \"FroSoCo\", \"JRo\", \"Kimball\", \"Larkin\", \"Okada\", \"Twain\", \"Ujamaa\", \"Meier&Naranja\", \"Norcliffe&Adelfa\", \"WestFloMo\"), \n",
    "    to=c(\"1\", \"2\", \"3\", \"4\", \"5\", \"6\", \"7\", \"8\", \"9\", \"10\", \"11\", \"13\", \"15\"))"
   ]
  },
  {
   "cell_type": "code",
   "execution_count": 41,
   "metadata": {},
   "outputs": [
    {
     "data": {
      "text/plain": [
       "\n",
       " 1  2  4  5  7 11 13  8  9 10 15 \n",
       "12 12 12 12 12 12 12 12 12 12 12 "
      ]
     },
     "metadata": {},
     "output_type": "display_data"
    }
   ],
   "source": [
    "table(density$NID)"
   ]
  },
  {
   "cell_type": "code",
   "execution_count": 42,
   "metadata": {},
   "outputs": [
    {
     "data": {
      "text/plain": [
       "\n",
       " CloseFrds    EmpSupp     Gossip      Liked NegAffPres NegEmoSupp Persuasive PosAffPres PosEmoSupp Responsive  SocAdvice  SpendTime \n",
       "        11         11         11         11         11         11         11         11         11         11         11         11 "
      ]
     },
     "metadata": {},
     "output_type": "display_data"
    }
   ],
   "source": [
    "table(density$Network)"
   ]
  },
  {
   "cell_type": "code",
   "execution_count": 43,
   "metadata": {},
   "outputs": [
    {
     "data": {
      "text/html": [
       "<table>\n",
       "<caption>A data.frame: 6 × 2</caption>\n",
       "<thead>\n",
       "\t<tr><th></th><th scope=col>NID</th><th scope=col>DensityCloseFriends</th></tr>\n",
       "\t<tr><th></th><th scope=col>&lt;fct&gt;</th><th scope=col>&lt;dbl&gt;</th></tr>\n",
       "</thead>\n",
       "<tbody>\n",
       "\t<tr><th scope=row>1</th><td>1 </td><td>0.0005430616</td></tr>\n",
       "\t<tr><th scope=row>2</th><td>2 </td><td>0.0008209813</td></tr>\n",
       "\t<tr><th scope=row>3</th><td>4 </td><td>0.0009838725</td></tr>\n",
       "\t<tr><th scope=row>4</th><td>5 </td><td>0.0007545272</td></tr>\n",
       "\t<tr><th scope=row>5</th><td>7 </td><td>0.0006226650</td></tr>\n",
       "\t<tr><th scope=row>6</th><td>11</td><td>0.0003512068</td></tr>\n",
       "</tbody>\n",
       "</table>\n"
      ],
      "text/latex": [
       "A data.frame: 6 × 2\n",
       "\\begin{tabular}{r|ll}\n",
       "  & NID & DensityCloseFriends\\\\\n",
       "  & <fct> & <dbl>\\\\\n",
       "\\hline\n",
       "\t1 & 1  & 0.0005430616\\\\\n",
       "\t2 & 2  & 0.0008209813\\\\\n",
       "\t3 & 4  & 0.0009838725\\\\\n",
       "\t4 & 5  & 0.0007545272\\\\\n",
       "\t5 & 7  & 0.0006226650\\\\\n",
       "\t6 & 11 & 0.0003512068\\\\\n",
       "\\end{tabular}\n"
      ],
      "text/markdown": [
       "\n",
       "A data.frame: 6 × 2\n",
       "\n",
       "| <!--/--> | NID &lt;fct&gt; | DensityCloseFriends &lt;dbl&gt; |\n",
       "|---|---|---|\n",
       "| 1 | 1  | 0.0005430616 |\n",
       "| 2 | 2  | 0.0008209813 |\n",
       "| 3 | 4  | 0.0009838725 |\n",
       "| 4 | 5  | 0.0007545272 |\n",
       "| 5 | 7  | 0.0006226650 |\n",
       "| 6 | 11 | 0.0003512068 |\n",
       "\n"
      ],
      "text/plain": [
       "  NID DensityCloseFriends\n",
       "1 1   0.0005430616       \n",
       "2 2   0.0008209813       \n",
       "3 4   0.0009838725       \n",
       "4 5   0.0007545272       \n",
       "5 7   0.0006226650       \n",
       "6 11  0.0003512068       "
      ]
     },
     "metadata": {},
     "output_type": "display_data"
    }
   ],
   "source": [
    "density_close_friends = density %>%\n",
    "    filter(Network == 'CloseFrds') %>%\n",
    "    select(NID, Density) %>%\n",
    "    arrange(NID)\n",
    "names(density_close_friends) = c('NID', 'DensityCloseFriends')\n",
    "head(density_close_friends)"
   ]
  },
  {
   "cell_type": "code",
   "execution_count": 44,
   "metadata": {},
   "outputs": [
    {
     "data": {
      "text/html": [
       "<table>\n",
       "<caption>A data.frame: 6 × 2</caption>\n",
       "<thead>\n",
       "\t<tr><th></th><th scope=col>NID</th><th scope=col>DensityBadNews</th></tr>\n",
       "\t<tr><th></th><th scope=col>&lt;fct&gt;</th><th scope=col>&lt;dbl&gt;</th></tr>\n",
       "</thead>\n",
       "<tbody>\n",
       "\t<tr><th scope=row>1</th><td>1 </td><td>0.0003078994</td></tr>\n",
       "\t<tr><th scope=row>2</th><td>2 </td><td>0.0007001956</td></tr>\n",
       "\t<tr><th scope=row>3</th><td>4 </td><td>0.0005728361</td></tr>\n",
       "\t<tr><th scope=row>4</th><td>5 </td><td>0.0005513034</td></tr>\n",
       "\t<tr><th scope=row>5</th><td>7 </td><td>0.0003902446</td></tr>\n",
       "\t<tr><th scope=row>6</th><td>11</td><td>0.0002327147</td></tr>\n",
       "</tbody>\n",
       "</table>\n"
      ],
      "text/latex": [
       "A data.frame: 6 × 2\n",
       "\\begin{tabular}{r|ll}\n",
       "  & NID & DensityBadNews\\\\\n",
       "  & <fct> & <dbl>\\\\\n",
       "\\hline\n",
       "\t1 & 1  & 0.0003078994\\\\\n",
       "\t2 & 2  & 0.0007001956\\\\\n",
       "\t3 & 4  & 0.0005728361\\\\\n",
       "\t4 & 5  & 0.0005513034\\\\\n",
       "\t5 & 7  & 0.0003902446\\\\\n",
       "\t6 & 11 & 0.0002327147\\\\\n",
       "\\end{tabular}\n"
      ],
      "text/markdown": [
       "\n",
       "A data.frame: 6 × 2\n",
       "\n",
       "| <!--/--> | NID &lt;fct&gt; | DensityBadNews &lt;dbl&gt; |\n",
       "|---|---|---|\n",
       "| 1 | 1  | 0.0003078994 |\n",
       "| 2 | 2  | 0.0007001956 |\n",
       "| 3 | 4  | 0.0005728361 |\n",
       "| 4 | 5  | 0.0005513034 |\n",
       "| 5 | 7  | 0.0003902446 |\n",
       "| 6 | 11 | 0.0002327147 |\n",
       "\n"
      ],
      "text/plain": [
       "  NID DensityBadNews\n",
       "1 1   0.0003078994  \n",
       "2 2   0.0007001956  \n",
       "3 4   0.0005728361  \n",
       "4 5   0.0005513034  \n",
       "5 7   0.0003902446  \n",
       "6 11  0.0002327147  "
      ]
     },
     "metadata": {},
     "output_type": "display_data"
    }
   ],
   "source": [
    "density_bad_news = density %>%\n",
    "    filter(Network == 'NegEmoSupp') %>%\n",
    "    select(NID, Density) %>%\n",
    "    arrange(NID)\n",
    "names(density_bad_news) = c('NID', 'DensityBadNews')\n",
    "head(density_bad_news)"
   ]
  },
  {
   "cell_type": "code",
   "execution_count": 45,
   "metadata": {},
   "outputs": [
    {
     "data": {
      "text/html": [
       "<table>\n",
       "<caption>A data.frame: 6 × 10</caption>\n",
       "<thead>\n",
       "\t<tr><th></th><th scope=col>NID</th><th scope=col>Age</th><th scope=col>ParentEducationMax</th><th scope=col>FinclAid</th><th scope=col>FmlyIncome</th><th scope=col>Gender</th><th scope=col>Race</th><th scope=col>Ambient_empathy</th><th scope=col>Wellbeing_fall</th><th scope=col>Wellbeing_spring</th></tr>\n",
       "\t<tr><th></th><th scope=col>&lt;dbl&gt;</th><th scope=col>&lt;dbl&gt;</th><th scope=col>&lt;dbl&gt;</th><th scope=col>&lt;dbl&gt;</th><th scope=col>&lt;dbl&gt;</th><th scope=col>&lt;fct&gt;</th><th scope=col>&lt;fct&gt;</th><th scope=col>&lt;dbl&gt;</th><th scope=col>&lt;dbl&gt;</th><th scope=col>&lt;dbl&gt;</th></tr>\n",
       "</thead>\n",
       "<tbody>\n",
       "\t<tr><th scope=row>1</th><td> 7</td><td>18</td><td>4.0</td><td>0</td><td> 87500</td><td>M</td><td>white      </td><td>-0.7154534</td><td>-2.06354788</td><td>-0.76535414</td></tr>\n",
       "\t<tr><th scope=row>2</th><td>11</td><td>18</td><td>3.5</td><td>1</td><td>200000</td><td>F</td><td>south_asian</td><td>-0.8199099</td><td>-0.01143413</td><td>-0.04997158</td></tr>\n",
       "\t<tr><th scope=row>3</th><td> 9</td><td>18</td><td>4.0</td><td>1</td><td>125000</td><td>M</td><td>white      </td><td>-0.8994971</td><td> 0.91965600</td><td> 0.66541099</td></tr>\n",
       "\t<tr><th scope=row>4</th><td> 4</td><td>18</td><td>4.0</td><td>0</td><td>200000</td><td>F</td><td>east_asian </td><td>-1.1311982</td><td> 0.65342017</td><td> 0.48656535</td></tr>\n",
       "\t<tr><th scope=row>5</th><td> 5</td><td>18</td><td>2.5</td><td>1</td><td>125000</td><td>M</td><td>south_asian</td><td>-0.4873343</td><td> 0.69839160</td><td>-0.04997158</td></tr>\n",
       "\t<tr><th scope=row>6</th><td>13</td><td>18</td><td>4.0</td><td>1</td><td> 45000</td><td>F</td><td>east_asian </td><td>-0.8199099</td><td> 0.04290417</td><td>-0.13939440</td></tr>\n",
       "</tbody>\n",
       "</table>\n"
      ],
      "text/latex": [
       "A data.frame: 6 × 10\n",
       "\\begin{tabular}{r|llllllllll}\n",
       "  & NID & Age & ParentEducationMax & FinclAid & FmlyIncome & Gender & Race & Ambient\\_empathy & Wellbeing\\_fall & Wellbeing\\_spring\\\\\n",
       "  & <dbl> & <dbl> & <dbl> & <dbl> & <dbl> & <fct> & <fct> & <dbl> & <dbl> & <dbl>\\\\\n",
       "\\hline\n",
       "\t1 &  7 & 18 & 4.0 & 0 &  87500 & M & white       & -0.7154534 & -2.06354788 & -0.76535414\\\\\n",
       "\t2 & 11 & 18 & 3.5 & 1 & 200000 & F & south\\_asian & -0.8199099 & -0.01143413 & -0.04997158\\\\\n",
       "\t3 &  9 & 18 & 4.0 & 1 & 125000 & M & white       & -0.8994971 &  0.91965600 &  0.66541099\\\\\n",
       "\t4 &  4 & 18 & 4.0 & 0 & 200000 & F & east\\_asian  & -1.1311982 &  0.65342017 &  0.48656535\\\\\n",
       "\t5 &  5 & 18 & 2.5 & 1 & 125000 & M & south\\_asian & -0.4873343 &  0.69839160 & -0.04997158\\\\\n",
       "\t6 & 13 & 18 & 4.0 & 1 &  45000 & F & east\\_asian  & -0.8199099 &  0.04290417 & -0.13939440\\\\\n",
       "\\end{tabular}\n"
      ],
      "text/markdown": [
       "\n",
       "A data.frame: 6 × 10\n",
       "\n",
       "| <!--/--> | NID &lt;dbl&gt; | Age &lt;dbl&gt; | ParentEducationMax &lt;dbl&gt; | FinclAid &lt;dbl&gt; | FmlyIncome &lt;dbl&gt; | Gender &lt;fct&gt; | Race &lt;fct&gt; | Ambient_empathy &lt;dbl&gt; | Wellbeing_fall &lt;dbl&gt; | Wellbeing_spring &lt;dbl&gt; |\n",
       "|---|---|---|---|---|---|---|---|---|---|---|\n",
       "| 1 |  7 | 18 | 4.0 | 0 |  87500 | M | white       | -0.7154534 | -2.06354788 | -0.76535414 |\n",
       "| 2 | 11 | 18 | 3.5 | 1 | 200000 | F | south_asian | -0.8199099 | -0.01143413 | -0.04997158 |\n",
       "| 3 |  9 | 18 | 4.0 | 1 | 125000 | M | white       | -0.8994971 |  0.91965600 |  0.66541099 |\n",
       "| 4 |  4 | 18 | 4.0 | 0 | 200000 | F | east_asian  | -1.1311982 |  0.65342017 |  0.48656535 |\n",
       "| 5 |  5 | 18 | 2.5 | 1 | 125000 | M | south_asian | -0.4873343 |  0.69839160 | -0.04997158 |\n",
       "| 6 | 13 | 18 | 4.0 | 1 |  45000 | F | east_asian  | -0.8199099 |  0.04290417 | -0.13939440 |\n",
       "\n"
      ],
      "text/plain": [
       "  NID Age ParentEducationMax FinclAid FmlyIncome Gender Race        Ambient_empathy Wellbeing_fall Wellbeing_spring\n",
       "1  7  18  4.0                0         87500     M      white       -0.7154534      -2.06354788    -0.76535414     \n",
       "2 11  18  3.5                1        200000     F      south_asian -0.8199099      -0.01143413    -0.04997158     \n",
       "3  9  18  4.0                1        125000     M      white       -0.8994971       0.91965600     0.66541099     \n",
       "4  4  18  4.0                0        200000     F      east_asian  -1.1311982       0.65342017     0.48656535     \n",
       "5  5  18  2.5                1        125000     M      south_asian -0.4873343       0.69839160    -0.04997158     \n",
       "6 13  18  4.0                1         45000     F      east_asian  -0.8199099       0.04290417    -0.13939440     "
      ]
     },
     "metadata": {},
     "output_type": "display_data"
    }
   ],
   "source": [
    "head(df)"
   ]
  },
  {
   "cell_type": "code",
   "execution_count": 46,
   "metadata": {},
   "outputs": [
    {
     "data": {
      "text/html": [
       "<table>\n",
       "<caption>A data.frame: 5 × 12</caption>\n",
       "<thead>\n",
       "\t<tr><th></th><th scope=col>NID</th><th scope=col>Age</th><th scope=col>ParentEducationMax</th><th scope=col>FinclAid</th><th scope=col>FmlyIncome</th><th scope=col>Gender</th><th scope=col>Race</th><th scope=col>Ambient_empathy</th><th scope=col>Wellbeing_fall</th><th scope=col>Wellbeing_spring</th><th scope=col>DensityCloseFriends</th><th scope=col>DensityBadNews</th></tr>\n",
       "\t<tr><th></th><th scope=col>&lt;dbl&gt;</th><th scope=col>&lt;dbl&gt;</th><th scope=col>&lt;dbl&gt;</th><th scope=col>&lt;dbl&gt;</th><th scope=col>&lt;dbl&gt;</th><th scope=col>&lt;fct&gt;</th><th scope=col>&lt;fct&gt;</th><th scope=col>&lt;dbl&gt;</th><th scope=col>&lt;dbl&gt;</th><th scope=col>&lt;dbl&gt;</th><th scope=col>&lt;dbl&gt;</th><th scope=col>&lt;dbl&gt;</th></tr>\n",
       "</thead>\n",
       "<tbody>\n",
       "\t<tr><th scope=row>135</th><td> 9</td><td>18</td><td>4.0</td><td>1</td><td>125000</td><td>M</td><td>white         </td><td>-0.8994971</td><td> 0.9196560</td><td> 0.665411</td><td>0.0003469754</td><td>0.0002437792</td></tr>\n",
       "\t<tr><th scope=row>133</th><td> 9</td><td>18</td><td>4.0</td><td>0</td><td>200000</td><td>F</td><td>east_asian    </td><td>-1.3111573</td><td> 0.3062250</td><td> 0.665411</td><td>0.0003469754</td><td>0.0002437792</td></tr>\n",
       "\t<tr><th scope=row>158</th><td>11</td><td>18</td><td>3.5</td><td>0</td><td>125000</td><td>F</td><td>east_asian    </td><td>-0.4701864</td><td>-0.8315366</td><td>-1.033623</td><td>0.0003512068</td><td>0.0002327147</td></tr>\n",
       "\t<tr><th scope=row>108</th><td> 7</td><td>18</td><td>3.5</td><td>0</td><td>200000</td><td>M</td><td>white         </td><td>-0.7420122</td><td> 1.2440654</td><td> 1.470216</td><td>0.0006226650</td><td>0.0003902446</td></tr>\n",
       "\t<tr><th scope=row>179</th><td>13</td><td>18</td><td>2.0</td><td>1</td><td>  5000</td><td>M</td><td>other_or_mixed</td><td>-1.1293960</td><td>-0.8432925</td><td>-1.212468</td><td>0.0003007478</td><td>0.0002094053</td></tr>\n",
       "</tbody>\n",
       "</table>\n"
      ],
      "text/latex": [
       "A data.frame: 5 × 12\n",
       "\\begin{tabular}{r|llllllllllll}\n",
       "  & NID & Age & ParentEducationMax & FinclAid & FmlyIncome & Gender & Race & Ambient\\_empathy & Wellbeing\\_fall & Wellbeing\\_spring & DensityCloseFriends & DensityBadNews\\\\\n",
       "  & <dbl> & <dbl> & <dbl> & <dbl> & <dbl> & <fct> & <fct> & <dbl> & <dbl> & <dbl> & <dbl> & <dbl>\\\\\n",
       "\\hline\n",
       "\t135 &  9 & 18 & 4.0 & 1 & 125000 & M & white          & -0.8994971 &  0.9196560 &  0.665411 & 0.0003469754 & 0.0002437792\\\\\n",
       "\t133 &  9 & 18 & 4.0 & 0 & 200000 & F & east\\_asian     & -1.3111573 &  0.3062250 &  0.665411 & 0.0003469754 & 0.0002437792\\\\\n",
       "\t158 & 11 & 18 & 3.5 & 0 & 125000 & F & east\\_asian     & -0.4701864 & -0.8315366 & -1.033623 & 0.0003512068 & 0.0002327147\\\\\n",
       "\t108 &  7 & 18 & 3.5 & 0 & 200000 & M & white          & -0.7420122 &  1.2440654 &  1.470216 & 0.0006226650 & 0.0003902446\\\\\n",
       "\t179 & 13 & 18 & 2.0 & 1 &   5000 & M & other\\_or\\_mixed & -1.1293960 & -0.8432925 & -1.212468 & 0.0003007478 & 0.0002094053\\\\\n",
       "\\end{tabular}\n"
      ],
      "text/markdown": [
       "\n",
       "A data.frame: 5 × 12\n",
       "\n",
       "| <!--/--> | NID &lt;dbl&gt; | Age &lt;dbl&gt; | ParentEducationMax &lt;dbl&gt; | FinclAid &lt;dbl&gt; | FmlyIncome &lt;dbl&gt; | Gender &lt;fct&gt; | Race &lt;fct&gt; | Ambient_empathy &lt;dbl&gt; | Wellbeing_fall &lt;dbl&gt; | Wellbeing_spring &lt;dbl&gt; | DensityCloseFriends &lt;dbl&gt; | DensityBadNews &lt;dbl&gt; |\n",
       "|---|---|---|---|---|---|---|---|---|---|---|---|---|\n",
       "| 135 |  9 | 18 | 4.0 | 1 | 125000 | M | white          | -0.8994971 |  0.9196560 |  0.665411 | 0.0003469754 | 0.0002437792 |\n",
       "| 133 |  9 | 18 | 4.0 | 0 | 200000 | F | east_asian     | -1.3111573 |  0.3062250 |  0.665411 | 0.0003469754 | 0.0002437792 |\n",
       "| 158 | 11 | 18 | 3.5 | 0 | 125000 | F | east_asian     | -0.4701864 | -0.8315366 | -1.033623 | 0.0003512068 | 0.0002327147 |\n",
       "| 108 |  7 | 18 | 3.5 | 0 | 200000 | M | white          | -0.7420122 |  1.2440654 |  1.470216 | 0.0006226650 | 0.0003902446 |\n",
       "| 179 | 13 | 18 | 2.0 | 1 |   5000 | M | other_or_mixed | -1.1293960 | -0.8432925 | -1.212468 | 0.0003007478 | 0.0002094053 |\n",
       "\n"
      ],
      "text/plain": [
       "    NID Age ParentEducationMax FinclAid FmlyIncome Gender Race           Ambient_empathy Wellbeing_fall Wellbeing_spring DensityCloseFriends DensityBadNews\n",
       "135  9  18  4.0                1        125000     M      white          -0.8994971       0.9196560      0.665411        0.0003469754        0.0002437792  \n",
       "133  9  18  4.0                0        200000     F      east_asian     -1.3111573       0.3062250      0.665411        0.0003469754        0.0002437792  \n",
       "158 11  18  3.5                0        125000     F      east_asian     -0.4701864      -0.8315366     -1.033623        0.0003512068        0.0002327147  \n",
       "108  7  18  3.5                0        200000     M      white          -0.7420122       1.2440654      1.470216        0.0006226650        0.0003902446  \n",
       "179 13  18  2.0                1          5000     M      other_or_mixed -1.1293960      -0.8432925     -1.212468        0.0003007478        0.0002094053  "
      ]
     },
     "metadata": {},
     "output_type": "display_data"
    }
   ],
   "source": [
    "df = merge(df, density_close_friends, on=\"NID\", all.x=TRUE)\n",
    "df = merge(df, density_bad_news, on=\"NID\", all.x=TRUE)\n",
    "df[sample(nrow(df), 5), ]"
   ]
  },
  {
   "cell_type": "markdown",
   "metadata": {},
   "source": [
    "### Mixed models - REML"
   ]
  },
  {
   "cell_type": "code",
   "execution_count": 47,
   "metadata": {},
   "outputs": [
    {
     "name": "stderr",
     "output_type": "stream",
     "text": [
      "Warning message:\n",
      "“Some predictor variables are on very different scales: consider rescaling”\n",
      "boundary (singular) fit: see ?isSingular\n",
      "\n",
      "Warning message:\n",
      "“Some predictor variables are on very different scales: consider rescaling”\n",
      "\n",
      "Correlation matrix not shown by default, as p = 16 > 12.\n",
      "Use print(obj, correlation=TRUE)  or\n",
      "    vcov(obj)        if you need it\n",
      "\n",
      "\n"
     ]
    },
    {
     "data": {
      "text/plain": [
       "Linear mixed model fit by REML. t-tests use Satterthwaite's method ['lmerModLmerTest']\n",
       "Formula: as.formula(paste(equation, \"+ DensityCloseFriends + DensityBadNews + (1|NID)\"))\n",
       "   Data: df\n",
       "\n",
       "REML criterion at convergence: 476\n",
       "\n",
       "Scaled residuals: \n",
       "    Min      1Q  Median      3Q     Max \n",
       "-3.2905 -0.4945  0.0252  0.6634  3.4058 \n",
       "\n",
       "Random effects:\n",
       " Groups   Name        Variance Std.Dev.\n",
       " NID      (Intercept) 0.0000   0.0000  \n",
       " Residual             0.5608   0.7489  \n",
       "Number of obs: 204, groups:  NID, 11\n",
       "\n",
       "Fixed effects:\n",
       "                      Estimate Std. Error         df t value Pr(>|t|)    \n",
       "(Intercept)         -7.706e-01  1.160e+00  1.880e+02  -0.664  0.50736    \n",
       "Wellbeing_fall       6.057e-01  5.555e-02  1.880e+02  10.904  < 2e-16 ***\n",
       "Age                  1.266e-02  5.594e-02  1.880e+02   0.226  0.82115    \n",
       "ParentEducationMax   5.433e-02  9.682e-02  1.880e+02   0.561  0.57538    \n",
       "FinclAid             1.571e-02  1.385e-01  1.880e+02   0.113  0.90982    \n",
       "FmlyIncome           1.688e-06  1.003e-06  1.880e+02   1.683  0.09409 .  \n",
       "GenderM              1.842e-01  1.121e-01  1.880e+02   1.643  0.10213    \n",
       "Genderother          4.452e-02  3.569e-01  1.880e+02   0.125  0.90086    \n",
       "Raceeast_asian       9.318e-02  2.227e-01  1.880e+02   0.418  0.67616    \n",
       "Racehispanic         2.974e-01  2.796e-01  1.880e+02   1.064  0.28881    \n",
       "Raceother_or_mixed  -7.469e-02  2.217e-01  1.880e+02  -0.337  0.73662    \n",
       "Racesouth_asian     -1.757e-01  2.966e-01  1.880e+02  -0.593  0.55415    \n",
       "Racewhite            1.935e-01  2.351e-01  1.880e+02   0.823  0.41158    \n",
       "Ambient_empathy      2.221e-01  7.495e-02  1.880e+02   2.964  0.00343 ** \n",
       "DensityCloseFriends  6.575e+01  3.244e+02  1.880e+02   0.203  0.83957    \n",
       "DensityBadNews       1.635e+02  4.831e+02  1.880e+02   0.339  0.73534    \n",
       "---\n",
       "Signif. codes:  0 ‘***’ 0.001 ‘**’ 0.01 ‘*’ 0.05 ‘.’ 0.1 ‘ ’ 1\n",
       "fit warnings:\n",
       "Some predictor variables are on very different scales: consider rescaling\n",
       "convergence code: 0\n",
       "boundary (singular) fit: see ?isSingular\n"
      ]
     },
     "metadata": {},
     "output_type": "display_data"
    }
   ],
   "source": [
    "model5 = lmer(as.formula(paste(equation, '+ DensityCloseFriends + DensityBadNews + (1|NID)')), data=df, REML=TRUE)\n",
    "summary(model5)"
   ]
  },
  {
   "cell_type": "code",
   "execution_count": 48,
   "metadata": {},
   "outputs": [
    {
     "name": "stderr",
     "output_type": "stream",
     "text": [
      "Warning message:\n",
      "“Some predictor variables are on very different scales: consider rescaling”\n",
      "boundary (singular) fit: see ?isSingular\n",
      "\n",
      "Warning message:\n",
      "“Some predictor variables are on very different scales: consider rescaling”\n",
      "\n",
      "Correlation matrix not shown by default, as p = 16 > 12.\n",
      "Use print(obj, correlation=TRUE)  or\n",
      "    vcov(obj)        if you need it\n",
      "\n",
      "\n"
     ]
    },
    {
     "data": {
      "text/plain": [
       "Linear mixed model fit by maximum likelihood . t-tests use Satterthwaite's method ['lmerModLmerTest']\n",
       "Formula: as.formula(paste(equation, \"+ DensityCloseFriends + DensityBadNews + (1|NID)\"))\n",
       "   Data: df\n",
       "\n",
       "     AIC      BIC   logLik deviance df.resid \n",
       "   480.3    540.0   -222.1    444.3      186 \n",
       "\n",
       "Scaled residuals: \n",
       "    Min      1Q  Median      3Q     Max \n",
       "-3.4277 -0.5151  0.0262  0.6911  3.5478 \n",
       "\n",
       "Random effects:\n",
       " Groups   Name        Variance Std.Dev.\n",
       " NID      (Intercept) 0.0000   0.0000  \n",
       " Residual             0.5169   0.7189  \n",
       "Number of obs: 204, groups:  NID, 11\n",
       "\n",
       "Fixed effects:\n",
       "                      Estimate Std. Error         df t value Pr(>|t|)    \n",
       "(Intercept)         -7.706e-01  1.114e+00  2.040e+02  -0.692   0.4898    \n",
       "Wellbeing_fall       6.057e-01  5.333e-02  2.040e+02  11.359   <2e-16 ***\n",
       "Age                  1.266e-02  5.371e-02  2.040e+02   0.236   0.8138    \n",
       "ParentEducationMax   5.433e-02  9.294e-02  2.040e+02   0.585   0.5595    \n",
       "FinclAid             1.571e-02  1.330e-01  2.040e+02   0.118   0.9061    \n",
       "FmlyIncome           1.688e-06  9.631e-07  2.040e+02   1.753   0.0811 .  \n",
       "GenderM              1.842e-01  1.076e-01  2.040e+02   1.711   0.0886 .  \n",
       "Genderother          4.452e-02  3.426e-01  2.040e+02   0.130   0.8967    \n",
       "Raceeast_asian       9.318e-02  2.138e-01  2.040e+02   0.436   0.6634    \n",
       "Racehispanic         2.974e-01  2.684e-01  2.040e+02   1.108   0.2691    \n",
       "Raceother_or_mixed  -7.469e-02  2.129e-01  2.040e+02  -0.351   0.7260    \n",
       "Racesouth_asian     -1.757e-01  2.847e-01  2.040e+02  -0.617   0.5377    \n",
       "Racewhite            1.935e-01  2.257e-01  2.040e+02   0.857   0.3923    \n",
       "Ambient_empathy      2.221e-01  7.195e-02  2.040e+02   3.087   0.0023 ** \n",
       "DensityCloseFriends  6.575e+01  3.114e+02  2.040e+02   0.211   0.8330    \n",
       "DensityBadNews       1.635e+02  4.637e+02  2.040e+02   0.353   0.7247    \n",
       "---\n",
       "Signif. codes:  0 ‘***’ 0.001 ‘**’ 0.01 ‘*’ 0.05 ‘.’ 0.1 ‘ ’ 1\n",
       "fit warnings:\n",
       "Some predictor variables are on very different scales: consider rescaling\n",
       "convergence code: 0\n",
       "boundary (singular) fit: see ?isSingular\n"
      ]
     },
     "metadata": {},
     "output_type": "display_data"
    }
   ],
   "source": [
    "model6 = lmer(as.formula(paste(equation, '+ DensityCloseFriends + DensityBadNews + (1|NID)')), data=df, REML=FALSE)\n",
    "summary(model6)"
   ]
  },
  {
   "cell_type": "code",
   "execution_count": 49,
   "metadata": {},
   "outputs": [
    {
     "data": {
      "text/html": [
       "<table>\n",
       "<caption>A anova: 2 × 8</caption>\n",
       "<thead>\n",
       "\t<tr><th></th><th scope=col>Df</th><th scope=col>AIC</th><th scope=col>BIC</th><th scope=col>logLik</th><th scope=col>deviance</th><th scope=col>Chisq</th><th scope=col>Chi Df</th><th scope=col>Pr(&gt;Chisq)</th></tr>\n",
       "\t<tr><th></th><th scope=col>&lt;dbl&gt;</th><th scope=col>&lt;dbl&gt;</th><th scope=col>&lt;dbl&gt;</th><th scope=col>&lt;dbl&gt;</th><th scope=col>&lt;dbl&gt;</th><th scope=col>&lt;dbl&gt;</th><th scope=col>&lt;dbl&gt;</th><th scope=col>&lt;dbl&gt;</th></tr>\n",
       "</thead>\n",
       "<tbody>\n",
       "\t<tr><th scope=row>model2</th><td>15</td><td>474.7653</td><td>524.5371</td><td>-222.3827</td><td>444.7653</td><td>       NA</td><td>NA</td><td>       NA</td></tr>\n",
       "\t<tr><th scope=row>model6</th><td>18</td><td>480.2881</td><td>540.0143</td><td>-222.1441</td><td>444.2881</td><td>0.4771757</td><td> 3</td><td>0.9238764</td></tr>\n",
       "</tbody>\n",
       "</table>\n"
      ],
      "text/latex": [
       "A anova: 2 × 8\n",
       "\\begin{tabular}{r|llllllll}\n",
       "  & Df & AIC & BIC & logLik & deviance & Chisq & Chi Df & Pr(>Chisq)\\\\\n",
       "  & <dbl> & <dbl> & <dbl> & <dbl> & <dbl> & <dbl> & <dbl> & <dbl>\\\\\n",
       "\\hline\n",
       "\tmodel2 & 15 & 474.7653 & 524.5371 & -222.3827 & 444.7653 &        NA & NA &        NA\\\\\n",
       "\tmodel6 & 18 & 480.2881 & 540.0143 & -222.1441 & 444.2881 & 0.4771757 &  3 & 0.9238764\\\\\n",
       "\\end{tabular}\n"
      ],
      "text/markdown": [
       "\n",
       "A anova: 2 × 8\n",
       "\n",
       "| <!--/--> | Df &lt;dbl&gt; | AIC &lt;dbl&gt; | BIC &lt;dbl&gt; | logLik &lt;dbl&gt; | deviance &lt;dbl&gt; | Chisq &lt;dbl&gt; | Chi Df &lt;dbl&gt; | Pr(&gt;Chisq) &lt;dbl&gt; |\n",
       "|---|---|---|---|---|---|---|---|---|\n",
       "| model2 | 15 | 474.7653 | 524.5371 | -222.3827 | 444.7653 |        NA | NA |        NA |\n",
       "| model6 | 18 | 480.2881 | 540.0143 | -222.1441 | 444.2881 | 0.4771757 |  3 | 0.9238764 |\n",
       "\n"
      ],
      "text/plain": [
       "       Df AIC      BIC      logLik    deviance Chisq     Chi Df Pr(>Chisq)\n",
       "model2 15 474.7653 524.5371 -222.3827 444.7653        NA NA            NA \n",
       "model6 18 480.2881 540.0143 -222.1441 444.2881 0.4771757  3     0.9238764 "
      ]
     },
     "metadata": {},
     "output_type": "display_data"
    }
   ],
   "source": [
    "anova(model6, model2)"
   ]
  },
  {
   "cell_type": "code",
   "execution_count": null,
   "metadata": {},
   "outputs": [],
   "source": []
  }
 ],
 "metadata": {
  "kernelspec": {
   "display_name": "R",
   "language": "R",
   "name": "r-3.6.2"
  },
  "language_info": {
   "codemirror_mode": "r",
   "file_extension": ".r",
   "mimetype": "text/x-r-source",
   "name": "R",
   "pygments_lexer": "r",
   "version": "3.6.2"
  },
  "toc": {
   "base_numbering": 1,
   "nav_menu": {},
   "number_sections": true,
   "sideBar": true,
   "skip_h1_title": true,
   "title_cell": "Table of Contents",
   "title_sidebar": "Contents",
   "toc_cell": true,
   "toc_position": {},
   "toc_section_display": true,
   "toc_window_display": true
  }
 },
 "nbformat": 4,
 "nbformat_minor": 2
}

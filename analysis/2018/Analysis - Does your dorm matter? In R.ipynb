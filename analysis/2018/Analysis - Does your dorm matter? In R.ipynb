{
 "cells": [
  {
   "cell_type": "markdown",
   "metadata": {},
   "source": [
    "# Does your dorm matter for your well-being?\n",
    "\n",
    "We build models to predict:\n",
    "1. Spring well-being from fall well-being\n",
    "1. Spring well-being from fall well-being, demographic items (age, family income, family education, race, gender), and ambient empathy\n",
    "1. Same, plus random effects by dorm.\n",
    "\n",
    "# Results:\n",
    "- Demographics and ambient empathy do not improve model\n",
    "- Random effect model does not improve fit, and no variance is apportioned to the dorm level"
   ]
  },
  {
   "cell_type": "markdown",
   "metadata": {
    "toc": true
   },
   "source": [
    "<h1>Table of Contents<span class=\"tocSkip\"></span></h1>\n",
    "<div class=\"toc\"><ul class=\"toc-item\"><li><span><a href=\"#Configuration\" data-toc-modified-id=\"Configuration-1\"><span class=\"toc-item-num\">1&nbsp;&nbsp;</span>Configuration</a></span></li><li><span><a href=\"#Import-and-load\" data-toc-modified-id=\"Import-and-load-2\"><span class=\"toc-item-num\">2&nbsp;&nbsp;</span>Import and load</a></span></li><li><span><a href=\"#Impute-missing-values\" data-toc-modified-id=\"Impute-missing-values-3\"><span class=\"toc-item-num\">3&nbsp;&nbsp;</span>Impute missing values</a></span></li><li><span><a href=\"#Quick-summary-of-whole-dorm-well-beings\" data-toc-modified-id=\"Quick-summary-of-whole-dorm-well-beings-4\"><span class=\"toc-item-num\">4&nbsp;&nbsp;</span>Quick summary of whole-dorm well-beings</a></span></li><li><span><a href=\"#Standard-regression-models-(not-mixed)\" data-toc-modified-id=\"Standard-regression-models-(not-mixed)-5\"><span class=\"toc-item-num\">5&nbsp;&nbsp;</span>Standard regression models (not mixed)</a></span><ul class=\"toc-item\"><li><span><a href=\"#Base-model,-minimal-predictors\" data-toc-modified-id=\"Base-model,-minimal-predictors-5.1\"><span class=\"toc-item-num\">5.1&nbsp;&nbsp;</span>Base model, minimal predictors</a></span></li><li><span><a href=\"#Add-demographic-covariates\" data-toc-modified-id=\"Add-demographic-covariates-5.2\"><span class=\"toc-item-num\">5.2&nbsp;&nbsp;</span>Add demographic covariates</a></span></li><li><span><a href=\"#Is-this-a-significant-improvement?-(No)\" data-toc-modified-id=\"Is-this-a-significant-improvement?-(No)-5.3\"><span class=\"toc-item-num\">5.3&nbsp;&nbsp;</span>Is this a significant improvement? (No)</a></span></li><li><span><a href=\"#Try-just-fall-well-being-and-ambient-empathy,-get-rid-of-noisy-covariates\" data-toc-modified-id=\"Try-just-fall-well-being-and-ambient-empathy,-get-rid-of-noisy-covariates-5.4\"><span class=\"toc-item-num\">5.4&nbsp;&nbsp;</span>Try just fall well-being and ambient empathy, get rid of noisy covariates</a></span></li></ul></li><li><span><a href=\"#Mixed-effect-models\" data-toc-modified-id=\"Mixed-effect-models-6\"><span class=\"toc-item-num\">6&nbsp;&nbsp;</span>Mixed effect models</a></span><ul class=\"toc-item\"><li><span><a href=\"#REML-model-to-accurately-determine-variance-apportioned-to-dorm-(zero)\" data-toc-modified-id=\"REML-model-to-accurately-determine-variance-apportioned-to-dorm-(zero)-6.1\"><span class=\"toc-item-num\">6.1&nbsp;&nbsp;</span>REML model to accurately determine variance apportioned to dorm (zero)</a></span></li><li><span><a href=\"#REML=false-model-to-maximize-predictive-value.-Is-this-a-significant-improvement-over-the-non-mixed-model?-(No)\" data-toc-modified-id=\"REML=false-model-to-maximize-predictive-value.-Is-this-a-significant-improvement-over-the-non-mixed-model?-(No)-6.2\"><span class=\"toc-item-num\">6.2&nbsp;&nbsp;</span>REML=false model to maximize predictive value. Is this a significant improvement over the non-mixed model? (No)</a></span></li></ul></li><li><span><a href=\"#Bring-in-network-density-to-the-mixed-model\" data-toc-modified-id=\"Bring-in-network-density-to-the-mixed-model-7\"><span class=\"toc-item-num\">7&nbsp;&nbsp;</span>Bring in network density to the mixed model</a></span><ul class=\"toc-item\"><li><span><a href=\"#Prepare-the-data\" data-toc-modified-id=\"Prepare-the-data-7.1\"><span class=\"toc-item-num\">7.1&nbsp;&nbsp;</span>Prepare the data</a></span></li><li><span><a href=\"#Mixed-models---using-dorm-level-network-densities\" data-toc-modified-id=\"Mixed-models---using-dorm-level-network-densities-7.2\"><span class=\"toc-item-num\">7.2&nbsp;&nbsp;</span>Mixed models - using dorm-level network densities</a></span></li><li><span><a href=\"#Add-even-more-dorm-level-covariates\" data-toc-modified-id=\"Add-even-more-dorm-level-covariates-7.3\"><span class=\"toc-item-num\">7.3&nbsp;&nbsp;</span>Add even-more dorm-level covariates</a></span></li></ul></li></ul></div>"
   ]
  },
  {
   "cell_type": "markdown",
   "metadata": {},
   "source": [
    "## Configuration"
   ]
  },
  {
   "cell_type": "code",
   "execution_count": 1,
   "metadata": {},
   "outputs": [],
   "source": [
    "DATA_FILE = 'data/postprocessed/final_for_analysis_R.csv'\n",
    "\n",
    "IMPUTE_MISSING = TRUE\n",
    "INCLUDE_FALL_WB_AS_PREDICTOR = TRUE\n",
    "INCLUDE_DEMOS_AS_PREDICTOR = TRUE\n",
    "# DV = 'Wellbeing_fall'\n",
    "DV = 'Wellbeing_spring'\n",
    "\n",
    "if (INCLUDE_FALL_WB_AS_PREDICTOR) {\n",
    "    stopifnot(DV == 'Wellbeing_spring')\n",
    "}"
   ]
  },
  {
   "cell_type": "markdown",
   "metadata": {},
   "source": [
    "## Import and load"
   ]
  },
  {
   "cell_type": "code",
   "execution_count": 2,
   "metadata": {},
   "outputs": [
    {
     "name": "stderr",
     "output_type": "stream",
     "text": [
      "Loading required package: carData\n",
      "\n",
      "── \u001b[1mAttaching packages\u001b[22m ─────────────────────────────────────── tidyverse 1.3.0 ──\n",
      "\n",
      "\u001b[32m✔\u001b[39m \u001b[34mggplot2\u001b[39m 3.2.1     \u001b[32m✔\u001b[39m \u001b[34mpurrr  \u001b[39m 0.3.3\n",
      "\u001b[32m✔\u001b[39m \u001b[34mtibble \u001b[39m 2.1.3     \u001b[32m✔\u001b[39m \u001b[34mdplyr  \u001b[39m 0.8.3\n",
      "\u001b[32m✔\u001b[39m \u001b[34mtidyr  \u001b[39m 1.0.0     \u001b[32m✔\u001b[39m \u001b[34mstringr\u001b[39m 1.4.0\n",
      "\u001b[32m✔\u001b[39m \u001b[34mreadr  \u001b[39m 1.3.1     \u001b[32m✔\u001b[39m \u001b[34mforcats\u001b[39m 0.4.0\n",
      "\n",
      "── \u001b[1mConflicts\u001b[22m ────────────────────────────────────────── tidyverse_conflicts() ──\n",
      "\u001b[31m✖\u001b[39m \u001b[34mdplyr\u001b[39m::\u001b[32marrange()\u001b[39m   masks \u001b[34mplyr\u001b[39m::arrange()\n",
      "\u001b[31m✖\u001b[39m \u001b[34mpurrr\u001b[39m::\u001b[32mcompact()\u001b[39m   masks \u001b[34mplyr\u001b[39m::compact()\n",
      "\u001b[31m✖\u001b[39m \u001b[34mdplyr\u001b[39m::\u001b[32mcount()\u001b[39m     masks \u001b[34mplyr\u001b[39m::count()\n",
      "\u001b[31m✖\u001b[39m \u001b[34mdplyr\u001b[39m::\u001b[32mfailwith()\u001b[39m  masks \u001b[34mplyr\u001b[39m::failwith()\n",
      "\u001b[31m✖\u001b[39m \u001b[34mdplyr\u001b[39m::\u001b[32mfilter()\u001b[39m    masks \u001b[34mstats\u001b[39m::filter()\n",
      "\u001b[31m✖\u001b[39m \u001b[34mdplyr\u001b[39m::\u001b[32mid()\u001b[39m        masks \u001b[34mplyr\u001b[39m::id()\n",
      "\u001b[31m✖\u001b[39m \u001b[34mdplyr\u001b[39m::\u001b[32mlag()\u001b[39m       masks \u001b[34mstats\u001b[39m::lag()\n",
      "\u001b[31m✖\u001b[39m \u001b[34mdplyr\u001b[39m::\u001b[32mmutate()\u001b[39m    masks \u001b[34mplyr\u001b[39m::mutate()\n",
      "\u001b[31m✖\u001b[39m \u001b[34mdplyr\u001b[39m::\u001b[32mrecode()\u001b[39m    masks \u001b[34mcar\u001b[39m::recode()\n",
      "\u001b[31m✖\u001b[39m \u001b[34mdplyr\u001b[39m::\u001b[32mrename()\u001b[39m    masks \u001b[34mplyr\u001b[39m::rename()\n",
      "\u001b[31m✖\u001b[39m \u001b[34mpurrr\u001b[39m::\u001b[32msome()\u001b[39m      masks \u001b[34mcar\u001b[39m::some()\n",
      "\u001b[31m✖\u001b[39m \u001b[34mdplyr\u001b[39m::\u001b[32msummarise()\u001b[39m masks \u001b[34mplyr\u001b[39m::summarise()\n",
      "\u001b[31m✖\u001b[39m \u001b[34mdplyr\u001b[39m::\u001b[32msummarize()\u001b[39m masks \u001b[34mplyr\u001b[39m::summarize()\n",
      "\n",
      "Loading required package: lattice\n",
      "\n",
      "Registered S3 methods overwritten by 'lme4':\n",
      "  method                          from\n",
      "  cooks.distance.influence.merMod car \n",
      "  influence.merMod                car \n",
      "  dfbeta.influence.merMod         car \n",
      "  dfbetas.influence.merMod        car \n",
      "\n",
      "\n",
      "Attaching package: ‘mice’\n",
      "\n",
      "\n",
      "The following object is masked from ‘package:tidyr’:\n",
      "\n",
      "    complete\n",
      "\n",
      "\n",
      "The following objects are masked from ‘package:base’:\n",
      "\n",
      "    cbind, rbind\n",
      "\n",
      "\n",
      "\n",
      "Attaching package: ‘nlme’\n",
      "\n",
      "\n",
      "The following object is masked from ‘package:dplyr’:\n",
      "\n",
      "    collapse\n",
      "\n",
      "\n",
      "Loading required package: Matrix\n",
      "\n",
      "\n",
      "Attaching package: ‘Matrix’\n",
      "\n",
      "\n",
      "The following objects are masked from ‘package:tidyr’:\n",
      "\n",
      "    expand, pack, unpack\n",
      "\n",
      "\n",
      "\n",
      "Attaching package: ‘lme4’\n",
      "\n",
      "\n",
      "The following object is masked from ‘package:nlme’:\n",
      "\n",
      "    lmList\n",
      "\n",
      "\n",
      "\n",
      "Attaching package: ‘lmerTest’\n",
      "\n",
      "\n",
      "The following object is masked from ‘package:lme4’:\n",
      "\n",
      "    lmer\n",
      "\n",
      "\n",
      "The following object is masked from ‘package:stats’:\n",
      "\n",
      "    step\n",
      "\n",
      "\n"
     ]
    }
   ],
   "source": [
    "library(car)\n",
    "library(plyr)\n",
    "library(tidyverse)\n",
    "library(hexbin)\n",
    "library(mice)\n",
    "library(nlme)\n",
    "library(lme4)\n",
    "library(lmerTest)\n",
    "\n",
    "options(width=200)"
   ]
  },
  {
   "cell_type": "code",
   "execution_count": 3,
   "metadata": {
    "scrolled": true
   },
   "outputs": [
    {
     "data": {
      "text/html": [
       "<ol class=list-inline>\n",
       "\t<li>204</li>\n",
       "\t<li>17</li>\n",
       "</ol>\n"
      ],
      "text/latex": [
       "\\begin{enumerate*}\n",
       "\\item 204\n",
       "\\item 17\n",
       "\\end{enumerate*}\n"
      ],
      "text/markdown": [
       "1. 204\n",
       "2. 17\n",
       "\n",
       "\n"
      ],
      "text/plain": [
       "[1] 204  17"
      ]
     },
     "metadata": {},
     "output_type": "display_data"
    },
    {
     "data": {
      "text/html": [
       "<table>\n",
       "<caption>A data.frame: 6 × 17</caption>\n",
       "<thead>\n",
       "\t<tr><th></th><th scope=col>NID</th><th scope=col>Age</th><th scope=col>ParentEducationMax</th><th scope=col>FinclAid</th><th scope=col>FmlyIncome</th><th scope=col>Gender</th><th scope=col>Race</th><th scope=col>Ambient_empathy</th><th scope=col>Wellbeing_fall</th><th scope=col>Wellbeing_spring</th><th scope=col>ParentEducationMax_dorm</th><th scope=col>FmlyIncome_dorm</th><th scope=col>Extraversion_dorm</th><th scope=col>Agreeableness_dorm</th><th scope=col>Openness_dorm</th><th scope=col>Empathic_Concern_dorm</th><th scope=col>Wellbeing_fall_dorm</th></tr>\n",
       "\t<tr><th></th><th scope=col>&lt;dbl&gt;</th><th scope=col>&lt;dbl&gt;</th><th scope=col>&lt;dbl&gt;</th><th scope=col>&lt;dbl&gt;</th><th scope=col>&lt;dbl&gt;</th><th scope=col>&lt;fct&gt;</th><th scope=col>&lt;fct&gt;</th><th scope=col>&lt;dbl&gt;</th><th scope=col>&lt;dbl&gt;</th><th scope=col>&lt;dbl&gt;</th><th scope=col>&lt;dbl&gt;</th><th scope=col>&lt;dbl&gt;</th><th scope=col>&lt;dbl&gt;</th><th scope=col>&lt;dbl&gt;</th><th scope=col>&lt;dbl&gt;</th><th scope=col>&lt;dbl&gt;</th><th scope=col>&lt;dbl&gt;</th></tr>\n",
       "</thead>\n",
       "<tbody>\n",
       "\t<tr><th scope=row>vgxlTMkQs5</th><td> 7</td><td>18</td><td>4.0</td><td>0</td><td> 87500</td><td>M</td><td>white      </td><td>-0.7154534</td><td>-2.06354788</td><td>-0.76535414</td><td>3.282609</td><td>128875.0</td><td>4.326087</td><td>4.826087</td><td>5.478261</td><td>2.579710</td><td> 0.06902635</td></tr>\n",
       "\t<tr><th scope=row>M9obKkDvc0</th><td>11</td><td>18</td><td>3.5</td><td>1</td><td>    NA</td><td>F</td><td>south_asian</td><td>-0.8199099</td><td>-0.01143413</td><td>-0.04997158</td><td>3.166667</td><td>107142.9</td><td>3.800000</td><td>4.633333</td><td>5.400000</td><td>2.655556</td><td> 0.14734051</td></tr>\n",
       "\t<tr><th scope=row>RdS4vMvQjo</th><td> 9</td><td>18</td><td>4.0</td><td>1</td><td>125000</td><td>M</td><td>white      </td><td>-0.8994971</td><td> 0.91965600</td><td> 0.66541099</td><td>3.416667</td><td>124500.0</td><td>2.250000</td><td>5.083333</td><td>6.250000</td><td>2.583333</td><td>-0.09749154</td></tr>\n",
       "\t<tr><th scope=row>n08loMfJH7</th><td> 4</td><td>18</td><td>4.0</td><td>0</td><td>200000</td><td>F</td><td>east_asian </td><td>        NA</td><td> 0.65342017</td><td> 0.48656535</td><td>3.338710</td><td>118958.3</td><td>3.203125</td><td>4.968750</td><td>4.890625</td><td>2.645833</td><td>-0.04213750</td></tr>\n",
       "\t<tr><th scope=row>8rsekwqjFy</th><td> 5</td><td>18</td><td>2.5</td><td>1</td><td>125000</td><td>M</td><td>south_asian</td><td>-0.4873343</td><td> 0.69839160</td><td>-0.04997158</td><td>3.352941</td><td>119642.9</td><td>3.617647</td><td>5.147059</td><td>5.176471</td><td>2.782353</td><td> 0.05322856</td></tr>\n",
       "\t<tr><th scope=row>FjTWohEryS</th><td>13</td><td>18</td><td>4.0</td><td>1</td><td> 45000</td><td>F</td><td>east_asian </td><td>        NA</td><td> 0.04290417</td><td>-0.13939440</td><td>3.200000</td><td>105625.0</td><td>3.300000</td><td>4.475000</td><td>5.250000</td><td>2.516667</td><td>-0.30415259</td></tr>\n",
       "</tbody>\n",
       "</table>\n"
      ],
      "text/latex": [
       "A data.frame: 6 × 17\n",
       "\\begin{tabular}{r|lllllllllllllllll}\n",
       "  & NID & Age & ParentEducationMax & FinclAid & FmlyIncome & Gender & Race & Ambient\\_empathy & Wellbeing\\_fall & Wellbeing\\_spring & ParentEducationMax\\_dorm & FmlyIncome\\_dorm & Extraversion\\_dorm & Agreeableness\\_dorm & Openness\\_dorm & Empathic\\_Concern\\_dorm & Wellbeing\\_fall\\_dorm\\\\\n",
       "  & <dbl> & <dbl> & <dbl> & <dbl> & <dbl> & <fct> & <fct> & <dbl> & <dbl> & <dbl> & <dbl> & <dbl> & <dbl> & <dbl> & <dbl> & <dbl> & <dbl>\\\\\n",
       "\\hline\n",
       "\tvgxlTMkQs5 &  7 & 18 & 4.0 & 0 &  87500 & M & white       & -0.7154534 & -2.06354788 & -0.76535414 & 3.282609 & 128875.0 & 4.326087 & 4.826087 & 5.478261 & 2.579710 &  0.06902635\\\\\n",
       "\tM9obKkDvc0 & 11 & 18 & 3.5 & 1 &     NA & F & south\\_asian & -0.8199099 & -0.01143413 & -0.04997158 & 3.166667 & 107142.9 & 3.800000 & 4.633333 & 5.400000 & 2.655556 &  0.14734051\\\\\n",
       "\tRdS4vMvQjo &  9 & 18 & 4.0 & 1 & 125000 & M & white       & -0.8994971 &  0.91965600 &  0.66541099 & 3.416667 & 124500.0 & 2.250000 & 5.083333 & 6.250000 & 2.583333 & -0.09749154\\\\\n",
       "\tn08loMfJH7 &  4 & 18 & 4.0 & 0 & 200000 & F & east\\_asian  &         NA &  0.65342017 &  0.48656535 & 3.338710 & 118958.3 & 3.203125 & 4.968750 & 4.890625 & 2.645833 & -0.04213750\\\\\n",
       "\t8rsekwqjFy &  5 & 18 & 2.5 & 1 & 125000 & M & south\\_asian & -0.4873343 &  0.69839160 & -0.04997158 & 3.352941 & 119642.9 & 3.617647 & 5.147059 & 5.176471 & 2.782353 &  0.05322856\\\\\n",
       "\tFjTWohEryS & 13 & 18 & 4.0 & 1 &  45000 & F & east\\_asian  &         NA &  0.04290417 & -0.13939440 & 3.200000 & 105625.0 & 3.300000 & 4.475000 & 5.250000 & 2.516667 & -0.30415259\\\\\n",
       "\\end{tabular}\n"
      ],
      "text/markdown": [
       "\n",
       "A data.frame: 6 × 17\n",
       "\n",
       "| <!--/--> | NID &lt;dbl&gt; | Age &lt;dbl&gt; | ParentEducationMax &lt;dbl&gt; | FinclAid &lt;dbl&gt; | FmlyIncome &lt;dbl&gt; | Gender &lt;fct&gt; | Race &lt;fct&gt; | Ambient_empathy &lt;dbl&gt; | Wellbeing_fall &lt;dbl&gt; | Wellbeing_spring &lt;dbl&gt; | ParentEducationMax_dorm &lt;dbl&gt; | FmlyIncome_dorm &lt;dbl&gt; | Extraversion_dorm &lt;dbl&gt; | Agreeableness_dorm &lt;dbl&gt; | Openness_dorm &lt;dbl&gt; | Empathic_Concern_dorm &lt;dbl&gt; | Wellbeing_fall_dorm &lt;dbl&gt; |\n",
       "|---|---|---|---|---|---|---|---|---|---|---|---|---|---|---|---|---|---|\n",
       "| vgxlTMkQs5 |  7 | 18 | 4.0 | 0 |  87500 | M | white       | -0.7154534 | -2.06354788 | -0.76535414 | 3.282609 | 128875.0 | 4.326087 | 4.826087 | 5.478261 | 2.579710 |  0.06902635 |\n",
       "| M9obKkDvc0 | 11 | 18 | 3.5 | 1 |     NA | F | south_asian | -0.8199099 | -0.01143413 | -0.04997158 | 3.166667 | 107142.9 | 3.800000 | 4.633333 | 5.400000 | 2.655556 |  0.14734051 |\n",
       "| RdS4vMvQjo |  9 | 18 | 4.0 | 1 | 125000 | M | white       | -0.8994971 |  0.91965600 |  0.66541099 | 3.416667 | 124500.0 | 2.250000 | 5.083333 | 6.250000 | 2.583333 | -0.09749154 |\n",
       "| n08loMfJH7 |  4 | 18 | 4.0 | 0 | 200000 | F | east_asian  |         NA |  0.65342017 |  0.48656535 | 3.338710 | 118958.3 | 3.203125 | 4.968750 | 4.890625 | 2.645833 | -0.04213750 |\n",
       "| 8rsekwqjFy |  5 | 18 | 2.5 | 1 | 125000 | M | south_asian | -0.4873343 |  0.69839160 | -0.04997158 | 3.352941 | 119642.9 | 3.617647 | 5.147059 | 5.176471 | 2.782353 |  0.05322856 |\n",
       "| FjTWohEryS | 13 | 18 | 4.0 | 1 |  45000 | F | east_asian  |         NA |  0.04290417 | -0.13939440 | 3.200000 | 105625.0 | 3.300000 | 4.475000 | 5.250000 | 2.516667 | -0.30415259 |\n",
       "\n"
      ],
      "text/plain": [
       "           NID Age ParentEducationMax FinclAid FmlyIncome Gender Race        Ambient_empathy Wellbeing_fall Wellbeing_spring ParentEducationMax_dorm FmlyIncome_dorm Extraversion_dorm\n",
       "vgxlTMkQs5  7  18  4.0                0         87500     M      white       -0.7154534      -2.06354788    -0.76535414      3.282609                128875.0        4.326087         \n",
       "M9obKkDvc0 11  18  3.5                1            NA     F      south_asian -0.8199099      -0.01143413    -0.04997158      3.166667                107142.9        3.800000         \n",
       "RdS4vMvQjo  9  18  4.0                1        125000     M      white       -0.8994971       0.91965600     0.66541099      3.416667                124500.0        2.250000         \n",
       "n08loMfJH7  4  18  4.0                0        200000     F      east_asian          NA       0.65342017     0.48656535      3.338710                118958.3        3.203125         \n",
       "8rsekwqjFy  5  18  2.5                1        125000     M      south_asian -0.4873343       0.69839160    -0.04997158      3.352941                119642.9        3.617647         \n",
       "FjTWohEryS 13  18  4.0                1         45000     F      east_asian          NA       0.04290417    -0.13939440      3.200000                105625.0        3.300000         \n",
       "           Agreeableness_dorm Openness_dorm Empathic_Concern_dorm Wellbeing_fall_dorm\n",
       "vgxlTMkQs5 4.826087           5.478261      2.579710               0.06902635        \n",
       "M9obKkDvc0 4.633333           5.400000      2.655556               0.14734051        \n",
       "RdS4vMvQjo 5.083333           6.250000      2.583333              -0.09749154        \n",
       "n08loMfJH7 4.968750           4.890625      2.645833              -0.04213750        \n",
       "8rsekwqjFy 5.147059           5.176471      2.782353               0.05322856        \n",
       "FjTWohEryS 4.475000           5.250000      2.516667              -0.30415259        "
      ]
     },
     "metadata": {},
     "output_type": "display_data"
    }
   ],
   "source": [
    "df = read.csv(DATA_FILE, na.strings=c(\"\", \" \", \"NA\"), row.names=1)\n",
    "keep_cols = c(\n",
    "    'NID', 'Age', 'ParentEducationMax',\n",
    "    'FinclAid', 'FmlyIncome', 'Gender', 'Race',\n",
    "    'Ambient_empathy',\n",
    "    'Wellbeing_fall', 'Wellbeing_spring')\n",
    "for (name in names(df)) {\n",
    "    if (endsWith(name, '_dorm')) {\n",
    "        keep_cols = c(keep_cols, name)\n",
    "    }\n",
    "}\n",
    "df = df[,keep_cols]\n",
    "dim(df)\n",
    "head(df)"
   ]
  },
  {
   "cell_type": "markdown",
   "metadata": {},
   "source": [
    "## Impute missing values"
   ]
  },
  {
   "cell_type": "code",
   "execution_count": 4,
   "metadata": {},
   "outputs": [
    {
     "name": "stdout",
     "output_type": "stream",
     "text": [
      "[1] 204\n",
      "[1] \"Imputing missing values\"\n",
      "\n",
      " iter imp variable\n",
      "  1   1  ParentEducationMax  FinclAid  FmlyIncome  Gender  Race  Ambient_empathy\n",
      "  1   2  ParentEducationMax  FinclAid  FmlyIncome  Gender  Race  Ambient_empathy\n",
      "  1   3  ParentEducationMax  FinclAid  FmlyIncome  Gender  Race  Ambient_empathy\n",
      "  1   4  ParentEducationMax  FinclAid  FmlyIncome  Gender  Race  Ambient_empathy\n",
      "  1   5  ParentEducationMax  FinclAid  FmlyIncome  Gender  Race  Ambient_empathy\n",
      "  2   1  ParentEducationMax  FinclAid  FmlyIncome  Gender  Race  Ambient_empathy\n",
      "  2   2  ParentEducationMax  FinclAid  FmlyIncome  Gender  Race  Ambient_empathy\n",
      "  2   3  ParentEducationMax  FinclAid  FmlyIncome  Gender  Race  Ambient_empathy\n",
      "  2   4  ParentEducationMax  FinclAid  FmlyIncome  Gender  Race  Ambient_empathy\n",
      "  2   5  ParentEducationMax  FinclAid  FmlyIncome  Gender  Race  Ambient_empathy\n",
      "  3   1  ParentEducationMax  FinclAid  FmlyIncome  Gender  Race  Ambient_empathy\n",
      "  3   2  ParentEducationMax  FinclAid  FmlyIncome  Gender  Race  Ambient_empathy\n",
      "  3   3  ParentEducationMax  FinclAid  FmlyIncome  Gender  Race  Ambient_empathy\n",
      "  3   4  ParentEducationMax  FinclAid  FmlyIncome  Gender  Race  Ambient_empathy\n",
      "  3   5  ParentEducationMax  FinclAid  FmlyIncome  Gender  Race  Ambient_empathy\n",
      "  4   1  ParentEducationMax  FinclAid  FmlyIncome  Gender  Race  Ambient_empathy\n",
      "  4   2  ParentEducationMax  FinclAid  FmlyIncome  Gender  Race  Ambient_empathy\n",
      "  4   3  ParentEducationMax  FinclAid  FmlyIncome  Gender  Race  Ambient_empathy\n",
      "  4   4  ParentEducationMax  FinclAid  FmlyIncome  Gender  Race  Ambient_empathy\n",
      "  4   5  ParentEducationMax  FinclAid  FmlyIncome  Gender  Race  Ambient_empathy\n",
      "  5   1  ParentEducationMax  FinclAid  FmlyIncome  Gender  Race  Ambient_empathy\n",
      "  5   2  ParentEducationMax  FinclAid  FmlyIncome  Gender  Race  Ambient_empathy\n",
      "  5   3  ParentEducationMax  FinclAid  FmlyIncome  Gender  Race  Ambient_empathy\n",
      "  5   4  ParentEducationMax  FinclAid  FmlyIncome  Gender  Race  Ambient_empathy\n",
      "  5   5  ParentEducationMax  FinclAid  FmlyIncome  Gender  Race  Ambient_empathy\n",
      "[1] 204\n"
     ]
    }
   ],
   "source": [
    "print(nrow(df))\n",
    "if (IMPUTE_MISSING) {\n",
    "    print(\"Imputing missing values\")\n",
    "    imp = mice(df)\n",
    "    df = complete(imp)\n",
    "} else {\n",
    "    print(\"Dropping rows with any missing values\")\n",
    "    df = na.omit(df)\n",
    "}\n",
    "print(nrow(df))\n",
    "# df = na.omit(df, cols='Ambient_empathy')"
   ]
  },
  {
   "cell_type": "markdown",
   "metadata": {},
   "source": [
    "## Quick summary of whole-dorm well-beings"
   ]
  },
  {
   "cell_type": "code",
   "execution_count": 5,
   "metadata": {},
   "outputs": [
    {
     "data": {
      "text/html": [
       "<table>\n",
       "<caption>A tibble: 11 × 3</caption>\n",
       "<thead>\n",
       "\t<tr><th scope=col>NID</th><th scope=col>wb_fall</th><th scope=col>wb_spring</th></tr>\n",
       "\t<tr><th scope=col>&lt;dbl&gt;</th><th scope=col>&lt;dbl&gt;</th><th scope=col>&lt;dbl&gt;</th></tr>\n",
       "</thead>\n",
       "<tbody>\n",
       "\t<tr><td> 1</td><td> 0.17958135</td><td> 0.43067609</td></tr>\n",
       "\t<tr><td> 2</td><td> 0.10039586</td><td> 0.23049091</td></tr>\n",
       "\t<tr><td> 4</td><td>-0.04213750</td><td> 0.00871215</td></tr>\n",
       "\t<tr><td> 5</td><td> 0.05322856</td><td> 0.01841058</td></tr>\n",
       "\t<tr><td> 7</td><td> 0.06902635</td><td> 0.17164150</td></tr>\n",
       "\t<tr><td> 8</td><td>-0.15094904</td><td>-0.45876161</td></tr>\n",
       "\t<tr><td> 9</td><td>-0.09749154</td><td>-0.34804765</td></tr>\n",
       "\t<tr><td>10</td><td>-0.35117851</td><td>-0.30147326</td></tr>\n",
       "\t<tr><td>11</td><td> 0.14734051</td><td> 0.15272015</td></tr>\n",
       "\t<tr><td>13</td><td>-0.30415259</td><td>-0.49261454</td></tr>\n",
       "\t<tr><td>15</td><td> 0.43878610</td><td> 0.47538750</td></tr>\n",
       "</tbody>\n",
       "</table>\n"
      ],
      "text/latex": [
       "A tibble: 11 × 3\n",
       "\\begin{tabular}{lll}\n",
       " NID & wb\\_fall & wb\\_spring\\\\\n",
       " <dbl> & <dbl> & <dbl>\\\\\n",
       "\\hline\n",
       "\t  1 &  0.17958135 &  0.43067609\\\\\n",
       "\t  2 &  0.10039586 &  0.23049091\\\\\n",
       "\t  4 & -0.04213750 &  0.00871215\\\\\n",
       "\t  5 &  0.05322856 &  0.01841058\\\\\n",
       "\t  7 &  0.06902635 &  0.17164150\\\\\n",
       "\t  8 & -0.15094904 & -0.45876161\\\\\n",
       "\t  9 & -0.09749154 & -0.34804765\\\\\n",
       "\t 10 & -0.35117851 & -0.30147326\\\\\n",
       "\t 11 &  0.14734051 &  0.15272015\\\\\n",
       "\t 13 & -0.30415259 & -0.49261454\\\\\n",
       "\t 15 &  0.43878610 &  0.47538750\\\\\n",
       "\\end{tabular}\n"
      ],
      "text/markdown": [
       "\n",
       "A tibble: 11 × 3\n",
       "\n",
       "| NID &lt;dbl&gt; | wb_fall &lt;dbl&gt; | wb_spring &lt;dbl&gt; |\n",
       "|---|---|---|\n",
       "|  1 |  0.17958135 |  0.43067609 |\n",
       "|  2 |  0.10039586 |  0.23049091 |\n",
       "|  4 | -0.04213750 |  0.00871215 |\n",
       "|  5 |  0.05322856 |  0.01841058 |\n",
       "|  7 |  0.06902635 |  0.17164150 |\n",
       "|  8 | -0.15094904 | -0.45876161 |\n",
       "|  9 | -0.09749154 | -0.34804765 |\n",
       "| 10 | -0.35117851 | -0.30147326 |\n",
       "| 11 |  0.14734051 |  0.15272015 |\n",
       "| 13 | -0.30415259 | -0.49261454 |\n",
       "| 15 |  0.43878610 |  0.47538750 |\n",
       "\n"
      ],
      "text/plain": [
       "   NID wb_fall     wb_spring  \n",
       "1   1   0.17958135  0.43067609\n",
       "2   2   0.10039586  0.23049091\n",
       "3   4  -0.04213750  0.00871215\n",
       "4   5   0.05322856  0.01841058\n",
       "5   7   0.06902635  0.17164150\n",
       "6   8  -0.15094904 -0.45876161\n",
       "7   9  -0.09749154 -0.34804765\n",
       "8  10  -0.35117851 -0.30147326\n",
       "9  11   0.14734051  0.15272015\n",
       "10 13  -0.30415259 -0.49261454\n",
       "11 15   0.43878610  0.47538750"
      ]
     },
     "metadata": {},
     "output_type": "display_data"
    }
   ],
   "source": [
    "df %>% group_by(NID) %>%\n",
    "    summarize(wb_fall = mean(Wellbeing_fall),\n",
    "              wb_spring = mean(Wellbeing_spring))"
   ]
  },
  {
   "cell_type": "markdown",
   "metadata": {},
   "source": [
    "## Standard regression models (not mixed)"
   ]
  },
  {
   "cell_type": "code",
   "execution_count": 6,
   "metadata": {},
   "outputs": [],
   "source": [
    "base_equation = paste(DV, ' ~ Wellbeing_fall')\n",
    "demo_equation = paste(base_equation, '+ Age + ParentEducationMax + FinclAid + FmlyIncome + Gender + Race + Ambient_empathy')"
   ]
  },
  {
   "cell_type": "markdown",
   "metadata": {},
   "source": [
    "### Base model, minimal predictors"
   ]
  },
  {
   "cell_type": "code",
   "execution_count": 7,
   "metadata": {},
   "outputs": [
    {
     "name": "stdout",
     "output_type": "stream",
     "text": [
      "[1] \"Wellbeing_spring  ~ Wellbeing_fall\"\n"
     ]
    },
    {
     "data": {
      "text/plain": [
       "\n",
       "Call:\n",
       "lm(formula = as.formula(base_equation), data = df)\n",
       "\n",
       "Residuals:\n",
       "     Min       1Q   Median       3Q      Max \n",
       "-2.69297 -0.48662  0.06646  0.49158  2.76843 \n",
       "\n",
       "Coefficients:\n",
       "                 Estimate Std. Error t value Pr(>|t|)    \n",
       "(Intercept)    -3.286e-16  5.373e-02    0.00        1    \n",
       "Wellbeing_fall  6.433e-01  5.387e-02   11.94   <2e-16 ***\n",
       "---\n",
       "Signif. codes:  0 ‘***’ 0.001 ‘**’ 0.01 ‘*’ 0.05 ‘.’ 0.1 ‘ ’ 1\n",
       "\n",
       "Residual standard error: 0.7675 on 202 degrees of freedom\n",
       "Multiple R-squared:  0.4139,\tAdjusted R-squared:  0.411 \n",
       "F-statistic: 142.6 on 1 and 202 DF,  p-value: < 2.2e-16\n"
      ]
     },
     "metadata": {},
     "output_type": "display_data"
    }
   ],
   "source": [
    "print(base_equation)\n",
    "model_base = lm(as.formula(base_equation), df)\n",
    "summary(model_base)"
   ]
  },
  {
   "cell_type": "code",
   "execution_count": 8,
   "metadata": {},
   "outputs": [
    {
     "name": "stdout",
     "output_type": "stream",
     "text": [
      "[1] \"Wellbeing_spring  ~ Wellbeing_fall  + as.factor(NID)\"\n"
     ]
    },
    {
     "data": {
      "text/html": [
       "<table>\n",
       "<caption>A anova: 3 × 4</caption>\n",
       "<thead>\n",
       "\t<tr><th></th><th scope=col>Sum Sq</th><th scope=col>Df</th><th scope=col>F value</th><th scope=col>Pr(&gt;F)</th></tr>\n",
       "\t<tr><th></th><th scope=col>&lt;dbl&gt;</th><th scope=col>&lt;dbl&gt;</th><th scope=col>&lt;dbl&gt;</th><th scope=col>&lt;dbl&gt;</th></tr>\n",
       "</thead>\n",
       "<tbody>\n",
       "\t<tr><th scope=row>Wellbeing_fall</th><td> 72.338900</td><td>  1</td><td>125.785142</td><td>8.906693e-23</td></tr>\n",
       "\t<tr><th scope=row>as.factor(NID)</th><td>  8.562465</td><td> 10</td><td>  1.488868</td><td>1.459475e-01</td></tr>\n",
       "\t<tr><th scope=row>Residuals</th><td>110.418994</td><td>192</td><td>        NA</td><td>          NA</td></tr>\n",
       "</tbody>\n",
       "</table>\n"
      ],
      "text/latex": [
       "A anova: 3 × 4\n",
       "\\begin{tabular}{r|llll}\n",
       "  & Sum Sq & Df & F value & Pr(>F)\\\\\n",
       "  & <dbl> & <dbl> & <dbl> & <dbl>\\\\\n",
       "\\hline\n",
       "\tWellbeing\\_fall &  72.338900 &   1 & 125.785142 & 8.906693e-23\\\\\n",
       "\tas.factor(NID) &   8.562465 &  10 &   1.488868 & 1.459475e-01\\\\\n",
       "\tResiduals & 110.418994 & 192 &         NA &           NA\\\\\n",
       "\\end{tabular}\n"
      ],
      "text/markdown": [
       "\n",
       "A anova: 3 × 4\n",
       "\n",
       "| <!--/--> | Sum Sq &lt;dbl&gt; | Df &lt;dbl&gt; | F value &lt;dbl&gt; | Pr(&gt;F) &lt;dbl&gt; |\n",
       "|---|---|---|---|---|\n",
       "| Wellbeing_fall |  72.338900 |   1 | 125.785142 | 8.906693e-23 |\n",
       "| as.factor(NID) |   8.562465 |  10 |   1.488868 | 1.459475e-01 |\n",
       "| Residuals | 110.418994 | 192 |         NA |           NA |\n",
       "\n"
      ],
      "text/plain": [
       "               Sum Sq     Df  F value    Pr(>F)      \n",
       "Wellbeing_fall  72.338900   1 125.785142 8.906693e-23\n",
       "as.factor(NID)   8.562465  10   1.488868 1.459475e-01\n",
       "Residuals      110.418994 192         NA           NA"
      ]
     },
     "metadata": {},
     "output_type": "display_data"
    }
   ],
   "source": [
    "eq = paste(base_equation, ' + as.factor(NID)')\n",
    "print(eq)\n",
    "model_base_with_fixed_dorm = lm(as.formula(eq), df)\n",
    "Anova(model_base_with_fixed_dorm)"
   ]
  },
  {
   "cell_type": "markdown",
   "metadata": {},
   "source": [
    "### Add demographic covariates"
   ]
  },
  {
   "cell_type": "code",
   "execution_count": 9,
   "metadata": {},
   "outputs": [
    {
     "data": {
      "text/html": [
       "<ol class=list-inline>\n",
       "\t<li>'NID'</li>\n",
       "\t<li>'Age'</li>\n",
       "\t<li>'ParentEducationMax'</li>\n",
       "\t<li>'FinclAid'</li>\n",
       "\t<li>'FmlyIncome'</li>\n",
       "\t<li>'Gender'</li>\n",
       "\t<li>'Race'</li>\n",
       "\t<li>'Ambient_empathy'</li>\n",
       "\t<li>'Wellbeing_fall'</li>\n",
       "\t<li>'Wellbeing_spring'</li>\n",
       "\t<li>'ParentEducationMax_dorm'</li>\n",
       "\t<li>'FmlyIncome_dorm'</li>\n",
       "\t<li>'Extraversion_dorm'</li>\n",
       "\t<li>'Agreeableness_dorm'</li>\n",
       "\t<li>'Openness_dorm'</li>\n",
       "\t<li>'Empathic_Concern_dorm'</li>\n",
       "\t<li>'Wellbeing_fall_dorm'</li>\n",
       "</ol>\n"
      ],
      "text/latex": [
       "\\begin{enumerate*}\n",
       "\\item 'NID'\n",
       "\\item 'Age'\n",
       "\\item 'ParentEducationMax'\n",
       "\\item 'FinclAid'\n",
       "\\item 'FmlyIncome'\n",
       "\\item 'Gender'\n",
       "\\item 'Race'\n",
       "\\item 'Ambient\\_empathy'\n",
       "\\item 'Wellbeing\\_fall'\n",
       "\\item 'Wellbeing\\_spring'\n",
       "\\item 'ParentEducationMax\\_dorm'\n",
       "\\item 'FmlyIncome\\_dorm'\n",
       "\\item 'Extraversion\\_dorm'\n",
       "\\item 'Agreeableness\\_dorm'\n",
       "\\item 'Openness\\_dorm'\n",
       "\\item 'Empathic\\_Concern\\_dorm'\n",
       "\\item 'Wellbeing\\_fall\\_dorm'\n",
       "\\end{enumerate*}\n"
      ],
      "text/markdown": [
       "1. 'NID'\n",
       "2. 'Age'\n",
       "3. 'ParentEducationMax'\n",
       "4. 'FinclAid'\n",
       "5. 'FmlyIncome'\n",
       "6. 'Gender'\n",
       "7. 'Race'\n",
       "8. 'Ambient_empathy'\n",
       "9. 'Wellbeing_fall'\n",
       "10. 'Wellbeing_spring'\n",
       "11. 'ParentEducationMax_dorm'\n",
       "12. 'FmlyIncome_dorm'\n",
       "13. 'Extraversion_dorm'\n",
       "14. 'Agreeableness_dorm'\n",
       "15. 'Openness_dorm'\n",
       "16. 'Empathic_Concern_dorm'\n",
       "17. 'Wellbeing_fall_dorm'\n",
       "\n",
       "\n"
      ],
      "text/plain": [
       " [1] \"NID\"                     \"Age\"                     \"ParentEducationMax\"      \"FinclAid\"                \"FmlyIncome\"              \"Gender\"                  \"Race\"                   \n",
       " [8] \"Ambient_empathy\"         \"Wellbeing_fall\"          \"Wellbeing_spring\"        \"ParentEducationMax_dorm\" \"FmlyIncome_dorm\"         \"Extraversion_dorm\"       \"Agreeableness_dorm\"     \n",
       "[15] \"Openness_dorm\"           \"Empathic_Concern_dorm\"   \"Wellbeing_fall_dorm\"    "
      ]
     },
     "metadata": {},
     "output_type": "display_data"
    }
   ],
   "source": [
    "names(df)"
   ]
  },
  {
   "cell_type": "code",
   "execution_count": 10,
   "metadata": {},
   "outputs": [
    {
     "name": "stdout",
     "output_type": "stream",
     "text": [
      "[1] \"Wellbeing_spring  ~ Wellbeing_fall + Age + ParentEducationMax + FinclAid + FmlyIncome + Gender + Race + Ambient_empathy\"\n"
     ]
    },
    {
     "data": {
      "text/plain": [
       "\n",
       "Call:\n",
       "lm(formula = as.formula(demo_equation), data = df)\n",
       "\n",
       "Residuals:\n",
       "     Min       1Q   Median       3Q      Max \n",
       "-2.42588 -0.40063  0.04666  0.47630  2.71539 \n",
       "\n",
       "Coefficients:\n",
       "                     Estimate Std. Error t value Pr(>|t|)    \n",
       "(Intercept)        -2.542e-01  1.067e+00  -0.238   0.8118    \n",
       "Wellbeing_fall      6.130e-01  5.535e-02  11.074   <2e-16 ***\n",
       "Age                -4.962e-03  5.308e-02  -0.093   0.9256    \n",
       "ParentEducationMax  7.475e-02  9.822e-02   0.761   0.4475    \n",
       "FinclAid           -4.128e-02  1.425e-01  -0.290   0.7725    \n",
       "FmlyIncome          7.470e-07  1.053e-06   0.709   0.4790    \n",
       "GenderM             1.645e-01  1.135e-01   1.449   0.1491    \n",
       "Raceeast_asian      4.673e-02  2.283e-01   0.205   0.8380    \n",
       "Racehispanic        2.308e-01  2.814e-01   0.820   0.4132    \n",
       "Raceother_or_mixed -6.051e-02  2.283e-01  -0.265   0.7913    \n",
       "Racesouth_asian    -1.957e-01  3.029e-01  -0.646   0.5189    \n",
       "Racewhite           1.708e-01  2.357e-01   0.725   0.4695    \n",
       "Ambient_empathy     1.410e-01  7.411e-02   1.903   0.0586 .  \n",
       "---\n",
       "Signif. codes:  0 ‘***’ 0.001 ‘**’ 0.01 ‘*’ 0.05 ‘.’ 0.1 ‘ ’ 1\n",
       "\n",
       "Residual standard error: 0.7651 on 191 degrees of freedom\n",
       "Multiple R-squared:  0.4492,\tAdjusted R-squared:  0.4146 \n",
       "F-statistic: 12.98 on 12 and 191 DF,  p-value: < 2.2e-16\n"
      ]
     },
     "metadata": {},
     "output_type": "display_data"
    }
   ],
   "source": [
    "print(demo_equation)\n",
    "model_demos = lm(as.formula(demo_equation), df)\n",
    "summary(model_demos)"
   ]
  },
  {
   "cell_type": "code",
   "execution_count": 11,
   "metadata": {},
   "outputs": [
    {
     "data": {
      "text/html": [
       "<table>\n",
       "<caption>A anova: 9 × 4</caption>\n",
       "<thead>\n",
       "\t<tr><th></th><th scope=col>Sum Sq</th><th scope=col>Df</th><th scope=col>F value</th><th scope=col>Pr(&gt;F)</th></tr>\n",
       "\t<tr><th></th><th scope=col>&lt;dbl&gt;</th><th scope=col>&lt;dbl&gt;</th><th scope=col>&lt;dbl&gt;</th><th scope=col>&lt;dbl&gt;</th></tr>\n",
       "</thead>\n",
       "<tbody>\n",
       "\t<tr><th scope=row>Wellbeing_fall</th><td>7.179871e+01</td><td>  1</td><td>1.226394e+02</td><td>2.459692e-22</td></tr>\n",
       "\t<tr><th scope=row>Age</th><td>5.114533e-03</td><td>  1</td><td>8.736135e-03</td><td>9.256303e-01</td></tr>\n",
       "\t<tr><th scope=row>ParentEducationMax</th><td>3.391333e-01</td><td>  1</td><td>5.792738e-01</td><td>4.475358e-01</td></tr>\n",
       "\t<tr><th scope=row>FinclAid</th><td>4.908829e-02</td><td>  1</td><td>8.384772e-02</td><td>7.724634e-01</td></tr>\n",
       "\t<tr><th scope=row>FmlyIncome</th><td>2.945508e-01</td><td>  1</td><td>5.031222e-01</td><td>4.789964e-01</td></tr>\n",
       "\t<tr><th scope=row>Gender</th><td>1.228720e+00</td><td>  1</td><td>2.098777e+00</td><td>1.490567e-01</td></tr>\n",
       "\t<tr><th scope=row>Race</th><td>2.469263e+00</td><td>  5</td><td>8.435496e-01</td><td>5.203703e-01</td></tr>\n",
       "\t<tr><th scope=row>Ambient_empathy</th><td>2.119583e+00</td><td>  1</td><td>3.620461e+00</td><td>5.857735e-02</td></tr>\n",
       "\t<tr><th scope=row>Residuals</th><td>1.118201e+02</td><td>191</td><td>          NA</td><td>          NA</td></tr>\n",
       "</tbody>\n",
       "</table>\n"
      ],
      "text/latex": [
       "A anova: 9 × 4\n",
       "\\begin{tabular}{r|llll}\n",
       "  & Sum Sq & Df & F value & Pr(>F)\\\\\n",
       "  & <dbl> & <dbl> & <dbl> & <dbl>\\\\\n",
       "\\hline\n",
       "\tWellbeing\\_fall & 7.179871e+01 &   1 & 1.226394e+02 & 2.459692e-22\\\\\n",
       "\tAge & 5.114533e-03 &   1 & 8.736135e-03 & 9.256303e-01\\\\\n",
       "\tParentEducationMax & 3.391333e-01 &   1 & 5.792738e-01 & 4.475358e-01\\\\\n",
       "\tFinclAid & 4.908829e-02 &   1 & 8.384772e-02 & 7.724634e-01\\\\\n",
       "\tFmlyIncome & 2.945508e-01 &   1 & 5.031222e-01 & 4.789964e-01\\\\\n",
       "\tGender & 1.228720e+00 &   1 & 2.098777e+00 & 1.490567e-01\\\\\n",
       "\tRace & 2.469263e+00 &   5 & 8.435496e-01 & 5.203703e-01\\\\\n",
       "\tAmbient\\_empathy & 2.119583e+00 &   1 & 3.620461e+00 & 5.857735e-02\\\\\n",
       "\tResiduals & 1.118201e+02 & 191 &           NA &           NA\\\\\n",
       "\\end{tabular}\n"
      ],
      "text/markdown": [
       "\n",
       "A anova: 9 × 4\n",
       "\n",
       "| <!--/--> | Sum Sq &lt;dbl&gt; | Df &lt;dbl&gt; | F value &lt;dbl&gt; | Pr(&gt;F) &lt;dbl&gt; |\n",
       "|---|---|---|---|---|\n",
       "| Wellbeing_fall | 7.179871e+01 |   1 | 1.226394e+02 | 2.459692e-22 |\n",
       "| Age | 5.114533e-03 |   1 | 8.736135e-03 | 9.256303e-01 |\n",
       "| ParentEducationMax | 3.391333e-01 |   1 | 5.792738e-01 | 4.475358e-01 |\n",
       "| FinclAid | 4.908829e-02 |   1 | 8.384772e-02 | 7.724634e-01 |\n",
       "| FmlyIncome | 2.945508e-01 |   1 | 5.031222e-01 | 4.789964e-01 |\n",
       "| Gender | 1.228720e+00 |   1 | 2.098777e+00 | 1.490567e-01 |\n",
       "| Race | 2.469263e+00 |   5 | 8.435496e-01 | 5.203703e-01 |\n",
       "| Ambient_empathy | 2.119583e+00 |   1 | 3.620461e+00 | 5.857735e-02 |\n",
       "| Residuals | 1.118201e+02 | 191 |           NA |           NA |\n",
       "\n"
      ],
      "text/plain": [
       "                   Sum Sq       Df  F value      Pr(>F)      \n",
       "Wellbeing_fall     7.179871e+01   1 1.226394e+02 2.459692e-22\n",
       "Age                5.114533e-03   1 8.736135e-03 9.256303e-01\n",
       "ParentEducationMax 3.391333e-01   1 5.792738e-01 4.475358e-01\n",
       "FinclAid           4.908829e-02   1 8.384772e-02 7.724634e-01\n",
       "FmlyIncome         2.945508e-01   1 5.031222e-01 4.789964e-01\n",
       "Gender             1.228720e+00   1 2.098777e+00 1.490567e-01\n",
       "Race               2.469263e+00   5 8.435496e-01 5.203703e-01\n",
       "Ambient_empathy    2.119583e+00   1 3.620461e+00 5.857735e-02\n",
       "Residuals          1.118201e+02 191           NA           NA"
      ]
     },
     "metadata": {},
     "output_type": "display_data"
    }
   ],
   "source": [
    "Anova(model_demos)"
   ]
  },
  {
   "cell_type": "markdown",
   "metadata": {},
   "source": [
    "### Is this a significant improvement? (No)"
   ]
  },
  {
   "cell_type": "code",
   "execution_count": 12,
   "metadata": {},
   "outputs": [
    {
     "data": {
      "text/html": [
       "<table>\n",
       "<caption>A anova: 2 × 6</caption>\n",
       "<thead>\n",
       "\t<tr><th></th><th scope=col>Res.Df</th><th scope=col>RSS</th><th scope=col>Df</th><th scope=col>Sum of Sq</th><th scope=col>F</th><th scope=col>Pr(&gt;F)</th></tr>\n",
       "\t<tr><th></th><th scope=col>&lt;dbl&gt;</th><th scope=col>&lt;dbl&gt;</th><th scope=col>&lt;dbl&gt;</th><th scope=col>&lt;dbl&gt;</th><th scope=col>&lt;dbl&gt;</th><th scope=col>&lt;dbl&gt;</th></tr>\n",
       "</thead>\n",
       "<tbody>\n",
       "\t<tr><th scope=row>1</th><td>202</td><td>118.9815</td><td>NA</td><td>      NA</td><td>      NA</td><td>       NA</td></tr>\n",
       "\t<tr><th scope=row>2</th><td>191</td><td>111.8201</td><td>11</td><td>7.161327</td><td>1.112024</td><td>0.3537387</td></tr>\n",
       "</tbody>\n",
       "</table>\n"
      ],
      "text/latex": [
       "A anova: 2 × 6\n",
       "\\begin{tabular}{r|llllll}\n",
       "  & Res.Df & RSS & Df & Sum of Sq & F & Pr(>F)\\\\\n",
       "  & <dbl> & <dbl> & <dbl> & <dbl> & <dbl> & <dbl>\\\\\n",
       "\\hline\n",
       "\t1 & 202 & 118.9815 & NA &       NA &       NA &        NA\\\\\n",
       "\t2 & 191 & 111.8201 & 11 & 7.161327 & 1.112024 & 0.3537387\\\\\n",
       "\\end{tabular}\n"
      ],
      "text/markdown": [
       "\n",
       "A anova: 2 × 6\n",
       "\n",
       "| <!--/--> | Res.Df &lt;dbl&gt; | RSS &lt;dbl&gt; | Df &lt;dbl&gt; | Sum of Sq &lt;dbl&gt; | F &lt;dbl&gt; | Pr(&gt;F) &lt;dbl&gt; |\n",
       "|---|---|---|---|---|---|---|\n",
       "| 1 | 202 | 118.9815 | NA |       NA |       NA |        NA |\n",
       "| 2 | 191 | 111.8201 | 11 | 7.161327 | 1.112024 | 0.3537387 |\n",
       "\n"
      ],
      "text/plain": [
       "  Res.Df RSS      Df Sum of Sq F        Pr(>F)   \n",
       "1 202    118.9815 NA       NA        NA        NA\n",
       "2 191    111.8201 11 7.161327  1.112024 0.3537387"
      ]
     },
     "metadata": {},
     "output_type": "display_data"
    }
   ],
   "source": [
    "anova(model_base, model_demos)"
   ]
  },
  {
   "cell_type": "markdown",
   "metadata": {},
   "source": [
    "### Try just fall well-being and ambient empathy, get rid of noisy covariates"
   ]
  },
  {
   "cell_type": "code",
   "execution_count": 13,
   "metadata": {},
   "outputs": [
    {
     "name": "stdout",
     "output_type": "stream",
     "text": [
      "[1] \"Wellbeing_spring  ~ Wellbeing_fall  + Ambient_empathy\"\n"
     ]
    },
    {
     "data": {
      "text/plain": [
       "\n",
       "Call:\n",
       "lm(formula = as.formula(eq), data = df)\n",
       "\n",
       "Residuals:\n",
       "     Min       1Q   Median       3Q      Max \n",
       "-2.58067 -0.45194  0.02294  0.49858  2.73649 \n",
       "\n",
       "Coefficients:\n",
       "                Estimate Std. Error t value Pr(>|t|)    \n",
       "(Intercept)      0.06895    0.06324   1.090   0.2769    \n",
       "Wellbeing_fall   0.63506    0.05361  11.846   <2e-16 ***\n",
       "Ambient_empathy  0.14400    0.07100   2.028   0.0439 *  \n",
       "---\n",
       "Signif. codes:  0 ‘***’ 0.001 ‘**’ 0.01 ‘*’ 0.05 ‘.’ 0.1 ‘ ’ 1\n",
       "\n",
       "Residual standard error: 0.7616 on 201 degrees of freedom\n",
       "Multiple R-squared:  0.4256,\tAdjusted R-squared:  0.4199 \n",
       "F-statistic: 74.48 on 2 and 201 DF,  p-value: < 2.2e-16\n"
      ]
     },
     "metadata": {},
     "output_type": "display_data"
    }
   ],
   "source": [
    "eq = paste(base_equation, ' + Ambient_empathy')\n",
    "print(eq)\n",
    "model_base_with_ambient_empathy = lm(as.formula(eq), df)\n",
    "summary(model_base_with_ambient_empathy)"
   ]
  },
  {
   "cell_type": "code",
   "execution_count": 14,
   "metadata": {},
   "outputs": [
    {
     "data": {
      "text/html": [
       "<table>\n",
       "<caption>A anova: 2 × 6</caption>\n",
       "<thead>\n",
       "\t<tr><th></th><th scope=col>Res.Df</th><th scope=col>RSS</th><th scope=col>Df</th><th scope=col>Sum of Sq</th><th scope=col>F</th><th scope=col>Pr(&gt;F)</th></tr>\n",
       "\t<tr><th></th><th scope=col>&lt;dbl&gt;</th><th scope=col>&lt;dbl&gt;</th><th scope=col>&lt;dbl&gt;</th><th scope=col>&lt;dbl&gt;</th><th scope=col>&lt;dbl&gt;</th><th scope=col>&lt;dbl&gt;</th></tr>\n",
       "</thead>\n",
       "<tbody>\n",
       "\t<tr><th scope=row>1</th><td>202</td><td>118.9815</td><td>NA</td><td>      NA</td><td>      NA</td><td>        NA</td></tr>\n",
       "\t<tr><th scope=row>2</th><td>201</td><td>116.5957</td><td> 1</td><td>2.385801</td><td>4.112898</td><td>0.04387707</td></tr>\n",
       "</tbody>\n",
       "</table>\n"
      ],
      "text/latex": [
       "A anova: 2 × 6\n",
       "\\begin{tabular}{r|llllll}\n",
       "  & Res.Df & RSS & Df & Sum of Sq & F & Pr(>F)\\\\\n",
       "  & <dbl> & <dbl> & <dbl> & <dbl> & <dbl> & <dbl>\\\\\n",
       "\\hline\n",
       "\t1 & 202 & 118.9815 & NA &       NA &       NA &         NA\\\\\n",
       "\t2 & 201 & 116.5957 &  1 & 2.385801 & 4.112898 & 0.04387707\\\\\n",
       "\\end{tabular}\n"
      ],
      "text/markdown": [
       "\n",
       "A anova: 2 × 6\n",
       "\n",
       "| <!--/--> | Res.Df &lt;dbl&gt; | RSS &lt;dbl&gt; | Df &lt;dbl&gt; | Sum of Sq &lt;dbl&gt; | F &lt;dbl&gt; | Pr(&gt;F) &lt;dbl&gt; |\n",
       "|---|---|---|---|---|---|---|\n",
       "| 1 | 202 | 118.9815 | NA |       NA |       NA |         NA |\n",
       "| 2 | 201 | 116.5957 |  1 | 2.385801 | 4.112898 | 0.04387707 |\n",
       "\n"
      ],
      "text/plain": [
       "  Res.Df RSS      Df Sum of Sq F        Pr(>F)    \n",
       "1 202    118.9815 NA       NA        NA         NA\n",
       "2 201    116.5957  1 2.385801  4.112898 0.04387707"
      ]
     },
     "metadata": {},
     "output_type": "display_data"
    }
   ],
   "source": [
    "anova(model_base, model_base_with_ambient_empathy)"
   ]
  },
  {
   "cell_type": "markdown",
   "metadata": {},
   "source": [
    "## Mixed effect models"
   ]
  },
  {
   "cell_type": "markdown",
   "metadata": {},
   "source": [
    "### REML model to accurately determine variance apportioned to dorm (zero)"
   ]
  },
  {
   "cell_type": "code",
   "execution_count": 15,
   "metadata": {},
   "outputs": [
    {
     "name": "stdout",
     "output_type": "stream",
     "text": [
      "[1] \"Wellbeing_spring  ~ Wellbeing_fall + (1|NID)\"\n"
     ]
    },
    {
     "data": {
      "text/plain": [
       "Linear mixed model fit by REML. t-tests use Satterthwaite's method ['lmerModLmerTest']\n",
       "Formula: as.formula(eq)\n",
       "   Data: df\n",
       "\n",
       "REML criterion at convergence: 476.1\n",
       "\n",
       "Scaled residuals: \n",
       "    Min      1Q  Median      3Q     Max \n",
       "-3.4175 -0.5976  0.0881  0.6421  3.4976 \n",
       "\n",
       "Random effects:\n",
       " Groups   Name        Variance Std.Dev.\n",
       " NID      (Intercept) 0.01552  0.1246  \n",
       " Residual             0.57520  0.7584  \n",
       "Number of obs: 204, groups:  NID, 11\n",
       "\n",
       "Fixed effects:\n",
       "                 Estimate Std. Error         df t value Pr(>|t|)    \n",
       "(Intercept)     -0.001463   0.065863   8.912989  -0.022    0.983    \n",
       "Wellbeing_fall   0.632831   0.053597 200.252358  11.807   <2e-16 ***\n",
       "---\n",
       "Signif. codes:  0 ‘***’ 0.001 ‘**’ 0.01 ‘*’ 0.05 ‘.’ 0.1 ‘ ’ 1\n",
       "\n",
       "Correlation of Fixed Effects:\n",
       "            (Intr)\n",
       "Wellbng_fll -0.002"
      ]
     },
     "metadata": {},
     "output_type": "display_data"
    }
   ],
   "source": [
    "eq = paste(base_equation, '+ (1|NID)')\n",
    "print(eq)\n",
    "model_mlm_nid_only_reml = lmer(as.formula(eq), data=df, REML=TRUE)\n",
    "summary(model_mlm_nid_only_reml)"
   ]
  },
  {
   "cell_type": "markdown",
   "metadata": {},
   "source": [
    "### REML=false model to maximize predictive value. Is this a significant improvement over the non-mixed model? (No)"
   ]
  },
  {
   "cell_type": "code",
   "execution_count": 16,
   "metadata": {},
   "outputs": [
    {
     "data": {
      "text/html": [
       "<table>\n",
       "<caption>A anova: 2 × 8</caption>\n",
       "<thead>\n",
       "\t<tr><th></th><th scope=col>Df</th><th scope=col>AIC</th><th scope=col>BIC</th><th scope=col>logLik</th><th scope=col>deviance</th><th scope=col>Chisq</th><th scope=col>Chi Df</th><th scope=col>Pr(&gt;Chisq)</th></tr>\n",
       "\t<tr><th></th><th scope=col>&lt;dbl&gt;</th><th scope=col>&lt;dbl&gt;</th><th scope=col>&lt;dbl&gt;</th><th scope=col>&lt;dbl&gt;</th><th scope=col>&lt;dbl&gt;</th><th scope=col>&lt;dbl&gt;</th><th scope=col>&lt;dbl&gt;</th><th scope=col>&lt;dbl&gt;</th></tr>\n",
       "</thead>\n",
       "<tbody>\n",
       "\t<tr><th scope=row>model_base</th><td>3</td><td>474.9398</td><td>484.8942</td><td>-234.4699</td><td>468.9398</td><td>       NA</td><td>NA</td><td>      NA</td></tr>\n",
       "\t<tr><th scope=row>model_mlm_nid_only_noreml</th><td>4</td><td>476.4421</td><td>489.7145</td><td>-234.2210</td><td>468.4421</td><td>0.4977896</td><td> 1</td><td>0.480473</td></tr>\n",
       "</tbody>\n",
       "</table>\n"
      ],
      "text/latex": [
       "A anova: 2 × 8\n",
       "\\begin{tabular}{r|llllllll}\n",
       "  & Df & AIC & BIC & logLik & deviance & Chisq & Chi Df & Pr(>Chisq)\\\\\n",
       "  & <dbl> & <dbl> & <dbl> & <dbl> & <dbl> & <dbl> & <dbl> & <dbl>\\\\\n",
       "\\hline\n",
       "\tmodel\\_base & 3 & 474.9398 & 484.8942 & -234.4699 & 468.9398 &        NA & NA &       NA\\\\\n",
       "\tmodel\\_mlm\\_nid\\_only\\_noreml & 4 & 476.4421 & 489.7145 & -234.2210 & 468.4421 & 0.4977896 &  1 & 0.480473\\\\\n",
       "\\end{tabular}\n"
      ],
      "text/markdown": [
       "\n",
       "A anova: 2 × 8\n",
       "\n",
       "| <!--/--> | Df &lt;dbl&gt; | AIC &lt;dbl&gt; | BIC &lt;dbl&gt; | logLik &lt;dbl&gt; | deviance &lt;dbl&gt; | Chisq &lt;dbl&gt; | Chi Df &lt;dbl&gt; | Pr(&gt;Chisq) &lt;dbl&gt; |\n",
       "|---|---|---|---|---|---|---|---|---|\n",
       "| model_base | 3 | 474.9398 | 484.8942 | -234.4699 | 468.9398 |        NA | NA |       NA |\n",
       "| model_mlm_nid_only_noreml | 4 | 476.4421 | 489.7145 | -234.2210 | 468.4421 | 0.4977896 |  1 | 0.480473 |\n",
       "\n"
      ],
      "text/plain": [
       "                          Df AIC      BIC      logLik    deviance Chisq     Chi Df Pr(>Chisq)\n",
       "model_base                3  474.9398 484.8942 -234.4699 468.9398        NA NA           NA  \n",
       "model_mlm_nid_only_noreml 4  476.4421 489.7145 -234.2210 468.4421 0.4977896  1     0.480473  "
      ]
     },
     "metadata": {},
     "output_type": "display_data"
    }
   ],
   "source": [
    "model_mlm_nid_only_noreml = lmer(as.formula(paste(base_equation, '+ (1|NID)')), data=df, REML=FALSE)\n",
    "anova(model_mlm_nid_only_noreml, model_base)#, refit=FALSE)"
   ]
  },
  {
   "cell_type": "markdown",
   "metadata": {},
   "source": [
    "## Bring in network density to the mixed model"
   ]
  },
  {
   "cell_type": "markdown",
   "metadata": {},
   "source": [
    "### Prepare the data"
   ]
  },
  {
   "cell_type": "code",
   "execution_count": 17,
   "metadata": {},
   "outputs": [
    {
     "data": {
      "text/html": [
       "<table>\n",
       "<caption>A data.frame: 6 × 3</caption>\n",
       "<thead>\n",
       "\t<tr><th></th><th scope=col>Dorm</th><th scope=col>Network</th><th scope=col>Density</th></tr>\n",
       "\t<tr><th></th><th scope=col>&lt;fct&gt;</th><th scope=col>&lt;fct&gt;</th><th scope=col>&lt;dbl&gt;</th></tr>\n",
       "</thead>\n",
       "<tbody>\n",
       "\t<tr><th scope=row>1</th><td>FroSoCo         </td><td>SpendTime </td><td>0.0008166282</td></tr>\n",
       "\t<tr><th scope=row>2</th><td>Norcliffe&amp;Adelfa</td><td>SocAdvice </td><td>0.0002515091</td></tr>\n",
       "\t<tr><th scope=row>3</th><td><span style=white-space:pre-wrap>Meier&amp;Naranja   </span></td><td><span style=white-space:pre-wrap>EmpSupp   </span></td><td>0.0002639293</td></tr>\n",
       "\t<tr><th scope=row>4</th><td>FroSoCo         </td><td>EmpSupp   </td><td>0.0006054848</td></tr>\n",
       "\t<tr><th scope=row>5</th><td>Okada           </td><td>Persuasive</td><td>0.0001800929</td></tr>\n",
       "\t<tr><th scope=row>6</th><td>JRo             </td><td>NegAffPres</td><td>0.0001459374</td></tr>\n",
       "</tbody>\n",
       "</table>\n"
      ],
      "text/latex": [
       "A data.frame: 6 × 3\n",
       "\\begin{tabular}{r|lll}\n",
       "  & Dorm & Network & Density\\\\\n",
       "  & <fct> & <fct> & <dbl>\\\\\n",
       "\\hline\n",
       "\t1 & FroSoCo          & SpendTime  & 0.0008166282\\\\\n",
       "\t2 & Norcliffe\\&Adelfa & SocAdvice  & 0.0002515091\\\\\n",
       "\t3 & Meier\\&Naranja    & EmpSupp    & 0.0002639293\\\\\n",
       "\t4 & FroSoCo          & EmpSupp    & 0.0006054848\\\\\n",
       "\t5 & Okada            & Persuasive & 0.0001800929\\\\\n",
       "\t6 & JRo              & NegAffPres & 0.0001459374\\\\\n",
       "\\end{tabular}\n"
      ],
      "text/markdown": [
       "\n",
       "A data.frame: 6 × 3\n",
       "\n",
       "| <!--/--> | Dorm &lt;fct&gt; | Network &lt;fct&gt; | Density &lt;dbl&gt; |\n",
       "|---|---|---|---|\n",
       "| 1 | FroSoCo          | SpendTime  | 0.0008166282 |\n",
       "| 2 | Norcliffe&amp;Adelfa | SocAdvice  | 0.0002515091 |\n",
       "| 3 | Meier&amp;Naranja    | EmpSupp    | 0.0002639293 |\n",
       "| 4 | FroSoCo          | EmpSupp    | 0.0006054848 |\n",
       "| 5 | Okada            | Persuasive | 0.0001800929 |\n",
       "| 6 | JRo              | NegAffPres | 0.0001459374 |\n",
       "\n"
      ],
      "text/plain": [
       "  Dorm             Network    Density     \n",
       "1 FroSoCo          SpendTime  0.0008166282\n",
       "2 Norcliffe&Adelfa SocAdvice  0.0002515091\n",
       "3 Meier&Naranja    EmpSupp    0.0002639293\n",
       "4 FroSoCo          EmpSupp    0.0006054848\n",
       "5 Okada            Persuasive 0.0001800929\n",
       "6 JRo              NegAffPres 0.0001459374"
      ]
     },
     "metadata": {},
     "output_type": "display_data"
    }
   ],
   "source": [
    "density = read.csv('data/NetworkDensity2018.csv')\n",
    "density = density[,2:ncol(density)]  # First row is a meaningless row number\n",
    "head(density)"
   ]
  },
  {
   "cell_type": "code",
   "execution_count": 18,
   "metadata": {},
   "outputs": [
    {
     "data": {
      "text/plain": [
       "\n",
       "         Alondra            Cedro          FroSoCo              JRo           Larkin    Meier&Naranja Norcliffe&Adelfa            Okada            Twain           Ujamaa        WestFloMo \n",
       "              12               12               12               12               12               12               12               12               12               12               12 "
      ]
     },
     "metadata": {},
     "output_type": "display_data"
    }
   ],
   "source": [
    "table(density$Dorm)"
   ]
  },
  {
   "cell_type": "code",
   "execution_count": 19,
   "metadata": {},
   "outputs": [
    {
     "name": "stderr",
     "output_type": "stream",
     "text": [
      "The following `from` values were not present in `x`: EAST, Kimball\n",
      "\n"
     ]
    }
   ],
   "source": [
    "density$NID <- mapvalues(\n",
    "    density$Dorm, \n",
    "    from=c(\"Alondra\", \"Cedro\", \"EAST\", \"FroSoCo\", \"JRo\", \"Kimball\", \"Larkin\", \"Okada\", \"Twain\", \"Ujamaa\", \"Meier&Naranja\", \"Norcliffe&Adelfa\", \"WestFloMo\"), \n",
    "    to=c(\"1\", \"2\", \"3\", \"4\", \"5\", \"6\", \"7\", \"8\", \"9\", \"10\", \"11\", \"13\", \"15\"))"
   ]
  },
  {
   "cell_type": "code",
   "execution_count": 20,
   "metadata": {},
   "outputs": [
    {
     "data": {
      "text/plain": [
       "\n",
       " 1  2  4  5  7 11 13  8  9 10 15 \n",
       "12 12 12 12 12 12 12 12 12 12 12 "
      ]
     },
     "metadata": {},
     "output_type": "display_data"
    }
   ],
   "source": [
    "table(density$NID)"
   ]
  },
  {
   "cell_type": "code",
   "execution_count": 21,
   "metadata": {},
   "outputs": [
    {
     "data": {
      "text/plain": [
       "\n",
       " CloseFrds    EmpSupp     Gossip      Liked NegAffPres NegEmoSupp Persuasive PosAffPres PosEmoSupp Responsive  SocAdvice  SpendTime \n",
       "        11         11         11         11         11         11         11         11         11         11         11         11 "
      ]
     },
     "metadata": {},
     "output_type": "display_data"
    }
   ],
   "source": [
    "table(density$Network)"
   ]
  },
  {
   "cell_type": "code",
   "execution_count": 22,
   "metadata": {},
   "outputs": [
    {
     "data": {
      "text/html": [
       "<table>\n",
       "<caption>A data.frame: 6 × 2</caption>\n",
       "<thead>\n",
       "\t<tr><th></th><th scope=col>NID</th><th scope=col>DensityCloseFriends</th></tr>\n",
       "\t<tr><th></th><th scope=col>&lt;fct&gt;</th><th scope=col>&lt;dbl&gt;</th></tr>\n",
       "</thead>\n",
       "<tbody>\n",
       "\t<tr><th scope=row>1</th><td>1 </td><td>0.0005430616</td></tr>\n",
       "\t<tr><th scope=row>2</th><td>2 </td><td>0.0008209813</td></tr>\n",
       "\t<tr><th scope=row>3</th><td>4 </td><td>0.0009838725</td></tr>\n",
       "\t<tr><th scope=row>4</th><td>5 </td><td>0.0007545272</td></tr>\n",
       "\t<tr><th scope=row>5</th><td>7 </td><td>0.0006226650</td></tr>\n",
       "\t<tr><th scope=row>6</th><td>11</td><td>0.0003512068</td></tr>\n",
       "</tbody>\n",
       "</table>\n"
      ],
      "text/latex": [
       "A data.frame: 6 × 2\n",
       "\\begin{tabular}{r|ll}\n",
       "  & NID & DensityCloseFriends\\\\\n",
       "  & <fct> & <dbl>\\\\\n",
       "\\hline\n",
       "\t1 & 1  & 0.0005430616\\\\\n",
       "\t2 & 2  & 0.0008209813\\\\\n",
       "\t3 & 4  & 0.0009838725\\\\\n",
       "\t4 & 5  & 0.0007545272\\\\\n",
       "\t5 & 7  & 0.0006226650\\\\\n",
       "\t6 & 11 & 0.0003512068\\\\\n",
       "\\end{tabular}\n"
      ],
      "text/markdown": [
       "\n",
       "A data.frame: 6 × 2\n",
       "\n",
       "| <!--/--> | NID &lt;fct&gt; | DensityCloseFriends &lt;dbl&gt; |\n",
       "|---|---|---|\n",
       "| 1 | 1  | 0.0005430616 |\n",
       "| 2 | 2  | 0.0008209813 |\n",
       "| 3 | 4  | 0.0009838725 |\n",
       "| 4 | 5  | 0.0007545272 |\n",
       "| 5 | 7  | 0.0006226650 |\n",
       "| 6 | 11 | 0.0003512068 |\n",
       "\n"
      ],
      "text/plain": [
       "  NID DensityCloseFriends\n",
       "1 1   0.0005430616       \n",
       "2 2   0.0008209813       \n",
       "3 4   0.0009838725       \n",
       "4 5   0.0007545272       \n",
       "5 7   0.0006226650       \n",
       "6 11  0.0003512068       "
      ]
     },
     "metadata": {},
     "output_type": "display_data"
    }
   ],
   "source": [
    "density_close_friends = density %>%\n",
    "    filter(Network == 'CloseFrds') %>%\n",
    "    select(NID, Density) %>%\n",
    "    arrange(NID)\n",
    "names(density_close_friends) = c('NID', 'DensityCloseFriends')\n",
    "head(density_close_friends)"
   ]
  },
  {
   "cell_type": "code",
   "execution_count": 23,
   "metadata": {},
   "outputs": [
    {
     "data": {
      "text/html": [
       "<table>\n",
       "<caption>A data.frame: 6 × 2</caption>\n",
       "<thead>\n",
       "\t<tr><th></th><th scope=col>NID</th><th scope=col>DensityBadNews</th></tr>\n",
       "\t<tr><th></th><th scope=col>&lt;fct&gt;</th><th scope=col>&lt;dbl&gt;</th></tr>\n",
       "</thead>\n",
       "<tbody>\n",
       "\t<tr><th scope=row>1</th><td>1 </td><td>0.0003078994</td></tr>\n",
       "\t<tr><th scope=row>2</th><td>2 </td><td>0.0007001956</td></tr>\n",
       "\t<tr><th scope=row>3</th><td>4 </td><td>0.0005728361</td></tr>\n",
       "\t<tr><th scope=row>4</th><td>5 </td><td>0.0005513034</td></tr>\n",
       "\t<tr><th scope=row>5</th><td>7 </td><td>0.0003902446</td></tr>\n",
       "\t<tr><th scope=row>6</th><td>11</td><td>0.0002327147</td></tr>\n",
       "</tbody>\n",
       "</table>\n"
      ],
      "text/latex": [
       "A data.frame: 6 × 2\n",
       "\\begin{tabular}{r|ll}\n",
       "  & NID & DensityBadNews\\\\\n",
       "  & <fct> & <dbl>\\\\\n",
       "\\hline\n",
       "\t1 & 1  & 0.0003078994\\\\\n",
       "\t2 & 2  & 0.0007001956\\\\\n",
       "\t3 & 4  & 0.0005728361\\\\\n",
       "\t4 & 5  & 0.0005513034\\\\\n",
       "\t5 & 7  & 0.0003902446\\\\\n",
       "\t6 & 11 & 0.0002327147\\\\\n",
       "\\end{tabular}\n"
      ],
      "text/markdown": [
       "\n",
       "A data.frame: 6 × 2\n",
       "\n",
       "| <!--/--> | NID &lt;fct&gt; | DensityBadNews &lt;dbl&gt; |\n",
       "|---|---|---|\n",
       "| 1 | 1  | 0.0003078994 |\n",
       "| 2 | 2  | 0.0007001956 |\n",
       "| 3 | 4  | 0.0005728361 |\n",
       "| 4 | 5  | 0.0005513034 |\n",
       "| 5 | 7  | 0.0003902446 |\n",
       "| 6 | 11 | 0.0002327147 |\n",
       "\n"
      ],
      "text/plain": [
       "  NID DensityBadNews\n",
       "1 1   0.0003078994  \n",
       "2 2   0.0007001956  \n",
       "3 4   0.0005728361  \n",
       "4 5   0.0005513034  \n",
       "5 7   0.0003902446  \n",
       "6 11  0.0002327147  "
      ]
     },
     "metadata": {},
     "output_type": "display_data"
    }
   ],
   "source": [
    "density_bad_news = density %>%\n",
    "    filter(Network == 'NegEmoSupp') %>%\n",
    "    select(NID, Density) %>%\n",
    "    arrange(NID)\n",
    "names(density_bad_news) = c('NID', 'DensityBadNews')\n",
    "head(density_bad_news)"
   ]
  },
  {
   "cell_type": "code",
   "execution_count": 24,
   "metadata": {},
   "outputs": [
    {
     "data": {
      "text/html": [
       "<table>\n",
       "<caption>A data.frame: 6 × 17</caption>\n",
       "<thead>\n",
       "\t<tr><th></th><th scope=col>NID</th><th scope=col>Age</th><th scope=col>ParentEducationMax</th><th scope=col>FinclAid</th><th scope=col>FmlyIncome</th><th scope=col>Gender</th><th scope=col>Race</th><th scope=col>Ambient_empathy</th><th scope=col>Wellbeing_fall</th><th scope=col>Wellbeing_spring</th><th scope=col>ParentEducationMax_dorm</th><th scope=col>FmlyIncome_dorm</th><th scope=col>Extraversion_dorm</th><th scope=col>Agreeableness_dorm</th><th scope=col>Openness_dorm</th><th scope=col>Empathic_Concern_dorm</th><th scope=col>Wellbeing_fall_dorm</th></tr>\n",
       "\t<tr><th></th><th scope=col>&lt;dbl&gt;</th><th scope=col>&lt;dbl&gt;</th><th scope=col>&lt;dbl&gt;</th><th scope=col>&lt;dbl&gt;</th><th scope=col>&lt;dbl&gt;</th><th scope=col>&lt;fct&gt;</th><th scope=col>&lt;fct&gt;</th><th scope=col>&lt;dbl&gt;</th><th scope=col>&lt;dbl&gt;</th><th scope=col>&lt;dbl&gt;</th><th scope=col>&lt;dbl&gt;</th><th scope=col>&lt;dbl&gt;</th><th scope=col>&lt;dbl&gt;</th><th scope=col>&lt;dbl&gt;</th><th scope=col>&lt;dbl&gt;</th><th scope=col>&lt;dbl&gt;</th><th scope=col>&lt;dbl&gt;</th></tr>\n",
       "</thead>\n",
       "<tbody>\n",
       "\t<tr><th scope=row>1</th><td> 7</td><td>18</td><td>4.0</td><td>0</td><td> 87500</td><td>M</td><td>white      </td><td>-0.7154534</td><td>-2.06354788</td><td>-0.76535414</td><td>3.282609</td><td>128875.0</td><td>4.326087</td><td>4.826087</td><td>5.478261</td><td>2.579710</td><td> 0.06902635</td></tr>\n",
       "\t<tr><th scope=row>2</th><td>11</td><td>18</td><td>3.5</td><td>1</td><td>125000</td><td>F</td><td>south_asian</td><td>-0.8199099</td><td>-0.01143413</td><td>-0.04997158</td><td>3.166667</td><td>107142.9</td><td>3.800000</td><td>4.633333</td><td>5.400000</td><td>2.655556</td><td> 0.14734051</td></tr>\n",
       "\t<tr><th scope=row>3</th><td> 9</td><td>18</td><td>4.0</td><td>1</td><td>125000</td><td>M</td><td>white      </td><td>-0.8994971</td><td> 0.91965600</td><td> 0.66541099</td><td>3.416667</td><td>124500.0</td><td>2.250000</td><td>5.083333</td><td>6.250000</td><td>2.583333</td><td>-0.09749154</td></tr>\n",
       "\t<tr><th scope=row>4</th><td> 4</td><td>18</td><td>4.0</td><td>0</td><td>200000</td><td>F</td><td>east_asian </td><td>-1.1070464</td><td> 0.65342017</td><td> 0.48656535</td><td>3.338710</td><td>118958.3</td><td>3.203125</td><td>4.968750</td><td>4.890625</td><td>2.645833</td><td>-0.04213750</td></tr>\n",
       "\t<tr><th scope=row>5</th><td> 5</td><td>18</td><td>2.5</td><td>1</td><td>125000</td><td>M</td><td>south_asian</td><td>-0.4873343</td><td> 0.69839160</td><td>-0.04997158</td><td>3.352941</td><td>119642.9</td><td>3.617647</td><td>5.147059</td><td>5.176471</td><td>2.782353</td><td> 0.05322856</td></tr>\n",
       "\t<tr><th scope=row>6</th><td>13</td><td>18</td><td>4.0</td><td>1</td><td> 45000</td><td>F</td><td>east_asian </td><td>-0.9818706</td><td> 0.04290417</td><td>-0.13939440</td><td>3.200000</td><td>105625.0</td><td>3.300000</td><td>4.475000</td><td>5.250000</td><td>2.516667</td><td>-0.30415259</td></tr>\n",
       "</tbody>\n",
       "</table>\n"
      ],
      "text/latex": [
       "A data.frame: 6 × 17\n",
       "\\begin{tabular}{r|lllllllllllllllll}\n",
       "  & NID & Age & ParentEducationMax & FinclAid & FmlyIncome & Gender & Race & Ambient\\_empathy & Wellbeing\\_fall & Wellbeing\\_spring & ParentEducationMax\\_dorm & FmlyIncome\\_dorm & Extraversion\\_dorm & Agreeableness\\_dorm & Openness\\_dorm & Empathic\\_Concern\\_dorm & Wellbeing\\_fall\\_dorm\\\\\n",
       "  & <dbl> & <dbl> & <dbl> & <dbl> & <dbl> & <fct> & <fct> & <dbl> & <dbl> & <dbl> & <dbl> & <dbl> & <dbl> & <dbl> & <dbl> & <dbl> & <dbl>\\\\\n",
       "\\hline\n",
       "\t1 &  7 & 18 & 4.0 & 0 &  87500 & M & white       & -0.7154534 & -2.06354788 & -0.76535414 & 3.282609 & 128875.0 & 4.326087 & 4.826087 & 5.478261 & 2.579710 &  0.06902635\\\\\n",
       "\t2 & 11 & 18 & 3.5 & 1 & 125000 & F & south\\_asian & -0.8199099 & -0.01143413 & -0.04997158 & 3.166667 & 107142.9 & 3.800000 & 4.633333 & 5.400000 & 2.655556 &  0.14734051\\\\\n",
       "\t3 &  9 & 18 & 4.0 & 1 & 125000 & M & white       & -0.8994971 &  0.91965600 &  0.66541099 & 3.416667 & 124500.0 & 2.250000 & 5.083333 & 6.250000 & 2.583333 & -0.09749154\\\\\n",
       "\t4 &  4 & 18 & 4.0 & 0 & 200000 & F & east\\_asian  & -1.1070464 &  0.65342017 &  0.48656535 & 3.338710 & 118958.3 & 3.203125 & 4.968750 & 4.890625 & 2.645833 & -0.04213750\\\\\n",
       "\t5 &  5 & 18 & 2.5 & 1 & 125000 & M & south\\_asian & -0.4873343 &  0.69839160 & -0.04997158 & 3.352941 & 119642.9 & 3.617647 & 5.147059 & 5.176471 & 2.782353 &  0.05322856\\\\\n",
       "\t6 & 13 & 18 & 4.0 & 1 &  45000 & F & east\\_asian  & -0.9818706 &  0.04290417 & -0.13939440 & 3.200000 & 105625.0 & 3.300000 & 4.475000 & 5.250000 & 2.516667 & -0.30415259\\\\\n",
       "\\end{tabular}\n"
      ],
      "text/markdown": [
       "\n",
       "A data.frame: 6 × 17\n",
       "\n",
       "| <!--/--> | NID &lt;dbl&gt; | Age &lt;dbl&gt; | ParentEducationMax &lt;dbl&gt; | FinclAid &lt;dbl&gt; | FmlyIncome &lt;dbl&gt; | Gender &lt;fct&gt; | Race &lt;fct&gt; | Ambient_empathy &lt;dbl&gt; | Wellbeing_fall &lt;dbl&gt; | Wellbeing_spring &lt;dbl&gt; | ParentEducationMax_dorm &lt;dbl&gt; | FmlyIncome_dorm &lt;dbl&gt; | Extraversion_dorm &lt;dbl&gt; | Agreeableness_dorm &lt;dbl&gt; | Openness_dorm &lt;dbl&gt; | Empathic_Concern_dorm &lt;dbl&gt; | Wellbeing_fall_dorm &lt;dbl&gt; |\n",
       "|---|---|---|---|---|---|---|---|---|---|---|---|---|---|---|---|---|---|\n",
       "| 1 |  7 | 18 | 4.0 | 0 |  87500 | M | white       | -0.7154534 | -2.06354788 | -0.76535414 | 3.282609 | 128875.0 | 4.326087 | 4.826087 | 5.478261 | 2.579710 |  0.06902635 |\n",
       "| 2 | 11 | 18 | 3.5 | 1 | 125000 | F | south_asian | -0.8199099 | -0.01143413 | -0.04997158 | 3.166667 | 107142.9 | 3.800000 | 4.633333 | 5.400000 | 2.655556 |  0.14734051 |\n",
       "| 3 |  9 | 18 | 4.0 | 1 | 125000 | M | white       | -0.8994971 |  0.91965600 |  0.66541099 | 3.416667 | 124500.0 | 2.250000 | 5.083333 | 6.250000 | 2.583333 | -0.09749154 |\n",
       "| 4 |  4 | 18 | 4.0 | 0 | 200000 | F | east_asian  | -1.1070464 |  0.65342017 |  0.48656535 | 3.338710 | 118958.3 | 3.203125 | 4.968750 | 4.890625 | 2.645833 | -0.04213750 |\n",
       "| 5 |  5 | 18 | 2.5 | 1 | 125000 | M | south_asian | -0.4873343 |  0.69839160 | -0.04997158 | 3.352941 | 119642.9 | 3.617647 | 5.147059 | 5.176471 | 2.782353 |  0.05322856 |\n",
       "| 6 | 13 | 18 | 4.0 | 1 |  45000 | F | east_asian  | -0.9818706 |  0.04290417 | -0.13939440 | 3.200000 | 105625.0 | 3.300000 | 4.475000 | 5.250000 | 2.516667 | -0.30415259 |\n",
       "\n"
      ],
      "text/plain": [
       "  NID Age ParentEducationMax FinclAid FmlyIncome Gender Race        Ambient_empathy Wellbeing_fall Wellbeing_spring ParentEducationMax_dorm FmlyIncome_dorm Extraversion_dorm Agreeableness_dorm\n",
       "1  7  18  4.0                0         87500     M      white       -0.7154534      -2.06354788    -0.76535414      3.282609                128875.0        4.326087          4.826087          \n",
       "2 11  18  3.5                1        125000     F      south_asian -0.8199099      -0.01143413    -0.04997158      3.166667                107142.9        3.800000          4.633333          \n",
       "3  9  18  4.0                1        125000     M      white       -0.8994971       0.91965600     0.66541099      3.416667                124500.0        2.250000          5.083333          \n",
       "4  4  18  4.0                0        200000     F      east_asian  -1.1070464       0.65342017     0.48656535      3.338710                118958.3        3.203125          4.968750          \n",
       "5  5  18  2.5                1        125000     M      south_asian -0.4873343       0.69839160    -0.04997158      3.352941                119642.9        3.617647          5.147059          \n",
       "6 13  18  4.0                1         45000     F      east_asian  -0.9818706       0.04290417    -0.13939440      3.200000                105625.0        3.300000          4.475000          \n",
       "  Openness_dorm Empathic_Concern_dorm Wellbeing_fall_dorm\n",
       "1 5.478261      2.579710               0.06902635        \n",
       "2 5.400000      2.655556               0.14734051        \n",
       "3 6.250000      2.583333              -0.09749154        \n",
       "4 4.890625      2.645833              -0.04213750        \n",
       "5 5.176471      2.782353               0.05322856        \n",
       "6 5.250000      2.516667              -0.30415259        "
      ]
     },
     "metadata": {},
     "output_type": "display_data"
    }
   ],
   "source": [
    "head(df)"
   ]
  },
  {
   "cell_type": "code",
   "execution_count": 25,
   "metadata": {},
   "outputs": [
    {
     "data": {
      "text/html": [
       "<table>\n",
       "<caption>A data.frame: 5 × 19</caption>\n",
       "<thead>\n",
       "\t<tr><th></th><th scope=col>NID</th><th scope=col>Age</th><th scope=col>ParentEducationMax</th><th scope=col>FinclAid</th><th scope=col>FmlyIncome</th><th scope=col>Gender</th><th scope=col>Race</th><th scope=col>Ambient_empathy</th><th scope=col>Wellbeing_fall</th><th scope=col>Wellbeing_spring</th><th scope=col>ParentEducationMax_dorm</th><th scope=col>FmlyIncome_dorm</th><th scope=col>Extraversion_dorm</th><th scope=col>Agreeableness_dorm</th><th scope=col>Openness_dorm</th><th scope=col>Empathic_Concern_dorm</th><th scope=col>Wellbeing_fall_dorm</th><th scope=col>DensityCloseFriends</th><th scope=col>DensityBadNews</th></tr>\n",
       "\t<tr><th></th><th scope=col>&lt;dbl&gt;</th><th scope=col>&lt;dbl&gt;</th><th scope=col>&lt;dbl&gt;</th><th scope=col>&lt;dbl&gt;</th><th scope=col>&lt;dbl&gt;</th><th scope=col>&lt;fct&gt;</th><th scope=col>&lt;fct&gt;</th><th scope=col>&lt;dbl&gt;</th><th scope=col>&lt;dbl&gt;</th><th scope=col>&lt;dbl&gt;</th><th scope=col>&lt;dbl&gt;</th><th scope=col>&lt;dbl&gt;</th><th scope=col>&lt;dbl&gt;</th><th scope=col>&lt;dbl&gt;</th><th scope=col>&lt;dbl&gt;</th><th scope=col>&lt;dbl&gt;</th><th scope=col>&lt;dbl&gt;</th><th scope=col>&lt;dbl&gt;</th><th scope=col>&lt;dbl&gt;</th></tr>\n",
       "</thead>\n",
       "<tbody>\n",
       "\t<tr><th scope=row>182</th><td>13</td><td>19</td><td>4.0</td><td>0</td><td>200000</td><td>M</td><td>south_asian   </td><td>-1.1293960</td><td>0.1701663</td><td>-0.6759313</td><td>3.20000</td><td>105625.0</td><td>3.300000</td><td>4.47500</td><td>5.250000</td><td>2.516667</td><td>-0.3041526</td><td>0.0003007478</td><td>0.0002094053</td></tr>\n",
       "\t<tr><th scope=row>187</th><td>13</td><td>21</td><td>2.0</td><td>1</td><td> 15000</td><td>F</td><td>white         </td><td>-0.9155707</td><td>0.7005555</td><td> 1.4702164</td><td>3.20000</td><td>105625.0</td><td>3.300000</td><td>4.47500</td><td>5.250000</td><td>2.516667</td><td>-0.3041526</td><td>0.0003007478</td><td>0.0002094053</td></tr>\n",
       "\t<tr><th scope=row>67</th><td> 4</td><td>19</td><td>3.0</td><td>1</td><td>125000</td><td>M</td><td>other_or_mixed</td><td>-1.4032829</td><td>1.4900067</td><td> 0.6654110</td><td>3.33871</td><td>118958.3</td><td>3.203125</td><td>4.96875</td><td>4.890625</td><td>2.645833</td><td>-0.0421375</td><td>0.0009838725</td><td>0.0005728361</td></tr>\n",
       "\t<tr><th scope=row>196</th><td>15</td><td>18</td><td>3.0</td><td>0</td><td>200000</td><td>F</td><td>other_or_mixed</td><td>-0.6247803</td><td>0.4924800</td><td> 0.1288741</td><td>3.62500</td><td>139166.7</td><td>4.062500</td><td>5.12500</td><td>5.218750</td><td>2.697917</td><td> 0.4387861</td><td>0.0009849339</td><td>0.0002895259</td></tr>\n",
       "\t<tr><th scope=row>40</th><td> 4</td><td>18</td><td>2.5</td><td>0</td><td>200000</td><td>M</td><td>other_or_mixed</td><td>-0.2582699</td><td>0.4014799</td><td> 1.2913707</td><td>3.33871</td><td>118958.3</td><td>3.203125</td><td>4.96875</td><td>4.890625</td><td>2.645833</td><td>-0.0421375</td><td>0.0009838725</td><td>0.0005728361</td></tr>\n",
       "</tbody>\n",
       "</table>\n"
      ],
      "text/latex": [
       "A data.frame: 5 × 19\n",
       "\\begin{tabular}{r|lllllllllllllllllll}\n",
       "  & NID & Age & ParentEducationMax & FinclAid & FmlyIncome & Gender & Race & Ambient\\_empathy & Wellbeing\\_fall & Wellbeing\\_spring & ParentEducationMax\\_dorm & FmlyIncome\\_dorm & Extraversion\\_dorm & Agreeableness\\_dorm & Openness\\_dorm & Empathic\\_Concern\\_dorm & Wellbeing\\_fall\\_dorm & DensityCloseFriends & DensityBadNews\\\\\n",
       "  & <dbl> & <dbl> & <dbl> & <dbl> & <dbl> & <fct> & <fct> & <dbl> & <dbl> & <dbl> & <dbl> & <dbl> & <dbl> & <dbl> & <dbl> & <dbl> & <dbl> & <dbl> & <dbl>\\\\\n",
       "\\hline\n",
       "\t182 & 13 & 19 & 4.0 & 0 & 200000 & M & south\\_asian    & -1.1293960 & 0.1701663 & -0.6759313 & 3.20000 & 105625.0 & 3.300000 & 4.47500 & 5.250000 & 2.516667 & -0.3041526 & 0.0003007478 & 0.0002094053\\\\\n",
       "\t187 & 13 & 21 & 2.0 & 1 &  15000 & F & white          & -0.9155707 & 0.7005555 &  1.4702164 & 3.20000 & 105625.0 & 3.300000 & 4.47500 & 5.250000 & 2.516667 & -0.3041526 & 0.0003007478 & 0.0002094053\\\\\n",
       "\t67 &  4 & 19 & 3.0 & 1 & 125000 & M & other\\_or\\_mixed & -1.4032829 & 1.4900067 &  0.6654110 & 3.33871 & 118958.3 & 3.203125 & 4.96875 & 4.890625 & 2.645833 & -0.0421375 & 0.0009838725 & 0.0005728361\\\\\n",
       "\t196 & 15 & 18 & 3.0 & 0 & 200000 & F & other\\_or\\_mixed & -0.6247803 & 0.4924800 &  0.1288741 & 3.62500 & 139166.7 & 4.062500 & 5.12500 & 5.218750 & 2.697917 &  0.4387861 & 0.0009849339 & 0.0002895259\\\\\n",
       "\t40 &  4 & 18 & 2.5 & 0 & 200000 & M & other\\_or\\_mixed & -0.2582699 & 0.4014799 &  1.2913707 & 3.33871 & 118958.3 & 3.203125 & 4.96875 & 4.890625 & 2.645833 & -0.0421375 & 0.0009838725 & 0.0005728361\\\\\n",
       "\\end{tabular}\n"
      ],
      "text/markdown": [
       "\n",
       "A data.frame: 5 × 19\n",
       "\n",
       "| <!--/--> | NID &lt;dbl&gt; | Age &lt;dbl&gt; | ParentEducationMax &lt;dbl&gt; | FinclAid &lt;dbl&gt; | FmlyIncome &lt;dbl&gt; | Gender &lt;fct&gt; | Race &lt;fct&gt; | Ambient_empathy &lt;dbl&gt; | Wellbeing_fall &lt;dbl&gt; | Wellbeing_spring &lt;dbl&gt; | ParentEducationMax_dorm &lt;dbl&gt; | FmlyIncome_dorm &lt;dbl&gt; | Extraversion_dorm &lt;dbl&gt; | Agreeableness_dorm &lt;dbl&gt; | Openness_dorm &lt;dbl&gt; | Empathic_Concern_dorm &lt;dbl&gt; | Wellbeing_fall_dorm &lt;dbl&gt; | DensityCloseFriends &lt;dbl&gt; | DensityBadNews &lt;dbl&gt; |\n",
       "|---|---|---|---|---|---|---|---|---|---|---|---|---|---|---|---|---|---|---|---|\n",
       "| 182 | 13 | 19 | 4.0 | 0 | 200000 | M | south_asian    | -1.1293960 | 0.1701663 | -0.6759313 | 3.20000 | 105625.0 | 3.300000 | 4.47500 | 5.250000 | 2.516667 | -0.3041526 | 0.0003007478 | 0.0002094053 |\n",
       "| 187 | 13 | 21 | 2.0 | 1 |  15000 | F | white          | -0.9155707 | 0.7005555 |  1.4702164 | 3.20000 | 105625.0 | 3.300000 | 4.47500 | 5.250000 | 2.516667 | -0.3041526 | 0.0003007478 | 0.0002094053 |\n",
       "| 67 |  4 | 19 | 3.0 | 1 | 125000 | M | other_or_mixed | -1.4032829 | 1.4900067 |  0.6654110 | 3.33871 | 118958.3 | 3.203125 | 4.96875 | 4.890625 | 2.645833 | -0.0421375 | 0.0009838725 | 0.0005728361 |\n",
       "| 196 | 15 | 18 | 3.0 | 0 | 200000 | F | other_or_mixed | -0.6247803 | 0.4924800 |  0.1288741 | 3.62500 | 139166.7 | 4.062500 | 5.12500 | 5.218750 | 2.697917 |  0.4387861 | 0.0009849339 | 0.0002895259 |\n",
       "| 40 |  4 | 18 | 2.5 | 0 | 200000 | M | other_or_mixed | -0.2582699 | 0.4014799 |  1.2913707 | 3.33871 | 118958.3 | 3.203125 | 4.96875 | 4.890625 | 2.645833 | -0.0421375 | 0.0009838725 | 0.0005728361 |\n",
       "\n"
      ],
      "text/plain": [
       "    NID Age ParentEducationMax FinclAid FmlyIncome Gender Race           Ambient_empathy Wellbeing_fall Wellbeing_spring ParentEducationMax_dorm FmlyIncome_dorm Extraversion_dorm Agreeableness_dorm\n",
       "182 13  19  4.0                0        200000     M      south_asian    -1.1293960      0.1701663      -0.6759313       3.20000                 105625.0        3.300000          4.47500           \n",
       "187 13  21  2.0                1         15000     F      white          -0.9155707      0.7005555       1.4702164       3.20000                 105625.0        3.300000          4.47500           \n",
       "67   4  19  3.0                1        125000     M      other_or_mixed -1.4032829      1.4900067       0.6654110       3.33871                 118958.3        3.203125          4.96875           \n",
       "196 15  18  3.0                0        200000     F      other_or_mixed -0.6247803      0.4924800       0.1288741       3.62500                 139166.7        4.062500          5.12500           \n",
       "40   4  18  2.5                0        200000     M      other_or_mixed -0.2582699      0.4014799       1.2913707       3.33871                 118958.3        3.203125          4.96875           \n",
       "    Openness_dorm Empathic_Concern_dorm Wellbeing_fall_dorm DensityCloseFriends DensityBadNews\n",
       "182 5.250000      2.516667              -0.3041526          0.0003007478        0.0002094053  \n",
       "187 5.250000      2.516667              -0.3041526          0.0003007478        0.0002094053  \n",
       "67  4.890625      2.645833              -0.0421375          0.0009838725        0.0005728361  \n",
       "196 5.218750      2.697917               0.4387861          0.0009849339        0.0002895259  \n",
       "40  4.890625      2.645833              -0.0421375          0.0009838725        0.0005728361  "
      ]
     },
     "metadata": {},
     "output_type": "display_data"
    }
   ],
   "source": [
    "df = merge(df, density_close_friends, on=\"NID\", all.x=TRUE)\n",
    "df = merge(df, density_bad_news, on=\"NID\", all.x=TRUE)\n",
    "df[sample(nrow(df), 5), ]"
   ]
  },
  {
   "cell_type": "code",
   "execution_count": 26,
   "metadata": {},
   "outputs": [
    {
     "name": "stdout",
     "output_type": "stream",
     "text": [
      "[1] \"Wellbeing_spring  ~ Wellbeing_fall + DensityCloseFriends + DensityBadNews\"\n"
     ]
    },
    {
     "data": {
      "text/html": [
       "<table>\n",
       "<caption>A anova: 4 × 4</caption>\n",
       "<thead>\n",
       "\t<tr><th></th><th scope=col>Sum Sq</th><th scope=col>Df</th><th scope=col>F value</th><th scope=col>Pr(&gt;F)</th></tr>\n",
       "\t<tr><th></th><th scope=col>&lt;dbl&gt;</th><th scope=col>&lt;dbl&gt;</th><th scope=col>&lt;dbl&gt;</th><th scope=col>&lt;dbl&gt;</th></tr>\n",
       "</thead>\n",
       "<tbody>\n",
       "\t<tr><th scope=row>Wellbeing_fall</th><td> 80.8884733</td><td>  1</td><td>138.2354347</td><td>1.328048e-24</td></tr>\n",
       "\t<tr><th scope=row>DensityCloseFriends</th><td>  0.2824642</td><td>  1</td><td>  0.4827209</td><td>4.879988e-01</td></tr>\n",
       "\t<tr><th scope=row>DensityBadNews</th><td>  0.2814723</td><td>  1</td><td>  0.4810258</td><td>4.887628e-01</td></tr>\n",
       "\t<tr><th scope=row>Residuals</th><td>117.0300126</td><td>200</td><td>         NA</td><td>          NA</td></tr>\n",
       "</tbody>\n",
       "</table>\n"
      ],
      "text/latex": [
       "A anova: 4 × 4\n",
       "\\begin{tabular}{r|llll}\n",
       "  & Sum Sq & Df & F value & Pr(>F)\\\\\n",
       "  & <dbl> & <dbl> & <dbl> & <dbl>\\\\\n",
       "\\hline\n",
       "\tWellbeing\\_fall &  80.8884733 &   1 & 138.2354347 & 1.328048e-24\\\\\n",
       "\tDensityCloseFriends &   0.2824642 &   1 &   0.4827209 & 4.879988e-01\\\\\n",
       "\tDensityBadNews &   0.2814723 &   1 &   0.4810258 & 4.887628e-01\\\\\n",
       "\tResiduals & 117.0300126 & 200 &          NA &           NA\\\\\n",
       "\\end{tabular}\n"
      ],
      "text/markdown": [
       "\n",
       "A anova: 4 × 4\n",
       "\n",
       "| <!--/--> | Sum Sq &lt;dbl&gt; | Df &lt;dbl&gt; | F value &lt;dbl&gt; | Pr(&gt;F) &lt;dbl&gt; |\n",
       "|---|---|---|---|---|\n",
       "| Wellbeing_fall |  80.8884733 |   1 | 138.2354347 | 1.328048e-24 |\n",
       "| DensityCloseFriends |   0.2824642 |   1 |   0.4827209 | 4.879988e-01 |\n",
       "| DensityBadNews |   0.2814723 |   1 |   0.4810258 | 4.887628e-01 |\n",
       "| Residuals | 117.0300126 | 200 |          NA |           NA |\n",
       "\n"
      ],
      "text/plain": [
       "                    Sum Sq      Df  F value     Pr(>F)      \n",
       "Wellbeing_fall       80.8884733   1 138.2354347 1.328048e-24\n",
       "DensityCloseFriends   0.2824642   1   0.4827209 4.879988e-01\n",
       "DensityBadNews        0.2814723   1   0.4810258 4.887628e-01\n",
       "Residuals           117.0300126 200          NA           NA"
      ]
     },
     "metadata": {},
     "output_type": "display_data"
    }
   ],
   "source": [
    "eq = paste(base_equation, '+ DensityCloseFriends + DensityBadNews')\n",
    "print(eq)\n",
    "Anova(lm(as.formula(eq), data=df))"
   ]
  },
  {
   "cell_type": "markdown",
   "metadata": {},
   "source": [
    "### Mixed models - using dorm-level network densities"
   ]
  },
  {
   "cell_type": "code",
   "execution_count": 27,
   "metadata": {},
   "outputs": [
    {
     "name": "stdout",
     "output_type": "stream",
     "text": [
      "[1] \"Wellbeing_spring  ~ Wellbeing_fall + DensityCloseFriends + DensityBadNews + (1|NID)\"\n"
     ]
    },
    {
     "name": "stderr",
     "output_type": "stream",
     "text": [
      "Warning message:\n",
      "“Some predictor variables are on very different scales: consider rescaling”\n",
      "Warning message:\n",
      "“Some predictor variables are on very different scales: consider rescaling”\n"
     ]
    },
    {
     "data": {
      "text/plain": [
       "Linear mixed model fit by REML. t-tests use Satterthwaite's method ['lmerModLmerTest']\n",
       "Formula: as.formula(eq)\n",
       "   Data: df\n",
       "\n",
       "REML criterion at convergence: 446.2\n",
       "\n",
       "Scaled residuals: \n",
       "    Min      1Q  Median      3Q     Max \n",
       "-3.3057 -0.5628  0.0565  0.6419  3.5304 \n",
       "\n",
       "Random effects:\n",
       " Groups   Name        Variance Std.Dev.\n",
       " NID      (Intercept) 0.01497  0.1223  \n",
       " Residual             0.57457  0.7580  \n",
       "Number of obs: 204, groups:  NID, 11\n",
       "\n",
       "Fixed effects:\n",
       "                     Estimate Std. Error        df t value Pr(>|t|)    \n",
       "(Intercept)          -0.27675    0.19344   7.79851  -1.431    0.191    \n",
       "Wellbeing_fall        0.62695    0.05381 198.42100  11.650   <2e-16 ***\n",
       "DensityCloseFriends 260.03515  386.71276   8.03601   0.672    0.520    \n",
       "DensityBadNews      282.51068  547.82028   7.33256   0.516    0.621    \n",
       "---\n",
       "Signif. codes:  0 ‘***’ 0.001 ‘**’ 0.01 ‘*’ 0.05 ‘.’ 0.1 ‘ ’ 1\n",
       "\n",
       "Correlation of Fixed Effects:\n",
       "            (Intr) Wllbn_ DnstCF\n",
       "Wellbng_fll  0.077              \n",
       "DnstyClsFrn -0.530 -0.089       \n",
       "DenstyBdNws -0.189  0.034 -0.697\n",
       "fit warnings:\n",
       "Some predictor variables are on very different scales: consider rescaling"
      ]
     },
     "metadata": {},
     "output_type": "display_data"
    }
   ],
   "source": [
    "eq = paste(base_equation, '+ DensityCloseFriends + DensityBadNews + (1|NID)')\n",
    "print(eq)\n",
    "model5 = lmer(as.formula(eq), data=df, REML=TRUE)\n",
    "summary(model5)"
   ]
  },
  {
   "cell_type": "markdown",
   "metadata": {},
   "source": [
    "### Add even-more dorm-level covariates"
   ]
  },
  {
   "cell_type": "code",
   "execution_count": 28,
   "metadata": {},
   "outputs": [
    {
     "name": "stdout",
     "output_type": "stream",
     "text": [
      "[1] \"Wellbeing_spring  ~ Wellbeing_fall + ParentEducationMax_dorm + FmlyIncome_dorm + Extraversion_dorm + Agreeableness_dorm + Openness_dorm + Empathic_Concern_dorm + Wellbeing_fall_dorm + DensityCloseFriends + DensityBadNews + (1|NID)\"\n"
     ]
    },
    {
     "name": "stderr",
     "output_type": "stream",
     "text": [
      "Warning message:\n",
      "“Some predictor variables are on very different scales: consider rescaling”\n",
      "boundary (singular) fit: see ?isSingular\n",
      "\n",
      "Warning message:\n",
      "“Some predictor variables are on very different scales: consider rescaling”\n"
     ]
    },
    {
     "data": {
      "text/plain": [
       "Linear mixed model fit by REML. t-tests use Satterthwaite's method ['lmerModLmerTest']\n",
       "Formula: as.formula(eq)\n",
       "   Data: df\n",
       "\n",
       "REML criterion at convergence: 455\n",
       "\n",
       "Scaled residuals: \n",
       "    Min      1Q  Median      3Q     Max \n",
       "-3.2460 -0.5452  0.0890  0.6379  3.2261 \n",
       "\n",
       "Random effects:\n",
       " Groups   Name        Variance Std.Dev.\n",
       " NID      (Intercept) 0.0000   0.0000  \n",
       " Residual             0.5744   0.7579  \n",
       "Number of obs: 204, groups:  NID, 11\n",
       "\n",
       "Fixed effects:\n",
       "                          Estimate Std. Error         df t value Pr(>|t|)    \n",
       "(Intercept)              9.346e-01  3.993e+00  1.930e+02   0.234    0.815    \n",
       "Wellbeing_fall           6.102e-01  5.437e-02  1.930e+02  11.223   <2e-16 ***\n",
       "ParentEducationMax_dorm -2.883e-01  1.906e+00  1.930e+02  -0.151    0.880    \n",
       "FmlyIncome_dorm          2.812e-05  4.189e-05  1.930e+02   0.671    0.503    \n",
       "Extraversion_dorm       -2.083e-01  4.924e-01  1.930e+02  -0.423    0.673    \n",
       "Agreeableness_dorm      -1.626e+00  1.791e+00  1.930e+02  -0.908    0.365    \n",
       "Openness_dorm           -1.194e-01  2.767e-01  1.930e+02  -0.431    0.667    \n",
       "Empathic_Concern_dorm    2.163e+00  3.210e+00  1.930e+02   0.674    0.501    \n",
       "Wellbeing_fall_dorm      9.021e-01  5.471e-01  1.930e+02   1.649    0.101    \n",
       "DensityCloseFriends     -4.300e+02  7.698e+02  1.930e+02  -0.559    0.577    \n",
       "DensityBadNews           1.381e+03  8.840e+02  1.930e+02   1.562    0.120    \n",
       "---\n",
       "Signif. codes:  0 ‘***’ 0.001 ‘**’ 0.01 ‘*’ 0.05 ‘.’ 0.1 ‘ ’ 1\n",
       "\n",
       "Correlation of Fixed Effects:\n",
       "            (Intr) Wllbn_ PrnEM_ FmlyI_ Extrv_ Agrbl_ Opnns_ Emp_C_ Wllb__ DnstCF\n",
       "Wellbng_fll  0.000                                                               \n",
       "PrntEdctnM_ -0.736  0.000                                                        \n",
       "FmlyIncm_dr  0.552  0.000 -0.880                                                 \n",
       "Extrvrsn_dr -0.627  0.000  0.812 -0.929                                          \n",
       "Agrblnss_dr -0.567  0.000  0.799 -0.939  0.933                                   \n",
       "Opennss_drm -0.135  0.000 -0.168 -0.063  0.066  0.002                            \n",
       "Empthc_Cnc_  0.475  0.000 -0.823  0.961 -0.927 -0.978  0.019                     \n",
       "Wllbng_fll_  0.504 -0.099 -0.371  0.452 -0.650 -0.589 -0.157  0.537              \n",
       "DnstyClsFrn  0.347  0.000 -0.353  0.006 -0.013 -0.085  0.677  0.042 -0.130       \n",
       "DenstyBdNws -0.122  0.000 -0.018  0.416 -0.392 -0.422 -0.487  0.430  0.307 -0.762\n",
       "fit warnings:\n",
       "Some predictor variables are on very different scales: consider rescaling\n",
       "convergence code: 0\n",
       "boundary (singular) fit: see ?isSingular\n"
      ]
     },
     "metadata": {},
     "output_type": "display_data"
    }
   ],
   "source": [
    "eq = base_equation\n",
    "for (col in names(df)) {\n",
    "    if (endsWith(col, '_dorm')) {\n",
    "        eq = paste(eq, '+', col)\n",
    "    }\n",
    "}\n",
    "eq = paste(eq, '+ DensityCloseFriends + DensityBadNews + (1|NID)')\n",
    "print(eq)\n",
    "model7 = lmer(as.formula(eq), data=df, REML=TRUE)\n",
    "summary(model7)"
   ]
  },
  {
   "cell_type": "code",
   "execution_count": null,
   "metadata": {},
   "outputs": [],
   "source": []
  }
 ],
 "metadata": {
  "kernelspec": {
   "display_name": "R",
   "language": "R",
   "name": "r-3.6.2"
  },
  "language_info": {
   "codemirror_mode": "r",
   "file_extension": ".r",
   "mimetype": "text/x-r-source",
   "name": "R",
   "pygments_lexer": "r",
   "version": "3.6.2"
  },
  "toc": {
   "base_numbering": 1,
   "nav_menu": {},
   "number_sections": true,
   "sideBar": true,
   "skip_h1_title": true,
   "title_cell": "Table of Contents",
   "title_sidebar": "Contents",
   "toc_cell": true,
   "toc_position": {},
   "toc_section_display": true,
   "toc_window_display": true
  }
 },
 "nbformat": 4,
 "nbformat_minor": 2
}

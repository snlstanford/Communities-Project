{
 "cells": [
  {
   "cell_type": "markdown",
   "metadata": {},
   "source": [
    "# Does your dorm matter for your well-being?\n",
    "\n",
    "We build models to predict:\n",
    "1. Spring well-being from fall well-being\n",
    "1. Spring well-being from fall well-being, demographic items (age, family income, family education, race, gender), and ambient empathy\n",
    "1. Same, plus random effects by dorm.\n",
    "\n",
    "# Results:\n",
    "- Demographics and ambient empathy do not improve model\n",
    "- Random effect model does not improve fit, and no variance is apportioned to the dorm level"
   ]
  },
  {
   "cell_type": "markdown",
   "metadata": {
    "toc": true
   },
   "source": [
    "<h1>Table of Contents<span class=\"tocSkip\"></span></h1>\n",
    "<div class=\"toc\"><ul class=\"toc-item\"><li><span><a href=\"#Configuration\" data-toc-modified-id=\"Configuration-1\"><span class=\"toc-item-num\">1&nbsp;&nbsp;</span>Configuration</a></span></li><li><span><a href=\"#Import-and-load\" data-toc-modified-id=\"Import-and-load-2\"><span class=\"toc-item-num\">2&nbsp;&nbsp;</span>Import and load</a></span></li><li><span><a href=\"#Quick-summary-of-whole-dorm-well-beings\" data-toc-modified-id=\"Quick-summary-of-whole-dorm-well-beings-3\"><span class=\"toc-item-num\">3&nbsp;&nbsp;</span>Quick summary of whole-dorm well-beings</a></span></li><li><span><a href=\"#Standard-regression-models-(not-mixed)\" data-toc-modified-id=\"Standard-regression-models-(not-mixed)-4\"><span class=\"toc-item-num\">4&nbsp;&nbsp;</span>Standard regression models (not mixed)</a></span><ul class=\"toc-item\"><li><span><a href=\"#Base-model,-minimal-predictors\" data-toc-modified-id=\"Base-model,-minimal-predictors-4.1\"><span class=\"toc-item-num\">4.1&nbsp;&nbsp;</span>Base model, minimal predictors</a></span></li><li><span><a href=\"#Add-demographic-covariates\" data-toc-modified-id=\"Add-demographic-covariates-4.2\"><span class=\"toc-item-num\">4.2&nbsp;&nbsp;</span>Add demographic covariates</a></span></li><li><span><a href=\"#Is-this-a-significant-improvement?-(No)\" data-toc-modified-id=\"Is-this-a-significant-improvement?-(No)-4.3\"><span class=\"toc-item-num\">4.3&nbsp;&nbsp;</span>Is this a significant improvement? (No)</a></span></li></ul></li><li><span><a href=\"#Mixed-effect-models\" data-toc-modified-id=\"Mixed-effect-models-5\"><span class=\"toc-item-num\">5&nbsp;&nbsp;</span>Mixed effect models</a></span><ul class=\"toc-item\"><li><span><a href=\"#REML-model-to-accurately-determine-variance-apportioned-to-dorm-(zero)\" data-toc-modified-id=\"REML-model-to-accurately-determine-variance-apportioned-to-dorm-(zero)-5.1\"><span class=\"toc-item-num\">5.1&nbsp;&nbsp;</span>REML model to accurately determine variance apportioned to dorm (zero)</a></span></li><li><span><a href=\"#REML=false-model-to-maximize-predictive-value.-Is-this-a-significant-improvement-over-the-non-mixed-model?-(No)\" data-toc-modified-id=\"REML=false-model-to-maximize-predictive-value.-Is-this-a-significant-improvement-over-the-non-mixed-model?-(No)-5.2\"><span class=\"toc-item-num\">5.2&nbsp;&nbsp;</span>REML=false model to maximize predictive value. Is this a significant improvement over the non-mixed model? (No)</a></span></li></ul></li><li><span><a href=\"#Bring-in-network-density-to-the-mixed-model\" data-toc-modified-id=\"Bring-in-network-density-to-the-mixed-model-6\"><span class=\"toc-item-num\">6&nbsp;&nbsp;</span>Bring in network density to the mixed model</a></span><ul class=\"toc-item\"><li><span><a href=\"#Prepare-the-data\" data-toc-modified-id=\"Prepare-the-data-6.1\"><span class=\"toc-item-num\">6.1&nbsp;&nbsp;</span>Prepare the data</a></span></li><li><span><a href=\"#Mixed-models---REML\" data-toc-modified-id=\"Mixed-models---REML-6.2\"><span class=\"toc-item-num\">6.2&nbsp;&nbsp;</span>Mixed models - REML</a></span></li><li><span><a href=\"#Add-even-more-dorm-level-covariates\" data-toc-modified-id=\"Add-even-more-dorm-level-covariates-6.3\"><span class=\"toc-item-num\">6.3&nbsp;&nbsp;</span>Add even-more dorm-level covariates</a></span></li></ul></li></ul></div>"
   ]
  },
  {
   "cell_type": "markdown",
   "metadata": {},
   "source": [
    "## Configuration"
   ]
  },
  {
   "cell_type": "code",
   "execution_count": 1,
   "metadata": {},
   "outputs": [],
   "source": [
    "DATA_FILE = 'data/postprocessed/final_for_analysis_R.csv'\n",
    "\n",
    "IMPUTE_MISSING = TRUE\n",
    "INCLUDE_FALL_WB_AS_PREDICTOR = TRUE\n",
    "INCLUDE_DEMOS_AS_PREDICTOR = TRUE\n",
    "# DV = 'Wellbeing_fall'\n",
    "DV = 'Wellbeing_spring'\n",
    "\n",
    "if (INCLUDE_FALL_WB_AS_PREDICTOR) {\n",
    "    stopifnot(DV == 'Wellbeing_spring')\n",
    "}"
   ]
  },
  {
   "cell_type": "markdown",
   "metadata": {},
   "source": [
    "## Import and load"
   ]
  },
  {
   "cell_type": "code",
   "execution_count": 2,
   "metadata": {},
   "outputs": [
    {
     "name": "stderr",
     "output_type": "stream",
     "text": [
      "Loading required package: carData\n",
      "\n",
      "── \u001b[1mAttaching packages\u001b[22m ─────────────────────────────────────── tidyverse 1.3.0 ──\n",
      "\n",
      "\u001b[32m✔\u001b[39m \u001b[34mggplot2\u001b[39m 3.2.1     \u001b[32m✔\u001b[39m \u001b[34mpurrr  \u001b[39m 0.3.3\n",
      "\u001b[32m✔\u001b[39m \u001b[34mtibble \u001b[39m 2.1.3     \u001b[32m✔\u001b[39m \u001b[34mdplyr  \u001b[39m 0.8.3\n",
      "\u001b[32m✔\u001b[39m \u001b[34mtidyr  \u001b[39m 1.0.0     \u001b[32m✔\u001b[39m \u001b[34mstringr\u001b[39m 1.4.0\n",
      "\u001b[32m✔\u001b[39m \u001b[34mreadr  \u001b[39m 1.3.1     \u001b[32m✔\u001b[39m \u001b[34mforcats\u001b[39m 0.4.0\n",
      "\n",
      "── \u001b[1mConflicts\u001b[22m ────────────────────────────────────────── tidyverse_conflicts() ──\n",
      "\u001b[31m✖\u001b[39m \u001b[34mdplyr\u001b[39m::\u001b[32marrange()\u001b[39m   masks \u001b[34mplyr\u001b[39m::arrange()\n",
      "\u001b[31m✖\u001b[39m \u001b[34mpurrr\u001b[39m::\u001b[32mcompact()\u001b[39m   masks \u001b[34mplyr\u001b[39m::compact()\n",
      "\u001b[31m✖\u001b[39m \u001b[34mdplyr\u001b[39m::\u001b[32mcount()\u001b[39m     masks \u001b[34mplyr\u001b[39m::count()\n",
      "\u001b[31m✖\u001b[39m \u001b[34mdplyr\u001b[39m::\u001b[32mfailwith()\u001b[39m  masks \u001b[34mplyr\u001b[39m::failwith()\n",
      "\u001b[31m✖\u001b[39m \u001b[34mdplyr\u001b[39m::\u001b[32mfilter()\u001b[39m    masks \u001b[34mstats\u001b[39m::filter()\n",
      "\u001b[31m✖\u001b[39m \u001b[34mdplyr\u001b[39m::\u001b[32mid()\u001b[39m        masks \u001b[34mplyr\u001b[39m::id()\n",
      "\u001b[31m✖\u001b[39m \u001b[34mdplyr\u001b[39m::\u001b[32mlag()\u001b[39m       masks \u001b[34mstats\u001b[39m::lag()\n",
      "\u001b[31m✖\u001b[39m \u001b[34mdplyr\u001b[39m::\u001b[32mmutate()\u001b[39m    masks \u001b[34mplyr\u001b[39m::mutate()\n",
      "\u001b[31m✖\u001b[39m \u001b[34mdplyr\u001b[39m::\u001b[32mrecode()\u001b[39m    masks \u001b[34mcar\u001b[39m::recode()\n",
      "\u001b[31m✖\u001b[39m \u001b[34mdplyr\u001b[39m::\u001b[32mrename()\u001b[39m    masks \u001b[34mplyr\u001b[39m::rename()\n",
      "\u001b[31m✖\u001b[39m \u001b[34mpurrr\u001b[39m::\u001b[32msome()\u001b[39m      masks \u001b[34mcar\u001b[39m::some()\n",
      "\u001b[31m✖\u001b[39m \u001b[34mdplyr\u001b[39m::\u001b[32msummarise()\u001b[39m masks \u001b[34mplyr\u001b[39m::summarise()\n",
      "\u001b[31m✖\u001b[39m \u001b[34mdplyr\u001b[39m::\u001b[32msummarize()\u001b[39m masks \u001b[34mplyr\u001b[39m::summarize()\n",
      "\n",
      "Loading required package: lattice\n",
      "\n",
      "Registered S3 methods overwritten by 'lme4':\n",
      "  method                          from\n",
      "  cooks.distance.influence.merMod car \n",
      "  influence.merMod                car \n",
      "  dfbeta.influence.merMod         car \n",
      "  dfbetas.influence.merMod        car \n",
      "\n",
      "\n",
      "Attaching package: ‘mice’\n",
      "\n",
      "\n",
      "The following object is masked from ‘package:tidyr’:\n",
      "\n",
      "    complete\n",
      "\n",
      "\n",
      "The following objects are masked from ‘package:base’:\n",
      "\n",
      "    cbind, rbind\n",
      "\n",
      "\n",
      "\n",
      "Attaching package: ‘nlme’\n",
      "\n",
      "\n",
      "The following object is masked from ‘package:dplyr’:\n",
      "\n",
      "    collapse\n",
      "\n",
      "\n",
      "Loading required package: Matrix\n",
      "\n",
      "\n",
      "Attaching package: ‘Matrix’\n",
      "\n",
      "\n",
      "The following objects are masked from ‘package:tidyr’:\n",
      "\n",
      "    expand, pack, unpack\n",
      "\n",
      "\n",
      "\n",
      "Attaching package: ‘lme4’\n",
      "\n",
      "\n",
      "The following object is masked from ‘package:nlme’:\n",
      "\n",
      "    lmList\n",
      "\n",
      "\n",
      "\n",
      "Attaching package: ‘lmerTest’\n",
      "\n",
      "\n",
      "The following object is masked from ‘package:lme4’:\n",
      "\n",
      "    lmer\n",
      "\n",
      "\n",
      "The following object is masked from ‘package:stats’:\n",
      "\n",
      "    step\n",
      "\n",
      "\n"
     ]
    }
   ],
   "source": [
    "library(car)\n",
    "library(plyr)\n",
    "library(tidyverse)\n",
    "library(hexbin)\n",
    "library(mice)\n",
    "library(nlme)\n",
    "library(lme4)\n",
    "library(lmerTest)\n",
    "\n",
    "options(width=200)"
   ]
  },
  {
   "cell_type": "code",
   "execution_count": 3,
   "metadata": {},
   "outputs": [
    {
     "data": {
      "text/html": [
       "<ol class=list-inline>\n",
       "\t<li>204</li>\n",
       "\t<li>17</li>\n",
       "</ol>\n"
      ],
      "text/latex": [
       "\\begin{enumerate*}\n",
       "\\item 204\n",
       "\\item 17\n",
       "\\end{enumerate*}\n"
      ],
      "text/markdown": [
       "1. 204\n",
       "2. 17\n",
       "\n",
       "\n"
      ],
      "text/plain": [
       "[1] 204  17"
      ]
     },
     "metadata": {},
     "output_type": "display_data"
    },
    {
     "data": {
      "text/html": [
       "<table>\n",
       "<caption>A data.frame: 6 × 17</caption>\n",
       "<thead>\n",
       "\t<tr><th></th><th scope=col>NID</th><th scope=col>Age</th><th scope=col>ParentEducationMax</th><th scope=col>FinclAid</th><th scope=col>FmlyIncome</th><th scope=col>Gender</th><th scope=col>Race</th><th scope=col>Ambient_empathy</th><th scope=col>Wellbeing_fall</th><th scope=col>Wellbeing_spring</th><th scope=col>Wellbeing_fall_dorm</th><th scope=col>ParentEducationMax_dorm</th><th scope=col>FmlyIncome_dorm</th><th scope=col>Extraversion_dorm</th><th scope=col>Agreeableness_dorm</th><th scope=col>Openness_dorm</th><th scope=col>Empathic_Concern_dorm</th></tr>\n",
       "\t<tr><th></th><th scope=col>&lt;dbl&gt;</th><th scope=col>&lt;dbl&gt;</th><th scope=col>&lt;dbl&gt;</th><th scope=col>&lt;dbl&gt;</th><th scope=col>&lt;dbl&gt;</th><th scope=col>&lt;fct&gt;</th><th scope=col>&lt;fct&gt;</th><th scope=col>&lt;dbl&gt;</th><th scope=col>&lt;dbl&gt;</th><th scope=col>&lt;dbl&gt;</th><th scope=col>&lt;dbl&gt;</th><th scope=col>&lt;dbl&gt;</th><th scope=col>&lt;dbl&gt;</th><th scope=col>&lt;dbl&gt;</th><th scope=col>&lt;dbl&gt;</th><th scope=col>&lt;dbl&gt;</th><th scope=col>&lt;dbl&gt;</th></tr>\n",
       "</thead>\n",
       "<tbody>\n",
       "\t<tr><th scope=row>vgxlTMkQs5</th><td> 7</td><td>18</td><td>4.0</td><td>0</td><td> 87500</td><td>M</td><td>white      </td><td>-0.7154534</td><td>-2.06354788</td><td>-0.76535414</td><td> 0.16596155</td><td>3.250000</td><td>131052.6</td><td>4.340909</td><td>4.863636</td><td>5.477273</td><td>2.598485</td></tr>\n",
       "\t<tr><th scope=row>M9obKkDvc0</th><td>11</td><td>18</td><td>3.5</td><td>1</td><td>    NA</td><td>F</td><td>south_asian</td><td>-0.8199099</td><td>-0.01143413</td><td>-0.04997158</td><td> 0.15868155</td><td>3.142857</td><td>107142.9</td><td>3.642857</td><td>4.642857</td><td>5.428571</td><td>2.642857</td></tr>\n",
       "\t<tr><th scope=row>RdS4vMvQjo</th><td> 9</td><td>18</td><td>4.0</td><td>1</td><td>125000</td><td>M</td><td>white      </td><td>-0.8994971</td><td> 0.91965600</td><td> 0.66541099</td><td>-0.30092105</td><td>3.300000</td><td>124375.0</td><td>2.100000</td><td>4.900000</td><td>6.200000</td><td>2.600000</td></tr>\n",
       "\t<tr><th scope=row>n08loMfJH7</th><td> 4</td><td>18</td><td>4.0</td><td>0</td><td>200000</td><td>F</td><td>east_asian </td><td>        NA</td><td> 0.65342017</td><td> 0.48656535</td><td>-0.06457484</td><td>3.316667</td><td>115434.8</td><td>3.177419</td><td>4.951613</td><td>4.838710</td><td>2.639785</td></tr>\n",
       "\t<tr><th scope=row>8rsekwqjFy</th><td> 5</td><td>18</td><td>2.5</td><td>1</td><td>125000</td><td>M</td><td>south_asian</td><td>-0.4873343</td><td> 0.69839160</td><td>-0.04997158</td><td> 0.01290587</td><td>3.406250</td><td>119230.8</td><td>3.562500</td><td>5.156250</td><td>5.125000</td><td>2.789583</td></tr>\n",
       "\t<tr><th scope=row>FjTWohEryS</th><td>13</td><td>18</td><td>4.0</td><td>1</td><td> 45000</td><td>F</td><td>east_asian </td><td>        NA</td><td> 0.04290417</td><td>-0.13939440</td><td>-0.32241874</td><td>3.157895</td><td>108815.8</td><td>3.263158</td><td>4.500000</td><td>5.210526</td><td>2.500000</td></tr>\n",
       "</tbody>\n",
       "</table>\n"
      ],
      "text/latex": [
       "A data.frame: 6 × 17\n",
       "\\begin{tabular}{r|lllllllllllllllll}\n",
       "  & NID & Age & ParentEducationMax & FinclAid & FmlyIncome & Gender & Race & Ambient\\_empathy & Wellbeing\\_fall & Wellbeing\\_spring & Wellbeing\\_fall\\_dorm & ParentEducationMax\\_dorm & FmlyIncome\\_dorm & Extraversion\\_dorm & Agreeableness\\_dorm & Openness\\_dorm & Empathic\\_Concern\\_dorm\\\\\n",
       "  & <dbl> & <dbl> & <dbl> & <dbl> & <dbl> & <fct> & <fct> & <dbl> & <dbl> & <dbl> & <dbl> & <dbl> & <dbl> & <dbl> & <dbl> & <dbl> & <dbl>\\\\\n",
       "\\hline\n",
       "\tvgxlTMkQs5 &  7 & 18 & 4.0 & 0 &  87500 & M & white       & -0.7154534 & -2.06354788 & -0.76535414 &  0.16596155 & 3.250000 & 131052.6 & 4.340909 & 4.863636 & 5.477273 & 2.598485\\\\\n",
       "\tM9obKkDvc0 & 11 & 18 & 3.5 & 1 &     NA & F & south\\_asian & -0.8199099 & -0.01143413 & -0.04997158 &  0.15868155 & 3.142857 & 107142.9 & 3.642857 & 4.642857 & 5.428571 & 2.642857\\\\\n",
       "\tRdS4vMvQjo &  9 & 18 & 4.0 & 1 & 125000 & M & white       & -0.8994971 &  0.91965600 &  0.66541099 & -0.30092105 & 3.300000 & 124375.0 & 2.100000 & 4.900000 & 6.200000 & 2.600000\\\\\n",
       "\tn08loMfJH7 &  4 & 18 & 4.0 & 0 & 200000 & F & east\\_asian  &         NA &  0.65342017 &  0.48656535 & -0.06457484 & 3.316667 & 115434.8 & 3.177419 & 4.951613 & 4.838710 & 2.639785\\\\\n",
       "\t8rsekwqjFy &  5 & 18 & 2.5 & 1 & 125000 & M & south\\_asian & -0.4873343 &  0.69839160 & -0.04997158 &  0.01290587 & 3.406250 & 119230.8 & 3.562500 & 5.156250 & 5.125000 & 2.789583\\\\\n",
       "\tFjTWohEryS & 13 & 18 & 4.0 & 1 &  45000 & F & east\\_asian  &         NA &  0.04290417 & -0.13939440 & -0.32241874 & 3.157895 & 108815.8 & 3.263158 & 4.500000 & 5.210526 & 2.500000\\\\\n",
       "\\end{tabular}\n"
      ],
      "text/markdown": [
       "\n",
       "A data.frame: 6 × 17\n",
       "\n",
       "| <!--/--> | NID &lt;dbl&gt; | Age &lt;dbl&gt; | ParentEducationMax &lt;dbl&gt; | FinclAid &lt;dbl&gt; | FmlyIncome &lt;dbl&gt; | Gender &lt;fct&gt; | Race &lt;fct&gt; | Ambient_empathy &lt;dbl&gt; | Wellbeing_fall &lt;dbl&gt; | Wellbeing_spring &lt;dbl&gt; | Wellbeing_fall_dorm &lt;dbl&gt; | ParentEducationMax_dorm &lt;dbl&gt; | FmlyIncome_dorm &lt;dbl&gt; | Extraversion_dorm &lt;dbl&gt; | Agreeableness_dorm &lt;dbl&gt; | Openness_dorm &lt;dbl&gt; | Empathic_Concern_dorm &lt;dbl&gt; |\n",
       "|---|---|---|---|---|---|---|---|---|---|---|---|---|---|---|---|---|---|\n",
       "| vgxlTMkQs5 |  7 | 18 | 4.0 | 0 |  87500 | M | white       | -0.7154534 | -2.06354788 | -0.76535414 |  0.16596155 | 3.250000 | 131052.6 | 4.340909 | 4.863636 | 5.477273 | 2.598485 |\n",
       "| M9obKkDvc0 | 11 | 18 | 3.5 | 1 |     NA | F | south_asian | -0.8199099 | -0.01143413 | -0.04997158 |  0.15868155 | 3.142857 | 107142.9 | 3.642857 | 4.642857 | 5.428571 | 2.642857 |\n",
       "| RdS4vMvQjo |  9 | 18 | 4.0 | 1 | 125000 | M | white       | -0.8994971 |  0.91965600 |  0.66541099 | -0.30092105 | 3.300000 | 124375.0 | 2.100000 | 4.900000 | 6.200000 | 2.600000 |\n",
       "| n08loMfJH7 |  4 | 18 | 4.0 | 0 | 200000 | F | east_asian  |         NA |  0.65342017 |  0.48656535 | -0.06457484 | 3.316667 | 115434.8 | 3.177419 | 4.951613 | 4.838710 | 2.639785 |\n",
       "| 8rsekwqjFy |  5 | 18 | 2.5 | 1 | 125000 | M | south_asian | -0.4873343 |  0.69839160 | -0.04997158 |  0.01290587 | 3.406250 | 119230.8 | 3.562500 | 5.156250 | 5.125000 | 2.789583 |\n",
       "| FjTWohEryS | 13 | 18 | 4.0 | 1 |  45000 | F | east_asian  |         NA |  0.04290417 | -0.13939440 | -0.32241874 | 3.157895 | 108815.8 | 3.263158 | 4.500000 | 5.210526 | 2.500000 |\n",
       "\n"
      ],
      "text/plain": [
       "           NID Age ParentEducationMax FinclAid FmlyIncome Gender Race        Ambient_empathy Wellbeing_fall Wellbeing_spring Wellbeing_fall_dorm ParentEducationMax_dorm FmlyIncome_dorm\n",
       "vgxlTMkQs5  7  18  4.0                0         87500     M      white       -0.7154534      -2.06354788    -0.76535414       0.16596155         3.250000                131052.6       \n",
       "M9obKkDvc0 11  18  3.5                1            NA     F      south_asian -0.8199099      -0.01143413    -0.04997158       0.15868155         3.142857                107142.9       \n",
       "RdS4vMvQjo  9  18  4.0                1        125000     M      white       -0.8994971       0.91965600     0.66541099      -0.30092105         3.300000                124375.0       \n",
       "n08loMfJH7  4  18  4.0                0        200000     F      east_asian          NA       0.65342017     0.48656535      -0.06457484         3.316667                115434.8       \n",
       "8rsekwqjFy  5  18  2.5                1        125000     M      south_asian -0.4873343       0.69839160    -0.04997158       0.01290587         3.406250                119230.8       \n",
       "FjTWohEryS 13  18  4.0                1         45000     F      east_asian          NA       0.04290417    -0.13939440      -0.32241874         3.157895                108815.8       \n",
       "           Extraversion_dorm Agreeableness_dorm Openness_dorm Empathic_Concern_dorm\n",
       "vgxlTMkQs5 4.340909          4.863636           5.477273      2.598485             \n",
       "M9obKkDvc0 3.642857          4.642857           5.428571      2.642857             \n",
       "RdS4vMvQjo 2.100000          4.900000           6.200000      2.600000             \n",
       "n08loMfJH7 3.177419          4.951613           4.838710      2.639785             \n",
       "8rsekwqjFy 3.562500          5.156250           5.125000      2.789583             \n",
       "FjTWohEryS 3.263158          4.500000           5.210526      2.500000             "
      ]
     },
     "metadata": {},
     "output_type": "display_data"
    }
   ],
   "source": [
    "df = read.csv(DATA_FILE, na.strings=c(\"\", \" \", \"NA\"), row.names=1)\n",
    "keep_cols = c(\n",
    "    'NID', 'Age', 'ParentEducationMax',\n",
    "    'FinclAid', 'FmlyIncome', 'Gender', 'Race',\n",
    "    'Ambient_empathy',\n",
    "    'Wellbeing_fall', 'Wellbeing_spring')\n",
    "for (name in names(df)) {\n",
    "    if (endsWith(name, '_dorm')) {\n",
    "        keep_cols = c(keep_cols, name)\n",
    "    }\n",
    "}\n",
    "df = df[,keep_cols]\n",
    "dim(df)\n",
    "head(df)"
   ]
  },
  {
   "cell_type": "code",
   "execution_count": 4,
   "metadata": {},
   "outputs": [
    {
     "name": "stdout",
     "output_type": "stream",
     "text": [
      "[1] \"Imputing missing values\"\n",
      "\n",
      " iter imp variable\n",
      "  1   1  ParentEducationMax  FinclAid  FmlyIncome  Race  Ambient_empathy\n",
      "  1   2  ParentEducationMax  FinclAid  FmlyIncome  Race  Ambient_empathy\n",
      "  1   3  ParentEducationMax  FinclAid  FmlyIncome  Race  Ambient_empathy\n",
      "  1   4  ParentEducationMax  FinclAid  FmlyIncome  Race  Ambient_empathy\n",
      "  1   5  ParentEducationMax  FinclAid  FmlyIncome  Race  Ambient_empathy\n",
      "  2   1  ParentEducationMax  FinclAid  FmlyIncome  Race  Ambient_empathy\n",
      "  2   2  ParentEducationMax  FinclAid  FmlyIncome  Race  Ambient_empathy\n",
      "  2   3  ParentEducationMax  FinclAid  FmlyIncome  Race  Ambient_empathy\n",
      "  2   4  ParentEducationMax  FinclAid  FmlyIncome  Race  Ambient_empathy\n",
      "  2   5  ParentEducationMax  FinclAid  FmlyIncome  Race  Ambient_empathy\n",
      "  3   1  ParentEducationMax  FinclAid  FmlyIncome  Race  Ambient_empathy\n",
      "  3   2  ParentEducationMax  FinclAid  FmlyIncome  Race  Ambient_empathy\n",
      "  3   3  ParentEducationMax  FinclAid  FmlyIncome  Race  Ambient_empathy\n",
      "  3   4  ParentEducationMax  FinclAid  FmlyIncome  Race  Ambient_empathy\n",
      "  3   5  ParentEducationMax  FinclAid  FmlyIncome  Race  Ambient_empathy\n",
      "  4   1  ParentEducationMax  FinclAid  FmlyIncome  Race  Ambient_empathy\n",
      "  4   2  ParentEducationMax  FinclAid  FmlyIncome  Race  Ambient_empathy\n",
      "  4   3  ParentEducationMax  FinclAid  FmlyIncome  Race  Ambient_empathy\n",
      "  4   4  ParentEducationMax  FinclAid  FmlyIncome  Race  Ambient_empathy\n",
      "  4   5  ParentEducationMax  FinclAid  FmlyIncome  Race  Ambient_empathy\n",
      "  5   1  ParentEducationMax  FinclAid  FmlyIncome  Race  Ambient_empathy\n",
      "  5   2  ParentEducationMax  FinclAid  FmlyIncome  Race  Ambient_empathy\n",
      "  5   3  ParentEducationMax  FinclAid  FmlyIncome  Race  Ambient_empathy\n",
      "  5   4  ParentEducationMax  FinclAid  FmlyIncome  Race  Ambient_empathy\n",
      "  5   5  ParentEducationMax  FinclAid  FmlyIncome  Race  Ambient_empathy\n"
     ]
    },
    {
     "data": {
      "text/html": [
       "<table>\n",
       "<caption>A data.frame: 6 × 17</caption>\n",
       "<thead>\n",
       "\t<tr><th></th><th scope=col>NID</th><th scope=col>Age</th><th scope=col>ParentEducationMax</th><th scope=col>FinclAid</th><th scope=col>FmlyIncome</th><th scope=col>Gender</th><th scope=col>Race</th><th scope=col>Ambient_empathy</th><th scope=col>Wellbeing_fall</th><th scope=col>Wellbeing_spring</th><th scope=col>Wellbeing_fall_dorm</th><th scope=col>ParentEducationMax_dorm</th><th scope=col>FmlyIncome_dorm</th><th scope=col>Extraversion_dorm</th><th scope=col>Agreeableness_dorm</th><th scope=col>Openness_dorm</th><th scope=col>Empathic_Concern_dorm</th></tr>\n",
       "\t<tr><th></th><th scope=col>&lt;dbl&gt;</th><th scope=col>&lt;dbl&gt;</th><th scope=col>&lt;dbl&gt;</th><th scope=col>&lt;dbl&gt;</th><th scope=col>&lt;dbl&gt;</th><th scope=col>&lt;fct&gt;</th><th scope=col>&lt;fct&gt;</th><th scope=col>&lt;dbl&gt;</th><th scope=col>&lt;dbl&gt;</th><th scope=col>&lt;dbl&gt;</th><th scope=col>&lt;dbl&gt;</th><th scope=col>&lt;dbl&gt;</th><th scope=col>&lt;dbl&gt;</th><th scope=col>&lt;dbl&gt;</th><th scope=col>&lt;dbl&gt;</th><th scope=col>&lt;dbl&gt;</th><th scope=col>&lt;dbl&gt;</th></tr>\n",
       "</thead>\n",
       "<tbody>\n",
       "\t<tr><th scope=row>1</th><td> 7</td><td>18</td><td>4.0</td><td>0</td><td> 87500</td><td>M</td><td>white      </td><td>-0.7154534</td><td>-2.06354788</td><td>-0.76535414</td><td> 0.16596155</td><td>3.250000</td><td>131052.6</td><td>4.340909</td><td>4.863636</td><td>5.477273</td><td>2.598485</td></tr>\n",
       "\t<tr><th scope=row>2</th><td>11</td><td>18</td><td>3.5</td><td>1</td><td> 62500</td><td>F</td><td>south_asian</td><td>-0.8199099</td><td>-0.01143413</td><td>-0.04997158</td><td> 0.15868155</td><td>3.142857</td><td>107142.9</td><td>3.642857</td><td>4.642857</td><td>5.428571</td><td>2.642857</td></tr>\n",
       "\t<tr><th scope=row>3</th><td> 9</td><td>18</td><td>4.0</td><td>1</td><td>125000</td><td>M</td><td>white      </td><td>-0.8994971</td><td> 0.91965600</td><td> 0.66541099</td><td>-0.30092105</td><td>3.300000</td><td>124375.0</td><td>2.100000</td><td>4.900000</td><td>6.200000</td><td>2.600000</td></tr>\n",
       "\t<tr><th scope=row>4</th><td> 4</td><td>18</td><td>4.0</td><td>0</td><td>200000</td><td>F</td><td>east_asian </td><td>-0.9155707</td><td> 0.65342017</td><td> 0.48656535</td><td>-0.06457484</td><td>3.316667</td><td>115434.8</td><td>3.177419</td><td>4.951613</td><td>4.838710</td><td>2.639785</td></tr>\n",
       "\t<tr><th scope=row>5</th><td> 5</td><td>18</td><td>2.5</td><td>1</td><td>125000</td><td>M</td><td>south_asian</td><td>-0.4873343</td><td> 0.69839160</td><td>-0.04997158</td><td> 0.01290587</td><td>3.406250</td><td>119230.8</td><td>3.562500</td><td>5.156250</td><td>5.125000</td><td>2.789583</td></tr>\n",
       "\t<tr><th scope=row>6</th><td>13</td><td>18</td><td>4.0</td><td>1</td><td> 45000</td><td>F</td><td>east_asian </td><td>-1.2311373</td><td> 0.04290417</td><td>-0.13939440</td><td>-0.32241874</td><td>3.157895</td><td>108815.8</td><td>3.263158</td><td>4.500000</td><td>5.210526</td><td>2.500000</td></tr>\n",
       "</tbody>\n",
       "</table>\n"
      ],
      "text/latex": [
       "A data.frame: 6 × 17\n",
       "\\begin{tabular}{r|lllllllllllllllll}\n",
       "  & NID & Age & ParentEducationMax & FinclAid & FmlyIncome & Gender & Race & Ambient\\_empathy & Wellbeing\\_fall & Wellbeing\\_spring & Wellbeing\\_fall\\_dorm & ParentEducationMax\\_dorm & FmlyIncome\\_dorm & Extraversion\\_dorm & Agreeableness\\_dorm & Openness\\_dorm & Empathic\\_Concern\\_dorm\\\\\n",
       "  & <dbl> & <dbl> & <dbl> & <dbl> & <dbl> & <fct> & <fct> & <dbl> & <dbl> & <dbl> & <dbl> & <dbl> & <dbl> & <dbl> & <dbl> & <dbl> & <dbl>\\\\\n",
       "\\hline\n",
       "\t1 &  7 & 18 & 4.0 & 0 &  87500 & M & white       & -0.7154534 & -2.06354788 & -0.76535414 &  0.16596155 & 3.250000 & 131052.6 & 4.340909 & 4.863636 & 5.477273 & 2.598485\\\\\n",
       "\t2 & 11 & 18 & 3.5 & 1 &  62500 & F & south\\_asian & -0.8199099 & -0.01143413 & -0.04997158 &  0.15868155 & 3.142857 & 107142.9 & 3.642857 & 4.642857 & 5.428571 & 2.642857\\\\\n",
       "\t3 &  9 & 18 & 4.0 & 1 & 125000 & M & white       & -0.8994971 &  0.91965600 &  0.66541099 & -0.30092105 & 3.300000 & 124375.0 & 2.100000 & 4.900000 & 6.200000 & 2.600000\\\\\n",
       "\t4 &  4 & 18 & 4.0 & 0 & 200000 & F & east\\_asian  & -0.9155707 &  0.65342017 &  0.48656535 & -0.06457484 & 3.316667 & 115434.8 & 3.177419 & 4.951613 & 4.838710 & 2.639785\\\\\n",
       "\t5 &  5 & 18 & 2.5 & 1 & 125000 & M & south\\_asian & -0.4873343 &  0.69839160 & -0.04997158 &  0.01290587 & 3.406250 & 119230.8 & 3.562500 & 5.156250 & 5.125000 & 2.789583\\\\\n",
       "\t6 & 13 & 18 & 4.0 & 1 &  45000 & F & east\\_asian  & -1.2311373 &  0.04290417 & -0.13939440 & -0.32241874 & 3.157895 & 108815.8 & 3.263158 & 4.500000 & 5.210526 & 2.500000\\\\\n",
       "\\end{tabular}\n"
      ],
      "text/markdown": [
       "\n",
       "A data.frame: 6 × 17\n",
       "\n",
       "| <!--/--> | NID &lt;dbl&gt; | Age &lt;dbl&gt; | ParentEducationMax &lt;dbl&gt; | FinclAid &lt;dbl&gt; | FmlyIncome &lt;dbl&gt; | Gender &lt;fct&gt; | Race &lt;fct&gt; | Ambient_empathy &lt;dbl&gt; | Wellbeing_fall &lt;dbl&gt; | Wellbeing_spring &lt;dbl&gt; | Wellbeing_fall_dorm &lt;dbl&gt; | ParentEducationMax_dorm &lt;dbl&gt; | FmlyIncome_dorm &lt;dbl&gt; | Extraversion_dorm &lt;dbl&gt; | Agreeableness_dorm &lt;dbl&gt; | Openness_dorm &lt;dbl&gt; | Empathic_Concern_dorm &lt;dbl&gt; |\n",
       "|---|---|---|---|---|---|---|---|---|---|---|---|---|---|---|---|---|---|\n",
       "| 1 |  7 | 18 | 4.0 | 0 |  87500 | M | white       | -0.7154534 | -2.06354788 | -0.76535414 |  0.16596155 | 3.250000 | 131052.6 | 4.340909 | 4.863636 | 5.477273 | 2.598485 |\n",
       "| 2 | 11 | 18 | 3.5 | 1 |  62500 | F | south_asian | -0.8199099 | -0.01143413 | -0.04997158 |  0.15868155 | 3.142857 | 107142.9 | 3.642857 | 4.642857 | 5.428571 | 2.642857 |\n",
       "| 3 |  9 | 18 | 4.0 | 1 | 125000 | M | white       | -0.8994971 |  0.91965600 |  0.66541099 | -0.30092105 | 3.300000 | 124375.0 | 2.100000 | 4.900000 | 6.200000 | 2.600000 |\n",
       "| 4 |  4 | 18 | 4.0 | 0 | 200000 | F | east_asian  | -0.9155707 |  0.65342017 |  0.48656535 | -0.06457484 | 3.316667 | 115434.8 | 3.177419 | 4.951613 | 4.838710 | 2.639785 |\n",
       "| 5 |  5 | 18 | 2.5 | 1 | 125000 | M | south_asian | -0.4873343 |  0.69839160 | -0.04997158 |  0.01290587 | 3.406250 | 119230.8 | 3.562500 | 5.156250 | 5.125000 | 2.789583 |\n",
       "| 6 | 13 | 18 | 4.0 | 1 |  45000 | F | east_asian  | -1.2311373 |  0.04290417 | -0.13939440 | -0.32241874 | 3.157895 | 108815.8 | 3.263158 | 4.500000 | 5.210526 | 2.500000 |\n",
       "\n"
      ],
      "text/plain": [
       "  NID Age ParentEducationMax FinclAid FmlyIncome Gender Race        Ambient_empathy Wellbeing_fall Wellbeing_spring Wellbeing_fall_dorm ParentEducationMax_dorm FmlyIncome_dorm Extraversion_dorm\n",
       "1  7  18  4.0                0         87500     M      white       -0.7154534      -2.06354788    -0.76535414       0.16596155         3.250000                131052.6        4.340909         \n",
       "2 11  18  3.5                1         62500     F      south_asian -0.8199099      -0.01143413    -0.04997158       0.15868155         3.142857                107142.9        3.642857         \n",
       "3  9  18  4.0                1        125000     M      white       -0.8994971       0.91965600     0.66541099      -0.30092105         3.300000                124375.0        2.100000         \n",
       "4  4  18  4.0                0        200000     F      east_asian  -0.9155707       0.65342017     0.48656535      -0.06457484         3.316667                115434.8        3.177419         \n",
       "5  5  18  2.5                1        125000     M      south_asian -0.4873343       0.69839160    -0.04997158       0.01290587         3.406250                119230.8        3.562500         \n",
       "6 13  18  4.0                1         45000     F      east_asian  -1.2311373       0.04290417    -0.13939440      -0.32241874         3.157895                108815.8        3.263158         \n",
       "  Agreeableness_dorm Openness_dorm Empathic_Concern_dorm\n",
       "1 4.863636           5.477273      2.598485             \n",
       "2 4.642857           5.428571      2.642857             \n",
       "3 4.900000           6.200000      2.600000             \n",
       "4 4.951613           4.838710      2.639785             \n",
       "5 5.156250           5.125000      2.789583             \n",
       "6 4.500000           5.210526      2.500000             "
      ]
     },
     "metadata": {},
     "output_type": "display_data"
    }
   ],
   "source": [
    "if (IMPUTE_MISSING) {\n",
    "    print(\"Imputing missing values\")\n",
    "    imp = mice(df)\n",
    "    df = complete(imp)\n",
    "    head(df)\n",
    "} else {\n",
    "    df = na.omit(df)\n",
    "}"
   ]
  },
  {
   "cell_type": "markdown",
   "metadata": {},
   "source": [
    "## Quick summary of whole-dorm well-beings"
   ]
  },
  {
   "cell_type": "code",
   "execution_count": 5,
   "metadata": {},
   "outputs": [
    {
     "data": {
      "text/html": [
       "<table>\n",
       "<caption>A tibble: 11 × 3</caption>\n",
       "<thead>\n",
       "\t<tr><th scope=col>NID</th><th scope=col>wb_fall</th><th scope=col>wb_spring</th></tr>\n",
       "\t<tr><th scope=col>&lt;dbl&gt;</th><th scope=col>&lt;dbl&gt;</th><th scope=col>&lt;dbl&gt;</th></tr>\n",
       "</thead>\n",
       "<tbody>\n",
       "\t<tr><td> 1</td><td> 0.17958135</td><td> 0.43067609</td></tr>\n",
       "\t<tr><td> 2</td><td> 0.10039586</td><td> 0.23049091</td></tr>\n",
       "\t<tr><td> 4</td><td>-0.04213750</td><td> 0.00871215</td></tr>\n",
       "\t<tr><td> 5</td><td> 0.05322856</td><td> 0.01841058</td></tr>\n",
       "\t<tr><td> 7</td><td> 0.06902635</td><td> 0.17164150</td></tr>\n",
       "\t<tr><td> 8</td><td>-0.15094904</td><td>-0.45876161</td></tr>\n",
       "\t<tr><td> 9</td><td>-0.09749154</td><td>-0.34804765</td></tr>\n",
       "\t<tr><td>10</td><td>-0.35117851</td><td>-0.30147326</td></tr>\n",
       "\t<tr><td>11</td><td> 0.14734051</td><td> 0.15272015</td></tr>\n",
       "\t<tr><td>13</td><td>-0.30415259</td><td>-0.49261454</td></tr>\n",
       "\t<tr><td>15</td><td> 0.43878610</td><td> 0.47538750</td></tr>\n",
       "</tbody>\n",
       "</table>\n"
      ],
      "text/latex": [
       "A tibble: 11 × 3\n",
       "\\begin{tabular}{lll}\n",
       " NID & wb\\_fall & wb\\_spring\\\\\n",
       " <dbl> & <dbl> & <dbl>\\\\\n",
       "\\hline\n",
       "\t  1 &  0.17958135 &  0.43067609\\\\\n",
       "\t  2 &  0.10039586 &  0.23049091\\\\\n",
       "\t  4 & -0.04213750 &  0.00871215\\\\\n",
       "\t  5 &  0.05322856 &  0.01841058\\\\\n",
       "\t  7 &  0.06902635 &  0.17164150\\\\\n",
       "\t  8 & -0.15094904 & -0.45876161\\\\\n",
       "\t  9 & -0.09749154 & -0.34804765\\\\\n",
       "\t 10 & -0.35117851 & -0.30147326\\\\\n",
       "\t 11 &  0.14734051 &  0.15272015\\\\\n",
       "\t 13 & -0.30415259 & -0.49261454\\\\\n",
       "\t 15 &  0.43878610 &  0.47538750\\\\\n",
       "\\end{tabular}\n"
      ],
      "text/markdown": [
       "\n",
       "A tibble: 11 × 3\n",
       "\n",
       "| NID &lt;dbl&gt; | wb_fall &lt;dbl&gt; | wb_spring &lt;dbl&gt; |\n",
       "|---|---|---|\n",
       "|  1 |  0.17958135 |  0.43067609 |\n",
       "|  2 |  0.10039586 |  0.23049091 |\n",
       "|  4 | -0.04213750 |  0.00871215 |\n",
       "|  5 |  0.05322856 |  0.01841058 |\n",
       "|  7 |  0.06902635 |  0.17164150 |\n",
       "|  8 | -0.15094904 | -0.45876161 |\n",
       "|  9 | -0.09749154 | -0.34804765 |\n",
       "| 10 | -0.35117851 | -0.30147326 |\n",
       "| 11 |  0.14734051 |  0.15272015 |\n",
       "| 13 | -0.30415259 | -0.49261454 |\n",
       "| 15 |  0.43878610 |  0.47538750 |\n",
       "\n"
      ],
      "text/plain": [
       "   NID wb_fall     wb_spring  \n",
       "1   1   0.17958135  0.43067609\n",
       "2   2   0.10039586  0.23049091\n",
       "3   4  -0.04213750  0.00871215\n",
       "4   5   0.05322856  0.01841058\n",
       "5   7   0.06902635  0.17164150\n",
       "6   8  -0.15094904 -0.45876161\n",
       "7   9  -0.09749154 -0.34804765\n",
       "8  10  -0.35117851 -0.30147326\n",
       "9  11   0.14734051  0.15272015\n",
       "10 13  -0.30415259 -0.49261454\n",
       "11 15   0.43878610  0.47538750"
      ]
     },
     "metadata": {},
     "output_type": "display_data"
    }
   ],
   "source": [
    "df %>% group_by(NID) %>%\n",
    "    summarize(wb_fall = mean(Wellbeing_fall),\n",
    "              wb_spring = mean(Wellbeing_spring))"
   ]
  },
  {
   "cell_type": "markdown",
   "metadata": {},
   "source": [
    "## Standard regression models (not mixed)"
   ]
  },
  {
   "cell_type": "markdown",
   "metadata": {},
   "source": [
    "### Base model, minimal predictors"
   ]
  },
  {
   "cell_type": "code",
   "execution_count": 6,
   "metadata": {},
   "outputs": [
    {
     "name": "stdout",
     "output_type": "stream",
     "text": [
      "[1] \"Wellbeing_spring  ~  1  + Wellbeing_fall\"\n"
     ]
    },
    {
     "data": {
      "text/plain": [
       "\n",
       "Call:\n",
       "lm(formula = as.formula(equation), data = df)\n",
       "\n",
       "Residuals:\n",
       "     Min       1Q   Median       3Q      Max \n",
       "-2.69297 -0.48662  0.06646  0.49158  2.76843 \n",
       "\n",
       "Coefficients:\n",
       "                 Estimate Std. Error t value Pr(>|t|)    \n",
       "(Intercept)    -3.286e-16  5.373e-02    0.00        1    \n",
       "Wellbeing_fall  6.433e-01  5.387e-02   11.94   <2e-16 ***\n",
       "---\n",
       "Signif. codes:  0 ‘***’ 0.001 ‘**’ 0.01 ‘*’ 0.05 ‘.’ 0.1 ‘ ’ 1\n",
       "\n",
       "Residual standard error: 0.7675 on 202 degrees of freedom\n",
       "Multiple R-squared:  0.4139,\tAdjusted R-squared:  0.411 \n",
       "F-statistic: 142.6 on 1 and 202 DF,  p-value: < 2.2e-16\n"
      ]
     },
     "metadata": {},
     "output_type": "display_data"
    }
   ],
   "source": [
    "equation = paste(DV, ' ~  1')\n",
    "if (INCLUDE_FALL_WB_AS_PREDICTOR) {\n",
    "    equation = paste(equation, ' + Wellbeing_fall')\n",
    "}\n",
    "print(equation)\n",
    "model1 = lm(as.formula(equation), df)\n",
    "summary(model1)"
   ]
  },
  {
   "cell_type": "markdown",
   "metadata": {},
   "source": [
    "### Add demographic covariates"
   ]
  },
  {
   "cell_type": "code",
   "execution_count": 7,
   "metadata": {},
   "outputs": [
    {
     "data": {
      "text/html": [
       "<ol class=list-inline>\n",
       "\t<li>'NID'</li>\n",
       "\t<li>'Age'</li>\n",
       "\t<li>'ParentEducationMax'</li>\n",
       "\t<li>'FinclAid'</li>\n",
       "\t<li>'FmlyIncome'</li>\n",
       "\t<li>'Gender'</li>\n",
       "\t<li>'Race'</li>\n",
       "\t<li>'Ambient_empathy'</li>\n",
       "\t<li>'Wellbeing_fall'</li>\n",
       "\t<li>'Wellbeing_spring'</li>\n",
       "\t<li>'Wellbeing_fall_dorm'</li>\n",
       "\t<li>'ParentEducationMax_dorm'</li>\n",
       "\t<li>'FmlyIncome_dorm'</li>\n",
       "\t<li>'Extraversion_dorm'</li>\n",
       "\t<li>'Agreeableness_dorm'</li>\n",
       "\t<li>'Openness_dorm'</li>\n",
       "\t<li>'Empathic_Concern_dorm'</li>\n",
       "</ol>\n"
      ],
      "text/latex": [
       "\\begin{enumerate*}\n",
       "\\item 'NID'\n",
       "\\item 'Age'\n",
       "\\item 'ParentEducationMax'\n",
       "\\item 'FinclAid'\n",
       "\\item 'FmlyIncome'\n",
       "\\item 'Gender'\n",
       "\\item 'Race'\n",
       "\\item 'Ambient\\_empathy'\n",
       "\\item 'Wellbeing\\_fall'\n",
       "\\item 'Wellbeing\\_spring'\n",
       "\\item 'Wellbeing\\_fall\\_dorm'\n",
       "\\item 'ParentEducationMax\\_dorm'\n",
       "\\item 'FmlyIncome\\_dorm'\n",
       "\\item 'Extraversion\\_dorm'\n",
       "\\item 'Agreeableness\\_dorm'\n",
       "\\item 'Openness\\_dorm'\n",
       "\\item 'Empathic\\_Concern\\_dorm'\n",
       "\\end{enumerate*}\n"
      ],
      "text/markdown": [
       "1. 'NID'\n",
       "2. 'Age'\n",
       "3. 'ParentEducationMax'\n",
       "4. 'FinclAid'\n",
       "5. 'FmlyIncome'\n",
       "6. 'Gender'\n",
       "7. 'Race'\n",
       "8. 'Ambient_empathy'\n",
       "9. 'Wellbeing_fall'\n",
       "10. 'Wellbeing_spring'\n",
       "11. 'Wellbeing_fall_dorm'\n",
       "12. 'ParentEducationMax_dorm'\n",
       "13. 'FmlyIncome_dorm'\n",
       "14. 'Extraversion_dorm'\n",
       "15. 'Agreeableness_dorm'\n",
       "16. 'Openness_dorm'\n",
       "17. 'Empathic_Concern_dorm'\n",
       "\n",
       "\n"
      ],
      "text/plain": [
       " [1] \"NID\"                     \"Age\"                     \"ParentEducationMax\"      \"FinclAid\"                \"FmlyIncome\"              \"Gender\"                  \"Race\"                   \n",
       " [8] \"Ambient_empathy\"         \"Wellbeing_fall\"          \"Wellbeing_spring\"        \"Wellbeing_fall_dorm\"     \"ParentEducationMax_dorm\" \"FmlyIncome_dorm\"         \"Extraversion_dorm\"      \n",
       "[15] \"Agreeableness_dorm\"      \"Openness_dorm\"           \"Empathic_Concern_dorm\"  "
      ]
     },
     "metadata": {},
     "output_type": "display_data"
    }
   ],
   "source": [
    "names(df)"
   ]
  },
  {
   "cell_type": "code",
   "execution_count": 8,
   "metadata": {},
   "outputs": [
    {
     "name": "stdout",
     "output_type": "stream",
     "text": [
      "[1] \"Wellbeing_spring  ~  1  + Wellbeing_fall + Age + ParentEducationMax + FinclAid + FmlyIncome + Gender + Race + Ambient_empathy\"\n"
     ]
    },
    {
     "data": {
      "text/plain": [
       "\n",
       "Call:\n",
       "lm(formula = as.formula(equation), data = df)\n",
       "\n",
       "Residuals:\n",
       "     Min       1Q   Median       3Q      Max \n",
       "-2.48098 -0.42960  0.04799  0.50004  2.50902 \n",
       "\n",
       "Coefficients:\n",
       "                     Estimate Std. Error t value Pr(>|t|)    \n",
       "(Intercept)        -3.539e-01  1.062e+00  -0.333    0.739    \n",
       "Wellbeing_fall      6.154e-01  5.628e-02  10.935   <2e-16 ***\n",
       "Age                -5.463e-03  5.308e-02  -0.103    0.918    \n",
       "ParentEducationMax  4.548e-02  9.819e-02   0.463    0.644    \n",
       "FinclAid            5.063e-03  1.429e-01   0.035    0.972    \n",
       "FmlyIncome          1.900e-06  1.079e-06   1.760    0.080 .  \n",
       "GenderM             1.731e-01  1.145e-01   1.512    0.132    \n",
       "Genderother         3.470e-02  3.641e-01   0.095    0.924    \n",
       "Raceeast_asian      6.184e-02  2.275e-01   0.272    0.786    \n",
       "Racehispanic        2.715e-01  2.820e-01   0.963    0.337    \n",
       "Raceother_or_mixed -5.099e-02  2.277e-01  -0.224    0.823    \n",
       "Racesouth_asian    -2.108e-01  3.005e-01  -0.701    0.484    \n",
       "Racewhite           1.990e-01  2.375e-01   0.838    0.403    \n",
       "Ambient_empathy     9.898e-02  7.133e-02   1.388    0.167    \n",
       "---\n",
       "Signif. codes:  0 ‘***’ 0.001 ‘**’ 0.01 ‘*’ 0.05 ‘.’ 0.1 ‘ ’ 1\n",
       "\n",
       "Residual standard error: 0.762 on 190 degrees of freedom\n",
       "Multiple R-squared:  0.4565,\tAdjusted R-squared:  0.4193 \n",
       "F-statistic: 12.28 on 13 and 190 DF,  p-value: < 2.2e-16\n"
      ]
     },
     "metadata": {},
     "output_type": "display_data"
    }
   ],
   "source": [
    "if (INCLUDE_DEMOS_AS_PREDICTOR) {\n",
    "    equation = paste(equation, '+ Age + ParentEducationMax + FinclAid + FmlyIncome + Gender + Race + Ambient_empathy')\n",
    "    print(equation)\n",
    "    model2 = lm(as.formula(equation), df)\n",
    "    summary(model2)\n",
    "} else {\n",
    "    model2 = model1\n",
    "}"
   ]
  },
  {
   "cell_type": "markdown",
   "metadata": {},
   "source": [
    "### Is this a significant improvement? (No)"
   ]
  },
  {
   "cell_type": "code",
   "execution_count": 9,
   "metadata": {},
   "outputs": [
    {
     "data": {
      "text/html": [
       "<table>\n",
       "<caption>A anova: 2 × 6</caption>\n",
       "<thead>\n",
       "\t<tr><th></th><th scope=col>Res.Df</th><th scope=col>RSS</th><th scope=col>Df</th><th scope=col>Sum of Sq</th><th scope=col>F</th><th scope=col>Pr(&gt;F)</th></tr>\n",
       "\t<tr><th></th><th scope=col>&lt;dbl&gt;</th><th scope=col>&lt;dbl&gt;</th><th scope=col>&lt;dbl&gt;</th><th scope=col>&lt;dbl&gt;</th><th scope=col>&lt;dbl&gt;</th><th scope=col>&lt;dbl&gt;</th></tr>\n",
       "</thead>\n",
       "<tbody>\n",
       "\t<tr><th scope=row>1</th><td>202</td><td>118.9815</td><td>NA</td><td>      NA</td><td>      NA</td><td>       NA</td></tr>\n",
       "\t<tr><th scope=row>2</th><td>190</td><td>110.3275</td><td>12</td><td>8.653916</td><td>1.241941</td><td>0.2570723</td></tr>\n",
       "</tbody>\n",
       "</table>\n"
      ],
      "text/latex": [
       "A anova: 2 × 6\n",
       "\\begin{tabular}{r|llllll}\n",
       "  & Res.Df & RSS & Df & Sum of Sq & F & Pr(>F)\\\\\n",
       "  & <dbl> & <dbl> & <dbl> & <dbl> & <dbl> & <dbl>\\\\\n",
       "\\hline\n",
       "\t1 & 202 & 118.9815 & NA &       NA &       NA &        NA\\\\\n",
       "\t2 & 190 & 110.3275 & 12 & 8.653916 & 1.241941 & 0.2570723\\\\\n",
       "\\end{tabular}\n"
      ],
      "text/markdown": [
       "\n",
       "A anova: 2 × 6\n",
       "\n",
       "| <!--/--> | Res.Df &lt;dbl&gt; | RSS &lt;dbl&gt; | Df &lt;dbl&gt; | Sum of Sq &lt;dbl&gt; | F &lt;dbl&gt; | Pr(&gt;F) &lt;dbl&gt; |\n",
       "|---|---|---|---|---|---|---|\n",
       "| 1 | 202 | 118.9815 | NA |       NA |       NA |        NA |\n",
       "| 2 | 190 | 110.3275 | 12 | 8.653916 | 1.241941 | 0.2570723 |\n",
       "\n"
      ],
      "text/plain": [
       "  Res.Df RSS      Df Sum of Sq F        Pr(>F)   \n",
       "1 202    118.9815 NA       NA        NA        NA\n",
       "2 190    110.3275 12 8.653916  1.241941 0.2570723"
      ]
     },
     "metadata": {},
     "output_type": "display_data"
    }
   ],
   "source": [
    "anova(model1, model2)"
   ]
  },
  {
   "cell_type": "markdown",
   "metadata": {},
   "source": [
    "## Mixed effect models"
   ]
  },
  {
   "cell_type": "markdown",
   "metadata": {},
   "source": [
    "### REML model to accurately determine variance apportioned to dorm (zero)"
   ]
  },
  {
   "cell_type": "code",
   "execution_count": 10,
   "metadata": {},
   "outputs": [
    {
     "name": "stderr",
     "output_type": "stream",
     "text": [
      "Warning message:\n",
      "“Some predictor variables are on very different scales: consider rescaling”\n",
      "boundary (singular) fit: see ?isSingular\n",
      "\n",
      "Warning message:\n",
      "“Some predictor variables are on very different scales: consider rescaling”\n",
      "\n",
      "Correlation matrix not shown by default, as p = 14 > 12.\n",
      "Use print(obj, correlation=TRUE)  or\n",
      "    vcov(obj)        if you need it\n",
      "\n",
      "\n"
     ]
    },
    {
     "data": {
      "text/plain": [
       "Linear mixed model fit by REML. t-tests use Satterthwaite's method ['lmerModLmerTest']\n",
       "Formula: as.formula(paste(equation, \"+ (1|NID)\"))\n",
       "   Data: df\n",
       "\n",
       "REML criterion at convergence: 511.6\n",
       "\n",
       "Scaled residuals: \n",
       "    Min      1Q  Median      3Q     Max \n",
       "-3.2558 -0.5638  0.0630  0.6562  3.2926 \n",
       "\n",
       "Random effects:\n",
       " Groups   Name        Variance Std.Dev.\n",
       " NID      (Intercept) 0.0000   0.000   \n",
       " Residual             0.5807   0.762   \n",
       "Number of obs: 204, groups:  NID, 11\n",
       "\n",
       "Fixed effects:\n",
       "                     Estimate Std. Error         df t value Pr(>|t|)    \n",
       "(Intercept)        -3.539e-01  1.062e+00  1.900e+02  -0.333    0.739    \n",
       "Wellbeing_fall      6.154e-01  5.628e-02  1.900e+02  10.935   <2e-16 ***\n",
       "Age                -5.463e-03  5.308e-02  1.900e+02  -0.103    0.918    \n",
       "ParentEducationMax  4.548e-02  9.819e-02  1.900e+02   0.463    0.644    \n",
       "FinclAid            5.063e-03  1.429e-01  1.900e+02   0.035    0.972    \n",
       "FmlyIncome          1.900e-06  1.079e-06  1.900e+02   1.760    0.080 .  \n",
       "GenderM             1.731e-01  1.145e-01  1.900e+02   1.512    0.132    \n",
       "Genderother         3.470e-02  3.641e-01  1.900e+02   0.095    0.924    \n",
       "Raceeast_asian      6.184e-02  2.275e-01  1.900e+02   0.272    0.786    \n",
       "Racehispanic        2.715e-01  2.820e-01  1.900e+02   0.963    0.337    \n",
       "Raceother_or_mixed -5.099e-02  2.277e-01  1.900e+02  -0.224    0.823    \n",
       "Racesouth_asian    -2.108e-01  3.005e-01  1.900e+02  -0.701    0.484    \n",
       "Racewhite           1.990e-01  2.375e-01  1.900e+02   0.838    0.403    \n",
       "Ambient_empathy     9.898e-02  7.133e-02  1.900e+02   1.388    0.167    \n",
       "---\n",
       "Signif. codes:  0 ‘***’ 0.001 ‘**’ 0.01 ‘*’ 0.05 ‘.’ 0.1 ‘ ’ 1\n",
       "fit warnings:\n",
       "Some predictor variables are on very different scales: consider rescaling\n",
       "convergence code: 0\n",
       "boundary (singular) fit: see ?isSingular\n"
      ]
     },
     "metadata": {},
     "output_type": "display_data"
    }
   ],
   "source": [
    "model3 = lmer(as.formula(paste(equation, '+ (1|NID)')), data=df, REML=TRUE)\n",
    "summary(model3)"
   ]
  },
  {
   "cell_type": "markdown",
   "metadata": {},
   "source": [
    "### REML=false model to maximize predictive value. Is this a significant improvement over the non-mixed model? (No)"
   ]
  },
  {
   "cell_type": "code",
   "execution_count": 11,
   "metadata": {},
   "outputs": [
    {
     "name": "stderr",
     "output_type": "stream",
     "text": [
      "Warning message:\n",
      "“Some predictor variables are on very different scales: consider rescaling”\n",
      "boundary (singular) fit: see ?isSingular\n",
      "\n",
      "Warning message:\n",
      "“Some predictor variables are on very different scales: consider rescaling”\n"
     ]
    },
    {
     "data": {
      "text/html": [
       "<table>\n",
       "<caption>A anova: 2 × 8</caption>\n",
       "<thead>\n",
       "\t<tr><th></th><th scope=col>Df</th><th scope=col>AIC</th><th scope=col>BIC</th><th scope=col>logLik</th><th scope=col>deviance</th><th scope=col>Chisq</th><th scope=col>Chi Df</th><th scope=col>Pr(&gt;Chisq)</th></tr>\n",
       "\t<tr><th></th><th scope=col>&lt;dbl&gt;</th><th scope=col>&lt;dbl&gt;</th><th scope=col>&lt;dbl&gt;</th><th scope=col>&lt;dbl&gt;</th><th scope=col>&lt;dbl&gt;</th><th scope=col>&lt;dbl&gt;</th><th scope=col>&lt;dbl&gt;</th><th scope=col>&lt;dbl&gt;</th></tr>\n",
       "</thead>\n",
       "<tbody>\n",
       "\t<tr><th scope=row>model2</th><td>15</td><td>483.535</td><td>533.3068</td><td>-226.7675</td><td>453.535</td><td>NA</td><td>NA</td><td>NA</td></tr>\n",
       "\t<tr><th scope=row>model4</th><td>16</td><td>485.535</td><td>538.6249</td><td>-226.7675</td><td>453.535</td><td> 0</td><td> 1</td><td> 1</td></tr>\n",
       "</tbody>\n",
       "</table>\n"
      ],
      "text/latex": [
       "A anova: 2 × 8\n",
       "\\begin{tabular}{r|llllllll}\n",
       "  & Df & AIC & BIC & logLik & deviance & Chisq & Chi Df & Pr(>Chisq)\\\\\n",
       "  & <dbl> & <dbl> & <dbl> & <dbl> & <dbl> & <dbl> & <dbl> & <dbl>\\\\\n",
       "\\hline\n",
       "\tmodel2 & 15 & 483.535 & 533.3068 & -226.7675 & 453.535 & NA & NA & NA\\\\\n",
       "\tmodel4 & 16 & 485.535 & 538.6249 & -226.7675 & 453.535 &  0 &  1 &  1\\\\\n",
       "\\end{tabular}\n"
      ],
      "text/markdown": [
       "\n",
       "A anova: 2 × 8\n",
       "\n",
       "| <!--/--> | Df &lt;dbl&gt; | AIC &lt;dbl&gt; | BIC &lt;dbl&gt; | logLik &lt;dbl&gt; | deviance &lt;dbl&gt; | Chisq &lt;dbl&gt; | Chi Df &lt;dbl&gt; | Pr(&gt;Chisq) &lt;dbl&gt; |\n",
       "|---|---|---|---|---|---|---|---|---|\n",
       "| model2 | 15 | 483.535 | 533.3068 | -226.7675 | 453.535 | NA | NA | NA |\n",
       "| model4 | 16 | 485.535 | 538.6249 | -226.7675 | 453.535 |  0 |  1 |  1 |\n",
       "\n"
      ],
      "text/plain": [
       "       Df AIC     BIC      logLik    deviance Chisq Chi Df Pr(>Chisq)\n",
       "model2 15 483.535 533.3068 -226.7675 453.535  NA    NA     NA        \n",
       "model4 16 485.535 538.6249 -226.7675 453.535   0     1      1        "
      ]
     },
     "metadata": {},
     "output_type": "display_data"
    }
   ],
   "source": [
    "model4 = lmer(as.formula(paste(equation, '+ (1|NID)')), data=df, REML=FALSE)\n",
    "anova(model4, model2)#, refit=FALSE)"
   ]
  },
  {
   "cell_type": "markdown",
   "metadata": {},
   "source": [
    "## Bring in network density to the mixed model"
   ]
  },
  {
   "cell_type": "markdown",
   "metadata": {},
   "source": [
    "### Prepare the data"
   ]
  },
  {
   "cell_type": "code",
   "execution_count": 12,
   "metadata": {},
   "outputs": [
    {
     "data": {
      "text/html": [
       "<table>\n",
       "<caption>A data.frame: 6 × 3</caption>\n",
       "<thead>\n",
       "\t<tr><th></th><th scope=col>Dorm</th><th scope=col>Network</th><th scope=col>Density</th></tr>\n",
       "\t<tr><th></th><th scope=col>&lt;fct&gt;</th><th scope=col>&lt;fct&gt;</th><th scope=col>&lt;dbl&gt;</th></tr>\n",
       "</thead>\n",
       "<tbody>\n",
       "\t<tr><th scope=row>1</th><td>FroSoCo         </td><td>SpendTime </td><td>0.0008166282</td></tr>\n",
       "\t<tr><th scope=row>2</th><td>Norcliffe&amp;Adelfa</td><td>SocAdvice </td><td>0.0002515091</td></tr>\n",
       "\t<tr><th scope=row>3</th><td><span style=white-space:pre-wrap>Meier&amp;Naranja   </span></td><td><span style=white-space:pre-wrap>EmpSupp   </span></td><td>0.0002639293</td></tr>\n",
       "\t<tr><th scope=row>4</th><td>FroSoCo         </td><td>EmpSupp   </td><td>0.0006054848</td></tr>\n",
       "\t<tr><th scope=row>5</th><td>Okada           </td><td>Persuasive</td><td>0.0001800929</td></tr>\n",
       "\t<tr><th scope=row>6</th><td>JRo             </td><td>NegAffPres</td><td>0.0001459374</td></tr>\n",
       "</tbody>\n",
       "</table>\n"
      ],
      "text/latex": [
       "A data.frame: 6 × 3\n",
       "\\begin{tabular}{r|lll}\n",
       "  & Dorm & Network & Density\\\\\n",
       "  & <fct> & <fct> & <dbl>\\\\\n",
       "\\hline\n",
       "\t1 & FroSoCo          & SpendTime  & 0.0008166282\\\\\n",
       "\t2 & Norcliffe\\&Adelfa & SocAdvice  & 0.0002515091\\\\\n",
       "\t3 & Meier\\&Naranja    & EmpSupp    & 0.0002639293\\\\\n",
       "\t4 & FroSoCo          & EmpSupp    & 0.0006054848\\\\\n",
       "\t5 & Okada            & Persuasive & 0.0001800929\\\\\n",
       "\t6 & JRo              & NegAffPres & 0.0001459374\\\\\n",
       "\\end{tabular}\n"
      ],
      "text/markdown": [
       "\n",
       "A data.frame: 6 × 3\n",
       "\n",
       "| <!--/--> | Dorm &lt;fct&gt; | Network &lt;fct&gt; | Density &lt;dbl&gt; |\n",
       "|---|---|---|---|\n",
       "| 1 | FroSoCo          | SpendTime  | 0.0008166282 |\n",
       "| 2 | Norcliffe&amp;Adelfa | SocAdvice  | 0.0002515091 |\n",
       "| 3 | Meier&amp;Naranja    | EmpSupp    | 0.0002639293 |\n",
       "| 4 | FroSoCo          | EmpSupp    | 0.0006054848 |\n",
       "| 5 | Okada            | Persuasive | 0.0001800929 |\n",
       "| 6 | JRo              | NegAffPres | 0.0001459374 |\n",
       "\n"
      ],
      "text/plain": [
       "  Dorm             Network    Density     \n",
       "1 FroSoCo          SpendTime  0.0008166282\n",
       "2 Norcliffe&Adelfa SocAdvice  0.0002515091\n",
       "3 Meier&Naranja    EmpSupp    0.0002639293\n",
       "4 FroSoCo          EmpSupp    0.0006054848\n",
       "5 Okada            Persuasive 0.0001800929\n",
       "6 JRo              NegAffPres 0.0001459374"
      ]
     },
     "metadata": {},
     "output_type": "display_data"
    }
   ],
   "source": [
    "density = read.csv('data/NetworkDensity2018.csv')\n",
    "density = density[,2:ncol(density)]  # First row is a meaningless row number\n",
    "head(density)"
   ]
  },
  {
   "cell_type": "code",
   "execution_count": 13,
   "metadata": {},
   "outputs": [
    {
     "data": {
      "text/plain": [
       "\n",
       "         Alondra            Cedro          FroSoCo              JRo           Larkin    Meier&Naranja Norcliffe&Adelfa            Okada            Twain           Ujamaa        WestFloMo \n",
       "              12               12               12               12               12               12               12               12               12               12               12 "
      ]
     },
     "metadata": {},
     "output_type": "display_data"
    }
   ],
   "source": [
    "table(density$Dorm)"
   ]
  },
  {
   "cell_type": "code",
   "execution_count": 14,
   "metadata": {},
   "outputs": [
    {
     "name": "stderr",
     "output_type": "stream",
     "text": [
      "The following `from` values were not present in `x`: EAST, Kimball\n",
      "\n"
     ]
    }
   ],
   "source": [
    "density$NID <- mapvalues(\n",
    "    density$Dorm, \n",
    "    from=c(\"Alondra\", \"Cedro\", \"EAST\", \"FroSoCo\", \"JRo\", \"Kimball\", \"Larkin\", \"Okada\", \"Twain\", \"Ujamaa\", \"Meier&Naranja\", \"Norcliffe&Adelfa\", \"WestFloMo\"), \n",
    "    to=c(\"1\", \"2\", \"3\", \"4\", \"5\", \"6\", \"7\", \"8\", \"9\", \"10\", \"11\", \"13\", \"15\"))"
   ]
  },
  {
   "cell_type": "code",
   "execution_count": 15,
   "metadata": {},
   "outputs": [
    {
     "data": {
      "text/plain": [
       "\n",
       " 1  2  4  5  7 11 13  8  9 10 15 \n",
       "12 12 12 12 12 12 12 12 12 12 12 "
      ]
     },
     "metadata": {},
     "output_type": "display_data"
    }
   ],
   "source": [
    "table(density$NID)"
   ]
  },
  {
   "cell_type": "code",
   "execution_count": 16,
   "metadata": {},
   "outputs": [
    {
     "data": {
      "text/plain": [
       "\n",
       " CloseFrds    EmpSupp     Gossip      Liked NegAffPres NegEmoSupp Persuasive PosAffPres PosEmoSupp Responsive  SocAdvice  SpendTime \n",
       "        11         11         11         11         11         11         11         11         11         11         11         11 "
      ]
     },
     "metadata": {},
     "output_type": "display_data"
    }
   ],
   "source": [
    "table(density$Network)"
   ]
  },
  {
   "cell_type": "code",
   "execution_count": 17,
   "metadata": {},
   "outputs": [
    {
     "data": {
      "text/html": [
       "<table>\n",
       "<caption>A data.frame: 6 × 2</caption>\n",
       "<thead>\n",
       "\t<tr><th></th><th scope=col>NID</th><th scope=col>DensityCloseFriends</th></tr>\n",
       "\t<tr><th></th><th scope=col>&lt;fct&gt;</th><th scope=col>&lt;dbl&gt;</th></tr>\n",
       "</thead>\n",
       "<tbody>\n",
       "\t<tr><th scope=row>1</th><td>1 </td><td>0.0005430616</td></tr>\n",
       "\t<tr><th scope=row>2</th><td>2 </td><td>0.0008209813</td></tr>\n",
       "\t<tr><th scope=row>3</th><td>4 </td><td>0.0009838725</td></tr>\n",
       "\t<tr><th scope=row>4</th><td>5 </td><td>0.0007545272</td></tr>\n",
       "\t<tr><th scope=row>5</th><td>7 </td><td>0.0006226650</td></tr>\n",
       "\t<tr><th scope=row>6</th><td>11</td><td>0.0003512068</td></tr>\n",
       "</tbody>\n",
       "</table>\n"
      ],
      "text/latex": [
       "A data.frame: 6 × 2\n",
       "\\begin{tabular}{r|ll}\n",
       "  & NID & DensityCloseFriends\\\\\n",
       "  & <fct> & <dbl>\\\\\n",
       "\\hline\n",
       "\t1 & 1  & 0.0005430616\\\\\n",
       "\t2 & 2  & 0.0008209813\\\\\n",
       "\t3 & 4  & 0.0009838725\\\\\n",
       "\t4 & 5  & 0.0007545272\\\\\n",
       "\t5 & 7  & 0.0006226650\\\\\n",
       "\t6 & 11 & 0.0003512068\\\\\n",
       "\\end{tabular}\n"
      ],
      "text/markdown": [
       "\n",
       "A data.frame: 6 × 2\n",
       "\n",
       "| <!--/--> | NID &lt;fct&gt; | DensityCloseFriends &lt;dbl&gt; |\n",
       "|---|---|---|\n",
       "| 1 | 1  | 0.0005430616 |\n",
       "| 2 | 2  | 0.0008209813 |\n",
       "| 3 | 4  | 0.0009838725 |\n",
       "| 4 | 5  | 0.0007545272 |\n",
       "| 5 | 7  | 0.0006226650 |\n",
       "| 6 | 11 | 0.0003512068 |\n",
       "\n"
      ],
      "text/plain": [
       "  NID DensityCloseFriends\n",
       "1 1   0.0005430616       \n",
       "2 2   0.0008209813       \n",
       "3 4   0.0009838725       \n",
       "4 5   0.0007545272       \n",
       "5 7   0.0006226650       \n",
       "6 11  0.0003512068       "
      ]
     },
     "metadata": {},
     "output_type": "display_data"
    }
   ],
   "source": [
    "density_close_friends = density %>%\n",
    "    filter(Network == 'CloseFrds') %>%\n",
    "    select(NID, Density) %>%\n",
    "    arrange(NID)\n",
    "names(density_close_friends) = c('NID', 'DensityCloseFriends')\n",
    "head(density_close_friends)"
   ]
  },
  {
   "cell_type": "code",
   "execution_count": 18,
   "metadata": {},
   "outputs": [
    {
     "data": {
      "text/html": [
       "<table>\n",
       "<caption>A data.frame: 6 × 2</caption>\n",
       "<thead>\n",
       "\t<tr><th></th><th scope=col>NID</th><th scope=col>DensityBadNews</th></tr>\n",
       "\t<tr><th></th><th scope=col>&lt;fct&gt;</th><th scope=col>&lt;dbl&gt;</th></tr>\n",
       "</thead>\n",
       "<tbody>\n",
       "\t<tr><th scope=row>1</th><td>1 </td><td>0.0003078994</td></tr>\n",
       "\t<tr><th scope=row>2</th><td>2 </td><td>0.0007001956</td></tr>\n",
       "\t<tr><th scope=row>3</th><td>4 </td><td>0.0005728361</td></tr>\n",
       "\t<tr><th scope=row>4</th><td>5 </td><td>0.0005513034</td></tr>\n",
       "\t<tr><th scope=row>5</th><td>7 </td><td>0.0003902446</td></tr>\n",
       "\t<tr><th scope=row>6</th><td>11</td><td>0.0002327147</td></tr>\n",
       "</tbody>\n",
       "</table>\n"
      ],
      "text/latex": [
       "A data.frame: 6 × 2\n",
       "\\begin{tabular}{r|ll}\n",
       "  & NID & DensityBadNews\\\\\n",
       "  & <fct> & <dbl>\\\\\n",
       "\\hline\n",
       "\t1 & 1  & 0.0003078994\\\\\n",
       "\t2 & 2  & 0.0007001956\\\\\n",
       "\t3 & 4  & 0.0005728361\\\\\n",
       "\t4 & 5  & 0.0005513034\\\\\n",
       "\t5 & 7  & 0.0003902446\\\\\n",
       "\t6 & 11 & 0.0002327147\\\\\n",
       "\\end{tabular}\n"
      ],
      "text/markdown": [
       "\n",
       "A data.frame: 6 × 2\n",
       "\n",
       "| <!--/--> | NID &lt;fct&gt; | DensityBadNews &lt;dbl&gt; |\n",
       "|---|---|---|\n",
       "| 1 | 1  | 0.0003078994 |\n",
       "| 2 | 2  | 0.0007001956 |\n",
       "| 3 | 4  | 0.0005728361 |\n",
       "| 4 | 5  | 0.0005513034 |\n",
       "| 5 | 7  | 0.0003902446 |\n",
       "| 6 | 11 | 0.0002327147 |\n",
       "\n"
      ],
      "text/plain": [
       "  NID DensityBadNews\n",
       "1 1   0.0003078994  \n",
       "2 2   0.0007001956  \n",
       "3 4   0.0005728361  \n",
       "4 5   0.0005513034  \n",
       "5 7   0.0003902446  \n",
       "6 11  0.0002327147  "
      ]
     },
     "metadata": {},
     "output_type": "display_data"
    }
   ],
   "source": [
    "density_bad_news = density %>%\n",
    "    filter(Network == 'NegEmoSupp') %>%\n",
    "    select(NID, Density) %>%\n",
    "    arrange(NID)\n",
    "names(density_bad_news) = c('NID', 'DensityBadNews')\n",
    "head(density_bad_news)"
   ]
  },
  {
   "cell_type": "code",
   "execution_count": 19,
   "metadata": {},
   "outputs": [
    {
     "data": {
      "text/html": [
       "<table>\n",
       "<caption>A data.frame: 6 × 17</caption>\n",
       "<thead>\n",
       "\t<tr><th></th><th scope=col>NID</th><th scope=col>Age</th><th scope=col>ParentEducationMax</th><th scope=col>FinclAid</th><th scope=col>FmlyIncome</th><th scope=col>Gender</th><th scope=col>Race</th><th scope=col>Ambient_empathy</th><th scope=col>Wellbeing_fall</th><th scope=col>Wellbeing_spring</th><th scope=col>Wellbeing_fall_dorm</th><th scope=col>ParentEducationMax_dorm</th><th scope=col>FmlyIncome_dorm</th><th scope=col>Extraversion_dorm</th><th scope=col>Agreeableness_dorm</th><th scope=col>Openness_dorm</th><th scope=col>Empathic_Concern_dorm</th></tr>\n",
       "\t<tr><th></th><th scope=col>&lt;dbl&gt;</th><th scope=col>&lt;dbl&gt;</th><th scope=col>&lt;dbl&gt;</th><th scope=col>&lt;dbl&gt;</th><th scope=col>&lt;dbl&gt;</th><th scope=col>&lt;fct&gt;</th><th scope=col>&lt;fct&gt;</th><th scope=col>&lt;dbl&gt;</th><th scope=col>&lt;dbl&gt;</th><th scope=col>&lt;dbl&gt;</th><th scope=col>&lt;dbl&gt;</th><th scope=col>&lt;dbl&gt;</th><th scope=col>&lt;dbl&gt;</th><th scope=col>&lt;dbl&gt;</th><th scope=col>&lt;dbl&gt;</th><th scope=col>&lt;dbl&gt;</th><th scope=col>&lt;dbl&gt;</th></tr>\n",
       "</thead>\n",
       "<tbody>\n",
       "\t<tr><th scope=row>1</th><td> 7</td><td>18</td><td>4.0</td><td>0</td><td> 87500</td><td>M</td><td>white      </td><td>-0.7154534</td><td>-2.06354788</td><td>-0.76535414</td><td> 0.16596155</td><td>3.250000</td><td>131052.6</td><td>4.340909</td><td>4.863636</td><td>5.477273</td><td>2.598485</td></tr>\n",
       "\t<tr><th scope=row>2</th><td>11</td><td>18</td><td>3.5</td><td>1</td><td> 62500</td><td>F</td><td>south_asian</td><td>-0.8199099</td><td>-0.01143413</td><td>-0.04997158</td><td> 0.15868155</td><td>3.142857</td><td>107142.9</td><td>3.642857</td><td>4.642857</td><td>5.428571</td><td>2.642857</td></tr>\n",
       "\t<tr><th scope=row>3</th><td> 9</td><td>18</td><td>4.0</td><td>1</td><td>125000</td><td>M</td><td>white      </td><td>-0.8994971</td><td> 0.91965600</td><td> 0.66541099</td><td>-0.30092105</td><td>3.300000</td><td>124375.0</td><td>2.100000</td><td>4.900000</td><td>6.200000</td><td>2.600000</td></tr>\n",
       "\t<tr><th scope=row>4</th><td> 4</td><td>18</td><td>4.0</td><td>0</td><td>200000</td><td>F</td><td>east_asian </td><td>-0.9155707</td><td> 0.65342017</td><td> 0.48656535</td><td>-0.06457484</td><td>3.316667</td><td>115434.8</td><td>3.177419</td><td>4.951613</td><td>4.838710</td><td>2.639785</td></tr>\n",
       "\t<tr><th scope=row>5</th><td> 5</td><td>18</td><td>2.5</td><td>1</td><td>125000</td><td>M</td><td>south_asian</td><td>-0.4873343</td><td> 0.69839160</td><td>-0.04997158</td><td> 0.01290587</td><td>3.406250</td><td>119230.8</td><td>3.562500</td><td>5.156250</td><td>5.125000</td><td>2.789583</td></tr>\n",
       "\t<tr><th scope=row>6</th><td>13</td><td>18</td><td>4.0</td><td>1</td><td> 45000</td><td>F</td><td>east_asian </td><td>-1.2311373</td><td> 0.04290417</td><td>-0.13939440</td><td>-0.32241874</td><td>3.157895</td><td>108815.8</td><td>3.263158</td><td>4.500000</td><td>5.210526</td><td>2.500000</td></tr>\n",
       "</tbody>\n",
       "</table>\n"
      ],
      "text/latex": [
       "A data.frame: 6 × 17\n",
       "\\begin{tabular}{r|lllllllllllllllll}\n",
       "  & NID & Age & ParentEducationMax & FinclAid & FmlyIncome & Gender & Race & Ambient\\_empathy & Wellbeing\\_fall & Wellbeing\\_spring & Wellbeing\\_fall\\_dorm & ParentEducationMax\\_dorm & FmlyIncome\\_dorm & Extraversion\\_dorm & Agreeableness\\_dorm & Openness\\_dorm & Empathic\\_Concern\\_dorm\\\\\n",
       "  & <dbl> & <dbl> & <dbl> & <dbl> & <dbl> & <fct> & <fct> & <dbl> & <dbl> & <dbl> & <dbl> & <dbl> & <dbl> & <dbl> & <dbl> & <dbl> & <dbl>\\\\\n",
       "\\hline\n",
       "\t1 &  7 & 18 & 4.0 & 0 &  87500 & M & white       & -0.7154534 & -2.06354788 & -0.76535414 &  0.16596155 & 3.250000 & 131052.6 & 4.340909 & 4.863636 & 5.477273 & 2.598485\\\\\n",
       "\t2 & 11 & 18 & 3.5 & 1 &  62500 & F & south\\_asian & -0.8199099 & -0.01143413 & -0.04997158 &  0.15868155 & 3.142857 & 107142.9 & 3.642857 & 4.642857 & 5.428571 & 2.642857\\\\\n",
       "\t3 &  9 & 18 & 4.0 & 1 & 125000 & M & white       & -0.8994971 &  0.91965600 &  0.66541099 & -0.30092105 & 3.300000 & 124375.0 & 2.100000 & 4.900000 & 6.200000 & 2.600000\\\\\n",
       "\t4 &  4 & 18 & 4.0 & 0 & 200000 & F & east\\_asian  & -0.9155707 &  0.65342017 &  0.48656535 & -0.06457484 & 3.316667 & 115434.8 & 3.177419 & 4.951613 & 4.838710 & 2.639785\\\\\n",
       "\t5 &  5 & 18 & 2.5 & 1 & 125000 & M & south\\_asian & -0.4873343 &  0.69839160 & -0.04997158 &  0.01290587 & 3.406250 & 119230.8 & 3.562500 & 5.156250 & 5.125000 & 2.789583\\\\\n",
       "\t6 & 13 & 18 & 4.0 & 1 &  45000 & F & east\\_asian  & -1.2311373 &  0.04290417 & -0.13939440 & -0.32241874 & 3.157895 & 108815.8 & 3.263158 & 4.500000 & 5.210526 & 2.500000\\\\\n",
       "\\end{tabular}\n"
      ],
      "text/markdown": [
       "\n",
       "A data.frame: 6 × 17\n",
       "\n",
       "| <!--/--> | NID &lt;dbl&gt; | Age &lt;dbl&gt; | ParentEducationMax &lt;dbl&gt; | FinclAid &lt;dbl&gt; | FmlyIncome &lt;dbl&gt; | Gender &lt;fct&gt; | Race &lt;fct&gt; | Ambient_empathy &lt;dbl&gt; | Wellbeing_fall &lt;dbl&gt; | Wellbeing_spring &lt;dbl&gt; | Wellbeing_fall_dorm &lt;dbl&gt; | ParentEducationMax_dorm &lt;dbl&gt; | FmlyIncome_dorm &lt;dbl&gt; | Extraversion_dorm &lt;dbl&gt; | Agreeableness_dorm &lt;dbl&gt; | Openness_dorm &lt;dbl&gt; | Empathic_Concern_dorm &lt;dbl&gt; |\n",
       "|---|---|---|---|---|---|---|---|---|---|---|---|---|---|---|---|---|---|\n",
       "| 1 |  7 | 18 | 4.0 | 0 |  87500 | M | white       | -0.7154534 | -2.06354788 | -0.76535414 |  0.16596155 | 3.250000 | 131052.6 | 4.340909 | 4.863636 | 5.477273 | 2.598485 |\n",
       "| 2 | 11 | 18 | 3.5 | 1 |  62500 | F | south_asian | -0.8199099 | -0.01143413 | -0.04997158 |  0.15868155 | 3.142857 | 107142.9 | 3.642857 | 4.642857 | 5.428571 | 2.642857 |\n",
       "| 3 |  9 | 18 | 4.0 | 1 | 125000 | M | white       | -0.8994971 |  0.91965600 |  0.66541099 | -0.30092105 | 3.300000 | 124375.0 | 2.100000 | 4.900000 | 6.200000 | 2.600000 |\n",
       "| 4 |  4 | 18 | 4.0 | 0 | 200000 | F | east_asian  | -0.9155707 |  0.65342017 |  0.48656535 | -0.06457484 | 3.316667 | 115434.8 | 3.177419 | 4.951613 | 4.838710 | 2.639785 |\n",
       "| 5 |  5 | 18 | 2.5 | 1 | 125000 | M | south_asian | -0.4873343 |  0.69839160 | -0.04997158 |  0.01290587 | 3.406250 | 119230.8 | 3.562500 | 5.156250 | 5.125000 | 2.789583 |\n",
       "| 6 | 13 | 18 | 4.0 | 1 |  45000 | F | east_asian  | -1.2311373 |  0.04290417 | -0.13939440 | -0.32241874 | 3.157895 | 108815.8 | 3.263158 | 4.500000 | 5.210526 | 2.500000 |\n",
       "\n"
      ],
      "text/plain": [
       "  NID Age ParentEducationMax FinclAid FmlyIncome Gender Race        Ambient_empathy Wellbeing_fall Wellbeing_spring Wellbeing_fall_dorm ParentEducationMax_dorm FmlyIncome_dorm Extraversion_dorm\n",
       "1  7  18  4.0                0         87500     M      white       -0.7154534      -2.06354788    -0.76535414       0.16596155         3.250000                131052.6        4.340909         \n",
       "2 11  18  3.5                1         62500     F      south_asian -0.8199099      -0.01143413    -0.04997158       0.15868155         3.142857                107142.9        3.642857         \n",
       "3  9  18  4.0                1        125000     M      white       -0.8994971       0.91965600     0.66541099      -0.30092105         3.300000                124375.0        2.100000         \n",
       "4  4  18  4.0                0        200000     F      east_asian  -0.9155707       0.65342017     0.48656535      -0.06457484         3.316667                115434.8        3.177419         \n",
       "5  5  18  2.5                1        125000     M      south_asian -0.4873343       0.69839160    -0.04997158       0.01290587         3.406250                119230.8        3.562500         \n",
       "6 13  18  4.0                1         45000     F      east_asian  -1.2311373       0.04290417    -0.13939440      -0.32241874         3.157895                108815.8        3.263158         \n",
       "  Agreeableness_dorm Openness_dorm Empathic_Concern_dorm\n",
       "1 4.863636           5.477273      2.598485             \n",
       "2 4.642857           5.428571      2.642857             \n",
       "3 4.900000           6.200000      2.600000             \n",
       "4 4.951613           4.838710      2.639785             \n",
       "5 5.156250           5.125000      2.789583             \n",
       "6 4.500000           5.210526      2.500000             "
      ]
     },
     "metadata": {},
     "output_type": "display_data"
    }
   ],
   "source": [
    "head(df)"
   ]
  },
  {
   "cell_type": "code",
   "execution_count": 20,
   "metadata": {},
   "outputs": [
    {
     "data": {
      "text/html": [
       "<table>\n",
       "<caption>A data.frame: 5 × 19</caption>\n",
       "<thead>\n",
       "\t<tr><th></th><th scope=col>NID</th><th scope=col>Age</th><th scope=col>ParentEducationMax</th><th scope=col>FinclAid</th><th scope=col>FmlyIncome</th><th scope=col>Gender</th><th scope=col>Race</th><th scope=col>Ambient_empathy</th><th scope=col>Wellbeing_fall</th><th scope=col>Wellbeing_spring</th><th scope=col>Wellbeing_fall_dorm</th><th scope=col>ParentEducationMax_dorm</th><th scope=col>FmlyIncome_dorm</th><th scope=col>Extraversion_dorm</th><th scope=col>Agreeableness_dorm</th><th scope=col>Openness_dorm</th><th scope=col>Empathic_Concern_dorm</th><th scope=col>DensityCloseFriends</th><th scope=col>DensityBadNews</th></tr>\n",
       "\t<tr><th></th><th scope=col>&lt;dbl&gt;</th><th scope=col>&lt;dbl&gt;</th><th scope=col>&lt;dbl&gt;</th><th scope=col>&lt;dbl&gt;</th><th scope=col>&lt;dbl&gt;</th><th scope=col>&lt;fct&gt;</th><th scope=col>&lt;fct&gt;</th><th scope=col>&lt;dbl&gt;</th><th scope=col>&lt;dbl&gt;</th><th scope=col>&lt;dbl&gt;</th><th scope=col>&lt;dbl&gt;</th><th scope=col>&lt;dbl&gt;</th><th scope=col>&lt;dbl&gt;</th><th scope=col>&lt;dbl&gt;</th><th scope=col>&lt;dbl&gt;</th><th scope=col>&lt;dbl&gt;</th><th scope=col>&lt;dbl&gt;</th><th scope=col>&lt;dbl&gt;</th><th scope=col>&lt;dbl&gt;</th></tr>\n",
       "</thead>\n",
       "<tbody>\n",
       "\t<tr><th scope=row>53</th><td> 4</td><td>18</td><td>3.5</td><td>1</td><td>125000</td><td>F    </td><td>white     </td><td>-0.5370759</td><td>-0.4973256</td><td>-0.31824004</td><td>-0.02745401</td><td>3.333333</td><td>118695.7</td><td>3.161290</td><td>5.064516</td><td>4.870968</td><td>2.655914</td><td>0.0009838725</td><td>0.0005728361</td></tr>\n",
       "\t<tr><th scope=row>121</th><td> 8</td><td>21</td><td>3.5</td><td>1</td><td>125000</td><td>other</td><td>east_asian</td><td>-1.1006794</td><td>-0.3548819</td><td>-0.76535414</td><td>-0.14075240</td><td>3.250000</td><td>106184.2</td><td>3.425000</td><td>5.225000</td><td>4.725000</td><td>2.925000</td><td>0.0006009766</td><td>0.0002314677</td></tr>\n",
       "\t<tr><th scope=row>125</th><td> 8</td><td>19</td><td>3.0</td><td>1</td><td>  5000</td><td>F    </td><td>east_asian</td><td> 0.2686717</td><td>-1.1895478</td><td>-0.04997158</td><td>-0.09901910</td><td>3.275000</td><td>112500.0</td><td>3.350000</td><td>5.125000</td><td>4.725000</td><td>2.941667</td><td>0.0006009766</td><td>0.0002314677</td></tr>\n",
       "\t<tr><th scope=row>76</th><td> 5</td><td>18</td><td>2.0</td><td>1</td><td> 62500</td><td>M    </td><td>hispanic  </td><td>-0.6772456</td><td> 0.6018270</td><td>-0.04997158</td><td> 0.01894115</td><td>3.437500</td><td>124038.5</td><td>3.687500</td><td>5.187500</td><td>5.187500</td><td>2.768750</td><td>0.0007545272</td><td>0.0005513034</td></tr>\n",
       "\t<tr><th scope=row>160</th><td>11</td><td>18</td><td>3.0</td><td>1</td><td>125000</td><td>F    </td><td>hispanic  </td><td>-1.0778002</td><td> 0.1947062</td><td>-0.13939440</td><td> 0.14395724</td><td>3.178571</td><td>105769.2</td><td>3.714286</td><td>4.678571</td><td>5.357143</td><td>2.630952</td><td>0.0003512068</td><td>0.0002327147</td></tr>\n",
       "</tbody>\n",
       "</table>\n"
      ],
      "text/latex": [
       "A data.frame: 5 × 19\n",
       "\\begin{tabular}{r|lllllllllllllllllll}\n",
       "  & NID & Age & ParentEducationMax & FinclAid & FmlyIncome & Gender & Race & Ambient\\_empathy & Wellbeing\\_fall & Wellbeing\\_spring & Wellbeing\\_fall\\_dorm & ParentEducationMax\\_dorm & FmlyIncome\\_dorm & Extraversion\\_dorm & Agreeableness\\_dorm & Openness\\_dorm & Empathic\\_Concern\\_dorm & DensityCloseFriends & DensityBadNews\\\\\n",
       "  & <dbl> & <dbl> & <dbl> & <dbl> & <dbl> & <fct> & <fct> & <dbl> & <dbl> & <dbl> & <dbl> & <dbl> & <dbl> & <dbl> & <dbl> & <dbl> & <dbl> & <dbl> & <dbl>\\\\\n",
       "\\hline\n",
       "\t53 &  4 & 18 & 3.5 & 1 & 125000 & F     & white      & -0.5370759 & -0.4973256 & -0.31824004 & -0.02745401 & 3.333333 & 118695.7 & 3.161290 & 5.064516 & 4.870968 & 2.655914 & 0.0009838725 & 0.0005728361\\\\\n",
       "\t121 &  8 & 21 & 3.5 & 1 & 125000 & other & east\\_asian & -1.1006794 & -0.3548819 & -0.76535414 & -0.14075240 & 3.250000 & 106184.2 & 3.425000 & 5.225000 & 4.725000 & 2.925000 & 0.0006009766 & 0.0002314677\\\\\n",
       "\t125 &  8 & 19 & 3.0 & 1 &   5000 & F     & east\\_asian &  0.2686717 & -1.1895478 & -0.04997158 & -0.09901910 & 3.275000 & 112500.0 & 3.350000 & 5.125000 & 4.725000 & 2.941667 & 0.0006009766 & 0.0002314677\\\\\n",
       "\t76 &  5 & 18 & 2.0 & 1 &  62500 & M     & hispanic   & -0.6772456 &  0.6018270 & -0.04997158 &  0.01894115 & 3.437500 & 124038.5 & 3.687500 & 5.187500 & 5.187500 & 2.768750 & 0.0007545272 & 0.0005513034\\\\\n",
       "\t160 & 11 & 18 & 3.0 & 1 & 125000 & F     & hispanic   & -1.0778002 &  0.1947062 & -0.13939440 &  0.14395724 & 3.178571 & 105769.2 & 3.714286 & 4.678571 & 5.357143 & 2.630952 & 0.0003512068 & 0.0002327147\\\\\n",
       "\\end{tabular}\n"
      ],
      "text/markdown": [
       "\n",
       "A data.frame: 5 × 19\n",
       "\n",
       "| <!--/--> | NID &lt;dbl&gt; | Age &lt;dbl&gt; | ParentEducationMax &lt;dbl&gt; | FinclAid &lt;dbl&gt; | FmlyIncome &lt;dbl&gt; | Gender &lt;fct&gt; | Race &lt;fct&gt; | Ambient_empathy &lt;dbl&gt; | Wellbeing_fall &lt;dbl&gt; | Wellbeing_spring &lt;dbl&gt; | Wellbeing_fall_dorm &lt;dbl&gt; | ParentEducationMax_dorm &lt;dbl&gt; | FmlyIncome_dorm &lt;dbl&gt; | Extraversion_dorm &lt;dbl&gt; | Agreeableness_dorm &lt;dbl&gt; | Openness_dorm &lt;dbl&gt; | Empathic_Concern_dorm &lt;dbl&gt; | DensityCloseFriends &lt;dbl&gt; | DensityBadNews &lt;dbl&gt; |\n",
       "|---|---|---|---|---|---|---|---|---|---|---|---|---|---|---|---|---|---|---|---|\n",
       "| 53 |  4 | 18 | 3.5 | 1 | 125000 | F     | white      | -0.5370759 | -0.4973256 | -0.31824004 | -0.02745401 | 3.333333 | 118695.7 | 3.161290 | 5.064516 | 4.870968 | 2.655914 | 0.0009838725 | 0.0005728361 |\n",
       "| 121 |  8 | 21 | 3.5 | 1 | 125000 | other | east_asian | -1.1006794 | -0.3548819 | -0.76535414 | -0.14075240 | 3.250000 | 106184.2 | 3.425000 | 5.225000 | 4.725000 | 2.925000 | 0.0006009766 | 0.0002314677 |\n",
       "| 125 |  8 | 19 | 3.0 | 1 |   5000 | F     | east_asian |  0.2686717 | -1.1895478 | -0.04997158 | -0.09901910 | 3.275000 | 112500.0 | 3.350000 | 5.125000 | 4.725000 | 2.941667 | 0.0006009766 | 0.0002314677 |\n",
       "| 76 |  5 | 18 | 2.0 | 1 |  62500 | M     | hispanic   | -0.6772456 |  0.6018270 | -0.04997158 |  0.01894115 | 3.437500 | 124038.5 | 3.687500 | 5.187500 | 5.187500 | 2.768750 | 0.0007545272 | 0.0005513034 |\n",
       "| 160 | 11 | 18 | 3.0 | 1 | 125000 | F     | hispanic   | -1.0778002 |  0.1947062 | -0.13939440 |  0.14395724 | 3.178571 | 105769.2 | 3.714286 | 4.678571 | 5.357143 | 2.630952 | 0.0003512068 | 0.0002327147 |\n",
       "\n"
      ],
      "text/plain": [
       "    NID Age ParentEducationMax FinclAid FmlyIncome Gender Race       Ambient_empathy Wellbeing_fall Wellbeing_spring Wellbeing_fall_dorm ParentEducationMax_dorm FmlyIncome_dorm Extraversion_dorm\n",
       "53   4  18  3.5                1        125000     F      white      -0.5370759      -0.4973256     -0.31824004      -0.02745401         3.333333                118695.7        3.161290         \n",
       "121  8  21  3.5                1        125000     other  east_asian -1.1006794      -0.3548819     -0.76535414      -0.14075240         3.250000                106184.2        3.425000         \n",
       "125  8  19  3.0                1          5000     F      east_asian  0.2686717      -1.1895478     -0.04997158      -0.09901910         3.275000                112500.0        3.350000         \n",
       "76   5  18  2.0                1         62500     M      hispanic   -0.6772456       0.6018270     -0.04997158       0.01894115         3.437500                124038.5        3.687500         \n",
       "160 11  18  3.0                1        125000     F      hispanic   -1.0778002       0.1947062     -0.13939440       0.14395724         3.178571                105769.2        3.714286         \n",
       "    Agreeableness_dorm Openness_dorm Empathic_Concern_dorm DensityCloseFriends DensityBadNews\n",
       "53  5.064516           4.870968      2.655914              0.0009838725        0.0005728361  \n",
       "121 5.225000           4.725000      2.925000              0.0006009766        0.0002314677  \n",
       "125 5.125000           4.725000      2.941667              0.0006009766        0.0002314677  \n",
       "76  5.187500           5.187500      2.768750              0.0007545272        0.0005513034  \n",
       "160 4.678571           5.357143      2.630952              0.0003512068        0.0002327147  "
      ]
     },
     "metadata": {},
     "output_type": "display_data"
    }
   ],
   "source": [
    "df = merge(df, density_close_friends, on=\"NID\", all.x=TRUE)\n",
    "df = merge(df, density_bad_news, on=\"NID\", all.x=TRUE)\n",
    "df[sample(nrow(df), 5), ]"
   ]
  },
  {
   "cell_type": "markdown",
   "metadata": {},
   "source": [
    "### Mixed models - REML"
   ]
  },
  {
   "cell_type": "code",
   "execution_count": 21,
   "metadata": {},
   "outputs": [
    {
     "name": "stderr",
     "output_type": "stream",
     "text": [
      "Warning message:\n",
      "“Some predictor variables are on very different scales: consider rescaling”\n",
      "Warning message:\n",
      "“Some predictor variables are on very different scales: consider rescaling”\n",
      "\n",
      "Correlation matrix not shown by default, as p = 16 > 12.\n",
      "Use print(obj, correlation=TRUE)  or\n",
      "    vcov(obj)        if you need it\n",
      "\n",
      "\n"
     ]
    },
    {
     "data": {
      "text/plain": [
       "Linear mixed model fit by REML. t-tests use Satterthwaite's method ['lmerModLmerTest']\n",
       "Formula: as.formula(paste(equation, \"+ DensityCloseFriends + DensityBadNews + (1|NID)\"))\n",
       "   Data: df\n",
       "\n",
       "REML criterion at convergence: 482.6\n",
       "\n",
       "Scaled residuals: \n",
       "    Min      1Q  Median      3Q     Max \n",
       "-3.1304 -0.5033  0.0450  0.6496  3.4442 \n",
       "\n",
       "Random effects:\n",
       " Groups   Name        Variance Std.Dev.\n",
       " NID      (Intercept) 0.002771 0.05264 \n",
       " Residual             0.579595 0.76131 \n",
       "Number of obs: 204, groups:  NID, 11\n",
       "\n",
       "Fixed effects:\n",
       "                      Estimate Std. Error         df t value Pr(>|t|)    \n",
       "(Intercept)         -8.989e-01  1.180e+00  9.374e+01  -0.762    0.448    \n",
       "Wellbeing_fall       6.049e-01  5.669e-02  1.851e+02  10.671   <2e-16 ***\n",
       "Age                  1.812e-02  5.707e-02  9.831e+01   0.318    0.752    \n",
       "ParentEducationMax   5.706e-02  9.869e-02  1.878e+02   0.578    0.564    \n",
       "FinclAid            -1.057e-02  1.477e-01  1.875e+02  -0.072    0.943    \n",
       "FmlyIncome           1.361e-06  1.107e-06  1.869e+02   1.229    0.220    \n",
       "GenderM              1.860e-01  1.141e-01  1.874e+02   1.629    0.105    \n",
       "Genderother          1.021e-01  3.625e-01  1.878e+02   0.282    0.778    \n",
       "Raceeast_asian       5.169e-02  2.332e-01  7.761e+01   0.222    0.825    \n",
       "Racehispanic         2.269e-01  2.870e-01  1.557e+02   0.791    0.430    \n",
       "Raceother_or_mixed  -1.021e-01  2.318e-01  1.323e+02  -0.440    0.660    \n",
       "Racesouth_asian     -1.855e-01  3.046e-01  1.264e+02  -0.609    0.544    \n",
       "Racewhite            1.653e-01  2.422e-01  9.883e+01   0.682    0.497    \n",
       "Ambient_empathy      1.222e-01  7.795e-02  1.293e+02   1.567    0.119    \n",
       "DensityCloseFriends  7.857e+01  3.438e+02  5.095e+00   0.229    0.828    \n",
       "DensityBadNews       3.092e+02  5.084e+02  5.785e+00   0.608    0.566    \n",
       "---\n",
       "Signif. codes:  0 ‘***’ 0.001 ‘**’ 0.01 ‘*’ 0.05 ‘.’ 0.1 ‘ ’ 1\n",
       "fit warnings:\n",
       "Some predictor variables are on very different scales: consider rescaling"
      ]
     },
     "metadata": {},
     "output_type": "display_data"
    }
   ],
   "source": [
    "model5 = lmer(as.formula(paste(equation, '+ DensityCloseFriends + DensityBadNews + (1|NID)')), data=df, REML=TRUE)\n",
    "summary(model5)"
   ]
  },
  {
   "cell_type": "code",
   "execution_count": 22,
   "metadata": {},
   "outputs": [
    {
     "name": "stderr",
     "output_type": "stream",
     "text": [
      "Warning message:\n",
      "“Some predictor variables are on very different scales: consider rescaling”\n",
      "boundary (singular) fit: see ?isSingular\n",
      "\n",
      "Warning message:\n",
      "“Some predictor variables are on very different scales: consider rescaling”\n",
      "\n",
      "Correlation matrix not shown by default, as p = 16 > 12.\n",
      "Use print(obj, correlation=TRUE)  or\n",
      "    vcov(obj)        if you need it\n",
      "\n",
      "\n"
     ]
    },
    {
     "data": {
      "text/plain": [
       "Linear mixed model fit by maximum likelihood . t-tests use Satterthwaite's method ['lmerModLmerTest']\n",
       "Formula: as.formula(paste(equation, \"+ DensityCloseFriends + DensityBadNews + (1|NID)\"))\n",
       "   Data: df\n",
       "\n",
       "     AIC      BIC   logLik deviance df.resid \n",
       "   487.6    547.4   -225.8    451.6      186 \n",
       "\n",
       "Scaled residuals: \n",
       "    Min      1Q  Median      3Q     Max \n",
       "-3.2754 -0.5241  0.0410  0.6739  3.5998 \n",
       "\n",
       "Random effects:\n",
       " Groups   Name        Variance Std.Dev.\n",
       " NID      (Intercept) 0.0000   0.000   \n",
       " Residual             0.5358   0.732   \n",
       "Number of obs: 204, groups:  NID, 11\n",
       "\n",
       "Fixed effects:\n",
       "                      Estimate Std. Error         df t value Pr(>|t|)    \n",
       "(Intercept)         -8.306e-01  1.125e+00  2.040e+02  -0.738   0.4613    \n",
       "Wellbeing_fall       6.059e-01  5.446e-02  2.040e+02  11.125   <2e-16 ***\n",
       "Age                  1.473e-02  5.444e-02  2.040e+02   0.271   0.7870    \n",
       "ParentEducationMax   5.734e-02  9.476e-02  2.040e+02   0.605   0.5458    \n",
       "FinclAid            -9.473e-03  1.417e-01  2.040e+02  -0.067   0.9468    \n",
       "FmlyIncome           1.376e-06  1.063e-06  2.040e+02   1.294   0.1972    \n",
       "GenderM              1.860e-01  1.096e-01  2.040e+02   1.697   0.0912 .  \n",
       "Genderother          9.724e-02  3.479e-01  2.040e+02   0.279   0.7802    \n",
       "Raceeast_asian       4.797e-02  2.221e-01  2.040e+02   0.216   0.8292    \n",
       "Racehispanic         2.263e-01  2.747e-01  2.040e+02   0.824   0.4111    \n",
       "Raceother_or_mixed  -1.011e-01  2.215e-01  2.040e+02  -0.456   0.6488    \n",
       "Racesouth_asian     -1.881e-01  2.910e-01  2.040e+02  -0.646   0.5188    \n",
       "Racewhite            1.691e-01  2.311e-01  2.040e+02   0.732   0.4652    \n",
       "Ambient_empathy      1.267e-01  7.449e-02  2.040e+02   1.700   0.0906 .  \n",
       "DensityCloseFriends  7.157e+01  3.175e+02  2.040e+02   0.225   0.8219    \n",
       "DensityBadNews       3.027e+02  4.707e+02  2.040e+02   0.643   0.5208    \n",
       "---\n",
       "Signif. codes:  0 ‘***’ 0.001 ‘**’ 0.01 ‘*’ 0.05 ‘.’ 0.1 ‘ ’ 1\n",
       "fit warnings:\n",
       "Some predictor variables are on very different scales: consider rescaling\n",
       "convergence code: 0\n",
       "boundary (singular) fit: see ?isSingular\n"
      ]
     },
     "metadata": {},
     "output_type": "display_data"
    }
   ],
   "source": [
    "model6 = lmer(as.formula(paste(equation, '+ DensityCloseFriends + DensityBadNews + (1|NID)')), data=df, REML=FALSE)\n",
    "summary(model6)"
   ]
  },
  {
   "cell_type": "code",
   "execution_count": 23,
   "metadata": {},
   "outputs": [
    {
     "data": {
      "text/html": [
       "<table>\n",
       "<caption>A anova: 2 × 8</caption>\n",
       "<thead>\n",
       "\t<tr><th></th><th scope=col>Df</th><th scope=col>AIC</th><th scope=col>BIC</th><th scope=col>logLik</th><th scope=col>deviance</th><th scope=col>Chisq</th><th scope=col>Chi Df</th><th scope=col>Pr(&gt;Chisq)</th></tr>\n",
       "\t<tr><th></th><th scope=col>&lt;dbl&gt;</th><th scope=col>&lt;dbl&gt;</th><th scope=col>&lt;dbl&gt;</th><th scope=col>&lt;dbl&gt;</th><th scope=col>&lt;dbl&gt;</th><th scope=col>&lt;dbl&gt;</th><th scope=col>&lt;dbl&gt;</th><th scope=col>&lt;dbl&gt;</th></tr>\n",
       "</thead>\n",
       "<tbody>\n",
       "\t<tr><th scope=row>model2</th><td>15</td><td>482.8305</td><td>532.6023</td><td>-226.4152</td><td>452.8305</td><td>      NA</td><td>NA</td><td>       NA</td></tr>\n",
       "\t<tr><th scope=row>model6</th><td>18</td><td>487.6339</td><td>547.3601</td><td>-225.8170</td><td>451.6339</td><td>1.196574</td><td> 3</td><td>0.7538261</td></tr>\n",
       "</tbody>\n",
       "</table>\n"
      ],
      "text/latex": [
       "A anova: 2 × 8\n",
       "\\begin{tabular}{r|llllllll}\n",
       "  & Df & AIC & BIC & logLik & deviance & Chisq & Chi Df & Pr(>Chisq)\\\\\n",
       "  & <dbl> & <dbl> & <dbl> & <dbl> & <dbl> & <dbl> & <dbl> & <dbl>\\\\\n",
       "\\hline\n",
       "\tmodel2 & 15 & 482.8305 & 532.6023 & -226.4152 & 452.8305 &       NA & NA &        NA\\\\\n",
       "\tmodel6 & 18 & 487.6339 & 547.3601 & -225.8170 & 451.6339 & 1.196574 &  3 & 0.7538261\\\\\n",
       "\\end{tabular}\n"
      ],
      "text/markdown": [
       "\n",
       "A anova: 2 × 8\n",
       "\n",
       "| <!--/--> | Df &lt;dbl&gt; | AIC &lt;dbl&gt; | BIC &lt;dbl&gt; | logLik &lt;dbl&gt; | deviance &lt;dbl&gt; | Chisq &lt;dbl&gt; | Chi Df &lt;dbl&gt; | Pr(&gt;Chisq) &lt;dbl&gt; |\n",
       "|---|---|---|---|---|---|---|---|---|\n",
       "| model2 | 15 | 482.8305 | 532.6023 | -226.4152 | 452.8305 |       NA | NA |        NA |\n",
       "| model6 | 18 | 487.6339 | 547.3601 | -225.8170 | 451.6339 | 1.196574 |  3 | 0.7538261 |\n",
       "\n"
      ],
      "text/plain": [
       "       Df AIC      BIC      logLik    deviance Chisq    Chi Df Pr(>Chisq)\n",
       "model2 15 482.8305 532.6023 -226.4152 452.8305       NA NA            NA \n",
       "model6 18 487.6339 547.3601 -225.8170 451.6339 1.196574  3     0.7538261 "
      ]
     },
     "metadata": {},
     "output_type": "display_data"
    }
   ],
   "source": [
    "anova(model6, model2)"
   ]
  },
  {
   "cell_type": "markdown",
   "metadata": {},
   "source": [
    "### Add even-more dorm-level covariates"
   ]
  },
  {
   "cell_type": "code",
   "execution_count": 22,
   "metadata": {},
   "outputs": [
    {
     "name": "stdout",
     "output_type": "stream",
     "text": [
      "[1] \"Wellbeing_spring  ~  1  + Wellbeing_fall + Age + ParentEducationMax + FinclAid + FmlyIncome + Gender + Race + Ambient_empathy + Wellbeing_fall_dorm + ParentEducationMax_dorm + FmlyIncome_dorm + Extraversion_dorm + Agreeableness_dorm + Openness_dorm + Empathic_Concern_dorm + DensityCloseFriends + DensityBadNews + (1|NID)\"\n"
     ]
    },
    {
     "name": "stderr",
     "output_type": "stream",
     "text": [
      "Warning message:\n",
      "“Some predictor variables are on very different scales: consider rescaling”\n",
      "Warning message:\n",
      "“Some predictor variables are on very different scales: consider rescaling”\n",
      "\n",
      "Correlation matrix not shown by default, as p = 23 > 12.\n",
      "Use print(obj, correlation=TRUE)  or\n",
      "    vcov(obj)        if you need it\n",
      "\n",
      "\n"
     ]
    },
    {
     "data": {
      "text/plain": [
       "Linear mixed model fit by REML. t-tests use Satterthwaite's method ['lmerModLmerTest']\n",
       "Formula: as.formula(eq)\n",
       "   Data: df\n",
       "\n",
       "REML criterion at convergence: 493.4\n",
       "\n",
       "Scaled residuals: \n",
       "    Min      1Q  Median      3Q     Max \n",
       "-3.1231 -0.5639  0.1040  0.6389  3.3161 \n",
       "\n",
       "Random effects:\n",
       " Groups   Name        Variance Std.Dev.\n",
       " NID      (Intercept) 0.03329  0.1824  \n",
       " Residual             0.56514  0.7518  \n",
       "Number of obs: 204, groups:  NID, 11\n",
       "\n",
       "Fixed effects:\n",
       "                          Estimate Std. Error         df t value Pr(>|t|)    \n",
       "(Intercept)              3.676e+00  4.981e+00  2.111e+00   0.738    0.534    \n",
       "Wellbeing_fall           6.452e-01  6.151e-02  1.938e+01  10.491 1.96e-09 ***\n",
       "Age                      3.231e-02  6.183e-02  1.485e+02   0.523    0.602    \n",
       "ParentEducationMax       6.282e-02  1.270e-01  8.604e+00   0.495    0.633    \n",
       "FinclAid                -3.186e-02  1.463e-01  1.744e+02  -0.218    0.828    \n",
       "FmlyIncome               1.177e-06  1.524e-06  3.119e+01   0.772    0.446    \n",
       "GenderM                  1.639e-01  1.163e-01  1.767e+02   1.409    0.161    \n",
       "Genderother              2.045e-01  3.701e-01  1.784e+02   0.552    0.581    \n",
       "Raceeast_asian          -6.619e-03  2.617e-01  1.567e+02  -0.025    0.980    \n",
       "Racehispanic             1.401e-01  2.993e-01  1.742e+02   0.468    0.640    \n",
       "Raceother_or_mixed      -1.356e-01  2.500e-01  1.801e+02  -0.542    0.588    \n",
       "Racesouth_asian         -2.019e-01  3.307e-01  1.799e+02  -0.610    0.542    \n",
       "Racewhite                5.810e-02  2.718e-01  1.801e+02   0.214    0.831    \n",
       "Ambient_empathy          7.202e-03  8.219e-02  1.696e+02   0.088    0.930    \n",
       "Wellbeing_fall_dorm      1.161e+00  6.223e-01  1.196e+00   1.865    0.281    \n",
       "ParentEducationMax_dorm  2.288e-01  1.484e+00  1.494e+00   0.154    0.896    \n",
       "FmlyIncome_dorm         -1.908e-07  1.699e-05  7.681e+00  -0.011    0.991    \n",
       "Extraversion_dorm       -1.286e-01  2.677e-01  3.116e+00  -0.481    0.663    \n",
       "Agreeableness_dorm      -1.049e+00  6.988e-01  1.731e+01  -1.501    0.151    \n",
       "Openness_dorm           -1.274e-01  3.407e-01  1.575e+00  -0.374    0.753    \n",
       "Empathic_Concern_dorm    2.127e-01  1.173e+00  3.462e+01   0.181    0.857    \n",
       "DensityCloseFriends     -7.200e+01  1.010e+03  1.177e+00  -0.071    0.953    \n",
       "DensityBadNews           9.209e+02  1.139e+03  1.190e+00   0.808    0.549    \n",
       "---\n",
       "Signif. codes:  0 ‘***’ 0.001 ‘**’ 0.01 ‘*’ 0.05 ‘.’ 0.1 ‘ ’ 1\n",
       "fit warnings:\n",
       "Some predictor variables are on very different scales: consider rescaling"
      ]
     },
     "metadata": {},
     "output_type": "display_data"
    }
   ],
   "source": [
    "eq = equation\n",
    "for (col in names(df)) {\n",
    "    if (endsWith(col, '_dorm')) {\n",
    "        eq = paste(eq, '+', col)\n",
    "    }\n",
    "}\n",
    "eq = paste(eq, '+ DensityCloseFriends + DensityBadNews + (1|NID)')\n",
    "print(eq)\n",
    "model7 = lmer(as.formula(eq), data=df, REML=TRUE)\n",
    "summary(model7)"
   ]
  },
  {
   "cell_type": "code",
   "execution_count": 27,
   "metadata": {},
   "outputs": [],
   "source": [
    "# cor.test(df$DensityCloseFriends, df$Wellbeing_fall)"
   ]
  },
  {
   "cell_type": "code",
   "execution_count": null,
   "metadata": {},
   "outputs": [],
   "source": []
  }
 ],
 "metadata": {
  "kernelspec": {
   "display_name": "R",
   "language": "R",
   "name": "r-3.6.2"
  },
  "language_info": {
   "codemirror_mode": "r",
   "file_extension": ".r",
   "mimetype": "text/x-r-source",
   "name": "R",
   "pygments_lexer": "r",
   "version": "3.6.2"
  },
  "toc": {
   "base_numbering": 1,
   "nav_menu": {},
   "number_sections": true,
   "sideBar": true,
   "skip_h1_title": true,
   "title_cell": "Table of Contents",
   "title_sidebar": "Contents",
   "toc_cell": true,
   "toc_position": {},
   "toc_section_display": true,
   "toc_window_display": true
  }
 },
 "nbformat": 4,
 "nbformat_minor": 2
}

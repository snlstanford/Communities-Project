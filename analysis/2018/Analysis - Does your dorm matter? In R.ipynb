{
 "cells": [
  {
   "cell_type": "markdown",
   "metadata": {},
   "source": [
    "# Does your dorm matter for your well-being?\n",
    "\n",
    "We build models to predict:\n",
    "1. Spring well-being from fall well-being\n",
    "1. Spring well-being from fall well-being and demographic items (age, family income, family education, race, gender)\n",
    "1. Spring well-being from fall well-being and demographic items plus random effects by dorm.\n",
    "\n",
    "# Results:\n",
    "- Random effect model does not improve"
   ]
  },
  {
   "cell_type": "markdown",
   "metadata": {
    "toc": true
   },
   "source": [
    "<h1>Table of Contents<span class=\"tocSkip\"></span></h1>\n",
    "<div class=\"toc\"><ul class=\"toc-item\"><li><span><a href=\"#Configuration\" data-toc-modified-id=\"Configuration-1\"><span class=\"toc-item-num\">1&nbsp;&nbsp;</span>Configuration</a></span></li><li><span><a href=\"#Import-and-load\" data-toc-modified-id=\"Import-and-load-2\"><span class=\"toc-item-num\">2&nbsp;&nbsp;</span>Import and load</a></span></li><li><span><a href=\"#Quick-summary-of-whole-dorm-well-beings\" data-toc-modified-id=\"Quick-summary-of-whole-dorm-well-beings-3\"><span class=\"toc-item-num\">3&nbsp;&nbsp;</span>Quick summary of whole-dorm well-beings</a></span></li><li><span><a href=\"#Base-model,-minimal-predictors\" data-toc-modified-id=\"Base-model,-minimal-predictors-4\"><span class=\"toc-item-num\">4&nbsp;&nbsp;</span>Base model, minimal predictors</a></span></li><li><span><a href=\"#Model-with-demographic-covariates\" data-toc-modified-id=\"Model-with-demographic-covariates-5\"><span class=\"toc-item-num\">5&nbsp;&nbsp;</span>Model with demographic covariates</a></span></li></ul></div>"
   ]
  },
  {
   "cell_type": "markdown",
   "metadata": {},
   "source": [
    "## Configuration"
   ]
  },
  {
   "cell_type": "code",
   "execution_count": 1,
   "metadata": {},
   "outputs": [],
   "source": [
    "DATA_FILE = '../data/2018-2019/postprocessed/final_for_analysis_R.csv'\n",
    "\n",
    "IMPUTE_MISSING = TRUE\n",
    "INCLUDE_FALL_WB_AS_PREDICTOR = TRUE\n",
    "INCLUDE_DEMOS_AS_PREDICTOR = TRUE\n",
    "# DV = 'Wellbeing_fall'\n",
    "DV = 'Wellbeing_spring'\n",
    "\n",
    "if (INCLUDE_FALL_WB_AS_PREDICTOR) {\n",
    "    stopifnot(DV == 'Wellbeing_spring')\n",
    "}"
   ]
  },
  {
   "cell_type": "markdown",
   "metadata": {},
   "source": [
    "## Import and load"
   ]
  },
  {
   "cell_type": "code",
   "execution_count": 2,
   "metadata": {},
   "outputs": [
    {
     "name": "stderr",
     "output_type": "stream",
     "text": [
      "Loading required package: carData\n",
      "\n",
      "── \u001b[1mAttaching packages\u001b[22m ─────────────────────────────────────── tidyverse 1.3.0 ──\n",
      "\n",
      "\u001b[32m✔\u001b[39m \u001b[34mggplot2\u001b[39m 3.2.1     \u001b[32m✔\u001b[39m \u001b[34mpurrr  \u001b[39m 0.3.3\n",
      "\u001b[32m✔\u001b[39m \u001b[34mtibble \u001b[39m 2.1.3     \u001b[32m✔\u001b[39m \u001b[34mdplyr  \u001b[39m 0.8.3\n",
      "\u001b[32m✔\u001b[39m \u001b[34mtidyr  \u001b[39m 1.0.0     \u001b[32m✔\u001b[39m \u001b[34mstringr\u001b[39m 1.4.0\n",
      "\u001b[32m✔\u001b[39m \u001b[34mreadr  \u001b[39m 1.3.1     \u001b[32m✔\u001b[39m \u001b[34mforcats\u001b[39m 0.4.0\n",
      "\n",
      "── \u001b[1mConflicts\u001b[22m ────────────────────────────────────────── tidyverse_conflicts() ──\n",
      "\u001b[31m✖\u001b[39m \u001b[34mdplyr\u001b[39m::\u001b[32mfilter()\u001b[39m masks \u001b[34mstats\u001b[39m::filter()\n",
      "\u001b[31m✖\u001b[39m \u001b[34mdplyr\u001b[39m::\u001b[32mlag()\u001b[39m    masks \u001b[34mstats\u001b[39m::lag()\n",
      "\u001b[31m✖\u001b[39m \u001b[34mdplyr\u001b[39m::\u001b[32mrecode()\u001b[39m masks \u001b[34mcar\u001b[39m::recode()\n",
      "\u001b[31m✖\u001b[39m \u001b[34mpurrr\u001b[39m::\u001b[32msome()\u001b[39m   masks \u001b[34mcar\u001b[39m::some()\n",
      "\n",
      "Loading required package: lattice\n",
      "\n",
      "Registered S3 methods overwritten by 'lme4':\n",
      "  method                          from\n",
      "  cooks.distance.influence.merMod car \n",
      "  influence.merMod                car \n",
      "  dfbeta.influence.merMod         car \n",
      "  dfbetas.influence.merMod        car \n",
      "\n",
      "\n",
      "Attaching package: ‘mice’\n",
      "\n",
      "\n",
      "The following object is masked from ‘package:tidyr’:\n",
      "\n",
      "    complete\n",
      "\n",
      "\n",
      "The following objects are masked from ‘package:base’:\n",
      "\n",
      "    cbind, rbind\n",
      "\n",
      "\n",
      "\n",
      "Attaching package: ‘nlme’\n",
      "\n",
      "\n",
      "The following object is masked from ‘package:dplyr’:\n",
      "\n",
      "    collapse\n",
      "\n",
      "\n",
      "Loading required package: Matrix\n",
      "\n",
      "\n",
      "Attaching package: ‘Matrix’\n",
      "\n",
      "\n",
      "The following objects are masked from ‘package:tidyr’:\n",
      "\n",
      "    expand, pack, unpack\n",
      "\n",
      "\n",
      "\n",
      "Attaching package: ‘lme4’\n",
      "\n",
      "\n",
      "The following object is masked from ‘package:nlme’:\n",
      "\n",
      "    lmList\n",
      "\n",
      "\n",
      "\n",
      "Attaching package: ‘lmerTest’\n",
      "\n",
      "\n",
      "The following object is masked from ‘package:lme4’:\n",
      "\n",
      "    lmer\n",
      "\n",
      "\n",
      "The following object is masked from ‘package:stats’:\n",
      "\n",
      "    step\n",
      "\n",
      "\n"
     ]
    }
   ],
   "source": [
    "library(car)\n",
    "library(tidyverse)\n",
    "library(hexbin)\n",
    "library(mice)\n",
    "library(nlme)\n",
    "library(lme4)\n",
    "library(lmerTest)\n",
    "\n",
    "options(width=200)"
   ]
  },
  {
   "cell_type": "code",
   "execution_count": 8,
   "metadata": {},
   "outputs": [
    {
     "data": {
      "text/html": [
       "<ol class=list-inline>\n",
       "\t<li>204</li>\n",
       "\t<li>9</li>\n",
       "</ol>\n"
      ],
      "text/latex": [
       "\\begin{enumerate*}\n",
       "\\item 204\n",
       "\\item 9\n",
       "\\end{enumerate*}\n"
      ],
      "text/markdown": [
       "1. 204\n",
       "2. 9\n",
       "\n",
       "\n"
      ],
      "text/plain": [
       "[1] 204   9"
      ]
     },
     "metadata": {},
     "output_type": "display_data"
    },
    {
     "data": {
      "text/html": [
       "<table>\n",
       "<caption>A data.frame: 6 × 9</caption>\n",
       "<thead>\n",
       "\t<tr><th></th><th scope=col>NID</th><th scope=col>Age</th><th scope=col>ParentEducationMax</th><th scope=col>FinclAid</th><th scope=col>FmlyIncome</th><th scope=col>Gender</th><th scope=col>Race</th><th scope=col>Wellbeing_fall</th><th scope=col>Wellbeing_spring</th></tr>\n",
       "\t<tr><th></th><th scope=col>&lt;dbl&gt;</th><th scope=col>&lt;dbl&gt;</th><th scope=col>&lt;dbl&gt;</th><th scope=col>&lt;dbl&gt;</th><th scope=col>&lt;dbl&gt;</th><th scope=col>&lt;fct&gt;</th><th scope=col>&lt;fct&gt;</th><th scope=col>&lt;dbl&gt;</th><th scope=col>&lt;dbl&gt;</th></tr>\n",
       "</thead>\n",
       "<tbody>\n",
       "\t<tr><th scope=row>1</th><td> 7</td><td>18</td><td>4.0</td><td>0</td><td> 87500</td><td>M</td><td>white      </td><td>-2.06354788</td><td>-0.76535414</td></tr>\n",
       "\t<tr><th scope=row>2</th><td>11</td><td>18</td><td>3.5</td><td>1</td><td>    NA</td><td>F</td><td>south_asian</td><td>-0.01143413</td><td>-0.04997158</td></tr>\n",
       "\t<tr><th scope=row>3</th><td> 9</td><td>18</td><td>4.0</td><td>1</td><td>125000</td><td>M</td><td>white      </td><td> 0.91965600</td><td> 0.66541099</td></tr>\n",
       "\t<tr><th scope=row>4</th><td> 4</td><td>18</td><td>4.0</td><td>0</td><td>200000</td><td>F</td><td>east_asian </td><td> 0.65342017</td><td> 0.48656535</td></tr>\n",
       "\t<tr><th scope=row>5</th><td> 5</td><td>18</td><td>2.5</td><td>1</td><td>125000</td><td>M</td><td>south_asian</td><td> 0.69839160</td><td>-0.04997158</td></tr>\n",
       "\t<tr><th scope=row>6</th><td>13</td><td>18</td><td>4.0</td><td>1</td><td> 45000</td><td>F</td><td>east_asian </td><td> 0.04290417</td><td>-0.13939440</td></tr>\n",
       "</tbody>\n",
       "</table>\n"
      ],
      "text/latex": [
       "A data.frame: 6 × 9\n",
       "\\begin{tabular}{r|lllllllll}\n",
       "  & NID & Age & ParentEducationMax & FinclAid & FmlyIncome & Gender & Race & Wellbeing\\_fall & Wellbeing\\_spring\\\\\n",
       "  & <dbl> & <dbl> & <dbl> & <dbl> & <dbl> & <fct> & <fct> & <dbl> & <dbl>\\\\\n",
       "\\hline\n",
       "\t1 &  7 & 18 & 4.0 & 0 &  87500 & M & white       & -2.06354788 & -0.76535414\\\\\n",
       "\t2 & 11 & 18 & 3.5 & 1 &     NA & F & south\\_asian & -0.01143413 & -0.04997158\\\\\n",
       "\t3 &  9 & 18 & 4.0 & 1 & 125000 & M & white       &  0.91965600 &  0.66541099\\\\\n",
       "\t4 &  4 & 18 & 4.0 & 0 & 200000 & F & east\\_asian  &  0.65342017 &  0.48656535\\\\\n",
       "\t5 &  5 & 18 & 2.5 & 1 & 125000 & M & south\\_asian &  0.69839160 & -0.04997158\\\\\n",
       "\t6 & 13 & 18 & 4.0 & 1 &  45000 & F & east\\_asian  &  0.04290417 & -0.13939440\\\\\n",
       "\\end{tabular}\n"
      ],
      "text/markdown": [
       "\n",
       "A data.frame: 6 × 9\n",
       "\n",
       "| <!--/--> | NID &lt;dbl&gt; | Age &lt;dbl&gt; | ParentEducationMax &lt;dbl&gt; | FinclAid &lt;dbl&gt; | FmlyIncome &lt;dbl&gt; | Gender &lt;fct&gt; | Race &lt;fct&gt; | Wellbeing_fall &lt;dbl&gt; | Wellbeing_spring &lt;dbl&gt; |\n",
       "|---|---|---|---|---|---|---|---|---|---|\n",
       "| 1 |  7 | 18 | 4.0 | 0 |  87500 | M | white       | -2.06354788 | -0.76535414 |\n",
       "| 2 | 11 | 18 | 3.5 | 1 |     NA | F | south_asian | -0.01143413 | -0.04997158 |\n",
       "| 3 |  9 | 18 | 4.0 | 1 | 125000 | M | white       |  0.91965600 |  0.66541099 |\n",
       "| 4 |  4 | 18 | 4.0 | 0 | 200000 | F | east_asian  |  0.65342017 |  0.48656535 |\n",
       "| 5 |  5 | 18 | 2.5 | 1 | 125000 | M | south_asian |  0.69839160 | -0.04997158 |\n",
       "| 6 | 13 | 18 | 4.0 | 1 |  45000 | F | east_asian  |  0.04290417 | -0.13939440 |\n",
       "\n"
      ],
      "text/plain": [
       "  NID Age ParentEducationMax FinclAid FmlyIncome Gender Race        Wellbeing_fall Wellbeing_spring\n",
       "1  7  18  4.0                0         87500     M      white       -2.06354788    -0.76535414     \n",
       "2 11  18  3.5                1            NA     F      south_asian -0.01143413    -0.04997158     \n",
       "3  9  18  4.0                1        125000     M      white        0.91965600     0.66541099     \n",
       "4  4  18  4.0                0        200000     F      east_asian   0.65342017     0.48656535     \n",
       "5  5  18  2.5                1        125000     M      south_asian  0.69839160    -0.04997158     \n",
       "6 13  18  4.0                1         45000     F      east_asian   0.04290417    -0.13939440     "
      ]
     },
     "metadata": {},
     "output_type": "display_data"
    }
   ],
   "source": [
    "df = read.csv(DATA_FILE, na.strings=c(\"\", \" \", \"NA\"))\n",
    "df = df[,c('NID', 'Age', 'ParentEducationMax',\n",
    "           'FinclAid', 'FmlyIncome', 'Gender', 'Race',\n",
    "           'Wellbeing_fall', 'Wellbeing_spring')]\n",
    "dim(df)\n",
    "head(df)"
   ]
  },
  {
   "cell_type": "code",
   "execution_count": 9,
   "metadata": {},
   "outputs": [
    {
     "name": "stdout",
     "output_type": "stream",
     "text": [
      "[1] \"Imputing missing values\"\n",
      "\n",
      " iter imp variable\n",
      "  1   1  ParentEducationMax  FinclAid  FmlyIncome  Race\n",
      "  1   2  ParentEducationMax  FinclAid  FmlyIncome  Race\n",
      "  1   3  ParentEducationMax  FinclAid  FmlyIncome  Race\n",
      "  1   4  ParentEducationMax  FinclAid  FmlyIncome  Race\n",
      "  1   5  ParentEducationMax  FinclAid  FmlyIncome  Race\n",
      "  2   1  ParentEducationMax  FinclAid  FmlyIncome  Race\n",
      "  2   2  ParentEducationMax  FinclAid  FmlyIncome  Race\n",
      "  2   3  ParentEducationMax  FinclAid  FmlyIncome  Race\n",
      "  2   4  ParentEducationMax  FinclAid  FmlyIncome  Race\n",
      "  2   5  ParentEducationMax  FinclAid  FmlyIncome  Race\n",
      "  3   1  ParentEducationMax  FinclAid  FmlyIncome  Race\n",
      "  3   2  ParentEducationMax  FinclAid  FmlyIncome  Race\n",
      "  3   3  ParentEducationMax  FinclAid  FmlyIncome  Race\n",
      "  3   4  ParentEducationMax  FinclAid  FmlyIncome  Race\n",
      "  3   5  ParentEducationMax  FinclAid  FmlyIncome  Race\n",
      "  4   1  ParentEducationMax  FinclAid  FmlyIncome  Race\n",
      "  4   2  ParentEducationMax  FinclAid  FmlyIncome  Race\n",
      "  4   3  ParentEducationMax  FinclAid  FmlyIncome  Race\n",
      "  4   4  ParentEducationMax  FinclAid  FmlyIncome  Race\n",
      "  4   5  ParentEducationMax  FinclAid  FmlyIncome  Race\n",
      "  5   1  ParentEducationMax  FinclAid  FmlyIncome  Race\n",
      "  5   2  ParentEducationMax  FinclAid  FmlyIncome  Race\n",
      "  5   3  ParentEducationMax  FinclAid  FmlyIncome  Race\n",
      "  5   4  ParentEducationMax  FinclAid  FmlyIncome  Race\n",
      "  5   5  ParentEducationMax  FinclAid  FmlyIncome  Race\n"
     ]
    },
    {
     "data": {
      "text/html": [
       "<table>\n",
       "<caption>A data.frame: 6 × 9</caption>\n",
       "<thead>\n",
       "\t<tr><th></th><th scope=col>NID</th><th scope=col>Age</th><th scope=col>ParentEducationMax</th><th scope=col>FinclAid</th><th scope=col>FmlyIncome</th><th scope=col>Gender</th><th scope=col>Race</th><th scope=col>Wellbeing_fall</th><th scope=col>Wellbeing_spring</th></tr>\n",
       "\t<tr><th></th><th scope=col>&lt;dbl&gt;</th><th scope=col>&lt;dbl&gt;</th><th scope=col>&lt;dbl&gt;</th><th scope=col>&lt;dbl&gt;</th><th scope=col>&lt;dbl&gt;</th><th scope=col>&lt;fct&gt;</th><th scope=col>&lt;fct&gt;</th><th scope=col>&lt;dbl&gt;</th><th scope=col>&lt;dbl&gt;</th></tr>\n",
       "</thead>\n",
       "<tbody>\n",
       "\t<tr><th scope=row>1</th><td> 7</td><td>18</td><td>4.0</td><td>0</td><td> 87500</td><td>M</td><td>white      </td><td>-2.06354788</td><td>-0.76535414</td></tr>\n",
       "\t<tr><th scope=row>2</th><td>11</td><td>18</td><td>3.5</td><td>1</td><td> 62500</td><td>F</td><td>south_asian</td><td>-0.01143413</td><td>-0.04997158</td></tr>\n",
       "\t<tr><th scope=row>3</th><td> 9</td><td>18</td><td>4.0</td><td>1</td><td>125000</td><td>M</td><td>white      </td><td> 0.91965600</td><td> 0.66541099</td></tr>\n",
       "\t<tr><th scope=row>4</th><td> 4</td><td>18</td><td>4.0</td><td>0</td><td>200000</td><td>F</td><td>east_asian </td><td> 0.65342017</td><td> 0.48656535</td></tr>\n",
       "\t<tr><th scope=row>5</th><td> 5</td><td>18</td><td>2.5</td><td>1</td><td>125000</td><td>M</td><td>south_asian</td><td> 0.69839160</td><td>-0.04997158</td></tr>\n",
       "\t<tr><th scope=row>6</th><td>13</td><td>18</td><td>4.0</td><td>1</td><td> 45000</td><td>F</td><td>east_asian </td><td> 0.04290417</td><td>-0.13939440</td></tr>\n",
       "</tbody>\n",
       "</table>\n"
      ],
      "text/latex": [
       "A data.frame: 6 × 9\n",
       "\\begin{tabular}{r|lllllllll}\n",
       "  & NID & Age & ParentEducationMax & FinclAid & FmlyIncome & Gender & Race & Wellbeing\\_fall & Wellbeing\\_spring\\\\\n",
       "  & <dbl> & <dbl> & <dbl> & <dbl> & <dbl> & <fct> & <fct> & <dbl> & <dbl>\\\\\n",
       "\\hline\n",
       "\t1 &  7 & 18 & 4.0 & 0 &  87500 & M & white       & -2.06354788 & -0.76535414\\\\\n",
       "\t2 & 11 & 18 & 3.5 & 1 &  62500 & F & south\\_asian & -0.01143413 & -0.04997158\\\\\n",
       "\t3 &  9 & 18 & 4.0 & 1 & 125000 & M & white       &  0.91965600 &  0.66541099\\\\\n",
       "\t4 &  4 & 18 & 4.0 & 0 & 200000 & F & east\\_asian  &  0.65342017 &  0.48656535\\\\\n",
       "\t5 &  5 & 18 & 2.5 & 1 & 125000 & M & south\\_asian &  0.69839160 & -0.04997158\\\\\n",
       "\t6 & 13 & 18 & 4.0 & 1 &  45000 & F & east\\_asian  &  0.04290417 & -0.13939440\\\\\n",
       "\\end{tabular}\n"
      ],
      "text/markdown": [
       "\n",
       "A data.frame: 6 × 9\n",
       "\n",
       "| <!--/--> | NID &lt;dbl&gt; | Age &lt;dbl&gt; | ParentEducationMax &lt;dbl&gt; | FinclAid &lt;dbl&gt; | FmlyIncome &lt;dbl&gt; | Gender &lt;fct&gt; | Race &lt;fct&gt; | Wellbeing_fall &lt;dbl&gt; | Wellbeing_spring &lt;dbl&gt; |\n",
       "|---|---|---|---|---|---|---|---|---|---|\n",
       "| 1 |  7 | 18 | 4.0 | 0 |  87500 | M | white       | -2.06354788 | -0.76535414 |\n",
       "| 2 | 11 | 18 | 3.5 | 1 |  62500 | F | south_asian | -0.01143413 | -0.04997158 |\n",
       "| 3 |  9 | 18 | 4.0 | 1 | 125000 | M | white       |  0.91965600 |  0.66541099 |\n",
       "| 4 |  4 | 18 | 4.0 | 0 | 200000 | F | east_asian  |  0.65342017 |  0.48656535 |\n",
       "| 5 |  5 | 18 | 2.5 | 1 | 125000 | M | south_asian |  0.69839160 | -0.04997158 |\n",
       "| 6 | 13 | 18 | 4.0 | 1 |  45000 | F | east_asian  |  0.04290417 | -0.13939440 |\n",
       "\n"
      ],
      "text/plain": [
       "  NID Age ParentEducationMax FinclAid FmlyIncome Gender Race        Wellbeing_fall Wellbeing_spring\n",
       "1  7  18  4.0                0         87500     M      white       -2.06354788    -0.76535414     \n",
       "2 11  18  3.5                1         62500     F      south_asian -0.01143413    -0.04997158     \n",
       "3  9  18  4.0                1        125000     M      white        0.91965600     0.66541099     \n",
       "4  4  18  4.0                0        200000     F      east_asian   0.65342017     0.48656535     \n",
       "5  5  18  2.5                1        125000     M      south_asian  0.69839160    -0.04997158     \n",
       "6 13  18  4.0                1         45000     F      east_asian   0.04290417    -0.13939440     "
      ]
     },
     "metadata": {},
     "output_type": "display_data"
    }
   ],
   "source": [
    "if (IMPUTE_MISSING) {\n",
    "    print(\"Imputing missing values\")\n",
    "    imp = mice(df)\n",
    "    df = complete(imp)\n",
    "    head(df)\n",
    "} else {\n",
    "    df = na.omit(df)\n",
    "}"
   ]
  },
  {
   "cell_type": "markdown",
   "metadata": {},
   "source": [
    "## Quick summary of whole-dorm well-beings"
   ]
  },
  {
   "cell_type": "code",
   "execution_count": 11,
   "metadata": {},
   "outputs": [
    {
     "data": {
      "text/html": [
       "<table>\n",
       "<caption>A tibble: 11 × 3</caption>\n",
       "<thead>\n",
       "\t<tr><th scope=col>NID</th><th scope=col>wb_fall</th><th scope=col>wb_spring</th></tr>\n",
       "\t<tr><th scope=col>&lt;dbl&gt;</th><th scope=col>&lt;dbl&gt;</th><th scope=col>&lt;dbl&gt;</th></tr>\n",
       "</thead>\n",
       "<tbody>\n",
       "\t<tr><td> 1</td><td> 0.17958135</td><td> 0.43067609</td></tr>\n",
       "\t<tr><td> 2</td><td> 0.10039586</td><td> 0.23049091</td></tr>\n",
       "\t<tr><td> 4</td><td>-0.04213750</td><td> 0.00871215</td></tr>\n",
       "\t<tr><td> 5</td><td> 0.05322856</td><td> 0.01841058</td></tr>\n",
       "\t<tr><td> 7</td><td> 0.06902635</td><td> 0.17164150</td></tr>\n",
       "\t<tr><td> 8</td><td>-0.15094904</td><td>-0.45876161</td></tr>\n",
       "\t<tr><td> 9</td><td>-0.09749154</td><td>-0.34804765</td></tr>\n",
       "\t<tr><td>10</td><td>-0.35117851</td><td>-0.30147326</td></tr>\n",
       "\t<tr><td>11</td><td> 0.14734051</td><td> 0.15272015</td></tr>\n",
       "\t<tr><td>13</td><td>-0.30415259</td><td>-0.49261454</td></tr>\n",
       "\t<tr><td>15</td><td> 0.43878610</td><td> 0.47538750</td></tr>\n",
       "</tbody>\n",
       "</table>\n"
      ],
      "text/latex": [
       "A tibble: 11 × 3\n",
       "\\begin{tabular}{lll}\n",
       " NID & wb\\_fall & wb\\_spring\\\\\n",
       " <dbl> & <dbl> & <dbl>\\\\\n",
       "\\hline\n",
       "\t  1 &  0.17958135 &  0.43067609\\\\\n",
       "\t  2 &  0.10039586 &  0.23049091\\\\\n",
       "\t  4 & -0.04213750 &  0.00871215\\\\\n",
       "\t  5 &  0.05322856 &  0.01841058\\\\\n",
       "\t  7 &  0.06902635 &  0.17164150\\\\\n",
       "\t  8 & -0.15094904 & -0.45876161\\\\\n",
       "\t  9 & -0.09749154 & -0.34804765\\\\\n",
       "\t 10 & -0.35117851 & -0.30147326\\\\\n",
       "\t 11 &  0.14734051 &  0.15272015\\\\\n",
       "\t 13 & -0.30415259 & -0.49261454\\\\\n",
       "\t 15 &  0.43878610 &  0.47538750\\\\\n",
       "\\end{tabular}\n"
      ],
      "text/markdown": [
       "\n",
       "A tibble: 11 × 3\n",
       "\n",
       "| NID &lt;dbl&gt; | wb_fall &lt;dbl&gt; | wb_spring &lt;dbl&gt; |\n",
       "|---|---|---|\n",
       "|  1 |  0.17958135 |  0.43067609 |\n",
       "|  2 |  0.10039586 |  0.23049091 |\n",
       "|  4 | -0.04213750 |  0.00871215 |\n",
       "|  5 |  0.05322856 |  0.01841058 |\n",
       "|  7 |  0.06902635 |  0.17164150 |\n",
       "|  8 | -0.15094904 | -0.45876161 |\n",
       "|  9 | -0.09749154 | -0.34804765 |\n",
       "| 10 | -0.35117851 | -0.30147326 |\n",
       "| 11 |  0.14734051 |  0.15272015 |\n",
       "| 13 | -0.30415259 | -0.49261454 |\n",
       "| 15 |  0.43878610 |  0.47538750 |\n",
       "\n"
      ],
      "text/plain": [
       "   NID wb_fall     wb_spring  \n",
       "1   1   0.17958135  0.43067609\n",
       "2   2   0.10039586  0.23049091\n",
       "3   4  -0.04213750  0.00871215\n",
       "4   5   0.05322856  0.01841058\n",
       "5   7   0.06902635  0.17164150\n",
       "6   8  -0.15094904 -0.45876161\n",
       "7   9  -0.09749154 -0.34804765\n",
       "8  10  -0.35117851 -0.30147326\n",
       "9  11   0.14734051  0.15272015\n",
       "10 13  -0.30415259 -0.49261454\n",
       "11 15   0.43878610  0.47538750"
      ]
     },
     "metadata": {},
     "output_type": "display_data"
    }
   ],
   "source": [
    "df %>% group_by(NID) %>%\n",
    "    summarize(wb_fall = mean(Wellbeing_fall),\n",
    "              wb_spring = mean(Wellbeing_spring))"
   ]
  },
  {
   "cell_type": "markdown",
   "metadata": {},
   "source": [
    "## Base model, minimal predictors"
   ]
  },
  {
   "cell_type": "code",
   "execution_count": 12,
   "metadata": {},
   "outputs": [
    {
     "data": {
      "text/plain": [
       "\n",
       "Call:\n",
       "lm(formula = as.formula(equation), data = df)\n",
       "\n",
       "Residuals:\n",
       "     Min       1Q   Median       3Q      Max \n",
       "-2.69297 -0.48662  0.06646  0.49158  2.76843 \n",
       "\n",
       "Coefficients:\n",
       "                 Estimate Std. Error t value Pr(>|t|)    \n",
       "(Intercept)    -3.286e-16  5.373e-02    0.00        1    \n",
       "Wellbeing_fall  6.433e-01  5.387e-02   11.94   <2e-16 ***\n",
       "---\n",
       "Signif. codes:  0 ‘***’ 0.001 ‘**’ 0.01 ‘*’ 0.05 ‘.’ 0.1 ‘ ’ 1\n",
       "\n",
       "Residual standard error: 0.7675 on 202 degrees of freedom\n",
       "Multiple R-squared:  0.4139,\tAdjusted R-squared:  0.411 \n",
       "F-statistic: 142.6 on 1 and 202 DF,  p-value: < 2.2e-16\n"
      ]
     },
     "metadata": {},
     "output_type": "display_data"
    }
   ],
   "source": [
    "equation = paste(DV, ' ~  1')\n",
    "if (INCLUDE_FALL_WB_AS_PREDICTOR) {\n",
    "    equation = paste(equation, '+ Wellbeing_fall')\n",
    "}\n",
    "model1 = lm(as.formula(equation), df)\n",
    "summary(model1)"
   ]
  },
  {
   "cell_type": "markdown",
   "metadata": {},
   "source": [
    "## Model with demographic covariates"
   ]
  },
  {
   "cell_type": "code",
   "execution_count": 13,
   "metadata": {},
   "outputs": [
    {
     "data": {
      "text/html": [
       "<ol class=list-inline>\n",
       "\t<li>'NID'</li>\n",
       "\t<li>'Age'</li>\n",
       "\t<li>'ParentEducationMax'</li>\n",
       "\t<li>'FinclAid'</li>\n",
       "\t<li>'FmlyIncome'</li>\n",
       "\t<li>'Gender'</li>\n",
       "\t<li>'Race'</li>\n",
       "\t<li>'Wellbeing_fall'</li>\n",
       "\t<li>'Wellbeing_spring'</li>\n",
       "</ol>\n"
      ],
      "text/latex": [
       "\\begin{enumerate*}\n",
       "\\item 'NID'\n",
       "\\item 'Age'\n",
       "\\item 'ParentEducationMax'\n",
       "\\item 'FinclAid'\n",
       "\\item 'FmlyIncome'\n",
       "\\item 'Gender'\n",
       "\\item 'Race'\n",
       "\\item 'Wellbeing\\_fall'\n",
       "\\item 'Wellbeing\\_spring'\n",
       "\\end{enumerate*}\n"
      ],
      "text/markdown": [
       "1. 'NID'\n",
       "2. 'Age'\n",
       "3. 'ParentEducationMax'\n",
       "4. 'FinclAid'\n",
       "5. 'FmlyIncome'\n",
       "6. 'Gender'\n",
       "7. 'Race'\n",
       "8. 'Wellbeing_fall'\n",
       "9. 'Wellbeing_spring'\n",
       "\n",
       "\n"
      ],
      "text/plain": [
       "[1] \"NID\"                \"Age\"                \"ParentEducationMax\" \"FinclAid\"           \"FmlyIncome\"         \"Gender\"             \"Race\"               \"Wellbeing_fall\"     \"Wellbeing_spring\"  "
      ]
     },
     "metadata": {},
     "output_type": "display_data"
    }
   ],
   "source": [
    "names(df)"
   ]
  },
  {
   "cell_type": "code",
   "execution_count": 14,
   "metadata": {},
   "outputs": [
    {
     "data": {
      "text/plain": [
       "\n",
       "Call:\n",
       "lm(formula = as.formula(equation), data = df)\n",
       "\n",
       "Residuals:\n",
       "    Min      1Q  Median      3Q     Max \n",
       "-2.5015 -0.4384  0.0441  0.4755  2.7326 \n",
       "\n",
       "Coefficients:\n",
       "                     Estimate Std. Error t value Pr(>|t|)    \n",
       "(Intercept)        -1.064e-01  1.056e+00  -0.101   0.9198    \n",
       "Wellbeing_fall      6.174e-01  5.649e-02  10.930   <2e-16 ***\n",
       "Age                -1.370e-02  5.295e-02  -0.259   0.7961    \n",
       "ParentEducationMax  4.165e-02  9.796e-02   0.425   0.6712    \n",
       "FinclAid           -2.560e-02  1.455e-01  -0.176   0.8605    \n",
       "FmlyIncome          1.514e-06  1.078e-06   1.404   0.1618    \n",
       "GenderM             1.907e-01  1.148e-01   1.662   0.0982 .  \n",
       "Genderother         2.555e-02  3.668e-01   0.070   0.9445    \n",
       "Raceeast_asian     -1.227e-02  2.214e-01  -0.055   0.9559    \n",
       "Racehispanic        1.670e-01  2.777e-01   0.601   0.5483    \n",
       "Raceother_or_mixed -1.330e-01  2.251e-01  -0.591   0.5553    \n",
       "Racesouth_asian    -2.575e-01  3.004e-01  -0.857   0.3923    \n",
       "Racewhite           1.359e-01  2.346e-01   0.579   0.5630    \n",
       "---\n",
       "Signif. codes:  0 ‘***’ 0.001 ‘**’ 0.01 ‘*’ 0.05 ‘.’ 0.1 ‘ ’ 1\n",
       "\n",
       "Residual standard error: 0.7658 on 191 degrees of freedom\n",
       "Multiple R-squared:  0.4482,\tAdjusted R-squared:  0.4136 \n",
       "F-statistic: 12.93 on 12 and 191 DF,  p-value: < 2.2e-16\n"
      ]
     },
     "metadata": {},
     "output_type": "display_data"
    }
   ],
   "source": [
    "if (INCLUDE_DEMOS_AS_PREDICTOR) {\n",
    "    equation = paste(equation, '+ Age + ParentEducationMax + FinclAid + FmlyIncome + Gender + Race')\n",
    "    model2 = lm(as.formula(equation), df)\n",
    "    summary(model2)\n",
    "} else {\n",
    "    model2 = model1\n",
    "}"
   ]
  },
  {
   "cell_type": "code",
   "execution_count": 15,
   "metadata": {},
   "outputs": [
    {
     "data": {
      "text/html": [
       "<table>\n",
       "<caption>A anova: 2 × 6</caption>\n",
       "<thead>\n",
       "\t<tr><th></th><th scope=col>Res.Df</th><th scope=col>RSS</th><th scope=col>Df</th><th scope=col>Sum of Sq</th><th scope=col>F</th><th scope=col>Pr(&gt;F)</th></tr>\n",
       "\t<tr><th></th><th scope=col>&lt;dbl&gt;</th><th scope=col>&lt;dbl&gt;</th><th scope=col>&lt;dbl&gt;</th><th scope=col>&lt;dbl&gt;</th><th scope=col>&lt;dbl&gt;</th><th scope=col>&lt;dbl&gt;</th></tr>\n",
       "</thead>\n",
       "<tbody>\n",
       "\t<tr><th scope=row>1</th><td>202</td><td>118.9815</td><td>NA</td><td>      NA</td><td>      NA</td><td>       NA</td></tr>\n",
       "\t<tr><th scope=row>2</th><td>191</td><td>112.0058</td><td>11</td><td>6.975638</td><td>1.081394</td><td>0.3781997</td></tr>\n",
       "</tbody>\n",
       "</table>\n"
      ],
      "text/latex": [
       "A anova: 2 × 6\n",
       "\\begin{tabular}{r|llllll}\n",
       "  & Res.Df & RSS & Df & Sum of Sq & F & Pr(>F)\\\\\n",
       "  & <dbl> & <dbl> & <dbl> & <dbl> & <dbl> & <dbl>\\\\\n",
       "\\hline\n",
       "\t1 & 202 & 118.9815 & NA &       NA &       NA &        NA\\\\\n",
       "\t2 & 191 & 112.0058 & 11 & 6.975638 & 1.081394 & 0.3781997\\\\\n",
       "\\end{tabular}\n"
      ],
      "text/markdown": [
       "\n",
       "A anova: 2 × 6\n",
       "\n",
       "| <!--/--> | Res.Df &lt;dbl&gt; | RSS &lt;dbl&gt; | Df &lt;dbl&gt; | Sum of Sq &lt;dbl&gt; | F &lt;dbl&gt; | Pr(&gt;F) &lt;dbl&gt; |\n",
       "|---|---|---|---|---|---|---|\n",
       "| 1 | 202 | 118.9815 | NA |       NA |       NA |        NA |\n",
       "| 2 | 191 | 112.0058 | 11 | 6.975638 | 1.081394 | 0.3781997 |\n",
       "\n"
      ],
      "text/plain": [
       "  Res.Df RSS      Df Sum of Sq F        Pr(>F)   \n",
       "1 202    118.9815 NA       NA        NA        NA\n",
       "2 191    112.0058 11 6.975638  1.081394 0.3781997"
      ]
     },
     "metadata": {},
     "output_type": "display_data"
    }
   ],
   "source": [
    "anova(model1, model2)"
   ]
  },
  {
   "cell_type": "code",
   "execution_count": 16,
   "metadata": {},
   "outputs": [
    {
     "name": "stderr",
     "output_type": "stream",
     "text": [
      "Warning message:\n",
      "“Some predictor variables are on very different scales: consider rescaling”\n",
      "Warning message:\n",
      "“Some predictor variables are on very different scales: consider rescaling”\n",
      "\n",
      "Correlation matrix not shown by default, as p = 13 > 12.\n",
      "Use print(obj, correlation=TRUE)  or\n",
      "    vcov(obj)        if you need it\n",
      "\n",
      "\n"
     ]
    },
    {
     "data": {
      "text/plain": [
       "Linear mixed model fit by REML. t-tests use Satterthwaite's method ['lmerModLmerTest']\n",
       "Formula: as.formula(paste(equation, \"+ (1|NID)\"))\n",
       "   Data: df\n",
       "\n",
       "REML criterion at convergence: 510.7\n",
       "\n",
       "Scaled residuals: \n",
       "    Min      1Q  Median      3Q     Max \n",
       "-3.2072 -0.5403  0.0714  0.5989  3.5186 \n",
       "\n",
       "Random effects:\n",
       " Groups   Name        Variance Std.Dev.\n",
       " NID      (Intercept) 0.01112  0.1054  \n",
       " Residual             0.57730  0.7598  \n",
       "Number of obs: 204, groups:  NID, 11\n",
       "\n",
       "Fixed effects:\n",
       "                     Estimate Std. Error         df t value Pr(>|t|)    \n",
       "(Intercept)        -4.503e-01  1.090e+00  9.226e+01  -0.413    0.681    \n",
       "Wellbeing_fall      6.123e-01  5.625e-02  1.871e+02  10.884   <2e-16 ***\n",
       "Age                 4.818e-03  5.483e-02  8.334e+01   0.088    0.930    \n",
       "ParentEducationMax  4.248e-02  9.778e-02  1.901e+02   0.434    0.665    \n",
       "FinclAid           -2.599e-02  1.453e-01  1.902e+02  -0.179    0.858    \n",
       "FmlyIncome          1.455e-06  1.073e-06  1.851e+02   1.357    0.176    \n",
       "GenderM             1.883e-01  1.144e-01  1.878e+02   1.646    0.101    \n",
       "Genderother         5.402e-02  3.666e-01  1.908e+02   0.147    0.883    \n",
       "Raceeast_asian      2.375e-03  2.265e-01  1.219e+02   0.010    0.992    \n",
       "Racehispanic        1.738e-01  2.798e-01  1.797e+02   0.621    0.535    \n",
       "Raceother_or_mixed -1.380e-01  2.273e-01  1.714e+02  -0.607    0.545    \n",
       "Racesouth_asian    -2.373e-01  3.043e-01  1.618e+02  -0.780    0.437    \n",
       "Racewhite           1.245e-01  2.388e-01  1.419e+02   0.522    0.603    \n",
       "---\n",
       "Signif. codes:  0 ‘***’ 0.001 ‘**’ 0.01 ‘*’ 0.05 ‘.’ 0.1 ‘ ’ 1\n",
       "fit warnings:\n",
       "Some predictor variables are on very different scales: consider rescaling"
      ]
     },
     "metadata": {},
     "output_type": "display_data"
    }
   ],
   "source": [
    "model3 = lmer(as.formula(paste(equation, '+ (1|NID)')), data=df, REML=TRUE)\n",
    "summary(model3)"
   ]
  },
  {
   "cell_type": "code",
   "execution_count": 17,
   "metadata": {},
   "outputs": [
    {
     "name": "stderr",
     "output_type": "stream",
     "text": [
      "Warning message:\n",
      "“Some predictor variables are on very different scales: consider rescaling”\n",
      "Warning message:\n",
      "“Some predictor variables are on very different scales: consider rescaling”\n"
     ]
    },
    {
     "data": {
      "text/html": [
       "<table>\n",
       "<caption>A anova: 2 × 8</caption>\n",
       "<thead>\n",
       "\t<tr><th></th><th scope=col>Df</th><th scope=col>AIC</th><th scope=col>BIC</th><th scope=col>logLik</th><th scope=col>deviance</th><th scope=col>Chisq</th><th scope=col>Chi Df</th><th scope=col>Pr(&gt;Chisq)</th></tr>\n",
       "\t<tr><th></th><th scope=col>&lt;dbl&gt;</th><th scope=col>&lt;dbl&gt;</th><th scope=col>&lt;dbl&gt;</th><th scope=col>&lt;dbl&gt;</th><th scope=col>&lt;dbl&gt;</th><th scope=col>&lt;dbl&gt;</th><th scope=col>&lt;dbl&gt;</th><th scope=col>&lt;dbl&gt;</th></tr>\n",
       "</thead>\n",
       "<tbody>\n",
       "\t<tr><th scope=row>model2</th><td>14</td><td>484.6148</td><td>531.0685</td><td>-228.3074</td><td>456.6148</td><td>       NA</td><td>NA</td><td>       NA</td></tr>\n",
       "\t<tr><th scope=row>model4</th><td>15</td><td>486.5946</td><td>536.3664</td><td>-228.2973</td><td>456.5946</td><td>0.0201803</td><td> 1</td><td>0.8870347</td></tr>\n",
       "</tbody>\n",
       "</table>\n"
      ],
      "text/latex": [
       "A anova: 2 × 8\n",
       "\\begin{tabular}{r|llllllll}\n",
       "  & Df & AIC & BIC & logLik & deviance & Chisq & Chi Df & Pr(>Chisq)\\\\\n",
       "  & <dbl> & <dbl> & <dbl> & <dbl> & <dbl> & <dbl> & <dbl> & <dbl>\\\\\n",
       "\\hline\n",
       "\tmodel2 & 14 & 484.6148 & 531.0685 & -228.3074 & 456.6148 &        NA & NA &        NA\\\\\n",
       "\tmodel4 & 15 & 486.5946 & 536.3664 & -228.2973 & 456.5946 & 0.0201803 &  1 & 0.8870347\\\\\n",
       "\\end{tabular}\n"
      ],
      "text/markdown": [
       "\n",
       "A anova: 2 × 8\n",
       "\n",
       "| <!--/--> | Df &lt;dbl&gt; | AIC &lt;dbl&gt; | BIC &lt;dbl&gt; | logLik &lt;dbl&gt; | deviance &lt;dbl&gt; | Chisq &lt;dbl&gt; | Chi Df &lt;dbl&gt; | Pr(&gt;Chisq) &lt;dbl&gt; |\n",
       "|---|---|---|---|---|---|---|---|---|\n",
       "| model2 | 14 | 484.6148 | 531.0685 | -228.3074 | 456.6148 |        NA | NA |        NA |\n",
       "| model4 | 15 | 486.5946 | 536.3664 | -228.2973 | 456.5946 | 0.0201803 |  1 | 0.8870347 |\n",
       "\n"
      ],
      "text/plain": [
       "       Df AIC      BIC      logLik    deviance Chisq     Chi Df Pr(>Chisq)\n",
       "model2 14 484.6148 531.0685 -228.3074 456.6148        NA NA            NA \n",
       "model4 15 486.5946 536.3664 -228.2973 456.5946 0.0201803  1     0.8870347 "
      ]
     },
     "metadata": {},
     "output_type": "display_data"
    }
   ],
   "source": [
    "model4 = lmer(as.formula(paste(equation, '+ (1|NID)')), data=df, REML=FALSE)\n",
    "anova(model4, model2)#, refit=FALSE)"
   ]
  },
  {
   "cell_type": "code",
   "execution_count": null,
   "metadata": {},
   "outputs": [],
   "source": []
  }
 ],
 "metadata": {
  "kernelspec": {
   "display_name": "R",
   "language": "R",
   "name": "r-3.6.2"
  },
  "language_info": {
   "codemirror_mode": "r",
   "file_extension": ".r",
   "mimetype": "text/x-r-source",
   "name": "R",
   "pygments_lexer": "r",
   "version": "3.6.2"
  },
  "toc": {
   "base_numbering": 1,
   "nav_menu": {},
   "number_sections": true,
   "sideBar": true,
   "skip_h1_title": true,
   "title_cell": "Table of Contents",
   "title_sidebar": "Contents",
   "toc_cell": true,
   "toc_position": {},
   "toc_section_display": true,
   "toc_window_display": true
  }
 },
 "nbformat": 4,
 "nbformat_minor": 2
}

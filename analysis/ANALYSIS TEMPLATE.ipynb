{
 "cells": [
  {
   "cell_type": "markdown",
   "metadata": {},
   "source": [
    "# Jupyter Notebook Analysis Template\n",
    "\n",
    "* Start with a Markdown cell like this one. Have a level-1 header line (`#`) with a quick title, like the one above.\n",
    "* In this same cell, in normal text, write a summary of analysis and major findings here. The goals is to let people get \"the point\" without having to scrutinize the notebook. \n",
    "* Also include your name in an Author line, so we know who to contact with questions.\n",
    "* The actual coding part of the notebook should be sectioned for easy reading. Use level 2 headings (`##`) for major sections, and lower-level headings for subsections (e.g. `###` and `####`). \n",
    "* HIGHLY recommend to install the \"Table of Contents\" notebook extension ([here](https://jupyter-contrib-nbextensions.readthedocs.io/en/latest/nbextensions/toc2/README.html)), which auto-generates the cell you see below based on markdown headers and their sizes.\n",
    "* Also HIGHLY recommend the \"watermark\" extension, which prints the versions of all the libraries you're using to help people ensure their code is compatible. See the bottom of the imports section for how to use it and what it looks like.\n",
    "\n",
    "**Author: Everett Wetchler (`everett.wetchler@gmail.com`)**"
   ]
  },
  {
   "cell_type": "markdown",
   "metadata": {
    "toc": true
   },
   "source": [
    "<h1>Table of Contents<span class=\"tocSkip\"></span></h1>\n",
    "<div class=\"toc\"><ul class=\"toc-item\"><li><span><a href=\"#Constants-and-configuation\" data-toc-modified-id=\"Constants-and-configuation-1\"><span class=\"toc-item-num\">1&nbsp;&nbsp;</span>Constants and configuation</a></span></li><li><span><a href=\"#Imports-and-helper-functions\" data-toc-modified-id=\"Imports-and-helper-functions-2\"><span class=\"toc-item-num\">2&nbsp;&nbsp;</span>Imports and helper functions</a></span></li><li><span><a href=\"#Load-datasets\" data-toc-modified-id=\"Load-datasets-3\"><span class=\"toc-item-num\">3&nbsp;&nbsp;</span>Load datasets</a></span></li><li><span><a href=\"#Analysis\" data-toc-modified-id=\"Analysis-4\"><span class=\"toc-item-num\">4&nbsp;&nbsp;</span>Analysis</a></span></li></ul></div>"
   ]
  },
  {
   "cell_type": "markdown",
   "metadata": {},
   "source": [
    "## Constants and configuation"
   ]
  },
  {
   "cell_type": "code",
   "execution_count": 1,
   "metadata": {},
   "outputs": [],
   "source": [
    "# I like to define constants for where my data is stored, and reuse them\n",
    "# throughout the notebook. This helps avoid errors, makes it easy to update\n",
    "# the whole notebook if I move the files around, and is useful if I want to\n",
    "# to run the same analysis on a slightly different dataset.\n",
    "DATA_INPUT_DIR = 'data/'\n",
    "OUTPUT_PLOT_FILENAME = 'results/figure.png'"
   ]
  },
  {
   "cell_type": "markdown",
   "metadata": {},
   "source": [
    "## Imports and helper functions"
   ]
  },
  {
   "cell_type": "code",
   "execution_count": 2,
   "metadata": {},
   "outputs": [
    {
     "name": "stdout",
     "output_type": "stream",
     "text": [
      "Everett Wetchler 2019-11-13 13:11:56 PST \n",
      "\n",
      "CPython 3.6.5\n",
      "IPython 7.8.0\n",
      "\n",
      "numpy 1.17.3\n",
      "pandas 0.25.1\n",
      "matplotlib 3.1.0\n",
      "seaborn 0.9.0\n",
      "watermark 2.0.1\n"
     ]
    }
   ],
   "source": [
    "# Example\n",
    "\n",
    "%matplotlib inline\n",
    "\n",
    "import datetime as dt\n",
    "import os\n",
    "import random\n",
    "import simplejson as json\n",
    "\n",
    "import matplotlib as mpl\n",
    "import matplotlib.pyplot as plt\n",
    "import numpy as np\n",
    "import pandas as pd\n",
    "from scipy import stats\n",
    "import seaborn as sns\n",
    "sns.set()\n",
    "\n",
    "pd.set_option('display.max_rows', 100)\n",
    "pd.set_option('display.max_columns', 500)\n",
    "\n",
    "# Watermark extension to print version/system information\n",
    "# Flags:\n",
    "# -a [author] --v (python/ipython versions) -d (date)\n",
    "# -t (time) -z (timezone) -r (repo)\n",
    "# -g (git hash) -w (watermark version)\n",
    "# -p [packages] (package info)\n",
    "%load_ext watermark\n",
    "%watermark -a 'Everett Wetchler' -v -d -t -z -w -p numpy,pandas,matplotlib,seaborn"
   ]
  },
  {
   "cell_type": "markdown",
   "metadata": {},
   "source": [
    "## Load datasets"
   ]
  },
  {
   "cell_type": "code",
   "execution_count": null,
   "metadata": {},
   "outputs": [],
   "source": [
    "# Show the `head` and datset size (shape) so we can quickly see what we're working with\n",
    "pd.read_csv(...)"
   ]
  },
  {
   "cell_type": "markdown",
   "metadata": {},
   "source": [
    "## Analysis"
   ]
  },
  {
   "cell_type": "code",
   "execution_count": null,
   "metadata": {},
   "outputs": [],
   "source": [
    "# Break into subsections as needed"
   ]
  },
  {
   "cell_type": "code",
   "execution_count": null,
   "metadata": {},
   "outputs": [],
   "source": []
  }
 ],
 "metadata": {
  "kernelspec": {
   "display_name": "Python 3.6.5 (pyenv)",
   "language": "python",
   "name": "pyenv3.6.5"
  },
  "language_info": {
   "codemirror_mode": {
    "name": "ipython",
    "version": 3
   },
   "file_extension": ".py",
   "mimetype": "text/x-python",
   "name": "python",
   "nbconvert_exporter": "python",
   "pygments_lexer": "ipython3",
   "version": "3.6.5"
  },
  "toc": {
   "base_numbering": 1,
   "nav_menu": {},
   "number_sections": true,
   "sideBar": true,
   "skip_h1_title": true,
   "title_cell": "Table of Contents",
   "title_sidebar": "Contents",
   "toc_cell": true,
   "toc_position": {},
   "toc_section_display": true,
   "toc_window_display": true
  }
 },
 "nbformat": 4,
 "nbformat_minor": 2
}

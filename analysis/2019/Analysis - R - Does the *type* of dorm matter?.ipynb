{
 "cells": [
  {
   "cell_type": "markdown",
   "metadata": {},
   "source": [
    "# Do freshmen fare better when placed in all-frosh dorms?\n",
    "Answer: No. But higher-well-being freshmen are more likely to be initially placed in all-frosh dorms.\n",
    "\n",
    "**Author: Everett Wetchler (`everett.wetchler@gmail.com`)**"
   ]
  },
  {
   "cell_type": "markdown",
   "metadata": {
    "toc": true
   },
   "source": [
    "<h1>Table of Contents<span class=\"tocSkip\"></span></h1>\n",
    "<div class=\"toc\"><ul class=\"toc-item\"><li><span><a href=\"#Import-and-load\" data-toc-modified-id=\"Import-and-load-1\"><span class=\"toc-item-num\">1&nbsp;&nbsp;</span>Import and load</a></span></li><li><span><a href=\"#De-dup-and-merge\" data-toc-modified-id=\"De-dup-and-merge-2\"><span class=\"toc-item-num\">2&nbsp;&nbsp;</span>De-dup and merge</a></span></li><li><span><a href=\"#Test-for-linear-effect-of-being-in-an-all-frosh-dorm\" data-toc-modified-id=\"Test-for-linear-effect-of-being-in-an-all-frosh-dorm-3\"><span class=\"toc-item-num\">3&nbsp;&nbsp;</span>Test for linear effect of being in an all-frosh dorm</a></span></li><li><span><a href=\"#Test-for-t1-difference-in-frosh-vs-non-frosh-students\" data-toc-modified-id=\"Test-for-t1-difference-in-frosh-vs-non-frosh-students-4\"><span class=\"toc-item-num\">4&nbsp;&nbsp;</span>Test for t1 difference in frosh vs non-frosh students</a></span></li></ul></div>"
   ]
  },
  {
   "cell_type": "markdown",
   "metadata": {},
   "source": [
    "## Import and load"
   ]
  },
  {
   "cell_type": "code",
   "execution_count": 15,
   "metadata": {},
   "outputs": [],
   "source": [
    "library(car)\n",
    "library(tidyverse)\n",
    "library(hexbin)\n",
    "library(mice)\n",
    "library(nlme)\n",
    "library(lme4)\n",
    "library(lmerTest)\n",
    "\n",
    "# Display more data in the Jupyter notebook\n",
    "options(repr.matrix.max.cols=500, repr.matrix.max.rows=100)\n",
    "\n",
    "# Set default plot size\n",
    "options(repr.plot.width=6, repr.plot.height=6)"
   ]
  },
  {
   "cell_type": "code",
   "execution_count": 22,
   "metadata": {},
   "outputs": [
    {
     "data": {
      "text/html": [
       "<ol class=list-inline>\n",
       "\t<li>13928</li>\n",
       "\t<li>7</li>\n",
       "</ol>\n"
      ],
      "text/latex": [
       "\\begin{enumerate*}\n",
       "\\item 13928\n",
       "\\item 7\n",
       "\\end{enumerate*}\n"
      ],
      "text/markdown": [
       "1. 13928\n",
       "2. 7\n",
       "\n",
       "\n"
      ],
      "text/plain": [
       "[1] 13928     7"
      ]
     },
     "metadata": {},
     "output_type": "display_data"
    },
    {
     "data": {
      "text/html": [
       "<table>\n",
       "<caption>A data.frame: 6 × 7</caption>\n",
       "<thead>\n",
       "\t<tr><th></th><th scope=col>PID</th><th scope=col>frosh</th><th scope=col>DID</th><th scope=col>HID</th><th scope=col>dormClass</th><th scope=col>dormType</th><th scope=col>participatingDorm</th></tr>\n",
       "\t<tr><th></th><th scope=col>&lt;int&gt;</th><th scope=col>&lt;int&gt;</th><th scope=col>&lt;fct&gt;</th><th scope=col>&lt;fct&gt;</th><th scope=col>&lt;fct&gt;</th><th scope=col>&lt;fct&gt;</th><th scope=col>&lt;int&gt;</th></tr>\n",
       "</thead>\n",
       "<tbody>\n",
       "\t<tr><th scope=row>1</th><td>1000</td><td>0</td><td>53</td><td>6</td><td>upper</td><td>vegetarian</td><td>0</td></tr>\n",
       "\t<tr><th scope=row>2</th><td>1001</td><td>1</td><td>30</td><td>5</td><td>frosh</td><td>no type   </td><td>1</td></tr>\n",
       "\t<tr><th scope=row>3</th><td>1001</td><td>1</td><td>30</td><td>5</td><td>frosh</td><td>no type   </td><td>1</td></tr>\n",
       "\t<tr><th scope=row>4</th><td>1002</td><td>0</td><td>46</td><td>7</td><td>upper</td><td>no type   </td><td>0</td></tr>\n",
       "\t<tr><th scope=row>5</th><td>1002</td><td>0</td><td>46</td><td>7</td><td>upper</td><td>no type   </td><td>0</td></tr>\n",
       "\t<tr><th scope=row>6</th><td>1003</td><td>0</td><td>42</td><td>8</td><td>upper</td><td>no type   </td><td>0</td></tr>\n",
       "</tbody>\n",
       "</table>\n"
      ],
      "text/latex": [
       "A data.frame: 6 × 7\n",
       "\\begin{tabular}{r|lllllll}\n",
       "  & PID & frosh & DID & HID & dormClass & dormType & participatingDorm\\\\\n",
       "  & <int> & <int> & <fct> & <fct> & <fct> & <fct> & <int>\\\\\n",
       "\\hline\n",
       "\t1 & 1000 & 0 & 53 & 6 & upper & vegetarian & 0\\\\\n",
       "\t2 & 1001 & 1 & 30 & 5 & frosh & no type    & 1\\\\\n",
       "\t3 & 1001 & 1 & 30 & 5 & frosh & no type    & 1\\\\\n",
       "\t4 & 1002 & 0 & 46 & 7 & upper & no type    & 0\\\\\n",
       "\t5 & 1002 & 0 & 46 & 7 & upper & no type    & 0\\\\\n",
       "\t6 & 1003 & 0 & 42 & 8 & upper & no type    & 0\\\\\n",
       "\\end{tabular}\n"
      ],
      "text/markdown": [
       "\n",
       "A data.frame: 6 × 7\n",
       "\n",
       "| <!--/--> | PID &lt;int&gt; | frosh &lt;int&gt; | DID &lt;fct&gt; | HID &lt;fct&gt; | dormClass &lt;fct&gt; | dormType &lt;fct&gt; | participatingDorm &lt;int&gt; |\n",
       "|---|---|---|---|---|---|---|---|\n",
       "| 1 | 1000 | 0 | 53 | 6 | upper | vegetarian | 0 |\n",
       "| 2 | 1001 | 1 | 30 | 5 | frosh | no type    | 1 |\n",
       "| 3 | 1001 | 1 | 30 | 5 | frosh | no type    | 1 |\n",
       "| 4 | 1002 | 0 | 46 | 7 | upper | no type    | 0 |\n",
       "| 5 | 1002 | 0 | 46 | 7 | upper | no type    | 0 |\n",
       "| 6 | 1003 | 0 | 42 | 8 | upper | no type    | 0 |\n",
       "\n"
      ],
      "text/plain": [
       "  PID  frosh DID HID dormClass dormType   participatingDorm\n",
       "1 1000 0     53  6   upper     vegetarian 0                \n",
       "2 1001 1     30  5   frosh     no type    1                \n",
       "3 1001 1     30  5   frosh     no type    1                \n",
       "4 1002 0     46  7   upper     no type    0                \n",
       "5 1002 0     46  7   upper     no type    0                \n",
       "6 1003 0     42  8   upper     no type    0                "
      ]
     },
     "metadata": {},
     "output_type": "display_data"
    }
   ],
   "source": [
    "dorms = read.csv('../data/2019–2020/PID_dorm_info.csv', na.strings=c(\"\", \" \", \"NA\"))\n",
    "dim(dorms)\n",
    "dorms = dorms %>% arrange(PID)\n",
    "head(dorms)"
   ]
  },
  {
   "cell_type": "code",
   "execution_count": 7,
   "metadata": {},
   "outputs": [
    {
     "data": {
      "text/html": [
       "<ol class=list-inline>\n",
       "\t<li>702</li>\n",
       "\t<li>60</li>\n",
       "</ol>\n"
      ],
      "text/latex": [
       "\\begin{enumerate*}\n",
       "\\item 702\n",
       "\\item 60\n",
       "\\end{enumerate*}\n"
      ],
      "text/markdown": [
       "1. 702\n",
       "2. 60\n",
       "\n",
       "\n"
      ],
      "text/plain": [
       "[1] 702  60"
      ]
     },
     "metadata": {},
     "output_type": "display_data"
    },
    {
     "data": {
      "text/html": [
       "<table>\n",
       "<caption>A data.frame: 6 × 60</caption>\n",
       "<thead>\n",
       "\t<tr><th></th><th scope=col>PID</th><th scope=col>gender</th><th scope=col>race</th><th scope=col>dorm</th><th scope=col>life_satisfaction_t1</th><th scope=col>empathy</th><th scope=col>loneliness_t1</th><th scope=col>stress_t1</th><th scope=col>BFI_E</th><th scope=col>BFI_A</th><th scope=col>BFI_C</th><th scope=col>BFI_N</th><th scope=col>BFI_O</th><th scope=col>intl_student</th><th scope=col>family_income</th><th scope=col>life_satisfaction_t2</th><th scope=col>loneliness_t2</th><th scope=col>stress_t2</th><th scope=col>parent_education_highest</th><th scope=col>wellbeing_composite_t1</th><th scope=col>wellbeing_composite_t2</th><th scope=col>degree_in_UNION</th><th scope=col>degree_out_UNION</th><th scope=col>empathy_UNION</th><th scope=col>degree_in_INTIMATE</th><th scope=col>degree_out_INTIMATE</th><th scope=col>empathy_INTIMATE</th><th scope=col>degree_in_ACQUAINTANCE</th><th scope=col>degree_out_ACQUAINTANCE</th><th scope=col>empathy_ACQUAINTANCE</th><th scope=col>degree_in_CloseFrds</th><th scope=col>degree_out_CloseFrds</th><th scope=col>empathy_CloseFrds</th><th scope=col>degree_in_NegEmoSupp</th><th scope=col>degree_out_NegEmoSupp</th><th scope=col>empathy_NegEmoSupp</th><th scope=col>degree_in_PosEmoSupp</th><th scope=col>degree_out_PosEmoSupp</th><th scope=col>empathy_PosEmoSupp</th><th scope=col>degree_in_Responsive</th><th scope=col>degree_out_Responsive</th><th scope=col>empathy_Responsive</th><th scope=col>degree_in_EmpSupp</th><th scope=col>degree_out_EmpSupp</th><th scope=col>empathy_EmpSupp</th><th scope=col>degree_in_PosAff</th><th scope=col>degree_out_PosAff</th><th scope=col>empathy_PosAff</th><th scope=col>degree_in_NegAff</th><th scope=col>degree_out_NegAff</th><th scope=col>empathy_NegAff</th><th scope=col>degree_in_Gossip</th><th scope=col>degree_out_Gossip</th><th scope=col>empathy_Gossip</th><th scope=col>degree_in_Liked</th><th scope=col>degree_out_Liked</th><th scope=col>empathy_Liked</th><th scope=col>degree_in_StudyWith</th><th scope=col>degree_out_StudyWith</th><th scope=col>empathy_StudyWith</th></tr>\n",
       "\t<tr><th></th><th scope=col>&lt;int&gt;</th><th scope=col>&lt;fct&gt;</th><th scope=col>&lt;fct&gt;</th><th scope=col>&lt;fct&gt;</th><th scope=col>&lt;dbl&gt;</th><th scope=col>&lt;dbl&gt;</th><th scope=col>&lt;dbl&gt;</th><th scope=col>&lt;dbl&gt;</th><th scope=col>&lt;dbl&gt;</th><th scope=col>&lt;dbl&gt;</th><th scope=col>&lt;dbl&gt;</th><th scope=col>&lt;dbl&gt;</th><th scope=col>&lt;dbl&gt;</th><th scope=col>&lt;int&gt;</th><th scope=col>&lt;int&gt;</th><th scope=col>&lt;dbl&gt;</th><th scope=col>&lt;dbl&gt;</th><th scope=col>&lt;dbl&gt;</th><th scope=col>&lt;int&gt;</th><th scope=col>&lt;dbl&gt;</th><th scope=col>&lt;dbl&gt;</th><th scope=col>&lt;int&gt;</th><th scope=col>&lt;int&gt;</th><th scope=col>&lt;dbl&gt;</th><th scope=col>&lt;int&gt;</th><th scope=col>&lt;int&gt;</th><th scope=col>&lt;dbl&gt;</th><th scope=col>&lt;int&gt;</th><th scope=col>&lt;int&gt;</th><th scope=col>&lt;dbl&gt;</th><th scope=col>&lt;int&gt;</th><th scope=col>&lt;int&gt;</th><th scope=col>&lt;dbl&gt;</th><th scope=col>&lt;int&gt;</th><th scope=col>&lt;int&gt;</th><th scope=col>&lt;dbl&gt;</th><th scope=col>&lt;int&gt;</th><th scope=col>&lt;int&gt;</th><th scope=col>&lt;dbl&gt;</th><th scope=col>&lt;int&gt;</th><th scope=col>&lt;int&gt;</th><th scope=col>&lt;dbl&gt;</th><th scope=col>&lt;int&gt;</th><th scope=col>&lt;int&gt;</th><th scope=col>&lt;dbl&gt;</th><th scope=col>&lt;int&gt;</th><th scope=col>&lt;int&gt;</th><th scope=col>&lt;dbl&gt;</th><th scope=col>&lt;int&gt;</th><th scope=col>&lt;int&gt;</th><th scope=col>&lt;dbl&gt;</th><th scope=col>&lt;int&gt;</th><th scope=col>&lt;int&gt;</th><th scope=col>&lt;dbl&gt;</th><th scope=col>&lt;int&gt;</th><th scope=col>&lt;int&gt;</th><th scope=col>&lt;dbl&gt;</th><th scope=col>&lt;int&gt;</th><th scope=col>&lt;int&gt;</th><th scope=col>&lt;dbl&gt;</th></tr>\n",
       "</thead>\n",
       "<tbody>\n",
       "\t<tr><th scope=row>1</th><td>1001</td><td>male  </td><td>south_asian   </td><td>Rinconada</td><td>4.833333</td><td>6.375</td><td>1.333333</td><td>2.5</td><td>6.5</td><td>6.0</td><td>5.5</td><td>3.5</td><td>6.5</td><td>0</td><td> 70000</td><td>6.166667</td><td>2.000000</td><td>1.5</td><td>5</td><td>-0.05862651</td><td> 0.83993983</td><td>3</td><td>0</td><td>      NA</td><td>1</td><td>0</td><td>    NA</td><td>1</td><td>0</td><td>      NA</td><td>1</td><td>0</td><td>    NA</td><td>0</td><td>0</td><td>      NA</td><td>2</td><td>0</td><td>    NA</td><td>0</td><td>0</td><td>    NA</td><td>0</td><td>0</td><td>    NA</td><td>1</td><td>0</td><td>    NA</td><td>0</td><td>0</td><td> NA</td><td>1</td><td>0</td><td>      NA</td><td>1</td><td>0</td><td>   NA</td><td>1</td><td>0</td><td>    NA</td></tr>\n",
       "\t<tr><th scope=row>2</th><td>1004</td><td>female</td><td>south_asian   </td><td>Donner   </td><td>2.833333</td><td>6.000</td><td>2.000000</td><td>2.0</td><td>4.0</td><td>5.5</td><td>4.5</td><td>3.0</td><td>5.5</td><td>1</td><td> 10000</td><td>3.000000</td><td>2.666667</td><td>3.0</td><td>1</td><td>-0.98138408</td><td>-1.95722956</td><td>7</td><td>6</td><td>5.479167</td><td>5</td><td>4</td><td>5.6250</td><td>0</td><td>3</td><td>5.916667</td><td>4</td><td>4</td><td>5.6250</td><td>5</td><td>1</td><td>4.750000</td><td>4</td><td>4</td><td>5.4375</td><td>2</td><td>2</td><td>5.5000</td><td>3</td><td>1</td><td>4.7500</td><td>2</td><td>1</td><td>4.7500</td><td>1</td><td>0</td><td> NA</td><td>1</td><td>1</td><td>4.750000</td><td>1</td><td>1</td><td>4.750</td><td>3</td><td>2</td><td>5.5625</td></tr>\n",
       "\t<tr><th scope=row>3</th><td>1047</td><td>female</td><td>other_or_mixed</td><td>Twain    </td><td>5.333333</td><td>6.500</td><td>2.000000</td><td>2.5</td><td>5.5</td><td>6.5</td><td>7.0</td><td>3.0</td><td>6.5</td><td>0</td><td>210000</td><td>5.166667</td><td>2.000000</td><td>3.0</td><td>5</td><td>-0.44690440</td><td>-0.66253028</td><td>6</td><td>4</td><td>6.437500</td><td>4</td><td>4</td><td>6.4375</td><td>0</td><td>1</td><td>6.125000</td><td>4</td><td>4</td><td>6.4375</td><td>4</td><td>3</td><td>6.541667</td><td>3</td><td>4</td><td>6.4375</td><td>2</td><td>2</td><td>6.5625</td><td>1</td><td>2</td><td>6.5625</td><td>3</td><td>4</td><td>6.4375</td><td>1</td><td>1</td><td>6.5</td><td>4</td><td>3</td><td>6.541667</td><td>1</td><td>2</td><td>6.000</td><td>2</td><td>1</td><td>6.6250</td></tr>\n",
       "\t<tr><th scope=row>4</th><td>1078</td><td>female</td><td>east_asian    </td><td>Loro     </td><td>5.500000</td><td>6.250</td><td>1.333333</td><td>2.0</td><td>4.5</td><td>6.5</td><td>6.5</td><td>1.5</td><td>6.5</td><td>0</td><td>130000</td><td>5.500000</td><td>2.333333</td><td>3.0</td><td>6</td><td> 0.61446613</td><td>-0.79801599</td><td>1</td><td>0</td><td>      NA</td><td>1</td><td>0</td><td>    NA</td><td>1</td><td>0</td><td>      NA</td><td>1</td><td>0</td><td>    NA</td><td>0</td><td>0</td><td>      NA</td><td>1</td><td>0</td><td>    NA</td><td>1</td><td>0</td><td>    NA</td><td>0</td><td>0</td><td>    NA</td><td>0</td><td>0</td><td>    NA</td><td>0</td><td>1</td><td>5.0</td><td>0</td><td>0</td><td>      NA</td><td>0</td><td>0</td><td>   NA</td><td>0</td><td>0</td><td>    NA</td></tr>\n",
       "\t<tr><th scope=row>5</th><td>1097</td><td>male  </td><td>east_asian    </td><td>Otero    </td><td>6.000000</td><td>5.000</td><td>2.000000</td><td>2.0</td><td>3.0</td><td>4.0</td><td>5.5</td><td>1.5</td><td>4.5</td><td>0</td><td> 90000</td><td>5.833333</td><td>2.000000</td><td>2.5</td><td>6</td><td> 0.22618824</td><td>-0.04126834</td><td>6</td><td>4</td><td>5.812500</td><td>3</td><td>1</td><td>5.6250</td><td>2</td><td>0</td><td>      NA</td><td>2</td><td>1</td><td>5.6250</td><td>1</td><td>1</td><td>5.625000</td><td>1</td><td>1</td><td>6.6250</td><td>0</td><td>1</td><td>5.6250</td><td>0</td><td>1</td><td>4.8750</td><td>1</td><td>1</td><td>6.1250</td><td>0</td><td>0</td><td> NA</td><td>0</td><td>1</td><td>5.625000</td><td>0</td><td>1</td><td>6.000</td><td>3</td><td>1</td><td>6.6250</td></tr>\n",
       "\t<tr><th scope=row>6</th><td>1105</td><td>female</td><td>white         </td><td>Larkin   </td><td>6.666667</td><td>5.750</td><td>2.000000</td><td>2.0</td><td>4.5</td><td>5.0</td><td>5.0</td><td>2.0</td><td>4.5</td><td>0</td><td>170000</td><td>6.666667</td><td>2.000000</td><td>2.0</td><td>4</td><td> 0.48041399</td><td> 0.64021289</td><td>6</td><td>9</td><td>5.847222</td><td>4</td><td>5</td><td>6.0250</td><td>2</td><td>2</td><td>5.875000</td><td>3</td><td>4</td><td>5.8125</td><td>2</td><td>3</td><td>6.125000</td><td>2</td><td>2</td><td>5.3750</td><td>2</td><td>2</td><td>6.3125</td><td>1</td><td>4</td><td>6.1875</td><td>2</td><td>1</td><td>6.8750</td><td>1</td><td>0</td><td> NA</td><td>2</td><td>3</td><td>5.750000</td><td>1</td><td>1</td><td>5.125</td><td>4</td><td>2</td><td>6.1875</td></tr>\n",
       "</tbody>\n",
       "</table>\n"
      ],
      "text/latex": [
       "A data.frame: 6 × 60\n",
       "\\begin{tabular}{r|llllllllllllllllllllllllllllllllllllllllllllllllllllllllllll}\n",
       "  & PID & gender & race & dorm & life\\_satisfaction\\_t1 & empathy & loneliness\\_t1 & stress\\_t1 & BFI\\_E & BFI\\_A & BFI\\_C & BFI\\_N & BFI\\_O & intl\\_student & family\\_income & life\\_satisfaction\\_t2 & loneliness\\_t2 & stress\\_t2 & parent\\_education\\_highest & wellbeing\\_composite\\_t1 & wellbeing\\_composite\\_t2 & degree\\_in\\_UNION & degree\\_out\\_UNION & empathy\\_UNION & degree\\_in\\_INTIMATE & degree\\_out\\_INTIMATE & empathy\\_INTIMATE & degree\\_in\\_ACQUAINTANCE & degree\\_out\\_ACQUAINTANCE & empathy\\_ACQUAINTANCE & degree\\_in\\_CloseFrds & degree\\_out\\_CloseFrds & empathy\\_CloseFrds & degree\\_in\\_NegEmoSupp & degree\\_out\\_NegEmoSupp & empathy\\_NegEmoSupp & degree\\_in\\_PosEmoSupp & degree\\_out\\_PosEmoSupp & empathy\\_PosEmoSupp & degree\\_in\\_Responsive & degree\\_out\\_Responsive & empathy\\_Responsive & degree\\_in\\_EmpSupp & degree\\_out\\_EmpSupp & empathy\\_EmpSupp & degree\\_in\\_PosAff & degree\\_out\\_PosAff & empathy\\_PosAff & degree\\_in\\_NegAff & degree\\_out\\_NegAff & empathy\\_NegAff & degree\\_in\\_Gossip & degree\\_out\\_Gossip & empathy\\_Gossip & degree\\_in\\_Liked & degree\\_out\\_Liked & empathy\\_Liked & degree\\_in\\_StudyWith & degree\\_out\\_StudyWith & empathy\\_StudyWith\\\\\n",
       "  & <int> & <fct> & <fct> & <fct> & <dbl> & <dbl> & <dbl> & <dbl> & <dbl> & <dbl> & <dbl> & <dbl> & <dbl> & <int> & <int> & <dbl> & <dbl> & <dbl> & <int> & <dbl> & <dbl> & <int> & <int> & <dbl> & <int> & <int> & <dbl> & <int> & <int> & <dbl> & <int> & <int> & <dbl> & <int> & <int> & <dbl> & <int> & <int> & <dbl> & <int> & <int> & <dbl> & <int> & <int> & <dbl> & <int> & <int> & <dbl> & <int> & <int> & <dbl> & <int> & <int> & <dbl> & <int> & <int> & <dbl> & <int> & <int> & <dbl>\\\\\n",
       "\\hline\n",
       "\t1 & 1001 & male   & south\\_asian    & Rinconada & 4.833333 & 6.375 & 1.333333 & 2.5 & 6.5 & 6.0 & 5.5 & 3.5 & 6.5 & 0 &  70000 & 6.166667 & 2.000000 & 1.5 & 5 & -0.05862651 &  0.83993983 & 3 & 0 &       NA & 1 & 0 &     NA & 1 & 0 &       NA & 1 & 0 &     NA & 0 & 0 &       NA & 2 & 0 &     NA & 0 & 0 &     NA & 0 & 0 &     NA & 1 & 0 &     NA & 0 & 0 &  NA & 1 & 0 &       NA & 1 & 0 &    NA & 1 & 0 &     NA\\\\\n",
       "\t2 & 1004 & female & south\\_asian    & Donner    & 2.833333 & 6.000 & 2.000000 & 2.0 & 4.0 & 5.5 & 4.5 & 3.0 & 5.5 & 1 &  10000 & 3.000000 & 2.666667 & 3.0 & 1 & -0.98138408 & -1.95722956 & 7 & 6 & 5.479167 & 5 & 4 & 5.6250 & 0 & 3 & 5.916667 & 4 & 4 & 5.6250 & 5 & 1 & 4.750000 & 4 & 4 & 5.4375 & 2 & 2 & 5.5000 & 3 & 1 & 4.7500 & 2 & 1 & 4.7500 & 1 & 0 &  NA & 1 & 1 & 4.750000 & 1 & 1 & 4.750 & 3 & 2 & 5.5625\\\\\n",
       "\t3 & 1047 & female & other\\_or\\_mixed & Twain     & 5.333333 & 6.500 & 2.000000 & 2.5 & 5.5 & 6.5 & 7.0 & 3.0 & 6.5 & 0 & 210000 & 5.166667 & 2.000000 & 3.0 & 5 & -0.44690440 & -0.66253028 & 6 & 4 & 6.437500 & 4 & 4 & 6.4375 & 0 & 1 & 6.125000 & 4 & 4 & 6.4375 & 4 & 3 & 6.541667 & 3 & 4 & 6.4375 & 2 & 2 & 6.5625 & 1 & 2 & 6.5625 & 3 & 4 & 6.4375 & 1 & 1 & 6.5 & 4 & 3 & 6.541667 & 1 & 2 & 6.000 & 2 & 1 & 6.6250\\\\\n",
       "\t4 & 1078 & female & east\\_asian     & Loro      & 5.500000 & 6.250 & 1.333333 & 2.0 & 4.5 & 6.5 & 6.5 & 1.5 & 6.5 & 0 & 130000 & 5.500000 & 2.333333 & 3.0 & 6 &  0.61446613 & -0.79801599 & 1 & 0 &       NA & 1 & 0 &     NA & 1 & 0 &       NA & 1 & 0 &     NA & 0 & 0 &       NA & 1 & 0 &     NA & 1 & 0 &     NA & 0 & 0 &     NA & 0 & 0 &     NA & 0 & 1 & 5.0 & 0 & 0 &       NA & 0 & 0 &    NA & 0 & 0 &     NA\\\\\n",
       "\t5 & 1097 & male   & east\\_asian     & Otero     & 6.000000 & 5.000 & 2.000000 & 2.0 & 3.0 & 4.0 & 5.5 & 1.5 & 4.5 & 0 &  90000 & 5.833333 & 2.000000 & 2.5 & 6 &  0.22618824 & -0.04126834 & 6 & 4 & 5.812500 & 3 & 1 & 5.6250 & 2 & 0 &       NA & 2 & 1 & 5.6250 & 1 & 1 & 5.625000 & 1 & 1 & 6.6250 & 0 & 1 & 5.6250 & 0 & 1 & 4.8750 & 1 & 1 & 6.1250 & 0 & 0 &  NA & 0 & 1 & 5.625000 & 0 & 1 & 6.000 & 3 & 1 & 6.6250\\\\\n",
       "\t6 & 1105 & female & white          & Larkin    & 6.666667 & 5.750 & 2.000000 & 2.0 & 4.5 & 5.0 & 5.0 & 2.0 & 4.5 & 0 & 170000 & 6.666667 & 2.000000 & 2.0 & 4 &  0.48041399 &  0.64021289 & 6 & 9 & 5.847222 & 4 & 5 & 6.0250 & 2 & 2 & 5.875000 & 3 & 4 & 5.8125 & 2 & 3 & 6.125000 & 2 & 2 & 5.3750 & 2 & 2 & 6.3125 & 1 & 4 & 6.1875 & 2 & 1 & 6.8750 & 1 & 0 &  NA & 2 & 3 & 5.750000 & 1 & 1 & 5.125 & 4 & 2 & 6.1875\\\\\n",
       "\\end{tabular}\n"
      ],
      "text/markdown": [
       "\n",
       "A data.frame: 6 × 60\n",
       "\n",
       "| <!--/--> | PID &lt;int&gt; | gender &lt;fct&gt; | race &lt;fct&gt; | dorm &lt;fct&gt; | life_satisfaction_t1 &lt;dbl&gt; | empathy &lt;dbl&gt; | loneliness_t1 &lt;dbl&gt; | stress_t1 &lt;dbl&gt; | BFI_E &lt;dbl&gt; | BFI_A &lt;dbl&gt; | BFI_C &lt;dbl&gt; | BFI_N &lt;dbl&gt; | BFI_O &lt;dbl&gt; | intl_student &lt;int&gt; | family_income &lt;int&gt; | life_satisfaction_t2 &lt;dbl&gt; | loneliness_t2 &lt;dbl&gt; | stress_t2 &lt;dbl&gt; | parent_education_highest &lt;int&gt; | wellbeing_composite_t1 &lt;dbl&gt; | wellbeing_composite_t2 &lt;dbl&gt; | degree_in_UNION &lt;int&gt; | degree_out_UNION &lt;int&gt; | empathy_UNION &lt;dbl&gt; | degree_in_INTIMATE &lt;int&gt; | degree_out_INTIMATE &lt;int&gt; | empathy_INTIMATE &lt;dbl&gt; | degree_in_ACQUAINTANCE &lt;int&gt; | degree_out_ACQUAINTANCE &lt;int&gt; | empathy_ACQUAINTANCE &lt;dbl&gt; | degree_in_CloseFrds &lt;int&gt; | degree_out_CloseFrds &lt;int&gt; | empathy_CloseFrds &lt;dbl&gt; | degree_in_NegEmoSupp &lt;int&gt; | degree_out_NegEmoSupp &lt;int&gt; | empathy_NegEmoSupp &lt;dbl&gt; | degree_in_PosEmoSupp &lt;int&gt; | degree_out_PosEmoSupp &lt;int&gt; | empathy_PosEmoSupp &lt;dbl&gt; | degree_in_Responsive &lt;int&gt; | degree_out_Responsive &lt;int&gt; | empathy_Responsive &lt;dbl&gt; | degree_in_EmpSupp &lt;int&gt; | degree_out_EmpSupp &lt;int&gt; | empathy_EmpSupp &lt;dbl&gt; | degree_in_PosAff &lt;int&gt; | degree_out_PosAff &lt;int&gt; | empathy_PosAff &lt;dbl&gt; | degree_in_NegAff &lt;int&gt; | degree_out_NegAff &lt;int&gt; | empathy_NegAff &lt;dbl&gt; | degree_in_Gossip &lt;int&gt; | degree_out_Gossip &lt;int&gt; | empathy_Gossip &lt;dbl&gt; | degree_in_Liked &lt;int&gt; | degree_out_Liked &lt;int&gt; | empathy_Liked &lt;dbl&gt; | degree_in_StudyWith &lt;int&gt; | degree_out_StudyWith &lt;int&gt; | empathy_StudyWith &lt;dbl&gt; |\n",
       "|---|---|---|---|---|---|---|---|---|---|---|---|---|---|---|---|---|---|---|---|---|---|---|---|---|---|---|---|---|---|---|---|---|---|---|---|---|---|---|---|---|---|---|---|---|---|---|---|---|---|---|---|---|---|---|---|---|---|---|---|---|\n",
       "| 1 | 1001 | male   | south_asian    | Rinconada | 4.833333 | 6.375 | 1.333333 | 2.5 | 6.5 | 6.0 | 5.5 | 3.5 | 6.5 | 0 |  70000 | 6.166667 | 2.000000 | 1.5 | 5 | -0.05862651 |  0.83993983 | 3 | 0 |       NA | 1 | 0 |     NA | 1 | 0 |       NA | 1 | 0 |     NA | 0 | 0 |       NA | 2 | 0 |     NA | 0 | 0 |     NA | 0 | 0 |     NA | 1 | 0 |     NA | 0 | 0 |  NA | 1 | 0 |       NA | 1 | 0 |    NA | 1 | 0 |     NA |\n",
       "| 2 | 1004 | female | south_asian    | Donner    | 2.833333 | 6.000 | 2.000000 | 2.0 | 4.0 | 5.5 | 4.5 | 3.0 | 5.5 | 1 |  10000 | 3.000000 | 2.666667 | 3.0 | 1 | -0.98138408 | -1.95722956 | 7 | 6 | 5.479167 | 5 | 4 | 5.6250 | 0 | 3 | 5.916667 | 4 | 4 | 5.6250 | 5 | 1 | 4.750000 | 4 | 4 | 5.4375 | 2 | 2 | 5.5000 | 3 | 1 | 4.7500 | 2 | 1 | 4.7500 | 1 | 0 |  NA | 1 | 1 | 4.750000 | 1 | 1 | 4.750 | 3 | 2 | 5.5625 |\n",
       "| 3 | 1047 | female | other_or_mixed | Twain     | 5.333333 | 6.500 | 2.000000 | 2.5 | 5.5 | 6.5 | 7.0 | 3.0 | 6.5 | 0 | 210000 | 5.166667 | 2.000000 | 3.0 | 5 | -0.44690440 | -0.66253028 | 6 | 4 | 6.437500 | 4 | 4 | 6.4375 | 0 | 1 | 6.125000 | 4 | 4 | 6.4375 | 4 | 3 | 6.541667 | 3 | 4 | 6.4375 | 2 | 2 | 6.5625 | 1 | 2 | 6.5625 | 3 | 4 | 6.4375 | 1 | 1 | 6.5 | 4 | 3 | 6.541667 | 1 | 2 | 6.000 | 2 | 1 | 6.6250 |\n",
       "| 4 | 1078 | female | east_asian     | Loro      | 5.500000 | 6.250 | 1.333333 | 2.0 | 4.5 | 6.5 | 6.5 | 1.5 | 6.5 | 0 | 130000 | 5.500000 | 2.333333 | 3.0 | 6 |  0.61446613 | -0.79801599 | 1 | 0 |       NA | 1 | 0 |     NA | 1 | 0 |       NA | 1 | 0 |     NA | 0 | 0 |       NA | 1 | 0 |     NA | 1 | 0 |     NA | 0 | 0 |     NA | 0 | 0 |     NA | 0 | 1 | 5.0 | 0 | 0 |       NA | 0 | 0 |    NA | 0 | 0 |     NA |\n",
       "| 5 | 1097 | male   | east_asian     | Otero     | 6.000000 | 5.000 | 2.000000 | 2.0 | 3.0 | 4.0 | 5.5 | 1.5 | 4.5 | 0 |  90000 | 5.833333 | 2.000000 | 2.5 | 6 |  0.22618824 | -0.04126834 | 6 | 4 | 5.812500 | 3 | 1 | 5.6250 | 2 | 0 |       NA | 2 | 1 | 5.6250 | 1 | 1 | 5.625000 | 1 | 1 | 6.6250 | 0 | 1 | 5.6250 | 0 | 1 | 4.8750 | 1 | 1 | 6.1250 | 0 | 0 |  NA | 0 | 1 | 5.625000 | 0 | 1 | 6.000 | 3 | 1 | 6.6250 |\n",
       "| 6 | 1105 | female | white          | Larkin    | 6.666667 | 5.750 | 2.000000 | 2.0 | 4.5 | 5.0 | 5.0 | 2.0 | 4.5 | 0 | 170000 | 6.666667 | 2.000000 | 2.0 | 4 |  0.48041399 |  0.64021289 | 6 | 9 | 5.847222 | 4 | 5 | 6.0250 | 2 | 2 | 5.875000 | 3 | 4 | 5.8125 | 2 | 3 | 6.125000 | 2 | 2 | 5.3750 | 2 | 2 | 6.3125 | 1 | 4 | 6.1875 | 2 | 1 | 6.8750 | 1 | 0 |  NA | 2 | 3 | 5.750000 | 1 | 1 | 5.125 | 4 | 2 | 6.1875 |\n",
       "\n"
      ],
      "text/plain": [
       "  PID  gender race           dorm      life_satisfaction_t1 empathy\n",
       "1 1001 male   south_asian    Rinconada 4.833333             6.375  \n",
       "2 1004 female south_asian    Donner    2.833333             6.000  \n",
       "3 1047 female other_or_mixed Twain     5.333333             6.500  \n",
       "4 1078 female east_asian     Loro      5.500000             6.250  \n",
       "5 1097 male   east_asian     Otero     6.000000             5.000  \n",
       "6 1105 female white          Larkin    6.666667             5.750  \n",
       "  loneliness_t1 stress_t1 BFI_E BFI_A BFI_C BFI_N BFI_O intl_student\n",
       "1 1.333333      2.5       6.5   6.0   5.5   3.5   6.5   0           \n",
       "2 2.000000      2.0       4.0   5.5   4.5   3.0   5.5   1           \n",
       "3 2.000000      2.5       5.5   6.5   7.0   3.0   6.5   0           \n",
       "4 1.333333      2.0       4.5   6.5   6.5   1.5   6.5   0           \n",
       "5 2.000000      2.0       3.0   4.0   5.5   1.5   4.5   0           \n",
       "6 2.000000      2.0       4.5   5.0   5.0   2.0   4.5   0           \n",
       "  family_income life_satisfaction_t2 loneliness_t2 stress_t2\n",
       "1  70000        6.166667             2.000000      1.5      \n",
       "2  10000        3.000000             2.666667      3.0      \n",
       "3 210000        5.166667             2.000000      3.0      \n",
       "4 130000        5.500000             2.333333      3.0      \n",
       "5  90000        5.833333             2.000000      2.5      \n",
       "6 170000        6.666667             2.000000      2.0      \n",
       "  parent_education_highest wellbeing_composite_t1 wellbeing_composite_t2\n",
       "1 5                        -0.05862651             0.83993983           \n",
       "2 1                        -0.98138408            -1.95722956           \n",
       "3 5                        -0.44690440            -0.66253028           \n",
       "4 6                         0.61446613            -0.79801599           \n",
       "5 6                         0.22618824            -0.04126834           \n",
       "6 4                         0.48041399             0.64021289           \n",
       "  degree_in_UNION degree_out_UNION empathy_UNION degree_in_INTIMATE\n",
       "1 3               0                      NA      1                 \n",
       "2 7               6                5.479167      5                 \n",
       "3 6               4                6.437500      4                 \n",
       "4 1               0                      NA      1                 \n",
       "5 6               4                5.812500      3                 \n",
       "6 6               9                5.847222      4                 \n",
       "  degree_out_INTIMATE empathy_INTIMATE degree_in_ACQUAINTANCE\n",
       "1 0                       NA           1                     \n",
       "2 4                   5.6250           0                     \n",
       "3 4                   6.4375           0                     \n",
       "4 0                       NA           1                     \n",
       "5 1                   5.6250           2                     \n",
       "6 5                   6.0250           2                     \n",
       "  degree_out_ACQUAINTANCE empathy_ACQUAINTANCE degree_in_CloseFrds\n",
       "1 0                             NA             1                  \n",
       "2 3                       5.916667             4                  \n",
       "3 1                       6.125000             4                  \n",
       "4 0                             NA             1                  \n",
       "5 0                             NA             2                  \n",
       "6 2                       5.875000             3                  \n",
       "  degree_out_CloseFrds empathy_CloseFrds degree_in_NegEmoSupp\n",
       "1 0                        NA            0                   \n",
       "2 4                    5.6250            5                   \n",
       "3 4                    6.4375            4                   \n",
       "4 0                        NA            0                   \n",
       "5 1                    5.6250            1                   \n",
       "6 4                    5.8125            2                   \n",
       "  degree_out_NegEmoSupp empathy_NegEmoSupp degree_in_PosEmoSupp\n",
       "1 0                           NA           2                   \n",
       "2 1                     4.750000           4                   \n",
       "3 3                     6.541667           3                   \n",
       "4 0                           NA           1                   \n",
       "5 1                     5.625000           1                   \n",
       "6 3                     6.125000           2                   \n",
       "  degree_out_PosEmoSupp empathy_PosEmoSupp degree_in_Responsive\n",
       "1 0                         NA             0                   \n",
       "2 4                     5.4375             2                   \n",
       "3 4                     6.4375             2                   \n",
       "4 0                         NA             1                   \n",
       "5 1                     6.6250             0                   \n",
       "6 2                     5.3750             2                   \n",
       "  degree_out_Responsive empathy_Responsive degree_in_EmpSupp degree_out_EmpSupp\n",
       "1 0                         NA             0                 0                 \n",
       "2 2                     5.5000             3                 1                 \n",
       "3 2                     6.5625             1                 2                 \n",
       "4 0                         NA             0                 0                 \n",
       "5 1                     5.6250             0                 1                 \n",
       "6 2                     6.3125             1                 4                 \n",
       "  empathy_EmpSupp degree_in_PosAff degree_out_PosAff empathy_PosAff\n",
       "1     NA          1                0                     NA        \n",
       "2 4.7500          2                1                 4.7500        \n",
       "3 6.5625          3                4                 6.4375        \n",
       "4     NA          0                0                     NA        \n",
       "5 4.8750          1                1                 6.1250        \n",
       "6 6.1875          2                1                 6.8750        \n",
       "  degree_in_NegAff degree_out_NegAff empathy_NegAff degree_in_Gossip\n",
       "1 0                0                  NA            1               \n",
       "2 1                0                  NA            1               \n",
       "3 1                1                 6.5            4               \n",
       "4 0                1                 5.0            0               \n",
       "5 0                0                  NA            0               \n",
       "6 1                0                  NA            2               \n",
       "  degree_out_Gossip empathy_Gossip degree_in_Liked degree_out_Liked\n",
       "1 0                       NA       1               0               \n",
       "2 1                 4.750000       1               1               \n",
       "3 3                 6.541667       1               2               \n",
       "4 0                       NA       0               0               \n",
       "5 1                 5.625000       0               1               \n",
       "6 3                 5.750000       1               1               \n",
       "  empathy_Liked degree_in_StudyWith degree_out_StudyWith empathy_StudyWith\n",
       "1    NA         1                   0                        NA           \n",
       "2 4.750         3                   2                    5.5625           \n",
       "3 6.000         2                   1                    6.6250           \n",
       "4    NA         0                   0                        NA           \n",
       "5 6.000         3                   1                    6.6250           \n",
       "6 5.125         4                   2                    6.1875           "
      ]
     },
     "metadata": {},
     "output_type": "display_data"
    }
   ],
   "source": [
    "df = read.csv('../data/2019–2020/postprocessed/df_Rcleaned_full.csv', na.strings=c(\"\", \" \", \"NA\"))\n",
    "df = df[,2:ncol(df)]  # Remove extraneous first column\n",
    "dim(df)\n",
    "head(df)"
   ]
  },
  {
   "cell_type": "markdown",
   "metadata": {},
   "source": [
    "## De-dup and merge"
   ]
  },
  {
   "cell_type": "code",
   "execution_count": 23,
   "metadata": {},
   "outputs": [
    {
     "data": {
      "text/html": [
       "<ol class=list-inline>\n",
       "\t<li>7333</li>\n",
       "\t<li>7</li>\n",
       "</ol>\n"
      ],
      "text/latex": [
       "\\begin{enumerate*}\n",
       "\\item 7333\n",
       "\\item 7\n",
       "\\end{enumerate*}\n"
      ],
      "text/markdown": [
       "1. 7333\n",
       "2. 7\n",
       "\n",
       "\n"
      ],
      "text/plain": [
       "[1] 7333    7"
      ]
     },
     "metadata": {},
     "output_type": "display_data"
    }
   ],
   "source": [
    "dorms = dorms[!duplicated(dorms$PID),]\n",
    "dim(dorms)"
   ]
  },
  {
   "cell_type": "code",
   "execution_count": 25,
   "metadata": {},
   "outputs": [
    {
     "data": {
      "text/html": [
       "<ol class=list-inline>\n",
       "\t<li>702</li>\n",
       "\t<li>66</li>\n",
       "</ol>\n"
      ],
      "text/latex": [
       "\\begin{enumerate*}\n",
       "\\item 702\n",
       "\\item 66\n",
       "\\end{enumerate*}\n"
      ],
      "text/markdown": [
       "1. 702\n",
       "2. 66\n",
       "\n",
       "\n"
      ],
      "text/plain": [
       "[1] 702  66"
      ]
     },
     "metadata": {},
     "output_type": "display_data"
    },
    {
     "data": {
      "text/html": [
       "<table>\n",
       "<caption>A data.frame: 6 × 66</caption>\n",
       "<thead>\n",
       "\t<tr><th></th><th scope=col>PID</th><th scope=col>gender</th><th scope=col>race</th><th scope=col>dorm</th><th scope=col>life_satisfaction_t1</th><th scope=col>empathy</th><th scope=col>loneliness_t1</th><th scope=col>stress_t1</th><th scope=col>BFI_E</th><th scope=col>BFI_A</th><th scope=col>BFI_C</th><th scope=col>BFI_N</th><th scope=col>BFI_O</th><th scope=col>intl_student</th><th scope=col>family_income</th><th scope=col>life_satisfaction_t2</th><th scope=col>loneliness_t2</th><th scope=col>stress_t2</th><th scope=col>parent_education_highest</th><th scope=col>wellbeing_composite_t1</th><th scope=col>wellbeing_composite_t2</th><th scope=col>degree_in_UNION</th><th scope=col>degree_out_UNION</th><th scope=col>empathy_UNION</th><th scope=col>degree_in_INTIMATE</th><th scope=col>degree_out_INTIMATE</th><th scope=col>empathy_INTIMATE</th><th scope=col>degree_in_ACQUAINTANCE</th><th scope=col>degree_out_ACQUAINTANCE</th><th scope=col>empathy_ACQUAINTANCE</th><th scope=col>degree_in_CloseFrds</th><th scope=col>degree_out_CloseFrds</th><th scope=col>empathy_CloseFrds</th><th scope=col>degree_in_NegEmoSupp</th><th scope=col>degree_out_NegEmoSupp</th><th scope=col>empathy_NegEmoSupp</th><th scope=col>degree_in_PosEmoSupp</th><th scope=col>degree_out_PosEmoSupp</th><th scope=col>empathy_PosEmoSupp</th><th scope=col>degree_in_Responsive</th><th scope=col>degree_out_Responsive</th><th scope=col>empathy_Responsive</th><th scope=col>degree_in_EmpSupp</th><th scope=col>degree_out_EmpSupp</th><th scope=col>empathy_EmpSupp</th><th scope=col>degree_in_PosAff</th><th scope=col>degree_out_PosAff</th><th scope=col>empathy_PosAff</th><th scope=col>degree_in_NegAff</th><th scope=col>degree_out_NegAff</th><th scope=col>empathy_NegAff</th><th scope=col>degree_in_Gossip</th><th scope=col>degree_out_Gossip</th><th scope=col>empathy_Gossip</th><th scope=col>degree_in_Liked</th><th scope=col>degree_out_Liked</th><th scope=col>empathy_Liked</th><th scope=col>degree_in_StudyWith</th><th scope=col>degree_out_StudyWith</th><th scope=col>empathy_StudyWith</th><th scope=col>frosh</th><th scope=col>DID</th><th scope=col>HID</th><th scope=col>dormClass</th><th scope=col>dormType</th><th scope=col>participatingDorm</th></tr>\n",
       "\t<tr><th></th><th scope=col>&lt;int&gt;</th><th scope=col>&lt;fct&gt;</th><th scope=col>&lt;fct&gt;</th><th scope=col>&lt;fct&gt;</th><th scope=col>&lt;dbl&gt;</th><th scope=col>&lt;dbl&gt;</th><th scope=col>&lt;dbl&gt;</th><th scope=col>&lt;dbl&gt;</th><th scope=col>&lt;dbl&gt;</th><th scope=col>&lt;dbl&gt;</th><th scope=col>&lt;dbl&gt;</th><th scope=col>&lt;dbl&gt;</th><th scope=col>&lt;dbl&gt;</th><th scope=col>&lt;int&gt;</th><th scope=col>&lt;int&gt;</th><th scope=col>&lt;dbl&gt;</th><th scope=col>&lt;dbl&gt;</th><th scope=col>&lt;dbl&gt;</th><th scope=col>&lt;int&gt;</th><th scope=col>&lt;dbl&gt;</th><th scope=col>&lt;dbl&gt;</th><th scope=col>&lt;int&gt;</th><th scope=col>&lt;int&gt;</th><th scope=col>&lt;dbl&gt;</th><th scope=col>&lt;int&gt;</th><th scope=col>&lt;int&gt;</th><th scope=col>&lt;dbl&gt;</th><th scope=col>&lt;int&gt;</th><th scope=col>&lt;int&gt;</th><th scope=col>&lt;dbl&gt;</th><th scope=col>&lt;int&gt;</th><th scope=col>&lt;int&gt;</th><th scope=col>&lt;dbl&gt;</th><th scope=col>&lt;int&gt;</th><th scope=col>&lt;int&gt;</th><th scope=col>&lt;dbl&gt;</th><th scope=col>&lt;int&gt;</th><th scope=col>&lt;int&gt;</th><th scope=col>&lt;dbl&gt;</th><th scope=col>&lt;int&gt;</th><th scope=col>&lt;int&gt;</th><th scope=col>&lt;dbl&gt;</th><th scope=col>&lt;int&gt;</th><th scope=col>&lt;int&gt;</th><th scope=col>&lt;dbl&gt;</th><th scope=col>&lt;int&gt;</th><th scope=col>&lt;int&gt;</th><th scope=col>&lt;dbl&gt;</th><th scope=col>&lt;int&gt;</th><th scope=col>&lt;int&gt;</th><th scope=col>&lt;dbl&gt;</th><th scope=col>&lt;int&gt;</th><th scope=col>&lt;int&gt;</th><th scope=col>&lt;dbl&gt;</th><th scope=col>&lt;int&gt;</th><th scope=col>&lt;int&gt;</th><th scope=col>&lt;dbl&gt;</th><th scope=col>&lt;int&gt;</th><th scope=col>&lt;int&gt;</th><th scope=col>&lt;dbl&gt;</th><th scope=col>&lt;int&gt;</th><th scope=col>&lt;fct&gt;</th><th scope=col>&lt;fct&gt;</th><th scope=col>&lt;fct&gt;</th><th scope=col>&lt;fct&gt;</th><th scope=col>&lt;int&gt;</th></tr>\n",
       "</thead>\n",
       "<tbody>\n",
       "\t<tr><th scope=row>1</th><td>1001</td><td>male  </td><td>south_asian   </td><td>Rinconada</td><td>4.833333</td><td>6.375</td><td>1.333333</td><td>2.5</td><td>6.5</td><td>6.0</td><td>5.5</td><td>3.5</td><td>6.5</td><td>0</td><td> 70000</td><td>6.166667</td><td>2.000000</td><td>1.5</td><td>5</td><td>-0.05862651</td><td> 0.83993983</td><td>3</td><td>0</td><td>      NA</td><td>1</td><td>0</td><td>    NA</td><td>1</td><td>0</td><td>      NA</td><td>1</td><td>0</td><td>    NA</td><td>0</td><td>0</td><td>      NA</td><td>2</td><td>0</td><td>    NA</td><td>0</td><td>0</td><td>    NA</td><td>0</td><td>0</td><td>    NA</td><td>1</td><td>0</td><td>    NA</td><td>0</td><td>0</td><td> NA</td><td>1</td><td>0</td><td>      NA</td><td>1</td><td>0</td><td>   NA</td><td>1</td><td>0</td><td>    NA</td><td>1</td><td>30</td><td>5</td><td>frosh     </td><td>no type</td><td>1</td></tr>\n",
       "\t<tr><th scope=row>2</th><td>1004</td><td>female</td><td>south_asian   </td><td>Donner   </td><td>2.833333</td><td>6.000</td><td>2.000000</td><td>2.0</td><td>4.0</td><td>5.5</td><td>4.5</td><td>3.0</td><td>5.5</td><td>1</td><td> 10000</td><td>3.000000</td><td>2.666667</td><td>3.0</td><td>1</td><td>-0.98138408</td><td>-1.95722956</td><td>7</td><td>6</td><td>5.479167</td><td>5</td><td>4</td><td>5.6250</td><td>0</td><td>3</td><td>5.916667</td><td>4</td><td>4</td><td>5.6250</td><td>5</td><td>1</td><td>4.750000</td><td>4</td><td>4</td><td>5.4375</td><td>2</td><td>2</td><td>5.5000</td><td>3</td><td>1</td><td>4.7500</td><td>2</td><td>1</td><td>4.7500</td><td>1</td><td>0</td><td> NA</td><td>1</td><td>1</td><td>4.750000</td><td>1</td><td>1</td><td>4.750</td><td>3</td><td>2</td><td>5.5625</td><td>1</td><td>35</td><td>4</td><td>frosh     </td><td>no type</td><td>1</td></tr>\n",
       "\t<tr><th scope=row>3</th><td>1047</td><td>female</td><td>other_or_mixed</td><td>Twain    </td><td>5.333333</td><td>6.500</td><td>2.000000</td><td>2.5</td><td>5.5</td><td>6.5</td><td>7.0</td><td>3.0</td><td>6.5</td><td>0</td><td>210000</td><td>5.166667</td><td>2.000000</td><td>3.0</td><td>5</td><td>-0.44690440</td><td>-0.66253028</td><td>6</td><td>4</td><td>6.437500</td><td>4</td><td>4</td><td>6.4375</td><td>0</td><td>1</td><td>6.125000</td><td>4</td><td>4</td><td>6.4375</td><td>4</td><td>3</td><td>6.541667</td><td>3</td><td>4</td><td>6.4375</td><td>2</td><td>2</td><td>6.5625</td><td>1</td><td>2</td><td>6.5625</td><td>3</td><td>4</td><td>6.4375</td><td>1</td><td>1</td><td>6.5</td><td>4</td><td>3</td><td>6.541667</td><td>1</td><td>2</td><td>6.000</td><td>2</td><td>1</td><td>6.6250</td><td>1</td><td>76</td><td>4</td><td>frosh     </td><td>no type</td><td>1</td></tr>\n",
       "\t<tr><th scope=row>4</th><td>1078</td><td>female</td><td>east_asian    </td><td>Loro     </td><td>5.500000</td><td>6.250</td><td>1.333333</td><td>2.0</td><td>4.5</td><td>6.5</td><td>6.5</td><td>1.5</td><td>6.5</td><td>0</td><td>130000</td><td>5.500000</td><td>2.333333</td><td>3.0</td><td>6</td><td> 0.61446613</td><td>-0.79801599</td><td>1</td><td>0</td><td>      NA</td><td>1</td><td>0</td><td>    NA</td><td>1</td><td>0</td><td>      NA</td><td>1</td><td>0</td><td>    NA</td><td>0</td><td>0</td><td>      NA</td><td>1</td><td>0</td><td>    NA</td><td>1</td><td>0</td><td>    NA</td><td>0</td><td>0</td><td>    NA</td><td>0</td><td>0</td><td>    NA</td><td>0</td><td>1</td><td>5.0</td><td>0</td><td>0</td><td>      NA</td><td>0</td><td>0</td><td>   NA</td><td>0</td><td>0</td><td>    NA</td><td>1</td><td>32</td><td>1</td><td>four-class</td><td>no type</td><td>1</td></tr>\n",
       "\t<tr><th scope=row>5</th><td>1097</td><td>male  </td><td>east_asian    </td><td>Otero    </td><td>6.000000</td><td>5.000</td><td>2.000000</td><td>2.0</td><td>3.0</td><td>4.0</td><td>5.5</td><td>1.5</td><td>4.5</td><td>0</td><td> 90000</td><td>5.833333</td><td>2.000000</td><td>2.5</td><td>6</td><td> 0.22618824</td><td>-0.04126834</td><td>6</td><td>4</td><td>5.812500</td><td>3</td><td>1</td><td>5.6250</td><td>2</td><td>0</td><td>      NA</td><td>2</td><td>1</td><td>5.6250</td><td>1</td><td>1</td><td>5.625000</td><td>1</td><td>1</td><td>6.6250</td><td>0</td><td>1</td><td>5.6250</td><td>0</td><td>1</td><td>4.8750</td><td>1</td><td>1</td><td>6.1250</td><td>0</td><td>0</td><td> NA</td><td>0</td><td>1</td><td>5.625000</td><td>0</td><td>1</td><td>6.000</td><td>3</td><td>1</td><td>6.6250</td><td>1</td><td>48</td><td>5</td><td>frosh     </td><td>no type</td><td>1</td></tr>\n",
       "\t<tr><th scope=row>6</th><td>1105</td><td>female</td><td>white         </td><td>Larkin   </td><td>6.666667</td><td>5.750</td><td>2.000000</td><td>2.0</td><td>4.5</td><td>5.0</td><td>5.0</td><td>2.0</td><td>4.5</td><td>0</td><td>170000</td><td>6.666667</td><td>2.000000</td><td>2.0</td><td>4</td><td> 0.48041399</td><td> 0.64021289</td><td>6</td><td>9</td><td>5.847222</td><td>4</td><td>5</td><td>6.0250</td><td>2</td><td>2</td><td>5.875000</td><td>3</td><td>4</td><td>5.8125</td><td>2</td><td>3</td><td>6.125000</td><td>2</td><td>2</td><td>5.3750</td><td>2</td><td>2</td><td>6.3125</td><td>1</td><td>4</td><td>6.1875</td><td>2</td><td>1</td><td>6.8750</td><td>1</td><td>0</td><td> NA</td><td>2</td><td>3</td><td>5.750000</td><td>1</td><td>1</td><td>5.125</td><td>4</td><td>2</td><td>6.1875</td><td>1</td><td>77</td><td>4</td><td>frosh     </td><td>no type</td><td>1</td></tr>\n",
       "</tbody>\n",
       "</table>\n"
      ],
      "text/latex": [
       "A data.frame: 6 × 66\n",
       "\\begin{tabular}{r|llllllllllllllllllllllllllllllllllllllllllllllllllllllllllllllllll}\n",
       "  & PID & gender & race & dorm & life\\_satisfaction\\_t1 & empathy & loneliness\\_t1 & stress\\_t1 & BFI\\_E & BFI\\_A & BFI\\_C & BFI\\_N & BFI\\_O & intl\\_student & family\\_income & life\\_satisfaction\\_t2 & loneliness\\_t2 & stress\\_t2 & parent\\_education\\_highest & wellbeing\\_composite\\_t1 & wellbeing\\_composite\\_t2 & degree\\_in\\_UNION & degree\\_out\\_UNION & empathy\\_UNION & degree\\_in\\_INTIMATE & degree\\_out\\_INTIMATE & empathy\\_INTIMATE & degree\\_in\\_ACQUAINTANCE & degree\\_out\\_ACQUAINTANCE & empathy\\_ACQUAINTANCE & degree\\_in\\_CloseFrds & degree\\_out\\_CloseFrds & empathy\\_CloseFrds & degree\\_in\\_NegEmoSupp & degree\\_out\\_NegEmoSupp & empathy\\_NegEmoSupp & degree\\_in\\_PosEmoSupp & degree\\_out\\_PosEmoSupp & empathy\\_PosEmoSupp & degree\\_in\\_Responsive & degree\\_out\\_Responsive & empathy\\_Responsive & degree\\_in\\_EmpSupp & degree\\_out\\_EmpSupp & empathy\\_EmpSupp & degree\\_in\\_PosAff & degree\\_out\\_PosAff & empathy\\_PosAff & degree\\_in\\_NegAff & degree\\_out\\_NegAff & empathy\\_NegAff & degree\\_in\\_Gossip & degree\\_out\\_Gossip & empathy\\_Gossip & degree\\_in\\_Liked & degree\\_out\\_Liked & empathy\\_Liked & degree\\_in\\_StudyWith & degree\\_out\\_StudyWith & empathy\\_StudyWith & frosh & DID & HID & dormClass & dormType & participatingDorm\\\\\n",
       "  & <int> & <fct> & <fct> & <fct> & <dbl> & <dbl> & <dbl> & <dbl> & <dbl> & <dbl> & <dbl> & <dbl> & <dbl> & <int> & <int> & <dbl> & <dbl> & <dbl> & <int> & <dbl> & <dbl> & <int> & <int> & <dbl> & <int> & <int> & <dbl> & <int> & <int> & <dbl> & <int> & <int> & <dbl> & <int> & <int> & <dbl> & <int> & <int> & <dbl> & <int> & <int> & <dbl> & <int> & <int> & <dbl> & <int> & <int> & <dbl> & <int> & <int> & <dbl> & <int> & <int> & <dbl> & <int> & <int> & <dbl> & <int> & <int> & <dbl> & <int> & <fct> & <fct> & <fct> & <fct> & <int>\\\\\n",
       "\\hline\n",
       "\t1 & 1001 & male   & south\\_asian    & Rinconada & 4.833333 & 6.375 & 1.333333 & 2.5 & 6.5 & 6.0 & 5.5 & 3.5 & 6.5 & 0 &  70000 & 6.166667 & 2.000000 & 1.5 & 5 & -0.05862651 &  0.83993983 & 3 & 0 &       NA & 1 & 0 &     NA & 1 & 0 &       NA & 1 & 0 &     NA & 0 & 0 &       NA & 2 & 0 &     NA & 0 & 0 &     NA & 0 & 0 &     NA & 1 & 0 &     NA & 0 & 0 &  NA & 1 & 0 &       NA & 1 & 0 &    NA & 1 & 0 &     NA & 1 & 30 & 5 & frosh      & no type & 1\\\\\n",
       "\t2 & 1004 & female & south\\_asian    & Donner    & 2.833333 & 6.000 & 2.000000 & 2.0 & 4.0 & 5.5 & 4.5 & 3.0 & 5.5 & 1 &  10000 & 3.000000 & 2.666667 & 3.0 & 1 & -0.98138408 & -1.95722956 & 7 & 6 & 5.479167 & 5 & 4 & 5.6250 & 0 & 3 & 5.916667 & 4 & 4 & 5.6250 & 5 & 1 & 4.750000 & 4 & 4 & 5.4375 & 2 & 2 & 5.5000 & 3 & 1 & 4.7500 & 2 & 1 & 4.7500 & 1 & 0 &  NA & 1 & 1 & 4.750000 & 1 & 1 & 4.750 & 3 & 2 & 5.5625 & 1 & 35 & 4 & frosh      & no type & 1\\\\\n",
       "\t3 & 1047 & female & other\\_or\\_mixed & Twain     & 5.333333 & 6.500 & 2.000000 & 2.5 & 5.5 & 6.5 & 7.0 & 3.0 & 6.5 & 0 & 210000 & 5.166667 & 2.000000 & 3.0 & 5 & -0.44690440 & -0.66253028 & 6 & 4 & 6.437500 & 4 & 4 & 6.4375 & 0 & 1 & 6.125000 & 4 & 4 & 6.4375 & 4 & 3 & 6.541667 & 3 & 4 & 6.4375 & 2 & 2 & 6.5625 & 1 & 2 & 6.5625 & 3 & 4 & 6.4375 & 1 & 1 & 6.5 & 4 & 3 & 6.541667 & 1 & 2 & 6.000 & 2 & 1 & 6.6250 & 1 & 76 & 4 & frosh      & no type & 1\\\\\n",
       "\t4 & 1078 & female & east\\_asian     & Loro      & 5.500000 & 6.250 & 1.333333 & 2.0 & 4.5 & 6.5 & 6.5 & 1.5 & 6.5 & 0 & 130000 & 5.500000 & 2.333333 & 3.0 & 6 &  0.61446613 & -0.79801599 & 1 & 0 &       NA & 1 & 0 &     NA & 1 & 0 &       NA & 1 & 0 &     NA & 0 & 0 &       NA & 1 & 0 &     NA & 1 & 0 &     NA & 0 & 0 &     NA & 0 & 0 &     NA & 0 & 1 & 5.0 & 0 & 0 &       NA & 0 & 0 &    NA & 0 & 0 &     NA & 1 & 32 & 1 & four-class & no type & 1\\\\\n",
       "\t5 & 1097 & male   & east\\_asian     & Otero     & 6.000000 & 5.000 & 2.000000 & 2.0 & 3.0 & 4.0 & 5.5 & 1.5 & 4.5 & 0 &  90000 & 5.833333 & 2.000000 & 2.5 & 6 &  0.22618824 & -0.04126834 & 6 & 4 & 5.812500 & 3 & 1 & 5.6250 & 2 & 0 &       NA & 2 & 1 & 5.6250 & 1 & 1 & 5.625000 & 1 & 1 & 6.6250 & 0 & 1 & 5.6250 & 0 & 1 & 4.8750 & 1 & 1 & 6.1250 & 0 & 0 &  NA & 0 & 1 & 5.625000 & 0 & 1 & 6.000 & 3 & 1 & 6.6250 & 1 & 48 & 5 & frosh      & no type & 1\\\\\n",
       "\t6 & 1105 & female & white          & Larkin    & 6.666667 & 5.750 & 2.000000 & 2.0 & 4.5 & 5.0 & 5.0 & 2.0 & 4.5 & 0 & 170000 & 6.666667 & 2.000000 & 2.0 & 4 &  0.48041399 &  0.64021289 & 6 & 9 & 5.847222 & 4 & 5 & 6.0250 & 2 & 2 & 5.875000 & 3 & 4 & 5.8125 & 2 & 3 & 6.125000 & 2 & 2 & 5.3750 & 2 & 2 & 6.3125 & 1 & 4 & 6.1875 & 2 & 1 & 6.8750 & 1 & 0 &  NA & 2 & 3 & 5.750000 & 1 & 1 & 5.125 & 4 & 2 & 6.1875 & 1 & 77 & 4 & frosh      & no type & 1\\\\\n",
       "\\end{tabular}\n"
      ],
      "text/markdown": [
       "\n",
       "A data.frame: 6 × 66\n",
       "\n",
       "| <!--/--> | PID &lt;int&gt; | gender &lt;fct&gt; | race &lt;fct&gt; | dorm &lt;fct&gt; | life_satisfaction_t1 &lt;dbl&gt; | empathy &lt;dbl&gt; | loneliness_t1 &lt;dbl&gt; | stress_t1 &lt;dbl&gt; | BFI_E &lt;dbl&gt; | BFI_A &lt;dbl&gt; | BFI_C &lt;dbl&gt; | BFI_N &lt;dbl&gt; | BFI_O &lt;dbl&gt; | intl_student &lt;int&gt; | family_income &lt;int&gt; | life_satisfaction_t2 &lt;dbl&gt; | loneliness_t2 &lt;dbl&gt; | stress_t2 &lt;dbl&gt; | parent_education_highest &lt;int&gt; | wellbeing_composite_t1 &lt;dbl&gt; | wellbeing_composite_t2 &lt;dbl&gt; | degree_in_UNION &lt;int&gt; | degree_out_UNION &lt;int&gt; | empathy_UNION &lt;dbl&gt; | degree_in_INTIMATE &lt;int&gt; | degree_out_INTIMATE &lt;int&gt; | empathy_INTIMATE &lt;dbl&gt; | degree_in_ACQUAINTANCE &lt;int&gt; | degree_out_ACQUAINTANCE &lt;int&gt; | empathy_ACQUAINTANCE &lt;dbl&gt; | degree_in_CloseFrds &lt;int&gt; | degree_out_CloseFrds &lt;int&gt; | empathy_CloseFrds &lt;dbl&gt; | degree_in_NegEmoSupp &lt;int&gt; | degree_out_NegEmoSupp &lt;int&gt; | empathy_NegEmoSupp &lt;dbl&gt; | degree_in_PosEmoSupp &lt;int&gt; | degree_out_PosEmoSupp &lt;int&gt; | empathy_PosEmoSupp &lt;dbl&gt; | degree_in_Responsive &lt;int&gt; | degree_out_Responsive &lt;int&gt; | empathy_Responsive &lt;dbl&gt; | degree_in_EmpSupp &lt;int&gt; | degree_out_EmpSupp &lt;int&gt; | empathy_EmpSupp &lt;dbl&gt; | degree_in_PosAff &lt;int&gt; | degree_out_PosAff &lt;int&gt; | empathy_PosAff &lt;dbl&gt; | degree_in_NegAff &lt;int&gt; | degree_out_NegAff &lt;int&gt; | empathy_NegAff &lt;dbl&gt; | degree_in_Gossip &lt;int&gt; | degree_out_Gossip &lt;int&gt; | empathy_Gossip &lt;dbl&gt; | degree_in_Liked &lt;int&gt; | degree_out_Liked &lt;int&gt; | empathy_Liked &lt;dbl&gt; | degree_in_StudyWith &lt;int&gt; | degree_out_StudyWith &lt;int&gt; | empathy_StudyWith &lt;dbl&gt; | frosh &lt;int&gt; | DID &lt;fct&gt; | HID &lt;fct&gt; | dormClass &lt;fct&gt; | dormType &lt;fct&gt; | participatingDorm &lt;int&gt; |\n",
       "|---|---|---|---|---|---|---|---|---|---|---|---|---|---|---|---|---|---|---|---|---|---|---|---|---|---|---|---|---|---|---|---|---|---|---|---|---|---|---|---|---|---|---|---|---|---|---|---|---|---|---|---|---|---|---|---|---|---|---|---|---|---|---|---|---|---|---|\n",
       "| 1 | 1001 | male   | south_asian    | Rinconada | 4.833333 | 6.375 | 1.333333 | 2.5 | 6.5 | 6.0 | 5.5 | 3.5 | 6.5 | 0 |  70000 | 6.166667 | 2.000000 | 1.5 | 5 | -0.05862651 |  0.83993983 | 3 | 0 |       NA | 1 | 0 |     NA | 1 | 0 |       NA | 1 | 0 |     NA | 0 | 0 |       NA | 2 | 0 |     NA | 0 | 0 |     NA | 0 | 0 |     NA | 1 | 0 |     NA | 0 | 0 |  NA | 1 | 0 |       NA | 1 | 0 |    NA | 1 | 0 |     NA | 1 | 30 | 5 | frosh      | no type | 1 |\n",
       "| 2 | 1004 | female | south_asian    | Donner    | 2.833333 | 6.000 | 2.000000 | 2.0 | 4.0 | 5.5 | 4.5 | 3.0 | 5.5 | 1 |  10000 | 3.000000 | 2.666667 | 3.0 | 1 | -0.98138408 | -1.95722956 | 7 | 6 | 5.479167 | 5 | 4 | 5.6250 | 0 | 3 | 5.916667 | 4 | 4 | 5.6250 | 5 | 1 | 4.750000 | 4 | 4 | 5.4375 | 2 | 2 | 5.5000 | 3 | 1 | 4.7500 | 2 | 1 | 4.7500 | 1 | 0 |  NA | 1 | 1 | 4.750000 | 1 | 1 | 4.750 | 3 | 2 | 5.5625 | 1 | 35 | 4 | frosh      | no type | 1 |\n",
       "| 3 | 1047 | female | other_or_mixed | Twain     | 5.333333 | 6.500 | 2.000000 | 2.5 | 5.5 | 6.5 | 7.0 | 3.0 | 6.5 | 0 | 210000 | 5.166667 | 2.000000 | 3.0 | 5 | -0.44690440 | -0.66253028 | 6 | 4 | 6.437500 | 4 | 4 | 6.4375 | 0 | 1 | 6.125000 | 4 | 4 | 6.4375 | 4 | 3 | 6.541667 | 3 | 4 | 6.4375 | 2 | 2 | 6.5625 | 1 | 2 | 6.5625 | 3 | 4 | 6.4375 | 1 | 1 | 6.5 | 4 | 3 | 6.541667 | 1 | 2 | 6.000 | 2 | 1 | 6.6250 | 1 | 76 | 4 | frosh      | no type | 1 |\n",
       "| 4 | 1078 | female | east_asian     | Loro      | 5.500000 | 6.250 | 1.333333 | 2.0 | 4.5 | 6.5 | 6.5 | 1.5 | 6.5 | 0 | 130000 | 5.500000 | 2.333333 | 3.0 | 6 |  0.61446613 | -0.79801599 | 1 | 0 |       NA | 1 | 0 |     NA | 1 | 0 |       NA | 1 | 0 |     NA | 0 | 0 |       NA | 1 | 0 |     NA | 1 | 0 |     NA | 0 | 0 |     NA | 0 | 0 |     NA | 0 | 1 | 5.0 | 0 | 0 |       NA | 0 | 0 |    NA | 0 | 0 |     NA | 1 | 32 | 1 | four-class | no type | 1 |\n",
       "| 5 | 1097 | male   | east_asian     | Otero     | 6.000000 | 5.000 | 2.000000 | 2.0 | 3.0 | 4.0 | 5.5 | 1.5 | 4.5 | 0 |  90000 | 5.833333 | 2.000000 | 2.5 | 6 |  0.22618824 | -0.04126834 | 6 | 4 | 5.812500 | 3 | 1 | 5.6250 | 2 | 0 |       NA | 2 | 1 | 5.6250 | 1 | 1 | 5.625000 | 1 | 1 | 6.6250 | 0 | 1 | 5.6250 | 0 | 1 | 4.8750 | 1 | 1 | 6.1250 | 0 | 0 |  NA | 0 | 1 | 5.625000 | 0 | 1 | 6.000 | 3 | 1 | 6.6250 | 1 | 48 | 5 | frosh      | no type | 1 |\n",
       "| 6 | 1105 | female | white          | Larkin    | 6.666667 | 5.750 | 2.000000 | 2.0 | 4.5 | 5.0 | 5.0 | 2.0 | 4.5 | 0 | 170000 | 6.666667 | 2.000000 | 2.0 | 4 |  0.48041399 |  0.64021289 | 6 | 9 | 5.847222 | 4 | 5 | 6.0250 | 2 | 2 | 5.875000 | 3 | 4 | 5.8125 | 2 | 3 | 6.125000 | 2 | 2 | 5.3750 | 2 | 2 | 6.3125 | 1 | 4 | 6.1875 | 2 | 1 | 6.8750 | 1 | 0 |  NA | 2 | 3 | 5.750000 | 1 | 1 | 5.125 | 4 | 2 | 6.1875 | 1 | 77 | 4 | frosh      | no type | 1 |\n",
       "\n"
      ],
      "text/plain": [
       "  PID  gender race           dorm      life_satisfaction_t1 empathy\n",
       "1 1001 male   south_asian    Rinconada 4.833333             6.375  \n",
       "2 1004 female south_asian    Donner    2.833333             6.000  \n",
       "3 1047 female other_or_mixed Twain     5.333333             6.500  \n",
       "4 1078 female east_asian     Loro      5.500000             6.250  \n",
       "5 1097 male   east_asian     Otero     6.000000             5.000  \n",
       "6 1105 female white          Larkin    6.666667             5.750  \n",
       "  loneliness_t1 stress_t1 BFI_E BFI_A BFI_C BFI_N BFI_O intl_student\n",
       "1 1.333333      2.5       6.5   6.0   5.5   3.5   6.5   0           \n",
       "2 2.000000      2.0       4.0   5.5   4.5   3.0   5.5   1           \n",
       "3 2.000000      2.5       5.5   6.5   7.0   3.0   6.5   0           \n",
       "4 1.333333      2.0       4.5   6.5   6.5   1.5   6.5   0           \n",
       "5 2.000000      2.0       3.0   4.0   5.5   1.5   4.5   0           \n",
       "6 2.000000      2.0       4.5   5.0   5.0   2.0   4.5   0           \n",
       "  family_income life_satisfaction_t2 loneliness_t2 stress_t2\n",
       "1  70000        6.166667             2.000000      1.5      \n",
       "2  10000        3.000000             2.666667      3.0      \n",
       "3 210000        5.166667             2.000000      3.0      \n",
       "4 130000        5.500000             2.333333      3.0      \n",
       "5  90000        5.833333             2.000000      2.5      \n",
       "6 170000        6.666667             2.000000      2.0      \n",
       "  parent_education_highest wellbeing_composite_t1 wellbeing_composite_t2\n",
       "1 5                        -0.05862651             0.83993983           \n",
       "2 1                        -0.98138408            -1.95722956           \n",
       "3 5                        -0.44690440            -0.66253028           \n",
       "4 6                         0.61446613            -0.79801599           \n",
       "5 6                         0.22618824            -0.04126834           \n",
       "6 4                         0.48041399             0.64021289           \n",
       "  degree_in_UNION degree_out_UNION empathy_UNION degree_in_INTIMATE\n",
       "1 3               0                      NA      1                 \n",
       "2 7               6                5.479167      5                 \n",
       "3 6               4                6.437500      4                 \n",
       "4 1               0                      NA      1                 \n",
       "5 6               4                5.812500      3                 \n",
       "6 6               9                5.847222      4                 \n",
       "  degree_out_INTIMATE empathy_INTIMATE degree_in_ACQUAINTANCE\n",
       "1 0                       NA           1                     \n",
       "2 4                   5.6250           0                     \n",
       "3 4                   6.4375           0                     \n",
       "4 0                       NA           1                     \n",
       "5 1                   5.6250           2                     \n",
       "6 5                   6.0250           2                     \n",
       "  degree_out_ACQUAINTANCE empathy_ACQUAINTANCE degree_in_CloseFrds\n",
       "1 0                             NA             1                  \n",
       "2 3                       5.916667             4                  \n",
       "3 1                       6.125000             4                  \n",
       "4 0                             NA             1                  \n",
       "5 0                             NA             2                  \n",
       "6 2                       5.875000             3                  \n",
       "  degree_out_CloseFrds empathy_CloseFrds degree_in_NegEmoSupp\n",
       "1 0                        NA            0                   \n",
       "2 4                    5.6250            5                   \n",
       "3 4                    6.4375            4                   \n",
       "4 0                        NA            0                   \n",
       "5 1                    5.6250            1                   \n",
       "6 4                    5.8125            2                   \n",
       "  degree_out_NegEmoSupp empathy_NegEmoSupp degree_in_PosEmoSupp\n",
       "1 0                           NA           2                   \n",
       "2 1                     4.750000           4                   \n",
       "3 3                     6.541667           3                   \n",
       "4 0                           NA           1                   \n",
       "5 1                     5.625000           1                   \n",
       "6 3                     6.125000           2                   \n",
       "  degree_out_PosEmoSupp empathy_PosEmoSupp degree_in_Responsive\n",
       "1 0                         NA             0                   \n",
       "2 4                     5.4375             2                   \n",
       "3 4                     6.4375             2                   \n",
       "4 0                         NA             1                   \n",
       "5 1                     6.6250             0                   \n",
       "6 2                     5.3750             2                   \n",
       "  degree_out_Responsive empathy_Responsive degree_in_EmpSupp degree_out_EmpSupp\n",
       "1 0                         NA             0                 0                 \n",
       "2 2                     5.5000             3                 1                 \n",
       "3 2                     6.5625             1                 2                 \n",
       "4 0                         NA             0                 0                 \n",
       "5 1                     5.6250             0                 1                 \n",
       "6 2                     6.3125             1                 4                 \n",
       "  empathy_EmpSupp degree_in_PosAff degree_out_PosAff empathy_PosAff\n",
       "1     NA          1                0                     NA        \n",
       "2 4.7500          2                1                 4.7500        \n",
       "3 6.5625          3                4                 6.4375        \n",
       "4     NA          0                0                     NA        \n",
       "5 4.8750          1                1                 6.1250        \n",
       "6 6.1875          2                1                 6.8750        \n",
       "  degree_in_NegAff degree_out_NegAff empathy_NegAff degree_in_Gossip\n",
       "1 0                0                  NA            1               \n",
       "2 1                0                  NA            1               \n",
       "3 1                1                 6.5            4               \n",
       "4 0                1                 5.0            0               \n",
       "5 0                0                  NA            0               \n",
       "6 1                0                  NA            2               \n",
       "  degree_out_Gossip empathy_Gossip degree_in_Liked degree_out_Liked\n",
       "1 0                       NA       1               0               \n",
       "2 1                 4.750000       1               1               \n",
       "3 3                 6.541667       1               2               \n",
       "4 0                       NA       0               0               \n",
       "5 1                 5.625000       0               1               \n",
       "6 3                 5.750000       1               1               \n",
       "  empathy_Liked degree_in_StudyWith degree_out_StudyWith empathy_StudyWith\n",
       "1    NA         1                   0                        NA           \n",
       "2 4.750         3                   2                    5.5625           \n",
       "3 6.000         2                   1                    6.6250           \n",
       "4    NA         0                   0                        NA           \n",
       "5 6.000         3                   1                    6.6250           \n",
       "6 5.125         4                   2                    6.1875           \n",
       "  frosh DID HID dormClass  dormType participatingDorm\n",
       "1 1     30  5   frosh      no type  1                \n",
       "2 1     35  4   frosh      no type  1                \n",
       "3 1     76  4   frosh      no type  1                \n",
       "4 1     32  1   four-class no type  1                \n",
       "5 1     48  5   frosh      no type  1                \n",
       "6 1     77  4   frosh      no type  1                "
      ]
     },
     "metadata": {},
     "output_type": "display_data"
    }
   ],
   "source": [
    "df = merge(df, dorms, by=\"PID\")\n",
    "dim(df)\n",
    "head(df)"
   ]
  },
  {
   "cell_type": "code",
   "execution_count": 35,
   "metadata": {},
   "outputs": [],
   "source": [
    "df$dormIsFrosh = df$dormClass == \"frosh\""
   ]
  },
  {
   "cell_type": "code",
   "execution_count": 42,
   "metadata": {},
   "outputs": [
    {
     "data": {
      "text/html": [
       "<table>\n",
       "<caption>A tibble: 2 × 10</caption>\n",
       "<thead>\n",
       "\t<tr><th scope=col>dormIsFrosh</th><th scope=col>count</th><th scope=col>life_satisfaction_t1</th><th scope=col>life_satisfaction_t2</th><th scope=col>loneliness_t1</th><th scope=col>loneliness_t2</th><th scope=col>stress_t1</th><th scope=col>stress_t2</th><th scope=col>wellbeing_composite_t1</th><th scope=col>wellbeing_composite_t2</th></tr>\n",
       "\t<tr><th scope=col>&lt;lgl&gt;</th><th scope=col>&lt;int&gt;</th><th scope=col>&lt;dbl&gt;</th><th scope=col>&lt;dbl&gt;</th><th scope=col>&lt;dbl&gt;</th><th scope=col>&lt;dbl&gt;</th><th scope=col>&lt;dbl&gt;</th><th scope=col>&lt;dbl&gt;</th><th scope=col>&lt;dbl&gt;</th><th scope=col>&lt;dbl&gt;</th></tr>\n",
       "</thead>\n",
       "<tbody>\n",
       "\t<tr><td>FALSE</td><td>275</td><td>4.909091</td><td>4.753650</td><td>1.854545</td><td>1.985455</td><td>2.089091</td><td>2.143636</td><td>-0.13813624</td><td>-0.14574430</td></tr>\n",
       "\t<tr><td> TRUE</td><td>427</td><td>5.160617</td><td>5.039813</td><td>1.773614</td><td>1.880000</td><td>2.016393</td><td>2.064706</td><td> 0.08896362</td><td> 0.09396221</td></tr>\n",
       "</tbody>\n",
       "</table>\n"
      ],
      "text/latex": [
       "A tibble: 2 × 10\n",
       "\\begin{tabular}{llllllllll}\n",
       " dormIsFrosh & count & life\\_satisfaction\\_t1 & life\\_satisfaction\\_t2 & loneliness\\_t1 & loneliness\\_t2 & stress\\_t1 & stress\\_t2 & wellbeing\\_composite\\_t1 & wellbeing\\_composite\\_t2\\\\\n",
       " <lgl> & <int> & <dbl> & <dbl> & <dbl> & <dbl> & <dbl> & <dbl> & <dbl> & <dbl>\\\\\n",
       "\\hline\n",
       "\t FALSE & 275 & 4.909091 & 4.753650 & 1.854545 & 1.985455 & 2.089091 & 2.143636 & -0.13813624 & -0.14574430\\\\\n",
       "\t  TRUE & 427 & 5.160617 & 5.039813 & 1.773614 & 1.880000 & 2.016393 & 2.064706 &  0.08896362 &  0.09396221\\\\\n",
       "\\end{tabular}\n"
      ],
      "text/markdown": [
       "\n",
       "A tibble: 2 × 10\n",
       "\n",
       "| dormIsFrosh &lt;lgl&gt; | count &lt;int&gt; | life_satisfaction_t1 &lt;dbl&gt; | life_satisfaction_t2 &lt;dbl&gt; | loneliness_t1 &lt;dbl&gt; | loneliness_t2 &lt;dbl&gt; | stress_t1 &lt;dbl&gt; | stress_t2 &lt;dbl&gt; | wellbeing_composite_t1 &lt;dbl&gt; | wellbeing_composite_t2 &lt;dbl&gt; |\n",
       "|---|---|---|---|---|---|---|---|---|---|\n",
       "| FALSE | 275 | 4.909091 | 4.753650 | 1.854545 | 1.985455 | 2.089091 | 2.143636 | -0.13813624 | -0.14574430 |\n",
       "|  TRUE | 427 | 5.160617 | 5.039813 | 1.773614 | 1.880000 | 2.016393 | 2.064706 |  0.08896362 |  0.09396221 |\n",
       "\n"
      ],
      "text/plain": [
       "  dormIsFrosh count life_satisfaction_t1 life_satisfaction_t2 loneliness_t1\n",
       "1 FALSE       275   4.909091             4.753650             1.854545     \n",
       "2  TRUE       427   5.160617             5.039813             1.773614     \n",
       "  loneliness_t2 stress_t1 stress_t2 wellbeing_composite_t1\n",
       "1 1.985455      2.089091  2.143636  -0.13813624           \n",
       "2 1.880000      2.016393  2.064706   0.08896362           \n",
       "  wellbeing_composite_t2\n",
       "1 -0.14574430           \n",
       "2  0.09396221           "
      ]
     },
     "metadata": {},
     "output_type": "display_data"
    }
   ],
   "source": [
    "df %>% group_by(dormIsFrosh) %>% summarize(\n",
    "    count=n(),\n",
    "    life_satisfaction_t1=mean(life_satisfaction_t1, na.rm=TRUE),\n",
    "    life_satisfaction_t2=mean(life_satisfaction_t2, na.rm=TRUE),\n",
    "    loneliness_t1=mean(loneliness_t1, na.rm=TRUE),\n",
    "    loneliness_t2=mean(loneliness_t2, na.rm=TRUE),\n",
    "    stress_t1=mean(stress_t1, na.rm=TRUE),\n",
    "    stress_t2=mean(stress_t2, na.rm=TRUE),\n",
    "    wellbeing_composite_t1=mean(wellbeing_composite_t1, na.rm=TRUE),\n",
    "    wellbeing_composite_t2=mean(wellbeing_composite_t2, na.rm=TRUE),)"
   ]
  },
  {
   "cell_type": "markdown",
   "metadata": {},
   "source": [
    "## Test for linear effect of being in an all-frosh dorm"
   ]
  },
  {
   "cell_type": "code",
   "execution_count": 38,
   "metadata": {},
   "outputs": [
    {
     "data": {
      "text/plain": [
       "\n",
       "Call:\n",
       "lm(formula = life_satisfaction_t2 ~ life_satisfaction_t1 + dormIsFrosh, \n",
       "    data = df)\n",
       "\n",
       "Residuals:\n",
       "    Min      1Q  Median      3Q     Max \n",
       "-2.9581 -0.4674  0.0500  0.5419  3.4249 \n",
       "\n",
       "Coefficients:\n",
       "                     Estimate Std. Error t value Pr(>|t|)    \n",
       "(Intercept)           0.94823    0.13886   6.829 1.86e-11 ***\n",
       "life_satisfaction_t1  0.77610    0.02650  29.289  < 2e-16 ***\n",
       "dormIsFroshTRUE       0.08645    0.06315   1.369    0.171    \n",
       "---\n",
       "Signif. codes:  0 ‘***’ 0.001 ‘**’ 0.01 ‘*’ 0.05 ‘.’ 0.1 ‘ ’ 1\n",
       "\n",
       "Residual standard error: 0.811 on 698 degrees of freedom\n",
       "  (1 observation deleted due to missingness)\n",
       "Multiple R-squared:  0.5573,\tAdjusted R-squared:  0.556 \n",
       "F-statistic: 439.3 on 2 and 698 DF,  p-value: < 2.2e-16\n"
      ]
     },
     "metadata": {},
     "output_type": "display_data"
    }
   ],
   "source": [
    "summary(lm(life_satisfaction_t2 ~ life_satisfaction_t1 + dormIsFrosh, data=df))"
   ]
  },
  {
   "cell_type": "code",
   "execution_count": 39,
   "metadata": {},
   "outputs": [
    {
     "data": {
      "text/plain": [
       "\n",
       "Call:\n",
       "lm(formula = loneliness_t2 ~ loneliness_t1 + dormIsFrosh, data = df)\n",
       "\n",
       "Residuals:\n",
       "     Min       1Q   Median       3Q      Max \n",
       "-1.18621 -0.36712 -0.00394  0.32939  1.54286 \n",
       "\n",
       "Coefficients:\n",
       "                Estimate Std. Error t value Pr(>|t|)    \n",
       "(Intercept)      0.97139    0.07480  12.987   <2e-16 ***\n",
       "loneliness_t1    0.54680    0.03694  14.804   <2e-16 ***\n",
       "dormIsFroshTRUE -0.06105    0.03868  -1.578    0.115    \n",
       "---\n",
       "Signif. codes:  0 ‘***’ 0.001 ‘**’ 0.01 ‘*’ 0.05 ‘.’ 0.1 ‘ ’ 1\n",
       "\n",
       "Residual standard error: 0.4983 on 697 degrees of freedom\n",
       "  (2 observations deleted due to missingness)\n",
       "Multiple R-squared:  0.2454,\tAdjusted R-squared:  0.2432 \n",
       "F-statistic: 113.3 on 2 and 697 DF,  p-value: < 2.2e-16\n"
      ]
     },
     "metadata": {},
     "output_type": "display_data"
    }
   ],
   "source": [
    "summary(lm(loneliness_t2 ~ loneliness_t1 + dormIsFrosh, data=df))"
   ]
  },
  {
   "cell_type": "code",
   "execution_count": 40,
   "metadata": {},
   "outputs": [
    {
     "data": {
      "text/plain": [
       "\n",
       "Call:\n",
       "lm(formula = stress_t2 ~ stress_t1 + dormIsFrosh, data = df)\n",
       "\n",
       "Residuals:\n",
       "     Min       1Q   Median       3Q      Max \n",
       "-1.31030 -0.34443 -0.05634  0.40161  1.45158 \n",
       "\n",
       "Coefficients:\n",
       "                Estimate Std. Error t value Pr(>|t|)    \n",
       "(Intercept)      1.08254    0.08225  13.162   <2e-16 ***\n",
       "stress_t1        0.50792    0.03650  13.914   <2e-16 ***\n",
       "dormIsFroshTRUE -0.04205    0.03963  -1.061    0.289    \n",
       "---\n",
       "Signif. codes:  0 ‘***’ 0.001 ‘**’ 0.01 ‘*’ 0.05 ‘.’ 0.1 ‘ ’ 1\n",
       "\n",
       "Residual standard error: 0.511 on 697 degrees of freedom\n",
       "  (2 observations deleted due to missingness)\n",
       "Multiple R-squared:  0.2209,\tAdjusted R-squared:  0.2186 \n",
       "F-statistic: 98.79 on 2 and 697 DF,  p-value: < 2.2e-16\n"
      ]
     },
     "metadata": {},
     "output_type": "display_data"
    }
   ],
   "source": [
    "summary(lm(stress_t2 ~ stress_t1 + dormIsFrosh, data=df))"
   ]
  },
  {
   "cell_type": "code",
   "execution_count": 41,
   "metadata": {},
   "outputs": [
    {
     "data": {
      "text/plain": [
       "\n",
       "Call:\n",
       "lm(formula = wellbeing_composite_t2 ~ wellbeing_composite_t1 + \n",
       "    dormIsFrosh, data = df)\n",
       "\n",
       "Residuals:\n",
       "     Min       1Q   Median       3Q      Max \n",
       "-2.32098 -0.44382  0.07806  0.49213  2.23838 \n",
       "\n",
       "Coefficients:\n",
       "                       Estimate Std. Error t value Pr(>|t|)    \n",
       "(Intercept)            -0.05101    0.04506  -1.132    0.258    \n",
       "wellbeing_composite_t1  0.66368    0.02827  23.478   <2e-16 ***\n",
       "dormIsFroshTRUE         0.08621    0.05793   1.488    0.137    \n",
       "---\n",
       "Signif. codes:  0 ‘***’ 0.001 ‘**’ 0.01 ‘*’ 0.05 ‘.’ 0.1 ‘ ’ 1\n",
       "\n",
       "Residual standard error: 0.7429 on 696 degrees of freedom\n",
       "  (3 observations deleted due to missingness)\n",
       "Multiple R-squared:  0.4496,\tAdjusted R-squared:  0.448 \n",
       "F-statistic: 284.3 on 2 and 696 DF,  p-value: < 2.2e-16\n"
      ]
     },
     "metadata": {},
     "output_type": "display_data"
    }
   ],
   "source": [
    "summary(lm(wellbeing_composite_t2 ~ wellbeing_composite_t1 + dormIsFrosh, data=df))"
   ]
  },
  {
   "cell_type": "markdown",
   "metadata": {},
   "source": [
    "## Test for t1 difference in frosh vs non-frosh students"
   ]
  },
  {
   "cell_type": "code",
   "execution_count": 50,
   "metadata": {},
   "outputs": [
    {
     "data": {
      "text/plain": [
       "\n",
       "\tWelch Two Sample t-test\n",
       "\n",
       "data:  df$life_satisfaction_t1 and df$dormIsFrosh\n",
       "t = 93.474, df = 940.45, p-value < 2.2e-16\n",
       "alternative hypothesis: true difference in means is not equal to 0\n",
       "95 percent confidence interval:\n",
       " 4.360315 4.547330\n",
       "sample estimates:\n",
       "mean of x mean of y \n",
       "5.0620845 0.6082621 \n"
      ]
     },
     "metadata": {},
     "output_type": "display_data"
    }
   ],
   "source": [
    "t.test(df$life_satisfaction_t1, df$dormIsFrosh)"
   ]
  },
  {
   "cell_type": "code",
   "execution_count": 51,
   "metadata": {},
   "outputs": [
    {
     "data": {
      "text/plain": [
       "\n",
       "\tWelch Two Sample t-test\n",
       "\n",
       "data:  df$loneliness_t1 and df$dormIsFrosh\n",
       "t = 44.857, df = 1399.1, p-value < 2.2e-16\n",
       "alternative hypothesis: true difference in means is not equal to 0\n",
       "95 percent confidence interval:\n",
       " 1.144707 1.249405\n",
       "sample estimates:\n",
       "mean of x mean of y \n",
       "1.8053181 0.6082621 \n"
      ]
     },
     "metadata": {},
     "output_type": "display_data"
    }
   ],
   "source": [
    "t.test(df$loneliness_t1, df$dormIsFrosh)"
   ]
  },
  {
   "cell_type": "code",
   "execution_count": 52,
   "metadata": {},
   "outputs": [
    {
     "data": {
      "text/plain": [
       "\n",
       "\tWelch Two Sample t-test\n",
       "\n",
       "data:  df$stress_t1 and df$dormIsFrosh\n",
       "t = 52.814, df = 1392.8, p-value < 2.2e-16\n",
       "alternative hypothesis: true difference in means is not equal to 0\n",
       "95 percent confidence interval:\n",
       " 1.383250 1.489969\n",
       "sample estimates:\n",
       "mean of x mean of y \n",
       "2.0448718 0.6082621 \n"
      ]
     },
     "metadata": {},
     "output_type": "display_data"
    }
   ],
   "source": [
    "t.test(df$stress_t1, df$dormIsFrosh)"
   ]
  },
  {
   "cell_type": "code",
   "execution_count": 53,
   "metadata": {},
   "outputs": [
    {
     "data": {
      "text/plain": [
       "\n",
       "\tWelch Two Sample t-test\n",
       "\n",
       "data:  df$wellbeing_composite_t1 and df$dormIsFrosh\n",
       "t = -14.481, df = 1017.5, p-value < 2.2e-16\n",
       "alternative hypothesis: true difference in means is not equal to 0\n",
       "95 percent confidence interval:\n",
       " -0.6906883 -0.5258359\n",
       "sample estimates:\n",
       "   mean of x    mean of y \n",
       "5.499500e-17 6.082621e-01 \n"
      ]
     },
     "metadata": {},
     "output_type": "display_data"
    }
   ],
   "source": [
    "t.test(df$wellbeing_composite_t1, df$dormIsFrosh)"
   ]
  },
  {
   "cell_type": "code",
   "execution_count": null,
   "metadata": {},
   "outputs": [],
   "source": []
  }
 ],
 "metadata": {
  "kernelspec": {
   "display_name": "R",
   "language": "R",
   "name": "r-3.6.2"
  },
  "language_info": {
   "codemirror_mode": "r",
   "file_extension": ".r",
   "mimetype": "text/x-r-source",
   "name": "R",
   "pygments_lexer": "r",
   "version": "3.6.2"
  },
  "toc": {
   "base_numbering": 1,
   "nav_menu": {},
   "number_sections": true,
   "sideBar": true,
   "skip_h1_title": true,
   "title_cell": "Table of Contents",
   "title_sidebar": "Contents",
   "toc_cell": true,
   "toc_position": {
    "height": "calc(100% - 180px)",
    "left": "10px",
    "top": "150px",
    "width": "191.903px"
   },
   "toc_section_display": true,
   "toc_window_display": true
  }
 },
 "nbformat": 4,
 "nbformat_minor": 2
}

{
 "cells": [
  {
   "cell_type": "markdown",
   "metadata": {},
   "source": [
    "# Are students who take Frosh 101 different from other students in our study?\n",
    "\n",
    "Answer: no\n",
    "\n",
    "* No statistically significant difference on any dimension, including t1/t2 well-being measures.\n",
    "* Except by dorm - some dorms are more likely on the whole to participate in frosh 101.\n",
    "* There was a significant difference in Agreeableness too, but this becomes non-significant when considering the number of tests performed here.\n",
    "\n",
    "**Author: Everett Wetchler (`wetchler@berkeley.edu`)**"
   ]
  },
  {
   "cell_type": "markdown",
   "metadata": {
    "toc": true
   },
   "source": [
    "<h1>Table of Contents<span class=\"tocSkip\"></span></h1>\n",
    "<div class=\"toc\"><ul class=\"toc-item\"><li><span><a href=\"#Configuration\" data-toc-modified-id=\"Configuration-1\"><span class=\"toc-item-num\">1&nbsp;&nbsp;</span>Configuration</a></span></li><li><span><a href=\"#Import-and-load\" data-toc-modified-id=\"Import-and-load-2\"><span class=\"toc-item-num\">2&nbsp;&nbsp;</span>Import and load</a></span></li><li><span><a href=\"#Who-takes-frosh-101?\" data-toc-modified-id=\"Who-takes-frosh-101?-3\"><span class=\"toc-item-num\">3&nbsp;&nbsp;</span>Who takes frosh 101?</a></span><ul class=\"toc-item\"><li><span><a href=\"#Gender\" data-toc-modified-id=\"Gender-3.1\"><span class=\"toc-item-num\">3.1&nbsp;&nbsp;</span>Gender</a></span></li><li><span><a href=\"#Race\" data-toc-modified-id=\"Race-3.2\"><span class=\"toc-item-num\">3.2&nbsp;&nbsp;</span>Race</a></span></li><li><span><a href=\"#Dorm\" data-toc-modified-id=\"Dorm-3.3\"><span class=\"toc-item-num\">3.3&nbsp;&nbsp;</span>Dorm</a></span></li><li><span><a href=\"#International-students\" data-toc-modified-id=\"International-students-3.4\"><span class=\"toc-item-num\">3.4&nbsp;&nbsp;</span>International students</a></span></li><li><span><a href=\"#Family-income\" data-toc-modified-id=\"Family-income-3.5\"><span class=\"toc-item-num\">3.5&nbsp;&nbsp;</span>Family income</a></span></li><li><span><a href=\"#Parent-education\" data-toc-modified-id=\"Parent-education-3.6\"><span class=\"toc-item-num\">3.6&nbsp;&nbsp;</span>Parent education</a></span></li><li><span><a href=\"#stress-(t1)\" data-toc-modified-id=\"stress-(t1)-3.7\"><span class=\"toc-item-num\">3.7&nbsp;&nbsp;</span>stress (t1)</a></span></li><li><span><a href=\"#life-satisfaction-(t1)\" data-toc-modified-id=\"life-satisfaction-(t1)-3.8\"><span class=\"toc-item-num\">3.8&nbsp;&nbsp;</span>life satisfaction (t1)</a></span></li><li><span><a href=\"#loneliness-(t1)\" data-toc-modified-id=\"loneliness-(t1)-3.9\"><span class=\"toc-item-num\">3.9&nbsp;&nbsp;</span>loneliness (t1)</a></span></li><li><span><a href=\"#composite-well-being-(t1)\" data-toc-modified-id=\"composite-well-being-(t1)-3.10\"><span class=\"toc-item-num\">3.10&nbsp;&nbsp;</span>composite well-being (t1)</a></span></li><li><span><a href=\"#Extraversion\" data-toc-modified-id=\"Extraversion-3.11\"><span class=\"toc-item-num\">3.11&nbsp;&nbsp;</span>Extraversion</a></span></li><li><span><a href=\"#Agreeableness\" data-toc-modified-id=\"Agreeableness-3.12\"><span class=\"toc-item-num\">3.12&nbsp;&nbsp;</span>Agreeableness</a></span></li><li><span><a href=\"#Openness\" data-toc-modified-id=\"Openness-3.13\"><span class=\"toc-item-num\">3.13&nbsp;&nbsp;</span>Openness</a></span></li><li><span><a href=\"#Conscientiousness\" data-toc-modified-id=\"Conscientiousness-3.14\"><span class=\"toc-item-num\">3.14&nbsp;&nbsp;</span>Conscientiousness</a></span></li><li><span><a href=\"#Neuroticism\" data-toc-modified-id=\"Neuroticism-3.15\"><span class=\"toc-item-num\">3.15&nbsp;&nbsp;</span>Neuroticism</a></span></li><li><span><a href=\"#Empathy\" data-toc-modified-id=\"Empathy-3.16\"><span class=\"toc-item-num\">3.16&nbsp;&nbsp;</span>Empathy</a></span></li></ul></li><li><span><a href=\"#Outcome-measures-(t2-well-being)\" data-toc-modified-id=\"Outcome-measures-(t2-well-being)-4\"><span class=\"toc-item-num\">4&nbsp;&nbsp;</span>Outcome measures (t2 well-being)</a></span><ul class=\"toc-item\"><li><span><a href=\"#stress-(t2)\" data-toc-modified-id=\"stress-(t2)-4.1\"><span class=\"toc-item-num\">4.1&nbsp;&nbsp;</span>stress (t2)</a></span></li><li><span><a href=\"#life-satisfaction-(t2)\" data-toc-modified-id=\"life-satisfaction-(t2)-4.2\"><span class=\"toc-item-num\">4.2&nbsp;&nbsp;</span>life satisfaction (t2)</a></span></li><li><span><a href=\"#loneliness-(t2)\" data-toc-modified-id=\"loneliness-(t2)-4.3\"><span class=\"toc-item-num\">4.3&nbsp;&nbsp;</span>loneliness (t2)</a></span></li><li><span><a href=\"#composite-well-being-(t2)\" data-toc-modified-id=\"composite-well-being-(t2)-4.4\"><span class=\"toc-item-num\">4.4&nbsp;&nbsp;</span>composite well-being (t2)</a></span></li></ul></li></ul></div>"
   ]
  },
  {
   "cell_type": "markdown",
   "metadata": {},
   "source": [
    "## Configuration"
   ]
  },
  {
   "cell_type": "code",
   "execution_count": 1,
   "metadata": {},
   "outputs": [],
   "source": [
    "DATA_FILE = '../data/2019–2020/postprocessed/df_Rcleaned_train.csv'\n",
    "FROSH101_FILE = '../data/2019–2020/frosh101.csv'"
   ]
  },
  {
   "cell_type": "markdown",
   "metadata": {},
   "source": [
    "## Import and load"
   ]
  },
  {
   "cell_type": "code",
   "execution_count": 2,
   "metadata": {},
   "outputs": [
    {
     "name": "stderr",
     "output_type": "stream",
     "text": [
      "Loading required package: carData\n",
      "\n",
      "── \u001b[1mAttaching packages\u001b[22m ─────────────────────────────────────── tidyverse 1.3.0 ──\n",
      "\n",
      "\u001b[32m✔\u001b[39m \u001b[34mggplot2\u001b[39m 3.2.1     \u001b[32m✔\u001b[39m \u001b[34mpurrr  \u001b[39m 0.3.3\n",
      "\u001b[32m✔\u001b[39m \u001b[34mtibble \u001b[39m 2.1.3     \u001b[32m✔\u001b[39m \u001b[34mdplyr  \u001b[39m 0.8.3\n",
      "\u001b[32m✔\u001b[39m \u001b[34mtidyr  \u001b[39m 1.0.0     \u001b[32m✔\u001b[39m \u001b[34mstringr\u001b[39m 1.4.0\n",
      "\u001b[32m✔\u001b[39m \u001b[34mreadr  \u001b[39m 1.3.1     \u001b[32m✔\u001b[39m \u001b[34mforcats\u001b[39m 0.4.0\n",
      "\n",
      "── \u001b[1mConflicts\u001b[22m ────────────────────────────────────────── tidyverse_conflicts() ──\n",
      "\u001b[31m✖\u001b[39m \u001b[34mdplyr\u001b[39m::\u001b[32mfilter()\u001b[39m masks \u001b[34mstats\u001b[39m::filter()\n",
      "\u001b[31m✖\u001b[39m \u001b[34mdplyr\u001b[39m::\u001b[32mlag()\u001b[39m    masks \u001b[34mstats\u001b[39m::lag()\n",
      "\u001b[31m✖\u001b[39m \u001b[34mdplyr\u001b[39m::\u001b[32mrecode()\u001b[39m masks \u001b[34mcar\u001b[39m::recode()\n",
      "\u001b[31m✖\u001b[39m \u001b[34mpurrr\u001b[39m::\u001b[32msome()\u001b[39m   masks \u001b[34mcar\u001b[39m::some()\n",
      "\n",
      "Loading required package: lattice\n",
      "\n",
      "Registered S3 methods overwritten by 'lme4':\n",
      "  method                          from\n",
      "  cooks.distance.influence.merMod car \n",
      "  influence.merMod                car \n",
      "  dfbeta.influence.merMod         car \n",
      "  dfbetas.influence.merMod        car \n",
      "\n",
      "\n",
      "Attaching package: ‘mice’\n",
      "\n",
      "\n",
      "The following object is masked from ‘package:tidyr’:\n",
      "\n",
      "    complete\n",
      "\n",
      "\n",
      "The following objects are masked from ‘package:base’:\n",
      "\n",
      "    cbind, rbind\n",
      "\n",
      "\n",
      "\n",
      "Attaching package: ‘nlme’\n",
      "\n",
      "\n",
      "The following object is masked from ‘package:dplyr’:\n",
      "\n",
      "    collapse\n",
      "\n",
      "\n",
      "Loading required package: Matrix\n",
      "\n",
      "\n",
      "Attaching package: ‘Matrix’\n",
      "\n",
      "\n",
      "The following objects are masked from ‘package:tidyr’:\n",
      "\n",
      "    expand, pack, unpack\n",
      "\n",
      "\n",
      "\n",
      "Attaching package: ‘lme4’\n",
      "\n",
      "\n",
      "The following object is masked from ‘package:nlme’:\n",
      "\n",
      "    lmList\n",
      "\n",
      "\n",
      "\n",
      "Attaching package: ‘lmerTest’\n",
      "\n",
      "\n",
      "The following object is masked from ‘package:lme4’:\n",
      "\n",
      "    lmer\n",
      "\n",
      "\n",
      "The following object is masked from ‘package:stats’:\n",
      "\n",
      "    step\n",
      "\n",
      "\n"
     ]
    }
   ],
   "source": [
    "library(car)\n",
    "library(tidyverse)\n",
    "library(hexbin)\n",
    "library(mice)\n",
    "library(nlme)\n",
    "library(lme4)\n",
    "library(lmerTest)\n",
    "\n",
    "# Display more data in the Jupyter notebook\n",
    "options(repr.matrix.max.cols=500, repr.matrix.max.rows=20)\n",
    "\n",
    "# Set default plot size\n",
    "options(repr.plot.width=6, repr.plot.height=6)"
   ]
  },
  {
   "cell_type": "code",
   "execution_count": 3,
   "metadata": {},
   "outputs": [
    {
     "data": {
      "text/html": [
       "<ol class=list-inline>\n",
       "\t<li>560</li>\n",
       "\t<li>61</li>\n",
       "</ol>\n"
      ],
      "text/latex": [
       "\\begin{enumerate*}\n",
       "\\item 560\n",
       "\\item 61\n",
       "\\end{enumerate*}\n"
      ],
      "text/markdown": [
       "1. 560\n",
       "2. 61\n",
       "\n",
       "\n"
      ],
      "text/plain": [
       "[1] 560  61"
      ]
     },
     "metadata": {},
     "output_type": "display_data"
    },
    {
     "data": {
      "text/html": [
       "<table>\n",
       "<caption>A data.frame: 6 × 61</caption>\n",
       "<thead>\n",
       "\t<tr><th></th><th scope=col>X</th><th scope=col>PID</th><th scope=col>gender</th><th scope=col>race</th><th scope=col>dorm</th><th scope=col>life_satisfaction_t1</th><th scope=col>empathy</th><th scope=col>loneliness_t1</th><th scope=col>stress_t1</th><th scope=col>BFI_E</th><th scope=col>BFI_A</th><th scope=col>BFI_C</th><th scope=col>BFI_N</th><th scope=col>BFI_O</th><th scope=col>intl_student</th><th scope=col>family_income</th><th scope=col>life_satisfaction_t2</th><th scope=col>loneliness_t2</th><th scope=col>stress_t2</th><th scope=col>parent_education_highest</th><th scope=col>wellbeing_composite_t1</th><th scope=col>wellbeing_composite_t2</th><th scope=col>degree_in_UNION</th><th scope=col>degree_out_UNION</th><th scope=col>empathy_UNION</th><th scope=col>degree_in_INTIMATE</th><th scope=col>degree_out_INTIMATE</th><th scope=col>empathy_INTIMATE</th><th scope=col>degree_in_ACQUAINTANCE</th><th scope=col>degree_out_ACQUAINTANCE</th><th scope=col>empathy_ACQUAINTANCE</th><th scope=col>degree_in_CloseFrds</th><th scope=col>degree_out_CloseFrds</th><th scope=col>empathy_CloseFrds</th><th scope=col>degree_in_NegEmoSupp</th><th scope=col>degree_out_NegEmoSupp</th><th scope=col>empathy_NegEmoSupp</th><th scope=col>degree_in_PosEmoSupp</th><th scope=col>degree_out_PosEmoSupp</th><th scope=col>empathy_PosEmoSupp</th><th scope=col>degree_in_Responsive</th><th scope=col>degree_out_Responsive</th><th scope=col>empathy_Responsive</th><th scope=col>degree_in_EmpSupp</th><th scope=col>degree_out_EmpSupp</th><th scope=col>empathy_EmpSupp</th><th scope=col>degree_in_PosAff</th><th scope=col>degree_out_PosAff</th><th scope=col>empathy_PosAff</th><th scope=col>degree_in_NegAff</th><th scope=col>degree_out_NegAff</th><th scope=col>empathy_NegAff</th><th scope=col>degree_in_Gossip</th><th scope=col>degree_out_Gossip</th><th scope=col>empathy_Gossip</th><th scope=col>degree_in_Liked</th><th scope=col>degree_out_Liked</th><th scope=col>empathy_Liked</th><th scope=col>degree_in_StudyWith</th><th scope=col>degree_out_StudyWith</th><th scope=col>empathy_StudyWith</th></tr>\n",
       "\t<tr><th></th><th scope=col>&lt;int&gt;</th><th scope=col>&lt;int&gt;</th><th scope=col>&lt;fct&gt;</th><th scope=col>&lt;fct&gt;</th><th scope=col>&lt;fct&gt;</th><th scope=col>&lt;dbl&gt;</th><th scope=col>&lt;dbl&gt;</th><th scope=col>&lt;dbl&gt;</th><th scope=col>&lt;dbl&gt;</th><th scope=col>&lt;dbl&gt;</th><th scope=col>&lt;dbl&gt;</th><th scope=col>&lt;dbl&gt;</th><th scope=col>&lt;dbl&gt;</th><th scope=col>&lt;dbl&gt;</th><th scope=col>&lt;int&gt;</th><th scope=col>&lt;int&gt;</th><th scope=col>&lt;dbl&gt;</th><th scope=col>&lt;dbl&gt;</th><th scope=col>&lt;dbl&gt;</th><th scope=col>&lt;int&gt;</th><th scope=col>&lt;dbl&gt;</th><th scope=col>&lt;dbl&gt;</th><th scope=col>&lt;int&gt;</th><th scope=col>&lt;int&gt;</th><th scope=col>&lt;dbl&gt;</th><th scope=col>&lt;int&gt;</th><th scope=col>&lt;int&gt;</th><th scope=col>&lt;dbl&gt;</th><th scope=col>&lt;int&gt;</th><th scope=col>&lt;int&gt;</th><th scope=col>&lt;dbl&gt;</th><th scope=col>&lt;int&gt;</th><th scope=col>&lt;int&gt;</th><th scope=col>&lt;dbl&gt;</th><th scope=col>&lt;int&gt;</th><th scope=col>&lt;int&gt;</th><th scope=col>&lt;dbl&gt;</th><th scope=col>&lt;int&gt;</th><th scope=col>&lt;int&gt;</th><th scope=col>&lt;dbl&gt;</th><th scope=col>&lt;int&gt;</th><th scope=col>&lt;int&gt;</th><th scope=col>&lt;dbl&gt;</th><th scope=col>&lt;int&gt;</th><th scope=col>&lt;int&gt;</th><th scope=col>&lt;dbl&gt;</th><th scope=col>&lt;int&gt;</th><th scope=col>&lt;int&gt;</th><th scope=col>&lt;dbl&gt;</th><th scope=col>&lt;int&gt;</th><th scope=col>&lt;int&gt;</th><th scope=col>&lt;dbl&gt;</th><th scope=col>&lt;int&gt;</th><th scope=col>&lt;int&gt;</th><th scope=col>&lt;dbl&gt;</th><th scope=col>&lt;int&gt;</th><th scope=col>&lt;int&gt;</th><th scope=col>&lt;dbl&gt;</th><th scope=col>&lt;int&gt;</th><th scope=col>&lt;int&gt;</th><th scope=col>&lt;dbl&gt;</th></tr>\n",
       "</thead>\n",
       "<tbody>\n",
       "\t<tr><th scope=row>1</th><td>1</td><td>1001</td><td>male  </td><td>south_asian   </td><td>Rinconada</td><td>4.833333</td><td>6.375</td><td>1.333333</td><td>2.5</td><td>6.5</td><td>6.0</td><td>5.5</td><td>3.5</td><td>6.5</td><td>0</td><td> 70000</td><td>6.166667</td><td>2.000000</td><td>1.5</td><td>5</td><td>-0.05862651</td><td> 0.83993983</td><td>3</td><td>0</td><td>      NA</td><td>1</td><td>0</td><td>     NA</td><td>1</td><td>0</td><td>   NA</td><td>1</td><td>0</td><td>     NA</td><td>0</td><td>0</td><td>      NA</td><td>2</td><td>0</td><td>    NA</td><td>0</td><td>0</td><td>    NA</td><td>0</td><td>0</td><td>    NA</td><td>1</td><td>0</td><td>     NA</td><td>0</td><td>0</td><td> NA</td><td>1</td><td>0</td><td>      NA</td><td>1</td><td>0</td><td>   NA</td><td>1</td><td>0</td><td>    NA</td></tr>\n",
       "\t<tr><th scope=row>2</th><td>2</td><td>1047</td><td>female</td><td>other_or_mixed</td><td>Twain    </td><td>5.333333</td><td>6.500</td><td>2.000000</td><td>2.5</td><td>5.5</td><td>6.5</td><td>7.0</td><td>3.0</td><td>6.5</td><td>0</td><td>210000</td><td>5.166667</td><td>2.000000</td><td>3.0</td><td>5</td><td>-0.44690440</td><td>-0.66253028</td><td>6</td><td>4</td><td>6.437500</td><td>4</td><td>4</td><td>6.43750</td><td>0</td><td>1</td><td>6.125</td><td>4</td><td>4</td><td>6.43750</td><td>4</td><td>3</td><td>6.541667</td><td>3</td><td>4</td><td>6.4375</td><td>2</td><td>2</td><td>6.5625</td><td>1</td><td>2</td><td>6.5625</td><td>3</td><td>4</td><td>6.43750</td><td>1</td><td>1</td><td>6.5</td><td>4</td><td>3</td><td>6.541667</td><td>1</td><td>2</td><td>6.000</td><td>2</td><td>1</td><td>6.6250</td></tr>\n",
       "\t<tr><th scope=row>3</th><td>3</td><td>1078</td><td>female</td><td>east_asian    </td><td>Loro     </td><td>5.500000</td><td>6.250</td><td>1.333333</td><td>2.0</td><td>4.5</td><td>6.5</td><td>6.5</td><td>1.5</td><td>6.5</td><td>0</td><td>130000</td><td>5.500000</td><td>2.333333</td><td>3.0</td><td>6</td><td> 0.61446613</td><td>-0.79801599</td><td>1</td><td>0</td><td>      NA</td><td>1</td><td>0</td><td>     NA</td><td>1</td><td>0</td><td>   NA</td><td>1</td><td>0</td><td>     NA</td><td>0</td><td>0</td><td>      NA</td><td>1</td><td>0</td><td>    NA</td><td>1</td><td>0</td><td>    NA</td><td>0</td><td>0</td><td>    NA</td><td>0</td><td>0</td><td>     NA</td><td>0</td><td>1</td><td>5.0</td><td>0</td><td>0</td><td>      NA</td><td>0</td><td>0</td><td>   NA</td><td>0</td><td>0</td><td>    NA</td></tr>\n",
       "\t<tr><th scope=row>4</th><td>4</td><td>1097</td><td>male  </td><td>east_asian    </td><td>Otero    </td><td>6.000000</td><td>5.000</td><td>2.000000</td><td>2.0</td><td>3.0</td><td>4.0</td><td>5.5</td><td>1.5</td><td>4.5</td><td>0</td><td> 90000</td><td>5.833333</td><td>2.000000</td><td>2.5</td><td>6</td><td> 0.22618824</td><td>-0.04126834</td><td>6</td><td>4</td><td>5.812500</td><td>3</td><td>1</td><td>5.62500</td><td>2</td><td>0</td><td>   NA</td><td>2</td><td>1</td><td>5.62500</td><td>1</td><td>1</td><td>5.625000</td><td>1</td><td>1</td><td>6.6250</td><td>0</td><td>1</td><td>5.6250</td><td>0</td><td>1</td><td>4.8750</td><td>1</td><td>1</td><td>6.12500</td><td>0</td><td>0</td><td> NA</td><td>0</td><td>1</td><td>5.625000</td><td>0</td><td>1</td><td>6.000</td><td>3</td><td>1</td><td>6.6250</td></tr>\n",
       "\t<tr><th scope=row>5</th><td>5</td><td>1105</td><td>female</td><td>white         </td><td>Larkin   </td><td>6.666667</td><td>5.750</td><td>2.000000</td><td>2.0</td><td>4.5</td><td>5.0</td><td>5.0</td><td>2.0</td><td>4.5</td><td>0</td><td>170000</td><td>6.666667</td><td>2.000000</td><td>2.0</td><td>4</td><td> 0.48041399</td><td> 0.64021289</td><td>6</td><td>9</td><td>5.847222</td><td>4</td><td>5</td><td>6.02500</td><td>2</td><td>2</td><td>5.875</td><td>3</td><td>4</td><td>5.81250</td><td>2</td><td>3</td><td>6.125000</td><td>2</td><td>2</td><td>5.3750</td><td>2</td><td>2</td><td>6.3125</td><td>1</td><td>4</td><td>6.1875</td><td>2</td><td>1</td><td>6.87500</td><td>1</td><td>0</td><td> NA</td><td>2</td><td>3</td><td>5.750000</td><td>1</td><td>1</td><td>5.125</td><td>4</td><td>2</td><td>6.1875</td></tr>\n",
       "\t<tr><th scope=row>6</th><td>6</td><td>1110</td><td>female</td><td>white         </td><td>Larkin   </td><td>5.166667</td><td>6.750</td><td>2.000000</td><td>2.0</td><td>6.5</td><td>5.0</td><td>6.0</td><td>2.0</td><td>4.5</td><td>0</td><td>110000</td><td>6.833333</td><td>1.666667</td><td>2.0</td><td>5</td><td>-0.09159395</td><td> 0.95635646</td><td>4</td><td>5</td><td>5.550000</td><td>4</td><td>4</td><td>5.40625</td><td>1</td><td>0</td><td>   NA</td><td>3</td><td>4</td><td>5.40625</td><td>3</td><td>4</td><td>5.406250</td><td>3</td><td>2</td><td>6.0625</td><td>2</td><td>2</td><td>5.7500</td><td>3</td><td>1</td><td>6.0000</td><td>2</td><td>4</td><td>5.78125</td><td>0</td><td>0</td><td> NA</td><td>3</td><td>4</td><td>5.406250</td><td>4</td><td>1</td><td>6.000</td><td>3</td><td>4</td><td>5.4375</td></tr>\n",
       "</tbody>\n",
       "</table>\n"
      ],
      "text/latex": [
       "A data.frame: 6 × 61\n",
       "\\begin{tabular}{r|lllllllllllllllllllllllllllllllllllllllllllllllllllllllllllll}\n",
       "  & X & PID & gender & race & dorm & life\\_satisfaction\\_t1 & empathy & loneliness\\_t1 & stress\\_t1 & BFI\\_E & BFI\\_A & BFI\\_C & BFI\\_N & BFI\\_O & intl\\_student & family\\_income & life\\_satisfaction\\_t2 & loneliness\\_t2 & stress\\_t2 & parent\\_education\\_highest & wellbeing\\_composite\\_t1 & wellbeing\\_composite\\_t2 & degree\\_in\\_UNION & degree\\_out\\_UNION & empathy\\_UNION & degree\\_in\\_INTIMATE & degree\\_out\\_INTIMATE & empathy\\_INTIMATE & degree\\_in\\_ACQUAINTANCE & degree\\_out\\_ACQUAINTANCE & empathy\\_ACQUAINTANCE & degree\\_in\\_CloseFrds & degree\\_out\\_CloseFrds & empathy\\_CloseFrds & degree\\_in\\_NegEmoSupp & degree\\_out\\_NegEmoSupp & empathy\\_NegEmoSupp & degree\\_in\\_PosEmoSupp & degree\\_out\\_PosEmoSupp & empathy\\_PosEmoSupp & degree\\_in\\_Responsive & degree\\_out\\_Responsive & empathy\\_Responsive & degree\\_in\\_EmpSupp & degree\\_out\\_EmpSupp & empathy\\_EmpSupp & degree\\_in\\_PosAff & degree\\_out\\_PosAff & empathy\\_PosAff & degree\\_in\\_NegAff & degree\\_out\\_NegAff & empathy\\_NegAff & degree\\_in\\_Gossip & degree\\_out\\_Gossip & empathy\\_Gossip & degree\\_in\\_Liked & degree\\_out\\_Liked & empathy\\_Liked & degree\\_in\\_StudyWith & degree\\_out\\_StudyWith & empathy\\_StudyWith\\\\\n",
       "  & <int> & <int> & <fct> & <fct> & <fct> & <dbl> & <dbl> & <dbl> & <dbl> & <dbl> & <dbl> & <dbl> & <dbl> & <dbl> & <int> & <int> & <dbl> & <dbl> & <dbl> & <int> & <dbl> & <dbl> & <int> & <int> & <dbl> & <int> & <int> & <dbl> & <int> & <int> & <dbl> & <int> & <int> & <dbl> & <int> & <int> & <dbl> & <int> & <int> & <dbl> & <int> & <int> & <dbl> & <int> & <int> & <dbl> & <int> & <int> & <dbl> & <int> & <int> & <dbl> & <int> & <int> & <dbl> & <int> & <int> & <dbl> & <int> & <int> & <dbl>\\\\\n",
       "\\hline\n",
       "\t1 & 1 & 1001 & male   & south\\_asian    & Rinconada & 4.833333 & 6.375 & 1.333333 & 2.5 & 6.5 & 6.0 & 5.5 & 3.5 & 6.5 & 0 &  70000 & 6.166667 & 2.000000 & 1.5 & 5 & -0.05862651 &  0.83993983 & 3 & 0 &       NA & 1 & 0 &      NA & 1 & 0 &    NA & 1 & 0 &      NA & 0 & 0 &       NA & 2 & 0 &     NA & 0 & 0 &     NA & 0 & 0 &     NA & 1 & 0 &      NA & 0 & 0 &  NA & 1 & 0 &       NA & 1 & 0 &    NA & 1 & 0 &     NA\\\\\n",
       "\t2 & 2 & 1047 & female & other\\_or\\_mixed & Twain     & 5.333333 & 6.500 & 2.000000 & 2.5 & 5.5 & 6.5 & 7.0 & 3.0 & 6.5 & 0 & 210000 & 5.166667 & 2.000000 & 3.0 & 5 & -0.44690440 & -0.66253028 & 6 & 4 & 6.437500 & 4 & 4 & 6.43750 & 0 & 1 & 6.125 & 4 & 4 & 6.43750 & 4 & 3 & 6.541667 & 3 & 4 & 6.4375 & 2 & 2 & 6.5625 & 1 & 2 & 6.5625 & 3 & 4 & 6.43750 & 1 & 1 & 6.5 & 4 & 3 & 6.541667 & 1 & 2 & 6.000 & 2 & 1 & 6.6250\\\\\n",
       "\t3 & 3 & 1078 & female & east\\_asian     & Loro      & 5.500000 & 6.250 & 1.333333 & 2.0 & 4.5 & 6.5 & 6.5 & 1.5 & 6.5 & 0 & 130000 & 5.500000 & 2.333333 & 3.0 & 6 &  0.61446613 & -0.79801599 & 1 & 0 &       NA & 1 & 0 &      NA & 1 & 0 &    NA & 1 & 0 &      NA & 0 & 0 &       NA & 1 & 0 &     NA & 1 & 0 &     NA & 0 & 0 &     NA & 0 & 0 &      NA & 0 & 1 & 5.0 & 0 & 0 &       NA & 0 & 0 &    NA & 0 & 0 &     NA\\\\\n",
       "\t4 & 4 & 1097 & male   & east\\_asian     & Otero     & 6.000000 & 5.000 & 2.000000 & 2.0 & 3.0 & 4.0 & 5.5 & 1.5 & 4.5 & 0 &  90000 & 5.833333 & 2.000000 & 2.5 & 6 &  0.22618824 & -0.04126834 & 6 & 4 & 5.812500 & 3 & 1 & 5.62500 & 2 & 0 &    NA & 2 & 1 & 5.62500 & 1 & 1 & 5.625000 & 1 & 1 & 6.6250 & 0 & 1 & 5.6250 & 0 & 1 & 4.8750 & 1 & 1 & 6.12500 & 0 & 0 &  NA & 0 & 1 & 5.625000 & 0 & 1 & 6.000 & 3 & 1 & 6.6250\\\\\n",
       "\t5 & 5 & 1105 & female & white          & Larkin    & 6.666667 & 5.750 & 2.000000 & 2.0 & 4.5 & 5.0 & 5.0 & 2.0 & 4.5 & 0 & 170000 & 6.666667 & 2.000000 & 2.0 & 4 &  0.48041399 &  0.64021289 & 6 & 9 & 5.847222 & 4 & 5 & 6.02500 & 2 & 2 & 5.875 & 3 & 4 & 5.81250 & 2 & 3 & 6.125000 & 2 & 2 & 5.3750 & 2 & 2 & 6.3125 & 1 & 4 & 6.1875 & 2 & 1 & 6.87500 & 1 & 0 &  NA & 2 & 3 & 5.750000 & 1 & 1 & 5.125 & 4 & 2 & 6.1875\\\\\n",
       "\t6 & 6 & 1110 & female & white          & Larkin    & 5.166667 & 6.750 & 2.000000 & 2.0 & 6.5 & 5.0 & 6.0 & 2.0 & 4.5 & 0 & 110000 & 6.833333 & 1.666667 & 2.0 & 5 & -0.09159395 &  0.95635646 & 4 & 5 & 5.550000 & 4 & 4 & 5.40625 & 1 & 0 &    NA & 3 & 4 & 5.40625 & 3 & 4 & 5.406250 & 3 & 2 & 6.0625 & 2 & 2 & 5.7500 & 3 & 1 & 6.0000 & 2 & 4 & 5.78125 & 0 & 0 &  NA & 3 & 4 & 5.406250 & 4 & 1 & 6.000 & 3 & 4 & 5.4375\\\\\n",
       "\\end{tabular}\n"
      ],
      "text/markdown": [
       "\n",
       "A data.frame: 6 × 61\n",
       "\n",
       "| <!--/--> | X &lt;int&gt; | PID &lt;int&gt; | gender &lt;fct&gt; | race &lt;fct&gt; | dorm &lt;fct&gt; | life_satisfaction_t1 &lt;dbl&gt; | empathy &lt;dbl&gt; | loneliness_t1 &lt;dbl&gt; | stress_t1 &lt;dbl&gt; | BFI_E &lt;dbl&gt; | BFI_A &lt;dbl&gt; | BFI_C &lt;dbl&gt; | BFI_N &lt;dbl&gt; | BFI_O &lt;dbl&gt; | intl_student &lt;int&gt; | family_income &lt;int&gt; | life_satisfaction_t2 &lt;dbl&gt; | loneliness_t2 &lt;dbl&gt; | stress_t2 &lt;dbl&gt; | parent_education_highest &lt;int&gt; | wellbeing_composite_t1 &lt;dbl&gt; | wellbeing_composite_t2 &lt;dbl&gt; | degree_in_UNION &lt;int&gt; | degree_out_UNION &lt;int&gt; | empathy_UNION &lt;dbl&gt; | degree_in_INTIMATE &lt;int&gt; | degree_out_INTIMATE &lt;int&gt; | empathy_INTIMATE &lt;dbl&gt; | degree_in_ACQUAINTANCE &lt;int&gt; | degree_out_ACQUAINTANCE &lt;int&gt; | empathy_ACQUAINTANCE &lt;dbl&gt; | degree_in_CloseFrds &lt;int&gt; | degree_out_CloseFrds &lt;int&gt; | empathy_CloseFrds &lt;dbl&gt; | degree_in_NegEmoSupp &lt;int&gt; | degree_out_NegEmoSupp &lt;int&gt; | empathy_NegEmoSupp &lt;dbl&gt; | degree_in_PosEmoSupp &lt;int&gt; | degree_out_PosEmoSupp &lt;int&gt; | empathy_PosEmoSupp &lt;dbl&gt; | degree_in_Responsive &lt;int&gt; | degree_out_Responsive &lt;int&gt; | empathy_Responsive &lt;dbl&gt; | degree_in_EmpSupp &lt;int&gt; | degree_out_EmpSupp &lt;int&gt; | empathy_EmpSupp &lt;dbl&gt; | degree_in_PosAff &lt;int&gt; | degree_out_PosAff &lt;int&gt; | empathy_PosAff &lt;dbl&gt; | degree_in_NegAff &lt;int&gt; | degree_out_NegAff &lt;int&gt; | empathy_NegAff &lt;dbl&gt; | degree_in_Gossip &lt;int&gt; | degree_out_Gossip &lt;int&gt; | empathy_Gossip &lt;dbl&gt; | degree_in_Liked &lt;int&gt; | degree_out_Liked &lt;int&gt; | empathy_Liked &lt;dbl&gt; | degree_in_StudyWith &lt;int&gt; | degree_out_StudyWith &lt;int&gt; | empathy_StudyWith &lt;dbl&gt; |\n",
       "|---|---|---|---|---|---|---|---|---|---|---|---|---|---|---|---|---|---|---|---|---|---|---|---|---|---|---|---|---|---|---|---|---|---|---|---|---|---|---|---|---|---|---|---|---|---|---|---|---|---|---|---|---|---|---|---|---|---|---|---|---|---|\n",
       "| 1 | 1 | 1001 | male   | south_asian    | Rinconada | 4.833333 | 6.375 | 1.333333 | 2.5 | 6.5 | 6.0 | 5.5 | 3.5 | 6.5 | 0 |  70000 | 6.166667 | 2.000000 | 1.5 | 5 | -0.05862651 |  0.83993983 | 3 | 0 |       NA | 1 | 0 |      NA | 1 | 0 |    NA | 1 | 0 |      NA | 0 | 0 |       NA | 2 | 0 |     NA | 0 | 0 |     NA | 0 | 0 |     NA | 1 | 0 |      NA | 0 | 0 |  NA | 1 | 0 |       NA | 1 | 0 |    NA | 1 | 0 |     NA |\n",
       "| 2 | 2 | 1047 | female | other_or_mixed | Twain     | 5.333333 | 6.500 | 2.000000 | 2.5 | 5.5 | 6.5 | 7.0 | 3.0 | 6.5 | 0 | 210000 | 5.166667 | 2.000000 | 3.0 | 5 | -0.44690440 | -0.66253028 | 6 | 4 | 6.437500 | 4 | 4 | 6.43750 | 0 | 1 | 6.125 | 4 | 4 | 6.43750 | 4 | 3 | 6.541667 | 3 | 4 | 6.4375 | 2 | 2 | 6.5625 | 1 | 2 | 6.5625 | 3 | 4 | 6.43750 | 1 | 1 | 6.5 | 4 | 3 | 6.541667 | 1 | 2 | 6.000 | 2 | 1 | 6.6250 |\n",
       "| 3 | 3 | 1078 | female | east_asian     | Loro      | 5.500000 | 6.250 | 1.333333 | 2.0 | 4.5 | 6.5 | 6.5 | 1.5 | 6.5 | 0 | 130000 | 5.500000 | 2.333333 | 3.0 | 6 |  0.61446613 | -0.79801599 | 1 | 0 |       NA | 1 | 0 |      NA | 1 | 0 |    NA | 1 | 0 |      NA | 0 | 0 |       NA | 1 | 0 |     NA | 1 | 0 |     NA | 0 | 0 |     NA | 0 | 0 |      NA | 0 | 1 | 5.0 | 0 | 0 |       NA | 0 | 0 |    NA | 0 | 0 |     NA |\n",
       "| 4 | 4 | 1097 | male   | east_asian     | Otero     | 6.000000 | 5.000 | 2.000000 | 2.0 | 3.0 | 4.0 | 5.5 | 1.5 | 4.5 | 0 |  90000 | 5.833333 | 2.000000 | 2.5 | 6 |  0.22618824 | -0.04126834 | 6 | 4 | 5.812500 | 3 | 1 | 5.62500 | 2 | 0 |    NA | 2 | 1 | 5.62500 | 1 | 1 | 5.625000 | 1 | 1 | 6.6250 | 0 | 1 | 5.6250 | 0 | 1 | 4.8750 | 1 | 1 | 6.12500 | 0 | 0 |  NA | 0 | 1 | 5.625000 | 0 | 1 | 6.000 | 3 | 1 | 6.6250 |\n",
       "| 5 | 5 | 1105 | female | white          | Larkin    | 6.666667 | 5.750 | 2.000000 | 2.0 | 4.5 | 5.0 | 5.0 | 2.0 | 4.5 | 0 | 170000 | 6.666667 | 2.000000 | 2.0 | 4 |  0.48041399 |  0.64021289 | 6 | 9 | 5.847222 | 4 | 5 | 6.02500 | 2 | 2 | 5.875 | 3 | 4 | 5.81250 | 2 | 3 | 6.125000 | 2 | 2 | 5.3750 | 2 | 2 | 6.3125 | 1 | 4 | 6.1875 | 2 | 1 | 6.87500 | 1 | 0 |  NA | 2 | 3 | 5.750000 | 1 | 1 | 5.125 | 4 | 2 | 6.1875 |\n",
       "| 6 | 6 | 1110 | female | white          | Larkin    | 5.166667 | 6.750 | 2.000000 | 2.0 | 6.5 | 5.0 | 6.0 | 2.0 | 4.5 | 0 | 110000 | 6.833333 | 1.666667 | 2.0 | 5 | -0.09159395 |  0.95635646 | 4 | 5 | 5.550000 | 4 | 4 | 5.40625 | 1 | 0 |    NA | 3 | 4 | 5.40625 | 3 | 4 | 5.406250 | 3 | 2 | 6.0625 | 2 | 2 | 5.7500 | 3 | 1 | 6.0000 | 2 | 4 | 5.78125 | 0 | 0 |  NA | 3 | 4 | 5.406250 | 4 | 1 | 6.000 | 3 | 4 | 5.4375 |\n",
       "\n"
      ],
      "text/plain": [
       "  X PID  gender race           dorm      life_satisfaction_t1 empathy\n",
       "1 1 1001 male   south_asian    Rinconada 4.833333             6.375  \n",
       "2 2 1047 female other_or_mixed Twain     5.333333             6.500  \n",
       "3 3 1078 female east_asian     Loro      5.500000             6.250  \n",
       "4 4 1097 male   east_asian     Otero     6.000000             5.000  \n",
       "5 5 1105 female white          Larkin    6.666667             5.750  \n",
       "6 6 1110 female white          Larkin    5.166667             6.750  \n",
       "  loneliness_t1 stress_t1 BFI_E BFI_A BFI_C BFI_N BFI_O intl_student\n",
       "1 1.333333      2.5       6.5   6.0   5.5   3.5   6.5   0           \n",
       "2 2.000000      2.5       5.5   6.5   7.0   3.0   6.5   0           \n",
       "3 1.333333      2.0       4.5   6.5   6.5   1.5   6.5   0           \n",
       "4 2.000000      2.0       3.0   4.0   5.5   1.5   4.5   0           \n",
       "5 2.000000      2.0       4.5   5.0   5.0   2.0   4.5   0           \n",
       "6 2.000000      2.0       6.5   5.0   6.0   2.0   4.5   0           \n",
       "  family_income life_satisfaction_t2 loneliness_t2 stress_t2\n",
       "1  70000        6.166667             2.000000      1.5      \n",
       "2 210000        5.166667             2.000000      3.0      \n",
       "3 130000        5.500000             2.333333      3.0      \n",
       "4  90000        5.833333             2.000000      2.5      \n",
       "5 170000        6.666667             2.000000      2.0      \n",
       "6 110000        6.833333             1.666667      2.0      \n",
       "  parent_education_highest wellbeing_composite_t1 wellbeing_composite_t2\n",
       "1 5                        -0.05862651             0.83993983           \n",
       "2 5                        -0.44690440            -0.66253028           \n",
       "3 6                         0.61446613            -0.79801599           \n",
       "4 6                         0.22618824            -0.04126834           \n",
       "5 4                         0.48041399             0.64021289           \n",
       "6 5                        -0.09159395             0.95635646           \n",
       "  degree_in_UNION degree_out_UNION empathy_UNION degree_in_INTIMATE\n",
       "1 3               0                      NA      1                 \n",
       "2 6               4                6.437500      4                 \n",
       "3 1               0                      NA      1                 \n",
       "4 6               4                5.812500      3                 \n",
       "5 6               9                5.847222      4                 \n",
       "6 4               5                5.550000      4                 \n",
       "  degree_out_INTIMATE empathy_INTIMATE degree_in_ACQUAINTANCE\n",
       "1 0                        NA          1                     \n",
       "2 4                   6.43750          0                     \n",
       "3 0                        NA          1                     \n",
       "4 1                   5.62500          2                     \n",
       "5 5                   6.02500          2                     \n",
       "6 4                   5.40625          1                     \n",
       "  degree_out_ACQUAINTANCE empathy_ACQUAINTANCE degree_in_CloseFrds\n",
       "1 0                          NA                1                  \n",
       "2 1                       6.125                4                  \n",
       "3 0                          NA                1                  \n",
       "4 0                          NA                2                  \n",
       "5 2                       5.875                3                  \n",
       "6 0                          NA                3                  \n",
       "  degree_out_CloseFrds empathy_CloseFrds degree_in_NegEmoSupp\n",
       "1 0                         NA           0                   \n",
       "2 4                    6.43750           4                   \n",
       "3 0                         NA           0                   \n",
       "4 1                    5.62500           1                   \n",
       "5 4                    5.81250           2                   \n",
       "6 4                    5.40625           3                   \n",
       "  degree_out_NegEmoSupp empathy_NegEmoSupp degree_in_PosEmoSupp\n",
       "1 0                           NA           2                   \n",
       "2 3                     6.541667           3                   \n",
       "3 0                           NA           1                   \n",
       "4 1                     5.625000           1                   \n",
       "5 3                     6.125000           2                   \n",
       "6 4                     5.406250           3                   \n",
       "  degree_out_PosEmoSupp empathy_PosEmoSupp degree_in_Responsive\n",
       "1 0                         NA             0                   \n",
       "2 4                     6.4375             2                   \n",
       "3 0                         NA             1                   \n",
       "4 1                     6.6250             0                   \n",
       "5 2                     5.3750             2                   \n",
       "6 2                     6.0625             2                   \n",
       "  degree_out_Responsive empathy_Responsive degree_in_EmpSupp degree_out_EmpSupp\n",
       "1 0                         NA             0                 0                 \n",
       "2 2                     6.5625             1                 2                 \n",
       "3 0                         NA             0                 0                 \n",
       "4 1                     5.6250             0                 1                 \n",
       "5 2                     6.3125             1                 4                 \n",
       "6 2                     5.7500             3                 1                 \n",
       "  empathy_EmpSupp degree_in_PosAff degree_out_PosAff empathy_PosAff\n",
       "1     NA          1                0                      NA       \n",
       "2 6.5625          3                4                 6.43750       \n",
       "3     NA          0                0                      NA       \n",
       "4 4.8750          1                1                 6.12500       \n",
       "5 6.1875          2                1                 6.87500       \n",
       "6 6.0000          2                4                 5.78125       \n",
       "  degree_in_NegAff degree_out_NegAff empathy_NegAff degree_in_Gossip\n",
       "1 0                0                  NA            1               \n",
       "2 1                1                 6.5            4               \n",
       "3 0                1                 5.0            0               \n",
       "4 0                0                  NA            0               \n",
       "5 1                0                  NA            2               \n",
       "6 0                0                  NA            3               \n",
       "  degree_out_Gossip empathy_Gossip degree_in_Liked degree_out_Liked\n",
       "1 0                       NA       1               0               \n",
       "2 3                 6.541667       1               2               \n",
       "3 0                       NA       0               0               \n",
       "4 1                 5.625000       0               1               \n",
       "5 3                 5.750000       1               1               \n",
       "6 4                 5.406250       4               1               \n",
       "  empathy_Liked degree_in_StudyWith degree_out_StudyWith empathy_StudyWith\n",
       "1    NA         1                   0                        NA           \n",
       "2 6.000         2                   1                    6.6250           \n",
       "3    NA         0                   0                        NA           \n",
       "4 6.000         3                   1                    6.6250           \n",
       "5 5.125         4                   2                    6.1875           \n",
       "6 6.000         3                   4                    5.4375           "
      ]
     },
     "metadata": {},
     "output_type": "display_data"
    }
   ],
   "source": [
    "df = read.csv(DATA_FILE, na.strings=c(\"\", \" \", \"NA\"))\n",
    "dim(df)\n",
    "head(df)"
   ]
  },
  {
   "cell_type": "code",
   "execution_count": 8,
   "metadata": {},
   "outputs": [
    {
     "data": {
      "text/html": [
       "<ol class=list-inline>\n",
       "\t<li>735</li>\n",
       "\t<li>3</li>\n",
       "</ol>\n"
      ],
      "text/latex": [
       "\\begin{enumerate*}\n",
       "\\item 735\n",
       "\\item 3\n",
       "\\end{enumerate*}\n"
      ],
      "text/markdown": [
       "1. 735\n",
       "2. 3\n",
       "\n",
       "\n"
      ],
      "text/plain": [
       "[1] 735   3"
      ]
     },
     "metadata": {},
     "output_type": "display_data"
    },
    {
     "data": {
      "text/html": [
       "<table>\n",
       "<caption>A data.frame: 10 × 3</caption>\n",
       "<thead>\n",
       "\t<tr><th></th><th scope=col>PID</th><th scope=col>Dorm</th><th scope=col>enrolled</th></tr>\n",
       "\t<tr><th></th><th scope=col>&lt;int&gt;</th><th scope=col>&lt;fct&gt;</th><th scope=col>&lt;int&gt;</th></tr>\n",
       "</thead>\n",
       "<tbody>\n",
       "\t<tr><th scope=row>1</th><td>1004</td><td>Donner    </td><td>1</td></tr>\n",
       "\t<tr><th scope=row>2</th><td>1012</td><td>Cedro     </td><td>1</td></tr>\n",
       "\t<tr><th scope=row>3</th><td>1029</td><td>Sally Ride</td><td>1</td></tr>\n",
       "\t<tr><th scope=row>4</th><td>1036</td><td>FroSoCo   </td><td>1</td></tr>\n",
       "\t<tr><th scope=row>5</th><td>1038</td><td>East FloMo</td><td>1</td></tr>\n",
       "\t<tr><th scope=row>6</th><td>1056</td><td>Arroyo    </td><td>1</td></tr>\n",
       "\t<tr><th scope=row>7</th><td>1067</td><td>Okada     </td><td>1</td></tr>\n",
       "\t<tr><th scope=row>8</th><td>1070</td><td>East FloMo</td><td>1</td></tr>\n",
       "\t<tr><th scope=row>9</th><td>1077</td><td>FroSoCo   </td><td>1</td></tr>\n",
       "\t<tr><th scope=row>10</th><td>1078</td><td>West FloMo</td><td>1</td></tr>\n",
       "</tbody>\n",
       "</table>\n"
      ],
      "text/latex": [
       "A data.frame: 10 × 3\n",
       "\\begin{tabular}{r|lll}\n",
       "  & PID & Dorm & enrolled\\\\\n",
       "  & <int> & <fct> & <int>\\\\\n",
       "\\hline\n",
       "\t1 & 1004 & Donner     & 1\\\\\n",
       "\t2 & 1012 & Cedro      & 1\\\\\n",
       "\t3 & 1029 & Sally Ride & 1\\\\\n",
       "\t4 & 1036 & FroSoCo    & 1\\\\\n",
       "\t5 & 1038 & East FloMo & 1\\\\\n",
       "\t6 & 1056 & Arroyo     & 1\\\\\n",
       "\t7 & 1067 & Okada      & 1\\\\\n",
       "\t8 & 1070 & East FloMo & 1\\\\\n",
       "\t9 & 1077 & FroSoCo    & 1\\\\\n",
       "\t10 & 1078 & West FloMo & 1\\\\\n",
       "\\end{tabular}\n"
      ],
      "text/markdown": [
       "\n",
       "A data.frame: 10 × 3\n",
       "\n",
       "| <!--/--> | PID &lt;int&gt; | Dorm &lt;fct&gt; | enrolled &lt;int&gt; |\n",
       "|---|---|---|---|\n",
       "| 1 | 1004 | Donner     | 1 |\n",
       "| 2 | 1012 | Cedro      | 1 |\n",
       "| 3 | 1029 | Sally Ride | 1 |\n",
       "| 4 | 1036 | FroSoCo    | 1 |\n",
       "| 5 | 1038 | East FloMo | 1 |\n",
       "| 6 | 1056 | Arroyo     | 1 |\n",
       "| 7 | 1067 | Okada      | 1 |\n",
       "| 8 | 1070 | East FloMo | 1 |\n",
       "| 9 | 1077 | FroSoCo    | 1 |\n",
       "| 10 | 1078 | West FloMo | 1 |\n",
       "\n"
      ],
      "text/plain": [
       "   PID  Dorm       enrolled\n",
       "1  1004 Donner     1       \n",
       "2  1012 Cedro      1       \n",
       "3  1029 Sally Ride 1       \n",
       "4  1036 FroSoCo    1       \n",
       "5  1038 East FloMo 1       \n",
       "6  1056 Arroyo     1       \n",
       "7  1067 Okada      1       \n",
       "8  1070 East FloMo 1       \n",
       "9  1077 FroSoCo    1       \n",
       "10 1078 West FloMo 1       "
      ]
     },
     "metadata": {},
     "output_type": "display_data"
    }
   ],
   "source": [
    "frosh = read.csv(FROSH101_FILE, na.strings=c(\"\", \" \", \"NA\"))\n",
    "frosh = frosh %>% arrange(PID)\n",
    "dim(frosh)\n",
    "head(frosh, 10)"
   ]
  },
  {
   "cell_type": "code",
   "execution_count": 23,
   "metadata": {},
   "outputs": [
    {
     "data": {
      "text/html": [
       "<ol class=list-inline>\n",
       "\t<li>560</li>\n",
       "\t<li>62</li>\n",
       "</ol>\n"
      ],
      "text/latex": [
       "\\begin{enumerate*}\n",
       "\\item 560\n",
       "\\item 62\n",
       "\\end{enumerate*}\n"
      ],
      "text/markdown": [
       "1. 560\n",
       "2. 62\n",
       "\n",
       "\n"
      ],
      "text/plain": [
       "[1] 560  62"
      ]
     },
     "metadata": {},
     "output_type": "display_data"
    },
    {
     "data": {
      "text/html": [
       "<table>\n",
       "<caption>A data.frame: 6 × 62</caption>\n",
       "<thead>\n",
       "\t<tr><th></th><th scope=col>X</th><th scope=col>PID</th><th scope=col>gender</th><th scope=col>race</th><th scope=col>dorm</th><th scope=col>life_satisfaction_t1</th><th scope=col>empathy</th><th scope=col>loneliness_t1</th><th scope=col>stress_t1</th><th scope=col>BFI_E</th><th scope=col>BFI_A</th><th scope=col>BFI_C</th><th scope=col>BFI_N</th><th scope=col>BFI_O</th><th scope=col>intl_student</th><th scope=col>family_income</th><th scope=col>life_satisfaction_t2</th><th scope=col>loneliness_t2</th><th scope=col>stress_t2</th><th scope=col>parent_education_highest</th><th scope=col>wellbeing_composite_t1</th><th scope=col>wellbeing_composite_t2</th><th scope=col>degree_in_UNION</th><th scope=col>degree_out_UNION</th><th scope=col>empathy_UNION</th><th scope=col>degree_in_INTIMATE</th><th scope=col>degree_out_INTIMATE</th><th scope=col>empathy_INTIMATE</th><th scope=col>degree_in_ACQUAINTANCE</th><th scope=col>degree_out_ACQUAINTANCE</th><th scope=col>empathy_ACQUAINTANCE</th><th scope=col>degree_in_CloseFrds</th><th scope=col>degree_out_CloseFrds</th><th scope=col>empathy_CloseFrds</th><th scope=col>degree_in_NegEmoSupp</th><th scope=col>degree_out_NegEmoSupp</th><th scope=col>empathy_NegEmoSupp</th><th scope=col>degree_in_PosEmoSupp</th><th scope=col>degree_out_PosEmoSupp</th><th scope=col>empathy_PosEmoSupp</th><th scope=col>degree_in_Responsive</th><th scope=col>degree_out_Responsive</th><th scope=col>empathy_Responsive</th><th scope=col>degree_in_EmpSupp</th><th scope=col>degree_out_EmpSupp</th><th scope=col>empathy_EmpSupp</th><th scope=col>degree_in_PosAff</th><th scope=col>degree_out_PosAff</th><th scope=col>empathy_PosAff</th><th scope=col>degree_in_NegAff</th><th scope=col>degree_out_NegAff</th><th scope=col>empathy_NegAff</th><th scope=col>degree_in_Gossip</th><th scope=col>degree_out_Gossip</th><th scope=col>empathy_Gossip</th><th scope=col>degree_in_Liked</th><th scope=col>degree_out_Liked</th><th scope=col>empathy_Liked</th><th scope=col>degree_in_StudyWith</th><th scope=col>degree_out_StudyWith</th><th scope=col>empathy_StudyWith</th><th scope=col>frosh101</th></tr>\n",
       "\t<tr><th></th><th scope=col>&lt;int&gt;</th><th scope=col>&lt;int&gt;</th><th scope=col>&lt;fct&gt;</th><th scope=col>&lt;fct&gt;</th><th scope=col>&lt;fct&gt;</th><th scope=col>&lt;dbl&gt;</th><th scope=col>&lt;dbl&gt;</th><th scope=col>&lt;dbl&gt;</th><th scope=col>&lt;dbl&gt;</th><th scope=col>&lt;dbl&gt;</th><th scope=col>&lt;dbl&gt;</th><th scope=col>&lt;dbl&gt;</th><th scope=col>&lt;dbl&gt;</th><th scope=col>&lt;dbl&gt;</th><th scope=col>&lt;int&gt;</th><th scope=col>&lt;int&gt;</th><th scope=col>&lt;dbl&gt;</th><th scope=col>&lt;dbl&gt;</th><th scope=col>&lt;dbl&gt;</th><th scope=col>&lt;int&gt;</th><th scope=col>&lt;dbl&gt;</th><th scope=col>&lt;dbl&gt;</th><th scope=col>&lt;int&gt;</th><th scope=col>&lt;int&gt;</th><th scope=col>&lt;dbl&gt;</th><th scope=col>&lt;int&gt;</th><th scope=col>&lt;int&gt;</th><th scope=col>&lt;dbl&gt;</th><th scope=col>&lt;int&gt;</th><th scope=col>&lt;int&gt;</th><th scope=col>&lt;dbl&gt;</th><th scope=col>&lt;int&gt;</th><th scope=col>&lt;int&gt;</th><th scope=col>&lt;dbl&gt;</th><th scope=col>&lt;int&gt;</th><th scope=col>&lt;int&gt;</th><th scope=col>&lt;dbl&gt;</th><th scope=col>&lt;int&gt;</th><th scope=col>&lt;int&gt;</th><th scope=col>&lt;dbl&gt;</th><th scope=col>&lt;int&gt;</th><th scope=col>&lt;int&gt;</th><th scope=col>&lt;dbl&gt;</th><th scope=col>&lt;int&gt;</th><th scope=col>&lt;int&gt;</th><th scope=col>&lt;dbl&gt;</th><th scope=col>&lt;int&gt;</th><th scope=col>&lt;int&gt;</th><th scope=col>&lt;dbl&gt;</th><th scope=col>&lt;int&gt;</th><th scope=col>&lt;int&gt;</th><th scope=col>&lt;dbl&gt;</th><th scope=col>&lt;int&gt;</th><th scope=col>&lt;int&gt;</th><th scope=col>&lt;dbl&gt;</th><th scope=col>&lt;int&gt;</th><th scope=col>&lt;int&gt;</th><th scope=col>&lt;dbl&gt;</th><th scope=col>&lt;int&gt;</th><th scope=col>&lt;int&gt;</th><th scope=col>&lt;dbl&gt;</th><th scope=col>&lt;lgl&gt;</th></tr>\n",
       "</thead>\n",
       "<tbody>\n",
       "\t<tr><th scope=row>1</th><td>1</td><td>1001</td><td>male  </td><td>south_asian   </td><td>Rinconada</td><td>4.833333</td><td>6.375</td><td>1.333333</td><td>2.5</td><td>6.5</td><td>6.0</td><td>5.5</td><td>3.5</td><td>6.5</td><td>0</td><td> 70000</td><td>6.166667</td><td>2.000000</td><td>1.5</td><td>5</td><td>-0.05862651</td><td> 0.83993983</td><td>3</td><td>0</td><td>      NA</td><td>1</td><td>0</td><td>     NA</td><td>1</td><td>0</td><td>   NA</td><td>1</td><td>0</td><td>     NA</td><td>0</td><td>0</td><td>      NA</td><td>2</td><td>0</td><td>    NA</td><td>0</td><td>0</td><td>    NA</td><td>0</td><td>0</td><td>    NA</td><td>1</td><td>0</td><td>     NA</td><td>0</td><td>0</td><td> NA</td><td>1</td><td>0</td><td>      NA</td><td>1</td><td>0</td><td>   NA</td><td>1</td><td>0</td><td>    NA</td><td>FALSE</td></tr>\n",
       "\t<tr><th scope=row>2</th><td>2</td><td>1047</td><td>female</td><td>other_or_mixed</td><td>Twain    </td><td>5.333333</td><td>6.500</td><td>2.000000</td><td>2.5</td><td>5.5</td><td>6.5</td><td>7.0</td><td>3.0</td><td>6.5</td><td>0</td><td>210000</td><td>5.166667</td><td>2.000000</td><td>3.0</td><td>5</td><td>-0.44690440</td><td>-0.66253028</td><td>6</td><td>4</td><td>6.437500</td><td>4</td><td>4</td><td>6.43750</td><td>0</td><td>1</td><td>6.125</td><td>4</td><td>4</td><td>6.43750</td><td>4</td><td>3</td><td>6.541667</td><td>3</td><td>4</td><td>6.4375</td><td>2</td><td>2</td><td>6.5625</td><td>1</td><td>2</td><td>6.5625</td><td>3</td><td>4</td><td>6.43750</td><td>1</td><td>1</td><td>6.5</td><td>4</td><td>3</td><td>6.541667</td><td>1</td><td>2</td><td>6.000</td><td>2</td><td>1</td><td>6.6250</td><td>FALSE</td></tr>\n",
       "\t<tr><th scope=row>3</th><td>3</td><td>1078</td><td>female</td><td>east_asian    </td><td>Loro     </td><td>5.500000</td><td>6.250</td><td>1.333333</td><td>2.0</td><td>4.5</td><td>6.5</td><td>6.5</td><td>1.5</td><td>6.5</td><td>0</td><td>130000</td><td>5.500000</td><td>2.333333</td><td>3.0</td><td>6</td><td> 0.61446613</td><td>-0.79801599</td><td>1</td><td>0</td><td>      NA</td><td>1</td><td>0</td><td>     NA</td><td>1</td><td>0</td><td>   NA</td><td>1</td><td>0</td><td>     NA</td><td>0</td><td>0</td><td>      NA</td><td>1</td><td>0</td><td>    NA</td><td>1</td><td>0</td><td>    NA</td><td>0</td><td>0</td><td>    NA</td><td>0</td><td>0</td><td>     NA</td><td>0</td><td>1</td><td>5.0</td><td>0</td><td>0</td><td>      NA</td><td>0</td><td>0</td><td>   NA</td><td>0</td><td>0</td><td>    NA</td><td> TRUE</td></tr>\n",
       "\t<tr><th scope=row>4</th><td>4</td><td>1097</td><td>male  </td><td>east_asian    </td><td>Otero    </td><td>6.000000</td><td>5.000</td><td>2.000000</td><td>2.0</td><td>3.0</td><td>4.0</td><td>5.5</td><td>1.5</td><td>4.5</td><td>0</td><td> 90000</td><td>5.833333</td><td>2.000000</td><td>2.5</td><td>6</td><td> 0.22618824</td><td>-0.04126834</td><td>6</td><td>4</td><td>5.812500</td><td>3</td><td>1</td><td>5.62500</td><td>2</td><td>0</td><td>   NA</td><td>2</td><td>1</td><td>5.62500</td><td>1</td><td>1</td><td>5.625000</td><td>1</td><td>1</td><td>6.6250</td><td>0</td><td>1</td><td>5.6250</td><td>0</td><td>1</td><td>4.8750</td><td>1</td><td>1</td><td>6.12500</td><td>0</td><td>0</td><td> NA</td><td>0</td><td>1</td><td>5.625000</td><td>0</td><td>1</td><td>6.000</td><td>3</td><td>1</td><td>6.6250</td><td> TRUE</td></tr>\n",
       "\t<tr><th scope=row>5</th><td>5</td><td>1105</td><td>female</td><td>white         </td><td>Larkin   </td><td>6.666667</td><td>5.750</td><td>2.000000</td><td>2.0</td><td>4.5</td><td>5.0</td><td>5.0</td><td>2.0</td><td>4.5</td><td>0</td><td>170000</td><td>6.666667</td><td>2.000000</td><td>2.0</td><td>4</td><td> 0.48041399</td><td> 0.64021289</td><td>6</td><td>9</td><td>5.847222</td><td>4</td><td>5</td><td>6.02500</td><td>2</td><td>2</td><td>5.875</td><td>3</td><td>4</td><td>5.81250</td><td>2</td><td>3</td><td>6.125000</td><td>2</td><td>2</td><td>5.3750</td><td>2</td><td>2</td><td>6.3125</td><td>1</td><td>4</td><td>6.1875</td><td>2</td><td>1</td><td>6.87500</td><td>1</td><td>0</td><td> NA</td><td>2</td><td>3</td><td>5.750000</td><td>1</td><td>1</td><td>5.125</td><td>4</td><td>2</td><td>6.1875</td><td>FALSE</td></tr>\n",
       "\t<tr><th scope=row>6</th><td>6</td><td>1110</td><td>female</td><td>white         </td><td>Larkin   </td><td>5.166667</td><td>6.750</td><td>2.000000</td><td>2.0</td><td>6.5</td><td>5.0</td><td>6.0</td><td>2.0</td><td>4.5</td><td>0</td><td>110000</td><td>6.833333</td><td>1.666667</td><td>2.0</td><td>5</td><td>-0.09159395</td><td> 0.95635646</td><td>4</td><td>5</td><td>5.550000</td><td>4</td><td>4</td><td>5.40625</td><td>1</td><td>0</td><td>   NA</td><td>3</td><td>4</td><td>5.40625</td><td>3</td><td>4</td><td>5.406250</td><td>3</td><td>2</td><td>6.0625</td><td>2</td><td>2</td><td>5.7500</td><td>3</td><td>1</td><td>6.0000</td><td>2</td><td>4</td><td>5.78125</td><td>0</td><td>0</td><td> NA</td><td>3</td><td>4</td><td>5.406250</td><td>4</td><td>1</td><td>6.000</td><td>3</td><td>4</td><td>5.4375</td><td>FALSE</td></tr>\n",
       "</tbody>\n",
       "</table>\n"
      ],
      "text/latex": [
       "A data.frame: 6 × 62\n",
       "\\begin{tabular}{r|llllllllllllllllllllllllllllllllllllllllllllllllllllllllllllll}\n",
       "  & X & PID & gender & race & dorm & life\\_satisfaction\\_t1 & empathy & loneliness\\_t1 & stress\\_t1 & BFI\\_E & BFI\\_A & BFI\\_C & BFI\\_N & BFI\\_O & intl\\_student & family\\_income & life\\_satisfaction\\_t2 & loneliness\\_t2 & stress\\_t2 & parent\\_education\\_highest & wellbeing\\_composite\\_t1 & wellbeing\\_composite\\_t2 & degree\\_in\\_UNION & degree\\_out\\_UNION & empathy\\_UNION & degree\\_in\\_INTIMATE & degree\\_out\\_INTIMATE & empathy\\_INTIMATE & degree\\_in\\_ACQUAINTANCE & degree\\_out\\_ACQUAINTANCE & empathy\\_ACQUAINTANCE & degree\\_in\\_CloseFrds & degree\\_out\\_CloseFrds & empathy\\_CloseFrds & degree\\_in\\_NegEmoSupp & degree\\_out\\_NegEmoSupp & empathy\\_NegEmoSupp & degree\\_in\\_PosEmoSupp & degree\\_out\\_PosEmoSupp & empathy\\_PosEmoSupp & degree\\_in\\_Responsive & degree\\_out\\_Responsive & empathy\\_Responsive & degree\\_in\\_EmpSupp & degree\\_out\\_EmpSupp & empathy\\_EmpSupp & degree\\_in\\_PosAff & degree\\_out\\_PosAff & empathy\\_PosAff & degree\\_in\\_NegAff & degree\\_out\\_NegAff & empathy\\_NegAff & degree\\_in\\_Gossip & degree\\_out\\_Gossip & empathy\\_Gossip & degree\\_in\\_Liked & degree\\_out\\_Liked & empathy\\_Liked & degree\\_in\\_StudyWith & degree\\_out\\_StudyWith & empathy\\_StudyWith & frosh101\\\\\n",
       "  & <int> & <int> & <fct> & <fct> & <fct> & <dbl> & <dbl> & <dbl> & <dbl> & <dbl> & <dbl> & <dbl> & <dbl> & <dbl> & <int> & <int> & <dbl> & <dbl> & <dbl> & <int> & <dbl> & <dbl> & <int> & <int> & <dbl> & <int> & <int> & <dbl> & <int> & <int> & <dbl> & <int> & <int> & <dbl> & <int> & <int> & <dbl> & <int> & <int> & <dbl> & <int> & <int> & <dbl> & <int> & <int> & <dbl> & <int> & <int> & <dbl> & <int> & <int> & <dbl> & <int> & <int> & <dbl> & <int> & <int> & <dbl> & <int> & <int> & <dbl> & <lgl>\\\\\n",
       "\\hline\n",
       "\t1 & 1 & 1001 & male   & south\\_asian    & Rinconada & 4.833333 & 6.375 & 1.333333 & 2.5 & 6.5 & 6.0 & 5.5 & 3.5 & 6.5 & 0 &  70000 & 6.166667 & 2.000000 & 1.5 & 5 & -0.05862651 &  0.83993983 & 3 & 0 &       NA & 1 & 0 &      NA & 1 & 0 &    NA & 1 & 0 &      NA & 0 & 0 &       NA & 2 & 0 &     NA & 0 & 0 &     NA & 0 & 0 &     NA & 1 & 0 &      NA & 0 & 0 &  NA & 1 & 0 &       NA & 1 & 0 &    NA & 1 & 0 &     NA & FALSE\\\\\n",
       "\t2 & 2 & 1047 & female & other\\_or\\_mixed & Twain     & 5.333333 & 6.500 & 2.000000 & 2.5 & 5.5 & 6.5 & 7.0 & 3.0 & 6.5 & 0 & 210000 & 5.166667 & 2.000000 & 3.0 & 5 & -0.44690440 & -0.66253028 & 6 & 4 & 6.437500 & 4 & 4 & 6.43750 & 0 & 1 & 6.125 & 4 & 4 & 6.43750 & 4 & 3 & 6.541667 & 3 & 4 & 6.4375 & 2 & 2 & 6.5625 & 1 & 2 & 6.5625 & 3 & 4 & 6.43750 & 1 & 1 & 6.5 & 4 & 3 & 6.541667 & 1 & 2 & 6.000 & 2 & 1 & 6.6250 & FALSE\\\\\n",
       "\t3 & 3 & 1078 & female & east\\_asian     & Loro      & 5.500000 & 6.250 & 1.333333 & 2.0 & 4.5 & 6.5 & 6.5 & 1.5 & 6.5 & 0 & 130000 & 5.500000 & 2.333333 & 3.0 & 6 &  0.61446613 & -0.79801599 & 1 & 0 &       NA & 1 & 0 &      NA & 1 & 0 &    NA & 1 & 0 &      NA & 0 & 0 &       NA & 1 & 0 &     NA & 1 & 0 &     NA & 0 & 0 &     NA & 0 & 0 &      NA & 0 & 1 & 5.0 & 0 & 0 &       NA & 0 & 0 &    NA & 0 & 0 &     NA &  TRUE\\\\\n",
       "\t4 & 4 & 1097 & male   & east\\_asian     & Otero     & 6.000000 & 5.000 & 2.000000 & 2.0 & 3.0 & 4.0 & 5.5 & 1.5 & 4.5 & 0 &  90000 & 5.833333 & 2.000000 & 2.5 & 6 &  0.22618824 & -0.04126834 & 6 & 4 & 5.812500 & 3 & 1 & 5.62500 & 2 & 0 &    NA & 2 & 1 & 5.62500 & 1 & 1 & 5.625000 & 1 & 1 & 6.6250 & 0 & 1 & 5.6250 & 0 & 1 & 4.8750 & 1 & 1 & 6.12500 & 0 & 0 &  NA & 0 & 1 & 5.625000 & 0 & 1 & 6.000 & 3 & 1 & 6.6250 &  TRUE\\\\\n",
       "\t5 & 5 & 1105 & female & white          & Larkin    & 6.666667 & 5.750 & 2.000000 & 2.0 & 4.5 & 5.0 & 5.0 & 2.0 & 4.5 & 0 & 170000 & 6.666667 & 2.000000 & 2.0 & 4 &  0.48041399 &  0.64021289 & 6 & 9 & 5.847222 & 4 & 5 & 6.02500 & 2 & 2 & 5.875 & 3 & 4 & 5.81250 & 2 & 3 & 6.125000 & 2 & 2 & 5.3750 & 2 & 2 & 6.3125 & 1 & 4 & 6.1875 & 2 & 1 & 6.87500 & 1 & 0 &  NA & 2 & 3 & 5.750000 & 1 & 1 & 5.125 & 4 & 2 & 6.1875 & FALSE\\\\\n",
       "\t6 & 6 & 1110 & female & white          & Larkin    & 5.166667 & 6.750 & 2.000000 & 2.0 & 6.5 & 5.0 & 6.0 & 2.0 & 4.5 & 0 & 110000 & 6.833333 & 1.666667 & 2.0 & 5 & -0.09159395 &  0.95635646 & 4 & 5 & 5.550000 & 4 & 4 & 5.40625 & 1 & 0 &    NA & 3 & 4 & 5.40625 & 3 & 4 & 5.406250 & 3 & 2 & 6.0625 & 2 & 2 & 5.7500 & 3 & 1 & 6.0000 & 2 & 4 & 5.78125 & 0 & 0 &  NA & 3 & 4 & 5.406250 & 4 & 1 & 6.000 & 3 & 4 & 5.4375 & FALSE\\\\\n",
       "\\end{tabular}\n"
      ],
      "text/markdown": [
       "\n",
       "A data.frame: 6 × 62\n",
       "\n",
       "| <!--/--> | X &lt;int&gt; | PID &lt;int&gt; | gender &lt;fct&gt; | race &lt;fct&gt; | dorm &lt;fct&gt; | life_satisfaction_t1 &lt;dbl&gt; | empathy &lt;dbl&gt; | loneliness_t1 &lt;dbl&gt; | stress_t1 &lt;dbl&gt; | BFI_E &lt;dbl&gt; | BFI_A &lt;dbl&gt; | BFI_C &lt;dbl&gt; | BFI_N &lt;dbl&gt; | BFI_O &lt;dbl&gt; | intl_student &lt;int&gt; | family_income &lt;int&gt; | life_satisfaction_t2 &lt;dbl&gt; | loneliness_t2 &lt;dbl&gt; | stress_t2 &lt;dbl&gt; | parent_education_highest &lt;int&gt; | wellbeing_composite_t1 &lt;dbl&gt; | wellbeing_composite_t2 &lt;dbl&gt; | degree_in_UNION &lt;int&gt; | degree_out_UNION &lt;int&gt; | empathy_UNION &lt;dbl&gt; | degree_in_INTIMATE &lt;int&gt; | degree_out_INTIMATE &lt;int&gt; | empathy_INTIMATE &lt;dbl&gt; | degree_in_ACQUAINTANCE &lt;int&gt; | degree_out_ACQUAINTANCE &lt;int&gt; | empathy_ACQUAINTANCE &lt;dbl&gt; | degree_in_CloseFrds &lt;int&gt; | degree_out_CloseFrds &lt;int&gt; | empathy_CloseFrds &lt;dbl&gt; | degree_in_NegEmoSupp &lt;int&gt; | degree_out_NegEmoSupp &lt;int&gt; | empathy_NegEmoSupp &lt;dbl&gt; | degree_in_PosEmoSupp &lt;int&gt; | degree_out_PosEmoSupp &lt;int&gt; | empathy_PosEmoSupp &lt;dbl&gt; | degree_in_Responsive &lt;int&gt; | degree_out_Responsive &lt;int&gt; | empathy_Responsive &lt;dbl&gt; | degree_in_EmpSupp &lt;int&gt; | degree_out_EmpSupp &lt;int&gt; | empathy_EmpSupp &lt;dbl&gt; | degree_in_PosAff &lt;int&gt; | degree_out_PosAff &lt;int&gt; | empathy_PosAff &lt;dbl&gt; | degree_in_NegAff &lt;int&gt; | degree_out_NegAff &lt;int&gt; | empathy_NegAff &lt;dbl&gt; | degree_in_Gossip &lt;int&gt; | degree_out_Gossip &lt;int&gt; | empathy_Gossip &lt;dbl&gt; | degree_in_Liked &lt;int&gt; | degree_out_Liked &lt;int&gt; | empathy_Liked &lt;dbl&gt; | degree_in_StudyWith &lt;int&gt; | degree_out_StudyWith &lt;int&gt; | empathy_StudyWith &lt;dbl&gt; | frosh101 &lt;lgl&gt; |\n",
       "|---|---|---|---|---|---|---|---|---|---|---|---|---|---|---|---|---|---|---|---|---|---|---|---|---|---|---|---|---|---|---|---|---|---|---|---|---|---|---|---|---|---|---|---|---|---|---|---|---|---|---|---|---|---|---|---|---|---|---|---|---|---|---|\n",
       "| 1 | 1 | 1001 | male   | south_asian    | Rinconada | 4.833333 | 6.375 | 1.333333 | 2.5 | 6.5 | 6.0 | 5.5 | 3.5 | 6.5 | 0 |  70000 | 6.166667 | 2.000000 | 1.5 | 5 | -0.05862651 |  0.83993983 | 3 | 0 |       NA | 1 | 0 |      NA | 1 | 0 |    NA | 1 | 0 |      NA | 0 | 0 |       NA | 2 | 0 |     NA | 0 | 0 |     NA | 0 | 0 |     NA | 1 | 0 |      NA | 0 | 0 |  NA | 1 | 0 |       NA | 1 | 0 |    NA | 1 | 0 |     NA | FALSE |\n",
       "| 2 | 2 | 1047 | female | other_or_mixed | Twain     | 5.333333 | 6.500 | 2.000000 | 2.5 | 5.5 | 6.5 | 7.0 | 3.0 | 6.5 | 0 | 210000 | 5.166667 | 2.000000 | 3.0 | 5 | -0.44690440 | -0.66253028 | 6 | 4 | 6.437500 | 4 | 4 | 6.43750 | 0 | 1 | 6.125 | 4 | 4 | 6.43750 | 4 | 3 | 6.541667 | 3 | 4 | 6.4375 | 2 | 2 | 6.5625 | 1 | 2 | 6.5625 | 3 | 4 | 6.43750 | 1 | 1 | 6.5 | 4 | 3 | 6.541667 | 1 | 2 | 6.000 | 2 | 1 | 6.6250 | FALSE |\n",
       "| 3 | 3 | 1078 | female | east_asian     | Loro      | 5.500000 | 6.250 | 1.333333 | 2.0 | 4.5 | 6.5 | 6.5 | 1.5 | 6.5 | 0 | 130000 | 5.500000 | 2.333333 | 3.0 | 6 |  0.61446613 | -0.79801599 | 1 | 0 |       NA | 1 | 0 |      NA | 1 | 0 |    NA | 1 | 0 |      NA | 0 | 0 |       NA | 1 | 0 |     NA | 1 | 0 |     NA | 0 | 0 |     NA | 0 | 0 |      NA | 0 | 1 | 5.0 | 0 | 0 |       NA | 0 | 0 |    NA | 0 | 0 |     NA |  TRUE |\n",
       "| 4 | 4 | 1097 | male   | east_asian     | Otero     | 6.000000 | 5.000 | 2.000000 | 2.0 | 3.0 | 4.0 | 5.5 | 1.5 | 4.5 | 0 |  90000 | 5.833333 | 2.000000 | 2.5 | 6 |  0.22618824 | -0.04126834 | 6 | 4 | 5.812500 | 3 | 1 | 5.62500 | 2 | 0 |    NA | 2 | 1 | 5.62500 | 1 | 1 | 5.625000 | 1 | 1 | 6.6250 | 0 | 1 | 5.6250 | 0 | 1 | 4.8750 | 1 | 1 | 6.12500 | 0 | 0 |  NA | 0 | 1 | 5.625000 | 0 | 1 | 6.000 | 3 | 1 | 6.6250 |  TRUE |\n",
       "| 5 | 5 | 1105 | female | white          | Larkin    | 6.666667 | 5.750 | 2.000000 | 2.0 | 4.5 | 5.0 | 5.0 | 2.0 | 4.5 | 0 | 170000 | 6.666667 | 2.000000 | 2.0 | 4 |  0.48041399 |  0.64021289 | 6 | 9 | 5.847222 | 4 | 5 | 6.02500 | 2 | 2 | 5.875 | 3 | 4 | 5.81250 | 2 | 3 | 6.125000 | 2 | 2 | 5.3750 | 2 | 2 | 6.3125 | 1 | 4 | 6.1875 | 2 | 1 | 6.87500 | 1 | 0 |  NA | 2 | 3 | 5.750000 | 1 | 1 | 5.125 | 4 | 2 | 6.1875 | FALSE |\n",
       "| 6 | 6 | 1110 | female | white          | Larkin    | 5.166667 | 6.750 | 2.000000 | 2.0 | 6.5 | 5.0 | 6.0 | 2.0 | 4.5 | 0 | 110000 | 6.833333 | 1.666667 | 2.0 | 5 | -0.09159395 |  0.95635646 | 4 | 5 | 5.550000 | 4 | 4 | 5.40625 | 1 | 0 |    NA | 3 | 4 | 5.40625 | 3 | 4 | 5.406250 | 3 | 2 | 6.0625 | 2 | 2 | 5.7500 | 3 | 1 | 6.0000 | 2 | 4 | 5.78125 | 0 | 0 |  NA | 3 | 4 | 5.406250 | 4 | 1 | 6.000 | 3 | 4 | 5.4375 | FALSE |\n",
       "\n"
      ],
      "text/plain": [
       "  X PID  gender race           dorm      life_satisfaction_t1 empathy\n",
       "1 1 1001 male   south_asian    Rinconada 4.833333             6.375  \n",
       "2 2 1047 female other_or_mixed Twain     5.333333             6.500  \n",
       "3 3 1078 female east_asian     Loro      5.500000             6.250  \n",
       "4 4 1097 male   east_asian     Otero     6.000000             5.000  \n",
       "5 5 1105 female white          Larkin    6.666667             5.750  \n",
       "6 6 1110 female white          Larkin    5.166667             6.750  \n",
       "  loneliness_t1 stress_t1 BFI_E BFI_A BFI_C BFI_N BFI_O intl_student\n",
       "1 1.333333      2.5       6.5   6.0   5.5   3.5   6.5   0           \n",
       "2 2.000000      2.5       5.5   6.5   7.0   3.0   6.5   0           \n",
       "3 1.333333      2.0       4.5   6.5   6.5   1.5   6.5   0           \n",
       "4 2.000000      2.0       3.0   4.0   5.5   1.5   4.5   0           \n",
       "5 2.000000      2.0       4.5   5.0   5.0   2.0   4.5   0           \n",
       "6 2.000000      2.0       6.5   5.0   6.0   2.0   4.5   0           \n",
       "  family_income life_satisfaction_t2 loneliness_t2 stress_t2\n",
       "1  70000        6.166667             2.000000      1.5      \n",
       "2 210000        5.166667             2.000000      3.0      \n",
       "3 130000        5.500000             2.333333      3.0      \n",
       "4  90000        5.833333             2.000000      2.5      \n",
       "5 170000        6.666667             2.000000      2.0      \n",
       "6 110000        6.833333             1.666667      2.0      \n",
       "  parent_education_highest wellbeing_composite_t1 wellbeing_composite_t2\n",
       "1 5                        -0.05862651             0.83993983           \n",
       "2 5                        -0.44690440            -0.66253028           \n",
       "3 6                         0.61446613            -0.79801599           \n",
       "4 6                         0.22618824            -0.04126834           \n",
       "5 4                         0.48041399             0.64021289           \n",
       "6 5                        -0.09159395             0.95635646           \n",
       "  degree_in_UNION degree_out_UNION empathy_UNION degree_in_INTIMATE\n",
       "1 3               0                      NA      1                 \n",
       "2 6               4                6.437500      4                 \n",
       "3 1               0                      NA      1                 \n",
       "4 6               4                5.812500      3                 \n",
       "5 6               9                5.847222      4                 \n",
       "6 4               5                5.550000      4                 \n",
       "  degree_out_INTIMATE empathy_INTIMATE degree_in_ACQUAINTANCE\n",
       "1 0                        NA          1                     \n",
       "2 4                   6.43750          0                     \n",
       "3 0                        NA          1                     \n",
       "4 1                   5.62500          2                     \n",
       "5 5                   6.02500          2                     \n",
       "6 4                   5.40625          1                     \n",
       "  degree_out_ACQUAINTANCE empathy_ACQUAINTANCE degree_in_CloseFrds\n",
       "1 0                          NA                1                  \n",
       "2 1                       6.125                4                  \n",
       "3 0                          NA                1                  \n",
       "4 0                          NA                2                  \n",
       "5 2                       5.875                3                  \n",
       "6 0                          NA                3                  \n",
       "  degree_out_CloseFrds empathy_CloseFrds degree_in_NegEmoSupp\n",
       "1 0                         NA           0                   \n",
       "2 4                    6.43750           4                   \n",
       "3 0                         NA           0                   \n",
       "4 1                    5.62500           1                   \n",
       "5 4                    5.81250           2                   \n",
       "6 4                    5.40625           3                   \n",
       "  degree_out_NegEmoSupp empathy_NegEmoSupp degree_in_PosEmoSupp\n",
       "1 0                           NA           2                   \n",
       "2 3                     6.541667           3                   \n",
       "3 0                           NA           1                   \n",
       "4 1                     5.625000           1                   \n",
       "5 3                     6.125000           2                   \n",
       "6 4                     5.406250           3                   \n",
       "  degree_out_PosEmoSupp empathy_PosEmoSupp degree_in_Responsive\n",
       "1 0                         NA             0                   \n",
       "2 4                     6.4375             2                   \n",
       "3 0                         NA             1                   \n",
       "4 1                     6.6250             0                   \n",
       "5 2                     5.3750             2                   \n",
       "6 2                     6.0625             2                   \n",
       "  degree_out_Responsive empathy_Responsive degree_in_EmpSupp degree_out_EmpSupp\n",
       "1 0                         NA             0                 0                 \n",
       "2 2                     6.5625             1                 2                 \n",
       "3 0                         NA             0                 0                 \n",
       "4 1                     5.6250             0                 1                 \n",
       "5 2                     6.3125             1                 4                 \n",
       "6 2                     5.7500             3                 1                 \n",
       "  empathy_EmpSupp degree_in_PosAff degree_out_PosAff empathy_PosAff\n",
       "1     NA          1                0                      NA       \n",
       "2 6.5625          3                4                 6.43750       \n",
       "3     NA          0                0                      NA       \n",
       "4 4.8750          1                1                 6.12500       \n",
       "5 6.1875          2                1                 6.87500       \n",
       "6 6.0000          2                4                 5.78125       \n",
       "  degree_in_NegAff degree_out_NegAff empathy_NegAff degree_in_Gossip\n",
       "1 0                0                  NA            1               \n",
       "2 1                1                 6.5            4               \n",
       "3 0                1                 5.0            0               \n",
       "4 0                0                  NA            0               \n",
       "5 1                0                  NA            2               \n",
       "6 0                0                  NA            3               \n",
       "  degree_out_Gossip empathy_Gossip degree_in_Liked degree_out_Liked\n",
       "1 0                       NA       1               0               \n",
       "2 3                 6.541667       1               2               \n",
       "3 0                       NA       0               0               \n",
       "4 1                 5.625000       0               1               \n",
       "5 3                 5.750000       1               1               \n",
       "6 4                 5.406250       4               1               \n",
       "  empathy_Liked degree_in_StudyWith degree_out_StudyWith empathy_StudyWith\n",
       "1    NA         1                   0                        NA           \n",
       "2 6.000         2                   1                    6.6250           \n",
       "3    NA         0                   0                        NA           \n",
       "4 6.000         3                   1                    6.6250           \n",
       "5 5.125         4                   2                    6.1875           \n",
       "6 6.000         3                   4                    5.4375           \n",
       "  frosh101\n",
       "1 FALSE   \n",
       "2 FALSE   \n",
       "3  TRUE   \n",
       "4  TRUE   \n",
       "5 FALSE   \n",
       "6 FALSE   "
      ]
     },
     "metadata": {},
     "output_type": "display_data"
    }
   ],
   "source": [
    "df$frosh101 = df$PID %in% frosh$PID\n",
    "dim(df)\n",
    "head(df)"
   ]
  },
  {
   "cell_type": "markdown",
   "metadata": {},
   "source": [
    "## Who takes frosh 101?"
   ]
  },
  {
   "cell_type": "markdown",
   "metadata": {},
   "source": [
    "### Gender\n",
    "**No statistically significant differences**"
   ]
  },
  {
   "cell_type": "code",
   "execution_count": 18,
   "metadata": {},
   "outputs": [
    {
     "data": {
      "text/plain": [
       "       \n",
       "        female male other\n",
       "  FALSE    178  116     2\n",
       "  TRUE     146  112     3"
      ]
     },
     "metadata": {},
     "output_type": "display_data"
    }
   ],
   "source": [
    "table(df$frosh101, df$gender)"
   ]
  },
  {
   "cell_type": "code",
   "execution_count": 38,
   "metadata": {},
   "outputs": [
    {
     "data": {
      "text/html": [
       "<ol class=list-inline>\n",
       "\t<li>552</li>\n",
       "\t<li>62</li>\n",
       "</ol>\n"
      ],
      "text/latex": [
       "\\begin{enumerate*}\n",
       "\\item 552\n",
       "\\item 62\n",
       "\\end{enumerate*}\n"
      ],
      "text/markdown": [
       "1. 552\n",
       "2. 62\n",
       "\n",
       "\n"
      ],
      "text/plain": [
       "[1] 552  62"
      ]
     },
     "metadata": {},
     "output_type": "display_data"
    },
    {
     "data": {
      "text/plain": [
       "\n",
       "\tPearson's Chi-squared test with Yates' continuity correction\n",
       "\n",
       "data:  mf$frosh101 and mf$gender\n",
       "X-squared = 0.73098, df = 1, p-value = 0.3926\n"
      ]
     },
     "metadata": {},
     "output_type": "display_data"
    }
   ],
   "source": [
    "mf = df[df$gender %in% c('male', 'female'),]\n",
    "dim(mf)\n",
    "chisq.test(mf$frosh101, mf$gender)"
   ]
  },
  {
   "cell_type": "markdown",
   "metadata": {},
   "source": [
    "### Race\n",
    "**No statistically significant differences**"
   ]
  },
  {
   "cell_type": "code",
   "execution_count": 39,
   "metadata": {},
   "outputs": [
    {
     "data": {
      "text/plain": [
       "       \n",
       "        black east_asian hispanic other_or_mixed south_asian white\n",
       "  FALSE    27         63       39             62          28    78\n",
       "  TRUE     35         43       27             59          27    69"
      ]
     },
     "metadata": {},
     "output_type": "display_data"
    }
   ],
   "source": [
    "table(df$frosh101, df$race)"
   ]
  },
  {
   "cell_type": "code",
   "execution_count": 40,
   "metadata": {},
   "outputs": [
    {
     "data": {
      "text/plain": [
       "\n",
       "\tPearson's Chi-squared test\n",
       "\n",
       "data:  df$frosh101 and df$race\n",
       "X-squared = 5.1964, df = 5, p-value = 0.3924\n"
      ]
     },
     "metadata": {},
     "output_type": "display_data"
    }
   ],
   "source": [
    "chisq.test(df$frosh101, df$race)"
   ]
  },
  {
   "cell_type": "markdown",
   "metadata": {},
   "source": [
    "### Dorm\n",
    "**Some significant differences**"
   ]
  },
  {
   "cell_type": "code",
   "execution_count": 41,
   "metadata": {},
   "outputs": [
    {
     "data": {
      "text/plain": [
       "       \n",
       "        Alondra Arroyo Burbank Cedro Eucalipto Faisan FroSoCo Gavilan Junipero\n",
       "  FALSE      16      9      18    23         7     14      25       4       18\n",
       "  TRUE        8     21      21     8         5      2      17       4       15\n",
       "       \n",
       "        Larkin Loro Muwekma-Tah-Ruk Norcliffe Okada Otero Rinconada Roble\n",
       "  FALSE     23    5               2        11     7    18        19    26\n",
       "  TRUE      32    8               5        13     8    19        11    23\n",
       "       \n",
       "        Sally Ride Twain Ujamaa Zapata\n",
       "  FALSE         11    27     10      5\n",
       "  TRUE          15    12     11      4"
      ]
     },
     "metadata": {},
     "output_type": "display_data"
    }
   ],
   "source": [
    "table(df$frosh101, df$dorm)"
   ]
  },
  {
   "cell_type": "code",
   "execution_count": 42,
   "metadata": {},
   "outputs": [
    {
     "name": "stderr",
     "output_type": "stream",
     "text": [
      "Warning message in chisq.test(df$frosh101, df$dorm):\n",
      "“Chi-squared approximation may be incorrect”\n"
     ]
    },
    {
     "data": {
      "text/plain": [
       "\n",
       "\tPearson's Chi-squared test\n",
       "\n",
       "data:  df$frosh101 and df$dorm\n",
       "X-squared = 36.493, df = 20, p-value = 0.01345\n"
      ]
     },
     "metadata": {},
     "output_type": "display_data"
    }
   ],
   "source": [
    "chisq.test(df$frosh101, df$dorm)"
   ]
  },
  {
   "cell_type": "markdown",
   "metadata": {},
   "source": [
    "### International students\n",
    "**No statistically significant difference**"
   ]
  },
  {
   "cell_type": "code",
   "execution_count": 43,
   "metadata": {},
   "outputs": [
    {
     "data": {
      "text/plain": [
       "       \n",
       "          0   1\n",
       "  FALSE 260  37\n",
       "  TRUE  222  38"
      ]
     },
     "metadata": {},
     "output_type": "display_data"
    }
   ],
   "source": [
    "table(df$frosh101, df$intl_student)"
   ]
  },
  {
   "cell_type": "code",
   "execution_count": 44,
   "metadata": {},
   "outputs": [
    {
     "data": {
      "text/plain": [
       "\n",
       "\tPearson's Chi-squared test with Yates' continuity correction\n",
       "\n",
       "data:  df$frosh101 and df$intl_student\n",
       "X-squared = 0.38413, df = 1, p-value = 0.5354\n"
      ]
     },
     "metadata": {},
     "output_type": "display_data"
    }
   ],
   "source": [
    "chisq.test(df$frosh101, df$intl_student)"
   ]
  },
  {
   "cell_type": "markdown",
   "metadata": {},
   "source": [
    "### Family income\n",
    "**No statistically significant difference**"
   ]
  },
  {
   "cell_type": "code",
   "execution_count": 47,
   "metadata": {},
   "outputs": [
    {
     "data": {
      "text/plain": [
       "       \n",
       "        10000 30000 50000 70000 90000 110000 130000 150000 170000 190000 210000\n",
       "  FALSE    17    41    16    22    29     23     11      9     18     13     88\n",
       "  TRUE     20    16    18    18    21     27     17     13     16     17     70"
      ]
     },
     "metadata": {},
     "output_type": "display_data"
    }
   ],
   "source": [
    "table(df$frosh101, df$family_income)"
   ]
  },
  {
   "cell_type": "code",
   "execution_count": 48,
   "metadata": {},
   "outputs": [
    {
     "data": {
      "text/plain": [
       "\n",
       "\tPearson's Chi-squared test\n",
       "\n",
       "data:  df$frosh101 and df$family_income\n",
       "X-squared = 15.963, df = 10, p-value = 0.1007\n"
      ]
     },
     "metadata": {},
     "output_type": "display_data"
    }
   ],
   "source": [
    "chisq.test(df$frosh101, df$family_income)"
   ]
  },
  {
   "cell_type": "markdown",
   "metadata": {},
   "source": [
    "### Parent education\n",
    "**No statistically significant difference**"
   ]
  },
  {
   "cell_type": "code",
   "execution_count": 49,
   "metadata": {},
   "outputs": [
    {
     "data": {
      "text/plain": [
       "       \n",
       "         1  2  3  4  5  6\n",
       "  FALSE 21 24  8 47 85 89\n",
       "  TRUE  10 28  9 49 72 79"
      ]
     },
     "metadata": {},
     "output_type": "display_data"
    }
   ],
   "source": [
    "table(df$frosh101, df$parent_education_highest)"
   ]
  },
  {
   "cell_type": "code",
   "execution_count": 50,
   "metadata": {},
   "outputs": [
    {
     "data": {
      "text/plain": [
       "\n",
       "\tPearson's Chi-squared test\n",
       "\n",
       "data:  df$frosh101 and df$parent_education_highest\n",
       "X-squared = 4.5962, df = 5, p-value = 0.4671\n"
      ]
     },
     "metadata": {},
     "output_type": "display_data"
    }
   ],
   "source": [
    "chisq.test(df$frosh101, df$parent_education_highest)"
   ]
  },
  {
   "cell_type": "markdown",
   "metadata": {},
   "source": [
    "### stress (t1)\n",
    "**No statistically significant difference**"
   ]
  },
  {
   "cell_type": "code",
   "execution_count": 90,
   "metadata": {},
   "outputs": [
    {
     "data": {
      "text/html": [
       "<table>\n",
       "<caption>A tibble: 2 × 2</caption>\n",
       "<thead>\n",
       "\t<tr><th scope=col>frosh101</th><th scope=col>stress</th></tr>\n",
       "\t<tr><th scope=col>&lt;lgl&gt;</th><th scope=col>&lt;dbl&gt;</th></tr>\n",
       "</thead>\n",
       "<tbody>\n",
       "\t<tr><td>FALSE</td><td>2.087248</td></tr>\n",
       "\t<tr><td> TRUE</td><td>2.013359</td></tr>\n",
       "</tbody>\n",
       "</table>\n"
      ],
      "text/latex": [
       "A tibble: 2 × 2\n",
       "\\begin{tabular}{ll}\n",
       " frosh101 & stress\\\\\n",
       " <lgl> & <dbl>\\\\\n",
       "\\hline\n",
       "\t FALSE & 2.087248\\\\\n",
       "\t  TRUE & 2.013359\\\\\n",
       "\\end{tabular}\n"
      ],
      "text/markdown": [
       "\n",
       "A tibble: 2 × 2\n",
       "\n",
       "| frosh101 &lt;lgl&gt; | stress &lt;dbl&gt; |\n",
       "|---|---|\n",
       "| FALSE | 2.087248 |\n",
       "|  TRUE | 2.013359 |\n",
       "\n"
      ],
      "text/plain": [
       "  frosh101 stress  \n",
       "1 FALSE    2.087248\n",
       "2  TRUE    2.013359"
      ]
     },
     "metadata": {},
     "output_type": "display_data"
    },
    {
     "data": {
      "text/plain": [
       "\n",
       "\tWelch Two Sample t-test\n",
       "\n",
       "data:  df$stress_t1 by df$frosh101\n",
       "t = 1.6561, df = 549.33, p-value = 0.09827\n",
       "alternative hypothesis: true difference in means is not equal to 0\n",
       "95 percent confidence interval:\n",
       " -0.0137504  0.1615295\n",
       "sample estimates:\n",
       "mean in group FALSE  mean in group TRUE \n",
       "           2.087248            2.013359 \n"
      ]
     },
     "metadata": {},
     "output_type": "display_data"
    }
   ],
   "source": [
    "df %>% group_by(frosh101) %>% summarize(stress=mean(stress_t1, na.rm=T))\n",
    "t.test(df$stress_t1 ~ df$frosh101)"
   ]
  },
  {
   "cell_type": "markdown",
   "metadata": {},
   "source": [
    "### life satisfaction (t1)\n",
    "**No statistically significant difference**"
   ]
  },
  {
   "cell_type": "code",
   "execution_count": 91,
   "metadata": {},
   "outputs": [
    {
     "data": {
      "text/html": [
       "<table>\n",
       "<caption>A tibble: 2 × 2</caption>\n",
       "<thead>\n",
       "\t<tr><th scope=col>frosh101</th><th scope=col>life_satisfaction</th></tr>\n",
       "\t<tr><th scope=col>&lt;lgl&gt;</th><th scope=col>&lt;dbl&gt;</th></tr>\n",
       "</thead>\n",
       "<tbody>\n",
       "\t<tr><td>FALSE</td><td>5.036074</td></tr>\n",
       "\t<tr><td> TRUE</td><td>5.062341</td></tr>\n",
       "</tbody>\n",
       "</table>\n"
      ],
      "text/latex": [
       "A tibble: 2 × 2\n",
       "\\begin{tabular}{ll}\n",
       " frosh101 & life\\_satisfaction\\\\\n",
       " <lgl> & <dbl>\\\\\n",
       "\\hline\n",
       "\t FALSE & 5.036074\\\\\n",
       "\t  TRUE & 5.062341\\\\\n",
       "\\end{tabular}\n"
      ],
      "text/markdown": [
       "\n",
       "A tibble: 2 × 2\n",
       "\n",
       "| frosh101 &lt;lgl&gt; | life_satisfaction &lt;dbl&gt; |\n",
       "|---|---|\n",
       "| FALSE | 5.036074 |\n",
       "|  TRUE | 5.062341 |\n",
       "\n"
      ],
      "text/plain": [
       "  frosh101 life_satisfaction\n",
       "1 FALSE    5.036074         \n",
       "2  TRUE    5.062341         "
      ]
     },
     "metadata": {},
     "output_type": "display_data"
    },
    {
     "data": {
      "text/plain": [
       "\n",
       "\tWelch Two Sample t-test\n",
       "\n",
       "data:  df$life_satisfaction_t1 by df$frosh101\n",
       "t = -0.27116, df = 552.58, p-value = 0.7864\n",
       "alternative hypothesis: true difference in means is not equal to 0\n",
       "95 percent confidence interval:\n",
       " -0.2165481  0.1640138\n",
       "sample estimates:\n",
       "mean in group FALSE  mean in group TRUE \n",
       "           5.036074            5.062341 \n"
      ]
     },
     "metadata": {},
     "output_type": "display_data"
    }
   ],
   "source": [
    "df %>% group_by(frosh101) %>% summarize(life_satisfaction=mean(life_satisfaction_t1, na.rm=T))\n",
    "t.test(df$life_satisfaction_t1 ~ df$frosh101)"
   ]
  },
  {
   "cell_type": "markdown",
   "metadata": {},
   "source": [
    "### loneliness (t1)\n",
    "**No statistically significant difference**"
   ]
  },
  {
   "cell_type": "code",
   "execution_count": 92,
   "metadata": {},
   "outputs": [
    {
     "data": {
      "text/html": [
       "<table>\n",
       "<caption>A tibble: 2 × 2</caption>\n",
       "<thead>\n",
       "\t<tr><th scope=col>frosh101</th><th scope=col>loneliness</th></tr>\n",
       "\t<tr><th scope=col>&lt;lgl&gt;</th><th scope=col>&lt;dbl&gt;</th></tr>\n",
       "</thead>\n",
       "<tbody>\n",
       "\t<tr><td>FALSE</td><td>1.829978</td></tr>\n",
       "\t<tr><td> TRUE</td><td>1.797710</td></tr>\n",
       "</tbody>\n",
       "</table>\n"
      ],
      "text/latex": [
       "A tibble: 2 × 2\n",
       "\\begin{tabular}{ll}\n",
       " frosh101 & loneliness\\\\\n",
       " <lgl> & <dbl>\\\\\n",
       "\\hline\n",
       "\t FALSE & 1.829978\\\\\n",
       "\t  TRUE & 1.797710\\\\\n",
       "\\end{tabular}\n"
      ],
      "text/markdown": [
       "\n",
       "A tibble: 2 × 2\n",
       "\n",
       "| frosh101 &lt;lgl&gt; | loneliness &lt;dbl&gt; |\n",
       "|---|---|\n",
       "| FALSE | 1.829978 |\n",
       "|  TRUE | 1.797710 |\n",
       "\n"
      ],
      "text/plain": [
       "  frosh101 loneliness\n",
       "1 FALSE    1.829978  \n",
       "2  TRUE    1.797710  "
      ]
     },
     "metadata": {},
     "output_type": "display_data"
    },
    {
     "data": {
      "text/plain": [
       "\n",
       "\tWelch Two Sample t-test\n",
       "\n",
       "data:  df$loneliness_t1 by df$frosh101\n",
       "t = 0.74032, df = 542.18, p-value = 0.4594\n",
       "alternative hypothesis: true difference in means is not equal to 0\n",
       "95 percent confidence interval:\n",
       " -0.05335018  0.11788559\n",
       "sample estimates:\n",
       "mean in group FALSE  mean in group TRUE \n",
       "           1.829978            1.797710 \n"
      ]
     },
     "metadata": {},
     "output_type": "display_data"
    }
   ],
   "source": [
    "df %>% group_by(frosh101) %>% summarize(loneliness=mean(loneliness_t1, na.rm=T))\n",
    "t.test(df$loneliness_t1 ~ df$frosh101)"
   ]
  },
  {
   "cell_type": "markdown",
   "metadata": {},
   "source": [
    "### composite well-being (t1)\n",
    "**No statistically significant difference**"
   ]
  },
  {
   "cell_type": "code",
   "execution_count": 108,
   "metadata": {},
   "outputs": [
    {
     "data": {
      "text/html": [
       "<table>\n",
       "<caption>A tibble: 2 × 2</caption>\n",
       "<thead>\n",
       "\t<tr><th scope=col>frosh101</th><th scope=col>wellbeing</th></tr>\n",
       "\t<tr><th scope=col>&lt;lgl&gt;</th><th scope=col>&lt;dbl&gt;</th></tr>\n",
       "</thead>\n",
       "<tbody>\n",
       "\t<tr><td>FALSE</td><td>-0.06683394</td></tr>\n",
       "\t<tr><td> TRUE</td><td> 0.03310444</td></tr>\n",
       "</tbody>\n",
       "</table>\n"
      ],
      "text/latex": [
       "A tibble: 2 × 2\n",
       "\\begin{tabular}{ll}\n",
       " frosh101 & wellbeing\\\\\n",
       " <lgl> & <dbl>\\\\\n",
       "\\hline\n",
       "\t FALSE & -0.06683394\\\\\n",
       "\t  TRUE &  0.03310444\\\\\n",
       "\\end{tabular}\n"
      ],
      "text/markdown": [
       "\n",
       "A tibble: 2 × 2\n",
       "\n",
       "| frosh101 &lt;lgl&gt; | wellbeing &lt;dbl&gt; |\n",
       "|---|---|\n",
       "| FALSE | -0.06683394 |\n",
       "|  TRUE |  0.03310444 |\n",
       "\n"
      ],
      "text/plain": [
       "  frosh101 wellbeing  \n",
       "1 FALSE    -0.06683394\n",
       "2  TRUE     0.03310444"
      ]
     },
     "metadata": {},
     "output_type": "display_data"
    },
    {
     "data": {
      "text/plain": [
       "\n",
       "\tWelch Two Sample t-test\n",
       "\n",
       "data:  df$wellbeing_composite_t1 by df$frosh101\n",
       "t = -1.1915, df = 552.93, p-value = 0.234\n",
       "alternative hypothesis: true difference in means is not equal to 0\n",
       "95 percent confidence interval:\n",
       " -0.26468943  0.06481265\n",
       "sample estimates:\n",
       "mean in group FALSE  mean in group TRUE \n",
       "        -0.06683394          0.03310444 \n"
      ]
     },
     "metadata": {},
     "output_type": "display_data"
    }
   ],
   "source": [
    "df %>% group_by(frosh101) %>% summarize(wellbeing=mean(wellbeing_composite_t1, na.rm=T))\n",
    "t.test(df$wellbeing_composite_t1 ~ df$frosh101)"
   ]
  },
  {
   "cell_type": "markdown",
   "metadata": {},
   "source": [
    "### Extraversion\n",
    "**No statistically significant difference**"
   ]
  },
  {
   "cell_type": "code",
   "execution_count": 93,
   "metadata": {},
   "outputs": [
    {
     "data": {
      "text/html": [
       "<table>\n",
       "<caption>A tibble: 2 × 2</caption>\n",
       "<thead>\n",
       "\t<tr><th scope=col>frosh101</th><th scope=col>BFI_E</th></tr>\n",
       "\t<tr><th scope=col>&lt;lgl&gt;</th><th scope=col>&lt;dbl&gt;</th></tr>\n",
       "</thead>\n",
       "<tbody>\n",
       "\t<tr><td>FALSE</td><td>4.255034</td></tr>\n",
       "\t<tr><td> TRUE</td><td>4.333969</td></tr>\n",
       "</tbody>\n",
       "</table>\n"
      ],
      "text/latex": [
       "A tibble: 2 × 2\n",
       "\\begin{tabular}{ll}\n",
       " frosh101 & BFI\\_E\\\\\n",
       " <lgl> & <dbl>\\\\\n",
       "\\hline\n",
       "\t FALSE & 4.255034\\\\\n",
       "\t  TRUE & 4.333969\\\\\n",
       "\\end{tabular}\n"
      ],
      "text/markdown": [
       "\n",
       "A tibble: 2 × 2\n",
       "\n",
       "| frosh101 &lt;lgl&gt; | BFI_E &lt;dbl&gt; |\n",
       "|---|---|\n",
       "| FALSE | 4.255034 |\n",
       "|  TRUE | 4.333969 |\n",
       "\n"
      ],
      "text/plain": [
       "  frosh101 BFI_E   \n",
       "1 FALSE    4.255034\n",
       "2  TRUE    4.333969"
      ]
     },
     "metadata": {},
     "output_type": "display_data"
    },
    {
     "data": {
      "text/plain": [
       "\n",
       "\tWelch Two Sample t-test\n",
       "\n",
       "data:  df$BFI_E by df$frosh101\n",
       "t = -0.62692, df = 545.33, p-value = 0.531\n",
       "alternative hypothesis: true difference in means is not equal to 0\n",
       "95 percent confidence interval:\n",
       " -0.3262658  0.1683940\n",
       "sample estimates:\n",
       "mean in group FALSE  mean in group TRUE \n",
       "           4.255034            4.333969 \n"
      ]
     },
     "metadata": {},
     "output_type": "display_data"
    }
   ],
   "source": [
    "df %>% group_by(frosh101) %>% summarize(BFI_E=mean(BFI_E, na.rm=T))\n",
    "t.test(df$BFI_E ~ df$frosh101)"
   ]
  },
  {
   "cell_type": "markdown",
   "metadata": {},
   "source": [
    "### Agreeableness\n",
    "**Significant difference - those who take frosh 101 are slightly more agreeable (d = 0.17)**"
   ]
  },
  {
   "cell_type": "code",
   "execution_count": 94,
   "metadata": {},
   "outputs": [
    {
     "data": {
      "text/html": [
       "<table>\n",
       "<caption>A tibble: 2 × 2</caption>\n",
       "<thead>\n",
       "\t<tr><th scope=col>frosh101</th><th scope=col>BFI_A</th></tr>\n",
       "\t<tr><th scope=col>&lt;lgl&gt;</th><th scope=col>&lt;dbl&gt;</th></tr>\n",
       "</thead>\n",
       "<tbody>\n",
       "\t<tr><td>FALSE</td><td>4.860738</td></tr>\n",
       "\t<tr><td> TRUE</td><td>5.070611</td></tr>\n",
       "</tbody>\n",
       "</table>\n"
      ],
      "text/latex": [
       "A tibble: 2 × 2\n",
       "\\begin{tabular}{ll}\n",
       " frosh101 & BFI\\_A\\\\\n",
       " <lgl> & <dbl>\\\\\n",
       "\\hline\n",
       "\t FALSE & 4.860738\\\\\n",
       "\t  TRUE & 5.070611\\\\\n",
       "\\end{tabular}\n"
      ],
      "text/markdown": [
       "\n",
       "A tibble: 2 × 2\n",
       "\n",
       "| frosh101 &lt;lgl&gt; | BFI_A &lt;dbl&gt; |\n",
       "|---|---|\n",
       "| FALSE | 4.860738 |\n",
       "|  TRUE | 5.070611 |\n",
       "\n"
      ],
      "text/plain": [
       "  frosh101 BFI_A   \n",
       "1 FALSE    4.860738\n",
       "2  TRUE    5.070611"
      ]
     },
     "metadata": {},
     "output_type": "display_data"
    },
    {
     "data": {
      "text/plain": [
       "\n",
       "\tWelch Two Sample t-test\n",
       "\n",
       "data:  df$BFI_A by df$frosh101\n",
       "t = -2.2652, df = 553.17, p-value = 0.02389\n",
       "alternative hypothesis: true difference in means is not equal to 0\n",
       "95 percent confidence interval:\n",
       " -0.39186550 -0.02787936\n",
       "sample estimates:\n",
       "mean in group FALSE  mean in group TRUE \n",
       "           4.860738            5.070611 \n"
      ]
     },
     "metadata": {},
     "output_type": "display_data"
    }
   ],
   "source": [
    "df %>% group_by(frosh101) %>% summarize(BFI_A=mean(BFI_A, na.rm=T))\n",
    "t.test(df$BFI_A ~ df$frosh101)"
   ]
  },
  {
   "cell_type": "code",
   "execution_count": 95,
   "metadata": {},
   "outputs": [
    {
     "data": {
      "text/html": [
       "0.173383163963698"
      ],
      "text/latex": [
       "0.173383163963698"
      ],
      "text/markdown": [
       "0.173383163963698"
      ],
      "text/plain": [
       "[1] 0.1733832"
      ]
     },
     "metadata": {},
     "output_type": "display_data"
    }
   ],
   "source": [
    "(5.07 - 4.86) / var(df$BFI_A)"
   ]
  },
  {
   "cell_type": "markdown",
   "metadata": {},
   "source": [
    "### Openness\n",
    "**No significant difference**"
   ]
  },
  {
   "cell_type": "code",
   "execution_count": 96,
   "metadata": {},
   "outputs": [
    {
     "data": {
      "text/html": [
       "<table>\n",
       "<caption>A tibble: 2 × 2</caption>\n",
       "<thead>\n",
       "\t<tr><th scope=col>frosh101</th><th scope=col>BFI_O</th></tr>\n",
       "\t<tr><th scope=col>&lt;lgl&gt;</th><th scope=col>&lt;dbl&gt;</th></tr>\n",
       "</thead>\n",
       "<tbody>\n",
       "\t<tr><td>FALSE</td><td>5.345638</td></tr>\n",
       "\t<tr><td> TRUE</td><td>5.389313</td></tr>\n",
       "</tbody>\n",
       "</table>\n"
      ],
      "text/latex": [
       "A tibble: 2 × 2\n",
       "\\begin{tabular}{ll}\n",
       " frosh101 & BFI\\_O\\\\\n",
       " <lgl> & <dbl>\\\\\n",
       "\\hline\n",
       "\t FALSE & 5.345638\\\\\n",
       "\t  TRUE & 5.389313\\\\\n",
       "\\end{tabular}\n"
      ],
      "text/markdown": [
       "\n",
       "A tibble: 2 × 2\n",
       "\n",
       "| frosh101 &lt;lgl&gt; | BFI_O &lt;dbl&gt; |\n",
       "|---|---|\n",
       "| FALSE | 5.345638 |\n",
       "|  TRUE | 5.389313 |\n",
       "\n"
      ],
      "text/plain": [
       "  frosh101 BFI_O   \n",
       "1 FALSE    5.345638\n",
       "2  TRUE    5.389313"
      ]
     },
     "metadata": {},
     "output_type": "display_data"
    },
    {
     "data": {
      "text/plain": [
       "\n",
       "\tWelch Two Sample t-test\n",
       "\n",
       "data:  df$BFI_O by df$frosh101\n",
       "t = -0.52596, df = 552.84, p-value = 0.5991\n",
       "alternative hypothesis: true difference in means is not equal to 0\n",
       "95 percent confidence interval:\n",
       " -0.2067854  0.1194346\n",
       "sample estimates:\n",
       "mean in group FALSE  mean in group TRUE \n",
       "           5.345638            5.389313 \n"
      ]
     },
     "metadata": {},
     "output_type": "display_data"
    }
   ],
   "source": [
    "df %>% group_by(frosh101) %>% summarize(BFI_O=mean(BFI_O, na.rm=T))\n",
    "t.test(df$BFI_O ~ df$frosh101)"
   ]
  },
  {
   "cell_type": "markdown",
   "metadata": {},
   "source": [
    "### Conscientiousness\n",
    "**No significant difference**"
   ]
  },
  {
   "cell_type": "code",
   "execution_count": 97,
   "metadata": {},
   "outputs": [
    {
     "data": {
      "text/html": [
       "<table>\n",
       "<caption>A tibble: 2 × 2</caption>\n",
       "<thead>\n",
       "\t<tr><th scope=col>frosh101</th><th scope=col>BFI_C</th></tr>\n",
       "\t<tr><th scope=col>&lt;lgl&gt;</th><th scope=col>&lt;dbl&gt;</th></tr>\n",
       "</thead>\n",
       "<tbody>\n",
       "\t<tr><td>FALSE</td><td>5.446128</td></tr>\n",
       "\t<tr><td> TRUE</td><td>5.515267</td></tr>\n",
       "</tbody>\n",
       "</table>\n"
      ],
      "text/latex": [
       "A tibble: 2 × 2\n",
       "\\begin{tabular}{ll}\n",
       " frosh101 & BFI\\_C\\\\\n",
       " <lgl> & <dbl>\\\\\n",
       "\\hline\n",
       "\t FALSE & 5.446128\\\\\n",
       "\t  TRUE & 5.515267\\\\\n",
       "\\end{tabular}\n"
      ],
      "text/markdown": [
       "\n",
       "A tibble: 2 × 2\n",
       "\n",
       "| frosh101 &lt;lgl&gt; | BFI_C &lt;dbl&gt; |\n",
       "|---|---|\n",
       "| FALSE | 5.446128 |\n",
       "|  TRUE | 5.515267 |\n",
       "\n"
      ],
      "text/plain": [
       "  frosh101 BFI_C   \n",
       "1 FALSE    5.446128\n",
       "2  TRUE    5.515267"
      ]
     },
     "metadata": {},
     "output_type": "display_data"
    },
    {
     "data": {
      "text/plain": [
       "\n",
       "\tWelch Two Sample t-test\n",
       "\n",
       "data:  df$BFI_C by df$frosh101\n",
       "t = -0.70553, df = 552.14, p-value = 0.4808\n",
       "alternative hypothesis: true difference in means is not equal to 0\n",
       "95 percent confidence interval:\n",
       " -0.2616295  0.1233511\n",
       "sample estimates:\n",
       "mean in group FALSE  mean in group TRUE \n",
       "           5.446128            5.515267 \n"
      ]
     },
     "metadata": {},
     "output_type": "display_data"
    }
   ],
   "source": [
    "df %>% group_by(frosh101) %>% summarize(BFI_C=mean(BFI_C, na.rm=T))\n",
    "t.test(df$BFI_C ~ df$frosh101)"
   ]
  },
  {
   "cell_type": "markdown",
   "metadata": {},
   "source": [
    "### Neuroticism\n",
    "**No significant difference**"
   ]
  },
  {
   "cell_type": "code",
   "execution_count": 98,
   "metadata": {},
   "outputs": [
    {
     "data": {
      "text/html": [
       "<table>\n",
       "<caption>A tibble: 2 × 2</caption>\n",
       "<thead>\n",
       "\t<tr><th scope=col>frosh101</th><th scope=col>BFI_N</th></tr>\n",
       "\t<tr><th scope=col>&lt;lgl&gt;</th><th scope=col>&lt;dbl&gt;</th></tr>\n",
       "</thead>\n",
       "<tbody>\n",
       "\t<tr><td>FALSE</td><td>3.305369</td></tr>\n",
       "\t<tr><td> TRUE</td><td>3.187023</td></tr>\n",
       "</tbody>\n",
       "</table>\n"
      ],
      "text/latex": [
       "A tibble: 2 × 2\n",
       "\\begin{tabular}{ll}\n",
       " frosh101 & BFI\\_N\\\\\n",
       " <lgl> & <dbl>\\\\\n",
       "\\hline\n",
       "\t FALSE & 3.305369\\\\\n",
       "\t  TRUE & 3.187023\\\\\n",
       "\\end{tabular}\n"
      ],
      "text/markdown": [
       "\n",
       "A tibble: 2 × 2\n",
       "\n",
       "| frosh101 &lt;lgl&gt; | BFI_N &lt;dbl&gt; |\n",
       "|---|---|\n",
       "| FALSE | 3.305369 |\n",
       "|  TRUE | 3.187023 |\n",
       "\n"
      ],
      "text/plain": [
       "  frosh101 BFI_N   \n",
       "1 FALSE    3.305369\n",
       "2  TRUE    3.187023"
      ]
     },
     "metadata": {},
     "output_type": "display_data"
    },
    {
     "data": {
      "text/plain": [
       "\n",
       "\tWelch Two Sample t-test\n",
       "\n",
       "data:  df$BFI_N by df$frosh101\n",
       "t = 1.0602, df = 557.99, p-value = 0.2895\n",
       "alternative hypothesis: true difference in means is not equal to 0\n",
       "95 percent confidence interval:\n",
       " -0.1009137  0.3376062\n",
       "sample estimates:\n",
       "mean in group FALSE  mean in group TRUE \n",
       "           3.305369            3.187023 \n"
      ]
     },
     "metadata": {},
     "output_type": "display_data"
    }
   ],
   "source": [
    "df %>% group_by(frosh101) %>% summarize(BFI_N=mean(BFI_N, na.rm=T))\n",
    "t.test(df$BFI_N ~ df$frosh101)"
   ]
  },
  {
   "cell_type": "markdown",
   "metadata": {},
   "source": [
    "### Empathy\n",
    "**No significant difference**"
   ]
  },
  {
   "cell_type": "code",
   "execution_count": 101,
   "metadata": {},
   "outputs": [
    {
     "data": {
      "text/html": [
       "<table>\n",
       "<caption>A tibble: 2 × 2</caption>\n",
       "<thead>\n",
       "\t<tr><th scope=col>frosh101</th><th scope=col>empathy</th></tr>\n",
       "\t<tr><th scope=col>&lt;lgl&gt;</th><th scope=col>&lt;dbl&gt;</th></tr>\n",
       "</thead>\n",
       "<tbody>\n",
       "\t<tr><td>FALSE</td><td>5.668624</td></tr>\n",
       "\t<tr><td> TRUE</td><td>5.768130</td></tr>\n",
       "</tbody>\n",
       "</table>\n"
      ],
      "text/latex": [
       "A tibble: 2 × 2\n",
       "\\begin{tabular}{ll}\n",
       " frosh101 & empathy\\\\\n",
       " <lgl> & <dbl>\\\\\n",
       "\\hline\n",
       "\t FALSE & 5.668624\\\\\n",
       "\t  TRUE & 5.768130\\\\\n",
       "\\end{tabular}\n"
      ],
      "text/markdown": [
       "\n",
       "A tibble: 2 × 2\n",
       "\n",
       "| frosh101 &lt;lgl&gt; | empathy &lt;dbl&gt; |\n",
       "|---|---|\n",
       "| FALSE | 5.668624 |\n",
       "|  TRUE | 5.768130 |\n",
       "\n"
      ],
      "text/plain": [
       "  frosh101 empathy \n",
       "1 FALSE    5.668624\n",
       "2  TRUE    5.768130"
      ]
     },
     "metadata": {},
     "output_type": "display_data"
    },
    {
     "data": {
      "text/plain": [
       "\n",
       "\tWelch Two Sample t-test\n",
       "\n",
       "data:  df$empathy by df$frosh101\n",
       "t = -1.7593, df = 557.13, p-value = 0.07908\n",
       "alternative hypothesis: true difference in means is not equal to 0\n",
       "95 percent confidence interval:\n",
       " -0.21060253  0.01159131\n",
       "sample estimates:\n",
       "mean in group FALSE  mean in group TRUE \n",
       "           5.668624            5.768130 \n"
      ]
     },
     "metadata": {},
     "output_type": "display_data"
    }
   ],
   "source": [
    "df %>% group_by(frosh101) %>% summarize(empathy=mean(empathy, na.rm=T))\n",
    "t.test(df$empathy ~ df$frosh101)"
   ]
  },
  {
   "cell_type": "markdown",
   "metadata": {},
   "source": [
    "## Outcome measures (t2 well-being)"
   ]
  },
  {
   "cell_type": "markdown",
   "metadata": {},
   "source": [
    "### stress (t2)\n",
    "**No statistically significant difference**"
   ]
  },
  {
   "cell_type": "code",
   "execution_count": 102,
   "metadata": {},
   "outputs": [
    {
     "data": {
      "text/html": [
       "<table>\n",
       "<caption>A tibble: 2 × 2</caption>\n",
       "<thead>\n",
       "\t<tr><th scope=col>frosh101</th><th scope=col>stress</th></tr>\n",
       "\t<tr><th scope=col>&lt;lgl&gt;</th><th scope=col>&lt;dbl&gt;</th></tr>\n",
       "</thead>\n",
       "<tbody>\n",
       "\t<tr><td>FALSE</td><td>2.092593</td></tr>\n",
       "\t<tr><td> TRUE</td><td>2.116858</td></tr>\n",
       "</tbody>\n",
       "</table>\n"
      ],
      "text/latex": [
       "A tibble: 2 × 2\n",
       "\\begin{tabular}{ll}\n",
       " frosh101 & stress\\\\\n",
       " <lgl> & <dbl>\\\\\n",
       "\\hline\n",
       "\t FALSE & 2.092593\\\\\n",
       "\t  TRUE & 2.116858\\\\\n",
       "\\end{tabular}\n"
      ],
      "text/markdown": [
       "\n",
       "A tibble: 2 × 2\n",
       "\n",
       "| frosh101 &lt;lgl&gt; | stress &lt;dbl&gt; |\n",
       "|---|---|\n",
       "| FALSE | 2.092593 |\n",
       "|  TRUE | 2.116858 |\n",
       "\n"
      ],
      "text/plain": [
       "  frosh101 stress  \n",
       "1 FALSE    2.092593\n",
       "2  TRUE    2.116858"
      ]
     },
     "metadata": {},
     "output_type": "display_data"
    },
    {
     "data": {
      "text/plain": [
       "\n",
       "\tWelch Two Sample t-test\n",
       "\n",
       "data:  df$stress_t2 by df$frosh101\n",
       "t = -0.49188, df = 546.34, p-value = 0.623\n",
       "alternative hypothesis: true difference in means is not equal to 0\n",
       "95 percent confidence interval:\n",
       " -0.12116947  0.07263818\n",
       "sample estimates:\n",
       "mean in group FALSE  mean in group TRUE \n",
       "           2.092593            2.116858 \n"
      ]
     },
     "metadata": {},
     "output_type": "display_data"
    }
   ],
   "source": [
    "df %>% group_by(frosh101) %>% summarize(stress=mean(stress_t2, na.rm=T))\n",
    "t.test(df$stress_t2 ~ df$frosh101)"
   ]
  },
  {
   "cell_type": "markdown",
   "metadata": {},
   "source": [
    "### life satisfaction (t2)\n",
    "**No statistically significant difference**"
   ]
  },
  {
   "cell_type": "code",
   "execution_count": 103,
   "metadata": {},
   "outputs": [
    {
     "data": {
      "text/html": [
       "<table>\n",
       "<caption>A tibble: 2 × 2</caption>\n",
       "<thead>\n",
       "\t<tr><th scope=col>frosh101</th><th scope=col>life_satisfaction</th></tr>\n",
       "\t<tr><th scope=col>&lt;lgl&gt;</th><th scope=col>&lt;dbl&gt;</th></tr>\n",
       "</thead>\n",
       "<tbody>\n",
       "\t<tr><td>FALSE</td><td>4.897092</td></tr>\n",
       "\t<tr><td> TRUE</td><td>4.872286</td></tr>\n",
       "</tbody>\n",
       "</table>\n"
      ],
      "text/latex": [
       "A tibble: 2 × 2\n",
       "\\begin{tabular}{ll}\n",
       " frosh101 & life\\_satisfaction\\\\\n",
       " <lgl> & <dbl>\\\\\n",
       "\\hline\n",
       "\t FALSE & 4.897092\\\\\n",
       "\t  TRUE & 4.872286\\\\\n",
       "\\end{tabular}\n"
      ],
      "text/markdown": [
       "\n",
       "A tibble: 2 × 2\n",
       "\n",
       "| frosh101 &lt;lgl&gt; | life_satisfaction &lt;dbl&gt; |\n",
       "|---|---|\n",
       "| FALSE | 4.897092 |\n",
       "|  TRUE | 4.872286 |\n",
       "\n"
      ],
      "text/plain": [
       "  frosh101 life_satisfaction\n",
       "1 FALSE    4.897092         \n",
       "2  TRUE    4.872286         "
      ]
     },
     "metadata": {},
     "output_type": "display_data"
    },
    {
     "data": {
      "text/plain": [
       "\n",
       "\tWelch Two Sample t-test\n",
       "\n",
       "data:  df$life_satisfaction_t2 by df$frosh101\n",
       "t = 0.24425, df = 552.46, p-value = 0.8071\n",
       "alternative hypothesis: true difference in means is not equal to 0\n",
       "95 percent confidence interval:\n",
       " -0.1746796  0.2242908\n",
       "sample estimates:\n",
       "mean in group FALSE  mean in group TRUE \n",
       "           4.897092            4.872286 \n"
      ]
     },
     "metadata": {},
     "output_type": "display_data"
    }
   ],
   "source": [
    "df %>% group_by(frosh101) %>% summarize(life_satisfaction=mean(life_satisfaction_t2, na.rm=T))\n",
    "t.test(df$life_satisfaction_t2 ~ df$frosh101)"
   ]
  },
  {
   "cell_type": "markdown",
   "metadata": {},
   "source": [
    "### loneliness (t2)\n",
    "**No statistically significant difference**"
   ]
  },
  {
   "cell_type": "code",
   "execution_count": 104,
   "metadata": {},
   "outputs": [
    {
     "data": {
      "text/html": [
       "<table>\n",
       "<caption>A tibble: 2 × 2</caption>\n",
       "<thead>\n",
       "\t<tr><th scope=col>frosh101</th><th scope=col>loneliness</th></tr>\n",
       "\t<tr><th scope=col>&lt;lgl&gt;</th><th scope=col>&lt;dbl&gt;</th></tr>\n",
       "</thead>\n",
       "<tbody>\n",
       "\t<tr><td>FALSE</td><td>1.896745</td></tr>\n",
       "\t<tr><td> TRUE</td><td>1.970626</td></tr>\n",
       "</tbody>\n",
       "</table>\n"
      ],
      "text/latex": [
       "A tibble: 2 × 2\n",
       "\\begin{tabular}{ll}\n",
       " frosh101 & loneliness\\\\\n",
       " <lgl> & <dbl>\\\\\n",
       "\\hline\n",
       "\t FALSE & 1.896745\\\\\n",
       "\t  TRUE & 1.970626\\\\\n",
       "\\end{tabular}\n"
      ],
      "text/markdown": [
       "\n",
       "A tibble: 2 × 2\n",
       "\n",
       "| frosh101 &lt;lgl&gt; | loneliness &lt;dbl&gt; |\n",
       "|---|---|\n",
       "| FALSE | 1.896745 |\n",
       "|  TRUE | 1.970626 |\n",
       "\n"
      ],
      "text/plain": [
       "  frosh101 loneliness\n",
       "1 FALSE    1.896745  \n",
       "2  TRUE    1.970626  "
      ]
     },
     "metadata": {},
     "output_type": "display_data"
    },
    {
     "data": {
      "text/plain": [
       "\n",
       "\tWelch Two Sample t-test\n",
       "\n",
       "data:  df$loneliness_t2 by df$frosh101\n",
       "t = -1.4943, df = 546.37, p-value = 0.1357\n",
       "alternative hypothesis: true difference in means is not equal to 0\n",
       "95 percent confidence interval:\n",
       " -0.1709966  0.0232355\n",
       "sample estimates:\n",
       "mean in group FALSE  mean in group TRUE \n",
       "           1.896745            1.970626 \n"
      ]
     },
     "metadata": {},
     "output_type": "display_data"
    }
   ],
   "source": [
    "df %>% group_by(frosh101) %>% summarize(loneliness=mean(loneliness_t2, na.rm=T))\n",
    "t.test(df$loneliness_t2 ~ df$frosh101)"
   ]
  },
  {
   "cell_type": "markdown",
   "metadata": {},
   "source": [
    "### composite well-being (t2)\n",
    "**No statistically significant difference**"
   ]
  },
  {
   "cell_type": "code",
   "execution_count": 106,
   "metadata": {},
   "outputs": [
    {
     "data": {
      "text/html": [
       "<table>\n",
       "<caption>A tibble: 2 × 2</caption>\n",
       "<thead>\n",
       "\t<tr><th scope=col>frosh101</th><th scope=col>wellbeing</th></tr>\n",
       "\t<tr><th scope=col>&lt;lgl&gt;</th><th scope=col>&lt;dbl&gt;</th></tr>\n",
       "</thead>\n",
       "<tbody>\n",
       "\t<tr><td>FALSE</td><td> 0.007722209</td></tr>\n",
       "\t<tr><td> TRUE</td><td>-0.071228422</td></tr>\n",
       "</tbody>\n",
       "</table>\n"
      ],
      "text/latex": [
       "A tibble: 2 × 2\n",
       "\\begin{tabular}{ll}\n",
       " frosh101 & wellbeing\\\\\n",
       " <lgl> & <dbl>\\\\\n",
       "\\hline\n",
       "\t FALSE &  0.007722209\\\\\n",
       "\t  TRUE & -0.071228422\\\\\n",
       "\\end{tabular}\n"
      ],
      "text/markdown": [
       "\n",
       "A tibble: 2 × 2\n",
       "\n",
       "| frosh101 &lt;lgl&gt; | wellbeing &lt;dbl&gt; |\n",
       "|---|---|\n",
       "| FALSE |  0.007722209 |\n",
       "|  TRUE | -0.071228422 |\n",
       "\n"
      ],
      "text/plain": [
       "  frosh101 wellbeing   \n",
       "1 FALSE     0.007722209\n",
       "2  TRUE    -0.071228422"
      ]
     },
     "metadata": {},
     "output_type": "display_data"
    },
    {
     "data": {
      "text/plain": [
       "\n",
       "\tWelch Two Sample t-test\n",
       "\n",
       "data:  df$wellbeing_composite_t2 by df$frosh101\n",
       "t = 0.93845, df = 551.02, p-value = 0.3484\n",
       "alternative hypothesis: true difference in means is not equal to 0\n",
       "95 percent confidence interval:\n",
       " -0.08630177  0.24420303\n",
       "sample estimates:\n",
       "mean in group FALSE  mean in group TRUE \n",
       "        0.007722209        -0.071228422 \n"
      ]
     },
     "metadata": {},
     "output_type": "display_data"
    }
   ],
   "source": [
    "df %>% group_by(frosh101) %>% summarize(wellbeing=mean(wellbeing_composite_t2, na.rm=T))\n",
    "t.test(df$wellbeing_composite_t2 ~ df$frosh101)"
   ]
  },
  {
   "cell_type": "code",
   "execution_count": null,
   "metadata": {},
   "outputs": [],
   "source": []
  }
 ],
 "metadata": {
  "kernelspec": {
   "display_name": "R",
   "language": "R",
   "name": "r-3.6.2"
  },
  "language_info": {
   "codemirror_mode": "r",
   "file_extension": ".r",
   "mimetype": "text/x-r-source",
   "name": "R",
   "pygments_lexer": "r",
   "version": "3.6.2"
  },
  "toc": {
   "base_numbering": 1,
   "nav_menu": {},
   "number_sections": true,
   "sideBar": true,
   "skip_h1_title": true,
   "title_cell": "Table of Contents",
   "title_sidebar": "Contents",
   "toc_cell": true,
   "toc_position": {},
   "toc_section_display": true,
   "toc_window_display": true
  }
 },
 "nbformat": 4,
 "nbformat_minor": 2
}

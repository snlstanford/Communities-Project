{
 "cells": [
  {
   "cell_type": "markdown",
   "metadata": {},
   "source": [
    "# Does dorm matter for well-being?\n",
    "\n",
    "A: Probably not.\n",
    "\n",
    "We fit a range of models to predict student's t2 (fall) well-being (measured in week 4 of the semester).\n",
    "\n",
    "Life satisfaction:\n",
    "\n",
    "Overall, their reported life satisfaction at t1 (measured in week 0, before the semester began) explained most of the variance in t2 life satisfaction (approx 55%), with trace amounts of additional variance explainable by additional variables (approx 3% more). The few variables that remained significant contributors to the model, above and beyond t1 life satisfaction, were: stress at t1, loneliness at t1, and number of network nominations (in and out) at t2. All were in the intuitive directions but very small in size. No traits of the person's network were significant.\n",
    "\n",
    "Mixed-effects models showed that *none* of the residual variance in life satisfaction could be attributed to membership in particular dorms.\n",
    "\n",
    "Loneliness:\n",
    "\n",
    "Similar results to above, only t1 loneliness could only explain some 26% of t2 loneliness. However, additional variables still only explained about 3% more of the variance.\n",
    "\n",
    "Stress:\n",
    "\n",
    "A bit better. t1 stress can explain some 21% of variance in t2 stress, but additional predictors can explain another 7%. The in and out degrees didn't seem to matter, amazingly, but being female was associated with higher stress, as was high neuroticism (which is associated with being female). Dorm and network variables were still non-significant."
   ]
  },
  {
   "cell_type": "markdown",
   "metadata": {
    "toc": true
   },
   "source": [
    "<h1>Table of Contents<span class=\"tocSkip\"></span></h1>\n",
    "<div class=\"toc\"><ul class=\"toc-item\"><li><span><a href=\"#Configuration\" data-toc-modified-id=\"Configuration-1\"><span class=\"toc-item-num\">1&nbsp;&nbsp;</span>Configuration</a></span></li><li><span><a href=\"#Libraries\" data-toc-modified-id=\"Libraries-2\"><span class=\"toc-item-num\">2&nbsp;&nbsp;</span>Libraries</a></span></li><li><span><a href=\"#Cleaning---drop-rows-we-don't-want\" data-toc-modified-id=\"Cleaning---drop-rows-we-don't-want-3\"><span class=\"toc-item-num\">3&nbsp;&nbsp;</span>Cleaning - drop rows we don't want</a></span><ul class=\"toc-item\"><li><span><a href=\"#Drop-people-who-made-no-network-nominations\" data-toc-modified-id=\"Drop-people-who-made-no-network-nominations-3.1\"><span class=\"toc-item-num\">3.1&nbsp;&nbsp;</span>Drop people who made no network nominations</a></span></li><li><span><a href=\"#Drop-people-with-fewer-than-3-network-connections-(in-or-out)-as-we-don't-trust-the-averages-of-their-network's-traits\" data-toc-modified-id=\"Drop-people-with-fewer-than-3-network-connections-(in-or-out)-as-we-don't-trust-the-averages-of-their-network's-traits-3.2\"><span class=\"toc-item-num\">3.2&nbsp;&nbsp;</span>Drop people with fewer than 3 network connections (in or out) as we don't trust the averages of their network's traits</a></span></li><li><span><a href=\"#Drop-the-rows-with-missing-values-(~20%)\" data-toc-modified-id=\"Drop-the-rows-with-missing-values-(~20%)-3.3\"><span class=\"toc-item-num\">3.3&nbsp;&nbsp;</span>Drop the rows with missing values (~20%)</a></span></li></ul></li><li><span><a href=\"#Model\" data-toc-modified-id=\"Model-4\"><span class=\"toc-item-num\">4&nbsp;&nbsp;</span>Model</a></span><ul class=\"toc-item\"><li><span><a href=\"#Base-models---predict-well-being-at-t1-from-well-being-at-t1\" data-toc-modified-id=\"Base-models---predict-well-being-at-t1-from-well-being-at-t1-4.1\"><span class=\"toc-item-num\">4.1&nbsp;&nbsp;</span>Base models - predict well-being at t1 from well-being at t1</a></span></li><li><span><a href=\"#Fixed-effects-models:-predict-WB-at-t2-from-WB-and-other-personal-factors-at-t1\" data-toc-modified-id=\"Fixed-effects-models:-predict-WB-at-t2-from-WB-and-other-personal-factors-at-t1-4.2\"><span class=\"toc-item-num\">4.2&nbsp;&nbsp;</span>Fixed-effects models: predict WB at t2 from WB and other personal factors at t1</a></span></li><li><span><a href=\"#Lets-reduce-our-fixed-effects-model-to-only-wellbeing-and-in/out-degree-measures\" data-toc-modified-id=\"Lets-reduce-our-fixed-effects-model-to-only-wellbeing-and-in/out-degree-measures-4.3\"><span class=\"toc-item-num\">4.3&nbsp;&nbsp;</span>Lets reduce our fixed effects model to only wellbeing and in/out degree measures</a></span><ul class=\"toc-item\"><li><span><a href=\"#Store-this-equation-for-use-in-many-models-below\" data-toc-modified-id=\"Store-this-equation-for-use-in-many-models-below-4.3.1\"><span class=\"toc-item-num\">4.3.1&nbsp;&nbsp;</span>Store this equation for use in many models below</a></span></li></ul></li><li><span><a href=\"#Examine-residuals-by-dorm.-If-there-is-a-sigificant-dorm-wide-effect,-we-should-see-some-clear-boxes-that-are-above-and-below-zero.-(Spoiler-alert:-we-don't)\" data-toc-modified-id=\"Examine-residuals-by-dorm.-If-there-is-a-sigificant-dorm-wide-effect,-we-should-see-some-clear-boxes-that-are-above-and-below-zero.-(Spoiler-alert:-we-don't)-4.4\"><span class=\"toc-item-num\">4.4&nbsp;&nbsp;</span>Examine residuals by dorm. If there is a sigificant dorm-wide effect, we should see some clear boxes that are above and below zero. (Spoiler alert: we don't)</a></span></li></ul></li><li><span><a href=\"#Add-random-effect-for-dorm,-see-if-significant-variance-is-attributable-to-dorm-membership-(Result:-no)\" data-toc-modified-id=\"Add-random-effect-for-dorm,-see-if-significant-variance-is-attributable-to-dorm-membership-(Result:-no)-5\"><span class=\"toc-item-num\">5&nbsp;&nbsp;</span>Add random effect for dorm, see if significant variance is attributable to dorm membership (Result: no)</a></span><ul class=\"toc-item\"><li><span><a href=\"#Try-again,-with-some-dorm-level-covariates\" data-toc-modified-id=\"Try-again,-with-some-dorm-level-covariates-5.1\"><span class=\"toc-item-num\">5.1&nbsp;&nbsp;</span>Try again, with some dorm-level covariates</a></span></li></ul></li><li><span><a href=\"#Fixed-effects-model,-including-network-features-(average-traits-of-people-connected-to-the-individual-via-nominations)\" data-toc-modified-id=\"Fixed-effects-model,-including-network-features-(average-traits-of-people-connected-to-the-individual-via-nominations)-6\"><span class=\"toc-item-num\">6&nbsp;&nbsp;</span>Fixed effects model, including network features (average traits of people connected to the individual via nominations)</a></span></li></ul></div>"
   ]
  },
  {
   "cell_type": "markdown",
   "metadata": {},
   "source": [
    "## Configuration"
   ]
  },
  {
   "cell_type": "code",
   "execution_count": 1,
   "metadata": {},
   "outputs": [
    {
     "data": {
      "text/html": [
       "<ol class=list-inline>\n",
       "\t<li>'life_satisfaction'</li>\n",
       "\t<li>'life_satisfaction_t1'</li>\n",
       "\t<li>'life_satisfaction_t2'</li>\n",
       "</ol>\n"
      ],
      "text/latex": [
       "\\begin{enumerate*}\n",
       "\\item 'life\\_satisfaction'\n",
       "\\item 'life\\_satisfaction\\_t1'\n",
       "\\item 'life\\_satisfaction\\_t2'\n",
       "\\end{enumerate*}\n"
      ],
      "text/markdown": [
       "1. 'life_satisfaction'\n",
       "2. 'life_satisfaction_t1'\n",
       "3. 'life_satisfaction_t2'\n",
       "\n",
       "\n"
      ],
      "text/plain": [
       "[1] \"life_satisfaction\"    \"life_satisfaction_t1\" \"life_satisfaction_t2\""
      ]
     },
     "metadata": {},
     "output_type": "display_data"
    }
   ],
   "source": [
    "DV = 'life_satisfaction'\n",
    "# DV = 'stress'\n",
    "# DV = 'loneliness'\n",
    "\n",
    "DV_t1 = paste(DV, 't1', sep='_')\n",
    "DV_t2 = paste(DV, 't2', sep='_')\n",
    "c(DV, DV_t1, DV_t2)"
   ]
  },
  {
   "cell_type": "code",
   "execution_count": 2,
   "metadata": {},
   "outputs": [],
   "source": [
    "all_wb_params = \"life_satisfaction_t1 + loneliness_t1 + stress_t1\"\n",
    "\n",
    "all_fixed_params = \"edges_in + edges_out +\n",
    "C(gender) + C(race) + empathy +\n",
    "BFI_E + BFI_O + BFI_C + BFI_A + BFI_N +\n",
    "intl_student + parent_education_highest + log10(family_income)\"\n"
   ]
  },
  {
   "cell_type": "markdown",
   "metadata": {},
   "source": [
    "## Libraries"
   ]
  },
  {
   "cell_type": "code",
   "execution_count": 3,
   "metadata": {},
   "outputs": [
    {
     "name": "stderr",
     "output_type": "stream",
     "text": [
      "Loading required package: carData\n",
      "\n",
      "── \u001b[1mAttaching packages\u001b[22m ─────────────────────────────────────── tidyverse 1.3.0 ──\n",
      "\n",
      "\u001b[32m✔\u001b[39m \u001b[34mggplot2\u001b[39m 3.2.1     \u001b[32m✔\u001b[39m \u001b[34mpurrr  \u001b[39m 0.3.3\n",
      "\u001b[32m✔\u001b[39m \u001b[34mtibble \u001b[39m 2.1.3     \u001b[32m✔\u001b[39m \u001b[34mdplyr  \u001b[39m 0.8.3\n",
      "\u001b[32m✔\u001b[39m \u001b[34mtidyr  \u001b[39m 1.0.0     \u001b[32m✔\u001b[39m \u001b[34mstringr\u001b[39m 1.4.0\n",
      "\u001b[32m✔\u001b[39m \u001b[34mreadr  \u001b[39m 1.3.1     \u001b[32m✔\u001b[39m \u001b[34mforcats\u001b[39m 0.4.0\n",
      "\n",
      "── \u001b[1mConflicts\u001b[22m ────────────────────────────────────────── tidyverse_conflicts() ──\n",
      "\u001b[31m✖\u001b[39m \u001b[34mdplyr\u001b[39m::\u001b[32mfilter()\u001b[39m masks \u001b[34mstats\u001b[39m::filter()\n",
      "\u001b[31m✖\u001b[39m \u001b[34mdplyr\u001b[39m::\u001b[32mlag()\u001b[39m    masks \u001b[34mstats\u001b[39m::lag()\n",
      "\u001b[31m✖\u001b[39m \u001b[34mdplyr\u001b[39m::\u001b[32mrecode()\u001b[39m masks \u001b[34mcar\u001b[39m::recode()\n",
      "\u001b[31m✖\u001b[39m \u001b[34mpurrr\u001b[39m::\u001b[32msome()\u001b[39m   masks \u001b[34mcar\u001b[39m::some()\n",
      "\n",
      "Loading required package: lattice\n",
      "\n",
      "Registered S3 methods overwritten by 'lme4':\n",
      "  method                          from\n",
      "  cooks.distance.influence.merMod car \n",
      "  influence.merMod                car \n",
      "  dfbeta.influence.merMod         car \n",
      "  dfbetas.influence.merMod        car \n",
      "\n",
      "\n",
      "Attaching package: ‘mice’\n",
      "\n",
      "\n",
      "The following object is masked from ‘package:tidyr’:\n",
      "\n",
      "    complete\n",
      "\n",
      "\n",
      "The following objects are masked from ‘package:base’:\n",
      "\n",
      "    cbind, rbind\n",
      "\n",
      "\n",
      "\n",
      "Attaching package: ‘nlme’\n",
      "\n",
      "\n",
      "The following object is masked from ‘package:dplyr’:\n",
      "\n",
      "    collapse\n",
      "\n",
      "\n",
      "Loading required package: Matrix\n",
      "\n",
      "\n",
      "Attaching package: ‘Matrix’\n",
      "\n",
      "\n",
      "The following objects are masked from ‘package:tidyr’:\n",
      "\n",
      "    expand, pack, unpack\n",
      "\n",
      "\n",
      "\n",
      "Attaching package: ‘lme4’\n",
      "\n",
      "\n",
      "The following object is masked from ‘package:nlme’:\n",
      "\n",
      "    lmList\n",
      "\n",
      "\n",
      "\n",
      "Attaching package: ‘lmerTest’\n",
      "\n",
      "\n",
      "The following object is masked from ‘package:lme4’:\n",
      "\n",
      "    lmer\n",
      "\n",
      "\n",
      "The following object is masked from ‘package:stats’:\n",
      "\n",
      "    step\n",
      "\n",
      "\n"
     ]
    }
   ],
   "source": [
    "library(car)\n",
    "library(tidyverse)\n",
    "library(mice)\n",
    "library(nlme)\n",
    "library(lme4)\n",
    "library(lmerTest)\n",
    "\n",
    "# Display more data in the Jupyter notebook\n",
    "options(repr.matrix.max.cols=500, repr.matrix.max.rows=20)"
   ]
  },
  {
   "cell_type": "code",
   "execution_count": 4,
   "metadata": {},
   "outputs": [
    {
     "data": {
      "text/html": [
       "<ol class=list-inline>\n",
       "\t<li>560</li>\n",
       "\t<li>57</li>\n",
       "</ol>\n"
      ],
      "text/latex": [
       "\\begin{enumerate*}\n",
       "\\item 560\n",
       "\\item 57\n",
       "\\end{enumerate*}\n"
      ],
      "text/markdown": [
       "1. 560\n",
       "2. 57\n",
       "\n",
       "\n"
      ],
      "text/plain": [
       "[1] 560  57"
      ]
     },
     "metadata": {},
     "output_type": "display_data"
    },
    {
     "data": {
      "text/html": [
       "<table>\n",
       "<caption>A data.frame: 6 × 57</caption>\n",
       "<thead>\n",
       "\t<tr><th></th><th scope=col>PID</th><th scope=col>gender</th><th scope=col>race</th><th scope=col>dorm</th><th scope=col>life_satisfaction_t1</th><th scope=col>empathy</th><th scope=col>loneliness_t1</th><th scope=col>stress_t1</th><th scope=col>BFI_E</th><th scope=col>BFI_A</th><th scope=col>BFI_O</th><th scope=col>BFI_N</th><th scope=col>BFI_C</th><th scope=col>intl_student</th><th scope=col>family_income</th><th scope=col>life_satisfaction_t2</th><th scope=col>loneliness_t2</th><th scope=col>stress_t2</th><th scope=col>parent_education_highest</th><th scope=col>edges_in</th><th scope=col>edges_out</th><th scope=col>edges_reciprocal</th><th scope=col>edges_unique</th><th scope=col>dorm_life_satisfaction_t1</th><th scope=col>dorm_empathy</th><th scope=col>dorm_loneliness_t1</th><th scope=col>dorm_stress_t1</th><th scope=col>dorm_BFI_E</th><th scope=col>dorm_BFI_A</th><th scope=col>dorm_BFI_O</th><th scope=col>dorm_BFI_N</th><th scope=col>dorm_BFI_C</th><th scope=col>dorm_intl_student</th><th scope=col>dorm_family_income</th><th scope=col>dorm_life_satisfaction_t2</th><th scope=col>dorm_loneliness_t2</th><th scope=col>dorm_stress_t2</th><th scope=col>dorm_edges_in</th><th scope=col>dorm_edges_out</th><th scope=col>dorm_edges_reciprocal</th><th scope=col>dorm_edges_unique</th><th scope=col>dorm_n_dormmates</th><th scope=col>network_life_satisfaction_t1</th><th scope=col>network_empathy</th><th scope=col>network_loneliness_t1</th><th scope=col>network_stress_t1</th><th scope=col>network_BFI_E</th><th scope=col>network_BFI_A</th><th scope=col>network_BFI_O</th><th scope=col>network_BFI_N</th><th scope=col>network_BFI_C</th><th scope=col>network_intl_student</th><th scope=col>network_family_income</th><th scope=col>network_life_satisfaction_t2</th><th scope=col>network_loneliness_t2</th><th scope=col>network_stress_t2</th><th scope=col>network_n_networkmates</th></tr>\n",
       "\t<tr><th></th><th scope=col>&lt;int&gt;</th><th scope=col>&lt;fct&gt;</th><th scope=col>&lt;fct&gt;</th><th scope=col>&lt;fct&gt;</th><th scope=col>&lt;dbl&gt;</th><th scope=col>&lt;dbl&gt;</th><th scope=col>&lt;dbl&gt;</th><th scope=col>&lt;dbl&gt;</th><th scope=col>&lt;dbl&gt;</th><th scope=col>&lt;dbl&gt;</th><th scope=col>&lt;dbl&gt;</th><th scope=col>&lt;dbl&gt;</th><th scope=col>&lt;dbl&gt;</th><th scope=col>&lt;dbl&gt;</th><th scope=col>&lt;dbl&gt;</th><th scope=col>&lt;dbl&gt;</th><th scope=col>&lt;dbl&gt;</th><th scope=col>&lt;dbl&gt;</th><th scope=col>&lt;fct&gt;</th><th scope=col>&lt;int&gt;</th><th scope=col>&lt;int&gt;</th><th scope=col>&lt;int&gt;</th><th scope=col>&lt;int&gt;</th><th scope=col>&lt;dbl&gt;</th><th scope=col>&lt;dbl&gt;</th><th scope=col>&lt;dbl&gt;</th><th scope=col>&lt;dbl&gt;</th><th scope=col>&lt;dbl&gt;</th><th scope=col>&lt;dbl&gt;</th><th scope=col>&lt;dbl&gt;</th><th scope=col>&lt;dbl&gt;</th><th scope=col>&lt;dbl&gt;</th><th scope=col>&lt;dbl&gt;</th><th scope=col>&lt;dbl&gt;</th><th scope=col>&lt;dbl&gt;</th><th scope=col>&lt;dbl&gt;</th><th scope=col>&lt;dbl&gt;</th><th scope=col>&lt;dbl&gt;</th><th scope=col>&lt;dbl&gt;</th><th scope=col>&lt;dbl&gt;</th><th scope=col>&lt;dbl&gt;</th><th scope=col>&lt;dbl&gt;</th><th scope=col>&lt;dbl&gt;</th><th scope=col>&lt;dbl&gt;</th><th scope=col>&lt;dbl&gt;</th><th scope=col>&lt;dbl&gt;</th><th scope=col>&lt;dbl&gt;</th><th scope=col>&lt;dbl&gt;</th><th scope=col>&lt;dbl&gt;</th><th scope=col>&lt;dbl&gt;</th><th scope=col>&lt;dbl&gt;</th><th scope=col>&lt;dbl&gt;</th><th scope=col>&lt;dbl&gt;</th><th scope=col>&lt;dbl&gt;</th><th scope=col>&lt;dbl&gt;</th><th scope=col>&lt;dbl&gt;</th><th scope=col>&lt;dbl&gt;</th></tr>\n",
       "</thead>\n",
       "<tbody>\n",
       "\t<tr><th scope=row>1</th><td>1001</td><td>male  </td><td>south_asian   </td><td>Rinconada</td><td>4.833333</td><td>6.375</td><td>1.333333</td><td>2.5</td><td>6.5</td><td>6.0</td><td>6.5</td><td>3.5</td><td>5.5</td><td>0</td><td> 70000</td><td>6.166667</td><td>2.000000</td><td>1.5</td><td>4_masters         </td><td>3</td><td>10</td><td>1</td><td>12</td><td>5.034483</td><td>5.504310</td><td>1.839080</td><td>2.000000</td><td>4.534483</td><td>4.982759</td><td>5.379310</td><td>3.327586</td><td>5.672414</td><td>0.17241379</td><td>116206.9</td><td>4.931034</td><td>2.034483</td><td>1.948276</td><td>5.206897</td><td>10.931034</td><td>3.379310</td><td>12.758621</td><td>29</td><td>4.916667</td><td>5.937500</td><td>2.166667</td><td>2.50</td><td>6.750</td><td>4.750000</td><td>5.75</td><td>4.500000</td><td>5.000000</td><td>0.0000000</td><td>175000.00</td><td>5.750000</td><td>2.333333</td><td>1.75</td><td> 2</td></tr>\n",
       "\t<tr><th scope=row>2</th><td>1047</td><td>female</td><td>other_or_mixed</td><td>Twain    </td><td>5.333333</td><td>6.500</td><td>2.000000</td><td>2.5</td><td>5.5</td><td>6.5</td><td>6.5</td><td>3.0</td><td>7.0</td><td>0</td><td>220000</td><td>5.166667</td><td>2.000000</td><td>3.0</td><td>4_masters         </td><td>6</td><td> 9</td><td>3</td><td>12</td><td>5.333333</td><td>5.717105</td><td>1.684211</td><td>1.986842</td><td>4.039474</td><td>5.197368</td><td>5.421053</td><td>2.907895</td><td>5.552632</td><td>0.13157895</td><td>143513.5</td><td>5.241228</td><td>1.728070</td><td>2.000000</td><td>4.394737</td><td> 8.157895</td><td>2.473684</td><td>10.078947</td><td>38</td><td>5.055556</td><td>6.354167</td><td>1.444444</td><td>2.00</td><td>5.250</td><td>5.416667</td><td>5.50</td><td>2.833333</td><td>5.166667</td><td>0.1666667</td><td> 91666.67</td><td>4.833333</td><td>1.444444</td><td>2.25</td><td> 6</td></tr>\n",
       "\t<tr><th scope=row>3</th><td>1078</td><td>female</td><td>east_asian    </td><td>Loro     </td><td>5.500000</td><td>6.250</td><td>1.333333</td><td>2.0</td><td>4.5</td><td>6.5</td><td>6.5</td><td>1.5</td><td>6.5</td><td>0</td><td>130000</td><td>5.500000</td><td>2.333333</td><td>3.0</td><td>5_advanced        </td><td>1</td><td> 7</td><td>0</td><td> 8</td><td>4.000000</td><td>5.593750</td><td>1.861111</td><td>2.250000</td><td>3.875000</td><td>4.625000</td><td>5.375000</td><td>3.541667</td><td>5.000000</td><td>0.08333333</td><td>129090.9</td><td>4.430556</td><td>2.000000</td><td>1.958333</td><td>2.333333</td><td> 6.833333</td><td>1.500000</td><td> 7.666667</td><td>12</td><td>4.666667</td><td>5.250000</td><td>1.000000</td><td>1.50</td><td>2.500</td><td>5.500000</td><td>3.50</td><td>1.500000</td><td>4.000000</td><td>0.0000000</td><td> 90000.00</td><td>4.666667</td><td>1.000000</td><td>1.50</td><td> 1</td></tr>\n",
       "\t<tr><th scope=row>4</th><td>1097</td><td>male  </td><td>east_asian    </td><td>Otero    </td><td>6.000000</td><td>5.000</td><td>2.000000</td><td>2.0</td><td>3.0</td><td>4.0</td><td>4.5</td><td>1.5</td><td>5.5</td><td>0</td><td> 90000</td><td>5.833333</td><td>2.000000</td><td>2.5</td><td>5_advanced        </td><td>6</td><td> 4</td><td>4</td><td> 6</td><td>5.439815</td><td>5.701389</td><td>1.777778</td><td>1.916667</td><td>4.444444</td><td>4.902778</td><td>5.263889</td><td>2.916667</td><td>5.708333</td><td>0.02777778</td><td>141428.6</td><td>5.268519</td><td>1.861111</td><td>1.916667</td><td>4.777778</td><td>10.000000</td><td>2.722222</td><td>12.055556</td><td>36</td><td>5.400000</td><td>5.950000</td><td>1.733333</td><td>2.40</td><td>4.400</td><td>5.400000</td><td>5.10</td><td>3.100000</td><td>5.700000</td><td>0.0000000</td><td>130000.00</td><td>4.866667</td><td>2.133333</td><td>2.20</td><td> 5</td></tr>\n",
       "\t<tr><th scope=row>5</th><td>1105</td><td>female</td><td>white         </td><td>Larkin   </td><td>6.666667</td><td>5.750</td><td>2.000000</td><td>2.0</td><td>4.5</td><td>5.0</td><td>4.5</td><td>2.0</td><td>5.0</td><td>0</td><td>170000</td><td>6.666667</td><td>2.000000</td><td>2.0</td><td>3_college_fouryear</td><td>6</td><td>26</td><td>3</td><td>29</td><td>5.098765</td><td>5.819444</td><td>1.802469</td><td>2.074074</td><td>4.657407</td><td>4.935185</td><td>5.407407</td><td>3.268519</td><td>5.685185</td><td>0.15094340</td><td>138235.3</td><td>4.913580</td><td>1.817610</td><td>2.188679</td><td>5.759259</td><td> 8.962963</td><td>3.296296</td><td>11.425926</td><td>54</td><td>5.483333</td><td>5.800000</td><td>1.600000</td><td>2.25</td><td>5.250</td><td>4.350000</td><td>5.65</td><td>3.750000</td><td>5.550000</td><td>0.2000000</td><td>161000.00</td><td>5.133333</td><td>1.966667</td><td>2.20</td><td>10</td></tr>\n",
       "\t<tr><th scope=row>6</th><td>1110</td><td>female</td><td>white         </td><td>Larkin   </td><td>5.166667</td><td>6.750</td><td>2.000000</td><td>2.0</td><td>6.5</td><td>5.0</td><td>4.5</td><td>2.0</td><td>6.0</td><td>0</td><td>110000</td><td>6.833333</td><td>1.666667</td><td>2.0</td><td>4_masters         </td><td>4</td><td> 9</td><td>4</td><td> 9</td><td>5.126543</td><td>5.800926</td><td>1.802469</td><td>2.074074</td><td>4.620370</td><td>4.935185</td><td>5.407407</td><td>3.268519</td><td>5.666667</td><td>0.15094340</td><td>139411.8</td><td>4.910494</td><td>1.823899</td><td>2.188679</td><td>5.796296</td><td> 9.277778</td><td>3.277778</td><td>11.796296</td><td>54</td><td>5.625000</td><td>5.437500</td><td>2.000000</td><td>1.75</td><td>4.375</td><td>5.250000</td><td>5.00</td><td>2.625000</td><td>5.750000</td><td>0.0000000</td><td>152500.00</td><td>5.750000</td><td>1.666667</td><td>2.00</td><td> 4</td></tr>\n",
       "</tbody>\n",
       "</table>\n"
      ],
      "text/latex": [
       "A data.frame: 6 × 57\n",
       "\\begin{tabular}{r|lllllllllllllllllllllllllllllllllllllllllllllllllllllllll}\n",
       "  & PID & gender & race & dorm & life\\_satisfaction\\_t1 & empathy & loneliness\\_t1 & stress\\_t1 & BFI\\_E & BFI\\_A & BFI\\_O & BFI\\_N & BFI\\_C & intl\\_student & family\\_income & life\\_satisfaction\\_t2 & loneliness\\_t2 & stress\\_t2 & parent\\_education\\_highest & edges\\_in & edges\\_out & edges\\_reciprocal & edges\\_unique & dorm\\_life\\_satisfaction\\_t1 & dorm\\_empathy & dorm\\_loneliness\\_t1 & dorm\\_stress\\_t1 & dorm\\_BFI\\_E & dorm\\_BFI\\_A & dorm\\_BFI\\_O & dorm\\_BFI\\_N & dorm\\_BFI\\_C & dorm\\_intl\\_student & dorm\\_family\\_income & dorm\\_life\\_satisfaction\\_t2 & dorm\\_loneliness\\_t2 & dorm\\_stress\\_t2 & dorm\\_edges\\_in & dorm\\_edges\\_out & dorm\\_edges\\_reciprocal & dorm\\_edges\\_unique & dorm\\_n\\_dormmates & network\\_life\\_satisfaction\\_t1 & network\\_empathy & network\\_loneliness\\_t1 & network\\_stress\\_t1 & network\\_BFI\\_E & network\\_BFI\\_A & network\\_BFI\\_O & network\\_BFI\\_N & network\\_BFI\\_C & network\\_intl\\_student & network\\_family\\_income & network\\_life\\_satisfaction\\_t2 & network\\_loneliness\\_t2 & network\\_stress\\_t2 & network\\_n\\_networkmates\\\\\n",
       "  & <int> & <fct> & <fct> & <fct> & <dbl> & <dbl> & <dbl> & <dbl> & <dbl> & <dbl> & <dbl> & <dbl> & <dbl> & <dbl> & <dbl> & <dbl> & <dbl> & <dbl> & <fct> & <int> & <int> & <int> & <int> & <dbl> & <dbl> & <dbl> & <dbl> & <dbl> & <dbl> & <dbl> & <dbl> & <dbl> & <dbl> & <dbl> & <dbl> & <dbl> & <dbl> & <dbl> & <dbl> & <dbl> & <dbl> & <dbl> & <dbl> & <dbl> & <dbl> & <dbl> & <dbl> & <dbl> & <dbl> & <dbl> & <dbl> & <dbl> & <dbl> & <dbl> & <dbl> & <dbl> & <dbl>\\\\\n",
       "\\hline\n",
       "\t1 & 1001 & male   & south\\_asian    & Rinconada & 4.833333 & 6.375 & 1.333333 & 2.5 & 6.5 & 6.0 & 6.5 & 3.5 & 5.5 & 0 &  70000 & 6.166667 & 2.000000 & 1.5 & 4\\_masters          & 3 & 10 & 1 & 12 & 5.034483 & 5.504310 & 1.839080 & 2.000000 & 4.534483 & 4.982759 & 5.379310 & 3.327586 & 5.672414 & 0.17241379 & 116206.9 & 4.931034 & 2.034483 & 1.948276 & 5.206897 & 10.931034 & 3.379310 & 12.758621 & 29 & 4.916667 & 5.937500 & 2.166667 & 2.50 & 6.750 & 4.750000 & 5.75 & 4.500000 & 5.000000 & 0.0000000 & 175000.00 & 5.750000 & 2.333333 & 1.75 &  2\\\\\n",
       "\t2 & 1047 & female & other\\_or\\_mixed & Twain     & 5.333333 & 6.500 & 2.000000 & 2.5 & 5.5 & 6.5 & 6.5 & 3.0 & 7.0 & 0 & 220000 & 5.166667 & 2.000000 & 3.0 & 4\\_masters          & 6 &  9 & 3 & 12 & 5.333333 & 5.717105 & 1.684211 & 1.986842 & 4.039474 & 5.197368 & 5.421053 & 2.907895 & 5.552632 & 0.13157895 & 143513.5 & 5.241228 & 1.728070 & 2.000000 & 4.394737 &  8.157895 & 2.473684 & 10.078947 & 38 & 5.055556 & 6.354167 & 1.444444 & 2.00 & 5.250 & 5.416667 & 5.50 & 2.833333 & 5.166667 & 0.1666667 &  91666.67 & 4.833333 & 1.444444 & 2.25 &  6\\\\\n",
       "\t3 & 1078 & female & east\\_asian     & Loro      & 5.500000 & 6.250 & 1.333333 & 2.0 & 4.5 & 6.5 & 6.5 & 1.5 & 6.5 & 0 & 130000 & 5.500000 & 2.333333 & 3.0 & 5\\_advanced         & 1 &  7 & 0 &  8 & 4.000000 & 5.593750 & 1.861111 & 2.250000 & 3.875000 & 4.625000 & 5.375000 & 3.541667 & 5.000000 & 0.08333333 & 129090.9 & 4.430556 & 2.000000 & 1.958333 & 2.333333 &  6.833333 & 1.500000 &  7.666667 & 12 & 4.666667 & 5.250000 & 1.000000 & 1.50 & 2.500 & 5.500000 & 3.50 & 1.500000 & 4.000000 & 0.0000000 &  90000.00 & 4.666667 & 1.000000 & 1.50 &  1\\\\\n",
       "\t4 & 1097 & male   & east\\_asian     & Otero     & 6.000000 & 5.000 & 2.000000 & 2.0 & 3.0 & 4.0 & 4.5 & 1.5 & 5.5 & 0 &  90000 & 5.833333 & 2.000000 & 2.5 & 5\\_advanced         & 6 &  4 & 4 &  6 & 5.439815 & 5.701389 & 1.777778 & 1.916667 & 4.444444 & 4.902778 & 5.263889 & 2.916667 & 5.708333 & 0.02777778 & 141428.6 & 5.268519 & 1.861111 & 1.916667 & 4.777778 & 10.000000 & 2.722222 & 12.055556 & 36 & 5.400000 & 5.950000 & 1.733333 & 2.40 & 4.400 & 5.400000 & 5.10 & 3.100000 & 5.700000 & 0.0000000 & 130000.00 & 4.866667 & 2.133333 & 2.20 &  5\\\\\n",
       "\t5 & 1105 & female & white          & Larkin    & 6.666667 & 5.750 & 2.000000 & 2.0 & 4.5 & 5.0 & 4.5 & 2.0 & 5.0 & 0 & 170000 & 6.666667 & 2.000000 & 2.0 & 3\\_college\\_fouryear & 6 & 26 & 3 & 29 & 5.098765 & 5.819444 & 1.802469 & 2.074074 & 4.657407 & 4.935185 & 5.407407 & 3.268519 & 5.685185 & 0.15094340 & 138235.3 & 4.913580 & 1.817610 & 2.188679 & 5.759259 &  8.962963 & 3.296296 & 11.425926 & 54 & 5.483333 & 5.800000 & 1.600000 & 2.25 & 5.250 & 4.350000 & 5.65 & 3.750000 & 5.550000 & 0.2000000 & 161000.00 & 5.133333 & 1.966667 & 2.20 & 10\\\\\n",
       "\t6 & 1110 & female & white          & Larkin    & 5.166667 & 6.750 & 2.000000 & 2.0 & 6.5 & 5.0 & 4.5 & 2.0 & 6.0 & 0 & 110000 & 6.833333 & 1.666667 & 2.0 & 4\\_masters          & 4 &  9 & 4 &  9 & 5.126543 & 5.800926 & 1.802469 & 2.074074 & 4.620370 & 4.935185 & 5.407407 & 3.268519 & 5.666667 & 0.15094340 & 139411.8 & 4.910494 & 1.823899 & 2.188679 & 5.796296 &  9.277778 & 3.277778 & 11.796296 & 54 & 5.625000 & 5.437500 & 2.000000 & 1.75 & 4.375 & 5.250000 & 5.00 & 2.625000 & 5.750000 & 0.0000000 & 152500.00 & 5.750000 & 1.666667 & 2.00 &  4\\\\\n",
       "\\end{tabular}\n"
      ],
      "text/markdown": [
       "\n",
       "A data.frame: 6 × 57\n",
       "\n",
       "| <!--/--> | PID &lt;int&gt; | gender &lt;fct&gt; | race &lt;fct&gt; | dorm &lt;fct&gt; | life_satisfaction_t1 &lt;dbl&gt; | empathy &lt;dbl&gt; | loneliness_t1 &lt;dbl&gt; | stress_t1 &lt;dbl&gt; | BFI_E &lt;dbl&gt; | BFI_A &lt;dbl&gt; | BFI_O &lt;dbl&gt; | BFI_N &lt;dbl&gt; | BFI_C &lt;dbl&gt; | intl_student &lt;dbl&gt; | family_income &lt;dbl&gt; | life_satisfaction_t2 &lt;dbl&gt; | loneliness_t2 &lt;dbl&gt; | stress_t2 &lt;dbl&gt; | parent_education_highest &lt;fct&gt; | edges_in &lt;int&gt; | edges_out &lt;int&gt; | edges_reciprocal &lt;int&gt; | edges_unique &lt;int&gt; | dorm_life_satisfaction_t1 &lt;dbl&gt; | dorm_empathy &lt;dbl&gt; | dorm_loneliness_t1 &lt;dbl&gt; | dorm_stress_t1 &lt;dbl&gt; | dorm_BFI_E &lt;dbl&gt; | dorm_BFI_A &lt;dbl&gt; | dorm_BFI_O &lt;dbl&gt; | dorm_BFI_N &lt;dbl&gt; | dorm_BFI_C &lt;dbl&gt; | dorm_intl_student &lt;dbl&gt; | dorm_family_income &lt;dbl&gt; | dorm_life_satisfaction_t2 &lt;dbl&gt; | dorm_loneliness_t2 &lt;dbl&gt; | dorm_stress_t2 &lt;dbl&gt; | dorm_edges_in &lt;dbl&gt; | dorm_edges_out &lt;dbl&gt; | dorm_edges_reciprocal &lt;dbl&gt; | dorm_edges_unique &lt;dbl&gt; | dorm_n_dormmates &lt;dbl&gt; | network_life_satisfaction_t1 &lt;dbl&gt; | network_empathy &lt;dbl&gt; | network_loneliness_t1 &lt;dbl&gt; | network_stress_t1 &lt;dbl&gt; | network_BFI_E &lt;dbl&gt; | network_BFI_A &lt;dbl&gt; | network_BFI_O &lt;dbl&gt; | network_BFI_N &lt;dbl&gt; | network_BFI_C &lt;dbl&gt; | network_intl_student &lt;dbl&gt; | network_family_income &lt;dbl&gt; | network_life_satisfaction_t2 &lt;dbl&gt; | network_loneliness_t2 &lt;dbl&gt; | network_stress_t2 &lt;dbl&gt; | network_n_networkmates &lt;dbl&gt; |\n",
       "|---|---|---|---|---|---|---|---|---|---|---|---|---|---|---|---|---|---|---|---|---|---|---|---|---|---|---|---|---|---|---|---|---|---|---|---|---|---|---|---|---|---|---|---|---|---|---|---|---|---|---|---|---|---|---|---|---|---|\n",
       "| 1 | 1001 | male   | south_asian    | Rinconada | 4.833333 | 6.375 | 1.333333 | 2.5 | 6.5 | 6.0 | 6.5 | 3.5 | 5.5 | 0 |  70000 | 6.166667 | 2.000000 | 1.5 | 4_masters          | 3 | 10 | 1 | 12 | 5.034483 | 5.504310 | 1.839080 | 2.000000 | 4.534483 | 4.982759 | 5.379310 | 3.327586 | 5.672414 | 0.17241379 | 116206.9 | 4.931034 | 2.034483 | 1.948276 | 5.206897 | 10.931034 | 3.379310 | 12.758621 | 29 | 4.916667 | 5.937500 | 2.166667 | 2.50 | 6.750 | 4.750000 | 5.75 | 4.500000 | 5.000000 | 0.0000000 | 175000.00 | 5.750000 | 2.333333 | 1.75 |  2 |\n",
       "| 2 | 1047 | female | other_or_mixed | Twain     | 5.333333 | 6.500 | 2.000000 | 2.5 | 5.5 | 6.5 | 6.5 | 3.0 | 7.0 | 0 | 220000 | 5.166667 | 2.000000 | 3.0 | 4_masters          | 6 |  9 | 3 | 12 | 5.333333 | 5.717105 | 1.684211 | 1.986842 | 4.039474 | 5.197368 | 5.421053 | 2.907895 | 5.552632 | 0.13157895 | 143513.5 | 5.241228 | 1.728070 | 2.000000 | 4.394737 |  8.157895 | 2.473684 | 10.078947 | 38 | 5.055556 | 6.354167 | 1.444444 | 2.00 | 5.250 | 5.416667 | 5.50 | 2.833333 | 5.166667 | 0.1666667 |  91666.67 | 4.833333 | 1.444444 | 2.25 |  6 |\n",
       "| 3 | 1078 | female | east_asian     | Loro      | 5.500000 | 6.250 | 1.333333 | 2.0 | 4.5 | 6.5 | 6.5 | 1.5 | 6.5 | 0 | 130000 | 5.500000 | 2.333333 | 3.0 | 5_advanced         | 1 |  7 | 0 |  8 | 4.000000 | 5.593750 | 1.861111 | 2.250000 | 3.875000 | 4.625000 | 5.375000 | 3.541667 | 5.000000 | 0.08333333 | 129090.9 | 4.430556 | 2.000000 | 1.958333 | 2.333333 |  6.833333 | 1.500000 |  7.666667 | 12 | 4.666667 | 5.250000 | 1.000000 | 1.50 | 2.500 | 5.500000 | 3.50 | 1.500000 | 4.000000 | 0.0000000 |  90000.00 | 4.666667 | 1.000000 | 1.50 |  1 |\n",
       "| 4 | 1097 | male   | east_asian     | Otero     | 6.000000 | 5.000 | 2.000000 | 2.0 | 3.0 | 4.0 | 4.5 | 1.5 | 5.5 | 0 |  90000 | 5.833333 | 2.000000 | 2.5 | 5_advanced         | 6 |  4 | 4 |  6 | 5.439815 | 5.701389 | 1.777778 | 1.916667 | 4.444444 | 4.902778 | 5.263889 | 2.916667 | 5.708333 | 0.02777778 | 141428.6 | 5.268519 | 1.861111 | 1.916667 | 4.777778 | 10.000000 | 2.722222 | 12.055556 | 36 | 5.400000 | 5.950000 | 1.733333 | 2.40 | 4.400 | 5.400000 | 5.10 | 3.100000 | 5.700000 | 0.0000000 | 130000.00 | 4.866667 | 2.133333 | 2.20 |  5 |\n",
       "| 5 | 1105 | female | white          | Larkin    | 6.666667 | 5.750 | 2.000000 | 2.0 | 4.5 | 5.0 | 4.5 | 2.0 | 5.0 | 0 | 170000 | 6.666667 | 2.000000 | 2.0 | 3_college_fouryear | 6 | 26 | 3 | 29 | 5.098765 | 5.819444 | 1.802469 | 2.074074 | 4.657407 | 4.935185 | 5.407407 | 3.268519 | 5.685185 | 0.15094340 | 138235.3 | 4.913580 | 1.817610 | 2.188679 | 5.759259 |  8.962963 | 3.296296 | 11.425926 | 54 | 5.483333 | 5.800000 | 1.600000 | 2.25 | 5.250 | 4.350000 | 5.65 | 3.750000 | 5.550000 | 0.2000000 | 161000.00 | 5.133333 | 1.966667 | 2.20 | 10 |\n",
       "| 6 | 1110 | female | white          | Larkin    | 5.166667 | 6.750 | 2.000000 | 2.0 | 6.5 | 5.0 | 4.5 | 2.0 | 6.0 | 0 | 110000 | 6.833333 | 1.666667 | 2.0 | 4_masters          | 4 |  9 | 4 |  9 | 5.126543 | 5.800926 | 1.802469 | 2.074074 | 4.620370 | 4.935185 | 5.407407 | 3.268519 | 5.666667 | 0.15094340 | 139411.8 | 4.910494 | 1.823899 | 2.188679 | 5.796296 |  9.277778 | 3.277778 | 11.796296 | 54 | 5.625000 | 5.437500 | 2.000000 | 1.75 | 4.375 | 5.250000 | 5.00 | 2.625000 | 5.750000 | 0.0000000 | 152500.00 | 5.750000 | 1.666667 | 2.00 |  4 |\n",
       "\n"
      ],
      "text/plain": [
       "  PID  gender race           dorm      life_satisfaction_t1 empathy\n",
       "1 1001 male   south_asian    Rinconada 4.833333             6.375  \n",
       "2 1047 female other_or_mixed Twain     5.333333             6.500  \n",
       "3 1078 female east_asian     Loro      5.500000             6.250  \n",
       "4 1097 male   east_asian     Otero     6.000000             5.000  \n",
       "5 1105 female white          Larkin    6.666667             5.750  \n",
       "6 1110 female white          Larkin    5.166667             6.750  \n",
       "  loneliness_t1 stress_t1 BFI_E BFI_A BFI_O BFI_N BFI_C intl_student\n",
       "1 1.333333      2.5       6.5   6.0   6.5   3.5   5.5   0           \n",
       "2 2.000000      2.5       5.5   6.5   6.5   3.0   7.0   0           \n",
       "3 1.333333      2.0       4.5   6.5   6.5   1.5   6.5   0           \n",
       "4 2.000000      2.0       3.0   4.0   4.5   1.5   5.5   0           \n",
       "5 2.000000      2.0       4.5   5.0   4.5   2.0   5.0   0           \n",
       "6 2.000000      2.0       6.5   5.0   4.5   2.0   6.0   0           \n",
       "  family_income life_satisfaction_t2 loneliness_t2 stress_t2\n",
       "1  70000        6.166667             2.000000      1.5      \n",
       "2 220000        5.166667             2.000000      3.0      \n",
       "3 130000        5.500000             2.333333      3.0      \n",
       "4  90000        5.833333             2.000000      2.5      \n",
       "5 170000        6.666667             2.000000      2.0      \n",
       "6 110000        6.833333             1.666667      2.0      \n",
       "  parent_education_highest edges_in edges_out edges_reciprocal edges_unique\n",
       "1 4_masters                3        10        1                12          \n",
       "2 4_masters                6         9        3                12          \n",
       "3 5_advanced               1         7        0                 8          \n",
       "4 5_advanced               6         4        4                 6          \n",
       "5 3_college_fouryear       6        26        3                29          \n",
       "6 4_masters                4         9        4                 9          \n",
       "  dorm_life_satisfaction_t1 dorm_empathy dorm_loneliness_t1 dorm_stress_t1\n",
       "1 5.034483                  5.504310     1.839080           2.000000      \n",
       "2 5.333333                  5.717105     1.684211           1.986842      \n",
       "3 4.000000                  5.593750     1.861111           2.250000      \n",
       "4 5.439815                  5.701389     1.777778           1.916667      \n",
       "5 5.098765                  5.819444     1.802469           2.074074      \n",
       "6 5.126543                  5.800926     1.802469           2.074074      \n",
       "  dorm_BFI_E dorm_BFI_A dorm_BFI_O dorm_BFI_N dorm_BFI_C dorm_intl_student\n",
       "1 4.534483   4.982759   5.379310   3.327586   5.672414   0.17241379       \n",
       "2 4.039474   5.197368   5.421053   2.907895   5.552632   0.13157895       \n",
       "3 3.875000   4.625000   5.375000   3.541667   5.000000   0.08333333       \n",
       "4 4.444444   4.902778   5.263889   2.916667   5.708333   0.02777778       \n",
       "5 4.657407   4.935185   5.407407   3.268519   5.685185   0.15094340       \n",
       "6 4.620370   4.935185   5.407407   3.268519   5.666667   0.15094340       \n",
       "  dorm_family_income dorm_life_satisfaction_t2 dorm_loneliness_t2\n",
       "1 116206.9           4.931034                  2.034483          \n",
       "2 143513.5           5.241228                  1.728070          \n",
       "3 129090.9           4.430556                  2.000000          \n",
       "4 141428.6           5.268519                  1.861111          \n",
       "5 138235.3           4.913580                  1.817610          \n",
       "6 139411.8           4.910494                  1.823899          \n",
       "  dorm_stress_t2 dorm_edges_in dorm_edges_out dorm_edges_reciprocal\n",
       "1 1.948276       5.206897      10.931034      3.379310             \n",
       "2 2.000000       4.394737       8.157895      2.473684             \n",
       "3 1.958333       2.333333       6.833333      1.500000             \n",
       "4 1.916667       4.777778      10.000000      2.722222             \n",
       "5 2.188679       5.759259       8.962963      3.296296             \n",
       "6 2.188679       5.796296       9.277778      3.277778             \n",
       "  dorm_edges_unique dorm_n_dormmates network_life_satisfaction_t1\n",
       "1 12.758621         29               4.916667                    \n",
       "2 10.078947         38               5.055556                    \n",
       "3  7.666667         12               4.666667                    \n",
       "4 12.055556         36               5.400000                    \n",
       "5 11.425926         54               5.483333                    \n",
       "6 11.796296         54               5.625000                    \n",
       "  network_empathy network_loneliness_t1 network_stress_t1 network_BFI_E\n",
       "1 5.937500        2.166667              2.50              6.750        \n",
       "2 6.354167        1.444444              2.00              5.250        \n",
       "3 5.250000        1.000000              1.50              2.500        \n",
       "4 5.950000        1.733333              2.40              4.400        \n",
       "5 5.800000        1.600000              2.25              5.250        \n",
       "6 5.437500        2.000000              1.75              4.375        \n",
       "  network_BFI_A network_BFI_O network_BFI_N network_BFI_C network_intl_student\n",
       "1 4.750000      5.75          4.500000      5.000000      0.0000000           \n",
       "2 5.416667      5.50          2.833333      5.166667      0.1666667           \n",
       "3 5.500000      3.50          1.500000      4.000000      0.0000000           \n",
       "4 5.400000      5.10          3.100000      5.700000      0.0000000           \n",
       "5 4.350000      5.65          3.750000      5.550000      0.2000000           \n",
       "6 5.250000      5.00          2.625000      5.750000      0.0000000           \n",
       "  network_family_income network_life_satisfaction_t2 network_loneliness_t2\n",
       "1 175000.00             5.750000                     2.333333             \n",
       "2  91666.67             4.833333                     1.444444             \n",
       "3  90000.00             4.666667                     1.000000             \n",
       "4 130000.00             4.866667                     2.133333             \n",
       "5 161000.00             5.133333                     1.966667             \n",
       "6 152500.00             5.750000                     1.666667             \n",
       "  network_stress_t2 network_n_networkmates\n",
       "1 1.75               2                    \n",
       "2 2.25               6                    \n",
       "3 1.50               1                    \n",
       "4 2.20               5                    \n",
       "5 2.20              10                    \n",
       "6 2.00               4                    "
      ]
     },
     "metadata": {},
     "output_type": "display_data"
    }
   ],
   "source": [
    "df = read.csv('../data/2019–2020/postprocessed/df_full_train.csv', na.strings=c(\"\",\" \", \"NA\"))\n",
    "dim(df)\n",
    "head(df)"
   ]
  },
  {
   "cell_type": "code",
   "execution_count": 5,
   "metadata": {},
   "outputs": [
    {
     "name": "stdout",
     "output_type": "stream",
     "text": [
      "'data.frame':\t560 obs. of  57 variables:\n",
      " $ PID                         : int  1001 1047 1078 1097 1105 1110 1128 1132 1134 1162 ...\n",
      " $ gender                      : Factor w/ 3 levels \"female\",\"male\",..: 2 1 1 2 1 1 1 1 2 1 ...\n",
      " $ race                        : Factor w/ 6 levels \"black\",\"east_asian\",..: 5 4 2 2 6 6 6 NA 3 2 ...\n",
      " $ dorm                        : Factor w/ 21 levels \"Alondra\",\"Arroyo\",..: 16 19 11 15 10 10 7 15 2 3 ...\n",
      " $ life_satisfaction_t1        : num  4.83 5.33 5.5 6 6.67 ...\n",
      " $ empathy                     : num  6.38 6.5 6.25 5 5.75 ...\n",
      " $ loneliness_t1               : num  1.33 2 1.33 2 2 ...\n",
      " $ stress_t1                   : num  2.5 2.5 2 2 2 2 1.5 2 1.5 1 ...\n",
      " $ BFI_E                       : num  6.5 5.5 4.5 3 4.5 6.5 5 7 5.5 3.5 ...\n",
      " $ BFI_A                       : num  6 6.5 6.5 4 5 5 5 5 5 6.5 ...\n",
      " $ BFI_O                       : num  6.5 6.5 6.5 4.5 4.5 4.5 5.5 5.5 6 7 ...\n",
      " $ BFI_N                       : num  3.5 3 1.5 1.5 2 2 2 2.5 1.5 3 ...\n",
      " $ BFI_C                       : num  5.5 7 6.5 5.5 5 6 6 7 6.5 5 ...\n",
      " $ intl_student                : num  0 0 0 0 0 0 0 0 0 0 ...\n",
      " $ family_income               : num  70000 220000 130000 90000 170000 110000 90000 110000 90000 220000 ...\n",
      " $ life_satisfaction_t2        : num  6.17 5.17 5.5 5.83 6.67 ...\n",
      " $ loneliness_t2               : num  2 2 2.33 2 2 ...\n",
      " $ stress_t2                   : num  1.5 3 3 2.5 2 2 1.5 2 2 2.5 ...\n",
      " $ parent_education_highest    : Factor w/ 6 levels \"0_less_than_hs\",..: 5 5 6 6 4 5 6 4 4 6 ...\n",
      " $ edges_in                    : int  3 6 1 6 6 4 5 4 6 9 ...\n",
      " $ edges_out                   : int  10 9 7 4 26 9 14 9 11 8 ...\n",
      " $ edges_reciprocal            : int  1 3 0 4 3 4 5 3 4 5 ...\n",
      " $ edges_unique                : int  12 12 8 6 29 9 14 10 13 12 ...\n",
      " $ dorm_life_satisfaction_t1   : num  5.03 5.33 4 5.44 5.1 ...\n",
      " $ dorm_empathy                : num  5.5 5.72 5.59 5.7 5.82 ...\n",
      " $ dorm_loneliness_t1          : num  1.84 1.68 1.86 1.78 1.8 ...\n",
      " $ dorm_stress_t1              : num  2 1.99 2.25 1.92 2.07 ...\n",
      " $ dorm_BFI_E                  : num  4.53 4.04 3.88 4.44 4.66 ...\n",
      " $ dorm_BFI_A                  : num  4.98 5.2 4.62 4.9 4.94 ...\n",
      " $ dorm_BFI_O                  : num  5.38 5.42 5.38 5.26 5.41 ...\n",
      " $ dorm_BFI_N                  : num  3.33 2.91 3.54 2.92 3.27 ...\n",
      " $ dorm_BFI_C                  : num  5.67 5.55 5 5.71 5.69 ...\n",
      " $ dorm_intl_student           : num  0.1724 0.1316 0.0833 0.0278 0.1509 ...\n",
      " $ dorm_family_income          : num  116207 143514 129091 141429 138235 ...\n",
      " $ dorm_life_satisfaction_t2   : num  4.93 5.24 4.43 5.27 4.91 ...\n",
      " $ dorm_loneliness_t2          : num  2.03 1.73 2 1.86 1.82 ...\n",
      " $ dorm_stress_t2              : num  1.95 2 1.96 1.92 2.19 ...\n",
      " $ dorm_edges_in               : num  5.21 4.39 2.33 4.78 5.76 ...\n",
      " $ dorm_edges_out              : num  10.93 8.16 6.83 10 8.96 ...\n",
      " $ dorm_edges_reciprocal       : num  3.38 2.47 1.5 2.72 3.3 ...\n",
      " $ dorm_edges_unique           : num  12.76 10.08 7.67 12.06 11.43 ...\n",
      " $ dorm_n_dormmates            : num  29 38 12 36 54 54 41 36 29 38 ...\n",
      " $ network_life_satisfaction_t1: num  4.92 5.06 4.67 5.4 5.48 ...\n",
      " $ network_empathy             : num  5.94 6.35 5.25 5.95 5.8 ...\n",
      " $ network_loneliness_t1       : num  2.17 1.44 1 1.73 1.6 ...\n",
      " $ network_stress_t1           : num  2.5 2 1.5 2.4 2.25 ...\n",
      " $ network_BFI_E               : num  6.75 5.25 2.5 4.4 5.25 ...\n",
      " $ network_BFI_A               : num  4.75 5.42 5.5 5.4 4.35 ...\n",
      " $ network_BFI_O               : num  5.75 5.5 3.5 5.1 5.65 ...\n",
      " $ network_BFI_N               : num  4.5 2.83 1.5 3.1 3.75 ...\n",
      " $ network_BFI_C               : num  5 5.17 4 5.7 5.55 ...\n",
      " $ network_intl_student        : num  0 0.167 0 0 0.2 ...\n",
      " $ network_family_income       : num  175000 91667 90000 130000 161000 ...\n",
      " $ network_life_satisfaction_t2: num  5.75 4.83 4.67 4.87 5.13 ...\n",
      " $ network_loneliness_t2       : num  2.33 1.44 1 2.13 1.97 ...\n",
      " $ network_stress_t2           : num  1.75 2.25 1.5 2.2 2.2 ...\n",
      " $ network_n_networkmates      : num  2 6 1 5 10 4 3 4 5 9 ...\n"
     ]
    }
   ],
   "source": [
    "str(df)"
   ]
  },
  {
   "cell_type": "markdown",
   "metadata": {},
   "source": [
    "## Cleaning - drop rows we don't want"
   ]
  },
  {
   "cell_type": "markdown",
   "metadata": {},
   "source": [
    "### Drop people who made no network nominations"
   ]
  },
  {
   "cell_type": "code",
   "execution_count": 6,
   "metadata": {},
   "outputs": [],
   "source": [
    "# print(dim(df))\n",
    "# df = df[df$edges_out != 0,]\n",
    "# print(dim(df))"
   ]
  },
  {
   "cell_type": "markdown",
   "metadata": {},
   "source": [
    "### Drop people with fewer than 3 network connections (in or out) as we don't trust the averages of their network's traits"
   ]
  },
  {
   "cell_type": "code",
   "execution_count": 7,
   "metadata": {},
   "outputs": [],
   "source": [
    "# table(df$edges_unique)"
   ]
  },
  {
   "cell_type": "code",
   "execution_count": 8,
   "metadata": {},
   "outputs": [],
   "source": [
    "# print(dim(df))\n",
    "# df = df[df$edges_unique >= 3,]\n",
    "# print(dim(df))"
   ]
  },
  {
   "cell_type": "markdown",
   "metadata": {},
   "source": [
    "### Drop the rows with missing values (~20%)"
   ]
  },
  {
   "cell_type": "code",
   "execution_count": 9,
   "metadata": {},
   "outputs": [
    {
     "data": {
      "text/html": [
       "<table>\n",
       "<caption>A matrix: 20 × 58 of type dbl</caption>\n",
       "<thead>\n",
       "\t<tr><th></th><th scope=col>PID</th><th scope=col>dorm</th><th scope=col>life_satisfaction_t1</th><th scope=col>empathy</th><th scope=col>loneliness_t1</th><th scope=col>stress_t1</th><th scope=col>BFI_E</th><th scope=col>BFI_A</th><th scope=col>BFI_O</th><th scope=col>BFI_N</th><th scope=col>BFI_C</th><th scope=col>edges_in</th><th scope=col>edges_out</th><th scope=col>edges_reciprocal</th><th scope=col>edges_unique</th><th scope=col>dorm_life_satisfaction_t1</th><th scope=col>dorm_empathy</th><th scope=col>dorm_loneliness_t1</th><th scope=col>dorm_stress_t1</th><th scope=col>dorm_BFI_E</th><th scope=col>dorm_BFI_A</th><th scope=col>dorm_BFI_O</th><th scope=col>dorm_BFI_N</th><th scope=col>dorm_BFI_C</th><th scope=col>dorm_intl_student</th><th scope=col>dorm_family_income</th><th scope=col>dorm_life_satisfaction_t2</th><th scope=col>dorm_loneliness_t2</th><th scope=col>dorm_stress_t2</th><th scope=col>dorm_edges_in</th><th scope=col>dorm_edges_out</th><th scope=col>dorm_edges_reciprocal</th><th scope=col>dorm_edges_unique</th><th scope=col>dorm_n_dormmates</th><th scope=col>life_satisfaction_t2</th><th scope=col>loneliness_t2</th><th scope=col>stress_t2</th><th scope=col>intl_student</th><th scope=col>gender</th><th scope=col>parent_education_highest</th><th scope=col>network_n_networkmates</th><th scope=col>family_income</th><th scope=col>network_life_satisfaction_t1</th><th scope=col>network_empathy</th><th scope=col>network_loneliness_t1</th><th scope=col>network_stress_t1</th><th scope=col>network_BFI_E</th><th scope=col>network_BFI_A</th><th scope=col>network_BFI_O</th><th scope=col>network_BFI_N</th><th scope=col>network_BFI_C</th><th scope=col>network_intl_student</th><th scope=col>network_family_income</th><th scope=col>network_life_satisfaction_t2</th><th scope=col>network_loneliness_t2</th><th scope=col>network_stress_t2</th><th scope=col>race</th><th scope=col></th></tr>\n",
       "</thead>\n",
       "<tbody>\n",
       "\t<tr><th scope=row>446</th><td>1</td><td>1</td><td>1</td><td>1</td><td>1</td><td>1</td><td>1</td><td>1</td><td>1</td><td>1</td><td>1</td><td>1</td><td>1</td><td>1</td><td>1</td><td>1</td><td>1</td><td>1</td><td>1</td><td>1</td><td>1</td><td>1</td><td>1</td><td>1</td><td>1</td><td>1</td><td>1</td><td>1</td><td>1</td><td>1</td><td>1</td><td>1</td><td>1</td><td>1</td><td>1</td><td>1</td><td>1</td><td>1</td><td>1</td><td> 1</td><td> 1</td><td> 1</td><td> 1</td><td> 1</td><td> 1</td><td> 1</td><td> 1</td><td> 1</td><td> 1</td><td> 1</td><td> 1</td><td> 1</td><td> 1</td><td> 1</td><td> 1</td><td> 1</td><td> 1</td><td>  0</td></tr>\n",
       "\t<tr><th scope=row>49</th><td>1</td><td>1</td><td>1</td><td>1</td><td>1</td><td>1</td><td>1</td><td>1</td><td>1</td><td>1</td><td>1</td><td>1</td><td>1</td><td>1</td><td>1</td><td>1</td><td>1</td><td>1</td><td>1</td><td>1</td><td>1</td><td>1</td><td>1</td><td>1</td><td>1</td><td>1</td><td>1</td><td>1</td><td>1</td><td>1</td><td>1</td><td>1</td><td>1</td><td>1</td><td>1</td><td>1</td><td>1</td><td>1</td><td>1</td><td> 1</td><td> 1</td><td> 1</td><td> 1</td><td> 1</td><td> 1</td><td> 1</td><td> 1</td><td> 1</td><td> 1</td><td> 1</td><td> 1</td><td> 1</td><td> 1</td><td> 1</td><td> 1</td><td> 1</td><td> 0</td><td>  1</td></tr>\n",
       "\t<tr><th scope=row>10</th><td>1</td><td>1</td><td>1</td><td>1</td><td>1</td><td>1</td><td>1</td><td>1</td><td>1</td><td>1</td><td>1</td><td>1</td><td>1</td><td>1</td><td>1</td><td>1</td><td>1</td><td>1</td><td>1</td><td>1</td><td>1</td><td>1</td><td>1</td><td>1</td><td>1</td><td>1</td><td>1</td><td>1</td><td>1</td><td>1</td><td>1</td><td>1</td><td>1</td><td>1</td><td>1</td><td>1</td><td>1</td><td>1</td><td>1</td><td> 1</td><td> 1</td><td> 1</td><td> 0</td><td> 0</td><td> 0</td><td> 0</td><td> 0</td><td> 0</td><td> 0</td><td> 0</td><td> 0</td><td> 0</td><td> 0</td><td> 0</td><td> 0</td><td> 0</td><td> 1</td><td> 14</td></tr>\n",
       "\t<tr><th scope=row>1</th><td>1</td><td>1</td><td>1</td><td>1</td><td>1</td><td>1</td><td>1</td><td>1</td><td>1</td><td>1</td><td>1</td><td>1</td><td>1</td><td>1</td><td>1</td><td>1</td><td>1</td><td>1</td><td>1</td><td>1</td><td>1</td><td>1</td><td>1</td><td>1</td><td>1</td><td>1</td><td>1</td><td>1</td><td>1</td><td>1</td><td>1</td><td>1</td><td>1</td><td>1</td><td>1</td><td>1</td><td>1</td><td>1</td><td>1</td><td> 1</td><td> 1</td><td> 1</td><td> 0</td><td> 0</td><td> 0</td><td> 0</td><td> 0</td><td> 0</td><td> 0</td><td> 0</td><td> 0</td><td> 0</td><td> 0</td><td> 0</td><td> 0</td><td> 0</td><td> 0</td><td> 15</td></tr>\n",
       "\t<tr><th scope=row>12</th><td>1</td><td>1</td><td>1</td><td>1</td><td>1</td><td>1</td><td>1</td><td>1</td><td>1</td><td>1</td><td>1</td><td>1</td><td>1</td><td>1</td><td>1</td><td>1</td><td>1</td><td>1</td><td>1</td><td>1</td><td>1</td><td>1</td><td>1</td><td>1</td><td>1</td><td>1</td><td>1</td><td>1</td><td>1</td><td>1</td><td>1</td><td>1</td><td>1</td><td>1</td><td>1</td><td>1</td><td>1</td><td>1</td><td>1</td><td> 1</td><td> 1</td><td> 0</td><td> 1</td><td> 1</td><td> 1</td><td> 1</td><td> 1</td><td> 1</td><td> 1</td><td> 1</td><td> 1</td><td> 1</td><td> 1</td><td> 1</td><td> 1</td><td> 1</td><td> 1</td><td>  1</td></tr>\n",
       "\t<tr><th scope=row>3</th><td>1</td><td>1</td><td>1</td><td>1</td><td>1</td><td>1</td><td>1</td><td>1</td><td>1</td><td>1</td><td>1</td><td>1</td><td>1</td><td>1</td><td>1</td><td>1</td><td>1</td><td>1</td><td>1</td><td>1</td><td>1</td><td>1</td><td>1</td><td>1</td><td>1</td><td>1</td><td>1</td><td>1</td><td>1</td><td>1</td><td>1</td><td>1</td><td>1</td><td>1</td><td>1</td><td>1</td><td>1</td><td>1</td><td>1</td><td> 1</td><td> 1</td><td> 0</td><td> 1</td><td> 1</td><td> 1</td><td> 1</td><td> 1</td><td> 1</td><td> 1</td><td> 1</td><td> 1</td><td> 1</td><td> 1</td><td> 1</td><td> 1</td><td> 1</td><td> 0</td><td>  2</td></tr>\n",
       "\t<tr><th scope=row>1</th><td>1</td><td>1</td><td>1</td><td>1</td><td>1</td><td>1</td><td>1</td><td>1</td><td>1</td><td>1</td><td>1</td><td>1</td><td>1</td><td>1</td><td>1</td><td>1</td><td>1</td><td>1</td><td>1</td><td>1</td><td>1</td><td>1</td><td>1</td><td>1</td><td>1</td><td>1</td><td>1</td><td>1</td><td>1</td><td>1</td><td>1</td><td>1</td><td>1</td><td>1</td><td>1</td><td>1</td><td>1</td><td>1</td><td>1</td><td> 1</td><td> 1</td><td> 0</td><td> 0</td><td> 0</td><td> 0</td><td> 0</td><td> 0</td><td> 0</td><td> 0</td><td> 0</td><td> 0</td><td> 0</td><td> 0</td><td> 0</td><td> 0</td><td> 0</td><td> 0</td><td> 16</td></tr>\n",
       "\t<tr><th scope=row>13</th><td>1</td><td>1</td><td>1</td><td>1</td><td>1</td><td>1</td><td>1</td><td>1</td><td>1</td><td>1</td><td>1</td><td>1</td><td>1</td><td>1</td><td>1</td><td>1</td><td>1</td><td>1</td><td>1</td><td>1</td><td>1</td><td>1</td><td>1</td><td>1</td><td>1</td><td>1</td><td>1</td><td>1</td><td>1</td><td>1</td><td>1</td><td>1</td><td>1</td><td>1</td><td>1</td><td>1</td><td>1</td><td>1</td><td>1</td><td> 1</td><td> 0</td><td> 1</td><td> 0</td><td> 0</td><td> 0</td><td> 0</td><td> 0</td><td> 0</td><td> 0</td><td> 0</td><td> 0</td><td> 0</td><td> 0</td><td> 0</td><td> 0</td><td> 0</td><td> 1</td><td> 15</td></tr>\n",
       "\t<tr><th scope=row>3</th><td>1</td><td>1</td><td>1</td><td>1</td><td>1</td><td>1</td><td>1</td><td>1</td><td>1</td><td>1</td><td>1</td><td>1</td><td>1</td><td>1</td><td>1</td><td>1</td><td>1</td><td>1</td><td>1</td><td>1</td><td>1</td><td>1</td><td>1</td><td>1</td><td>1</td><td>1</td><td>1</td><td>1</td><td>1</td><td>1</td><td>1</td><td>1</td><td>1</td><td>1</td><td>1</td><td>1</td><td>1</td><td>1</td><td>1</td><td> 1</td><td> 0</td><td> 1</td><td> 0</td><td> 0</td><td> 0</td><td> 0</td><td> 0</td><td> 0</td><td> 0</td><td> 0</td><td> 0</td><td> 0</td><td> 0</td><td> 0</td><td> 0</td><td> 0</td><td> 0</td><td> 16</td></tr>\n",
       "\t<tr><th scope=row>11</th><td>1</td><td>1</td><td>1</td><td>1</td><td>1</td><td>1</td><td>1</td><td>1</td><td>1</td><td>1</td><td>1</td><td>1</td><td>1</td><td>1</td><td>1</td><td>1</td><td>1</td><td>1</td><td>1</td><td>1</td><td>1</td><td>1</td><td>1</td><td>1</td><td>1</td><td>1</td><td>1</td><td>1</td><td>1</td><td>1</td><td>1</td><td>1</td><td>1</td><td>1</td><td>1</td><td>1</td><td>1</td><td>1</td><td>1</td><td> 0</td><td> 1</td><td> 1</td><td> 1</td><td> 1</td><td> 1</td><td> 1</td><td> 1</td><td> 1</td><td> 1</td><td> 1</td><td> 1</td><td> 1</td><td> 1</td><td> 1</td><td> 1</td><td> 1</td><td> 1</td><td>  1</td></tr>\n",
       "\t<tr><th scope=row>1</th><td>1</td><td>1</td><td>1</td><td>1</td><td>1</td><td>1</td><td>1</td><td>1</td><td>1</td><td>1</td><td>1</td><td>1</td><td>1</td><td>1</td><td>1</td><td>1</td><td>1</td><td>1</td><td>1</td><td>1</td><td>1</td><td>1</td><td>1</td><td>1</td><td>1</td><td>1</td><td>1</td><td>1</td><td>1</td><td>1</td><td>1</td><td>1</td><td>1</td><td>1</td><td>1</td><td>1</td><td>1</td><td>1</td><td>1</td><td> 0</td><td> 1</td><td> 1</td><td> 1</td><td> 1</td><td> 1</td><td> 1</td><td> 1</td><td> 1</td><td> 1</td><td> 1</td><td> 1</td><td> 1</td><td> 1</td><td> 1</td><td> 1</td><td> 1</td><td> 0</td><td>  2</td></tr>\n",
       "\t<tr><th scope=row>1</th><td>1</td><td>1</td><td>1</td><td>1</td><td>1</td><td>1</td><td>1</td><td>1</td><td>1</td><td>1</td><td>1</td><td>1</td><td>1</td><td>1</td><td>1</td><td>1</td><td>1</td><td>1</td><td>1</td><td>1</td><td>1</td><td>1</td><td>1</td><td>1</td><td>1</td><td>1</td><td>1</td><td>1</td><td>1</td><td>1</td><td>1</td><td>1</td><td>1</td><td>1</td><td>1</td><td>1</td><td>1</td><td>1</td><td>1</td><td> 0</td><td> 1</td><td> 1</td><td> 0</td><td> 0</td><td> 0</td><td> 0</td><td> 0</td><td> 0</td><td> 0</td><td> 0</td><td> 0</td><td> 0</td><td> 0</td><td> 0</td><td> 0</td><td> 0</td><td> 1</td><td> 15</td></tr>\n",
       "\t<tr><th scope=row>3</th><td>1</td><td>1</td><td>1</td><td>1</td><td>1</td><td>1</td><td>1</td><td>1</td><td>1</td><td>1</td><td>1</td><td>1</td><td>1</td><td>1</td><td>1</td><td>1</td><td>1</td><td>1</td><td>1</td><td>1</td><td>1</td><td>1</td><td>1</td><td>1</td><td>1</td><td>1</td><td>1</td><td>1</td><td>1</td><td>1</td><td>1</td><td>1</td><td>1</td><td>1</td><td>1</td><td>1</td><td>1</td><td>1</td><td>0</td><td> 1</td><td> 1</td><td> 1</td><td> 1</td><td> 1</td><td> 1</td><td> 1</td><td> 1</td><td> 1</td><td> 1</td><td> 1</td><td> 1</td><td> 1</td><td> 1</td><td> 1</td><td> 1</td><td> 1</td><td> 1</td><td>  1</td></tr>\n",
       "\t<tr><th scope=row>1</th><td>1</td><td>1</td><td>1</td><td>1</td><td>1</td><td>1</td><td>1</td><td>1</td><td>1</td><td>1</td><td>1</td><td>1</td><td>1</td><td>1</td><td>1</td><td>1</td><td>1</td><td>1</td><td>1</td><td>1</td><td>1</td><td>1</td><td>1</td><td>1</td><td>1</td><td>1</td><td>1</td><td>1</td><td>1</td><td>1</td><td>1</td><td>1</td><td>1</td><td>1</td><td>1</td><td>1</td><td>1</td><td>1</td><td>0</td><td> 1</td><td> 1</td><td> 1</td><td> 1</td><td> 1</td><td> 1</td><td> 1</td><td> 1</td><td> 1</td><td> 1</td><td> 1</td><td> 1</td><td> 1</td><td> 1</td><td> 1</td><td> 1</td><td> 1</td><td> 0</td><td>  2</td></tr>\n",
       "\t<tr><th scope=row>1</th><td>1</td><td>1</td><td>1</td><td>1</td><td>1</td><td>1</td><td>1</td><td>1</td><td>1</td><td>1</td><td>1</td><td>1</td><td>1</td><td>1</td><td>1</td><td>1</td><td>1</td><td>1</td><td>1</td><td>1</td><td>1</td><td>1</td><td>1</td><td>1</td><td>1</td><td>1</td><td>1</td><td>1</td><td>1</td><td>1</td><td>1</td><td>1</td><td>1</td><td>1</td><td>1</td><td>1</td><td>1</td><td>1</td><td>0</td><td> 1</td><td> 1</td><td> 1</td><td> 0</td><td> 0</td><td> 0</td><td> 0</td><td> 0</td><td> 0</td><td> 0</td><td> 0</td><td> 0</td><td> 0</td><td> 0</td><td> 0</td><td> 0</td><td> 0</td><td> 1</td><td> 15</td></tr>\n",
       "\t<tr><th scope=row>1</th><td>1</td><td>1</td><td>1</td><td>1</td><td>1</td><td>1</td><td>1</td><td>1</td><td>1</td><td>1</td><td>1</td><td>1</td><td>1</td><td>1</td><td>1</td><td>1</td><td>1</td><td>1</td><td>1</td><td>1</td><td>1</td><td>1</td><td>1</td><td>1</td><td>1</td><td>1</td><td>1</td><td>1</td><td>1</td><td>1</td><td>1</td><td>1</td><td>1</td><td>1</td><td>1</td><td>1</td><td>1</td><td>0</td><td>1</td><td> 0</td><td> 1</td><td> 0</td><td> 1</td><td> 1</td><td> 1</td><td> 1</td><td> 1</td><td> 1</td><td> 1</td><td> 1</td><td> 1</td><td> 1</td><td> 1</td><td> 1</td><td> 1</td><td> 1</td><td> 1</td><td>  3</td></tr>\n",
       "\t<tr><th scope=row>1</th><td>1</td><td>1</td><td>1</td><td>1</td><td>1</td><td>1</td><td>1</td><td>1</td><td>1</td><td>1</td><td>1</td><td>1</td><td>1</td><td>1</td><td>1</td><td>1</td><td>1</td><td>1</td><td>1</td><td>1</td><td>1</td><td>1</td><td>1</td><td>1</td><td>1</td><td>1</td><td>1</td><td>1</td><td>1</td><td>1</td><td>1</td><td>1</td><td>1</td><td>1</td><td>1</td><td>0</td><td>0</td><td>1</td><td>1</td><td> 1</td><td> 1</td><td> 0</td><td> 1</td><td> 1</td><td> 1</td><td> 1</td><td> 1</td><td> 1</td><td> 1</td><td> 1</td><td> 1</td><td> 1</td><td> 1</td><td> 1</td><td> 1</td><td> 1</td><td> 1</td><td>  3</td></tr>\n",
       "\t<tr><th scope=row>1</th><td>1</td><td>1</td><td>1</td><td>1</td><td>1</td><td>1</td><td>1</td><td>1</td><td>1</td><td>1</td><td>1</td><td>1</td><td>1</td><td>1</td><td>1</td><td>1</td><td>1</td><td>1</td><td>1</td><td>1</td><td>1</td><td>1</td><td>1</td><td>1</td><td>1</td><td>1</td><td>1</td><td>1</td><td>1</td><td>1</td><td>1</td><td>1</td><td>1</td><td>1</td><td>1</td><td>0</td><td>0</td><td>0</td><td>1</td><td> 0</td><td> 1</td><td> 0</td><td> 1</td><td> 1</td><td> 1</td><td> 1</td><td> 1</td><td> 1</td><td> 1</td><td> 1</td><td> 1</td><td> 1</td><td> 1</td><td> 1</td><td> 1</td><td> 1</td><td> 1</td><td>  5</td></tr>\n",
       "\t<tr><th scope=row>1</th><td>1</td><td>1</td><td>1</td><td>1</td><td>1</td><td>1</td><td>1</td><td>1</td><td>1</td><td>1</td><td>1</td><td>1</td><td>1</td><td>1</td><td>1</td><td>1</td><td>1</td><td>1</td><td>1</td><td>1</td><td>1</td><td>1</td><td>1</td><td>1</td><td>1</td><td>1</td><td>1</td><td>1</td><td>1</td><td>1</td><td>1</td><td>1</td><td>1</td><td>1</td><td>0</td><td>1</td><td>1</td><td>0</td><td>1</td><td> 0</td><td> 1</td><td> 0</td><td> 1</td><td> 1</td><td> 1</td><td> 1</td><td> 1</td><td> 1</td><td> 1</td><td> 1</td><td> 1</td><td> 1</td><td> 1</td><td> 1</td><td> 1</td><td> 1</td><td> 1</td><td>  4</td></tr>\n",
       "\t<tr><th scope=row></th><td>0</td><td>0</td><td>0</td><td>0</td><td>0</td><td>0</td><td>0</td><td>0</td><td>0</td><td>0</td><td>0</td><td>0</td><td>0</td><td>0</td><td>0</td><td>0</td><td>0</td><td>0</td><td>0</td><td>0</td><td>0</td><td>0</td><td>0</td><td>0</td><td>0</td><td>0</td><td>0</td><td>0</td><td>0</td><td>0</td><td>0</td><td>0</td><td>0</td><td>0</td><td>1</td><td>2</td><td>2</td><td>3</td><td>5</td><td>16</td><td>16</td><td>20</td><td>30</td><td>30</td><td>30</td><td>30</td><td>30</td><td>30</td><td>30</td><td>30</td><td>30</td><td>30</td><td>30</td><td>30</td><td>30</td><td>30</td><td>59</td><td>544</td></tr>\n",
       "</tbody>\n",
       "</table>\n"
      ],
      "text/latex": [
       "A matrix: 20 × 58 of type dbl\n",
       "\\begin{tabular}{r|llllllllllllllllllllllllllllllllllllllllllllllllllllllllll}\n",
       "  & PID & dorm & life\\_satisfaction\\_t1 & empathy & loneliness\\_t1 & stress\\_t1 & BFI\\_E & BFI\\_A & BFI\\_O & BFI\\_N & BFI\\_C & edges\\_in & edges\\_out & edges\\_reciprocal & edges\\_unique & dorm\\_life\\_satisfaction\\_t1 & dorm\\_empathy & dorm\\_loneliness\\_t1 & dorm\\_stress\\_t1 & dorm\\_BFI\\_E & dorm\\_BFI\\_A & dorm\\_BFI\\_O & dorm\\_BFI\\_N & dorm\\_BFI\\_C & dorm\\_intl\\_student & dorm\\_family\\_income & dorm\\_life\\_satisfaction\\_t2 & dorm\\_loneliness\\_t2 & dorm\\_stress\\_t2 & dorm\\_edges\\_in & dorm\\_edges\\_out & dorm\\_edges\\_reciprocal & dorm\\_edges\\_unique & dorm\\_n\\_dormmates & life\\_satisfaction\\_t2 & loneliness\\_t2 & stress\\_t2 & intl\\_student & gender & parent\\_education\\_highest & network\\_n\\_networkmates & family\\_income & network\\_life\\_satisfaction\\_t1 & network\\_empathy & network\\_loneliness\\_t1 & network\\_stress\\_t1 & network\\_BFI\\_E & network\\_BFI\\_A & network\\_BFI\\_O & network\\_BFI\\_N & network\\_BFI\\_C & network\\_intl\\_student & network\\_family\\_income & network\\_life\\_satisfaction\\_t2 & network\\_loneliness\\_t2 & network\\_stress\\_t2 & race & \\\\\n",
       "\\hline\n",
       "\t446 & 1 & 1 & 1 & 1 & 1 & 1 & 1 & 1 & 1 & 1 & 1 & 1 & 1 & 1 & 1 & 1 & 1 & 1 & 1 & 1 & 1 & 1 & 1 & 1 & 1 & 1 & 1 & 1 & 1 & 1 & 1 & 1 & 1 & 1 & 1 & 1 & 1 & 1 & 1 &  1 &  1 &  1 &  1 &  1 &  1 &  1 &  1 &  1 &  1 &  1 &  1 &  1 &  1 &  1 &  1 &  1 &  1 &   0\\\\\n",
       "\t49 & 1 & 1 & 1 & 1 & 1 & 1 & 1 & 1 & 1 & 1 & 1 & 1 & 1 & 1 & 1 & 1 & 1 & 1 & 1 & 1 & 1 & 1 & 1 & 1 & 1 & 1 & 1 & 1 & 1 & 1 & 1 & 1 & 1 & 1 & 1 & 1 & 1 & 1 & 1 &  1 &  1 &  1 &  1 &  1 &  1 &  1 &  1 &  1 &  1 &  1 &  1 &  1 &  1 &  1 &  1 &  1 &  0 &   1\\\\\n",
       "\t10 & 1 & 1 & 1 & 1 & 1 & 1 & 1 & 1 & 1 & 1 & 1 & 1 & 1 & 1 & 1 & 1 & 1 & 1 & 1 & 1 & 1 & 1 & 1 & 1 & 1 & 1 & 1 & 1 & 1 & 1 & 1 & 1 & 1 & 1 & 1 & 1 & 1 & 1 & 1 &  1 &  1 &  1 &  0 &  0 &  0 &  0 &  0 &  0 &  0 &  0 &  0 &  0 &  0 &  0 &  0 &  0 &  1 &  14\\\\\n",
       "\t1 & 1 & 1 & 1 & 1 & 1 & 1 & 1 & 1 & 1 & 1 & 1 & 1 & 1 & 1 & 1 & 1 & 1 & 1 & 1 & 1 & 1 & 1 & 1 & 1 & 1 & 1 & 1 & 1 & 1 & 1 & 1 & 1 & 1 & 1 & 1 & 1 & 1 & 1 & 1 &  1 &  1 &  1 &  0 &  0 &  0 &  0 &  0 &  0 &  0 &  0 &  0 &  0 &  0 &  0 &  0 &  0 &  0 &  15\\\\\n",
       "\t12 & 1 & 1 & 1 & 1 & 1 & 1 & 1 & 1 & 1 & 1 & 1 & 1 & 1 & 1 & 1 & 1 & 1 & 1 & 1 & 1 & 1 & 1 & 1 & 1 & 1 & 1 & 1 & 1 & 1 & 1 & 1 & 1 & 1 & 1 & 1 & 1 & 1 & 1 & 1 &  1 &  1 &  0 &  1 &  1 &  1 &  1 &  1 &  1 &  1 &  1 &  1 &  1 &  1 &  1 &  1 &  1 &  1 &   1\\\\\n",
       "\t3 & 1 & 1 & 1 & 1 & 1 & 1 & 1 & 1 & 1 & 1 & 1 & 1 & 1 & 1 & 1 & 1 & 1 & 1 & 1 & 1 & 1 & 1 & 1 & 1 & 1 & 1 & 1 & 1 & 1 & 1 & 1 & 1 & 1 & 1 & 1 & 1 & 1 & 1 & 1 &  1 &  1 &  0 &  1 &  1 &  1 &  1 &  1 &  1 &  1 &  1 &  1 &  1 &  1 &  1 &  1 &  1 &  0 &   2\\\\\n",
       "\t1 & 1 & 1 & 1 & 1 & 1 & 1 & 1 & 1 & 1 & 1 & 1 & 1 & 1 & 1 & 1 & 1 & 1 & 1 & 1 & 1 & 1 & 1 & 1 & 1 & 1 & 1 & 1 & 1 & 1 & 1 & 1 & 1 & 1 & 1 & 1 & 1 & 1 & 1 & 1 &  1 &  1 &  0 &  0 &  0 &  0 &  0 &  0 &  0 &  0 &  0 &  0 &  0 &  0 &  0 &  0 &  0 &  0 &  16\\\\\n",
       "\t13 & 1 & 1 & 1 & 1 & 1 & 1 & 1 & 1 & 1 & 1 & 1 & 1 & 1 & 1 & 1 & 1 & 1 & 1 & 1 & 1 & 1 & 1 & 1 & 1 & 1 & 1 & 1 & 1 & 1 & 1 & 1 & 1 & 1 & 1 & 1 & 1 & 1 & 1 & 1 &  1 &  0 &  1 &  0 &  0 &  0 &  0 &  0 &  0 &  0 &  0 &  0 &  0 &  0 &  0 &  0 &  0 &  1 &  15\\\\\n",
       "\t3 & 1 & 1 & 1 & 1 & 1 & 1 & 1 & 1 & 1 & 1 & 1 & 1 & 1 & 1 & 1 & 1 & 1 & 1 & 1 & 1 & 1 & 1 & 1 & 1 & 1 & 1 & 1 & 1 & 1 & 1 & 1 & 1 & 1 & 1 & 1 & 1 & 1 & 1 & 1 &  1 &  0 &  1 &  0 &  0 &  0 &  0 &  0 &  0 &  0 &  0 &  0 &  0 &  0 &  0 &  0 &  0 &  0 &  16\\\\\n",
       "\t11 & 1 & 1 & 1 & 1 & 1 & 1 & 1 & 1 & 1 & 1 & 1 & 1 & 1 & 1 & 1 & 1 & 1 & 1 & 1 & 1 & 1 & 1 & 1 & 1 & 1 & 1 & 1 & 1 & 1 & 1 & 1 & 1 & 1 & 1 & 1 & 1 & 1 & 1 & 1 &  0 &  1 &  1 &  1 &  1 &  1 &  1 &  1 &  1 &  1 &  1 &  1 &  1 &  1 &  1 &  1 &  1 &  1 &   1\\\\\n",
       "\t1 & 1 & 1 & 1 & 1 & 1 & 1 & 1 & 1 & 1 & 1 & 1 & 1 & 1 & 1 & 1 & 1 & 1 & 1 & 1 & 1 & 1 & 1 & 1 & 1 & 1 & 1 & 1 & 1 & 1 & 1 & 1 & 1 & 1 & 1 & 1 & 1 & 1 & 1 & 1 &  0 &  1 &  1 &  1 &  1 &  1 &  1 &  1 &  1 &  1 &  1 &  1 &  1 &  1 &  1 &  1 &  1 &  0 &   2\\\\\n",
       "\t1 & 1 & 1 & 1 & 1 & 1 & 1 & 1 & 1 & 1 & 1 & 1 & 1 & 1 & 1 & 1 & 1 & 1 & 1 & 1 & 1 & 1 & 1 & 1 & 1 & 1 & 1 & 1 & 1 & 1 & 1 & 1 & 1 & 1 & 1 & 1 & 1 & 1 & 1 & 1 &  0 &  1 &  1 &  0 &  0 &  0 &  0 &  0 &  0 &  0 &  0 &  0 &  0 &  0 &  0 &  0 &  0 &  1 &  15\\\\\n",
       "\t3 & 1 & 1 & 1 & 1 & 1 & 1 & 1 & 1 & 1 & 1 & 1 & 1 & 1 & 1 & 1 & 1 & 1 & 1 & 1 & 1 & 1 & 1 & 1 & 1 & 1 & 1 & 1 & 1 & 1 & 1 & 1 & 1 & 1 & 1 & 1 & 1 & 1 & 1 & 0 &  1 &  1 &  1 &  1 &  1 &  1 &  1 &  1 &  1 &  1 &  1 &  1 &  1 &  1 &  1 &  1 &  1 &  1 &   1\\\\\n",
       "\t1 & 1 & 1 & 1 & 1 & 1 & 1 & 1 & 1 & 1 & 1 & 1 & 1 & 1 & 1 & 1 & 1 & 1 & 1 & 1 & 1 & 1 & 1 & 1 & 1 & 1 & 1 & 1 & 1 & 1 & 1 & 1 & 1 & 1 & 1 & 1 & 1 & 1 & 1 & 0 &  1 &  1 &  1 &  1 &  1 &  1 &  1 &  1 &  1 &  1 &  1 &  1 &  1 &  1 &  1 &  1 &  1 &  0 &   2\\\\\n",
       "\t1 & 1 & 1 & 1 & 1 & 1 & 1 & 1 & 1 & 1 & 1 & 1 & 1 & 1 & 1 & 1 & 1 & 1 & 1 & 1 & 1 & 1 & 1 & 1 & 1 & 1 & 1 & 1 & 1 & 1 & 1 & 1 & 1 & 1 & 1 & 1 & 1 & 1 & 1 & 0 &  1 &  1 &  1 &  0 &  0 &  0 &  0 &  0 &  0 &  0 &  0 &  0 &  0 &  0 &  0 &  0 &  0 &  1 &  15\\\\\n",
       "\t1 & 1 & 1 & 1 & 1 & 1 & 1 & 1 & 1 & 1 & 1 & 1 & 1 & 1 & 1 & 1 & 1 & 1 & 1 & 1 & 1 & 1 & 1 & 1 & 1 & 1 & 1 & 1 & 1 & 1 & 1 & 1 & 1 & 1 & 1 & 1 & 1 & 1 & 0 & 1 &  0 &  1 &  0 &  1 &  1 &  1 &  1 &  1 &  1 &  1 &  1 &  1 &  1 &  1 &  1 &  1 &  1 &  1 &   3\\\\\n",
       "\t1 & 1 & 1 & 1 & 1 & 1 & 1 & 1 & 1 & 1 & 1 & 1 & 1 & 1 & 1 & 1 & 1 & 1 & 1 & 1 & 1 & 1 & 1 & 1 & 1 & 1 & 1 & 1 & 1 & 1 & 1 & 1 & 1 & 1 & 1 & 1 & 0 & 0 & 1 & 1 &  1 &  1 &  0 &  1 &  1 &  1 &  1 &  1 &  1 &  1 &  1 &  1 &  1 &  1 &  1 &  1 &  1 &  1 &   3\\\\\n",
       "\t1 & 1 & 1 & 1 & 1 & 1 & 1 & 1 & 1 & 1 & 1 & 1 & 1 & 1 & 1 & 1 & 1 & 1 & 1 & 1 & 1 & 1 & 1 & 1 & 1 & 1 & 1 & 1 & 1 & 1 & 1 & 1 & 1 & 1 & 1 & 1 & 0 & 0 & 0 & 1 &  0 &  1 &  0 &  1 &  1 &  1 &  1 &  1 &  1 &  1 &  1 &  1 &  1 &  1 &  1 &  1 &  1 &  1 &   5\\\\\n",
       "\t1 & 1 & 1 & 1 & 1 & 1 & 1 & 1 & 1 & 1 & 1 & 1 & 1 & 1 & 1 & 1 & 1 & 1 & 1 & 1 & 1 & 1 & 1 & 1 & 1 & 1 & 1 & 1 & 1 & 1 & 1 & 1 & 1 & 1 & 1 & 0 & 1 & 1 & 0 & 1 &  0 &  1 &  0 &  1 &  1 &  1 &  1 &  1 &  1 &  1 &  1 &  1 &  1 &  1 &  1 &  1 &  1 &  1 &   4\\\\\n",
       "\t & 0 & 0 & 0 & 0 & 0 & 0 & 0 & 0 & 0 & 0 & 0 & 0 & 0 & 0 & 0 & 0 & 0 & 0 & 0 & 0 & 0 & 0 & 0 & 0 & 0 & 0 & 0 & 0 & 0 & 0 & 0 & 0 & 0 & 0 & 1 & 2 & 2 & 3 & 5 & 16 & 16 & 20 & 30 & 30 & 30 & 30 & 30 & 30 & 30 & 30 & 30 & 30 & 30 & 30 & 30 & 30 & 59 & 544\\\\\n",
       "\\end{tabular}\n"
      ],
      "text/markdown": [
       "\n",
       "A matrix: 20 × 58 of type dbl\n",
       "\n",
       "| <!--/--> | PID | dorm | life_satisfaction_t1 | empathy | loneliness_t1 | stress_t1 | BFI_E | BFI_A | BFI_O | BFI_N | BFI_C | edges_in | edges_out | edges_reciprocal | edges_unique | dorm_life_satisfaction_t1 | dorm_empathy | dorm_loneliness_t1 | dorm_stress_t1 | dorm_BFI_E | dorm_BFI_A | dorm_BFI_O | dorm_BFI_N | dorm_BFI_C | dorm_intl_student | dorm_family_income | dorm_life_satisfaction_t2 | dorm_loneliness_t2 | dorm_stress_t2 | dorm_edges_in | dorm_edges_out | dorm_edges_reciprocal | dorm_edges_unique | dorm_n_dormmates | life_satisfaction_t2 | loneliness_t2 | stress_t2 | intl_student | gender | parent_education_highest | network_n_networkmates | family_income | network_life_satisfaction_t1 | network_empathy | network_loneliness_t1 | network_stress_t1 | network_BFI_E | network_BFI_A | network_BFI_O | network_BFI_N | network_BFI_C | network_intl_student | network_family_income | network_life_satisfaction_t2 | network_loneliness_t2 | network_stress_t2 | race | <!----> |\n",
       "|---|---|---|---|---|---|---|---|---|---|---|---|---|---|---|---|---|---|---|---|---|---|---|---|---|---|---|---|---|---|---|---|---|---|---|---|---|---|---|---|---|---|---|---|---|---|---|---|---|---|---|---|---|---|---|---|---|---|---|\n",
       "| 446 | 1 | 1 | 1 | 1 | 1 | 1 | 1 | 1 | 1 | 1 | 1 | 1 | 1 | 1 | 1 | 1 | 1 | 1 | 1 | 1 | 1 | 1 | 1 | 1 | 1 | 1 | 1 | 1 | 1 | 1 | 1 | 1 | 1 | 1 | 1 | 1 | 1 | 1 | 1 |  1 |  1 |  1 |  1 |  1 |  1 |  1 |  1 |  1 |  1 |  1 |  1 |  1 |  1 |  1 |  1 |  1 |  1 |   0 |\n",
       "| 49 | 1 | 1 | 1 | 1 | 1 | 1 | 1 | 1 | 1 | 1 | 1 | 1 | 1 | 1 | 1 | 1 | 1 | 1 | 1 | 1 | 1 | 1 | 1 | 1 | 1 | 1 | 1 | 1 | 1 | 1 | 1 | 1 | 1 | 1 | 1 | 1 | 1 | 1 | 1 |  1 |  1 |  1 |  1 |  1 |  1 |  1 |  1 |  1 |  1 |  1 |  1 |  1 |  1 |  1 |  1 |  1 |  0 |   1 |\n",
       "| 10 | 1 | 1 | 1 | 1 | 1 | 1 | 1 | 1 | 1 | 1 | 1 | 1 | 1 | 1 | 1 | 1 | 1 | 1 | 1 | 1 | 1 | 1 | 1 | 1 | 1 | 1 | 1 | 1 | 1 | 1 | 1 | 1 | 1 | 1 | 1 | 1 | 1 | 1 | 1 |  1 |  1 |  1 |  0 |  0 |  0 |  0 |  0 |  0 |  0 |  0 |  0 |  0 |  0 |  0 |  0 |  0 |  1 |  14 |\n",
       "| 1 | 1 | 1 | 1 | 1 | 1 | 1 | 1 | 1 | 1 | 1 | 1 | 1 | 1 | 1 | 1 | 1 | 1 | 1 | 1 | 1 | 1 | 1 | 1 | 1 | 1 | 1 | 1 | 1 | 1 | 1 | 1 | 1 | 1 | 1 | 1 | 1 | 1 | 1 | 1 |  1 |  1 |  1 |  0 |  0 |  0 |  0 |  0 |  0 |  0 |  0 |  0 |  0 |  0 |  0 |  0 |  0 |  0 |  15 |\n",
       "| 12 | 1 | 1 | 1 | 1 | 1 | 1 | 1 | 1 | 1 | 1 | 1 | 1 | 1 | 1 | 1 | 1 | 1 | 1 | 1 | 1 | 1 | 1 | 1 | 1 | 1 | 1 | 1 | 1 | 1 | 1 | 1 | 1 | 1 | 1 | 1 | 1 | 1 | 1 | 1 |  1 |  1 |  0 |  1 |  1 |  1 |  1 |  1 |  1 |  1 |  1 |  1 |  1 |  1 |  1 |  1 |  1 |  1 |   1 |\n",
       "| 3 | 1 | 1 | 1 | 1 | 1 | 1 | 1 | 1 | 1 | 1 | 1 | 1 | 1 | 1 | 1 | 1 | 1 | 1 | 1 | 1 | 1 | 1 | 1 | 1 | 1 | 1 | 1 | 1 | 1 | 1 | 1 | 1 | 1 | 1 | 1 | 1 | 1 | 1 | 1 |  1 |  1 |  0 |  1 |  1 |  1 |  1 |  1 |  1 |  1 |  1 |  1 |  1 |  1 |  1 |  1 |  1 |  0 |   2 |\n",
       "| 1 | 1 | 1 | 1 | 1 | 1 | 1 | 1 | 1 | 1 | 1 | 1 | 1 | 1 | 1 | 1 | 1 | 1 | 1 | 1 | 1 | 1 | 1 | 1 | 1 | 1 | 1 | 1 | 1 | 1 | 1 | 1 | 1 | 1 | 1 | 1 | 1 | 1 | 1 | 1 |  1 |  1 |  0 |  0 |  0 |  0 |  0 |  0 |  0 |  0 |  0 |  0 |  0 |  0 |  0 |  0 |  0 |  0 |  16 |\n",
       "| 13 | 1 | 1 | 1 | 1 | 1 | 1 | 1 | 1 | 1 | 1 | 1 | 1 | 1 | 1 | 1 | 1 | 1 | 1 | 1 | 1 | 1 | 1 | 1 | 1 | 1 | 1 | 1 | 1 | 1 | 1 | 1 | 1 | 1 | 1 | 1 | 1 | 1 | 1 | 1 |  1 |  0 |  1 |  0 |  0 |  0 |  0 |  0 |  0 |  0 |  0 |  0 |  0 |  0 |  0 |  0 |  0 |  1 |  15 |\n",
       "| 3 | 1 | 1 | 1 | 1 | 1 | 1 | 1 | 1 | 1 | 1 | 1 | 1 | 1 | 1 | 1 | 1 | 1 | 1 | 1 | 1 | 1 | 1 | 1 | 1 | 1 | 1 | 1 | 1 | 1 | 1 | 1 | 1 | 1 | 1 | 1 | 1 | 1 | 1 | 1 |  1 |  0 |  1 |  0 |  0 |  0 |  0 |  0 |  0 |  0 |  0 |  0 |  0 |  0 |  0 |  0 |  0 |  0 |  16 |\n",
       "| 11 | 1 | 1 | 1 | 1 | 1 | 1 | 1 | 1 | 1 | 1 | 1 | 1 | 1 | 1 | 1 | 1 | 1 | 1 | 1 | 1 | 1 | 1 | 1 | 1 | 1 | 1 | 1 | 1 | 1 | 1 | 1 | 1 | 1 | 1 | 1 | 1 | 1 | 1 | 1 |  0 |  1 |  1 |  1 |  1 |  1 |  1 |  1 |  1 |  1 |  1 |  1 |  1 |  1 |  1 |  1 |  1 |  1 |   1 |\n",
       "| 1 | 1 | 1 | 1 | 1 | 1 | 1 | 1 | 1 | 1 | 1 | 1 | 1 | 1 | 1 | 1 | 1 | 1 | 1 | 1 | 1 | 1 | 1 | 1 | 1 | 1 | 1 | 1 | 1 | 1 | 1 | 1 | 1 | 1 | 1 | 1 | 1 | 1 | 1 | 1 |  0 |  1 |  1 |  1 |  1 |  1 |  1 |  1 |  1 |  1 |  1 |  1 |  1 |  1 |  1 |  1 |  1 |  0 |   2 |\n",
       "| 1 | 1 | 1 | 1 | 1 | 1 | 1 | 1 | 1 | 1 | 1 | 1 | 1 | 1 | 1 | 1 | 1 | 1 | 1 | 1 | 1 | 1 | 1 | 1 | 1 | 1 | 1 | 1 | 1 | 1 | 1 | 1 | 1 | 1 | 1 | 1 | 1 | 1 | 1 | 1 |  0 |  1 |  1 |  0 |  0 |  0 |  0 |  0 |  0 |  0 |  0 |  0 |  0 |  0 |  0 |  0 |  0 |  1 |  15 |\n",
       "| 3 | 1 | 1 | 1 | 1 | 1 | 1 | 1 | 1 | 1 | 1 | 1 | 1 | 1 | 1 | 1 | 1 | 1 | 1 | 1 | 1 | 1 | 1 | 1 | 1 | 1 | 1 | 1 | 1 | 1 | 1 | 1 | 1 | 1 | 1 | 1 | 1 | 1 | 1 | 0 |  1 |  1 |  1 |  1 |  1 |  1 |  1 |  1 |  1 |  1 |  1 |  1 |  1 |  1 |  1 |  1 |  1 |  1 |   1 |\n",
       "| 1 | 1 | 1 | 1 | 1 | 1 | 1 | 1 | 1 | 1 | 1 | 1 | 1 | 1 | 1 | 1 | 1 | 1 | 1 | 1 | 1 | 1 | 1 | 1 | 1 | 1 | 1 | 1 | 1 | 1 | 1 | 1 | 1 | 1 | 1 | 1 | 1 | 1 | 1 | 0 |  1 |  1 |  1 |  1 |  1 |  1 |  1 |  1 |  1 |  1 |  1 |  1 |  1 |  1 |  1 |  1 |  1 |  0 |   2 |\n",
       "| 1 | 1 | 1 | 1 | 1 | 1 | 1 | 1 | 1 | 1 | 1 | 1 | 1 | 1 | 1 | 1 | 1 | 1 | 1 | 1 | 1 | 1 | 1 | 1 | 1 | 1 | 1 | 1 | 1 | 1 | 1 | 1 | 1 | 1 | 1 | 1 | 1 | 1 | 1 | 0 |  1 |  1 |  1 |  0 |  0 |  0 |  0 |  0 |  0 |  0 |  0 |  0 |  0 |  0 |  0 |  0 |  0 |  1 |  15 |\n",
       "| 1 | 1 | 1 | 1 | 1 | 1 | 1 | 1 | 1 | 1 | 1 | 1 | 1 | 1 | 1 | 1 | 1 | 1 | 1 | 1 | 1 | 1 | 1 | 1 | 1 | 1 | 1 | 1 | 1 | 1 | 1 | 1 | 1 | 1 | 1 | 1 | 1 | 1 | 0 | 1 |  0 |  1 |  0 |  1 |  1 |  1 |  1 |  1 |  1 |  1 |  1 |  1 |  1 |  1 |  1 |  1 |  1 |  1 |   3 |\n",
       "| 1 | 1 | 1 | 1 | 1 | 1 | 1 | 1 | 1 | 1 | 1 | 1 | 1 | 1 | 1 | 1 | 1 | 1 | 1 | 1 | 1 | 1 | 1 | 1 | 1 | 1 | 1 | 1 | 1 | 1 | 1 | 1 | 1 | 1 | 1 | 1 | 0 | 0 | 1 | 1 |  1 |  1 |  0 |  1 |  1 |  1 |  1 |  1 |  1 |  1 |  1 |  1 |  1 |  1 |  1 |  1 |  1 |  1 |   3 |\n",
       "| 1 | 1 | 1 | 1 | 1 | 1 | 1 | 1 | 1 | 1 | 1 | 1 | 1 | 1 | 1 | 1 | 1 | 1 | 1 | 1 | 1 | 1 | 1 | 1 | 1 | 1 | 1 | 1 | 1 | 1 | 1 | 1 | 1 | 1 | 1 | 1 | 0 | 0 | 0 | 1 |  0 |  1 |  0 |  1 |  1 |  1 |  1 |  1 |  1 |  1 |  1 |  1 |  1 |  1 |  1 |  1 |  1 |  1 |   5 |\n",
       "| 1 | 1 | 1 | 1 | 1 | 1 | 1 | 1 | 1 | 1 | 1 | 1 | 1 | 1 | 1 | 1 | 1 | 1 | 1 | 1 | 1 | 1 | 1 | 1 | 1 | 1 | 1 | 1 | 1 | 1 | 1 | 1 | 1 | 1 | 1 | 0 | 1 | 1 | 0 | 1 |  0 |  1 |  0 |  1 |  1 |  1 |  1 |  1 |  1 |  1 |  1 |  1 |  1 |  1 |  1 |  1 |  1 |  1 |   4 |\n",
       "| <!----> | 0 | 0 | 0 | 0 | 0 | 0 | 0 | 0 | 0 | 0 | 0 | 0 | 0 | 0 | 0 | 0 | 0 | 0 | 0 | 0 | 0 | 0 | 0 | 0 | 0 | 0 | 0 | 0 | 0 | 0 | 0 | 0 | 0 | 0 | 1 | 2 | 2 | 3 | 5 | 16 | 16 | 20 | 30 | 30 | 30 | 30 | 30 | 30 | 30 | 30 | 30 | 30 | 30 | 30 | 30 | 30 | 59 | 544 |\n",
       "\n"
      ],
      "text/plain": [
       "    PID dorm life_satisfaction_t1 empathy loneliness_t1 stress_t1 BFI_E BFI_A\n",
       "446 1   1    1                    1       1             1         1     1    \n",
       "49  1   1    1                    1       1             1         1     1    \n",
       "10  1   1    1                    1       1             1         1     1    \n",
       "1   1   1    1                    1       1             1         1     1    \n",
       "12  1   1    1                    1       1             1         1     1    \n",
       "3   1   1    1                    1       1             1         1     1    \n",
       "1   1   1    1                    1       1             1         1     1    \n",
       "13  1   1    1                    1       1             1         1     1    \n",
       "3   1   1    1                    1       1             1         1     1    \n",
       "11  1   1    1                    1       1             1         1     1    \n",
       "1   1   1    1                    1       1             1         1     1    \n",
       "1   1   1    1                    1       1             1         1     1    \n",
       "3   1   1    1                    1       1             1         1     1    \n",
       "1   1   1    1                    1       1             1         1     1    \n",
       "1   1   1    1                    1       1             1         1     1    \n",
       "1   1   1    1                    1       1             1         1     1    \n",
       "1   1   1    1                    1       1             1         1     1    \n",
       "1   1   1    1                    1       1             1         1     1    \n",
       "1   1   1    1                    1       1             1         1     1    \n",
       "    0   0    0                    0       0             0         0     0    \n",
       "    BFI_O BFI_N BFI_C edges_in edges_out edges_reciprocal edges_unique\n",
       "446 1     1     1     1        1         1                1           \n",
       "49  1     1     1     1        1         1                1           \n",
       "10  1     1     1     1        1         1                1           \n",
       "1   1     1     1     1        1         1                1           \n",
       "12  1     1     1     1        1         1                1           \n",
       "3   1     1     1     1        1         1                1           \n",
       "1   1     1     1     1        1         1                1           \n",
       "13  1     1     1     1        1         1                1           \n",
       "3   1     1     1     1        1         1                1           \n",
       "11  1     1     1     1        1         1                1           \n",
       "1   1     1     1     1        1         1                1           \n",
       "1   1     1     1     1        1         1                1           \n",
       "3   1     1     1     1        1         1                1           \n",
       "1   1     1     1     1        1         1                1           \n",
       "1   1     1     1     1        1         1                1           \n",
       "1   1     1     1     1        1         1                1           \n",
       "1   1     1     1     1        1         1                1           \n",
       "1   1     1     1     1        1         1                1           \n",
       "1   1     1     1     1        1         1                1           \n",
       "    0     0     0     0        0         0                0           \n",
       "    dorm_life_satisfaction_t1 dorm_empathy dorm_loneliness_t1 dorm_stress_t1\n",
       "446 1                         1            1                  1             \n",
       "49  1                         1            1                  1             \n",
       "10  1                         1            1                  1             \n",
       "1   1                         1            1                  1             \n",
       "12  1                         1            1                  1             \n",
       "3   1                         1            1                  1             \n",
       "1   1                         1            1                  1             \n",
       "13  1                         1            1                  1             \n",
       "3   1                         1            1                  1             \n",
       "11  1                         1            1                  1             \n",
       "1   1                         1            1                  1             \n",
       "1   1                         1            1                  1             \n",
       "3   1                         1            1                  1             \n",
       "1   1                         1            1                  1             \n",
       "1   1                         1            1                  1             \n",
       "1   1                         1            1                  1             \n",
       "1   1                         1            1                  1             \n",
       "1   1                         1            1                  1             \n",
       "1   1                         1            1                  1             \n",
       "    0                         0            0                  0             \n",
       "    dorm_BFI_E dorm_BFI_A dorm_BFI_O dorm_BFI_N dorm_BFI_C dorm_intl_student\n",
       "446 1          1          1          1          1          1                \n",
       "49  1          1          1          1          1          1                \n",
       "10  1          1          1          1          1          1                \n",
       "1   1          1          1          1          1          1                \n",
       "12  1          1          1          1          1          1                \n",
       "3   1          1          1          1          1          1                \n",
       "1   1          1          1          1          1          1                \n",
       "13  1          1          1          1          1          1                \n",
       "3   1          1          1          1          1          1                \n",
       "11  1          1          1          1          1          1                \n",
       "1   1          1          1          1          1          1                \n",
       "1   1          1          1          1          1          1                \n",
       "3   1          1          1          1          1          1                \n",
       "1   1          1          1          1          1          1                \n",
       "1   1          1          1          1          1          1                \n",
       "1   1          1          1          1          1          1                \n",
       "1   1          1          1          1          1          1                \n",
       "1   1          1          1          1          1          1                \n",
       "1   1          1          1          1          1          1                \n",
       "    0          0          0          0          0          0                \n",
       "    dorm_family_income dorm_life_satisfaction_t2 dorm_loneliness_t2\n",
       "446 1                  1                         1                 \n",
       "49  1                  1                         1                 \n",
       "10  1                  1                         1                 \n",
       "1   1                  1                         1                 \n",
       "12  1                  1                         1                 \n",
       "3   1                  1                         1                 \n",
       "1   1                  1                         1                 \n",
       "13  1                  1                         1                 \n",
       "3   1                  1                         1                 \n",
       "11  1                  1                         1                 \n",
       "1   1                  1                         1                 \n",
       "1   1                  1                         1                 \n",
       "3   1                  1                         1                 \n",
       "1   1                  1                         1                 \n",
       "1   1                  1                         1                 \n",
       "1   1                  1                         1                 \n",
       "1   1                  1                         1                 \n",
       "1   1                  1                         1                 \n",
       "1   1                  1                         1                 \n",
       "    0                  0                         0                 \n",
       "    dorm_stress_t2 dorm_edges_in dorm_edges_out dorm_edges_reciprocal\n",
       "446 1              1             1              1                    \n",
       "49  1              1             1              1                    \n",
       "10  1              1             1              1                    \n",
       "1   1              1             1              1                    \n",
       "12  1              1             1              1                    \n",
       "3   1              1             1              1                    \n",
       "1   1              1             1              1                    \n",
       "13  1              1             1              1                    \n",
       "3   1              1             1              1                    \n",
       "11  1              1             1              1                    \n",
       "1   1              1             1              1                    \n",
       "1   1              1             1              1                    \n",
       "3   1              1             1              1                    \n",
       "1   1              1             1              1                    \n",
       "1   1              1             1              1                    \n",
       "1   1              1             1              1                    \n",
       "1   1              1             1              1                    \n",
       "1   1              1             1              1                    \n",
       "1   1              1             1              1                    \n",
       "    0              0             0              0                    \n",
       "    dorm_edges_unique dorm_n_dormmates life_satisfaction_t2 loneliness_t2\n",
       "446 1                 1                1                    1            \n",
       "49  1                 1                1                    1            \n",
       "10  1                 1                1                    1            \n",
       "1   1                 1                1                    1            \n",
       "12  1                 1                1                    1            \n",
       "3   1                 1                1                    1            \n",
       "1   1                 1                1                    1            \n",
       "13  1                 1                1                    1            \n",
       "3   1                 1                1                    1            \n",
       "11  1                 1                1                    1            \n",
       "1   1                 1                1                    1            \n",
       "1   1                 1                1                    1            \n",
       "3   1                 1                1                    1            \n",
       "1   1                 1                1                    1            \n",
       "1   1                 1                1                    1            \n",
       "1   1                 1                1                    1            \n",
       "1   1                 1                1                    0            \n",
       "1   1                 1                1                    0            \n",
       "1   1                 1                0                    1            \n",
       "    0                 0                1                    2            \n",
       "    stress_t2 intl_student gender parent_education_highest\n",
       "446 1         1            1       1                      \n",
       "49  1         1            1       1                      \n",
       "10  1         1            1       1                      \n",
       "1   1         1            1       1                      \n",
       "12  1         1            1       1                      \n",
       "3   1         1            1       1                      \n",
       "1   1         1            1       1                      \n",
       "13  1         1            1       1                      \n",
       "3   1         1            1       1                      \n",
       "11  1         1            1       0                      \n",
       "1   1         1            1       0                      \n",
       "1   1         1            1       0                      \n",
       "3   1         1            0       1                      \n",
       "1   1         1            0       1                      \n",
       "1   1         1            0       1                      \n",
       "1   1         0            1       0                      \n",
       "1   0         1            1       1                      \n",
       "1   0         0            1       0                      \n",
       "1   1         0            1       0                      \n",
       "    2         3            5      16                      \n",
       "    network_n_networkmates family_income network_life_satisfaction_t1\n",
       "446  1                      1             1                          \n",
       "49   1                      1             1                          \n",
       "10   1                      1             0                          \n",
       "1    1                      1             0                          \n",
       "12   1                      0             1                          \n",
       "3    1                      0             1                          \n",
       "1    1                      0             0                          \n",
       "13   0                      1             0                          \n",
       "3    0                      1             0                          \n",
       "11   1                      1             1                          \n",
       "1    1                      1             1                          \n",
       "1    1                      1             0                          \n",
       "3    1                      1             1                          \n",
       "1    1                      1             1                          \n",
       "1    1                      1             0                          \n",
       "1    1                      0             1                          \n",
       "1    1                      0             1                          \n",
       "1    1                      0             1                          \n",
       "1    1                      0             1                          \n",
       "    16                     20            30                          \n",
       "    network_empathy network_loneliness_t1 network_stress_t1 network_BFI_E\n",
       "446  1               1                     1                 1           \n",
       "49   1               1                     1                 1           \n",
       "10   0               0                     0                 0           \n",
       "1    0               0                     0                 0           \n",
       "12   1               1                     1                 1           \n",
       "3    1               1                     1                 1           \n",
       "1    0               0                     0                 0           \n",
       "13   0               0                     0                 0           \n",
       "3    0               0                     0                 0           \n",
       "11   1               1                     1                 1           \n",
       "1    1               1                     1                 1           \n",
       "1    0               0                     0                 0           \n",
       "3    1               1                     1                 1           \n",
       "1    1               1                     1                 1           \n",
       "1    0               0                     0                 0           \n",
       "1    1               1                     1                 1           \n",
       "1    1               1                     1                 1           \n",
       "1    1               1                     1                 1           \n",
       "1    1               1                     1                 1           \n",
       "    30              30                    30                30           \n",
       "    network_BFI_A network_BFI_O network_BFI_N network_BFI_C\n",
       "446  1             1             1             1           \n",
       "49   1             1             1             1           \n",
       "10   0             0             0             0           \n",
       "1    0             0             0             0           \n",
       "12   1             1             1             1           \n",
       "3    1             1             1             1           \n",
       "1    0             0             0             0           \n",
       "13   0             0             0             0           \n",
       "3    0             0             0             0           \n",
       "11   1             1             1             1           \n",
       "1    1             1             1             1           \n",
       "1    0             0             0             0           \n",
       "3    1             1             1             1           \n",
       "1    1             1             1             1           \n",
       "1    0             0             0             0           \n",
       "1    1             1             1             1           \n",
       "1    1             1             1             1           \n",
       "1    1             1             1             1           \n",
       "1    1             1             1             1           \n",
       "    30            30            30            30           \n",
       "    network_intl_student network_family_income network_life_satisfaction_t2\n",
       "446  1                    1                     1                          \n",
       "49   1                    1                     1                          \n",
       "10   0                    0                     0                          \n",
       "1    0                    0                     0                          \n",
       "12   1                    1                     1                          \n",
       "3    1                    1                     1                          \n",
       "1    0                    0                     0                          \n",
       "13   0                    0                     0                          \n",
       "3    0                    0                     0                          \n",
       "11   1                    1                     1                          \n",
       "1    1                    1                     1                          \n",
       "1    0                    0                     0                          \n",
       "3    1                    1                     1                          \n",
       "1    1                    1                     1                          \n",
       "1    0                    0                     0                          \n",
       "1    1                    1                     1                          \n",
       "1    1                    1                     1                          \n",
       "1    1                    1                     1                          \n",
       "1    1                    1                     1                          \n",
       "    30                   30                    30                          \n",
       "    network_loneliness_t2 network_stress_t2 race    \n",
       "446  1                     1                 1     0\n",
       "49   1                     1                 0     1\n",
       "10   0                     0                 1    14\n",
       "1    0                     0                 0    15\n",
       "12   1                     1                 1     1\n",
       "3    1                     1                 0     2\n",
       "1    0                     0                 0    16\n",
       "13   0                     0                 1    15\n",
       "3    0                     0                 0    16\n",
       "11   1                     1                 1     1\n",
       "1    1                     1                 0     2\n",
       "1    0                     0                 1    15\n",
       "3    1                     1                 1     1\n",
       "1    1                     1                 0     2\n",
       "1    0                     0                 1    15\n",
       "1    1                     1                 1     3\n",
       "1    1                     1                 1     3\n",
       "1    1                     1                 1     5\n",
       "1    1                     1                 1     4\n",
       "    30                    30                59   544"
      ]
     },
     "metadata": {},
     "output_type": "display_data"
    },
    {
     "data": {
      "image/png": "[encoded data removed]",
      "text/plain": [
       "plot without title"
      ]
     },
     "metadata": {
      "image/png": {
       "height": 420,
       "width": 420
      },
      "text/plain": {
       "height": 420,
       "width": 420
      }
     },
     "output_type": "display_data"
    }
   ],
   "source": [
    "md.pattern(df)"
   ]
  },
  {
   "cell_type": "code",
   "execution_count": 10,
   "metadata": {},
   "outputs": [],
   "source": [
    "# imputed <- mice(df, m=1)\n",
    "# df = complete(imputed)\n",
    "# sum(is.na(df))"
   ]
  },
  {
   "cell_type": "code",
   "execution_count": 11,
   "metadata": {},
   "outputs": [
    {
     "data": {
      "text/html": [
       "<ol class=list-inline>\n",
       "\t<li>560</li>\n",
       "\t<li>57</li>\n",
       "</ol>\n"
      ],
      "text/latex": [
       "\\begin{enumerate*}\n",
       "\\item 560\n",
       "\\item 57\n",
       "\\end{enumerate*}\n"
      ],
      "text/markdown": [
       "1. 560\n",
       "2. 57\n",
       "\n",
       "\n"
      ],
      "text/plain": [
       "[1] 560  57"
      ]
     },
     "metadata": {},
     "output_type": "display_data"
    },
    {
     "data": {
      "text/html": [
       "<ol class=list-inline>\n",
       "\t<li>446</li>\n",
       "\t<li>57</li>\n",
       "</ol>\n"
      ],
      "text/latex": [
       "\\begin{enumerate*}\n",
       "\\item 446\n",
       "\\item 57\n",
       "\\end{enumerate*}\n"
      ],
      "text/markdown": [
       "1. 446\n",
       "2. 57\n",
       "\n",
       "\n"
      ],
      "text/plain": [
       "[1] 446  57"
      ]
     },
     "metadata": {},
     "output_type": "display_data"
    }
   ],
   "source": [
    "dim(df)\n",
    "df = df[complete.cases(df), ]\n",
    "dim(df)"
   ]
  },
  {
   "cell_type": "markdown",
   "metadata": {},
   "source": [
    "## Model"
   ]
  },
  {
   "cell_type": "code",
   "execution_count": 12,
   "metadata": {},
   "outputs": [
    {
     "data": {
      "text/html": [
       "<table>\n",
       "<caption>A data.frame: 6 × 57</caption>\n",
       "<thead>\n",
       "\t<tr><th></th><th scope=col>PID</th><th scope=col>gender</th><th scope=col>race</th><th scope=col>dorm</th><th scope=col>life_satisfaction_t1</th><th scope=col>empathy</th><th scope=col>loneliness_t1</th><th scope=col>stress_t1</th><th scope=col>BFI_E</th><th scope=col>BFI_A</th><th scope=col>BFI_O</th><th scope=col>BFI_N</th><th scope=col>BFI_C</th><th scope=col>intl_student</th><th scope=col>family_income</th><th scope=col>life_satisfaction_t2</th><th scope=col>loneliness_t2</th><th scope=col>stress_t2</th><th scope=col>parent_education_highest</th><th scope=col>edges_in</th><th scope=col>edges_out</th><th scope=col>edges_reciprocal</th><th scope=col>edges_unique</th><th scope=col>dorm_life_satisfaction_t1</th><th scope=col>dorm_empathy</th><th scope=col>dorm_loneliness_t1</th><th scope=col>dorm_stress_t1</th><th scope=col>dorm_BFI_E</th><th scope=col>dorm_BFI_A</th><th scope=col>dorm_BFI_O</th><th scope=col>dorm_BFI_N</th><th scope=col>dorm_BFI_C</th><th scope=col>dorm_intl_student</th><th scope=col>dorm_family_income</th><th scope=col>dorm_life_satisfaction_t2</th><th scope=col>dorm_loneliness_t2</th><th scope=col>dorm_stress_t2</th><th scope=col>dorm_edges_in</th><th scope=col>dorm_edges_out</th><th scope=col>dorm_edges_reciprocal</th><th scope=col>dorm_edges_unique</th><th scope=col>dorm_n_dormmates</th><th scope=col>network_life_satisfaction_t1</th><th scope=col>network_empathy</th><th scope=col>network_loneliness_t1</th><th scope=col>network_stress_t1</th><th scope=col>network_BFI_E</th><th scope=col>network_BFI_A</th><th scope=col>network_BFI_O</th><th scope=col>network_BFI_N</th><th scope=col>network_BFI_C</th><th scope=col>network_intl_student</th><th scope=col>network_family_income</th><th scope=col>network_life_satisfaction_t2</th><th scope=col>network_loneliness_t2</th><th scope=col>network_stress_t2</th><th scope=col>network_n_networkmates</th></tr>\n",
       "\t<tr><th></th><th scope=col>&lt;int&gt;</th><th scope=col>&lt;fct&gt;</th><th scope=col>&lt;fct&gt;</th><th scope=col>&lt;fct&gt;</th><th scope=col>&lt;dbl&gt;</th><th scope=col>&lt;dbl&gt;</th><th scope=col>&lt;dbl&gt;</th><th scope=col>&lt;dbl&gt;</th><th scope=col>&lt;dbl&gt;</th><th scope=col>&lt;dbl&gt;</th><th scope=col>&lt;dbl&gt;</th><th scope=col>&lt;dbl&gt;</th><th scope=col>&lt;dbl&gt;</th><th scope=col>&lt;dbl&gt;</th><th scope=col>&lt;dbl&gt;</th><th scope=col>&lt;dbl&gt;</th><th scope=col>&lt;dbl&gt;</th><th scope=col>&lt;dbl&gt;</th><th scope=col>&lt;fct&gt;</th><th scope=col>&lt;int&gt;</th><th scope=col>&lt;int&gt;</th><th scope=col>&lt;int&gt;</th><th scope=col>&lt;int&gt;</th><th scope=col>&lt;dbl&gt;</th><th scope=col>&lt;dbl&gt;</th><th scope=col>&lt;dbl&gt;</th><th scope=col>&lt;dbl&gt;</th><th scope=col>&lt;dbl&gt;</th><th scope=col>&lt;dbl&gt;</th><th scope=col>&lt;dbl&gt;</th><th scope=col>&lt;dbl&gt;</th><th scope=col>&lt;dbl&gt;</th><th scope=col>&lt;dbl&gt;</th><th scope=col>&lt;dbl&gt;</th><th scope=col>&lt;dbl&gt;</th><th scope=col>&lt;dbl&gt;</th><th scope=col>&lt;dbl&gt;</th><th scope=col>&lt;dbl&gt;</th><th scope=col>&lt;dbl&gt;</th><th scope=col>&lt;dbl&gt;</th><th scope=col>&lt;dbl&gt;</th><th scope=col>&lt;dbl&gt;</th><th scope=col>&lt;dbl&gt;</th><th scope=col>&lt;dbl&gt;</th><th scope=col>&lt;dbl&gt;</th><th scope=col>&lt;dbl&gt;</th><th scope=col>&lt;dbl&gt;</th><th scope=col>&lt;dbl&gt;</th><th scope=col>&lt;dbl&gt;</th><th scope=col>&lt;dbl&gt;</th><th scope=col>&lt;dbl&gt;</th><th scope=col>&lt;dbl&gt;</th><th scope=col>&lt;dbl&gt;</th><th scope=col>&lt;dbl&gt;</th><th scope=col>&lt;dbl&gt;</th><th scope=col>&lt;dbl&gt;</th><th scope=col>&lt;dbl&gt;</th></tr>\n",
       "</thead>\n",
       "<tbody>\n",
       "\t<tr><th scope=row>1</th><td>1001</td><td>male  </td><td>south_asian   </td><td>Rinconada</td><td>4.833333</td><td>6.375</td><td>1.333333</td><td>2.5</td><td>6.5</td><td>6.0</td><td>6.5</td><td>3.5</td><td>5.5</td><td>0</td><td> 70000</td><td>6.166667</td><td>2.000000</td><td>1.5</td><td>4_masters         </td><td>3</td><td>10</td><td>1</td><td>12</td><td>5.034483</td><td>5.504310</td><td>1.839080</td><td>2.000000</td><td>4.534483</td><td>4.982759</td><td>5.379310</td><td>3.327586</td><td>5.672414</td><td>0.17241379</td><td>116206.9</td><td>4.931034</td><td>2.034483</td><td>1.948276</td><td>5.206897</td><td>10.931034</td><td>3.379310</td><td>12.758621</td><td>29</td><td>4.916667</td><td>5.937500</td><td>2.166667</td><td>2.50</td><td>6.750</td><td>4.750000</td><td>5.75</td><td>4.500000</td><td>5.000000</td><td>0.0000000</td><td>175000.00</td><td>5.750000</td><td>2.333333</td><td>1.75</td><td> 2</td></tr>\n",
       "\t<tr><th scope=row>2</th><td>1047</td><td>female</td><td>other_or_mixed</td><td>Twain    </td><td>5.333333</td><td>6.500</td><td>2.000000</td><td>2.5</td><td>5.5</td><td>6.5</td><td>6.5</td><td>3.0</td><td>7.0</td><td>0</td><td>220000</td><td>5.166667</td><td>2.000000</td><td>3.0</td><td>4_masters         </td><td>6</td><td> 9</td><td>3</td><td>12</td><td>5.333333</td><td>5.717105</td><td>1.684211</td><td>1.986842</td><td>4.039474</td><td>5.197368</td><td>5.421053</td><td>2.907895</td><td>5.552632</td><td>0.13157895</td><td>143513.5</td><td>5.241228</td><td>1.728070</td><td>2.000000</td><td>4.394737</td><td> 8.157895</td><td>2.473684</td><td>10.078947</td><td>38</td><td>5.055556</td><td>6.354167</td><td>1.444444</td><td>2.00</td><td>5.250</td><td>5.416667</td><td>5.50</td><td>2.833333</td><td>5.166667</td><td>0.1666667</td><td> 91666.67</td><td>4.833333</td><td>1.444444</td><td>2.25</td><td> 6</td></tr>\n",
       "\t<tr><th scope=row>3</th><td>1078</td><td>female</td><td>east_asian    </td><td>Loro     </td><td>5.500000</td><td>6.250</td><td>1.333333</td><td>2.0</td><td>4.5</td><td>6.5</td><td>6.5</td><td>1.5</td><td>6.5</td><td>0</td><td>130000</td><td>5.500000</td><td>2.333333</td><td>3.0</td><td>5_advanced        </td><td>1</td><td> 7</td><td>0</td><td> 8</td><td>4.000000</td><td>5.593750</td><td>1.861111</td><td>2.250000</td><td>3.875000</td><td>4.625000</td><td>5.375000</td><td>3.541667</td><td>5.000000</td><td>0.08333333</td><td>129090.9</td><td>4.430556</td><td>2.000000</td><td>1.958333</td><td>2.333333</td><td> 6.833333</td><td>1.500000</td><td> 7.666667</td><td>12</td><td>4.666667</td><td>5.250000</td><td>1.000000</td><td>1.50</td><td>2.500</td><td>5.500000</td><td>3.50</td><td>1.500000</td><td>4.000000</td><td>0.0000000</td><td> 90000.00</td><td>4.666667</td><td>1.000000</td><td>1.50</td><td> 1</td></tr>\n",
       "\t<tr><th scope=row>4</th><td>1097</td><td>male  </td><td>east_asian    </td><td>Otero    </td><td>6.000000</td><td>5.000</td><td>2.000000</td><td>2.0</td><td>3.0</td><td>4.0</td><td>4.5</td><td>1.5</td><td>5.5</td><td>0</td><td> 90000</td><td>5.833333</td><td>2.000000</td><td>2.5</td><td>5_advanced        </td><td>6</td><td> 4</td><td>4</td><td> 6</td><td>5.439815</td><td>5.701389</td><td>1.777778</td><td>1.916667</td><td>4.444444</td><td>4.902778</td><td>5.263889</td><td>2.916667</td><td>5.708333</td><td>0.02777778</td><td>141428.6</td><td>5.268519</td><td>1.861111</td><td>1.916667</td><td>4.777778</td><td>10.000000</td><td>2.722222</td><td>12.055556</td><td>36</td><td>5.400000</td><td>5.950000</td><td>1.733333</td><td>2.40</td><td>4.400</td><td>5.400000</td><td>5.10</td><td>3.100000</td><td>5.700000</td><td>0.0000000</td><td>130000.00</td><td>4.866667</td><td>2.133333</td><td>2.20</td><td> 5</td></tr>\n",
       "\t<tr><th scope=row>5</th><td>1105</td><td>female</td><td>white         </td><td>Larkin   </td><td>6.666667</td><td>5.750</td><td>2.000000</td><td>2.0</td><td>4.5</td><td>5.0</td><td>4.5</td><td>2.0</td><td>5.0</td><td>0</td><td>170000</td><td>6.666667</td><td>2.000000</td><td>2.0</td><td>3_college_fouryear</td><td>6</td><td>26</td><td>3</td><td>29</td><td>5.098765</td><td>5.819444</td><td>1.802469</td><td>2.074074</td><td>4.657407</td><td>4.935185</td><td>5.407407</td><td>3.268519</td><td>5.685185</td><td>0.15094340</td><td>138235.3</td><td>4.913580</td><td>1.817610</td><td>2.188679</td><td>5.759259</td><td> 8.962963</td><td>3.296296</td><td>11.425926</td><td>54</td><td>5.483333</td><td>5.800000</td><td>1.600000</td><td>2.25</td><td>5.250</td><td>4.350000</td><td>5.65</td><td>3.750000</td><td>5.550000</td><td>0.2000000</td><td>161000.00</td><td>5.133333</td><td>1.966667</td><td>2.20</td><td>10</td></tr>\n",
       "\t<tr><th scope=row>6</th><td>1110</td><td>female</td><td>white         </td><td>Larkin   </td><td>5.166667</td><td>6.750</td><td>2.000000</td><td>2.0</td><td>6.5</td><td>5.0</td><td>4.5</td><td>2.0</td><td>6.0</td><td>0</td><td>110000</td><td>6.833333</td><td>1.666667</td><td>2.0</td><td>4_masters         </td><td>4</td><td> 9</td><td>4</td><td> 9</td><td>5.126543</td><td>5.800926</td><td>1.802469</td><td>2.074074</td><td>4.620370</td><td>4.935185</td><td>5.407407</td><td>3.268519</td><td>5.666667</td><td>0.15094340</td><td>139411.8</td><td>4.910494</td><td>1.823899</td><td>2.188679</td><td>5.796296</td><td> 9.277778</td><td>3.277778</td><td>11.796296</td><td>54</td><td>5.625000</td><td>5.437500</td><td>2.000000</td><td>1.75</td><td>4.375</td><td>5.250000</td><td>5.00</td><td>2.625000</td><td>5.750000</td><td>0.0000000</td><td>152500.00</td><td>5.750000</td><td>1.666667</td><td>2.00</td><td> 4</td></tr>\n",
       "</tbody>\n",
       "</table>\n"
      ],
      "text/latex": [
       "A data.frame: 6 × 57\n",
       "\\begin{tabular}{r|lllllllllllllllllllllllllllllllllllllllllllllllllllllllll}\n",
       "  & PID & gender & race & dorm & life\\_satisfaction\\_t1 & empathy & loneliness\\_t1 & stress\\_t1 & BFI\\_E & BFI\\_A & BFI\\_O & BFI\\_N & BFI\\_C & intl\\_student & family\\_income & life\\_satisfaction\\_t2 & loneliness\\_t2 & stress\\_t2 & parent\\_education\\_highest & edges\\_in & edges\\_out & edges\\_reciprocal & edges\\_unique & dorm\\_life\\_satisfaction\\_t1 & dorm\\_empathy & dorm\\_loneliness\\_t1 & dorm\\_stress\\_t1 & dorm\\_BFI\\_E & dorm\\_BFI\\_A & dorm\\_BFI\\_O & dorm\\_BFI\\_N & dorm\\_BFI\\_C & dorm\\_intl\\_student & dorm\\_family\\_income & dorm\\_life\\_satisfaction\\_t2 & dorm\\_loneliness\\_t2 & dorm\\_stress\\_t2 & dorm\\_edges\\_in & dorm\\_edges\\_out & dorm\\_edges\\_reciprocal & dorm\\_edges\\_unique & dorm\\_n\\_dormmates & network\\_life\\_satisfaction\\_t1 & network\\_empathy & network\\_loneliness\\_t1 & network\\_stress\\_t1 & network\\_BFI\\_E & network\\_BFI\\_A & network\\_BFI\\_O & network\\_BFI\\_N & network\\_BFI\\_C & network\\_intl\\_student & network\\_family\\_income & network\\_life\\_satisfaction\\_t2 & network\\_loneliness\\_t2 & network\\_stress\\_t2 & network\\_n\\_networkmates\\\\\n",
       "  & <int> & <fct> & <fct> & <fct> & <dbl> & <dbl> & <dbl> & <dbl> & <dbl> & <dbl> & <dbl> & <dbl> & <dbl> & <dbl> & <dbl> & <dbl> & <dbl> & <dbl> & <fct> & <int> & <int> & <int> & <int> & <dbl> & <dbl> & <dbl> & <dbl> & <dbl> & <dbl> & <dbl> & <dbl> & <dbl> & <dbl> & <dbl> & <dbl> & <dbl> & <dbl> & <dbl> & <dbl> & <dbl> & <dbl> & <dbl> & <dbl> & <dbl> & <dbl> & <dbl> & <dbl> & <dbl> & <dbl> & <dbl> & <dbl> & <dbl> & <dbl> & <dbl> & <dbl> & <dbl> & <dbl>\\\\\n",
       "\\hline\n",
       "\t1 & 1001 & male   & south\\_asian    & Rinconada & 4.833333 & 6.375 & 1.333333 & 2.5 & 6.5 & 6.0 & 6.5 & 3.5 & 5.5 & 0 &  70000 & 6.166667 & 2.000000 & 1.5 & 4\\_masters          & 3 & 10 & 1 & 12 & 5.034483 & 5.504310 & 1.839080 & 2.000000 & 4.534483 & 4.982759 & 5.379310 & 3.327586 & 5.672414 & 0.17241379 & 116206.9 & 4.931034 & 2.034483 & 1.948276 & 5.206897 & 10.931034 & 3.379310 & 12.758621 & 29 & 4.916667 & 5.937500 & 2.166667 & 2.50 & 6.750 & 4.750000 & 5.75 & 4.500000 & 5.000000 & 0.0000000 & 175000.00 & 5.750000 & 2.333333 & 1.75 &  2\\\\\n",
       "\t2 & 1047 & female & other\\_or\\_mixed & Twain     & 5.333333 & 6.500 & 2.000000 & 2.5 & 5.5 & 6.5 & 6.5 & 3.0 & 7.0 & 0 & 220000 & 5.166667 & 2.000000 & 3.0 & 4\\_masters          & 6 &  9 & 3 & 12 & 5.333333 & 5.717105 & 1.684211 & 1.986842 & 4.039474 & 5.197368 & 5.421053 & 2.907895 & 5.552632 & 0.13157895 & 143513.5 & 5.241228 & 1.728070 & 2.000000 & 4.394737 &  8.157895 & 2.473684 & 10.078947 & 38 & 5.055556 & 6.354167 & 1.444444 & 2.00 & 5.250 & 5.416667 & 5.50 & 2.833333 & 5.166667 & 0.1666667 &  91666.67 & 4.833333 & 1.444444 & 2.25 &  6\\\\\n",
       "\t3 & 1078 & female & east\\_asian     & Loro      & 5.500000 & 6.250 & 1.333333 & 2.0 & 4.5 & 6.5 & 6.5 & 1.5 & 6.5 & 0 & 130000 & 5.500000 & 2.333333 & 3.0 & 5\\_advanced         & 1 &  7 & 0 &  8 & 4.000000 & 5.593750 & 1.861111 & 2.250000 & 3.875000 & 4.625000 & 5.375000 & 3.541667 & 5.000000 & 0.08333333 & 129090.9 & 4.430556 & 2.000000 & 1.958333 & 2.333333 &  6.833333 & 1.500000 &  7.666667 & 12 & 4.666667 & 5.250000 & 1.000000 & 1.50 & 2.500 & 5.500000 & 3.50 & 1.500000 & 4.000000 & 0.0000000 &  90000.00 & 4.666667 & 1.000000 & 1.50 &  1\\\\\n",
       "\t4 & 1097 & male   & east\\_asian     & Otero     & 6.000000 & 5.000 & 2.000000 & 2.0 & 3.0 & 4.0 & 4.5 & 1.5 & 5.5 & 0 &  90000 & 5.833333 & 2.000000 & 2.5 & 5\\_advanced         & 6 &  4 & 4 &  6 & 5.439815 & 5.701389 & 1.777778 & 1.916667 & 4.444444 & 4.902778 & 5.263889 & 2.916667 & 5.708333 & 0.02777778 & 141428.6 & 5.268519 & 1.861111 & 1.916667 & 4.777778 & 10.000000 & 2.722222 & 12.055556 & 36 & 5.400000 & 5.950000 & 1.733333 & 2.40 & 4.400 & 5.400000 & 5.10 & 3.100000 & 5.700000 & 0.0000000 & 130000.00 & 4.866667 & 2.133333 & 2.20 &  5\\\\\n",
       "\t5 & 1105 & female & white          & Larkin    & 6.666667 & 5.750 & 2.000000 & 2.0 & 4.5 & 5.0 & 4.5 & 2.0 & 5.0 & 0 & 170000 & 6.666667 & 2.000000 & 2.0 & 3\\_college\\_fouryear & 6 & 26 & 3 & 29 & 5.098765 & 5.819444 & 1.802469 & 2.074074 & 4.657407 & 4.935185 & 5.407407 & 3.268519 & 5.685185 & 0.15094340 & 138235.3 & 4.913580 & 1.817610 & 2.188679 & 5.759259 &  8.962963 & 3.296296 & 11.425926 & 54 & 5.483333 & 5.800000 & 1.600000 & 2.25 & 5.250 & 4.350000 & 5.65 & 3.750000 & 5.550000 & 0.2000000 & 161000.00 & 5.133333 & 1.966667 & 2.20 & 10\\\\\n",
       "\t6 & 1110 & female & white          & Larkin    & 5.166667 & 6.750 & 2.000000 & 2.0 & 6.5 & 5.0 & 4.5 & 2.0 & 6.0 & 0 & 110000 & 6.833333 & 1.666667 & 2.0 & 4\\_masters          & 4 &  9 & 4 &  9 & 5.126543 & 5.800926 & 1.802469 & 2.074074 & 4.620370 & 4.935185 & 5.407407 & 3.268519 & 5.666667 & 0.15094340 & 139411.8 & 4.910494 & 1.823899 & 2.188679 & 5.796296 &  9.277778 & 3.277778 & 11.796296 & 54 & 5.625000 & 5.437500 & 2.000000 & 1.75 & 4.375 & 5.250000 & 5.00 & 2.625000 & 5.750000 & 0.0000000 & 152500.00 & 5.750000 & 1.666667 & 2.00 &  4\\\\\n",
       "\\end{tabular}\n"
      ],
      "text/markdown": [
       "\n",
       "A data.frame: 6 × 57\n",
       "\n",
       "| <!--/--> | PID &lt;int&gt; | gender &lt;fct&gt; | race &lt;fct&gt; | dorm &lt;fct&gt; | life_satisfaction_t1 &lt;dbl&gt; | empathy &lt;dbl&gt; | loneliness_t1 &lt;dbl&gt; | stress_t1 &lt;dbl&gt; | BFI_E &lt;dbl&gt; | BFI_A &lt;dbl&gt; | BFI_O &lt;dbl&gt; | BFI_N &lt;dbl&gt; | BFI_C &lt;dbl&gt; | intl_student &lt;dbl&gt; | family_income &lt;dbl&gt; | life_satisfaction_t2 &lt;dbl&gt; | loneliness_t2 &lt;dbl&gt; | stress_t2 &lt;dbl&gt; | parent_education_highest &lt;fct&gt; | edges_in &lt;int&gt; | edges_out &lt;int&gt; | edges_reciprocal &lt;int&gt; | edges_unique &lt;int&gt; | dorm_life_satisfaction_t1 &lt;dbl&gt; | dorm_empathy &lt;dbl&gt; | dorm_loneliness_t1 &lt;dbl&gt; | dorm_stress_t1 &lt;dbl&gt; | dorm_BFI_E &lt;dbl&gt; | dorm_BFI_A &lt;dbl&gt; | dorm_BFI_O &lt;dbl&gt; | dorm_BFI_N &lt;dbl&gt; | dorm_BFI_C &lt;dbl&gt; | dorm_intl_student &lt;dbl&gt; | dorm_family_income &lt;dbl&gt; | dorm_life_satisfaction_t2 &lt;dbl&gt; | dorm_loneliness_t2 &lt;dbl&gt; | dorm_stress_t2 &lt;dbl&gt; | dorm_edges_in &lt;dbl&gt; | dorm_edges_out &lt;dbl&gt; | dorm_edges_reciprocal &lt;dbl&gt; | dorm_edges_unique &lt;dbl&gt; | dorm_n_dormmates &lt;dbl&gt; | network_life_satisfaction_t1 &lt;dbl&gt; | network_empathy &lt;dbl&gt; | network_loneliness_t1 &lt;dbl&gt; | network_stress_t1 &lt;dbl&gt; | network_BFI_E &lt;dbl&gt; | network_BFI_A &lt;dbl&gt; | network_BFI_O &lt;dbl&gt; | network_BFI_N &lt;dbl&gt; | network_BFI_C &lt;dbl&gt; | network_intl_student &lt;dbl&gt; | network_family_income &lt;dbl&gt; | network_life_satisfaction_t2 &lt;dbl&gt; | network_loneliness_t2 &lt;dbl&gt; | network_stress_t2 &lt;dbl&gt; | network_n_networkmates &lt;dbl&gt; |\n",
       "|---|---|---|---|---|---|---|---|---|---|---|---|---|---|---|---|---|---|---|---|---|---|---|---|---|---|---|---|---|---|---|---|---|---|---|---|---|---|---|---|---|---|---|---|---|---|---|---|---|---|---|---|---|---|---|---|---|---|\n",
       "| 1 | 1001 | male   | south_asian    | Rinconada | 4.833333 | 6.375 | 1.333333 | 2.5 | 6.5 | 6.0 | 6.5 | 3.5 | 5.5 | 0 |  70000 | 6.166667 | 2.000000 | 1.5 | 4_masters          | 3 | 10 | 1 | 12 | 5.034483 | 5.504310 | 1.839080 | 2.000000 | 4.534483 | 4.982759 | 5.379310 | 3.327586 | 5.672414 | 0.17241379 | 116206.9 | 4.931034 | 2.034483 | 1.948276 | 5.206897 | 10.931034 | 3.379310 | 12.758621 | 29 | 4.916667 | 5.937500 | 2.166667 | 2.50 | 6.750 | 4.750000 | 5.75 | 4.500000 | 5.000000 | 0.0000000 | 175000.00 | 5.750000 | 2.333333 | 1.75 |  2 |\n",
       "| 2 | 1047 | female | other_or_mixed | Twain     | 5.333333 | 6.500 | 2.000000 | 2.5 | 5.5 | 6.5 | 6.5 | 3.0 | 7.0 | 0 | 220000 | 5.166667 | 2.000000 | 3.0 | 4_masters          | 6 |  9 | 3 | 12 | 5.333333 | 5.717105 | 1.684211 | 1.986842 | 4.039474 | 5.197368 | 5.421053 | 2.907895 | 5.552632 | 0.13157895 | 143513.5 | 5.241228 | 1.728070 | 2.000000 | 4.394737 |  8.157895 | 2.473684 | 10.078947 | 38 | 5.055556 | 6.354167 | 1.444444 | 2.00 | 5.250 | 5.416667 | 5.50 | 2.833333 | 5.166667 | 0.1666667 |  91666.67 | 4.833333 | 1.444444 | 2.25 |  6 |\n",
       "| 3 | 1078 | female | east_asian     | Loro      | 5.500000 | 6.250 | 1.333333 | 2.0 | 4.5 | 6.5 | 6.5 | 1.5 | 6.5 | 0 | 130000 | 5.500000 | 2.333333 | 3.0 | 5_advanced         | 1 |  7 | 0 |  8 | 4.000000 | 5.593750 | 1.861111 | 2.250000 | 3.875000 | 4.625000 | 5.375000 | 3.541667 | 5.000000 | 0.08333333 | 129090.9 | 4.430556 | 2.000000 | 1.958333 | 2.333333 |  6.833333 | 1.500000 |  7.666667 | 12 | 4.666667 | 5.250000 | 1.000000 | 1.50 | 2.500 | 5.500000 | 3.50 | 1.500000 | 4.000000 | 0.0000000 |  90000.00 | 4.666667 | 1.000000 | 1.50 |  1 |\n",
       "| 4 | 1097 | male   | east_asian     | Otero     | 6.000000 | 5.000 | 2.000000 | 2.0 | 3.0 | 4.0 | 4.5 | 1.5 | 5.5 | 0 |  90000 | 5.833333 | 2.000000 | 2.5 | 5_advanced         | 6 |  4 | 4 |  6 | 5.439815 | 5.701389 | 1.777778 | 1.916667 | 4.444444 | 4.902778 | 5.263889 | 2.916667 | 5.708333 | 0.02777778 | 141428.6 | 5.268519 | 1.861111 | 1.916667 | 4.777778 | 10.000000 | 2.722222 | 12.055556 | 36 | 5.400000 | 5.950000 | 1.733333 | 2.40 | 4.400 | 5.400000 | 5.10 | 3.100000 | 5.700000 | 0.0000000 | 130000.00 | 4.866667 | 2.133333 | 2.20 |  5 |\n",
       "| 5 | 1105 | female | white          | Larkin    | 6.666667 | 5.750 | 2.000000 | 2.0 | 4.5 | 5.0 | 4.5 | 2.0 | 5.0 | 0 | 170000 | 6.666667 | 2.000000 | 2.0 | 3_college_fouryear | 6 | 26 | 3 | 29 | 5.098765 | 5.819444 | 1.802469 | 2.074074 | 4.657407 | 4.935185 | 5.407407 | 3.268519 | 5.685185 | 0.15094340 | 138235.3 | 4.913580 | 1.817610 | 2.188679 | 5.759259 |  8.962963 | 3.296296 | 11.425926 | 54 | 5.483333 | 5.800000 | 1.600000 | 2.25 | 5.250 | 4.350000 | 5.65 | 3.750000 | 5.550000 | 0.2000000 | 161000.00 | 5.133333 | 1.966667 | 2.20 | 10 |\n",
       "| 6 | 1110 | female | white          | Larkin    | 5.166667 | 6.750 | 2.000000 | 2.0 | 6.5 | 5.0 | 4.5 | 2.0 | 6.0 | 0 | 110000 | 6.833333 | 1.666667 | 2.0 | 4_masters          | 4 |  9 | 4 |  9 | 5.126543 | 5.800926 | 1.802469 | 2.074074 | 4.620370 | 4.935185 | 5.407407 | 3.268519 | 5.666667 | 0.15094340 | 139411.8 | 4.910494 | 1.823899 | 2.188679 | 5.796296 |  9.277778 | 3.277778 | 11.796296 | 54 | 5.625000 | 5.437500 | 2.000000 | 1.75 | 4.375 | 5.250000 | 5.00 | 2.625000 | 5.750000 | 0.0000000 | 152500.00 | 5.750000 | 1.666667 | 2.00 |  4 |\n",
       "\n"
      ],
      "text/plain": [
       "  PID  gender race           dorm      life_satisfaction_t1 empathy\n",
       "1 1001 male   south_asian    Rinconada 4.833333             6.375  \n",
       "2 1047 female other_or_mixed Twain     5.333333             6.500  \n",
       "3 1078 female east_asian     Loro      5.500000             6.250  \n",
       "4 1097 male   east_asian     Otero     6.000000             5.000  \n",
       "5 1105 female white          Larkin    6.666667             5.750  \n",
       "6 1110 female white          Larkin    5.166667             6.750  \n",
       "  loneliness_t1 stress_t1 BFI_E BFI_A BFI_O BFI_N BFI_C intl_student\n",
       "1 1.333333      2.5       6.5   6.0   6.5   3.5   5.5   0           \n",
       "2 2.000000      2.5       5.5   6.5   6.5   3.0   7.0   0           \n",
       "3 1.333333      2.0       4.5   6.5   6.5   1.5   6.5   0           \n",
       "4 2.000000      2.0       3.0   4.0   4.5   1.5   5.5   0           \n",
       "5 2.000000      2.0       4.5   5.0   4.5   2.0   5.0   0           \n",
       "6 2.000000      2.0       6.5   5.0   4.5   2.0   6.0   0           \n",
       "  family_income life_satisfaction_t2 loneliness_t2 stress_t2\n",
       "1  70000        6.166667             2.000000      1.5      \n",
       "2 220000        5.166667             2.000000      3.0      \n",
       "3 130000        5.500000             2.333333      3.0      \n",
       "4  90000        5.833333             2.000000      2.5      \n",
       "5 170000        6.666667             2.000000      2.0      \n",
       "6 110000        6.833333             1.666667      2.0      \n",
       "  parent_education_highest edges_in edges_out edges_reciprocal edges_unique\n",
       "1 4_masters                3        10        1                12          \n",
       "2 4_masters                6         9        3                12          \n",
       "3 5_advanced               1         7        0                 8          \n",
       "4 5_advanced               6         4        4                 6          \n",
       "5 3_college_fouryear       6        26        3                29          \n",
       "6 4_masters                4         9        4                 9          \n",
       "  dorm_life_satisfaction_t1 dorm_empathy dorm_loneliness_t1 dorm_stress_t1\n",
       "1 5.034483                  5.504310     1.839080           2.000000      \n",
       "2 5.333333                  5.717105     1.684211           1.986842      \n",
       "3 4.000000                  5.593750     1.861111           2.250000      \n",
       "4 5.439815                  5.701389     1.777778           1.916667      \n",
       "5 5.098765                  5.819444     1.802469           2.074074      \n",
       "6 5.126543                  5.800926     1.802469           2.074074      \n",
       "  dorm_BFI_E dorm_BFI_A dorm_BFI_O dorm_BFI_N dorm_BFI_C dorm_intl_student\n",
       "1 4.534483   4.982759   5.379310   3.327586   5.672414   0.17241379       \n",
       "2 4.039474   5.197368   5.421053   2.907895   5.552632   0.13157895       \n",
       "3 3.875000   4.625000   5.375000   3.541667   5.000000   0.08333333       \n",
       "4 4.444444   4.902778   5.263889   2.916667   5.708333   0.02777778       \n",
       "5 4.657407   4.935185   5.407407   3.268519   5.685185   0.15094340       \n",
       "6 4.620370   4.935185   5.407407   3.268519   5.666667   0.15094340       \n",
       "  dorm_family_income dorm_life_satisfaction_t2 dorm_loneliness_t2\n",
       "1 116206.9           4.931034                  2.034483          \n",
       "2 143513.5           5.241228                  1.728070          \n",
       "3 129090.9           4.430556                  2.000000          \n",
       "4 141428.6           5.268519                  1.861111          \n",
       "5 138235.3           4.913580                  1.817610          \n",
       "6 139411.8           4.910494                  1.823899          \n",
       "  dorm_stress_t2 dorm_edges_in dorm_edges_out dorm_edges_reciprocal\n",
       "1 1.948276       5.206897      10.931034      3.379310             \n",
       "2 2.000000       4.394737       8.157895      2.473684             \n",
       "3 1.958333       2.333333       6.833333      1.500000             \n",
       "4 1.916667       4.777778      10.000000      2.722222             \n",
       "5 2.188679       5.759259       8.962963      3.296296             \n",
       "6 2.188679       5.796296       9.277778      3.277778             \n",
       "  dorm_edges_unique dorm_n_dormmates network_life_satisfaction_t1\n",
       "1 12.758621         29               4.916667                    \n",
       "2 10.078947         38               5.055556                    \n",
       "3  7.666667         12               4.666667                    \n",
       "4 12.055556         36               5.400000                    \n",
       "5 11.425926         54               5.483333                    \n",
       "6 11.796296         54               5.625000                    \n",
       "  network_empathy network_loneliness_t1 network_stress_t1 network_BFI_E\n",
       "1 5.937500        2.166667              2.50              6.750        \n",
       "2 6.354167        1.444444              2.00              5.250        \n",
       "3 5.250000        1.000000              1.50              2.500        \n",
       "4 5.950000        1.733333              2.40              4.400        \n",
       "5 5.800000        1.600000              2.25              5.250        \n",
       "6 5.437500        2.000000              1.75              4.375        \n",
       "  network_BFI_A network_BFI_O network_BFI_N network_BFI_C network_intl_student\n",
       "1 4.750000      5.75          4.500000      5.000000      0.0000000           \n",
       "2 5.416667      5.50          2.833333      5.166667      0.1666667           \n",
       "3 5.500000      3.50          1.500000      4.000000      0.0000000           \n",
       "4 5.400000      5.10          3.100000      5.700000      0.0000000           \n",
       "5 4.350000      5.65          3.750000      5.550000      0.2000000           \n",
       "6 5.250000      5.00          2.625000      5.750000      0.0000000           \n",
       "  network_family_income network_life_satisfaction_t2 network_loneliness_t2\n",
       "1 175000.00             5.750000                     2.333333             \n",
       "2  91666.67             4.833333                     1.444444             \n",
       "3  90000.00             4.666667                     1.000000             \n",
       "4 130000.00             4.866667                     2.133333             \n",
       "5 161000.00             5.133333                     1.966667             \n",
       "6 152500.00             5.750000                     1.666667             \n",
       "  network_stress_t2 network_n_networkmates\n",
       "1 1.75               2                    \n",
       "2 2.25               6                    \n",
       "3 1.50               1                    \n",
       "4 2.20               5                    \n",
       "5 2.20              10                    \n",
       "6 2.00               4                    "
      ]
     },
     "metadata": {},
     "output_type": "display_data"
    }
   ],
   "source": [
    "head(df)"
   ]
  },
  {
   "cell_type": "markdown",
   "metadata": {},
   "source": [
    "### Base models - predict well-being at t1 from well-being at t1"
   ]
  },
  {
   "cell_type": "code",
   "execution_count": 13,
   "metadata": {},
   "outputs": [
    {
     "data": {
      "text/plain": [
       "\n",
       "Call:\n",
       "lm(formula = as.formula(paste(DV_t2, \"~\", DV_t1)), data = df)\n",
       "\n",
       "Residuals:\n",
       "    Min      1Q  Median      3Q     Max \n",
       "-2.9949 -0.4698  0.0501  0.5383  3.4022 \n",
       "\n",
       "Coefficients:\n",
       "                     Estimate Std. Error t value Pr(>|t|)    \n",
       "(Intercept)           0.96427    0.17395   5.543  5.1e-08 ***\n",
       "life_satisfaction_t1  0.78012    0.03373  23.126  < 2e-16 ***\n",
       "---\n",
       "Signif. codes:  0 ‘***’ 0.001 ‘**’ 0.01 ‘*’ 0.05 ‘.’ 0.1 ‘ ’ 1\n",
       "\n",
       "Residual standard error: 0.8138 on 444 degrees of freedom\n",
       "Multiple R-squared:  0.5464,\tAdjusted R-squared:  0.5454 \n",
       "F-statistic: 534.8 on 1 and 444 DF,  p-value: < 2.2e-16\n"
      ]
     },
     "metadata": {},
     "output_type": "display_data"
    }
   ],
   "source": [
    "base_model_one_predictor = lm(as.formula(paste(DV_t2, '~', DV_t1)), df)\n",
    "summary(base_model_one_predictor)"
   ]
  },
  {
   "cell_type": "code",
   "execution_count": 14,
   "metadata": {},
   "outputs": [
    {
     "data": {
      "text/plain": [
       "\n",
       "Call:\n",
       "lm(formula = as.formula(paste(DV_t2, \"~\", all_wb_params)), data = df)\n",
       "\n",
       "Residuals:\n",
       "    Min      1Q  Median      3Q     Max \n",
       "-3.0780 -0.4706  0.0397  0.5191  3.2860 \n",
       "\n",
       "Coefficients:\n",
       "                     Estimate Std. Error t value Pr(>|t|)    \n",
       "(Intercept)           2.03651    0.35713   5.703 2.16e-08 ***\n",
       "life_satisfaction_t1  0.71065    0.03937  18.050  < 2e-16 ***\n",
       "loneliness_t1        -0.15446    0.08232  -1.876  0.06126 .  \n",
       "stress_t1            -0.21418    0.07755  -2.762  0.00598 ** \n",
       "---\n",
       "Signif. codes:  0 ‘***’ 0.001 ‘**’ 0.01 ‘*’ 0.05 ‘.’ 0.1 ‘ ’ 1\n",
       "\n",
       "Residual standard error: 0.8046 on 442 degrees of freedom\n",
       "Multiple R-squared:  0.5586,\tAdjusted R-squared:  0.5556 \n",
       "F-statistic: 186.4 on 3 and 442 DF,  p-value: < 2.2e-16\n"
      ]
     },
     "metadata": {},
     "output_type": "display_data"
    },
    {
     "data": {
      "text/html": [
       "<table>\n",
       "<caption>A anova: 4 × 4</caption>\n",
       "<thead>\n",
       "\t<tr><th></th><th scope=col>Sum Sq</th><th scope=col>Df</th><th scope=col>F value</th><th scope=col>Pr(&gt;F)</th></tr>\n",
       "\t<tr><th></th><th scope=col>&lt;dbl&gt;</th><th scope=col>&lt;dbl&gt;</th><th scope=col>&lt;dbl&gt;</th><th scope=col>&lt;dbl&gt;</th></tr>\n",
       "</thead>\n",
       "<tbody>\n",
       "\t<tr><th scope=row>life_satisfaction_t1</th><td>210.912907</td><td>  1</td><td>325.801785</td><td>5.782033e-55</td></tr>\n",
       "\t<tr><th scope=row>loneliness_t1</th><td>  2.279249</td><td>  1</td><td>  3.520805</td><td>6.126168e-02</td></tr>\n",
       "\t<tr><th scope=row>stress_t1</th><td>  4.938661</td><td>  1</td><td>  7.628859</td><td>5.983614e-03</td></tr>\n",
       "\t<tr><th scope=row>Residuals</th><td>286.135647</td><td>442</td><td>        NA</td><td>          NA</td></tr>\n",
       "</tbody>\n",
       "</table>\n"
      ],
      "text/latex": [
       "A anova: 4 × 4\n",
       "\\begin{tabular}{r|llll}\n",
       "  & Sum Sq & Df & F value & Pr(>F)\\\\\n",
       "  & <dbl> & <dbl> & <dbl> & <dbl>\\\\\n",
       "\\hline\n",
       "\tlife\\_satisfaction\\_t1 & 210.912907 &   1 & 325.801785 & 5.782033e-55\\\\\n",
       "\tloneliness\\_t1 &   2.279249 &   1 &   3.520805 & 6.126168e-02\\\\\n",
       "\tstress\\_t1 &   4.938661 &   1 &   7.628859 & 5.983614e-03\\\\\n",
       "\tResiduals & 286.135647 & 442 &         NA &           NA\\\\\n",
       "\\end{tabular}\n"
      ],
      "text/markdown": [
       "\n",
       "A anova: 4 × 4\n",
       "\n",
       "| <!--/--> | Sum Sq &lt;dbl&gt; | Df &lt;dbl&gt; | F value &lt;dbl&gt; | Pr(&gt;F) &lt;dbl&gt; |\n",
       "|---|---|---|---|---|\n",
       "| life_satisfaction_t1 | 210.912907 |   1 | 325.801785 | 5.782033e-55 |\n",
       "| loneliness_t1 |   2.279249 |   1 |   3.520805 | 6.126168e-02 |\n",
       "| stress_t1 |   4.938661 |   1 |   7.628859 | 5.983614e-03 |\n",
       "| Residuals | 286.135647 | 442 |         NA |           NA |\n",
       "\n"
      ],
      "text/plain": [
       "                     Sum Sq     Df  F value    Pr(>F)      \n",
       "life_satisfaction_t1 210.912907   1 325.801785 5.782033e-55\n",
       "loneliness_t1          2.279249   1   3.520805 6.126168e-02\n",
       "stress_t1              4.938661   1   7.628859 5.983614e-03\n",
       "Residuals            286.135647 442         NA           NA"
      ]
     },
     "metadata": {},
     "output_type": "display_data"
    }
   ],
   "source": [
    "base_model <- lm(as.formula(paste(DV_t2, '~', all_wb_params)), df)\n",
    "summary(base_model)\n",
    "Anova(base_model)"
   ]
  },
  {
   "cell_type": "code",
   "execution_count": 15,
   "metadata": {},
   "outputs": [
    {
     "data": {
      "text/html": [
       "<table>\n",
       "<caption>A anova: 2 × 6</caption>\n",
       "<thead>\n",
       "\t<tr><th></th><th scope=col>Res.Df</th><th scope=col>RSS</th><th scope=col>Df</th><th scope=col>Sum of Sq</th><th scope=col>F</th><th scope=col>Pr(&gt;F)</th></tr>\n",
       "\t<tr><th></th><th scope=col>&lt;dbl&gt;</th><th scope=col>&lt;dbl&gt;</th><th scope=col>&lt;dbl&gt;</th><th scope=col>&lt;dbl&gt;</th><th scope=col>&lt;dbl&gt;</th><th scope=col>&lt;dbl&gt;</th></tr>\n",
       "</thead>\n",
       "<tbody>\n",
       "\t<tr><th scope=row>1</th><td>444</td><td>294.0296</td><td>NA</td><td>      NA</td><td>      NA</td><td>         NA</td></tr>\n",
       "\t<tr><th scope=row>2</th><td>442</td><td>286.1356</td><td> 2</td><td>7.893915</td><td>6.096952</td><td>0.002443397</td></tr>\n",
       "</tbody>\n",
       "</table>\n"
      ],
      "text/latex": [
       "A anova: 2 × 6\n",
       "\\begin{tabular}{r|llllll}\n",
       "  & Res.Df & RSS & Df & Sum of Sq & F & Pr(>F)\\\\\n",
       "  & <dbl> & <dbl> & <dbl> & <dbl> & <dbl> & <dbl>\\\\\n",
       "\\hline\n",
       "\t1 & 444 & 294.0296 & NA &       NA &       NA &          NA\\\\\n",
       "\t2 & 442 & 286.1356 &  2 & 7.893915 & 6.096952 & 0.002443397\\\\\n",
       "\\end{tabular}\n"
      ],
      "text/markdown": [
       "\n",
       "A anova: 2 × 6\n",
       "\n",
       "| <!--/--> | Res.Df &lt;dbl&gt; | RSS &lt;dbl&gt; | Df &lt;dbl&gt; | Sum of Sq &lt;dbl&gt; | F &lt;dbl&gt; | Pr(&gt;F) &lt;dbl&gt; |\n",
       "|---|---|---|---|---|---|---|\n",
       "| 1 | 444 | 294.0296 | NA |       NA |       NA |          NA |\n",
       "| 2 | 442 | 286.1356 |  2 | 7.893915 | 6.096952 | 0.002443397 |\n",
       "\n"
      ],
      "text/plain": [
       "  Res.Df RSS      Df Sum of Sq F        Pr(>F)     \n",
       "1 444    294.0296 NA       NA        NA          NA\n",
       "2 442    286.1356  2 7.893915  6.096952 0.002443397"
      ]
     },
     "metadata": {},
     "output_type": "display_data"
    }
   ],
   "source": [
    "anova(base_model_one_predictor, base_model)"
   ]
  },
  {
   "cell_type": "code",
   "execution_count": 16,
   "metadata": {},
   "outputs": [
    {
     "name": "stdout",
     "output_type": "stream",
     "text": [
      "[1] \"Before: 0.545375011452107\"\n",
      "[1] \"After: 0.555578590251331\"\n",
      "[1] \"Partial r² (adjusted): 0.0224439462331682\"\n"
     ]
    }
   ],
   "source": [
    "r1 = summary(base_model_one_predictor)$adj.r.squared\n",
    "r2 = summary(base_model)$adj.r.squared\n",
    "print(paste(\"Before:\", r1))\n",
    "print(paste(\"After:\", r2))\n",
    "print(paste(\"Partial r² (adjusted):\", (r2 - r1) / (1 - r1)))"
   ]
  },
  {
   "cell_type": "markdown",
   "metadata": {},
   "source": [
    "### Fixed-effects models: predict WB at t2 from WB and other personal factors at t1"
   ]
  },
  {
   "cell_type": "code",
   "execution_count": 17,
   "metadata": {},
   "outputs": [
    {
     "data": {
      "text/plain": [
       "\n",
       "Call:\n",
       "lm(formula = as.formula(paste(DV_t2, \"~\", all_wb_params, \"+\", \n",
       "    all_fixed_params)), data = df)\n",
       "\n",
       "Residuals:\n",
       "     Min       1Q   Median       3Q      Max \n",
       "-2.63253 -0.45686  0.06504  0.49513  3.05554 \n",
       "\n",
       "Coefficients:\n",
       "                                            Estimate Std. Error t value\n",
       "(Intercept)                                 0.672343   0.812691   0.827\n",
       "life_satisfaction_t1                        0.666423   0.043067  15.474\n",
       "loneliness_t1                              -0.154953   0.088115  -1.759\n",
       "stress_t1                                  -0.188604   0.093090  -2.026\n",
       "edges_in                                    0.034702   0.014679   2.364\n",
       "edges_out                                   0.018156   0.009017   2.013\n",
       "C(gender)male                              -0.054915   0.085776  -0.640\n",
       "C(gender)other                              0.268078   0.585025   0.458\n",
       "C(race)east_asian                           0.204444   0.137423   1.488\n",
       "C(race)hispanic                             0.238012   0.152291   1.563\n",
       "C(race)other_or_mixed                       0.227148   0.156156   1.455\n",
       "C(race)south_asian                          0.297809   0.162188   1.836\n",
       "C(race)white                                0.221972   0.136603   1.625\n",
       "empathy                                    -0.060284   0.067483  -0.893\n",
       "BFI_E                                       0.007675   0.029749   0.258\n",
       "BFI_O                                      -0.003411   0.041523  -0.082\n",
       "BFI_C                                       0.067668   0.035624   1.899\n",
       "BFI_A                                      -0.013648   0.041201  -0.331\n",
       "BFI_N                                      -0.024207   0.038983  -0.621\n",
       "intl_student                               -0.018804   0.123296  -0.153\n",
       "parent_education_highest1_ hs              -0.275814   0.185822  -1.484\n",
       "parent_education_highest2_college_twoyear  -0.303741   0.257368  -1.180\n",
       "parent_education_highest3_college_fouryear -0.350433   0.192870  -1.817\n",
       "parent_education_highest4_masters          -0.323623   0.190639  -1.698\n",
       "parent_education_highest5_advanced         -0.260133   0.195937  -1.328\n",
       "log10(family_income)                        0.286577   0.135242   2.119\n",
       "                                           Pr(>|t|)    \n",
       "(Intercept)                                  0.4085    \n",
       "life_satisfaction_t1                         <2e-16 ***\n",
       "loneliness_t1                                0.0794 .  \n",
       "stress_t1                                    0.0434 *  \n",
       "edges_in                                     0.0185 *  \n",
       "edges_out                                    0.0447 *  \n",
       "C(gender)male                                0.5224    \n",
       "C(gender)other                               0.6470    \n",
       "C(race)east_asian                            0.1376    \n",
       "C(race)hispanic                              0.1188    \n",
       "C(race)other_or_mixed                        0.1465    \n",
       "C(race)south_asian                           0.0670 .  \n",
       "C(race)white                                 0.1049    \n",
       "empathy                                      0.3722    \n",
       "BFI_E                                        0.7965    \n",
       "BFI_O                                        0.9346    \n",
       "BFI_C                                        0.0582 .  \n",
       "BFI_A                                        0.7406    \n",
       "BFI_N                                        0.5349    \n",
       "intl_student                                 0.8789    \n",
       "parent_education_highest1_ hs                0.1385    \n",
       "parent_education_highest2_college_twoyear    0.2386    \n",
       "parent_education_highest3_college_fouryear   0.0699 .  \n",
       "parent_education_highest4_masters            0.0903 .  \n",
       "parent_education_highest5_advanced           0.1850    \n",
       "log10(family_income)                         0.0347 *  \n",
       "---\n",
       "Signif. codes:  0 ‘***’ 0.001 ‘**’ 0.01 ‘*’ 0.05 ‘.’ 0.1 ‘ ’ 1\n",
       "\n",
       "Residual standard error: 0.7942 on 420 degrees of freedom\n",
       "Multiple R-squared:  0.5913,\tAdjusted R-squared:  0.567 \n",
       "F-statistic: 24.31 on 25 and 420 DF,  p-value: < 2.2e-16\n"
      ]
     },
     "metadata": {},
     "output_type": "display_data"
    }
   ],
   "source": [
    "fixed_model = lm(as.formula(paste(DV_t2, '~', all_wb_params, '+', all_fixed_params)), df)\n",
    "summary(fixed_model)"
   ]
  },
  {
   "cell_type": "code",
   "execution_count": 18,
   "metadata": {},
   "outputs": [
    {
     "data": {
      "text/html": [
       "<table>\n",
       "<caption>A anova: 2 × 6</caption>\n",
       "<thead>\n",
       "\t<tr><th></th><th scope=col>Res.Df</th><th scope=col>RSS</th><th scope=col>Df</th><th scope=col>Sum of Sq</th><th scope=col>F</th><th scope=col>Pr(&gt;F)</th></tr>\n",
       "\t<tr><th></th><th scope=col>&lt;dbl&gt;</th><th scope=col>&lt;dbl&gt;</th><th scope=col>&lt;dbl&gt;</th><th scope=col>&lt;dbl&gt;</th><th scope=col>&lt;dbl&gt;</th><th scope=col>&lt;dbl&gt;</th></tr>\n",
       "</thead>\n",
       "<tbody>\n",
       "\t<tr><th scope=row>1</th><td>442</td><td>286.1356</td><td>NA</td><td>      NA</td><td>      NA</td><td>        NA</td></tr>\n",
       "\t<tr><th scope=row>2</th><td>420</td><td>264.9246</td><td>22</td><td>21.21109</td><td>1.528507</td><td>0.06033677</td></tr>\n",
       "</tbody>\n",
       "</table>\n"
      ],
      "text/latex": [
       "A anova: 2 × 6\n",
       "\\begin{tabular}{r|llllll}\n",
       "  & Res.Df & RSS & Df & Sum of Sq & F & Pr(>F)\\\\\n",
       "  & <dbl> & <dbl> & <dbl> & <dbl> & <dbl> & <dbl>\\\\\n",
       "\\hline\n",
       "\t1 & 442 & 286.1356 & NA &       NA &       NA &         NA\\\\\n",
       "\t2 & 420 & 264.9246 & 22 & 21.21109 & 1.528507 & 0.06033677\\\\\n",
       "\\end{tabular}\n"
      ],
      "text/markdown": [
       "\n",
       "A anova: 2 × 6\n",
       "\n",
       "| <!--/--> | Res.Df &lt;dbl&gt; | RSS &lt;dbl&gt; | Df &lt;dbl&gt; | Sum of Sq &lt;dbl&gt; | F &lt;dbl&gt; | Pr(&gt;F) &lt;dbl&gt; |\n",
       "|---|---|---|---|---|---|---|\n",
       "| 1 | 442 | 286.1356 | NA |       NA |       NA |         NA |\n",
       "| 2 | 420 | 264.9246 | 22 | 21.21109 | 1.528507 | 0.06033677 |\n",
       "\n"
      ],
      "text/plain": [
       "  Res.Df RSS      Df Sum of Sq F        Pr(>F)    \n",
       "1 442    286.1356 NA       NA        NA         NA\n",
       "2 420    264.9246 22 21.21109  1.528507 0.06033677"
      ]
     },
     "metadata": {},
     "output_type": "display_data"
    }
   ],
   "source": [
    "anova(base_model, fixed_model)"
   ]
  },
  {
   "cell_type": "code",
   "execution_count": 19,
   "metadata": {},
   "outputs": [
    {
     "name": "stdout",
     "output_type": "stream",
     "text": [
      "[1] \"Before: 0.555578590251331\"\n",
      "[1] \"After: 0.566969791289822\"\n",
      "[1] \"Partial r² (adjusted): 0.0256315307692594\"\n"
     ]
    }
   ],
   "source": [
    "r1 = summary(base_model)$adj.r.squared\n",
    "r2 = summary(fixed_model)$adj.r.squared\n",
    "print(paste(\"Before:\", r1))\n",
    "print(paste(\"After:\", r2))\n",
    "print(paste(\"Partial r² (adjusted):\", (r2 - r1) / (1 - r1)))"
   ]
  },
  {
   "cell_type": "markdown",
   "metadata": {},
   "source": [
    "### Lets reduce our fixed effects model to only wellbeing and in/out degree measures"
   ]
  },
  {
   "cell_type": "markdown",
   "metadata": {},
   "source": [
    "#### Store this equation for use in many models below"
   ]
  },
  {
   "cell_type": "code",
   "execution_count": 20,
   "metadata": {},
   "outputs": [
    {
     "data": {
      "text/html": [
       "<span style=white-space:pre-wrap>'life_satisfaction_t2 ~ life_satisfaction_t1 + loneliness_t1 + stress_t1  + edges_in + edges_out'</span>"
      ],
      "text/latex": [
       "'life\\_satisfaction\\_t2 \\textasciitilde{} life\\_satisfaction\\_t1 + loneliness\\_t1 + stress\\_t1  + edges\\_in + edges\\_out'"
      ],
      "text/markdown": [
       "<span style=white-space:pre-wrap>'life_satisfaction_t2 ~ life_satisfaction_t1 + loneliness_t1 + stress_t1  + edges_in + edges_out'</span>"
      ],
      "text/plain": [
       "[1] \"life_satisfaction_t2 ~ life_satisfaction_t1 + loneliness_t1 + stress_t1  + edges_in + edges_out\""
      ]
     },
     "metadata": {},
     "output_type": "display_data"
    }
   ],
   "source": [
    "fixed_equation = paste(DV_t2, \"~\", all_wb_params, \" + edges_in + edges_out\")\n",
    "fixed_equation"
   ]
  },
  {
   "cell_type": "code",
   "execution_count": 21,
   "metadata": {},
   "outputs": [
    {
     "data": {
      "text/plain": [
       "\n",
       "Call:\n",
       "lm(formula = as.formula(fixed_equation), data = df)\n",
       "\n",
       "Residuals:\n",
       "     Min       1Q   Median       3Q      Max \n",
       "-2.99725 -0.44996  0.03372  0.50615  3.14464 \n",
       "\n",
       "Coefficients:\n",
       "                      Estimate Std. Error t value Pr(>|t|)    \n",
       "(Intercept)           1.734649   0.363061   4.778 2.42e-06 ***\n",
       "life_satisfaction_t1  0.704199   0.039042  18.037  < 2e-16 ***\n",
       "loneliness_t1        -0.144673   0.081879  -1.767  0.07794 .  \n",
       "stress_t1            -0.208110   0.076715  -2.713  0.00693 ** \n",
       "edges_in              0.028309   0.013799   2.052  0.04081 *  \n",
       "edges_out             0.020117   0.008888   2.263  0.02410 *  \n",
       "---\n",
       "Signif. codes:  0 ‘***’ 0.001 ‘**’ 0.01 ‘*’ 0.05 ‘.’ 0.1 ‘ ’ 1\n",
       "\n",
       "Residual standard error: 0.7951 on 440 degrees of freedom\n",
       "Multiple R-squared:  0.5709,\tAdjusted R-squared:  0.566 \n",
       "F-statistic: 117.1 on 5 and 440 DF,  p-value: < 2.2e-16\n"
      ]
     },
     "metadata": {},
     "output_type": "display_data"
    }
   ],
   "source": [
    "fixed_model_inout = lm(as.formula(fixed_equation), df)\n",
    "summary(fixed_model_inout)"
   ]
  },
  {
   "cell_type": "code",
   "execution_count": 22,
   "metadata": {},
   "outputs": [
    {
     "data": {
      "text/html": [
       "<table>\n",
       "<caption>A anova: 2 × 6</caption>\n",
       "<thead>\n",
       "\t<tr><th></th><th scope=col>Res.Df</th><th scope=col>RSS</th><th scope=col>Df</th><th scope=col>Sum of Sq</th><th scope=col>F</th><th scope=col>Pr(&gt;F)</th></tr>\n",
       "\t<tr><th></th><th scope=col>&lt;dbl&gt;</th><th scope=col>&lt;dbl&gt;</th><th scope=col>&lt;dbl&gt;</th><th scope=col>&lt;dbl&gt;</th><th scope=col>&lt;dbl&gt;</th><th scope=col>&lt;dbl&gt;</th></tr>\n",
       "</thead>\n",
       "<tbody>\n",
       "\t<tr><th scope=row>1</th><td>442</td><td>286.1356</td><td>NA</td><td>      NA</td><td>      NA</td><td>         NA</td></tr>\n",
       "\t<tr><th scope=row>2</th><td>440</td><td>278.1352</td><td> 2</td><td>8.000491</td><td>6.328247</td><td>0.001951922</td></tr>\n",
       "</tbody>\n",
       "</table>\n"
      ],
      "text/latex": [
       "A anova: 2 × 6\n",
       "\\begin{tabular}{r|llllll}\n",
       "  & Res.Df & RSS & Df & Sum of Sq & F & Pr(>F)\\\\\n",
       "  & <dbl> & <dbl> & <dbl> & <dbl> & <dbl> & <dbl>\\\\\n",
       "\\hline\n",
       "\t1 & 442 & 286.1356 & NA &       NA &       NA &          NA\\\\\n",
       "\t2 & 440 & 278.1352 &  2 & 8.000491 & 6.328247 & 0.001951922\\\\\n",
       "\\end{tabular}\n"
      ],
      "text/markdown": [
       "\n",
       "A anova: 2 × 6\n",
       "\n",
       "| <!--/--> | Res.Df &lt;dbl&gt; | RSS &lt;dbl&gt; | Df &lt;dbl&gt; | Sum of Sq &lt;dbl&gt; | F &lt;dbl&gt; | Pr(&gt;F) &lt;dbl&gt; |\n",
       "|---|---|---|---|---|---|---|\n",
       "| 1 | 442 | 286.1356 | NA |       NA |       NA |          NA |\n",
       "| 2 | 440 | 278.1352 |  2 | 8.000491 | 6.328247 | 0.001951922 |\n",
       "\n"
      ],
      "text/plain": [
       "  Res.Df RSS      Df Sum of Sq F        Pr(>F)     \n",
       "1 442    286.1356 NA       NA        NA          NA\n",
       "2 440    278.1352  2 8.000491  6.328247 0.001951922"
      ]
     },
     "metadata": {},
     "output_type": "display_data"
    }
   ],
   "source": [
    "anova(base_model, fixed_model_inout)"
   ]
  },
  {
   "cell_type": "code",
   "execution_count": 23,
   "metadata": {},
   "outputs": [
    {
     "name": "stdout",
     "output_type": "stream",
     "text": [
      "[1] \"Before: 0.555578590251331\"\n",
      "[1] \"After: 0.566041213494675\"\n",
      "[1] \"Partial r² (adjusted): 0.0235421224401872\"\n"
     ]
    }
   ],
   "source": [
    "r1 = summary(base_model)$adj.r.squared\n",
    "r2 = summary(fixed_model_inout)$adj.r.squared\n",
    "print(paste(\"Before:\", r1))\n",
    "print(paste(\"After:\", r2))\n",
    "print(paste(\"Partial r² (adjusted):\", (r2 - r1) / (1 - r1)))"
   ]
  },
  {
   "cell_type": "markdown",
   "metadata": {},
   "source": [
    "### Examine residuals by dorm. If there is a sigificant dorm-wide effect, we should see some clear boxes that are above and below zero. (Spoiler alert: we don't)"
   ]
  },
  {
   "cell_type": "code",
   "execution_count": 24,
   "metadata": {},
   "outputs": [],
   "source": [
    "df$residuals = base_model$residuals"
   ]
  },
  {
   "cell_type": "code",
   "execution_count": 25,
   "metadata": {},
   "outputs": [
    {
     "data": {
      "image/png": "[encoded data removed]",
      "text/plain": [
       "plot without title"
      ]
     },
     "metadata": {
      "image/png": {
       "height": 420,
       "width": 420
      },
      "text/plain": {
       "height": 420,
       "width": 420
      }
     },
     "output_type": "display_data"
    }
   ],
   "source": [
    "ggplot(data=df, mapping=aes(dorm, residuals)) + \n",
    "  geom_boxplot(aes(color=dorm)) + coord_flip()"
   ]
  },
  {
   "cell_type": "markdown",
   "metadata": {},
   "source": [
    "## Add random effect for dorm, see if significant variance is attributable to dorm membership (Result: no)"
   ]
  },
  {
   "cell_type": "code",
   "execution_count": 26,
   "metadata": {},
   "outputs": [
    {
     "name": "stderr",
     "output_type": "stream",
     "text": [
      "boundary (singular) fit: see ?isSingular\n",
      "\n"
     ]
    },
    {
     "data": {
      "text/plain": [
       "Linear mixed model fit by REML. t-tests use Satterthwaite's method [\n",
       "lmerModLmerTest]\n",
       "Formula: as.formula(paste(fixed_equation, \"+ (1|dorm)\"))\n",
       "   Data: df\n",
       "\n",
       "REML criterion at convergence: 1085.7\n",
       "\n",
       "Scaled residuals: \n",
       "    Min      1Q  Median      3Q     Max \n",
       "-3.7698 -0.5659  0.0424  0.6366  3.9552 \n",
       "\n",
       "Random effects:\n",
       " Groups   Name        Variance Std.Dev.\n",
       " dorm     (Intercept) 0.0000   0.0000  \n",
       " Residual             0.6321   0.7951  \n",
       "Number of obs: 446, groups:  dorm, 21\n",
       "\n",
       "Fixed effects:\n",
       "                       Estimate Std. Error         df t value Pr(>|t|)    \n",
       "(Intercept)            1.734649   0.363061 440.000000   4.778 2.42e-06 ***\n",
       "life_satisfaction_t1   0.704199   0.039042 440.000000  18.037  < 2e-16 ***\n",
       "loneliness_t1         -0.144673   0.081879 440.000000  -1.767  0.07794 .  \n",
       "stress_t1             -0.208110   0.076715 440.000000  -2.713  0.00693 ** \n",
       "edges_in               0.028309   0.013799 440.000000   2.052  0.04081 *  \n",
       "edges_out              0.020117   0.008888 440.000000   2.263  0.02410 *  \n",
       "---\n",
       "Signif. codes:  0 ‘***’ 0.001 ‘**’ 0.01 ‘*’ 0.05 ‘.’ 0.1 ‘ ’ 1\n",
       "\n",
       "Correlation of Fixed Effects:\n",
       "            (Intr) lf_s_1 lnln_1 strs_1 edgs_n\n",
       "lf_stsfct_1 -0.824                            \n",
       "lonelnss_t1 -0.595  0.412                     \n",
       "stress_t1   -0.564  0.294 -0.094              \n",
       "edges_in    -0.155  0.030  0.108 -0.022       \n",
       "edges_out   -0.130 -0.083 -0.063  0.047 -0.263\n",
       "convergence code: 0\n",
       "boundary (singular) fit: see ?isSingular\n"
      ]
     },
     "metadata": {},
     "output_type": "display_data"
    }
   ],
   "source": [
    "mixed_model = lmer(as.formula(paste(fixed_equation, \"+ (1|dorm)\")), df, REML=TRUE)\n",
    "summary(mixed_model)"
   ]
  },
  {
   "cell_type": "code",
   "execution_count": 27,
   "metadata": {},
   "outputs": [
    {
     "data": {
      "text/plain": [
       "Linear mixed-effects model fit by maximum likelihood\n",
       " Data: df \n",
       "       AIC      BIC    logLik\n",
       "  1071.087 1103.889 -527.5434\n",
       "\n",
       "Random effects:\n",
       " Formula: ~1 | dorm\n",
       "         (Intercept) Residual\n",
       "StdDev: 3.198622e-05 0.789697\n",
       "\n",
       "Fixed effects: as.formula(fixed_equation) \n",
       "                          Value Std.Error  DF   t-value p-value\n",
       "(Intercept)           1.7346486 0.3630609 420  4.777845  0.0000\n",
       "life_satisfaction_t1  0.7041989 0.0390423 420 18.036815  0.0000\n",
       "loneliness_t1        -0.1446733 0.0818794 420 -1.766908  0.0780\n",
       "stress_t1            -0.2081095 0.0767146 420 -2.712776  0.0069\n",
       "edges_in              0.0283093 0.0137990 420  2.051542  0.0408\n",
       "edges_out             0.0201174 0.0088884 420  2.263339  0.0241\n",
       " Correlation: \n",
       "                     (Intr) lf_s_1 lnln_1 strs_1 edgs_n\n",
       "life_satisfaction_t1 -0.824                            \n",
       "loneliness_t1        -0.595  0.412                     \n",
       "stress_t1            -0.564  0.294 -0.094              \n",
       "edges_in             -0.155  0.030  0.108 -0.022       \n",
       "edges_out            -0.130 -0.083 -0.063  0.047 -0.263\n",
       "\n",
       "Standardized Within-Group Residuals:\n",
       "        Min          Q1         Med          Q3         Max \n",
       "-3.79544097 -0.56979349  0.04270277  0.64093569  3.98208981 \n",
       "\n",
       "Number of Observations: 446\n",
       "Number of Groups: 21 "
      ]
     },
     "metadata": {},
     "output_type": "display_data"
    }
   ],
   "source": [
    "mixed_model2 = lme(as.formula(fixed_equation), random=~1|dorm, data=df, method = 'ML')\n",
    "summary(mixed_model2)"
   ]
  },
  {
   "cell_type": "code",
   "execution_count": 28,
   "metadata": {},
   "outputs": [
    {
     "data": {
      "text/html": [
       "<table>\n",
       "<caption>A anova.lme: 2 × 9</caption>\n",
       "<thead>\n",
       "\t<tr><th></th><th scope=col>call</th><th scope=col>Model</th><th scope=col>df</th><th scope=col>AIC</th><th scope=col>BIC</th><th scope=col>logLik</th><th scope=col>Test</th><th scope=col>L.Ratio</th><th scope=col>p-value</th></tr>\n",
       "\t<tr><th></th><th scope=col>&lt;fct&gt;</th><th scope=col>&lt;int&gt;</th><th scope=col>&lt;dbl&gt;</th><th scope=col>&lt;dbl&gt;</th><th scope=col>&lt;dbl&gt;</th><th scope=col>&lt;dbl&gt;</th><th scope=col>&lt;fct&gt;</th><th scope=col>&lt;dbl&gt;</th><th scope=col>&lt;dbl&gt;</th></tr>\n",
       "</thead>\n",
       "<tbody>\n",
       "\t<tr><th scope=row>mixed_model2</th><td>lme.formula(fixed = as.formula(fixed_equation), data = df, random = ~1 |     dorm, method = \"ML\")</td><td>1</td><td>8</td><td>1071.087</td><td>1103.889</td><td>-527.5434</td><td>      </td><td>          NA</td><td>       NA</td></tr>\n",
       "\t<tr><th scope=row>fixed_model_inout</th><td>lm(formula = as.formula(fixed_equation), data = df)                                              </td><td>2</td><td>7</td><td>1069.087</td><td>1097.789</td><td>-527.5434</td><td>1 vs 2</td><td>2.202521e-07</td><td>0.9996255</td></tr>\n",
       "</tbody>\n",
       "</table>\n"
      ],
      "text/latex": [
       "A anova.lme: 2 × 9\n",
       "\\begin{tabular}{r|lllllllll}\n",
       "  & call & Model & df & AIC & BIC & logLik & Test & L.Ratio & p-value\\\\\n",
       "  & <fct> & <int> & <dbl> & <dbl> & <dbl> & <dbl> & <fct> & <dbl> & <dbl>\\\\\n",
       "\\hline\n",
       "\tmixed\\_model2 & lme.formula(fixed = as.formula(fixed\\_equation), data = df, random = \\textasciitilde{}1 \\textbar{}     dorm, method = \"ML\") & 1 & 8 & 1071.087 & 1103.889 & -527.5434 &        &           NA &        NA\\\\\n",
       "\tfixed\\_model\\_inout & lm(formula = as.formula(fixed\\_equation), data = df)                                               & 2 & 7 & 1069.087 & 1097.789 & -527.5434 & 1 vs 2 & 2.202521e-07 & 0.9996255\\\\\n",
       "\\end{tabular}\n"
      ],
      "text/markdown": [
       "\n",
       "A anova.lme: 2 × 9\n",
       "\n",
       "| <!--/--> | call &lt;fct&gt; | Model &lt;int&gt; | df &lt;dbl&gt; | AIC &lt;dbl&gt; | BIC &lt;dbl&gt; | logLik &lt;dbl&gt; | Test &lt;fct&gt; | L.Ratio &lt;dbl&gt; | p-value &lt;dbl&gt; |\n",
       "|---|---|---|---|---|---|---|---|---|---|\n",
       "| mixed_model2 | lme.formula(fixed = as.formula(fixed_equation), data = df, random = ~1 |     dorm, method = \"ML\") | 1 | 8 | 1071.087 | 1103.889 | -527.5434 | <!----> |           NA |        NA |\n",
       "| fixed_model_inout | lm(formula = as.formula(fixed_equation), data = df)                                               | 2 | 7 | 1069.087 | 1097.789 | -527.5434 | 1 vs 2 | 2.202521e-07 | 0.9996255 |\n",
       "\n"
      ],
      "text/plain": [
       "                  call                                                                                             \n",
       "mixed_model2      lme.formula(fixed = as.formula(fixed_equation), data = df, random = ~1 |     dorm, method = \"ML\")\n",
       "fixed_model_inout lm(formula = as.formula(fixed_equation), data = df)                                              \n",
       "                  Model df AIC      BIC      logLik    Test   L.Ratio     \n",
       "mixed_model2      1     8  1071.087 1103.889 -527.5434                  NA\n",
       "fixed_model_inout 2     7  1069.087 1097.789 -527.5434 1 vs 2 2.202521e-07\n",
       "                  p-value  \n",
       "mixed_model2             NA\n",
       "fixed_model_inout 0.9996255"
      ]
     },
     "metadata": {},
     "output_type": "display_data"
    }
   ],
   "source": [
    "anova(mixed_model2, fixed_model_inout)"
   ]
  },
  {
   "cell_type": "markdown",
   "metadata": {},
   "source": [
    "### Try again, with some dorm-level covariates"
   ]
  },
  {
   "cell_type": "code",
   "execution_count": 29,
   "metadata": {},
   "outputs": [
    {
     "data": {
      "text/html": [
       "<span style=white-space:pre-wrap>'life_satisfaction_t2 ~ life_satisfaction_t1 + loneliness_t1 + stress_t1  + edges_in + edges_out'</span>"
      ],
      "text/latex": [
       "'life\\_satisfaction\\_t2 \\textasciitilde{} life\\_satisfaction\\_t1 + loneliness\\_t1 + stress\\_t1  + edges\\_in + edges\\_out'"
      ],
      "text/markdown": [
       "<span style=white-space:pre-wrap>'life_satisfaction_t2 ~ life_satisfaction_t1 + loneliness_t1 + stress_t1  + edges_in + edges_out'</span>"
      ],
      "text/plain": [
       "[1] \"life_satisfaction_t2 ~ life_satisfaction_t1 + loneliness_t1 + stress_t1  + edges_in + edges_out\""
      ]
     },
     "metadata": {},
     "output_type": "display_data"
    }
   ],
   "source": [
    "fixed_equation"
   ]
  },
  {
   "cell_type": "code",
   "execution_count": 30,
   "metadata": {},
   "outputs": [
    {
     "name": "stderr",
     "output_type": "stream",
     "text": [
      "boundary (singular) fit: see ?isSingular\n",
      "\n"
     ]
    },
    {
     "data": {
      "text/plain": [
       "Linear mixed model fit by REML. t-tests use Satterthwaite's method [\n",
       "lmerModLmerTest]\n",
       "Formula: \n",
       "as.formula(paste(fixed_equation, \"+ (1 + dorm_life_satisfaction_t1 + dorm_stress_t1 + dorm_loneliness_t1 +\",  \n",
       "    \"dorm_empathy | dorm)\"))\n",
       "   Data: df\n",
       "\n",
       "REML criterion at convergence: 1085.6\n",
       "\n",
       "Scaled residuals: \n",
       "    Min      1Q  Median      3Q     Max \n",
       "-3.7514 -0.5581  0.0365  0.6176  3.9807 \n",
       "\n",
       "Random effects:\n",
       " Groups   Name                      Variance Std.Dev. Corr                   \n",
       " dorm     (Intercept)               1.017745 1.00883                         \n",
       "          dorm_life_satisfaction_t1 0.010624 0.10307  -0.82                  \n",
       "          dorm_stress_t1            0.050027 0.22367  -0.89  0.94            \n",
       "          dorm_loneliness_t1        0.157454 0.39680  -0.38 -0.10 -0.05      \n",
       "          dorm_empathy              0.004344 0.06591   0.26 -0.11 -0.02 -0.76\n",
       " Residual                           0.629154 0.79319                         \n",
       "Number of obs: 446, groups:  dorm, 21\n",
       "\n",
       "Fixed effects:\n",
       "                       Estimate Std. Error         df t value Pr(>|t|)    \n",
       "(Intercept)            1.731149   0.362846 419.842158   4.771 2.53e-06 ***\n",
       "life_satisfaction_t1   0.702694   0.039056 435.403511  17.992  < 2e-16 ***\n",
       "loneliness_t1         -0.143175   0.081795 437.921906  -1.750  0.08075 .  \n",
       "stress_t1             -0.208899   0.076650 436.294841  -2.725  0.00668 ** \n",
       "edges_in               0.028304   0.013819 382.075672   2.048  0.04122 *  \n",
       "edges_out              0.020491   0.008884 437.817058   2.306  0.02155 *  \n",
       "---\n",
       "Signif. codes:  0 ‘***’ 0.001 ‘**’ 0.01 ‘*’ 0.05 ‘.’ 0.1 ‘ ’ 1\n",
       "\n",
       "Correlation of Fixed Effects:\n",
       "            (Intr) lf_s_1 lnln_1 strs_1 edgs_n\n",
       "lf_stsfct_1 -0.823                            \n",
       "lonelnss_t1 -0.594  0.411                     \n",
       "stress_t1   -0.563  0.293 -0.094              \n",
       "edges_in    -0.154  0.029  0.109 -0.023       \n",
       "edges_out   -0.131 -0.083 -0.063  0.046 -0.263\n",
       "convergence code: 0\n",
       "boundary (singular) fit: see ?isSingular\n"
      ]
     },
     "metadata": {},
     "output_type": "display_data"
    }
   ],
   "source": [
    "mixed_model_with_l2_covariates = lmer(as.formula(paste(fixed_equation,\n",
    "    \"+ (1 + dorm_life_satisfaction_t1 + dorm_stress_t1 + dorm_loneliness_t1 +\",\n",
    "    \"dorm_empathy | dorm)\")),\n",
    "    df)\n",
    "summary(mixed_model_with_l2_covariates)"
   ]
  },
  {
   "cell_type": "code",
   "execution_count": 31,
   "metadata": {},
   "outputs": [
    {
     "name": "stderr",
     "output_type": "stream",
     "text": [
      "refitting model(s) with ML (instead of REML)\n",
      "\n",
      "Warning message in optwrap(optimizer, devfun, x@theta, lower = x@lower, calc.derivs = TRUE, :\n",
      "“convergence code 1 from bobyqa: bobyqa -- maximum number of function evaluations exceeded”\n"
     ]
    },
    {
     "data": {
      "text/html": [
       "<table>\n",
       "<caption>A anova: 2 × 8</caption>\n",
       "<thead>\n",
       "\t<tr><th></th><th scope=col>Df</th><th scope=col>AIC</th><th scope=col>BIC</th><th scope=col>logLik</th><th scope=col>deviance</th><th scope=col>Chisq</th><th scope=col>Chi Df</th><th scope=col>Pr(&gt;Chisq)</th></tr>\n",
       "\t<tr><th></th><th scope=col>&lt;dbl&gt;</th><th scope=col>&lt;dbl&gt;</th><th scope=col>&lt;dbl&gt;</th><th scope=col>&lt;dbl&gt;</th><th scope=col>&lt;dbl&gt;</th><th scope=col>&lt;dbl&gt;</th><th scope=col>&lt;dbl&gt;</th><th scope=col>&lt;dbl&gt;</th></tr>\n",
       "</thead>\n",
       "<tbody>\n",
       "\t<tr><th scope=row>fixed_model_inout</th><td> 7</td><td>1069.087</td><td>1097.789</td><td>-527.5434</td><td>1055.087</td><td>       NA</td><td>NA</td><td>NA</td></tr>\n",
       "\t<tr><th scope=row>mixed_model_with_l2_covariates</th><td>22</td><td>1098.914</td><td>1189.121</td><td>-527.4572</td><td>1054.914</td><td>0.1723502</td><td>15</td><td> 1</td></tr>\n",
       "</tbody>\n",
       "</table>\n"
      ],
      "text/latex": [
       "A anova: 2 × 8\n",
       "\\begin{tabular}{r|llllllll}\n",
       "  & Df & AIC & BIC & logLik & deviance & Chisq & Chi Df & Pr(>Chisq)\\\\\n",
       "  & <dbl> & <dbl> & <dbl> & <dbl> & <dbl> & <dbl> & <dbl> & <dbl>\\\\\n",
       "\\hline\n",
       "\tfixed\\_model\\_inout &  7 & 1069.087 & 1097.789 & -527.5434 & 1055.087 &        NA & NA & NA\\\\\n",
       "\tmixed\\_model\\_with\\_l2\\_covariates & 22 & 1098.914 & 1189.121 & -527.4572 & 1054.914 & 0.1723502 & 15 &  1\\\\\n",
       "\\end{tabular}\n"
      ],
      "text/markdown": [
       "\n",
       "A anova: 2 × 8\n",
       "\n",
       "| <!--/--> | Df &lt;dbl&gt; | AIC &lt;dbl&gt; | BIC &lt;dbl&gt; | logLik &lt;dbl&gt; | deviance &lt;dbl&gt; | Chisq &lt;dbl&gt; | Chi Df &lt;dbl&gt; | Pr(&gt;Chisq) &lt;dbl&gt; |\n",
       "|---|---|---|---|---|---|---|---|---|\n",
       "| fixed_model_inout |  7 | 1069.087 | 1097.789 | -527.5434 | 1055.087 |        NA | NA | NA |\n",
       "| mixed_model_with_l2_covariates | 22 | 1098.914 | 1189.121 | -527.4572 | 1054.914 | 0.1723502 | 15 |  1 |\n",
       "\n"
      ],
      "text/plain": [
       "                               Df AIC      BIC      logLik    deviance\n",
       "fixed_model_inout               7 1069.087 1097.789 -527.5434 1055.087\n",
       "mixed_model_with_l2_covariates 22 1098.914 1189.121 -527.4572 1054.914\n",
       "                               Chisq     Chi Df Pr(>Chisq)\n",
       "fixed_model_inout                     NA NA     NA        \n",
       "mixed_model_with_l2_covariates 0.1723502 15      1        "
      ]
     },
     "metadata": {},
     "output_type": "display_data"
    }
   ],
   "source": [
    "anova(mixed_model_with_l2_covariates, fixed_model_inout, refit=TRUE)"
   ]
  },
  {
   "cell_type": "code",
   "execution_count": 32,
   "metadata": {},
   "outputs": [
    {
     "data": {
      "text/html": [
       "<table>\n",
       "<caption>A anova: 2 × 8</caption>\n",
       "<thead>\n",
       "\t<tr><th></th><th scope=col>Df</th><th scope=col>AIC</th><th scope=col>BIC</th><th scope=col>logLik</th><th scope=col>deviance</th><th scope=col>Chisq</th><th scope=col>Chi Df</th><th scope=col>Pr(&gt;Chisq)</th></tr>\n",
       "\t<tr><th></th><th scope=col>&lt;dbl&gt;</th><th scope=col>&lt;dbl&gt;</th><th scope=col>&lt;dbl&gt;</th><th scope=col>&lt;dbl&gt;</th><th scope=col>&lt;dbl&gt;</th><th scope=col>&lt;dbl&gt;</th><th scope=col>&lt;dbl&gt;</th><th scope=col>&lt;dbl&gt;</th></tr>\n",
       "</thead>\n",
       "<tbody>\n",
       "\t<tr><th scope=row>mixed_model</th><td> 8</td><td>1101.733</td><td>1134.535</td><td>-542.8663</td><td>1085.733</td><td>       NA</td><td>NA</td><td>NA</td></tr>\n",
       "\t<tr><th scope=row>mixed_model_with_l2_covariates</th><td>22</td><td>1129.617</td><td>1219.824</td><td>-542.8085</td><td>1085.617</td><td>0.1156104</td><td>14</td><td> 1</td></tr>\n",
       "</tbody>\n",
       "</table>\n"
      ],
      "text/latex": [
       "A anova: 2 × 8\n",
       "\\begin{tabular}{r|llllllll}\n",
       "  & Df & AIC & BIC & logLik & deviance & Chisq & Chi Df & Pr(>Chisq)\\\\\n",
       "  & <dbl> & <dbl> & <dbl> & <dbl> & <dbl> & <dbl> & <dbl> & <dbl>\\\\\n",
       "\\hline\n",
       "\tmixed\\_model &  8 & 1101.733 & 1134.535 & -542.8663 & 1085.733 &        NA & NA & NA\\\\\n",
       "\tmixed\\_model\\_with\\_l2\\_covariates & 22 & 1129.617 & 1219.824 & -542.8085 & 1085.617 & 0.1156104 & 14 &  1\\\\\n",
       "\\end{tabular}\n"
      ],
      "text/markdown": [
       "\n",
       "A anova: 2 × 8\n",
       "\n",
       "| <!--/--> | Df &lt;dbl&gt; | AIC &lt;dbl&gt; | BIC &lt;dbl&gt; | logLik &lt;dbl&gt; | deviance &lt;dbl&gt; | Chisq &lt;dbl&gt; | Chi Df &lt;dbl&gt; | Pr(&gt;Chisq) &lt;dbl&gt; |\n",
       "|---|---|---|---|---|---|---|---|---|\n",
       "| mixed_model |  8 | 1101.733 | 1134.535 | -542.8663 | 1085.733 |        NA | NA | NA |\n",
       "| mixed_model_with_l2_covariates | 22 | 1129.617 | 1219.824 | -542.8085 | 1085.617 | 0.1156104 | 14 |  1 |\n",
       "\n"
      ],
      "text/plain": [
       "                               Df AIC      BIC      logLik    deviance\n",
       "mixed_model                     8 1101.733 1134.535 -542.8663 1085.733\n",
       "mixed_model_with_l2_covariates 22 1129.617 1219.824 -542.8085 1085.617\n",
       "                               Chisq     Chi Df Pr(>Chisq)\n",
       "mixed_model                           NA NA     NA        \n",
       "mixed_model_with_l2_covariates 0.1156104 14      1        "
      ]
     },
     "metadata": {},
     "output_type": "display_data"
    }
   ],
   "source": [
    "anova(mixed_model, mixed_model_with_l2_covariates, refit=FALSE)"
   ]
  },
  {
   "cell_type": "code",
   "execution_count": 33,
   "metadata": {},
   "outputs": [
    {
     "name": "stderr",
     "output_type": "stream",
     "text": [
      "refitting model(s) with ML (instead of REML)\n",
      "\n",
      "Warning message in optwrap(optimizer, devfun, x@theta, lower = x@lower, calc.derivs = TRUE, :\n",
      "“convergence code 1 from bobyqa: bobyqa -- maximum number of function evaluations exceeded”\n"
     ]
    },
    {
     "data": {
      "text/html": [
       "<table>\n",
       "<caption>A anova: 2 × 8</caption>\n",
       "<thead>\n",
       "\t<tr><th></th><th scope=col>Df</th><th scope=col>AIC</th><th scope=col>BIC</th><th scope=col>logLik</th><th scope=col>deviance</th><th scope=col>Chisq</th><th scope=col>Chi Df</th><th scope=col>Pr(&gt;Chisq)</th></tr>\n",
       "\t<tr><th></th><th scope=col>&lt;dbl&gt;</th><th scope=col>&lt;dbl&gt;</th><th scope=col>&lt;dbl&gt;</th><th scope=col>&lt;dbl&gt;</th><th scope=col>&lt;dbl&gt;</th><th scope=col>&lt;dbl&gt;</th><th scope=col>&lt;dbl&gt;</th><th scope=col>&lt;dbl&gt;</th></tr>\n",
       "</thead>\n",
       "<tbody>\n",
       "\t<tr><th scope=row>mixed_model</th><td> 8</td><td>1071.087</td><td>1103.889</td><td>-527.5434</td><td>1055.087</td><td>       NA</td><td>NA</td><td>NA</td></tr>\n",
       "\t<tr><th scope=row>mixed_model_with_l2_covariates</th><td>22</td><td>1098.914</td><td>1189.121</td><td>-527.4572</td><td>1054.914</td><td>0.1723502</td><td>14</td><td> 1</td></tr>\n",
       "</tbody>\n",
       "</table>\n"
      ],
      "text/latex": [
       "A anova: 2 × 8\n",
       "\\begin{tabular}{r|llllllll}\n",
       "  & Df & AIC & BIC & logLik & deviance & Chisq & Chi Df & Pr(>Chisq)\\\\\n",
       "  & <dbl> & <dbl> & <dbl> & <dbl> & <dbl> & <dbl> & <dbl> & <dbl>\\\\\n",
       "\\hline\n",
       "\tmixed\\_model &  8 & 1071.087 & 1103.889 & -527.5434 & 1055.087 &        NA & NA & NA\\\\\n",
       "\tmixed\\_model\\_with\\_l2\\_covariates & 22 & 1098.914 & 1189.121 & -527.4572 & 1054.914 & 0.1723502 & 14 &  1\\\\\n",
       "\\end{tabular}\n"
      ],
      "text/markdown": [
       "\n",
       "A anova: 2 × 8\n",
       "\n",
       "| <!--/--> | Df &lt;dbl&gt; | AIC &lt;dbl&gt; | BIC &lt;dbl&gt; | logLik &lt;dbl&gt; | deviance &lt;dbl&gt; | Chisq &lt;dbl&gt; | Chi Df &lt;dbl&gt; | Pr(&gt;Chisq) &lt;dbl&gt; |\n",
       "|---|---|---|---|---|---|---|---|---|\n",
       "| mixed_model |  8 | 1071.087 | 1103.889 | -527.5434 | 1055.087 |        NA | NA | NA |\n",
       "| mixed_model_with_l2_covariates | 22 | 1098.914 | 1189.121 | -527.4572 | 1054.914 | 0.1723502 | 14 |  1 |\n",
       "\n"
      ],
      "text/plain": [
       "                               Df AIC      BIC      logLik    deviance\n",
       "mixed_model                     8 1071.087 1103.889 -527.5434 1055.087\n",
       "mixed_model_with_l2_covariates 22 1098.914 1189.121 -527.4572 1054.914\n",
       "                               Chisq     Chi Df Pr(>Chisq)\n",
       "mixed_model                           NA NA     NA        \n",
       "mixed_model_with_l2_covariates 0.1723502 14      1        "
      ]
     },
     "metadata": {},
     "output_type": "display_data"
    }
   ],
   "source": [
    "anova(mixed_model, mixed_model_with_l2_covariates, refit=TRUE)"
   ]
  },
  {
   "cell_type": "code",
   "execution_count": null,
   "metadata": {},
   "outputs": [],
   "source": []
  }
 ],
 "metadata": {
  "kernelspec": {
   "display_name": "R",
   "language": "R",
   "name": "r-3.6.2"
  },
  "language_info": {
   "codemirror_mode": "r",
   "file_extension": ".r",
   "mimetype": "text/x-r-source",
   "name": "R",
   "pygments_lexer": "r",
   "version": "3.6.2"
  },
  "toc": {
   "base_numbering": 1,
   "nav_menu": {},
   "number_sections": true,
   "sideBar": true,
   "skip_h1_title": true,
   "title_cell": "Table of Contents",
   "title_sidebar": "Contents",
   "toc_cell": true,
   "toc_position": {
    "height": "calc(100% - 180px)",
    "left": "10px",
    "top": "150px",
    "width": "165px"
   },
   "toc_section_display": true,
   "toc_window_display": true
  }
 },
 "nbformat": 4,
 "nbformat_minor": 2
}

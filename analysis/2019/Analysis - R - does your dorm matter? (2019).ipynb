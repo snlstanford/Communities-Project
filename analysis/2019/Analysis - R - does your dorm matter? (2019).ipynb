{
 "cells": [
  {
   "cell_type": "markdown",
   "metadata": {},
   "source": [
    "# Does dorm matter for well-being?\n",
    "\n",
    "A: Probably not.\n",
    "\n",
    "We fit a range of models to predict student's t2 (fall) well-being (measured in week 4 of the semester). Overall, their reported life satisfaction at t1 (measured in week 0, before the semester began) explained most of the variance in t2 life satisfaction (approx 55%), with trace amounts of additional variance explainable by additional variables (approx 3% more). The few variables that remained significant contributors to the model, above and beyond t1 life satisfaction, were: stress at t1, loneliness at t1, number of network nominations (in and out) at t2, and average family income of the person's network nominations. All were in the intuitive directions but very small in size.\n",
    "\n",
    "Mixed-effects models showed that *none* of the residual variance in life satisfaction could be attributed to membership in particular dorms."
   ]
  },
  {
   "cell_type": "markdown",
   "metadata": {
    "toc": true
   },
   "source": [
    "<h1>Table of Contents<span class=\"tocSkip\"></span></h1>\n",
    "<div class=\"toc\"><ul class=\"toc-item\"><li><span><a href=\"#Libraries\" data-toc-modified-id=\"Libraries-1\"><span class=\"toc-item-num\">1&nbsp;&nbsp;</span>Libraries</a></span></li><li><span><a href=\"#Drop-people-who-made-no-network-nominations\" data-toc-modified-id=\"Drop-people-who-made-no-network-nominations-2\"><span class=\"toc-item-num\">2&nbsp;&nbsp;</span>Drop people who made no network nominations</a></span></li><li><span><a href=\"#Drop-the-rows-with-missing-values-(~20%)\" data-toc-modified-id=\"Drop-the-rows-with-missing-values-(~20%)-3\"><span class=\"toc-item-num\">3&nbsp;&nbsp;</span>Drop the rows with missing values (~20%)</a></span></li><li><span><a href=\"#Model\" data-toc-modified-id=\"Model-4\"><span class=\"toc-item-num\">4&nbsp;&nbsp;</span>Model</a></span><ul class=\"toc-item\"><li><span><a href=\"#Base-models---predict-well-being-at-t1-from-well-being-at-t1\" data-toc-modified-id=\"Base-models---predict-well-being-at-t1-from-well-being-at-t1-4.1\"><span class=\"toc-item-num\">4.1&nbsp;&nbsp;</span>Base models - predict well-being at t1 from well-being at t1</a></span><ul class=\"toc-item\"><li><span><a href=\"#Life-satisfaction\" data-toc-modified-id=\"Life-satisfaction-4.1.1\"><span class=\"toc-item-num\">4.1.1&nbsp;&nbsp;</span>Life satisfaction</a></span></li><li><span><a href=\"#Loneliness\" data-toc-modified-id=\"Loneliness-4.1.2\"><span class=\"toc-item-num\">4.1.2&nbsp;&nbsp;</span>Loneliness</a></span></li><li><span><a href=\"#Stress\" data-toc-modified-id=\"Stress-4.1.3\"><span class=\"toc-item-num\">4.1.3&nbsp;&nbsp;</span>Stress</a></span></li></ul></li><li><span><a href=\"#Fixed-effects-models:-predict-WB-at-t2-from-WB-and-other-personal-factors-at-t1\" data-toc-modified-id=\"Fixed-effects-models:-predict-WB-at-t2-from-WB-and-other-personal-factors-at-t1-4.2\"><span class=\"toc-item-num\">4.2&nbsp;&nbsp;</span>Fixed-effects models: predict WB at t2 from WB and other personal factors at t1</a></span><ul class=\"toc-item\"><li><span><a href=\"#From-here-on,-we'll-just-look-at-life-satisfaction\" data-toc-modified-id=\"From-here-on,-we'll-just-look-at-life-satisfaction-4.2.1\"><span class=\"toc-item-num\">4.2.1&nbsp;&nbsp;</span>From here on, we'll just look at life satisfaction</a></span></li></ul></li><li><span><a href=\"#Covariates-seem-to-matter-very-little---lets-reduce-our-fixed-effects-model-to-only-wellbeing-and-in/out-degree-measures\" data-toc-modified-id=\"Covariates-seem-to-matter-very-little---lets-reduce-our-fixed-effects-model-to-only-wellbeing-and-in/out-degree-measures-4.3\"><span class=\"toc-item-num\">4.3&nbsp;&nbsp;</span>Covariates seem to matter very little - lets reduce our fixed effects model to only wellbeing and in/out degree measures</a></span></li><li><span><a href=\"#Examine-residuals-by-dorm.-If-there-is-a-sigificant-dorm-wide-effect,-we-should-see-some-clear-boxes-that-are-above-and-below-zero.-(Spoiler-alert:-we-don't)\" data-toc-modified-id=\"Examine-residuals-by-dorm.-If-there-is-a-sigificant-dorm-wide-effect,-we-should-see-some-clear-boxes-that-are-above-and-below-zero.-(Spoiler-alert:-we-don't)-4.4\"><span class=\"toc-item-num\">4.4&nbsp;&nbsp;</span>Examine residuals by dorm. If there is a sigificant dorm-wide effect, we should see some clear boxes that are above and below zero. (Spoiler alert: we don't)</a></span></li></ul></li><li><span><a href=\"#Add-random-effect-for-dorm,-see-if-significant-variance-is-attributable-to-dorm-membership\" data-toc-modified-id=\"Add-random-effect-for-dorm,-see-if-significant-variance-is-attributable-to-dorm-membership-5\"><span class=\"toc-item-num\">5&nbsp;&nbsp;</span>Add random effect for dorm, see if significant variance is attributable to dorm membership</a></span><ul class=\"toc-item\"><li><span><a href=\"#Try-again,-with-some-dorm-level-covariates\" data-toc-modified-id=\"Try-again,-with-some-dorm-level-covariates-5.1\"><span class=\"toc-item-num\">5.1&nbsp;&nbsp;</span>Try again, with some dorm-level covariates</a></span></li></ul></li><li><span><a href=\"#Add-fixed-effects-for-network-(traits-of-people-connected-to-the-individual-via-nominations)\" data-toc-modified-id=\"Add-fixed-effects-for-network-(traits-of-people-connected-to-the-individual-via-nominations)-6\"><span class=\"toc-item-num\">6&nbsp;&nbsp;</span>Add fixed effects for network (traits of people connected to the individual via nominations)</a></span></li></ul></div>"
   ]
  },
  {
   "cell_type": "markdown",
   "metadata": {},
   "source": [
    "## Libraries"
   ]
  },
  {
   "cell_type": "code",
   "execution_count": 1,
   "metadata": {},
   "outputs": [
    {
     "name": "stderr",
     "output_type": "stream",
     "text": [
      "Loading required package: carData\n",
      "\n",
      "── \u001b[1mAttaching packages\u001b[22m ─────────────────────────────────────── tidyverse 1.3.0 ──\n",
      "\n",
      "\u001b[32m✔\u001b[39m \u001b[34mggplot2\u001b[39m 3.2.1     \u001b[32m✔\u001b[39m \u001b[34mpurrr  \u001b[39m 0.3.3\n",
      "\u001b[32m✔\u001b[39m \u001b[34mtibble \u001b[39m 2.1.3     \u001b[32m✔\u001b[39m \u001b[34mdplyr  \u001b[39m 0.8.3\n",
      "\u001b[32m✔\u001b[39m \u001b[34mtidyr  \u001b[39m 1.0.0     \u001b[32m✔\u001b[39m \u001b[34mstringr\u001b[39m 1.4.0\n",
      "\u001b[32m✔\u001b[39m \u001b[34mreadr  \u001b[39m 1.3.1     \u001b[32m✔\u001b[39m \u001b[34mforcats\u001b[39m 0.4.0\n",
      "\n",
      "── \u001b[1mConflicts\u001b[22m ────────────────────────────────────────── tidyverse_conflicts() ──\n",
      "\u001b[31m✖\u001b[39m \u001b[34mdplyr\u001b[39m::\u001b[32mfilter()\u001b[39m masks \u001b[34mstats\u001b[39m::filter()\n",
      "\u001b[31m✖\u001b[39m \u001b[34mdplyr\u001b[39m::\u001b[32mlag()\u001b[39m    masks \u001b[34mstats\u001b[39m::lag()\n",
      "\u001b[31m✖\u001b[39m \u001b[34mdplyr\u001b[39m::\u001b[32mrecode()\u001b[39m masks \u001b[34mcar\u001b[39m::recode()\n",
      "\u001b[31m✖\u001b[39m \u001b[34mpurrr\u001b[39m::\u001b[32msome()\u001b[39m   masks \u001b[34mcar\u001b[39m::some()\n",
      "\n",
      "Loading required package: lattice\n",
      "\n",
      "Registered S3 methods overwritten by 'lme4':\n",
      "  method                          from\n",
      "  cooks.distance.influence.merMod car \n",
      "  influence.merMod                car \n",
      "  dfbeta.influence.merMod         car \n",
      "  dfbetas.influence.merMod        car \n",
      "\n",
      "\n",
      "Attaching package: ‘mice’\n",
      "\n",
      "\n",
      "The following object is masked from ‘package:tidyr’:\n",
      "\n",
      "    complete\n",
      "\n",
      "\n",
      "The following objects are masked from ‘package:base’:\n",
      "\n",
      "    cbind, rbind\n",
      "\n",
      "\n",
      "\n",
      "Attaching package: ‘nlme’\n",
      "\n",
      "\n",
      "The following object is masked from ‘package:dplyr’:\n",
      "\n",
      "    collapse\n",
      "\n",
      "\n",
      "Loading required package: Matrix\n",
      "\n",
      "\n",
      "Attaching package: ‘Matrix’\n",
      "\n",
      "\n",
      "The following objects are masked from ‘package:tidyr’:\n",
      "\n",
      "    expand, pack, unpack\n",
      "\n",
      "\n",
      "\n",
      "Attaching package: ‘lme4’\n",
      "\n",
      "\n",
      "The following object is masked from ‘package:nlme’:\n",
      "\n",
      "    lmList\n",
      "\n",
      "\n",
      "\n",
      "Attaching package: ‘lmerTest’\n",
      "\n",
      "\n",
      "The following object is masked from ‘package:lme4’:\n",
      "\n",
      "    lmer\n",
      "\n",
      "\n",
      "The following object is masked from ‘package:stats’:\n",
      "\n",
      "    step\n",
      "\n",
      "\n"
     ]
    }
   ],
   "source": [
    "library(car)\n",
    "library(tidyverse)\n",
    "library(mice)\n",
    "library(nlme)\n",
    "library(lme4)\n",
    "library(lmerTest)"
   ]
  },
  {
   "cell_type": "code",
   "execution_count": 2,
   "metadata": {},
   "outputs": [
    {
     "data": {
      "text/html": [
       "<ol class=list-inline>\n",
       "\t<li>560</li>\n",
       "\t<li>57</li>\n",
       "</ol>\n"
      ],
      "text/latex": [
       "\\begin{enumerate*}\n",
       "\\item 560\n",
       "\\item 57\n",
       "\\end{enumerate*}\n"
      ],
      "text/markdown": [
       "1. 560\n",
       "2. 57\n",
       "\n",
       "\n"
      ],
      "text/plain": [
       "[1] 560  57"
      ]
     },
     "metadata": {},
     "output_type": "display_data"
    },
    {
     "data": {
      "text/html": [
       "<table>\n",
       "<caption>A data.frame: 6 × 57</caption>\n",
       "<thead>\n",
       "\t<tr><th></th><th scope=col>PID</th><th scope=col>gender</th><th scope=col>race</th><th scope=col>dorm</th><th scope=col>life_satisfaction_t1</th><th scope=col>empathy</th><th scope=col>loneliness_t1</th><th scope=col>stress_t1</th><th scope=col>BFI_E</th><th scope=col>BFI_A</th><th scope=col>⋯</th><th scope=col>network_BFI_A</th><th scope=col>network_BFI_O</th><th scope=col>network_BFI_N</th><th scope=col>network_BFI_C</th><th scope=col>network_intl_student</th><th scope=col>network_family_income</th><th scope=col>network_life_satisfaction_t2</th><th scope=col>network_loneliness_t2</th><th scope=col>network_stress_t2</th><th scope=col>network_n_networkmates</th></tr>\n",
       "\t<tr><th></th><th scope=col>&lt;int&gt;</th><th scope=col>&lt;fct&gt;</th><th scope=col>&lt;fct&gt;</th><th scope=col>&lt;fct&gt;</th><th scope=col>&lt;dbl&gt;</th><th scope=col>&lt;dbl&gt;</th><th scope=col>&lt;dbl&gt;</th><th scope=col>&lt;dbl&gt;</th><th scope=col>&lt;dbl&gt;</th><th scope=col>&lt;dbl&gt;</th><th scope=col>⋯</th><th scope=col>&lt;dbl&gt;</th><th scope=col>&lt;dbl&gt;</th><th scope=col>&lt;dbl&gt;</th><th scope=col>&lt;dbl&gt;</th><th scope=col>&lt;dbl&gt;</th><th scope=col>&lt;dbl&gt;</th><th scope=col>&lt;dbl&gt;</th><th scope=col>&lt;dbl&gt;</th><th scope=col>&lt;dbl&gt;</th><th scope=col>&lt;dbl&gt;</th></tr>\n",
       "</thead>\n",
       "<tbody>\n",
       "\t<tr><th scope=row>1</th><td>1001</td><td>male  </td><td>south_asian   </td><td>Rinconada</td><td>4.833333</td><td>6.375</td><td>1.333333</td><td>2.5</td><td>6.5</td><td>6.0</td><td>⋯</td><td>4.750000</td><td>5.75</td><td>4.500000</td><td>5.000000</td><td>0.0000000</td><td>175000.00</td><td>5.750000</td><td>2.333333</td><td>1.75</td><td> 2</td></tr>\n",
       "\t<tr><th scope=row>2</th><td>1047</td><td>female</td><td>other_or_mixed</td><td>Twain    </td><td>5.333333</td><td>6.500</td><td>2.000000</td><td>2.5</td><td>5.5</td><td>6.5</td><td>⋯</td><td>5.416667</td><td>5.50</td><td>2.833333</td><td>5.166667</td><td>0.1666667</td><td> 91666.67</td><td>4.833333</td><td>1.444444</td><td>2.25</td><td> 6</td></tr>\n",
       "\t<tr><th scope=row>3</th><td>1078</td><td>female</td><td>east_asian    </td><td>Loro     </td><td>5.500000</td><td>6.250</td><td>1.333333</td><td>2.0</td><td>4.5</td><td>6.5</td><td>⋯</td><td>5.500000</td><td>3.50</td><td>1.500000</td><td>4.000000</td><td>0.0000000</td><td> 90000.00</td><td>4.666667</td><td>1.000000</td><td>1.50</td><td> 1</td></tr>\n",
       "\t<tr><th scope=row>4</th><td>1097</td><td>male  </td><td>east_asian    </td><td>Otero    </td><td>6.000000</td><td>5.000</td><td>2.000000</td><td>2.0</td><td>3.0</td><td>4.0</td><td>⋯</td><td>5.400000</td><td>5.10</td><td>3.100000</td><td>5.700000</td><td>0.0000000</td><td>130000.00</td><td>4.866667</td><td>2.133333</td><td>2.20</td><td> 5</td></tr>\n",
       "\t<tr><th scope=row>5</th><td>1105</td><td>female</td><td>white         </td><td>Larkin   </td><td>6.666667</td><td>5.750</td><td>2.000000</td><td>2.0</td><td>4.5</td><td>5.0</td><td>⋯</td><td>4.350000</td><td>5.65</td><td>3.750000</td><td>5.550000</td><td>0.2000000</td><td>161000.00</td><td>5.133333</td><td>1.966667</td><td>2.20</td><td>10</td></tr>\n",
       "\t<tr><th scope=row>6</th><td>1110</td><td>female</td><td>white         </td><td>Larkin   </td><td>5.166667</td><td>6.750</td><td>2.000000</td><td>2.0</td><td>6.5</td><td>5.0</td><td>⋯</td><td>5.250000</td><td>5.00</td><td>2.625000</td><td>5.750000</td><td>0.0000000</td><td>152500.00</td><td>5.750000</td><td>1.666667</td><td>2.00</td><td> 4</td></tr>\n",
       "</tbody>\n",
       "</table>\n"
      ],
      "text/latex": [
       "A data.frame: 6 × 57\n",
       "\\begin{tabular}{r|lllllllllllllllllllll}\n",
       "  & PID & gender & race & dorm & life\\_satisfaction\\_t1 & empathy & loneliness\\_t1 & stress\\_t1 & BFI\\_E & BFI\\_A & ⋯ & network\\_BFI\\_A & network\\_BFI\\_O & network\\_BFI\\_N & network\\_BFI\\_C & network\\_intl\\_student & network\\_family\\_income & network\\_life\\_satisfaction\\_t2 & network\\_loneliness\\_t2 & network\\_stress\\_t2 & network\\_n\\_networkmates\\\\\n",
       "  & <int> & <fct> & <fct> & <fct> & <dbl> & <dbl> & <dbl> & <dbl> & <dbl> & <dbl> & ⋯ & <dbl> & <dbl> & <dbl> & <dbl> & <dbl> & <dbl> & <dbl> & <dbl> & <dbl> & <dbl>\\\\\n",
       "\\hline\n",
       "\t1 & 1001 & male   & south\\_asian    & Rinconada & 4.833333 & 6.375 & 1.333333 & 2.5 & 6.5 & 6.0 & ⋯ & 4.750000 & 5.75 & 4.500000 & 5.000000 & 0.0000000 & 175000.00 & 5.750000 & 2.333333 & 1.75 &  2\\\\\n",
       "\t2 & 1047 & female & other\\_or\\_mixed & Twain     & 5.333333 & 6.500 & 2.000000 & 2.5 & 5.5 & 6.5 & ⋯ & 5.416667 & 5.50 & 2.833333 & 5.166667 & 0.1666667 &  91666.67 & 4.833333 & 1.444444 & 2.25 &  6\\\\\n",
       "\t3 & 1078 & female & east\\_asian     & Loro      & 5.500000 & 6.250 & 1.333333 & 2.0 & 4.5 & 6.5 & ⋯ & 5.500000 & 3.50 & 1.500000 & 4.000000 & 0.0000000 &  90000.00 & 4.666667 & 1.000000 & 1.50 &  1\\\\\n",
       "\t4 & 1097 & male   & east\\_asian     & Otero     & 6.000000 & 5.000 & 2.000000 & 2.0 & 3.0 & 4.0 & ⋯ & 5.400000 & 5.10 & 3.100000 & 5.700000 & 0.0000000 & 130000.00 & 4.866667 & 2.133333 & 2.20 &  5\\\\\n",
       "\t5 & 1105 & female & white          & Larkin    & 6.666667 & 5.750 & 2.000000 & 2.0 & 4.5 & 5.0 & ⋯ & 4.350000 & 5.65 & 3.750000 & 5.550000 & 0.2000000 & 161000.00 & 5.133333 & 1.966667 & 2.20 & 10\\\\\n",
       "\t6 & 1110 & female & white          & Larkin    & 5.166667 & 6.750 & 2.000000 & 2.0 & 6.5 & 5.0 & ⋯ & 5.250000 & 5.00 & 2.625000 & 5.750000 & 0.0000000 & 152500.00 & 5.750000 & 1.666667 & 2.00 &  4\\\\\n",
       "\\end{tabular}\n"
      ],
      "text/markdown": [
       "\n",
       "A data.frame: 6 × 57\n",
       "\n",
       "| <!--/--> | PID &lt;int&gt; | gender &lt;fct&gt; | race &lt;fct&gt; | dorm &lt;fct&gt; | life_satisfaction_t1 &lt;dbl&gt; | empathy &lt;dbl&gt; | loneliness_t1 &lt;dbl&gt; | stress_t1 &lt;dbl&gt; | BFI_E &lt;dbl&gt; | BFI_A &lt;dbl&gt; | ⋯ ⋯ | network_BFI_A &lt;dbl&gt; | network_BFI_O &lt;dbl&gt; | network_BFI_N &lt;dbl&gt; | network_BFI_C &lt;dbl&gt; | network_intl_student &lt;dbl&gt; | network_family_income &lt;dbl&gt; | network_life_satisfaction_t2 &lt;dbl&gt; | network_loneliness_t2 &lt;dbl&gt; | network_stress_t2 &lt;dbl&gt; | network_n_networkmates &lt;dbl&gt; |\n",
       "|---|---|---|---|---|---|---|---|---|---|---|---|---|---|---|---|---|---|---|---|---|---|\n",
       "| 1 | 1001 | male   | south_asian    | Rinconada | 4.833333 | 6.375 | 1.333333 | 2.5 | 6.5 | 6.0 | ⋯ | 4.750000 | 5.75 | 4.500000 | 5.000000 | 0.0000000 | 175000.00 | 5.750000 | 2.333333 | 1.75 |  2 |\n",
       "| 2 | 1047 | female | other_or_mixed | Twain     | 5.333333 | 6.500 | 2.000000 | 2.5 | 5.5 | 6.5 | ⋯ | 5.416667 | 5.50 | 2.833333 | 5.166667 | 0.1666667 |  91666.67 | 4.833333 | 1.444444 | 2.25 |  6 |\n",
       "| 3 | 1078 | female | east_asian     | Loro      | 5.500000 | 6.250 | 1.333333 | 2.0 | 4.5 | 6.5 | ⋯ | 5.500000 | 3.50 | 1.500000 | 4.000000 | 0.0000000 |  90000.00 | 4.666667 | 1.000000 | 1.50 |  1 |\n",
       "| 4 | 1097 | male   | east_asian     | Otero     | 6.000000 | 5.000 | 2.000000 | 2.0 | 3.0 | 4.0 | ⋯ | 5.400000 | 5.10 | 3.100000 | 5.700000 | 0.0000000 | 130000.00 | 4.866667 | 2.133333 | 2.20 |  5 |\n",
       "| 5 | 1105 | female | white          | Larkin    | 6.666667 | 5.750 | 2.000000 | 2.0 | 4.5 | 5.0 | ⋯ | 4.350000 | 5.65 | 3.750000 | 5.550000 | 0.2000000 | 161000.00 | 5.133333 | 1.966667 | 2.20 | 10 |\n",
       "| 6 | 1110 | female | white          | Larkin    | 5.166667 | 6.750 | 2.000000 | 2.0 | 6.5 | 5.0 | ⋯ | 5.250000 | 5.00 | 2.625000 | 5.750000 | 0.0000000 | 152500.00 | 5.750000 | 1.666667 | 2.00 |  4 |\n",
       "\n"
      ],
      "text/plain": [
       "  PID  gender race           dorm      life_satisfaction_t1 empathy\n",
       "1 1001 male   south_asian    Rinconada 4.833333             6.375  \n",
       "2 1047 female other_or_mixed Twain     5.333333             6.500  \n",
       "3 1078 female east_asian     Loro      5.500000             6.250  \n",
       "4 1097 male   east_asian     Otero     6.000000             5.000  \n",
       "5 1105 female white          Larkin    6.666667             5.750  \n",
       "6 1110 female white          Larkin    5.166667             6.750  \n",
       "  loneliness_t1 stress_t1 BFI_E BFI_A ⋯ network_BFI_A network_BFI_O\n",
       "1 1.333333      2.5       6.5   6.0   ⋯ 4.750000      5.75         \n",
       "2 2.000000      2.5       5.5   6.5   ⋯ 5.416667      5.50         \n",
       "3 1.333333      2.0       4.5   6.5   ⋯ 5.500000      3.50         \n",
       "4 2.000000      2.0       3.0   4.0   ⋯ 5.400000      5.10         \n",
       "5 2.000000      2.0       4.5   5.0   ⋯ 4.350000      5.65         \n",
       "6 2.000000      2.0       6.5   5.0   ⋯ 5.250000      5.00         \n",
       "  network_BFI_N network_BFI_C network_intl_student network_family_income\n",
       "1 4.500000      5.000000      0.0000000            175000.00            \n",
       "2 2.833333      5.166667      0.1666667             91666.67            \n",
       "3 1.500000      4.000000      0.0000000             90000.00            \n",
       "4 3.100000      5.700000      0.0000000            130000.00            \n",
       "5 3.750000      5.550000      0.2000000            161000.00            \n",
       "6 2.625000      5.750000      0.0000000            152500.00            \n",
       "  network_life_satisfaction_t2 network_loneliness_t2 network_stress_t2\n",
       "1 5.750000                     2.333333              1.75             \n",
       "2 4.833333                     1.444444              2.25             \n",
       "3 4.666667                     1.000000              1.50             \n",
       "4 4.866667                     2.133333              2.20             \n",
       "5 5.133333                     1.966667              2.20             \n",
       "6 5.750000                     1.666667              2.00             \n",
       "  network_n_networkmates\n",
       "1  2                    \n",
       "2  6                    \n",
       "3  1                    \n",
       "4  5                    \n",
       "5 10                    \n",
       "6  4                    "
      ]
     },
     "metadata": {},
     "output_type": "display_data"
    }
   ],
   "source": [
    "df = read.csv('../data/2019–2020/postprocessed/df_full_train.csv', na.strings=c(\"\",\" \"))\n",
    "dim(df)\n",
    "head(df)"
   ]
  },
  {
   "cell_type": "code",
   "execution_count": 3,
   "metadata": {},
   "outputs": [
    {
     "name": "stdout",
     "output_type": "stream",
     "text": [
      "'data.frame':\t560 obs. of  57 variables:\n",
      " $ PID                         : int  1001 1047 1078 1097 1105 1110 1128 1132 1134 1162 ...\n",
      " $ gender                      : Factor w/ 3 levels \"female\",\"male\",..: 2 1 1 2 1 1 1 1 2 1 ...\n",
      " $ race                        : Factor w/ 6 levels \"black\",\"east_asian\",..: 5 4 2 2 6 6 6 NA 3 2 ...\n",
      " $ dorm                        : Factor w/ 21 levels \"Alondra\",\"Arroyo\",..: 16 19 11 15 10 10 7 15 2 3 ...\n",
      " $ life_satisfaction_t1        : num  4.83 5.33 5.5 6 6.67 ...\n",
      " $ empathy                     : num  6.38 6.5 6.25 5 5.75 ...\n",
      " $ loneliness_t1               : num  1.33 2 1.33 2 2 ...\n",
      " $ stress_t1                   : num  2.5 2.5 2 2 2 2 1.5 2 1.5 1 ...\n",
      " $ BFI_E                       : num  6.5 5.5 4.5 3 4.5 6.5 5 7 5.5 3.5 ...\n",
      " $ BFI_A                       : num  6 6.5 6.5 4 5 5 5 5 5 6.5 ...\n",
      " $ BFI_O                       : num  6.5 6.5 6.5 4.5 4.5 4.5 5.5 5.5 6 7 ...\n",
      " $ BFI_N                       : num  3.5 3 1.5 1.5 2 2 2 2.5 1.5 3 ...\n",
      " $ BFI_C                       : num  5.5 7 6.5 5.5 5 6 6 7 6.5 5 ...\n",
      " $ intl_student                : num  0 0 0 0 0 0 0 0 0 0 ...\n",
      " $ family_income               : num  70000 220000 130000 90000 170000 110000 90000 110000 90000 220000 ...\n",
      " $ life_satisfaction_t2        : num  6.17 5.17 5.5 5.83 6.67 ...\n",
      " $ loneliness_t2               : num  2 2 2.33 2 2 ...\n",
      " $ stress_t2                   : num  1.5 3 3 2.5 2 2 1.5 2 2 2.5 ...\n",
      " $ parent_education_highest    : Factor w/ 6 levels \"0_less_than_hs\",..: 5 5 6 6 4 5 6 4 4 6 ...\n",
      " $ edges_in                    : int  3 6 1 6 6 4 5 4 6 9 ...\n",
      " $ edges_out                   : int  10 9 7 4 26 9 14 9 11 8 ...\n",
      " $ edges_reciprocal            : int  1 3 0 4 3 4 5 3 4 5 ...\n",
      " $ edges_unique                : int  12 12 8 6 29 9 14 10 13 12 ...\n",
      " $ dorm_life_satisfaction_t1   : num  5.03 5.33 4 5.44 5.1 ...\n",
      " $ dorm_empathy                : num  5.5 5.72 5.59 5.7 5.82 ...\n",
      " $ dorm_loneliness_t1          : num  1.84 1.68 1.86 1.78 1.8 ...\n",
      " $ dorm_stress_t1              : num  2 1.99 2.25 1.92 2.07 ...\n",
      " $ dorm_BFI_E                  : num  4.53 4.04 3.88 4.44 4.66 ...\n",
      " $ dorm_BFI_A                  : num  4.98 5.2 4.62 4.9 4.94 ...\n",
      " $ dorm_BFI_O                  : num  5.38 5.42 5.38 5.26 5.41 ...\n",
      " $ dorm_BFI_N                  : num  3.33 2.91 3.54 2.92 3.27 ...\n",
      " $ dorm_BFI_C                  : num  5.67 5.55 5 5.71 5.69 ...\n",
      " $ dorm_intl_student           : num  0.1724 0.1316 0.0833 0.0278 0.1509 ...\n",
      " $ dorm_family_income          : num  116207 143514 129091 141429 138235 ...\n",
      " $ dorm_life_satisfaction_t2   : num  4.93 5.24 4.43 5.27 4.91 ...\n",
      " $ dorm_loneliness_t2          : num  2.03 1.73 2 1.86 1.82 ...\n",
      " $ dorm_stress_t2              : num  1.95 2 1.96 1.92 2.19 ...\n",
      " $ dorm_edges_in               : num  5.21 4.39 2.33 4.78 5.76 ...\n",
      " $ dorm_edges_out              : num  10.93 8.16 6.83 10 8.96 ...\n",
      " $ dorm_edges_reciprocal       : num  3.38 2.47 1.5 2.72 3.3 ...\n",
      " $ dorm_edges_unique           : num  12.76 10.08 7.67 12.06 11.43 ...\n",
      " $ dorm_n_dormmates            : num  29 38 12 36 54 54 41 36 29 38 ...\n",
      " $ network_life_satisfaction_t1: num  4.92 5.06 4.67 5.4 5.48 ...\n",
      " $ network_empathy             : num  5.94 6.35 5.25 5.95 5.8 ...\n",
      " $ network_loneliness_t1       : num  2.17 1.44 1 1.73 1.6 ...\n",
      " $ network_stress_t1           : num  2.5 2 1.5 2.4 2.25 ...\n",
      " $ network_BFI_E               : num  6.75 5.25 2.5 4.4 5.25 ...\n",
      " $ network_BFI_A               : num  4.75 5.42 5.5 5.4 4.35 ...\n",
      " $ network_BFI_O               : num  5.75 5.5 3.5 5.1 5.65 ...\n",
      " $ network_BFI_N               : num  4.5 2.83 1.5 3.1 3.75 ...\n",
      " $ network_BFI_C               : num  5 5.17 4 5.7 5.55 ...\n",
      " $ network_intl_student        : num  0 0.167 0 0 0.2 ...\n",
      " $ network_family_income       : num  175000 91667 90000 130000 161000 ...\n",
      " $ network_life_satisfaction_t2: num  5.75 4.83 4.67 4.87 5.13 ...\n",
      " $ network_loneliness_t2       : num  2.33 1.44 1 2.13 1.97 ...\n",
      " $ network_stress_t2           : num  1.75 2.25 1.5 2.2 2.2 ...\n",
      " $ network_n_networkmates      : num  2 6 1 5 10 4 3 4 5 9 ...\n"
     ]
    }
   ],
   "source": [
    "str(df)"
   ]
  },
  {
   "cell_type": "markdown",
   "metadata": {},
   "source": [
    "## Drop people who made no network nominations"
   ]
  },
  {
   "cell_type": "code",
   "execution_count": 4,
   "metadata": {},
   "outputs": [
    {
     "name": "stdout",
     "output_type": "stream",
     "text": [
      "[1] 560  57\n",
      "[1] 542  57\n"
     ]
    }
   ],
   "source": [
    "print(dim(df))\n",
    "df = df[df$edges_out != 0,]\n",
    "print(dim(df))"
   ]
  },
  {
   "cell_type": "markdown",
   "metadata": {},
   "source": [
    "## Drop the rows with missing values (~20%)"
   ]
  },
  {
   "cell_type": "code",
   "execution_count": 5,
   "metadata": {},
   "outputs": [
    {
     "data": {
      "text/html": [
       "<table>\n",
       "<caption>A matrix: 17 × 58 of type dbl</caption>\n",
       "<thead>\n",
       "\t<tr><th></th><th scope=col>PID</th><th scope=col>dorm</th><th scope=col>life_satisfaction_t1</th><th scope=col>empathy</th><th scope=col>loneliness_t1</th><th scope=col>stress_t1</th><th scope=col>BFI_E</th><th scope=col>BFI_A</th><th scope=col>BFI_O</th><th scope=col>BFI_N</th><th scope=col>⋯</th><th scope=col>network_BFI_O</th><th scope=col>network_BFI_N</th><th scope=col>network_BFI_C</th><th scope=col>network_intl_student</th><th scope=col>network_family_income</th><th scope=col>network_life_satisfaction_t2</th><th scope=col>network_loneliness_t2</th><th scope=col>network_stress_t2</th><th scope=col>race</th><th scope=col></th></tr>\n",
       "</thead>\n",
       "<tbody>\n",
       "\t<tr><th scope=row>436</th><td>1</td><td>1</td><td>1</td><td>1</td><td>1</td><td>1</td><td>1</td><td>1</td><td>1</td><td>1</td><td>⋯</td><td> 1</td><td> 1</td><td> 1</td><td> 1</td><td> 1</td><td> 1</td><td> 1</td><td> 1</td><td> 1</td><td>  0</td></tr>\n",
       "\t<tr><th scope=row>49</th><td>1</td><td>1</td><td>1</td><td>1</td><td>1</td><td>1</td><td>1</td><td>1</td><td>1</td><td>1</td><td>⋯</td><td> 1</td><td> 1</td><td> 1</td><td> 1</td><td> 1</td><td> 1</td><td> 1</td><td> 1</td><td> 0</td><td>  1</td></tr>\n",
       "\t<tr><th scope=row>7</th><td>1</td><td>1</td><td>1</td><td>1</td><td>1</td><td>1</td><td>1</td><td>1</td><td>1</td><td>1</td><td>⋯</td><td> 0</td><td> 0</td><td> 0</td><td> 0</td><td> 0</td><td> 0</td><td> 0</td><td> 0</td><td> 1</td><td> 14</td></tr>\n",
       "\t<tr><th scope=row>1</th><td>1</td><td>1</td><td>1</td><td>1</td><td>1</td><td>1</td><td>1</td><td>1</td><td>1</td><td>1</td><td>⋯</td><td> 0</td><td> 0</td><td> 0</td><td> 0</td><td> 0</td><td> 0</td><td> 0</td><td> 0</td><td> 0</td><td> 15</td></tr>\n",
       "\t<tr><th scope=row>12</th><td>1</td><td>1</td><td>1</td><td>1</td><td>1</td><td>1</td><td>1</td><td>1</td><td>1</td><td>1</td><td>⋯</td><td> 1</td><td> 1</td><td> 1</td><td> 1</td><td> 1</td><td> 1</td><td> 1</td><td> 1</td><td> 1</td><td>  1</td></tr>\n",
       "\t<tr><th scope=row>3</th><td>1</td><td>1</td><td>1</td><td>1</td><td>1</td><td>1</td><td>1</td><td>1</td><td>1</td><td>1</td><td>⋯</td><td> 1</td><td> 1</td><td> 1</td><td> 1</td><td> 1</td><td> 1</td><td> 1</td><td> 1</td><td> 0</td><td>  2</td></tr>\n",
       "\t<tr><th scope=row>1</th><td>1</td><td>1</td><td>1</td><td>1</td><td>1</td><td>1</td><td>1</td><td>1</td><td>1</td><td>1</td><td>⋯</td><td> 0</td><td> 0</td><td> 0</td><td> 0</td><td> 0</td><td> 0</td><td> 0</td><td> 0</td><td> 0</td><td> 16</td></tr>\n",
       "\t<tr><th scope=row>13</th><td>1</td><td>1</td><td>1</td><td>1</td><td>1</td><td>1</td><td>1</td><td>1</td><td>1</td><td>1</td><td>⋯</td><td> 0</td><td> 0</td><td> 0</td><td> 0</td><td> 0</td><td> 0</td><td> 0</td><td> 0</td><td> 1</td><td> 15</td></tr>\n",
       "\t<tr><th scope=row>3</th><td>1</td><td>1</td><td>1</td><td>1</td><td>1</td><td>1</td><td>1</td><td>1</td><td>1</td><td>1</td><td>⋯</td><td> 0</td><td> 0</td><td> 0</td><td> 0</td><td> 0</td><td> 0</td><td> 0</td><td> 0</td><td> 0</td><td> 16</td></tr>\n",
       "\t<tr><th scope=row>9</th><td>1</td><td>1</td><td>1</td><td>1</td><td>1</td><td>1</td><td>1</td><td>1</td><td>1</td><td>1</td><td>⋯</td><td> 1</td><td> 1</td><td> 1</td><td> 1</td><td> 1</td><td> 1</td><td> 1</td><td> 1</td><td> 1</td><td>  1</td></tr>\n",
       "\t<tr><th scope=row>3</th><td>1</td><td>1</td><td>1</td><td>1</td><td>1</td><td>1</td><td>1</td><td>1</td><td>1</td><td>1</td><td>⋯</td><td> 1</td><td> 1</td><td> 1</td><td> 1</td><td> 1</td><td> 1</td><td> 1</td><td> 1</td><td> 1</td><td>  1</td></tr>\n",
       "\t<tr><th scope=row>1</th><td>1</td><td>1</td><td>1</td><td>1</td><td>1</td><td>1</td><td>1</td><td>1</td><td>1</td><td>1</td><td>⋯</td><td> 1</td><td> 1</td><td> 1</td><td> 1</td><td> 1</td><td> 1</td><td> 1</td><td> 1</td><td> 0</td><td>  2</td></tr>\n",
       "\t<tr><th scope=row>1</th><td>1</td><td>1</td><td>1</td><td>1</td><td>1</td><td>1</td><td>1</td><td>1</td><td>1</td><td>1</td><td>⋯</td><td> 1</td><td> 1</td><td> 1</td><td> 1</td><td> 1</td><td> 1</td><td> 1</td><td> 1</td><td> 1</td><td>  3</td></tr>\n",
       "\t<tr><th scope=row>1</th><td>1</td><td>1</td><td>1</td><td>1</td><td>1</td><td>1</td><td>1</td><td>1</td><td>1</td><td>1</td><td>⋯</td><td> 1</td><td> 1</td><td> 1</td><td> 1</td><td> 1</td><td> 1</td><td> 1</td><td> 1</td><td> 1</td><td>  3</td></tr>\n",
       "\t<tr><th scope=row>1</th><td>1</td><td>1</td><td>1</td><td>1</td><td>1</td><td>1</td><td>1</td><td>1</td><td>1</td><td>1</td><td>⋯</td><td> 1</td><td> 1</td><td> 1</td><td> 1</td><td> 1</td><td> 1</td><td> 1</td><td> 1</td><td> 1</td><td>  5</td></tr>\n",
       "\t<tr><th scope=row>1</th><td>1</td><td>1</td><td>1</td><td>1</td><td>1</td><td>1</td><td>1</td><td>1</td><td>1</td><td>1</td><td>⋯</td><td> 1</td><td> 1</td><td> 1</td><td> 1</td><td> 1</td><td> 1</td><td> 1</td><td> 1</td><td> 1</td><td>  4</td></tr>\n",
       "\t<tr><th scope=row></th><td>0</td><td>0</td><td>0</td><td>0</td><td>0</td><td>0</td><td>0</td><td>0</td><td>0</td><td>0</td><td>⋯</td><td>25</td><td>25</td><td>25</td><td>25</td><td>25</td><td>25</td><td>25</td><td>25</td><td>58</td><td>468</td></tr>\n",
       "</tbody>\n",
       "</table>\n"
      ],
      "text/latex": [
       "A matrix: 17 × 58 of type dbl\n",
       "\\begin{tabular}{r|lllllllllllllllllllll}\n",
       "  & PID & dorm & life\\_satisfaction\\_t1 & empathy & loneliness\\_t1 & stress\\_t1 & BFI\\_E & BFI\\_A & BFI\\_O & BFI\\_N & ⋯ & network\\_BFI\\_O & network\\_BFI\\_N & network\\_BFI\\_C & network\\_intl\\_student & network\\_family\\_income & network\\_life\\_satisfaction\\_t2 & network\\_loneliness\\_t2 & network\\_stress\\_t2 & race & \\\\\n",
       "\\hline\n",
       "\t436 & 1 & 1 & 1 & 1 & 1 & 1 & 1 & 1 & 1 & 1 & ⋯ &  1 &  1 &  1 &  1 &  1 &  1 &  1 &  1 &  1 &   0\\\\\n",
       "\t49 & 1 & 1 & 1 & 1 & 1 & 1 & 1 & 1 & 1 & 1 & ⋯ &  1 &  1 &  1 &  1 &  1 &  1 &  1 &  1 &  0 &   1\\\\\n",
       "\t7 & 1 & 1 & 1 & 1 & 1 & 1 & 1 & 1 & 1 & 1 & ⋯ &  0 &  0 &  0 &  0 &  0 &  0 &  0 &  0 &  1 &  14\\\\\n",
       "\t1 & 1 & 1 & 1 & 1 & 1 & 1 & 1 & 1 & 1 & 1 & ⋯ &  0 &  0 &  0 &  0 &  0 &  0 &  0 &  0 &  0 &  15\\\\\n",
       "\t12 & 1 & 1 & 1 & 1 & 1 & 1 & 1 & 1 & 1 & 1 & ⋯ &  1 &  1 &  1 &  1 &  1 &  1 &  1 &  1 &  1 &   1\\\\\n",
       "\t3 & 1 & 1 & 1 & 1 & 1 & 1 & 1 & 1 & 1 & 1 & ⋯ &  1 &  1 &  1 &  1 &  1 &  1 &  1 &  1 &  0 &   2\\\\\n",
       "\t1 & 1 & 1 & 1 & 1 & 1 & 1 & 1 & 1 & 1 & 1 & ⋯ &  0 &  0 &  0 &  0 &  0 &  0 &  0 &  0 &  0 &  16\\\\\n",
       "\t13 & 1 & 1 & 1 & 1 & 1 & 1 & 1 & 1 & 1 & 1 & ⋯ &  0 &  0 &  0 &  0 &  0 &  0 &  0 &  0 &  1 &  15\\\\\n",
       "\t3 & 1 & 1 & 1 & 1 & 1 & 1 & 1 & 1 & 1 & 1 & ⋯ &  0 &  0 &  0 &  0 &  0 &  0 &  0 &  0 &  0 &  16\\\\\n",
       "\t9 & 1 & 1 & 1 & 1 & 1 & 1 & 1 & 1 & 1 & 1 & ⋯ &  1 &  1 &  1 &  1 &  1 &  1 &  1 &  1 &  1 &   1\\\\\n",
       "\t3 & 1 & 1 & 1 & 1 & 1 & 1 & 1 & 1 & 1 & 1 & ⋯ &  1 &  1 &  1 &  1 &  1 &  1 &  1 &  1 &  1 &   1\\\\\n",
       "\t1 & 1 & 1 & 1 & 1 & 1 & 1 & 1 & 1 & 1 & 1 & ⋯ &  1 &  1 &  1 &  1 &  1 &  1 &  1 &  1 &  0 &   2\\\\\n",
       "\t1 & 1 & 1 & 1 & 1 & 1 & 1 & 1 & 1 & 1 & 1 & ⋯ &  1 &  1 &  1 &  1 &  1 &  1 &  1 &  1 &  1 &   3\\\\\n",
       "\t1 & 1 & 1 & 1 & 1 & 1 & 1 & 1 & 1 & 1 & 1 & ⋯ &  1 &  1 &  1 &  1 &  1 &  1 &  1 &  1 &  1 &   3\\\\\n",
       "\t1 & 1 & 1 & 1 & 1 & 1 & 1 & 1 & 1 & 1 & 1 & ⋯ &  1 &  1 &  1 &  1 &  1 &  1 &  1 &  1 &  1 &   5\\\\\n",
       "\t1 & 1 & 1 & 1 & 1 & 1 & 1 & 1 & 1 & 1 & 1 & ⋯ &  1 &  1 &  1 &  1 &  1 &  1 &  1 &  1 &  1 &   4\\\\\n",
       "\t & 0 & 0 & 0 & 0 & 0 & 0 & 0 & 0 & 0 & 0 & ⋯ & 25 & 25 & 25 & 25 & 25 & 25 & 25 & 25 & 58 & 468\\\\\n",
       "\\end{tabular}\n"
      ],
      "text/markdown": [
       "\n",
       "A matrix: 17 × 58 of type dbl\n",
       "\n",
       "| <!--/--> | PID | dorm | life_satisfaction_t1 | empathy | loneliness_t1 | stress_t1 | BFI_E | BFI_A | BFI_O | BFI_N | ⋯ | network_BFI_O | network_BFI_N | network_BFI_C | network_intl_student | network_family_income | network_life_satisfaction_t2 | network_loneliness_t2 | network_stress_t2 | race | <!----> |\n",
       "|---|---|---|---|---|---|---|---|---|---|---|---|---|---|---|---|---|---|---|---|---|---|\n",
       "| 436 | 1 | 1 | 1 | 1 | 1 | 1 | 1 | 1 | 1 | 1 | ⋯ |  1 |  1 |  1 |  1 |  1 |  1 |  1 |  1 |  1 |   0 |\n",
       "| 49 | 1 | 1 | 1 | 1 | 1 | 1 | 1 | 1 | 1 | 1 | ⋯ |  1 |  1 |  1 |  1 |  1 |  1 |  1 |  1 |  0 |   1 |\n",
       "| 7 | 1 | 1 | 1 | 1 | 1 | 1 | 1 | 1 | 1 | 1 | ⋯ |  0 |  0 |  0 |  0 |  0 |  0 |  0 |  0 |  1 |  14 |\n",
       "| 1 | 1 | 1 | 1 | 1 | 1 | 1 | 1 | 1 | 1 | 1 | ⋯ |  0 |  0 |  0 |  0 |  0 |  0 |  0 |  0 |  0 |  15 |\n",
       "| 12 | 1 | 1 | 1 | 1 | 1 | 1 | 1 | 1 | 1 | 1 | ⋯ |  1 |  1 |  1 |  1 |  1 |  1 |  1 |  1 |  1 |   1 |\n",
       "| 3 | 1 | 1 | 1 | 1 | 1 | 1 | 1 | 1 | 1 | 1 | ⋯ |  1 |  1 |  1 |  1 |  1 |  1 |  1 |  1 |  0 |   2 |\n",
       "| 1 | 1 | 1 | 1 | 1 | 1 | 1 | 1 | 1 | 1 | 1 | ⋯ |  0 |  0 |  0 |  0 |  0 |  0 |  0 |  0 |  0 |  16 |\n",
       "| 13 | 1 | 1 | 1 | 1 | 1 | 1 | 1 | 1 | 1 | 1 | ⋯ |  0 |  0 |  0 |  0 |  0 |  0 |  0 |  0 |  1 |  15 |\n",
       "| 3 | 1 | 1 | 1 | 1 | 1 | 1 | 1 | 1 | 1 | 1 | ⋯ |  0 |  0 |  0 |  0 |  0 |  0 |  0 |  0 |  0 |  16 |\n",
       "| 9 | 1 | 1 | 1 | 1 | 1 | 1 | 1 | 1 | 1 | 1 | ⋯ |  1 |  1 |  1 |  1 |  1 |  1 |  1 |  1 |  1 |   1 |\n",
       "| 3 | 1 | 1 | 1 | 1 | 1 | 1 | 1 | 1 | 1 | 1 | ⋯ |  1 |  1 |  1 |  1 |  1 |  1 |  1 |  1 |  1 |   1 |\n",
       "| 1 | 1 | 1 | 1 | 1 | 1 | 1 | 1 | 1 | 1 | 1 | ⋯ |  1 |  1 |  1 |  1 |  1 |  1 |  1 |  1 |  0 |   2 |\n",
       "| 1 | 1 | 1 | 1 | 1 | 1 | 1 | 1 | 1 | 1 | 1 | ⋯ |  1 |  1 |  1 |  1 |  1 |  1 |  1 |  1 |  1 |   3 |\n",
       "| 1 | 1 | 1 | 1 | 1 | 1 | 1 | 1 | 1 | 1 | 1 | ⋯ |  1 |  1 |  1 |  1 |  1 |  1 |  1 |  1 |  1 |   3 |\n",
       "| 1 | 1 | 1 | 1 | 1 | 1 | 1 | 1 | 1 | 1 | 1 | ⋯ |  1 |  1 |  1 |  1 |  1 |  1 |  1 |  1 |  1 |   5 |\n",
       "| 1 | 1 | 1 | 1 | 1 | 1 | 1 | 1 | 1 | 1 | 1 | ⋯ |  1 |  1 |  1 |  1 |  1 |  1 |  1 |  1 |  1 |   4 |\n",
       "| <!----> | 0 | 0 | 0 | 0 | 0 | 0 | 0 | 0 | 0 | 0 | ⋯ | 25 | 25 | 25 | 25 | 25 | 25 | 25 | 25 | 58 | 468 |\n",
       "\n"
      ],
      "text/plain": [
       "    PID dorm life_satisfaction_t1 empathy loneliness_t1 stress_t1 BFI_E BFI_A\n",
       "436 1   1    1                    1       1             1         1     1    \n",
       "49  1   1    1                    1       1             1         1     1    \n",
       "7   1   1    1                    1       1             1         1     1    \n",
       "1   1   1    1                    1       1             1         1     1    \n",
       "12  1   1    1                    1       1             1         1     1    \n",
       "3   1   1    1                    1       1             1         1     1    \n",
       "1   1   1    1                    1       1             1         1     1    \n",
       "13  1   1    1                    1       1             1         1     1    \n",
       "3   1   1    1                    1       1             1         1     1    \n",
       "9   1   1    1                    1       1             1         1     1    \n",
       "3   1   1    1                    1       1             1         1     1    \n",
       "1   1   1    1                    1       1             1         1     1    \n",
       "1   1   1    1                    1       1             1         1     1    \n",
       "1   1   1    1                    1       1             1         1     1    \n",
       "1   1   1    1                    1       1             1         1     1    \n",
       "1   1   1    1                    1       1             1         1     1    \n",
       "    0   0    0                    0       0             0         0     0    \n",
       "    BFI_O BFI_N ⋯ network_BFI_O network_BFI_N network_BFI_C\n",
       "436 1     1     ⋯  1             1             1           \n",
       "49  1     1     ⋯  1             1             1           \n",
       "7   1     1     ⋯  0             0             0           \n",
       "1   1     1     ⋯  0             0             0           \n",
       "12  1     1     ⋯  1             1             1           \n",
       "3   1     1     ⋯  1             1             1           \n",
       "1   1     1     ⋯  0             0             0           \n",
       "13  1     1     ⋯  0             0             0           \n",
       "3   1     1     ⋯  0             0             0           \n",
       "9   1     1     ⋯  1             1             1           \n",
       "3   1     1     ⋯  1             1             1           \n",
       "1   1     1     ⋯  1             1             1           \n",
       "1   1     1     ⋯  1             1             1           \n",
       "1   1     1     ⋯  1             1             1           \n",
       "1   1     1     ⋯  1             1             1           \n",
       "1   1     1     ⋯  1             1             1           \n",
       "    0     0     ⋯ 25            25            25           \n",
       "    network_intl_student network_family_income network_life_satisfaction_t2\n",
       "436  1                    1                     1                          \n",
       "49   1                    1                     1                          \n",
       "7    0                    0                     0                          \n",
       "1    0                    0                     0                          \n",
       "12   1                    1                     1                          \n",
       "3    1                    1                     1                          \n",
       "1    0                    0                     0                          \n",
       "13   0                    0                     0                          \n",
       "3    0                    0                     0                          \n",
       "9    1                    1                     1                          \n",
       "3    1                    1                     1                          \n",
       "1    1                    1                     1                          \n",
       "1    1                    1                     1                          \n",
       "1    1                    1                     1                          \n",
       "1    1                    1                     1                          \n",
       "1    1                    1                     1                          \n",
       "    25                   25                    25                          \n",
       "    network_loneliness_t2 network_stress_t2 race    \n",
       "436  1                     1                 1     0\n",
       "49   1                     1                 0     1\n",
       "7    0                     0                 1    14\n",
       "1    0                     0                 0    15\n",
       "12   1                     1                 1     1\n",
       "3    1                     1                 0     2\n",
       "1    0                     0                 0    16\n",
       "13   0                     0                 1    15\n",
       "3    0                     0                 0    16\n",
       "9    1                     1                 1     1\n",
       "3    1                     1                 1     1\n",
       "1    1                     1                 0     2\n",
       "1    1                     1                 1     3\n",
       "1    1                     1                 1     3\n",
       "1    1                     1                 1     5\n",
       "1    1                     1                 1     4\n",
       "    25                    25                58   468"
      ]
     },
     "metadata": {},
     "output_type": "display_data"
    },
    {
     "data": {
      "image/png": "[encoded data removed]",
      "text/plain": [
       "plot without title"
      ]
     },
     "metadata": {
      "image/png": {
       "height": 420,
       "width": 420
      },
      "text/plain": {
       "height": 420,
       "width": 420
      }
     },
     "output_type": "display_data"
    }
   ],
   "source": [
    "md.pattern(df)"
   ]
  },
  {
   "cell_type": "code",
   "execution_count": 6,
   "metadata": {},
   "outputs": [],
   "source": [
    "# imputed <- mice(df, m=1)\n",
    "# df = complete(imputed)\n",
    "# sum(is.na(df))"
   ]
  },
  {
   "cell_type": "code",
   "execution_count": 7,
   "metadata": {},
   "outputs": [
    {
     "data": {
      "text/html": [
       "<ol class=list-inline>\n",
       "\t<li>542</li>\n",
       "\t<li>57</li>\n",
       "</ol>\n"
      ],
      "text/latex": [
       "\\begin{enumerate*}\n",
       "\\item 542\n",
       "\\item 57\n",
       "\\end{enumerate*}\n"
      ],
      "text/markdown": [
       "1. 542\n",
       "2. 57\n",
       "\n",
       "\n"
      ],
      "text/plain": [
       "[1] 542  57"
      ]
     },
     "metadata": {},
     "output_type": "display_data"
    },
    {
     "data": {
      "text/html": [
       "<ol class=list-inline>\n",
       "\t<li>436</li>\n",
       "\t<li>57</li>\n",
       "</ol>\n"
      ],
      "text/latex": [
       "\\begin{enumerate*}\n",
       "\\item 436\n",
       "\\item 57\n",
       "\\end{enumerate*}\n"
      ],
      "text/markdown": [
       "1. 436\n",
       "2. 57\n",
       "\n",
       "\n"
      ],
      "text/plain": [
       "[1] 436  57"
      ]
     },
     "metadata": {},
     "output_type": "display_data"
    }
   ],
   "source": [
    "dim(df)\n",
    "df = df[complete.cases(df), ]\n",
    "dim(df)"
   ]
  },
  {
   "cell_type": "markdown",
   "metadata": {},
   "source": [
    "## Model"
   ]
  },
  {
   "cell_type": "code",
   "execution_count": 8,
   "metadata": {},
   "outputs": [
    {
     "data": {
      "text/html": [
       "<table>\n",
       "<caption>A data.frame: 6 × 57</caption>\n",
       "<thead>\n",
       "\t<tr><th></th><th scope=col>PID</th><th scope=col>gender</th><th scope=col>race</th><th scope=col>dorm</th><th scope=col>life_satisfaction_t1</th><th scope=col>empathy</th><th scope=col>loneliness_t1</th><th scope=col>stress_t1</th><th scope=col>BFI_E</th><th scope=col>BFI_A</th><th scope=col>⋯</th><th scope=col>network_BFI_A</th><th scope=col>network_BFI_O</th><th scope=col>network_BFI_N</th><th scope=col>network_BFI_C</th><th scope=col>network_intl_student</th><th scope=col>network_family_income</th><th scope=col>network_life_satisfaction_t2</th><th scope=col>network_loneliness_t2</th><th scope=col>network_stress_t2</th><th scope=col>network_n_networkmates</th></tr>\n",
       "\t<tr><th></th><th scope=col>&lt;int&gt;</th><th scope=col>&lt;fct&gt;</th><th scope=col>&lt;fct&gt;</th><th scope=col>&lt;fct&gt;</th><th scope=col>&lt;dbl&gt;</th><th scope=col>&lt;dbl&gt;</th><th scope=col>&lt;dbl&gt;</th><th scope=col>&lt;dbl&gt;</th><th scope=col>&lt;dbl&gt;</th><th scope=col>&lt;dbl&gt;</th><th scope=col>⋯</th><th scope=col>&lt;dbl&gt;</th><th scope=col>&lt;dbl&gt;</th><th scope=col>&lt;dbl&gt;</th><th scope=col>&lt;dbl&gt;</th><th scope=col>&lt;dbl&gt;</th><th scope=col>&lt;dbl&gt;</th><th scope=col>&lt;dbl&gt;</th><th scope=col>&lt;dbl&gt;</th><th scope=col>&lt;dbl&gt;</th><th scope=col>&lt;dbl&gt;</th></tr>\n",
       "</thead>\n",
       "<tbody>\n",
       "\t<tr><th scope=row>1</th><td>1001</td><td>male  </td><td>south_asian   </td><td>Rinconada</td><td>4.833333</td><td>6.375</td><td>1.333333</td><td>2.5</td><td>6.5</td><td>6.0</td><td>⋯</td><td>4.750000</td><td>5.75</td><td>4.500000</td><td>5.000000</td><td>0.0000000</td><td>175000.00</td><td>5.750000</td><td>2.333333</td><td>1.75</td><td> 2</td></tr>\n",
       "\t<tr><th scope=row>2</th><td>1047</td><td>female</td><td>other_or_mixed</td><td>Twain    </td><td>5.333333</td><td>6.500</td><td>2.000000</td><td>2.5</td><td>5.5</td><td>6.5</td><td>⋯</td><td>5.416667</td><td>5.50</td><td>2.833333</td><td>5.166667</td><td>0.1666667</td><td> 91666.67</td><td>4.833333</td><td>1.444444</td><td>2.25</td><td> 6</td></tr>\n",
       "\t<tr><th scope=row>3</th><td>1078</td><td>female</td><td>east_asian    </td><td>Loro     </td><td>5.500000</td><td>6.250</td><td>1.333333</td><td>2.0</td><td>4.5</td><td>6.5</td><td>⋯</td><td>5.500000</td><td>3.50</td><td>1.500000</td><td>4.000000</td><td>0.0000000</td><td> 90000.00</td><td>4.666667</td><td>1.000000</td><td>1.50</td><td> 1</td></tr>\n",
       "\t<tr><th scope=row>4</th><td>1097</td><td>male  </td><td>east_asian    </td><td>Otero    </td><td>6.000000</td><td>5.000</td><td>2.000000</td><td>2.0</td><td>3.0</td><td>4.0</td><td>⋯</td><td>5.400000</td><td>5.10</td><td>3.100000</td><td>5.700000</td><td>0.0000000</td><td>130000.00</td><td>4.866667</td><td>2.133333</td><td>2.20</td><td> 5</td></tr>\n",
       "\t<tr><th scope=row>5</th><td>1105</td><td>female</td><td>white         </td><td>Larkin   </td><td>6.666667</td><td>5.750</td><td>2.000000</td><td>2.0</td><td>4.5</td><td>5.0</td><td>⋯</td><td>4.350000</td><td>5.65</td><td>3.750000</td><td>5.550000</td><td>0.2000000</td><td>161000.00</td><td>5.133333</td><td>1.966667</td><td>2.20</td><td>10</td></tr>\n",
       "\t<tr><th scope=row>6</th><td>1110</td><td>female</td><td>white         </td><td>Larkin   </td><td>5.166667</td><td>6.750</td><td>2.000000</td><td>2.0</td><td>6.5</td><td>5.0</td><td>⋯</td><td>5.250000</td><td>5.00</td><td>2.625000</td><td>5.750000</td><td>0.0000000</td><td>152500.00</td><td>5.750000</td><td>1.666667</td><td>2.00</td><td> 4</td></tr>\n",
       "</tbody>\n",
       "</table>\n"
      ],
      "text/latex": [
       "A data.frame: 6 × 57\n",
       "\\begin{tabular}{r|lllllllllllllllllllll}\n",
       "  & PID & gender & race & dorm & life\\_satisfaction\\_t1 & empathy & loneliness\\_t1 & stress\\_t1 & BFI\\_E & BFI\\_A & ⋯ & network\\_BFI\\_A & network\\_BFI\\_O & network\\_BFI\\_N & network\\_BFI\\_C & network\\_intl\\_student & network\\_family\\_income & network\\_life\\_satisfaction\\_t2 & network\\_loneliness\\_t2 & network\\_stress\\_t2 & network\\_n\\_networkmates\\\\\n",
       "  & <int> & <fct> & <fct> & <fct> & <dbl> & <dbl> & <dbl> & <dbl> & <dbl> & <dbl> & ⋯ & <dbl> & <dbl> & <dbl> & <dbl> & <dbl> & <dbl> & <dbl> & <dbl> & <dbl> & <dbl>\\\\\n",
       "\\hline\n",
       "\t1 & 1001 & male   & south\\_asian    & Rinconada & 4.833333 & 6.375 & 1.333333 & 2.5 & 6.5 & 6.0 & ⋯ & 4.750000 & 5.75 & 4.500000 & 5.000000 & 0.0000000 & 175000.00 & 5.750000 & 2.333333 & 1.75 &  2\\\\\n",
       "\t2 & 1047 & female & other\\_or\\_mixed & Twain     & 5.333333 & 6.500 & 2.000000 & 2.5 & 5.5 & 6.5 & ⋯ & 5.416667 & 5.50 & 2.833333 & 5.166667 & 0.1666667 &  91666.67 & 4.833333 & 1.444444 & 2.25 &  6\\\\\n",
       "\t3 & 1078 & female & east\\_asian     & Loro      & 5.500000 & 6.250 & 1.333333 & 2.0 & 4.5 & 6.5 & ⋯ & 5.500000 & 3.50 & 1.500000 & 4.000000 & 0.0000000 &  90000.00 & 4.666667 & 1.000000 & 1.50 &  1\\\\\n",
       "\t4 & 1097 & male   & east\\_asian     & Otero     & 6.000000 & 5.000 & 2.000000 & 2.0 & 3.0 & 4.0 & ⋯ & 5.400000 & 5.10 & 3.100000 & 5.700000 & 0.0000000 & 130000.00 & 4.866667 & 2.133333 & 2.20 &  5\\\\\n",
       "\t5 & 1105 & female & white          & Larkin    & 6.666667 & 5.750 & 2.000000 & 2.0 & 4.5 & 5.0 & ⋯ & 4.350000 & 5.65 & 3.750000 & 5.550000 & 0.2000000 & 161000.00 & 5.133333 & 1.966667 & 2.20 & 10\\\\\n",
       "\t6 & 1110 & female & white          & Larkin    & 5.166667 & 6.750 & 2.000000 & 2.0 & 6.5 & 5.0 & ⋯ & 5.250000 & 5.00 & 2.625000 & 5.750000 & 0.0000000 & 152500.00 & 5.750000 & 1.666667 & 2.00 &  4\\\\\n",
       "\\end{tabular}\n"
      ],
      "text/markdown": [
       "\n",
       "A data.frame: 6 × 57\n",
       "\n",
       "| <!--/--> | PID &lt;int&gt; | gender &lt;fct&gt; | race &lt;fct&gt; | dorm &lt;fct&gt; | life_satisfaction_t1 &lt;dbl&gt; | empathy &lt;dbl&gt; | loneliness_t1 &lt;dbl&gt; | stress_t1 &lt;dbl&gt; | BFI_E &lt;dbl&gt; | BFI_A &lt;dbl&gt; | ⋯ ⋯ | network_BFI_A &lt;dbl&gt; | network_BFI_O &lt;dbl&gt; | network_BFI_N &lt;dbl&gt; | network_BFI_C &lt;dbl&gt; | network_intl_student &lt;dbl&gt; | network_family_income &lt;dbl&gt; | network_life_satisfaction_t2 &lt;dbl&gt; | network_loneliness_t2 &lt;dbl&gt; | network_stress_t2 &lt;dbl&gt; | network_n_networkmates &lt;dbl&gt; |\n",
       "|---|---|---|---|---|---|---|---|---|---|---|---|---|---|---|---|---|---|---|---|---|---|\n",
       "| 1 | 1001 | male   | south_asian    | Rinconada | 4.833333 | 6.375 | 1.333333 | 2.5 | 6.5 | 6.0 | ⋯ | 4.750000 | 5.75 | 4.500000 | 5.000000 | 0.0000000 | 175000.00 | 5.750000 | 2.333333 | 1.75 |  2 |\n",
       "| 2 | 1047 | female | other_or_mixed | Twain     | 5.333333 | 6.500 | 2.000000 | 2.5 | 5.5 | 6.5 | ⋯ | 5.416667 | 5.50 | 2.833333 | 5.166667 | 0.1666667 |  91666.67 | 4.833333 | 1.444444 | 2.25 |  6 |\n",
       "| 3 | 1078 | female | east_asian     | Loro      | 5.500000 | 6.250 | 1.333333 | 2.0 | 4.5 | 6.5 | ⋯ | 5.500000 | 3.50 | 1.500000 | 4.000000 | 0.0000000 |  90000.00 | 4.666667 | 1.000000 | 1.50 |  1 |\n",
       "| 4 | 1097 | male   | east_asian     | Otero     | 6.000000 | 5.000 | 2.000000 | 2.0 | 3.0 | 4.0 | ⋯ | 5.400000 | 5.10 | 3.100000 | 5.700000 | 0.0000000 | 130000.00 | 4.866667 | 2.133333 | 2.20 |  5 |\n",
       "| 5 | 1105 | female | white          | Larkin    | 6.666667 | 5.750 | 2.000000 | 2.0 | 4.5 | 5.0 | ⋯ | 4.350000 | 5.65 | 3.750000 | 5.550000 | 0.2000000 | 161000.00 | 5.133333 | 1.966667 | 2.20 | 10 |\n",
       "| 6 | 1110 | female | white          | Larkin    | 5.166667 | 6.750 | 2.000000 | 2.0 | 6.5 | 5.0 | ⋯ | 5.250000 | 5.00 | 2.625000 | 5.750000 | 0.0000000 | 152500.00 | 5.750000 | 1.666667 | 2.00 |  4 |\n",
       "\n"
      ],
      "text/plain": [
       "  PID  gender race           dorm      life_satisfaction_t1 empathy\n",
       "1 1001 male   south_asian    Rinconada 4.833333             6.375  \n",
       "2 1047 female other_or_mixed Twain     5.333333             6.500  \n",
       "3 1078 female east_asian     Loro      5.500000             6.250  \n",
       "4 1097 male   east_asian     Otero     6.000000             5.000  \n",
       "5 1105 female white          Larkin    6.666667             5.750  \n",
       "6 1110 female white          Larkin    5.166667             6.750  \n",
       "  loneliness_t1 stress_t1 BFI_E BFI_A ⋯ network_BFI_A network_BFI_O\n",
       "1 1.333333      2.5       6.5   6.0   ⋯ 4.750000      5.75         \n",
       "2 2.000000      2.5       5.5   6.5   ⋯ 5.416667      5.50         \n",
       "3 1.333333      2.0       4.5   6.5   ⋯ 5.500000      3.50         \n",
       "4 2.000000      2.0       3.0   4.0   ⋯ 5.400000      5.10         \n",
       "5 2.000000      2.0       4.5   5.0   ⋯ 4.350000      5.65         \n",
       "6 2.000000      2.0       6.5   5.0   ⋯ 5.250000      5.00         \n",
       "  network_BFI_N network_BFI_C network_intl_student network_family_income\n",
       "1 4.500000      5.000000      0.0000000            175000.00            \n",
       "2 2.833333      5.166667      0.1666667             91666.67            \n",
       "3 1.500000      4.000000      0.0000000             90000.00            \n",
       "4 3.100000      5.700000      0.0000000            130000.00            \n",
       "5 3.750000      5.550000      0.2000000            161000.00            \n",
       "6 2.625000      5.750000      0.0000000            152500.00            \n",
       "  network_life_satisfaction_t2 network_loneliness_t2 network_stress_t2\n",
       "1 5.750000                     2.333333              1.75             \n",
       "2 4.833333                     1.444444              2.25             \n",
       "3 4.666667                     1.000000              1.50             \n",
       "4 4.866667                     2.133333              2.20             \n",
       "5 5.133333                     1.966667              2.20             \n",
       "6 5.750000                     1.666667              2.00             \n",
       "  network_n_networkmates\n",
       "1  2                    \n",
       "2  6                    \n",
       "3  1                    \n",
       "4  5                    \n",
       "5 10                    \n",
       "6  4                    "
      ]
     },
     "metadata": {},
     "output_type": "display_data"
    }
   ],
   "source": [
    "head(df)"
   ]
  },
  {
   "cell_type": "markdown",
   "metadata": {},
   "source": [
    "### Base models - predict well-being at t1 from well-being at t1"
   ]
  },
  {
   "cell_type": "markdown",
   "metadata": {},
   "source": [
    "#### Life satisfaction"
   ]
  },
  {
   "cell_type": "code",
   "execution_count": 9,
   "metadata": {},
   "outputs": [
    {
     "data": {
      "text/plain": [
       "\n",
       "Call:\n",
       "lm(formula = life_satisfaction_t2 ~ life_satisfaction_t1, data = df)\n",
       "\n",
       "Residuals:\n",
       "    Min      1Q  Median      3Q     Max \n",
       "-2.9970 -0.4603  0.0472  0.5340  3.4046 \n",
       "\n",
       "Coefficients:\n",
       "                     Estimate Std. Error t value Pr(>|t|)    \n",
       "(Intercept)            0.9597     0.1744   5.504 6.35e-08 ***\n",
       "life_satisfaction_t1   0.7814     0.0338  23.117  < 2e-16 ***\n",
       "---\n",
       "Signif. codes:  0 ‘***’ 0.001 ‘**’ 0.01 ‘*’ 0.05 ‘.’ 0.1 ‘ ’ 1\n",
       "\n",
       "Residual standard error: 0.8132 on 434 degrees of freedom\n",
       "Multiple R-squared:  0.5518,\tAdjusted R-squared:  0.5508 \n",
       "F-statistic: 534.4 on 1 and 434 DF,  p-value: < 2.2e-16\n"
      ]
     },
     "metadata": {},
     "output_type": "display_data"
    }
   ],
   "source": [
    "base_model_ls_only = lm(life_satisfaction_t2 ~ life_satisfaction_t1, df)\n",
    "summary(base_model_ls_only)"
   ]
  },
  {
   "cell_type": "code",
   "execution_count": 10,
   "metadata": {},
   "outputs": [
    {
     "data": {
      "text/plain": [
       "\n",
       "Call:\n",
       "lm(formula = life_satisfaction_t2 ~ life_satisfaction_t1 + loneliness_t1 + \n",
       "    stress_t1, data = df)\n",
       "\n",
       "Residuals:\n",
       "    Min      1Q  Median      3Q     Max \n",
       "-3.0959 -0.4711  0.0389  0.5279  3.2731 \n",
       "\n",
       "Coefficients:\n",
       "                     Estimate Std. Error t value Pr(>|t|)    \n",
       "(Intercept)           2.01340    0.36335   5.541 5.23e-08 ***\n",
       "life_satisfaction_t1  0.71422    0.03965  18.013  < 2e-16 ***\n",
       "loneliness_t1        -0.13125    0.08351  -1.572   0.1168    \n",
       "stress_t1            -0.23011    0.07862  -2.927   0.0036 ** \n",
       "---\n",
       "Signif. codes:  0 ‘***’ 0.001 ‘**’ 0.01 ‘*’ 0.05 ‘.’ 0.1 ‘ ’ 1\n",
       "\n",
       "Residual standard error: 0.8041 on 432 degrees of freedom\n",
       "Multiple R-squared:  0.5638,\tAdjusted R-squared:  0.5608 \n",
       "F-statistic: 186.1 on 3 and 432 DF,  p-value: < 2.2e-16\n"
      ]
     },
     "metadata": {},
     "output_type": "display_data"
    },
    {
     "data": {
      "text/html": [
       "<table>\n",
       "<caption>A anova: 4 × 4</caption>\n",
       "<thead>\n",
       "\t<tr><th></th><th scope=col>Sum Sq</th><th scope=col>Df</th><th scope=col>F value</th><th scope=col>Pr(&gt;F)</th></tr>\n",
       "\t<tr><th></th><th scope=col>&lt;dbl&gt;</th><th scope=col>&lt;dbl&gt;</th><th scope=col>&lt;dbl&gt;</th><th scope=col>&lt;dbl&gt;</th></tr>\n",
       "</thead>\n",
       "<tbody>\n",
       "\t<tr><th scope=row>life_satisfaction_t1</th><td>209.780501</td><td>  1</td><td>324.464361</td><td>1.631603e-54</td></tr>\n",
       "\t<tr><th scope=row>loneliness_t1</th><td>  1.596912</td><td>  1</td><td>  2.469919</td><td>1.167760e-01</td></tr>\n",
       "\t<tr><th scope=row>stress_t1</th><td>  5.539164</td><td>  1</td><td>  8.567343</td><td>3.603179e-03</td></tr>\n",
       "\t<tr><th scope=row>Residuals</th><td>279.307028</td><td>432</td><td>        NA</td><td>          NA</td></tr>\n",
       "</tbody>\n",
       "</table>\n"
      ],
      "text/latex": [
       "A anova: 4 × 4\n",
       "\\begin{tabular}{r|llll}\n",
       "  & Sum Sq & Df & F value & Pr(>F)\\\\\n",
       "  & <dbl> & <dbl> & <dbl> & <dbl>\\\\\n",
       "\\hline\n",
       "\tlife\\_satisfaction\\_t1 & 209.780501 &   1 & 324.464361 & 1.631603e-54\\\\\n",
       "\tloneliness\\_t1 &   1.596912 &   1 &   2.469919 & 1.167760e-01\\\\\n",
       "\tstress\\_t1 &   5.539164 &   1 &   8.567343 & 3.603179e-03\\\\\n",
       "\tResiduals & 279.307028 & 432 &         NA &           NA\\\\\n",
       "\\end{tabular}\n"
      ],
      "text/markdown": [
       "\n",
       "A anova: 4 × 4\n",
       "\n",
       "| <!--/--> | Sum Sq &lt;dbl&gt; | Df &lt;dbl&gt; | F value &lt;dbl&gt; | Pr(&gt;F) &lt;dbl&gt; |\n",
       "|---|---|---|---|---|\n",
       "| life_satisfaction_t1 | 209.780501 |   1 | 324.464361 | 1.631603e-54 |\n",
       "| loneliness_t1 |   1.596912 |   1 |   2.469919 | 1.167760e-01 |\n",
       "| stress_t1 |   5.539164 |   1 |   8.567343 | 3.603179e-03 |\n",
       "| Residuals | 279.307028 | 432 |         NA |           NA |\n",
       "\n"
      ],
      "text/plain": [
       "                     Sum Sq     Df  F value    Pr(>F)      \n",
       "life_satisfaction_t1 209.780501   1 324.464361 1.631603e-54\n",
       "loneliness_t1          1.596912   1   2.469919 1.167760e-01\n",
       "stress_t1              5.539164   1   8.567343 3.603179e-03\n",
       "Residuals            279.307028 432         NA           NA"
      ]
     },
     "metadata": {},
     "output_type": "display_data"
    }
   ],
   "source": [
    "base_model_ls <- lm(life_satisfaction_t2 ~ life_satisfaction_t1 + loneliness_t1 + stress_t1, df)\n",
    "summary(base_model_ls)\n",
    "Anova(base_model_ls)"
   ]
  },
  {
   "cell_type": "code",
   "execution_count": 11,
   "metadata": {},
   "outputs": [
    {
     "data": {
      "text/html": [
       "<table>\n",
       "<caption>A anova: 2 × 6</caption>\n",
       "<thead>\n",
       "\t<tr><th></th><th scope=col>Res.Df</th><th scope=col>RSS</th><th scope=col>Df</th><th scope=col>Sum of Sq</th><th scope=col>F</th><th scope=col>Pr(&gt;F)</th></tr>\n",
       "\t<tr><th></th><th scope=col>&lt;dbl&gt;</th><th scope=col>&lt;dbl&gt;</th><th scope=col>&lt;dbl&gt;</th><th scope=col>&lt;dbl&gt;</th><th scope=col>&lt;dbl&gt;</th><th scope=col>&lt;dbl&gt;</th></tr>\n",
       "</thead>\n",
       "<tbody>\n",
       "\t<tr><th scope=row>1</th><td>434</td><td>286.9732</td><td>NA</td><td>     NA</td><td>      NA</td><td>         NA</td></tr>\n",
       "\t<tr><th scope=row>2</th><td>432</td><td>279.3070</td><td> 2</td><td>7.66622</td><td>5.928614</td><td>0.002883616</td></tr>\n",
       "</tbody>\n",
       "</table>\n"
      ],
      "text/latex": [
       "A anova: 2 × 6\n",
       "\\begin{tabular}{r|llllll}\n",
       "  & Res.Df & RSS & Df & Sum of Sq & F & Pr(>F)\\\\\n",
       "  & <dbl> & <dbl> & <dbl> & <dbl> & <dbl> & <dbl>\\\\\n",
       "\\hline\n",
       "\t1 & 434 & 286.9732 & NA &      NA &       NA &          NA\\\\\n",
       "\t2 & 432 & 279.3070 &  2 & 7.66622 & 5.928614 & 0.002883616\\\\\n",
       "\\end{tabular}\n"
      ],
      "text/markdown": [
       "\n",
       "A anova: 2 × 6\n",
       "\n",
       "| <!--/--> | Res.Df &lt;dbl&gt; | RSS &lt;dbl&gt; | Df &lt;dbl&gt; | Sum of Sq &lt;dbl&gt; | F &lt;dbl&gt; | Pr(&gt;F) &lt;dbl&gt; |\n",
       "|---|---|---|---|---|---|---|\n",
       "| 1 | 434 | 286.9732 | NA |      NA |       NA |          NA |\n",
       "| 2 | 432 | 279.3070 |  2 | 7.66622 | 5.928614 | 0.002883616 |\n",
       "\n"
      ],
      "text/plain": [
       "  Res.Df RSS      Df Sum of Sq F        Pr(>F)     \n",
       "1 434    286.9732 NA      NA         NA          NA\n",
       "2 432    279.3070  2 7.66622   5.928614 0.002883616"
      ]
     },
     "metadata": {},
     "output_type": "display_data"
    }
   ],
   "source": [
    "anova(base_model_ls_only, base_model_ls)"
   ]
  },
  {
   "cell_type": "code",
   "execution_count": 12,
   "metadata": {},
   "outputs": [
    {
     "name": "stdout",
     "output_type": "stream",
     "text": [
      "[1] \"Before: 0.550813667293909\"\n",
      "[1] \"After: 0.560789243774622\"\n",
      "[1] \"Partial r² (adjusted): 0.022208103306741\"\n"
     ]
    }
   ],
   "source": [
    "r1 = summary(base_model_ls_only)$adj.r.squared\n",
    "r2 = summary(base_model_ls)$adj.r.squared\n",
    "print(paste(\"Before:\", r1))\n",
    "print(paste(\"After:\", r2))\n",
    "print(paste(\"Partial r² (adjusted):\", (r2 - r1) / (1 - r1)))"
   ]
  },
  {
   "cell_type": "markdown",
   "metadata": {},
   "source": [
    "#### Loneliness"
   ]
  },
  {
   "cell_type": "code",
   "execution_count": 13,
   "metadata": {},
   "outputs": [
    {
     "data": {
      "text/plain": [
       "\n",
       "Call:\n",
       "lm(formula = loneliness_t2 ~ loneliness_t1, data = df)\n",
       "\n",
       "Residuals:\n",
       "     Min       1Q   Median       3Q      Max \n",
       "-1.20538 -0.34649 -0.01316  0.32018  1.56351 \n",
       "\n",
       "Coefficients:\n",
       "              Estimate Std. Error t value Pr(>|t|)    \n",
       "(Intercept)    0.85982    0.08688   9.897   <2e-16 ***\n",
       "loneliness_t1  0.57667    0.04580  12.591   <2e-16 ***\n",
       "---\n",
       "Signif. codes:  0 ‘***’ 0.001 ‘**’ 0.01 ‘*’ 0.05 ‘.’ 0.1 ‘ ’ 1\n",
       "\n",
       "Residual standard error: 0.5 on 434 degrees of freedom\n",
       "Multiple R-squared:  0.2676,\tAdjusted R-squared:  0.2659 \n",
       "F-statistic: 158.5 on 1 and 434 DF,  p-value: < 2.2e-16\n"
      ]
     },
     "metadata": {},
     "output_type": "display_data"
    }
   ],
   "source": [
    "base_model_loneliness_only = lm(loneliness_t2 ~ loneliness_t1, df)\n",
    "summary(base_model_loneliness_only)"
   ]
  },
  {
   "cell_type": "code",
   "execution_count": 14,
   "metadata": {},
   "outputs": [
    {
     "data": {
      "text/plain": [
       "\n",
       "Call:\n",
       "lm(formula = loneliness_t2 ~ loneliness_t1 + life_satisfaction_t1 + \n",
       "    stress_t1, data = df)\n",
       "\n",
       "Residuals:\n",
       "     Min       1Q   Median       3Q      Max \n",
       "-1.15248 -0.36180 -0.02261  0.32652  1.55973 \n",
       "\n",
       "Coefficients:\n",
       "                     Estimate Std. Error t value Pr(>|t|)    \n",
       "(Intercept)           0.84602    0.22302   3.793  0.00017 ***\n",
       "loneliness_t1         0.51108    0.05126   9.970  < 2e-16 ***\n",
       "life_satisfaction_t1 -0.03088    0.02434  -1.269  0.20519    \n",
       "stress_t1             0.13937    0.04825   2.888  0.00407 ** \n",
       "---\n",
       "Signif. codes:  0 ‘***’ 0.001 ‘**’ 0.01 ‘*’ 0.05 ‘.’ 0.1 ‘ ’ 1\n",
       "\n",
       "Residual standard error: 0.4935 on 432 degrees of freedom\n",
       "Multiple R-squared:  0.2896,\tAdjusted R-squared:  0.2847 \n",
       "F-statistic: 58.71 on 3 and 432 DF,  p-value: < 2.2e-16\n"
      ]
     },
     "metadata": {},
     "output_type": "display_data"
    },
    {
     "data": {
      "text/html": [
       "<table>\n",
       "<caption>A anova: 4 × 4</caption>\n",
       "<thead>\n",
       "\t<tr><th></th><th scope=col>Sum Sq</th><th scope=col>Df</th><th scope=col>F value</th><th scope=col>Pr(&gt;F)</th></tr>\n",
       "\t<tr><th></th><th scope=col>&lt;dbl&gt;</th><th scope=col>&lt;dbl&gt;</th><th scope=col>&lt;dbl&gt;</th><th scope=col>&lt;dbl&gt;</th></tr>\n",
       "</thead>\n",
       "<tbody>\n",
       "\t<tr><th scope=row>loneliness_t1</th><td> 24.2129248</td><td>  1</td><td>99.405486</td><td>3.282277e-21</td></tr>\n",
       "\t<tr><th scope=row>life_satisfaction_t1</th><td>  0.3921348</td><td>  1</td><td> 1.609899</td><td>2.051893e-01</td></tr>\n",
       "\t<tr><th scope=row>stress_t1</th><td>  2.0319451</td><td>  1</td><td> 8.342094</td><td>4.068405e-03</td></tr>\n",
       "\t<tr><th scope=row>Residuals</th><td>105.2254150</td><td>432</td><td>       NA</td><td>          NA</td></tr>\n",
       "</tbody>\n",
       "</table>\n"
      ],
      "text/latex": [
       "A anova: 4 × 4\n",
       "\\begin{tabular}{r|llll}\n",
       "  & Sum Sq & Df & F value & Pr(>F)\\\\\n",
       "  & <dbl> & <dbl> & <dbl> & <dbl>\\\\\n",
       "\\hline\n",
       "\tloneliness\\_t1 &  24.2129248 &   1 & 99.405486 & 3.282277e-21\\\\\n",
       "\tlife\\_satisfaction\\_t1 &   0.3921348 &   1 &  1.609899 & 2.051893e-01\\\\\n",
       "\tstress\\_t1 &   2.0319451 &   1 &  8.342094 & 4.068405e-03\\\\\n",
       "\tResiduals & 105.2254150 & 432 &        NA &           NA\\\\\n",
       "\\end{tabular}\n"
      ],
      "text/markdown": [
       "\n",
       "A anova: 4 × 4\n",
       "\n",
       "| <!--/--> | Sum Sq &lt;dbl&gt; | Df &lt;dbl&gt; | F value &lt;dbl&gt; | Pr(&gt;F) &lt;dbl&gt; |\n",
       "|---|---|---|---|---|\n",
       "| loneliness_t1 |  24.2129248 |   1 | 99.405486 | 3.282277e-21 |\n",
       "| life_satisfaction_t1 |   0.3921348 |   1 |  1.609899 | 2.051893e-01 |\n",
       "| stress_t1 |   2.0319451 |   1 |  8.342094 | 4.068405e-03 |\n",
       "| Residuals | 105.2254150 | 432 |        NA |           NA |\n",
       "\n"
      ],
      "text/plain": [
       "                     Sum Sq      Df  F value   Pr(>F)      \n",
       "loneliness_t1         24.2129248   1 99.405486 3.282277e-21\n",
       "life_satisfaction_t1   0.3921348   1  1.609899 2.051893e-01\n",
       "stress_t1              2.0319451   1  8.342094 4.068405e-03\n",
       "Residuals            105.2254150 432        NA           NA"
      ]
     },
     "metadata": {},
     "output_type": "display_data"
    }
   ],
   "source": [
    "base_model_loneliness <- lm(loneliness_t2 ~ loneliness_t1 + life_satisfaction_t1 + stress_t1, df)\n",
    "summary(base_model_loneliness)\n",
    "Anova(base_model_loneliness)"
   ]
  },
  {
   "cell_type": "code",
   "execution_count": 15,
   "metadata": {},
   "outputs": [
    {
     "data": {
      "text/html": [
       "<table>\n",
       "<caption>A anova: 2 × 6</caption>\n",
       "<thead>\n",
       "\t<tr><th></th><th scope=col>Res.Df</th><th scope=col>RSS</th><th scope=col>Df</th><th scope=col>Sum of Sq</th><th scope=col>F</th><th scope=col>Pr(&gt;F)</th></tr>\n",
       "\t<tr><th></th><th scope=col>&lt;dbl&gt;</th><th scope=col>&lt;dbl&gt;</th><th scope=col>&lt;dbl&gt;</th><th scope=col>&lt;dbl&gt;</th><th scope=col>&lt;dbl&gt;</th><th scope=col>&lt;dbl&gt;</th></tr>\n",
       "</thead>\n",
       "<tbody>\n",
       "\t<tr><th scope=row>1</th><td>434</td><td>108.4938</td><td>NA</td><td>      NA</td><td>      NA</td><td>         NA</td></tr>\n",
       "\t<tr><th scope=row>2</th><td>432</td><td>105.2254</td><td> 2</td><td>3.268432</td><td>6.709228</td><td>0.001350692</td></tr>\n",
       "</tbody>\n",
       "</table>\n"
      ],
      "text/latex": [
       "A anova: 2 × 6\n",
       "\\begin{tabular}{r|llllll}\n",
       "  & Res.Df & RSS & Df & Sum of Sq & F & Pr(>F)\\\\\n",
       "  & <dbl> & <dbl> & <dbl> & <dbl> & <dbl> & <dbl>\\\\\n",
       "\\hline\n",
       "\t1 & 434 & 108.4938 & NA &       NA &       NA &          NA\\\\\n",
       "\t2 & 432 & 105.2254 &  2 & 3.268432 & 6.709228 & 0.001350692\\\\\n",
       "\\end{tabular}\n"
      ],
      "text/markdown": [
       "\n",
       "A anova: 2 × 6\n",
       "\n",
       "| <!--/--> | Res.Df &lt;dbl&gt; | RSS &lt;dbl&gt; | Df &lt;dbl&gt; | Sum of Sq &lt;dbl&gt; | F &lt;dbl&gt; | Pr(&gt;F) &lt;dbl&gt; |\n",
       "|---|---|---|---|---|---|---|\n",
       "| 1 | 434 | 108.4938 | NA |       NA |       NA |          NA |\n",
       "| 2 | 432 | 105.2254 |  2 | 3.268432 | 6.709228 | 0.001350692 |\n",
       "\n"
      ],
      "text/plain": [
       "  Res.Df RSS      Df Sum of Sq F        Pr(>F)     \n",
       "1 434    108.4938 NA       NA        NA          NA\n",
       "2 432    105.2254  2 3.268432  6.709228 0.001350692"
      ]
     },
     "metadata": {},
     "output_type": "display_data"
    }
   ],
   "source": [
    "anova(base_model_loneliness_only, base_model_loneliness)"
   ]
  },
  {
   "cell_type": "code",
   "execution_count": 16,
   "metadata": {},
   "outputs": [
    {
     "name": "stdout",
     "output_type": "stream",
     "text": [
      "[1] \"Before: 0.265871366362015\"\n",
      "[1] \"After: 0.284691007919898\"\n",
      "[1] \"Partial r² (adjusted): 0.0256353460355068\"\n"
     ]
    }
   ],
   "source": [
    "r1 = summary(base_model_loneliness_only)$adj.r.squared\n",
    "r2 = summary(base_model_loneliness)$adj.r.squared\n",
    "print(paste(\"Before:\", r1))\n",
    "print(paste(\"After:\", r2))\n",
    "print(paste(\"Partial r² (adjusted):\", (r2 - r1) / (1 - r1)))"
   ]
  },
  {
   "cell_type": "markdown",
   "metadata": {},
   "source": [
    "#### Stress"
   ]
  },
  {
   "cell_type": "code",
   "execution_count": 17,
   "metadata": {},
   "outputs": [
    {
     "data": {
      "text/plain": [
       "\n",
       "Call:\n",
       "lm(formula = stress_t2 ~ stress_t1, data = df)\n",
       "\n",
       "Residuals:\n",
       "     Min       1Q   Median       3Q      Max \n",
       "-1.32725 -0.32725 -0.07677  0.42227  1.42420 \n",
       "\n",
       "Coefficients:\n",
       "            Estimate Std. Error t value Pr(>|t|)    \n",
       "(Intercept)  1.07483    0.09899   10.86   <2e-16 ***\n",
       "stress_t1    0.50097    0.04630   10.82   <2e-16 ***\n",
       "---\n",
       "Signif. codes:  0 ‘***’ 0.001 ‘**’ 0.01 ‘*’ 0.05 ‘.’ 0.1 ‘ ’ 1\n",
       "\n",
       "Residual standard error: 0.5121 on 434 degrees of freedom\n",
       "Multiple R-squared:  0.2124,\tAdjusted R-squared:  0.2106 \n",
       "F-statistic: 117.1 on 1 and 434 DF,  p-value: < 2.2e-16\n"
      ]
     },
     "metadata": {},
     "output_type": "display_data"
    }
   ],
   "source": [
    "base_model_stress_only = lm(stress_t2 ~ stress_t1, df)\n",
    "summary(base_model_stress_only)"
   ]
  },
  {
   "cell_type": "code",
   "execution_count": 18,
   "metadata": {},
   "outputs": [
    {
     "data": {
      "text/plain": [
       "\n",
       "Call:\n",
       "lm(formula = stress_t2 ~ stress_t1 + life_satisfaction_t1 + loneliness_t1, \n",
       "    data = df)\n",
       "\n",
       "Residuals:\n",
       "     Min       1Q   Median       3Q      Max \n",
       "-1.22452 -0.34251 -0.06236  0.38385  1.32401 \n",
       "\n",
       "Coefficients:\n",
       "                     Estimate Std. Error t value Pr(>|t|)    \n",
       "(Intercept)           1.37516    0.22988   5.982 4.62e-09 ***\n",
       "stress_t1             0.44843    0.04974   9.016  < 2e-16 ***\n",
       "life_satisfaction_t1 -0.05287    0.02509  -2.108   0.0356 *  \n",
       "loneliness_t1         0.04076    0.05284   0.771   0.4409    \n",
       "---\n",
       "Signif. codes:  0 ‘***’ 0.001 ‘**’ 0.01 ‘*’ 0.05 ‘.’ 0.1 ‘ ’ 1\n",
       "\n",
       "Residual standard error: 0.5087 on 432 degrees of freedom\n",
       "Multiple R-squared:  0.2263,\tAdjusted R-squared:  0.2209 \n",
       "F-statistic: 42.12 on 3 and 432 DF,  p-value: < 2.2e-16\n"
      ]
     },
     "metadata": {},
     "output_type": "display_data"
    },
    {
     "data": {
      "text/html": [
       "<table>\n",
       "<caption>A anova: 4 × 4</caption>\n",
       "<thead>\n",
       "\t<tr><th></th><th scope=col>Sum Sq</th><th scope=col>Df</th><th scope=col>F value</th><th scope=col>Pr(&gt;F)</th></tr>\n",
       "\t<tr><th></th><th scope=col>&lt;dbl&gt;</th><th scope=col>&lt;dbl&gt;</th><th scope=col>&lt;dbl&gt;</th><th scope=col>&lt;dbl&gt;</th></tr>\n",
       "</thead>\n",
       "<tbody>\n",
       "\t<tr><th scope=row>stress_t1</th><td> 21.0352173</td><td>  1</td><td>81.2843743</td><td>6.398954e-18</td></tr>\n",
       "\t<tr><th scope=row>life_satisfaction_t1</th><td>  1.1496159</td><td>  1</td><td> 4.4423506</td><td>3.563353e-02</td></tr>\n",
       "\t<tr><th scope=row>loneliness_t1</th><td>  0.1539969</td><td>  1</td><td> 0.5950755</td><td>4.408849e-01</td></tr>\n",
       "\t<tr><th scope=row>Residuals</th><td>111.7953353</td><td>432</td><td>        NA</td><td>          NA</td></tr>\n",
       "</tbody>\n",
       "</table>\n"
      ],
      "text/latex": [
       "A anova: 4 × 4\n",
       "\\begin{tabular}{r|llll}\n",
       "  & Sum Sq & Df & F value & Pr(>F)\\\\\n",
       "  & <dbl> & <dbl> & <dbl> & <dbl>\\\\\n",
       "\\hline\n",
       "\tstress\\_t1 &  21.0352173 &   1 & 81.2843743 & 6.398954e-18\\\\\n",
       "\tlife\\_satisfaction\\_t1 &   1.1496159 &   1 &  4.4423506 & 3.563353e-02\\\\\n",
       "\tloneliness\\_t1 &   0.1539969 &   1 &  0.5950755 & 4.408849e-01\\\\\n",
       "\tResiduals & 111.7953353 & 432 &         NA &           NA\\\\\n",
       "\\end{tabular}\n"
      ],
      "text/markdown": [
       "\n",
       "A anova: 4 × 4\n",
       "\n",
       "| <!--/--> | Sum Sq &lt;dbl&gt; | Df &lt;dbl&gt; | F value &lt;dbl&gt; | Pr(&gt;F) &lt;dbl&gt; |\n",
       "|---|---|---|---|---|\n",
       "| stress_t1 |  21.0352173 |   1 | 81.2843743 | 6.398954e-18 |\n",
       "| life_satisfaction_t1 |   1.1496159 |   1 |  4.4423506 | 3.563353e-02 |\n",
       "| loneliness_t1 |   0.1539969 |   1 |  0.5950755 | 4.408849e-01 |\n",
       "| Residuals | 111.7953353 | 432 |         NA |           NA |\n",
       "\n"
      ],
      "text/plain": [
       "                     Sum Sq      Df  F value    Pr(>F)      \n",
       "stress_t1             21.0352173   1 81.2843743 6.398954e-18\n",
       "life_satisfaction_t1   1.1496159   1  4.4423506 3.563353e-02\n",
       "loneliness_t1          0.1539969   1  0.5950755 4.408849e-01\n",
       "Residuals            111.7953353 432         NA           NA"
      ]
     },
     "metadata": {},
     "output_type": "display_data"
    }
   ],
   "source": [
    "base_model_stress <- lm(stress_t2 ~ stress_t1 + life_satisfaction_t1 + loneliness_t1, df)\n",
    "summary(base_model_stress)\n",
    "Anova(base_model_stress)"
   ]
  },
  {
   "cell_type": "code",
   "execution_count": 19,
   "metadata": {},
   "outputs": [
    {
     "data": {
      "text/html": [
       "<table>\n",
       "<caption>A anova: 2 × 6</caption>\n",
       "<thead>\n",
       "\t<tr><th></th><th scope=col>Res.Df</th><th scope=col>RSS</th><th scope=col>Df</th><th scope=col>Sum of Sq</th><th scope=col>F</th><th scope=col>Pr(&gt;F)</th></tr>\n",
       "\t<tr><th></th><th scope=col>&lt;dbl&gt;</th><th scope=col>&lt;dbl&gt;</th><th scope=col>&lt;dbl&gt;</th><th scope=col>&lt;dbl&gt;</th><th scope=col>&lt;dbl&gt;</th><th scope=col>&lt;dbl&gt;</th></tr>\n",
       "</thead>\n",
       "<tbody>\n",
       "\t<tr><th scope=row>1</th><td>434</td><td>113.8009</td><td>NA</td><td>      NA</td><td>      NA</td><td>       NA</td></tr>\n",
       "\t<tr><th scope=row>2</th><td>432</td><td>111.7953</td><td> 2</td><td>2.005583</td><td>3.874991</td><td>0.0214798</td></tr>\n",
       "</tbody>\n",
       "</table>\n"
      ],
      "text/latex": [
       "A anova: 2 × 6\n",
       "\\begin{tabular}{r|llllll}\n",
       "  & Res.Df & RSS & Df & Sum of Sq & F & Pr(>F)\\\\\n",
       "  & <dbl> & <dbl> & <dbl> & <dbl> & <dbl> & <dbl>\\\\\n",
       "\\hline\n",
       "\t1 & 434 & 113.8009 & NA &       NA &       NA &        NA\\\\\n",
       "\t2 & 432 & 111.7953 &  2 & 2.005583 & 3.874991 & 0.0214798\\\\\n",
       "\\end{tabular}\n"
      ],
      "text/markdown": [
       "\n",
       "A anova: 2 × 6\n",
       "\n",
       "| <!--/--> | Res.Df &lt;dbl&gt; | RSS &lt;dbl&gt; | Df &lt;dbl&gt; | Sum of Sq &lt;dbl&gt; | F &lt;dbl&gt; | Pr(&gt;F) &lt;dbl&gt; |\n",
       "|---|---|---|---|---|---|---|\n",
       "| 1 | 434 | 113.8009 | NA |       NA |       NA |        NA |\n",
       "| 2 | 432 | 111.7953 |  2 | 2.005583 | 3.874991 | 0.0214798 |\n",
       "\n"
      ],
      "text/plain": [
       "  Res.Df RSS      Df Sum of Sq F        Pr(>F)   \n",
       "1 434    113.8009 NA       NA        NA        NA\n",
       "2 432    111.7953  2 2.005583  3.874991 0.0214798"
      ]
     },
     "metadata": {},
     "output_type": "display_data"
    }
   ],
   "source": [
    "anova(base_model_stress_only, base_model_stress)"
   ]
  },
  {
   "cell_type": "code",
   "execution_count": 20,
   "metadata": {},
   "outputs": [
    {
     "name": "stdout",
     "output_type": "stream",
     "text": [
      "[1] \"Before: 0.210598174494384\"\n",
      "[1] \"After: 0.220920052326606\"\n",
      "[1] \"Partial r² (adjusted): 0.0130755687391667\"\n"
     ]
    }
   ],
   "source": [
    "r1 = summary(base_model_stress_only)$adj.r.squared\n",
    "r2 = summary(base_model_stress)$adj.r.squared\n",
    "print(paste(\"Before:\", r1))\n",
    "print(paste(\"After:\", r2))\n",
    "print(paste(\"Partial r² (adjusted):\", (r2 - r1) / (1 - r1)))"
   ]
  },
  {
   "cell_type": "markdown",
   "metadata": {},
   "source": [
    "### Fixed-effects models: predict WB at t2 from WB and other personal factors at t1\n",
    "\n",
    "#### From here on, we'll just look at life satisfaction"
   ]
  },
  {
   "cell_type": "code",
   "execution_count": 21,
   "metadata": {},
   "outputs": [],
   "source": [
    "fixed_params = \"\n",
    "life_satisfaction_t1 + loneliness_t1 + stress_t1 +\n",
    "edges_in + edges_out +\n",
    "C(gender) + C(race) + empathy +\n",
    "BFI_E + BFI_O + BFI_C + BFI_A + BFI_N +\n",
    "intl_student + parent_education_highest + log10(family_income)\"\n",
    "\n",
    "make_model = function(dv) {\n",
    "    model = lm(as.formula(paste(dv, '~', fixed_params)), df)\n",
    "}"
   ]
  },
  {
   "cell_type": "code",
   "execution_count": 22,
   "metadata": {},
   "outputs": [
    {
     "data": {
      "text/plain": [
       "\n",
       "Call:\n",
       "lm(formula = as.formula(paste(dv, \"~\", fixed_params)), data = df)\n",
       "\n",
       "Residuals:\n",
       "     Min       1Q   Median       3Q      Max \n",
       "-2.66626 -0.45237  0.05788  0.48735  3.03635 \n",
       "\n",
       "Coefficients:\n",
       "                                             Estimate Std. Error t value\n",
       "(Intercept)                                 0.6523883  0.8253581   0.790\n",
       "life_satisfaction_t1                        0.6738174  0.0434915  15.493\n",
       "loneliness_t1                              -0.1211143  0.0897296  -1.350\n",
       "stress_t1                                  -0.1958093  0.0942955  -2.077\n",
       "edges_in                                    0.0334477  0.0149433   2.238\n",
       "edges_out                                   0.0185924  0.0095494   1.947\n",
       "C(gender)male                              -0.0607282  0.0866528  -0.701\n",
       "C(gender)other                              0.2099445  0.5870844   0.358\n",
       "C(race)east_asian                           0.1859674  0.1397825   1.330\n",
       "C(race)hispanic                             0.2145496  0.1559815   1.375\n",
       "C(race)other_or_mixed                       0.2094255  0.1582379   1.323\n",
       "C(race)south_asian                          0.2833910  0.1646610   1.721\n",
       "C(race)white                                0.2045859  0.1383327   1.479\n",
       "empathy                                    -0.0566676  0.0688656  -0.823\n",
       "BFI_E                                       0.0115050  0.0301066   0.382\n",
       "BFI_O                                       0.0002127  0.0417906   0.005\n",
       "BFI_C                                       0.0682458  0.0358341   1.904\n",
       "BFI_A                                      -0.0148798  0.0417174  -0.357\n",
       "BFI_N                                      -0.0275985  0.0392226  -0.704\n",
       "intl_student                               -0.0317660  0.1263707  -0.251\n",
       "parent_education_highest1_ hs              -0.2679670  0.1896911  -1.413\n",
       "parent_education_highest2_college_twoyear  -0.2628389  0.2671157  -0.984\n",
       "parent_education_highest3_college_fouryear -0.3646176  0.1968395  -1.852\n",
       "parent_education_highest4_masters          -0.3326113  0.1947341  -1.708\n",
       "parent_education_highest5_advanced         -0.2723634  0.2000637  -1.361\n",
       "log10(family_income)                        0.2707189  0.1376381   1.967\n",
       "                                           Pr(>|t|)    \n",
       "(Intercept)                                  0.4297    \n",
       "life_satisfaction_t1                         <2e-16 ***\n",
       "loneliness_t1                                0.1778    \n",
       "stress_t1                                    0.0385 *  \n",
       "edges_in                                     0.0257 *  \n",
       "edges_out                                    0.0522 .  \n",
       "C(gender)male                                0.4838    \n",
       "C(gender)other                               0.7208    \n",
       "C(race)east_asian                            0.1841    \n",
       "C(race)hispanic                              0.1697    \n",
       "C(race)other_or_mixed                        0.1864    \n",
       "C(race)south_asian                           0.0860 .  \n",
       "C(race)white                                 0.1399    \n",
       "empathy                                      0.4111    \n",
       "BFI_E                                        0.7026    \n",
       "BFI_O                                        0.9959    \n",
       "BFI_C                                        0.0575 .  \n",
       "BFI_A                                        0.7215    \n",
       "BFI_N                                        0.4821    \n",
       "intl_student                                 0.8017    \n",
       "parent_education_highest1_ hs                0.1585    \n",
       "parent_education_highest2_college_twoyear    0.3257    \n",
       "parent_education_highest3_college_fouryear   0.0647 .  \n",
       "parent_education_highest4_masters            0.0884 .  \n",
       "parent_education_highest5_advanced           0.1741    \n",
       "log10(family_income)                         0.0499 *  \n",
       "---\n",
       "Signif. codes:  0 ‘***’ 0.001 ‘**’ 0.01 ‘*’ 0.05 ‘.’ 0.1 ‘ ’ 1\n",
       "\n",
       "Residual standard error: 0.7954 on 410 degrees of freedom\n",
       "Multiple R-squared:  0.5949,\tAdjusted R-squared:  0.5702 \n",
       "F-statistic: 24.08 on 25 and 410 DF,  p-value: < 2.2e-16\n"
      ]
     },
     "metadata": {},
     "output_type": "display_data"
    }
   ],
   "source": [
    "fixed_model_ls = make_model(\"life_satisfaction_t2\")\n",
    "summary(fixed_model_ls)"
   ]
  },
  {
   "cell_type": "code",
   "execution_count": 23,
   "metadata": {},
   "outputs": [
    {
     "data": {
      "text/html": [
       "<table>\n",
       "<caption>A anova: 2 × 6</caption>\n",
       "<thead>\n",
       "\t<tr><th></th><th scope=col>Res.Df</th><th scope=col>RSS</th><th scope=col>Df</th><th scope=col>Sum of Sq</th><th scope=col>F</th><th scope=col>Pr(&gt;F)</th></tr>\n",
       "\t<tr><th></th><th scope=col>&lt;dbl&gt;</th><th scope=col>&lt;dbl&gt;</th><th scope=col>&lt;dbl&gt;</th><th scope=col>&lt;dbl&gt;</th><th scope=col>&lt;dbl&gt;</th><th scope=col>&lt;dbl&gt;</th></tr>\n",
       "</thead>\n",
       "<tbody>\n",
       "\t<tr><th scope=row>1</th><td>432</td><td>279.307</td><td>NA</td><td>      NA</td><td>      NA</td><td>        NA</td></tr>\n",
       "\t<tr><th scope=row>2</th><td>410</td><td>259.421</td><td>22</td><td>19.88599</td><td>1.428575</td><td>0.09585346</td></tr>\n",
       "</tbody>\n",
       "</table>\n"
      ],
      "text/latex": [
       "A anova: 2 × 6\n",
       "\\begin{tabular}{r|llllll}\n",
       "  & Res.Df & RSS & Df & Sum of Sq & F & Pr(>F)\\\\\n",
       "  & <dbl> & <dbl> & <dbl> & <dbl> & <dbl> & <dbl>\\\\\n",
       "\\hline\n",
       "\t1 & 432 & 279.307 & NA &       NA &       NA &         NA\\\\\n",
       "\t2 & 410 & 259.421 & 22 & 19.88599 & 1.428575 & 0.09585346\\\\\n",
       "\\end{tabular}\n"
      ],
      "text/markdown": [
       "\n",
       "A anova: 2 × 6\n",
       "\n",
       "| <!--/--> | Res.Df &lt;dbl&gt; | RSS &lt;dbl&gt; | Df &lt;dbl&gt; | Sum of Sq &lt;dbl&gt; | F &lt;dbl&gt; | Pr(&gt;F) &lt;dbl&gt; |\n",
       "|---|---|---|---|---|---|---|\n",
       "| 1 | 432 | 279.307 | NA |       NA |       NA |         NA |\n",
       "| 2 | 410 | 259.421 | 22 | 19.88599 | 1.428575 | 0.09585346 |\n",
       "\n"
      ],
      "text/plain": [
       "  Res.Df RSS     Df Sum of Sq F        Pr(>F)    \n",
       "1 432    279.307 NA       NA        NA         NA\n",
       "2 410    259.421 22 19.88599  1.428575 0.09585346"
      ]
     },
     "metadata": {},
     "output_type": "display_data"
    }
   ],
   "source": [
    "anova(base_model_ls, fixed_model_ls)"
   ]
  },
  {
   "cell_type": "code",
   "execution_count": 24,
   "metadata": {},
   "outputs": [
    {
     "name": "stdout",
     "output_type": "stream",
     "text": [
      "[1] \"Before: 0.560789243774622\"\n",
      "[1] \"After: 0.570170526066295\"\n",
      "[1] \"Partial r² (adjusted): 0.0213594092555849\"\n"
     ]
    }
   ],
   "source": [
    "r1 = summary(base_model_ls)$adj.r.squared\n",
    "r2 = summary(fixed_model_ls)$adj.r.squared\n",
    "print(paste(\"Before:\", r1))\n",
    "print(paste(\"After:\", r2))\n",
    "print(paste(\"Partial r² (adjusted):\", (r2 - r1) / (1 - r1)))"
   ]
  },
  {
   "cell_type": "markdown",
   "metadata": {},
   "source": [
    "### Covariates seem to matter very little - lets reduce our fixed effects model to only wellbeing and in/out degree measures"
   ]
  },
  {
   "cell_type": "code",
   "execution_count": 25,
   "metadata": {},
   "outputs": [
    {
     "data": {
      "text/plain": [
       "\n",
       "Call:\n",
       "lm(formula = life_satisfaction_t2 ~ life_satisfaction_t1 + loneliness_t1 + \n",
       "    stress_t1 + edges_in + edges_out, data = df)\n",
       "\n",
       "Residuals:\n",
       "     Min       1Q   Median       3Q      Max \n",
       "-3.01032 -0.45451  0.02202  0.49780  3.13413 \n",
       "\n",
       "Coefficients:\n",
       "                      Estimate Std. Error t value Pr(>|t|)    \n",
       "(Intercept)           1.674736   0.372064   4.501 8.71e-06 ***\n",
       "life_satisfaction_t1  0.710248   0.039289  18.078  < 2e-16 ***\n",
       "loneliness_t1        -0.114657   0.082955  -1.382  0.16764    \n",
       "stress_t1            -0.220210   0.077889  -2.827  0.00491 ** \n",
       "edges_in              0.029149   0.014033   2.077  0.03837 *  \n",
       "edges_out             0.019735   0.009432   2.092  0.03698 *  \n",
       "---\n",
       "Signif. codes:  0 ‘***’ 0.001 ‘**’ 0.01 ‘*’ 0.05 ‘.’ 0.1 ‘ ’ 1\n",
       "\n",
       "Residual standard error: 0.7948 on 430 degrees of freedom\n",
       "Multiple R-squared:  0.5758,\tAdjusted R-squared:  0.5709 \n",
       "F-statistic: 116.8 on 5 and 430 DF,  p-value: < 2.2e-16\n"
      ]
     },
     "metadata": {},
     "output_type": "display_data"
    }
   ],
   "source": [
    "fixed_model_ls_inout = lm(life_satisfaction_t2 ~ life_satisfaction_t1 +\n",
    "                          loneliness_t1 + stress_t1 + edges_in + edges_out,\n",
    "                          df)\n",
    "summary(fixed_model_ls_inout)"
   ]
  },
  {
   "cell_type": "code",
   "execution_count": 26,
   "metadata": {},
   "outputs": [
    {
     "data": {
      "text/html": [
       "<table>\n",
       "<caption>A anova: 2 × 6</caption>\n",
       "<thead>\n",
       "\t<tr><th></th><th scope=col>Res.Df</th><th scope=col>RSS</th><th scope=col>Df</th><th scope=col>Sum of Sq</th><th scope=col>F</th><th scope=col>Pr(&gt;F)</th></tr>\n",
       "\t<tr><th></th><th scope=col>&lt;dbl&gt;</th><th scope=col>&lt;dbl&gt;</th><th scope=col>&lt;dbl&gt;</th><th scope=col>&lt;dbl&gt;</th><th scope=col>&lt;dbl&gt;</th><th scope=col>&lt;dbl&gt;</th></tr>\n",
       "</thead>\n",
       "<tbody>\n",
       "\t<tr><th scope=row>1</th><td>432</td><td>279.3070</td><td>NA</td><td>      NA</td><td>      NA</td><td>         NA</td></tr>\n",
       "\t<tr><th scope=row>2</th><td>430</td><td>271.6045</td><td> 2</td><td>7.702512</td><td>6.097248</td><td>0.002448226</td></tr>\n",
       "</tbody>\n",
       "</table>\n"
      ],
      "text/latex": [
       "A anova: 2 × 6\n",
       "\\begin{tabular}{r|llllll}\n",
       "  & Res.Df & RSS & Df & Sum of Sq & F & Pr(>F)\\\\\n",
       "  & <dbl> & <dbl> & <dbl> & <dbl> & <dbl> & <dbl>\\\\\n",
       "\\hline\n",
       "\t1 & 432 & 279.3070 & NA &       NA &       NA &          NA\\\\\n",
       "\t2 & 430 & 271.6045 &  2 & 7.702512 & 6.097248 & 0.002448226\\\\\n",
       "\\end{tabular}\n"
      ],
      "text/markdown": [
       "\n",
       "A anova: 2 × 6\n",
       "\n",
       "| <!--/--> | Res.Df &lt;dbl&gt; | RSS &lt;dbl&gt; | Df &lt;dbl&gt; | Sum of Sq &lt;dbl&gt; | F &lt;dbl&gt; | Pr(&gt;F) &lt;dbl&gt; |\n",
       "|---|---|---|---|---|---|---|\n",
       "| 1 | 432 | 279.3070 | NA |       NA |       NA |          NA |\n",
       "| 2 | 430 | 271.6045 |  2 | 7.702512 | 6.097248 | 0.002448226 |\n",
       "\n"
      ],
      "text/plain": [
       "  Res.Df RSS      Df Sum of Sq F        Pr(>F)     \n",
       "1 432    279.3070 NA       NA        NA          NA\n",
       "2 430    271.6045  2 7.702512  6.097248 0.002448226"
      ]
     },
     "metadata": {},
     "output_type": "display_data"
    }
   ],
   "source": [
    "anova(base_model_ls, fixed_model_ls_inout)"
   ]
  },
  {
   "cell_type": "code",
   "execution_count": 27,
   "metadata": {},
   "outputs": [
    {
     "name": "stdout",
     "output_type": "stream",
     "text": [
      "[1] \"Before: 0.560789243774622\"\n",
      "[1] \"After: 0.57091495123464\"\n",
      "[1] \"Partial r² (adjusted): 0.0230543248690874\"\n"
     ]
    }
   ],
   "source": [
    "r1 = summary(base_model_ls)$adj.r.squared\n",
    "r2 = summary(fixed_model_ls_inout)$adj.r.squared\n",
    "print(paste(\"Before:\", r1))\n",
    "print(paste(\"After:\", r2))\n",
    "print(paste(\"Partial r² (adjusted):\", (r2 - r1) / (1 - r1)))"
   ]
  },
  {
   "cell_type": "markdown",
   "metadata": {},
   "source": [
    "### Examine residuals by dorm. If there is a sigificant dorm-wide effect, we should see some clear boxes that are above and below zero. (Spoiler alert: we don't)"
   ]
  },
  {
   "cell_type": "code",
   "execution_count": 28,
   "metadata": {},
   "outputs": [],
   "source": [
    "df$residuals = fixed_model_ls$residuals"
   ]
  },
  {
   "cell_type": "code",
   "execution_count": 29,
   "metadata": {},
   "outputs": [
    {
     "data": {
      "image/png": "[encoded data removed]",
      "text/plain": [
       "plot without title"
      ]
     },
     "metadata": {
      "image/png": {
       "height": 420,
       "width": 420
      },
      "text/plain": {
       "height": 420,
       "width": 420
      }
     },
     "output_type": "display_data"
    }
   ],
   "source": [
    "ggplot(data=df, mapping=aes(dorm, residuals)) + \n",
    "  geom_boxplot(aes(color=dorm)) + coord_flip()"
   ]
  },
  {
   "cell_type": "markdown",
   "metadata": {},
   "source": [
    "## Add random effect for dorm, see if significant variance is attributable to dorm membership"
   ]
  },
  {
   "cell_type": "code",
   "execution_count": 30,
   "metadata": {},
   "outputs": [
    {
     "name": "stderr",
     "output_type": "stream",
     "text": [
      "boundary (singular) fit: see ?isSingular\n",
      "\n",
      "\n",
      "Correlation matrix not shown by default, as p = 26 > 12.\n",
      "Use print(obj, correlation=TRUE)  or\n",
      "    vcov(obj)        if you need it\n",
      "\n",
      "\n"
     ]
    },
    {
     "data": {
      "text/plain": [
       "Linear mixed model fit by REML. t-tests use Satterthwaite's method [\n",
       "lmerModLmerTest]\n",
       "Formula: \n",
       "as.formula(paste(\"life_satisfaction_t2 ~\", fixed_params, \"+ (1|dorm)\"))\n",
       "   Data: df\n",
       "\n",
       "REML criterion at convergence: 1099.7\n",
       "\n",
       "Scaled residuals: \n",
       "    Min      1Q  Median      3Q     Max \n",
       "-3.3519 -0.5687  0.0728  0.6127  3.8172 \n",
       "\n",
       "Random effects:\n",
       " Groups   Name        Variance Std.Dev.\n",
       " dorm     (Intercept) 0.0000   0.0000  \n",
       " Residual             0.6327   0.7954  \n",
       "Number of obs: 436, groups:  dorm, 21\n",
       "\n",
       "Fixed effects:\n",
       "                                             Estimate Std. Error         df\n",
       "(Intercept)                                 6.524e-01  8.254e-01  4.100e+02\n",
       "life_satisfaction_t1                        6.738e-01  4.349e-02  4.100e+02\n",
       "loneliness_t1                              -1.211e-01  8.973e-02  4.100e+02\n",
       "stress_t1                                  -1.958e-01  9.430e-02  4.100e+02\n",
       "edges_in                                    3.345e-02  1.494e-02  4.100e+02\n",
       "edges_out                                   1.859e-02  9.549e-03  4.100e+02\n",
       "C(gender)male                              -6.073e-02  8.665e-02  4.100e+02\n",
       "C(gender)other                              2.099e-01  5.871e-01  4.100e+02\n",
       "C(race)east_asian                           1.860e-01  1.398e-01  4.100e+02\n",
       "C(race)hispanic                             2.145e-01  1.560e-01  4.100e+02\n",
       "C(race)other_or_mixed                       2.094e-01  1.582e-01  4.100e+02\n",
       "C(race)south_asian                          2.834e-01  1.647e-01  4.100e+02\n",
       "C(race)white                                2.046e-01  1.383e-01  4.100e+02\n",
       "empathy                                    -5.667e-02  6.887e-02  4.100e+02\n",
       "BFI_E                                       1.150e-02  3.011e-02  4.100e+02\n",
       "BFI_O                                       2.127e-04  4.179e-02  4.100e+02\n",
       "BFI_C                                       6.825e-02  3.583e-02  4.100e+02\n",
       "BFI_A                                      -1.488e-02  4.172e-02  4.100e+02\n",
       "BFI_N                                      -2.760e-02  3.922e-02  4.100e+02\n",
       "intl_student                               -3.177e-02  1.264e-01  4.100e+02\n",
       "parent_education_highest1_ hs              -2.680e-01  1.897e-01  4.100e+02\n",
       "parent_education_highest2_college_twoyear  -2.628e-01  2.671e-01  4.100e+02\n",
       "parent_education_highest3_college_fouryear -3.646e-01  1.968e-01  4.100e+02\n",
       "parent_education_highest4_masters          -3.326e-01  1.947e-01  4.100e+02\n",
       "parent_education_highest5_advanced         -2.724e-01  2.001e-01  4.100e+02\n",
       "log10(family_income)                        2.707e-01  1.376e-01  4.100e+02\n",
       "                                           t value Pr(>|t|)    \n",
       "(Intercept)                                  0.790   0.4297    \n",
       "life_satisfaction_t1                        15.493   <2e-16 ***\n",
       "loneliness_t1                               -1.350   0.1778    \n",
       "stress_t1                                   -2.077   0.0385 *  \n",
       "edges_in                                     2.238   0.0257 *  \n",
       "edges_out                                    1.947   0.0522 .  \n",
       "C(gender)male                               -0.701   0.4838    \n",
       "C(gender)other                               0.358   0.7208    \n",
       "C(race)east_asian                            1.330   0.1841    \n",
       "C(race)hispanic                              1.375   0.1697    \n",
       "C(race)other_or_mixed                        1.323   0.1864    \n",
       "C(race)south_asian                           1.721   0.0860 .  \n",
       "C(race)white                                 1.479   0.1399    \n",
       "empathy                                     -0.823   0.4111    \n",
       "BFI_E                                        0.382   0.7026    \n",
       "BFI_O                                        0.005   0.9959    \n",
       "BFI_C                                        1.904   0.0575 .  \n",
       "BFI_A                                       -0.357   0.7215    \n",
       "BFI_N                                       -0.704   0.4821    \n",
       "intl_student                                -0.251   0.8017    \n",
       "parent_education_highest1_ hs               -1.413   0.1585    \n",
       "parent_education_highest2_college_twoyear   -0.984   0.3257    \n",
       "parent_education_highest3_college_fouryear  -1.852   0.0647 .  \n",
       "parent_education_highest4_masters           -1.708   0.0884 .  \n",
       "parent_education_highest5_advanced          -1.361   0.1741    \n",
       "log10(family_income)                         1.967   0.0499 *  \n",
       "---\n",
       "Signif. codes:  0 ‘***’ 0.001 ‘**’ 0.01 ‘*’ 0.05 ‘.’ 0.1 ‘ ’ 1\n",
       "convergence code: 0\n",
       "boundary (singular) fit: see ?isSingular\n"
      ]
     },
     "metadata": {},
     "output_type": "display_data"
    }
   ],
   "source": [
    "mixed_model_ls = lmer(as.formula(paste('life_satisfaction_t2 ~', fixed_params, \"+ (1|dorm)\")), df)\n",
    "summary(mixed_model_ls)"
   ]
  },
  {
   "cell_type": "markdown",
   "metadata": {},
   "source": [
    "### Try again, with some dorm-level covariates"
   ]
  },
  {
   "cell_type": "code",
   "execution_count": 31,
   "metadata": {},
   "outputs": [
    {
     "name": "stderr",
     "output_type": "stream",
     "text": [
      "boundary (singular) fit: see ?isSingular\n",
      "\n",
      "\n",
      "Correlation matrix not shown by default, as p = 26 > 12.\n",
      "Use print(obj, correlation=TRUE)  or\n",
      "    vcov(obj)        if you need it\n",
      "\n",
      "\n"
     ]
    },
    {
     "data": {
      "text/plain": [
       "Linear mixed model fit by REML. t-tests use Satterthwaite's method [\n",
       "lmerModLmerTest]\n",
       "Formula: \n",
       "as.formula(paste(\"life_satisfaction_t2 ~\", fixed_params, \"+ (1 + BFI_E + life_satisfaction_t1|dorm)\"))\n",
       "   Data: df\n",
       "\n",
       "REML criterion at convergence: 1099.7\n",
       "\n",
       "Scaled residuals: \n",
       "    Min      1Q  Median      3Q     Max \n",
       "-3.3519 -0.5687  0.0728  0.6127  3.8172 \n",
       "\n",
       "Random effects:\n",
       " Groups   Name                 Variance  Std.Dev.  Corr       \n",
       " dorm     (Intercept)          5.573e-06 2.361e-03            \n",
       "          BFI_E                8.688e-09 9.321e-05  1.00      \n",
       "          life_satisfaction_t1 3.161e-07 5.622e-04 -1.00 -1.00\n",
       " Residual                      6.327e-01 7.954e-01            \n",
       "Number of obs: 436, groups:  dorm, 21\n",
       "\n",
       "Fixed effects:\n",
       "                                             Estimate Std. Error         df\n",
       "(Intercept)                                 6.524e-01  8.254e-01  4.100e+02\n",
       "life_satisfaction_t1                        6.738e-01  4.349e-02  4.066e+02\n",
       "loneliness_t1                              -1.211e-01  8.973e-02  4.100e+02\n",
       "stress_t1                                  -1.958e-01  9.430e-02  4.100e+02\n",
       "edges_in                                    3.345e-02  1.494e-02  4.100e+02\n",
       "edges_out                                   1.859e-02  9.549e-03  4.100e+02\n",
       "C(gender)male                              -6.073e-02  8.665e-02  4.100e+02\n",
       "C(gender)other                              2.099e-01  5.871e-01  4.100e+02\n",
       "C(race)east_asian                           1.860e-01  1.398e-01  4.100e+02\n",
       "C(race)hispanic                             2.146e-01  1.560e-01  4.100e+02\n",
       "C(race)other_or_mixed                       2.094e-01  1.582e-01  4.100e+02\n",
       "C(race)south_asian                          2.834e-01  1.647e-01  4.100e+02\n",
       "C(race)white                                2.046e-01  1.383e-01  4.100e+02\n",
       "empathy                                    -5.667e-02  6.887e-02  4.100e+02\n",
       "BFI_E                                       1.150e-02  3.011e-02  4.099e+02\n",
       "BFI_O                                       2.126e-04  4.179e-02  4.100e+02\n",
       "BFI_C                                       6.825e-02  3.583e-02  4.100e+02\n",
       "BFI_A                                      -1.488e-02  4.172e-02  4.100e+02\n",
       "BFI_N                                      -2.760e-02  3.922e-02  4.100e+02\n",
       "intl_student                               -3.177e-02  1.264e-01  4.100e+02\n",
       "parent_education_highest1_ hs              -2.680e-01  1.897e-01  4.100e+02\n",
       "parent_education_highest2_college_twoyear  -2.628e-01  2.671e-01  4.100e+02\n",
       "parent_education_highest3_college_fouryear -3.646e-01  1.968e-01  4.100e+02\n",
       "parent_education_highest4_masters          -3.326e-01  1.947e-01  4.100e+02\n",
       "parent_education_highest5_advanced         -2.724e-01  2.001e-01  4.100e+02\n",
       "log10(family_income)                        2.707e-01  1.376e-01  4.100e+02\n",
       "                                           t value Pr(>|t|)    \n",
       "(Intercept)                                  0.790   0.4297    \n",
       "life_satisfaction_t1                        15.493   <2e-16 ***\n",
       "loneliness_t1                               -1.350   0.1778    \n",
       "stress_t1                                   -2.077   0.0385 *  \n",
       "edges_in                                     2.238   0.0257 *  \n",
       "edges_out                                    1.947   0.0522 .  \n",
       "C(gender)male                               -0.701   0.4838    \n",
       "C(gender)other                               0.358   0.7208    \n",
       "C(race)east_asian                            1.330   0.1841    \n",
       "C(race)hispanic                              1.375   0.1697    \n",
       "C(race)other_or_mixed                        1.323   0.1864    \n",
       "C(race)south_asian                           1.721   0.0860 .  \n",
       "C(race)white                                 1.479   0.1399    \n",
       "empathy                                     -0.823   0.4111    \n",
       "BFI_E                                        0.382   0.7026    \n",
       "BFI_O                                        0.005   0.9959    \n",
       "BFI_C                                        1.904   0.0575 .  \n",
       "BFI_A                                       -0.357   0.7215    \n",
       "BFI_N                                       -0.704   0.4821    \n",
       "intl_student                                -0.251   0.8017    \n",
       "parent_education_highest1_ hs               -1.413   0.1585    \n",
       "parent_education_highest2_college_twoyear   -0.984   0.3257    \n",
       "parent_education_highest3_college_fouryear  -1.852   0.0647 .  \n",
       "parent_education_highest4_masters           -1.708   0.0884 .  \n",
       "parent_education_highest5_advanced          -1.361   0.1741    \n",
       "log10(family_income)                         1.967   0.0499 *  \n",
       "---\n",
       "Signif. codes:  0 ‘***’ 0.001 ‘**’ 0.01 ‘*’ 0.05 ‘.’ 0.1 ‘ ’ 1\n",
       "convergence code: 0\n",
       "boundary (singular) fit: see ?isSingular\n"
      ]
     },
     "metadata": {},
     "output_type": "display_data"
    }
   ],
   "source": [
    "mixed_model_ls_with_l2_covariates = lmer(as.formula(paste(\n",
    "    'life_satisfaction_t2 ~', fixed_params,\n",
    "    \"+ (1 + BFI_E + life_satisfaction_t1|dorm)\")),\n",
    "    df)\n",
    "summary(mixed_model_ls_with_l2_covariates)"
   ]
  },
  {
   "cell_type": "code",
   "execution_count": 32,
   "metadata": {},
   "outputs": [
    {
     "data": {
      "text/html": [
       "<table>\n",
       "<caption>A anova: 2 × 8</caption>\n",
       "<thead>\n",
       "\t<tr><th></th><th scope=col>Df</th><th scope=col>AIC</th><th scope=col>BIC</th><th scope=col>logLik</th><th scope=col>deviance</th><th scope=col>Chisq</th><th scope=col>Chi Df</th><th scope=col>Pr(&gt;Chisq)</th></tr>\n",
       "\t<tr><th></th><th scope=col>&lt;dbl&gt;</th><th scope=col>&lt;dbl&gt;</th><th scope=col>&lt;dbl&gt;</th><th scope=col>&lt;dbl&gt;</th><th scope=col>&lt;dbl&gt;</th><th scope=col>&lt;dbl&gt;</th><th scope=col>&lt;dbl&gt;</th><th scope=col>&lt;dbl&gt;</th></tr>\n",
       "</thead>\n",
       "<tbody>\n",
       "\t<tr><th scope=row>mixed_model_ls</th><td>28</td><td>1155.668</td><td>1269.842</td><td>-549.8338</td><td>1099.668</td><td>NA</td><td>NA</td><td>NA</td></tr>\n",
       "\t<tr><th scope=row>mixed_model_ls_with_l2_covariates</th><td>33</td><td>1165.668</td><td>1300.230</td><td>-549.8338</td><td>1099.668</td><td> 0</td><td> 5</td><td> 1</td></tr>\n",
       "</tbody>\n",
       "</table>\n"
      ],
      "text/latex": [
       "A anova: 2 × 8\n",
       "\\begin{tabular}{r|llllllll}\n",
       "  & Df & AIC & BIC & logLik & deviance & Chisq & Chi Df & Pr(>Chisq)\\\\\n",
       "  & <dbl> & <dbl> & <dbl> & <dbl> & <dbl> & <dbl> & <dbl> & <dbl>\\\\\n",
       "\\hline\n",
       "\tmixed\\_model\\_ls & 28 & 1155.668 & 1269.842 & -549.8338 & 1099.668 & NA & NA & NA\\\\\n",
       "\tmixed\\_model\\_ls\\_with\\_l2\\_covariates & 33 & 1165.668 & 1300.230 & -549.8338 & 1099.668 &  0 &  5 &  1\\\\\n",
       "\\end{tabular}\n"
      ],
      "text/markdown": [
       "\n",
       "A anova: 2 × 8\n",
       "\n",
       "| <!--/--> | Df &lt;dbl&gt; | AIC &lt;dbl&gt; | BIC &lt;dbl&gt; | logLik &lt;dbl&gt; | deviance &lt;dbl&gt; | Chisq &lt;dbl&gt; | Chi Df &lt;dbl&gt; | Pr(&gt;Chisq) &lt;dbl&gt; |\n",
       "|---|---|---|---|---|---|---|---|---|\n",
       "| mixed_model_ls | 28 | 1155.668 | 1269.842 | -549.8338 | 1099.668 | NA | NA | NA |\n",
       "| mixed_model_ls_with_l2_covariates | 33 | 1165.668 | 1300.230 | -549.8338 | 1099.668 |  0 |  5 |  1 |\n",
       "\n"
      ],
      "text/plain": [
       "                                  Df AIC      BIC      logLik    deviance Chisq\n",
       "mixed_model_ls                    28 1155.668 1269.842 -549.8338 1099.668 NA   \n",
       "mixed_model_ls_with_l2_covariates 33 1165.668 1300.230 -549.8338 1099.668  0   \n",
       "                                  Chi Df Pr(>Chisq)\n",
       "mixed_model_ls                    NA     NA        \n",
       "mixed_model_ls_with_l2_covariates  5      1        "
      ]
     },
     "metadata": {},
     "output_type": "display_data"
    }
   ],
   "source": [
    "anova(mixed_model_ls, mixed_model_ls_with_l2_covariates, refit=FALSE)"
   ]
  },
  {
   "cell_type": "markdown",
   "metadata": {},
   "source": [
    "## Add fixed effects for network (traits of people connected to the individual via nominations)"
   ]
  },
  {
   "cell_type": "code",
   "execution_count": 33,
   "metadata": {},
   "outputs": [
    {
     "data": {
      "text/plain": [
       "\n",
       "Call:\n",
       "lm(formula = paste(\"life_satisfaction_t2 ~ \", fixed_params, \"\\n                            network_life_satisfaction_t1 + network_loneliness_t1 + network_stress_t1 +\\n                            network_empathy +\\n                            network_BFI_E + network_BFI_O + network_BFI_C + network_BFI_A + network_BFI_N +\\n                            network_intl_student + log10(network_family_income)\"), \n",
       "    data = df)\n",
       "\n",
       "Residuals:\n",
       "     Min       1Q   Median       3Q      Max \n",
       "-2.66626 -0.45237  0.05788  0.48735  3.03635 \n",
       "\n",
       "Coefficients:\n",
       "                                             Estimate Std. Error t value\n",
       "(Intercept)                                 0.6523883  0.8253581   0.790\n",
       "life_satisfaction_t1                        0.6738174  0.0434915  15.493\n",
       "loneliness_t1                              -0.1211143  0.0897296  -1.350\n",
       "stress_t1                                  -0.1958093  0.0942955  -2.077\n",
       "edges_in                                    0.0334477  0.0149433   2.238\n",
       "edges_out                                   0.0185924  0.0095494   1.947\n",
       "C(gender)male                              -0.0607282  0.0866528  -0.701\n",
       "C(gender)other                              0.2099445  0.5870844   0.358\n",
       "C(race)east_asian                           0.1859674  0.1397825   1.330\n",
       "C(race)hispanic                             0.2145496  0.1559815   1.375\n",
       "C(race)other_or_mixed                       0.2094255  0.1582379   1.323\n",
       "C(race)south_asian                          0.2833910  0.1646610   1.721\n",
       "C(race)white                                0.2045859  0.1383327   1.479\n",
       "empathy                                    -0.0566676  0.0688656  -0.823\n",
       "BFI_E                                       0.0115050  0.0301066   0.382\n",
       "BFI_O                                       0.0002127  0.0417906   0.005\n",
       "BFI_C                                       0.0682458  0.0358341   1.904\n",
       "BFI_A                                      -0.0148798  0.0417174  -0.357\n",
       "BFI_N                                      -0.0275985  0.0392226  -0.704\n",
       "intl_student                               -0.0317660  0.1263707  -0.251\n",
       "parent_education_highest1_ hs              -0.2679670  0.1896911  -1.413\n",
       "parent_education_highest2_college_twoyear  -0.2628389  0.2671157  -0.984\n",
       "parent_education_highest3_college_fouryear -0.3646176  0.1968395  -1.852\n",
       "parent_education_highest4_masters          -0.3326113  0.1947341  -1.708\n",
       "parent_education_highest5_advanced         -0.2723634  0.2000637  -1.361\n",
       "log10(family_income)                        0.2707189  0.1376381   1.967\n",
       "                                           Pr(>|t|)    \n",
       "(Intercept)                                  0.4297    \n",
       "life_satisfaction_t1                         <2e-16 ***\n",
       "loneliness_t1                                0.1778    \n",
       "stress_t1                                    0.0385 *  \n",
       "edges_in                                     0.0257 *  \n",
       "edges_out                                    0.0522 .  \n",
       "C(gender)male                                0.4838    \n",
       "C(gender)other                               0.7208    \n",
       "C(race)east_asian                            0.1841    \n",
       "C(race)hispanic                              0.1697    \n",
       "C(race)other_or_mixed                        0.1864    \n",
       "C(race)south_asian                           0.0860 .  \n",
       "C(race)white                                 0.1399    \n",
       "empathy                                      0.4111    \n",
       "BFI_E                                        0.7026    \n",
       "BFI_O                                        0.9959    \n",
       "BFI_C                                        0.0575 .  \n",
       "BFI_A                                        0.7215    \n",
       "BFI_N                                        0.4821    \n",
       "intl_student                                 0.8017    \n",
       "parent_education_highest1_ hs                0.1585    \n",
       "parent_education_highest2_college_twoyear    0.3257    \n",
       "parent_education_highest3_college_fouryear   0.0647 .  \n",
       "parent_education_highest4_masters            0.0884 .  \n",
       "parent_education_highest5_advanced           0.1741    \n",
       "log10(family_income)                         0.0499 *  \n",
       "---\n",
       "Signif. codes:  0 ‘***’ 0.001 ‘**’ 0.01 ‘*’ 0.05 ‘.’ 0.1 ‘ ’ 1\n",
       "\n",
       "Residual standard error: 0.7954 on 410 degrees of freedom\n",
       "Multiple R-squared:  0.5949,\tAdjusted R-squared:  0.5702 \n",
       "F-statistic: 24.08 on 25 and 410 DF,  p-value: < 2.2e-16\n"
      ]
     },
     "metadata": {},
     "output_type": "display_data"
    }
   ],
   "source": [
    "network_model_ls = lm(paste(\"life_satisfaction_t2 ~ \", fixed_params, \"\n",
    "                            network_life_satisfaction_t1 + network_loneliness_t1 + network_stress_t1 +\n",
    "                            network_empathy +\n",
    "                            network_BFI_E + network_BFI_O + network_BFI_C + network_BFI_A + network_BFI_N +\n",
    "                            network_intl_student + log10(network_family_income)\"),\n",
    "                          df)\n",
    "summary(network_model_ls)"
   ]
  },
  {
   "cell_type": "code",
   "execution_count": 34,
   "metadata": {},
   "outputs": [
    {
     "data": {
      "text/html": [
       "<table>\n",
       "<caption>A anova: 2 × 6</caption>\n",
       "<thead>\n",
       "\t<tr><th></th><th scope=col>Res.Df</th><th scope=col>RSS</th><th scope=col>Df</th><th scope=col>Sum of Sq</th><th scope=col>F</th><th scope=col>Pr(&gt;F)</th></tr>\n",
       "\t<tr><th></th><th scope=col>&lt;dbl&gt;</th><th scope=col>&lt;dbl&gt;</th><th scope=col>&lt;dbl&gt;</th><th scope=col>&lt;dbl&gt;</th><th scope=col>&lt;dbl&gt;</th><th scope=col>&lt;dbl&gt;</th></tr>\n",
       "</thead>\n",
       "<tbody>\n",
       "\t<tr><th scope=row>1</th><td>430</td><td>271.6045</td><td>NA</td><td>      NA</td><td>      NA</td><td>       NA</td></tr>\n",
       "\t<tr><th scope=row>2</th><td>410</td><td>259.4210</td><td>20</td><td>12.18347</td><td>0.962764</td><td>0.5071523</td></tr>\n",
       "</tbody>\n",
       "</table>\n"
      ],
      "text/latex": [
       "A anova: 2 × 6\n",
       "\\begin{tabular}{r|llllll}\n",
       "  & Res.Df & RSS & Df & Sum of Sq & F & Pr(>F)\\\\\n",
       "  & <dbl> & <dbl> & <dbl> & <dbl> & <dbl> & <dbl>\\\\\n",
       "\\hline\n",
       "\t1 & 430 & 271.6045 & NA &       NA &       NA &        NA\\\\\n",
       "\t2 & 410 & 259.4210 & 20 & 12.18347 & 0.962764 & 0.5071523\\\\\n",
       "\\end{tabular}\n"
      ],
      "text/markdown": [
       "\n",
       "A anova: 2 × 6\n",
       "\n",
       "| <!--/--> | Res.Df &lt;dbl&gt; | RSS &lt;dbl&gt; | Df &lt;dbl&gt; | Sum of Sq &lt;dbl&gt; | F &lt;dbl&gt; | Pr(&gt;F) &lt;dbl&gt; |\n",
       "|---|---|---|---|---|---|---|\n",
       "| 1 | 430 | 271.6045 | NA |       NA |       NA |        NA |\n",
       "| 2 | 410 | 259.4210 | 20 | 12.18347 | 0.962764 | 0.5071523 |\n",
       "\n"
      ],
      "text/plain": [
       "  Res.Df RSS      Df Sum of Sq F        Pr(>F)   \n",
       "1 430    271.6045 NA       NA        NA        NA\n",
       "2 410    259.4210 20 12.18347  0.962764 0.5071523"
      ]
     },
     "metadata": {},
     "output_type": "display_data"
    }
   ],
   "source": [
    "anova(fixed_model_ls_inout, network_model_ls)"
   ]
  },
  {
   "cell_type": "code",
   "execution_count": 35,
   "metadata": {},
   "outputs": [
    {
     "name": "stdout",
     "output_type": "stream",
     "text": [
      "[1] \"Before: 0.57091495123464\"\n",
      "[1] \"After: 0.570170526066295\"\n",
      "[1] \"Partial r² (adjusted): -0.00173491285815388\"\n"
     ]
    }
   ],
   "source": [
    "r1 = summary(fixed_model_ls_inout)$adj.r.squared\n",
    "r2 = summary(network_model_ls)$adj.r.squared\n",
    "print(paste(\"Before:\", r1))\n",
    "print(paste(\"After:\", r2))\n",
    "print(paste(\"Partial r² (adjusted):\", (r2 - r1) / (1 - r1)))"
   ]
  },
  {
   "cell_type": "code",
   "execution_count": 36,
   "metadata": {},
   "outputs": [
    {
     "data": {
      "text/plain": [
       "\n",
       "Call:\n",
       "lm(formula = life_satisfaction_t2 ~ life_satisfaction_t1 + loneliness_t1 + \n",
       "    stress_t1 + edges_in + edges_out + log10(family_income) + \n",
       "    log10(network_family_income), data = df)\n",
       "\n",
       "Residuals:\n",
       "     Min       1Q   Median       3Q      Max \n",
       "-2.74024 -0.46154  0.05121  0.51252  2.99875 \n",
       "\n",
       "Coefficients:\n",
       "                              Estimate Std. Error t value Pr(>|t|)    \n",
       "(Intercept)                  -0.600849   0.917618  -0.655  0.51295    \n",
       "life_satisfaction_t1          0.683015   0.040360  16.923  < 2e-16 ***\n",
       "loneliness_t1                -0.108179   0.082523  -1.311  0.19059    \n",
       "stress_t1                    -0.224762   0.077463  -2.902  0.00391 ** \n",
       "edges_in                      0.031536   0.013962   2.259  0.02441 *  \n",
       "edges_out                     0.017523   0.009398   1.865  0.06292 .  \n",
       "log10(family_income)          0.155753   0.105974   1.470  0.14237    \n",
       "log10(network_family_income)  0.324111   0.175485   1.847  0.06544 .  \n",
       "---\n",
       "Signif. codes:  0 ‘***’ 0.001 ‘**’ 0.01 ‘*’ 0.05 ‘.’ 0.1 ‘ ’ 1\n",
       "\n",
       "Residual standard error: 0.7892 on 428 degrees of freedom\n",
       "Multiple R-squared:  0.5837,\tAdjusted R-squared:  0.5769 \n",
       "F-statistic: 85.74 on 7 and 428 DF,  p-value: < 2.2e-16\n"
      ]
     },
     "metadata": {},
     "output_type": "display_data"
    }
   ],
   "source": [
    "network_model_ls = lm(life_satisfaction_t2 ~ life_satisfaction_t1 +\n",
    "                          loneliness_t1 + stress_t1 + edges_in + edges_out +\n",
    "                            log10(family_income) + log10(network_family_income),\n",
    "                          df)\n",
    "summary(network_model_ls)"
   ]
  },
  {
   "cell_type": "code",
   "execution_count": 37,
   "metadata": {},
   "outputs": [
    {
     "data": {
      "text/html": [
       "<table>\n",
       "<caption>A anova: 2 × 6</caption>\n",
       "<thead>\n",
       "\t<tr><th></th><th scope=col>Res.Df</th><th scope=col>RSS</th><th scope=col>Df</th><th scope=col>Sum of Sq</th><th scope=col>F</th><th scope=col>Pr(&gt;F)</th></tr>\n",
       "\t<tr><th></th><th scope=col>&lt;dbl&gt;</th><th scope=col>&lt;dbl&gt;</th><th scope=col>&lt;dbl&gt;</th><th scope=col>&lt;dbl&gt;</th><th scope=col>&lt;dbl&gt;</th><th scope=col>&lt;dbl&gt;</th></tr>\n",
       "</thead>\n",
       "<tbody>\n",
       "\t<tr><th scope=row>1</th><td>434</td><td>286.9732</td><td>NA</td><td>      NA</td><td>      NA</td><td>          NA</td></tr>\n",
       "\t<tr><th scope=row>2</th><td>428</td><td>266.5541</td><td> 6</td><td>20.41919</td><td>5.464439</td><td>1.831706e-05</td></tr>\n",
       "</tbody>\n",
       "</table>\n"
      ],
      "text/latex": [
       "A anova: 2 × 6\n",
       "\\begin{tabular}{r|llllll}\n",
       "  & Res.Df & RSS & Df & Sum of Sq & F & Pr(>F)\\\\\n",
       "  & <dbl> & <dbl> & <dbl> & <dbl> & <dbl> & <dbl>\\\\\n",
       "\\hline\n",
       "\t1 & 434 & 286.9732 & NA &       NA &       NA &           NA\\\\\n",
       "\t2 & 428 & 266.5541 &  6 & 20.41919 & 5.464439 & 1.831706e-05\\\\\n",
       "\\end{tabular}\n"
      ],
      "text/markdown": [
       "\n",
       "A anova: 2 × 6\n",
       "\n",
       "| <!--/--> | Res.Df &lt;dbl&gt; | RSS &lt;dbl&gt; | Df &lt;dbl&gt; | Sum of Sq &lt;dbl&gt; | F &lt;dbl&gt; | Pr(&gt;F) &lt;dbl&gt; |\n",
       "|---|---|---|---|---|---|---|\n",
       "| 1 | 434 | 286.9732 | NA |       NA |       NA |           NA |\n",
       "| 2 | 428 | 266.5541 |  6 | 20.41919 | 5.464439 | 1.831706e-05 |\n",
       "\n"
      ],
      "text/plain": [
       "  Res.Df RSS      Df Sum of Sq F        Pr(>F)      \n",
       "1 434    286.9732 NA       NA        NA           NA\n",
       "2 428    266.5541  6 20.41919  5.464439 1.831706e-05"
      ]
     },
     "metadata": {},
     "output_type": "display_data"
    }
   ],
   "source": [
    "anova(base_model_ls_only, network_model_ls)"
   ]
  },
  {
   "cell_type": "code",
   "execution_count": 38,
   "metadata": {},
   "outputs": [
    {
     "name": "stdout",
     "output_type": "stream",
     "text": [
      "[1] \"Before: 0.550813667293909\"\n",
      "[1] \"After: 0.576925950512005\"\n",
      "[1] \"Partial r² (adjusted): 0.0581324081273446\"\n"
     ]
    }
   ],
   "source": [
    "r1 = summary(base_model_ls_only)$adj.r.squared\n",
    "r2 = summary(network_model_ls)$adj.r.squared\n",
    "print(paste(\"Before:\", r1))\n",
    "print(paste(\"After:\", r2))\n",
    "print(paste(\"Partial r² (adjusted):\", (r2 - r1) / (1 - r1)))"
   ]
  },
  {
   "cell_type": "code",
   "execution_count": null,
   "metadata": {},
   "outputs": [],
   "source": []
  }
 ],
 "metadata": {
  "kernelspec": {
   "display_name": "R",
   "language": "R",
   "name": "ir"
  },
  "language_info": {
   "codemirror_mode": "r",
   "file_extension": ".r",
   "mimetype": "text/x-r-source",
   "name": "R",
   "pygments_lexer": "r",
   "version": "3.6.2"
  },
  "toc": {
   "base_numbering": 1,
   "nav_menu": {},
   "number_sections": true,
   "sideBar": true,
   "skip_h1_title": true,
   "title_cell": "Table of Contents",
   "title_sidebar": "Contents",
   "toc_cell": true,
   "toc_position": {},
   "toc_section_display": true,
   "toc_window_display": true
  }
 },
 "nbformat": 4,
 "nbformat_minor": 2
}

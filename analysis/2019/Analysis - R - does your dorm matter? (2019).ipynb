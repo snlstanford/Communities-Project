{
 "cells": [
  {
   "cell_type": "markdown",
   "metadata": {},
   "source": [
    "# Does dorm matter for well-being?\n",
    "\n",
    "A: Probably not.\n",
    "\n",
    "We fit a range of models to predict student's t2 (fall) well-being (measured in week 4 of the semester). Overall, their reported life satisfaction at t1 (measured in week 0, before the semester began) explained most of the variance in t2 life satisfaction (approx 55%), with trace amounts of additional variance explainable by additional variables (approx 3% more). The few variables that remained significant contributors to the model, above and beyond t1 life satisfaction, were: stress at t1, loneliness at t1, number of network nominations (in and out) at t2, and average family income of the person's network nominations. All were in the intuitive directions but very small in size.\n",
    "\n",
    "Mixed-effects models showed that *none* of the residual variance in life satisfaction could be attributed to membership in particular dorms."
   ]
  },
  {
   "cell_type": "markdown",
   "metadata": {
    "toc": true
   },
   "source": [
    "<h1>Table of Contents<span class=\"tocSkip\"></span></h1>\n",
    "<div class=\"toc\"><ul class=\"toc-item\"><li><span><a href=\"#Libraries\" data-toc-modified-id=\"Libraries-1\"><span class=\"toc-item-num\">1&nbsp;&nbsp;</span>Libraries</a></span></li><li><span><a href=\"#Impute-the-(few)-missing-values-with-mice-package\" data-toc-modified-id=\"Impute-the-(few)-missing-values-with-mice-package-2\"><span class=\"toc-item-num\">2&nbsp;&nbsp;</span>Impute the (few) missing values with <code>mice</code> package</a></span></li><li><span><a href=\"#Model\" data-toc-modified-id=\"Model-3\"><span class=\"toc-item-num\">3&nbsp;&nbsp;</span>Model</a></span><ul class=\"toc-item\"><li><span><a href=\"#Base-models---predict-well-being-at-t1-from-well-being-at-t1\" data-toc-modified-id=\"Base-models---predict-well-being-at-t1-from-well-being-at-t1-3.1\"><span class=\"toc-item-num\">3.1&nbsp;&nbsp;</span>Base models - predict well-being at t1 from well-being at t1</a></span><ul class=\"toc-item\"><li><span><a href=\"#Life-satisfaction\" data-toc-modified-id=\"Life-satisfaction-3.1.1\"><span class=\"toc-item-num\">3.1.1&nbsp;&nbsp;</span>Life satisfaction</a></span></li><li><span><a href=\"#Loneliness\" data-toc-modified-id=\"Loneliness-3.1.2\"><span class=\"toc-item-num\">3.1.2&nbsp;&nbsp;</span>Loneliness</a></span></li><li><span><a href=\"#Stress\" data-toc-modified-id=\"Stress-3.1.3\"><span class=\"toc-item-num\">3.1.3&nbsp;&nbsp;</span>Stress</a></span></li></ul></li><li><span><a href=\"#Fixed-effects-models:-predict-WB-at-t2-from-WB-and-other-personal-factors-at-t1\" data-toc-modified-id=\"Fixed-effects-models:-predict-WB-at-t2-from-WB-and-other-personal-factors-at-t1-3.2\"><span class=\"toc-item-num\">3.2&nbsp;&nbsp;</span>Fixed-effects models: predict WB at t2 from WB and other personal factors at t1</a></span><ul class=\"toc-item\"><li><span><a href=\"#From-here-on,-we'll-just-look-at-life-satisfaction\" data-toc-modified-id=\"From-here-on,-we'll-just-look-at-life-satisfaction-3.2.1\"><span class=\"toc-item-num\">3.2.1&nbsp;&nbsp;</span>From here on, we'll just look at life satisfaction</a></span></li></ul></li><li><span><a href=\"#Covariates-seem-to-matter-very-little---lets-reduce-our-fixed-effects-model-to-only-wellbeing-and-in/out-degree-measures\" data-toc-modified-id=\"Covariates-seem-to-matter-very-little---lets-reduce-our-fixed-effects-model-to-only-wellbeing-and-in/out-degree-measures-3.3\"><span class=\"toc-item-num\">3.3&nbsp;&nbsp;</span>Covariates seem to matter very little - lets reduce our fixed effects model to only wellbeing and in/out degree measures</a></span></li><li><span><a href=\"#Examine-residuals-by-dorm.-If-there-is-a-sigificant-dorm-wide-effect,-we-should-see-some-clear-boxes-that-are-above-and-below-zero.-(Spoiler-alert:-we-don't)\" data-toc-modified-id=\"Examine-residuals-by-dorm.-If-there-is-a-sigificant-dorm-wide-effect,-we-should-see-some-clear-boxes-that-are-above-and-below-zero.-(Spoiler-alert:-we-don't)-3.4\"><span class=\"toc-item-num\">3.4&nbsp;&nbsp;</span>Examine residuals by dorm. If there is a sigificant dorm-wide effect, we should see some clear boxes that are above and below zero. (Spoiler alert: we don't)</a></span></li></ul></li><li><span><a href=\"#Add-random-effect-for-dorm,-see-if-significant-variance-is-attributable-to-dorm-membership\" data-toc-modified-id=\"Add-random-effect-for-dorm,-see-if-significant-variance-is-attributable-to-dorm-membership-4\"><span class=\"toc-item-num\">4&nbsp;&nbsp;</span>Add random effect for dorm, see if significant variance is attributable to dorm membership</a></span><ul class=\"toc-item\"><li><span><a href=\"#Try-again,-with-some-dorm-level-covariates\" data-toc-modified-id=\"Try-again,-with-some-dorm-level-covariates-4.1\"><span class=\"toc-item-num\">4.1&nbsp;&nbsp;</span>Try again, with some dorm-level covariates</a></span></li></ul></li><li><span><a href=\"#Add-fixed-effects-for-network-(traits-of-people-connected-to-the-individual-via-nominations)\" data-toc-modified-id=\"Add-fixed-effects-for-network-(traits-of-people-connected-to-the-individual-via-nominations)-5\"><span class=\"toc-item-num\">5&nbsp;&nbsp;</span>Add fixed effects for network (traits of people connected to the individual via nominations)</a></span></li></ul></div>"
   ]
  },
  {
   "cell_type": "markdown",
   "metadata": {},
   "source": [
    "## Libraries"
   ]
  },
  {
   "cell_type": "code",
   "execution_count": 1,
   "metadata": {},
   "outputs": [
    {
     "name": "stderr",
     "output_type": "stream",
     "text": [
      "Loading required package: carData\n",
      "\n",
      "── \u001b[1mAttaching packages\u001b[22m ─────────────────────────────────────── tidyverse 1.3.0 ──\n",
      "\n",
      "\u001b[32m✔\u001b[39m \u001b[34mggplot2\u001b[39m 3.2.1     \u001b[32m✔\u001b[39m \u001b[34mpurrr  \u001b[39m 0.3.3\n",
      "\u001b[32m✔\u001b[39m \u001b[34mtibble \u001b[39m 2.1.3     \u001b[32m✔\u001b[39m \u001b[34mdplyr  \u001b[39m 0.8.3\n",
      "\u001b[32m✔\u001b[39m \u001b[34mtidyr  \u001b[39m 1.0.0     \u001b[32m✔\u001b[39m \u001b[34mstringr\u001b[39m 1.4.0\n",
      "\u001b[32m✔\u001b[39m \u001b[34mreadr  \u001b[39m 1.3.1     \u001b[32m✔\u001b[39m \u001b[34mforcats\u001b[39m 0.4.0\n",
      "\n",
      "── \u001b[1mConflicts\u001b[22m ────────────────────────────────────────── tidyverse_conflicts() ──\n",
      "\u001b[31m✖\u001b[39m \u001b[34mdplyr\u001b[39m::\u001b[32mfilter()\u001b[39m masks \u001b[34mstats\u001b[39m::filter()\n",
      "\u001b[31m✖\u001b[39m \u001b[34mdplyr\u001b[39m::\u001b[32mlag()\u001b[39m    masks \u001b[34mstats\u001b[39m::lag()\n",
      "\u001b[31m✖\u001b[39m \u001b[34mdplyr\u001b[39m::\u001b[32mrecode()\u001b[39m masks \u001b[34mcar\u001b[39m::recode()\n",
      "\u001b[31m✖\u001b[39m \u001b[34mpurrr\u001b[39m::\u001b[32msome()\u001b[39m   masks \u001b[34mcar\u001b[39m::some()\n",
      "\n",
      "Loading required package: lattice\n",
      "\n",
      "Registered S3 methods overwritten by 'lme4':\n",
      "  method                          from\n",
      "  cooks.distance.influence.merMod car \n",
      "  influence.merMod                car \n",
      "  dfbeta.influence.merMod         car \n",
      "  dfbetas.influence.merMod        car \n",
      "\n",
      "\n",
      "Attaching package: ‘mice’\n",
      "\n",
      "\n",
      "The following object is masked from ‘package:tidyr’:\n",
      "\n",
      "    complete\n",
      "\n",
      "\n",
      "The following objects are masked from ‘package:base’:\n",
      "\n",
      "    cbind, rbind\n",
      "\n",
      "\n",
      "\n",
      "Attaching package: ‘nlme’\n",
      "\n",
      "\n",
      "The following object is masked from ‘package:dplyr’:\n",
      "\n",
      "    collapse\n",
      "\n",
      "\n",
      "Loading required package: Matrix\n",
      "\n",
      "\n",
      "Attaching package: ‘Matrix’\n",
      "\n",
      "\n",
      "The following objects are masked from ‘package:tidyr’:\n",
      "\n",
      "    expand, pack, unpack\n",
      "\n",
      "\n",
      "\n",
      "Attaching package: ‘lme4’\n",
      "\n",
      "\n",
      "The following object is masked from ‘package:nlme’:\n",
      "\n",
      "    lmList\n",
      "\n",
      "\n",
      "\n",
      "Attaching package: ‘lmerTest’\n",
      "\n",
      "\n",
      "The following object is masked from ‘package:lme4’:\n",
      "\n",
      "    lmer\n",
      "\n",
      "\n",
      "The following object is masked from ‘package:stats’:\n",
      "\n",
      "    step\n",
      "\n",
      "\n"
     ]
    }
   ],
   "source": [
    "library(car)\n",
    "library(tidyverse)\n",
    "library(mice)\n",
    "library(nlme)\n",
    "library(lme4)\n",
    "library(lmerTest)"
   ]
  },
  {
   "cell_type": "code",
   "execution_count": 2,
   "metadata": {},
   "outputs": [
    {
     "data": {
      "text/html": [
       "<ol class=list-inline>\n",
       "\t<li>560</li>\n",
       "\t<li>57</li>\n",
       "</ol>\n"
      ],
      "text/latex": [
       "\\begin{enumerate*}\n",
       "\\item 560\n",
       "\\item 57\n",
       "\\end{enumerate*}\n"
      ],
      "text/markdown": [
       "1. 560\n",
       "2. 57\n",
       "\n",
       "\n"
      ],
      "text/plain": [
       "[1] 560  57"
      ]
     },
     "metadata": {},
     "output_type": "display_data"
    },
    {
     "data": {
      "text/html": [
       "<table>\n",
       "<caption>A data.frame: 6 × 57</caption>\n",
       "<thead>\n",
       "\t<tr><th></th><th scope=col>PID</th><th scope=col>gender</th><th scope=col>race</th><th scope=col>dorm</th><th scope=col>life_satisfaction_t1</th><th scope=col>empathy</th><th scope=col>loneliness_t1</th><th scope=col>stress_t1</th><th scope=col>BFI_E</th><th scope=col>BFI_A</th><th scope=col>⋯</th><th scope=col>network_BFI_A</th><th scope=col>network_BFI_O</th><th scope=col>network_BFI_N</th><th scope=col>network_BFI_C</th><th scope=col>network_intl_student</th><th scope=col>network_family_income</th><th scope=col>network_life_satisfaction_t2</th><th scope=col>network_loneliness_t2</th><th scope=col>network_stress_t2</th><th scope=col>network_n_networkmates</th></tr>\n",
       "\t<tr><th></th><th scope=col>&lt;int&gt;</th><th scope=col>&lt;fct&gt;</th><th scope=col>&lt;fct&gt;</th><th scope=col>&lt;fct&gt;</th><th scope=col>&lt;dbl&gt;</th><th scope=col>&lt;dbl&gt;</th><th scope=col>&lt;dbl&gt;</th><th scope=col>&lt;dbl&gt;</th><th scope=col>&lt;dbl&gt;</th><th scope=col>&lt;dbl&gt;</th><th scope=col>⋯</th><th scope=col>&lt;dbl&gt;</th><th scope=col>&lt;dbl&gt;</th><th scope=col>&lt;dbl&gt;</th><th scope=col>&lt;dbl&gt;</th><th scope=col>&lt;dbl&gt;</th><th scope=col>&lt;dbl&gt;</th><th scope=col>&lt;dbl&gt;</th><th scope=col>&lt;dbl&gt;</th><th scope=col>&lt;dbl&gt;</th><th scope=col>&lt;dbl&gt;</th></tr>\n",
       "</thead>\n",
       "<tbody>\n",
       "\t<tr><th scope=row>1</th><td>1001</td><td>male  </td><td>south_asian   </td><td>Rinconada</td><td>4.833333</td><td>6.375</td><td>1.333333</td><td>2.5</td><td>6.5</td><td>6.0</td><td>⋯</td><td>4.750000</td><td>5.75</td><td>4.500000</td><td>5.000000</td><td>0.0000000</td><td>175000.00</td><td>5.750000</td><td>2.333333</td><td>1.75</td><td> 2</td></tr>\n",
       "\t<tr><th scope=row>2</th><td>1047</td><td>female</td><td>other_or_mixed</td><td>Twain    </td><td>5.333333</td><td>6.500</td><td>2.000000</td><td>2.5</td><td>5.5</td><td>6.5</td><td>⋯</td><td>5.416667</td><td>5.50</td><td>2.833333</td><td>5.166667</td><td>0.1666667</td><td> 91666.67</td><td>4.833333</td><td>1.444444</td><td>2.25</td><td> 6</td></tr>\n",
       "\t<tr><th scope=row>3</th><td>1078</td><td>female</td><td>east_asian    </td><td>Loro     </td><td>5.500000</td><td>6.250</td><td>1.333333</td><td>2.0</td><td>4.5</td><td>6.5</td><td>⋯</td><td>5.500000</td><td>3.50</td><td>1.500000</td><td>4.000000</td><td>0.0000000</td><td> 90000.00</td><td>4.666667</td><td>1.000000</td><td>1.50</td><td> 1</td></tr>\n",
       "\t<tr><th scope=row>4</th><td>1097</td><td>male  </td><td>east_asian    </td><td>Otero    </td><td>6.000000</td><td>5.000</td><td>2.000000</td><td>2.0</td><td>3.0</td><td>4.0</td><td>⋯</td><td>5.400000</td><td>5.10</td><td>3.100000</td><td>5.700000</td><td>0.0000000</td><td>130000.00</td><td>4.866667</td><td>2.133333</td><td>2.20</td><td> 5</td></tr>\n",
       "\t<tr><th scope=row>5</th><td>1105</td><td>female</td><td>white         </td><td>Larkin   </td><td>6.666667</td><td>5.750</td><td>2.000000</td><td>2.0</td><td>4.5</td><td>5.0</td><td>⋯</td><td>4.350000</td><td>5.65</td><td>3.750000</td><td>5.550000</td><td>0.2000000</td><td>161000.00</td><td>5.133333</td><td>1.966667</td><td>2.20</td><td>10</td></tr>\n",
       "\t<tr><th scope=row>6</th><td>1110</td><td>female</td><td>white         </td><td>Larkin   </td><td>5.166667</td><td>6.750</td><td>2.000000</td><td>2.0</td><td>6.5</td><td>5.0</td><td>⋯</td><td>5.250000</td><td>5.00</td><td>2.625000</td><td>5.750000</td><td>0.0000000</td><td>152500.00</td><td>5.750000</td><td>1.666667</td><td>2.00</td><td> 4</td></tr>\n",
       "</tbody>\n",
       "</table>\n"
      ],
      "text/latex": [
       "A data.frame: 6 × 57\n",
       "\\begin{tabular}{r|lllllllllllllllllllll}\n",
       "  & PID & gender & race & dorm & life\\_satisfaction\\_t1 & empathy & loneliness\\_t1 & stress\\_t1 & BFI\\_E & BFI\\_A & ⋯ & network\\_BFI\\_A & network\\_BFI\\_O & network\\_BFI\\_N & network\\_BFI\\_C & network\\_intl\\_student & network\\_family\\_income & network\\_life\\_satisfaction\\_t2 & network\\_loneliness\\_t2 & network\\_stress\\_t2 & network\\_n\\_networkmates\\\\\n",
       "  & <int> & <fct> & <fct> & <fct> & <dbl> & <dbl> & <dbl> & <dbl> & <dbl> & <dbl> & ⋯ & <dbl> & <dbl> & <dbl> & <dbl> & <dbl> & <dbl> & <dbl> & <dbl> & <dbl> & <dbl>\\\\\n",
       "\\hline\n",
       "\t1 & 1001 & male   & south\\_asian    & Rinconada & 4.833333 & 6.375 & 1.333333 & 2.5 & 6.5 & 6.0 & ⋯ & 4.750000 & 5.75 & 4.500000 & 5.000000 & 0.0000000 & 175000.00 & 5.750000 & 2.333333 & 1.75 &  2\\\\\n",
       "\t2 & 1047 & female & other\\_or\\_mixed & Twain     & 5.333333 & 6.500 & 2.000000 & 2.5 & 5.5 & 6.5 & ⋯ & 5.416667 & 5.50 & 2.833333 & 5.166667 & 0.1666667 &  91666.67 & 4.833333 & 1.444444 & 2.25 &  6\\\\\n",
       "\t3 & 1078 & female & east\\_asian     & Loro      & 5.500000 & 6.250 & 1.333333 & 2.0 & 4.5 & 6.5 & ⋯ & 5.500000 & 3.50 & 1.500000 & 4.000000 & 0.0000000 &  90000.00 & 4.666667 & 1.000000 & 1.50 &  1\\\\\n",
       "\t4 & 1097 & male   & east\\_asian     & Otero     & 6.000000 & 5.000 & 2.000000 & 2.0 & 3.0 & 4.0 & ⋯ & 5.400000 & 5.10 & 3.100000 & 5.700000 & 0.0000000 & 130000.00 & 4.866667 & 2.133333 & 2.20 &  5\\\\\n",
       "\t5 & 1105 & female & white          & Larkin    & 6.666667 & 5.750 & 2.000000 & 2.0 & 4.5 & 5.0 & ⋯ & 4.350000 & 5.65 & 3.750000 & 5.550000 & 0.2000000 & 161000.00 & 5.133333 & 1.966667 & 2.20 & 10\\\\\n",
       "\t6 & 1110 & female & white          & Larkin    & 5.166667 & 6.750 & 2.000000 & 2.0 & 6.5 & 5.0 & ⋯ & 5.250000 & 5.00 & 2.625000 & 5.750000 & 0.0000000 & 152500.00 & 5.750000 & 1.666667 & 2.00 &  4\\\\\n",
       "\\end{tabular}\n"
      ],
      "text/markdown": [
       "\n",
       "A data.frame: 6 × 57\n",
       "\n",
       "| <!--/--> | PID &lt;int&gt; | gender &lt;fct&gt; | race &lt;fct&gt; | dorm &lt;fct&gt; | life_satisfaction_t1 &lt;dbl&gt; | empathy &lt;dbl&gt; | loneliness_t1 &lt;dbl&gt; | stress_t1 &lt;dbl&gt; | BFI_E &lt;dbl&gt; | BFI_A &lt;dbl&gt; | ⋯ ⋯ | network_BFI_A &lt;dbl&gt; | network_BFI_O &lt;dbl&gt; | network_BFI_N &lt;dbl&gt; | network_BFI_C &lt;dbl&gt; | network_intl_student &lt;dbl&gt; | network_family_income &lt;dbl&gt; | network_life_satisfaction_t2 &lt;dbl&gt; | network_loneliness_t2 &lt;dbl&gt; | network_stress_t2 &lt;dbl&gt; | network_n_networkmates &lt;dbl&gt; |\n",
       "|---|---|---|---|---|---|---|---|---|---|---|---|---|---|---|---|---|---|---|---|---|---|\n",
       "| 1 | 1001 | male   | south_asian    | Rinconada | 4.833333 | 6.375 | 1.333333 | 2.5 | 6.5 | 6.0 | ⋯ | 4.750000 | 5.75 | 4.500000 | 5.000000 | 0.0000000 | 175000.00 | 5.750000 | 2.333333 | 1.75 |  2 |\n",
       "| 2 | 1047 | female | other_or_mixed | Twain     | 5.333333 | 6.500 | 2.000000 | 2.5 | 5.5 | 6.5 | ⋯ | 5.416667 | 5.50 | 2.833333 | 5.166667 | 0.1666667 |  91666.67 | 4.833333 | 1.444444 | 2.25 |  6 |\n",
       "| 3 | 1078 | female | east_asian     | Loro      | 5.500000 | 6.250 | 1.333333 | 2.0 | 4.5 | 6.5 | ⋯ | 5.500000 | 3.50 | 1.500000 | 4.000000 | 0.0000000 |  90000.00 | 4.666667 | 1.000000 | 1.50 |  1 |\n",
       "| 4 | 1097 | male   | east_asian     | Otero     | 6.000000 | 5.000 | 2.000000 | 2.0 | 3.0 | 4.0 | ⋯ | 5.400000 | 5.10 | 3.100000 | 5.700000 | 0.0000000 | 130000.00 | 4.866667 | 2.133333 | 2.20 |  5 |\n",
       "| 5 | 1105 | female | white          | Larkin    | 6.666667 | 5.750 | 2.000000 | 2.0 | 4.5 | 5.0 | ⋯ | 4.350000 | 5.65 | 3.750000 | 5.550000 | 0.2000000 | 161000.00 | 5.133333 | 1.966667 | 2.20 | 10 |\n",
       "| 6 | 1110 | female | white          | Larkin    | 5.166667 | 6.750 | 2.000000 | 2.0 | 6.5 | 5.0 | ⋯ | 5.250000 | 5.00 | 2.625000 | 5.750000 | 0.0000000 | 152500.00 | 5.750000 | 1.666667 | 2.00 |  4 |\n",
       "\n"
      ],
      "text/plain": [
       "  PID  gender race           dorm      life_satisfaction_t1 empathy\n",
       "1 1001 male   south_asian    Rinconada 4.833333             6.375  \n",
       "2 1047 female other_or_mixed Twain     5.333333             6.500  \n",
       "3 1078 female east_asian     Loro      5.500000             6.250  \n",
       "4 1097 male   east_asian     Otero     6.000000             5.000  \n",
       "5 1105 female white          Larkin    6.666667             5.750  \n",
       "6 1110 female white          Larkin    5.166667             6.750  \n",
       "  loneliness_t1 stress_t1 BFI_E BFI_A ⋯ network_BFI_A network_BFI_O\n",
       "1 1.333333      2.5       6.5   6.0   ⋯ 4.750000      5.75         \n",
       "2 2.000000      2.5       5.5   6.5   ⋯ 5.416667      5.50         \n",
       "3 1.333333      2.0       4.5   6.5   ⋯ 5.500000      3.50         \n",
       "4 2.000000      2.0       3.0   4.0   ⋯ 5.400000      5.10         \n",
       "5 2.000000      2.0       4.5   5.0   ⋯ 4.350000      5.65         \n",
       "6 2.000000      2.0       6.5   5.0   ⋯ 5.250000      5.00         \n",
       "  network_BFI_N network_BFI_C network_intl_student network_family_income\n",
       "1 4.500000      5.000000      0.0000000            175000.00            \n",
       "2 2.833333      5.166667      0.1666667             91666.67            \n",
       "3 1.500000      4.000000      0.0000000             90000.00            \n",
       "4 3.100000      5.700000      0.0000000            130000.00            \n",
       "5 3.750000      5.550000      0.2000000            161000.00            \n",
       "6 2.625000      5.750000      0.0000000            152500.00            \n",
       "  network_life_satisfaction_t2 network_loneliness_t2 network_stress_t2\n",
       "1 5.750000                     2.333333              1.75             \n",
       "2 4.833333                     1.444444              2.25             \n",
       "3 4.666667                     1.000000              1.50             \n",
       "4 4.866667                     2.133333              2.20             \n",
       "5 5.133333                     1.966667              2.20             \n",
       "6 5.750000                     1.666667              2.00             \n",
       "  network_n_networkmates\n",
       "1  2                    \n",
       "2  6                    \n",
       "3  1                    \n",
       "4  5                    \n",
       "5 10                    \n",
       "6  4                    "
      ]
     },
     "metadata": {},
     "output_type": "display_data"
    }
   ],
   "source": [
    "df = read.csv('../data/2019–2020/postprocessed/df_full_train.csv', na.strings=c(\"\",\" \"))\n",
    "dim(df)\n",
    "head(df)"
   ]
  },
  {
   "cell_type": "code",
   "execution_count": 3,
   "metadata": {},
   "outputs": [
    {
     "name": "stdout",
     "output_type": "stream",
     "text": [
      "'data.frame':\t560 obs. of  57 variables:\n",
      " $ PID                         : int  1001 1047 1078 1097 1105 1110 1128 1132 1134 1162 ...\n",
      " $ gender                      : Factor w/ 3 levels \"female\",\"male\",..: 2 1 1 2 1 1 1 1 2 1 ...\n",
      " $ race                        : Factor w/ 6 levels \"black\",\"east_asian\",..: 5 4 2 2 6 6 6 NA 3 2 ...\n",
      " $ dorm                        : Factor w/ 21 levels \"Alondra\",\"Arroyo\",..: 16 19 11 15 10 10 7 15 2 3 ...\n",
      " $ life_satisfaction_t1        : num  4.83 5.33 5.5 6 6.67 ...\n",
      " $ empathy                     : num  6.38 6.5 6.25 5 5.75 ...\n",
      " $ loneliness_t1               : num  1.33 2 1.33 2 2 ...\n",
      " $ stress_t1                   : num  2.5 2.5 2 2 2 2 1.5 2 1.5 1 ...\n",
      " $ BFI_E                       : num  6.5 5.5 4.5 3 4.5 6.5 5 7 5.5 3.5 ...\n",
      " $ BFI_A                       : num  6 6.5 6.5 4 5 5 5 5 5 6.5 ...\n",
      " $ BFI_O                       : num  6.5 6.5 6.5 4.5 4.5 4.5 5.5 5.5 6 7 ...\n",
      " $ BFI_N                       : num  3.5 3 1.5 1.5 2 2 2 2.5 1.5 3 ...\n",
      " $ BFI_C                       : num  5.5 7 6.5 5.5 5 6 6 7 6.5 5 ...\n",
      " $ intl_student                : num  0 0 0 0 0 0 0 0 0 0 ...\n",
      " $ family_income               : num  70000 220000 130000 90000 170000 110000 90000 110000 90000 220000 ...\n",
      " $ life_satisfaction_t2        : num  6.17 5.17 5.5 5.83 6.67 ...\n",
      " $ loneliness_t2               : num  2 2 2.33 2 2 ...\n",
      " $ stress_t2                   : num  1.5 3 3 2.5 2 2 1.5 2 2 2.5 ...\n",
      " $ parent_education_highest    : Factor w/ 6 levels \"0_less_than_hs\",..: 5 5 6 6 4 5 6 4 4 6 ...\n",
      " $ edges_in                    : int  3 6 1 6 6 4 5 4 6 9 ...\n",
      " $ edges_out                   : int  10 9 7 4 26 9 14 9 11 8 ...\n",
      " $ edges_reciprocal            : int  1 3 0 4 3 4 5 3 4 5 ...\n",
      " $ edges_unique                : int  12 12 8 6 29 9 14 10 13 12 ...\n",
      " $ dorm_life_satisfaction_t1   : num  5.03 5.33 4 5.44 5.1 ...\n",
      " $ dorm_empathy                : num  5.5 5.72 5.59 5.7 5.82 ...\n",
      " $ dorm_loneliness_t1          : num  1.84 1.68 1.86 1.78 1.8 ...\n",
      " $ dorm_stress_t1              : num  2 1.99 2.25 1.92 2.07 ...\n",
      " $ dorm_BFI_E                  : num  4.53 4.04 3.88 4.44 4.66 ...\n",
      " $ dorm_BFI_A                  : num  4.98 5.2 4.62 4.9 4.94 ...\n",
      " $ dorm_BFI_O                  : num  5.38 5.42 5.38 5.26 5.41 ...\n",
      " $ dorm_BFI_N                  : num  3.33 2.91 3.54 2.92 3.27 ...\n",
      " $ dorm_BFI_C                  : num  5.67 5.55 5 5.71 5.69 ...\n",
      " $ dorm_intl_student           : num  0.1724 0.1316 0.0833 0.0278 0.1509 ...\n",
      " $ dorm_family_income          : num  116207 143514 129091 141429 138235 ...\n",
      " $ dorm_life_satisfaction_t2   : num  4.93 5.24 4.43 5.27 4.91 ...\n",
      " $ dorm_loneliness_t2          : num  2.03 1.73 2 1.86 1.82 ...\n",
      " $ dorm_stress_t2              : num  1.95 2 1.96 1.92 2.19 ...\n",
      " $ dorm_edges_in               : num  5.21 4.39 2.33 4.78 5.76 ...\n",
      " $ dorm_edges_out              : num  10.93 8.16 6.83 10 8.96 ...\n",
      " $ dorm_edges_reciprocal       : num  3.38 2.47 1.5 2.72 3.3 ...\n",
      " $ dorm_edges_unique           : num  12.76 10.08 7.67 12.06 11.43 ...\n",
      " $ dorm_n_dormmates            : num  29 38 12 36 54 54 41 36 29 38 ...\n",
      " $ network_life_satisfaction_t1: num  4.92 5.06 4.67 5.4 5.48 ...\n",
      " $ network_empathy             : num  5.94 6.35 5.25 5.95 5.8 ...\n",
      " $ network_loneliness_t1       : num  2.17 1.44 1 1.73 1.6 ...\n",
      " $ network_stress_t1           : num  2.5 2 1.5 2.4 2.25 ...\n",
      " $ network_BFI_E               : num  6.75 5.25 2.5 4.4 5.25 ...\n",
      " $ network_BFI_A               : num  4.75 5.42 5.5 5.4 4.35 ...\n",
      " $ network_BFI_O               : num  5.75 5.5 3.5 5.1 5.65 ...\n",
      " $ network_BFI_N               : num  4.5 2.83 1.5 3.1 3.75 ...\n",
      " $ network_BFI_C               : num  5 5.17 4 5.7 5.55 ...\n",
      " $ network_intl_student        : num  0 0.167 0 0 0.2 ...\n",
      " $ network_family_income       : num  175000 91667 90000 130000 161000 ...\n",
      " $ network_life_satisfaction_t2: num  5.75 4.83 4.67 4.87 5.13 ...\n",
      " $ network_loneliness_t2       : num  2.33 1.44 1 2.13 1.97 ...\n",
      " $ network_stress_t2           : num  1.75 2.25 1.5 2.2 2.2 ...\n",
      " $ network_n_networkmates      : num  2 6 1 5 10 4 3 4 5 9 ...\n"
     ]
    }
   ],
   "source": [
    "str(df)"
   ]
  },
  {
   "cell_type": "markdown",
   "metadata": {},
   "source": [
    "## Impute the (few) missing values with `mice` package"
   ]
  },
  {
   "cell_type": "code",
   "execution_count": 4,
   "metadata": {},
   "outputs": [
    {
     "data": {
      "text/html": [
       "<table>\n",
       "<caption>A matrix: 20 × 58 of type dbl</caption>\n",
       "<thead>\n",
       "\t<tr><th></th><th scope=col>PID</th><th scope=col>dorm</th><th scope=col>life_satisfaction_t1</th><th scope=col>empathy</th><th scope=col>loneliness_t1</th><th scope=col>stress_t1</th><th scope=col>BFI_E</th><th scope=col>BFI_A</th><th scope=col>BFI_O</th><th scope=col>BFI_N</th><th scope=col>⋯</th><th scope=col>network_BFI_O</th><th scope=col>network_BFI_N</th><th scope=col>network_BFI_C</th><th scope=col>network_intl_student</th><th scope=col>network_family_income</th><th scope=col>network_life_satisfaction_t2</th><th scope=col>network_loneliness_t2</th><th scope=col>network_stress_t2</th><th scope=col>race</th><th scope=col></th></tr>\n",
       "</thead>\n",
       "<tbody>\n",
       "\t<tr><th scope=row>446</th><td>1</td><td>1</td><td>1</td><td>1</td><td>1</td><td>1</td><td>1</td><td>1</td><td>1</td><td>1</td><td>⋯</td><td> 1</td><td> 1</td><td> 1</td><td> 1</td><td> 1</td><td> 1</td><td> 1</td><td> 1</td><td> 1</td><td>  0</td></tr>\n",
       "\t<tr><th scope=row>49</th><td>1</td><td>1</td><td>1</td><td>1</td><td>1</td><td>1</td><td>1</td><td>1</td><td>1</td><td>1</td><td>⋯</td><td> 1</td><td> 1</td><td> 1</td><td> 1</td><td> 1</td><td> 1</td><td> 1</td><td> 1</td><td> 0</td><td>  1</td></tr>\n",
       "\t<tr><th scope=row>10</th><td>1</td><td>1</td><td>1</td><td>1</td><td>1</td><td>1</td><td>1</td><td>1</td><td>1</td><td>1</td><td>⋯</td><td> 0</td><td> 0</td><td> 0</td><td> 0</td><td> 0</td><td> 0</td><td> 0</td><td> 0</td><td> 1</td><td> 14</td></tr>\n",
       "\t<tr><th scope=row>1</th><td>1</td><td>1</td><td>1</td><td>1</td><td>1</td><td>1</td><td>1</td><td>1</td><td>1</td><td>1</td><td>⋯</td><td> 0</td><td> 0</td><td> 0</td><td> 0</td><td> 0</td><td> 0</td><td> 0</td><td> 0</td><td> 0</td><td> 15</td></tr>\n",
       "\t<tr><th scope=row>12</th><td>1</td><td>1</td><td>1</td><td>1</td><td>1</td><td>1</td><td>1</td><td>1</td><td>1</td><td>1</td><td>⋯</td><td> 1</td><td> 1</td><td> 1</td><td> 1</td><td> 1</td><td> 1</td><td> 1</td><td> 1</td><td> 1</td><td>  1</td></tr>\n",
       "\t<tr><th scope=row>3</th><td>1</td><td>1</td><td>1</td><td>1</td><td>1</td><td>1</td><td>1</td><td>1</td><td>1</td><td>1</td><td>⋯</td><td> 1</td><td> 1</td><td> 1</td><td> 1</td><td> 1</td><td> 1</td><td> 1</td><td> 1</td><td> 0</td><td>  2</td></tr>\n",
       "\t<tr><th scope=row>1</th><td>1</td><td>1</td><td>1</td><td>1</td><td>1</td><td>1</td><td>1</td><td>1</td><td>1</td><td>1</td><td>⋯</td><td> 0</td><td> 0</td><td> 0</td><td> 0</td><td> 0</td><td> 0</td><td> 0</td><td> 0</td><td> 0</td><td> 16</td></tr>\n",
       "\t<tr><th scope=row>13</th><td>1</td><td>1</td><td>1</td><td>1</td><td>1</td><td>1</td><td>1</td><td>1</td><td>1</td><td>1</td><td>⋯</td><td> 0</td><td> 0</td><td> 0</td><td> 0</td><td> 0</td><td> 0</td><td> 0</td><td> 0</td><td> 1</td><td> 15</td></tr>\n",
       "\t<tr><th scope=row>3</th><td>1</td><td>1</td><td>1</td><td>1</td><td>1</td><td>1</td><td>1</td><td>1</td><td>1</td><td>1</td><td>⋯</td><td> 0</td><td> 0</td><td> 0</td><td> 0</td><td> 0</td><td> 0</td><td> 0</td><td> 0</td><td> 0</td><td> 16</td></tr>\n",
       "\t<tr><th scope=row>11</th><td>1</td><td>1</td><td>1</td><td>1</td><td>1</td><td>1</td><td>1</td><td>1</td><td>1</td><td>1</td><td>⋯</td><td> 1</td><td> 1</td><td> 1</td><td> 1</td><td> 1</td><td> 1</td><td> 1</td><td> 1</td><td> 1</td><td>  1</td></tr>\n",
       "\t<tr><th scope=row>1</th><td>1</td><td>1</td><td>1</td><td>1</td><td>1</td><td>1</td><td>1</td><td>1</td><td>1</td><td>1</td><td>⋯</td><td> 1</td><td> 1</td><td> 1</td><td> 1</td><td> 1</td><td> 1</td><td> 1</td><td> 1</td><td> 0</td><td>  2</td></tr>\n",
       "\t<tr><th scope=row>1</th><td>1</td><td>1</td><td>1</td><td>1</td><td>1</td><td>1</td><td>1</td><td>1</td><td>1</td><td>1</td><td>⋯</td><td> 0</td><td> 0</td><td> 0</td><td> 0</td><td> 0</td><td> 0</td><td> 0</td><td> 0</td><td> 1</td><td> 15</td></tr>\n",
       "\t<tr><th scope=row>3</th><td>1</td><td>1</td><td>1</td><td>1</td><td>1</td><td>1</td><td>1</td><td>1</td><td>1</td><td>1</td><td>⋯</td><td> 1</td><td> 1</td><td> 1</td><td> 1</td><td> 1</td><td> 1</td><td> 1</td><td> 1</td><td> 1</td><td>  1</td></tr>\n",
       "\t<tr><th scope=row>1</th><td>1</td><td>1</td><td>1</td><td>1</td><td>1</td><td>1</td><td>1</td><td>1</td><td>1</td><td>1</td><td>⋯</td><td> 1</td><td> 1</td><td> 1</td><td> 1</td><td> 1</td><td> 1</td><td> 1</td><td> 1</td><td> 0</td><td>  2</td></tr>\n",
       "\t<tr><th scope=row>1</th><td>1</td><td>1</td><td>1</td><td>1</td><td>1</td><td>1</td><td>1</td><td>1</td><td>1</td><td>1</td><td>⋯</td><td> 0</td><td> 0</td><td> 0</td><td> 0</td><td> 0</td><td> 0</td><td> 0</td><td> 0</td><td> 1</td><td> 15</td></tr>\n",
       "\t<tr><th scope=row>1</th><td>1</td><td>1</td><td>1</td><td>1</td><td>1</td><td>1</td><td>1</td><td>1</td><td>1</td><td>1</td><td>⋯</td><td> 1</td><td> 1</td><td> 1</td><td> 1</td><td> 1</td><td> 1</td><td> 1</td><td> 1</td><td> 1</td><td>  3</td></tr>\n",
       "\t<tr><th scope=row>1</th><td>1</td><td>1</td><td>1</td><td>1</td><td>1</td><td>1</td><td>1</td><td>1</td><td>1</td><td>1</td><td>⋯</td><td> 1</td><td> 1</td><td> 1</td><td> 1</td><td> 1</td><td> 1</td><td> 1</td><td> 1</td><td> 1</td><td>  3</td></tr>\n",
       "\t<tr><th scope=row>1</th><td>1</td><td>1</td><td>1</td><td>1</td><td>1</td><td>1</td><td>1</td><td>1</td><td>1</td><td>1</td><td>⋯</td><td> 1</td><td> 1</td><td> 1</td><td> 1</td><td> 1</td><td> 1</td><td> 1</td><td> 1</td><td> 1</td><td>  5</td></tr>\n",
       "\t<tr><th scope=row>1</th><td>1</td><td>1</td><td>1</td><td>1</td><td>1</td><td>1</td><td>1</td><td>1</td><td>1</td><td>1</td><td>⋯</td><td> 1</td><td> 1</td><td> 1</td><td> 1</td><td> 1</td><td> 1</td><td> 1</td><td> 1</td><td> 1</td><td>  4</td></tr>\n",
       "\t<tr><th scope=row></th><td>0</td><td>0</td><td>0</td><td>0</td><td>0</td><td>0</td><td>0</td><td>0</td><td>0</td><td>0</td><td>⋯</td><td>30</td><td>30</td><td>30</td><td>30</td><td>30</td><td>30</td><td>30</td><td>30</td><td>59</td><td>544</td></tr>\n",
       "</tbody>\n",
       "</table>\n"
      ],
      "text/latex": [
       "A matrix: 20 × 58 of type dbl\n",
       "\\begin{tabular}{r|lllllllllllllllllllll}\n",
       "  & PID & dorm & life\\_satisfaction\\_t1 & empathy & loneliness\\_t1 & stress\\_t1 & BFI\\_E & BFI\\_A & BFI\\_O & BFI\\_N & ⋯ & network\\_BFI\\_O & network\\_BFI\\_N & network\\_BFI\\_C & network\\_intl\\_student & network\\_family\\_income & network\\_life\\_satisfaction\\_t2 & network\\_loneliness\\_t2 & network\\_stress\\_t2 & race & \\\\\n",
       "\\hline\n",
       "\t446 & 1 & 1 & 1 & 1 & 1 & 1 & 1 & 1 & 1 & 1 & ⋯ &  1 &  1 &  1 &  1 &  1 &  1 &  1 &  1 &  1 &   0\\\\\n",
       "\t49 & 1 & 1 & 1 & 1 & 1 & 1 & 1 & 1 & 1 & 1 & ⋯ &  1 &  1 &  1 &  1 &  1 &  1 &  1 &  1 &  0 &   1\\\\\n",
       "\t10 & 1 & 1 & 1 & 1 & 1 & 1 & 1 & 1 & 1 & 1 & ⋯ &  0 &  0 &  0 &  0 &  0 &  0 &  0 &  0 &  1 &  14\\\\\n",
       "\t1 & 1 & 1 & 1 & 1 & 1 & 1 & 1 & 1 & 1 & 1 & ⋯ &  0 &  0 &  0 &  0 &  0 &  0 &  0 &  0 &  0 &  15\\\\\n",
       "\t12 & 1 & 1 & 1 & 1 & 1 & 1 & 1 & 1 & 1 & 1 & ⋯ &  1 &  1 &  1 &  1 &  1 &  1 &  1 &  1 &  1 &   1\\\\\n",
       "\t3 & 1 & 1 & 1 & 1 & 1 & 1 & 1 & 1 & 1 & 1 & ⋯ &  1 &  1 &  1 &  1 &  1 &  1 &  1 &  1 &  0 &   2\\\\\n",
       "\t1 & 1 & 1 & 1 & 1 & 1 & 1 & 1 & 1 & 1 & 1 & ⋯ &  0 &  0 &  0 &  0 &  0 &  0 &  0 &  0 &  0 &  16\\\\\n",
       "\t13 & 1 & 1 & 1 & 1 & 1 & 1 & 1 & 1 & 1 & 1 & ⋯ &  0 &  0 &  0 &  0 &  0 &  0 &  0 &  0 &  1 &  15\\\\\n",
       "\t3 & 1 & 1 & 1 & 1 & 1 & 1 & 1 & 1 & 1 & 1 & ⋯ &  0 &  0 &  0 &  0 &  0 &  0 &  0 &  0 &  0 &  16\\\\\n",
       "\t11 & 1 & 1 & 1 & 1 & 1 & 1 & 1 & 1 & 1 & 1 & ⋯ &  1 &  1 &  1 &  1 &  1 &  1 &  1 &  1 &  1 &   1\\\\\n",
       "\t1 & 1 & 1 & 1 & 1 & 1 & 1 & 1 & 1 & 1 & 1 & ⋯ &  1 &  1 &  1 &  1 &  1 &  1 &  1 &  1 &  0 &   2\\\\\n",
       "\t1 & 1 & 1 & 1 & 1 & 1 & 1 & 1 & 1 & 1 & 1 & ⋯ &  0 &  0 &  0 &  0 &  0 &  0 &  0 &  0 &  1 &  15\\\\\n",
       "\t3 & 1 & 1 & 1 & 1 & 1 & 1 & 1 & 1 & 1 & 1 & ⋯ &  1 &  1 &  1 &  1 &  1 &  1 &  1 &  1 &  1 &   1\\\\\n",
       "\t1 & 1 & 1 & 1 & 1 & 1 & 1 & 1 & 1 & 1 & 1 & ⋯ &  1 &  1 &  1 &  1 &  1 &  1 &  1 &  1 &  0 &   2\\\\\n",
       "\t1 & 1 & 1 & 1 & 1 & 1 & 1 & 1 & 1 & 1 & 1 & ⋯ &  0 &  0 &  0 &  0 &  0 &  0 &  0 &  0 &  1 &  15\\\\\n",
       "\t1 & 1 & 1 & 1 & 1 & 1 & 1 & 1 & 1 & 1 & 1 & ⋯ &  1 &  1 &  1 &  1 &  1 &  1 &  1 &  1 &  1 &   3\\\\\n",
       "\t1 & 1 & 1 & 1 & 1 & 1 & 1 & 1 & 1 & 1 & 1 & ⋯ &  1 &  1 &  1 &  1 &  1 &  1 &  1 &  1 &  1 &   3\\\\\n",
       "\t1 & 1 & 1 & 1 & 1 & 1 & 1 & 1 & 1 & 1 & 1 & ⋯ &  1 &  1 &  1 &  1 &  1 &  1 &  1 &  1 &  1 &   5\\\\\n",
       "\t1 & 1 & 1 & 1 & 1 & 1 & 1 & 1 & 1 & 1 & 1 & ⋯ &  1 &  1 &  1 &  1 &  1 &  1 &  1 &  1 &  1 &   4\\\\\n",
       "\t & 0 & 0 & 0 & 0 & 0 & 0 & 0 & 0 & 0 & 0 & ⋯ & 30 & 30 & 30 & 30 & 30 & 30 & 30 & 30 & 59 & 544\\\\\n",
       "\\end{tabular}\n"
      ],
      "text/markdown": [
       "\n",
       "A matrix: 20 × 58 of type dbl\n",
       "\n",
       "| <!--/--> | PID | dorm | life_satisfaction_t1 | empathy | loneliness_t1 | stress_t1 | BFI_E | BFI_A | BFI_O | BFI_N | ⋯ | network_BFI_O | network_BFI_N | network_BFI_C | network_intl_student | network_family_income | network_life_satisfaction_t2 | network_loneliness_t2 | network_stress_t2 | race | <!----> |\n",
       "|---|---|---|---|---|---|---|---|---|---|---|---|---|---|---|---|---|---|---|---|---|---|\n",
       "| 446 | 1 | 1 | 1 | 1 | 1 | 1 | 1 | 1 | 1 | 1 | ⋯ |  1 |  1 |  1 |  1 |  1 |  1 |  1 |  1 |  1 |   0 |\n",
       "| 49 | 1 | 1 | 1 | 1 | 1 | 1 | 1 | 1 | 1 | 1 | ⋯ |  1 |  1 |  1 |  1 |  1 |  1 |  1 |  1 |  0 |   1 |\n",
       "| 10 | 1 | 1 | 1 | 1 | 1 | 1 | 1 | 1 | 1 | 1 | ⋯ |  0 |  0 |  0 |  0 |  0 |  0 |  0 |  0 |  1 |  14 |\n",
       "| 1 | 1 | 1 | 1 | 1 | 1 | 1 | 1 | 1 | 1 | 1 | ⋯ |  0 |  0 |  0 |  0 |  0 |  0 |  0 |  0 |  0 |  15 |\n",
       "| 12 | 1 | 1 | 1 | 1 | 1 | 1 | 1 | 1 | 1 | 1 | ⋯ |  1 |  1 |  1 |  1 |  1 |  1 |  1 |  1 |  1 |   1 |\n",
       "| 3 | 1 | 1 | 1 | 1 | 1 | 1 | 1 | 1 | 1 | 1 | ⋯ |  1 |  1 |  1 |  1 |  1 |  1 |  1 |  1 |  0 |   2 |\n",
       "| 1 | 1 | 1 | 1 | 1 | 1 | 1 | 1 | 1 | 1 | 1 | ⋯ |  0 |  0 |  0 |  0 |  0 |  0 |  0 |  0 |  0 |  16 |\n",
       "| 13 | 1 | 1 | 1 | 1 | 1 | 1 | 1 | 1 | 1 | 1 | ⋯ |  0 |  0 |  0 |  0 |  0 |  0 |  0 |  0 |  1 |  15 |\n",
       "| 3 | 1 | 1 | 1 | 1 | 1 | 1 | 1 | 1 | 1 | 1 | ⋯ |  0 |  0 |  0 |  0 |  0 |  0 |  0 |  0 |  0 |  16 |\n",
       "| 11 | 1 | 1 | 1 | 1 | 1 | 1 | 1 | 1 | 1 | 1 | ⋯ |  1 |  1 |  1 |  1 |  1 |  1 |  1 |  1 |  1 |   1 |\n",
       "| 1 | 1 | 1 | 1 | 1 | 1 | 1 | 1 | 1 | 1 | 1 | ⋯ |  1 |  1 |  1 |  1 |  1 |  1 |  1 |  1 |  0 |   2 |\n",
       "| 1 | 1 | 1 | 1 | 1 | 1 | 1 | 1 | 1 | 1 | 1 | ⋯ |  0 |  0 |  0 |  0 |  0 |  0 |  0 |  0 |  1 |  15 |\n",
       "| 3 | 1 | 1 | 1 | 1 | 1 | 1 | 1 | 1 | 1 | 1 | ⋯ |  1 |  1 |  1 |  1 |  1 |  1 |  1 |  1 |  1 |   1 |\n",
       "| 1 | 1 | 1 | 1 | 1 | 1 | 1 | 1 | 1 | 1 | 1 | ⋯ |  1 |  1 |  1 |  1 |  1 |  1 |  1 |  1 |  0 |   2 |\n",
       "| 1 | 1 | 1 | 1 | 1 | 1 | 1 | 1 | 1 | 1 | 1 | ⋯ |  0 |  0 |  0 |  0 |  0 |  0 |  0 |  0 |  1 |  15 |\n",
       "| 1 | 1 | 1 | 1 | 1 | 1 | 1 | 1 | 1 | 1 | 1 | ⋯ |  1 |  1 |  1 |  1 |  1 |  1 |  1 |  1 |  1 |   3 |\n",
       "| 1 | 1 | 1 | 1 | 1 | 1 | 1 | 1 | 1 | 1 | 1 | ⋯ |  1 |  1 |  1 |  1 |  1 |  1 |  1 |  1 |  1 |   3 |\n",
       "| 1 | 1 | 1 | 1 | 1 | 1 | 1 | 1 | 1 | 1 | 1 | ⋯ |  1 |  1 |  1 |  1 |  1 |  1 |  1 |  1 |  1 |   5 |\n",
       "| 1 | 1 | 1 | 1 | 1 | 1 | 1 | 1 | 1 | 1 | 1 | ⋯ |  1 |  1 |  1 |  1 |  1 |  1 |  1 |  1 |  1 |   4 |\n",
       "| <!----> | 0 | 0 | 0 | 0 | 0 | 0 | 0 | 0 | 0 | 0 | ⋯ | 30 | 30 | 30 | 30 | 30 | 30 | 30 | 30 | 59 | 544 |\n",
       "\n"
      ],
      "text/plain": [
       "    PID dorm life_satisfaction_t1 empathy loneliness_t1 stress_t1 BFI_E BFI_A\n",
       "446 1   1    1                    1       1             1         1     1    \n",
       "49  1   1    1                    1       1             1         1     1    \n",
       "10  1   1    1                    1       1             1         1     1    \n",
       "1   1   1    1                    1       1             1         1     1    \n",
       "12  1   1    1                    1       1             1         1     1    \n",
       "3   1   1    1                    1       1             1         1     1    \n",
       "1   1   1    1                    1       1             1         1     1    \n",
       "13  1   1    1                    1       1             1         1     1    \n",
       "3   1   1    1                    1       1             1         1     1    \n",
       "11  1   1    1                    1       1             1         1     1    \n",
       "1   1   1    1                    1       1             1         1     1    \n",
       "1   1   1    1                    1       1             1         1     1    \n",
       "3   1   1    1                    1       1             1         1     1    \n",
       "1   1   1    1                    1       1             1         1     1    \n",
       "1   1   1    1                    1       1             1         1     1    \n",
       "1   1   1    1                    1       1             1         1     1    \n",
       "1   1   1    1                    1       1             1         1     1    \n",
       "1   1   1    1                    1       1             1         1     1    \n",
       "1   1   1    1                    1       1             1         1     1    \n",
       "    0   0    0                    0       0             0         0     0    \n",
       "    BFI_O BFI_N ⋯ network_BFI_O network_BFI_N network_BFI_C\n",
       "446 1     1     ⋯  1             1             1           \n",
       "49  1     1     ⋯  1             1             1           \n",
       "10  1     1     ⋯  0             0             0           \n",
       "1   1     1     ⋯  0             0             0           \n",
       "12  1     1     ⋯  1             1             1           \n",
       "3   1     1     ⋯  1             1             1           \n",
       "1   1     1     ⋯  0             0             0           \n",
       "13  1     1     ⋯  0             0             0           \n",
       "3   1     1     ⋯  0             0             0           \n",
       "11  1     1     ⋯  1             1             1           \n",
       "1   1     1     ⋯  1             1             1           \n",
       "1   1     1     ⋯  0             0             0           \n",
       "3   1     1     ⋯  1             1             1           \n",
       "1   1     1     ⋯  1             1             1           \n",
       "1   1     1     ⋯  0             0             0           \n",
       "1   1     1     ⋯  1             1             1           \n",
       "1   1     1     ⋯  1             1             1           \n",
       "1   1     1     ⋯  1             1             1           \n",
       "1   1     1     ⋯  1             1             1           \n",
       "    0     0     ⋯ 30            30            30           \n",
       "    network_intl_student network_family_income network_life_satisfaction_t2\n",
       "446  1                    1                     1                          \n",
       "49   1                    1                     1                          \n",
       "10   0                    0                     0                          \n",
       "1    0                    0                     0                          \n",
       "12   1                    1                     1                          \n",
       "3    1                    1                     1                          \n",
       "1    0                    0                     0                          \n",
       "13   0                    0                     0                          \n",
       "3    0                    0                     0                          \n",
       "11   1                    1                     1                          \n",
       "1    1                    1                     1                          \n",
       "1    0                    0                     0                          \n",
       "3    1                    1                     1                          \n",
       "1    1                    1                     1                          \n",
       "1    0                    0                     0                          \n",
       "1    1                    1                     1                          \n",
       "1    1                    1                     1                          \n",
       "1    1                    1                     1                          \n",
       "1    1                    1                     1                          \n",
       "    30                   30                    30                          \n",
       "    network_loneliness_t2 network_stress_t2 race    \n",
       "446  1                     1                 1     0\n",
       "49   1                     1                 0     1\n",
       "10   0                     0                 1    14\n",
       "1    0                     0                 0    15\n",
       "12   1                     1                 1     1\n",
       "3    1                     1                 0     2\n",
       "1    0                     0                 0    16\n",
       "13   0                     0                 1    15\n",
       "3    0                     0                 0    16\n",
       "11   1                     1                 1     1\n",
       "1    1                     1                 0     2\n",
       "1    0                     0                 1    15\n",
       "3    1                     1                 1     1\n",
       "1    1                     1                 0     2\n",
       "1    0                     0                 1    15\n",
       "1    1                     1                 1     3\n",
       "1    1                     1                 1     3\n",
       "1    1                     1                 1     5\n",
       "1    1                     1                 1     4\n",
       "    30                    30                59   544"
      ]
     },
     "metadata": {},
     "output_type": "display_data"
    },
    {
     "data": {
      "image/png": "[encoded data removed]",
      "text/plain": [
       "plot without title"
      ]
     },
     "metadata": {
      "image/png": {
       "height": 420,
       "width": 420
      },
      "text/plain": {
       "height": 420,
       "width": 420
      }
     },
     "output_type": "display_data"
    }
   ],
   "source": [
    "md.pattern(df)"
   ]
  },
  {
   "cell_type": "code",
   "execution_count": 5,
   "metadata": {},
   "outputs": [],
   "source": [
    "# imputed <- mice(df, m=1)\n",
    "# df = complete(imputed)\n",
    "# sum(is.na(df))"
   ]
  },
  {
   "cell_type": "code",
   "execution_count": 6,
   "metadata": {},
   "outputs": [
    {
     "data": {
      "text/html": [
       "<ol class=list-inline>\n",
       "\t<li>560</li>\n",
       "\t<li>57</li>\n",
       "</ol>\n"
      ],
      "text/latex": [
       "\\begin{enumerate*}\n",
       "\\item 560\n",
       "\\item 57\n",
       "\\end{enumerate*}\n"
      ],
      "text/markdown": [
       "1. 560\n",
       "2. 57\n",
       "\n",
       "\n"
      ],
      "text/plain": [
       "[1] 560  57"
      ]
     },
     "metadata": {},
     "output_type": "display_data"
    },
    {
     "data": {
      "text/html": [
       "<ol class=list-inline>\n",
       "\t<li>446</li>\n",
       "\t<li>57</li>\n",
       "</ol>\n"
      ],
      "text/latex": [
       "\\begin{enumerate*}\n",
       "\\item 446\n",
       "\\item 57\n",
       "\\end{enumerate*}\n"
      ],
      "text/markdown": [
       "1. 446\n",
       "2. 57\n",
       "\n",
       "\n"
      ],
      "text/plain": [
       "[1] 446  57"
      ]
     },
     "metadata": {},
     "output_type": "display_data"
    }
   ],
   "source": [
    "dim(df)\n",
    "df = df[complete.cases(df), ]\n",
    "dim(df)"
   ]
  },
  {
   "cell_type": "markdown",
   "metadata": {},
   "source": [
    "## Model"
   ]
  },
  {
   "cell_type": "code",
   "execution_count": 7,
   "metadata": {},
   "outputs": [
    {
     "data": {
      "text/html": [
       "<table>\n",
       "<caption>A data.frame: 6 × 57</caption>\n",
       "<thead>\n",
       "\t<tr><th></th><th scope=col>PID</th><th scope=col>gender</th><th scope=col>race</th><th scope=col>dorm</th><th scope=col>life_satisfaction_t1</th><th scope=col>empathy</th><th scope=col>loneliness_t1</th><th scope=col>stress_t1</th><th scope=col>BFI_E</th><th scope=col>BFI_A</th><th scope=col>⋯</th><th scope=col>network_BFI_A</th><th scope=col>network_BFI_O</th><th scope=col>network_BFI_N</th><th scope=col>network_BFI_C</th><th scope=col>network_intl_student</th><th scope=col>network_family_income</th><th scope=col>network_life_satisfaction_t2</th><th scope=col>network_loneliness_t2</th><th scope=col>network_stress_t2</th><th scope=col>network_n_networkmates</th></tr>\n",
       "\t<tr><th></th><th scope=col>&lt;int&gt;</th><th scope=col>&lt;fct&gt;</th><th scope=col>&lt;fct&gt;</th><th scope=col>&lt;fct&gt;</th><th scope=col>&lt;dbl&gt;</th><th scope=col>&lt;dbl&gt;</th><th scope=col>&lt;dbl&gt;</th><th scope=col>&lt;dbl&gt;</th><th scope=col>&lt;dbl&gt;</th><th scope=col>&lt;dbl&gt;</th><th scope=col>⋯</th><th scope=col>&lt;dbl&gt;</th><th scope=col>&lt;dbl&gt;</th><th scope=col>&lt;dbl&gt;</th><th scope=col>&lt;dbl&gt;</th><th scope=col>&lt;dbl&gt;</th><th scope=col>&lt;dbl&gt;</th><th scope=col>&lt;dbl&gt;</th><th scope=col>&lt;dbl&gt;</th><th scope=col>&lt;dbl&gt;</th><th scope=col>&lt;dbl&gt;</th></tr>\n",
       "</thead>\n",
       "<tbody>\n",
       "\t<tr><th scope=row>1</th><td>1001</td><td>male  </td><td>south_asian   </td><td>Rinconada</td><td>4.833333</td><td>6.375</td><td>1.333333</td><td>2.5</td><td>6.5</td><td>6.0</td><td>⋯</td><td>4.750000</td><td>5.75</td><td>4.500000</td><td>5.000000</td><td>0.0000000</td><td>175000.00</td><td>5.750000</td><td>2.333333</td><td>1.75</td><td> 2</td></tr>\n",
       "\t<tr><th scope=row>2</th><td>1047</td><td>female</td><td>other_or_mixed</td><td>Twain    </td><td>5.333333</td><td>6.500</td><td>2.000000</td><td>2.5</td><td>5.5</td><td>6.5</td><td>⋯</td><td>5.416667</td><td>5.50</td><td>2.833333</td><td>5.166667</td><td>0.1666667</td><td> 91666.67</td><td>4.833333</td><td>1.444444</td><td>2.25</td><td> 6</td></tr>\n",
       "\t<tr><th scope=row>3</th><td>1078</td><td>female</td><td>east_asian    </td><td>Loro     </td><td>5.500000</td><td>6.250</td><td>1.333333</td><td>2.0</td><td>4.5</td><td>6.5</td><td>⋯</td><td>5.500000</td><td>3.50</td><td>1.500000</td><td>4.000000</td><td>0.0000000</td><td> 90000.00</td><td>4.666667</td><td>1.000000</td><td>1.50</td><td> 1</td></tr>\n",
       "\t<tr><th scope=row>4</th><td>1097</td><td>male  </td><td>east_asian    </td><td>Otero    </td><td>6.000000</td><td>5.000</td><td>2.000000</td><td>2.0</td><td>3.0</td><td>4.0</td><td>⋯</td><td>5.400000</td><td>5.10</td><td>3.100000</td><td>5.700000</td><td>0.0000000</td><td>130000.00</td><td>4.866667</td><td>2.133333</td><td>2.20</td><td> 5</td></tr>\n",
       "\t<tr><th scope=row>5</th><td>1105</td><td>female</td><td>white         </td><td>Larkin   </td><td>6.666667</td><td>5.750</td><td>2.000000</td><td>2.0</td><td>4.5</td><td>5.0</td><td>⋯</td><td>4.350000</td><td>5.65</td><td>3.750000</td><td>5.550000</td><td>0.2000000</td><td>161000.00</td><td>5.133333</td><td>1.966667</td><td>2.20</td><td>10</td></tr>\n",
       "\t<tr><th scope=row>6</th><td>1110</td><td>female</td><td>white         </td><td>Larkin   </td><td>5.166667</td><td>6.750</td><td>2.000000</td><td>2.0</td><td>6.5</td><td>5.0</td><td>⋯</td><td>5.250000</td><td>5.00</td><td>2.625000</td><td>5.750000</td><td>0.0000000</td><td>152500.00</td><td>5.750000</td><td>1.666667</td><td>2.00</td><td> 4</td></tr>\n",
       "</tbody>\n",
       "</table>\n"
      ],
      "text/latex": [
       "A data.frame: 6 × 57\n",
       "\\begin{tabular}{r|lllllllllllllllllllll}\n",
       "  & PID & gender & race & dorm & life\\_satisfaction\\_t1 & empathy & loneliness\\_t1 & stress\\_t1 & BFI\\_E & BFI\\_A & ⋯ & network\\_BFI\\_A & network\\_BFI\\_O & network\\_BFI\\_N & network\\_BFI\\_C & network\\_intl\\_student & network\\_family\\_income & network\\_life\\_satisfaction\\_t2 & network\\_loneliness\\_t2 & network\\_stress\\_t2 & network\\_n\\_networkmates\\\\\n",
       "  & <int> & <fct> & <fct> & <fct> & <dbl> & <dbl> & <dbl> & <dbl> & <dbl> & <dbl> & ⋯ & <dbl> & <dbl> & <dbl> & <dbl> & <dbl> & <dbl> & <dbl> & <dbl> & <dbl> & <dbl>\\\\\n",
       "\\hline\n",
       "\t1 & 1001 & male   & south\\_asian    & Rinconada & 4.833333 & 6.375 & 1.333333 & 2.5 & 6.5 & 6.0 & ⋯ & 4.750000 & 5.75 & 4.500000 & 5.000000 & 0.0000000 & 175000.00 & 5.750000 & 2.333333 & 1.75 &  2\\\\\n",
       "\t2 & 1047 & female & other\\_or\\_mixed & Twain     & 5.333333 & 6.500 & 2.000000 & 2.5 & 5.5 & 6.5 & ⋯ & 5.416667 & 5.50 & 2.833333 & 5.166667 & 0.1666667 &  91666.67 & 4.833333 & 1.444444 & 2.25 &  6\\\\\n",
       "\t3 & 1078 & female & east\\_asian     & Loro      & 5.500000 & 6.250 & 1.333333 & 2.0 & 4.5 & 6.5 & ⋯ & 5.500000 & 3.50 & 1.500000 & 4.000000 & 0.0000000 &  90000.00 & 4.666667 & 1.000000 & 1.50 &  1\\\\\n",
       "\t4 & 1097 & male   & east\\_asian     & Otero     & 6.000000 & 5.000 & 2.000000 & 2.0 & 3.0 & 4.0 & ⋯ & 5.400000 & 5.10 & 3.100000 & 5.700000 & 0.0000000 & 130000.00 & 4.866667 & 2.133333 & 2.20 &  5\\\\\n",
       "\t5 & 1105 & female & white          & Larkin    & 6.666667 & 5.750 & 2.000000 & 2.0 & 4.5 & 5.0 & ⋯ & 4.350000 & 5.65 & 3.750000 & 5.550000 & 0.2000000 & 161000.00 & 5.133333 & 1.966667 & 2.20 & 10\\\\\n",
       "\t6 & 1110 & female & white          & Larkin    & 5.166667 & 6.750 & 2.000000 & 2.0 & 6.5 & 5.0 & ⋯ & 5.250000 & 5.00 & 2.625000 & 5.750000 & 0.0000000 & 152500.00 & 5.750000 & 1.666667 & 2.00 &  4\\\\\n",
       "\\end{tabular}\n"
      ],
      "text/markdown": [
       "\n",
       "A data.frame: 6 × 57\n",
       "\n",
       "| <!--/--> | PID &lt;int&gt; | gender &lt;fct&gt; | race &lt;fct&gt; | dorm &lt;fct&gt; | life_satisfaction_t1 &lt;dbl&gt; | empathy &lt;dbl&gt; | loneliness_t1 &lt;dbl&gt; | stress_t1 &lt;dbl&gt; | BFI_E &lt;dbl&gt; | BFI_A &lt;dbl&gt; | ⋯ ⋯ | network_BFI_A &lt;dbl&gt; | network_BFI_O &lt;dbl&gt; | network_BFI_N &lt;dbl&gt; | network_BFI_C &lt;dbl&gt; | network_intl_student &lt;dbl&gt; | network_family_income &lt;dbl&gt; | network_life_satisfaction_t2 &lt;dbl&gt; | network_loneliness_t2 &lt;dbl&gt; | network_stress_t2 &lt;dbl&gt; | network_n_networkmates &lt;dbl&gt; |\n",
       "|---|---|---|---|---|---|---|---|---|---|---|---|---|---|---|---|---|---|---|---|---|---|\n",
       "| 1 | 1001 | male   | south_asian    | Rinconada | 4.833333 | 6.375 | 1.333333 | 2.5 | 6.5 | 6.0 | ⋯ | 4.750000 | 5.75 | 4.500000 | 5.000000 | 0.0000000 | 175000.00 | 5.750000 | 2.333333 | 1.75 |  2 |\n",
       "| 2 | 1047 | female | other_or_mixed | Twain     | 5.333333 | 6.500 | 2.000000 | 2.5 | 5.5 | 6.5 | ⋯ | 5.416667 | 5.50 | 2.833333 | 5.166667 | 0.1666667 |  91666.67 | 4.833333 | 1.444444 | 2.25 |  6 |\n",
       "| 3 | 1078 | female | east_asian     | Loro      | 5.500000 | 6.250 | 1.333333 | 2.0 | 4.5 | 6.5 | ⋯ | 5.500000 | 3.50 | 1.500000 | 4.000000 | 0.0000000 |  90000.00 | 4.666667 | 1.000000 | 1.50 |  1 |\n",
       "| 4 | 1097 | male   | east_asian     | Otero     | 6.000000 | 5.000 | 2.000000 | 2.0 | 3.0 | 4.0 | ⋯ | 5.400000 | 5.10 | 3.100000 | 5.700000 | 0.0000000 | 130000.00 | 4.866667 | 2.133333 | 2.20 |  5 |\n",
       "| 5 | 1105 | female | white          | Larkin    | 6.666667 | 5.750 | 2.000000 | 2.0 | 4.5 | 5.0 | ⋯ | 4.350000 | 5.65 | 3.750000 | 5.550000 | 0.2000000 | 161000.00 | 5.133333 | 1.966667 | 2.20 | 10 |\n",
       "| 6 | 1110 | female | white          | Larkin    | 5.166667 | 6.750 | 2.000000 | 2.0 | 6.5 | 5.0 | ⋯ | 5.250000 | 5.00 | 2.625000 | 5.750000 | 0.0000000 | 152500.00 | 5.750000 | 1.666667 | 2.00 |  4 |\n",
       "\n"
      ],
      "text/plain": [
       "  PID  gender race           dorm      life_satisfaction_t1 empathy\n",
       "1 1001 male   south_asian    Rinconada 4.833333             6.375  \n",
       "2 1047 female other_or_mixed Twain     5.333333             6.500  \n",
       "3 1078 female east_asian     Loro      5.500000             6.250  \n",
       "4 1097 male   east_asian     Otero     6.000000             5.000  \n",
       "5 1105 female white          Larkin    6.666667             5.750  \n",
       "6 1110 female white          Larkin    5.166667             6.750  \n",
       "  loneliness_t1 stress_t1 BFI_E BFI_A ⋯ network_BFI_A network_BFI_O\n",
       "1 1.333333      2.5       6.5   6.0   ⋯ 4.750000      5.75         \n",
       "2 2.000000      2.5       5.5   6.5   ⋯ 5.416667      5.50         \n",
       "3 1.333333      2.0       4.5   6.5   ⋯ 5.500000      3.50         \n",
       "4 2.000000      2.0       3.0   4.0   ⋯ 5.400000      5.10         \n",
       "5 2.000000      2.0       4.5   5.0   ⋯ 4.350000      5.65         \n",
       "6 2.000000      2.0       6.5   5.0   ⋯ 5.250000      5.00         \n",
       "  network_BFI_N network_BFI_C network_intl_student network_family_income\n",
       "1 4.500000      5.000000      0.0000000            175000.00            \n",
       "2 2.833333      5.166667      0.1666667             91666.67            \n",
       "3 1.500000      4.000000      0.0000000             90000.00            \n",
       "4 3.100000      5.700000      0.0000000            130000.00            \n",
       "5 3.750000      5.550000      0.2000000            161000.00            \n",
       "6 2.625000      5.750000      0.0000000            152500.00            \n",
       "  network_life_satisfaction_t2 network_loneliness_t2 network_stress_t2\n",
       "1 5.750000                     2.333333              1.75             \n",
       "2 4.833333                     1.444444              2.25             \n",
       "3 4.666667                     1.000000              1.50             \n",
       "4 4.866667                     2.133333              2.20             \n",
       "5 5.133333                     1.966667              2.20             \n",
       "6 5.750000                     1.666667              2.00             \n",
       "  network_n_networkmates\n",
       "1  2                    \n",
       "2  6                    \n",
       "3  1                    \n",
       "4  5                    \n",
       "5 10                    \n",
       "6  4                    "
      ]
     },
     "metadata": {},
     "output_type": "display_data"
    }
   ],
   "source": [
    "head(df)"
   ]
  },
  {
   "cell_type": "markdown",
   "metadata": {},
   "source": [
    "### Base models - predict well-being at t1 from well-being at t1"
   ]
  },
  {
   "cell_type": "markdown",
   "metadata": {},
   "source": [
    "#### Life satisfaction"
   ]
  },
  {
   "cell_type": "code",
   "execution_count": 8,
   "metadata": {},
   "outputs": [
    {
     "data": {
      "text/plain": [
       "\n",
       "Call:\n",
       "lm(formula = life_satisfaction_t2 ~ life_satisfaction_t1, data = df)\n",
       "\n",
       "Residuals:\n",
       "    Min      1Q  Median      3Q     Max \n",
       "-2.9949 -0.4698  0.0501  0.5383  3.4022 \n",
       "\n",
       "Coefficients:\n",
       "                     Estimate Std. Error t value Pr(>|t|)    \n",
       "(Intercept)           0.96427    0.17395   5.543  5.1e-08 ***\n",
       "life_satisfaction_t1  0.78012    0.03373  23.126  < 2e-16 ***\n",
       "---\n",
       "Signif. codes:  0 ‘***’ 0.001 ‘**’ 0.01 ‘*’ 0.05 ‘.’ 0.1 ‘ ’ 1\n",
       "\n",
       "Residual standard error: 0.8138 on 444 degrees of freedom\n",
       "Multiple R-squared:  0.5464,\tAdjusted R-squared:  0.5454 \n",
       "F-statistic: 534.8 on 1 and 444 DF,  p-value: < 2.2e-16\n"
      ]
     },
     "metadata": {},
     "output_type": "display_data"
    }
   ],
   "source": [
    "base_model_ls_only = lm(life_satisfaction_t2 ~ life_satisfaction_t1, df)\n",
    "summary(base_model_ls_only)"
   ]
  },
  {
   "cell_type": "code",
   "execution_count": 9,
   "metadata": {},
   "outputs": [
    {
     "data": {
      "text/plain": [
       "\n",
       "Call:\n",
       "lm(formula = life_satisfaction_t2 ~ life_satisfaction_t1 + loneliness_t1 + \n",
       "    stress_t1, data = df)\n",
       "\n",
       "Residuals:\n",
       "    Min      1Q  Median      3Q     Max \n",
       "-3.0780 -0.4706  0.0397  0.5191  3.2860 \n",
       "\n",
       "Coefficients:\n",
       "                     Estimate Std. Error t value Pr(>|t|)    \n",
       "(Intercept)           2.03651    0.35713   5.703 2.16e-08 ***\n",
       "life_satisfaction_t1  0.71065    0.03937  18.050  < 2e-16 ***\n",
       "loneliness_t1        -0.15446    0.08232  -1.876  0.06126 .  \n",
       "stress_t1            -0.21418    0.07755  -2.762  0.00598 ** \n",
       "---\n",
       "Signif. codes:  0 ‘***’ 0.001 ‘**’ 0.01 ‘*’ 0.05 ‘.’ 0.1 ‘ ’ 1\n",
       "\n",
       "Residual standard error: 0.8046 on 442 degrees of freedom\n",
       "Multiple R-squared:  0.5586,\tAdjusted R-squared:  0.5556 \n",
       "F-statistic: 186.4 on 3 and 442 DF,  p-value: < 2.2e-16\n"
      ]
     },
     "metadata": {},
     "output_type": "display_data"
    },
    {
     "data": {
      "text/html": [
       "<table>\n",
       "<caption>A anova: 4 × 4</caption>\n",
       "<thead>\n",
       "\t<tr><th></th><th scope=col>Sum Sq</th><th scope=col>Df</th><th scope=col>F value</th><th scope=col>Pr(&gt;F)</th></tr>\n",
       "\t<tr><th></th><th scope=col>&lt;dbl&gt;</th><th scope=col>&lt;dbl&gt;</th><th scope=col>&lt;dbl&gt;</th><th scope=col>&lt;dbl&gt;</th></tr>\n",
       "</thead>\n",
       "<tbody>\n",
       "\t<tr><th scope=row>life_satisfaction_t1</th><td>210.912907</td><td>  1</td><td>325.801785</td><td>5.782033e-55</td></tr>\n",
       "\t<tr><th scope=row>loneliness_t1</th><td>  2.279249</td><td>  1</td><td>  3.520805</td><td>6.126168e-02</td></tr>\n",
       "\t<tr><th scope=row>stress_t1</th><td>  4.938661</td><td>  1</td><td>  7.628859</td><td>5.983614e-03</td></tr>\n",
       "\t<tr><th scope=row>Residuals</th><td>286.135647</td><td>442</td><td>        NA</td><td>          NA</td></tr>\n",
       "</tbody>\n",
       "</table>\n"
      ],
      "text/latex": [
       "A anova: 4 × 4\n",
       "\\begin{tabular}{r|llll}\n",
       "  & Sum Sq & Df & F value & Pr(>F)\\\\\n",
       "  & <dbl> & <dbl> & <dbl> & <dbl>\\\\\n",
       "\\hline\n",
       "\tlife\\_satisfaction\\_t1 & 210.912907 &   1 & 325.801785 & 5.782033e-55\\\\\n",
       "\tloneliness\\_t1 &   2.279249 &   1 &   3.520805 & 6.126168e-02\\\\\n",
       "\tstress\\_t1 &   4.938661 &   1 &   7.628859 & 5.983614e-03\\\\\n",
       "\tResiduals & 286.135647 & 442 &         NA &           NA\\\\\n",
       "\\end{tabular}\n"
      ],
      "text/markdown": [
       "\n",
       "A anova: 4 × 4\n",
       "\n",
       "| <!--/--> | Sum Sq &lt;dbl&gt; | Df &lt;dbl&gt; | F value &lt;dbl&gt; | Pr(&gt;F) &lt;dbl&gt; |\n",
       "|---|---|---|---|---|\n",
       "| life_satisfaction_t1 | 210.912907 |   1 | 325.801785 | 5.782033e-55 |\n",
       "| loneliness_t1 |   2.279249 |   1 |   3.520805 | 6.126168e-02 |\n",
       "| stress_t1 |   4.938661 |   1 |   7.628859 | 5.983614e-03 |\n",
       "| Residuals | 286.135647 | 442 |         NA |           NA |\n",
       "\n"
      ],
      "text/plain": [
       "                     Sum Sq     Df  F value    Pr(>F)      \n",
       "life_satisfaction_t1 210.912907   1 325.801785 5.782033e-55\n",
       "loneliness_t1          2.279249   1   3.520805 6.126168e-02\n",
       "stress_t1              4.938661   1   7.628859 5.983614e-03\n",
       "Residuals            286.135647 442         NA           NA"
      ]
     },
     "metadata": {},
     "output_type": "display_data"
    }
   ],
   "source": [
    "base_model_ls <- lm(life_satisfaction_t2 ~ life_satisfaction_t1 + loneliness_t1 + stress_t1, df)\n",
    "summary(base_model_ls)\n",
    "Anova(base_model_ls)"
   ]
  },
  {
   "cell_type": "code",
   "execution_count": 10,
   "metadata": {},
   "outputs": [
    {
     "data": {
      "text/html": [
       "<table>\n",
       "<caption>A anova: 2 × 6</caption>\n",
       "<thead>\n",
       "\t<tr><th></th><th scope=col>Res.Df</th><th scope=col>RSS</th><th scope=col>Df</th><th scope=col>Sum of Sq</th><th scope=col>F</th><th scope=col>Pr(&gt;F)</th></tr>\n",
       "\t<tr><th></th><th scope=col>&lt;dbl&gt;</th><th scope=col>&lt;dbl&gt;</th><th scope=col>&lt;dbl&gt;</th><th scope=col>&lt;dbl&gt;</th><th scope=col>&lt;dbl&gt;</th><th scope=col>&lt;dbl&gt;</th></tr>\n",
       "</thead>\n",
       "<tbody>\n",
       "\t<tr><th scope=row>1</th><td>444</td><td>294.0296</td><td>NA</td><td>      NA</td><td>      NA</td><td>         NA</td></tr>\n",
       "\t<tr><th scope=row>2</th><td>442</td><td>286.1356</td><td> 2</td><td>7.893915</td><td>6.096952</td><td>0.002443397</td></tr>\n",
       "</tbody>\n",
       "</table>\n"
      ],
      "text/latex": [
       "A anova: 2 × 6\n",
       "\\begin{tabular}{r|llllll}\n",
       "  & Res.Df & RSS & Df & Sum of Sq & F & Pr(>F)\\\\\n",
       "  & <dbl> & <dbl> & <dbl> & <dbl> & <dbl> & <dbl>\\\\\n",
       "\\hline\n",
       "\t1 & 444 & 294.0296 & NA &       NA &       NA &          NA\\\\\n",
       "\t2 & 442 & 286.1356 &  2 & 7.893915 & 6.096952 & 0.002443397\\\\\n",
       "\\end{tabular}\n"
      ],
      "text/markdown": [
       "\n",
       "A anova: 2 × 6\n",
       "\n",
       "| <!--/--> | Res.Df &lt;dbl&gt; | RSS &lt;dbl&gt; | Df &lt;dbl&gt; | Sum of Sq &lt;dbl&gt; | F &lt;dbl&gt; | Pr(&gt;F) &lt;dbl&gt; |\n",
       "|---|---|---|---|---|---|---|\n",
       "| 1 | 444 | 294.0296 | NA |       NA |       NA |          NA |\n",
       "| 2 | 442 | 286.1356 |  2 | 7.893915 | 6.096952 | 0.002443397 |\n",
       "\n"
      ],
      "text/plain": [
       "  Res.Df RSS      Df Sum of Sq F        Pr(>F)     \n",
       "1 444    294.0296 NA       NA        NA          NA\n",
       "2 442    286.1356  2 7.893915  6.096952 0.002443397"
      ]
     },
     "metadata": {},
     "output_type": "display_data"
    }
   ],
   "source": [
    "anova(base_model_ls_only, base_model_ls)"
   ]
  },
  {
   "cell_type": "code",
   "execution_count": 11,
   "metadata": {},
   "outputs": [
    {
     "name": "stdout",
     "output_type": "stream",
     "text": [
      "[1] \"Before: 0.545375011452107\"\n",
      "[1] \"After: 0.555578590251331\"\n",
      "[1] \"Partial r² (adjusted): 0.0224439462331682\"\n"
     ]
    }
   ],
   "source": [
    "r1 = summary(base_model_ls_only)$adj.r.squared\n",
    "r2 = summary(base_model_ls)$adj.r.squared\n",
    "print(paste(\"Before:\", r1))\n",
    "print(paste(\"After:\", r2))\n",
    "print(paste(\"Partial r² (adjusted):\", (r2 - r1) / (1 - r1)))"
   ]
  },
  {
   "cell_type": "markdown",
   "metadata": {},
   "source": [
    "#### Loneliness"
   ]
  },
  {
   "cell_type": "code",
   "execution_count": 12,
   "metadata": {},
   "outputs": [
    {
     "data": {
      "text/plain": [
       "\n",
       "Call:\n",
       "lm(formula = loneliness_t2 ~ loneliness_t1, data = df)\n",
       "\n",
       "Residuals:\n",
       "     Min       1Q   Median       3Q      Max \n",
       "-1.21448 -0.35398 -0.02065  0.31268  1.56084 \n",
       "\n",
       "Coefficients:\n",
       "              Estimate Std. Error t value Pr(>|t|)    \n",
       "(Intercept)    0.85767    0.08599   9.974   <2e-16 ***\n",
       "loneliness_t1  0.58149    0.04551  12.777   <2e-16 ***\n",
       "---\n",
       "Signif. codes:  0 ‘***’ 0.001 ‘**’ 0.01 ‘*’ 0.05 ‘.’ 0.1 ‘ ’ 1\n",
       "\n",
       "Residual standard error: 0.5032 on 444 degrees of freedom\n",
       "Multiple R-squared:  0.2688,\tAdjusted R-squared:  0.2672 \n",
       "F-statistic: 163.2 on 1 and 444 DF,  p-value: < 2.2e-16\n"
      ]
     },
     "metadata": {},
     "output_type": "display_data"
    }
   ],
   "source": [
    "base_model_loneliness_only = lm(loneliness_t2 ~ loneliness_t1, df)\n",
    "summary(base_model_loneliness_only)"
   ]
  },
  {
   "cell_type": "code",
   "execution_count": 13,
   "metadata": {},
   "outputs": [
    {
     "data": {
      "text/plain": [
       "\n",
       "Call:\n",
       "lm(formula = loneliness_t2 ~ loneliness_t1 + life_satisfaction_t1 + \n",
       "    stress_t1, data = df)\n",
       "\n",
       "Residuals:\n",
       "     Min       1Q   Median       3Q      Max \n",
       "-1.15554 -0.36265 -0.02359  0.32454  1.55979 \n",
       "\n",
       "Coefficients:\n",
       "                     Estimate Std. Error t value Pr(>|t|)    \n",
       "(Intercept)           0.88483    0.22059   4.011 7.09e-05 ***\n",
       "loneliness_t1         0.51348    0.05085  10.099  < 2e-16 ***\n",
       "life_satisfaction_t1 -0.03501    0.02432  -1.440  0.15064    \n",
       "stress_t1             0.13182    0.04790   2.752  0.00616 ** \n",
       "---\n",
       "Signif. codes:  0 ‘***’ 0.001 ‘**’ 0.01 ‘*’ 0.05 ‘.’ 0.1 ‘ ’ 1\n",
       "\n",
       "Residual standard error: 0.497 on 442 degrees of freedom\n",
       "Multiple R-squared:   0.29,\tAdjusted R-squared:  0.2852 \n",
       "F-statistic: 60.18 on 3 and 442 DF,  p-value: < 2.2e-16\n"
      ]
     },
     "metadata": {},
     "output_type": "display_data"
    },
    {
     "data": {
      "text/html": [
       "<table>\n",
       "<caption>A anova: 4 × 4</caption>\n",
       "<thead>\n",
       "\t<tr><th></th><th scope=col>Sum Sq</th><th scope=col>Df</th><th scope=col>F value</th><th scope=col>Pr(&gt;F)</th></tr>\n",
       "\t<tr><th></th><th scope=col>&lt;dbl&gt;</th><th scope=col>&lt;dbl&gt;</th><th scope=col>&lt;dbl&gt;</th><th scope=col>&lt;dbl&gt;</th></tr>\n",
       "</thead>\n",
       "<tbody>\n",
       "\t<tr><th scope=row>loneliness_t1</th><td> 25.1878497</td><td>  1</td><td>101.98320</td><td>1.028724e-21</td></tr>\n",
       "\t<tr><th scope=row>life_satisfaction_t1</th><td>  0.5119779</td><td>  1</td><td>  2.07295</td><td>1.506391e-01</td></tr>\n",
       "\t<tr><th scope=row>stress_t1</th><td>  1.8708220</td><td>  1</td><td>  7.57478</td><td>6.162618e-03</td></tr>\n",
       "\t<tr><th scope=row>Residuals</th><td>109.1653241</td><td>442</td><td>       NA</td><td>          NA</td></tr>\n",
       "</tbody>\n",
       "</table>\n"
      ],
      "text/latex": [
       "A anova: 4 × 4\n",
       "\\begin{tabular}{r|llll}\n",
       "  & Sum Sq & Df & F value & Pr(>F)\\\\\n",
       "  & <dbl> & <dbl> & <dbl> & <dbl>\\\\\n",
       "\\hline\n",
       "\tloneliness\\_t1 &  25.1878497 &   1 & 101.98320 & 1.028724e-21\\\\\n",
       "\tlife\\_satisfaction\\_t1 &   0.5119779 &   1 &   2.07295 & 1.506391e-01\\\\\n",
       "\tstress\\_t1 &   1.8708220 &   1 &   7.57478 & 6.162618e-03\\\\\n",
       "\tResiduals & 109.1653241 & 442 &        NA &           NA\\\\\n",
       "\\end{tabular}\n"
      ],
      "text/markdown": [
       "\n",
       "A anova: 4 × 4\n",
       "\n",
       "| <!--/--> | Sum Sq &lt;dbl&gt; | Df &lt;dbl&gt; | F value &lt;dbl&gt; | Pr(&gt;F) &lt;dbl&gt; |\n",
       "|---|---|---|---|---|\n",
       "| loneliness_t1 |  25.1878497 |   1 | 101.98320 | 1.028724e-21 |\n",
       "| life_satisfaction_t1 |   0.5119779 |   1 |   2.07295 | 1.506391e-01 |\n",
       "| stress_t1 |   1.8708220 |   1 |   7.57478 | 6.162618e-03 |\n",
       "| Residuals | 109.1653241 | 442 |        NA |           NA |\n",
       "\n"
      ],
      "text/plain": [
       "                     Sum Sq      Df  F value   Pr(>F)      \n",
       "loneliness_t1         25.1878497   1 101.98320 1.028724e-21\n",
       "life_satisfaction_t1   0.5119779   1   2.07295 1.506391e-01\n",
       "stress_t1              1.8708220   1   7.57478 6.162618e-03\n",
       "Residuals            109.1653241 442        NA           NA"
      ]
     },
     "metadata": {},
     "output_type": "display_data"
    }
   ],
   "source": [
    "base_model_loneliness <- lm(loneliness_t2 ~ loneliness_t1 + life_satisfaction_t1 + stress_t1, df)\n",
    "summary(base_model_loneliness)\n",
    "Anova(base_model_loneliness)"
   ]
  },
  {
   "cell_type": "code",
   "execution_count": 14,
   "metadata": {},
   "outputs": [
    {
     "data": {
      "text/html": [
       "<table>\n",
       "<caption>A anova: 2 × 6</caption>\n",
       "<thead>\n",
       "\t<tr><th></th><th scope=col>Res.Df</th><th scope=col>RSS</th><th scope=col>Df</th><th scope=col>Sum of Sq</th><th scope=col>F</th><th scope=col>Pr(&gt;F)</th></tr>\n",
       "\t<tr><th></th><th scope=col>&lt;dbl&gt;</th><th scope=col>&lt;dbl&gt;</th><th scope=col>&lt;dbl&gt;</th><th scope=col>&lt;dbl&gt;</th><th scope=col>&lt;dbl&gt;</th><th scope=col>&lt;dbl&gt;</th></tr>\n",
       "</thead>\n",
       "<tbody>\n",
       "\t<tr><th scope=row>1</th><td>444</td><td>112.4242</td><td>NA</td><td>      NA</td><td>     NA</td><td>         NA</td></tr>\n",
       "\t<tr><th scope=row>2</th><td>442</td><td>109.1653</td><td> 2</td><td>3.258921</td><td>6.59753</td><td>0.001501983</td></tr>\n",
       "</tbody>\n",
       "</table>\n"
      ],
      "text/latex": [
       "A anova: 2 × 6\n",
       "\\begin{tabular}{r|llllll}\n",
       "  & Res.Df & RSS & Df & Sum of Sq & F & Pr(>F)\\\\\n",
       "  & <dbl> & <dbl> & <dbl> & <dbl> & <dbl> & <dbl>\\\\\n",
       "\\hline\n",
       "\t1 & 444 & 112.4242 & NA &       NA &      NA &          NA\\\\\n",
       "\t2 & 442 & 109.1653 &  2 & 3.258921 & 6.59753 & 0.001501983\\\\\n",
       "\\end{tabular}\n"
      ],
      "text/markdown": [
       "\n",
       "A anova: 2 × 6\n",
       "\n",
       "| <!--/--> | Res.Df &lt;dbl&gt; | RSS &lt;dbl&gt; | Df &lt;dbl&gt; | Sum of Sq &lt;dbl&gt; | F &lt;dbl&gt; | Pr(&gt;F) &lt;dbl&gt; |\n",
       "|---|---|---|---|---|---|---|\n",
       "| 1 | 444 | 112.4242 | NA |       NA |      NA |          NA |\n",
       "| 2 | 442 | 109.1653 |  2 | 3.258921 | 6.59753 | 0.001501983 |\n",
       "\n"
      ],
      "text/plain": [
       "  Res.Df RSS      Df Sum of Sq F       Pr(>F)     \n",
       "1 444    112.4242 NA       NA       NA          NA\n",
       "2 442    109.1653  2 3.258921  6.59753 0.001501983"
      ]
     },
     "metadata": {},
     "output_type": "display_data"
    }
   ],
   "source": [
    "anova(base_model_loneliness_only, base_model_loneliness)"
   ]
  },
  {
   "cell_type": "code",
   "execution_count": 15,
   "metadata": {},
   "outputs": [
    {
     "name": "stdout",
     "output_type": "stream",
     "text": [
      "[1] \"Before: 0.26718067274462\"\n",
      "[1] \"After: 0.285203619332702\"\n",
      "[1] \"Partial r² (adjusted): 0.0245939836979774\"\n"
     ]
    }
   ],
   "source": [
    "r1 = summary(base_model_loneliness_only)$adj.r.squared\n",
    "r2 = summary(base_model_loneliness)$adj.r.squared\n",
    "print(paste(\"Before:\", r1))\n",
    "print(paste(\"After:\", r2))\n",
    "print(paste(\"Partial r² (adjusted):\", (r2 - r1) / (1 - r1)))"
   ]
  },
  {
   "cell_type": "markdown",
   "metadata": {},
   "source": [
    "#### Stress"
   ]
  },
  {
   "cell_type": "code",
   "execution_count": 16,
   "metadata": {},
   "outputs": [
    {
     "data": {
      "text/plain": [
       "\n",
       "Call:\n",
       "lm(formula = stress_t2 ~ stress_t1, data = df)\n",
       "\n",
       "Residuals:\n",
       "     Min       1Q   Median       3Q      Max \n",
       "-1.33436 -0.33436 -0.07822  0.40951  1.43404 \n",
       "\n",
       "Coefficients:\n",
       "            Estimate Std. Error t value Pr(>|t|)    \n",
       "(Intercept)  1.05369    0.09738   10.82   <2e-16 ***\n",
       "stress_t1    0.51227    0.04565   11.22   <2e-16 ***\n",
       "---\n",
       "Signif. codes:  0 ‘***’ 0.001 ‘**’ 0.01 ‘*’ 0.05 ‘.’ 0.1 ‘ ’ 1\n",
       "\n",
       "Residual standard error: 0.512 on 444 degrees of freedom\n",
       "Multiple R-squared:  0.221,\tAdjusted R-squared:  0.2192 \n",
       "F-statistic: 125.9 on 1 and 444 DF,  p-value: < 2.2e-16\n"
      ]
     },
     "metadata": {},
     "output_type": "display_data"
    }
   ],
   "source": [
    "base_model_stress_only = lm(stress_t2 ~ stress_t1, df)\n",
    "summary(base_model_stress_only)"
   ]
  },
  {
   "cell_type": "code",
   "execution_count": 17,
   "metadata": {},
   "outputs": [
    {
     "data": {
      "text/plain": [
       "\n",
       "Call:\n",
       "lm(formula = stress_t2 ~ stress_t1 + life_satisfaction_t1 + loneliness_t1, \n",
       "    data = df)\n",
       "\n",
       "Residuals:\n",
       "    Min      1Q  Median      3Q     Max \n",
       "-1.2349 -0.3410 -0.0624  0.3777  1.3373 \n",
       "\n",
       "Coefficients:\n",
       "                     Estimate Std. Error t value Pr(>|t|)    \n",
       "(Intercept)           1.34296    0.22589   5.945 5.61e-09 ***\n",
       "stress_t1             0.46183    0.04905   9.416  < 2e-16 ***\n",
       "life_satisfaction_t1 -0.05121    0.02490  -2.056   0.0403 *  \n",
       "loneliness_t1         0.03992    0.05207   0.767   0.4437    \n",
       "---\n",
       "Signif. codes:  0 ‘***’ 0.001 ‘**’ 0.01 ‘*’ 0.05 ‘.’ 0.1 ‘ ’ 1\n",
       "\n",
       "Residual standard error: 0.5089 on 442 degrees of freedom\n",
       "Multiple R-squared:  0.2337,\tAdjusted R-squared:  0.2285 \n",
       "F-statistic: 44.94 on 3 and 442 DF,  p-value: < 2.2e-16\n"
      ]
     },
     "metadata": {},
     "output_type": "display_data"
    },
    {
     "data": {
      "text/html": [
       "<table>\n",
       "<caption>A anova: 4 × 4</caption>\n",
       "<thead>\n",
       "\t<tr><th></th><th scope=col>Sum Sq</th><th scope=col>Df</th><th scope=col>F value</th><th scope=col>Pr(&gt;F)</th></tr>\n",
       "\t<tr><th></th><th scope=col>&lt;dbl&gt;</th><th scope=col>&lt;dbl&gt;</th><th scope=col>&lt;dbl&gt;</th><th scope=col>&lt;dbl&gt;</th></tr>\n",
       "</thead>\n",
       "<tbody>\n",
       "\t<tr><th scope=row>stress_t1</th><td> 22.9612950</td><td>  1</td><td>88.6526034</td><td>2.618427e-19</td></tr>\n",
       "\t<tr><th scope=row>life_satisfaction_t1</th><td>  1.0952992</td><td>  1</td><td> 4.2289047</td><td>4.032761e-02</td></tr>\n",
       "\t<tr><th scope=row>loneliness_t1</th><td>  0.1522373</td><td>  1</td><td> 0.5877817</td><td>4.436875e-01</td></tr>\n",
       "\t<tr><th scope=row>Residuals</th><td>114.4793498</td><td>442</td><td>        NA</td><td>          NA</td></tr>\n",
       "</tbody>\n",
       "</table>\n"
      ],
      "text/latex": [
       "A anova: 4 × 4\n",
       "\\begin{tabular}{r|llll}\n",
       "  & Sum Sq & Df & F value & Pr(>F)\\\\\n",
       "  & <dbl> & <dbl> & <dbl> & <dbl>\\\\\n",
       "\\hline\n",
       "\tstress\\_t1 &  22.9612950 &   1 & 88.6526034 & 2.618427e-19\\\\\n",
       "\tlife\\_satisfaction\\_t1 &   1.0952992 &   1 &  4.2289047 & 4.032761e-02\\\\\n",
       "\tloneliness\\_t1 &   0.1522373 &   1 &  0.5877817 & 4.436875e-01\\\\\n",
       "\tResiduals & 114.4793498 & 442 &         NA &           NA\\\\\n",
       "\\end{tabular}\n"
      ],
      "text/markdown": [
       "\n",
       "A anova: 4 × 4\n",
       "\n",
       "| <!--/--> | Sum Sq &lt;dbl&gt; | Df &lt;dbl&gt; | F value &lt;dbl&gt; | Pr(&gt;F) &lt;dbl&gt; |\n",
       "|---|---|---|---|---|\n",
       "| stress_t1 |  22.9612950 |   1 | 88.6526034 | 2.618427e-19 |\n",
       "| life_satisfaction_t1 |   1.0952992 |   1 |  4.2289047 | 4.032761e-02 |\n",
       "| loneliness_t1 |   0.1522373 |   1 |  0.5877817 | 4.436875e-01 |\n",
       "| Residuals | 114.4793498 | 442 |         NA |           NA |\n",
       "\n"
      ],
      "text/plain": [
       "                     Sum Sq      Df  F value    Pr(>F)      \n",
       "stress_t1             22.9612950   1 88.6526034 2.618427e-19\n",
       "life_satisfaction_t1   1.0952992   1  4.2289047 4.032761e-02\n",
       "loneliness_t1          0.1522373   1  0.5877817 4.436875e-01\n",
       "Residuals            114.4793498 442         NA           NA"
      ]
     },
     "metadata": {},
     "output_type": "display_data"
    }
   ],
   "source": [
    "base_model_stress <- lm(stress_t2 ~ stress_t1 + life_satisfaction_t1 + loneliness_t1, df)\n",
    "summary(base_model_stress)\n",
    "Anova(base_model_stress)"
   ]
  },
  {
   "cell_type": "code",
   "execution_count": 18,
   "metadata": {},
   "outputs": [
    {
     "data": {
      "text/html": [
       "<table>\n",
       "<caption>A anova: 2 × 6</caption>\n",
       "<thead>\n",
       "\t<tr><th></th><th scope=col>Res.Df</th><th scope=col>RSS</th><th scope=col>Df</th><th scope=col>Sum of Sq</th><th scope=col>F</th><th scope=col>Pr(&gt;F)</th></tr>\n",
       "\t<tr><th></th><th scope=col>&lt;dbl&gt;</th><th scope=col>&lt;dbl&gt;</th><th scope=col>&lt;dbl&gt;</th><th scope=col>&lt;dbl&gt;</th><th scope=col>&lt;dbl&gt;</th><th scope=col>&lt;dbl&gt;</th></tr>\n",
       "</thead>\n",
       "<tbody>\n",
       "\t<tr><th scope=row>1</th><td>444</td><td>116.3825</td><td>NA</td><td>      NA</td><td>      NA</td><td>        NA</td></tr>\n",
       "\t<tr><th scope=row>2</th><td>442</td><td>114.4793</td><td> 2</td><td>1.903199</td><td>3.674086</td><td>0.02615069</td></tr>\n",
       "</tbody>\n",
       "</table>\n"
      ],
      "text/latex": [
       "A anova: 2 × 6\n",
       "\\begin{tabular}{r|llllll}\n",
       "  & Res.Df & RSS & Df & Sum of Sq & F & Pr(>F)\\\\\n",
       "  & <dbl> & <dbl> & <dbl> & <dbl> & <dbl> & <dbl>\\\\\n",
       "\\hline\n",
       "\t1 & 444 & 116.3825 & NA &       NA &       NA &         NA\\\\\n",
       "\t2 & 442 & 114.4793 &  2 & 1.903199 & 3.674086 & 0.02615069\\\\\n",
       "\\end{tabular}\n"
      ],
      "text/markdown": [
       "\n",
       "A anova: 2 × 6\n",
       "\n",
       "| <!--/--> | Res.Df &lt;dbl&gt; | RSS &lt;dbl&gt; | Df &lt;dbl&gt; | Sum of Sq &lt;dbl&gt; | F &lt;dbl&gt; | Pr(&gt;F) &lt;dbl&gt; |\n",
       "|---|---|---|---|---|---|---|\n",
       "| 1 | 444 | 116.3825 | NA |       NA |       NA |         NA |\n",
       "| 2 | 442 | 114.4793 |  2 | 1.903199 | 3.674086 | 0.02615069 |\n",
       "\n"
      ],
      "text/plain": [
       "  Res.Df RSS      Df Sum of Sq F        Pr(>F)    \n",
       "1 444    116.3825 NA       NA        NA         NA\n",
       "2 442    114.4793  2 1.903199  3.674086 0.02615069"
      ]
     },
     "metadata": {},
     "output_type": "display_data"
    }
   ],
   "source": [
    "anova(base_model_stress_only, base_model_stress)"
   ]
  },
  {
   "cell_type": "code",
   "execution_count": 19,
   "metadata": {},
   "outputs": [
    {
     "name": "stdout",
     "output_type": "stream",
     "text": [
      "[1] \"Before: 0.219217716785922\"\n",
      "[1] \"After: 0.228510639382522\"\n",
      "[1] \"Partial r² (adjusted): 0.0119020664228524\"\n"
     ]
    }
   ],
   "source": [
    "r1 = summary(base_model_stress_only)$adj.r.squared\n",
    "r2 = summary(base_model_stress)$adj.r.squared\n",
    "print(paste(\"Before:\", r1))\n",
    "print(paste(\"After:\", r2))\n",
    "print(paste(\"Partial r² (adjusted):\", (r2 - r1) / (1 - r1)))"
   ]
  },
  {
   "cell_type": "markdown",
   "metadata": {},
   "source": [
    "### Fixed-effects models: predict WB at t2 from WB and other personal factors at t1\n",
    "\n",
    "#### From here on, we'll just look at life satisfaction"
   ]
  },
  {
   "cell_type": "code",
   "execution_count": 20,
   "metadata": {},
   "outputs": [],
   "source": [
    "fixed_params = \"\n",
    "life_satisfaction_t1 + loneliness_t1 + stress_t1 +\n",
    "edges_in + edges_out +\n",
    "C(gender) + C(race) + empathy +\n",
    "BFI_E + BFI_O + BFI_C + BFI_A + BFI_N +\n",
    "intl_student + parent_education_highest + log10(family_income)\"\n",
    "\n",
    "make_model = function(dv) {\n",
    "    model = lm(as.formula(paste(dv, '~', fixed_params)), df)\n",
    "}"
   ]
  },
  {
   "cell_type": "code",
   "execution_count": 21,
   "metadata": {},
   "outputs": [
    {
     "data": {
      "text/plain": [
       "\n",
       "Call:\n",
       "lm(formula = as.formula(paste(dv, \"~\", fixed_params)), data = df)\n",
       "\n",
       "Residuals:\n",
       "     Min       1Q   Median       3Q      Max \n",
       "-2.63253 -0.45686  0.06504  0.49513  3.05554 \n",
       "\n",
       "Coefficients:\n",
       "                                            Estimate Std. Error t value\n",
       "(Intercept)                                 0.672343   0.812691   0.827\n",
       "life_satisfaction_t1                        0.666423   0.043067  15.474\n",
       "loneliness_t1                              -0.154953   0.088115  -1.759\n",
       "stress_t1                                  -0.188604   0.093090  -2.026\n",
       "edges_in                                    0.034702   0.014679   2.364\n",
       "edges_out                                   0.018156   0.009017   2.013\n",
       "C(gender)male                              -0.054915   0.085776  -0.640\n",
       "C(gender)other                              0.268078   0.585025   0.458\n",
       "C(race)east_asian                           0.204444   0.137423   1.488\n",
       "C(race)hispanic                             0.238012   0.152291   1.563\n",
       "C(race)other_or_mixed                       0.227148   0.156156   1.455\n",
       "C(race)south_asian                          0.297809   0.162188   1.836\n",
       "C(race)white                                0.221972   0.136603   1.625\n",
       "empathy                                    -0.060284   0.067483  -0.893\n",
       "BFI_E                                       0.007675   0.029749   0.258\n",
       "BFI_O                                      -0.003411   0.041523  -0.082\n",
       "BFI_C                                       0.067668   0.035624   1.899\n",
       "BFI_A                                      -0.013648   0.041201  -0.331\n",
       "BFI_N                                      -0.024207   0.038983  -0.621\n",
       "intl_student                               -0.018804   0.123296  -0.153\n",
       "parent_education_highest1_ hs              -0.275814   0.185822  -1.484\n",
       "parent_education_highest2_college_twoyear  -0.303741   0.257368  -1.180\n",
       "parent_education_highest3_college_fouryear -0.350433   0.192870  -1.817\n",
       "parent_education_highest4_masters          -0.323623   0.190639  -1.698\n",
       "parent_education_highest5_advanced         -0.260133   0.195937  -1.328\n",
       "log10(family_income)                        0.286577   0.135242   2.119\n",
       "                                           Pr(>|t|)    \n",
       "(Intercept)                                  0.4085    \n",
       "life_satisfaction_t1                         <2e-16 ***\n",
       "loneliness_t1                                0.0794 .  \n",
       "stress_t1                                    0.0434 *  \n",
       "edges_in                                     0.0185 *  \n",
       "edges_out                                    0.0447 *  \n",
       "C(gender)male                                0.5224    \n",
       "C(gender)other                               0.6470    \n",
       "C(race)east_asian                            0.1376    \n",
       "C(race)hispanic                              0.1188    \n",
       "C(race)other_or_mixed                        0.1465    \n",
       "C(race)south_asian                           0.0670 .  \n",
       "C(race)white                                 0.1049    \n",
       "empathy                                      0.3722    \n",
       "BFI_E                                        0.7965    \n",
       "BFI_O                                        0.9346    \n",
       "BFI_C                                        0.0582 .  \n",
       "BFI_A                                        0.7406    \n",
       "BFI_N                                        0.5349    \n",
       "intl_student                                 0.8789    \n",
       "parent_education_highest1_ hs                0.1385    \n",
       "parent_education_highest2_college_twoyear    0.2386    \n",
       "parent_education_highest3_college_fouryear   0.0699 .  \n",
       "parent_education_highest4_masters            0.0903 .  \n",
       "parent_education_highest5_advanced           0.1850    \n",
       "log10(family_income)                         0.0347 *  \n",
       "---\n",
       "Signif. codes:  0 ‘***’ 0.001 ‘**’ 0.01 ‘*’ 0.05 ‘.’ 0.1 ‘ ’ 1\n",
       "\n",
       "Residual standard error: 0.7942 on 420 degrees of freedom\n",
       "Multiple R-squared:  0.5913,\tAdjusted R-squared:  0.567 \n",
       "F-statistic: 24.31 on 25 and 420 DF,  p-value: < 2.2e-16\n"
      ]
     },
     "metadata": {},
     "output_type": "display_data"
    }
   ],
   "source": [
    "fixed_model_ls = make_model(\"life_satisfaction_t2\")\n",
    "summary(fixed_model_ls)"
   ]
  },
  {
   "cell_type": "code",
   "execution_count": 22,
   "metadata": {},
   "outputs": [
    {
     "data": {
      "text/html": [
       "<table>\n",
       "<caption>A anova: 2 × 6</caption>\n",
       "<thead>\n",
       "\t<tr><th></th><th scope=col>Res.Df</th><th scope=col>RSS</th><th scope=col>Df</th><th scope=col>Sum of Sq</th><th scope=col>F</th><th scope=col>Pr(&gt;F)</th></tr>\n",
       "\t<tr><th></th><th scope=col>&lt;dbl&gt;</th><th scope=col>&lt;dbl&gt;</th><th scope=col>&lt;dbl&gt;</th><th scope=col>&lt;dbl&gt;</th><th scope=col>&lt;dbl&gt;</th><th scope=col>&lt;dbl&gt;</th></tr>\n",
       "</thead>\n",
       "<tbody>\n",
       "\t<tr><th scope=row>1</th><td>442</td><td>286.1356</td><td>NA</td><td>      NA</td><td>      NA</td><td>        NA</td></tr>\n",
       "\t<tr><th scope=row>2</th><td>420</td><td>264.9246</td><td>22</td><td>21.21109</td><td>1.528507</td><td>0.06033677</td></tr>\n",
       "</tbody>\n",
       "</table>\n"
      ],
      "text/latex": [
       "A anova: 2 × 6\n",
       "\\begin{tabular}{r|llllll}\n",
       "  & Res.Df & RSS & Df & Sum of Sq & F & Pr(>F)\\\\\n",
       "  & <dbl> & <dbl> & <dbl> & <dbl> & <dbl> & <dbl>\\\\\n",
       "\\hline\n",
       "\t1 & 442 & 286.1356 & NA &       NA &       NA &         NA\\\\\n",
       "\t2 & 420 & 264.9246 & 22 & 21.21109 & 1.528507 & 0.06033677\\\\\n",
       "\\end{tabular}\n"
      ],
      "text/markdown": [
       "\n",
       "A anova: 2 × 6\n",
       "\n",
       "| <!--/--> | Res.Df &lt;dbl&gt; | RSS &lt;dbl&gt; | Df &lt;dbl&gt; | Sum of Sq &lt;dbl&gt; | F &lt;dbl&gt; | Pr(&gt;F) &lt;dbl&gt; |\n",
       "|---|---|---|---|---|---|---|\n",
       "| 1 | 442 | 286.1356 | NA |       NA |       NA |         NA |\n",
       "| 2 | 420 | 264.9246 | 22 | 21.21109 | 1.528507 | 0.06033677 |\n",
       "\n"
      ],
      "text/plain": [
       "  Res.Df RSS      Df Sum of Sq F        Pr(>F)    \n",
       "1 442    286.1356 NA       NA        NA         NA\n",
       "2 420    264.9246 22 21.21109  1.528507 0.06033677"
      ]
     },
     "metadata": {},
     "output_type": "display_data"
    }
   ],
   "source": [
    "anova(base_model_ls, fixed_model_ls)"
   ]
  },
  {
   "cell_type": "code",
   "execution_count": 23,
   "metadata": {},
   "outputs": [
    {
     "name": "stdout",
     "output_type": "stream",
     "text": [
      "[1] \"Before: 0.555578590251331\"\n",
      "[1] \"After: 0.566969791289822\"\n",
      "[1] \"Partial r² (adjusted): 0.0256315307692594\"\n"
     ]
    }
   ],
   "source": [
    "r1 = summary(base_model_ls)$adj.r.squared\n",
    "r2 = summary(fixed_model_ls)$adj.r.squared\n",
    "print(paste(\"Before:\", r1))\n",
    "print(paste(\"After:\", r2))\n",
    "print(paste(\"Partial r² (adjusted):\", (r2 - r1) / (1 - r1)))"
   ]
  },
  {
   "cell_type": "markdown",
   "metadata": {},
   "source": [
    "### Covariates seem to matter very little - lets reduce our fixed effects model to only wellbeing and in/out degree measures"
   ]
  },
  {
   "cell_type": "code",
   "execution_count": 24,
   "metadata": {},
   "outputs": [
    {
     "data": {
      "text/plain": [
       "\n",
       "Call:\n",
       "lm(formula = life_satisfaction_t2 ~ life_satisfaction_t1 + loneliness_t1 + \n",
       "    stress_t1 + edges_in + edges_out, data = df)\n",
       "\n",
       "Residuals:\n",
       "     Min       1Q   Median       3Q      Max \n",
       "-2.99725 -0.44996  0.03372  0.50615  3.14464 \n",
       "\n",
       "Coefficients:\n",
       "                      Estimate Std. Error t value Pr(>|t|)    \n",
       "(Intercept)           1.734649   0.363061   4.778 2.42e-06 ***\n",
       "life_satisfaction_t1  0.704199   0.039042  18.037  < 2e-16 ***\n",
       "loneliness_t1        -0.144673   0.081879  -1.767  0.07794 .  \n",
       "stress_t1            -0.208110   0.076715  -2.713  0.00693 ** \n",
       "edges_in              0.028309   0.013799   2.052  0.04081 *  \n",
       "edges_out             0.020117   0.008888   2.263  0.02410 *  \n",
       "---\n",
       "Signif. codes:  0 ‘***’ 0.001 ‘**’ 0.01 ‘*’ 0.05 ‘.’ 0.1 ‘ ’ 1\n",
       "\n",
       "Residual standard error: 0.7951 on 440 degrees of freedom\n",
       "Multiple R-squared:  0.5709,\tAdjusted R-squared:  0.566 \n",
       "F-statistic: 117.1 on 5 and 440 DF,  p-value: < 2.2e-16\n"
      ]
     },
     "metadata": {},
     "output_type": "display_data"
    }
   ],
   "source": [
    "fixed_model_ls_inout = lm(life_satisfaction_t2 ~ life_satisfaction_t1 +\n",
    "                          loneliness_t1 + stress_t1 + edges_in + edges_out,\n",
    "                          df)\n",
    "summary(fixed_model_ls_inout)"
   ]
  },
  {
   "cell_type": "code",
   "execution_count": 25,
   "metadata": {},
   "outputs": [
    {
     "data": {
      "text/html": [
       "<table>\n",
       "<caption>A anova: 2 × 6</caption>\n",
       "<thead>\n",
       "\t<tr><th></th><th scope=col>Res.Df</th><th scope=col>RSS</th><th scope=col>Df</th><th scope=col>Sum of Sq</th><th scope=col>F</th><th scope=col>Pr(&gt;F)</th></tr>\n",
       "\t<tr><th></th><th scope=col>&lt;dbl&gt;</th><th scope=col>&lt;dbl&gt;</th><th scope=col>&lt;dbl&gt;</th><th scope=col>&lt;dbl&gt;</th><th scope=col>&lt;dbl&gt;</th><th scope=col>&lt;dbl&gt;</th></tr>\n",
       "</thead>\n",
       "<tbody>\n",
       "\t<tr><th scope=row>1</th><td>442</td><td>286.1356</td><td>NA</td><td>      NA</td><td>      NA</td><td>         NA</td></tr>\n",
       "\t<tr><th scope=row>2</th><td>440</td><td>278.1352</td><td> 2</td><td>8.000491</td><td>6.328247</td><td>0.001951922</td></tr>\n",
       "</tbody>\n",
       "</table>\n"
      ],
      "text/latex": [
       "A anova: 2 × 6\n",
       "\\begin{tabular}{r|llllll}\n",
       "  & Res.Df & RSS & Df & Sum of Sq & F & Pr(>F)\\\\\n",
       "  & <dbl> & <dbl> & <dbl> & <dbl> & <dbl> & <dbl>\\\\\n",
       "\\hline\n",
       "\t1 & 442 & 286.1356 & NA &       NA &       NA &          NA\\\\\n",
       "\t2 & 440 & 278.1352 &  2 & 8.000491 & 6.328247 & 0.001951922\\\\\n",
       "\\end{tabular}\n"
      ],
      "text/markdown": [
       "\n",
       "A anova: 2 × 6\n",
       "\n",
       "| <!--/--> | Res.Df &lt;dbl&gt; | RSS &lt;dbl&gt; | Df &lt;dbl&gt; | Sum of Sq &lt;dbl&gt; | F &lt;dbl&gt; | Pr(&gt;F) &lt;dbl&gt; |\n",
       "|---|---|---|---|---|---|---|\n",
       "| 1 | 442 | 286.1356 | NA |       NA |       NA |          NA |\n",
       "| 2 | 440 | 278.1352 |  2 | 8.000491 | 6.328247 | 0.001951922 |\n",
       "\n"
      ],
      "text/plain": [
       "  Res.Df RSS      Df Sum of Sq F        Pr(>F)     \n",
       "1 442    286.1356 NA       NA        NA          NA\n",
       "2 440    278.1352  2 8.000491  6.328247 0.001951922"
      ]
     },
     "metadata": {},
     "output_type": "display_data"
    }
   ],
   "source": [
    "anova(base_model_ls, fixed_model_ls_inout)"
   ]
  },
  {
   "cell_type": "code",
   "execution_count": 26,
   "metadata": {},
   "outputs": [
    {
     "name": "stdout",
     "output_type": "stream",
     "text": [
      "[1] \"Before: 0.555578590251331\"\n",
      "[1] \"After: 0.566041213494675\"\n",
      "[1] \"Partial r² (adjusted): 0.0235421224401872\"\n"
     ]
    }
   ],
   "source": [
    "r1 = summary(base_model_ls)$adj.r.squared\n",
    "r2 = summary(fixed_model_ls_inout)$adj.r.squared\n",
    "print(paste(\"Before:\", r1))\n",
    "print(paste(\"After:\", r2))\n",
    "print(paste(\"Partial r² (adjusted):\", (r2 - r1) / (1 - r1)))"
   ]
  },
  {
   "cell_type": "markdown",
   "metadata": {},
   "source": [
    "### Examine residuals by dorm. If there is a sigificant dorm-wide effect, we should see some clear boxes that are above and below zero. (Spoiler alert: we don't)"
   ]
  },
  {
   "cell_type": "code",
   "execution_count": 27,
   "metadata": {},
   "outputs": [],
   "source": [
    "df$residuals = fixed_model_ls$residuals"
   ]
  },
  {
   "cell_type": "code",
   "execution_count": 28,
   "metadata": {},
   "outputs": [
    {
     "data": {
      "image/png": "[encoded data removed]",
      "text/plain": [
       "plot without title"
      ]
     },
     "metadata": {
      "image/png": {
       "height": 420,
       "width": 420
      },
      "text/plain": {
       "height": 420,
       "width": 420
      }
     },
     "output_type": "display_data"
    }
   ],
   "source": [
    "ggplot(data=df, mapping=aes(dorm, residuals)) + \n",
    "  geom_boxplot(aes(color=dorm)) + coord_flip()"
   ]
  },
  {
   "cell_type": "markdown",
   "metadata": {},
   "source": [
    "## Add random effect for dorm, see if significant variance is attributable to dorm membership"
   ]
  },
  {
   "cell_type": "code",
   "execution_count": 29,
   "metadata": {},
   "outputs": [
    {
     "name": "stderr",
     "output_type": "stream",
     "text": [
      "boundary (singular) fit: see ?isSingular\n",
      "\n",
      "\n",
      "Correlation matrix not shown by default, as p = 26 > 12.\n",
      "Use print(obj, correlation=TRUE)  or\n",
      "    vcov(obj)        if you need it\n",
      "\n",
      "\n"
     ]
    },
    {
     "data": {
      "text/plain": [
       "Linear mixed model fit by REML. t-tests use Satterthwaite's method [\n",
       "lmerModLmerTest]\n",
       "Formula: \n",
       "as.formula(paste(\"life_satisfaction_t2 ~\", fixed_params, \"+ (1|dorm)\"))\n",
       "   Data: df\n",
       "\n",
       "REML criterion at convergence: 1122.9\n",
       "\n",
       "Scaled residuals: \n",
       "    Min      1Q  Median      3Q     Max \n",
       "-3.3146 -0.5752  0.0819  0.6234  3.8473 \n",
       "\n",
       "Random effects:\n",
       " Groups   Name        Variance Std.Dev.\n",
       " dorm     (Intercept) 0.0000   0.0000  \n",
       " Residual             0.6308   0.7942  \n",
       "Number of obs: 446, groups:  dorm, 21\n",
       "\n",
       "Fixed effects:\n",
       "                                             Estimate Std. Error         df\n",
       "(Intercept)                                  0.672343   0.812691 420.000000\n",
       "life_satisfaction_t1                         0.666423   0.043067 420.000000\n",
       "loneliness_t1                               -0.154953   0.088115 420.000000\n",
       "stress_t1                                   -0.188604   0.093090 420.000000\n",
       "edges_in                                     0.034702   0.014679 420.000000\n",
       "edges_out                                    0.018156   0.009017 420.000000\n",
       "C(gender)male                               -0.054915   0.085776 420.000000\n",
       "C(gender)other                               0.268078   0.585025 420.000000\n",
       "C(race)east_asian                            0.204444   0.137423 420.000000\n",
       "C(race)hispanic                              0.238012   0.152291 420.000000\n",
       "C(race)other_or_mixed                        0.227148   0.156156 420.000000\n",
       "C(race)south_asian                           0.297809   0.162188 420.000000\n",
       "C(race)white                                 0.221972   0.136603 420.000000\n",
       "empathy                                     -0.060284   0.067483 420.000000\n",
       "BFI_E                                        0.007675   0.029749 420.000000\n",
       "BFI_O                                       -0.003411   0.041523 420.000000\n",
       "BFI_C                                        0.067668   0.035624 420.000000\n",
       "BFI_A                                       -0.013648   0.041201 420.000000\n",
       "BFI_N                                       -0.024207   0.038983 420.000000\n",
       "intl_student                                -0.018804   0.123296 420.000000\n",
       "parent_education_highest1_ hs               -0.275814   0.185822 420.000000\n",
       "parent_education_highest2_college_twoyear   -0.303741   0.257368 420.000000\n",
       "parent_education_highest3_college_fouryear  -0.350433   0.192870 420.000000\n",
       "parent_education_highest4_masters           -0.323623   0.190639 420.000000\n",
       "parent_education_highest5_advanced          -0.260133   0.195937 420.000000\n",
       "log10(family_income)                         0.286577   0.135242 420.000000\n",
       "                                           t value Pr(>|t|)    \n",
       "(Intercept)                                  0.827   0.4085    \n",
       "life_satisfaction_t1                        15.474   <2e-16 ***\n",
       "loneliness_t1                               -1.759   0.0794 .  \n",
       "stress_t1                                   -2.026   0.0434 *  \n",
       "edges_in                                     2.364   0.0185 *  \n",
       "edges_out                                    2.013   0.0447 *  \n",
       "C(gender)male                               -0.640   0.5224    \n",
       "C(gender)other                               0.458   0.6470    \n",
       "C(race)east_asian                            1.488   0.1376    \n",
       "C(race)hispanic                              1.563   0.1188    \n",
       "C(race)other_or_mixed                        1.455   0.1465    \n",
       "C(race)south_asian                           1.836   0.0670 .  \n",
       "C(race)white                                 1.625   0.1049    \n",
       "empathy                                     -0.893   0.3722    \n",
       "BFI_E                                        0.258   0.7965    \n",
       "BFI_O                                       -0.082   0.9346    \n",
       "BFI_C                                        1.899   0.0582 .  \n",
       "BFI_A                                       -0.331   0.7406    \n",
       "BFI_N                                       -0.621   0.5349    \n",
       "intl_student                                -0.153   0.8789    \n",
       "parent_education_highest1_ hs               -1.484   0.1385    \n",
       "parent_education_highest2_college_twoyear   -1.180   0.2386    \n",
       "parent_education_highest3_college_fouryear  -1.817   0.0699 .  \n",
       "parent_education_highest4_masters           -1.698   0.0903 .  \n",
       "parent_education_highest5_advanced          -1.328   0.1850    \n",
       "log10(family_income)                         2.119   0.0347 *  \n",
       "---\n",
       "Signif. codes:  0 ‘***’ 0.001 ‘**’ 0.01 ‘*’ 0.05 ‘.’ 0.1 ‘ ’ 1\n",
       "convergence code: 0\n",
       "boundary (singular) fit: see ?isSingular\n"
      ]
     },
     "metadata": {},
     "output_type": "display_data"
    }
   ],
   "source": [
    "mixed_model_ls = lmer(as.formula(paste('life_satisfaction_t2 ~', fixed_params, \"+ (1|dorm)\")), df)\n",
    "summary(mixed_model_ls)"
   ]
  },
  {
   "cell_type": "markdown",
   "metadata": {},
   "source": [
    "### Try again, with some dorm-level covariates"
   ]
  },
  {
   "cell_type": "code",
   "execution_count": 30,
   "metadata": {},
   "outputs": [
    {
     "name": "stderr",
     "output_type": "stream",
     "text": [
      "boundary (singular) fit: see ?isSingular\n",
      "\n",
      "\n",
      "Correlation matrix not shown by default, as p = 26 > 12.\n",
      "Use print(obj, correlation=TRUE)  or\n",
      "    vcov(obj)        if you need it\n",
      "\n",
      "\n"
     ]
    },
    {
     "data": {
      "text/plain": [
       "Linear mixed model fit by REML. t-tests use Satterthwaite's method [\n",
       "lmerModLmerTest]\n",
       "Formula: \n",
       "as.formula(paste(\"life_satisfaction_t2 ~\", fixed_params, \"+ (1 + BFI_E + life_satisfaction_t1|dorm)\"))\n",
       "   Data: df\n",
       "\n",
       "REML criterion at convergence: 1122.9\n",
       "\n",
       "Scaled residuals: \n",
       "    Min      1Q  Median      3Q     Max \n",
       "-3.3146 -0.5752  0.0819  0.6234  3.8471 \n",
       "\n",
       "Random effects:\n",
       " Groups   Name                 Variance  Std.Dev.  Corr       \n",
       " dorm     (Intercept)          6.787e-05 0.0082384            \n",
       "          BFI_E                1.113e-07 0.0003336  0.98      \n",
       "          life_satisfaction_t1 3.975e-06 0.0019937 -1.00 -0.99\n",
       " Residual                      6.308e-01 0.7942092            \n",
       "Number of obs: 446, groups:  dorm, 21\n",
       "\n",
       "Fixed effects:\n",
       "                                             Estimate Std. Error         df\n",
       "(Intercept)                                  0.672278   0.812692 419.958050\n",
       "life_satisfaction_t1                         0.666424   0.043069 378.015380\n",
       "loneliness_t1                               -0.154953   0.088115 419.998037\n",
       "stress_t1                                   -0.188603   0.093090 419.988877\n",
       "edges_in                                     0.034703   0.014679 419.982604\n",
       "edges_out                                    0.018156   0.009017 419.976857\n",
       "C(gender)male                               -0.054916   0.085776 419.993491\n",
       "C(gender)other                               0.268117   0.585027 419.832586\n",
       "C(race)east_asian                            0.204445   0.137423 419.989979\n",
       "C(race)hispanic                              0.238016   0.152291 419.932589\n",
       "C(race)other_or_mixed                        0.227150   0.156156 419.973440\n",
       "C(race)south_asian                           0.297809   0.162188 419.991138\n",
       "C(race)white                                 0.221981   0.136603 419.995276\n",
       "empathy                                     -0.060280   0.067483 419.998600\n",
       "BFI_E                                        0.007675   0.029749 419.060799\n",
       "BFI_O                                       -0.003411   0.041523 419.982968\n",
       "BFI_C                                        0.067668   0.035624 419.962944\n",
       "BFI_A                                       -0.013648   0.041201 419.966241\n",
       "BFI_N                                       -0.024207   0.038983 419.992063\n",
       "intl_student                                -0.018797   0.123296 419.942976\n",
       "parent_education_highest1_ hs               -0.275801   0.185822 419.976945\n",
       "parent_education_highest2_college_twoyear   -0.303733   0.257369 419.866924\n",
       "parent_education_highest3_college_fouryear  -0.350424   0.192870 419.993725\n",
       "parent_education_highest4_masters           -0.323624   0.190639 419.996612\n",
       "parent_education_highest5_advanced          -0.260129   0.195937 419.973455\n",
       "log10(family_income)                         0.286580   0.135242 419.996988\n",
       "                                           t value Pr(>|t|)    \n",
       "(Intercept)                                  0.827   0.4086    \n",
       "life_satisfaction_t1                        15.473   <2e-16 ***\n",
       "loneliness_t1                               -1.759   0.0794 .  \n",
       "stress_t1                                   -2.026   0.0434 *  \n",
       "edges_in                                     2.364   0.0185 *  \n",
       "edges_out                                    2.014   0.0447 *  \n",
       "C(gender)male                               -0.640   0.5224    \n",
       "C(gender)other                               0.458   0.6470    \n",
       "C(race)east_asian                            1.488   0.1376    \n",
       "C(race)hispanic                              1.563   0.1188    \n",
       "C(race)other_or_mixed                        1.455   0.1465    \n",
       "C(race)south_asian                           1.836   0.0670 .  \n",
       "C(race)white                                 1.625   0.1049    \n",
       "empathy                                     -0.893   0.3722    \n",
       "BFI_E                                        0.258   0.7965    \n",
       "BFI_O                                       -0.082   0.9346    \n",
       "BFI_C                                        1.899   0.0582 .  \n",
       "BFI_A                                       -0.331   0.7406    \n",
       "BFI_N                                       -0.621   0.5350    \n",
       "intl_student                                -0.152   0.8789    \n",
       "parent_education_highest1_ hs               -1.484   0.1385    \n",
       "parent_education_highest2_college_twoyear   -1.180   0.2386    \n",
       "parent_education_highest3_college_fouryear  -1.817   0.0699 .  \n",
       "parent_education_highest4_masters           -1.698   0.0903 .  \n",
       "parent_education_highest5_advanced          -1.328   0.1850    \n",
       "log10(family_income)                         2.119   0.0347 *  \n",
       "---\n",
       "Signif. codes:  0 ‘***’ 0.001 ‘**’ 0.01 ‘*’ 0.05 ‘.’ 0.1 ‘ ’ 1\n",
       "convergence code: 0\n",
       "boundary (singular) fit: see ?isSingular\n"
      ]
     },
     "metadata": {},
     "output_type": "display_data"
    }
   ],
   "source": [
    "mixed_model_ls_with_l2_covariates = lmer(as.formula(paste(\n",
    "    'life_satisfaction_t2 ~', fixed_params,\n",
    "    \"+ (1 + BFI_E + life_satisfaction_t1|dorm)\")),\n",
    "    df)\n",
    "summary(mixed_model_ls_with_l2_covariates)"
   ]
  },
  {
   "cell_type": "code",
   "execution_count": 31,
   "metadata": {},
   "outputs": [
    {
     "data": {
      "text/html": [
       "<table>\n",
       "<caption>A anova: 2 × 8</caption>\n",
       "<thead>\n",
       "\t<tr><th></th><th scope=col>Df</th><th scope=col>AIC</th><th scope=col>BIC</th><th scope=col>logLik</th><th scope=col>deviance</th><th scope=col>Chisq</th><th scope=col>Chi Df</th><th scope=col>Pr(&gt;Chisq)</th></tr>\n",
       "\t<tr><th></th><th scope=col>&lt;dbl&gt;</th><th scope=col>&lt;dbl&gt;</th><th scope=col>&lt;dbl&gt;</th><th scope=col>&lt;dbl&gt;</th><th scope=col>&lt;dbl&gt;</th><th scope=col>&lt;dbl&gt;</th><th scope=col>&lt;dbl&gt;</th><th scope=col>&lt;dbl&gt;</th></tr>\n",
       "</thead>\n",
       "<tbody>\n",
       "\t<tr><th scope=row>mixed_model_ls</th><td>28</td><td>1178.874</td><td>1293.683</td><td>-561.4369</td><td>1122.874</td><td>NA</td><td>NA</td><td>NA</td></tr>\n",
       "\t<tr><th scope=row>mixed_model_ls_with_l2_covariates</th><td>33</td><td>1188.874</td><td>1324.184</td><td>-561.4369</td><td>1122.874</td><td> 0</td><td> 5</td><td> 1</td></tr>\n",
       "</tbody>\n",
       "</table>\n"
      ],
      "text/latex": [
       "A anova: 2 × 8\n",
       "\\begin{tabular}{r|llllllll}\n",
       "  & Df & AIC & BIC & logLik & deviance & Chisq & Chi Df & Pr(>Chisq)\\\\\n",
       "  & <dbl> & <dbl> & <dbl> & <dbl> & <dbl> & <dbl> & <dbl> & <dbl>\\\\\n",
       "\\hline\n",
       "\tmixed\\_model\\_ls & 28 & 1178.874 & 1293.683 & -561.4369 & 1122.874 & NA & NA & NA\\\\\n",
       "\tmixed\\_model\\_ls\\_with\\_l2\\_covariates & 33 & 1188.874 & 1324.184 & -561.4369 & 1122.874 &  0 &  5 &  1\\\\\n",
       "\\end{tabular}\n"
      ],
      "text/markdown": [
       "\n",
       "A anova: 2 × 8\n",
       "\n",
       "| <!--/--> | Df &lt;dbl&gt; | AIC &lt;dbl&gt; | BIC &lt;dbl&gt; | logLik &lt;dbl&gt; | deviance &lt;dbl&gt; | Chisq &lt;dbl&gt; | Chi Df &lt;dbl&gt; | Pr(&gt;Chisq) &lt;dbl&gt; |\n",
       "|---|---|---|---|---|---|---|---|---|\n",
       "| mixed_model_ls | 28 | 1178.874 | 1293.683 | -561.4369 | 1122.874 | NA | NA | NA |\n",
       "| mixed_model_ls_with_l2_covariates | 33 | 1188.874 | 1324.184 | -561.4369 | 1122.874 |  0 |  5 |  1 |\n",
       "\n"
      ],
      "text/plain": [
       "                                  Df AIC      BIC      logLik    deviance Chisq\n",
       "mixed_model_ls                    28 1178.874 1293.683 -561.4369 1122.874 NA   \n",
       "mixed_model_ls_with_l2_covariates 33 1188.874 1324.184 -561.4369 1122.874  0   \n",
       "                                  Chi Df Pr(>Chisq)\n",
       "mixed_model_ls                    NA     NA        \n",
       "mixed_model_ls_with_l2_covariates  5      1        "
      ]
     },
     "metadata": {},
     "output_type": "display_data"
    }
   ],
   "source": [
    "anova(mixed_model_ls, mixed_model_ls_with_l2_covariates, refit=FALSE)"
   ]
  },
  {
   "cell_type": "markdown",
   "metadata": {},
   "source": [
    "## Add fixed effects for network (traits of people connected to the individual via nominations)"
   ]
  },
  {
   "cell_type": "code",
   "execution_count": 32,
   "metadata": {},
   "outputs": [
    {
     "data": {
      "text/plain": [
       "\n",
       "Call:\n",
       "lm(formula = paste(\"life_satisfaction_t2 ~ \", fixed_params, \"\\n                            network_life_satisfaction_t1 + network_loneliness_t1 + network_stress_t1 +\\n                            network_empathy +\\n                            network_BFI_E + network_BFI_O + network_BFI_C + network_BFI_A + network_BFI_N +\\n                            network_intl_student + log10(network_family_income)\"), \n",
       "    data = df)\n",
       "\n",
       "Residuals:\n",
       "     Min       1Q   Median       3Q      Max \n",
       "-2.63253 -0.45686  0.06504  0.49513  3.05554 \n",
       "\n",
       "Coefficients:\n",
       "                                            Estimate Std. Error t value\n",
       "(Intercept)                                 0.672343   0.812691   0.827\n",
       "life_satisfaction_t1                        0.666423   0.043067  15.474\n",
       "loneliness_t1                              -0.154953   0.088115  -1.759\n",
       "stress_t1                                  -0.188604   0.093090  -2.026\n",
       "edges_in                                    0.034702   0.014679   2.364\n",
       "edges_out                                   0.018156   0.009017   2.013\n",
       "C(gender)male                              -0.054915   0.085776  -0.640\n",
       "C(gender)other                              0.268078   0.585025   0.458\n",
       "C(race)east_asian                           0.204444   0.137423   1.488\n",
       "C(race)hispanic                             0.238012   0.152291   1.563\n",
       "C(race)other_or_mixed                       0.227148   0.156156   1.455\n",
       "C(race)south_asian                          0.297809   0.162188   1.836\n",
       "C(race)white                                0.221972   0.136603   1.625\n",
       "empathy                                    -0.060284   0.067483  -0.893\n",
       "BFI_E                                       0.007675   0.029749   0.258\n",
       "BFI_O                                      -0.003411   0.041523  -0.082\n",
       "BFI_C                                       0.067668   0.035624   1.899\n",
       "BFI_A                                      -0.013648   0.041201  -0.331\n",
       "BFI_N                                      -0.024207   0.038983  -0.621\n",
       "intl_student                               -0.018804   0.123296  -0.153\n",
       "parent_education_highest1_ hs              -0.275814   0.185822  -1.484\n",
       "parent_education_highest2_college_twoyear  -0.303741   0.257368  -1.180\n",
       "parent_education_highest3_college_fouryear -0.350433   0.192870  -1.817\n",
       "parent_education_highest4_masters          -0.323623   0.190639  -1.698\n",
       "parent_education_highest5_advanced         -0.260133   0.195937  -1.328\n",
       "log10(family_income)                        0.286577   0.135242   2.119\n",
       "                                           Pr(>|t|)    \n",
       "(Intercept)                                  0.4085    \n",
       "life_satisfaction_t1                         <2e-16 ***\n",
       "loneliness_t1                                0.0794 .  \n",
       "stress_t1                                    0.0434 *  \n",
       "edges_in                                     0.0185 *  \n",
       "edges_out                                    0.0447 *  \n",
       "C(gender)male                                0.5224    \n",
       "C(gender)other                               0.6470    \n",
       "C(race)east_asian                            0.1376    \n",
       "C(race)hispanic                              0.1188    \n",
       "C(race)other_or_mixed                        0.1465    \n",
       "C(race)south_asian                           0.0670 .  \n",
       "C(race)white                                 0.1049    \n",
       "empathy                                      0.3722    \n",
       "BFI_E                                        0.7965    \n",
       "BFI_O                                        0.9346    \n",
       "BFI_C                                        0.0582 .  \n",
       "BFI_A                                        0.7406    \n",
       "BFI_N                                        0.5349    \n",
       "intl_student                                 0.8789    \n",
       "parent_education_highest1_ hs                0.1385    \n",
       "parent_education_highest2_college_twoyear    0.2386    \n",
       "parent_education_highest3_college_fouryear   0.0699 .  \n",
       "parent_education_highest4_masters            0.0903 .  \n",
       "parent_education_highest5_advanced           0.1850    \n",
       "log10(family_income)                         0.0347 *  \n",
       "---\n",
       "Signif. codes:  0 ‘***’ 0.001 ‘**’ 0.01 ‘*’ 0.05 ‘.’ 0.1 ‘ ’ 1\n",
       "\n",
       "Residual standard error: 0.7942 on 420 degrees of freedom\n",
       "Multiple R-squared:  0.5913,\tAdjusted R-squared:  0.567 \n",
       "F-statistic: 24.31 on 25 and 420 DF,  p-value: < 2.2e-16\n"
      ]
     },
     "metadata": {},
     "output_type": "display_data"
    }
   ],
   "source": [
    "network_model_ls = lm(paste(\"life_satisfaction_t2 ~ \", fixed_params, \"\n",
    "                            network_life_satisfaction_t1 + network_loneliness_t1 + network_stress_t1 +\n",
    "                            network_empathy +\n",
    "                            network_BFI_E + network_BFI_O + network_BFI_C + network_BFI_A + network_BFI_N +\n",
    "                            network_intl_student + log10(network_family_income)\"),\n",
    "                          df)\n",
    "summary(network_model_ls)"
   ]
  },
  {
   "cell_type": "code",
   "execution_count": 33,
   "metadata": {},
   "outputs": [
    {
     "data": {
      "text/html": [
       "<table>\n",
       "<caption>A anova: 2 × 6</caption>\n",
       "<thead>\n",
       "\t<tr><th></th><th scope=col>Res.Df</th><th scope=col>RSS</th><th scope=col>Df</th><th scope=col>Sum of Sq</th><th scope=col>F</th><th scope=col>Pr(&gt;F)</th></tr>\n",
       "\t<tr><th></th><th scope=col>&lt;dbl&gt;</th><th scope=col>&lt;dbl&gt;</th><th scope=col>&lt;dbl&gt;</th><th scope=col>&lt;dbl&gt;</th><th scope=col>&lt;dbl&gt;</th><th scope=col>&lt;dbl&gt;</th></tr>\n",
       "</thead>\n",
       "<tbody>\n",
       "\t<tr><th scope=row>1</th><td>440</td><td>278.1352</td><td>NA</td><td>     NA</td><td>      NA</td><td>       NA</td></tr>\n",
       "\t<tr><th scope=row>2</th><td>420</td><td>264.9246</td><td>20</td><td>13.2106</td><td>1.047176</td><td>0.4046776</td></tr>\n",
       "</tbody>\n",
       "</table>\n"
      ],
      "text/latex": [
       "A anova: 2 × 6\n",
       "\\begin{tabular}{r|llllll}\n",
       "  & Res.Df & RSS & Df & Sum of Sq & F & Pr(>F)\\\\\n",
       "  & <dbl> & <dbl> & <dbl> & <dbl> & <dbl> & <dbl>\\\\\n",
       "\\hline\n",
       "\t1 & 440 & 278.1352 & NA &      NA &       NA &        NA\\\\\n",
       "\t2 & 420 & 264.9246 & 20 & 13.2106 & 1.047176 & 0.4046776\\\\\n",
       "\\end{tabular}\n"
      ],
      "text/markdown": [
       "\n",
       "A anova: 2 × 6\n",
       "\n",
       "| <!--/--> | Res.Df &lt;dbl&gt; | RSS &lt;dbl&gt; | Df &lt;dbl&gt; | Sum of Sq &lt;dbl&gt; | F &lt;dbl&gt; | Pr(&gt;F) &lt;dbl&gt; |\n",
       "|---|---|---|---|---|---|---|\n",
       "| 1 | 440 | 278.1352 | NA |      NA |       NA |        NA |\n",
       "| 2 | 420 | 264.9246 | 20 | 13.2106 | 1.047176 | 0.4046776 |\n",
       "\n"
      ],
      "text/plain": [
       "  Res.Df RSS      Df Sum of Sq F        Pr(>F)   \n",
       "1 440    278.1352 NA      NA         NA        NA\n",
       "2 420    264.9246 20 13.2106   1.047176 0.4046776"
      ]
     },
     "metadata": {},
     "output_type": "display_data"
    }
   ],
   "source": [
    "anova(fixed_model_ls_inout, network_model_ls)"
   ]
  },
  {
   "cell_type": "code",
   "execution_count": 34,
   "metadata": {},
   "outputs": [
    {
     "name": "stdout",
     "output_type": "stream",
     "text": [
      "[1] \"Before: 0.566041213494675\"\n",
      "[1] \"After: 0.566969791289822\"\n",
      "[1] \"Partial r² (adjusted): 0.00213978337119229\"\n"
     ]
    }
   ],
   "source": [
    "r1 = summary(fixed_model_ls_inout)$adj.r.squared\n",
    "r2 = summary(network_model_ls)$adj.r.squared\n",
    "print(paste(\"Before:\", r1))\n",
    "print(paste(\"After:\", r2))\n",
    "print(paste(\"Partial r² (adjusted):\", (r2 - r1) / (1 - r1)))"
   ]
  },
  {
   "cell_type": "code",
   "execution_count": 35,
   "metadata": {},
   "outputs": [
    {
     "data": {
      "text/plain": [
       "\n",
       "Call:\n",
       "lm(formula = life_satisfaction_t2 ~ life_satisfaction_t1 + loneliness_t1 + \n",
       "    stress_t1 + edges_in + edges_out + log10(family_income) + \n",
       "    log10(network_family_income), data = df)\n",
       "\n",
       "Residuals:\n",
       "    Min      1Q  Median      3Q     Max \n",
       "-2.6944 -0.4596  0.0597  0.4998  2.9867 \n",
       "\n",
       "Coefficients:\n",
       "                              Estimate Std. Error t value Pr(>|t|)    \n",
       "(Intercept)                  -0.851897   0.895415  -0.951  0.34193    \n",
       "life_satisfaction_t1          0.674378   0.039948  16.881  < 2e-16 ***\n",
       "loneliness_t1                -0.134706   0.081273  -1.657  0.09815 .  \n",
       "stress_t1                    -0.216289   0.076090  -2.843  0.00468 ** \n",
       "edges_in                      0.031784   0.013704   2.319  0.02084 *  \n",
       "edges_out                     0.016710   0.008862   1.886  0.06002 .  \n",
       "log10(family_income)          0.171151   0.104228   1.642  0.10129    \n",
       "log10(network_family_income)  0.374625   0.171435   2.185  0.02940 *  \n",
       "---\n",
       "Signif. codes:  0 ‘***’ 0.001 ‘**’ 0.01 ‘*’ 0.05 ‘.’ 0.1 ‘ ’ 1\n",
       "\n",
       "Residual standard error: 0.7872 on 438 degrees of freedom\n",
       "Multiple R-squared:  0.5813,\tAdjusted R-squared:  0.5746 \n",
       "F-statistic: 86.87 on 7 and 438 DF,  p-value: < 2.2e-16\n"
      ]
     },
     "metadata": {},
     "output_type": "display_data"
    }
   ],
   "source": [
    "network_model_ls = lm(life_satisfaction_t2 ~ life_satisfaction_t1 +\n",
    "                          loneliness_t1 + stress_t1 + edges_in + edges_out +\n",
    "                            log10(family_income) + log10(network_family_income),\n",
    "                          df)\n",
    "summary(network_model_ls)"
   ]
  },
  {
   "cell_type": "code",
   "execution_count": 42,
   "metadata": {},
   "outputs": [
    {
     "data": {
      "text/html": [
       "<table>\n",
       "<caption>A anova: 2 × 6</caption>\n",
       "<thead>\n",
       "\t<tr><th></th><th scope=col>Res.Df</th><th scope=col>RSS</th><th scope=col>Df</th><th scope=col>Sum of Sq</th><th scope=col>F</th><th scope=col>Pr(&gt;F)</th></tr>\n",
       "\t<tr><th></th><th scope=col>&lt;dbl&gt;</th><th scope=col>&lt;dbl&gt;</th><th scope=col>&lt;dbl&gt;</th><th scope=col>&lt;dbl&gt;</th><th scope=col>&lt;dbl&gt;</th><th scope=col>&lt;dbl&gt;</th></tr>\n",
       "</thead>\n",
       "<tbody>\n",
       "\t<tr><th scope=row>1</th><td>444</td><td>294.0296</td><td>NA</td><td>      NA</td><td>      NA</td><td>          NA</td></tr>\n",
       "\t<tr><th scope=row>2</th><td>438</td><td>271.4094</td><td> 6</td><td>22.62021</td><td>6.084077</td><td>3.903688e-06</td></tr>\n",
       "</tbody>\n",
       "</table>\n"
      ],
      "text/latex": [
       "A anova: 2 × 6\n",
       "\\begin{tabular}{r|llllll}\n",
       "  & Res.Df & RSS & Df & Sum of Sq & F & Pr(>F)\\\\\n",
       "  & <dbl> & <dbl> & <dbl> & <dbl> & <dbl> & <dbl>\\\\\n",
       "\\hline\n",
       "\t1 & 444 & 294.0296 & NA &       NA &       NA &           NA\\\\\n",
       "\t2 & 438 & 271.4094 &  6 & 22.62021 & 6.084077 & 3.903688e-06\\\\\n",
       "\\end{tabular}\n"
      ],
      "text/markdown": [
       "\n",
       "A anova: 2 × 6\n",
       "\n",
       "| <!--/--> | Res.Df &lt;dbl&gt; | RSS &lt;dbl&gt; | Df &lt;dbl&gt; | Sum of Sq &lt;dbl&gt; | F &lt;dbl&gt; | Pr(&gt;F) &lt;dbl&gt; |\n",
       "|---|---|---|---|---|---|---|\n",
       "| 1 | 444 | 294.0296 | NA |       NA |       NA |           NA |\n",
       "| 2 | 438 | 271.4094 |  6 | 22.62021 | 6.084077 | 3.903688e-06 |\n",
       "\n"
      ],
      "text/plain": [
       "  Res.Df RSS      Df Sum of Sq F        Pr(>F)      \n",
       "1 444    294.0296 NA       NA        NA           NA\n",
       "2 438    271.4094  6 22.62021  6.084077 3.903688e-06"
      ]
     },
     "metadata": {},
     "output_type": "display_data"
    }
   ],
   "source": [
    "anova(base_model_ls_only, network_model_ls)"
   ]
  },
  {
   "cell_type": "code",
   "execution_count": 41,
   "metadata": {},
   "outputs": [
    {
     "name": "stdout",
     "output_type": "stream",
     "text": [
      "[1] \"Before: 0.545375011452107\"\n",
      "[1] \"After: 0.574601483104008\"\n",
      "[1] \"Partial r² (adjusted): 0.0642869890307892\"\n"
     ]
    }
   ],
   "source": [
    "r1 = summary(base_model_ls_only)$adj.r.squared\n",
    "r2 = summary(network_model_ls)$adj.r.squared\n",
    "print(paste(\"Before:\", r1))\n",
    "print(paste(\"After:\", r2))\n",
    "print(paste(\"Partial r² (adjusted):\", (r2 - r1) / (1 - r1)))"
   ]
  },
  {
   "cell_type": "code",
   "execution_count": null,
   "metadata": {},
   "outputs": [],
   "source": []
  }
 ],
 "metadata": {
  "kernelspec": {
   "display_name": "R",
   "language": "R",
   "name": "ir"
  },
  "language_info": {
   "codemirror_mode": "r",
   "file_extension": ".r",
   "mimetype": "text/x-r-source",
   "name": "R",
   "pygments_lexer": "r",
   "version": "3.6.2"
  },
  "toc": {
   "base_numbering": 1,
   "nav_menu": {},
   "number_sections": true,
   "sideBar": true,
   "skip_h1_title": true,
   "title_cell": "Table of Contents",
   "title_sidebar": "Contents",
   "toc_cell": true,
   "toc_position": {},
   "toc_section_display": true,
   "toc_window_display": true
  }
 },
 "nbformat": 4,
 "nbformat_minor": 2
}

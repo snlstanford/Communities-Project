{
 "cells": [
  {
   "cell_type": "markdown",
   "metadata": {},
   "source": [
    "# Does dorm matter for well-being?\n",
    "\n",
    "A: Probably not.\n",
    "\n",
    "We fit a range of models to predict student's t2 (fall) well-being (measured in week 4 of the semester).\n",
    "\n",
    "Life satisfaction:\n",
    "\n",
    "Overall, their reported life satisfaction at t1 (measured in week 0, before the semester began) explained most of the variance in t2 life satisfaction (approx 55%), with trace amounts of additional variance explainable by additional variables (approx 3% more). The few variables that remained significant contributors to the model, above and beyond t1 life satisfaction, were: stress at t1, loneliness at t1, and number of network nominations (in and out) at t2. All were in the intuitive directions but very small in size. No traits of the person's network were significant.\n",
    "\n",
    "Mixed-effects models showed that *none* of the residual variance in life satisfaction could be attributed to membership in particular dorms.\n",
    "\n",
    "Loneliness:\n",
    "\n",
    "Similar results to above, only t1 loneliness could only explain some 26% of t2 loneliness. However, additional variables still only explained about 3% more of the variance.\n",
    "\n",
    "Stress:\n",
    "\n",
    "A bit better. t1 stress can explain some 21% of variance in t2 stress, but additional predictors can explain another 7%. The in and out degrees didn't seem to matter, amazingly, but being female was associated with higher stress, as was high neuroticism (which is associated with being female). Dorm and network variables were still non-significant."
   ]
  },
  {
   "cell_type": "markdown",
   "metadata": {
    "toc": true
   },
   "source": [
    "<h1>Table of Contents<span class=\"tocSkip\"></span></h1>\n",
    "<div class=\"toc\"><ul class=\"toc-item\"><li><span><a href=\"#Configuration\" data-toc-modified-id=\"Configuration-1\"><span class=\"toc-item-num\">1&nbsp;&nbsp;</span>Configuration</a></span></li><li><span><a href=\"#Libraries\" data-toc-modified-id=\"Libraries-2\"><span class=\"toc-item-num\">2&nbsp;&nbsp;</span>Libraries</a></span></li><li><span><a href=\"#Cleaning---drop-rows-we-don't-want\" data-toc-modified-id=\"Cleaning---drop-rows-we-don't-want-3\"><span class=\"toc-item-num\">3&nbsp;&nbsp;</span>Cleaning - drop rows we don't want</a></span><ul class=\"toc-item\"><li><span><a href=\"#Drop-people-who-made-no-network-nominations\" data-toc-modified-id=\"Drop-people-who-made-no-network-nominations-3.1\"><span class=\"toc-item-num\">3.1&nbsp;&nbsp;</span>Drop people who made no network nominations</a></span></li><li><span><a href=\"#Drop-people-with-fewer-than-3-network-connections-(in-or-out)-as-we-don't-trust-the-averages-of-their-network's-traits\" data-toc-modified-id=\"Drop-people-with-fewer-than-3-network-connections-(in-or-out)-as-we-don't-trust-the-averages-of-their-network's-traits-3.2\"><span class=\"toc-item-num\">3.2&nbsp;&nbsp;</span>Drop people with fewer than 3 network connections (in or out) as we don't trust the averages of their network's traits</a></span></li><li><span><a href=\"#Drop-the-rows-with-missing-values-(~20%)\" data-toc-modified-id=\"Drop-the-rows-with-missing-values-(~20%)-3.3\"><span class=\"toc-item-num\">3.3&nbsp;&nbsp;</span>Drop the rows with missing values (~20%)</a></span></li></ul></li><li><span><a href=\"#Model\" data-toc-modified-id=\"Model-4\"><span class=\"toc-item-num\">4&nbsp;&nbsp;</span>Model</a></span><ul class=\"toc-item\"><li><span><a href=\"#Base-models---predict-well-being-at-t1-from-well-being-at-t1\" data-toc-modified-id=\"Base-models---predict-well-being-at-t1-from-well-being-at-t1-4.1\"><span class=\"toc-item-num\">4.1&nbsp;&nbsp;</span>Base models - predict well-being at t1 from well-being at t1</a></span></li><li><span><a href=\"#Fixed-effects-models:-predict-WB-at-t2-from-WB-and-other-personal-factors-at-t1\" data-toc-modified-id=\"Fixed-effects-models:-predict-WB-at-t2-from-WB-and-other-personal-factors-at-t1-4.2\"><span class=\"toc-item-num\">4.2&nbsp;&nbsp;</span>Fixed-effects models: predict WB at t2 from WB and other personal factors at t1</a></span></li><li><span><a href=\"#Lets-reduce-our-fixed-effects-model-to-only-wellbeing-and-in/out-degree-measures\" data-toc-modified-id=\"Lets-reduce-our-fixed-effects-model-to-only-wellbeing-and-in/out-degree-measures-4.3\"><span class=\"toc-item-num\">4.3&nbsp;&nbsp;</span>Lets reduce our fixed effects model to only wellbeing and in/out degree measures</a></span></li><li><span><a href=\"#Examine-residuals-by-dorm.-If-there-is-a-sigificant-dorm-wide-effect,-we-should-see-some-clear-boxes-that-are-above-and-below-zero.-(Spoiler-alert:-we-don't)\" data-toc-modified-id=\"Examine-residuals-by-dorm.-If-there-is-a-sigificant-dorm-wide-effect,-we-should-see-some-clear-boxes-that-are-above-and-below-zero.-(Spoiler-alert:-we-don't)-4.4\"><span class=\"toc-item-num\">4.4&nbsp;&nbsp;</span>Examine residuals by dorm. If there is a sigificant dorm-wide effect, we should see some clear boxes that are above and below zero. (Spoiler alert: we don't)</a></span></li></ul></li><li><span><a href=\"#Add-random-effect-for-dorm,-see-if-significant-variance-is-attributable-to-dorm-membership\" data-toc-modified-id=\"Add-random-effect-for-dorm,-see-if-significant-variance-is-attributable-to-dorm-membership-5\"><span class=\"toc-item-num\">5&nbsp;&nbsp;</span>Add random effect for dorm, see if significant variance is attributable to dorm membership</a></span><ul class=\"toc-item\"><li><span><a href=\"#Try-again,-with-some-dorm-level-covariates\" data-toc-modified-id=\"Try-again,-with-some-dorm-level-covariates-5.1\"><span class=\"toc-item-num\">5.1&nbsp;&nbsp;</span>Try again, with some dorm-level covariates</a></span></li></ul></li><li><span><a href=\"#Fixed-effects-model,-including-network-features-(average-traits-of-people-connected-to-the-individual-via-nominations)\" data-toc-modified-id=\"Fixed-effects-model,-including-network-features-(average-traits-of-people-connected-to-the-individual-via-nominations)-6\"><span class=\"toc-item-num\">6&nbsp;&nbsp;</span>Fixed effects model, including network features (average traits of people connected to the individual via nominations)</a></span></li></ul></div>"
   ]
  },
  {
   "cell_type": "markdown",
   "metadata": {},
   "source": [
    "## Configuration"
   ]
  },
  {
   "cell_type": "code",
   "execution_count": 1,
   "metadata": {},
   "outputs": [
    {
     "data": {
      "text/html": [
       "<ol class=list-inline>\n",
       "\t<li>'life_satisfaction'</li>\n",
       "\t<li>'life_satisfaction_t1'</li>\n",
       "\t<li>'life_satisfaction_t2'</li>\n",
       "</ol>\n"
      ],
      "text/latex": [
       "\\begin{enumerate*}\n",
       "\\item 'life\\_satisfaction'\n",
       "\\item 'life\\_satisfaction\\_t1'\n",
       "\\item 'life\\_satisfaction\\_t2'\n",
       "\\end{enumerate*}\n"
      ],
      "text/markdown": [
       "1. 'life_satisfaction'\n",
       "2. 'life_satisfaction_t1'\n",
       "3. 'life_satisfaction_t2'\n",
       "\n",
       "\n"
      ],
      "text/plain": [
       "[1] \"life_satisfaction\"    \"life_satisfaction_t1\" \"life_satisfaction_t2\""
      ]
     },
     "metadata": {},
     "output_type": "display_data"
    }
   ],
   "source": [
    "DV = 'life_satisfaction'\n",
    "# DV = 'stress'\n",
    "# DV = 'loneliness'\n",
    "\n",
    "DV_t1 = paste(DV, 't1', sep='_')\n",
    "DV_t2 = paste(DV, 't2', sep='_')\n",
    "c(DV, DV_t1, DV_t2)"
   ]
  },
  {
   "cell_type": "markdown",
   "metadata": {},
   "source": [
    "## Libraries"
   ]
  },
  {
   "cell_type": "code",
   "execution_count": 2,
   "metadata": {},
   "outputs": [
    {
     "name": "stderr",
     "output_type": "stream",
     "text": [
      "Loading required package: carData\n",
      "\n",
      "── \u001b[1mAttaching packages\u001b[22m ─────────────────────────────────────── tidyverse 1.3.0 ──\n",
      "\n",
      "\u001b[32m✔\u001b[39m \u001b[34mggplot2\u001b[39m 3.2.1     \u001b[32m✔\u001b[39m \u001b[34mpurrr  \u001b[39m 0.3.3\n",
      "\u001b[32m✔\u001b[39m \u001b[34mtibble \u001b[39m 2.1.3     \u001b[32m✔\u001b[39m \u001b[34mdplyr  \u001b[39m 0.8.3\n",
      "\u001b[32m✔\u001b[39m \u001b[34mtidyr  \u001b[39m 1.0.0     \u001b[32m✔\u001b[39m \u001b[34mstringr\u001b[39m 1.4.0\n",
      "\u001b[32m✔\u001b[39m \u001b[34mreadr  \u001b[39m 1.3.1     \u001b[32m✔\u001b[39m \u001b[34mforcats\u001b[39m 0.4.0\n",
      "\n",
      "── \u001b[1mConflicts\u001b[22m ────────────────────────────────────────── tidyverse_conflicts() ──\n",
      "\u001b[31m✖\u001b[39m \u001b[34mdplyr\u001b[39m::\u001b[32mfilter()\u001b[39m masks \u001b[34mstats\u001b[39m::filter()\n",
      "\u001b[31m✖\u001b[39m \u001b[34mdplyr\u001b[39m::\u001b[32mlag()\u001b[39m    masks \u001b[34mstats\u001b[39m::lag()\n",
      "\u001b[31m✖\u001b[39m \u001b[34mdplyr\u001b[39m::\u001b[32mrecode()\u001b[39m masks \u001b[34mcar\u001b[39m::recode()\n",
      "\u001b[31m✖\u001b[39m \u001b[34mpurrr\u001b[39m::\u001b[32msome()\u001b[39m   masks \u001b[34mcar\u001b[39m::some()\n",
      "\n",
      "Loading required package: lattice\n",
      "\n",
      "Registered S3 methods overwritten by 'lme4':\n",
      "  method                          from\n",
      "  cooks.distance.influence.merMod car \n",
      "  influence.merMod                car \n",
      "  dfbeta.influence.merMod         car \n",
      "  dfbetas.influence.merMod        car \n",
      "\n",
      "\n",
      "Attaching package: ‘mice’\n",
      "\n",
      "\n",
      "The following object is masked from ‘package:tidyr’:\n",
      "\n",
      "    complete\n",
      "\n",
      "\n",
      "The following objects are masked from ‘package:base’:\n",
      "\n",
      "    cbind, rbind\n",
      "\n",
      "\n",
      "\n",
      "Attaching package: ‘nlme’\n",
      "\n",
      "\n",
      "The following object is masked from ‘package:dplyr’:\n",
      "\n",
      "    collapse\n",
      "\n",
      "\n",
      "Loading required package: Matrix\n",
      "\n",
      "\n",
      "Attaching package: ‘Matrix’\n",
      "\n",
      "\n",
      "The following objects are masked from ‘package:tidyr’:\n",
      "\n",
      "    expand, pack, unpack\n",
      "\n",
      "\n",
      "\n",
      "Attaching package: ‘lme4’\n",
      "\n",
      "\n",
      "The following object is masked from ‘package:nlme’:\n",
      "\n",
      "    lmList\n",
      "\n",
      "\n",
      "\n",
      "Attaching package: ‘lmerTest’\n",
      "\n",
      "\n",
      "The following object is masked from ‘package:lme4’:\n",
      "\n",
      "    lmer\n",
      "\n",
      "\n",
      "The following object is masked from ‘package:stats’:\n",
      "\n",
      "    step\n",
      "\n",
      "\n"
     ]
    }
   ],
   "source": [
    "library(car)\n",
    "library(tidyverse)\n",
    "library(mice)\n",
    "library(nlme)\n",
    "library(lme4)\n",
    "library(lmerTest)"
   ]
  },
  {
   "cell_type": "code",
   "execution_count": 3,
   "metadata": {},
   "outputs": [
    {
     "data": {
      "text/html": [
       "<ol class=list-inline>\n",
       "\t<li>560</li>\n",
       "\t<li>57</li>\n",
       "</ol>\n"
      ],
      "text/latex": [
       "\\begin{enumerate*}\n",
       "\\item 560\n",
       "\\item 57\n",
       "\\end{enumerate*}\n"
      ],
      "text/markdown": [
       "1. 560\n",
       "2. 57\n",
       "\n",
       "\n"
      ],
      "text/plain": [
       "[1] 560  57"
      ]
     },
     "metadata": {},
     "output_type": "display_data"
    },
    {
     "data": {
      "text/html": [
       "<table>\n",
       "<caption>A data.frame: 6 × 57</caption>\n",
       "<thead>\n",
       "\t<tr><th></th><th scope=col>PID</th><th scope=col>gender</th><th scope=col>race</th><th scope=col>dorm</th><th scope=col>life_satisfaction_t1</th><th scope=col>empathy</th><th scope=col>loneliness_t1</th><th scope=col>stress_t1</th><th scope=col>BFI_E</th><th scope=col>BFI_A</th><th scope=col>⋯</th><th scope=col>network_BFI_A</th><th scope=col>network_BFI_O</th><th scope=col>network_BFI_N</th><th scope=col>network_BFI_C</th><th scope=col>network_intl_student</th><th scope=col>network_family_income</th><th scope=col>network_life_satisfaction_t2</th><th scope=col>network_loneliness_t2</th><th scope=col>network_stress_t2</th><th scope=col>network_n_networkmates</th></tr>\n",
       "\t<tr><th></th><th scope=col>&lt;int&gt;</th><th scope=col>&lt;fct&gt;</th><th scope=col>&lt;fct&gt;</th><th scope=col>&lt;fct&gt;</th><th scope=col>&lt;dbl&gt;</th><th scope=col>&lt;dbl&gt;</th><th scope=col>&lt;dbl&gt;</th><th scope=col>&lt;dbl&gt;</th><th scope=col>&lt;dbl&gt;</th><th scope=col>&lt;dbl&gt;</th><th scope=col>⋯</th><th scope=col>&lt;dbl&gt;</th><th scope=col>&lt;dbl&gt;</th><th scope=col>&lt;dbl&gt;</th><th scope=col>&lt;dbl&gt;</th><th scope=col>&lt;dbl&gt;</th><th scope=col>&lt;dbl&gt;</th><th scope=col>&lt;dbl&gt;</th><th scope=col>&lt;dbl&gt;</th><th scope=col>&lt;dbl&gt;</th><th scope=col>&lt;dbl&gt;</th></tr>\n",
       "</thead>\n",
       "<tbody>\n",
       "\t<tr><th scope=row>1</th><td>1001</td><td>male  </td><td>south_asian   </td><td>Rinconada</td><td>4.833333</td><td>6.375</td><td>1.333333</td><td>2.5</td><td>6.5</td><td>6.0</td><td>⋯</td><td>4.750000</td><td>5.75</td><td>4.500000</td><td>5.000000</td><td>0.0000000</td><td>175000.00</td><td>5.750000</td><td>2.333333</td><td>1.75</td><td> 2</td></tr>\n",
       "\t<tr><th scope=row>2</th><td>1047</td><td>female</td><td>other_or_mixed</td><td>Twain    </td><td>5.333333</td><td>6.500</td><td>2.000000</td><td>2.5</td><td>5.5</td><td>6.5</td><td>⋯</td><td>5.416667</td><td>5.50</td><td>2.833333</td><td>5.166667</td><td>0.1666667</td><td> 91666.67</td><td>4.833333</td><td>1.444444</td><td>2.25</td><td> 6</td></tr>\n",
       "\t<tr><th scope=row>3</th><td>1078</td><td>female</td><td>east_asian    </td><td>Loro     </td><td>5.500000</td><td>6.250</td><td>1.333333</td><td>2.0</td><td>4.5</td><td>6.5</td><td>⋯</td><td>5.500000</td><td>3.50</td><td>1.500000</td><td>4.000000</td><td>0.0000000</td><td> 90000.00</td><td>4.666667</td><td>1.000000</td><td>1.50</td><td> 1</td></tr>\n",
       "\t<tr><th scope=row>4</th><td>1097</td><td>male  </td><td>east_asian    </td><td>Otero    </td><td>6.000000</td><td>5.000</td><td>2.000000</td><td>2.0</td><td>3.0</td><td>4.0</td><td>⋯</td><td>5.400000</td><td>5.10</td><td>3.100000</td><td>5.700000</td><td>0.0000000</td><td>130000.00</td><td>4.866667</td><td>2.133333</td><td>2.20</td><td> 5</td></tr>\n",
       "\t<tr><th scope=row>5</th><td>1105</td><td>female</td><td>white         </td><td>Larkin   </td><td>6.666667</td><td>5.750</td><td>2.000000</td><td>2.0</td><td>4.5</td><td>5.0</td><td>⋯</td><td>4.350000</td><td>5.65</td><td>3.750000</td><td>5.550000</td><td>0.2000000</td><td>161000.00</td><td>5.133333</td><td>1.966667</td><td>2.20</td><td>10</td></tr>\n",
       "\t<tr><th scope=row>6</th><td>1110</td><td>female</td><td>white         </td><td>Larkin   </td><td>5.166667</td><td>6.750</td><td>2.000000</td><td>2.0</td><td>6.5</td><td>5.0</td><td>⋯</td><td>5.250000</td><td>5.00</td><td>2.625000</td><td>5.750000</td><td>0.0000000</td><td>152500.00</td><td>5.750000</td><td>1.666667</td><td>2.00</td><td> 4</td></tr>\n",
       "</tbody>\n",
       "</table>\n"
      ],
      "text/latex": [
       "A data.frame: 6 × 57\n",
       "\\begin{tabular}{r|lllllllllllllllllllll}\n",
       "  & PID & gender & race & dorm & life\\_satisfaction\\_t1 & empathy & loneliness\\_t1 & stress\\_t1 & BFI\\_E & BFI\\_A & ⋯ & network\\_BFI\\_A & network\\_BFI\\_O & network\\_BFI\\_N & network\\_BFI\\_C & network\\_intl\\_student & network\\_family\\_income & network\\_life\\_satisfaction\\_t2 & network\\_loneliness\\_t2 & network\\_stress\\_t2 & network\\_n\\_networkmates\\\\\n",
       "  & <int> & <fct> & <fct> & <fct> & <dbl> & <dbl> & <dbl> & <dbl> & <dbl> & <dbl> & ⋯ & <dbl> & <dbl> & <dbl> & <dbl> & <dbl> & <dbl> & <dbl> & <dbl> & <dbl> & <dbl>\\\\\n",
       "\\hline\n",
       "\t1 & 1001 & male   & south\\_asian    & Rinconada & 4.833333 & 6.375 & 1.333333 & 2.5 & 6.5 & 6.0 & ⋯ & 4.750000 & 5.75 & 4.500000 & 5.000000 & 0.0000000 & 175000.00 & 5.750000 & 2.333333 & 1.75 &  2\\\\\n",
       "\t2 & 1047 & female & other\\_or\\_mixed & Twain     & 5.333333 & 6.500 & 2.000000 & 2.5 & 5.5 & 6.5 & ⋯ & 5.416667 & 5.50 & 2.833333 & 5.166667 & 0.1666667 &  91666.67 & 4.833333 & 1.444444 & 2.25 &  6\\\\\n",
       "\t3 & 1078 & female & east\\_asian     & Loro      & 5.500000 & 6.250 & 1.333333 & 2.0 & 4.5 & 6.5 & ⋯ & 5.500000 & 3.50 & 1.500000 & 4.000000 & 0.0000000 &  90000.00 & 4.666667 & 1.000000 & 1.50 &  1\\\\\n",
       "\t4 & 1097 & male   & east\\_asian     & Otero     & 6.000000 & 5.000 & 2.000000 & 2.0 & 3.0 & 4.0 & ⋯ & 5.400000 & 5.10 & 3.100000 & 5.700000 & 0.0000000 & 130000.00 & 4.866667 & 2.133333 & 2.20 &  5\\\\\n",
       "\t5 & 1105 & female & white          & Larkin    & 6.666667 & 5.750 & 2.000000 & 2.0 & 4.5 & 5.0 & ⋯ & 4.350000 & 5.65 & 3.750000 & 5.550000 & 0.2000000 & 161000.00 & 5.133333 & 1.966667 & 2.20 & 10\\\\\n",
       "\t6 & 1110 & female & white          & Larkin    & 5.166667 & 6.750 & 2.000000 & 2.0 & 6.5 & 5.0 & ⋯ & 5.250000 & 5.00 & 2.625000 & 5.750000 & 0.0000000 & 152500.00 & 5.750000 & 1.666667 & 2.00 &  4\\\\\n",
       "\\end{tabular}\n"
      ],
      "text/markdown": [
       "\n",
       "A data.frame: 6 × 57\n",
       "\n",
       "| <!--/--> | PID &lt;int&gt; | gender &lt;fct&gt; | race &lt;fct&gt; | dorm &lt;fct&gt; | life_satisfaction_t1 &lt;dbl&gt; | empathy &lt;dbl&gt; | loneliness_t1 &lt;dbl&gt; | stress_t1 &lt;dbl&gt; | BFI_E &lt;dbl&gt; | BFI_A &lt;dbl&gt; | ⋯ ⋯ | network_BFI_A &lt;dbl&gt; | network_BFI_O &lt;dbl&gt; | network_BFI_N &lt;dbl&gt; | network_BFI_C &lt;dbl&gt; | network_intl_student &lt;dbl&gt; | network_family_income &lt;dbl&gt; | network_life_satisfaction_t2 &lt;dbl&gt; | network_loneliness_t2 &lt;dbl&gt; | network_stress_t2 &lt;dbl&gt; | network_n_networkmates &lt;dbl&gt; |\n",
       "|---|---|---|---|---|---|---|---|---|---|---|---|---|---|---|---|---|---|---|---|---|---|\n",
       "| 1 | 1001 | male   | south_asian    | Rinconada | 4.833333 | 6.375 | 1.333333 | 2.5 | 6.5 | 6.0 | ⋯ | 4.750000 | 5.75 | 4.500000 | 5.000000 | 0.0000000 | 175000.00 | 5.750000 | 2.333333 | 1.75 |  2 |\n",
       "| 2 | 1047 | female | other_or_mixed | Twain     | 5.333333 | 6.500 | 2.000000 | 2.5 | 5.5 | 6.5 | ⋯ | 5.416667 | 5.50 | 2.833333 | 5.166667 | 0.1666667 |  91666.67 | 4.833333 | 1.444444 | 2.25 |  6 |\n",
       "| 3 | 1078 | female | east_asian     | Loro      | 5.500000 | 6.250 | 1.333333 | 2.0 | 4.5 | 6.5 | ⋯ | 5.500000 | 3.50 | 1.500000 | 4.000000 | 0.0000000 |  90000.00 | 4.666667 | 1.000000 | 1.50 |  1 |\n",
       "| 4 | 1097 | male   | east_asian     | Otero     | 6.000000 | 5.000 | 2.000000 | 2.0 | 3.0 | 4.0 | ⋯ | 5.400000 | 5.10 | 3.100000 | 5.700000 | 0.0000000 | 130000.00 | 4.866667 | 2.133333 | 2.20 |  5 |\n",
       "| 5 | 1105 | female | white          | Larkin    | 6.666667 | 5.750 | 2.000000 | 2.0 | 4.5 | 5.0 | ⋯ | 4.350000 | 5.65 | 3.750000 | 5.550000 | 0.2000000 | 161000.00 | 5.133333 | 1.966667 | 2.20 | 10 |\n",
       "| 6 | 1110 | female | white          | Larkin    | 5.166667 | 6.750 | 2.000000 | 2.0 | 6.5 | 5.0 | ⋯ | 5.250000 | 5.00 | 2.625000 | 5.750000 | 0.0000000 | 152500.00 | 5.750000 | 1.666667 | 2.00 |  4 |\n",
       "\n"
      ],
      "text/plain": [
       "  PID  gender race           dorm      life_satisfaction_t1 empathy\n",
       "1 1001 male   south_asian    Rinconada 4.833333             6.375  \n",
       "2 1047 female other_or_mixed Twain     5.333333             6.500  \n",
       "3 1078 female east_asian     Loro      5.500000             6.250  \n",
       "4 1097 male   east_asian     Otero     6.000000             5.000  \n",
       "5 1105 female white          Larkin    6.666667             5.750  \n",
       "6 1110 female white          Larkin    5.166667             6.750  \n",
       "  loneliness_t1 stress_t1 BFI_E BFI_A ⋯ network_BFI_A network_BFI_O\n",
       "1 1.333333      2.5       6.5   6.0   ⋯ 4.750000      5.75         \n",
       "2 2.000000      2.5       5.5   6.5   ⋯ 5.416667      5.50         \n",
       "3 1.333333      2.0       4.5   6.5   ⋯ 5.500000      3.50         \n",
       "4 2.000000      2.0       3.0   4.0   ⋯ 5.400000      5.10         \n",
       "5 2.000000      2.0       4.5   5.0   ⋯ 4.350000      5.65         \n",
       "6 2.000000      2.0       6.5   5.0   ⋯ 5.250000      5.00         \n",
       "  network_BFI_N network_BFI_C network_intl_student network_family_income\n",
       "1 4.500000      5.000000      0.0000000            175000.00            \n",
       "2 2.833333      5.166667      0.1666667             91666.67            \n",
       "3 1.500000      4.000000      0.0000000             90000.00            \n",
       "4 3.100000      5.700000      0.0000000            130000.00            \n",
       "5 3.750000      5.550000      0.2000000            161000.00            \n",
       "6 2.625000      5.750000      0.0000000            152500.00            \n",
       "  network_life_satisfaction_t2 network_loneliness_t2 network_stress_t2\n",
       "1 5.750000                     2.333333              1.75             \n",
       "2 4.833333                     1.444444              2.25             \n",
       "3 4.666667                     1.000000              1.50             \n",
       "4 4.866667                     2.133333              2.20             \n",
       "5 5.133333                     1.966667              2.20             \n",
       "6 5.750000                     1.666667              2.00             \n",
       "  network_n_networkmates\n",
       "1  2                    \n",
       "2  6                    \n",
       "3  1                    \n",
       "4  5                    \n",
       "5 10                    \n",
       "6  4                    "
      ]
     },
     "metadata": {},
     "output_type": "display_data"
    }
   ],
   "source": [
    "df = read.csv('../data/2019–2020/postprocessed/df_full_train.csv', na.strings=c(\"\",\" \"))\n",
    "dim(df)\n",
    "head(df)"
   ]
  },
  {
   "cell_type": "code",
   "execution_count": 4,
   "metadata": {},
   "outputs": [
    {
     "name": "stdout",
     "output_type": "stream",
     "text": [
      "'data.frame':\t560 obs. of  57 variables:\n",
      " $ PID                         : int  1001 1047 1078 1097 1105 1110 1128 1132 1134 1162 ...\n",
      " $ gender                      : Factor w/ 3 levels \"female\",\"male\",..: 2 1 1 2 1 1 1 1 2 1 ...\n",
      " $ race                        : Factor w/ 6 levels \"black\",\"east_asian\",..: 5 4 2 2 6 6 6 NA 3 2 ...\n",
      " $ dorm                        : Factor w/ 21 levels \"Alondra\",\"Arroyo\",..: 16 19 11 15 10 10 7 15 2 3 ...\n",
      " $ life_satisfaction_t1        : num  4.83 5.33 5.5 6 6.67 ...\n",
      " $ empathy                     : num  6.38 6.5 6.25 5 5.75 ...\n",
      " $ loneliness_t1               : num  1.33 2 1.33 2 2 ...\n",
      " $ stress_t1                   : num  2.5 2.5 2 2 2 2 1.5 2 1.5 1 ...\n",
      " $ BFI_E                       : num  6.5 5.5 4.5 3 4.5 6.5 5 7 5.5 3.5 ...\n",
      " $ BFI_A                       : num  6 6.5 6.5 4 5 5 5 5 5 6.5 ...\n",
      " $ BFI_O                       : num  6.5 6.5 6.5 4.5 4.5 4.5 5.5 5.5 6 7 ...\n",
      " $ BFI_N                       : num  3.5 3 1.5 1.5 2 2 2 2.5 1.5 3 ...\n",
      " $ BFI_C                       : num  5.5 7 6.5 5.5 5 6 6 7 6.5 5 ...\n",
      " $ intl_student                : num  0 0 0 0 0 0 0 0 0 0 ...\n",
      " $ family_income               : num  70000 220000 130000 90000 170000 110000 90000 110000 90000 220000 ...\n",
      " $ life_satisfaction_t2        : num  6.17 5.17 5.5 5.83 6.67 ...\n",
      " $ loneliness_t2               : num  2 2 2.33 2 2 ...\n",
      " $ stress_t2                   : num  1.5 3 3 2.5 2 2 1.5 2 2 2.5 ...\n",
      " $ parent_education_highest    : Factor w/ 6 levels \"0_less_than_hs\",..: 5 5 6 6 4 5 6 4 4 6 ...\n",
      " $ edges_in                    : int  3 6 1 6 6 4 5 4 6 9 ...\n",
      " $ edges_out                   : int  10 9 7 4 26 9 14 9 11 8 ...\n",
      " $ edges_reciprocal            : int  1 3 0 4 3 4 5 3 4 5 ...\n",
      " $ edges_unique                : int  12 12 8 6 29 9 14 10 13 12 ...\n",
      " $ dorm_life_satisfaction_t1   : num  5.03 5.33 4 5.44 5.1 ...\n",
      " $ dorm_empathy                : num  5.5 5.72 5.59 5.7 5.82 ...\n",
      " $ dorm_loneliness_t1          : num  1.84 1.68 1.86 1.78 1.8 ...\n",
      " $ dorm_stress_t1              : num  2 1.99 2.25 1.92 2.07 ...\n",
      " $ dorm_BFI_E                  : num  4.53 4.04 3.88 4.44 4.66 ...\n",
      " $ dorm_BFI_A                  : num  4.98 5.2 4.62 4.9 4.94 ...\n",
      " $ dorm_BFI_O                  : num  5.38 5.42 5.38 5.26 5.41 ...\n",
      " $ dorm_BFI_N                  : num  3.33 2.91 3.54 2.92 3.27 ...\n",
      " $ dorm_BFI_C                  : num  5.67 5.55 5 5.71 5.69 ...\n",
      " $ dorm_intl_student           : num  0.1724 0.1316 0.0833 0.0278 0.1509 ...\n",
      " $ dorm_family_income          : num  116207 143514 129091 141429 138235 ...\n",
      " $ dorm_life_satisfaction_t2   : num  4.93 5.24 4.43 5.27 4.91 ...\n",
      " $ dorm_loneliness_t2          : num  2.03 1.73 2 1.86 1.82 ...\n",
      " $ dorm_stress_t2              : num  1.95 2 1.96 1.92 2.19 ...\n",
      " $ dorm_edges_in               : num  5.21 4.39 2.33 4.78 5.76 ...\n",
      " $ dorm_edges_out              : num  10.93 8.16 6.83 10 8.96 ...\n",
      " $ dorm_edges_reciprocal       : num  3.38 2.47 1.5 2.72 3.3 ...\n",
      " $ dorm_edges_unique           : num  12.76 10.08 7.67 12.06 11.43 ...\n",
      " $ dorm_n_dormmates            : num  29 38 12 36 54 54 41 36 29 38 ...\n",
      " $ network_life_satisfaction_t1: num  4.92 5.06 4.67 5.4 5.48 ...\n",
      " $ network_empathy             : num  5.94 6.35 5.25 5.95 5.8 ...\n",
      " $ network_loneliness_t1       : num  2.17 1.44 1 1.73 1.6 ...\n",
      " $ network_stress_t1           : num  2.5 2 1.5 2.4 2.25 ...\n",
      " $ network_BFI_E               : num  6.75 5.25 2.5 4.4 5.25 ...\n",
      " $ network_BFI_A               : num  4.75 5.42 5.5 5.4 4.35 ...\n",
      " $ network_BFI_O               : num  5.75 5.5 3.5 5.1 5.65 ...\n",
      " $ network_BFI_N               : num  4.5 2.83 1.5 3.1 3.75 ...\n",
      " $ network_BFI_C               : num  5 5.17 4 5.7 5.55 ...\n",
      " $ network_intl_student        : num  0 0.167 0 0 0.2 ...\n",
      " $ network_family_income       : num  175000 91667 90000 130000 161000 ...\n",
      " $ network_life_satisfaction_t2: num  5.75 4.83 4.67 4.87 5.13 ...\n",
      " $ network_loneliness_t2       : num  2.33 1.44 1 2.13 1.97 ...\n",
      " $ network_stress_t2           : num  1.75 2.25 1.5 2.2 2.2 ...\n",
      " $ network_n_networkmates      : num  2 6 1 5 10 4 3 4 5 9 ...\n"
     ]
    }
   ],
   "source": [
    "str(df)"
   ]
  },
  {
   "cell_type": "markdown",
   "metadata": {},
   "source": [
    "## Cleaning - drop rows we don't want"
   ]
  },
  {
   "cell_type": "markdown",
   "metadata": {},
   "source": [
    "### Drop people who made no network nominations"
   ]
  },
  {
   "cell_type": "code",
   "execution_count": 5,
   "metadata": {},
   "outputs": [
    {
     "name": "stdout",
     "output_type": "stream",
     "text": [
      "[1] 560  57\n",
      "[1] 542  57\n"
     ]
    }
   ],
   "source": [
    "print(dim(df))\n",
    "df = df[df$edges_out != 0,]\n",
    "print(dim(df))"
   ]
  },
  {
   "cell_type": "markdown",
   "metadata": {},
   "source": [
    "### Drop people with fewer than 3 network connections (in or out) as we don't trust the averages of their network's traits"
   ]
  },
  {
   "cell_type": "code",
   "execution_count": 6,
   "metadata": {},
   "outputs": [
    {
     "data": {
      "text/plain": [
       "\n",
       " 1  2  3  4  5  6  7  8  9 10 11 12 13 14 15 16 17 18 19 20 21 22 23 25 26 29 \n",
       " 3  3  9 15 23 44 46 54 58 43 43 39 31 29 25 16 17 14  7  7  4  2  4  3  1  1 \n",
       "36 \n",
       " 1 "
      ]
     },
     "metadata": {},
     "output_type": "display_data"
    }
   ],
   "source": [
    "table(df$edges_unique)"
   ]
  },
  {
   "cell_type": "code",
   "execution_count": 7,
   "metadata": {},
   "outputs": [
    {
     "name": "stdout",
     "output_type": "stream",
     "text": [
      "[1] 542  57\n",
      "[1] 536  57\n"
     ]
    }
   ],
   "source": [
    "print(dim(df))\n",
    "df = df[df$edges_unique >= 3,]\n",
    "print(dim(df))"
   ]
  },
  {
   "cell_type": "markdown",
   "metadata": {},
   "source": [
    "### Drop the rows with missing values (~20%)"
   ]
  },
  {
   "cell_type": "code",
   "execution_count": 8,
   "metadata": {},
   "outputs": [
    {
     "data": {
      "text/html": [
       "<table>\n",
       "<caption>A matrix: 17 × 58 of type dbl</caption>\n",
       "<thead>\n",
       "\t<tr><th></th><th scope=col>PID</th><th scope=col>dorm</th><th scope=col>life_satisfaction_t1</th><th scope=col>empathy</th><th scope=col>loneliness_t1</th><th scope=col>stress_t1</th><th scope=col>BFI_E</th><th scope=col>BFI_A</th><th scope=col>BFI_O</th><th scope=col>BFI_N</th><th scope=col>⋯</th><th scope=col>network_BFI_O</th><th scope=col>network_BFI_N</th><th scope=col>network_BFI_C</th><th scope=col>network_intl_student</th><th scope=col>network_family_income</th><th scope=col>network_life_satisfaction_t2</th><th scope=col>network_loneliness_t2</th><th scope=col>network_stress_t2</th><th scope=col>race</th><th scope=col></th></tr>\n",
       "</thead>\n",
       "<tbody>\n",
       "\t<tr><th scope=row>435</th><td>1</td><td>1</td><td>1</td><td>1</td><td>1</td><td>1</td><td>1</td><td>1</td><td>1</td><td>1</td><td>⋯</td><td> 1</td><td> 1</td><td> 1</td><td> 1</td><td> 1</td><td> 1</td><td> 1</td><td> 1</td><td> 1</td><td>  0</td></tr>\n",
       "\t<tr><th scope=row>49</th><td>1</td><td>1</td><td>1</td><td>1</td><td>1</td><td>1</td><td>1</td><td>1</td><td>1</td><td>1</td><td>⋯</td><td> 1</td><td> 1</td><td> 1</td><td> 1</td><td> 1</td><td> 1</td><td> 1</td><td> 1</td><td> 0</td><td>  1</td></tr>\n",
       "\t<tr><th scope=row>6</th><td>1</td><td>1</td><td>1</td><td>1</td><td>1</td><td>1</td><td>1</td><td>1</td><td>1</td><td>1</td><td>⋯</td><td> 0</td><td> 0</td><td> 0</td><td> 0</td><td> 0</td><td> 0</td><td> 0</td><td> 0</td><td> 1</td><td> 14</td></tr>\n",
       "\t<tr><th scope=row>1</th><td>1</td><td>1</td><td>1</td><td>1</td><td>1</td><td>1</td><td>1</td><td>1</td><td>1</td><td>1</td><td>⋯</td><td> 0</td><td> 0</td><td> 0</td><td> 0</td><td> 0</td><td> 0</td><td> 0</td><td> 0</td><td> 0</td><td> 15</td></tr>\n",
       "\t<tr><th scope=row>11</th><td>1</td><td>1</td><td>1</td><td>1</td><td>1</td><td>1</td><td>1</td><td>1</td><td>1</td><td>1</td><td>⋯</td><td> 1</td><td> 1</td><td> 1</td><td> 1</td><td> 1</td><td> 1</td><td> 1</td><td> 1</td><td> 1</td><td>  1</td></tr>\n",
       "\t<tr><th scope=row>3</th><td>1</td><td>1</td><td>1</td><td>1</td><td>1</td><td>1</td><td>1</td><td>1</td><td>1</td><td>1</td><td>⋯</td><td> 1</td><td> 1</td><td> 1</td><td> 1</td><td> 1</td><td> 1</td><td> 1</td><td> 1</td><td> 0</td><td>  2</td></tr>\n",
       "\t<tr><th scope=row>1</th><td>1</td><td>1</td><td>1</td><td>1</td><td>1</td><td>1</td><td>1</td><td>1</td><td>1</td><td>1</td><td>⋯</td><td> 0</td><td> 0</td><td> 0</td><td> 0</td><td> 0</td><td> 0</td><td> 0</td><td> 0</td><td> 0</td><td> 16</td></tr>\n",
       "\t<tr><th scope=row>11</th><td>1</td><td>1</td><td>1</td><td>1</td><td>1</td><td>1</td><td>1</td><td>1</td><td>1</td><td>1</td><td>⋯</td><td> 0</td><td> 0</td><td> 0</td><td> 0</td><td> 0</td><td> 0</td><td> 0</td><td> 0</td><td> 1</td><td> 15</td></tr>\n",
       "\t<tr><th scope=row>2</th><td>1</td><td>1</td><td>1</td><td>1</td><td>1</td><td>1</td><td>1</td><td>1</td><td>1</td><td>1</td><td>⋯</td><td> 0</td><td> 0</td><td> 0</td><td> 0</td><td> 0</td><td> 0</td><td> 0</td><td> 0</td><td> 0</td><td> 16</td></tr>\n",
       "\t<tr><th scope=row>9</th><td>1</td><td>1</td><td>1</td><td>1</td><td>1</td><td>1</td><td>1</td><td>1</td><td>1</td><td>1</td><td>⋯</td><td> 1</td><td> 1</td><td> 1</td><td> 1</td><td> 1</td><td> 1</td><td> 1</td><td> 1</td><td> 1</td><td>  1</td></tr>\n",
       "\t<tr><th scope=row>3</th><td>1</td><td>1</td><td>1</td><td>1</td><td>1</td><td>1</td><td>1</td><td>1</td><td>1</td><td>1</td><td>⋯</td><td> 1</td><td> 1</td><td> 1</td><td> 1</td><td> 1</td><td> 1</td><td> 1</td><td> 1</td><td> 1</td><td>  1</td></tr>\n",
       "\t<tr><th scope=row>1</th><td>1</td><td>1</td><td>1</td><td>1</td><td>1</td><td>1</td><td>1</td><td>1</td><td>1</td><td>1</td><td>⋯</td><td> 1</td><td> 1</td><td> 1</td><td> 1</td><td> 1</td><td> 1</td><td> 1</td><td> 1</td><td> 0</td><td>  2</td></tr>\n",
       "\t<tr><th scope=row>1</th><td>1</td><td>1</td><td>1</td><td>1</td><td>1</td><td>1</td><td>1</td><td>1</td><td>1</td><td>1</td><td>⋯</td><td> 1</td><td> 1</td><td> 1</td><td> 1</td><td> 1</td><td> 1</td><td> 1</td><td> 1</td><td> 1</td><td>  3</td></tr>\n",
       "\t<tr><th scope=row>1</th><td>1</td><td>1</td><td>1</td><td>1</td><td>1</td><td>1</td><td>1</td><td>1</td><td>1</td><td>1</td><td>⋯</td><td> 1</td><td> 1</td><td> 1</td><td> 1</td><td> 1</td><td> 1</td><td> 1</td><td> 1</td><td> 1</td><td>  3</td></tr>\n",
       "\t<tr><th scope=row>1</th><td>1</td><td>1</td><td>1</td><td>1</td><td>1</td><td>1</td><td>1</td><td>1</td><td>1</td><td>1</td><td>⋯</td><td> 1</td><td> 1</td><td> 1</td><td> 1</td><td> 1</td><td> 1</td><td> 1</td><td> 1</td><td> 1</td><td>  5</td></tr>\n",
       "\t<tr><th scope=row>1</th><td>1</td><td>1</td><td>1</td><td>1</td><td>1</td><td>1</td><td>1</td><td>1</td><td>1</td><td>1</td><td>⋯</td><td> 1</td><td> 1</td><td> 1</td><td> 1</td><td> 1</td><td> 1</td><td> 1</td><td> 1</td><td> 1</td><td>  4</td></tr>\n",
       "\t<tr><th scope=row></th><td>0</td><td>0</td><td>0</td><td>0</td><td>0</td><td>0</td><td>0</td><td>0</td><td>0</td><td>0</td><td>⋯</td><td>21</td><td>21</td><td>21</td><td>21</td><td>21</td><td>21</td><td>21</td><td>21</td><td>57</td><td>407</td></tr>\n",
       "</tbody>\n",
       "</table>\n"
      ],
      "text/latex": [
       "A matrix: 17 × 58 of type dbl\n",
       "\\begin{tabular}{r|lllllllllllllllllllll}\n",
       "  & PID & dorm & life\\_satisfaction\\_t1 & empathy & loneliness\\_t1 & stress\\_t1 & BFI\\_E & BFI\\_A & BFI\\_O & BFI\\_N & ⋯ & network\\_BFI\\_O & network\\_BFI\\_N & network\\_BFI\\_C & network\\_intl\\_student & network\\_family\\_income & network\\_life\\_satisfaction\\_t2 & network\\_loneliness\\_t2 & network\\_stress\\_t2 & race & \\\\\n",
       "\\hline\n",
       "\t435 & 1 & 1 & 1 & 1 & 1 & 1 & 1 & 1 & 1 & 1 & ⋯ &  1 &  1 &  1 &  1 &  1 &  1 &  1 &  1 &  1 &   0\\\\\n",
       "\t49 & 1 & 1 & 1 & 1 & 1 & 1 & 1 & 1 & 1 & 1 & ⋯ &  1 &  1 &  1 &  1 &  1 &  1 &  1 &  1 &  0 &   1\\\\\n",
       "\t6 & 1 & 1 & 1 & 1 & 1 & 1 & 1 & 1 & 1 & 1 & ⋯ &  0 &  0 &  0 &  0 &  0 &  0 &  0 &  0 &  1 &  14\\\\\n",
       "\t1 & 1 & 1 & 1 & 1 & 1 & 1 & 1 & 1 & 1 & 1 & ⋯ &  0 &  0 &  0 &  0 &  0 &  0 &  0 &  0 &  0 &  15\\\\\n",
       "\t11 & 1 & 1 & 1 & 1 & 1 & 1 & 1 & 1 & 1 & 1 & ⋯ &  1 &  1 &  1 &  1 &  1 &  1 &  1 &  1 &  1 &   1\\\\\n",
       "\t3 & 1 & 1 & 1 & 1 & 1 & 1 & 1 & 1 & 1 & 1 & ⋯ &  1 &  1 &  1 &  1 &  1 &  1 &  1 &  1 &  0 &   2\\\\\n",
       "\t1 & 1 & 1 & 1 & 1 & 1 & 1 & 1 & 1 & 1 & 1 & ⋯ &  0 &  0 &  0 &  0 &  0 &  0 &  0 &  0 &  0 &  16\\\\\n",
       "\t11 & 1 & 1 & 1 & 1 & 1 & 1 & 1 & 1 & 1 & 1 & ⋯ &  0 &  0 &  0 &  0 &  0 &  0 &  0 &  0 &  1 &  15\\\\\n",
       "\t2 & 1 & 1 & 1 & 1 & 1 & 1 & 1 & 1 & 1 & 1 & ⋯ &  0 &  0 &  0 &  0 &  0 &  0 &  0 &  0 &  0 &  16\\\\\n",
       "\t9 & 1 & 1 & 1 & 1 & 1 & 1 & 1 & 1 & 1 & 1 & ⋯ &  1 &  1 &  1 &  1 &  1 &  1 &  1 &  1 &  1 &   1\\\\\n",
       "\t3 & 1 & 1 & 1 & 1 & 1 & 1 & 1 & 1 & 1 & 1 & ⋯ &  1 &  1 &  1 &  1 &  1 &  1 &  1 &  1 &  1 &   1\\\\\n",
       "\t1 & 1 & 1 & 1 & 1 & 1 & 1 & 1 & 1 & 1 & 1 & ⋯ &  1 &  1 &  1 &  1 &  1 &  1 &  1 &  1 &  0 &   2\\\\\n",
       "\t1 & 1 & 1 & 1 & 1 & 1 & 1 & 1 & 1 & 1 & 1 & ⋯ &  1 &  1 &  1 &  1 &  1 &  1 &  1 &  1 &  1 &   3\\\\\n",
       "\t1 & 1 & 1 & 1 & 1 & 1 & 1 & 1 & 1 & 1 & 1 & ⋯ &  1 &  1 &  1 &  1 &  1 &  1 &  1 &  1 &  1 &   3\\\\\n",
       "\t1 & 1 & 1 & 1 & 1 & 1 & 1 & 1 & 1 & 1 & 1 & ⋯ &  1 &  1 &  1 &  1 &  1 &  1 &  1 &  1 &  1 &   5\\\\\n",
       "\t1 & 1 & 1 & 1 & 1 & 1 & 1 & 1 & 1 & 1 & 1 & ⋯ &  1 &  1 &  1 &  1 &  1 &  1 &  1 &  1 &  1 &   4\\\\\n",
       "\t & 0 & 0 & 0 & 0 & 0 & 0 & 0 & 0 & 0 & 0 & ⋯ & 21 & 21 & 21 & 21 & 21 & 21 & 21 & 21 & 57 & 407\\\\\n",
       "\\end{tabular}\n"
      ],
      "text/markdown": [
       "\n",
       "A matrix: 17 × 58 of type dbl\n",
       "\n",
       "| <!--/--> | PID | dorm | life_satisfaction_t1 | empathy | loneliness_t1 | stress_t1 | BFI_E | BFI_A | BFI_O | BFI_N | ⋯ | network_BFI_O | network_BFI_N | network_BFI_C | network_intl_student | network_family_income | network_life_satisfaction_t2 | network_loneliness_t2 | network_stress_t2 | race | <!----> |\n",
       "|---|---|---|---|---|---|---|---|---|---|---|---|---|---|---|---|---|---|---|---|---|---|\n",
       "| 435 | 1 | 1 | 1 | 1 | 1 | 1 | 1 | 1 | 1 | 1 | ⋯ |  1 |  1 |  1 |  1 |  1 |  1 |  1 |  1 |  1 |   0 |\n",
       "| 49 | 1 | 1 | 1 | 1 | 1 | 1 | 1 | 1 | 1 | 1 | ⋯ |  1 |  1 |  1 |  1 |  1 |  1 |  1 |  1 |  0 |   1 |\n",
       "| 6 | 1 | 1 | 1 | 1 | 1 | 1 | 1 | 1 | 1 | 1 | ⋯ |  0 |  0 |  0 |  0 |  0 |  0 |  0 |  0 |  1 |  14 |\n",
       "| 1 | 1 | 1 | 1 | 1 | 1 | 1 | 1 | 1 | 1 | 1 | ⋯ |  0 |  0 |  0 |  0 |  0 |  0 |  0 |  0 |  0 |  15 |\n",
       "| 11 | 1 | 1 | 1 | 1 | 1 | 1 | 1 | 1 | 1 | 1 | ⋯ |  1 |  1 |  1 |  1 |  1 |  1 |  1 |  1 |  1 |   1 |\n",
       "| 3 | 1 | 1 | 1 | 1 | 1 | 1 | 1 | 1 | 1 | 1 | ⋯ |  1 |  1 |  1 |  1 |  1 |  1 |  1 |  1 |  0 |   2 |\n",
       "| 1 | 1 | 1 | 1 | 1 | 1 | 1 | 1 | 1 | 1 | 1 | ⋯ |  0 |  0 |  0 |  0 |  0 |  0 |  0 |  0 |  0 |  16 |\n",
       "| 11 | 1 | 1 | 1 | 1 | 1 | 1 | 1 | 1 | 1 | 1 | ⋯ |  0 |  0 |  0 |  0 |  0 |  0 |  0 |  0 |  1 |  15 |\n",
       "| 2 | 1 | 1 | 1 | 1 | 1 | 1 | 1 | 1 | 1 | 1 | ⋯ |  0 |  0 |  0 |  0 |  0 |  0 |  0 |  0 |  0 |  16 |\n",
       "| 9 | 1 | 1 | 1 | 1 | 1 | 1 | 1 | 1 | 1 | 1 | ⋯ |  1 |  1 |  1 |  1 |  1 |  1 |  1 |  1 |  1 |   1 |\n",
       "| 3 | 1 | 1 | 1 | 1 | 1 | 1 | 1 | 1 | 1 | 1 | ⋯ |  1 |  1 |  1 |  1 |  1 |  1 |  1 |  1 |  1 |   1 |\n",
       "| 1 | 1 | 1 | 1 | 1 | 1 | 1 | 1 | 1 | 1 | 1 | ⋯ |  1 |  1 |  1 |  1 |  1 |  1 |  1 |  1 |  0 |   2 |\n",
       "| 1 | 1 | 1 | 1 | 1 | 1 | 1 | 1 | 1 | 1 | 1 | ⋯ |  1 |  1 |  1 |  1 |  1 |  1 |  1 |  1 |  1 |   3 |\n",
       "| 1 | 1 | 1 | 1 | 1 | 1 | 1 | 1 | 1 | 1 | 1 | ⋯ |  1 |  1 |  1 |  1 |  1 |  1 |  1 |  1 |  1 |   3 |\n",
       "| 1 | 1 | 1 | 1 | 1 | 1 | 1 | 1 | 1 | 1 | 1 | ⋯ |  1 |  1 |  1 |  1 |  1 |  1 |  1 |  1 |  1 |   5 |\n",
       "| 1 | 1 | 1 | 1 | 1 | 1 | 1 | 1 | 1 | 1 | 1 | ⋯ |  1 |  1 |  1 |  1 |  1 |  1 |  1 |  1 |  1 |   4 |\n",
       "| <!----> | 0 | 0 | 0 | 0 | 0 | 0 | 0 | 0 | 0 | 0 | ⋯ | 21 | 21 | 21 | 21 | 21 | 21 | 21 | 21 | 57 | 407 |\n",
       "\n"
      ],
      "text/plain": [
       "    PID dorm life_satisfaction_t1 empathy loneliness_t1 stress_t1 BFI_E BFI_A\n",
       "435 1   1    1                    1       1             1         1     1    \n",
       "49  1   1    1                    1       1             1         1     1    \n",
       "6   1   1    1                    1       1             1         1     1    \n",
       "1   1   1    1                    1       1             1         1     1    \n",
       "11  1   1    1                    1       1             1         1     1    \n",
       "3   1   1    1                    1       1             1         1     1    \n",
       "1   1   1    1                    1       1             1         1     1    \n",
       "11  1   1    1                    1       1             1         1     1    \n",
       "2   1   1    1                    1       1             1         1     1    \n",
       "9   1   1    1                    1       1             1         1     1    \n",
       "3   1   1    1                    1       1             1         1     1    \n",
       "1   1   1    1                    1       1             1         1     1    \n",
       "1   1   1    1                    1       1             1         1     1    \n",
       "1   1   1    1                    1       1             1         1     1    \n",
       "1   1   1    1                    1       1             1         1     1    \n",
       "1   1   1    1                    1       1             1         1     1    \n",
       "    0   0    0                    0       0             0         0     0    \n",
       "    BFI_O BFI_N ⋯ network_BFI_O network_BFI_N network_BFI_C\n",
       "435 1     1     ⋯  1             1             1           \n",
       "49  1     1     ⋯  1             1             1           \n",
       "6   1     1     ⋯  0             0             0           \n",
       "1   1     1     ⋯  0             0             0           \n",
       "11  1     1     ⋯  1             1             1           \n",
       "3   1     1     ⋯  1             1             1           \n",
       "1   1     1     ⋯  0             0             0           \n",
       "11  1     1     ⋯  0             0             0           \n",
       "2   1     1     ⋯  0             0             0           \n",
       "9   1     1     ⋯  1             1             1           \n",
       "3   1     1     ⋯  1             1             1           \n",
       "1   1     1     ⋯  1             1             1           \n",
       "1   1     1     ⋯  1             1             1           \n",
       "1   1     1     ⋯  1             1             1           \n",
       "1   1     1     ⋯  1             1             1           \n",
       "1   1     1     ⋯  1             1             1           \n",
       "    0     0     ⋯ 21            21            21           \n",
       "    network_intl_student network_family_income network_life_satisfaction_t2\n",
       "435  1                    1                     1                          \n",
       "49   1                    1                     1                          \n",
       "6    0                    0                     0                          \n",
       "1    0                    0                     0                          \n",
       "11   1                    1                     1                          \n",
       "3    1                    1                     1                          \n",
       "1    0                    0                     0                          \n",
       "11   0                    0                     0                          \n",
       "2    0                    0                     0                          \n",
       "9    1                    1                     1                          \n",
       "3    1                    1                     1                          \n",
       "1    1                    1                     1                          \n",
       "1    1                    1                     1                          \n",
       "1    1                    1                     1                          \n",
       "1    1                    1                     1                          \n",
       "1    1                    1                     1                          \n",
       "    21                   21                    21                          \n",
       "    network_loneliness_t2 network_stress_t2 race    \n",
       "435  1                     1                 1     0\n",
       "49   1                     1                 0     1\n",
       "6    0                     0                 1    14\n",
       "1    0                     0                 0    15\n",
       "11   1                     1                 1     1\n",
       "3    1                     1                 0     2\n",
       "1    0                     0                 0    16\n",
       "11   0                     0                 1    15\n",
       "2    0                     0                 0    16\n",
       "9    1                     1                 1     1\n",
       "3    1                     1                 1     1\n",
       "1    1                     1                 0     2\n",
       "1    1                     1                 1     3\n",
       "1    1                     1                 1     3\n",
       "1    1                     1                 1     5\n",
       "1    1                     1                 1     4\n",
       "    21                    21                57   407"
      ]
     },
     "metadata": {},
     "output_type": "display_data"
    },
    {
     "data": {
      "image/png": "[encoded data removed]",
      "text/plain": [
       "plot without title"
      ]
     },
     "metadata": {
      "image/png": {
       "height": 420,
       "width": 420
      },
      "text/plain": {
       "height": 420,
       "width": 420
      }
     },
     "output_type": "display_data"
    }
   ],
   "source": [
    "md.pattern(df)"
   ]
  },
  {
   "cell_type": "code",
   "execution_count": 9,
   "metadata": {},
   "outputs": [],
   "source": [
    "# imputed <- mice(df, m=1)\n",
    "# df = complete(imputed)\n",
    "# sum(is.na(df))"
   ]
  },
  {
   "cell_type": "code",
   "execution_count": 10,
   "metadata": {},
   "outputs": [
    {
     "data": {
      "text/html": [
       "<ol class=list-inline>\n",
       "\t<li>536</li>\n",
       "\t<li>57</li>\n",
       "</ol>\n"
      ],
      "text/latex": [
       "\\begin{enumerate*}\n",
       "\\item 536\n",
       "\\item 57\n",
       "\\end{enumerate*}\n"
      ],
      "text/markdown": [
       "1. 536\n",
       "2. 57\n",
       "\n",
       "\n"
      ],
      "text/plain": [
       "[1] 536  57"
      ]
     },
     "metadata": {},
     "output_type": "display_data"
    },
    {
     "data": {
      "text/html": [
       "<ol class=list-inline>\n",
       "\t<li>435</li>\n",
       "\t<li>57</li>\n",
       "</ol>\n"
      ],
      "text/latex": [
       "\\begin{enumerate*}\n",
       "\\item 435\n",
       "\\item 57\n",
       "\\end{enumerate*}\n"
      ],
      "text/markdown": [
       "1. 435\n",
       "2. 57\n",
       "\n",
       "\n"
      ],
      "text/plain": [
       "[1] 435  57"
      ]
     },
     "metadata": {},
     "output_type": "display_data"
    }
   ],
   "source": [
    "dim(df)\n",
    "df = df[complete.cases(df), ]\n",
    "dim(df)"
   ]
  },
  {
   "cell_type": "markdown",
   "metadata": {},
   "source": [
    "## Model"
   ]
  },
  {
   "cell_type": "code",
   "execution_count": 11,
   "metadata": {},
   "outputs": [
    {
     "data": {
      "text/html": [
       "<table>\n",
       "<caption>A data.frame: 6 × 57</caption>\n",
       "<thead>\n",
       "\t<tr><th></th><th scope=col>PID</th><th scope=col>gender</th><th scope=col>race</th><th scope=col>dorm</th><th scope=col>life_satisfaction_t1</th><th scope=col>empathy</th><th scope=col>loneliness_t1</th><th scope=col>stress_t1</th><th scope=col>BFI_E</th><th scope=col>BFI_A</th><th scope=col>⋯</th><th scope=col>network_BFI_A</th><th scope=col>network_BFI_O</th><th scope=col>network_BFI_N</th><th scope=col>network_BFI_C</th><th scope=col>network_intl_student</th><th scope=col>network_family_income</th><th scope=col>network_life_satisfaction_t2</th><th scope=col>network_loneliness_t2</th><th scope=col>network_stress_t2</th><th scope=col>network_n_networkmates</th></tr>\n",
       "\t<tr><th></th><th scope=col>&lt;int&gt;</th><th scope=col>&lt;fct&gt;</th><th scope=col>&lt;fct&gt;</th><th scope=col>&lt;fct&gt;</th><th scope=col>&lt;dbl&gt;</th><th scope=col>&lt;dbl&gt;</th><th scope=col>&lt;dbl&gt;</th><th scope=col>&lt;dbl&gt;</th><th scope=col>&lt;dbl&gt;</th><th scope=col>&lt;dbl&gt;</th><th scope=col>⋯</th><th scope=col>&lt;dbl&gt;</th><th scope=col>&lt;dbl&gt;</th><th scope=col>&lt;dbl&gt;</th><th scope=col>&lt;dbl&gt;</th><th scope=col>&lt;dbl&gt;</th><th scope=col>&lt;dbl&gt;</th><th scope=col>&lt;dbl&gt;</th><th scope=col>&lt;dbl&gt;</th><th scope=col>&lt;dbl&gt;</th><th scope=col>&lt;dbl&gt;</th></tr>\n",
       "</thead>\n",
       "<tbody>\n",
       "\t<tr><th scope=row>1</th><td>1001</td><td>male  </td><td>south_asian   </td><td>Rinconada</td><td>4.833333</td><td>6.375</td><td>1.333333</td><td>2.5</td><td>6.5</td><td>6.0</td><td>⋯</td><td>4.750000</td><td>5.75</td><td>4.500000</td><td>5.000000</td><td>0.0000000</td><td>175000.00</td><td>5.750000</td><td>2.333333</td><td>1.75</td><td> 2</td></tr>\n",
       "\t<tr><th scope=row>2</th><td>1047</td><td>female</td><td>other_or_mixed</td><td>Twain    </td><td>5.333333</td><td>6.500</td><td>2.000000</td><td>2.5</td><td>5.5</td><td>6.5</td><td>⋯</td><td>5.416667</td><td>5.50</td><td>2.833333</td><td>5.166667</td><td>0.1666667</td><td> 91666.67</td><td>4.833333</td><td>1.444444</td><td>2.25</td><td> 6</td></tr>\n",
       "\t<tr><th scope=row>3</th><td>1078</td><td>female</td><td>east_asian    </td><td>Loro     </td><td>5.500000</td><td>6.250</td><td>1.333333</td><td>2.0</td><td>4.5</td><td>6.5</td><td>⋯</td><td>5.500000</td><td>3.50</td><td>1.500000</td><td>4.000000</td><td>0.0000000</td><td> 90000.00</td><td>4.666667</td><td>1.000000</td><td>1.50</td><td> 1</td></tr>\n",
       "\t<tr><th scope=row>4</th><td>1097</td><td>male  </td><td>east_asian    </td><td>Otero    </td><td>6.000000</td><td>5.000</td><td>2.000000</td><td>2.0</td><td>3.0</td><td>4.0</td><td>⋯</td><td>5.400000</td><td>5.10</td><td>3.100000</td><td>5.700000</td><td>0.0000000</td><td>130000.00</td><td>4.866667</td><td>2.133333</td><td>2.20</td><td> 5</td></tr>\n",
       "\t<tr><th scope=row>5</th><td>1105</td><td>female</td><td>white         </td><td>Larkin   </td><td>6.666667</td><td>5.750</td><td>2.000000</td><td>2.0</td><td>4.5</td><td>5.0</td><td>⋯</td><td>4.350000</td><td>5.65</td><td>3.750000</td><td>5.550000</td><td>0.2000000</td><td>161000.00</td><td>5.133333</td><td>1.966667</td><td>2.20</td><td>10</td></tr>\n",
       "\t<tr><th scope=row>6</th><td>1110</td><td>female</td><td>white         </td><td>Larkin   </td><td>5.166667</td><td>6.750</td><td>2.000000</td><td>2.0</td><td>6.5</td><td>5.0</td><td>⋯</td><td>5.250000</td><td>5.00</td><td>2.625000</td><td>5.750000</td><td>0.0000000</td><td>152500.00</td><td>5.750000</td><td>1.666667</td><td>2.00</td><td> 4</td></tr>\n",
       "</tbody>\n",
       "</table>\n"
      ],
      "text/latex": [
       "A data.frame: 6 × 57\n",
       "\\begin{tabular}{r|lllllllllllllllllllll}\n",
       "  & PID & gender & race & dorm & life\\_satisfaction\\_t1 & empathy & loneliness\\_t1 & stress\\_t1 & BFI\\_E & BFI\\_A & ⋯ & network\\_BFI\\_A & network\\_BFI\\_O & network\\_BFI\\_N & network\\_BFI\\_C & network\\_intl\\_student & network\\_family\\_income & network\\_life\\_satisfaction\\_t2 & network\\_loneliness\\_t2 & network\\_stress\\_t2 & network\\_n\\_networkmates\\\\\n",
       "  & <int> & <fct> & <fct> & <fct> & <dbl> & <dbl> & <dbl> & <dbl> & <dbl> & <dbl> & ⋯ & <dbl> & <dbl> & <dbl> & <dbl> & <dbl> & <dbl> & <dbl> & <dbl> & <dbl> & <dbl>\\\\\n",
       "\\hline\n",
       "\t1 & 1001 & male   & south\\_asian    & Rinconada & 4.833333 & 6.375 & 1.333333 & 2.5 & 6.5 & 6.0 & ⋯ & 4.750000 & 5.75 & 4.500000 & 5.000000 & 0.0000000 & 175000.00 & 5.750000 & 2.333333 & 1.75 &  2\\\\\n",
       "\t2 & 1047 & female & other\\_or\\_mixed & Twain     & 5.333333 & 6.500 & 2.000000 & 2.5 & 5.5 & 6.5 & ⋯ & 5.416667 & 5.50 & 2.833333 & 5.166667 & 0.1666667 &  91666.67 & 4.833333 & 1.444444 & 2.25 &  6\\\\\n",
       "\t3 & 1078 & female & east\\_asian     & Loro      & 5.500000 & 6.250 & 1.333333 & 2.0 & 4.5 & 6.5 & ⋯ & 5.500000 & 3.50 & 1.500000 & 4.000000 & 0.0000000 &  90000.00 & 4.666667 & 1.000000 & 1.50 &  1\\\\\n",
       "\t4 & 1097 & male   & east\\_asian     & Otero     & 6.000000 & 5.000 & 2.000000 & 2.0 & 3.0 & 4.0 & ⋯ & 5.400000 & 5.10 & 3.100000 & 5.700000 & 0.0000000 & 130000.00 & 4.866667 & 2.133333 & 2.20 &  5\\\\\n",
       "\t5 & 1105 & female & white          & Larkin    & 6.666667 & 5.750 & 2.000000 & 2.0 & 4.5 & 5.0 & ⋯ & 4.350000 & 5.65 & 3.750000 & 5.550000 & 0.2000000 & 161000.00 & 5.133333 & 1.966667 & 2.20 & 10\\\\\n",
       "\t6 & 1110 & female & white          & Larkin    & 5.166667 & 6.750 & 2.000000 & 2.0 & 6.5 & 5.0 & ⋯ & 5.250000 & 5.00 & 2.625000 & 5.750000 & 0.0000000 & 152500.00 & 5.750000 & 1.666667 & 2.00 &  4\\\\\n",
       "\\end{tabular}\n"
      ],
      "text/markdown": [
       "\n",
       "A data.frame: 6 × 57\n",
       "\n",
       "| <!--/--> | PID &lt;int&gt; | gender &lt;fct&gt; | race &lt;fct&gt; | dorm &lt;fct&gt; | life_satisfaction_t1 &lt;dbl&gt; | empathy &lt;dbl&gt; | loneliness_t1 &lt;dbl&gt; | stress_t1 &lt;dbl&gt; | BFI_E &lt;dbl&gt; | BFI_A &lt;dbl&gt; | ⋯ ⋯ | network_BFI_A &lt;dbl&gt; | network_BFI_O &lt;dbl&gt; | network_BFI_N &lt;dbl&gt; | network_BFI_C &lt;dbl&gt; | network_intl_student &lt;dbl&gt; | network_family_income &lt;dbl&gt; | network_life_satisfaction_t2 &lt;dbl&gt; | network_loneliness_t2 &lt;dbl&gt; | network_stress_t2 &lt;dbl&gt; | network_n_networkmates &lt;dbl&gt; |\n",
       "|---|---|---|---|---|---|---|---|---|---|---|---|---|---|---|---|---|---|---|---|---|---|\n",
       "| 1 | 1001 | male   | south_asian    | Rinconada | 4.833333 | 6.375 | 1.333333 | 2.5 | 6.5 | 6.0 | ⋯ | 4.750000 | 5.75 | 4.500000 | 5.000000 | 0.0000000 | 175000.00 | 5.750000 | 2.333333 | 1.75 |  2 |\n",
       "| 2 | 1047 | female | other_or_mixed | Twain     | 5.333333 | 6.500 | 2.000000 | 2.5 | 5.5 | 6.5 | ⋯ | 5.416667 | 5.50 | 2.833333 | 5.166667 | 0.1666667 |  91666.67 | 4.833333 | 1.444444 | 2.25 |  6 |\n",
       "| 3 | 1078 | female | east_asian     | Loro      | 5.500000 | 6.250 | 1.333333 | 2.0 | 4.5 | 6.5 | ⋯ | 5.500000 | 3.50 | 1.500000 | 4.000000 | 0.0000000 |  90000.00 | 4.666667 | 1.000000 | 1.50 |  1 |\n",
       "| 4 | 1097 | male   | east_asian     | Otero     | 6.000000 | 5.000 | 2.000000 | 2.0 | 3.0 | 4.0 | ⋯ | 5.400000 | 5.10 | 3.100000 | 5.700000 | 0.0000000 | 130000.00 | 4.866667 | 2.133333 | 2.20 |  5 |\n",
       "| 5 | 1105 | female | white          | Larkin    | 6.666667 | 5.750 | 2.000000 | 2.0 | 4.5 | 5.0 | ⋯ | 4.350000 | 5.65 | 3.750000 | 5.550000 | 0.2000000 | 161000.00 | 5.133333 | 1.966667 | 2.20 | 10 |\n",
       "| 6 | 1110 | female | white          | Larkin    | 5.166667 | 6.750 | 2.000000 | 2.0 | 6.5 | 5.0 | ⋯ | 5.250000 | 5.00 | 2.625000 | 5.750000 | 0.0000000 | 152500.00 | 5.750000 | 1.666667 | 2.00 |  4 |\n",
       "\n"
      ],
      "text/plain": [
       "  PID  gender race           dorm      life_satisfaction_t1 empathy\n",
       "1 1001 male   south_asian    Rinconada 4.833333             6.375  \n",
       "2 1047 female other_or_mixed Twain     5.333333             6.500  \n",
       "3 1078 female east_asian     Loro      5.500000             6.250  \n",
       "4 1097 male   east_asian     Otero     6.000000             5.000  \n",
       "5 1105 female white          Larkin    6.666667             5.750  \n",
       "6 1110 female white          Larkin    5.166667             6.750  \n",
       "  loneliness_t1 stress_t1 BFI_E BFI_A ⋯ network_BFI_A network_BFI_O\n",
       "1 1.333333      2.5       6.5   6.0   ⋯ 4.750000      5.75         \n",
       "2 2.000000      2.5       5.5   6.5   ⋯ 5.416667      5.50         \n",
       "3 1.333333      2.0       4.5   6.5   ⋯ 5.500000      3.50         \n",
       "4 2.000000      2.0       3.0   4.0   ⋯ 5.400000      5.10         \n",
       "5 2.000000      2.0       4.5   5.0   ⋯ 4.350000      5.65         \n",
       "6 2.000000      2.0       6.5   5.0   ⋯ 5.250000      5.00         \n",
       "  network_BFI_N network_BFI_C network_intl_student network_family_income\n",
       "1 4.500000      5.000000      0.0000000            175000.00            \n",
       "2 2.833333      5.166667      0.1666667             91666.67            \n",
       "3 1.500000      4.000000      0.0000000             90000.00            \n",
       "4 3.100000      5.700000      0.0000000            130000.00            \n",
       "5 3.750000      5.550000      0.2000000            161000.00            \n",
       "6 2.625000      5.750000      0.0000000            152500.00            \n",
       "  network_life_satisfaction_t2 network_loneliness_t2 network_stress_t2\n",
       "1 5.750000                     2.333333              1.75             \n",
       "2 4.833333                     1.444444              2.25             \n",
       "3 4.666667                     1.000000              1.50             \n",
       "4 4.866667                     2.133333              2.20             \n",
       "5 5.133333                     1.966667              2.20             \n",
       "6 5.750000                     1.666667              2.00             \n",
       "  network_n_networkmates\n",
       "1  2                    \n",
       "2  6                    \n",
       "3  1                    \n",
       "4  5                    \n",
       "5 10                    \n",
       "6  4                    "
      ]
     },
     "metadata": {},
     "output_type": "display_data"
    }
   ],
   "source": [
    "head(df)"
   ]
  },
  {
   "cell_type": "markdown",
   "metadata": {},
   "source": [
    "### Base models - predict well-being at t1 from well-being at t1"
   ]
  },
  {
   "cell_type": "code",
   "execution_count": 12,
   "metadata": {},
   "outputs": [
    {
     "data": {
      "text/plain": [
       "\n",
       "Call:\n",
       "lm(formula = as.formula(paste(DV_t2, \"~\", DV_t1)), data = df)\n",
       "\n",
       "Residuals:\n",
       "    Min      1Q  Median      3Q     Max \n",
       "-3.0002 -0.4718  0.0533  0.5375  3.3742 \n",
       "\n",
       "Coefficients:\n",
       "                     Estimate Std. Error t value Pr(>|t|)    \n",
       "(Intercept)           1.00299    0.17445   5.749 1.69e-08 ***\n",
       "life_satisfaction_t1  0.77366    0.03379  22.894  < 2e-16 ***\n",
       "---\n",
       "Signif. codes:  0 ‘***’ 0.001 ‘**’ 0.01 ‘*’ 0.05 ‘.’ 0.1 ‘ ’ 1\n",
       "\n",
       "Residual standard error: 0.809 on 433 degrees of freedom\n",
       "Multiple R-squared:  0.5476,\tAdjusted R-squared:  0.5466 \n",
       "F-statistic: 524.1 on 1 and 433 DF,  p-value: < 2.2e-16\n"
      ]
     },
     "metadata": {},
     "output_type": "display_data"
    }
   ],
   "source": [
    "base_model_one_predictor = lm(as.formula(paste(DV_t2, '~', DV_t1)), df)\n",
    "summary(base_model_one_predictor)"
   ]
  },
  {
   "cell_type": "code",
   "execution_count": 13,
   "metadata": {},
   "outputs": [
    {
     "data": {
      "text/plain": [
       "\n",
       "Call:\n",
       "lm(formula = as.formula(paste(DV_t2, \"~\", \"life_satisfaction_t1 + loneliness_t1 + stress_t1\")), \n",
       "    data = df)\n",
       "\n",
       "Residuals:\n",
       "    Min      1Q  Median      3Q     Max \n",
       "-3.0923 -0.4669  0.0314  0.5248  3.2511 \n",
       "\n",
       "Coefficients:\n",
       "                     Estimate Std. Error t value Pr(>|t|)    \n",
       "(Intercept)           2.04743    0.36194   5.657 2.81e-08 ***\n",
       "life_satisfaction_t1  0.70690    0.03959  17.854  < 2e-16 ***\n",
       "loneliness_t1        -0.13840    0.08318  -1.664  0.09686 .  \n",
       "stress_t1            -0.22047    0.07836  -2.814  0.00512 ** \n",
       "---\n",
       "Signif. codes:  0 ‘***’ 0.001 ‘**’ 0.01 ‘*’ 0.05 ‘.’ 0.1 ‘ ’ 1\n",
       "\n",
       "Residual standard error: 0.8003 on 431 degrees of freedom\n",
       "Multiple R-squared:  0.5594,\tAdjusted R-squared:  0.5563 \n",
       "F-statistic: 182.4 on 3 and 431 DF,  p-value: < 2.2e-16\n"
      ]
     },
     "metadata": {},
     "output_type": "display_data"
    },
    {
     "data": {
      "text/html": [
       "<table>\n",
       "<caption>A anova: 4 × 4</caption>\n",
       "<thead>\n",
       "\t<tr><th></th><th scope=col>Sum Sq</th><th scope=col>Df</th><th scope=col>F value</th><th scope=col>Pr(&gt;F)</th></tr>\n",
       "\t<tr><th></th><th scope=col>&lt;dbl&gt;</th><th scope=col>&lt;dbl&gt;</th><th scope=col>&lt;dbl&gt;</th><th scope=col>&lt;dbl&gt;</th></tr>\n",
       "</thead>\n",
       "<tbody>\n",
       "\t<tr><th scope=row>life_satisfaction_t1</th><td>204.139116</td><td>  1</td><td>318.759291</td><td>8.974803e-54</td></tr>\n",
       "\t<tr><th scope=row>loneliness_t1</th><td>  1.772982</td><td>  1</td><td>  2.768477</td><td>9.686447e-02</td></tr>\n",
       "\t<tr><th scope=row>stress_t1</th><td>  5.069685</td><td>  1</td><td>  7.916216</td><td>5.123526e-03</td></tr>\n",
       "\t<tr><th scope=row>Residuals</th><td>276.020061</td><td>431</td><td>        NA</td><td>          NA</td></tr>\n",
       "</tbody>\n",
       "</table>\n"
      ],
      "text/latex": [
       "A anova: 4 × 4\n",
       "\\begin{tabular}{r|llll}\n",
       "  & Sum Sq & Df & F value & Pr(>F)\\\\\n",
       "  & <dbl> & <dbl> & <dbl> & <dbl>\\\\\n",
       "\\hline\n",
       "\tlife\\_satisfaction\\_t1 & 204.139116 &   1 & 318.759291 & 8.974803e-54\\\\\n",
       "\tloneliness\\_t1 &   1.772982 &   1 &   2.768477 & 9.686447e-02\\\\\n",
       "\tstress\\_t1 &   5.069685 &   1 &   7.916216 & 5.123526e-03\\\\\n",
       "\tResiduals & 276.020061 & 431 &         NA &           NA\\\\\n",
       "\\end{tabular}\n"
      ],
      "text/markdown": [
       "\n",
       "A anova: 4 × 4\n",
       "\n",
       "| <!--/--> | Sum Sq &lt;dbl&gt; | Df &lt;dbl&gt; | F value &lt;dbl&gt; | Pr(&gt;F) &lt;dbl&gt; |\n",
       "|---|---|---|---|---|\n",
       "| life_satisfaction_t1 | 204.139116 |   1 | 318.759291 | 8.974803e-54 |\n",
       "| loneliness_t1 |   1.772982 |   1 |   2.768477 | 9.686447e-02 |\n",
       "| stress_t1 |   5.069685 |   1 |   7.916216 | 5.123526e-03 |\n",
       "| Residuals | 276.020061 | 431 |         NA |           NA |\n",
       "\n"
      ],
      "text/plain": [
       "                     Sum Sq     Df  F value    Pr(>F)      \n",
       "life_satisfaction_t1 204.139116   1 318.759291 8.974803e-54\n",
       "loneliness_t1          1.772982   1   2.768477 9.686447e-02\n",
       "stress_t1              5.069685   1   7.916216 5.123526e-03\n",
       "Residuals            276.020061 431         NA           NA"
      ]
     },
     "metadata": {},
     "output_type": "display_data"
    }
   ],
   "source": [
    "base_model <- lm(as.formula(paste(DV_t2, '~', 'life_satisfaction_t1 + loneliness_t1 + stress_t1')), df)\n",
    "summary(base_model)\n",
    "Anova(base_model)"
   ]
  },
  {
   "cell_type": "code",
   "execution_count": 14,
   "metadata": {},
   "outputs": [
    {
     "data": {
      "text/html": [
       "<table>\n",
       "<caption>A anova: 2 × 6</caption>\n",
       "<thead>\n",
       "\t<tr><th></th><th scope=col>Res.Df</th><th scope=col>RSS</th><th scope=col>Df</th><th scope=col>Sum of Sq</th><th scope=col>F</th><th scope=col>Pr(&gt;F)</th></tr>\n",
       "\t<tr><th></th><th scope=col>&lt;dbl&gt;</th><th scope=col>&lt;dbl&gt;</th><th scope=col>&lt;dbl&gt;</th><th scope=col>&lt;dbl&gt;</th><th scope=col>&lt;dbl&gt;</th><th scope=col>&lt;dbl&gt;</th></tr>\n",
       "</thead>\n",
       "<tbody>\n",
       "\t<tr><th scope=row>1</th><td>433</td><td>283.4085</td><td>NA</td><td>      NA</td><td>     NA</td><td>         NA</td></tr>\n",
       "\t<tr><th scope=row>2</th><td>431</td><td>276.0201</td><td> 2</td><td>7.388423</td><td>5.76844</td><td>0.003370861</td></tr>\n",
       "</tbody>\n",
       "</table>\n"
      ],
      "text/latex": [
       "A anova: 2 × 6\n",
       "\\begin{tabular}{r|llllll}\n",
       "  & Res.Df & RSS & Df & Sum of Sq & F & Pr(>F)\\\\\n",
       "  & <dbl> & <dbl> & <dbl> & <dbl> & <dbl> & <dbl>\\\\\n",
       "\\hline\n",
       "\t1 & 433 & 283.4085 & NA &       NA &      NA &          NA\\\\\n",
       "\t2 & 431 & 276.0201 &  2 & 7.388423 & 5.76844 & 0.003370861\\\\\n",
       "\\end{tabular}\n"
      ],
      "text/markdown": [
       "\n",
       "A anova: 2 × 6\n",
       "\n",
       "| <!--/--> | Res.Df &lt;dbl&gt; | RSS &lt;dbl&gt; | Df &lt;dbl&gt; | Sum of Sq &lt;dbl&gt; | F &lt;dbl&gt; | Pr(&gt;F) &lt;dbl&gt; |\n",
       "|---|---|---|---|---|---|---|\n",
       "| 1 | 433 | 283.4085 | NA |       NA |      NA |          NA |\n",
       "| 2 | 431 | 276.0201 |  2 | 7.388423 | 5.76844 | 0.003370861 |\n",
       "\n"
      ],
      "text/plain": [
       "  Res.Df RSS      Df Sum of Sq F       Pr(>F)     \n",
       "1 433    283.4085 NA       NA       NA          NA\n",
       "2 431    276.0201  2 7.388423  5.76844 0.003370861"
      ]
     },
     "metadata": {},
     "output_type": "display_data"
    }
   ],
   "source": [
    "anova(base_model_one_predictor, base_model)"
   ]
  },
  {
   "cell_type": "code",
   "execution_count": 15,
   "metadata": {},
   "outputs": [
    {
     "name": "stdout",
     "output_type": "stream",
     "text": [
      "[1] \"Before: 0.546560294021305\"\n",
      "[1] \"After: 0.556332135805455\"\n",
      "[1] \"Partial r² (adjusted): 0.0215504766241395\"\n"
     ]
    }
   ],
   "source": [
    "r1 = summary(base_model_one_predictor)$adj.r.squared\n",
    "r2 = summary(base_model)$adj.r.squared\n",
    "print(paste(\"Before:\", r1))\n",
    "print(paste(\"After:\", r2))\n",
    "print(paste(\"Partial r² (adjusted):\", (r2 - r1) / (1 - r1)))"
   ]
  },
  {
   "cell_type": "markdown",
   "metadata": {},
   "source": [
    "### Fixed-effects models: predict WB at t2 from WB and other personal factors at t1"
   ]
  },
  {
   "cell_type": "code",
   "execution_count": 16,
   "metadata": {},
   "outputs": [],
   "source": [
    "fixed_params = \"\n",
    "life_satisfaction_t1 + loneliness_t1 + stress_t1 +\n",
    "edges_in + edges_out +\n",
    "C(gender) + C(race) + empathy +\n",
    "BFI_E + BFI_O + BFI_C + BFI_A + BFI_N +\n",
    "intl_student + parent_education_highest + log10(family_income)\""
   ]
  },
  {
   "cell_type": "code",
   "execution_count": 17,
   "metadata": {},
   "outputs": [
    {
     "data": {
      "text/plain": [
       "\n",
       "Call:\n",
       "lm(formula = as.formula(paste(DV_t2, \"~\", fixed_params)), data = df)\n",
       "\n",
       "Residuals:\n",
       "     Min       1Q   Median       3Q      Max \n",
       "-2.68434 -0.44552  0.05092  0.48370  3.02338 \n",
       "\n",
       "Coefficients:\n",
       "                                            Estimate Std. Error t value\n",
       "(Intercept)                                 0.728050   0.823591   0.884\n",
       "life_satisfaction_t1                        0.668174   0.043448  15.379\n",
       "loneliness_t1                              -0.126594   0.089481  -1.415\n",
       "stress_t1                                  -0.180908   0.094305  -1.918\n",
       "edges_in                                    0.032567   0.014901   2.186\n",
       "edges_out                                   0.017490   0.009535   1.834\n",
       "C(gender)male                              -0.049251   0.086574  -0.569\n",
       "C(gender)other                              0.212602   0.585161   0.363\n",
       "C(race)east_asian                           0.192260   0.139363   1.380\n",
       "C(race)hispanic                             0.217326   0.155477   1.398\n",
       "C(race)other_or_mixed                       0.216766   0.157765   1.374\n",
       "C(race)south_asian                          0.326143   0.165618   1.969\n",
       "C(race)white                                0.218883   0.138079   1.585\n",
       "empathy                                    -0.054720   0.068647  -0.797\n",
       "BFI_E                                       0.014696   0.030054   0.489\n",
       "BFI_O                                      -0.002800   0.041683  -0.067\n",
       "BFI_C                                       0.070742   0.035740   1.979\n",
       "BFI_A                                      -0.015789   0.041583  -0.380\n",
       "BFI_N                                      -0.030597   0.039125  -0.782\n",
       "intl_student                               -0.002326   0.126882  -0.018\n",
       "parent_education_highest1_ hs              -0.229883   0.190102  -1.209\n",
       "parent_education_highest2_college_twoyear  -0.253070   0.266288  -0.950\n",
       "parent_education_highest3_college_fouryear -0.357229   0.196232  -1.820\n",
       "parent_education_highest4_masters          -0.321989   0.194174  -1.658\n",
       "parent_education_highest5_advanced         -0.257021   0.199567  -1.288\n",
       "log10(family_income)                        0.252199   0.137524   1.834\n",
       "                                           Pr(>|t|)    \n",
       "(Intercept)                                  0.3772    \n",
       "life_satisfaction_t1                         <2e-16 ***\n",
       "loneliness_t1                                0.1579    \n",
       "stress_t1                                    0.0558 .  \n",
       "edges_in                                     0.0294 *  \n",
       "edges_out                                    0.0674 .  \n",
       "C(gender)male                                0.5697    \n",
       "C(gender)other                               0.7166    \n",
       "C(race)east_asian                            0.1685    \n",
       "C(race)hispanic                              0.1629    \n",
       "C(race)other_or_mixed                        0.1702    \n",
       "C(race)south_asian                           0.0496 *  \n",
       "C(race)white                                 0.1137    \n",
       "empathy                                      0.4258    \n",
       "BFI_E                                        0.6251    \n",
       "BFI_O                                        0.9465    \n",
       "BFI_C                                        0.0484 *  \n",
       "BFI_A                                        0.7044    \n",
       "BFI_N                                        0.4346    \n",
       "intl_student                                 0.9854    \n",
       "parent_education_highest1_ hs                0.2273    \n",
       "parent_education_highest2_college_twoyear    0.3425    \n",
       "parent_education_highest3_college_fouryear   0.0694 .  \n",
       "parent_education_highest4_masters            0.0980 .  \n",
       "parent_education_highest5_advanced           0.1985    \n",
       "log10(family_income)                         0.0674 .  \n",
       "---\n",
       "Signif. codes:  0 ‘***’ 0.001 ‘**’ 0.01 ‘*’ 0.05 ‘.’ 0.1 ‘ ’ 1\n",
       "\n",
       "Residual standard error: 0.7928 on 409 degrees of freedom\n",
       "Multiple R-squared:  0.5896,\tAdjusted R-squared:  0.5645 \n",
       "F-statistic:  23.5 on 25 and 409 DF,  p-value: < 2.2e-16\n"
      ]
     },
     "metadata": {},
     "output_type": "display_data"
    }
   ],
   "source": [
    "fixed_model = lm(as.formula(paste(DV_t2, '~', fixed_params)), df)\n",
    "summary(fixed_model)"
   ]
  },
  {
   "cell_type": "code",
   "execution_count": 18,
   "metadata": {},
   "outputs": [
    {
     "data": {
      "text/html": [
       "<table>\n",
       "<caption>A anova: 2 × 6</caption>\n",
       "<thead>\n",
       "\t<tr><th></th><th scope=col>Res.Df</th><th scope=col>RSS</th><th scope=col>Df</th><th scope=col>Sum of Sq</th><th scope=col>F</th><th scope=col>Pr(&gt;F)</th></tr>\n",
       "\t<tr><th></th><th scope=col>&lt;dbl&gt;</th><th scope=col>&lt;dbl&gt;</th><th scope=col>&lt;dbl&gt;</th><th scope=col>&lt;dbl&gt;</th><th scope=col>&lt;dbl&gt;</th><th scope=col>&lt;dbl&gt;</th></tr>\n",
       "</thead>\n",
       "<tbody>\n",
       "\t<tr><th scope=row>1</th><td>431</td><td>276.0201</td><td>NA</td><td>      NA</td><td>      NA</td><td>       NA</td></tr>\n",
       "\t<tr><th scope=row>2</th><td>409</td><td>257.0937</td><td>22</td><td>18.92632</td><td>1.368596</td><td>0.1245384</td></tr>\n",
       "</tbody>\n",
       "</table>\n"
      ],
      "text/latex": [
       "A anova: 2 × 6\n",
       "\\begin{tabular}{r|llllll}\n",
       "  & Res.Df & RSS & Df & Sum of Sq & F & Pr(>F)\\\\\n",
       "  & <dbl> & <dbl> & <dbl> & <dbl> & <dbl> & <dbl>\\\\\n",
       "\\hline\n",
       "\t1 & 431 & 276.0201 & NA &       NA &       NA &        NA\\\\\n",
       "\t2 & 409 & 257.0937 & 22 & 18.92632 & 1.368596 & 0.1245384\\\\\n",
       "\\end{tabular}\n"
      ],
      "text/markdown": [
       "\n",
       "A anova: 2 × 6\n",
       "\n",
       "| <!--/--> | Res.Df &lt;dbl&gt; | RSS &lt;dbl&gt; | Df &lt;dbl&gt; | Sum of Sq &lt;dbl&gt; | F &lt;dbl&gt; | Pr(&gt;F) &lt;dbl&gt; |\n",
       "|---|---|---|---|---|---|---|\n",
       "| 1 | 431 | 276.0201 | NA |       NA |       NA |        NA |\n",
       "| 2 | 409 | 257.0937 | 22 | 18.92632 | 1.368596 | 0.1245384 |\n",
       "\n"
      ],
      "text/plain": [
       "  Res.Df RSS      Df Sum of Sq F        Pr(>F)   \n",
       "1 431    276.0201 NA       NA        NA        NA\n",
       "2 409    257.0937 22 18.92632  1.368596 0.1245384"
      ]
     },
     "metadata": {},
     "output_type": "display_data"
    }
   ],
   "source": [
    "anova(base_model, fixed_model)"
   ]
  },
  {
   "cell_type": "code",
   "execution_count": 19,
   "metadata": {},
   "outputs": [
    {
     "name": "stdout",
     "output_type": "stream",
     "text": [
      "[1] \"Before: 0.556332135805455\"\n",
      "[1] \"After: 0.56452543483313\"\n",
      "[1] \"Partial r² (adjusted): 0.0184671906371889\"\n"
     ]
    }
   ],
   "source": [
    "r1 = summary(base_model)$adj.r.squared\n",
    "r2 = summary(fixed_model)$adj.r.squared\n",
    "print(paste(\"Before:\", r1))\n",
    "print(paste(\"After:\", r2))\n",
    "print(paste(\"Partial r² (adjusted):\", (r2 - r1) / (1 - r1)))"
   ]
  },
  {
   "cell_type": "markdown",
   "metadata": {},
   "source": [
    "### Lets reduce our fixed effects model to only wellbeing and in/out degree measures"
   ]
  },
  {
   "cell_type": "code",
   "execution_count": 20,
   "metadata": {},
   "outputs": [
    {
     "data": {
      "text/plain": [
       "\n",
       "Call:\n",
       "lm(formula = as.formula(paste(DV_t2, \"~ life_satisfaction_t1 + stress_t1 +\\n                                                loneliness_t1 + edges_in + edges_out\")), \n",
       "    data = df)\n",
       "\n",
       "Residuals:\n",
       "    Min      1Q  Median      3Q     Max \n",
       "-3.0112 -0.4485  0.0242  0.5022  3.1195 \n",
       "\n",
       "Coefficients:\n",
       "                      Estimate Std. Error t value Pr(>|t|)    \n",
       "(Intercept)           1.720482   0.371432   4.632 4.81e-06 ***\n",
       "life_satisfaction_t1  0.704021   0.039270  17.928  < 2e-16 ***\n",
       "stress_t1            -0.212245   0.077713  -2.731  0.00657 ** \n",
       "loneliness_t1        -0.121572   0.082731  -1.469  0.14243    \n",
       "edges_in              0.028093   0.013993   2.008  0.04530 *  \n",
       "edges_out             0.018648   0.009413   1.981  0.04822 *  \n",
       "---\n",
       "Signif. codes:  0 ‘***’ 0.001 ‘**’ 0.01 ‘*’ 0.05 ‘.’ 0.1 ‘ ’ 1\n",
       "\n",
       "Residual standard error: 0.7919 on 429 degrees of freedom\n",
       "Multiple R-squared:  0.5705,\tAdjusted R-squared:  0.5655 \n",
       "F-statistic:   114 on 5 and 429 DF,  p-value: < 2.2e-16\n"
      ]
     },
     "metadata": {},
     "output_type": "display_data"
    }
   ],
   "source": [
    "fixed_model_inout = lm(as.formula(paste(DV_t2, \"~ life_satisfaction_t1 + stress_t1 +\n",
    "                                                loneliness_t1 + edges_in + edges_out\")), df)\n",
    "summary(fixed_model_inout)"
   ]
  },
  {
   "cell_type": "code",
   "execution_count": 21,
   "metadata": {},
   "outputs": [
    {
     "data": {
      "text/html": [
       "<table>\n",
       "<caption>A anova: 2 × 6</caption>\n",
       "<thead>\n",
       "\t<tr><th></th><th scope=col>Res.Df</th><th scope=col>RSS</th><th scope=col>Df</th><th scope=col>Sum of Sq</th><th scope=col>F</th><th scope=col>Pr(&gt;F)</th></tr>\n",
       "\t<tr><th></th><th scope=col>&lt;dbl&gt;</th><th scope=col>&lt;dbl&gt;</th><th scope=col>&lt;dbl&gt;</th><th scope=col>&lt;dbl&gt;</th><th scope=col>&lt;dbl&gt;</th><th scope=col>&lt;dbl&gt;</th></tr>\n",
       "</thead>\n",
       "<tbody>\n",
       "\t<tr><th scope=row>1</th><td>431</td><td>276.0201</td><td>NA</td><td>      NA</td><td>      NA</td><td>         NA</td></tr>\n",
       "\t<tr><th scope=row>2</th><td>429</td><td>269.0489</td><td> 2</td><td>6.971154</td><td>5.557772</td><td>0.004140288</td></tr>\n",
       "</tbody>\n",
       "</table>\n"
      ],
      "text/latex": [
       "A anova: 2 × 6\n",
       "\\begin{tabular}{r|llllll}\n",
       "  & Res.Df & RSS & Df & Sum of Sq & F & Pr(>F)\\\\\n",
       "  & <dbl> & <dbl> & <dbl> & <dbl> & <dbl> & <dbl>\\\\\n",
       "\\hline\n",
       "\t1 & 431 & 276.0201 & NA &       NA &       NA &          NA\\\\\n",
       "\t2 & 429 & 269.0489 &  2 & 6.971154 & 5.557772 & 0.004140288\\\\\n",
       "\\end{tabular}\n"
      ],
      "text/markdown": [
       "\n",
       "A anova: 2 × 6\n",
       "\n",
       "| <!--/--> | Res.Df &lt;dbl&gt; | RSS &lt;dbl&gt; | Df &lt;dbl&gt; | Sum of Sq &lt;dbl&gt; | F &lt;dbl&gt; | Pr(&gt;F) &lt;dbl&gt; |\n",
       "|---|---|---|---|---|---|---|\n",
       "| 1 | 431 | 276.0201 | NA |       NA |       NA |          NA |\n",
       "| 2 | 429 | 269.0489 |  2 | 6.971154 | 5.557772 | 0.004140288 |\n",
       "\n"
      ],
      "text/plain": [
       "  Res.Df RSS      Df Sum of Sq F        Pr(>F)     \n",
       "1 431    276.0201 NA       NA        NA          NA\n",
       "2 429    269.0489  2 6.971154  5.557772 0.004140288"
      ]
     },
     "metadata": {},
     "output_type": "display_data"
    }
   ],
   "source": [
    "anova(base_model, fixed_model_inout)"
   ]
  },
  {
   "cell_type": "code",
   "execution_count": 22,
   "metadata": {},
   "outputs": [
    {
     "name": "stdout",
     "output_type": "stream",
     "text": [
      "[1] \"Before: 0.556332135805455\"\n",
      "[1] \"After: 0.565521254253014\"\n",
      "[1] \"Partial r² (adjusted): 0.0207117061864302\"\n"
     ]
    }
   ],
   "source": [
    "r1 = summary(base_model)$adj.r.squared\n",
    "r2 = summary(fixed_model_inout)$adj.r.squared\n",
    "print(paste(\"Before:\", r1))\n",
    "print(paste(\"After:\", r2))\n",
    "print(paste(\"Partial r² (adjusted):\", (r2 - r1) / (1 - r1)))"
   ]
  },
  {
   "cell_type": "markdown",
   "metadata": {},
   "source": [
    "### Examine residuals by dorm. If there is a sigificant dorm-wide effect, we should see some clear boxes that are above and below zero. (Spoiler alert: we don't)"
   ]
  },
  {
   "cell_type": "code",
   "execution_count": 23,
   "metadata": {},
   "outputs": [],
   "source": [
    "df$residuals = fixed_model$residuals"
   ]
  },
  {
   "cell_type": "code",
   "execution_count": 24,
   "metadata": {},
   "outputs": [
    {
     "data": {
      "image/png": "[encoded data removed]",
      "text/plain": [
       "plot without title"
      ]
     },
     "metadata": {
      "image/png": {
       "height": 420,
       "width": 420
      },
      "text/plain": {
       "height": 420,
       "width": 420
      }
     },
     "output_type": "display_data"
    }
   ],
   "source": [
    "ggplot(data=df, mapping=aes(dorm, residuals)) + \n",
    "  geom_boxplot(aes(color=dorm)) + coord_flip()"
   ]
  },
  {
   "cell_type": "markdown",
   "metadata": {},
   "source": [
    "## Add random effect for dorm, see if significant variance is attributable to dorm membership"
   ]
  },
  {
   "cell_type": "code",
   "execution_count": 25,
   "metadata": {},
   "outputs": [
    {
     "name": "stderr",
     "output_type": "stream",
     "text": [
      "boundary (singular) fit: see ?isSingular\n",
      "\n",
      "\n",
      "Correlation matrix not shown by default, as p = 26 > 12.\n",
      "Use print(obj, correlation=TRUE)  or\n",
      "    vcov(obj)        if you need it\n",
      "\n",
      "\n"
     ]
    },
    {
     "data": {
      "text/plain": [
       "Linear mixed model fit by REML. t-tests use Satterthwaite's method [\n",
       "lmerModLmerTest]\n",
       "Formula: as.formula(paste(DV_t2, \"~\", fixed_params, \"+ (1|dorm)\"))\n",
       "   Data: df\n",
       "\n",
       "REML criterion at convergence: 1094.5\n",
       "\n",
       "Scaled residuals: \n",
       "    Min      1Q  Median      3Q     Max \n",
       "-3.3857 -0.5619  0.0642  0.6101  3.8134 \n",
       "\n",
       "Random effects:\n",
       " Groups   Name        Variance Std.Dev.\n",
       " dorm     (Intercept) 0.0000   0.0000  \n",
       " Residual             0.6286   0.7928  \n",
       "Number of obs: 435, groups:  dorm, 21\n",
       "\n",
       "Fixed effects:\n",
       "                                             Estimate Std. Error         df\n",
       "(Intercept)                                  0.728050   0.823591 409.000000\n",
       "life_satisfaction_t1                         0.668174   0.043448 409.000000\n",
       "loneliness_t1                               -0.126594   0.089481 409.000000\n",
       "stress_t1                                   -0.180908   0.094305 409.000000\n",
       "edges_in                                     0.032567   0.014901 409.000000\n",
       "edges_out                                    0.017490   0.009535 409.000000\n",
       "C(gender)male                               -0.049251   0.086574 409.000000\n",
       "C(gender)other                               0.212602   0.585161 409.000000\n",
       "C(race)east_asian                            0.192260   0.139363 409.000000\n",
       "C(race)hispanic                              0.217326   0.155477 409.000000\n",
       "C(race)other_or_mixed                        0.216766   0.157765 409.000000\n",
       "C(race)south_asian                           0.326143   0.165618 409.000000\n",
       "C(race)white                                 0.218883   0.138079 409.000000\n",
       "empathy                                     -0.054720   0.068647 409.000000\n",
       "BFI_E                                        0.014696   0.030054 409.000000\n",
       "BFI_O                                       -0.002800   0.041683 409.000000\n",
       "BFI_C                                        0.070742   0.035740 409.000000\n",
       "BFI_A                                       -0.015789   0.041583 409.000000\n",
       "BFI_N                                       -0.030597   0.039125 409.000000\n",
       "intl_student                                -0.002326   0.126882 409.000000\n",
       "parent_education_highest1_ hs               -0.229883   0.190102 409.000000\n",
       "parent_education_highest2_college_twoyear   -0.253070   0.266288 409.000000\n",
       "parent_education_highest3_college_fouryear  -0.357229   0.196232 409.000000\n",
       "parent_education_highest4_masters           -0.321989   0.194174 409.000000\n",
       "parent_education_highest5_advanced          -0.257021   0.199567 409.000000\n",
       "log10(family_income)                         0.252199   0.137524 409.000000\n",
       "                                           t value Pr(>|t|)    \n",
       "(Intercept)                                  0.884   0.3772    \n",
       "life_satisfaction_t1                        15.379   <2e-16 ***\n",
       "loneliness_t1                               -1.415   0.1579    \n",
       "stress_t1                                   -1.918   0.0558 .  \n",
       "edges_in                                     2.186   0.0294 *  \n",
       "edges_out                                    1.834   0.0674 .  \n",
       "C(gender)male                               -0.569   0.5697    \n",
       "C(gender)other                               0.363   0.7166    \n",
       "C(race)east_asian                            1.380   0.1685    \n",
       "C(race)hispanic                              1.398   0.1629    \n",
       "C(race)other_or_mixed                        1.374   0.1702    \n",
       "C(race)south_asian                           1.969   0.0496 *  \n",
       "C(race)white                                 1.585   0.1137    \n",
       "empathy                                     -0.797   0.4258    \n",
       "BFI_E                                        0.489   0.6251    \n",
       "BFI_O                                       -0.067   0.9465    \n",
       "BFI_C                                        1.979   0.0484 *  \n",
       "BFI_A                                       -0.380   0.7044    \n",
       "BFI_N                                       -0.782   0.4346    \n",
       "intl_student                                -0.018   0.9854    \n",
       "parent_education_highest1_ hs               -1.209   0.2273    \n",
       "parent_education_highest2_college_twoyear   -0.950   0.3425    \n",
       "parent_education_highest3_college_fouryear  -1.820   0.0694 .  \n",
       "parent_education_highest4_masters           -1.658   0.0980 .  \n",
       "parent_education_highest5_advanced          -1.288   0.1985    \n",
       "log10(family_income)                         1.834   0.0674 .  \n",
       "---\n",
       "Signif. codes:  0 ‘***’ 0.001 ‘**’ 0.01 ‘*’ 0.05 ‘.’ 0.1 ‘ ’ 1\n",
       "convergence code: 0\n",
       "boundary (singular) fit: see ?isSingular\n"
      ]
     },
     "metadata": {},
     "output_type": "display_data"
    }
   ],
   "source": [
    "mixed_model = lmer(as.formula(paste(DV_t2, '~', fixed_params, \"+ (1|dorm)\")), df)\n",
    "summary(mixed_model)"
   ]
  },
  {
   "cell_type": "markdown",
   "metadata": {},
   "source": [
    "### Try again, with some dorm-level covariates"
   ]
  },
  {
   "cell_type": "code",
   "execution_count": 26,
   "metadata": {},
   "outputs": [
    {
     "name": "stderr",
     "output_type": "stream",
     "text": [
      "boundary (singular) fit: see ?isSingular\n",
      "\n",
      "\n",
      "Correlation matrix not shown by default, as p = 26 > 12.\n",
      "Use print(obj, correlation=TRUE)  or\n",
      "    vcov(obj)        if you need it\n",
      "\n",
      "\n"
     ]
    },
    {
     "data": {
      "text/plain": [
       "Linear mixed model fit by REML. t-tests use Satterthwaite's method [\n",
       "lmerModLmerTest]\n",
       "Formula: \n",
       "as.formula(paste(DV_t2, \"~\", fixed_params, \"+ (1 + dorm_BFI_E + dorm_life_satisfaction_t1|dorm)\"))\n",
       "   Data: df\n",
       "\n",
       "REML criterion at convergence: 1094.5\n",
       "\n",
       "Scaled residuals: \n",
       "    Min      1Q  Median      3Q     Max \n",
       "-3.3859 -0.5709  0.0668  0.6137  3.8164 \n",
       "\n",
       "Random effects:\n",
       " Groups   Name                      Variance Std.Dev. Corr       \n",
       " dorm     (Intercept)               0.073276 0.27070             \n",
       "          dorm_BFI_E                0.002113 0.04597   1.00      \n",
       "          dorm_life_satisfaction_t1 0.009402 0.09696  -1.00 -1.00\n",
       " Residual                           0.627377 0.79207             \n",
       "Number of obs: 435, groups:  dorm, 21\n",
       "\n",
       "Fixed effects:\n",
       "                                             Estimate Std. Error         df\n",
       "(Intercept)                                  0.741745   0.823761 408.386399\n",
       "life_satisfaction_t1                         0.668062   0.043448 408.919532\n",
       "loneliness_t1                               -0.124997   0.089452 408.342592\n",
       "stress_t1                                   -0.180386   0.094237 405.899265\n",
       "edges_in                                     0.032473   0.014913 403.426102\n",
       "edges_out                                    0.017688   0.009535 408.957247\n",
       "C(gender)male                               -0.048703   0.086557 408.530597\n",
       "C(gender)other                               0.217183   0.584887 407.592954\n",
       "C(race)east_asian                            0.191805   0.139335 407.619188\n",
       "C(race)hispanic                              0.217249   0.155455 407.605210\n",
       "C(race)other_or_mixed                        0.218379   0.157772 407.600117\n",
       "C(race)south_asian                           0.326062   0.165531 407.267314\n",
       "C(race)white                                 0.220030   0.138013 407.171129\n",
       "empathy                                     -0.054636   0.068631 408.629018\n",
       "BFI_E                                        0.015378   0.030062 406.927787\n",
       "BFI_O                                       -0.003549   0.041676 408.055424\n",
       "BFI_C                                        0.070351   0.035730 408.097476\n",
       "BFI_A                                       -0.016156   0.041568 408.190304\n",
       "BFI_N                                       -0.030644   0.039107 407.659644\n",
       "intl_student                                -0.003664   0.126859 408.807582\n",
       "parent_education_highest1_ hs               -0.231842   0.190129 408.750643\n",
       "parent_education_highest2_college_twoyear   -0.250233   0.266121 406.629184\n",
       "parent_education_highest3_college_fouryear  -0.359951   0.196118 406.954030\n",
       "parent_education_highest4_masters           -0.320888   0.194059 406.943335\n",
       "parent_education_highest5_advanced          -0.256278   0.199482 408.019637\n",
       "log10(family_income)                         0.248803   0.137581 406.851985\n",
       "                                           t value Pr(>|t|)    \n",
       "(Intercept)                                  0.900   0.3684    \n",
       "life_satisfaction_t1                        15.376   <2e-16 ***\n",
       "loneliness_t1                               -1.397   0.1631    \n",
       "stress_t1                                   -1.914   0.0563 .  \n",
       "edges_in                                     2.177   0.0300 *  \n",
       "edges_out                                    1.855   0.0643 .  \n",
       "C(gender)male                               -0.563   0.5740    \n",
       "C(gender)other                               0.371   0.7106    \n",
       "C(race)east_asian                            1.377   0.1694    \n",
       "C(race)hispanic                              1.398   0.1630    \n",
       "C(race)other_or_mixed                        1.384   0.1671    \n",
       "C(race)south_asian                           1.970   0.0495 *  \n",
       "C(race)white                                 1.594   0.1117    \n",
       "empathy                                     -0.796   0.4264    \n",
       "BFI_E                                        0.512   0.6092    \n",
       "BFI_O                                       -0.085   0.9322    \n",
       "BFI_C                                        1.969   0.0496 *  \n",
       "BFI_A                                       -0.389   0.6977    \n",
       "BFI_N                                       -0.784   0.4337    \n",
       "intl_student                                -0.029   0.9770    \n",
       "parent_education_highest1_ hs               -1.219   0.2234    \n",
       "parent_education_highest2_college_twoyear   -0.940   0.3476    \n",
       "parent_education_highest3_college_fouryear  -1.835   0.0672 .  \n",
       "parent_education_highest4_masters           -1.654   0.0990 .  \n",
       "parent_education_highest5_advanced          -1.285   0.1996    \n",
       "log10(family_income)                         1.808   0.0713 .  \n",
       "---\n",
       "Signif. codes:  0 ‘***’ 0.001 ‘**’ 0.01 ‘*’ 0.05 ‘.’ 0.1 ‘ ’ 1\n",
       "convergence code: 0\n",
       "boundary (singular) fit: see ?isSingular\n"
      ]
     },
     "metadata": {},
     "output_type": "display_data"
    }
   ],
   "source": [
    "mixed_model_with_l2_covariates = lmer(as.formula(paste(\n",
    "    DV_t2, '~', fixed_params,\n",
    "    \"+ (1 + dorm_BFI_E + dorm_life_satisfaction_t1|dorm)\")),\n",
    "    df)\n",
    "summary(mixed_model_with_l2_covariates)"
   ]
  },
  {
   "cell_type": "code",
   "execution_count": 27,
   "metadata": {},
   "outputs": [
    {
     "name": "stderr",
     "output_type": "stream",
     "text": [
      "refitting model(s) with ML (instead of REML)\n",
      "\n"
     ]
    },
    {
     "data": {
      "text/html": [
       "<table>\n",
       "<caption>A anova: 2 × 8</caption>\n",
       "<thead>\n",
       "\t<tr><th></th><th scope=col>Df</th><th scope=col>AIC</th><th scope=col>BIC</th><th scope=col>logLik</th><th scope=col>deviance</th><th scope=col>Chisq</th><th scope=col>Chi Df</th><th scope=col>Pr(&gt;Chisq)</th></tr>\n",
       "\t<tr><th></th><th scope=col>&lt;dbl&gt;</th><th scope=col>&lt;dbl&gt;</th><th scope=col>&lt;dbl&gt;</th><th scope=col>&lt;dbl&gt;</th><th scope=col>&lt;dbl&gt;</th><th scope=col>&lt;dbl&gt;</th><th scope=col>&lt;dbl&gt;</th><th scope=col>&lt;dbl&gt;</th></tr>\n",
       "</thead>\n",
       "<tbody>\n",
       "\t<tr><th scope=row>mixed_model</th><td>28</td><td>1061.708</td><td>1175.817</td><td>-502.8539</td><td>1005.708</td><td>        NA</td><td>NA</td><td>       NA</td></tr>\n",
       "\t<tr><th scope=row>mixed_model_with_l2_covariates</th><td>33</td><td>1071.689</td><td>1206.176</td><td>-502.8447</td><td>1005.689</td><td>0.01835793</td><td> 5</td><td>0.9999976</td></tr>\n",
       "</tbody>\n",
       "</table>\n"
      ],
      "text/latex": [
       "A anova: 2 × 8\n",
       "\\begin{tabular}{r|llllllll}\n",
       "  & Df & AIC & BIC & logLik & deviance & Chisq & Chi Df & Pr(>Chisq)\\\\\n",
       "  & <dbl> & <dbl> & <dbl> & <dbl> & <dbl> & <dbl> & <dbl> & <dbl>\\\\\n",
       "\\hline\n",
       "\tmixed\\_model & 28 & 1061.708 & 1175.817 & -502.8539 & 1005.708 &         NA & NA &        NA\\\\\n",
       "\tmixed\\_model\\_with\\_l2\\_covariates & 33 & 1071.689 & 1206.176 & -502.8447 & 1005.689 & 0.01835793 &  5 & 0.9999976\\\\\n",
       "\\end{tabular}\n"
      ],
      "text/markdown": [
       "\n",
       "A anova: 2 × 8\n",
       "\n",
       "| <!--/--> | Df &lt;dbl&gt; | AIC &lt;dbl&gt; | BIC &lt;dbl&gt; | logLik &lt;dbl&gt; | deviance &lt;dbl&gt; | Chisq &lt;dbl&gt; | Chi Df &lt;dbl&gt; | Pr(&gt;Chisq) &lt;dbl&gt; |\n",
       "|---|---|---|---|---|---|---|---|---|\n",
       "| mixed_model | 28 | 1061.708 | 1175.817 | -502.8539 | 1005.708 |         NA | NA |        NA |\n",
       "| mixed_model_with_l2_covariates | 33 | 1071.689 | 1206.176 | -502.8447 | 1005.689 | 0.01835793 |  5 | 0.9999976 |\n",
       "\n"
      ],
      "text/plain": [
       "                               Df AIC      BIC      logLik    deviance\n",
       "mixed_model                    28 1061.708 1175.817 -502.8539 1005.708\n",
       "mixed_model_with_l2_covariates 33 1071.689 1206.176 -502.8447 1005.689\n",
       "                               Chisq      Chi Df Pr(>Chisq)\n",
       "mixed_model                            NA NA            NA \n",
       "mixed_model_with_l2_covariates 0.01835793  5     0.9999976 "
      ]
     },
     "metadata": {},
     "output_type": "display_data"
    }
   ],
   "source": [
    "anova(mixed_model, mixed_model_with_l2_covariates, refit=TRUE)"
   ]
  },
  {
   "cell_type": "code",
   "execution_count": 28,
   "metadata": {},
   "outputs": [
    {
     "data": {
      "text/html": [
       "<table>\n",
       "<caption>A anova: 2 × 8</caption>\n",
       "<thead>\n",
       "\t<tr><th></th><th scope=col>Df</th><th scope=col>AIC</th><th scope=col>BIC</th><th scope=col>logLik</th><th scope=col>deviance</th><th scope=col>Chisq</th><th scope=col>Chi Df</th><th scope=col>Pr(&gt;Chisq)</th></tr>\n",
       "\t<tr><th></th><th scope=col>&lt;dbl&gt;</th><th scope=col>&lt;dbl&gt;</th><th scope=col>&lt;dbl&gt;</th><th scope=col>&lt;dbl&gt;</th><th scope=col>&lt;dbl&gt;</th><th scope=col>&lt;dbl&gt;</th><th scope=col>&lt;dbl&gt;</th><th scope=col>&lt;dbl&gt;</th></tr>\n",
       "</thead>\n",
       "<tbody>\n",
       "\t<tr><th scope=row>mixed_model</th><td>28</td><td>1150.502</td><td>1264.612</td><td>-547.2510</td><td>1094.502</td><td>        NA</td><td>NA</td><td>       NA</td></tr>\n",
       "\t<tr><th scope=row>mixed_model_with_l2_covariates</th><td>33</td><td>1160.453</td><td>1294.939</td><td>-547.2265</td><td>1094.453</td><td>0.04906305</td><td> 5</td><td>0.9999721</td></tr>\n",
       "</tbody>\n",
       "</table>\n"
      ],
      "text/latex": [
       "A anova: 2 × 8\n",
       "\\begin{tabular}{r|llllllll}\n",
       "  & Df & AIC & BIC & logLik & deviance & Chisq & Chi Df & Pr(>Chisq)\\\\\n",
       "  & <dbl> & <dbl> & <dbl> & <dbl> & <dbl> & <dbl> & <dbl> & <dbl>\\\\\n",
       "\\hline\n",
       "\tmixed\\_model & 28 & 1150.502 & 1264.612 & -547.2510 & 1094.502 &         NA & NA &        NA\\\\\n",
       "\tmixed\\_model\\_with\\_l2\\_covariates & 33 & 1160.453 & 1294.939 & -547.2265 & 1094.453 & 0.04906305 &  5 & 0.9999721\\\\\n",
       "\\end{tabular}\n"
      ],
      "text/markdown": [
       "\n",
       "A anova: 2 × 8\n",
       "\n",
       "| <!--/--> | Df &lt;dbl&gt; | AIC &lt;dbl&gt; | BIC &lt;dbl&gt; | logLik &lt;dbl&gt; | deviance &lt;dbl&gt; | Chisq &lt;dbl&gt; | Chi Df &lt;dbl&gt; | Pr(&gt;Chisq) &lt;dbl&gt; |\n",
       "|---|---|---|---|---|---|---|---|---|\n",
       "| mixed_model | 28 | 1150.502 | 1264.612 | -547.2510 | 1094.502 |         NA | NA |        NA |\n",
       "| mixed_model_with_l2_covariates | 33 | 1160.453 | 1294.939 | -547.2265 | 1094.453 | 0.04906305 |  5 | 0.9999721 |\n",
       "\n"
      ],
      "text/plain": [
       "                               Df AIC      BIC      logLik    deviance\n",
       "mixed_model                    28 1150.502 1264.612 -547.2510 1094.502\n",
       "mixed_model_with_l2_covariates 33 1160.453 1294.939 -547.2265 1094.453\n",
       "                               Chisq      Chi Df Pr(>Chisq)\n",
       "mixed_model                            NA NA            NA \n",
       "mixed_model_with_l2_covariates 0.04906305  5     0.9999721 "
      ]
     },
     "metadata": {},
     "output_type": "display_data"
    }
   ],
   "source": [
    "anova(mixed_model, mixed_model_with_l2_covariates, refit=FALSE)"
   ]
  },
  {
   "cell_type": "markdown",
   "metadata": {},
   "source": [
    "## Fixed effects model, including network features (average traits of people connected to the individual via nominations)"
   ]
  },
  {
   "cell_type": "code",
   "execution_count": 29,
   "metadata": {},
   "outputs": [
    {
     "data": {
      "text/plain": [
       "\n",
       "Call:\n",
       "lm(formula = paste(DV_t2, \"~ \", fixed_params, \"\\n                            network_life_satisfaction_t1 + network_loneliness_t1 + network_stress_t1 +\\n                            network_empathy +\\n                            network_BFI_E + network_BFI_O + network_BFI_C + network_BFI_A + network_BFI_N +\\n                            network_intl_student + log10(network_family_income)\"), \n",
       "    data = df)\n",
       "\n",
       "Residuals:\n",
       "     Min       1Q   Median       3Q      Max \n",
       "-2.68434 -0.44552  0.05092  0.48370  3.02338 \n",
       "\n",
       "Coefficients:\n",
       "                                            Estimate Std. Error t value\n",
       "(Intercept)                                 0.728050   0.823591   0.884\n",
       "life_satisfaction_t1                        0.668174   0.043448  15.379\n",
       "loneliness_t1                              -0.126594   0.089481  -1.415\n",
       "stress_t1                                  -0.180908   0.094305  -1.918\n",
       "edges_in                                    0.032567   0.014901   2.186\n",
       "edges_out                                   0.017490   0.009535   1.834\n",
       "C(gender)male                              -0.049251   0.086574  -0.569\n",
       "C(gender)other                              0.212602   0.585161   0.363\n",
       "C(race)east_asian                           0.192260   0.139363   1.380\n",
       "C(race)hispanic                             0.217326   0.155477   1.398\n",
       "C(race)other_or_mixed                       0.216766   0.157765   1.374\n",
       "C(race)south_asian                          0.326143   0.165618   1.969\n",
       "C(race)white                                0.218883   0.138079   1.585\n",
       "empathy                                    -0.054720   0.068647  -0.797\n",
       "BFI_E                                       0.014696   0.030054   0.489\n",
       "BFI_O                                      -0.002800   0.041683  -0.067\n",
       "BFI_C                                       0.070742   0.035740   1.979\n",
       "BFI_A                                      -0.015789   0.041583  -0.380\n",
       "BFI_N                                      -0.030597   0.039125  -0.782\n",
       "intl_student                               -0.002326   0.126882  -0.018\n",
       "parent_education_highest1_ hs              -0.229883   0.190102  -1.209\n",
       "parent_education_highest2_college_twoyear  -0.253070   0.266288  -0.950\n",
       "parent_education_highest3_college_fouryear -0.357229   0.196232  -1.820\n",
       "parent_education_highest4_masters          -0.321989   0.194174  -1.658\n",
       "parent_education_highest5_advanced         -0.257021   0.199567  -1.288\n",
       "log10(family_income)                        0.252199   0.137524   1.834\n",
       "                                           Pr(>|t|)    \n",
       "(Intercept)                                  0.3772    \n",
       "life_satisfaction_t1                         <2e-16 ***\n",
       "loneliness_t1                                0.1579    \n",
       "stress_t1                                    0.0558 .  \n",
       "edges_in                                     0.0294 *  \n",
       "edges_out                                    0.0674 .  \n",
       "C(gender)male                                0.5697    \n",
       "C(gender)other                               0.7166    \n",
       "C(race)east_asian                            0.1685    \n",
       "C(race)hispanic                              0.1629    \n",
       "C(race)other_or_mixed                        0.1702    \n",
       "C(race)south_asian                           0.0496 *  \n",
       "C(race)white                                 0.1137    \n",
       "empathy                                      0.4258    \n",
       "BFI_E                                        0.6251    \n",
       "BFI_O                                        0.9465    \n",
       "BFI_C                                        0.0484 *  \n",
       "BFI_A                                        0.7044    \n",
       "BFI_N                                        0.4346    \n",
       "intl_student                                 0.9854    \n",
       "parent_education_highest1_ hs                0.2273    \n",
       "parent_education_highest2_college_twoyear    0.3425    \n",
       "parent_education_highest3_college_fouryear   0.0694 .  \n",
       "parent_education_highest4_masters            0.0980 .  \n",
       "parent_education_highest5_advanced           0.1985    \n",
       "log10(family_income)                         0.0674 .  \n",
       "---\n",
       "Signif. codes:  0 ‘***’ 0.001 ‘**’ 0.01 ‘*’ 0.05 ‘.’ 0.1 ‘ ’ 1\n",
       "\n",
       "Residual standard error: 0.7928 on 409 degrees of freedom\n",
       "Multiple R-squared:  0.5896,\tAdjusted R-squared:  0.5645 \n",
       "F-statistic:  23.5 on 25 and 409 DF,  p-value: < 2.2e-16\n"
      ]
     },
     "metadata": {},
     "output_type": "display_data"
    }
   ],
   "source": [
    "network_model = lm(paste(DV_t2, \"~ \", fixed_params, \"\n",
    "                            network_life_satisfaction_t1 + network_loneliness_t1 + network_stress_t1 +\n",
    "                            network_empathy +\n",
    "                            network_BFI_E + network_BFI_O + network_BFI_C + network_BFI_A + network_BFI_N +\n",
    "                            network_intl_student + log10(network_family_income)\"),\n",
    "                          df)\n",
    "summary(network_model)"
   ]
  },
  {
   "cell_type": "code",
   "execution_count": 30,
   "metadata": {},
   "outputs": [
    {
     "data": {
      "text/html": [
       "<table>\n",
       "<caption>A anova: 2 × 6</caption>\n",
       "<thead>\n",
       "\t<tr><th></th><th scope=col>Res.Df</th><th scope=col>RSS</th><th scope=col>Df</th><th scope=col>Sum of Sq</th><th scope=col>F</th><th scope=col>Pr(&gt;F)</th></tr>\n",
       "\t<tr><th></th><th scope=col>&lt;dbl&gt;</th><th scope=col>&lt;dbl&gt;</th><th scope=col>&lt;dbl&gt;</th><th scope=col>&lt;dbl&gt;</th><th scope=col>&lt;dbl&gt;</th><th scope=col>&lt;dbl&gt;</th></tr>\n",
       "</thead>\n",
       "<tbody>\n",
       "\t<tr><th scope=row>1</th><td>429</td><td>269.0489</td><td>NA</td><td>      NA</td><td>       NA</td><td>       NA</td></tr>\n",
       "\t<tr><th scope=row>2</th><td>409</td><td>257.0937</td><td>20</td><td>11.95516</td><td>0.9509493</td><td>0.5221017</td></tr>\n",
       "</tbody>\n",
       "</table>\n"
      ],
      "text/latex": [
       "A anova: 2 × 6\n",
       "\\begin{tabular}{r|llllll}\n",
       "  & Res.Df & RSS & Df & Sum of Sq & F & Pr(>F)\\\\\n",
       "  & <dbl> & <dbl> & <dbl> & <dbl> & <dbl> & <dbl>\\\\\n",
       "\\hline\n",
       "\t1 & 429 & 269.0489 & NA &       NA &        NA &        NA\\\\\n",
       "\t2 & 409 & 257.0937 & 20 & 11.95516 & 0.9509493 & 0.5221017\\\\\n",
       "\\end{tabular}\n"
      ],
      "text/markdown": [
       "\n",
       "A anova: 2 × 6\n",
       "\n",
       "| <!--/--> | Res.Df &lt;dbl&gt; | RSS &lt;dbl&gt; | Df &lt;dbl&gt; | Sum of Sq &lt;dbl&gt; | F &lt;dbl&gt; | Pr(&gt;F) &lt;dbl&gt; |\n",
       "|---|---|---|---|---|---|---|\n",
       "| 1 | 429 | 269.0489 | NA |       NA |        NA |        NA |\n",
       "| 2 | 409 | 257.0937 | 20 | 11.95516 | 0.9509493 | 0.5221017 |\n",
       "\n"
      ],
      "text/plain": [
       "  Res.Df RSS      Df Sum of Sq F         Pr(>F)   \n",
       "1 429    269.0489 NA       NA         NA        NA\n",
       "2 409    257.0937 20 11.95516  0.9509493 0.5221017"
      ]
     },
     "metadata": {},
     "output_type": "display_data"
    }
   ],
   "source": [
    "anova(fixed_model_inout, network_model)"
   ]
  },
  {
   "cell_type": "code",
   "execution_count": 31,
   "metadata": {},
   "outputs": [
    {
     "name": "stdout",
     "output_type": "stream",
     "text": [
      "[1] \"Before: 0.565521254253014\"\n",
      "[1] \"After: 0.56452543483313\"\n",
      "[1] \"Partial r² (adjusted): -0.00229198650021712\"\n"
     ]
    }
   ],
   "source": [
    "r1 = summary(fixed_model_inout)$adj.r.squared\n",
    "r2 = summary(network_model)$adj.r.squared\n",
    "print(paste(\"Before:\", r1))\n",
    "print(paste(\"After:\", r2))\n",
    "print(paste(\"Partial r² (adjusted):\", (r2 - r1) / (1 - r1)))"
   ]
  },
  {
   "cell_type": "code",
   "execution_count": 32,
   "metadata": {},
   "outputs": [
    {
     "name": "stdout",
     "output_type": "stream",
     "text": [
      "[1] \"Before: 0.546560294021305\"\n",
      "[1] \"After: 0.56452543483313\"\n",
      "[1] \"Partial r² (adjusted): 0.0396196905011881\"\n"
     ]
    }
   ],
   "source": [
    "r1 = summary(base_model_one_predictor)$adj.r.squared\n",
    "r2 = summary(network_model)$adj.r.squared\n",
    "print(paste(\"Before:\", r1))\n",
    "print(paste(\"After:\", r2))\n",
    "print(paste(\"Partial r² (adjusted):\", (r2 - r1) / (1 - r1)))"
   ]
  },
  {
   "cell_type": "code",
   "execution_count": null,
   "metadata": {},
   "outputs": [],
   "source": []
  }
 ],
 "metadata": {
  "kernelspec": {
   "display_name": "R",
   "language": "R",
   "name": "ir"
  },
  "language_info": {
   "codemirror_mode": "r",
   "file_extension": ".r",
   "mimetype": "text/x-r-source",
   "name": "R",
   "pygments_lexer": "r",
   "version": "3.6.2"
  },
  "toc": {
   "base_numbering": 1,
   "nav_menu": {},
   "number_sections": true,
   "sideBar": true,
   "skip_h1_title": true,
   "title_cell": "Table of Contents",
   "title_sidebar": "Contents",
   "toc_cell": true,
   "toc_position": {
    "height": "calc(100% - 180px)",
    "left": "10px",
    "top": "150px",
    "width": "364.492px"
   },
   "toc_section_display": true,
   "toc_window_display": true
  }
 },
 "nbformat": 4,
 "nbformat_minor": 2
}

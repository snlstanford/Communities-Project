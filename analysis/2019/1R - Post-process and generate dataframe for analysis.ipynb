{
 "cells": [
  {
   "cell_type": "code",
   "execution_count": 1,
   "metadata": {},
   "outputs": [],
   "source": [
    "DATA_DIR = '/Users/everettwetchler/src/research/zaki/github/analysis/data/2019–2020/'\n",
    "PLOT_DIR = paste(DATA_DIR, 'plots/', sep=\"\")"
   ]
  },
  {
   "cell_type": "markdown",
   "metadata": {
    "toc": true
   },
   "source": [
    "<h1>Table of Contents<span class=\"tocSkip\"></span></h1>\n",
    "<div class=\"toc\"><ul class=\"toc-item\"><li><span><a href=\"#Imports\" data-toc-modified-id=\"Imports-1\"><span class=\"toc-item-num\">1&nbsp;&nbsp;</span>Imports</a></span></li><li><span><a href=\"#Load-and-clean-prefrosh-data\" data-toc-modified-id=\"Load-and-clean-prefrosh-data-2\"><span class=\"toc-item-num\">2&nbsp;&nbsp;</span>Load and clean prefrosh data</a></span><ul class=\"toc-item\"><li><span><a href=\"#Check-for-incomplete-data\" data-toc-modified-id=\"Check-for-incomplete-data-2.1\"><span class=\"toc-item-num\">2.1&nbsp;&nbsp;</span>Check for incomplete data</a></span></li><li><span><a href=\"#Check-that-all-Ps-are-over-18\" data-toc-modified-id=\"Check-that-all-Ps-are-over-18-2.2\"><span class=\"toc-item-num\">2.2&nbsp;&nbsp;</span>Check that all Ps are over 18</a></span></li><li><span><a href=\"#Check-for-duplicates-(people-who-did-the-survey-more-than-once)\" data-toc-modified-id=\"Check-for-duplicates-(people-who-did-the-survey-more-than-once)-2.3\"><span class=\"toc-item-num\">2.3&nbsp;&nbsp;</span>Check for duplicates (people who did the survey more than once)</a></span></li><li><span><a href=\"#Slim-down-our-dataframe-by-removing-columns-we-don't-need\" data-toc-modified-id=\"Slim-down-our-dataframe-by-removing-columns-we-don't-need-2.4\"><span class=\"toc-item-num\">2.4&nbsp;&nbsp;</span>Slim down our dataframe by removing columns we don't need</a></span></li><li><span><a href=\"#Compute-scale-scores\" data-toc-modified-id=\"Compute-scale-scores-2.5\"><span class=\"toc-item-num\">2.5&nbsp;&nbsp;</span>Compute scale scores</a></span></li><li><span><a href=\"#Gender\" data-toc-modified-id=\"Gender-2.6\"><span class=\"toc-item-num\">2.6&nbsp;&nbsp;</span>Gender</a></span></li><li><span><a href=\"#Race\" data-toc-modified-id=\"Race-2.7\"><span class=\"toc-item-num\">2.7&nbsp;&nbsp;</span>Race</a></span></li></ul></li><li><span><a href=\"#Load-and-clean-network-trait-data\" data-toc-modified-id=\"Load-and-clean-network-trait-data-3\"><span class=\"toc-item-num\">3&nbsp;&nbsp;</span>Load and clean network trait data</a></span><ul class=\"toc-item\"><li><span><a href=\"#Check-for-duplicates\" data-toc-modified-id=\"Check-for-duplicates-3.1\"><span class=\"toc-item-num\">3.1&nbsp;&nbsp;</span>Check for duplicates</a></span></li><li><span><a href=\"#Compute-scales\" data-toc-modified-id=\"Compute-scales-3.2\"><span class=\"toc-item-num\">3.2&nbsp;&nbsp;</span>Compute scales</a></span></li><li><span><a href=\"#Drop-columns-we-don't-need\" data-toc-modified-id=\"Drop-columns-we-don't-need-3.3\"><span class=\"toc-item-num\">3.3&nbsp;&nbsp;</span>Drop columns we don't need</a></span></li><li><span><a href=\"#Peek-at-frequency-of-missing-values\" data-toc-modified-id=\"Peek-at-frequency-of-missing-values-3.4\"><span class=\"toc-item-num\">3.4&nbsp;&nbsp;</span>Peek at frequency of missing values</a></span></li><li><span><a href=\"#International-Students\" data-toc-modified-id=\"International-Students-3.5\"><span class=\"toc-item-num\">3.5&nbsp;&nbsp;</span>International Students</a></span></li><li><span><a href=\"#Parental-Education\" data-toc-modified-id=\"Parental-Education-3.6\"><span class=\"toc-item-num\">3.6&nbsp;&nbsp;</span>Parental Education</a></span></li><li><span><a href=\"#Family-Income\" data-toc-modified-id=\"Family-Income-3.7\"><span class=\"toc-item-num\">3.7&nbsp;&nbsp;</span>Family Income</a></span></li></ul></li><li><span><a href=\"#Merge-prefrosh-and-network-data\" data-toc-modified-id=\"Merge-prefrosh-and-network-data-4\"><span class=\"toc-item-num\">4&nbsp;&nbsp;</span>Merge prefrosh and network data</a></span></li><li><span><a href=\"#Create-composite-well-being-columns\" data-toc-modified-id=\"Create-composite-well-being-columns-5\"><span class=\"toc-item-num\">5&nbsp;&nbsp;</span>Create composite well-being columns</a></span></li><li><span><a href=\"#Load-nominations-and-compute-network-in/out-degree-for-each-P-and-each-network\" data-toc-modified-id=\"Load-nominations-and-compute-network-in/out-degree-for-each-P-and-each-network-6\"><span class=\"toc-item-num\">6&nbsp;&nbsp;</span>Load nominations and compute network in/out degree for each P and each network</a></span><ul class=\"toc-item\"><li><span><a href=\"#Sanity-check-for-missing-values---we-aren't-using-the-DID-(dorm)-column-so-that's-fine\" data-toc-modified-id=\"Sanity-check-for-missing-values---we-aren't-using-the-DID-(dorm)-column-so-that's-fine-6.1\"><span class=\"toc-item-num\">6.1&nbsp;&nbsp;</span>Sanity check for missing values - we aren't using the DID (dorm) column so that's fine</a></span></li><li><span><a href=\"#Make-a-function-to-compute-in/out-degrees-for-any-given-set-of-nominations\" data-toc-modified-id=\"Make-a-function-to-compute-in/out-degrees-for-any-given-set-of-nominations-6.2\"><span class=\"toc-item-num\">6.2&nbsp;&nbsp;</span>Make a function to compute in/out degrees for any given set of nominations</a></span></li><li><span><a href=\"#Compute-the-union-network\" data-toc-modified-id=\"Compute-the-union-network-6.3\"><span class=\"toc-item-num\">6.3&nbsp;&nbsp;</span>Compute the union network</a></span><ul class=\"toc-item\"><li><span><a href=\"#Spot-check-the-first-P\" data-toc-modified-id=\"Spot-check-the-first-P-6.3.1\"><span class=\"toc-item-num\">6.3.1&nbsp;&nbsp;</span>Spot check the first P</a></span></li></ul></li><li><span><a href=\"#Compute-the-'intimate'-network-(close-friends-and-bad-news)\" data-toc-modified-id=\"Compute-the-'intimate'-network-(close-friends-and-bad-news)-6.4\"><span class=\"toc-item-num\">6.4&nbsp;&nbsp;</span>Compute the 'intimate' network (close friends and bad news)</a></span><ul class=\"toc-item\"><li><span><a href=\"#Spot-check-the-first-P\" data-toc-modified-id=\"Spot-check-the-first-P-6.4.1\"><span class=\"toc-item-num\">6.4.1&nbsp;&nbsp;</span>Spot check the first P</a></span></li></ul></li><li><span><a href=\"#Compute-all-other-networks-individually,-in-case-we-want-to-use-them-in-a-subsequent-analysis\" data-toc-modified-id=\"Compute-all-other-networks-individually,-in-case-we-want-to-use-them-in-a-subsequent-analysis-6.5\"><span class=\"toc-item-num\">6.5&nbsp;&nbsp;</span>Compute all other networks individually, in case we want to use them in a subsequent analysis</a></span></li><li><span><a href=\"#A-look-at-in-and-out-degree-distributions,-to-be-sure-they-seem-sane\" data-toc-modified-id=\"A-look-at-in-and-out-degree-distributions,-to-be-sure-they-seem-sane-6.6\"><span class=\"toc-item-num\">6.6&nbsp;&nbsp;</span>A look at in and out degree distributions, to be sure they seem sane</a></span></li></ul></li><li><span><a href=\"#Train-test-split-and-write\" data-toc-modified-id=\"Train-test-split-and-write-7\"><span class=\"toc-item-num\">7&nbsp;&nbsp;</span>Train-test split and write</a></span></li></ul></div>"
   ]
  },
  {
   "cell_type": "markdown",
   "metadata": {},
   "source": [
    "## Imports"
   ]
  },
  {
   "cell_type": "code",
   "execution_count": 2,
   "metadata": {},
   "outputs": [
    {
     "name": "stderr",
     "output_type": "stream",
     "text": [
      "Loading required package: Hmisc\n",
      "\n",
      "Loading required package: lattice\n",
      "\n",
      "Loading required package: survival\n",
      "\n",
      "Loading required package: Formula\n",
      "\n",
      "Loading required package: ggplot2\n",
      "\n",
      "\n",
      "Attaching package: ‘Hmisc’\n",
      "\n",
      "\n",
      "The following objects are masked from ‘package:base’:\n",
      "\n",
      "    format.pval, units\n",
      "\n",
      "\n",
      "funModeling v.1.9.3 :)\n",
      "Examples and tutorials at livebook.datascienceheroes.com\n",
      " / Now in Spanish: librovivodecienciadedatos.ai\n",
      "\n",
      "Loading required package: Matrix\n",
      "\n",
      "\n",
      "Attaching package: ‘mice’\n",
      "\n",
      "\n",
      "The following objects are masked from ‘package:base’:\n",
      "\n",
      "    cbind, rbind\n",
      "\n",
      "\n",
      "── \u001b[1mAttaching packages\u001b[22m ─────────────────────────────────────── tidyverse 1.3.0 ──\n",
      "\n",
      "\u001b[32m✔\u001b[39m \u001b[34mtibble \u001b[39m 2.1.3     \u001b[32m✔\u001b[39m \u001b[34mdplyr  \u001b[39m 0.8.3\n",
      "\u001b[32m✔\u001b[39m \u001b[34mtidyr  \u001b[39m 1.0.0     \u001b[32m✔\u001b[39m \u001b[34mstringr\u001b[39m 1.4.0\n",
      "\u001b[32m✔\u001b[39m \u001b[34mreadr  \u001b[39m 1.3.1     \u001b[32m✔\u001b[39m \u001b[34mforcats\u001b[39m 0.4.0\n",
      "\u001b[32m✔\u001b[39m \u001b[34mpurrr  \u001b[39m 0.3.3     \n",
      "\n",
      "── \u001b[1mConflicts\u001b[22m ────────────────────────────────────────── tidyverse_conflicts() ──\n",
      "\u001b[31m✖\u001b[39m \u001b[34mtidyr\u001b[39m::\u001b[32mcomplete()\u001b[39m  masks \u001b[34mmice\u001b[39m::complete()\n",
      "\u001b[31m✖\u001b[39m \u001b[34mtidyr\u001b[39m::\u001b[32mexpand()\u001b[39m    masks \u001b[34mMatrix\u001b[39m::expand()\n",
      "\u001b[31m✖\u001b[39m \u001b[34mdplyr\u001b[39m::\u001b[32mfilter()\u001b[39m    masks \u001b[34mstats\u001b[39m::filter()\n",
      "\u001b[31m✖\u001b[39m \u001b[34mdplyr\u001b[39m::\u001b[32mlag()\u001b[39m       masks \u001b[34mstats\u001b[39m::lag()\n",
      "\u001b[31m✖\u001b[39m \u001b[34mtidyr\u001b[39m::\u001b[32mpack()\u001b[39m      masks \u001b[34mMatrix\u001b[39m::pack()\n",
      "\u001b[31m✖\u001b[39m \u001b[34mdplyr\u001b[39m::\u001b[32msrc()\u001b[39m       masks \u001b[34mHmisc\u001b[39m::src()\n",
      "\u001b[31m✖\u001b[39m \u001b[34mdplyr\u001b[39m::\u001b[32msummarize()\u001b[39m masks \u001b[34mHmisc\u001b[39m::summarize()\n",
      "\u001b[31m✖\u001b[39m \u001b[34mtidyr\u001b[39m::\u001b[32munpack()\u001b[39m    masks \u001b[34mMatrix\u001b[39m::unpack()\n",
      "\n"
     ]
    }
   ],
   "source": [
    "library(funModeling)  # Data exploration utilities\n",
    "library(Hmisc)        # Data exploration utilities\n",
    "library(lme4)         # Random-effects modelling\n",
    "library(mice)         # Data imputation\n",
    "library(tidyverse)    # Data wrangling\n",
    "\n",
    "# Display more data in the Jupyter notebook\n",
    "options(repr.matrix.max.cols=100, repr.matrix.max.rows=100)"
   ]
  },
  {
   "cell_type": "markdown",
   "metadata": {},
   "source": [
    "## Load and clean prefrosh data"
   ]
  },
  {
   "cell_type": "code",
   "execution_count": 3,
   "metadata": {},
   "outputs": [
    {
     "name": "stdout",
     "output_type": "stream",
     "text": [
      "'data.frame':\t1102 obs. of  59 variables:\n",
      " $ PID                  : int  4507 2903 1637 1923 7189 1236 4954 3942 2608 2326 ...\n",
      " $ Progress             : int  100 100 100 100 100 100 100 100 100 100 ...\n",
      " $ Duration..in.seconds.: int  358 208 452 1087 290 310 526 335 503 967 ...\n",
      " $ Finished             : Factor w/ 2 levels \"False\",\"True\": 2 2 2 2 2 2 2 2 2 2 ...\n",
      " $ RecordedDate         : Factor w/ 1095 levels \"2019-08-25 22:34:28\",..: 8 1034 740 437 865 1055 294 68 581 592 ...\n",
      " $ age18                : Factor w/ 1 level \"Yes\": 1 1 1 1 1 1 1 1 1 1 ...\n",
      " $ lifeSatisfaction_1   : int  7 7 7 6 2 6 7 3 6 6 ...\n",
      " $ lifeSatisfaction_2   : int  1 7 6 7 4 4 6 3 6 6 ...\n",
      " $ lifeSatisfaction_3   : int  1 7 6 7 3 5 6 3 6 3 ...\n",
      " $ lifeSatisfaction_4   : int  2 7 7 7 5 6 7 4 7 6 ...\n",
      " $ lifeSatisfaction_5   : int  1 7 6 7 3 5 6 4 6 6 ...\n",
      " $ lifeSatisfaction_6   : int  1 2 2 1 5 5 2 5 1 2 ...\n",
      " $ Empathy_1            : int  6 5 7 6 7 5 6 6 7 6 ...\n",
      " $ Empathy_2            : int  6 6 7 7 7 6 6 6 7 6 ...\n",
      " $ Empathy_3            : int  6 4 6 6 6 5 5 6 6 6 ...\n",
      " $ Empathy_4            : int  6 6 7 6 5 6 5 5 5 5 ...\n",
      " $ Empathy_5            : int  6 6 7 5 7 5 6 5 6 7 ...\n",
      " $ Empathy_6            : int  7 5 7 5 7 5 5 6 7 7 ...\n",
      " $ Empathy_7            : int  6 5 7 3 3 6 3 4 5 5 ...\n",
      " $ Empathy_8            : int  6 7 7 6 7 5 6 6 6 6 ...\n",
      " $ Sociality_1          : int  6 7 6 5 7 3 6 6 7 5 ...\n",
      " $ Sociality_2          : int  5 7 5 5 1 5 5 5 3 4 ...\n",
      " $ NeedToBelong_1       : int  7 3 3 2 2 5 4 5 2 4 ...\n",
      " $ NeedToBelong_2       : int  1 7 6 6 6 3 5 2 5 3 ...\n",
      " $ NeedToBelong_3       : int  7 7 3 5 2 7 5 6 2 5 ...\n",
      " $ NeedToBelong_4       : int  7 5 4 7 2 7 6 6 4 6 ...\n",
      " $ LayEmpathy_1         : int  1 3 5 1 3 2 3 2 3 3 ...\n",
      " $ LayEmpathy_2         : int  2 6 3 1 3 2 3 2 3 3 ...\n",
      " $ LayEmpathy_3         : int  5 2 5 7 5 6 5 6 3 5 ...\n",
      " $ TIPI_1               : int  5 6 5 6 3 3 5 5 3 5 ...\n",
      " $ TIPI_2               : int  6 3 2 4 6 3 5 4 5 5 ...\n",
      " $ TIPI_3               : int  6 7 6 5 7 5 6 6 7 4 ...\n",
      " $ TIPI_4               : int  3 2 3 2 5 5 6 5 5 2 ...\n",
      " $ TIPI_5               : int  6 7 6 7 6 4 6 5 7 6 ...\n",
      " $ TIPI_6               : int  2 2 6 4 3 5 3 6 1 5 ...\n",
      " $ TIPI_7               : int  7 5 7 5 5 5 6 6 6 6 ...\n",
      " $ TIPI_8               : int  6 5 1 3 2 3 3 2 1 6 ...\n",
      " $ TIPI_9               : int  3 6 7 6 5 5 5 5 5 5 ...\n",
      " $ TIPI_10              : int  1 2 2 3 3 3 3 2 1 3 ...\n",
      " $ loneliness_1         : int  3 1 3 2 2 2 2 3 3 2 ...\n",
      " $ loneliness_2         : int  1 2 2 1 2 2 2 3 2 2 ...\n",
      " $ loneliness_3         : int  1 1 1 1 2 2 1 3 2 1 ...\n",
      " $ Stress_1             : int  2 3 2 2 3 2 3 2 2 2 ...\n",
      " $ Stress_2             : int  2 2 2 1 3 2 2 2 1 1 ...\n",
      " $ poliIdeology_1       : int  2 2 4 4 1 3 3 2 5 4 ...\n",
      " $ poliIdeology_2       : int  2 1 3 3 1 4 2 2 4 3 ...\n",
      " $ poliIdeology_3       : int  1 4 5 4 1 3 5 2 5 5 ...\n",
      " $ politicalIssues_1    : int  7 7 6 5 7 6 5 6 5 5 ...\n",
      " $ politicalIssues_2    : int  7 7 6 5 7 5 7 6 4 5 ...\n",
      " $ ladderUS             : int  3 8 9 8 6 7 9 5 4 9 ...\n",
      " $ gender               : Factor w/ 4 levels \"Female\",\"Male\",..: 2 1 2 2 1 2 1 1 1 2 ...\n",
      " $ gender_3_TEXT        : Factor w/ 5 levels \"Genderqueer\",..: NA NA NA NA NA NA NA NA NA NA ...\n",
      " $ race                 : Factor w/ 37 levels \"Black or African American\",..: 1 34 15 9 20 9 33 1 17 34 ...\n",
      " $ race_9_TEXT          : Factor w/ 57 levels \"African American and Caucasian\",..: NA NA NA NA NA NA NA NA NA NA ...\n",
      " $ major                : Factor w/ 259 levels \"AA\",\"Aero/Astro\",..: 152 86 86 238 131 35 21 136 179 169 ...\n",
      " $ dorm                 : Factor w/ 28 levels \"#N/A\",\"664 Lomita\",..: 9 15 19 15 3 15 25 12 12 23 ...\n",
      " $ lifeSatisfaction_6R  : int  7 6 6 7 3 3 6 3 7 6 ...\n",
      " $ NeedToBelong_2R      : int  7 1 2 2 2 5 3 6 3 5 ...\n",
      " $ LayEmpathy_3R        : int  3 6 3 1 3 2 3 2 5 3 ...\n"
     ]
    },
    {
     "data": {
      "text/html": [
       "<table>\n",
       "<caption>A data.frame: 6 × 59</caption>\n",
       "<thead>\n",
       "\t<tr><th></th><th scope=col>PID</th><th scope=col>Progress</th><th scope=col>Duration..in.seconds.</th><th scope=col>Finished</th><th scope=col>RecordedDate</th><th scope=col>age18</th><th scope=col>lifeSatisfaction_1</th><th scope=col>lifeSatisfaction_2</th><th scope=col>lifeSatisfaction_3</th><th scope=col>lifeSatisfaction_4</th><th scope=col>lifeSatisfaction_5</th><th scope=col>lifeSatisfaction_6</th><th scope=col>Empathy_1</th><th scope=col>Empathy_2</th><th scope=col>Empathy_3</th><th scope=col>Empathy_4</th><th scope=col>Empathy_5</th><th scope=col>Empathy_6</th><th scope=col>Empathy_7</th><th scope=col>Empathy_8</th><th scope=col>Sociality_1</th><th scope=col>Sociality_2</th><th scope=col>NeedToBelong_1</th><th scope=col>NeedToBelong_2</th><th scope=col>NeedToBelong_3</th><th scope=col>NeedToBelong_4</th><th scope=col>LayEmpathy_1</th><th scope=col>LayEmpathy_2</th><th scope=col>LayEmpathy_3</th><th scope=col>TIPI_1</th><th scope=col>TIPI_2</th><th scope=col>TIPI_3</th><th scope=col>TIPI_4</th><th scope=col>TIPI_5</th><th scope=col>TIPI_6</th><th scope=col>TIPI_7</th><th scope=col>TIPI_8</th><th scope=col>TIPI_9</th><th scope=col>TIPI_10</th><th scope=col>loneliness_1</th><th scope=col>loneliness_2</th><th scope=col>loneliness_3</th><th scope=col>Stress_1</th><th scope=col>Stress_2</th><th scope=col>poliIdeology_1</th><th scope=col>poliIdeology_2</th><th scope=col>poliIdeology_3</th><th scope=col>politicalIssues_1</th><th scope=col>politicalIssues_2</th><th scope=col>ladderUS</th><th scope=col>gender</th><th scope=col>gender_3_TEXT</th><th scope=col>race</th><th scope=col>race_9_TEXT</th><th scope=col>major</th><th scope=col>dorm</th><th scope=col>lifeSatisfaction_6R</th><th scope=col>NeedToBelong_2R</th><th scope=col>LayEmpathy_3R</th></tr>\n",
       "\t<tr><th></th><th scope=col>&lt;int&gt;</th><th scope=col>&lt;int&gt;</th><th scope=col>&lt;int&gt;</th><th scope=col>&lt;fct&gt;</th><th scope=col>&lt;fct&gt;</th><th scope=col>&lt;fct&gt;</th><th scope=col>&lt;int&gt;</th><th scope=col>&lt;int&gt;</th><th scope=col>&lt;int&gt;</th><th scope=col>&lt;int&gt;</th><th scope=col>&lt;int&gt;</th><th scope=col>&lt;int&gt;</th><th scope=col>&lt;int&gt;</th><th scope=col>&lt;int&gt;</th><th scope=col>&lt;int&gt;</th><th scope=col>&lt;int&gt;</th><th scope=col>&lt;int&gt;</th><th scope=col>&lt;int&gt;</th><th scope=col>&lt;int&gt;</th><th scope=col>&lt;int&gt;</th><th scope=col>&lt;int&gt;</th><th scope=col>&lt;int&gt;</th><th scope=col>&lt;int&gt;</th><th scope=col>&lt;int&gt;</th><th scope=col>&lt;int&gt;</th><th scope=col>&lt;int&gt;</th><th scope=col>&lt;int&gt;</th><th scope=col>&lt;int&gt;</th><th scope=col>&lt;int&gt;</th><th scope=col>&lt;int&gt;</th><th scope=col>&lt;int&gt;</th><th scope=col>&lt;int&gt;</th><th scope=col>&lt;int&gt;</th><th scope=col>&lt;int&gt;</th><th scope=col>&lt;int&gt;</th><th scope=col>&lt;int&gt;</th><th scope=col>&lt;int&gt;</th><th scope=col>&lt;int&gt;</th><th scope=col>&lt;int&gt;</th><th scope=col>&lt;int&gt;</th><th scope=col>&lt;int&gt;</th><th scope=col>&lt;int&gt;</th><th scope=col>&lt;int&gt;</th><th scope=col>&lt;int&gt;</th><th scope=col>&lt;int&gt;</th><th scope=col>&lt;int&gt;</th><th scope=col>&lt;int&gt;</th><th scope=col>&lt;int&gt;</th><th scope=col>&lt;int&gt;</th><th scope=col>&lt;int&gt;</th><th scope=col>&lt;fct&gt;</th><th scope=col>&lt;fct&gt;</th><th scope=col>&lt;fct&gt;</th><th scope=col>&lt;fct&gt;</th><th scope=col>&lt;fct&gt;</th><th scope=col>&lt;fct&gt;</th><th scope=col>&lt;int&gt;</th><th scope=col>&lt;int&gt;</th><th scope=col>&lt;int&gt;</th></tr>\n",
       "</thead>\n",
       "<tbody>\n",
       "\t<tr><th scope=row>1</th><td>4507</td><td>100</td><td> 358</td><td>True</td><td>2019-09-03 09:35:54</td><td>Yes</td><td>7</td><td>1</td><td>1</td><td>2</td><td>1</td><td>1</td><td>6</td><td>6</td><td>6</td><td>6</td><td>6</td><td>7</td><td>6</td><td>6</td><td>6</td><td>5</td><td>7</td><td>1</td><td>7</td><td>7</td><td>1</td><td>2</td><td>5</td><td>5</td><td>6</td><td>6</td><td>3</td><td>6</td><td>2</td><td>7</td><td>6</td><td>3</td><td>1</td><td>3</td><td>1</td><td>1</td><td>2</td><td>2</td><td>2</td><td>2</td><td>1</td><td>7</td><td>7</td><td>3</td><td>Male  </td><td>NA</td><td>Black or African American              </td><td>NA</td><td>Management Science and Engineering</td><td>Eucalipto</td><td>7</td><td>7</td><td>3</td></tr>\n",
       "\t<tr><th scope=row>2</th><td>2903</td><td>100</td><td> 208</td><td>True</td><td>2019-09-16 13:41:44</td><td>Yes</td><td>7</td><td>7</td><td>7</td><td>7</td><td>7</td><td>2</td><td>5</td><td>6</td><td>4</td><td>6</td><td>6</td><td>5</td><td>5</td><td>7</td><td>7</td><td>7</td><td>3</td><td>7</td><td>7</td><td>5</td><td>3</td><td>6</td><td>2</td><td>6</td><td>3</td><td>7</td><td>2</td><td>7</td><td>2</td><td>5</td><td>5</td><td>6</td><td>2</td><td>1</td><td>2</td><td>1</td><td>3</td><td>2</td><td>2</td><td>1</td><td>4</td><td>7</td><td>7</td><td>8</td><td>Female</td><td>NA</td><td>White or Caucasian,Hispanic or Latino/a</td><td>NA</td><td>Economics                         </td><td>Larkin   </td><td>6</td><td>1</td><td>6</td></tr>\n",
       "\t<tr><th scope=row>3</th><td>1637</td><td>100</td><td> 452</td><td>True</td><td>2019-09-06 13:26:16</td><td>Yes</td><td>7</td><td>6</td><td>6</td><td>7</td><td>6</td><td>2</td><td>7</td><td>7</td><td>6</td><td>7</td><td>7</td><td>7</td><td>7</td><td>7</td><td>6</td><td>5</td><td>3</td><td>6</td><td>3</td><td>4</td><td>5</td><td>3</td><td>5</td><td>5</td><td>2</td><td>6</td><td>3</td><td>6</td><td>6</td><td>7</td><td>1</td><td>7</td><td>2</td><td>3</td><td>2</td><td>1</td><td>2</td><td>2</td><td>4</td><td>3</td><td>5</td><td>6</td><td>6</td><td>9</td><td>Male  </td><td>NA</td><td>East Asian,White or Caucasian          </td><td>NA</td><td>Economics                         </td><td>Norcliffe</td><td>6</td><td>2</td><td>3</td></tr>\n",
       "\t<tr><th scope=row>4</th><td>1923</td><td>100</td><td>1087</td><td>True</td><td>2019-09-03 18:12:17</td><td>Yes</td><td>6</td><td>7</td><td>7</td><td>7</td><td>7</td><td>1</td><td>6</td><td>7</td><td>6</td><td>6</td><td>5</td><td>5</td><td>3</td><td>6</td><td>5</td><td>5</td><td>2</td><td>6</td><td>5</td><td>7</td><td>1</td><td>1</td><td>7</td><td>6</td><td>4</td><td>5</td><td>2</td><td>7</td><td>4</td><td>5</td><td>3</td><td>6</td><td>3</td><td>2</td><td>1</td><td>1</td><td>2</td><td>1</td><td>4</td><td>3</td><td>4</td><td>5</td><td>5</td><td>8</td><td>Male  </td><td>NA</td><td>East Asian                             </td><td>NA</td><td>Symbolic Systems                  </td><td>Larkin   </td><td>7</td><td>2</td><td>1</td></tr>\n",
       "\t<tr><th scope=row>5</th><td>7189</td><td>100</td><td> 290</td><td>True</td><td>2019-09-09 18:54:16</td><td>Yes</td><td>2</td><td>4</td><td>3</td><td>5</td><td>3</td><td>5</td><td>7</td><td>7</td><td>6</td><td>5</td><td>7</td><td>7</td><td>3</td><td>7</td><td>7</td><td>1</td><td>2</td><td>6</td><td>2</td><td>2</td><td>3</td><td>3</td><td>5</td><td>3</td><td>6</td><td>7</td><td>5</td><td>6</td><td>3</td><td>5</td><td>2</td><td>5</td><td>3</td><td>2</td><td>2</td><td>2</td><td>3</td><td>3</td><td>1</td><td>1</td><td>1</td><td>7</td><td>7</td><td>6</td><td>Female</td><td>NA</td><td>Middle Eastern                         </td><td>NA</td><td>Human Biology                     </td><td>Alondra  </td><td>3</td><td>2</td><td>3</td></tr>\n",
       "\t<tr><th scope=row>6</th><td>1236</td><td>100</td><td> 310</td><td>True</td><td>2019-09-16 17:57:11</td><td>Yes</td><td>6</td><td>4</td><td>5</td><td>6</td><td>5</td><td>5</td><td>5</td><td>6</td><td>5</td><td>6</td><td>5</td><td>5</td><td>6</td><td>5</td><td>3</td><td>5</td><td>5</td><td>3</td><td>7</td><td>7</td><td>2</td><td>2</td><td>6</td><td>3</td><td>3</td><td>5</td><td>5</td><td>4</td><td>5</td><td>5</td><td>3</td><td>5</td><td>3</td><td>2</td><td>2</td><td>2</td><td>2</td><td>2</td><td>3</td><td>4</td><td>3</td><td>6</td><td>5</td><td>7</td><td>Male  </td><td>NA</td><td>East Asian                             </td><td>NA</td><td>Chemical Engineering              </td><td>Larkin   </td><td>3</td><td>5</td><td>2</td></tr>\n",
       "</tbody>\n",
       "</table>\n"
      ],
      "text/latex": [
       "A data.frame: 6 × 59\n",
       "\\begin{tabular}{r|lllllllllllllllllllllllllllllllllllllllllllllllllllllllllll}\n",
       "  & PID & Progress & Duration..in.seconds. & Finished & RecordedDate & age18 & lifeSatisfaction\\_1 & lifeSatisfaction\\_2 & lifeSatisfaction\\_3 & lifeSatisfaction\\_4 & lifeSatisfaction\\_5 & lifeSatisfaction\\_6 & Empathy\\_1 & Empathy\\_2 & Empathy\\_3 & Empathy\\_4 & Empathy\\_5 & Empathy\\_6 & Empathy\\_7 & Empathy\\_8 & Sociality\\_1 & Sociality\\_2 & NeedToBelong\\_1 & NeedToBelong\\_2 & NeedToBelong\\_3 & NeedToBelong\\_4 & LayEmpathy\\_1 & LayEmpathy\\_2 & LayEmpathy\\_3 & TIPI\\_1 & TIPI\\_2 & TIPI\\_3 & TIPI\\_4 & TIPI\\_5 & TIPI\\_6 & TIPI\\_7 & TIPI\\_8 & TIPI\\_9 & TIPI\\_10 & loneliness\\_1 & loneliness\\_2 & loneliness\\_3 & Stress\\_1 & Stress\\_2 & poliIdeology\\_1 & poliIdeology\\_2 & poliIdeology\\_3 & politicalIssues\\_1 & politicalIssues\\_2 & ladderUS & gender & gender\\_3\\_TEXT & race & race\\_9\\_TEXT & major & dorm & lifeSatisfaction\\_6R & NeedToBelong\\_2R & LayEmpathy\\_3R\\\\\n",
       "  & <int> & <int> & <int> & <fct> & <fct> & <fct> & <int> & <int> & <int> & <int> & <int> & <int> & <int> & <int> & <int> & <int> & <int> & <int> & <int> & <int> & <int> & <int> & <int> & <int> & <int> & <int> & <int> & <int> & <int> & <int> & <int> & <int> & <int> & <int> & <int> & <int> & <int> & <int> & <int> & <int> & <int> & <int> & <int> & <int> & <int> & <int> & <int> & <int> & <int> & <int> & <fct> & <fct> & <fct> & <fct> & <fct> & <fct> & <int> & <int> & <int>\\\\\n",
       "\\hline\n",
       "\t1 & 4507 & 100 &  358 & True & 2019-09-03 09:35:54 & Yes & 7 & 1 & 1 & 2 & 1 & 1 & 6 & 6 & 6 & 6 & 6 & 7 & 6 & 6 & 6 & 5 & 7 & 1 & 7 & 7 & 1 & 2 & 5 & 5 & 6 & 6 & 3 & 6 & 2 & 7 & 6 & 3 & 1 & 3 & 1 & 1 & 2 & 2 & 2 & 2 & 1 & 7 & 7 & 3 & Male   & NA & Black or African American               & NA & Management Science and Engineering & Eucalipto & 7 & 7 & 3\\\\\n",
       "\t2 & 2903 & 100 &  208 & True & 2019-09-16 13:41:44 & Yes & 7 & 7 & 7 & 7 & 7 & 2 & 5 & 6 & 4 & 6 & 6 & 5 & 5 & 7 & 7 & 7 & 3 & 7 & 7 & 5 & 3 & 6 & 2 & 6 & 3 & 7 & 2 & 7 & 2 & 5 & 5 & 6 & 2 & 1 & 2 & 1 & 3 & 2 & 2 & 1 & 4 & 7 & 7 & 8 & Female & NA & White or Caucasian,Hispanic or Latino/a & NA & Economics                          & Larkin    & 6 & 1 & 6\\\\\n",
       "\t3 & 1637 & 100 &  452 & True & 2019-09-06 13:26:16 & Yes & 7 & 6 & 6 & 7 & 6 & 2 & 7 & 7 & 6 & 7 & 7 & 7 & 7 & 7 & 6 & 5 & 3 & 6 & 3 & 4 & 5 & 3 & 5 & 5 & 2 & 6 & 3 & 6 & 6 & 7 & 1 & 7 & 2 & 3 & 2 & 1 & 2 & 2 & 4 & 3 & 5 & 6 & 6 & 9 & Male   & NA & East Asian,White or Caucasian           & NA & Economics                          & Norcliffe & 6 & 2 & 3\\\\\n",
       "\t4 & 1923 & 100 & 1087 & True & 2019-09-03 18:12:17 & Yes & 6 & 7 & 7 & 7 & 7 & 1 & 6 & 7 & 6 & 6 & 5 & 5 & 3 & 6 & 5 & 5 & 2 & 6 & 5 & 7 & 1 & 1 & 7 & 6 & 4 & 5 & 2 & 7 & 4 & 5 & 3 & 6 & 3 & 2 & 1 & 1 & 2 & 1 & 4 & 3 & 4 & 5 & 5 & 8 & Male   & NA & East Asian                              & NA & Symbolic Systems                   & Larkin    & 7 & 2 & 1\\\\\n",
       "\t5 & 7189 & 100 &  290 & True & 2019-09-09 18:54:16 & Yes & 2 & 4 & 3 & 5 & 3 & 5 & 7 & 7 & 6 & 5 & 7 & 7 & 3 & 7 & 7 & 1 & 2 & 6 & 2 & 2 & 3 & 3 & 5 & 3 & 6 & 7 & 5 & 6 & 3 & 5 & 2 & 5 & 3 & 2 & 2 & 2 & 3 & 3 & 1 & 1 & 1 & 7 & 7 & 6 & Female & NA & Middle Eastern                          & NA & Human Biology                      & Alondra   & 3 & 2 & 3\\\\\n",
       "\t6 & 1236 & 100 &  310 & True & 2019-09-16 17:57:11 & Yes & 6 & 4 & 5 & 6 & 5 & 5 & 5 & 6 & 5 & 6 & 5 & 5 & 6 & 5 & 3 & 5 & 5 & 3 & 7 & 7 & 2 & 2 & 6 & 3 & 3 & 5 & 5 & 4 & 5 & 5 & 3 & 5 & 3 & 2 & 2 & 2 & 2 & 2 & 3 & 4 & 3 & 6 & 5 & 7 & Male   & NA & East Asian                              & NA & Chemical Engineering               & Larkin    & 3 & 5 & 2\\\\\n",
       "\\end{tabular}\n"
      ],
      "text/markdown": [
       "\n",
       "A data.frame: 6 × 59\n",
       "\n",
       "| <!--/--> | PID &lt;int&gt; | Progress &lt;int&gt; | Duration..in.seconds. &lt;int&gt; | Finished &lt;fct&gt; | RecordedDate &lt;fct&gt; | age18 &lt;fct&gt; | lifeSatisfaction_1 &lt;int&gt; | lifeSatisfaction_2 &lt;int&gt; | lifeSatisfaction_3 &lt;int&gt; | lifeSatisfaction_4 &lt;int&gt; | lifeSatisfaction_5 &lt;int&gt; | lifeSatisfaction_6 &lt;int&gt; | Empathy_1 &lt;int&gt; | Empathy_2 &lt;int&gt; | Empathy_3 &lt;int&gt; | Empathy_4 &lt;int&gt; | Empathy_5 &lt;int&gt; | Empathy_6 &lt;int&gt; | Empathy_7 &lt;int&gt; | Empathy_8 &lt;int&gt; | Sociality_1 &lt;int&gt; | Sociality_2 &lt;int&gt; | NeedToBelong_1 &lt;int&gt; | NeedToBelong_2 &lt;int&gt; | NeedToBelong_3 &lt;int&gt; | NeedToBelong_4 &lt;int&gt; | LayEmpathy_1 &lt;int&gt; | LayEmpathy_2 &lt;int&gt; | LayEmpathy_3 &lt;int&gt; | TIPI_1 &lt;int&gt; | TIPI_2 &lt;int&gt; | TIPI_3 &lt;int&gt; | TIPI_4 &lt;int&gt; | TIPI_5 &lt;int&gt; | TIPI_6 &lt;int&gt; | TIPI_7 &lt;int&gt; | TIPI_8 &lt;int&gt; | TIPI_9 &lt;int&gt; | TIPI_10 &lt;int&gt; | loneliness_1 &lt;int&gt; | loneliness_2 &lt;int&gt; | loneliness_3 &lt;int&gt; | Stress_1 &lt;int&gt; | Stress_2 &lt;int&gt; | poliIdeology_1 &lt;int&gt; | poliIdeology_2 &lt;int&gt; | poliIdeology_3 &lt;int&gt; | politicalIssues_1 &lt;int&gt; | politicalIssues_2 &lt;int&gt; | ladderUS &lt;int&gt; | gender &lt;fct&gt; | gender_3_TEXT &lt;fct&gt; | race &lt;fct&gt; | race_9_TEXT &lt;fct&gt; | major &lt;fct&gt; | dorm &lt;fct&gt; | lifeSatisfaction_6R &lt;int&gt; | NeedToBelong_2R &lt;int&gt; | LayEmpathy_3R &lt;int&gt; |\n",
       "|---|---|---|---|---|---|---|---|---|---|---|---|---|---|---|---|---|---|---|---|---|---|---|---|---|---|---|---|---|---|---|---|---|---|---|---|---|---|---|---|---|---|---|---|---|---|---|---|---|---|---|---|---|---|---|---|---|---|---|---|\n",
       "| 1 | 4507 | 100 |  358 | True | 2019-09-03 09:35:54 | Yes | 7 | 1 | 1 | 2 | 1 | 1 | 6 | 6 | 6 | 6 | 6 | 7 | 6 | 6 | 6 | 5 | 7 | 1 | 7 | 7 | 1 | 2 | 5 | 5 | 6 | 6 | 3 | 6 | 2 | 7 | 6 | 3 | 1 | 3 | 1 | 1 | 2 | 2 | 2 | 2 | 1 | 7 | 7 | 3 | Male   | NA | Black or African American               | NA | Management Science and Engineering | Eucalipto | 7 | 7 | 3 |\n",
       "| 2 | 2903 | 100 |  208 | True | 2019-09-16 13:41:44 | Yes | 7 | 7 | 7 | 7 | 7 | 2 | 5 | 6 | 4 | 6 | 6 | 5 | 5 | 7 | 7 | 7 | 3 | 7 | 7 | 5 | 3 | 6 | 2 | 6 | 3 | 7 | 2 | 7 | 2 | 5 | 5 | 6 | 2 | 1 | 2 | 1 | 3 | 2 | 2 | 1 | 4 | 7 | 7 | 8 | Female | NA | White or Caucasian,Hispanic or Latino/a | NA | Economics                          | Larkin    | 6 | 1 | 6 |\n",
       "| 3 | 1637 | 100 |  452 | True | 2019-09-06 13:26:16 | Yes | 7 | 6 | 6 | 7 | 6 | 2 | 7 | 7 | 6 | 7 | 7 | 7 | 7 | 7 | 6 | 5 | 3 | 6 | 3 | 4 | 5 | 3 | 5 | 5 | 2 | 6 | 3 | 6 | 6 | 7 | 1 | 7 | 2 | 3 | 2 | 1 | 2 | 2 | 4 | 3 | 5 | 6 | 6 | 9 | Male   | NA | East Asian,White or Caucasian           | NA | Economics                          | Norcliffe | 6 | 2 | 3 |\n",
       "| 4 | 1923 | 100 | 1087 | True | 2019-09-03 18:12:17 | Yes | 6 | 7 | 7 | 7 | 7 | 1 | 6 | 7 | 6 | 6 | 5 | 5 | 3 | 6 | 5 | 5 | 2 | 6 | 5 | 7 | 1 | 1 | 7 | 6 | 4 | 5 | 2 | 7 | 4 | 5 | 3 | 6 | 3 | 2 | 1 | 1 | 2 | 1 | 4 | 3 | 4 | 5 | 5 | 8 | Male   | NA | East Asian                              | NA | Symbolic Systems                   | Larkin    | 7 | 2 | 1 |\n",
       "| 5 | 7189 | 100 |  290 | True | 2019-09-09 18:54:16 | Yes | 2 | 4 | 3 | 5 | 3 | 5 | 7 | 7 | 6 | 5 | 7 | 7 | 3 | 7 | 7 | 1 | 2 | 6 | 2 | 2 | 3 | 3 | 5 | 3 | 6 | 7 | 5 | 6 | 3 | 5 | 2 | 5 | 3 | 2 | 2 | 2 | 3 | 3 | 1 | 1 | 1 | 7 | 7 | 6 | Female | NA | Middle Eastern                          | NA | Human Biology                      | Alondra   | 3 | 2 | 3 |\n",
       "| 6 | 1236 | 100 |  310 | True | 2019-09-16 17:57:11 | Yes | 6 | 4 | 5 | 6 | 5 | 5 | 5 | 6 | 5 | 6 | 5 | 5 | 6 | 5 | 3 | 5 | 5 | 3 | 7 | 7 | 2 | 2 | 6 | 3 | 3 | 5 | 5 | 4 | 5 | 5 | 3 | 5 | 3 | 2 | 2 | 2 | 2 | 2 | 3 | 4 | 3 | 6 | 5 | 7 | Male   | NA | East Asian                              | NA | Chemical Engineering               | Larkin    | 3 | 5 | 2 |\n",
       "\n"
      ],
      "text/plain": [
       "  PID  Progress Duration..in.seconds. Finished RecordedDate        age18\n",
       "1 4507 100       358                  True     2019-09-03 09:35:54 Yes  \n",
       "2 2903 100       208                  True     2019-09-16 13:41:44 Yes  \n",
       "3 1637 100       452                  True     2019-09-06 13:26:16 Yes  \n",
       "4 1923 100      1087                  True     2019-09-03 18:12:17 Yes  \n",
       "5 7189 100       290                  True     2019-09-09 18:54:16 Yes  \n",
       "6 1236 100       310                  True     2019-09-16 17:57:11 Yes  \n",
       "  lifeSatisfaction_1 lifeSatisfaction_2 lifeSatisfaction_3 lifeSatisfaction_4\n",
       "1 7                  1                  1                  2                 \n",
       "2 7                  7                  7                  7                 \n",
       "3 7                  6                  6                  7                 \n",
       "4 6                  7                  7                  7                 \n",
       "5 2                  4                  3                  5                 \n",
       "6 6                  4                  5                  6                 \n",
       "  lifeSatisfaction_5 lifeSatisfaction_6 Empathy_1 Empathy_2 Empathy_3 Empathy_4\n",
       "1 1                  1                  6         6         6         6        \n",
       "2 7                  2                  5         6         4         6        \n",
       "3 6                  2                  7         7         6         7        \n",
       "4 7                  1                  6         7         6         6        \n",
       "5 3                  5                  7         7         6         5        \n",
       "6 5                  5                  5         6         5         6        \n",
       "  Empathy_5 Empathy_6 Empathy_7 Empathy_8 Sociality_1 Sociality_2\n",
       "1 6         7         6         6         6           5          \n",
       "2 6         5         5         7         7           7          \n",
       "3 7         7         7         7         6           5          \n",
       "4 5         5         3         6         5           5          \n",
       "5 7         7         3         7         7           1          \n",
       "6 5         5         6         5         3           5          \n",
       "  NeedToBelong_1 NeedToBelong_2 NeedToBelong_3 NeedToBelong_4 LayEmpathy_1\n",
       "1 7              1              7              7              1           \n",
       "2 3              7              7              5              3           \n",
       "3 3              6              3              4              5           \n",
       "4 2              6              5              7              1           \n",
       "5 2              6              2              2              3           \n",
       "6 5              3              7              7              2           \n",
       "  LayEmpathy_2 LayEmpathy_3 TIPI_1 TIPI_2 TIPI_3 TIPI_4 TIPI_5 TIPI_6 TIPI_7\n",
       "1 2            5            5      6      6      3      6      2      7     \n",
       "2 6            2            6      3      7      2      7      2      5     \n",
       "3 3            5            5      2      6      3      6      6      7     \n",
       "4 1            7            6      4      5      2      7      4      5     \n",
       "5 3            5            3      6      7      5      6      3      5     \n",
       "6 2            6            3      3      5      5      4      5      5     \n",
       "  TIPI_8 TIPI_9 TIPI_10 loneliness_1 loneliness_2 loneliness_3 Stress_1\n",
       "1 6      3      1       3            1            1            2       \n",
       "2 5      6      2       1            2            1            3       \n",
       "3 1      7      2       3            2            1            2       \n",
       "4 3      6      3       2            1            1            2       \n",
       "5 2      5      3       2            2            2            3       \n",
       "6 3      5      3       2            2            2            2       \n",
       "  Stress_2 poliIdeology_1 poliIdeology_2 poliIdeology_3 politicalIssues_1\n",
       "1 2        2              2              1              7                \n",
       "2 2        2              1              4              7                \n",
       "3 2        4              3              5              6                \n",
       "4 1        4              3              4              5                \n",
       "5 3        1              1              1              7                \n",
       "6 2        3              4              3              6                \n",
       "  politicalIssues_2 ladderUS gender gender_3_TEXT\n",
       "1 7                 3        Male   NA           \n",
       "2 7                 8        Female NA           \n",
       "3 6                 9        Male   NA           \n",
       "4 5                 8        Male   NA           \n",
       "5 7                 6        Female NA           \n",
       "6 5                 7        Male   NA           \n",
       "  race                                    race_9_TEXT\n",
       "1 Black or African American               NA         \n",
       "2 White or Caucasian,Hispanic or Latino/a NA         \n",
       "3 East Asian,White or Caucasian           NA         \n",
       "4 East Asian                              NA         \n",
       "5 Middle Eastern                          NA         \n",
       "6 East Asian                              NA         \n",
       "  major                              dorm      lifeSatisfaction_6R\n",
       "1 Management Science and Engineering Eucalipto 7                  \n",
       "2 Economics                          Larkin    6                  \n",
       "3 Economics                          Norcliffe 6                  \n",
       "4 Symbolic Systems                   Larkin    7                  \n",
       "5 Human Biology                      Alondra   3                  \n",
       "6 Chemical Engineering               Larkin    3                  \n",
       "  NeedToBelong_2R LayEmpathy_3R\n",
       "1 7               3            \n",
       "2 1               6            \n",
       "3 2               3            \n",
       "4 2               1            \n",
       "5 2               3            \n",
       "6 5               2            "
      ]
     },
     "metadata": {},
     "output_type": "display_data"
    }
   ],
   "source": [
    "prefrosh = read.csv(paste(DATA_DIR, 'Prefrosh_Survey/df_prefroshCleanData.csv', sep=\"\"), na.strings=c(\"\", \" \", \"NA\"))\n",
    "prefrosh = prefrosh[, -1]  # Drop first column (a meaningless row number)\n",
    "str(prefrosh)\n",
    "head(prefrosh)"
   ]
  },
  {
   "cell_type": "markdown",
   "metadata": {},
   "source": [
    "### Check for incomplete data"
   ]
  },
  {
   "cell_type": "code",
   "execution_count": 4,
   "metadata": {},
   "outputs": [
    {
     "data": {
      "text/html": [
       "<dl class=dl-horizontal>\n",
       "\t<dt>False</dt>\n",
       "\t\t<dd>1</dd>\n",
       "\t<dt>True</dt>\n",
       "\t\t<dd>1101</dd>\n",
       "</dl>\n"
      ],
      "text/latex": [
       "\\begin{description*}\n",
       "\\item[False] 1\n",
       "\\item[True] 1101\n",
       "\\end{description*}\n"
      ],
      "text/markdown": [
       "False\n",
       ":   1True\n",
       ":   1101\n",
       "\n"
      ],
      "text/plain": [
       "False  True \n",
       "    1  1101 "
      ]
     },
     "metadata": {},
     "output_type": "display_data"
    }
   ],
   "source": [
    "summary(prefrosh$Finished)"
   ]
  },
  {
   "cell_type": "code",
   "execution_count": 5,
   "metadata": {},
   "outputs": [
    {
     "data": {
      "text/html": [
       "'Dropping 1 incomplete surveys'"
      ],
      "text/latex": [
       "'Dropping 1 incomplete surveys'"
      ],
      "text/markdown": [
       "'Dropping 1 incomplete surveys'"
      ],
      "text/plain": [
       "[1] \"Dropping 1 incomplete surveys\""
      ]
     },
     "metadata": {},
     "output_type": "display_data"
    }
   ],
   "source": [
    "paste(\"Dropping\", sum(prefrosh$Finished == \"False\"), \"incomplete surveys\")\n",
    "prefrosh = prefrosh[prefrosh$Finished == \"True\",]"
   ]
  },
  {
   "cell_type": "code",
   "execution_count": 6,
   "metadata": {},
   "outputs": [
    {
     "data": {
      "text/html": [
       "<dl class=dl-horizontal>\n",
       "\t<dt>False</dt>\n",
       "\t\t<dd>0</dd>\n",
       "\t<dt>True</dt>\n",
       "\t\t<dd>1101</dd>\n",
       "</dl>\n"
      ],
      "text/latex": [
       "\\begin{description*}\n",
       "\\item[False] 0\n",
       "\\item[True] 1101\n",
       "\\end{description*}\n"
      ],
      "text/markdown": [
       "False\n",
       ":   0True\n",
       ":   1101\n",
       "\n"
      ],
      "text/plain": [
       "False  True \n",
       "    0  1101 "
      ]
     },
     "metadata": {},
     "output_type": "display_data"
    }
   ],
   "source": [
    "summary(prefrosh$Finished)"
   ]
  },
  {
   "cell_type": "markdown",
   "metadata": {},
   "source": [
    "### Check that all Ps are over 18"
   ]
  },
  {
   "cell_type": "code",
   "execution_count": 7,
   "metadata": {},
   "outputs": [
    {
     "data": {
      "text/html": [
       "<strong>Yes:</strong> 1101"
      ],
      "text/latex": [
       "\\textbf{Yes:} 1101"
      ],
      "text/markdown": [
       "**Yes:** 1101"
      ],
      "text/plain": [
       " Yes \n",
       "1101 "
      ]
     },
     "metadata": {},
     "output_type": "display_data"
    }
   ],
   "source": [
    "summary(prefrosh$age18)"
   ]
  },
  {
   "cell_type": "code",
   "execution_count": 8,
   "metadata": {},
   "outputs": [
    {
     "data": {
      "text/plain": [
       "Length  Class   Mode \n",
       "     0   NULL   NULL "
      ]
     },
     "metadata": {},
     "output_type": "display_data"
    }
   ],
   "source": [
    "summary(prefrosh$family_income)"
   ]
  },
  {
   "cell_type": "markdown",
   "metadata": {},
   "source": [
    "### Check for duplicates (people who did the survey more than once)"
   ]
  },
  {
   "cell_type": "code",
   "execution_count": 9,
   "metadata": {},
   "outputs": [],
   "source": [
    "prefrosh = arrange(prefrosh, PID, RecordedDate)"
   ]
  },
  {
   "cell_type": "code",
   "execution_count": 10,
   "metadata": {},
   "outputs": [
    {
     "data": {
      "text/html": [
       "<table>\n",
       "<caption>A data.frame: 20 × 59</caption>\n",
       "<thead>\n",
       "\t<tr><th></th><th scope=col>PID</th><th scope=col>Progress</th><th scope=col>Duration..in.seconds.</th><th scope=col>Finished</th><th scope=col>RecordedDate</th><th scope=col>age18</th><th scope=col>lifeSatisfaction_1</th><th scope=col>lifeSatisfaction_2</th><th scope=col>lifeSatisfaction_3</th><th scope=col>lifeSatisfaction_4</th><th scope=col>lifeSatisfaction_5</th><th scope=col>lifeSatisfaction_6</th><th scope=col>Empathy_1</th><th scope=col>Empathy_2</th><th scope=col>Empathy_3</th><th scope=col>Empathy_4</th><th scope=col>Empathy_5</th><th scope=col>Empathy_6</th><th scope=col>Empathy_7</th><th scope=col>Empathy_8</th><th scope=col>Sociality_1</th><th scope=col>Sociality_2</th><th scope=col>NeedToBelong_1</th><th scope=col>NeedToBelong_2</th><th scope=col>NeedToBelong_3</th><th scope=col>NeedToBelong_4</th><th scope=col>LayEmpathy_1</th><th scope=col>LayEmpathy_2</th><th scope=col>LayEmpathy_3</th><th scope=col>TIPI_1</th><th scope=col>TIPI_2</th><th scope=col>TIPI_3</th><th scope=col>TIPI_4</th><th scope=col>TIPI_5</th><th scope=col>TIPI_6</th><th scope=col>TIPI_7</th><th scope=col>TIPI_8</th><th scope=col>TIPI_9</th><th scope=col>TIPI_10</th><th scope=col>loneliness_1</th><th scope=col>loneliness_2</th><th scope=col>loneliness_3</th><th scope=col>Stress_1</th><th scope=col>Stress_2</th><th scope=col>poliIdeology_1</th><th scope=col>poliIdeology_2</th><th scope=col>poliIdeology_3</th><th scope=col>politicalIssues_1</th><th scope=col>politicalIssues_2</th><th scope=col>ladderUS</th><th scope=col>gender</th><th scope=col>gender_3_TEXT</th><th scope=col>race</th><th scope=col>race_9_TEXT</th><th scope=col>major</th><th scope=col>dorm</th><th scope=col>lifeSatisfaction_6R</th><th scope=col>NeedToBelong_2R</th><th scope=col>LayEmpathy_3R</th></tr>\n",
       "\t<tr><th></th><th scope=col>&lt;int&gt;</th><th scope=col>&lt;int&gt;</th><th scope=col>&lt;int&gt;</th><th scope=col>&lt;fct&gt;</th><th scope=col>&lt;fct&gt;</th><th scope=col>&lt;fct&gt;</th><th scope=col>&lt;int&gt;</th><th scope=col>&lt;int&gt;</th><th scope=col>&lt;int&gt;</th><th scope=col>&lt;int&gt;</th><th scope=col>&lt;int&gt;</th><th scope=col>&lt;int&gt;</th><th scope=col>&lt;int&gt;</th><th scope=col>&lt;int&gt;</th><th scope=col>&lt;int&gt;</th><th scope=col>&lt;int&gt;</th><th scope=col>&lt;int&gt;</th><th scope=col>&lt;int&gt;</th><th scope=col>&lt;int&gt;</th><th scope=col>&lt;int&gt;</th><th scope=col>&lt;int&gt;</th><th scope=col>&lt;int&gt;</th><th scope=col>&lt;int&gt;</th><th scope=col>&lt;int&gt;</th><th scope=col>&lt;int&gt;</th><th scope=col>&lt;int&gt;</th><th scope=col>&lt;int&gt;</th><th scope=col>&lt;int&gt;</th><th scope=col>&lt;int&gt;</th><th scope=col>&lt;int&gt;</th><th scope=col>&lt;int&gt;</th><th scope=col>&lt;int&gt;</th><th scope=col>&lt;int&gt;</th><th scope=col>&lt;int&gt;</th><th scope=col>&lt;int&gt;</th><th scope=col>&lt;int&gt;</th><th scope=col>&lt;int&gt;</th><th scope=col>&lt;int&gt;</th><th scope=col>&lt;int&gt;</th><th scope=col>&lt;int&gt;</th><th scope=col>&lt;int&gt;</th><th scope=col>&lt;int&gt;</th><th scope=col>&lt;int&gt;</th><th scope=col>&lt;int&gt;</th><th scope=col>&lt;int&gt;</th><th scope=col>&lt;int&gt;</th><th scope=col>&lt;int&gt;</th><th scope=col>&lt;int&gt;</th><th scope=col>&lt;int&gt;</th><th scope=col>&lt;int&gt;</th><th scope=col>&lt;fct&gt;</th><th scope=col>&lt;fct&gt;</th><th scope=col>&lt;fct&gt;</th><th scope=col>&lt;fct&gt;</th><th scope=col>&lt;fct&gt;</th><th scope=col>&lt;fct&gt;</th><th scope=col>&lt;int&gt;</th><th scope=col>&lt;int&gt;</th><th scope=col>&lt;int&gt;</th></tr>\n",
       "</thead>\n",
       "<tbody>\n",
       "\t<tr><th scope=row>43</th><td>1352</td><td>100</td><td> 257</td><td>True</td><td>2019-09-04 00:55:03</td><td>Yes</td><td>5</td><td>5</td><td>4</td><td>4</td><td>5</td><td>5</td><td>6</td><td>6</td><td>6</td><td>6</td><td>6</td><td>7</td><td>7</td><td>6</td><td>7</td><td>6</td><td>6</td><td>3</td><td>7</td><td>7</td><td>3</td><td>4</td><td>6</td><td>7</td><td>6</td><td>7</td><td>4</td><td>6</td><td>2</td><td>5</td><td>2</td><td>4</td><td>2</td><td>2</td><td>3</td><td>2</td><td>2</td><td>1</td><td>2</td><td>1</td><td>3</td><td>6</td><td>5</td><td>6</td><td>Male  </td><td>NA</td><td>Native American,White or Caucasian,Hispanic or Latino/a</td><td>NA</td><td>Public Policy                          </td><td>Sally Ride</td><td>3</td><td>5</td><td>2</td></tr>\n",
       "\t<tr><th scope=row>44</th><td>1352</td><td>100</td><td> 197</td><td>True</td><td>2019-09-10 10:35:38</td><td>Yes</td><td>6</td><td>6</td><td>6</td><td>5</td><td>6</td><td>5</td><td>6</td><td>7</td><td>5</td><td>5</td><td>6</td><td>6</td><td>6</td><td>6</td><td>7</td><td>6</td><td>7</td><td>3</td><td>7</td><td>7</td><td>3</td><td>2</td><td>6</td><td>7</td><td>5</td><td>6</td><td>3</td><td>6</td><td>2</td><td>5</td><td>2</td><td>3</td><td>2</td><td>2</td><td>2</td><td>2</td><td>2</td><td>1</td><td>3</td><td>2</td><td>3</td><td>7</td><td>3</td><td>6</td><td>Male  </td><td>NA</td><td>Native American,White or Caucasian,Hispanic or Latino/a</td><td>NA</td><td>Public Policy                          </td><td>Sally Ride</td><td>3</td><td>5</td><td>2</td></tr>\n",
       "\t<tr><th scope=row>153</th><td>2078</td><td>100</td><td> 243</td><td>True</td><td>2019-09-09 17:31:42</td><td>Yes</td><td>6</td><td>6</td><td>5</td><td>6</td><td>6</td><td>5</td><td>6</td><td>6</td><td>5</td><td>6</td><td>5</td><td>6</td><td>6</td><td>5</td><td>5</td><td>4</td><td>5</td><td>3</td><td>6</td><td>6</td><td>3</td><td>2</td><td>5</td><td>5</td><td>4</td><td>5</td><td>4</td><td>5</td><td>4</td><td>5</td><td>3</td><td>5</td><td>4</td><td>2</td><td>2</td><td>2</td><td>2</td><td>1</td><td>4</td><td>3</td><td>4</td><td>6</td><td>6</td><td>6</td><td>Male  </td><td>NA</td><td>East Asian                                             </td><td>NA</td><td>undecided                              </td><td>Granada   </td><td>3</td><td>5</td><td>3</td></tr>\n",
       "\t<tr><th scope=row>154</th><td>2078</td><td>100</td><td> 147</td><td>True</td><td>2019-09-09 17:34:53</td><td>Yes</td><td>6</td><td>6</td><td>5</td><td>6</td><td>6</td><td>5</td><td>6</td><td>6</td><td>6</td><td>5</td><td>6</td><td>6</td><td>6</td><td>5</td><td>5</td><td>4</td><td>5</td><td>3</td><td>5</td><td>5</td><td>2</td><td>2</td><td>5</td><td>5</td><td>4</td><td>5</td><td>4</td><td>5</td><td>4</td><td>5</td><td>3</td><td>5</td><td>3</td><td>2</td><td>2</td><td>2</td><td>2</td><td>1</td><td>4</td><td>3</td><td>4</td><td>6</td><td>6</td><td>7</td><td>Male  </td><td>NA</td><td>East Asian                                             </td><td>NA</td><td>undecided                              </td><td>Granada   </td><td>3</td><td>5</td><td>3</td></tr>\n",
       "\t<tr><th scope=row>161</th><td>2125</td><td>100</td><td> 581</td><td>True</td><td>2019-09-09 18:49:14</td><td>Yes</td><td>7</td><td>7</td><td>7</td><td>7</td><td>6</td><td>3</td><td>7</td><td>7</td><td>5</td><td>5</td><td>7</td><td>6</td><td>6</td><td>7</td><td>5</td><td>1</td><td>4</td><td>6</td><td>6</td><td>6</td><td>4</td><td>3</td><td>5</td><td>7</td><td>5</td><td>7</td><td>3</td><td>5</td><td>6</td><td>5</td><td>1</td><td>5</td><td>2</td><td>2</td><td>3</td><td>2</td><td>2</td><td>2</td><td>4</td><td>6</td><td>3</td><td>5</td><td>4</td><td>7</td><td>Male  </td><td>NA</td><td>Middle Eastern                                         </td><td>NA</td><td>Energy Recourses Engineering           </td><td>Roble     </td><td>5</td><td>2</td><td>3</td></tr>\n",
       "\t<tr><th scope=row>162</th><td>2125</td><td>100</td><td> 294</td><td>True</td><td>2019-09-09 19:23:05</td><td>Yes</td><td>7</td><td>6</td><td>7</td><td>7</td><td>6</td><td>2</td><td>6</td><td>7</td><td>5</td><td>3</td><td>7</td><td>7</td><td>5</td><td>6</td><td>6</td><td>2</td><td>5</td><td>6</td><td>5</td><td>4</td><td>4</td><td>4</td><td>5</td><td>6</td><td>5</td><td>7</td><td>2</td><td>6</td><td>5</td><td>7</td><td>1</td><td>6</td><td>2</td><td>2</td><td>3</td><td>2</td><td>2</td><td>2</td><td>4</td><td>6</td><td>2</td><td>5</td><td>4</td><td>7</td><td>Male  </td><td>NA</td><td>Middle Eastern                                         </td><td>NA</td><td>Energy Resources Engineering           </td><td>Roble     </td><td>6</td><td>2</td><td>3</td></tr>\n",
       "\t<tr><th scope=row>384</th><td>3643</td><td>100</td><td> 277</td><td>True</td><td>2019-09-09 15:43:21</td><td>Yes</td><td>4</td><td>5</td><td>4</td><td>6</td><td>4</td><td>5</td><td>6</td><td>6</td><td>6</td><td>5</td><td>5</td><td>5</td><td>6</td><td>5</td><td>5</td><td>5</td><td>5</td><td>5</td><td>5</td><td>5</td><td>3</td><td>3</td><td>5</td><td>4</td><td>4</td><td>6</td><td>4</td><td>5</td><td>5</td><td>5</td><td>4</td><td>4</td><td>3</td><td>2</td><td>2</td><td>2</td><td>2</td><td>2</td><td>3</td><td>3</td><td>5</td><td>3</td><td>6</td><td>5</td><td>Female</td><td>NA</td><td>East Asian                                             </td><td>NA</td><td>Undecided                              </td><td>Larkin    </td><td>3</td><td>3</td><td>3</td></tr>\n",
       "\t<tr><th scope=row>385</th><td>3643</td><td>100</td><td> 213</td><td>True</td><td>2019-09-09 15:56:59</td><td>Yes</td><td>5</td><td>5</td><td>5</td><td>6</td><td>5</td><td>5</td><td>6</td><td>6</td><td>6</td><td>5</td><td>5</td><td>5</td><td>5</td><td>5</td><td>5</td><td>5</td><td>5</td><td>4</td><td>5</td><td>5</td><td>3</td><td>3</td><td>5</td><td>3</td><td>4</td><td>5</td><td>4</td><td>5</td><td>5</td><td>5</td><td>4</td><td>4</td><td>3</td><td>2</td><td>2</td><td>2</td><td>2</td><td>2</td><td>3</td><td>3</td><td>5</td><td>3</td><td>6</td><td>5</td><td>Female</td><td>NA</td><td>East Asian                                             </td><td>NA</td><td>Undecided                              </td><td>Larkin    </td><td>3</td><td>4</td><td>3</td></tr>\n",
       "\t<tr><th scope=row>431</th><td>3970</td><td>100</td><td> 293</td><td>True</td><td>2019-09-03 12:41:23</td><td>Yes</td><td>6</td><td>6</td><td>6</td><td>6</td><td>6</td><td>2</td><td>6</td><td>6</td><td>6</td><td>6</td><td>6</td><td>6</td><td>6</td><td>6</td><td>5</td><td>4</td><td>3</td><td>6</td><td>5</td><td>5</td><td>2</td><td>2</td><td>5</td><td>6</td><td>2</td><td>6</td><td>2</td><td>6</td><td>3</td><td>6</td><td>2</td><td>6</td><td>2</td><td>1</td><td>2</td><td>1</td><td>2</td><td>1</td><td>4</td><td>3</td><td>5</td><td>5</td><td>5</td><td>7</td><td>Male  </td><td>NA</td><td>Hispanic or Latino/a                                   </td><td>NA</td><td>Computer Science/Biomedical Computation</td><td>Cedro     </td><td>6</td><td>2</td><td>3</td></tr>\n",
       "\t<tr><th scope=row>432</th><td>3970</td><td>100</td><td> 249</td><td>True</td><td>2019-09-09 07:24:14</td><td>Yes</td><td>6</td><td>6</td><td>6</td><td>6</td><td>6</td><td>2</td><td>6</td><td>7</td><td>6</td><td>6</td><td>6</td><td>7</td><td>6</td><td>5</td><td>6</td><td>4</td><td>3</td><td>6</td><td>5</td><td>6</td><td>2</td><td>2</td><td>6</td><td>6</td><td>3</td><td>7</td><td>2</td><td>6</td><td>2</td><td>6</td><td>2</td><td>6</td><td>3</td><td>2</td><td>2</td><td>1</td><td>2</td><td>1</td><td>4</td><td>3</td><td>5</td><td>5</td><td>6</td><td>7</td><td>Male  </td><td>NA</td><td>White or Caucasian,Hispanic or Latino/a                </td><td>NA</td><td>Computer Science/Biomedical Computation</td><td>Cedro     </td><td>6</td><td>2</td><td>2</td></tr>\n",
       "\t<tr><th scope=row>639</th><td>5392</td><td>100</td><td> 253</td><td>True</td><td>2019-09-09 17:17:07</td><td>Yes</td><td>5</td><td>6</td><td>4</td><td>4</td><td>7</td><td>4</td><td>4</td><td>7</td><td>3</td><td>5</td><td>5</td><td>6</td><td>6</td><td>6</td><td>7</td><td>6</td><td>2</td><td>6</td><td>7</td><td>7</td><td>2</td><td>3</td><td>5</td><td>6</td><td>2</td><td>7</td><td>1</td><td>7</td><td>2</td><td>6</td><td>3</td><td>6</td><td>2</td><td>1</td><td>1</td><td>1</td><td>2</td><td>1</td><td>2</td><td>2</td><td>2</td><td>6</td><td>7</td><td>7</td><td>Female</td><td>NA</td><td>South Asian                                            </td><td>NA</td><td>undecided                              </td><td>Twain     </td><td>4</td><td>2</td><td>3</td></tr>\n",
       "\t<tr><th scope=row>640</th><td>5392</td><td>100</td><td>2806</td><td>True</td><td>2019-09-15 18:59:58</td><td>Yes</td><td>5</td><td>6</td><td>5</td><td>6</td><td>6</td><td>2</td><td>6</td><td>7</td><td>4</td><td>6</td><td>6</td><td>7</td><td>5</td><td>7</td><td>7</td><td>4</td><td>3</td><td>4</td><td>6</td><td>4</td><td>2</td><td>2</td><td>6</td><td>6</td><td>2</td><td>6</td><td>2</td><td>6</td><td>4</td><td>6</td><td>3</td><td>4</td><td>2</td><td>2</td><td>1</td><td>1</td><td>2</td><td>1</td><td>2</td><td>2</td><td>2</td><td>5</td><td>7</td><td>7</td><td>Female</td><td>NA</td><td>South Asian                                            </td><td>NA</td><td>Public policy, computer science        </td><td>Twain     </td><td>6</td><td>4</td><td>2</td></tr>\n",
       "\t<tr><th scope=row>669</th><td>5558</td><td>100</td><td> 170</td><td>True</td><td>2019-09-03 16:39:36</td><td>Yes</td><td>7</td><td>7</td><td>6</td><td>7</td><td>7</td><td>2</td><td>7</td><td>7</td><td>5</td><td>6</td><td>7</td><td>7</td><td>6</td><td>7</td><td>7</td><td>6</td><td>5</td><td>3</td><td>5</td><td>6</td><td>1</td><td>2</td><td>6</td><td>5</td><td>2</td><td>5</td><td>1</td><td>6</td><td>3</td><td>6</td><td>5</td><td>5</td><td>2</td><td>1</td><td>1</td><td>1</td><td>2</td><td>1</td><td>2</td><td>2</td><td>3</td><td>6</td><td>6</td><td>8</td><td>Female</td><td>NA</td><td>East Asian                                             </td><td>NA</td><td>undecided                              </td><td>Cardenal  </td><td>6</td><td>5</td><td>2</td></tr>\n",
       "\t<tr><th scope=row>670</th><td>5558</td><td>100</td><td> 252</td><td>True</td><td>2019-09-09 19:29:25</td><td>Yes</td><td>7</td><td>6</td><td>6</td><td>7</td><td>7</td><td>6</td><td>7</td><td>6</td><td>6</td><td>6</td><td>7</td><td>7</td><td>7</td><td>6</td><td>6</td><td>6</td><td>5</td><td>3</td><td>5</td><td>6</td><td>3</td><td>3</td><td>5</td><td>5</td><td>3</td><td>3</td><td>3</td><td>5</td><td>3</td><td>6</td><td>5</td><td>5</td><td>5</td><td>2</td><td>2</td><td>2</td><td>2</td><td>1</td><td>2</td><td>2</td><td>2</td><td>5</td><td>6</td><td>8</td><td>Female</td><td>NA</td><td>East Asian                                             </td><td>NA</td><td>Economics                              </td><td>Cardenal  </td><td>2</td><td>5</td><td>3</td></tr>\n",
       "\t<tr><th scope=row>871</th><td>6867</td><td>100</td><td> 319</td><td>True</td><td>2019-09-03 22:53:33</td><td>Yes</td><td>7</td><td>5</td><td>7</td><td>5</td><td>7</td><td>3</td><td>5</td><td>7</td><td>5</td><td>3</td><td>6</td><td>3</td><td>5</td><td>7</td><td>6</td><td>3</td><td>3</td><td>6</td><td>3</td><td>3</td><td>3</td><td>3</td><td>6</td><td>5</td><td>3</td><td>7</td><td>3</td><td>7</td><td>5</td><td>7</td><td>1</td><td>6</td><td>3</td><td>2</td><td>1</td><td>2</td><td>2</td><td>2</td><td>5</td><td>5</td><td>3</td><td>4</td><td>1</td><td>6</td><td>Male  </td><td>NA</td><td>East Asian                                             </td><td>NA</td><td>Undecided                              </td><td>Cedro     </td><td>5</td><td>2</td><td>2</td></tr>\n",
       "\t<tr><th scope=row>872</th><td>6867</td><td>100</td><td> 188</td><td>True</td><td>2019-09-03 22:57:11</td><td>Yes</td><td>7</td><td>7</td><td>7</td><td>7</td><td>7</td><td>7</td><td>6</td><td>7</td><td>7</td><td>3</td><td>7</td><td>3</td><td>7</td><td>7</td><td>6</td><td>3</td><td>2</td><td>5</td><td>3</td><td>3</td><td>3</td><td>3</td><td>6</td><td>2</td><td>3</td><td>7</td><td>3</td><td>7</td><td>7</td><td>7</td><td>3</td><td>7</td><td>7</td><td>2</td><td>2</td><td>2</td><td>2</td><td>2</td><td>5</td><td>5</td><td>4</td><td>3</td><td>1</td><td>6</td><td>Male  </td><td>NA</td><td>East Asian                                             </td><td>NA</td><td>Undecided                              </td><td>Cedro     </td><td>1</td><td>3</td><td>2</td></tr>\n",
       "\t<tr><th scope=row>962</th><td>7387</td><td>100</td><td> 387</td><td>True</td><td>2019-09-09 15:53:48</td><td>Yes</td><td>6</td><td>6</td><td>4</td><td>4</td><td>4</td><td>3</td><td>7</td><td>7</td><td>4</td><td>3</td><td>4</td><td>5</td><td>4</td><td>5</td><td>4</td><td>5</td><td>1</td><td>7</td><td>2</td><td>5</td><td>3</td><td>4</td><td>4</td><td>2</td><td>3</td><td>7</td><td>2</td><td>6</td><td>7</td><td>6</td><td>5</td><td>7</td><td>2</td><td>3</td><td>3</td><td>3</td><td>2</td><td>1</td><td>6</td><td>6</td><td>6</td><td>6</td><td>2</td><td>3</td><td>Male  </td><td>NA</td><td>Black or African American                              </td><td>NA</td><td>Computer Science                       </td><td>Burbank   </td><td>5</td><td>1</td><td>4</td></tr>\n",
       "\t<tr><th scope=row>963</th><td>7387</td><td>100</td><td> 179</td><td>True</td><td>2019-09-12 23:56:40</td><td>Yes</td><td>6</td><td>6</td><td>5</td><td>6</td><td>4</td><td>6</td><td>5</td><td>6</td><td>5</td><td>4</td><td>4</td><td>4</td><td>5</td><td>6</td><td>4</td><td>5</td><td>2</td><td>6</td><td>3</td><td>5</td><td>4</td><td>2</td><td>6</td><td>2</td><td>2</td><td>6</td><td>2</td><td>6</td><td>6</td><td>6</td><td>4</td><td>6</td><td>2</td><td>3</td><td>2</td><td>3</td><td>2</td><td>1</td><td>6</td><td>6</td><td>6</td><td>6</td><td>2</td><td>3</td><td>Male  </td><td>NA</td><td>Black or African American                              </td><td>NA</td><td>CS                                     </td><td>Burbank   </td><td>2</td><td>2</td><td>2</td></tr>\n",
       "\t<tr><th scope=row>1013</th><td>7681</td><td>100</td><td> 367</td><td>True</td><td>2019-09-14 23:59:43</td><td>Yes</td><td>6</td><td>7</td><td>6</td><td>6</td><td>6</td><td>4</td><td>4</td><td>5</td><td>4</td><td>6</td><td>6</td><td>5</td><td>6</td><td>5</td><td>6</td><td>6</td><td>3</td><td>4</td><td>5</td><td>5</td><td>2</td><td>3</td><td>7</td><td>6</td><td>4</td><td>7</td><td>4</td><td>6</td><td>5</td><td>5</td><td>3</td><td>7</td><td>1</td><td>2</td><td>2</td><td>1</td><td>2</td><td>2</td><td>5</td><td>5</td><td>7</td><td>1</td><td>1</td><td>8</td><td>Male  </td><td>NA</td><td>Hispanic or Latino/a                                   </td><td>NA</td><td>Energy Resource Engineering            </td><td>Otero     </td><td>4</td><td>4</td><td>1</td></tr>\n",
       "\t<tr><th scope=row>1014</th><td>7681</td><td>100</td><td> 242</td><td>True</td><td>2019-09-15 23:36:21</td><td>Yes</td><td>7</td><td>6</td><td>7</td><td>7</td><td>6</td><td>1</td><td>4</td><td>4</td><td>4</td><td>5</td><td>5</td><td>4</td><td>6</td><td>3</td><td>6</td><td>5</td><td>3</td><td>4</td><td>2</td><td>5</td><td>3</td><td>3</td><td>5</td><td>5</td><td>5</td><td>6</td><td>3</td><td>6</td><td>3</td><td>5</td><td>2</td><td>6</td><td>1</td><td>2</td><td>2</td><td>1</td><td>2</td><td>2</td><td>6</td><td>6</td><td>6</td><td>2</td><td>1</td><td>8</td><td>Male  </td><td>NA</td><td>White or Caucasian,Hispanic or Latino/a                </td><td>NA</td><td>Energy Resources engineering           </td><td>Otero     </td><td>7</td><td>4</td><td>3</td></tr>\n",
       "</tbody>\n",
       "</table>\n"
      ],
      "text/latex": [
       "A data.frame: 20 × 59\n",
       "\\begin{tabular}{r|lllllllllllllllllllllllllllllllllllllllllllllllllllllllllll}\n",
       "  & PID & Progress & Duration..in.seconds. & Finished & RecordedDate & age18 & lifeSatisfaction\\_1 & lifeSatisfaction\\_2 & lifeSatisfaction\\_3 & lifeSatisfaction\\_4 & lifeSatisfaction\\_5 & lifeSatisfaction\\_6 & Empathy\\_1 & Empathy\\_2 & Empathy\\_3 & Empathy\\_4 & Empathy\\_5 & Empathy\\_6 & Empathy\\_7 & Empathy\\_8 & Sociality\\_1 & Sociality\\_2 & NeedToBelong\\_1 & NeedToBelong\\_2 & NeedToBelong\\_3 & NeedToBelong\\_4 & LayEmpathy\\_1 & LayEmpathy\\_2 & LayEmpathy\\_3 & TIPI\\_1 & TIPI\\_2 & TIPI\\_3 & TIPI\\_4 & TIPI\\_5 & TIPI\\_6 & TIPI\\_7 & TIPI\\_8 & TIPI\\_9 & TIPI\\_10 & loneliness\\_1 & loneliness\\_2 & loneliness\\_3 & Stress\\_1 & Stress\\_2 & poliIdeology\\_1 & poliIdeology\\_2 & poliIdeology\\_3 & politicalIssues\\_1 & politicalIssues\\_2 & ladderUS & gender & gender\\_3\\_TEXT & race & race\\_9\\_TEXT & major & dorm & lifeSatisfaction\\_6R & NeedToBelong\\_2R & LayEmpathy\\_3R\\\\\n",
       "  & <int> & <int> & <int> & <fct> & <fct> & <fct> & <int> & <int> & <int> & <int> & <int> & <int> & <int> & <int> & <int> & <int> & <int> & <int> & <int> & <int> & <int> & <int> & <int> & <int> & <int> & <int> & <int> & <int> & <int> & <int> & <int> & <int> & <int> & <int> & <int> & <int> & <int> & <int> & <int> & <int> & <int> & <int> & <int> & <int> & <int> & <int> & <int> & <int> & <int> & <int> & <fct> & <fct> & <fct> & <fct> & <fct> & <fct> & <int> & <int> & <int>\\\\\n",
       "\\hline\n",
       "\t43 & 1352 & 100 &  257 & True & 2019-09-04 00:55:03 & Yes & 5 & 5 & 4 & 4 & 5 & 5 & 6 & 6 & 6 & 6 & 6 & 7 & 7 & 6 & 7 & 6 & 6 & 3 & 7 & 7 & 3 & 4 & 6 & 7 & 6 & 7 & 4 & 6 & 2 & 5 & 2 & 4 & 2 & 2 & 3 & 2 & 2 & 1 & 2 & 1 & 3 & 6 & 5 & 6 & Male   & NA & Native American,White or Caucasian,Hispanic or Latino/a & NA & Public Policy                           & Sally Ride & 3 & 5 & 2\\\\\n",
       "\t44 & 1352 & 100 &  197 & True & 2019-09-10 10:35:38 & Yes & 6 & 6 & 6 & 5 & 6 & 5 & 6 & 7 & 5 & 5 & 6 & 6 & 6 & 6 & 7 & 6 & 7 & 3 & 7 & 7 & 3 & 2 & 6 & 7 & 5 & 6 & 3 & 6 & 2 & 5 & 2 & 3 & 2 & 2 & 2 & 2 & 2 & 1 & 3 & 2 & 3 & 7 & 3 & 6 & Male   & NA & Native American,White or Caucasian,Hispanic or Latino/a & NA & Public Policy                           & Sally Ride & 3 & 5 & 2\\\\\n",
       "\t153 & 2078 & 100 &  243 & True & 2019-09-09 17:31:42 & Yes & 6 & 6 & 5 & 6 & 6 & 5 & 6 & 6 & 5 & 6 & 5 & 6 & 6 & 5 & 5 & 4 & 5 & 3 & 6 & 6 & 3 & 2 & 5 & 5 & 4 & 5 & 4 & 5 & 4 & 5 & 3 & 5 & 4 & 2 & 2 & 2 & 2 & 1 & 4 & 3 & 4 & 6 & 6 & 6 & Male   & NA & East Asian                                              & NA & undecided                               & Granada    & 3 & 5 & 3\\\\\n",
       "\t154 & 2078 & 100 &  147 & True & 2019-09-09 17:34:53 & Yes & 6 & 6 & 5 & 6 & 6 & 5 & 6 & 6 & 6 & 5 & 6 & 6 & 6 & 5 & 5 & 4 & 5 & 3 & 5 & 5 & 2 & 2 & 5 & 5 & 4 & 5 & 4 & 5 & 4 & 5 & 3 & 5 & 3 & 2 & 2 & 2 & 2 & 1 & 4 & 3 & 4 & 6 & 6 & 7 & Male   & NA & East Asian                                              & NA & undecided                               & Granada    & 3 & 5 & 3\\\\\n",
       "\t161 & 2125 & 100 &  581 & True & 2019-09-09 18:49:14 & Yes & 7 & 7 & 7 & 7 & 6 & 3 & 7 & 7 & 5 & 5 & 7 & 6 & 6 & 7 & 5 & 1 & 4 & 6 & 6 & 6 & 4 & 3 & 5 & 7 & 5 & 7 & 3 & 5 & 6 & 5 & 1 & 5 & 2 & 2 & 3 & 2 & 2 & 2 & 4 & 6 & 3 & 5 & 4 & 7 & Male   & NA & Middle Eastern                                          & NA & Energy Recourses Engineering            & Roble      & 5 & 2 & 3\\\\\n",
       "\t162 & 2125 & 100 &  294 & True & 2019-09-09 19:23:05 & Yes & 7 & 6 & 7 & 7 & 6 & 2 & 6 & 7 & 5 & 3 & 7 & 7 & 5 & 6 & 6 & 2 & 5 & 6 & 5 & 4 & 4 & 4 & 5 & 6 & 5 & 7 & 2 & 6 & 5 & 7 & 1 & 6 & 2 & 2 & 3 & 2 & 2 & 2 & 4 & 6 & 2 & 5 & 4 & 7 & Male   & NA & Middle Eastern                                          & NA & Energy Resources Engineering            & Roble      & 6 & 2 & 3\\\\\n",
       "\t384 & 3643 & 100 &  277 & True & 2019-09-09 15:43:21 & Yes & 4 & 5 & 4 & 6 & 4 & 5 & 6 & 6 & 6 & 5 & 5 & 5 & 6 & 5 & 5 & 5 & 5 & 5 & 5 & 5 & 3 & 3 & 5 & 4 & 4 & 6 & 4 & 5 & 5 & 5 & 4 & 4 & 3 & 2 & 2 & 2 & 2 & 2 & 3 & 3 & 5 & 3 & 6 & 5 & Female & NA & East Asian                                              & NA & Undecided                               & Larkin     & 3 & 3 & 3\\\\\n",
       "\t385 & 3643 & 100 &  213 & True & 2019-09-09 15:56:59 & Yes & 5 & 5 & 5 & 6 & 5 & 5 & 6 & 6 & 6 & 5 & 5 & 5 & 5 & 5 & 5 & 5 & 5 & 4 & 5 & 5 & 3 & 3 & 5 & 3 & 4 & 5 & 4 & 5 & 5 & 5 & 4 & 4 & 3 & 2 & 2 & 2 & 2 & 2 & 3 & 3 & 5 & 3 & 6 & 5 & Female & NA & East Asian                                              & NA & Undecided                               & Larkin     & 3 & 4 & 3\\\\\n",
       "\t431 & 3970 & 100 &  293 & True & 2019-09-03 12:41:23 & Yes & 6 & 6 & 6 & 6 & 6 & 2 & 6 & 6 & 6 & 6 & 6 & 6 & 6 & 6 & 5 & 4 & 3 & 6 & 5 & 5 & 2 & 2 & 5 & 6 & 2 & 6 & 2 & 6 & 3 & 6 & 2 & 6 & 2 & 1 & 2 & 1 & 2 & 1 & 4 & 3 & 5 & 5 & 5 & 7 & Male   & NA & Hispanic or Latino/a                                    & NA & Computer Science/Biomedical Computation & Cedro      & 6 & 2 & 3\\\\\n",
       "\t432 & 3970 & 100 &  249 & True & 2019-09-09 07:24:14 & Yes & 6 & 6 & 6 & 6 & 6 & 2 & 6 & 7 & 6 & 6 & 6 & 7 & 6 & 5 & 6 & 4 & 3 & 6 & 5 & 6 & 2 & 2 & 6 & 6 & 3 & 7 & 2 & 6 & 2 & 6 & 2 & 6 & 3 & 2 & 2 & 1 & 2 & 1 & 4 & 3 & 5 & 5 & 6 & 7 & Male   & NA & White or Caucasian,Hispanic or Latino/a                 & NA & Computer Science/Biomedical Computation & Cedro      & 6 & 2 & 2\\\\\n",
       "\t639 & 5392 & 100 &  253 & True & 2019-09-09 17:17:07 & Yes & 5 & 6 & 4 & 4 & 7 & 4 & 4 & 7 & 3 & 5 & 5 & 6 & 6 & 6 & 7 & 6 & 2 & 6 & 7 & 7 & 2 & 3 & 5 & 6 & 2 & 7 & 1 & 7 & 2 & 6 & 3 & 6 & 2 & 1 & 1 & 1 & 2 & 1 & 2 & 2 & 2 & 6 & 7 & 7 & Female & NA & South Asian                                             & NA & undecided                               & Twain      & 4 & 2 & 3\\\\\n",
       "\t640 & 5392 & 100 & 2806 & True & 2019-09-15 18:59:58 & Yes & 5 & 6 & 5 & 6 & 6 & 2 & 6 & 7 & 4 & 6 & 6 & 7 & 5 & 7 & 7 & 4 & 3 & 4 & 6 & 4 & 2 & 2 & 6 & 6 & 2 & 6 & 2 & 6 & 4 & 6 & 3 & 4 & 2 & 2 & 1 & 1 & 2 & 1 & 2 & 2 & 2 & 5 & 7 & 7 & Female & NA & South Asian                                             & NA & Public policy, computer science         & Twain      & 6 & 4 & 2\\\\\n",
       "\t669 & 5558 & 100 &  170 & True & 2019-09-03 16:39:36 & Yes & 7 & 7 & 6 & 7 & 7 & 2 & 7 & 7 & 5 & 6 & 7 & 7 & 6 & 7 & 7 & 6 & 5 & 3 & 5 & 6 & 1 & 2 & 6 & 5 & 2 & 5 & 1 & 6 & 3 & 6 & 5 & 5 & 2 & 1 & 1 & 1 & 2 & 1 & 2 & 2 & 3 & 6 & 6 & 8 & Female & NA & East Asian                                              & NA & undecided                               & Cardenal   & 6 & 5 & 2\\\\\n",
       "\t670 & 5558 & 100 &  252 & True & 2019-09-09 19:29:25 & Yes & 7 & 6 & 6 & 7 & 7 & 6 & 7 & 6 & 6 & 6 & 7 & 7 & 7 & 6 & 6 & 6 & 5 & 3 & 5 & 6 & 3 & 3 & 5 & 5 & 3 & 3 & 3 & 5 & 3 & 6 & 5 & 5 & 5 & 2 & 2 & 2 & 2 & 1 & 2 & 2 & 2 & 5 & 6 & 8 & Female & NA & East Asian                                              & NA & Economics                               & Cardenal   & 2 & 5 & 3\\\\\n",
       "\t871 & 6867 & 100 &  319 & True & 2019-09-03 22:53:33 & Yes & 7 & 5 & 7 & 5 & 7 & 3 & 5 & 7 & 5 & 3 & 6 & 3 & 5 & 7 & 6 & 3 & 3 & 6 & 3 & 3 & 3 & 3 & 6 & 5 & 3 & 7 & 3 & 7 & 5 & 7 & 1 & 6 & 3 & 2 & 1 & 2 & 2 & 2 & 5 & 5 & 3 & 4 & 1 & 6 & Male   & NA & East Asian                                              & NA & Undecided                               & Cedro      & 5 & 2 & 2\\\\\n",
       "\t872 & 6867 & 100 &  188 & True & 2019-09-03 22:57:11 & Yes & 7 & 7 & 7 & 7 & 7 & 7 & 6 & 7 & 7 & 3 & 7 & 3 & 7 & 7 & 6 & 3 & 2 & 5 & 3 & 3 & 3 & 3 & 6 & 2 & 3 & 7 & 3 & 7 & 7 & 7 & 3 & 7 & 7 & 2 & 2 & 2 & 2 & 2 & 5 & 5 & 4 & 3 & 1 & 6 & Male   & NA & East Asian                                              & NA & Undecided                               & Cedro      & 1 & 3 & 2\\\\\n",
       "\t962 & 7387 & 100 &  387 & True & 2019-09-09 15:53:48 & Yes & 6 & 6 & 4 & 4 & 4 & 3 & 7 & 7 & 4 & 3 & 4 & 5 & 4 & 5 & 4 & 5 & 1 & 7 & 2 & 5 & 3 & 4 & 4 & 2 & 3 & 7 & 2 & 6 & 7 & 6 & 5 & 7 & 2 & 3 & 3 & 3 & 2 & 1 & 6 & 6 & 6 & 6 & 2 & 3 & Male   & NA & Black or African American                               & NA & Computer Science                        & Burbank    & 5 & 1 & 4\\\\\n",
       "\t963 & 7387 & 100 &  179 & True & 2019-09-12 23:56:40 & Yes & 6 & 6 & 5 & 6 & 4 & 6 & 5 & 6 & 5 & 4 & 4 & 4 & 5 & 6 & 4 & 5 & 2 & 6 & 3 & 5 & 4 & 2 & 6 & 2 & 2 & 6 & 2 & 6 & 6 & 6 & 4 & 6 & 2 & 3 & 2 & 3 & 2 & 1 & 6 & 6 & 6 & 6 & 2 & 3 & Male   & NA & Black or African American                               & NA & CS                                      & Burbank    & 2 & 2 & 2\\\\\n",
       "\t1013 & 7681 & 100 &  367 & True & 2019-09-14 23:59:43 & Yes & 6 & 7 & 6 & 6 & 6 & 4 & 4 & 5 & 4 & 6 & 6 & 5 & 6 & 5 & 6 & 6 & 3 & 4 & 5 & 5 & 2 & 3 & 7 & 6 & 4 & 7 & 4 & 6 & 5 & 5 & 3 & 7 & 1 & 2 & 2 & 1 & 2 & 2 & 5 & 5 & 7 & 1 & 1 & 8 & Male   & NA & Hispanic or Latino/a                                    & NA & Energy Resource Engineering             & Otero      & 4 & 4 & 1\\\\\n",
       "\t1014 & 7681 & 100 &  242 & True & 2019-09-15 23:36:21 & Yes & 7 & 6 & 7 & 7 & 6 & 1 & 4 & 4 & 4 & 5 & 5 & 4 & 6 & 3 & 6 & 5 & 3 & 4 & 2 & 5 & 3 & 3 & 5 & 5 & 5 & 6 & 3 & 6 & 3 & 5 & 2 & 6 & 1 & 2 & 2 & 1 & 2 & 2 & 6 & 6 & 6 & 2 & 1 & 8 & Male   & NA & White or Caucasian,Hispanic or Latino/a                 & NA & Energy Resources engineering            & Otero      & 7 & 4 & 3\\\\\n",
       "\\end{tabular}\n"
      ],
      "text/markdown": [
       "\n",
       "A data.frame: 20 × 59\n",
       "\n",
       "| <!--/--> | PID &lt;int&gt; | Progress &lt;int&gt; | Duration..in.seconds. &lt;int&gt; | Finished &lt;fct&gt; | RecordedDate &lt;fct&gt; | age18 &lt;fct&gt; | lifeSatisfaction_1 &lt;int&gt; | lifeSatisfaction_2 &lt;int&gt; | lifeSatisfaction_3 &lt;int&gt; | lifeSatisfaction_4 &lt;int&gt; | lifeSatisfaction_5 &lt;int&gt; | lifeSatisfaction_6 &lt;int&gt; | Empathy_1 &lt;int&gt; | Empathy_2 &lt;int&gt; | Empathy_3 &lt;int&gt; | Empathy_4 &lt;int&gt; | Empathy_5 &lt;int&gt; | Empathy_6 &lt;int&gt; | Empathy_7 &lt;int&gt; | Empathy_8 &lt;int&gt; | Sociality_1 &lt;int&gt; | Sociality_2 &lt;int&gt; | NeedToBelong_1 &lt;int&gt; | NeedToBelong_2 &lt;int&gt; | NeedToBelong_3 &lt;int&gt; | NeedToBelong_4 &lt;int&gt; | LayEmpathy_1 &lt;int&gt; | LayEmpathy_2 &lt;int&gt; | LayEmpathy_3 &lt;int&gt; | TIPI_1 &lt;int&gt; | TIPI_2 &lt;int&gt; | TIPI_3 &lt;int&gt; | TIPI_4 &lt;int&gt; | TIPI_5 &lt;int&gt; | TIPI_6 &lt;int&gt; | TIPI_7 &lt;int&gt; | TIPI_8 &lt;int&gt; | TIPI_9 &lt;int&gt; | TIPI_10 &lt;int&gt; | loneliness_1 &lt;int&gt; | loneliness_2 &lt;int&gt; | loneliness_3 &lt;int&gt; | Stress_1 &lt;int&gt; | Stress_2 &lt;int&gt; | poliIdeology_1 &lt;int&gt; | poliIdeology_2 &lt;int&gt; | poliIdeology_3 &lt;int&gt; | politicalIssues_1 &lt;int&gt; | politicalIssues_2 &lt;int&gt; | ladderUS &lt;int&gt; | gender &lt;fct&gt; | gender_3_TEXT &lt;fct&gt; | race &lt;fct&gt; | race_9_TEXT &lt;fct&gt; | major &lt;fct&gt; | dorm &lt;fct&gt; | lifeSatisfaction_6R &lt;int&gt; | NeedToBelong_2R &lt;int&gt; | LayEmpathy_3R &lt;int&gt; |\n",
       "|---|---|---|---|---|---|---|---|---|---|---|---|---|---|---|---|---|---|---|---|---|---|---|---|---|---|---|---|---|---|---|---|---|---|---|---|---|---|---|---|---|---|---|---|---|---|---|---|---|---|---|---|---|---|---|---|---|---|---|---|\n",
       "| 43 | 1352 | 100 |  257 | True | 2019-09-04 00:55:03 | Yes | 5 | 5 | 4 | 4 | 5 | 5 | 6 | 6 | 6 | 6 | 6 | 7 | 7 | 6 | 7 | 6 | 6 | 3 | 7 | 7 | 3 | 4 | 6 | 7 | 6 | 7 | 4 | 6 | 2 | 5 | 2 | 4 | 2 | 2 | 3 | 2 | 2 | 1 | 2 | 1 | 3 | 6 | 5 | 6 | Male   | NA | Native American,White or Caucasian,Hispanic or Latino/a | NA | Public Policy                           | Sally Ride | 3 | 5 | 2 |\n",
       "| 44 | 1352 | 100 |  197 | True | 2019-09-10 10:35:38 | Yes | 6 | 6 | 6 | 5 | 6 | 5 | 6 | 7 | 5 | 5 | 6 | 6 | 6 | 6 | 7 | 6 | 7 | 3 | 7 | 7 | 3 | 2 | 6 | 7 | 5 | 6 | 3 | 6 | 2 | 5 | 2 | 3 | 2 | 2 | 2 | 2 | 2 | 1 | 3 | 2 | 3 | 7 | 3 | 6 | Male   | NA | Native American,White or Caucasian,Hispanic or Latino/a | NA | Public Policy                           | Sally Ride | 3 | 5 | 2 |\n",
       "| 153 | 2078 | 100 |  243 | True | 2019-09-09 17:31:42 | Yes | 6 | 6 | 5 | 6 | 6 | 5 | 6 | 6 | 5 | 6 | 5 | 6 | 6 | 5 | 5 | 4 | 5 | 3 | 6 | 6 | 3 | 2 | 5 | 5 | 4 | 5 | 4 | 5 | 4 | 5 | 3 | 5 | 4 | 2 | 2 | 2 | 2 | 1 | 4 | 3 | 4 | 6 | 6 | 6 | Male   | NA | East Asian                                              | NA | undecided                               | Granada    | 3 | 5 | 3 |\n",
       "| 154 | 2078 | 100 |  147 | True | 2019-09-09 17:34:53 | Yes | 6 | 6 | 5 | 6 | 6 | 5 | 6 | 6 | 6 | 5 | 6 | 6 | 6 | 5 | 5 | 4 | 5 | 3 | 5 | 5 | 2 | 2 | 5 | 5 | 4 | 5 | 4 | 5 | 4 | 5 | 3 | 5 | 3 | 2 | 2 | 2 | 2 | 1 | 4 | 3 | 4 | 6 | 6 | 7 | Male   | NA | East Asian                                              | NA | undecided                               | Granada    | 3 | 5 | 3 |\n",
       "| 161 | 2125 | 100 |  581 | True | 2019-09-09 18:49:14 | Yes | 7 | 7 | 7 | 7 | 6 | 3 | 7 | 7 | 5 | 5 | 7 | 6 | 6 | 7 | 5 | 1 | 4 | 6 | 6 | 6 | 4 | 3 | 5 | 7 | 5 | 7 | 3 | 5 | 6 | 5 | 1 | 5 | 2 | 2 | 3 | 2 | 2 | 2 | 4 | 6 | 3 | 5 | 4 | 7 | Male   | NA | Middle Eastern                                          | NA | Energy Recourses Engineering            | Roble      | 5 | 2 | 3 |\n",
       "| 162 | 2125 | 100 |  294 | True | 2019-09-09 19:23:05 | Yes | 7 | 6 | 7 | 7 | 6 | 2 | 6 | 7 | 5 | 3 | 7 | 7 | 5 | 6 | 6 | 2 | 5 | 6 | 5 | 4 | 4 | 4 | 5 | 6 | 5 | 7 | 2 | 6 | 5 | 7 | 1 | 6 | 2 | 2 | 3 | 2 | 2 | 2 | 4 | 6 | 2 | 5 | 4 | 7 | Male   | NA | Middle Eastern                                          | NA | Energy Resources Engineering            | Roble      | 6 | 2 | 3 |\n",
       "| 384 | 3643 | 100 |  277 | True | 2019-09-09 15:43:21 | Yes | 4 | 5 | 4 | 6 | 4 | 5 | 6 | 6 | 6 | 5 | 5 | 5 | 6 | 5 | 5 | 5 | 5 | 5 | 5 | 5 | 3 | 3 | 5 | 4 | 4 | 6 | 4 | 5 | 5 | 5 | 4 | 4 | 3 | 2 | 2 | 2 | 2 | 2 | 3 | 3 | 5 | 3 | 6 | 5 | Female | NA | East Asian                                              | NA | Undecided                               | Larkin     | 3 | 3 | 3 |\n",
       "| 385 | 3643 | 100 |  213 | True | 2019-09-09 15:56:59 | Yes | 5 | 5 | 5 | 6 | 5 | 5 | 6 | 6 | 6 | 5 | 5 | 5 | 5 | 5 | 5 | 5 | 5 | 4 | 5 | 5 | 3 | 3 | 5 | 3 | 4 | 5 | 4 | 5 | 5 | 5 | 4 | 4 | 3 | 2 | 2 | 2 | 2 | 2 | 3 | 3 | 5 | 3 | 6 | 5 | Female | NA | East Asian                                              | NA | Undecided                               | Larkin     | 3 | 4 | 3 |\n",
       "| 431 | 3970 | 100 |  293 | True | 2019-09-03 12:41:23 | Yes | 6 | 6 | 6 | 6 | 6 | 2 | 6 | 6 | 6 | 6 | 6 | 6 | 6 | 6 | 5 | 4 | 3 | 6 | 5 | 5 | 2 | 2 | 5 | 6 | 2 | 6 | 2 | 6 | 3 | 6 | 2 | 6 | 2 | 1 | 2 | 1 | 2 | 1 | 4 | 3 | 5 | 5 | 5 | 7 | Male   | NA | Hispanic or Latino/a                                    | NA | Computer Science/Biomedical Computation | Cedro      | 6 | 2 | 3 |\n",
       "| 432 | 3970 | 100 |  249 | True | 2019-09-09 07:24:14 | Yes | 6 | 6 | 6 | 6 | 6 | 2 | 6 | 7 | 6 | 6 | 6 | 7 | 6 | 5 | 6 | 4 | 3 | 6 | 5 | 6 | 2 | 2 | 6 | 6 | 3 | 7 | 2 | 6 | 2 | 6 | 2 | 6 | 3 | 2 | 2 | 1 | 2 | 1 | 4 | 3 | 5 | 5 | 6 | 7 | Male   | NA | White or Caucasian,Hispanic or Latino/a                 | NA | Computer Science/Biomedical Computation | Cedro      | 6 | 2 | 2 |\n",
       "| 639 | 5392 | 100 |  253 | True | 2019-09-09 17:17:07 | Yes | 5 | 6 | 4 | 4 | 7 | 4 | 4 | 7 | 3 | 5 | 5 | 6 | 6 | 6 | 7 | 6 | 2 | 6 | 7 | 7 | 2 | 3 | 5 | 6 | 2 | 7 | 1 | 7 | 2 | 6 | 3 | 6 | 2 | 1 | 1 | 1 | 2 | 1 | 2 | 2 | 2 | 6 | 7 | 7 | Female | NA | South Asian                                             | NA | undecided                               | Twain      | 4 | 2 | 3 |\n",
       "| 640 | 5392 | 100 | 2806 | True | 2019-09-15 18:59:58 | Yes | 5 | 6 | 5 | 6 | 6 | 2 | 6 | 7 | 4 | 6 | 6 | 7 | 5 | 7 | 7 | 4 | 3 | 4 | 6 | 4 | 2 | 2 | 6 | 6 | 2 | 6 | 2 | 6 | 4 | 6 | 3 | 4 | 2 | 2 | 1 | 1 | 2 | 1 | 2 | 2 | 2 | 5 | 7 | 7 | Female | NA | South Asian                                             | NA | Public policy, computer science         | Twain      | 6 | 4 | 2 |\n",
       "| 669 | 5558 | 100 |  170 | True | 2019-09-03 16:39:36 | Yes | 7 | 7 | 6 | 7 | 7 | 2 | 7 | 7 | 5 | 6 | 7 | 7 | 6 | 7 | 7 | 6 | 5 | 3 | 5 | 6 | 1 | 2 | 6 | 5 | 2 | 5 | 1 | 6 | 3 | 6 | 5 | 5 | 2 | 1 | 1 | 1 | 2 | 1 | 2 | 2 | 3 | 6 | 6 | 8 | Female | NA | East Asian                                              | NA | undecided                               | Cardenal   | 6 | 5 | 2 |\n",
       "| 670 | 5558 | 100 |  252 | True | 2019-09-09 19:29:25 | Yes | 7 | 6 | 6 | 7 | 7 | 6 | 7 | 6 | 6 | 6 | 7 | 7 | 7 | 6 | 6 | 6 | 5 | 3 | 5 | 6 | 3 | 3 | 5 | 5 | 3 | 3 | 3 | 5 | 3 | 6 | 5 | 5 | 5 | 2 | 2 | 2 | 2 | 1 | 2 | 2 | 2 | 5 | 6 | 8 | Female | NA | East Asian                                              | NA | Economics                               | Cardenal   | 2 | 5 | 3 |\n",
       "| 871 | 6867 | 100 |  319 | True | 2019-09-03 22:53:33 | Yes | 7 | 5 | 7 | 5 | 7 | 3 | 5 | 7 | 5 | 3 | 6 | 3 | 5 | 7 | 6 | 3 | 3 | 6 | 3 | 3 | 3 | 3 | 6 | 5 | 3 | 7 | 3 | 7 | 5 | 7 | 1 | 6 | 3 | 2 | 1 | 2 | 2 | 2 | 5 | 5 | 3 | 4 | 1 | 6 | Male   | NA | East Asian                                              | NA | Undecided                               | Cedro      | 5 | 2 | 2 |\n",
       "| 872 | 6867 | 100 |  188 | True | 2019-09-03 22:57:11 | Yes | 7 | 7 | 7 | 7 | 7 | 7 | 6 | 7 | 7 | 3 | 7 | 3 | 7 | 7 | 6 | 3 | 2 | 5 | 3 | 3 | 3 | 3 | 6 | 2 | 3 | 7 | 3 | 7 | 7 | 7 | 3 | 7 | 7 | 2 | 2 | 2 | 2 | 2 | 5 | 5 | 4 | 3 | 1 | 6 | Male   | NA | East Asian                                              | NA | Undecided                               | Cedro      | 1 | 3 | 2 |\n",
       "| 962 | 7387 | 100 |  387 | True | 2019-09-09 15:53:48 | Yes | 6 | 6 | 4 | 4 | 4 | 3 | 7 | 7 | 4 | 3 | 4 | 5 | 4 | 5 | 4 | 5 | 1 | 7 | 2 | 5 | 3 | 4 | 4 | 2 | 3 | 7 | 2 | 6 | 7 | 6 | 5 | 7 | 2 | 3 | 3 | 3 | 2 | 1 | 6 | 6 | 6 | 6 | 2 | 3 | Male   | NA | Black or African American                               | NA | Computer Science                        | Burbank    | 5 | 1 | 4 |\n",
       "| 963 | 7387 | 100 |  179 | True | 2019-09-12 23:56:40 | Yes | 6 | 6 | 5 | 6 | 4 | 6 | 5 | 6 | 5 | 4 | 4 | 4 | 5 | 6 | 4 | 5 | 2 | 6 | 3 | 5 | 4 | 2 | 6 | 2 | 2 | 6 | 2 | 6 | 6 | 6 | 4 | 6 | 2 | 3 | 2 | 3 | 2 | 1 | 6 | 6 | 6 | 6 | 2 | 3 | Male   | NA | Black or African American                               | NA | CS                                      | Burbank    | 2 | 2 | 2 |\n",
       "| 1013 | 7681 | 100 |  367 | True | 2019-09-14 23:59:43 | Yes | 6 | 7 | 6 | 6 | 6 | 4 | 4 | 5 | 4 | 6 | 6 | 5 | 6 | 5 | 6 | 6 | 3 | 4 | 5 | 5 | 2 | 3 | 7 | 6 | 4 | 7 | 4 | 6 | 5 | 5 | 3 | 7 | 1 | 2 | 2 | 1 | 2 | 2 | 5 | 5 | 7 | 1 | 1 | 8 | Male   | NA | Hispanic or Latino/a                                    | NA | Energy Resource Engineering             | Otero      | 4 | 4 | 1 |\n",
       "| 1014 | 7681 | 100 |  242 | True | 2019-09-15 23:36:21 | Yes | 7 | 6 | 7 | 7 | 6 | 1 | 4 | 4 | 4 | 5 | 5 | 4 | 6 | 3 | 6 | 5 | 3 | 4 | 2 | 5 | 3 | 3 | 5 | 5 | 5 | 6 | 3 | 6 | 3 | 5 | 2 | 6 | 1 | 2 | 2 | 1 | 2 | 2 | 6 | 6 | 6 | 2 | 1 | 8 | Male   | NA | White or Caucasian,Hispanic or Latino/a                 | NA | Energy Resources engineering            | Otero      | 7 | 4 | 3 |\n",
       "\n"
      ],
      "text/plain": [
       "     PID  Progress Duration..in.seconds. Finished RecordedDate        age18\n",
       "43   1352 100       257                  True     2019-09-04 00:55:03 Yes  \n",
       "44   1352 100       197                  True     2019-09-10 10:35:38 Yes  \n",
       "153  2078 100       243                  True     2019-09-09 17:31:42 Yes  \n",
       "154  2078 100       147                  True     2019-09-09 17:34:53 Yes  \n",
       "161  2125 100       581                  True     2019-09-09 18:49:14 Yes  \n",
       "162  2125 100       294                  True     2019-09-09 19:23:05 Yes  \n",
       "384  3643 100       277                  True     2019-09-09 15:43:21 Yes  \n",
       "385  3643 100       213                  True     2019-09-09 15:56:59 Yes  \n",
       "431  3970 100       293                  True     2019-09-03 12:41:23 Yes  \n",
       "432  3970 100       249                  True     2019-09-09 07:24:14 Yes  \n",
       "639  5392 100       253                  True     2019-09-09 17:17:07 Yes  \n",
       "640  5392 100      2806                  True     2019-09-15 18:59:58 Yes  \n",
       "669  5558 100       170                  True     2019-09-03 16:39:36 Yes  \n",
       "670  5558 100       252                  True     2019-09-09 19:29:25 Yes  \n",
       "871  6867 100       319                  True     2019-09-03 22:53:33 Yes  \n",
       "872  6867 100       188                  True     2019-09-03 22:57:11 Yes  \n",
       "962  7387 100       387                  True     2019-09-09 15:53:48 Yes  \n",
       "963  7387 100       179                  True     2019-09-12 23:56:40 Yes  \n",
       "1013 7681 100       367                  True     2019-09-14 23:59:43 Yes  \n",
       "1014 7681 100       242                  True     2019-09-15 23:36:21 Yes  \n",
       "     lifeSatisfaction_1 lifeSatisfaction_2 lifeSatisfaction_3\n",
       "43   5                  5                  4                 \n",
       "44   6                  6                  6                 \n",
       "153  6                  6                  5                 \n",
       "154  6                  6                  5                 \n",
       "161  7                  7                  7                 \n",
       "162  7                  6                  7                 \n",
       "384  4                  5                  4                 \n",
       "385  5                  5                  5                 \n",
       "431  6                  6                  6                 \n",
       "432  6                  6                  6                 \n",
       "639  5                  6                  4                 \n",
       "640  5                  6                  5                 \n",
       "669  7                  7                  6                 \n",
       "670  7                  6                  6                 \n",
       "871  7                  5                  7                 \n",
       "872  7                  7                  7                 \n",
       "962  6                  6                  4                 \n",
       "963  6                  6                  5                 \n",
       "1013 6                  7                  6                 \n",
       "1014 7                  6                  7                 \n",
       "     lifeSatisfaction_4 lifeSatisfaction_5 lifeSatisfaction_6 Empathy_1\n",
       "43   4                  5                  5                  6        \n",
       "44   5                  6                  5                  6        \n",
       "153  6                  6                  5                  6        \n",
       "154  6                  6                  5                  6        \n",
       "161  7                  6                  3                  7        \n",
       "162  7                  6                  2                  6        \n",
       "384  6                  4                  5                  6        \n",
       "385  6                  5                  5                  6        \n",
       "431  6                  6                  2                  6        \n",
       "432  6                  6                  2                  6        \n",
       "639  4                  7                  4                  4        \n",
       "640  6                  6                  2                  6        \n",
       "669  7                  7                  2                  7        \n",
       "670  7                  7                  6                  7        \n",
       "871  5                  7                  3                  5        \n",
       "872  7                  7                  7                  6        \n",
       "962  4                  4                  3                  7        \n",
       "963  6                  4                  6                  5        \n",
       "1013 6                  6                  4                  4        \n",
       "1014 7                  6                  1                  4        \n",
       "     Empathy_2 Empathy_3 Empathy_4 Empathy_5 Empathy_6 Empathy_7 Empathy_8\n",
       "43   6         6         6         6         7         7         6        \n",
       "44   7         5         5         6         6         6         6        \n",
       "153  6         5         6         5         6         6         5        \n",
       "154  6         6         5         6         6         6         5        \n",
       "161  7         5         5         7         6         6         7        \n",
       "162  7         5         3         7         7         5         6        \n",
       "384  6         6         5         5         5         6         5        \n",
       "385  6         6         5         5         5         5         5        \n",
       "431  6         6         6         6         6         6         6        \n",
       "432  7         6         6         6         7         6         5        \n",
       "639  7         3         5         5         6         6         6        \n",
       "640  7         4         6         6         7         5         7        \n",
       "669  7         5         6         7         7         6         7        \n",
       "670  6         6         6         7         7         7         6        \n",
       "871  7         5         3         6         3         5         7        \n",
       "872  7         7         3         7         3         7         7        \n",
       "962  7         4         3         4         5         4         5        \n",
       "963  6         5         4         4         4         5         6        \n",
       "1013 5         4         6         6         5         6         5        \n",
       "1014 4         4         5         5         4         6         3        \n",
       "     Sociality_1 Sociality_2 NeedToBelong_1 NeedToBelong_2 NeedToBelong_3\n",
       "43   7           6           6              3              7             \n",
       "44   7           6           7              3              7             \n",
       "153  5           4           5              3              6             \n",
       "154  5           4           5              3              5             \n",
       "161  5           1           4              6              6             \n",
       "162  6           2           5              6              5             \n",
       "384  5           5           5              5              5             \n",
       "385  5           5           5              4              5             \n",
       "431  5           4           3              6              5             \n",
       "432  6           4           3              6              5             \n",
       "639  7           6           2              6              7             \n",
       "640  7           4           3              4              6             \n",
       "669  7           6           5              3              5             \n",
       "670  6           6           5              3              5             \n",
       "871  6           3           3              6              3             \n",
       "872  6           3           2              5              3             \n",
       "962  4           5           1              7              2             \n",
       "963  4           5           2              6              3             \n",
       "1013 6           6           3              4              5             \n",
       "1014 6           5           3              4              2             \n",
       "     NeedToBelong_4 LayEmpathy_1 LayEmpathy_2 LayEmpathy_3 TIPI_1 TIPI_2 TIPI_3\n",
       "43   7              3            4            6            7      6      7     \n",
       "44   7              3            2            6            7      5      6     \n",
       "153  6              3            2            5            5      4      5     \n",
       "154  5              2            2            5            5      4      5     \n",
       "161  6              4            3            5            7      5      7     \n",
       "162  4              4            4            5            6      5      7     \n",
       "384  5              3            3            5            4      4      6     \n",
       "385  5              3            3            5            3      4      5     \n",
       "431  5              2            2            5            6      2      6     \n",
       "432  6              2            2            6            6      3      7     \n",
       "639  7              2            3            5            6      2      7     \n",
       "640  4              2            2            6            6      2      6     \n",
       "669  6              1            2            6            5      2      5     \n",
       "670  6              3            3            5            5      3      3     \n",
       "871  3              3            3            6            5      3      7     \n",
       "872  3              3            3            6            2      3      7     \n",
       "962  5              3            4            4            2      3      7     \n",
       "963  5              4            2            6            2      2      6     \n",
       "1013 5              2            3            7            6      4      7     \n",
       "1014 5              3            3            5            5      5      6     \n",
       "     TIPI_4 TIPI_5 TIPI_6 TIPI_7 TIPI_8 TIPI_9 TIPI_10 loneliness_1\n",
       "43   4      6      2      5      2      4      2       2           \n",
       "44   3      6      2      5      2      3      2       2           \n",
       "153  4      5      4      5      3      5      4       2           \n",
       "154  4      5      4      5      3      5      3       2           \n",
       "161  3      5      6      5      1      5      2       2           \n",
       "162  2      6      5      7      1      6      2       2           \n",
       "384  4      5      5      5      4      4      3       2           \n",
       "385  4      5      5      5      4      4      3       2           \n",
       "431  2      6      3      6      2      6      2       1           \n",
       "432  2      6      2      6      2      6      3       2           \n",
       "639  1      7      2      6      3      6      2       1           \n",
       "640  2      6      4      6      3      4      2       2           \n",
       "669  1      6      3      6      5      5      2       1           \n",
       "670  3      5      3      6      5      5      5       2           \n",
       "871  3      7      5      7      1      6      3       2           \n",
       "872  3      7      7      7      3      7      7       2           \n",
       "962  2      6      7      6      5      7      2       3           \n",
       "963  2      6      6      6      4      6      2       3           \n",
       "1013 4      6      5      5      3      7      1       2           \n",
       "1014 3      6      3      5      2      6      1       2           \n",
       "     loneliness_2 loneliness_3 Stress_1 Stress_2 poliIdeology_1 poliIdeology_2\n",
       "43   3            2            2        1        2              1             \n",
       "44   2            2            2        1        3              2             \n",
       "153  2            2            2        1        4              3             \n",
       "154  2            2            2        1        4              3             \n",
       "161  3            2            2        2        4              6             \n",
       "162  3            2            2        2        4              6             \n",
       "384  2            2            2        2        3              3             \n",
       "385  2            2            2        2        3              3             \n",
       "431  2            1            2        1        4              3             \n",
       "432  2            1            2        1        4              3             \n",
       "639  1            1            2        1        2              2             \n",
       "640  1            1            2        1        2              2             \n",
       "669  1            1            2        1        2              2             \n",
       "670  2            2            2        1        2              2             \n",
       "871  1            2            2        2        5              5             \n",
       "872  2            2            2        2        5              5             \n",
       "962  3            3            2        1        6              6             \n",
       "963  2            3            2        1        6              6             \n",
       "1013 2            1            2        2        5              5             \n",
       "1014 2            1            2        2        6              6             \n",
       "     poliIdeology_3 politicalIssues_1 politicalIssues_2 ladderUS gender\n",
       "43   3              6                 5                 6        Male  \n",
       "44   3              7                 3                 6        Male  \n",
       "153  4              6                 6                 6        Male  \n",
       "154  4              6                 6                 7        Male  \n",
       "161  3              5                 4                 7        Male  \n",
       "162  2              5                 4                 7        Male  \n",
       "384  5              3                 6                 5        Female\n",
       "385  5              3                 6                 5        Female\n",
       "431  5              5                 5                 7        Male  \n",
       "432  5              5                 6                 7        Male  \n",
       "639  2              6                 7                 7        Female\n",
       "640  2              5                 7                 7        Female\n",
       "669  3              6                 6                 8        Female\n",
       "670  2              5                 6                 8        Female\n",
       "871  3              4                 1                 6        Male  \n",
       "872  4              3                 1                 6        Male  \n",
       "962  6              6                 2                 3        Male  \n",
       "963  6              6                 2                 3        Male  \n",
       "1013 7              1                 1                 8        Male  \n",
       "1014 6              2                 1                 8        Male  \n",
       "     gender_3_TEXT race                                                   \n",
       "43   NA            Native American,White or Caucasian,Hispanic or Latino/a\n",
       "44   NA            Native American,White or Caucasian,Hispanic or Latino/a\n",
       "153  NA            East Asian                                             \n",
       "154  NA            East Asian                                             \n",
       "161  NA            Middle Eastern                                         \n",
       "162  NA            Middle Eastern                                         \n",
       "384  NA            East Asian                                             \n",
       "385  NA            East Asian                                             \n",
       "431  NA            Hispanic or Latino/a                                   \n",
       "432  NA            White or Caucasian,Hispanic or Latino/a                \n",
       "639  NA            South Asian                                            \n",
       "640  NA            South Asian                                            \n",
       "669  NA            East Asian                                             \n",
       "670  NA            East Asian                                             \n",
       "871  NA            East Asian                                             \n",
       "872  NA            East Asian                                             \n",
       "962  NA            Black or African American                              \n",
       "963  NA            Black or African American                              \n",
       "1013 NA            Hispanic or Latino/a                                   \n",
       "1014 NA            White or Caucasian,Hispanic or Latino/a                \n",
       "     race_9_TEXT major                                   dorm      \n",
       "43   NA          Public Policy                           Sally Ride\n",
       "44   NA          Public Policy                           Sally Ride\n",
       "153  NA          undecided                               Granada   \n",
       "154  NA          undecided                               Granada   \n",
       "161  NA          Energy Recourses Engineering            Roble     \n",
       "162  NA          Energy Resources Engineering            Roble     \n",
       "384  NA          Undecided                               Larkin    \n",
       "385  NA          Undecided                               Larkin    \n",
       "431  NA          Computer Science/Biomedical Computation Cedro     \n",
       "432  NA          Computer Science/Biomedical Computation Cedro     \n",
       "639  NA          undecided                               Twain     \n",
       "640  NA          Public policy, computer science         Twain     \n",
       "669  NA          undecided                               Cardenal  \n",
       "670  NA          Economics                               Cardenal  \n",
       "871  NA          Undecided                               Cedro     \n",
       "872  NA          Undecided                               Cedro     \n",
       "962  NA          Computer Science                        Burbank   \n",
       "963  NA          CS                                      Burbank   \n",
       "1013 NA          Energy Resource Engineering             Otero     \n",
       "1014 NA          Energy Resources engineering            Otero     \n",
       "     lifeSatisfaction_6R NeedToBelong_2R LayEmpathy_3R\n",
       "43   3                   5               2            \n",
       "44   3                   5               2            \n",
       "153  3                   5               3            \n",
       "154  3                   5               3            \n",
       "161  5                   2               3            \n",
       "162  6                   2               3            \n",
       "384  3                   3               3            \n",
       "385  3                   4               3            \n",
       "431  6                   2               3            \n",
       "432  6                   2               2            \n",
       "639  4                   2               3            \n",
       "640  6                   4               2            \n",
       "669  6                   5               2            \n",
       "670  2                   5               3            \n",
       "871  5                   2               2            \n",
       "872  1                   3               2            \n",
       "962  5                   1               4            \n",
       "963  2                   2               2            \n",
       "1013 4                   4               1            \n",
       "1014 7                   4               3            "
      ]
     },
     "metadata": {},
     "output_type": "display_data"
    }
   ],
   "source": [
    "prefrosh[duplicated(prefrosh$PID) | duplicated(prefrosh$PID, fromLast=TRUE),]"
   ]
  },
  {
   "cell_type": "code",
   "execution_count": 11,
   "metadata": {},
   "outputs": [
    {
     "name": "stdout",
     "output_type": "stream",
     "text": [
      "[1] \"Removing  10  (of  1101 ) surveys from people who had already completed the survey once\"\n",
      "[1] \"1091 remain\"\n"
     ]
    }
   ],
   "source": [
    "n = nrow(prefrosh)\n",
    "ndup = n - length(unique(prefrosh$PID))\n",
    "print(paste(\"Removing \", ndup, \" (of \", n, \") surveys from people who had already completed the survey once\"), sep=\" \")\n",
    "prefrosh = prefrosh[!duplicated(prefrosh$PID),]\n",
    "print(paste(nrow(prefrosh), \"remain\"))"
   ]
  },
  {
   "cell_type": "markdown",
   "metadata": {},
   "source": [
    "### Slim down our dataframe by removing columns we don't need"
   ]
  },
  {
   "cell_type": "code",
   "execution_count": 12,
   "metadata": {},
   "outputs": [
    {
     "name": "stdout",
     "output_type": "stream",
     "text": [
      "[1] \"Dropping 26 columns we don't need\"\n"
     ]
    },
    {
     "data": {
      "text/html": [
       "<ol class=list-inline>\n",
       "\t<li>'age18'</li>\n",
       "\t<li>'Finished'</li>\n",
       "\t<li>'Progress'</li>\n",
       "\t<li>'Duration..in.seconds.'</li>\n",
       "\t<li>'RecordedDate'</li>\n",
       "\t<li>'ladderUS'</li>\n",
       "\t<li>'gender_3_TEXT'</li>\n",
       "\t<li>'race_9_TEXT'</li>\n",
       "\t<li>'major'</li>\n",
       "\t<li>'lifeSatisfaction_6'</li>\n",
       "\t<li>'LayEmpathy_1'</li>\n",
       "\t<li>'LayEmpathy_2'</li>\n",
       "\t<li>'LayEmpathy_3'</li>\n",
       "\t<li>'LayEmpathy_3R'</li>\n",
       "\t<li>'Sociality_1'</li>\n",
       "\t<li>'Sociality_2'</li>\n",
       "\t<li>'NeedToBelong_1'</li>\n",
       "\t<li>'NeedToBelong_2'</li>\n",
       "\t<li>'NeedToBelong_3'</li>\n",
       "\t<li>'NeedToBelong_4'</li>\n",
       "\t<li>'NeedToBelong_2R'</li>\n",
       "\t<li>'poliIdeology_1'</li>\n",
       "\t<li>'poliIdeology_2'</li>\n",
       "\t<li>'poliIdeology_3'</li>\n",
       "\t<li>'politicalIssues_1'</li>\n",
       "\t<li>'politicalIssues_2'</li>\n",
       "</ol>\n"
      ],
      "text/latex": [
       "\\begin{enumerate*}\n",
       "\\item 'age18'\n",
       "\\item 'Finished'\n",
       "\\item 'Progress'\n",
       "\\item 'Duration..in.seconds.'\n",
       "\\item 'RecordedDate'\n",
       "\\item 'ladderUS'\n",
       "\\item 'gender\\_3\\_TEXT'\n",
       "\\item 'race\\_9\\_TEXT'\n",
       "\\item 'major'\n",
       "\\item 'lifeSatisfaction\\_6'\n",
       "\\item 'LayEmpathy\\_1'\n",
       "\\item 'LayEmpathy\\_2'\n",
       "\\item 'LayEmpathy\\_3'\n",
       "\\item 'LayEmpathy\\_3R'\n",
       "\\item 'Sociality\\_1'\n",
       "\\item 'Sociality\\_2'\n",
       "\\item 'NeedToBelong\\_1'\n",
       "\\item 'NeedToBelong\\_2'\n",
       "\\item 'NeedToBelong\\_3'\n",
       "\\item 'NeedToBelong\\_4'\n",
       "\\item 'NeedToBelong\\_2R'\n",
       "\\item 'poliIdeology\\_1'\n",
       "\\item 'poliIdeology\\_2'\n",
       "\\item 'poliIdeology\\_3'\n",
       "\\item 'politicalIssues\\_1'\n",
       "\\item 'politicalIssues\\_2'\n",
       "\\end{enumerate*}\n"
      ],
      "text/markdown": [
       "1. 'age18'\n",
       "2. 'Finished'\n",
       "3. 'Progress'\n",
       "4. 'Duration..in.seconds.'\n",
       "5. 'RecordedDate'\n",
       "6. 'ladderUS'\n",
       "7. 'gender_3_TEXT'\n",
       "8. 'race_9_TEXT'\n",
       "9. 'major'\n",
       "10. 'lifeSatisfaction_6'\n",
       "11. 'LayEmpathy_1'\n",
       "12. 'LayEmpathy_2'\n",
       "13. 'LayEmpathy_3'\n",
       "14. 'LayEmpathy_3R'\n",
       "15. 'Sociality_1'\n",
       "16. 'Sociality_2'\n",
       "17. 'NeedToBelong_1'\n",
       "18. 'NeedToBelong_2'\n",
       "19. 'NeedToBelong_3'\n",
       "20. 'NeedToBelong_4'\n",
       "21. 'NeedToBelong_2R'\n",
       "22. 'poliIdeology_1'\n",
       "23. 'poliIdeology_2'\n",
       "24. 'poliIdeology_3'\n",
       "25. 'politicalIssues_1'\n",
       "26. 'politicalIssues_2'\n",
       "\n",
       "\n"
      ],
      "text/plain": [
       " [1] \"age18\"                 \"Finished\"              \"Progress\"             \n",
       " [4] \"Duration..in.seconds.\" \"RecordedDate\"          \"ladderUS\"             \n",
       " [7] \"gender_3_TEXT\"         \"race_9_TEXT\"           \"major\"                \n",
       "[10] \"lifeSatisfaction_6\"    \"LayEmpathy_1\"          \"LayEmpathy_2\"         \n",
       "[13] \"LayEmpathy_3\"          \"LayEmpathy_3R\"         \"Sociality_1\"          \n",
       "[16] \"Sociality_2\"           \"NeedToBelong_1\"        \"NeedToBelong_2\"       \n",
       "[19] \"NeedToBelong_3\"        \"NeedToBelong_4\"        \"NeedToBelong_2R\"      \n",
       "[22] \"poliIdeology_1\"        \"poliIdeology_2\"        \"poliIdeology_3\"       \n",
       "[25] \"politicalIssues_1\"     \"politicalIssues_2\"    "
      ]
     },
     "metadata": {},
     "output_type": "display_data"
    },
    {
     "data": {
      "text/html": [
       "<table>\n",
       "<caption>A data.frame: 6 × 33</caption>\n",
       "<thead>\n",
       "\t<tr><th></th><th scope=col>PID</th><th scope=col>lifeSatisfaction_1</th><th scope=col>lifeSatisfaction_2</th><th scope=col>lifeSatisfaction_3</th><th scope=col>lifeSatisfaction_4</th><th scope=col>lifeSatisfaction_5</th><th scope=col>Empathy_1</th><th scope=col>Empathy_2</th><th scope=col>Empathy_3</th><th scope=col>Empathy_4</th><th scope=col>Empathy_5</th><th scope=col>Empathy_6</th><th scope=col>Empathy_7</th><th scope=col>Empathy_8</th><th scope=col>TIPI_1</th><th scope=col>TIPI_2</th><th scope=col>TIPI_3</th><th scope=col>TIPI_4</th><th scope=col>TIPI_5</th><th scope=col>TIPI_6</th><th scope=col>TIPI_7</th><th scope=col>TIPI_8</th><th scope=col>TIPI_9</th><th scope=col>TIPI_10</th><th scope=col>loneliness_1</th><th scope=col>loneliness_2</th><th scope=col>loneliness_3</th><th scope=col>Stress_1</th><th scope=col>Stress_2</th><th scope=col>gender</th><th scope=col>race</th><th scope=col>dorm</th><th scope=col>lifeSatisfaction_6R</th></tr>\n",
       "\t<tr><th></th><th scope=col>&lt;int&gt;</th><th scope=col>&lt;int&gt;</th><th scope=col>&lt;int&gt;</th><th scope=col>&lt;int&gt;</th><th scope=col>&lt;int&gt;</th><th scope=col>&lt;int&gt;</th><th scope=col>&lt;int&gt;</th><th scope=col>&lt;int&gt;</th><th scope=col>&lt;int&gt;</th><th scope=col>&lt;int&gt;</th><th scope=col>&lt;int&gt;</th><th scope=col>&lt;int&gt;</th><th scope=col>&lt;int&gt;</th><th scope=col>&lt;int&gt;</th><th scope=col>&lt;int&gt;</th><th scope=col>&lt;int&gt;</th><th scope=col>&lt;int&gt;</th><th scope=col>&lt;int&gt;</th><th scope=col>&lt;int&gt;</th><th scope=col>&lt;int&gt;</th><th scope=col>&lt;int&gt;</th><th scope=col>&lt;int&gt;</th><th scope=col>&lt;int&gt;</th><th scope=col>&lt;int&gt;</th><th scope=col>&lt;int&gt;</th><th scope=col>&lt;int&gt;</th><th scope=col>&lt;int&gt;</th><th scope=col>&lt;int&gt;</th><th scope=col>&lt;int&gt;</th><th scope=col>&lt;fct&gt;</th><th scope=col>&lt;fct&gt;</th><th scope=col>&lt;fct&gt;</th><th scope=col>&lt;int&gt;</th></tr>\n",
       "</thead>\n",
       "<tbody>\n",
       "\t<tr><th scope=row>1</th><td>1001</td><td>3</td><td>7</td><td>3</td><td>5</td><td>6</td><td>7</td><td>7</td><td>5</td><td>5</td><td>7</td><td>7</td><td>7</td><td>6</td><td>7</td><td>3</td><td>6</td><td>3</td><td>7</td><td>2</td><td>7</td><td>3</td><td>4</td><td>2</td><td>2</td><td>1</td><td>1</td><td>3</td><td>2</td><td>Male                  </td><td>South Asian           </td><td>Rinconada</td><td>5</td></tr>\n",
       "\t<tr><th scope=row>2</th><td>1004</td><td>2</td><td>4</td><td>2</td><td>2</td><td>4</td><td>5</td><td>6</td><td>6</td><td>6</td><td>7</td><td>6</td><td>6</td><td>6</td><td>4</td><td>2</td><td>5</td><td>4</td><td>5</td><td>4</td><td>5</td><td>4</td><td>6</td><td>2</td><td>2</td><td>2</td><td>2</td><td>2</td><td>2</td><td>Female                </td><td>South Asian           </td><td>Donner   </td><td>3</td></tr>\n",
       "\t<tr><th scope=row>3</th><td>1012</td><td>6</td><td>6</td><td>6</td><td>6</td><td>6</td><td>6</td><td>6</td><td>6</td><td>5</td><td>6</td><td>6</td><td>6</td><td>6</td><td>5</td><td>2</td><td>4</td><td>3</td><td>5</td><td>5</td><td>5</td><td>1</td><td>6</td><td>1</td><td>2</td><td>2</td><td>2</td><td>2</td><td>1</td><td>Male                  </td><td>South Asian           </td><td>Cedro    </td><td>6</td></tr>\n",
       "\t<tr><th scope=row>4</th><td>1027</td><td>7</td><td>7</td><td>7</td><td>7</td><td>7</td><td>7</td><td>7</td><td>6</td><td>7</td><td>7</td><td>7</td><td>7</td><td>7</td><td>7</td><td>2</td><td>7</td><td>3</td><td>7</td><td>1</td><td>7</td><td>6</td><td>6</td><td>1</td><td>1</td><td>1</td><td>1</td><td>2</td><td>2</td><td>Female                </td><td>White or Caucasian    </td><td>Junipero </td><td>6</td></tr>\n",
       "\t<tr><th scope=row>5</th><td>1036</td><td>5</td><td>1</td><td>1</td><td>7</td><td>1</td><td>5</td><td>7</td><td>3</td><td>6</td><td>3</td><td>5</td><td>6</td><td>7</td><td>1</td><td>3</td><td>1</td><td>7</td><td>2</td><td>7</td><td>1</td><td>7</td><td>1</td><td>5</td><td>2</td><td>3</td><td>3</td><td>3</td><td>3</td><td>Other. Please specify:</td><td>Other. Please specify:</td><td>FroSoCo  </td><td>1</td></tr>\n",
       "\t<tr><th scope=row>6</th><td>1038</td><td>4</td><td>6</td><td>6</td><td>6</td><td>5</td><td>6</td><td>7</td><td>6</td><td>5</td><td>7</td><td>7</td><td>7</td><td>7</td><td>6</td><td>5</td><td>6</td><td>2</td><td>6</td><td>5</td><td>7</td><td>3</td><td>5</td><td>1</td><td>1</td><td>1</td><td>1</td><td>2</td><td>1</td><td>Male                  </td><td>East Asian            </td><td>Faisan   </td><td>5</td></tr>\n",
       "</tbody>\n",
       "</table>\n"
      ],
      "text/latex": [
       "A data.frame: 6 × 33\n",
       "\\begin{tabular}{r|lllllllllllllllllllllllllllllllll}\n",
       "  & PID & lifeSatisfaction\\_1 & lifeSatisfaction\\_2 & lifeSatisfaction\\_3 & lifeSatisfaction\\_4 & lifeSatisfaction\\_5 & Empathy\\_1 & Empathy\\_2 & Empathy\\_3 & Empathy\\_4 & Empathy\\_5 & Empathy\\_6 & Empathy\\_7 & Empathy\\_8 & TIPI\\_1 & TIPI\\_2 & TIPI\\_3 & TIPI\\_4 & TIPI\\_5 & TIPI\\_6 & TIPI\\_7 & TIPI\\_8 & TIPI\\_9 & TIPI\\_10 & loneliness\\_1 & loneliness\\_2 & loneliness\\_3 & Stress\\_1 & Stress\\_2 & gender & race & dorm & lifeSatisfaction\\_6R\\\\\n",
       "  & <int> & <int> & <int> & <int> & <int> & <int> & <int> & <int> & <int> & <int> & <int> & <int> & <int> & <int> & <int> & <int> & <int> & <int> & <int> & <int> & <int> & <int> & <int> & <int> & <int> & <int> & <int> & <int> & <int> & <fct> & <fct> & <fct> & <int>\\\\\n",
       "\\hline\n",
       "\t1 & 1001 & 3 & 7 & 3 & 5 & 6 & 7 & 7 & 5 & 5 & 7 & 7 & 7 & 6 & 7 & 3 & 6 & 3 & 7 & 2 & 7 & 3 & 4 & 2 & 2 & 1 & 1 & 3 & 2 & Male                   & South Asian            & Rinconada & 5\\\\\n",
       "\t2 & 1004 & 2 & 4 & 2 & 2 & 4 & 5 & 6 & 6 & 6 & 7 & 6 & 6 & 6 & 4 & 2 & 5 & 4 & 5 & 4 & 5 & 4 & 6 & 2 & 2 & 2 & 2 & 2 & 2 & Female                 & South Asian            & Donner    & 3\\\\\n",
       "\t3 & 1012 & 6 & 6 & 6 & 6 & 6 & 6 & 6 & 6 & 5 & 6 & 6 & 6 & 6 & 5 & 2 & 4 & 3 & 5 & 5 & 5 & 1 & 6 & 1 & 2 & 2 & 2 & 2 & 1 & Male                   & South Asian            & Cedro     & 6\\\\\n",
       "\t4 & 1027 & 7 & 7 & 7 & 7 & 7 & 7 & 7 & 6 & 7 & 7 & 7 & 7 & 7 & 7 & 2 & 7 & 3 & 7 & 1 & 7 & 6 & 6 & 1 & 1 & 1 & 1 & 2 & 2 & Female                 & White or Caucasian     & Junipero  & 6\\\\\n",
       "\t5 & 1036 & 5 & 1 & 1 & 7 & 1 & 5 & 7 & 3 & 6 & 3 & 5 & 6 & 7 & 1 & 3 & 1 & 7 & 2 & 7 & 1 & 7 & 1 & 5 & 2 & 3 & 3 & 3 & 3 & Other. Please specify: & Other. Please specify: & FroSoCo   & 1\\\\\n",
       "\t6 & 1038 & 4 & 6 & 6 & 6 & 5 & 6 & 7 & 6 & 5 & 7 & 7 & 7 & 7 & 6 & 5 & 6 & 2 & 6 & 5 & 7 & 3 & 5 & 1 & 1 & 1 & 1 & 2 & 1 & Male                   & East Asian             & Faisan    & 5\\\\\n",
       "\\end{tabular}\n"
      ],
      "text/markdown": [
       "\n",
       "A data.frame: 6 × 33\n",
       "\n",
       "| <!--/--> | PID &lt;int&gt; | lifeSatisfaction_1 &lt;int&gt; | lifeSatisfaction_2 &lt;int&gt; | lifeSatisfaction_3 &lt;int&gt; | lifeSatisfaction_4 &lt;int&gt; | lifeSatisfaction_5 &lt;int&gt; | Empathy_1 &lt;int&gt; | Empathy_2 &lt;int&gt; | Empathy_3 &lt;int&gt; | Empathy_4 &lt;int&gt; | Empathy_5 &lt;int&gt; | Empathy_6 &lt;int&gt; | Empathy_7 &lt;int&gt; | Empathy_8 &lt;int&gt; | TIPI_1 &lt;int&gt; | TIPI_2 &lt;int&gt; | TIPI_3 &lt;int&gt; | TIPI_4 &lt;int&gt; | TIPI_5 &lt;int&gt; | TIPI_6 &lt;int&gt; | TIPI_7 &lt;int&gt; | TIPI_8 &lt;int&gt; | TIPI_9 &lt;int&gt; | TIPI_10 &lt;int&gt; | loneliness_1 &lt;int&gt; | loneliness_2 &lt;int&gt; | loneliness_3 &lt;int&gt; | Stress_1 &lt;int&gt; | Stress_2 &lt;int&gt; | gender &lt;fct&gt; | race &lt;fct&gt; | dorm &lt;fct&gt; | lifeSatisfaction_6R &lt;int&gt; |\n",
       "|---|---|---|---|---|---|---|---|---|---|---|---|---|---|---|---|---|---|---|---|---|---|---|---|---|---|---|---|---|---|---|---|---|---|\n",
       "| 1 | 1001 | 3 | 7 | 3 | 5 | 6 | 7 | 7 | 5 | 5 | 7 | 7 | 7 | 6 | 7 | 3 | 6 | 3 | 7 | 2 | 7 | 3 | 4 | 2 | 2 | 1 | 1 | 3 | 2 | Male                   | South Asian            | Rinconada | 5 |\n",
       "| 2 | 1004 | 2 | 4 | 2 | 2 | 4 | 5 | 6 | 6 | 6 | 7 | 6 | 6 | 6 | 4 | 2 | 5 | 4 | 5 | 4 | 5 | 4 | 6 | 2 | 2 | 2 | 2 | 2 | 2 | Female                 | South Asian            | Donner    | 3 |\n",
       "| 3 | 1012 | 6 | 6 | 6 | 6 | 6 | 6 | 6 | 6 | 5 | 6 | 6 | 6 | 6 | 5 | 2 | 4 | 3 | 5 | 5 | 5 | 1 | 6 | 1 | 2 | 2 | 2 | 2 | 1 | Male                   | South Asian            | Cedro     | 6 |\n",
       "| 4 | 1027 | 7 | 7 | 7 | 7 | 7 | 7 | 7 | 6 | 7 | 7 | 7 | 7 | 7 | 7 | 2 | 7 | 3 | 7 | 1 | 7 | 6 | 6 | 1 | 1 | 1 | 1 | 2 | 2 | Female                 | White or Caucasian     | Junipero  | 6 |\n",
       "| 5 | 1036 | 5 | 1 | 1 | 7 | 1 | 5 | 7 | 3 | 6 | 3 | 5 | 6 | 7 | 1 | 3 | 1 | 7 | 2 | 7 | 1 | 7 | 1 | 5 | 2 | 3 | 3 | 3 | 3 | Other. Please specify: | Other. Please specify: | FroSoCo   | 1 |\n",
       "| 6 | 1038 | 4 | 6 | 6 | 6 | 5 | 6 | 7 | 6 | 5 | 7 | 7 | 7 | 7 | 6 | 5 | 6 | 2 | 6 | 5 | 7 | 3 | 5 | 1 | 1 | 1 | 1 | 2 | 1 | Male                   | East Asian             | Faisan    | 5 |\n",
       "\n"
      ],
      "text/plain": [
       "  PID  lifeSatisfaction_1 lifeSatisfaction_2 lifeSatisfaction_3\n",
       "1 1001 3                  7                  3                 \n",
       "2 1004 2                  4                  2                 \n",
       "3 1012 6                  6                  6                 \n",
       "4 1027 7                  7                  7                 \n",
       "5 1036 5                  1                  1                 \n",
       "6 1038 4                  6                  6                 \n",
       "  lifeSatisfaction_4 lifeSatisfaction_5 Empathy_1 Empathy_2 Empathy_3 Empathy_4\n",
       "1 5                  6                  7         7         5         5        \n",
       "2 2                  4                  5         6         6         6        \n",
       "3 6                  6                  6         6         6         5        \n",
       "4 7                  7                  7         7         6         7        \n",
       "5 7                  1                  5         7         3         6        \n",
       "6 6                  5                  6         7         6         5        \n",
       "  Empathy_5 Empathy_6 Empathy_7 Empathy_8 TIPI_1 TIPI_2 TIPI_3 TIPI_4 TIPI_5\n",
       "1 7         7         7         6         7      3      6      3      7     \n",
       "2 7         6         6         6         4      2      5      4      5     \n",
       "3 6         6         6         6         5      2      4      3      5     \n",
       "4 7         7         7         7         7      2      7      3      7     \n",
       "5 3         5         6         7         1      3      1      7      2     \n",
       "6 7         7         7         7         6      5      6      2      6     \n",
       "  TIPI_6 TIPI_7 TIPI_8 TIPI_9 TIPI_10 loneliness_1 loneliness_2 loneliness_3\n",
       "1 2      7      3      4      2       2            1            1           \n",
       "2 4      5      4      6      2       2            2            2           \n",
       "3 5      5      1      6      1       2            2            2           \n",
       "4 1      7      6      6      1       1            1            1           \n",
       "5 7      1      7      1      5       2            3            3           \n",
       "6 5      7      3      5      1       1            1            1           \n",
       "  Stress_1 Stress_2 gender                 race                   dorm     \n",
       "1 3        2        Male                   South Asian            Rinconada\n",
       "2 2        2        Female                 South Asian            Donner   \n",
       "3 2        1        Male                   South Asian            Cedro    \n",
       "4 2        2        Female                 White or Caucasian     Junipero \n",
       "5 3        3        Other. Please specify: Other. Please specify: FroSoCo  \n",
       "6 2        1        Male                   East Asian             Faisan   \n",
       "  lifeSatisfaction_6R\n",
       "1 5                  \n",
       "2 3                  \n",
       "3 6                  \n",
       "4 6                  \n",
       "5 1                  \n",
       "6 5                  "
      ]
     },
     "metadata": {},
     "output_type": "display_data"
    }
   ],
   "source": [
    "cols_to_drop = c(\"age18\", \"Finished\", \"Progress\", \"Duration..in.seconds.\", \"RecordedDate\",\n",
    "                 'ladderUS', 'gender_3_TEXT', 'race_9_TEXT', 'major', 'lifeSatisfaction_6')\n",
    "\n",
    "for (prefix in c('LayEmpathy', 'Sociality', 'NeedToBelong', 'poliIdeology', 'politicalIssues')){\n",
    "    for (col in colnames(prefrosh)) {\n",
    "        if (startsWith(col, prefix)) {\n",
    "            cols_to_drop = c(cols_to_drop, col)\n",
    "        }\n",
    "    }\n",
    "}\n",
    "print(paste(\"Dropping\", length(cols_to_drop), \"columns we don't need\"))\n",
    "cols_to_drop\n",
    "prefrosh = prefrosh %>% select(-cols_to_drop)\n",
    "head(prefrosh)"
   ]
  },
  {
   "cell_type": "markdown",
   "metadata": {},
   "source": [
    "### Compute scale scores"
   ]
  },
  {
   "cell_type": "code",
   "execution_count": 13,
   "metadata": {},
   "outputs": [
    {
     "data": {
      "text/html": [
       "<dl>\n",
       "\t<dt>$life_satisfaction_t1</dt>\n",
       "\t\t<dd><ol class=list-inline>\n",
       "\t<li>'lifeSatisfaction_1'</li>\n",
       "\t<li>'lifeSatisfaction_2'</li>\n",
       "\t<li>'lifeSatisfaction_3'</li>\n",
       "\t<li>'lifeSatisfaction_4'</li>\n",
       "\t<li>'lifeSatisfaction_5'</li>\n",
       "\t<li>'lifeSatisfaction_6R'</li>\n",
       "</ol>\n",
       "</dd>\n",
       "\t<dt>$empathy</dt>\n",
       "\t\t<dd><ol class=list-inline>\n",
       "\t<li>'Empathy_1'</li>\n",
       "\t<li>'Empathy_2'</li>\n",
       "\t<li>'Empathy_3'</li>\n",
       "\t<li>'Empathy_4'</li>\n",
       "\t<li>'Empathy_5'</li>\n",
       "\t<li>'Empathy_6'</li>\n",
       "\t<li>'Empathy_7'</li>\n",
       "\t<li>'Empathy_8'</li>\n",
       "</ol>\n",
       "</dd>\n",
       "\t<dt>$loneliness_t1</dt>\n",
       "\t\t<dd><ol class=list-inline>\n",
       "\t<li>'loneliness_1'</li>\n",
       "\t<li>'loneliness_2'</li>\n",
       "\t<li>'loneliness_3'</li>\n",
       "</ol>\n",
       "</dd>\n",
       "\t<dt>$stress_t1</dt>\n",
       "\t\t<dd><ol class=list-inline>\n",
       "\t<li>'Stress_1'</li>\n",
       "\t<li>'Stress_2'</li>\n",
       "</ol>\n",
       "</dd>\n",
       "</dl>\n"
      ],
      "text/latex": [
       "\\begin{description}\n",
       "\\item[\\$life\\_satisfaction\\_t1] \\begin{enumerate*}\n",
       "\\item 'lifeSatisfaction\\_1'\n",
       "\\item 'lifeSatisfaction\\_2'\n",
       "\\item 'lifeSatisfaction\\_3'\n",
       "\\item 'lifeSatisfaction\\_4'\n",
       "\\item 'lifeSatisfaction\\_5'\n",
       "\\item 'lifeSatisfaction\\_6R'\n",
       "\\end{enumerate*}\n",
       "\n",
       "\\item[\\$empathy] \\begin{enumerate*}\n",
       "\\item 'Empathy\\_1'\n",
       "\\item 'Empathy\\_2'\n",
       "\\item 'Empathy\\_3'\n",
       "\\item 'Empathy\\_4'\n",
       "\\item 'Empathy\\_5'\n",
       "\\item 'Empathy\\_6'\n",
       "\\item 'Empathy\\_7'\n",
       "\\item 'Empathy\\_8'\n",
       "\\end{enumerate*}\n",
       "\n",
       "\\item[\\$loneliness\\_t1] \\begin{enumerate*}\n",
       "\\item 'loneliness\\_1'\n",
       "\\item 'loneliness\\_2'\n",
       "\\item 'loneliness\\_3'\n",
       "\\end{enumerate*}\n",
       "\n",
       "\\item[\\$stress\\_t1] \\begin{enumerate*}\n",
       "\\item 'Stress\\_1'\n",
       "\\item 'Stress\\_2'\n",
       "\\end{enumerate*}\n",
       "\n",
       "\\end{description}\n"
      ],
      "text/markdown": [
       "$life_satisfaction_t1\n",
       ":   1. 'lifeSatisfaction_1'\n",
       "2. 'lifeSatisfaction_2'\n",
       "3. 'lifeSatisfaction_3'\n",
       "4. 'lifeSatisfaction_4'\n",
       "5. 'lifeSatisfaction_5'\n",
       "6. 'lifeSatisfaction_6R'\n",
       "\n",
       "\n",
       "\n",
       "$empathy\n",
       ":   1. 'Empathy_1'\n",
       "2. 'Empathy_2'\n",
       "3. 'Empathy_3'\n",
       "4. 'Empathy_4'\n",
       "5. 'Empathy_5'\n",
       "6. 'Empathy_6'\n",
       "7. 'Empathy_7'\n",
       "8. 'Empathy_8'\n",
       "\n",
       "\n",
       "\n",
       "$loneliness_t1\n",
       ":   1. 'loneliness_1'\n",
       "2. 'loneliness_2'\n",
       "3. 'loneliness_3'\n",
       "\n",
       "\n",
       "\n",
       "$stress_t1\n",
       ":   1. 'Stress_1'\n",
       "2. 'Stress_2'\n",
       "\n",
       "\n",
       "\n",
       "\n",
       "\n"
      ],
      "text/plain": [
       "$life_satisfaction_t1\n",
       "[1] \"lifeSatisfaction_1\"  \"lifeSatisfaction_2\"  \"lifeSatisfaction_3\" \n",
       "[4] \"lifeSatisfaction_4\"  \"lifeSatisfaction_5\"  \"lifeSatisfaction_6R\"\n",
       "\n",
       "$empathy\n",
       "[1] \"Empathy_1\" \"Empathy_2\" \"Empathy_3\" \"Empathy_4\" \"Empathy_5\" \"Empathy_6\"\n",
       "[7] \"Empathy_7\" \"Empathy_8\"\n",
       "\n",
       "$loneliness_t1\n",
       "[1] \"loneliness_1\" \"loneliness_2\" \"loneliness_3\"\n",
       "\n",
       "$stress_t1\n",
       "[1] \"Stress_1\" \"Stress_2\"\n"
      ]
     },
     "metadata": {},
     "output_type": "display_data"
    }
   ],
   "source": [
    "composites = list()\n",
    "composites$life_satisfaction_t1 = c(\n",
    "    'lifeSatisfaction_1',\n",
    "    'lifeSatisfaction_2',\n",
    "    'lifeSatisfaction_3',\n",
    "    'lifeSatisfaction_4',\n",
    "    'lifeSatisfaction_5',\n",
    "    'lifeSatisfaction_6R')\n",
    "composites$empathy = c()\n",
    "composites$loneliness_t1 = c()\n",
    "composites$stress_t1 = c()\n",
    "for (col in colnames(prefrosh)) {\n",
    "    if (startsWith(col, 'Empathy')) {\n",
    "        composites$empathy = c(composites$empathy, col)\n",
    "    } else if (startsWith(col, 'loneliness')) {\n",
    "        composites$loneliness_t1 = c(composites$loneliness_t1, col)\n",
    "    } else if (startsWith(col, 'Stress')) {\n",
    "        composites$stress_t1 = c(composites$stress_t1, col)\n",
    "    }\n",
    "}\n",
    "composites"
   ]
  },
  {
   "cell_type": "code",
   "execution_count": 14,
   "metadata": {},
   "outputs": [
    {
     "data": {
      "text/html": [
       "<ol class=list-inline>\n",
       "\t<li>1091</li>\n",
       "\t<li>18</li>\n",
       "</ol>\n"
      ],
      "text/latex": [
       "\\begin{enumerate*}\n",
       "\\item 1091\n",
       "\\item 18\n",
       "\\end{enumerate*}\n"
      ],
      "text/markdown": [
       "1. 1091\n",
       "2. 18\n",
       "\n",
       "\n"
      ],
      "text/plain": [
       "[1] 1091   18"
      ]
     },
     "metadata": {},
     "output_type": "display_data"
    },
    {
     "data": {
      "text/html": [
       "<table>\n",
       "<caption>A data.frame: 6 × 18</caption>\n",
       "<thead>\n",
       "\t<tr><th></th><th scope=col>PID</th><th scope=col>TIPI_1</th><th scope=col>TIPI_2</th><th scope=col>TIPI_3</th><th scope=col>TIPI_4</th><th scope=col>TIPI_5</th><th scope=col>TIPI_6</th><th scope=col>TIPI_7</th><th scope=col>TIPI_8</th><th scope=col>TIPI_9</th><th scope=col>TIPI_10</th><th scope=col>gender</th><th scope=col>race</th><th scope=col>dorm</th><th scope=col>life_satisfaction_t1</th><th scope=col>empathy</th><th scope=col>loneliness_t1</th><th scope=col>stress_t1</th></tr>\n",
       "\t<tr><th></th><th scope=col>&lt;int&gt;</th><th scope=col>&lt;int&gt;</th><th scope=col>&lt;int&gt;</th><th scope=col>&lt;int&gt;</th><th scope=col>&lt;int&gt;</th><th scope=col>&lt;int&gt;</th><th scope=col>&lt;int&gt;</th><th scope=col>&lt;int&gt;</th><th scope=col>&lt;int&gt;</th><th scope=col>&lt;int&gt;</th><th scope=col>&lt;int&gt;</th><th scope=col>&lt;fct&gt;</th><th scope=col>&lt;fct&gt;</th><th scope=col>&lt;fct&gt;</th><th scope=col>&lt;dbl&gt;</th><th scope=col>&lt;dbl&gt;</th><th scope=col>&lt;dbl&gt;</th><th scope=col>&lt;dbl&gt;</th></tr>\n",
       "</thead>\n",
       "<tbody>\n",
       "\t<tr><th scope=row>1</th><td>1001</td><td>7</td><td>3</td><td>6</td><td>3</td><td>7</td><td>2</td><td>7</td><td>3</td><td>4</td><td>2</td><td>Male                  </td><td>South Asian           </td><td>Rinconada</td><td>4.833333</td><td>6.375</td><td>1.333333</td><td>2.5</td></tr>\n",
       "\t<tr><th scope=row>2</th><td>1004</td><td>4</td><td>2</td><td>5</td><td>4</td><td>5</td><td>4</td><td>5</td><td>4</td><td>6</td><td>2</td><td>Female                </td><td>South Asian           </td><td>Donner   </td><td>2.833333</td><td>6.000</td><td>2.000000</td><td>2.0</td></tr>\n",
       "\t<tr><th scope=row>3</th><td>1012</td><td>5</td><td>2</td><td>4</td><td>3</td><td>5</td><td>5</td><td>5</td><td>1</td><td>6</td><td>1</td><td>Male                  </td><td>South Asian           </td><td>Cedro    </td><td>6.000000</td><td>5.875</td><td>2.000000</td><td>1.5</td></tr>\n",
       "\t<tr><th scope=row>4</th><td>1027</td><td>7</td><td>2</td><td>7</td><td>3</td><td>7</td><td>1</td><td>7</td><td>6</td><td>6</td><td>1</td><td>Female                </td><td>White or Caucasian    </td><td>Junipero </td><td>6.833333</td><td>6.875</td><td>1.000000</td><td>2.0</td></tr>\n",
       "\t<tr><th scope=row>5</th><td>1036</td><td>1</td><td>3</td><td>1</td><td>7</td><td>2</td><td>7</td><td>1</td><td>7</td><td>1</td><td>5</td><td>Other. Please specify:</td><td>Other. Please specify:</td><td>FroSoCo  </td><td>2.666667</td><td>5.250</td><td>2.666667</td><td>3.0</td></tr>\n",
       "\t<tr><th scope=row>6</th><td>1038</td><td>6</td><td>5</td><td>6</td><td>2</td><td>6</td><td>5</td><td>7</td><td>3</td><td>5</td><td>1</td><td>Male                  </td><td>East Asian            </td><td>Faisan   </td><td>5.333333</td><td>6.500</td><td>1.000000</td><td>1.5</td></tr>\n",
       "</tbody>\n",
       "</table>\n"
      ],
      "text/latex": [
       "A data.frame: 6 × 18\n",
       "\\begin{tabular}{r|llllllllllllllllll}\n",
       "  & PID & TIPI\\_1 & TIPI\\_2 & TIPI\\_3 & TIPI\\_4 & TIPI\\_5 & TIPI\\_6 & TIPI\\_7 & TIPI\\_8 & TIPI\\_9 & TIPI\\_10 & gender & race & dorm & life\\_satisfaction\\_t1 & empathy & loneliness\\_t1 & stress\\_t1\\\\\n",
       "  & <int> & <int> & <int> & <int> & <int> & <int> & <int> & <int> & <int> & <int> & <int> & <fct> & <fct> & <fct> & <dbl> & <dbl> & <dbl> & <dbl>\\\\\n",
       "\\hline\n",
       "\t1 & 1001 & 7 & 3 & 6 & 3 & 7 & 2 & 7 & 3 & 4 & 2 & Male                   & South Asian            & Rinconada & 4.833333 & 6.375 & 1.333333 & 2.5\\\\\n",
       "\t2 & 1004 & 4 & 2 & 5 & 4 & 5 & 4 & 5 & 4 & 6 & 2 & Female                 & South Asian            & Donner    & 2.833333 & 6.000 & 2.000000 & 2.0\\\\\n",
       "\t3 & 1012 & 5 & 2 & 4 & 3 & 5 & 5 & 5 & 1 & 6 & 1 & Male                   & South Asian            & Cedro     & 6.000000 & 5.875 & 2.000000 & 1.5\\\\\n",
       "\t4 & 1027 & 7 & 2 & 7 & 3 & 7 & 1 & 7 & 6 & 6 & 1 & Female                 & White or Caucasian     & Junipero  & 6.833333 & 6.875 & 1.000000 & 2.0\\\\\n",
       "\t5 & 1036 & 1 & 3 & 1 & 7 & 2 & 7 & 1 & 7 & 1 & 5 & Other. Please specify: & Other. Please specify: & FroSoCo   & 2.666667 & 5.250 & 2.666667 & 3.0\\\\\n",
       "\t6 & 1038 & 6 & 5 & 6 & 2 & 6 & 5 & 7 & 3 & 5 & 1 & Male                   & East Asian             & Faisan    & 5.333333 & 6.500 & 1.000000 & 1.5\\\\\n",
       "\\end{tabular}\n"
      ],
      "text/markdown": [
       "\n",
       "A data.frame: 6 × 18\n",
       "\n",
       "| <!--/--> | PID &lt;int&gt; | TIPI_1 &lt;int&gt; | TIPI_2 &lt;int&gt; | TIPI_3 &lt;int&gt; | TIPI_4 &lt;int&gt; | TIPI_5 &lt;int&gt; | TIPI_6 &lt;int&gt; | TIPI_7 &lt;int&gt; | TIPI_8 &lt;int&gt; | TIPI_9 &lt;int&gt; | TIPI_10 &lt;int&gt; | gender &lt;fct&gt; | race &lt;fct&gt; | dorm &lt;fct&gt; | life_satisfaction_t1 &lt;dbl&gt; | empathy &lt;dbl&gt; | loneliness_t1 &lt;dbl&gt; | stress_t1 &lt;dbl&gt; |\n",
       "|---|---|---|---|---|---|---|---|---|---|---|---|---|---|---|---|---|---|---|\n",
       "| 1 | 1001 | 7 | 3 | 6 | 3 | 7 | 2 | 7 | 3 | 4 | 2 | Male                   | South Asian            | Rinconada | 4.833333 | 6.375 | 1.333333 | 2.5 |\n",
       "| 2 | 1004 | 4 | 2 | 5 | 4 | 5 | 4 | 5 | 4 | 6 | 2 | Female                 | South Asian            | Donner    | 2.833333 | 6.000 | 2.000000 | 2.0 |\n",
       "| 3 | 1012 | 5 | 2 | 4 | 3 | 5 | 5 | 5 | 1 | 6 | 1 | Male                   | South Asian            | Cedro     | 6.000000 | 5.875 | 2.000000 | 1.5 |\n",
       "| 4 | 1027 | 7 | 2 | 7 | 3 | 7 | 1 | 7 | 6 | 6 | 1 | Female                 | White or Caucasian     | Junipero  | 6.833333 | 6.875 | 1.000000 | 2.0 |\n",
       "| 5 | 1036 | 1 | 3 | 1 | 7 | 2 | 7 | 1 | 7 | 1 | 5 | Other. Please specify: | Other. Please specify: | FroSoCo   | 2.666667 | 5.250 | 2.666667 | 3.0 |\n",
       "| 6 | 1038 | 6 | 5 | 6 | 2 | 6 | 5 | 7 | 3 | 5 | 1 | Male                   | East Asian             | Faisan    | 5.333333 | 6.500 | 1.000000 | 1.5 |\n",
       "\n"
      ],
      "text/plain": [
       "  PID  TIPI_1 TIPI_2 TIPI_3 TIPI_4 TIPI_5 TIPI_6 TIPI_7 TIPI_8 TIPI_9 TIPI_10\n",
       "1 1001 7      3      6      3      7      2      7      3      4      2      \n",
       "2 1004 4      2      5      4      5      4      5      4      6      2      \n",
       "3 1012 5      2      4      3      5      5      5      1      6      1      \n",
       "4 1027 7      2      7      3      7      1      7      6      6      1      \n",
       "5 1036 1      3      1      7      2      7      1      7      1      5      \n",
       "6 1038 6      5      6      2      6      5      7      3      5      1      \n",
       "  gender                 race                   dorm      life_satisfaction_t1\n",
       "1 Male                   South Asian            Rinconada 4.833333            \n",
       "2 Female                 South Asian            Donner    2.833333            \n",
       "3 Male                   South Asian            Cedro     6.000000            \n",
       "4 Female                 White or Caucasian     Junipero  6.833333            \n",
       "5 Other. Please specify: Other. Please specify: FroSoCo   2.666667            \n",
       "6 Male                   East Asian             Faisan    5.333333            \n",
       "  empathy loneliness_t1 stress_t1\n",
       "1 6.375   1.333333      2.5      \n",
       "2 6.000   2.000000      2.0      \n",
       "3 5.875   2.000000      1.5      \n",
       "4 6.875   1.000000      2.0      \n",
       "5 5.250   2.666667      3.0      \n",
       "6 6.500   1.000000      1.5      "
      ]
     },
     "metadata": {},
     "output_type": "display_data"
    }
   ],
   "source": [
    "for (score in names(composites)){\n",
    "    components = composites[[score]]\n",
    "    prefrosh[score] = rowMeans(prefrosh[components], na.rm=TRUE)\n",
    "    prefrosh = prefrosh %>% select(-components)\n",
    "}\n",
    "dim(prefrosh)\n",
    "head(prefrosh)"
   ]
  },
  {
   "cell_type": "code",
   "execution_count": 15,
   "metadata": {},
   "outputs": [
    {
     "data": {
      "text/html": [
       "<ol class=list-inline>\n",
       "\t<li>1091</li>\n",
       "\t<li>13</li>\n",
       "</ol>\n"
      ],
      "text/latex": [
       "\\begin{enumerate*}\n",
       "\\item 1091\n",
       "\\item 13\n",
       "\\end{enumerate*}\n"
      ],
      "text/markdown": [
       "1. 1091\n",
       "2. 13\n",
       "\n",
       "\n"
      ],
      "text/plain": [
       "[1] 1091   13"
      ]
     },
     "metadata": {},
     "output_type": "display_data"
    },
    {
     "data": {
      "text/html": [
       "<table>\n",
       "<caption>A data.frame: 6 × 13</caption>\n",
       "<thead>\n",
       "\t<tr><th></th><th scope=col>PID</th><th scope=col>gender</th><th scope=col>race</th><th scope=col>dorm</th><th scope=col>life_satisfaction_t1</th><th scope=col>empathy</th><th scope=col>loneliness_t1</th><th scope=col>stress_t1</th><th scope=col>BFI_E</th><th scope=col>BFI_A</th><th scope=col>BFI_C</th><th scope=col>BFI_N</th><th scope=col>BFI_O</th></tr>\n",
       "\t<tr><th></th><th scope=col>&lt;int&gt;</th><th scope=col>&lt;fct&gt;</th><th scope=col>&lt;fct&gt;</th><th scope=col>&lt;fct&gt;</th><th scope=col>&lt;dbl&gt;</th><th scope=col>&lt;dbl&gt;</th><th scope=col>&lt;dbl&gt;</th><th scope=col>&lt;dbl&gt;</th><th scope=col>&lt;dbl&gt;</th><th scope=col>&lt;dbl&gt;</th><th scope=col>&lt;dbl&gt;</th><th scope=col>&lt;dbl&gt;</th><th scope=col>&lt;dbl&gt;</th></tr>\n",
       "</thead>\n",
       "<tbody>\n",
       "\t<tr><th scope=row>1</th><td>1001</td><td>Male                  </td><td>South Asian           </td><td>Rinconada</td><td>4.833333</td><td>6.375</td><td>1.333333</td><td>2.5</td><td>6.5</td><td>6.0</td><td>5.5</td><td>3.5</td><td>6.5</td></tr>\n",
       "\t<tr><th scope=row>2</th><td>1004</td><td>Female                </td><td>South Asian           </td><td>Donner   </td><td>2.833333</td><td>6.000</td><td>2.000000</td><td>2.0</td><td>4.0</td><td>5.5</td><td>4.5</td><td>3.0</td><td>5.5</td></tr>\n",
       "\t<tr><th scope=row>3</th><td>1012</td><td>Male                  </td><td>South Asian           </td><td>Cedro    </td><td>6.000000</td><td>5.875</td><td>2.000000</td><td>1.5</td><td>4.0</td><td>5.5</td><td>5.5</td><td>2.5</td><td>6.0</td></tr>\n",
       "\t<tr><th scope=row>4</th><td>1027</td><td>Female                </td><td>White or Caucasian    </td><td>Junipero </td><td>6.833333</td><td>6.875</td><td>1.000000</td><td>2.0</td><td>7.0</td><td>6.5</td><td>4.5</td><td>2.5</td><td>7.0</td></tr>\n",
       "\t<tr><th scope=row>5</th><td>1036</td><td>Other. Please specify:</td><td>Other. Please specify:</td><td>FroSoCo  </td><td>2.666667</td><td>5.250</td><td>2.666667</td><td>3.0</td><td>1.0</td><td>3.0</td><td>1.0</td><td>7.0</td><td>2.5</td></tr>\n",
       "\t<tr><th scope=row>6</th><td>1038</td><td>Male                  </td><td>East Asian            </td><td>Faisan   </td><td>5.333333</td><td>6.500</td><td>1.000000</td><td>1.5</td><td>4.5</td><td>5.0</td><td>5.5</td><td>2.5</td><td>6.5</td></tr>\n",
       "</tbody>\n",
       "</table>\n"
      ],
      "text/latex": [
       "A data.frame: 6 × 13\n",
       "\\begin{tabular}{r|lllllllllllll}\n",
       "  & PID & gender & race & dorm & life\\_satisfaction\\_t1 & empathy & loneliness\\_t1 & stress\\_t1 & BFI\\_E & BFI\\_A & BFI\\_C & BFI\\_N & BFI\\_O\\\\\n",
       "  & <int> & <fct> & <fct> & <fct> & <dbl> & <dbl> & <dbl> & <dbl> & <dbl> & <dbl> & <dbl> & <dbl> & <dbl>\\\\\n",
       "\\hline\n",
       "\t1 & 1001 & Male                   & South Asian            & Rinconada & 4.833333 & 6.375 & 1.333333 & 2.5 & 6.5 & 6.0 & 5.5 & 3.5 & 6.5\\\\\n",
       "\t2 & 1004 & Female                 & South Asian            & Donner    & 2.833333 & 6.000 & 2.000000 & 2.0 & 4.0 & 5.5 & 4.5 & 3.0 & 5.5\\\\\n",
       "\t3 & 1012 & Male                   & South Asian            & Cedro     & 6.000000 & 5.875 & 2.000000 & 1.5 & 4.0 & 5.5 & 5.5 & 2.5 & 6.0\\\\\n",
       "\t4 & 1027 & Female                 & White or Caucasian     & Junipero  & 6.833333 & 6.875 & 1.000000 & 2.0 & 7.0 & 6.5 & 4.5 & 2.5 & 7.0\\\\\n",
       "\t5 & 1036 & Other. Please specify: & Other. Please specify: & FroSoCo   & 2.666667 & 5.250 & 2.666667 & 3.0 & 1.0 & 3.0 & 1.0 & 7.0 & 2.5\\\\\n",
       "\t6 & 1038 & Male                   & East Asian             & Faisan    & 5.333333 & 6.500 & 1.000000 & 1.5 & 4.5 & 5.0 & 5.5 & 2.5 & 6.5\\\\\n",
       "\\end{tabular}\n"
      ],
      "text/markdown": [
       "\n",
       "A data.frame: 6 × 13\n",
       "\n",
       "| <!--/--> | PID &lt;int&gt; | gender &lt;fct&gt; | race &lt;fct&gt; | dorm &lt;fct&gt; | life_satisfaction_t1 &lt;dbl&gt; | empathy &lt;dbl&gt; | loneliness_t1 &lt;dbl&gt; | stress_t1 &lt;dbl&gt; | BFI_E &lt;dbl&gt; | BFI_A &lt;dbl&gt; | BFI_C &lt;dbl&gt; | BFI_N &lt;dbl&gt; | BFI_O &lt;dbl&gt; |\n",
       "|---|---|---|---|---|---|---|---|---|---|---|---|---|---|\n",
       "| 1 | 1001 | Male                   | South Asian            | Rinconada | 4.833333 | 6.375 | 1.333333 | 2.5 | 6.5 | 6.0 | 5.5 | 3.5 | 6.5 |\n",
       "| 2 | 1004 | Female                 | South Asian            | Donner    | 2.833333 | 6.000 | 2.000000 | 2.0 | 4.0 | 5.5 | 4.5 | 3.0 | 5.5 |\n",
       "| 3 | 1012 | Male                   | South Asian            | Cedro     | 6.000000 | 5.875 | 2.000000 | 1.5 | 4.0 | 5.5 | 5.5 | 2.5 | 6.0 |\n",
       "| 4 | 1027 | Female                 | White or Caucasian     | Junipero  | 6.833333 | 6.875 | 1.000000 | 2.0 | 7.0 | 6.5 | 4.5 | 2.5 | 7.0 |\n",
       "| 5 | 1036 | Other. Please specify: | Other. Please specify: | FroSoCo   | 2.666667 | 5.250 | 2.666667 | 3.0 | 1.0 | 3.0 | 1.0 | 7.0 | 2.5 |\n",
       "| 6 | 1038 | Male                   | East Asian             | Faisan    | 5.333333 | 6.500 | 1.000000 | 1.5 | 4.5 | 5.0 | 5.5 | 2.5 | 6.5 |\n",
       "\n"
      ],
      "text/plain": [
       "  PID  gender                 race                   dorm     \n",
       "1 1001 Male                   South Asian            Rinconada\n",
       "2 1004 Female                 South Asian            Donner   \n",
       "3 1012 Male                   South Asian            Cedro    \n",
       "4 1027 Female                 White or Caucasian     Junipero \n",
       "5 1036 Other. Please specify: Other. Please specify: FroSoCo  \n",
       "6 1038 Male                   East Asian             Faisan   \n",
       "  life_satisfaction_t1 empathy loneliness_t1 stress_t1 BFI_E BFI_A BFI_C BFI_N\n",
       "1 4.833333             6.375   1.333333      2.5       6.5   6.0   5.5   3.5  \n",
       "2 2.833333             6.000   2.000000      2.0       4.0   5.5   4.5   3.0  \n",
       "3 6.000000             5.875   2.000000      1.5       4.0   5.5   5.5   2.5  \n",
       "4 6.833333             6.875   1.000000      2.0       7.0   6.5   4.5   2.5  \n",
       "5 2.666667             5.250   2.666667      3.0       1.0   3.0   1.0   7.0  \n",
       "6 5.333333             6.500   1.000000      1.5       4.5   5.0   5.5   2.5  \n",
       "  BFI_O\n",
       "1 6.5  \n",
       "2 5.5  \n",
       "3 6.0  \n",
       "4 7.0  \n",
       "5 2.5  \n",
       "6 6.5  "
      ]
     },
     "metadata": {},
     "output_type": "display_data"
    }
   ],
   "source": [
    "TIPI_LOOKUP = list()\n",
    "TIPI_LOOKUP$E = c(1, 6)  # positive item, reverse item\n",
    "TIPI_LOOKUP$A = c(7, 2)\n",
    "TIPI_LOOKUP$C = c(3, 8)\n",
    "TIPI_LOOKUP$N = c(4, 9)\n",
    "TIPI_LOOKUP$O = c(5, 10)\n",
    "\n",
    "for (trait in names(TIPI_LOOKUP)) {\n",
    "    pos = paste('TIPI', TIPI_LOOKUP[[trait]][1], sep='_')\n",
    "    neg = paste('TIPI', TIPI_LOOKUP[[trait]][2], sep='_')\n",
    "    prefrosh[neg] = 8 - prefrosh[neg]\n",
    "    prefrosh[paste('BFI', trait, sep=\"_\")] = rowMeans(prefrosh %>% select(pos, neg))\n",
    "    prefrosh = prefrosh %>% select(-pos, -neg)\n",
    "}\n",
    "\n",
    "dim(prefrosh)\n",
    "head(prefrosh)"
   ]
  },
  {
   "cell_type": "markdown",
   "metadata": {},
   "source": [
    "### Gender"
   ]
  },
  {
   "cell_type": "code",
   "execution_count": 16,
   "metadata": {},
   "outputs": [
    {
     "data": {
      "text/html": [
       "<dl class=dl-horizontal>\n",
       "\t<dt>Female</dt>\n",
       "\t\t<dd>573</dd>\n",
       "\t<dt>Male</dt>\n",
       "\t\t<dd>502</dd>\n",
       "\t<dt>Other. Please specify:</dt>\n",
       "\t\t<dd>6</dd>\n",
       "\t<dt>Prefer not to answer</dt>\n",
       "\t\t<dd>10</dd>\n",
       "</dl>\n"
      ],
      "text/latex": [
       "\\begin{description*}\n",
       "\\item[Female] 573\n",
       "\\item[Male] 502\n",
       "\\item[Other. Please specify:] 6\n",
       "\\item[Prefer not to answer] 10\n",
       "\\end{description*}\n"
      ],
      "text/markdown": [
       "Female\n",
       ":   573Male\n",
       ":   502Other. Please specify:\n",
       ":   6Prefer not to answer\n",
       ":   10\n",
       "\n"
      ],
      "text/plain": [
       "                Female                   Male Other. Please specify: \n",
       "                   573                    502                      6 \n",
       "  Prefer not to answer \n",
       "                    10 "
      ]
     },
     "metadata": {},
     "output_type": "display_data"
    }
   ],
   "source": [
    "summary(prefrosh$gender)"
   ]
  },
  {
   "cell_type": "code",
   "execution_count": 17,
   "metadata": {},
   "outputs": [
    {
     "data": {
      "text/html": [
       "<ol class=list-inline>\n",
       "\t<li>'Female'</li>\n",
       "\t<li>'Male'</li>\n",
       "\t<li>'Other. Please specify:'</li>\n",
       "\t<li>'Prefer not to answer'</li>\n",
       "</ol>\n"
      ],
      "text/latex": [
       "\\begin{enumerate*}\n",
       "\\item 'Female'\n",
       "\\item 'Male'\n",
       "\\item 'Other. Please specify:'\n",
       "\\item 'Prefer not to answer'\n",
       "\\end{enumerate*}\n"
      ],
      "text/markdown": [
       "1. 'Female'\n",
       "2. 'Male'\n",
       "3. 'Other. Please specify:'\n",
       "4. 'Prefer not to answer'\n",
       "\n",
       "\n"
      ],
      "text/plain": [
       "[1] \"Female\"                 \"Male\"                   \"Other. Please specify:\"\n",
       "[4] \"Prefer not to answer\"  "
      ]
     },
     "metadata": {},
     "output_type": "display_data"
    }
   ],
   "source": [
    "levels(prefrosh$gender)"
   ]
  },
  {
   "cell_type": "code",
   "execution_count": 18,
   "metadata": {},
   "outputs": [
    {
     "data": {
      "text/html": [
       "<dl class=dl-horizontal>\n",
       "\t<dt>female</dt>\n",
       "\t\t<dd>573</dd>\n",
       "\t<dt>male</dt>\n",
       "\t\t<dd>502</dd>\n",
       "\t<dt>other</dt>\n",
       "\t\t<dd>10</dd>\n",
       "\t<dt>NA's</dt>\n",
       "\t\t<dd>6</dd>\n",
       "</dl>\n"
      ],
      "text/latex": [
       "\\begin{description*}\n",
       "\\item[female] 573\n",
       "\\item[male] 502\n",
       "\\item[other] 10\n",
       "\\item[NA's] 6\n",
       "\\end{description*}\n"
      ],
      "text/markdown": [
       "female\n",
       ":   573male\n",
       ":   502other\n",
       ":   10NA's\n",
       ":   6\n",
       "\n"
      ],
      "text/plain": [
       "female   male  other   NA's \n",
       "   573    502     10      6 "
      ]
     },
     "metadata": {},
     "output_type": "display_data"
    }
   ],
   "source": [
    "levels(prefrosh$gender) = c('female', 'male', NA, 'other')\n",
    "summary(prefrosh$gender)"
   ]
  },
  {
   "cell_type": "markdown",
   "metadata": {},
   "source": [
    "### Race"
   ]
  },
  {
   "cell_type": "code",
   "execution_count": 19,
   "metadata": {},
   "outputs": [],
   "source": [
    "RACE_LOOKUP = list()\n",
    "OTHER = \"other_or_mixed\"\n",
    "RACE_LOOKUP[\"South Asian\"] = \"south_asian\"\n",
    "RACE_LOOKUP[\"Native American\"] = OTHER\n",
    "RACE_LOOKUP[\"Hispanic or Latino/a\"] = \"hispanic\"\n",
    "RACE_LOOKUP[\"Middle Eastern\"] = OTHER\n",
    "RACE_LOOKUP[\"Pacific Islander\"] = OTHER\n",
    "RACE_LOOKUP[\"Black or African American\"] = \"black\"\n",
    "RACE_LOOKUP[\"Other. Please specify:\"] = OTHER\n",
    "RACE_LOOKUP[\"East Asian\"] = \"east_asian\"\n",
    "RACE_LOOKUP[\"White or Caucasian\"] = \"white\""
   ]
  },
  {
   "cell_type": "code",
   "execution_count": 20,
   "metadata": {},
   "outputs": [
    {
     "name": "stdout",
     "output_type": "stream",
     "text": [
      "[1] \"Black or African American -> black\"\n",
      "[1] \"Black or African American,Hispanic or Latino/a -> other_or_mixed\"\n",
      "[1] \"Black or African American,Middle Eastern -> other_or_mixed\"\n",
      "[1] \"Black or African American,South Asian -> other_or_mixed\"\n",
      "[1] \"Black or African American,White or Caucasian -> other_or_mixed\"\n",
      "[1] \"Black or African American,White or Caucasian,Hispanic or Latino/a -> other_or_mixed\"\n",
      "[1] \"Black or African American,White or Caucasian,Middle Eastern -> other_or_mixed\"\n",
      "[1] \"Black or African American,White or Caucasian,Other. Please specify: -> other_or_mixed\"\n",
      "[1] \"East Asian -> east_asian\"\n",
      "[1] \"East Asian,Black or African American -> other_or_mixed\"\n",
      "[1] \"East Asian,Hispanic or Latino/a -> other_or_mixed\"\n",
      "[1] \"East Asian,Middle Eastern -> other_or_mixed\"\n",
      "[1] \"East Asian,Pacific Islander -> other_or_mixed\"\n",
      "[1] \"East Asian,South Asian -> other_or_mixed\"\n",
      "[1] \"East Asian,White or Caucasian -> other_or_mixed\"\n",
      "[1] \"East Asian,White or Caucasian,Hispanic or Latino/a -> other_or_mixed\"\n",
      "[1] \"Hispanic or Latino/a -> hispanic\"\n",
      "[1] \"Hispanic or Latino/a,Other. Please specify: -> other_or_mixed\"\n",
      "[1] \"Hispanic or Latino/a,South Asian -> other_or_mixed\"\n",
      "[1] \"Middle Eastern -> other_or_mixed\"\n",
      "[1] \"Middle Eastern,Other. Please specify: -> other_or_mixed\"\n",
      "[1] \"Native American -> other_or_mixed\"\n",
      "[1] \"Native American,Black or African American -> other_or_mixed\"\n",
      "[1] \"Native American,Black or African American,White or Caucasian -> other_or_mixed\"\n",
      "[1] \"Native American,Hispanic or Latino/a -> other_or_mixed\"\n",
      "[1] \"Native American,White or Caucasian -> other_or_mixed\"\n",
      "[1] \"Native American,White or Caucasian,Hispanic or Latino/a -> other_or_mixed\"\n",
      "[1] \"Other. Please specify: -> other_or_mixed\"\n",
      "[1] \"Pacific Islander -> other_or_mixed\"\n",
      "[1] \"Pacific Islander,White or Caucasian -> other_or_mixed\"\n",
      "[1] \"South Asian -> south_asian\"\n",
      "[1] \"South Asian,Middle Eastern -> other_or_mixed\"\n",
      "[1] \"White or Caucasian -> white\"\n",
      "[1] \"White or Caucasian,Hispanic or Latino/a -> other_or_mixed\"\n",
      "[1] \"White or Caucasian,Hispanic or Latino/a,Middle Eastern -> other_or_mixed\"\n",
      "[1] \"White or Caucasian,Middle Eastern -> other_or_mixed\"\n",
      "[1] \"White or Caucasian,South Asian -> other_or_mixed\"\n"
     ]
    }
   ],
   "source": [
    "for (race in levels(prefrosh$race)){\n",
    "    if (is.na(race)) {\n",
    "        next\n",
    "    }\n",
    "    to_race = RACE_LOOKUP[[race]]\n",
    "    if (grepl(',', race)) {\n",
    "        to_race = OTHER\n",
    "    }\n",
    "    print(paste(race, to_race, sep=\" -> \"))\n",
    "    levels(prefrosh$race)[levels(prefrosh$race) == race] = to_race\n",
    "}"
   ]
  },
  {
   "cell_type": "code",
   "execution_count": 21,
   "metadata": {},
   "outputs": [
    {
     "data": {
      "text/html": [
       "<dl class=dl-horizontal>\n",
       "\t<dt>black</dt>\n",
       "\t\t<dd>93</dd>\n",
       "\t<dt>other_or_mixed</dt>\n",
       "\t\t<dd>233</dd>\n",
       "\t<dt>east_asian</dt>\n",
       "\t\t<dd>197</dd>\n",
       "\t<dt>hispanic</dt>\n",
       "\t\t<dd>132</dd>\n",
       "\t<dt>south_asian</dt>\n",
       "\t\t<dd>105</dd>\n",
       "\t<dt>white</dt>\n",
       "\t\t<dd>326</dd>\n",
       "\t<dt>NA's</dt>\n",
       "\t\t<dd>5</dd>\n",
       "</dl>\n"
      ],
      "text/latex": [
       "\\begin{description*}\n",
       "\\item[black] 93\n",
       "\\item[other\\textbackslash{}\\_or\\textbackslash{}\\_mixed] 233\n",
       "\\item[east\\textbackslash{}\\_asian] 197\n",
       "\\item[hispanic] 132\n",
       "\\item[south\\textbackslash{}\\_asian] 105\n",
       "\\item[white] 326\n",
       "\\item[NA's] 5\n",
       "\\end{description*}\n"
      ],
      "text/markdown": [
       "black\n",
       ":   93other_or_mixed\n",
       ":   233east_asian\n",
       ":   197hispanic\n",
       ":   132south_asian\n",
       ":   105white\n",
       ":   326NA's\n",
       ":   5\n",
       "\n"
      ],
      "text/plain": [
       "         black other_or_mixed     east_asian       hispanic    south_asian \n",
       "            93            233            197            132            105 \n",
       "         white           NA's \n",
       "           326              5 "
      ]
     },
     "metadata": {},
     "output_type": "display_data"
    }
   ],
   "source": [
    "summary(prefrosh$race)"
   ]
  },
  {
   "cell_type": "code",
   "execution_count": 22,
   "metadata": {},
   "outputs": [
    {
     "data": {
      "text/html": [
       "<table>\n",
       "<caption>A data.frame: 6 × 13</caption>\n",
       "<thead>\n",
       "\t<tr><th></th><th scope=col>PID</th><th scope=col>gender</th><th scope=col>race</th><th scope=col>dorm</th><th scope=col>life_satisfaction_t1</th><th scope=col>empathy</th><th scope=col>loneliness_t1</th><th scope=col>stress_t1</th><th scope=col>BFI_E</th><th scope=col>BFI_A</th><th scope=col>BFI_C</th><th scope=col>BFI_N</th><th scope=col>BFI_O</th></tr>\n",
       "\t<tr><th></th><th scope=col>&lt;int&gt;</th><th scope=col>&lt;fct&gt;</th><th scope=col>&lt;fct&gt;</th><th scope=col>&lt;fct&gt;</th><th scope=col>&lt;dbl&gt;</th><th scope=col>&lt;dbl&gt;</th><th scope=col>&lt;dbl&gt;</th><th scope=col>&lt;dbl&gt;</th><th scope=col>&lt;dbl&gt;</th><th scope=col>&lt;dbl&gt;</th><th scope=col>&lt;dbl&gt;</th><th scope=col>&lt;dbl&gt;</th><th scope=col>&lt;dbl&gt;</th></tr>\n",
       "</thead>\n",
       "<tbody>\n",
       "\t<tr><th scope=row>1</th><td>1001</td><td>male  </td><td>south_asian   </td><td>Rinconada</td><td>4.833333</td><td>6.375</td><td>1.333333</td><td>2.5</td><td>6.5</td><td>6.0</td><td>5.5</td><td>3.5</td><td>6.5</td></tr>\n",
       "\t<tr><th scope=row>2</th><td>1004</td><td>female</td><td>south_asian   </td><td>Donner   </td><td>2.833333</td><td>6.000</td><td>2.000000</td><td>2.0</td><td>4.0</td><td>5.5</td><td>4.5</td><td>3.0</td><td>5.5</td></tr>\n",
       "\t<tr><th scope=row>3</th><td>1012</td><td>male  </td><td>south_asian   </td><td>Cedro    </td><td>6.000000</td><td>5.875</td><td>2.000000</td><td>1.5</td><td>4.0</td><td>5.5</td><td>5.5</td><td>2.5</td><td>6.0</td></tr>\n",
       "\t<tr><th scope=row>4</th><td>1027</td><td>female</td><td>white         </td><td>Junipero </td><td>6.833333</td><td>6.875</td><td>1.000000</td><td>2.0</td><td>7.0</td><td>6.5</td><td>4.5</td><td>2.5</td><td>7.0</td></tr>\n",
       "\t<tr><th scope=row>5</th><td>1036</td><td>NA    </td><td>other_or_mixed</td><td>FroSoCo  </td><td>2.666667</td><td>5.250</td><td>2.666667</td><td>3.0</td><td>1.0</td><td>3.0</td><td>1.0</td><td>7.0</td><td>2.5</td></tr>\n",
       "\t<tr><th scope=row>6</th><td>1038</td><td>male  </td><td>east_asian    </td><td>Faisan   </td><td>5.333333</td><td>6.500</td><td>1.000000</td><td>1.5</td><td>4.5</td><td>5.0</td><td>5.5</td><td>2.5</td><td>6.5</td></tr>\n",
       "</tbody>\n",
       "</table>\n"
      ],
      "text/latex": [
       "A data.frame: 6 × 13\n",
       "\\begin{tabular}{r|lllllllllllll}\n",
       "  & PID & gender & race & dorm & life\\_satisfaction\\_t1 & empathy & loneliness\\_t1 & stress\\_t1 & BFI\\_E & BFI\\_A & BFI\\_C & BFI\\_N & BFI\\_O\\\\\n",
       "  & <int> & <fct> & <fct> & <fct> & <dbl> & <dbl> & <dbl> & <dbl> & <dbl> & <dbl> & <dbl> & <dbl> & <dbl>\\\\\n",
       "\\hline\n",
       "\t1 & 1001 & male   & south\\_asian    & Rinconada & 4.833333 & 6.375 & 1.333333 & 2.5 & 6.5 & 6.0 & 5.5 & 3.5 & 6.5\\\\\n",
       "\t2 & 1004 & female & south\\_asian    & Donner    & 2.833333 & 6.000 & 2.000000 & 2.0 & 4.0 & 5.5 & 4.5 & 3.0 & 5.5\\\\\n",
       "\t3 & 1012 & male   & south\\_asian    & Cedro     & 6.000000 & 5.875 & 2.000000 & 1.5 & 4.0 & 5.5 & 5.5 & 2.5 & 6.0\\\\\n",
       "\t4 & 1027 & female & white          & Junipero  & 6.833333 & 6.875 & 1.000000 & 2.0 & 7.0 & 6.5 & 4.5 & 2.5 & 7.0\\\\\n",
       "\t5 & 1036 & NA     & other\\_or\\_mixed & FroSoCo   & 2.666667 & 5.250 & 2.666667 & 3.0 & 1.0 & 3.0 & 1.0 & 7.0 & 2.5\\\\\n",
       "\t6 & 1038 & male   & east\\_asian     & Faisan    & 5.333333 & 6.500 & 1.000000 & 1.5 & 4.5 & 5.0 & 5.5 & 2.5 & 6.5\\\\\n",
       "\\end{tabular}\n"
      ],
      "text/markdown": [
       "\n",
       "A data.frame: 6 × 13\n",
       "\n",
       "| <!--/--> | PID &lt;int&gt; | gender &lt;fct&gt; | race &lt;fct&gt; | dorm &lt;fct&gt; | life_satisfaction_t1 &lt;dbl&gt; | empathy &lt;dbl&gt; | loneliness_t1 &lt;dbl&gt; | stress_t1 &lt;dbl&gt; | BFI_E &lt;dbl&gt; | BFI_A &lt;dbl&gt; | BFI_C &lt;dbl&gt; | BFI_N &lt;dbl&gt; | BFI_O &lt;dbl&gt; |\n",
       "|---|---|---|---|---|---|---|---|---|---|---|---|---|---|\n",
       "| 1 | 1001 | male   | south_asian    | Rinconada | 4.833333 | 6.375 | 1.333333 | 2.5 | 6.5 | 6.0 | 5.5 | 3.5 | 6.5 |\n",
       "| 2 | 1004 | female | south_asian    | Donner    | 2.833333 | 6.000 | 2.000000 | 2.0 | 4.0 | 5.5 | 4.5 | 3.0 | 5.5 |\n",
       "| 3 | 1012 | male   | south_asian    | Cedro     | 6.000000 | 5.875 | 2.000000 | 1.5 | 4.0 | 5.5 | 5.5 | 2.5 | 6.0 |\n",
       "| 4 | 1027 | female | white          | Junipero  | 6.833333 | 6.875 | 1.000000 | 2.0 | 7.0 | 6.5 | 4.5 | 2.5 | 7.0 |\n",
       "| 5 | 1036 | NA     | other_or_mixed | FroSoCo   | 2.666667 | 5.250 | 2.666667 | 3.0 | 1.0 | 3.0 | 1.0 | 7.0 | 2.5 |\n",
       "| 6 | 1038 | male   | east_asian     | Faisan    | 5.333333 | 6.500 | 1.000000 | 1.5 | 4.5 | 5.0 | 5.5 | 2.5 | 6.5 |\n",
       "\n"
      ],
      "text/plain": [
       "  PID  gender race           dorm      life_satisfaction_t1 empathy\n",
       "1 1001 male   south_asian    Rinconada 4.833333             6.375  \n",
       "2 1004 female south_asian    Donner    2.833333             6.000  \n",
       "3 1012 male   south_asian    Cedro     6.000000             5.875  \n",
       "4 1027 female white          Junipero  6.833333             6.875  \n",
       "5 1036 NA     other_or_mixed FroSoCo   2.666667             5.250  \n",
       "6 1038 male   east_asian     Faisan    5.333333             6.500  \n",
       "  loneliness_t1 stress_t1 BFI_E BFI_A BFI_C BFI_N BFI_O\n",
       "1 1.333333      2.5       6.5   6.0   5.5   3.5   6.5  \n",
       "2 2.000000      2.0       4.0   5.5   4.5   3.0   5.5  \n",
       "3 2.000000      1.5       4.0   5.5   5.5   2.5   6.0  \n",
       "4 1.000000      2.0       7.0   6.5   4.5   2.5   7.0  \n",
       "5 2.666667      3.0       1.0   3.0   1.0   7.0   2.5  \n",
       "6 1.000000      1.5       4.5   5.0   5.5   2.5   6.5  "
      ]
     },
     "metadata": {},
     "output_type": "display_data"
    }
   ],
   "source": [
    "# prefrosh = column_to_rownames(remove_rownames(prefrosh), \"PID\")\n",
    "head(prefrosh)"
   ]
  },
  {
   "cell_type": "markdown",
   "metadata": {},
   "source": [
    "## Load and clean network trait data"
   ]
  },
  {
   "cell_type": "code",
   "execution_count": 23,
   "metadata": {},
   "outputs": [
    {
     "data": {
      "text/html": [
       "<ol class=list-inline>\n",
       "\t<li>1157</li>\n",
       "\t<li>145</li>\n",
       "</ol>\n"
      ],
      "text/latex": [
       "\\begin{enumerate*}\n",
       "\\item 1157\n",
       "\\item 145\n",
       "\\end{enumerate*}\n"
      ],
      "text/markdown": [
       "1. 1157\n",
       "2. 145\n",
       "\n",
       "\n"
      ],
      "text/plain": [
       "[1] 1157  145"
      ]
     },
     "metadata": {},
     "output_type": "display_data"
    },
    {
     "name": "stdout",
     "output_type": "stream",
     "text": [
      "'data.frame':\t1157 obs. of  145 variables:\n",
      " $ X                       : int  1 2 3 4 5 6 7 8 9 10 ...\n",
      " $ PID                     : int  1001 1004 1006 1014 1017 1047 1061 1065 1078 1080 ...\n",
      " $ Duration..in.seconds.   : int  867 1360 1251 667 1991 876 1306 1397 1034 4908 ...\n",
      " $ Age                     : int  18 18 19 18 24 18 21 18 18 21 ...\n",
      " $ meaningRelationships_1  : num  4 2 4 2 3 5 6 2 2 6 ...\n",
      " $ meaningRelationships_2  : num  4 6 5 4 5 0 1 5 4 4 ...\n",
      " $ meaningRelationships_3  : int  2 2 1 3 2 5 3 2 4 1 ...\n",
      " $ CloseFrds_OffCampus     : int  10 8 7 5 2 10 4 5 8 8 ...\n",
      " $ NegEmoSupp_OffCampus    : int  4 4 5 3 0 4 1 5 2 6 ...\n",
      " $ NegEmoSupp_Family       : Factor w/ 61 levels \"Aunt/Uncle\",\"Cousin\",..: 44 54 16 30 NA 35 8 44 25 44 ...\n",
      " $ NegEmoSupp_Family_7_TEXT: Factor w/ 10 levels \"Family friends\",..: NA NA NA NA NA NA NA NA NA NA ...\n",
      " $ StudentGroups_1         : Factor w/ 294 levels \" Senate Associate Program\",..: 101 274 243 274 101 222 41 292 30 170 ...\n",
      " $ StudentGroups_2         : Factor w/ 261 levels \"A2 Fellowship\",..: NA 54 94 NA NA 222 NA 222 NA 135 ...\n",
      " $ StudentGroups_3         : Factor w/ 184 levels \"A2 Fellowship\",..: NA NA 66 NA NA 138 NA NA NA 133 ...\n",
      " $ GroupsOther_4           : Factor w/ 152 levels \"___ Cafe\",\"Alaska Native Student Association\",..: NA NA NA NA NA NA NA NA NA NA ...\n",
      " $ GroupsOther_5           : Factor w/ 38 levels \"Awkwaaba \",\"CIGH Global Health Student Council \",..: NA NA NA NA NA NA NA NA NA NA ...\n",
      " $ GroupsOther_6           : Factor w/ 8 levels \"Frosh Council\",..: NA NA NA NA NA NA NA NA NA NA ...\n",
      " $ NegativeWellBeing_1     : int  5 6 4 2 7 1 5 2 5 3 ...\n",
      " $ NegativeWellBeing_2     : int  7 3 6 4 1 4 7 3 5 7 ...\n",
      " $ NegativeWellBeing_3     : int  3 5 5 4 7 5 1 2 2 1 ...\n",
      " $ NegativeWellBeing_4     : int  3 5 6 5 7 5 1 2 1 2 ...\n",
      " $ NegativeWellBeing_5     : int  3 5 5 3 7 4 2 2 1 2 ...\n",
      " $ NegativeWellBeing_6     : int  5 5 5 4 7 5 2 2 1 2 ...\n",
      " $ NegativeWellBeing_7     : int  6 5 6 5 7 7 3 2 3 3 ...\n",
      " $ NegativeWellBeing_8     : int  5 5 7 5 7 7 1 2 2 5 ...\n",
      " $ NegativeWellBeing_9     : int  3 4 6 3 7 2 2 2 2 2 ...\n",
      " $ NegativeWellBeing_10    : int  5 6 7 5 7 2 5 2 2 2 ...\n",
      " $ SocialEmotionality_1    : int  4 2 7 6 1 7 7 5 4 5 ...\n",
      " $ SocialEmotionality_2    : int  4 2 7 6 1 7 7 4 5 2 ...\n",
      " $ SocialEmotionality_3    : int  6 3 5 6 1 6 7 5 5 4 ...\n",
      " $ SocialEmotionality_4    : int  4 3 7 6 1 5 7 5 3 3 ...\n",
      " $ SocialEmotionality_5    : int  4 2 5 6 1 7 5 2 3 3 ...\n",
      " $ SocialEmotionality_6    : int  4 3 7 6 2 7 7 3 2 3 ...\n",
      " $ SocialEmotionality_7    : int  5 2 6 6 1 6 7 5 3 3 ...\n",
      " $ SocialEmotionality_8    : int  4 2 5 5 1 5 7 5 5 2 ...\n",
      " $ Empathy_1               : int  7 6 6 7 7 7 7 6 7 6 ...\n",
      " $ Empathy_2               : int  7 6 7 6 5 7 7 5 7 5 ...\n",
      " $ Empathy_3               : int  7 6 7 6 7 7 7 5 7 6 ...\n",
      " $ Empathy_4               : int  7 6 6 6 4 7 7 4 6 3 ...\n",
      " $ Empathy_5               : int  7 6 6 7 7 7 7 6 7 5 ...\n",
      " $ Empathy_6               : int  7 6 6 7 5 7 7 6 7 7 ...\n",
      " $ Empathy_7               : int  6 6 7 6 7 7 6 5 6 5 ...\n",
      " $ Empathy_8               : int  6 6 6 7 7 7 6 6 7 6 ...\n",
      " $ Empathy_9               : int  6 6 6 6 5 7 6 5 7 7 ...\n",
      " $ Empathy_10              : int  7 6 6 6 7 7 7 4 7 7 ...\n",
      " $ Empathy_11              : int  6 6 5 6 7 7 3 6 7 5 ...\n",
      " $ Empathy_12              : int  7 6 7 6 5 7 7 6 6 7 ...\n",
      " $ Empathy_13              : int  7 6 6 6 5 6 3 6 7 7 ...\n",
      " $ Narcissism_1            : int  5 4 2 3 4 6 4 5 2 5 ...\n",
      " $ Narcissism_2            : int  5 4 3 2 2 4 5 3 4 5 ...\n",
      " $ Narcissism_3            : int  5 2 5 3 1 7 5 1 3 5 ...\n",
      " $ Narcissism_4            : int  5 3 3 2 1 5 4 4 2 5 ...\n",
      " $ Narcissism_5            : int  4 3 3 2 1 5 3 2 2 3 ...\n",
      " $ Narcissism_6            : int  1 2 2 1 2 1 1 2 1 4 ...\n",
      " $ Narcissism_7            : int  6 3 5 4 1 5 3 4 2 3 ...\n",
      " $ Narcissism_8            : int  1 2 3 1 1 1 1 2 1 4 ...\n",
      " $ Narcissism_9            : int  5 2 6 3 1 5 2 3 1 5 ...\n",
      " $ NeedToBelong_1          : int  7 6 7 6 7 7 5 6 7 5 ...\n",
      " $ NeedToBelong_2          : int  5 6 6 4 7 7 4 3 5 6 ...\n",
      " $ NeedToBelong_3          : int  7 5 5 5 7 7 3 3 7 5 ...\n",
      " $ NeedToBelong_4          : int  5 4 3 4 4 5 2 2 4 5 ...\n",
      " $ NeedToBelong_5          : int  6 4 4 4 7 6 5 2 4 5 ...\n",
      " $ NeedToBelong_6          : int  5 6 3 5 7 5 2 4 3 4 ...\n",
      " $ NeedToBelong_7          : int  7 6 7 7 7 7 3 4 5 5 ...\n",
      " $ NeedToBelong_8          : int  7 6 7 6 5 7 6 6 7 6 ...\n",
      " $ NeedToBelong_9          : int  6 5 6 5 7 5 6 6 3 6 ...\n",
      " $ NeedToBelong_10         : int  5 6 7 5 7 7 5 4 4 4 ...\n",
      " $ NeedToBelong_11         : int  7 3 2 3 2 3 4 5 5 4 ...\n",
      " $ LifeSatisfaction_1      : int  7 3 6 6 1 3 5 2 6 6 ...\n",
      " $ LifeSatisfaction_2      : int  7 3 6 6 1 6 7 2 6 7 ...\n",
      " $ LifeSatisfaction_3      : int  6 3 4 6 3 5 5 2 5 6 ...\n",
      " $ LifeSatisfaction_4      : int  7 3 2 6 7 7 2 5 6 6 ...\n",
      " $ LifeSatisfaction_5      : int  7 3 6 5 1 6 6 4 5 7 ...\n",
      " $ LifeSatisfaction_6      : int  7 3 3 6 1 5 5 2 4 6 ...\n",
      " $ LifeSatisfaction_7      : int  5 5 2 2 7 4 3 6 3 3 ...\n",
      " $ LifeSatisfaction_8      : int  7 3 6 6 1 6 7 5 6 5 ...\n",
      " $ LifeSatisfaction_9      : int  3 2 3 6 1 5 6 2 6 6 ...\n",
      " $ loneliness_1            : int  2 2 2 3 3 2 1 2 2 1 ...\n",
      " $ loneliness_2            : int  2 3 1 3 3 2 2 2 3 1 ...\n",
      " $ loneliness_3            : int  2 3 2 3 3 2 1 1 2 1 ...\n",
      " $ Stress_1                : int  2 3 3 3 3 3 3 2 3 3 ...\n",
      " $ Stress_2                : int  1 3 2 3 3 3 2 2 3 2 ...\n",
      " $ Sociality_1             : int  7 5 3 3 5 7 7 6 5 7 ...\n",
      " $ Sociality_2             : int  5 5 4 3 3 6 7 6 3 4 ...\n",
      " $ belongingness_1         : int  6 4 6 3 1 6 6 4 5 6 ...\n",
      " $ belongingness_2         : int  6 3 2 2 1 3 6 4 5 6 ...\n",
      " $ belongingness_3         : int  6 3 4 4 1 3 3 5 6 6 ...\n",
      " $ IRQextra_1              : int  6 5 5 7 5 6 5 5 7 4 ...\n",
      " $ IRQextra_2              : int  7 5 7 7 5 7 6 6 7 5 ...\n",
      " $ IRQextra_3              : int  6 4 6 5 3 7 7 6 7 4 ...\n",
      " $ IRQextra_4              : int  7 3 7 6 3 5 7 4 5 4 ...\n",
      " $ IRQextra_5              : int  7 3 7 6 1 5 7 3 5 4 ...\n",
      " $ LayEmpathy_1            : int  1 2 6 5 5 2 3 3 5 4 ...\n",
      " $ LayEmpathy_2            : int  1 2 5 5 1 5 2 3 5 3 ...\n",
      " $ LayEmpathy_3            : int  7 6 5 4 7 4 6 5 4 5 ...\n",
      " $ TIPI_Extra              : int  6 3 6 2 1 6 7 2 2 7 ...\n",
      " $ TIPI_Criti              : int  1 2 5 3 1 2 7 2 2 2 ...\n",
      " $ TIPI_Depen              : int  7 4 4 4 1 7 7 6 7 6 ...\n",
      " $ TIPI_Anx                : int  2 3 5 6 7 5 2 2 3 1 ...\n",
      "  [list output truncated]\n"
     ]
    },
    {
     "data": {
      "text/html": [
       "<table>\n",
       "<caption>A data.frame: 6 × 145</caption>\n",
       "<thead>\n",
       "\t<tr><th></th><th scope=col>X</th><th scope=col>PID</th><th scope=col>Duration..in.seconds.</th><th scope=col>Age</th><th scope=col>meaningRelationships_1</th><th scope=col>meaningRelationships_2</th><th scope=col>meaningRelationships_3</th><th scope=col>CloseFrds_OffCampus</th><th scope=col>NegEmoSupp_OffCampus</th><th scope=col>NegEmoSupp_Family</th><th scope=col>NegEmoSupp_Family_7_TEXT</th><th scope=col>StudentGroups_1</th><th scope=col>StudentGroups_2</th><th scope=col>StudentGroups_3</th><th scope=col>GroupsOther_4</th><th scope=col>GroupsOther_5</th><th scope=col>GroupsOther_6</th><th scope=col>NegativeWellBeing_1</th><th scope=col>NegativeWellBeing_2</th><th scope=col>NegativeWellBeing_3</th><th scope=col>NegativeWellBeing_4</th><th scope=col>NegativeWellBeing_5</th><th scope=col>NegativeWellBeing_6</th><th scope=col>NegativeWellBeing_7</th><th scope=col>NegativeWellBeing_8</th><th scope=col>NegativeWellBeing_9</th><th scope=col>NegativeWellBeing_10</th><th scope=col>SocialEmotionality_1</th><th scope=col>SocialEmotionality_2</th><th scope=col>SocialEmotionality_3</th><th scope=col>SocialEmotionality_4</th><th scope=col>SocialEmotionality_5</th><th scope=col>SocialEmotionality_6</th><th scope=col>SocialEmotionality_7</th><th scope=col>SocialEmotionality_8</th><th scope=col>Empathy_1</th><th scope=col>Empathy_2</th><th scope=col>Empathy_3</th><th scope=col>Empathy_4</th><th scope=col>Empathy_5</th><th scope=col>Empathy_6</th><th scope=col>Empathy_7</th><th scope=col>Empathy_8</th><th scope=col>Empathy_9</th><th scope=col>Empathy_10</th><th scope=col>Empathy_11</th><th scope=col>Empathy_12</th><th scope=col>Empathy_13</th><th scope=col>Narcissism_1</th><th scope=col>Narcissism_2</th><th scope=col>⋯</th><th scope=col>TIPI_Extra</th><th scope=col>TIPI_Criti</th><th scope=col>TIPI_Depen</th><th scope=col>TIPI_Anx</th><th scope=col>TIPI_Open</th><th scope=col>TIPI_Reserv</th><th scope=col>TIPI_Symp</th><th scope=col>TIPI_Disorg</th><th scope=col>TIPI_EmoSta</th><th scope=col>TIPI_Conven</th><th scope=col>zeroSum_1</th><th scope=col>zeroSum_2</th><th scope=col>CloseFrds_Others_On</th><th scope=col>CloseFrds_Others_Off</th><th scope=col>empAmb_you</th><th scope=col>empAmb_dorm</th><th scope=col>empAmb_stanford</th><th scope=col>PoliIdeology_general</th><th scope=col>PoliIdeology_social</th><th scope=col>PoliIdeology_economic</th><th scope=col>PoliticalIssues_1</th><th scope=col>PoliticalIssues_1AveSta</th><th scope=col>PoliticalIssues_2</th><th scope=col>PoliticalIssues_2AveSta</th><th scope=col>LegitimizingMyths_1</th><th scope=col>LegitimizingMyths_2</th><th scope=col>LegitimizingMyths_3</th><th scope=col>LegitimizingMyths_4</th><th scope=col>LegitimizingMyths_5</th><th scope=col>LegitimizingMyths_6</th><th scope=col>ladderUS</th><th scope=col>ladderSU</th><th scope=col>Gender</th><th scope=col>Gender_3_TEXT</th><th scope=col>Race</th><th scope=col>Race_9_TEXT</th><th scope=col>Major</th><th scope=col>IntStu</th><th scope=col>FamilyIncome</th><th scope=col>ParEd1</th><th scope=col>ParEd2</th><th scope=col>DID</th><th scope=col>HID</th><th scope=col>NegativeWellBeing_2R</th><th scope=col>NeedToBelong_11R</th><th scope=col>LifeSatisfaction_7R</th><th scope=col>LayEmpathy_3R</th><th scope=col>LegitimizingMyths_2R</th><th scope=col>LegitimizingMyths_4R</th><th scope=col>LegitimizingMyths_6R</th></tr>\n",
       "\t<tr><th></th><th scope=col>&lt;int&gt;</th><th scope=col>&lt;int&gt;</th><th scope=col>&lt;int&gt;</th><th scope=col>&lt;int&gt;</th><th scope=col>&lt;dbl&gt;</th><th scope=col>&lt;dbl&gt;</th><th scope=col>&lt;int&gt;</th><th scope=col>&lt;int&gt;</th><th scope=col>&lt;int&gt;</th><th scope=col>&lt;fct&gt;</th><th scope=col>&lt;fct&gt;</th><th scope=col>&lt;fct&gt;</th><th scope=col>&lt;fct&gt;</th><th scope=col>&lt;fct&gt;</th><th scope=col>&lt;fct&gt;</th><th scope=col>&lt;fct&gt;</th><th scope=col>&lt;fct&gt;</th><th scope=col>&lt;int&gt;</th><th scope=col>&lt;int&gt;</th><th scope=col>&lt;int&gt;</th><th scope=col>&lt;int&gt;</th><th scope=col>&lt;int&gt;</th><th scope=col>&lt;int&gt;</th><th scope=col>&lt;int&gt;</th><th scope=col>&lt;int&gt;</th><th scope=col>&lt;int&gt;</th><th scope=col>&lt;int&gt;</th><th scope=col>&lt;int&gt;</th><th scope=col>&lt;int&gt;</th><th scope=col>&lt;int&gt;</th><th scope=col>&lt;int&gt;</th><th scope=col>&lt;int&gt;</th><th scope=col>&lt;int&gt;</th><th scope=col>&lt;int&gt;</th><th scope=col>&lt;int&gt;</th><th scope=col>&lt;int&gt;</th><th scope=col>&lt;int&gt;</th><th scope=col>&lt;int&gt;</th><th scope=col>&lt;int&gt;</th><th scope=col>&lt;int&gt;</th><th scope=col>&lt;int&gt;</th><th scope=col>&lt;int&gt;</th><th scope=col>&lt;int&gt;</th><th scope=col>&lt;int&gt;</th><th scope=col>&lt;int&gt;</th><th scope=col>&lt;int&gt;</th><th scope=col>&lt;int&gt;</th><th scope=col>&lt;int&gt;</th><th scope=col>&lt;int&gt;</th><th scope=col>&lt;int&gt;</th><th scope=col>⋯</th><th scope=col>&lt;int&gt;</th><th scope=col>&lt;int&gt;</th><th scope=col>&lt;int&gt;</th><th scope=col>&lt;int&gt;</th><th scope=col>&lt;int&gt;</th><th scope=col>&lt;int&gt;</th><th scope=col>&lt;int&gt;</th><th scope=col>&lt;int&gt;</th><th scope=col>&lt;int&gt;</th><th scope=col>&lt;int&gt;</th><th scope=col>&lt;int&gt;</th><th scope=col>&lt;int&gt;</th><th scope=col>&lt;int&gt;</th><th scope=col>&lt;int&gt;</th><th scope=col>&lt;int&gt;</th><th scope=col>&lt;int&gt;</th><th scope=col>&lt;int&gt;</th><th scope=col>&lt;int&gt;</th><th scope=col>&lt;int&gt;</th><th scope=col>&lt;int&gt;</th><th scope=col>&lt;int&gt;</th><th scope=col>&lt;int&gt;</th><th scope=col>&lt;int&gt;</th><th scope=col>&lt;int&gt;</th><th scope=col>&lt;int&gt;</th><th scope=col>&lt;int&gt;</th><th scope=col>&lt;int&gt;</th><th scope=col>&lt;int&gt;</th><th scope=col>&lt;int&gt;</th><th scope=col>&lt;int&gt;</th><th scope=col>&lt;int&gt;</th><th scope=col>&lt;int&gt;</th><th scope=col>&lt;fct&gt;</th><th scope=col>&lt;fct&gt;</th><th scope=col>&lt;fct&gt;</th><th scope=col>&lt;fct&gt;</th><th scope=col>&lt;fct&gt;</th><th scope=col>&lt;fct&gt;</th><th scope=col>&lt;fct&gt;</th><th scope=col>&lt;fct&gt;</th><th scope=col>&lt;fct&gt;</th><th scope=col>&lt;fct&gt;</th><th scope=col>&lt;fct&gt;</th><th scope=col>&lt;int&gt;</th><th scope=col>&lt;int&gt;</th><th scope=col>&lt;int&gt;</th><th scope=col>&lt;int&gt;</th><th scope=col>&lt;int&gt;</th><th scope=col>&lt;int&gt;</th><th scope=col>&lt;int&gt;</th></tr>\n",
       "</thead>\n",
       "<tbody>\n",
       "\t<tr><th scope=row>1</th><td>1</td><td>1001</td><td> 867</td><td>18</td><td>4</td><td>4</td><td>2</td><td>10</td><td>4</td><td>Mother,Sibling(s)                                 </td><td>NA</td><td>None                                                </td><td>NA                                            </td><td>NA                      </td><td>NA</td><td>NA</td><td>NA</td><td>5</td><td>7</td><td>3</td><td>3</td><td>3</td><td>5</td><td>6</td><td>5</td><td>3</td><td>5</td><td>4</td><td>4</td><td>6</td><td>4</td><td>4</td><td>4</td><td>5</td><td>4</td><td>7</td><td>7</td><td>7</td><td>7</td><td>7</td><td>7</td><td>6</td><td>6</td><td>6</td><td>7</td><td>6</td><td>7</td><td>7</td><td>5</td><td>5</td><td>⋯</td><td>6</td><td>1</td><td>7</td><td>2</td><td>7</td><td>3</td><td>5</td><td>4</td><td>7</td><td>5</td><td>1</td><td>1</td><td> 3</td><td> 4</td><td>6</td><td>5</td><td>6</td><td>4</td><td>4</td><td>4</td><td>3</td><td>7</td><td>7</td><td>7</td><td>5</td><td>5</td><td>5</td><td>5</td><td>5</td><td>5</td><td>9</td><td>6</td><td>Male  </td><td>NA</td><td>East Asian               </td><td>NA</td><td>Computer Science      </td><td>No </td><td>$60,001-$80,000  </td><td>Completed a Master's degree or equivalent                     </td><td>Graduated from a four-year college                            </td><td>30</td><td>5</td><td>1</td><td>1</td><td>3</td><td>1</td><td>3</td><td>3</td><td>3</td></tr>\n",
       "\t<tr><th scope=row>2</th><td>2</td><td>1004</td><td>1360</td><td>18</td><td>2</td><td>6</td><td>2</td><td> 8</td><td>4</td><td>Sibling(s)                                        </td><td>NA</td><td>The Stanford Daily                                  </td><td>FLIP: First-Generation, Low-Income Partnership</td><td>NA                      </td><td>NA</td><td>NA</td><td>NA</td><td>6</td><td>3</td><td>5</td><td>5</td><td>5</td><td>5</td><td>5</td><td>5</td><td>4</td><td>6</td><td>2</td><td>2</td><td>3</td><td>3</td><td>2</td><td>3</td><td>2</td><td>2</td><td>6</td><td>6</td><td>6</td><td>6</td><td>6</td><td>6</td><td>6</td><td>6</td><td>6</td><td>6</td><td>6</td><td>6</td><td>6</td><td>4</td><td>4</td><td>⋯</td><td>3</td><td>2</td><td>4</td><td>3</td><td>6</td><td>5</td><td>6</td><td>4</td><td>4</td><td>3</td><td>2</td><td>2</td><td> 3</td><td> 4</td><td>6</td><td>4</td><td>4</td><td>2</td><td>2</td><td>2</td><td>7</td><td>5</td><td>7</td><td>6</td><td>1</td><td>7</td><td>2</td><td>6</td><td>1</td><td>7</td><td>2</td><td>1</td><td>Female</td><td>NA</td><td>South Asian              </td><td>NA</td><td>undecided             </td><td>Yes</td><td>$0-$20,000       </td><td>Did not finish high school                                    </td><td>Did not finish high school                                    </td><td>35</td><td>4</td><td>5</td><td>5</td><td>3</td><td>2</td><td>1</td><td>2</td><td>1</td></tr>\n",
       "\t<tr><th scope=row>3</th><td>3</td><td>1006</td><td>1251</td><td>19</td><td>4</td><td>5</td><td>1</td><td> 7</td><td>5</td><td>Mother                                            </td><td>NA</td><td>Stanford Video Game Association                     </td><td>None                                          </td><td>None                    </td><td>NA</td><td>NA</td><td>NA</td><td>4</td><td>6</td><td>5</td><td>6</td><td>5</td><td>5</td><td>6</td><td>7</td><td>6</td><td>7</td><td>7</td><td>7</td><td>5</td><td>7</td><td>5</td><td>7</td><td>6</td><td>5</td><td>6</td><td>7</td><td>7</td><td>6</td><td>6</td><td>6</td><td>7</td><td>6</td><td>6</td><td>6</td><td>5</td><td>7</td><td>6</td><td>2</td><td>3</td><td>⋯</td><td>6</td><td>5</td><td>4</td><td>5</td><td>3</td><td>5</td><td>7</td><td>5</td><td>3</td><td>4</td><td>2</td><td>1</td><td> 8</td><td>10</td><td>6</td><td>4</td><td>4</td><td>3</td><td>2</td><td>2</td><td>6</td><td>6</td><td>6</td><td>5</td><td>2</td><td>6</td><td>3</td><td>6</td><td>2</td><td>6</td><td>6</td><td>4</td><td>Female</td><td>NA</td><td>East Asian               </td><td>NA</td><td>art practice          </td><td>No </td><td>$80,001-$100,000 </td><td>Completed a Ph.D., M.D., or other advanced professional degree</td><td>Completed a Ph.D., M.D., or other advanced professional degree</td><td>21</td><td>2</td><td>2</td><td>6</td><td>6</td><td>3</td><td>2</td><td>2</td><td>2</td></tr>\n",
       "\t<tr><th scope=row>4</th><td>4</td><td>1014</td><td> 667</td><td>18</td><td>2</td><td>4</td><td>3</td><td> 5</td><td>3</td><td>Mother,Father,Sibling(s)                          </td><td>NA</td><td>The Stanford Daily                                  </td><td>NA                                            </td><td>NA                      </td><td>NA</td><td>NA</td><td>NA</td><td>2</td><td>4</td><td>4</td><td>5</td><td>3</td><td>4</td><td>5</td><td>5</td><td>3</td><td>5</td><td>6</td><td>6</td><td>6</td><td>6</td><td>6</td><td>6</td><td>6</td><td>5</td><td>7</td><td>6</td><td>6</td><td>6</td><td>7</td><td>7</td><td>6</td><td>7</td><td>6</td><td>6</td><td>6</td><td>6</td><td>6</td><td>3</td><td>2</td><td>⋯</td><td>2</td><td>3</td><td>4</td><td>6</td><td>4</td><td>6</td><td>5</td><td>6</td><td>3</td><td>2</td><td>2</td><td>1</td><td> 5</td><td> 5</td><td>6</td><td>5</td><td>5</td><td>2</td><td>2</td><td>4</td><td>6</td><td>6</td><td>5</td><td>6</td><td>1</td><td>7</td><td>3</td><td>6</td><td>1</td><td>5</td><td>3</td><td>2</td><td>Female</td><td>NA</td><td>East Asian               </td><td>NA</td><td>English               </td><td>No </td><td>$20,001-$40,000  </td><td>Did not finish high school                                    </td><td>Did not finish high school                                    </td><td>70</td><td>5</td><td>4</td><td>5</td><td>6</td><td>4</td><td>1</td><td>2</td><td>3</td></tr>\n",
       "\t<tr><th scope=row>5</th><td>5</td><td>1017</td><td>1991</td><td>24</td><td>3</td><td>5</td><td>2</td><td> 2</td><td>0</td><td>NA                                                </td><td>NA</td><td>None                                                </td><td>NA                                            </td><td>NA                      </td><td>NA</td><td>NA</td><td>NA</td><td>7</td><td>1</td><td>7</td><td>7</td><td>7</td><td>7</td><td>7</td><td>7</td><td>7</td><td>7</td><td>1</td><td>1</td><td>1</td><td>1</td><td>1</td><td>2</td><td>1</td><td>1</td><td>7</td><td>5</td><td>7</td><td>4</td><td>7</td><td>5</td><td>7</td><td>7</td><td>5</td><td>7</td><td>7</td><td>5</td><td>5</td><td>4</td><td>2</td><td>⋯</td><td>1</td><td>1</td><td>1</td><td>7</td><td>2</td><td>5</td><td>4</td><td>7</td><td>1</td><td>5</td><td>5</td><td>1</td><td>10</td><td> 5</td><td>5</td><td>2</td><td>2</td><td>3</td><td>2</td><td>3</td><td>7</td><td>5</td><td>7</td><td>5</td><td>2</td><td>7</td><td>5</td><td>7</td><td>1</td><td>7</td><td>6</td><td>4</td><td>Male  </td><td>NA</td><td>Black or African American</td><td>NA</td><td>Electrical Engineering</td><td>No </td><td>$100,001-$120,000</td><td>Completed a Ph.D., M.D., or other advanced professional degree</td><td>Graduated from a four-year college                            </td><td>73</td><td>1</td><td>7</td><td>6</td><td>1</td><td>1</td><td>1</td><td>1</td><td>1</td></tr>\n",
       "\t<tr><th scope=row>6</th><td>6</td><td>1047</td><td> 876</td><td>18</td><td>5</td><td>0</td><td>5</td><td>10</td><td>4</td><td>Mother,Father,Sibling(s),Grandparent(s),Aunt/Uncle</td><td>NA</td><td>Stanford Social Entrepreneurial Students Association</td><td>Stanford Women in Business                    </td><td>Stanford Pre-Law Society</td><td>NA</td><td>NA</td><td>NA</td><td>1</td><td>4</td><td>5</td><td>5</td><td>4</td><td>5</td><td>7</td><td>7</td><td>2</td><td>2</td><td>7</td><td>7</td><td>6</td><td>5</td><td>7</td><td>7</td><td>6</td><td>5</td><td>7</td><td>7</td><td>7</td><td>7</td><td>7</td><td>7</td><td>7</td><td>7</td><td>7</td><td>7</td><td>7</td><td>7</td><td>6</td><td>6</td><td>4</td><td>⋯</td><td>6</td><td>2</td><td>7</td><td>5</td><td>6</td><td>5</td><td>6</td><td>2</td><td>5</td><td>3</td><td>1</td><td>1</td><td> 5</td><td>10</td><td>7</td><td>4</td><td>5</td><td>2</td><td>2</td><td>4</td><td>6</td><td>5</td><td>7</td><td>6</td><td>5</td><td>7</td><td>1</td><td>7</td><td>1</td><td>7</td><td>6</td><td>6</td><td>Female</td><td>NA</td><td>Middle Eastern           </td><td>NA</td><td>Undecided             </td><td>No </td><td>Over $200,000    </td><td>Completed a Master's degree or equivalent                     </td><td>Completed a Master's degree or equivalent                     </td><td>76</td><td>4</td><td>4</td><td>5</td><td>4</td><td>4</td><td>1</td><td>1</td><td>1</td></tr>\n",
       "</tbody>\n",
       "</table>\n"
      ],
      "text/latex": [
       "A data.frame: 6 × 145\n",
       "\\begin{tabular}{r|lllllllllllllllllllllllllllllllllllllllllllllllllllllllllllllllllllllllllllllllllllllllllllllllllllll}\n",
       "  & X & PID & Duration..in.seconds. & Age & meaningRelationships\\_1 & meaningRelationships\\_2 & meaningRelationships\\_3 & CloseFrds\\_OffCampus & NegEmoSupp\\_OffCampus & NegEmoSupp\\_Family & NegEmoSupp\\_Family\\_7\\_TEXT & StudentGroups\\_1 & StudentGroups\\_2 & StudentGroups\\_3 & GroupsOther\\_4 & GroupsOther\\_5 & GroupsOther\\_6 & NegativeWellBeing\\_1 & NegativeWellBeing\\_2 & NegativeWellBeing\\_3 & NegativeWellBeing\\_4 & NegativeWellBeing\\_5 & NegativeWellBeing\\_6 & NegativeWellBeing\\_7 & NegativeWellBeing\\_8 & NegativeWellBeing\\_9 & NegativeWellBeing\\_10 & SocialEmotionality\\_1 & SocialEmotionality\\_2 & SocialEmotionality\\_3 & SocialEmotionality\\_4 & SocialEmotionality\\_5 & SocialEmotionality\\_6 & SocialEmotionality\\_7 & SocialEmotionality\\_8 & Empathy\\_1 & Empathy\\_2 & Empathy\\_3 & Empathy\\_4 & Empathy\\_5 & Empathy\\_6 & Empathy\\_7 & Empathy\\_8 & Empathy\\_9 & Empathy\\_10 & Empathy\\_11 & Empathy\\_12 & Empathy\\_13 & Narcissism\\_1 & Narcissism\\_2 & ⋯ & TIPI\\_Extra & TIPI\\_Criti & TIPI\\_Depen & TIPI\\_Anx & TIPI\\_Open & TIPI\\_Reserv & TIPI\\_Symp & TIPI\\_Disorg & TIPI\\_EmoSta & TIPI\\_Conven & zeroSum\\_1 & zeroSum\\_2 & CloseFrds\\_Others\\_On & CloseFrds\\_Others\\_Off & empAmb\\_you & empAmb\\_dorm & empAmb\\_stanford & PoliIdeology\\_general & PoliIdeology\\_social & PoliIdeology\\_economic & PoliticalIssues\\_1 & PoliticalIssues\\_1AveSta & PoliticalIssues\\_2 & PoliticalIssues\\_2AveSta & LegitimizingMyths\\_1 & LegitimizingMyths\\_2 & LegitimizingMyths\\_3 & LegitimizingMyths\\_4 & LegitimizingMyths\\_5 & LegitimizingMyths\\_6 & ladderUS & ladderSU & Gender & Gender\\_3\\_TEXT & Race & Race\\_9\\_TEXT & Major & IntStu & FamilyIncome & ParEd1 & ParEd2 & DID & HID & NegativeWellBeing\\_2R & NeedToBelong\\_11R & LifeSatisfaction\\_7R & LayEmpathy\\_3R & LegitimizingMyths\\_2R & LegitimizingMyths\\_4R & LegitimizingMyths\\_6R\\\\\n",
       "  & <int> & <int> & <int> & <int> & <dbl> & <dbl> & <int> & <int> & <int> & <fct> & <fct> & <fct> & <fct> & <fct> & <fct> & <fct> & <fct> & <int> & <int> & <int> & <int> & <int> & <int> & <int> & <int> & <int> & <int> & <int> & <int> & <int> & <int> & <int> & <int> & <int> & <int> & <int> & <int> & <int> & <int> & <int> & <int> & <int> & <int> & <int> & <int> & <int> & <int> & <int> & <int> & <int> & ⋯ & <int> & <int> & <int> & <int> & <int> & <int> & <int> & <int> & <int> & <int> & <int> & <int> & <int> & <int> & <int> & <int> & <int> & <int> & <int> & <int> & <int> & <int> & <int> & <int> & <int> & <int> & <int> & <int> & <int> & <int> & <int> & <int> & <fct> & <fct> & <fct> & <fct> & <fct> & <fct> & <fct> & <fct> & <fct> & <fct> & <fct> & <int> & <int> & <int> & <int> & <int> & <int> & <int>\\\\\n",
       "\\hline\n",
       "\t1 & 1 & 1001 &  867 & 18 & 4 & 4 & 2 & 10 & 4 & Mother,Sibling(s)                                  & NA & None                                                 & NA                                             & NA                       & NA & NA & NA & 5 & 7 & 3 & 3 & 3 & 5 & 6 & 5 & 3 & 5 & 4 & 4 & 6 & 4 & 4 & 4 & 5 & 4 & 7 & 7 & 7 & 7 & 7 & 7 & 6 & 6 & 6 & 7 & 6 & 7 & 7 & 5 & 5 & ⋯ & 6 & 1 & 7 & 2 & 7 & 3 & 5 & 4 & 7 & 5 & 1 & 1 &  3 &  4 & 6 & 5 & 6 & 4 & 4 & 4 & 3 & 7 & 7 & 7 & 5 & 5 & 5 & 5 & 5 & 5 & 9 & 6 & Male   & NA & East Asian                & NA & Computer Science       & No  & \\$60,001-\\$80,000   & Completed a Master's degree or equivalent                      & Graduated from a four-year college                             & 30 & 5 & 1 & 1 & 3 & 1 & 3 & 3 & 3\\\\\n",
       "\t2 & 2 & 1004 & 1360 & 18 & 2 & 6 & 2 &  8 & 4 & Sibling(s)                                         & NA & The Stanford Daily                                   & FLIP: First-Generation, Low-Income Partnership & NA                       & NA & NA & NA & 6 & 3 & 5 & 5 & 5 & 5 & 5 & 5 & 4 & 6 & 2 & 2 & 3 & 3 & 2 & 3 & 2 & 2 & 6 & 6 & 6 & 6 & 6 & 6 & 6 & 6 & 6 & 6 & 6 & 6 & 6 & 4 & 4 & ⋯ & 3 & 2 & 4 & 3 & 6 & 5 & 6 & 4 & 4 & 3 & 2 & 2 &  3 &  4 & 6 & 4 & 4 & 2 & 2 & 2 & 7 & 5 & 7 & 6 & 1 & 7 & 2 & 6 & 1 & 7 & 2 & 1 & Female & NA & South Asian               & NA & undecided              & Yes & \\$0-\\$20,000        & Did not finish high school                                     & Did not finish high school                                     & 35 & 4 & 5 & 5 & 3 & 2 & 1 & 2 & 1\\\\\n",
       "\t3 & 3 & 1006 & 1251 & 19 & 4 & 5 & 1 &  7 & 5 & Mother                                             & NA & Stanford Video Game Association                      & None                                           & None                     & NA & NA & NA & 4 & 6 & 5 & 6 & 5 & 5 & 6 & 7 & 6 & 7 & 7 & 7 & 5 & 7 & 5 & 7 & 6 & 5 & 6 & 7 & 7 & 6 & 6 & 6 & 7 & 6 & 6 & 6 & 5 & 7 & 6 & 2 & 3 & ⋯ & 6 & 5 & 4 & 5 & 3 & 5 & 7 & 5 & 3 & 4 & 2 & 1 &  8 & 10 & 6 & 4 & 4 & 3 & 2 & 2 & 6 & 6 & 6 & 5 & 2 & 6 & 3 & 6 & 2 & 6 & 6 & 4 & Female & NA & East Asian                & NA & art practice           & No  & \\$80,001-\\$100,000  & Completed a Ph.D., M.D., or other advanced professional degree & Completed a Ph.D., M.D., or other advanced professional degree & 21 & 2 & 2 & 6 & 6 & 3 & 2 & 2 & 2\\\\\n",
       "\t4 & 4 & 1014 &  667 & 18 & 2 & 4 & 3 &  5 & 3 & Mother,Father,Sibling(s)                           & NA & The Stanford Daily                                   & NA                                             & NA                       & NA & NA & NA & 2 & 4 & 4 & 5 & 3 & 4 & 5 & 5 & 3 & 5 & 6 & 6 & 6 & 6 & 6 & 6 & 6 & 5 & 7 & 6 & 6 & 6 & 7 & 7 & 6 & 7 & 6 & 6 & 6 & 6 & 6 & 3 & 2 & ⋯ & 2 & 3 & 4 & 6 & 4 & 6 & 5 & 6 & 3 & 2 & 2 & 1 &  5 &  5 & 6 & 5 & 5 & 2 & 2 & 4 & 6 & 6 & 5 & 6 & 1 & 7 & 3 & 6 & 1 & 5 & 3 & 2 & Female & NA & East Asian                & NA & English                & No  & \\$20,001-\\$40,000   & Did not finish high school                                     & Did not finish high school                                     & 70 & 5 & 4 & 5 & 6 & 4 & 1 & 2 & 3\\\\\n",
       "\t5 & 5 & 1017 & 1991 & 24 & 3 & 5 & 2 &  2 & 0 & NA                                                 & NA & None                                                 & NA                                             & NA                       & NA & NA & NA & 7 & 1 & 7 & 7 & 7 & 7 & 7 & 7 & 7 & 7 & 1 & 1 & 1 & 1 & 1 & 2 & 1 & 1 & 7 & 5 & 7 & 4 & 7 & 5 & 7 & 7 & 5 & 7 & 7 & 5 & 5 & 4 & 2 & ⋯ & 1 & 1 & 1 & 7 & 2 & 5 & 4 & 7 & 1 & 5 & 5 & 1 & 10 &  5 & 5 & 2 & 2 & 3 & 2 & 3 & 7 & 5 & 7 & 5 & 2 & 7 & 5 & 7 & 1 & 7 & 6 & 4 & Male   & NA & Black or African American & NA & Electrical Engineering & No  & \\$100,001-\\$120,000 & Completed a Ph.D., M.D., or other advanced professional degree & Graduated from a four-year college                             & 73 & 1 & 7 & 6 & 1 & 1 & 1 & 1 & 1\\\\\n",
       "\t6 & 6 & 1047 &  876 & 18 & 5 & 0 & 5 & 10 & 4 & Mother,Father,Sibling(s),Grandparent(s),Aunt/Uncle & NA & Stanford Social Entrepreneurial Students Association & Stanford Women in Business                     & Stanford Pre-Law Society & NA & NA & NA & 1 & 4 & 5 & 5 & 4 & 5 & 7 & 7 & 2 & 2 & 7 & 7 & 6 & 5 & 7 & 7 & 6 & 5 & 7 & 7 & 7 & 7 & 7 & 7 & 7 & 7 & 7 & 7 & 7 & 7 & 6 & 6 & 4 & ⋯ & 6 & 2 & 7 & 5 & 6 & 5 & 6 & 2 & 5 & 3 & 1 & 1 &  5 & 10 & 7 & 4 & 5 & 2 & 2 & 4 & 6 & 5 & 7 & 6 & 5 & 7 & 1 & 7 & 1 & 7 & 6 & 6 & Female & NA & Middle Eastern            & NA & Undecided              & No  & Over \\$200,000     & Completed a Master's degree or equivalent                      & Completed a Master's degree or equivalent                      & 76 & 4 & 4 & 5 & 4 & 4 & 1 & 1 & 1\\\\\n",
       "\\end{tabular}\n"
      ],
      "text/markdown": [
       "\n",
       "A data.frame: 6 × 145\n",
       "\n",
       "| <!--/--> | X &lt;int&gt; | PID &lt;int&gt; | Duration..in.seconds. &lt;int&gt; | Age &lt;int&gt; | meaningRelationships_1 &lt;dbl&gt; | meaningRelationships_2 &lt;dbl&gt; | meaningRelationships_3 &lt;int&gt; | CloseFrds_OffCampus &lt;int&gt; | NegEmoSupp_OffCampus &lt;int&gt; | NegEmoSupp_Family &lt;fct&gt; | NegEmoSupp_Family_7_TEXT &lt;fct&gt; | StudentGroups_1 &lt;fct&gt; | StudentGroups_2 &lt;fct&gt; | StudentGroups_3 &lt;fct&gt; | GroupsOther_4 &lt;fct&gt; | GroupsOther_5 &lt;fct&gt; | GroupsOther_6 &lt;fct&gt; | NegativeWellBeing_1 &lt;int&gt; | NegativeWellBeing_2 &lt;int&gt; | NegativeWellBeing_3 &lt;int&gt; | NegativeWellBeing_4 &lt;int&gt; | NegativeWellBeing_5 &lt;int&gt; | NegativeWellBeing_6 &lt;int&gt; | NegativeWellBeing_7 &lt;int&gt; | NegativeWellBeing_8 &lt;int&gt; | NegativeWellBeing_9 &lt;int&gt; | NegativeWellBeing_10 &lt;int&gt; | SocialEmotionality_1 &lt;int&gt; | SocialEmotionality_2 &lt;int&gt; | SocialEmotionality_3 &lt;int&gt; | SocialEmotionality_4 &lt;int&gt; | SocialEmotionality_5 &lt;int&gt; | SocialEmotionality_6 &lt;int&gt; | SocialEmotionality_7 &lt;int&gt; | SocialEmotionality_8 &lt;int&gt; | Empathy_1 &lt;int&gt; | Empathy_2 &lt;int&gt; | Empathy_3 &lt;int&gt; | Empathy_4 &lt;int&gt; | Empathy_5 &lt;int&gt; | Empathy_6 &lt;int&gt; | Empathy_7 &lt;int&gt; | Empathy_8 &lt;int&gt; | Empathy_9 &lt;int&gt; | Empathy_10 &lt;int&gt; | Empathy_11 &lt;int&gt; | Empathy_12 &lt;int&gt; | Empathy_13 &lt;int&gt; | Narcissism_1 &lt;int&gt; | Narcissism_2 &lt;int&gt; | ⋯ ⋯ | TIPI_Extra &lt;int&gt; | TIPI_Criti &lt;int&gt; | TIPI_Depen &lt;int&gt; | TIPI_Anx &lt;int&gt; | TIPI_Open &lt;int&gt; | TIPI_Reserv &lt;int&gt; | TIPI_Symp &lt;int&gt; | TIPI_Disorg &lt;int&gt; | TIPI_EmoSta &lt;int&gt; | TIPI_Conven &lt;int&gt; | zeroSum_1 &lt;int&gt; | zeroSum_2 &lt;int&gt; | CloseFrds_Others_On &lt;int&gt; | CloseFrds_Others_Off &lt;int&gt; | empAmb_you &lt;int&gt; | empAmb_dorm &lt;int&gt; | empAmb_stanford &lt;int&gt; | PoliIdeology_general &lt;int&gt; | PoliIdeology_social &lt;int&gt; | PoliIdeology_economic &lt;int&gt; | PoliticalIssues_1 &lt;int&gt; | PoliticalIssues_1AveSta &lt;int&gt; | PoliticalIssues_2 &lt;int&gt; | PoliticalIssues_2AveSta &lt;int&gt; | LegitimizingMyths_1 &lt;int&gt; | LegitimizingMyths_2 &lt;int&gt; | LegitimizingMyths_3 &lt;int&gt; | LegitimizingMyths_4 &lt;int&gt; | LegitimizingMyths_5 &lt;int&gt; | LegitimizingMyths_6 &lt;int&gt; | ladderUS &lt;int&gt; | ladderSU &lt;int&gt; | Gender &lt;fct&gt; | Gender_3_TEXT &lt;fct&gt; | Race &lt;fct&gt; | Race_9_TEXT &lt;fct&gt; | Major &lt;fct&gt; | IntStu &lt;fct&gt; | FamilyIncome &lt;fct&gt; | ParEd1 &lt;fct&gt; | ParEd2 &lt;fct&gt; | DID &lt;fct&gt; | HID &lt;fct&gt; | NegativeWellBeing_2R &lt;int&gt; | NeedToBelong_11R &lt;int&gt; | LifeSatisfaction_7R &lt;int&gt; | LayEmpathy_3R &lt;int&gt; | LegitimizingMyths_2R &lt;int&gt; | LegitimizingMyths_4R &lt;int&gt; | LegitimizingMyths_6R &lt;int&gt; |\n",
       "|---|---|---|---|---|---|---|---|---|---|---|---|---|---|---|---|---|---|---|---|---|---|---|---|---|---|---|---|---|---|---|---|---|---|---|---|---|---|---|---|---|---|---|---|---|---|---|---|---|---|---|---|---|---|---|---|---|---|---|---|---|---|---|---|---|---|---|---|---|---|---|---|---|---|---|---|---|---|---|---|---|---|---|---|---|---|---|---|---|---|---|---|---|---|---|---|---|---|---|---|---|---|\n",
       "| 1 | 1 | 1001 |  867 | 18 | 4 | 4 | 2 | 10 | 4 | Mother,Sibling(s)                                  | NA | None                                                 | NA                                             | NA                       | NA | NA | NA | 5 | 7 | 3 | 3 | 3 | 5 | 6 | 5 | 3 | 5 | 4 | 4 | 6 | 4 | 4 | 4 | 5 | 4 | 7 | 7 | 7 | 7 | 7 | 7 | 6 | 6 | 6 | 7 | 6 | 7 | 7 | 5 | 5 | ⋯ | 6 | 1 | 7 | 2 | 7 | 3 | 5 | 4 | 7 | 5 | 1 | 1 |  3 |  4 | 6 | 5 | 6 | 4 | 4 | 4 | 3 | 7 | 7 | 7 | 5 | 5 | 5 | 5 | 5 | 5 | 9 | 6 | Male   | NA | East Asian                | NA | Computer Science       | No  | $60,001-$80,000   | Completed a Master's degree or equivalent                      | Graduated from a four-year college                             | 30 | 5 | 1 | 1 | 3 | 1 | 3 | 3 | 3 |\n",
       "| 2 | 2 | 1004 | 1360 | 18 | 2 | 6 | 2 |  8 | 4 | Sibling(s)                                         | NA | The Stanford Daily                                   | FLIP: First-Generation, Low-Income Partnership | NA                       | NA | NA | NA | 6 | 3 | 5 | 5 | 5 | 5 | 5 | 5 | 4 | 6 | 2 | 2 | 3 | 3 | 2 | 3 | 2 | 2 | 6 | 6 | 6 | 6 | 6 | 6 | 6 | 6 | 6 | 6 | 6 | 6 | 6 | 4 | 4 | ⋯ | 3 | 2 | 4 | 3 | 6 | 5 | 6 | 4 | 4 | 3 | 2 | 2 |  3 |  4 | 6 | 4 | 4 | 2 | 2 | 2 | 7 | 5 | 7 | 6 | 1 | 7 | 2 | 6 | 1 | 7 | 2 | 1 | Female | NA | South Asian               | NA | undecided              | Yes | $0-$20,000        | Did not finish high school                                     | Did not finish high school                                     | 35 | 4 | 5 | 5 | 3 | 2 | 1 | 2 | 1 |\n",
       "| 3 | 3 | 1006 | 1251 | 19 | 4 | 5 | 1 |  7 | 5 | Mother                                             | NA | Stanford Video Game Association                      | None                                           | None                     | NA | NA | NA | 4 | 6 | 5 | 6 | 5 | 5 | 6 | 7 | 6 | 7 | 7 | 7 | 5 | 7 | 5 | 7 | 6 | 5 | 6 | 7 | 7 | 6 | 6 | 6 | 7 | 6 | 6 | 6 | 5 | 7 | 6 | 2 | 3 | ⋯ | 6 | 5 | 4 | 5 | 3 | 5 | 7 | 5 | 3 | 4 | 2 | 1 |  8 | 10 | 6 | 4 | 4 | 3 | 2 | 2 | 6 | 6 | 6 | 5 | 2 | 6 | 3 | 6 | 2 | 6 | 6 | 4 | Female | NA | East Asian                | NA | art practice           | No  | $80,001-$100,000  | Completed a Ph.D., M.D., or other advanced professional degree | Completed a Ph.D., M.D., or other advanced professional degree | 21 | 2 | 2 | 6 | 6 | 3 | 2 | 2 | 2 |\n",
       "| 4 | 4 | 1014 |  667 | 18 | 2 | 4 | 3 |  5 | 3 | Mother,Father,Sibling(s)                           | NA | The Stanford Daily                                   | NA                                             | NA                       | NA | NA | NA | 2 | 4 | 4 | 5 | 3 | 4 | 5 | 5 | 3 | 5 | 6 | 6 | 6 | 6 | 6 | 6 | 6 | 5 | 7 | 6 | 6 | 6 | 7 | 7 | 6 | 7 | 6 | 6 | 6 | 6 | 6 | 3 | 2 | ⋯ | 2 | 3 | 4 | 6 | 4 | 6 | 5 | 6 | 3 | 2 | 2 | 1 |  5 |  5 | 6 | 5 | 5 | 2 | 2 | 4 | 6 | 6 | 5 | 6 | 1 | 7 | 3 | 6 | 1 | 5 | 3 | 2 | Female | NA | East Asian                | NA | English                | No  | $20,001-$40,000   | Did not finish high school                                     | Did not finish high school                                     | 70 | 5 | 4 | 5 | 6 | 4 | 1 | 2 | 3 |\n",
       "| 5 | 5 | 1017 | 1991 | 24 | 3 | 5 | 2 |  2 | 0 | NA                                                 | NA | None                                                 | NA                                             | NA                       | NA | NA | NA | 7 | 1 | 7 | 7 | 7 | 7 | 7 | 7 | 7 | 7 | 1 | 1 | 1 | 1 | 1 | 2 | 1 | 1 | 7 | 5 | 7 | 4 | 7 | 5 | 7 | 7 | 5 | 7 | 7 | 5 | 5 | 4 | 2 | ⋯ | 1 | 1 | 1 | 7 | 2 | 5 | 4 | 7 | 1 | 5 | 5 | 1 | 10 |  5 | 5 | 2 | 2 | 3 | 2 | 3 | 7 | 5 | 7 | 5 | 2 | 7 | 5 | 7 | 1 | 7 | 6 | 4 | Male   | NA | Black or African American | NA | Electrical Engineering | No  | $100,001-$120,000 | Completed a Ph.D., M.D., or other advanced professional degree | Graduated from a four-year college                             | 73 | 1 | 7 | 6 | 1 | 1 | 1 | 1 | 1 |\n",
       "| 6 | 6 | 1047 |  876 | 18 | 5 | 0 | 5 | 10 | 4 | Mother,Father,Sibling(s),Grandparent(s),Aunt/Uncle | NA | Stanford Social Entrepreneurial Students Association | Stanford Women in Business                     | Stanford Pre-Law Society | NA | NA | NA | 1 | 4 | 5 | 5 | 4 | 5 | 7 | 7 | 2 | 2 | 7 | 7 | 6 | 5 | 7 | 7 | 6 | 5 | 7 | 7 | 7 | 7 | 7 | 7 | 7 | 7 | 7 | 7 | 7 | 7 | 6 | 6 | 4 | ⋯ | 6 | 2 | 7 | 5 | 6 | 5 | 6 | 2 | 5 | 3 | 1 | 1 |  5 | 10 | 7 | 4 | 5 | 2 | 2 | 4 | 6 | 5 | 7 | 6 | 5 | 7 | 1 | 7 | 1 | 7 | 6 | 6 | Female | NA | Middle Eastern            | NA | Undecided              | No  | Over $200,000     | Completed a Master's degree or equivalent                      | Completed a Master's degree or equivalent                      | 76 | 4 | 4 | 5 | 4 | 4 | 1 | 1 | 1 |\n",
       "\n"
      ],
      "text/plain": [
       "  X PID  Duration..in.seconds. Age meaningRelationships_1\n",
       "1 1 1001  867                  18  4                     \n",
       "2 2 1004 1360                  18  2                     \n",
       "3 3 1006 1251                  19  4                     \n",
       "4 4 1014  667                  18  2                     \n",
       "5 5 1017 1991                  24  3                     \n",
       "6 6 1047  876                  18  5                     \n",
       "  meaningRelationships_2 meaningRelationships_3 CloseFrds_OffCampus\n",
       "1 4                      2                      10                 \n",
       "2 6                      2                       8                 \n",
       "3 5                      1                       7                 \n",
       "4 4                      3                       5                 \n",
       "5 5                      2                       2                 \n",
       "6 0                      5                      10                 \n",
       "  NegEmoSupp_OffCampus NegEmoSupp_Family                                 \n",
       "1 4                    Mother,Sibling(s)                                 \n",
       "2 4                    Sibling(s)                                        \n",
       "3 5                    Mother                                            \n",
       "4 3                    Mother,Father,Sibling(s)                          \n",
       "5 0                    NA                                                \n",
       "6 4                    Mother,Father,Sibling(s),Grandparent(s),Aunt/Uncle\n",
       "  NegEmoSupp_Family_7_TEXT StudentGroups_1                                     \n",
       "1 NA                       None                                                \n",
       "2 NA                       The Stanford Daily                                  \n",
       "3 NA                       Stanford Video Game Association                     \n",
       "4 NA                       The Stanford Daily                                  \n",
       "5 NA                       None                                                \n",
       "6 NA                       Stanford Social Entrepreneurial Students Association\n",
       "  StudentGroups_2                                StudentGroups_3         \n",
       "1 NA                                             NA                      \n",
       "2 FLIP: First-Generation, Low-Income Partnership NA                      \n",
       "3 None                                           None                    \n",
       "4 NA                                             NA                      \n",
       "5 NA                                             NA                      \n",
       "6 Stanford Women in Business                     Stanford Pre-Law Society\n",
       "  GroupsOther_4 GroupsOther_5 GroupsOther_6 NegativeWellBeing_1\n",
       "1 NA            NA            NA            5                  \n",
       "2 NA            NA            NA            6                  \n",
       "3 NA            NA            NA            4                  \n",
       "4 NA            NA            NA            2                  \n",
       "5 NA            NA            NA            7                  \n",
       "6 NA            NA            NA            1                  \n",
       "  NegativeWellBeing_2 NegativeWellBeing_3 NegativeWellBeing_4\n",
       "1 7                   3                   3                  \n",
       "2 3                   5                   5                  \n",
       "3 6                   5                   6                  \n",
       "4 4                   4                   5                  \n",
       "5 1                   7                   7                  \n",
       "6 4                   5                   5                  \n",
       "  NegativeWellBeing_5 NegativeWellBeing_6 NegativeWellBeing_7\n",
       "1 3                   5                   6                  \n",
       "2 5                   5                   5                  \n",
       "3 5                   5                   6                  \n",
       "4 3                   4                   5                  \n",
       "5 7                   7                   7                  \n",
       "6 4                   5                   7                  \n",
       "  NegativeWellBeing_8 NegativeWellBeing_9 NegativeWellBeing_10\n",
       "1 5                   3                   5                   \n",
       "2 5                   4                   6                   \n",
       "3 7                   6                   7                   \n",
       "4 5                   3                   5                   \n",
       "5 7                   7                   7                   \n",
       "6 7                   2                   2                   \n",
       "  SocialEmotionality_1 SocialEmotionality_2 SocialEmotionality_3\n",
       "1 4                    4                    6                   \n",
       "2 2                    2                    3                   \n",
       "3 7                    7                    5                   \n",
       "4 6                    6                    6                   \n",
       "5 1                    1                    1                   \n",
       "6 7                    7                    6                   \n",
       "  SocialEmotionality_4 SocialEmotionality_5 SocialEmotionality_6\n",
       "1 4                    4                    4                   \n",
       "2 3                    2                    3                   \n",
       "3 7                    5                    7                   \n",
       "4 6                    6                    6                   \n",
       "5 1                    1                    2                   \n",
       "6 5                    7                    7                   \n",
       "  SocialEmotionality_7 SocialEmotionality_8 Empathy_1 Empathy_2 Empathy_3\n",
       "1 5                    4                    7         7         7        \n",
       "2 2                    2                    6         6         6        \n",
       "3 6                    5                    6         7         7        \n",
       "4 6                    5                    7         6         6        \n",
       "5 1                    1                    7         5         7        \n",
       "6 6                    5                    7         7         7        \n",
       "  Empathy_4 Empathy_5 Empathy_6 Empathy_7 Empathy_8 Empathy_9 Empathy_10\n",
       "1 7         7         7         6         6         6         7         \n",
       "2 6         6         6         6         6         6         6         \n",
       "3 6         6         6         7         6         6         6         \n",
       "4 6         7         7         6         7         6         6         \n",
       "5 4         7         5         7         7         5         7         \n",
       "6 7         7         7         7         7         7         7         \n",
       "  Empathy_11 Empathy_12 Empathy_13 Narcissism_1 Narcissism_2 ⋯ TIPI_Extra\n",
       "1 6          7          7          5            5            ⋯ 6         \n",
       "2 6          6          6          4            4            ⋯ 3         \n",
       "3 5          7          6          2            3            ⋯ 6         \n",
       "4 6          6          6          3            2            ⋯ 2         \n",
       "5 7          5          5          4            2            ⋯ 1         \n",
       "6 7          7          6          6            4            ⋯ 6         \n",
       "  TIPI_Criti TIPI_Depen TIPI_Anx TIPI_Open TIPI_Reserv TIPI_Symp TIPI_Disorg\n",
       "1 1          7          2        7         3           5         4          \n",
       "2 2          4          3        6         5           6         4          \n",
       "3 5          4          5        3         5           7         5          \n",
       "4 3          4          6        4         6           5         6          \n",
       "5 1          1          7        2         5           4         7          \n",
       "6 2          7          5        6         5           6         2          \n",
       "  TIPI_EmoSta TIPI_Conven zeroSum_1 zeroSum_2 CloseFrds_Others_On\n",
       "1 7           5           1         1          3                 \n",
       "2 4           3           2         2          3                 \n",
       "3 3           4           2         1          8                 \n",
       "4 3           2           2         1          5                 \n",
       "5 1           5           5         1         10                 \n",
       "6 5           3           1         1          5                 \n",
       "  CloseFrds_Others_Off empAmb_you empAmb_dorm empAmb_stanford\n",
       "1  4                   6          5           6              \n",
       "2  4                   6          4           4              \n",
       "3 10                   6          4           4              \n",
       "4  5                   6          5           5              \n",
       "5  5                   5          2           2              \n",
       "6 10                   7          4           5              \n",
       "  PoliIdeology_general PoliIdeology_social PoliIdeology_economic\n",
       "1 4                    4                   4                    \n",
       "2 2                    2                   2                    \n",
       "3 3                    2                   2                    \n",
       "4 2                    2                   4                    \n",
       "5 3                    2                   3                    \n",
       "6 2                    2                   4                    \n",
       "  PoliticalIssues_1 PoliticalIssues_1AveSta PoliticalIssues_2\n",
       "1 3                 7                       7                \n",
       "2 7                 5                       7                \n",
       "3 6                 6                       6                \n",
       "4 6                 6                       5                \n",
       "5 7                 5                       7                \n",
       "6 6                 5                       7                \n",
       "  PoliticalIssues_2AveSta LegitimizingMyths_1 LegitimizingMyths_2\n",
       "1 7                       5                   5                  \n",
       "2 6                       1                   7                  \n",
       "3 5                       2                   6                  \n",
       "4 6                       1                   7                  \n",
       "5 5                       2                   7                  \n",
       "6 6                       5                   7                  \n",
       "  LegitimizingMyths_3 LegitimizingMyths_4 LegitimizingMyths_5\n",
       "1 5                   5                   5                  \n",
       "2 2                   6                   1                  \n",
       "3 3                   6                   2                  \n",
       "4 3                   6                   1                  \n",
       "5 5                   7                   1                  \n",
       "6 1                   7                   1                  \n",
       "  LegitimizingMyths_6 ladderUS ladderSU Gender Gender_3_TEXT\n",
       "1 5                   9        6        Male   NA           \n",
       "2 7                   2        1        Female NA           \n",
       "3 6                   6        4        Female NA           \n",
       "4 5                   3        2        Female NA           \n",
       "5 7                   6        4        Male   NA           \n",
       "6 7                   6        6        Female NA           \n",
       "  Race                      Race_9_TEXT Major                  IntStu\n",
       "1 East Asian                NA          Computer Science       No    \n",
       "2 South Asian               NA          undecided              Yes   \n",
       "3 East Asian                NA          art practice           No    \n",
       "4 East Asian                NA          English                No    \n",
       "5 Black or African American NA          Electrical Engineering No    \n",
       "6 Middle Eastern            NA          Undecided              No    \n",
       "  FamilyIncome     \n",
       "1 $60,001-$80,000  \n",
       "2 $0-$20,000       \n",
       "3 $80,001-$100,000 \n",
       "4 $20,001-$40,000  \n",
       "5 $100,001-$120,000\n",
       "6 Over $200,000    \n",
       "  ParEd1                                                        \n",
       "1 Completed a Master's degree or equivalent                     \n",
       "2 Did not finish high school                                    \n",
       "3 Completed a Ph.D., M.D., or other advanced professional degree\n",
       "4 Did not finish high school                                    \n",
       "5 Completed a Ph.D., M.D., or other advanced professional degree\n",
       "6 Completed a Master's degree or equivalent                     \n",
       "  ParEd2                                                         DID HID\n",
       "1 Graduated from a four-year college                             30  5  \n",
       "2 Did not finish high school                                     35  4  \n",
       "3 Completed a Ph.D., M.D., or other advanced professional degree 21  2  \n",
       "4 Did not finish high school                                     70  5  \n",
       "5 Graduated from a four-year college                             73  1  \n",
       "6 Completed a Master's degree or equivalent                      76  4  \n",
       "  NegativeWellBeing_2R NeedToBelong_11R LifeSatisfaction_7R LayEmpathy_3R\n",
       "1 1                    1                3                   1            \n",
       "2 5                    5                3                   2            \n",
       "3 2                    6                6                   3            \n",
       "4 4                    5                6                   4            \n",
       "5 7                    6                1                   1            \n",
       "6 4                    5                4                   4            \n",
       "  LegitimizingMyths_2R LegitimizingMyths_4R LegitimizingMyths_6R\n",
       "1 3                    3                    3                   \n",
       "2 1                    2                    1                   \n",
       "3 2                    2                    2                   \n",
       "4 1                    2                    3                   \n",
       "5 1                    1                    1                   \n",
       "6 1                    1                    1                   "
      ]
     },
     "metadata": {},
     "output_type": "display_data"
    }
   ],
   "source": [
    "network = read.csv(paste(DATA_DIR, 'Network_Survey/network_traitData.csv', sep=\"\"), na.strings=c(\"\", \" \", \"NA\"))\n",
    "dim(network)\n",
    "str(network)\n",
    "head(network)"
   ]
  },
  {
   "cell_type": "code",
   "execution_count": 24,
   "metadata": {},
   "outputs": [],
   "source": [
    "# Drop first column (which is just a row number)\n",
    "network = network[,2:length(network)]"
   ]
  },
  {
   "cell_type": "markdown",
   "metadata": {},
   "source": [
    "### Check for duplicates"
   ]
  },
  {
   "cell_type": "code",
   "execution_count": 25,
   "metadata": {},
   "outputs": [
    {
     "data": {
      "text/html": [
       "<ol class=list-inline>\n",
       "\t<li>1157</li>\n",
       "\t<li>1157</li>\n",
       "</ol>\n"
      ],
      "text/latex": [
       "\\begin{enumerate*}\n",
       "\\item 1157\n",
       "\\item 1157\n",
       "\\end{enumerate*}\n"
      ],
      "text/markdown": [
       "1. 1157\n",
       "2. 1157\n",
       "\n",
       "\n"
      ],
      "text/plain": [
       "[1] 1157 1157"
      ]
     },
     "metadata": {},
     "output_type": "display_data"
    }
   ],
   "source": [
    "c(nrow(network), nrow(unique(network['PID'])))"
   ]
  },
  {
   "cell_type": "markdown",
   "metadata": {},
   "source": [
    "### Compute scales"
   ]
  },
  {
   "cell_type": "code",
   "execution_count": 26,
   "metadata": {},
   "outputs": [
    {
     "data": {
      "text/html": [
       "<dl>\n",
       "\t<dt>$life_satisfaction_t2</dt>\n",
       "\t\t<dd><ol class=list-inline>\n",
       "\t<li>'LifeSatisfaction_1'</li>\n",
       "\t<li>'LifeSatisfaction_2'</li>\n",
       "\t<li>'LifeSatisfaction_3'</li>\n",
       "\t<li>'LifeSatisfaction_4'</li>\n",
       "\t<li>'LifeSatisfaction_5'</li>\n",
       "\t<li>'LifeSatisfaction_7R'</li>\n",
       "</ol>\n",
       "</dd>\n",
       "\t<dt>$loneliness_t2</dt>\n",
       "\t\t<dd><ol class=list-inline>\n",
       "\t<li>'loneliness_1'</li>\n",
       "\t<li>'loneliness_2'</li>\n",
       "\t<li>'loneliness_3'</li>\n",
       "</ol>\n",
       "</dd>\n",
       "\t<dt>$stress_t2</dt>\n",
       "\t\t<dd><ol class=list-inline>\n",
       "\t<li>'Stress_1'</li>\n",
       "\t<li>'Stress_2'</li>\n",
       "</ol>\n",
       "</dd>\n",
       "</dl>\n"
      ],
      "text/latex": [
       "\\begin{description}\n",
       "\\item[\\$life\\_satisfaction\\_t2] \\begin{enumerate*}\n",
       "\\item 'LifeSatisfaction\\_1'\n",
       "\\item 'LifeSatisfaction\\_2'\n",
       "\\item 'LifeSatisfaction\\_3'\n",
       "\\item 'LifeSatisfaction\\_4'\n",
       "\\item 'LifeSatisfaction\\_5'\n",
       "\\item 'LifeSatisfaction\\_7R'\n",
       "\\end{enumerate*}\n",
       "\n",
       "\\item[\\$loneliness\\_t2] \\begin{enumerate*}\n",
       "\\item 'loneliness\\_1'\n",
       "\\item 'loneliness\\_2'\n",
       "\\item 'loneliness\\_3'\n",
       "\\end{enumerate*}\n",
       "\n",
       "\\item[\\$stress\\_t2] \\begin{enumerate*}\n",
       "\\item 'Stress\\_1'\n",
       "\\item 'Stress\\_2'\n",
       "\\end{enumerate*}\n",
       "\n",
       "\\end{description}\n"
      ],
      "text/markdown": [
       "$life_satisfaction_t2\n",
       ":   1. 'LifeSatisfaction_1'\n",
       "2. 'LifeSatisfaction_2'\n",
       "3. 'LifeSatisfaction_3'\n",
       "4. 'LifeSatisfaction_4'\n",
       "5. 'LifeSatisfaction_5'\n",
       "6. 'LifeSatisfaction_7R'\n",
       "\n",
       "\n",
       "\n",
       "$loneliness_t2\n",
       ":   1. 'loneliness_1'\n",
       "2. 'loneliness_2'\n",
       "3. 'loneliness_3'\n",
       "\n",
       "\n",
       "\n",
       "$stress_t2\n",
       ":   1. 'Stress_1'\n",
       "2. 'Stress_2'\n",
       "\n",
       "\n",
       "\n",
       "\n",
       "\n"
      ],
      "text/plain": [
       "$life_satisfaction_t2\n",
       "[1] \"LifeSatisfaction_1\"  \"LifeSatisfaction_2\"  \"LifeSatisfaction_3\" \n",
       "[4] \"LifeSatisfaction_4\"  \"LifeSatisfaction_5\"  \"LifeSatisfaction_7R\"\n",
       "\n",
       "$loneliness_t2\n",
       "[1] \"loneliness_1\" \"loneliness_2\" \"loneliness_3\"\n",
       "\n",
       "$stress_t2\n",
       "[1] \"Stress_1\" \"Stress_2\"\n"
      ]
     },
     "metadata": {},
     "output_type": "display_data"
    }
   ],
   "source": [
    "composites = list()\n",
    "composites$life_satisfaction_t2 = c(\n",
    "    'LifeSatisfaction_1',\n",
    "    'LifeSatisfaction_2',\n",
    "    'LifeSatisfaction_3',\n",
    "    'LifeSatisfaction_4',\n",
    "    'LifeSatisfaction_5',\n",
    "    'LifeSatisfaction_7R')\n",
    "composites$loneliness_t2 = c()\n",
    "composites$stress_t2 = c()\n",
    "for (col in colnames(network)) {\n",
    "    if (startsWith(col, 'loneliness')) {\n",
    "        composites$loneliness_t2 = c(composites$loneliness_t2, col)\n",
    "    } else if (startsWith(col, 'Stress')) {\n",
    "        composites$stress_t2 = c(composites$stress_t2, col)\n",
    "    }\n",
    "}\n",
    "composites"
   ]
  },
  {
   "cell_type": "code",
   "execution_count": 27,
   "metadata": {},
   "outputs": [
    {
     "data": {
      "text/html": [
       "<ol class=list-inline>\n",
       "\t<li>1157</li>\n",
       "\t<li>136</li>\n",
       "</ol>\n"
      ],
      "text/latex": [
       "\\begin{enumerate*}\n",
       "\\item 1157\n",
       "\\item 136\n",
       "\\end{enumerate*}\n"
      ],
      "text/markdown": [
       "1. 1157\n",
       "2. 136\n",
       "\n",
       "\n"
      ],
      "text/plain": [
       "[1] 1157  136"
      ]
     },
     "metadata": {},
     "output_type": "display_data"
    },
    {
     "data": {
      "text/html": [
       "<table>\n",
       "<caption>A data.frame: 6 × 136</caption>\n",
       "<thead>\n",
       "\t<tr><th></th><th scope=col>PID</th><th scope=col>Duration..in.seconds.</th><th scope=col>Age</th><th scope=col>meaningRelationships_1</th><th scope=col>meaningRelationships_2</th><th scope=col>meaningRelationships_3</th><th scope=col>CloseFrds_OffCampus</th><th scope=col>NegEmoSupp_OffCampus</th><th scope=col>NegEmoSupp_Family</th><th scope=col>NegEmoSupp_Family_7_TEXT</th><th scope=col>StudentGroups_1</th><th scope=col>StudentGroups_2</th><th scope=col>StudentGroups_3</th><th scope=col>GroupsOther_4</th><th scope=col>GroupsOther_5</th><th scope=col>GroupsOther_6</th><th scope=col>NegativeWellBeing_1</th><th scope=col>NegativeWellBeing_2</th><th scope=col>NegativeWellBeing_3</th><th scope=col>NegativeWellBeing_4</th><th scope=col>NegativeWellBeing_5</th><th scope=col>NegativeWellBeing_6</th><th scope=col>NegativeWellBeing_7</th><th scope=col>NegativeWellBeing_8</th><th scope=col>NegativeWellBeing_9</th><th scope=col>NegativeWellBeing_10</th><th scope=col>SocialEmotionality_1</th><th scope=col>SocialEmotionality_2</th><th scope=col>SocialEmotionality_3</th><th scope=col>SocialEmotionality_4</th><th scope=col>SocialEmotionality_5</th><th scope=col>SocialEmotionality_6</th><th scope=col>SocialEmotionality_7</th><th scope=col>SocialEmotionality_8</th><th scope=col>Empathy_1</th><th scope=col>Empathy_2</th><th scope=col>Empathy_3</th><th scope=col>Empathy_4</th><th scope=col>Empathy_5</th><th scope=col>Empathy_6</th><th scope=col>Empathy_7</th><th scope=col>Empathy_8</th><th scope=col>Empathy_9</th><th scope=col>Empathy_10</th><th scope=col>Empathy_11</th><th scope=col>Empathy_12</th><th scope=col>Empathy_13</th><th scope=col>Narcissism_1</th><th scope=col>Narcissism_2</th><th scope=col>Narcissism_3</th><th scope=col>⋯</th><th scope=col>TIPI_Depen</th><th scope=col>TIPI_Anx</th><th scope=col>TIPI_Open</th><th scope=col>TIPI_Reserv</th><th scope=col>TIPI_Symp</th><th scope=col>TIPI_Disorg</th><th scope=col>TIPI_EmoSta</th><th scope=col>TIPI_Conven</th><th scope=col>zeroSum_1</th><th scope=col>zeroSum_2</th><th scope=col>CloseFrds_Others_On</th><th scope=col>CloseFrds_Others_Off</th><th scope=col>empAmb_you</th><th scope=col>empAmb_dorm</th><th scope=col>empAmb_stanford</th><th scope=col>PoliIdeology_general</th><th scope=col>PoliIdeology_social</th><th scope=col>PoliIdeology_economic</th><th scope=col>PoliticalIssues_1</th><th scope=col>PoliticalIssues_1AveSta</th><th scope=col>PoliticalIssues_2</th><th scope=col>PoliticalIssues_2AveSta</th><th scope=col>LegitimizingMyths_1</th><th scope=col>LegitimizingMyths_2</th><th scope=col>LegitimizingMyths_3</th><th scope=col>LegitimizingMyths_4</th><th scope=col>LegitimizingMyths_5</th><th scope=col>LegitimizingMyths_6</th><th scope=col>ladderUS</th><th scope=col>ladderSU</th><th scope=col>Gender</th><th scope=col>Gender_3_TEXT</th><th scope=col>Race</th><th scope=col>Race_9_TEXT</th><th scope=col>Major</th><th scope=col>IntStu</th><th scope=col>FamilyIncome</th><th scope=col>ParEd1</th><th scope=col>ParEd2</th><th scope=col>DID</th><th scope=col>HID</th><th scope=col>NegativeWellBeing_2R</th><th scope=col>NeedToBelong_11R</th><th scope=col>LayEmpathy_3R</th><th scope=col>LegitimizingMyths_2R</th><th scope=col>LegitimizingMyths_4R</th><th scope=col>LegitimizingMyths_6R</th><th scope=col>life_satisfaction_t2</th><th scope=col>loneliness_t2</th><th scope=col>stress_t2</th></tr>\n",
       "\t<tr><th></th><th scope=col>&lt;int&gt;</th><th scope=col>&lt;int&gt;</th><th scope=col>&lt;int&gt;</th><th scope=col>&lt;dbl&gt;</th><th scope=col>&lt;dbl&gt;</th><th scope=col>&lt;int&gt;</th><th scope=col>&lt;int&gt;</th><th scope=col>&lt;int&gt;</th><th scope=col>&lt;fct&gt;</th><th scope=col>&lt;fct&gt;</th><th scope=col>&lt;fct&gt;</th><th scope=col>&lt;fct&gt;</th><th scope=col>&lt;fct&gt;</th><th scope=col>&lt;fct&gt;</th><th scope=col>&lt;fct&gt;</th><th scope=col>&lt;fct&gt;</th><th scope=col>&lt;int&gt;</th><th scope=col>&lt;int&gt;</th><th scope=col>&lt;int&gt;</th><th scope=col>&lt;int&gt;</th><th scope=col>&lt;int&gt;</th><th scope=col>&lt;int&gt;</th><th scope=col>&lt;int&gt;</th><th scope=col>&lt;int&gt;</th><th scope=col>&lt;int&gt;</th><th scope=col>&lt;int&gt;</th><th scope=col>&lt;int&gt;</th><th scope=col>&lt;int&gt;</th><th scope=col>&lt;int&gt;</th><th scope=col>&lt;int&gt;</th><th scope=col>&lt;int&gt;</th><th scope=col>&lt;int&gt;</th><th scope=col>&lt;int&gt;</th><th scope=col>&lt;int&gt;</th><th scope=col>&lt;int&gt;</th><th scope=col>&lt;int&gt;</th><th scope=col>&lt;int&gt;</th><th scope=col>&lt;int&gt;</th><th scope=col>&lt;int&gt;</th><th scope=col>&lt;int&gt;</th><th scope=col>&lt;int&gt;</th><th scope=col>&lt;int&gt;</th><th scope=col>&lt;int&gt;</th><th scope=col>&lt;int&gt;</th><th scope=col>&lt;int&gt;</th><th scope=col>&lt;int&gt;</th><th scope=col>&lt;int&gt;</th><th scope=col>&lt;int&gt;</th><th scope=col>&lt;int&gt;</th><th scope=col>&lt;int&gt;</th><th scope=col>⋯</th><th scope=col>&lt;int&gt;</th><th scope=col>&lt;int&gt;</th><th scope=col>&lt;int&gt;</th><th scope=col>&lt;int&gt;</th><th scope=col>&lt;int&gt;</th><th scope=col>&lt;int&gt;</th><th scope=col>&lt;int&gt;</th><th scope=col>&lt;int&gt;</th><th scope=col>&lt;int&gt;</th><th scope=col>&lt;int&gt;</th><th scope=col>&lt;int&gt;</th><th scope=col>&lt;int&gt;</th><th scope=col>&lt;int&gt;</th><th scope=col>&lt;int&gt;</th><th scope=col>&lt;int&gt;</th><th scope=col>&lt;int&gt;</th><th scope=col>&lt;int&gt;</th><th scope=col>&lt;int&gt;</th><th scope=col>&lt;int&gt;</th><th scope=col>&lt;int&gt;</th><th scope=col>&lt;int&gt;</th><th scope=col>&lt;int&gt;</th><th scope=col>&lt;int&gt;</th><th scope=col>&lt;int&gt;</th><th scope=col>&lt;int&gt;</th><th scope=col>&lt;int&gt;</th><th scope=col>&lt;int&gt;</th><th scope=col>&lt;int&gt;</th><th scope=col>&lt;int&gt;</th><th scope=col>&lt;int&gt;</th><th scope=col>&lt;fct&gt;</th><th scope=col>&lt;fct&gt;</th><th scope=col>&lt;fct&gt;</th><th scope=col>&lt;fct&gt;</th><th scope=col>&lt;fct&gt;</th><th scope=col>&lt;fct&gt;</th><th scope=col>&lt;fct&gt;</th><th scope=col>&lt;fct&gt;</th><th scope=col>&lt;fct&gt;</th><th scope=col>&lt;fct&gt;</th><th scope=col>&lt;fct&gt;</th><th scope=col>&lt;int&gt;</th><th scope=col>&lt;int&gt;</th><th scope=col>&lt;int&gt;</th><th scope=col>&lt;int&gt;</th><th scope=col>&lt;int&gt;</th><th scope=col>&lt;int&gt;</th><th scope=col>&lt;dbl&gt;</th><th scope=col>&lt;dbl&gt;</th><th scope=col>&lt;dbl&gt;</th></tr>\n",
       "</thead>\n",
       "<tbody>\n",
       "\t<tr><th scope=row>1</th><td>1001</td><td> 867</td><td>18</td><td>4</td><td>4</td><td>2</td><td>10</td><td>4</td><td>Mother,Sibling(s)                                 </td><td>NA</td><td>None                                                </td><td>NA                                            </td><td>NA                      </td><td>NA</td><td>NA</td><td>NA</td><td>5</td><td>7</td><td>3</td><td>3</td><td>3</td><td>5</td><td>6</td><td>5</td><td>3</td><td>5</td><td>4</td><td>4</td><td>6</td><td>4</td><td>4</td><td>4</td><td>5</td><td>4</td><td>7</td><td>7</td><td>7</td><td>7</td><td>7</td><td>7</td><td>6</td><td>6</td><td>6</td><td>7</td><td>6</td><td>7</td><td>7</td><td>5</td><td>5</td><td>5</td><td>⋯</td><td>7</td><td>2</td><td>7</td><td>3</td><td>5</td><td>4</td><td>7</td><td>5</td><td>1</td><td>1</td><td> 3</td><td> 4</td><td>6</td><td>5</td><td>6</td><td>4</td><td>4</td><td>4</td><td>3</td><td>7</td><td>7</td><td>7</td><td>5</td><td>5</td><td>5</td><td>5</td><td>5</td><td>5</td><td>9</td><td>6</td><td>Male  </td><td>NA</td><td>East Asian               </td><td>NA</td><td>Computer Science      </td><td>No </td><td>$60,001-$80,000  </td><td>Completed a Master's degree or equivalent                     </td><td>Graduated from a four-year college                            </td><td>30</td><td>5</td><td>1</td><td>1</td><td>1</td><td>3</td><td>3</td><td>3</td><td>6.166667</td><td>2.000000</td><td>1.5</td></tr>\n",
       "\t<tr><th scope=row>2</th><td>1004</td><td>1360</td><td>18</td><td>2</td><td>6</td><td>2</td><td> 8</td><td>4</td><td>Sibling(s)                                        </td><td>NA</td><td>The Stanford Daily                                  </td><td>FLIP: First-Generation, Low-Income Partnership</td><td>NA                      </td><td>NA</td><td>NA</td><td>NA</td><td>6</td><td>3</td><td>5</td><td>5</td><td>5</td><td>5</td><td>5</td><td>5</td><td>4</td><td>6</td><td>2</td><td>2</td><td>3</td><td>3</td><td>2</td><td>3</td><td>2</td><td>2</td><td>6</td><td>6</td><td>6</td><td>6</td><td>6</td><td>6</td><td>6</td><td>6</td><td>6</td><td>6</td><td>6</td><td>6</td><td>6</td><td>4</td><td>4</td><td>2</td><td>⋯</td><td>4</td><td>3</td><td>6</td><td>5</td><td>6</td><td>4</td><td>4</td><td>3</td><td>2</td><td>2</td><td> 3</td><td> 4</td><td>6</td><td>4</td><td>4</td><td>2</td><td>2</td><td>2</td><td>7</td><td>5</td><td>7</td><td>6</td><td>1</td><td>7</td><td>2</td><td>6</td><td>1</td><td>7</td><td>2</td><td>1</td><td>Female</td><td>NA</td><td>South Asian              </td><td>NA</td><td>undecided             </td><td>Yes</td><td>$0-$20,000       </td><td>Did not finish high school                                    </td><td>Did not finish high school                                    </td><td>35</td><td>4</td><td>5</td><td>5</td><td>2</td><td>1</td><td>2</td><td>1</td><td>3.000000</td><td>2.666667</td><td>3.0</td></tr>\n",
       "\t<tr><th scope=row>3</th><td>1006</td><td>1251</td><td>19</td><td>4</td><td>5</td><td>1</td><td> 7</td><td>5</td><td>Mother                                            </td><td>NA</td><td>Stanford Video Game Association                     </td><td>None                                          </td><td>None                    </td><td>NA</td><td>NA</td><td>NA</td><td>4</td><td>6</td><td>5</td><td>6</td><td>5</td><td>5</td><td>6</td><td>7</td><td>6</td><td>7</td><td>7</td><td>7</td><td>5</td><td>7</td><td>5</td><td>7</td><td>6</td><td>5</td><td>6</td><td>7</td><td>7</td><td>6</td><td>6</td><td>6</td><td>7</td><td>6</td><td>6</td><td>6</td><td>5</td><td>7</td><td>6</td><td>2</td><td>3</td><td>5</td><td>⋯</td><td>4</td><td>5</td><td>3</td><td>5</td><td>7</td><td>5</td><td>3</td><td>4</td><td>2</td><td>1</td><td> 8</td><td>10</td><td>6</td><td>4</td><td>4</td><td>3</td><td>2</td><td>2</td><td>6</td><td>6</td><td>6</td><td>5</td><td>2</td><td>6</td><td>3</td><td>6</td><td>2</td><td>6</td><td>6</td><td>4</td><td>Female</td><td>NA</td><td>East Asian               </td><td>NA</td><td>art practice          </td><td>No </td><td>$80,001-$100,000 </td><td>Completed a Ph.D., M.D., or other advanced professional degree</td><td>Completed a Ph.D., M.D., or other advanced professional degree</td><td>21</td><td>2</td><td>2</td><td>6</td><td>3</td><td>2</td><td>2</td><td>2</td><td>5.000000</td><td>1.666667</td><td>2.5</td></tr>\n",
       "\t<tr><th scope=row>4</th><td>1014</td><td> 667</td><td>18</td><td>2</td><td>4</td><td>3</td><td> 5</td><td>3</td><td>Mother,Father,Sibling(s)                          </td><td>NA</td><td>The Stanford Daily                                  </td><td>NA                                            </td><td>NA                      </td><td>NA</td><td>NA</td><td>NA</td><td>2</td><td>4</td><td>4</td><td>5</td><td>3</td><td>4</td><td>5</td><td>5</td><td>3</td><td>5</td><td>6</td><td>6</td><td>6</td><td>6</td><td>6</td><td>6</td><td>6</td><td>5</td><td>7</td><td>6</td><td>6</td><td>6</td><td>7</td><td>7</td><td>6</td><td>7</td><td>6</td><td>6</td><td>6</td><td>6</td><td>6</td><td>3</td><td>2</td><td>3</td><td>⋯</td><td>4</td><td>6</td><td>4</td><td>6</td><td>5</td><td>6</td><td>3</td><td>2</td><td>2</td><td>1</td><td> 5</td><td> 5</td><td>6</td><td>5</td><td>5</td><td>2</td><td>2</td><td>4</td><td>6</td><td>6</td><td>5</td><td>6</td><td>1</td><td>7</td><td>3</td><td>6</td><td>1</td><td>5</td><td>3</td><td>2</td><td>Female</td><td>NA</td><td>East Asian               </td><td>NA</td><td>English               </td><td>No </td><td>$20,001-$40,000  </td><td>Did not finish high school                                    </td><td>Did not finish high school                                    </td><td>70</td><td>5</td><td>4</td><td>5</td><td>4</td><td>1</td><td>2</td><td>3</td><td>5.833333</td><td>3.000000</td><td>3.0</td></tr>\n",
       "\t<tr><th scope=row>5</th><td>1017</td><td>1991</td><td>24</td><td>3</td><td>5</td><td>2</td><td> 2</td><td>0</td><td>NA                                                </td><td>NA</td><td>None                                                </td><td>NA                                            </td><td>NA                      </td><td>NA</td><td>NA</td><td>NA</td><td>7</td><td>1</td><td>7</td><td>7</td><td>7</td><td>7</td><td>7</td><td>7</td><td>7</td><td>7</td><td>1</td><td>1</td><td>1</td><td>1</td><td>1</td><td>2</td><td>1</td><td>1</td><td>7</td><td>5</td><td>7</td><td>4</td><td>7</td><td>5</td><td>7</td><td>7</td><td>5</td><td>7</td><td>7</td><td>5</td><td>5</td><td>4</td><td>2</td><td>1</td><td>⋯</td><td>1</td><td>7</td><td>2</td><td>5</td><td>4</td><td>7</td><td>1</td><td>5</td><td>5</td><td>1</td><td>10</td><td> 5</td><td>5</td><td>2</td><td>2</td><td>3</td><td>2</td><td>3</td><td>7</td><td>5</td><td>7</td><td>5</td><td>2</td><td>7</td><td>5</td><td>7</td><td>1</td><td>7</td><td>6</td><td>4</td><td>Male  </td><td>NA</td><td>Black or African American</td><td>NA</td><td>Electrical Engineering</td><td>No </td><td>$100,001-$120,000</td><td>Completed a Ph.D., M.D., or other advanced professional degree</td><td>Graduated from a four-year college                            </td><td>73</td><td>1</td><td>7</td><td>6</td><td>1</td><td>1</td><td>1</td><td>1</td><td>2.333333</td><td>3.000000</td><td>3.0</td></tr>\n",
       "\t<tr><th scope=row>6</th><td>1047</td><td> 876</td><td>18</td><td>5</td><td>0</td><td>5</td><td>10</td><td>4</td><td>Mother,Father,Sibling(s),Grandparent(s),Aunt/Uncle</td><td>NA</td><td>Stanford Social Entrepreneurial Students Association</td><td>Stanford Women in Business                    </td><td>Stanford Pre-Law Society</td><td>NA</td><td>NA</td><td>NA</td><td>1</td><td>4</td><td>5</td><td>5</td><td>4</td><td>5</td><td>7</td><td>7</td><td>2</td><td>2</td><td>7</td><td>7</td><td>6</td><td>5</td><td>7</td><td>7</td><td>6</td><td>5</td><td>7</td><td>7</td><td>7</td><td>7</td><td>7</td><td>7</td><td>7</td><td>7</td><td>7</td><td>7</td><td>7</td><td>7</td><td>6</td><td>6</td><td>4</td><td>7</td><td>⋯</td><td>7</td><td>5</td><td>6</td><td>5</td><td>6</td><td>2</td><td>5</td><td>3</td><td>1</td><td>1</td><td> 5</td><td>10</td><td>7</td><td>4</td><td>5</td><td>2</td><td>2</td><td>4</td><td>6</td><td>5</td><td>7</td><td>6</td><td>5</td><td>7</td><td>1</td><td>7</td><td>1</td><td>7</td><td>6</td><td>6</td><td>Female</td><td>NA</td><td>Middle Eastern           </td><td>NA</td><td>Undecided             </td><td>No </td><td>Over $200,000    </td><td>Completed a Master's degree or equivalent                     </td><td>Completed a Master's degree or equivalent                     </td><td>76</td><td>4</td><td>4</td><td>5</td><td>4</td><td>1</td><td>1</td><td>1</td><td>5.166667</td><td>2.000000</td><td>3.0</td></tr>\n",
       "</tbody>\n",
       "</table>\n"
      ],
      "text/latex": [
       "A data.frame: 6 × 136\n",
       "\\begin{tabular}{r|lllllllllllllllllllllllllllllllllllllllllllllllllllllllllllllllllllllllllllllllllllllllllllllllllllll}\n",
       "  & PID & Duration..in.seconds. & Age & meaningRelationships\\_1 & meaningRelationships\\_2 & meaningRelationships\\_3 & CloseFrds\\_OffCampus & NegEmoSupp\\_OffCampus & NegEmoSupp\\_Family & NegEmoSupp\\_Family\\_7\\_TEXT & StudentGroups\\_1 & StudentGroups\\_2 & StudentGroups\\_3 & GroupsOther\\_4 & GroupsOther\\_5 & GroupsOther\\_6 & NegativeWellBeing\\_1 & NegativeWellBeing\\_2 & NegativeWellBeing\\_3 & NegativeWellBeing\\_4 & NegativeWellBeing\\_5 & NegativeWellBeing\\_6 & NegativeWellBeing\\_7 & NegativeWellBeing\\_8 & NegativeWellBeing\\_9 & NegativeWellBeing\\_10 & SocialEmotionality\\_1 & SocialEmotionality\\_2 & SocialEmotionality\\_3 & SocialEmotionality\\_4 & SocialEmotionality\\_5 & SocialEmotionality\\_6 & SocialEmotionality\\_7 & SocialEmotionality\\_8 & Empathy\\_1 & Empathy\\_2 & Empathy\\_3 & Empathy\\_4 & Empathy\\_5 & Empathy\\_6 & Empathy\\_7 & Empathy\\_8 & Empathy\\_9 & Empathy\\_10 & Empathy\\_11 & Empathy\\_12 & Empathy\\_13 & Narcissism\\_1 & Narcissism\\_2 & Narcissism\\_3 & ⋯ & TIPI\\_Depen & TIPI\\_Anx & TIPI\\_Open & TIPI\\_Reserv & TIPI\\_Symp & TIPI\\_Disorg & TIPI\\_EmoSta & TIPI\\_Conven & zeroSum\\_1 & zeroSum\\_2 & CloseFrds\\_Others\\_On & CloseFrds\\_Others\\_Off & empAmb\\_you & empAmb\\_dorm & empAmb\\_stanford & PoliIdeology\\_general & PoliIdeology\\_social & PoliIdeology\\_economic & PoliticalIssues\\_1 & PoliticalIssues\\_1AveSta & PoliticalIssues\\_2 & PoliticalIssues\\_2AveSta & LegitimizingMyths\\_1 & LegitimizingMyths\\_2 & LegitimizingMyths\\_3 & LegitimizingMyths\\_4 & LegitimizingMyths\\_5 & LegitimizingMyths\\_6 & ladderUS & ladderSU & Gender & Gender\\_3\\_TEXT & Race & Race\\_9\\_TEXT & Major & IntStu & FamilyIncome & ParEd1 & ParEd2 & DID & HID & NegativeWellBeing\\_2R & NeedToBelong\\_11R & LayEmpathy\\_3R & LegitimizingMyths\\_2R & LegitimizingMyths\\_4R & LegitimizingMyths\\_6R & life\\_satisfaction\\_t2 & loneliness\\_t2 & stress\\_t2\\\\\n",
       "  & <int> & <int> & <int> & <dbl> & <dbl> & <int> & <int> & <int> & <fct> & <fct> & <fct> & <fct> & <fct> & <fct> & <fct> & <fct> & <int> & <int> & <int> & <int> & <int> & <int> & <int> & <int> & <int> & <int> & <int> & <int> & <int> & <int> & <int> & <int> & <int> & <int> & <int> & <int> & <int> & <int> & <int> & <int> & <int> & <int> & <int> & <int> & <int> & <int> & <int> & <int> & <int> & <int> & ⋯ & <int> & <int> & <int> & <int> & <int> & <int> & <int> & <int> & <int> & <int> & <int> & <int> & <int> & <int> & <int> & <int> & <int> & <int> & <int> & <int> & <int> & <int> & <int> & <int> & <int> & <int> & <int> & <int> & <int> & <int> & <fct> & <fct> & <fct> & <fct> & <fct> & <fct> & <fct> & <fct> & <fct> & <fct> & <fct> & <int> & <int> & <int> & <int> & <int> & <int> & <dbl> & <dbl> & <dbl>\\\\\n",
       "\\hline\n",
       "\t1 & 1001 &  867 & 18 & 4 & 4 & 2 & 10 & 4 & Mother,Sibling(s)                                  & NA & None                                                 & NA                                             & NA                       & NA & NA & NA & 5 & 7 & 3 & 3 & 3 & 5 & 6 & 5 & 3 & 5 & 4 & 4 & 6 & 4 & 4 & 4 & 5 & 4 & 7 & 7 & 7 & 7 & 7 & 7 & 6 & 6 & 6 & 7 & 6 & 7 & 7 & 5 & 5 & 5 & ⋯ & 7 & 2 & 7 & 3 & 5 & 4 & 7 & 5 & 1 & 1 &  3 &  4 & 6 & 5 & 6 & 4 & 4 & 4 & 3 & 7 & 7 & 7 & 5 & 5 & 5 & 5 & 5 & 5 & 9 & 6 & Male   & NA & East Asian                & NA & Computer Science       & No  & \\$60,001-\\$80,000   & Completed a Master's degree or equivalent                      & Graduated from a four-year college                             & 30 & 5 & 1 & 1 & 1 & 3 & 3 & 3 & 6.166667 & 2.000000 & 1.5\\\\\n",
       "\t2 & 1004 & 1360 & 18 & 2 & 6 & 2 &  8 & 4 & Sibling(s)                                         & NA & The Stanford Daily                                   & FLIP: First-Generation, Low-Income Partnership & NA                       & NA & NA & NA & 6 & 3 & 5 & 5 & 5 & 5 & 5 & 5 & 4 & 6 & 2 & 2 & 3 & 3 & 2 & 3 & 2 & 2 & 6 & 6 & 6 & 6 & 6 & 6 & 6 & 6 & 6 & 6 & 6 & 6 & 6 & 4 & 4 & 2 & ⋯ & 4 & 3 & 6 & 5 & 6 & 4 & 4 & 3 & 2 & 2 &  3 &  4 & 6 & 4 & 4 & 2 & 2 & 2 & 7 & 5 & 7 & 6 & 1 & 7 & 2 & 6 & 1 & 7 & 2 & 1 & Female & NA & South Asian               & NA & undecided              & Yes & \\$0-\\$20,000        & Did not finish high school                                     & Did not finish high school                                     & 35 & 4 & 5 & 5 & 2 & 1 & 2 & 1 & 3.000000 & 2.666667 & 3.0\\\\\n",
       "\t3 & 1006 & 1251 & 19 & 4 & 5 & 1 &  7 & 5 & Mother                                             & NA & Stanford Video Game Association                      & None                                           & None                     & NA & NA & NA & 4 & 6 & 5 & 6 & 5 & 5 & 6 & 7 & 6 & 7 & 7 & 7 & 5 & 7 & 5 & 7 & 6 & 5 & 6 & 7 & 7 & 6 & 6 & 6 & 7 & 6 & 6 & 6 & 5 & 7 & 6 & 2 & 3 & 5 & ⋯ & 4 & 5 & 3 & 5 & 7 & 5 & 3 & 4 & 2 & 1 &  8 & 10 & 6 & 4 & 4 & 3 & 2 & 2 & 6 & 6 & 6 & 5 & 2 & 6 & 3 & 6 & 2 & 6 & 6 & 4 & Female & NA & East Asian                & NA & art practice           & No  & \\$80,001-\\$100,000  & Completed a Ph.D., M.D., or other advanced professional degree & Completed a Ph.D., M.D., or other advanced professional degree & 21 & 2 & 2 & 6 & 3 & 2 & 2 & 2 & 5.000000 & 1.666667 & 2.5\\\\\n",
       "\t4 & 1014 &  667 & 18 & 2 & 4 & 3 &  5 & 3 & Mother,Father,Sibling(s)                           & NA & The Stanford Daily                                   & NA                                             & NA                       & NA & NA & NA & 2 & 4 & 4 & 5 & 3 & 4 & 5 & 5 & 3 & 5 & 6 & 6 & 6 & 6 & 6 & 6 & 6 & 5 & 7 & 6 & 6 & 6 & 7 & 7 & 6 & 7 & 6 & 6 & 6 & 6 & 6 & 3 & 2 & 3 & ⋯ & 4 & 6 & 4 & 6 & 5 & 6 & 3 & 2 & 2 & 1 &  5 &  5 & 6 & 5 & 5 & 2 & 2 & 4 & 6 & 6 & 5 & 6 & 1 & 7 & 3 & 6 & 1 & 5 & 3 & 2 & Female & NA & East Asian                & NA & English                & No  & \\$20,001-\\$40,000   & Did not finish high school                                     & Did not finish high school                                     & 70 & 5 & 4 & 5 & 4 & 1 & 2 & 3 & 5.833333 & 3.000000 & 3.0\\\\\n",
       "\t5 & 1017 & 1991 & 24 & 3 & 5 & 2 &  2 & 0 & NA                                                 & NA & None                                                 & NA                                             & NA                       & NA & NA & NA & 7 & 1 & 7 & 7 & 7 & 7 & 7 & 7 & 7 & 7 & 1 & 1 & 1 & 1 & 1 & 2 & 1 & 1 & 7 & 5 & 7 & 4 & 7 & 5 & 7 & 7 & 5 & 7 & 7 & 5 & 5 & 4 & 2 & 1 & ⋯ & 1 & 7 & 2 & 5 & 4 & 7 & 1 & 5 & 5 & 1 & 10 &  5 & 5 & 2 & 2 & 3 & 2 & 3 & 7 & 5 & 7 & 5 & 2 & 7 & 5 & 7 & 1 & 7 & 6 & 4 & Male   & NA & Black or African American & NA & Electrical Engineering & No  & \\$100,001-\\$120,000 & Completed a Ph.D., M.D., or other advanced professional degree & Graduated from a four-year college                             & 73 & 1 & 7 & 6 & 1 & 1 & 1 & 1 & 2.333333 & 3.000000 & 3.0\\\\\n",
       "\t6 & 1047 &  876 & 18 & 5 & 0 & 5 & 10 & 4 & Mother,Father,Sibling(s),Grandparent(s),Aunt/Uncle & NA & Stanford Social Entrepreneurial Students Association & Stanford Women in Business                     & Stanford Pre-Law Society & NA & NA & NA & 1 & 4 & 5 & 5 & 4 & 5 & 7 & 7 & 2 & 2 & 7 & 7 & 6 & 5 & 7 & 7 & 6 & 5 & 7 & 7 & 7 & 7 & 7 & 7 & 7 & 7 & 7 & 7 & 7 & 7 & 6 & 6 & 4 & 7 & ⋯ & 7 & 5 & 6 & 5 & 6 & 2 & 5 & 3 & 1 & 1 &  5 & 10 & 7 & 4 & 5 & 2 & 2 & 4 & 6 & 5 & 7 & 6 & 5 & 7 & 1 & 7 & 1 & 7 & 6 & 6 & Female & NA & Middle Eastern            & NA & Undecided              & No  & Over \\$200,000     & Completed a Master's degree or equivalent                      & Completed a Master's degree or equivalent                      & 76 & 4 & 4 & 5 & 4 & 1 & 1 & 1 & 5.166667 & 2.000000 & 3.0\\\\\n",
       "\\end{tabular}\n"
      ],
      "text/markdown": [
       "\n",
       "A data.frame: 6 × 136\n",
       "\n",
       "| <!--/--> | PID &lt;int&gt; | Duration..in.seconds. &lt;int&gt; | Age &lt;int&gt; | meaningRelationships_1 &lt;dbl&gt; | meaningRelationships_2 &lt;dbl&gt; | meaningRelationships_3 &lt;int&gt; | CloseFrds_OffCampus &lt;int&gt; | NegEmoSupp_OffCampus &lt;int&gt; | NegEmoSupp_Family &lt;fct&gt; | NegEmoSupp_Family_7_TEXT &lt;fct&gt; | StudentGroups_1 &lt;fct&gt; | StudentGroups_2 &lt;fct&gt; | StudentGroups_3 &lt;fct&gt; | GroupsOther_4 &lt;fct&gt; | GroupsOther_5 &lt;fct&gt; | GroupsOther_6 &lt;fct&gt; | NegativeWellBeing_1 &lt;int&gt; | NegativeWellBeing_2 &lt;int&gt; | NegativeWellBeing_3 &lt;int&gt; | NegativeWellBeing_4 &lt;int&gt; | NegativeWellBeing_5 &lt;int&gt; | NegativeWellBeing_6 &lt;int&gt; | NegativeWellBeing_7 &lt;int&gt; | NegativeWellBeing_8 &lt;int&gt; | NegativeWellBeing_9 &lt;int&gt; | NegativeWellBeing_10 &lt;int&gt; | SocialEmotionality_1 &lt;int&gt; | SocialEmotionality_2 &lt;int&gt; | SocialEmotionality_3 &lt;int&gt; | SocialEmotionality_4 &lt;int&gt; | SocialEmotionality_5 &lt;int&gt; | SocialEmotionality_6 &lt;int&gt; | SocialEmotionality_7 &lt;int&gt; | SocialEmotionality_8 &lt;int&gt; | Empathy_1 &lt;int&gt; | Empathy_2 &lt;int&gt; | Empathy_3 &lt;int&gt; | Empathy_4 &lt;int&gt; | Empathy_5 &lt;int&gt; | Empathy_6 &lt;int&gt; | Empathy_7 &lt;int&gt; | Empathy_8 &lt;int&gt; | Empathy_9 &lt;int&gt; | Empathy_10 &lt;int&gt; | Empathy_11 &lt;int&gt; | Empathy_12 &lt;int&gt; | Empathy_13 &lt;int&gt; | Narcissism_1 &lt;int&gt; | Narcissism_2 &lt;int&gt; | Narcissism_3 &lt;int&gt; | ⋯ ⋯ | TIPI_Depen &lt;int&gt; | TIPI_Anx &lt;int&gt; | TIPI_Open &lt;int&gt; | TIPI_Reserv &lt;int&gt; | TIPI_Symp &lt;int&gt; | TIPI_Disorg &lt;int&gt; | TIPI_EmoSta &lt;int&gt; | TIPI_Conven &lt;int&gt; | zeroSum_1 &lt;int&gt; | zeroSum_2 &lt;int&gt; | CloseFrds_Others_On &lt;int&gt; | CloseFrds_Others_Off &lt;int&gt; | empAmb_you &lt;int&gt; | empAmb_dorm &lt;int&gt; | empAmb_stanford &lt;int&gt; | PoliIdeology_general &lt;int&gt; | PoliIdeology_social &lt;int&gt; | PoliIdeology_economic &lt;int&gt; | PoliticalIssues_1 &lt;int&gt; | PoliticalIssues_1AveSta &lt;int&gt; | PoliticalIssues_2 &lt;int&gt; | PoliticalIssues_2AveSta &lt;int&gt; | LegitimizingMyths_1 &lt;int&gt; | LegitimizingMyths_2 &lt;int&gt; | LegitimizingMyths_3 &lt;int&gt; | LegitimizingMyths_4 &lt;int&gt; | LegitimizingMyths_5 &lt;int&gt; | LegitimizingMyths_6 &lt;int&gt; | ladderUS &lt;int&gt; | ladderSU &lt;int&gt; | Gender &lt;fct&gt; | Gender_3_TEXT &lt;fct&gt; | Race &lt;fct&gt; | Race_9_TEXT &lt;fct&gt; | Major &lt;fct&gt; | IntStu &lt;fct&gt; | FamilyIncome &lt;fct&gt; | ParEd1 &lt;fct&gt; | ParEd2 &lt;fct&gt; | DID &lt;fct&gt; | HID &lt;fct&gt; | NegativeWellBeing_2R &lt;int&gt; | NeedToBelong_11R &lt;int&gt; | LayEmpathy_3R &lt;int&gt; | LegitimizingMyths_2R &lt;int&gt; | LegitimizingMyths_4R &lt;int&gt; | LegitimizingMyths_6R &lt;int&gt; | life_satisfaction_t2 &lt;dbl&gt; | loneliness_t2 &lt;dbl&gt; | stress_t2 &lt;dbl&gt; |\n",
       "|---|---|---|---|---|---|---|---|---|---|---|---|---|---|---|---|---|---|---|---|---|---|---|---|---|---|---|---|---|---|---|---|---|---|---|---|---|---|---|---|---|---|---|---|---|---|---|---|---|---|---|---|---|---|---|---|---|---|---|---|---|---|---|---|---|---|---|---|---|---|---|---|---|---|---|---|---|---|---|---|---|---|---|---|---|---|---|---|---|---|---|---|---|---|---|---|---|---|---|---|---|---|\n",
       "| 1 | 1001 |  867 | 18 | 4 | 4 | 2 | 10 | 4 | Mother,Sibling(s)                                  | NA | None                                                 | NA                                             | NA                       | NA | NA | NA | 5 | 7 | 3 | 3 | 3 | 5 | 6 | 5 | 3 | 5 | 4 | 4 | 6 | 4 | 4 | 4 | 5 | 4 | 7 | 7 | 7 | 7 | 7 | 7 | 6 | 6 | 6 | 7 | 6 | 7 | 7 | 5 | 5 | 5 | ⋯ | 7 | 2 | 7 | 3 | 5 | 4 | 7 | 5 | 1 | 1 |  3 |  4 | 6 | 5 | 6 | 4 | 4 | 4 | 3 | 7 | 7 | 7 | 5 | 5 | 5 | 5 | 5 | 5 | 9 | 6 | Male   | NA | East Asian                | NA | Computer Science       | No  | $60,001-$80,000   | Completed a Master's degree or equivalent                      | Graduated from a four-year college                             | 30 | 5 | 1 | 1 | 1 | 3 | 3 | 3 | 6.166667 | 2.000000 | 1.5 |\n",
       "| 2 | 1004 | 1360 | 18 | 2 | 6 | 2 |  8 | 4 | Sibling(s)                                         | NA | The Stanford Daily                                   | FLIP: First-Generation, Low-Income Partnership | NA                       | NA | NA | NA | 6 | 3 | 5 | 5 | 5 | 5 | 5 | 5 | 4 | 6 | 2 | 2 | 3 | 3 | 2 | 3 | 2 | 2 | 6 | 6 | 6 | 6 | 6 | 6 | 6 | 6 | 6 | 6 | 6 | 6 | 6 | 4 | 4 | 2 | ⋯ | 4 | 3 | 6 | 5 | 6 | 4 | 4 | 3 | 2 | 2 |  3 |  4 | 6 | 4 | 4 | 2 | 2 | 2 | 7 | 5 | 7 | 6 | 1 | 7 | 2 | 6 | 1 | 7 | 2 | 1 | Female | NA | South Asian               | NA | undecided              | Yes | $0-$20,000        | Did not finish high school                                     | Did not finish high school                                     | 35 | 4 | 5 | 5 | 2 | 1 | 2 | 1 | 3.000000 | 2.666667 | 3.0 |\n",
       "| 3 | 1006 | 1251 | 19 | 4 | 5 | 1 |  7 | 5 | Mother                                             | NA | Stanford Video Game Association                      | None                                           | None                     | NA | NA | NA | 4 | 6 | 5 | 6 | 5 | 5 | 6 | 7 | 6 | 7 | 7 | 7 | 5 | 7 | 5 | 7 | 6 | 5 | 6 | 7 | 7 | 6 | 6 | 6 | 7 | 6 | 6 | 6 | 5 | 7 | 6 | 2 | 3 | 5 | ⋯ | 4 | 5 | 3 | 5 | 7 | 5 | 3 | 4 | 2 | 1 |  8 | 10 | 6 | 4 | 4 | 3 | 2 | 2 | 6 | 6 | 6 | 5 | 2 | 6 | 3 | 6 | 2 | 6 | 6 | 4 | Female | NA | East Asian                | NA | art practice           | No  | $80,001-$100,000  | Completed a Ph.D., M.D., or other advanced professional degree | Completed a Ph.D., M.D., or other advanced professional degree | 21 | 2 | 2 | 6 | 3 | 2 | 2 | 2 | 5.000000 | 1.666667 | 2.5 |\n",
       "| 4 | 1014 |  667 | 18 | 2 | 4 | 3 |  5 | 3 | Mother,Father,Sibling(s)                           | NA | The Stanford Daily                                   | NA                                             | NA                       | NA | NA | NA | 2 | 4 | 4 | 5 | 3 | 4 | 5 | 5 | 3 | 5 | 6 | 6 | 6 | 6 | 6 | 6 | 6 | 5 | 7 | 6 | 6 | 6 | 7 | 7 | 6 | 7 | 6 | 6 | 6 | 6 | 6 | 3 | 2 | 3 | ⋯ | 4 | 6 | 4 | 6 | 5 | 6 | 3 | 2 | 2 | 1 |  5 |  5 | 6 | 5 | 5 | 2 | 2 | 4 | 6 | 6 | 5 | 6 | 1 | 7 | 3 | 6 | 1 | 5 | 3 | 2 | Female | NA | East Asian                | NA | English                | No  | $20,001-$40,000   | Did not finish high school                                     | Did not finish high school                                     | 70 | 5 | 4 | 5 | 4 | 1 | 2 | 3 | 5.833333 | 3.000000 | 3.0 |\n",
       "| 5 | 1017 | 1991 | 24 | 3 | 5 | 2 |  2 | 0 | NA                                                 | NA | None                                                 | NA                                             | NA                       | NA | NA | NA | 7 | 1 | 7 | 7 | 7 | 7 | 7 | 7 | 7 | 7 | 1 | 1 | 1 | 1 | 1 | 2 | 1 | 1 | 7 | 5 | 7 | 4 | 7 | 5 | 7 | 7 | 5 | 7 | 7 | 5 | 5 | 4 | 2 | 1 | ⋯ | 1 | 7 | 2 | 5 | 4 | 7 | 1 | 5 | 5 | 1 | 10 |  5 | 5 | 2 | 2 | 3 | 2 | 3 | 7 | 5 | 7 | 5 | 2 | 7 | 5 | 7 | 1 | 7 | 6 | 4 | Male   | NA | Black or African American | NA | Electrical Engineering | No  | $100,001-$120,000 | Completed a Ph.D., M.D., or other advanced professional degree | Graduated from a four-year college                             | 73 | 1 | 7 | 6 | 1 | 1 | 1 | 1 | 2.333333 | 3.000000 | 3.0 |\n",
       "| 6 | 1047 |  876 | 18 | 5 | 0 | 5 | 10 | 4 | Mother,Father,Sibling(s),Grandparent(s),Aunt/Uncle | NA | Stanford Social Entrepreneurial Students Association | Stanford Women in Business                     | Stanford Pre-Law Society | NA | NA | NA | 1 | 4 | 5 | 5 | 4 | 5 | 7 | 7 | 2 | 2 | 7 | 7 | 6 | 5 | 7 | 7 | 6 | 5 | 7 | 7 | 7 | 7 | 7 | 7 | 7 | 7 | 7 | 7 | 7 | 7 | 6 | 6 | 4 | 7 | ⋯ | 7 | 5 | 6 | 5 | 6 | 2 | 5 | 3 | 1 | 1 |  5 | 10 | 7 | 4 | 5 | 2 | 2 | 4 | 6 | 5 | 7 | 6 | 5 | 7 | 1 | 7 | 1 | 7 | 6 | 6 | Female | NA | Middle Eastern            | NA | Undecided              | No  | Over $200,000     | Completed a Master's degree or equivalent                      | Completed a Master's degree or equivalent                      | 76 | 4 | 4 | 5 | 4 | 1 | 1 | 1 | 5.166667 | 2.000000 | 3.0 |\n",
       "\n"
      ],
      "text/plain": [
       "  PID  Duration..in.seconds. Age meaningRelationships_1 meaningRelationships_2\n",
       "1 1001  867                  18  4                      4                     \n",
       "2 1004 1360                  18  2                      6                     \n",
       "3 1006 1251                  19  4                      5                     \n",
       "4 1014  667                  18  2                      4                     \n",
       "5 1017 1991                  24  3                      5                     \n",
       "6 1047  876                  18  5                      0                     \n",
       "  meaningRelationships_3 CloseFrds_OffCampus NegEmoSupp_OffCampus\n",
       "1 2                      10                  4                   \n",
       "2 2                       8                  4                   \n",
       "3 1                       7                  5                   \n",
       "4 3                       5                  3                   \n",
       "5 2                       2                  0                   \n",
       "6 5                      10                  4                   \n",
       "  NegEmoSupp_Family                                  NegEmoSupp_Family_7_TEXT\n",
       "1 Mother,Sibling(s)                                  NA                      \n",
       "2 Sibling(s)                                         NA                      \n",
       "3 Mother                                             NA                      \n",
       "4 Mother,Father,Sibling(s)                           NA                      \n",
       "5 NA                                                 NA                      \n",
       "6 Mother,Father,Sibling(s),Grandparent(s),Aunt/Uncle NA                      \n",
       "  StudentGroups_1                                     \n",
       "1 None                                                \n",
       "2 The Stanford Daily                                  \n",
       "3 Stanford Video Game Association                     \n",
       "4 The Stanford Daily                                  \n",
       "5 None                                                \n",
       "6 Stanford Social Entrepreneurial Students Association\n",
       "  StudentGroups_2                                StudentGroups_3         \n",
       "1 NA                                             NA                      \n",
       "2 FLIP: First-Generation, Low-Income Partnership NA                      \n",
       "3 None                                           None                    \n",
       "4 NA                                             NA                      \n",
       "5 NA                                             NA                      \n",
       "6 Stanford Women in Business                     Stanford Pre-Law Society\n",
       "  GroupsOther_4 GroupsOther_5 GroupsOther_6 NegativeWellBeing_1\n",
       "1 NA            NA            NA            5                  \n",
       "2 NA            NA            NA            6                  \n",
       "3 NA            NA            NA            4                  \n",
       "4 NA            NA            NA            2                  \n",
       "5 NA            NA            NA            7                  \n",
       "6 NA            NA            NA            1                  \n",
       "  NegativeWellBeing_2 NegativeWellBeing_3 NegativeWellBeing_4\n",
       "1 7                   3                   3                  \n",
       "2 3                   5                   5                  \n",
       "3 6                   5                   6                  \n",
       "4 4                   4                   5                  \n",
       "5 1                   7                   7                  \n",
       "6 4                   5                   5                  \n",
       "  NegativeWellBeing_5 NegativeWellBeing_6 NegativeWellBeing_7\n",
       "1 3                   5                   6                  \n",
       "2 5                   5                   5                  \n",
       "3 5                   5                   6                  \n",
       "4 3                   4                   5                  \n",
       "5 7                   7                   7                  \n",
       "6 4                   5                   7                  \n",
       "  NegativeWellBeing_8 NegativeWellBeing_9 NegativeWellBeing_10\n",
       "1 5                   3                   5                   \n",
       "2 5                   4                   6                   \n",
       "3 7                   6                   7                   \n",
       "4 5                   3                   5                   \n",
       "5 7                   7                   7                   \n",
       "6 7                   2                   2                   \n",
       "  SocialEmotionality_1 SocialEmotionality_2 SocialEmotionality_3\n",
       "1 4                    4                    6                   \n",
       "2 2                    2                    3                   \n",
       "3 7                    7                    5                   \n",
       "4 6                    6                    6                   \n",
       "5 1                    1                    1                   \n",
       "6 7                    7                    6                   \n",
       "  SocialEmotionality_4 SocialEmotionality_5 SocialEmotionality_6\n",
       "1 4                    4                    4                   \n",
       "2 3                    2                    3                   \n",
       "3 7                    5                    7                   \n",
       "4 6                    6                    6                   \n",
       "5 1                    1                    2                   \n",
       "6 5                    7                    7                   \n",
       "  SocialEmotionality_7 SocialEmotionality_8 Empathy_1 Empathy_2 Empathy_3\n",
       "1 5                    4                    7         7         7        \n",
       "2 2                    2                    6         6         6        \n",
       "3 6                    5                    6         7         7        \n",
       "4 6                    5                    7         6         6        \n",
       "5 1                    1                    7         5         7        \n",
       "6 6                    5                    7         7         7        \n",
       "  Empathy_4 Empathy_5 Empathy_6 Empathy_7 Empathy_8 Empathy_9 Empathy_10\n",
       "1 7         7         7         6         6         6         7         \n",
       "2 6         6         6         6         6         6         6         \n",
       "3 6         6         6         7         6         6         6         \n",
       "4 6         7         7         6         7         6         6         \n",
       "5 4         7         5         7         7         5         7         \n",
       "6 7         7         7         7         7         7         7         \n",
       "  Empathy_11 Empathy_12 Empathy_13 Narcissism_1 Narcissism_2 Narcissism_3 ⋯\n",
       "1 6          7          7          5            5            5            ⋯\n",
       "2 6          6          6          4            4            2            ⋯\n",
       "3 5          7          6          2            3            5            ⋯\n",
       "4 6          6          6          3            2            3            ⋯\n",
       "5 7          5          5          4            2            1            ⋯\n",
       "6 7          7          6          6            4            7            ⋯\n",
       "  TIPI_Depen TIPI_Anx TIPI_Open TIPI_Reserv TIPI_Symp TIPI_Disorg TIPI_EmoSta\n",
       "1 7          2        7         3           5         4           7          \n",
       "2 4          3        6         5           6         4           4          \n",
       "3 4          5        3         5           7         5           3          \n",
       "4 4          6        4         6           5         6           3          \n",
       "5 1          7        2         5           4         7           1          \n",
       "6 7          5        6         5           6         2           5          \n",
       "  TIPI_Conven zeroSum_1 zeroSum_2 CloseFrds_Others_On CloseFrds_Others_Off\n",
       "1 5           1         1          3                   4                  \n",
       "2 3           2         2          3                   4                  \n",
       "3 4           2         1          8                  10                  \n",
       "4 2           2         1          5                   5                  \n",
       "5 5           5         1         10                   5                  \n",
       "6 3           1         1          5                  10                  \n",
       "  empAmb_you empAmb_dorm empAmb_stanford PoliIdeology_general\n",
       "1 6          5           6               4                   \n",
       "2 6          4           4               2                   \n",
       "3 6          4           4               3                   \n",
       "4 6          5           5               2                   \n",
       "5 5          2           2               3                   \n",
       "6 7          4           5               2                   \n",
       "  PoliIdeology_social PoliIdeology_economic PoliticalIssues_1\n",
       "1 4                   4                     3                \n",
       "2 2                   2                     7                \n",
       "3 2                   2                     6                \n",
       "4 2                   4                     6                \n",
       "5 2                   3                     7                \n",
       "6 2                   4                     6                \n",
       "  PoliticalIssues_1AveSta PoliticalIssues_2 PoliticalIssues_2AveSta\n",
       "1 7                       7                 7                      \n",
       "2 5                       7                 6                      \n",
       "3 6                       6                 5                      \n",
       "4 6                       5                 6                      \n",
       "5 5                       7                 5                      \n",
       "6 5                       7                 6                      \n",
       "  LegitimizingMyths_1 LegitimizingMyths_2 LegitimizingMyths_3\n",
       "1 5                   5                   5                  \n",
       "2 1                   7                   2                  \n",
       "3 2                   6                   3                  \n",
       "4 1                   7                   3                  \n",
       "5 2                   7                   5                  \n",
       "6 5                   7                   1                  \n",
       "  LegitimizingMyths_4 LegitimizingMyths_5 LegitimizingMyths_6 ladderUS ladderSU\n",
       "1 5                   5                   5                   9        6       \n",
       "2 6                   1                   7                   2        1       \n",
       "3 6                   2                   6                   6        4       \n",
       "4 6                   1                   5                   3        2       \n",
       "5 7                   1                   7                   6        4       \n",
       "6 7                   1                   7                   6        6       \n",
       "  Gender Gender_3_TEXT Race                      Race_9_TEXT\n",
       "1 Male   NA            East Asian                NA         \n",
       "2 Female NA            South Asian               NA         \n",
       "3 Female NA            East Asian                NA         \n",
       "4 Female NA            East Asian                NA         \n",
       "5 Male   NA            Black or African American NA         \n",
       "6 Female NA            Middle Eastern            NA         \n",
       "  Major                  IntStu FamilyIncome     \n",
       "1 Computer Science       No     $60,001-$80,000  \n",
       "2 undecided              Yes    $0-$20,000       \n",
       "3 art practice           No     $80,001-$100,000 \n",
       "4 English                No     $20,001-$40,000  \n",
       "5 Electrical Engineering No     $100,001-$120,000\n",
       "6 Undecided              No     Over $200,000    \n",
       "  ParEd1                                                        \n",
       "1 Completed a Master's degree or equivalent                     \n",
       "2 Did not finish high school                                    \n",
       "3 Completed a Ph.D., M.D., or other advanced professional degree\n",
       "4 Did not finish high school                                    \n",
       "5 Completed a Ph.D., M.D., or other advanced professional degree\n",
       "6 Completed a Master's degree or equivalent                     \n",
       "  ParEd2                                                         DID HID\n",
       "1 Graduated from a four-year college                             30  5  \n",
       "2 Did not finish high school                                     35  4  \n",
       "3 Completed a Ph.D., M.D., or other advanced professional degree 21  2  \n",
       "4 Did not finish high school                                     70  5  \n",
       "5 Graduated from a four-year college                             73  1  \n",
       "6 Completed a Master's degree or equivalent                      76  4  \n",
       "  NegativeWellBeing_2R NeedToBelong_11R LayEmpathy_3R LegitimizingMyths_2R\n",
       "1 1                    1                1             3                   \n",
       "2 5                    5                2             1                   \n",
       "3 2                    6                3             2                   \n",
       "4 4                    5                4             1                   \n",
       "5 7                    6                1             1                   \n",
       "6 4                    5                4             1                   \n",
       "  LegitimizingMyths_4R LegitimizingMyths_6R life_satisfaction_t2 loneliness_t2\n",
       "1 3                    3                    6.166667             2.000000     \n",
       "2 2                    1                    3.000000             2.666667     \n",
       "3 2                    2                    5.000000             1.666667     \n",
       "4 2                    3                    5.833333             3.000000     \n",
       "5 1                    1                    2.333333             3.000000     \n",
       "6 1                    1                    5.166667             2.000000     \n",
       "  stress_t2\n",
       "1 1.5      \n",
       "2 3.0      \n",
       "3 2.5      \n",
       "4 3.0      \n",
       "5 3.0      \n",
       "6 3.0      "
      ]
     },
     "metadata": {},
     "output_type": "display_data"
    }
   ],
   "source": [
    "for (score in names(composites)){\n",
    "    components = composites[[score]]\n",
    "    network[score] = rowMeans(network[components], na.rm=TRUE)\n",
    "    network = network %>% select(-components)\n",
    "}\n",
    "dim(network)\n",
    "head(network)"
   ]
  },
  {
   "cell_type": "markdown",
   "metadata": {},
   "source": [
    "### Drop columns we don't need"
   ]
  },
  {
   "cell_type": "code",
   "execution_count": 28,
   "metadata": {},
   "outputs": [
    {
     "data": {
      "text/html": [
       "<ol class=list-inline>\n",
       "\t<li>1157</li>\n",
       "\t<li>8</li>\n",
       "</ol>\n"
      ],
      "text/latex": [
       "\\begin{enumerate*}\n",
       "\\item 1157\n",
       "\\item 8\n",
       "\\end{enumerate*}\n"
      ],
      "text/markdown": [
       "1. 1157\n",
       "2. 8\n",
       "\n",
       "\n"
      ],
      "text/plain": [
       "[1] 1157    8"
      ]
     },
     "metadata": {},
     "output_type": "display_data"
    },
    {
     "data": {
      "text/html": [
       "<table>\n",
       "<caption>A data.frame: 6 × 8</caption>\n",
       "<thead>\n",
       "\t<tr><th></th><th scope=col>PID</th><th scope=col>IntStu</th><th scope=col>ParEd1</th><th scope=col>ParEd2</th><th scope=col>FamilyIncome</th><th scope=col>life_satisfaction_t2</th><th scope=col>loneliness_t2</th><th scope=col>stress_t2</th></tr>\n",
       "\t<tr><th></th><th scope=col>&lt;int&gt;</th><th scope=col>&lt;fct&gt;</th><th scope=col>&lt;fct&gt;</th><th scope=col>&lt;fct&gt;</th><th scope=col>&lt;fct&gt;</th><th scope=col>&lt;dbl&gt;</th><th scope=col>&lt;dbl&gt;</th><th scope=col>&lt;dbl&gt;</th></tr>\n",
       "</thead>\n",
       "<tbody>\n",
       "\t<tr><th scope=row>1</th><td>1001</td><td>No </td><td>Completed a Master's degree or equivalent                     </td><td>Graduated from a four-year college                            </td><td>$60,001-$80,000  </td><td>6.166667</td><td>2.000000</td><td>1.5</td></tr>\n",
       "\t<tr><th scope=row>2</th><td>1004</td><td>Yes</td><td>Did not finish high school                                    </td><td>Did not finish high school                                    </td><td>$0-$20,000       </td><td>3.000000</td><td>2.666667</td><td>3.0</td></tr>\n",
       "\t<tr><th scope=row>3</th><td>1006</td><td>No </td><td>Completed a Ph.D., M.D., or other advanced professional degree</td><td>Completed a Ph.D., M.D., or other advanced professional degree</td><td>$80,001-$100,000 </td><td>5.000000</td><td>1.666667</td><td>2.5</td></tr>\n",
       "\t<tr><th scope=row>4</th><td>1014</td><td>No </td><td>Did not finish high school                                    </td><td>Did not finish high school                                    </td><td>$20,001-$40,000  </td><td>5.833333</td><td>3.000000</td><td>3.0</td></tr>\n",
       "\t<tr><th scope=row>5</th><td>1017</td><td>No </td><td>Completed a Ph.D., M.D., or other advanced professional degree</td><td>Graduated from a four-year college                            </td><td>$100,001-$120,000</td><td>2.333333</td><td>3.000000</td><td>3.0</td></tr>\n",
       "\t<tr><th scope=row>6</th><td>1047</td><td>No </td><td>Completed a Master's degree or equivalent                     </td><td>Completed a Master's degree or equivalent                     </td><td>Over $200,000    </td><td>5.166667</td><td>2.000000</td><td>3.0</td></tr>\n",
       "</tbody>\n",
       "</table>\n"
      ],
      "text/latex": [
       "A data.frame: 6 × 8\n",
       "\\begin{tabular}{r|llllllll}\n",
       "  & PID & IntStu & ParEd1 & ParEd2 & FamilyIncome & life\\_satisfaction\\_t2 & loneliness\\_t2 & stress\\_t2\\\\\n",
       "  & <int> & <fct> & <fct> & <fct> & <fct> & <dbl> & <dbl> & <dbl>\\\\\n",
       "\\hline\n",
       "\t1 & 1001 & No  & Completed a Master's degree or equivalent                      & Graduated from a four-year college                             & \\$60,001-\\$80,000   & 6.166667 & 2.000000 & 1.5\\\\\n",
       "\t2 & 1004 & Yes & Did not finish high school                                     & Did not finish high school                                     & \\$0-\\$20,000        & 3.000000 & 2.666667 & 3.0\\\\\n",
       "\t3 & 1006 & No  & Completed a Ph.D., M.D., or other advanced professional degree & Completed a Ph.D., M.D., or other advanced professional degree & \\$80,001-\\$100,000  & 5.000000 & 1.666667 & 2.5\\\\\n",
       "\t4 & 1014 & No  & Did not finish high school                                     & Did not finish high school                                     & \\$20,001-\\$40,000   & 5.833333 & 3.000000 & 3.0\\\\\n",
       "\t5 & 1017 & No  & Completed a Ph.D., M.D., or other advanced professional degree & Graduated from a four-year college                             & \\$100,001-\\$120,000 & 2.333333 & 3.000000 & 3.0\\\\\n",
       "\t6 & 1047 & No  & Completed a Master's degree or equivalent                      & Completed a Master's degree or equivalent                      & Over \\$200,000     & 5.166667 & 2.000000 & 3.0\\\\\n",
       "\\end{tabular}\n"
      ],
      "text/markdown": [
       "\n",
       "A data.frame: 6 × 8\n",
       "\n",
       "| <!--/--> | PID &lt;int&gt; | IntStu &lt;fct&gt; | ParEd1 &lt;fct&gt; | ParEd2 &lt;fct&gt; | FamilyIncome &lt;fct&gt; | life_satisfaction_t2 &lt;dbl&gt; | loneliness_t2 &lt;dbl&gt; | stress_t2 &lt;dbl&gt; |\n",
       "|---|---|---|---|---|---|---|---|---|\n",
       "| 1 | 1001 | No  | Completed a Master's degree or equivalent                      | Graduated from a four-year college                             | $60,001-$80,000   | 6.166667 | 2.000000 | 1.5 |\n",
       "| 2 | 1004 | Yes | Did not finish high school                                     | Did not finish high school                                     | $0-$20,000        | 3.000000 | 2.666667 | 3.0 |\n",
       "| 3 | 1006 | No  | Completed a Ph.D., M.D., or other advanced professional degree | Completed a Ph.D., M.D., or other advanced professional degree | $80,001-$100,000  | 5.000000 | 1.666667 | 2.5 |\n",
       "| 4 | 1014 | No  | Did not finish high school                                     | Did not finish high school                                     | $20,001-$40,000   | 5.833333 | 3.000000 | 3.0 |\n",
       "| 5 | 1017 | No  | Completed a Ph.D., M.D., or other advanced professional degree | Graduated from a four-year college                             | $100,001-$120,000 | 2.333333 | 3.000000 | 3.0 |\n",
       "| 6 | 1047 | No  | Completed a Master's degree or equivalent                      | Completed a Master's degree or equivalent                      | Over $200,000     | 5.166667 | 2.000000 | 3.0 |\n",
       "\n"
      ],
      "text/plain": [
       "  PID  IntStu ParEd1                                                        \n",
       "1 1001 No     Completed a Master's degree or equivalent                     \n",
       "2 1004 Yes    Did not finish high school                                    \n",
       "3 1006 No     Completed a Ph.D., M.D., or other advanced professional degree\n",
       "4 1014 No     Did not finish high school                                    \n",
       "5 1017 No     Completed a Ph.D., M.D., or other advanced professional degree\n",
       "6 1047 No     Completed a Master's degree or equivalent                     \n",
       "  ParEd2                                                        \n",
       "1 Graduated from a four-year college                            \n",
       "2 Did not finish high school                                    \n",
       "3 Completed a Ph.D., M.D., or other advanced professional degree\n",
       "4 Did not finish high school                                    \n",
       "5 Graduated from a four-year college                            \n",
       "6 Completed a Master's degree or equivalent                     \n",
       "  FamilyIncome      life_satisfaction_t2 loneliness_t2 stress_t2\n",
       "1 $60,001-$80,000   6.166667             2.000000      1.5      \n",
       "2 $0-$20,000        3.000000             2.666667      3.0      \n",
       "3 $80,001-$100,000  5.000000             1.666667      2.5      \n",
       "4 $20,001-$40,000   5.833333             3.000000      3.0      \n",
       "5 $100,001-$120,000 2.333333             3.000000      3.0      \n",
       "6 Over $200,000     5.166667             2.000000      3.0      "
      ]
     },
     "metadata": {},
     "output_type": "display_data"
    }
   ],
   "source": [
    "network = network[c('PID', 'IntStu', 'ParEd1', 'ParEd2', 'FamilyIncome', names(composites))]\n",
    "dim(network)\n",
    "head(network)"
   ]
  },
  {
   "cell_type": "markdown",
   "metadata": {},
   "source": [
    "### Peek at frequency of missing values"
   ]
  },
  {
   "cell_type": "code",
   "execution_count": 29,
   "metadata": {},
   "outputs": [
    {
     "data": {
      "text/html": [
       "<ol class=list-inline>\n",
       "\t<li>1157</li>\n",
       "\t<li>8</li>\n",
       "</ol>\n"
      ],
      "text/latex": [
       "\\begin{enumerate*}\n",
       "\\item 1157\n",
       "\\item 8\n",
       "\\end{enumerate*}\n"
      ],
      "text/markdown": [
       "1. 1157\n",
       "2. 8\n",
       "\n",
       "\n"
      ],
      "text/plain": [
       "[1] 1157    8"
      ]
     },
     "metadata": {},
     "output_type": "display_data"
    },
    {
     "data": {
      "text/html": [
       "<dl class=dl-horizontal>\n",
       "\t<dt>PID</dt>\n",
       "\t\t<dd>0</dd>\n",
       "\t<dt>IntStu</dt>\n",
       "\t\t<dd>10</dd>\n",
       "\t<dt>ParEd1</dt>\n",
       "\t\t<dd>8</dd>\n",
       "\t<dt>ParEd2</dt>\n",
       "\t\t<dd>9</dd>\n",
       "\t<dt>FamilyIncome</dt>\n",
       "\t\t<dd>35</dd>\n",
       "\t<dt>life_satisfaction_t2</dt>\n",
       "\t\t<dd>6</dd>\n",
       "\t<dt>loneliness_t2</dt>\n",
       "\t\t<dd>5</dd>\n",
       "\t<dt>stress_t2</dt>\n",
       "\t\t<dd>5</dd>\n",
       "</dl>\n"
      ],
      "text/latex": [
       "\\begin{description*}\n",
       "\\item[PID] 0\n",
       "\\item[IntStu] 10\n",
       "\\item[ParEd1] 8\n",
       "\\item[ParEd2] 9\n",
       "\\item[FamilyIncome] 35\n",
       "\\item[life\\textbackslash{}\\_satisfaction\\textbackslash{}\\_t2] 6\n",
       "\\item[loneliness\\textbackslash{}\\_t2] 5\n",
       "\\item[stress\\textbackslash{}\\_t2] 5\n",
       "\\end{description*}\n"
      ],
      "text/markdown": [
       "PID\n",
       ":   0IntStu\n",
       ":   10ParEd1\n",
       ":   8ParEd2\n",
       ":   9FamilyIncome\n",
       ":   35life_satisfaction_t2\n",
       ":   6loneliness_t2\n",
       ":   5stress_t2\n",
       ":   5\n",
       "\n"
      ],
      "text/plain": [
       "                 PID               IntStu               ParEd1 \n",
       "                   0                   10                    8 \n",
       "              ParEd2         FamilyIncome life_satisfaction_t2 \n",
       "                   9                   35                    6 \n",
       "       loneliness_t2            stress_t2 \n",
       "                   5                    5 "
      ]
     },
     "metadata": {},
     "output_type": "display_data"
    }
   ],
   "source": [
    "dim(network)\n",
    "colSums(is.na(network))"
   ]
  },
  {
   "cell_type": "markdown",
   "metadata": {},
   "source": [
    "### International Students"
   ]
  },
  {
   "cell_type": "code",
   "execution_count": 30,
   "metadata": {},
   "outputs": [
    {
     "data": {
      "text/plain": [
       "  IntStu    \n",
       " No  :1002  \n",
       " Yes : 145  \n",
       " NA's:  10  "
      ]
     },
     "metadata": {},
     "output_type": "display_data"
    }
   ],
   "source": [
    "summary(network['IntStu'])"
   ]
  },
  {
   "cell_type": "code",
   "execution_count": 31,
   "metadata": {},
   "outputs": [],
   "source": [
    "network['IntStu'] = ifelse(network['IntStu']==\"Yes\", 1, 0)"
   ]
  },
  {
   "cell_type": "code",
   "execution_count": 32,
   "metadata": {},
   "outputs": [
    {
     "data": {
      "text/plain": [
       "\n",
       "   0    1 \n",
       "1002  145 "
      ]
     },
     "metadata": {},
     "output_type": "display_data"
    }
   ],
   "source": [
    "table(network['IntStu'])"
   ]
  },
  {
   "cell_type": "markdown",
   "metadata": {},
   "source": [
    "### Parental Education"
   ]
  },
  {
   "cell_type": "code",
   "execution_count": 33,
   "metadata": {},
   "outputs": [
    {
     "data": {
      "text/html": [
       "<ol class=list-inline>\n",
       "\t<li>'Completed a Master\\'s degree or equivalent'</li>\n",
       "\t<li>'Completed a Ph.D., M.D., or other advanced professional degree'</li>\n",
       "\t<li>'Did not finish high school'</li>\n",
       "\t<li>'Does not apply'</li>\n",
       "\t<li>'Don\\'t know'</li>\n",
       "\t<li>'Graduated from a four-year college'</li>\n",
       "\t<li>'Graduated from a two-year college'</li>\n",
       "\t<li>'Graduated from high school or equivalent (GED)'</li>\n",
       "\t<li>'Prefer not to answer'</li>\n",
       "</ol>\n"
      ],
      "text/latex": [
       "\\begin{enumerate*}\n",
       "\\item 'Completed a Master\\textbackslash{}'s degree or equivalent'\n",
       "\\item 'Completed a Ph.D., M.D., or other advanced professional degree'\n",
       "\\item 'Did not finish high school'\n",
       "\\item 'Does not apply'\n",
       "\\item 'Don\\textbackslash{}'t know'\n",
       "\\item 'Graduated from a four-year college'\n",
       "\\item 'Graduated from a two-year college'\n",
       "\\item 'Graduated from high school or equivalent (GED)'\n",
       "\\item 'Prefer not to answer'\n",
       "\\end{enumerate*}\n"
      ],
      "text/markdown": [
       "1. 'Completed a Master\\'s degree or equivalent'\n",
       "2. 'Completed a Ph.D., M.D., or other advanced professional degree'\n",
       "3. 'Did not finish high school'\n",
       "4. 'Does not apply'\n",
       "5. 'Don\\'t know'\n",
       "6. 'Graduated from a four-year college'\n",
       "7. 'Graduated from a two-year college'\n",
       "8. 'Graduated from high school or equivalent (GED)'\n",
       "9. 'Prefer not to answer'\n",
       "\n",
       "\n"
      ],
      "text/plain": [
       "[1] \"Completed a Master's degree or equivalent\"                     \n",
       "[2] \"Completed a Ph.D., M.D., or other advanced professional degree\"\n",
       "[3] \"Did not finish high school\"                                    \n",
       "[4] \"Does not apply\"                                                \n",
       "[5] \"Don't know\"                                                    \n",
       "[6] \"Graduated from a four-year college\"                            \n",
       "[7] \"Graduated from a two-year college\"                             \n",
       "[8] \"Graduated from high school or equivalent (GED)\"                \n",
       "[9] \"Prefer not to answer\"                                          "
      ]
     },
     "metadata": {},
     "output_type": "display_data"
    }
   ],
   "source": [
    "levels(network$ParEd1)"
   ]
  },
  {
   "cell_type": "code",
   "execution_count": 34,
   "metadata": {},
   "outputs": [
    {
     "data": {
      "text/plain": [
       "\n",
       "                     Completed a Master's degree or equivalent \n",
       "                                                           319 \n",
       "Completed a Ph.D., M.D., or other advanced professional degree \n",
       "                                                           324 \n",
       "                                    Did not finish high school \n",
       "                                                            82 \n",
       "                                                Does not apply \n",
       "                                                             8 \n",
       "                                                    Don't know \n",
       "                                                             4 \n",
       "                            Graduated from a four-year college \n",
       "                                                           218 \n",
       "                             Graduated from a two-year college \n",
       "                                                            31 \n",
       "                Graduated from high school or equivalent (GED) \n",
       "                                                           146 \n",
       "                                          Prefer not to answer \n",
       "                                                            17 "
      ]
     },
     "metadata": {},
     "output_type": "display_data"
    }
   ],
   "source": [
    "table(network['ParEd1'])"
   ]
  },
  {
   "cell_type": "code",
   "execution_count": 35,
   "metadata": {},
   "outputs": [
    {
     "data": {
      "text/plain": [
       "\n",
       "  1   2   3   4   5   6 \n",
       " 51 124  39 183 323 356 "
      ]
     },
     "metadata": {},
     "output_type": "display_data"
    },
    {
     "data": {
      "text/html": [
       "<table>\n",
       "<caption>A data.frame: 6 × 9</caption>\n",
       "<thead>\n",
       "\t<tr><th></th><th scope=col>PID</th><th scope=col>IntStu</th><th scope=col>ParEd1</th><th scope=col>ParEd2</th><th scope=col>FamilyIncome</th><th scope=col>life_satisfaction_t2</th><th scope=col>loneliness_t2</th><th scope=col>stress_t2</th><th scope=col>parent_education_highest</th></tr>\n",
       "\t<tr><th></th><th scope=col>&lt;int&gt;</th><th scope=col>&lt;dbl[,1]&gt;</th><th scope=col>&lt;dbl&gt;</th><th scope=col>&lt;dbl&gt;</th><th scope=col>&lt;fct&gt;</th><th scope=col>&lt;dbl&gt;</th><th scope=col>&lt;dbl&gt;</th><th scope=col>&lt;dbl&gt;</th><th scope=col>&lt;dbl&gt;</th></tr>\n",
       "</thead>\n",
       "<tbody>\n",
       "\t<tr><th scope=row>1</th><td>1001</td><td>0</td><td>5</td><td>4</td><td>$60,001-$80,000  </td><td>6.166667</td><td>2.000000</td><td>1.5</td><td>5</td></tr>\n",
       "\t<tr><th scope=row>2</th><td>1004</td><td>1</td><td>1</td><td>1</td><td>$0-$20,000       </td><td>3.000000</td><td>2.666667</td><td>3.0</td><td>1</td></tr>\n",
       "\t<tr><th scope=row>3</th><td>1006</td><td>0</td><td>6</td><td>6</td><td>$80,001-$100,000 </td><td>5.000000</td><td>1.666667</td><td>2.5</td><td>6</td></tr>\n",
       "\t<tr><th scope=row>4</th><td>1014</td><td>0</td><td>1</td><td>1</td><td>$20,001-$40,000  </td><td>5.833333</td><td>3.000000</td><td>3.0</td><td>1</td></tr>\n",
       "\t<tr><th scope=row>5</th><td>1017</td><td>0</td><td>6</td><td>4</td><td>$100,001-$120,000</td><td>2.333333</td><td>3.000000</td><td>3.0</td><td>6</td></tr>\n",
       "\t<tr><th scope=row>6</th><td>1047</td><td>0</td><td>5</td><td>5</td><td>Over $200,000    </td><td>5.166667</td><td>2.000000</td><td>3.0</td><td>5</td></tr>\n",
       "</tbody>\n",
       "</table>\n"
      ],
      "text/latex": [
       "A data.frame: 6 × 9\n",
       "\\begin{tabular}{r|lllllllll}\n",
       "  & PID & IntStu & ParEd1 & ParEd2 & FamilyIncome & life\\_satisfaction\\_t2 & loneliness\\_t2 & stress\\_t2 & parent\\_education\\_highest\\\\\n",
       "  & <int> & <dbl{[},1{]}> & <dbl> & <dbl> & <fct> & <dbl> & <dbl> & <dbl> & <dbl>\\\\\n",
       "\\hline\n",
       "\t1 & 1001 & 0 & 5 & 4 & \\$60,001-\\$80,000   & 6.166667 & 2.000000 & 1.5 & 5\\\\\n",
       "\t2 & 1004 & 1 & 1 & 1 & \\$0-\\$20,000        & 3.000000 & 2.666667 & 3.0 & 1\\\\\n",
       "\t3 & 1006 & 0 & 6 & 6 & \\$80,001-\\$100,000  & 5.000000 & 1.666667 & 2.5 & 6\\\\\n",
       "\t4 & 1014 & 0 & 1 & 1 & \\$20,001-\\$40,000   & 5.833333 & 3.000000 & 3.0 & 1\\\\\n",
       "\t5 & 1017 & 0 & 6 & 4 & \\$100,001-\\$120,000 & 2.333333 & 3.000000 & 3.0 & 6\\\\\n",
       "\t6 & 1047 & 0 & 5 & 5 & Over \\$200,000     & 5.166667 & 2.000000 & 3.0 & 5\\\\\n",
       "\\end{tabular}\n"
      ],
      "text/markdown": [
       "\n",
       "A data.frame: 6 × 9\n",
       "\n",
       "| <!--/--> | PID &lt;int&gt; | IntStu &lt;dbl[,1]&gt; | ParEd1 &lt;dbl&gt; | ParEd2 &lt;dbl&gt; | FamilyIncome &lt;fct&gt; | life_satisfaction_t2 &lt;dbl&gt; | loneliness_t2 &lt;dbl&gt; | stress_t2 &lt;dbl&gt; | parent_education_highest &lt;dbl&gt; |\n",
       "|---|---|---|---|---|---|---|---|---|---|\n",
       "| 1 | 1001 | 0 | 5 | 4 | $60,001-$80,000   | 6.166667 | 2.000000 | 1.5 | 5 |\n",
       "| 2 | 1004 | 1 | 1 | 1 | $0-$20,000        | 3.000000 | 2.666667 | 3.0 | 1 |\n",
       "| 3 | 1006 | 0 | 6 | 6 | $80,001-$100,000  | 5.000000 | 1.666667 | 2.5 | 6 |\n",
       "| 4 | 1014 | 0 | 1 | 1 | $20,001-$40,000   | 5.833333 | 3.000000 | 3.0 | 1 |\n",
       "| 5 | 1017 | 0 | 6 | 4 | $100,001-$120,000 | 2.333333 | 3.000000 | 3.0 | 6 |\n",
       "| 6 | 1047 | 0 | 5 | 5 | Over $200,000     | 5.166667 | 2.000000 | 3.0 | 5 |\n",
       "\n"
      ],
      "text/plain": [
       "  PID  IntStu ParEd1 ParEd2 FamilyIncome      life_satisfaction_t2\n",
       "1 1001 0      5      4      $60,001-$80,000   6.166667            \n",
       "2 1004 1      1      1      $0-$20,000        3.000000            \n",
       "3 1006 0      6      6      $80,001-$100,000  5.000000            \n",
       "4 1014 0      1      1      $20,001-$40,000   5.833333            \n",
       "5 1017 0      6      4      $100,001-$120,000 2.333333            \n",
       "6 1047 0      5      5      Over $200,000     5.166667            \n",
       "  loneliness_t2 stress_t2 parent_education_highest\n",
       "1 2.000000      1.5       5                       \n",
       "2 2.666667      3.0       1                       \n",
       "3 1.666667      2.5       6                       \n",
       "4 3.000000      3.0       1                       \n",
       "5 3.000000      3.0       6                       \n",
       "6 2.000000      3.0       5                       "
      ]
     },
     "metadata": {},
     "output_type": "display_data"
    }
   ],
   "source": [
    "edLevels = c(\n",
    "    \"Did not finish high school\",\n",
    "    \"Graduated from high school or equivalent (GED)\",\n",
    "    \"Graduated from a two-year college\",\n",
    "    \"Graduated from a four-year college\",\n",
    "    \"Completed a Master's degree or equivalent\",\n",
    "    \"Completed a Ph.D., M.D., or other advanced professional degree\",\n",
    "    \"Does not apply\",\n",
    "    \"Don't know\",\n",
    "    \"Prefer not to answer\"\n",
    ")\n",
    "\n",
    "network$ParEd1 = factor(network$ParEd1, levels=edLevels)\n",
    "network$ParEd2 = factor(network$ParEd2, levels=edLevels)\n",
    "\n",
    "for (na_level in c('Does not apply', \"Don't know\", \"Prefer not to answer\")) {\n",
    "    network$ParEd1[network$ParEd1 == na_level] = NA\n",
    "    network$ParEd2[network$ParEd2 == na_level] = NA\n",
    "}\n",
    "\n",
    "network$ParEd1 = as.numeric(network$ParEd1)\n",
    "network$ParEd2 = as.numeric(network$ParEd2)\n",
    "\n",
    "network$parent_education_highest = pmax(network$ParEd1, network$ParEd2)\n",
    "\n",
    "table(network$parent_education_highest)\n",
    "head(network)"
   ]
  },
  {
   "cell_type": "code",
   "execution_count": 36,
   "metadata": {},
   "outputs": [
    {
     "data": {
      "text/html": [
       "<table>\n",
       "<caption>A data.frame: 6 × 7</caption>\n",
       "<thead>\n",
       "\t<tr><th></th><th scope=col>PID</th><th scope=col>IntStu</th><th scope=col>FamilyIncome</th><th scope=col>life_satisfaction_t2</th><th scope=col>loneliness_t2</th><th scope=col>stress_t2</th><th scope=col>parent_education_highest</th></tr>\n",
       "\t<tr><th></th><th scope=col>&lt;int&gt;</th><th scope=col>&lt;dbl[,1]&gt;</th><th scope=col>&lt;fct&gt;</th><th scope=col>&lt;dbl&gt;</th><th scope=col>&lt;dbl&gt;</th><th scope=col>&lt;dbl&gt;</th><th scope=col>&lt;dbl&gt;</th></tr>\n",
       "</thead>\n",
       "<tbody>\n",
       "\t<tr><th scope=row>1</th><td>1001</td><td>0</td><td>$60,001-$80,000  </td><td>6.166667</td><td>2.000000</td><td>1.5</td><td>5</td></tr>\n",
       "\t<tr><th scope=row>2</th><td>1004</td><td>1</td><td>$0-$20,000       </td><td>3.000000</td><td>2.666667</td><td>3.0</td><td>1</td></tr>\n",
       "\t<tr><th scope=row>3</th><td>1006</td><td>0</td><td>$80,001-$100,000 </td><td>5.000000</td><td>1.666667</td><td>2.5</td><td>6</td></tr>\n",
       "\t<tr><th scope=row>4</th><td>1014</td><td>0</td><td>$20,001-$40,000  </td><td>5.833333</td><td>3.000000</td><td>3.0</td><td>1</td></tr>\n",
       "\t<tr><th scope=row>5</th><td>1017</td><td>0</td><td>$100,001-$120,000</td><td>2.333333</td><td>3.000000</td><td>3.0</td><td>6</td></tr>\n",
       "\t<tr><th scope=row>6</th><td>1047</td><td>0</td><td>Over $200,000    </td><td>5.166667</td><td>2.000000</td><td>3.0</td><td>5</td></tr>\n",
       "</tbody>\n",
       "</table>\n"
      ],
      "text/latex": [
       "A data.frame: 6 × 7\n",
       "\\begin{tabular}{r|lllllll}\n",
       "  & PID & IntStu & FamilyIncome & life\\_satisfaction\\_t2 & loneliness\\_t2 & stress\\_t2 & parent\\_education\\_highest\\\\\n",
       "  & <int> & <dbl{[},1{]}> & <fct> & <dbl> & <dbl> & <dbl> & <dbl>\\\\\n",
       "\\hline\n",
       "\t1 & 1001 & 0 & \\$60,001-\\$80,000   & 6.166667 & 2.000000 & 1.5 & 5\\\\\n",
       "\t2 & 1004 & 1 & \\$0-\\$20,000        & 3.000000 & 2.666667 & 3.0 & 1\\\\\n",
       "\t3 & 1006 & 0 & \\$80,001-\\$100,000  & 5.000000 & 1.666667 & 2.5 & 6\\\\\n",
       "\t4 & 1014 & 0 & \\$20,001-\\$40,000   & 5.833333 & 3.000000 & 3.0 & 1\\\\\n",
       "\t5 & 1017 & 0 & \\$100,001-\\$120,000 & 2.333333 & 3.000000 & 3.0 & 6\\\\\n",
       "\t6 & 1047 & 0 & Over \\$200,000     & 5.166667 & 2.000000 & 3.0 & 5\\\\\n",
       "\\end{tabular}\n"
      ],
      "text/markdown": [
       "\n",
       "A data.frame: 6 × 7\n",
       "\n",
       "| <!--/--> | PID &lt;int&gt; | IntStu &lt;dbl[,1]&gt; | FamilyIncome &lt;fct&gt; | life_satisfaction_t2 &lt;dbl&gt; | loneliness_t2 &lt;dbl&gt; | stress_t2 &lt;dbl&gt; | parent_education_highest &lt;dbl&gt; |\n",
       "|---|---|---|---|---|---|---|---|\n",
       "| 1 | 1001 | 0 | $60,001-$80,000   | 6.166667 | 2.000000 | 1.5 | 5 |\n",
       "| 2 | 1004 | 1 | $0-$20,000        | 3.000000 | 2.666667 | 3.0 | 1 |\n",
       "| 3 | 1006 | 0 | $80,001-$100,000  | 5.000000 | 1.666667 | 2.5 | 6 |\n",
       "| 4 | 1014 | 0 | $20,001-$40,000   | 5.833333 | 3.000000 | 3.0 | 1 |\n",
       "| 5 | 1017 | 0 | $100,001-$120,000 | 2.333333 | 3.000000 | 3.0 | 6 |\n",
       "| 6 | 1047 | 0 | Over $200,000     | 5.166667 | 2.000000 | 3.0 | 5 |\n",
       "\n"
      ],
      "text/plain": [
       "  PID  IntStu FamilyIncome      life_satisfaction_t2 loneliness_t2 stress_t2\n",
       "1 1001 0      $60,001-$80,000   6.166667             2.000000      1.5      \n",
       "2 1004 1      $0-$20,000        3.000000             2.666667      3.0      \n",
       "3 1006 0      $80,001-$100,000  5.000000             1.666667      2.5      \n",
       "4 1014 0      $20,001-$40,000   5.833333             3.000000      3.0      \n",
       "5 1017 0      $100,001-$120,000 2.333333             3.000000      3.0      \n",
       "6 1047 0      Over $200,000     5.166667             2.000000      3.0      \n",
       "  parent_education_highest\n",
       "1 5                       \n",
       "2 1                       \n",
       "3 6                       \n",
       "4 1                       \n",
       "5 6                       \n",
       "6 5                       "
      ]
     },
     "metadata": {},
     "output_type": "display_data"
    }
   ],
   "source": [
    "# Remove individual columns, no longer needed\n",
    "network = network %>% select(-c('ParEd1', 'ParEd2'))\n",
    "head(network)"
   ]
  },
  {
   "cell_type": "markdown",
   "metadata": {},
   "source": [
    "### Family Income"
   ]
  },
  {
   "cell_type": "code",
   "execution_count": 37,
   "metadata": {},
   "outputs": [
    {
     "data": {
      "text/plain": [
       "\n",
       "       $0-$20,000 $100,001-$120,000 $120,001-$140,000 $140,001-$160,000 \n",
       "               85               121                53                49 \n",
       "$160,001-$180,000 $180,001-$200,000   $20,001-$40,000   $40,001-$60,000 \n",
       "               60                58               109                65 \n",
       "  $60,001-$80,000  $80,001-$100,000     Over $200,000 \n",
       "               87               106               329 "
      ]
     },
     "metadata": {},
     "output_type": "display_data"
    }
   ],
   "source": [
    "network$FamilyIncome = as.character(network$FamilyIncome)\n",
    "table(network$FamilyIncome)"
   ]
  },
  {
   "cell_type": "code",
   "execution_count": 38,
   "metadata": {},
   "outputs": [
    {
     "data": {
      "text/plain": [
       "\n",
       " 10000  30000  50000  70000  90000 110000 130000 150000 170000 190000 210000 \n",
       "    85    109     65     87    106    121     53     49     60     58    329 "
      ]
     },
     "metadata": {},
     "output_type": "display_data"
    }
   ],
   "source": [
    "network$FamilyIncome[network$FamilyIncome == '$0-$20,000'] = 10000\n",
    "network$FamilyIncome[network$FamilyIncome == '$20,001-$40,000'] = 30000\n",
    "network$FamilyIncome[network$FamilyIncome == '$40,001-$60,000'] = 50000\n",
    "network$FamilyIncome[network$FamilyIncome == '$60,001-$80,000'] = 70000\n",
    "network$FamilyIncome[network$FamilyIncome == '$80,001-$100,000'] = 90000\n",
    "network$FamilyIncome[network$FamilyIncome == '$100,001-$120,000'] = 110000\n",
    "network$FamilyIncome[network$FamilyIncome == '$120,001-$140,000'] = 130000\n",
    "network$FamilyIncome[network$FamilyIncome == '$140,001-$160,000'] = 150000\n",
    "network$FamilyIncome[network$FamilyIncome == '$160,001-$180,000'] = 170000\n",
    "network$FamilyIncome[network$FamilyIncome == '$180,001-$200,000'] = 190000\n",
    "network$FamilyIncome[network$FamilyIncome == 'Over $200,000'] = 210000\n",
    "network$FamilyIncome = as.numeric(network$FamilyIncome)\n",
    "table(network$FamilyIncome)"
   ]
  },
  {
   "cell_type": "code",
   "execution_count": 39,
   "metadata": {},
   "outputs": [
    {
     "data": {
      "text/html": [
       "<table>\n",
       "<caption>A data.frame: 6 × 7</caption>\n",
       "<thead>\n",
       "\t<tr><th></th><th scope=col>PID</th><th scope=col>intl_student</th><th scope=col>family_income</th><th scope=col>life_satisfaction_t2</th><th scope=col>loneliness_t2</th><th scope=col>stress_t2</th><th scope=col>parent_education_highest</th></tr>\n",
       "\t<tr><th></th><th scope=col>&lt;int&gt;</th><th scope=col>&lt;dbl[,1]&gt;</th><th scope=col>&lt;dbl&gt;</th><th scope=col>&lt;dbl&gt;</th><th scope=col>&lt;dbl&gt;</th><th scope=col>&lt;dbl&gt;</th><th scope=col>&lt;dbl&gt;</th></tr>\n",
       "</thead>\n",
       "<tbody>\n",
       "\t<tr><th scope=row>1</th><td>1001</td><td>0</td><td> 70000</td><td>6.166667</td><td>2.000000</td><td>1.5</td><td>5</td></tr>\n",
       "\t<tr><th scope=row>2</th><td>1004</td><td>1</td><td> 10000</td><td>3.000000</td><td>2.666667</td><td>3.0</td><td>1</td></tr>\n",
       "\t<tr><th scope=row>3</th><td>1006</td><td>0</td><td> 90000</td><td>5.000000</td><td>1.666667</td><td>2.5</td><td>6</td></tr>\n",
       "\t<tr><th scope=row>4</th><td>1014</td><td>0</td><td> 30000</td><td>5.833333</td><td>3.000000</td><td>3.0</td><td>1</td></tr>\n",
       "\t<tr><th scope=row>5</th><td>1017</td><td>0</td><td>110000</td><td>2.333333</td><td>3.000000</td><td>3.0</td><td>6</td></tr>\n",
       "\t<tr><th scope=row>6</th><td>1047</td><td>0</td><td>210000</td><td>5.166667</td><td>2.000000</td><td>3.0</td><td>5</td></tr>\n",
       "</tbody>\n",
       "</table>\n"
      ],
      "text/latex": [
       "A data.frame: 6 × 7\n",
       "\\begin{tabular}{r|lllllll}\n",
       "  & PID & intl\\_student & family\\_income & life\\_satisfaction\\_t2 & loneliness\\_t2 & stress\\_t2 & parent\\_education\\_highest\\\\\n",
       "  & <int> & <dbl{[},1{]}> & <dbl> & <dbl> & <dbl> & <dbl> & <dbl>\\\\\n",
       "\\hline\n",
       "\t1 & 1001 & 0 &  70000 & 6.166667 & 2.000000 & 1.5 & 5\\\\\n",
       "\t2 & 1004 & 1 &  10000 & 3.000000 & 2.666667 & 3.0 & 1\\\\\n",
       "\t3 & 1006 & 0 &  90000 & 5.000000 & 1.666667 & 2.5 & 6\\\\\n",
       "\t4 & 1014 & 0 &  30000 & 5.833333 & 3.000000 & 3.0 & 1\\\\\n",
       "\t5 & 1017 & 0 & 110000 & 2.333333 & 3.000000 & 3.0 & 6\\\\\n",
       "\t6 & 1047 & 0 & 210000 & 5.166667 & 2.000000 & 3.0 & 5\\\\\n",
       "\\end{tabular}\n"
      ],
      "text/markdown": [
       "\n",
       "A data.frame: 6 × 7\n",
       "\n",
       "| <!--/--> | PID &lt;int&gt; | intl_student &lt;dbl[,1]&gt; | family_income &lt;dbl&gt; | life_satisfaction_t2 &lt;dbl&gt; | loneliness_t2 &lt;dbl&gt; | stress_t2 &lt;dbl&gt; | parent_education_highest &lt;dbl&gt; |\n",
       "|---|---|---|---|---|---|---|---|\n",
       "| 1 | 1001 | 0 |  70000 | 6.166667 | 2.000000 | 1.5 | 5 |\n",
       "| 2 | 1004 | 1 |  10000 | 3.000000 | 2.666667 | 3.0 | 1 |\n",
       "| 3 | 1006 | 0 |  90000 | 5.000000 | 1.666667 | 2.5 | 6 |\n",
       "| 4 | 1014 | 0 |  30000 | 5.833333 | 3.000000 | 3.0 | 1 |\n",
       "| 5 | 1017 | 0 | 110000 | 2.333333 | 3.000000 | 3.0 | 6 |\n",
       "| 6 | 1047 | 0 | 210000 | 5.166667 | 2.000000 | 3.0 | 5 |\n",
       "\n"
      ],
      "text/plain": [
       "  PID  intl_student family_income life_satisfaction_t2 loneliness_t2 stress_t2\n",
       "1 1001 0             70000        6.166667             2.000000      1.5      \n",
       "2 1004 1             10000        3.000000             2.666667      3.0      \n",
       "3 1006 0             90000        5.000000             1.666667      2.5      \n",
       "4 1014 0             30000        5.833333             3.000000      3.0      \n",
       "5 1017 0            110000        2.333333             3.000000      3.0      \n",
       "6 1047 0            210000        5.166667             2.000000      3.0      \n",
       "  parent_education_highest\n",
       "1 5                       \n",
       "2 1                       \n",
       "3 6                       \n",
       "4 1                       \n",
       "5 6                       \n",
       "6 5                       "
      ]
     },
     "metadata": {},
     "output_type": "display_data"
    }
   ],
   "source": [
    "network = network %>% \n",
    "  rename(\n",
    "    family_income = FamilyIncome,\n",
    "    intl_student = IntStu\n",
    "  )\n",
    "\n",
    "# network = column_to_rownames(network, \"PID\")\n",
    "\n",
    "head(network)"
   ]
  },
  {
   "cell_type": "markdown",
   "metadata": {},
   "source": [
    "## Merge prefrosh and network data"
   ]
  },
  {
   "cell_type": "code",
   "execution_count": 40,
   "metadata": {},
   "outputs": [
    {
     "data": {
      "text/html": [
       "<table>\n",
       "<caption>A data.frame: 6 × 13</caption>\n",
       "<thead>\n",
       "\t<tr><th></th><th scope=col>PID</th><th scope=col>gender</th><th scope=col>race</th><th scope=col>dorm</th><th scope=col>life_satisfaction_t1</th><th scope=col>empathy</th><th scope=col>loneliness_t1</th><th scope=col>stress_t1</th><th scope=col>BFI_E</th><th scope=col>BFI_A</th><th scope=col>BFI_C</th><th scope=col>BFI_N</th><th scope=col>BFI_O</th></tr>\n",
       "\t<tr><th></th><th scope=col>&lt;int&gt;</th><th scope=col>&lt;fct&gt;</th><th scope=col>&lt;fct&gt;</th><th scope=col>&lt;fct&gt;</th><th scope=col>&lt;dbl&gt;</th><th scope=col>&lt;dbl&gt;</th><th scope=col>&lt;dbl&gt;</th><th scope=col>&lt;dbl&gt;</th><th scope=col>&lt;dbl&gt;</th><th scope=col>&lt;dbl&gt;</th><th scope=col>&lt;dbl&gt;</th><th scope=col>&lt;dbl&gt;</th><th scope=col>&lt;dbl&gt;</th></tr>\n",
       "</thead>\n",
       "<tbody>\n",
       "\t<tr><th scope=row>1</th><td>1001</td><td>male  </td><td>south_asian   </td><td>Rinconada</td><td>4.833333</td><td>6.375</td><td>1.333333</td><td>2.5</td><td>6.5</td><td>6.0</td><td>5.5</td><td>3.5</td><td>6.5</td></tr>\n",
       "\t<tr><th scope=row>2</th><td>1004</td><td>female</td><td>south_asian   </td><td>Donner   </td><td>2.833333</td><td>6.000</td><td>2.000000</td><td>2.0</td><td>4.0</td><td>5.5</td><td>4.5</td><td>3.0</td><td>5.5</td></tr>\n",
       "\t<tr><th scope=row>3</th><td>1012</td><td>male  </td><td>south_asian   </td><td>Cedro    </td><td>6.000000</td><td>5.875</td><td>2.000000</td><td>1.5</td><td>4.0</td><td>5.5</td><td>5.5</td><td>2.5</td><td>6.0</td></tr>\n",
       "\t<tr><th scope=row>4</th><td>1027</td><td>female</td><td>white         </td><td>Junipero </td><td>6.833333</td><td>6.875</td><td>1.000000</td><td>2.0</td><td>7.0</td><td>6.5</td><td>4.5</td><td>2.5</td><td>7.0</td></tr>\n",
       "\t<tr><th scope=row>5</th><td>1036</td><td>NA    </td><td>other_or_mixed</td><td>FroSoCo  </td><td>2.666667</td><td>5.250</td><td>2.666667</td><td>3.0</td><td>1.0</td><td>3.0</td><td>1.0</td><td>7.0</td><td>2.5</td></tr>\n",
       "\t<tr><th scope=row>6</th><td>1038</td><td>male  </td><td>east_asian    </td><td>Faisan   </td><td>5.333333</td><td>6.500</td><td>1.000000</td><td>1.5</td><td>4.5</td><td>5.0</td><td>5.5</td><td>2.5</td><td>6.5</td></tr>\n",
       "</tbody>\n",
       "</table>\n"
      ],
      "text/latex": [
       "A data.frame: 6 × 13\n",
       "\\begin{tabular}{r|lllllllllllll}\n",
       "  & PID & gender & race & dorm & life\\_satisfaction\\_t1 & empathy & loneliness\\_t1 & stress\\_t1 & BFI\\_E & BFI\\_A & BFI\\_C & BFI\\_N & BFI\\_O\\\\\n",
       "  & <int> & <fct> & <fct> & <fct> & <dbl> & <dbl> & <dbl> & <dbl> & <dbl> & <dbl> & <dbl> & <dbl> & <dbl>\\\\\n",
       "\\hline\n",
       "\t1 & 1001 & male   & south\\_asian    & Rinconada & 4.833333 & 6.375 & 1.333333 & 2.5 & 6.5 & 6.0 & 5.5 & 3.5 & 6.5\\\\\n",
       "\t2 & 1004 & female & south\\_asian    & Donner    & 2.833333 & 6.000 & 2.000000 & 2.0 & 4.0 & 5.5 & 4.5 & 3.0 & 5.5\\\\\n",
       "\t3 & 1012 & male   & south\\_asian    & Cedro     & 6.000000 & 5.875 & 2.000000 & 1.5 & 4.0 & 5.5 & 5.5 & 2.5 & 6.0\\\\\n",
       "\t4 & 1027 & female & white          & Junipero  & 6.833333 & 6.875 & 1.000000 & 2.0 & 7.0 & 6.5 & 4.5 & 2.5 & 7.0\\\\\n",
       "\t5 & 1036 & NA     & other\\_or\\_mixed & FroSoCo   & 2.666667 & 5.250 & 2.666667 & 3.0 & 1.0 & 3.0 & 1.0 & 7.0 & 2.5\\\\\n",
       "\t6 & 1038 & male   & east\\_asian     & Faisan    & 5.333333 & 6.500 & 1.000000 & 1.5 & 4.5 & 5.0 & 5.5 & 2.5 & 6.5\\\\\n",
       "\\end{tabular}\n"
      ],
      "text/markdown": [
       "\n",
       "A data.frame: 6 × 13\n",
       "\n",
       "| <!--/--> | PID &lt;int&gt; | gender &lt;fct&gt; | race &lt;fct&gt; | dorm &lt;fct&gt; | life_satisfaction_t1 &lt;dbl&gt; | empathy &lt;dbl&gt; | loneliness_t1 &lt;dbl&gt; | stress_t1 &lt;dbl&gt; | BFI_E &lt;dbl&gt; | BFI_A &lt;dbl&gt; | BFI_C &lt;dbl&gt; | BFI_N &lt;dbl&gt; | BFI_O &lt;dbl&gt; |\n",
       "|---|---|---|---|---|---|---|---|---|---|---|---|---|---|\n",
       "| 1 | 1001 | male   | south_asian    | Rinconada | 4.833333 | 6.375 | 1.333333 | 2.5 | 6.5 | 6.0 | 5.5 | 3.5 | 6.5 |\n",
       "| 2 | 1004 | female | south_asian    | Donner    | 2.833333 | 6.000 | 2.000000 | 2.0 | 4.0 | 5.5 | 4.5 | 3.0 | 5.5 |\n",
       "| 3 | 1012 | male   | south_asian    | Cedro     | 6.000000 | 5.875 | 2.000000 | 1.5 | 4.0 | 5.5 | 5.5 | 2.5 | 6.0 |\n",
       "| 4 | 1027 | female | white          | Junipero  | 6.833333 | 6.875 | 1.000000 | 2.0 | 7.0 | 6.5 | 4.5 | 2.5 | 7.0 |\n",
       "| 5 | 1036 | NA     | other_or_mixed | FroSoCo   | 2.666667 | 5.250 | 2.666667 | 3.0 | 1.0 | 3.0 | 1.0 | 7.0 | 2.5 |\n",
       "| 6 | 1038 | male   | east_asian     | Faisan    | 5.333333 | 6.500 | 1.000000 | 1.5 | 4.5 | 5.0 | 5.5 | 2.5 | 6.5 |\n",
       "\n"
      ],
      "text/plain": [
       "  PID  gender race           dorm      life_satisfaction_t1 empathy\n",
       "1 1001 male   south_asian    Rinconada 4.833333             6.375  \n",
       "2 1004 female south_asian    Donner    2.833333             6.000  \n",
       "3 1012 male   south_asian    Cedro     6.000000             5.875  \n",
       "4 1027 female white          Junipero  6.833333             6.875  \n",
       "5 1036 NA     other_or_mixed FroSoCo   2.666667             5.250  \n",
       "6 1038 male   east_asian     Faisan    5.333333             6.500  \n",
       "  loneliness_t1 stress_t1 BFI_E BFI_A BFI_C BFI_N BFI_O\n",
       "1 1.333333      2.5       6.5   6.0   5.5   3.5   6.5  \n",
       "2 2.000000      2.0       4.0   5.5   4.5   3.0   5.5  \n",
       "3 2.000000      1.5       4.0   5.5   5.5   2.5   6.0  \n",
       "4 1.000000      2.0       7.0   6.5   4.5   2.5   7.0  \n",
       "5 2.666667      3.0       1.0   3.0   1.0   7.0   2.5  \n",
       "6 1.000000      1.5       4.5   5.0   5.5   2.5   6.5  "
      ]
     },
     "metadata": {},
     "output_type": "display_data"
    }
   ],
   "source": [
    "head(prefrosh)"
   ]
  },
  {
   "cell_type": "code",
   "execution_count": 41,
   "metadata": {},
   "outputs": [
    {
     "data": {
      "text/html": [
       "<table>\n",
       "<caption>A data.frame: 6 × 7</caption>\n",
       "<thead>\n",
       "\t<tr><th></th><th scope=col>PID</th><th scope=col>intl_student</th><th scope=col>family_income</th><th scope=col>life_satisfaction_t2</th><th scope=col>loneliness_t2</th><th scope=col>stress_t2</th><th scope=col>parent_education_highest</th></tr>\n",
       "\t<tr><th></th><th scope=col>&lt;int&gt;</th><th scope=col>&lt;dbl[,1]&gt;</th><th scope=col>&lt;dbl&gt;</th><th scope=col>&lt;dbl&gt;</th><th scope=col>&lt;dbl&gt;</th><th scope=col>&lt;dbl&gt;</th><th scope=col>&lt;dbl&gt;</th></tr>\n",
       "</thead>\n",
       "<tbody>\n",
       "\t<tr><th scope=row>1</th><td>1001</td><td>0</td><td> 70000</td><td>6.166667</td><td>2.000000</td><td>1.5</td><td>5</td></tr>\n",
       "\t<tr><th scope=row>2</th><td>1004</td><td>1</td><td> 10000</td><td>3.000000</td><td>2.666667</td><td>3.0</td><td>1</td></tr>\n",
       "\t<tr><th scope=row>3</th><td>1006</td><td>0</td><td> 90000</td><td>5.000000</td><td>1.666667</td><td>2.5</td><td>6</td></tr>\n",
       "\t<tr><th scope=row>4</th><td>1014</td><td>0</td><td> 30000</td><td>5.833333</td><td>3.000000</td><td>3.0</td><td>1</td></tr>\n",
       "\t<tr><th scope=row>5</th><td>1017</td><td>0</td><td>110000</td><td>2.333333</td><td>3.000000</td><td>3.0</td><td>6</td></tr>\n",
       "\t<tr><th scope=row>6</th><td>1047</td><td>0</td><td>210000</td><td>5.166667</td><td>2.000000</td><td>3.0</td><td>5</td></tr>\n",
       "</tbody>\n",
       "</table>\n"
      ],
      "text/latex": [
       "A data.frame: 6 × 7\n",
       "\\begin{tabular}{r|lllllll}\n",
       "  & PID & intl\\_student & family\\_income & life\\_satisfaction\\_t2 & loneliness\\_t2 & stress\\_t2 & parent\\_education\\_highest\\\\\n",
       "  & <int> & <dbl{[},1{]}> & <dbl> & <dbl> & <dbl> & <dbl> & <dbl>\\\\\n",
       "\\hline\n",
       "\t1 & 1001 & 0 &  70000 & 6.166667 & 2.000000 & 1.5 & 5\\\\\n",
       "\t2 & 1004 & 1 &  10000 & 3.000000 & 2.666667 & 3.0 & 1\\\\\n",
       "\t3 & 1006 & 0 &  90000 & 5.000000 & 1.666667 & 2.5 & 6\\\\\n",
       "\t4 & 1014 & 0 &  30000 & 5.833333 & 3.000000 & 3.0 & 1\\\\\n",
       "\t5 & 1017 & 0 & 110000 & 2.333333 & 3.000000 & 3.0 & 6\\\\\n",
       "\t6 & 1047 & 0 & 210000 & 5.166667 & 2.000000 & 3.0 & 5\\\\\n",
       "\\end{tabular}\n"
      ],
      "text/markdown": [
       "\n",
       "A data.frame: 6 × 7\n",
       "\n",
       "| <!--/--> | PID &lt;int&gt; | intl_student &lt;dbl[,1]&gt; | family_income &lt;dbl&gt; | life_satisfaction_t2 &lt;dbl&gt; | loneliness_t2 &lt;dbl&gt; | stress_t2 &lt;dbl&gt; | parent_education_highest &lt;dbl&gt; |\n",
       "|---|---|---|---|---|---|---|---|\n",
       "| 1 | 1001 | 0 |  70000 | 6.166667 | 2.000000 | 1.5 | 5 |\n",
       "| 2 | 1004 | 1 |  10000 | 3.000000 | 2.666667 | 3.0 | 1 |\n",
       "| 3 | 1006 | 0 |  90000 | 5.000000 | 1.666667 | 2.5 | 6 |\n",
       "| 4 | 1014 | 0 |  30000 | 5.833333 | 3.000000 | 3.0 | 1 |\n",
       "| 5 | 1017 | 0 | 110000 | 2.333333 | 3.000000 | 3.0 | 6 |\n",
       "| 6 | 1047 | 0 | 210000 | 5.166667 | 2.000000 | 3.0 | 5 |\n",
       "\n"
      ],
      "text/plain": [
       "  PID  intl_student family_income life_satisfaction_t2 loneliness_t2 stress_t2\n",
       "1 1001 0             70000        6.166667             2.000000      1.5      \n",
       "2 1004 1             10000        3.000000             2.666667      3.0      \n",
       "3 1006 0             90000        5.000000             1.666667      2.5      \n",
       "4 1014 0             30000        5.833333             3.000000      3.0      \n",
       "5 1017 0            110000        2.333333             3.000000      3.0      \n",
       "6 1047 0            210000        5.166667             2.000000      3.0      \n",
       "  parent_education_highest\n",
       "1 5                       \n",
       "2 1                       \n",
       "3 6                       \n",
       "4 1                       \n",
       "5 6                       \n",
       "6 5                       "
      ]
     },
     "metadata": {},
     "output_type": "display_data"
    }
   ],
   "source": [
    "head(network)"
   ]
  },
  {
   "cell_type": "code",
   "execution_count": 42,
   "metadata": {},
   "outputs": [
    {
     "data": {
      "text/html": [
       "<ol class=list-inline>\n",
       "\t<li>702</li>\n",
       "\t<li>19</li>\n",
       "</ol>\n"
      ],
      "text/latex": [
       "\\begin{enumerate*}\n",
       "\\item 702\n",
       "\\item 19\n",
       "\\end{enumerate*}\n"
      ],
      "text/markdown": [
       "1. 702\n",
       "2. 19\n",
       "\n",
       "\n"
      ],
      "text/plain": [
       "[1] 702  19"
      ]
     },
     "metadata": {},
     "output_type": "display_data"
    },
    {
     "data": {
      "text/html": [
       "<table>\n",
       "<caption>A data.frame: 6 × 19</caption>\n",
       "<thead>\n",
       "\t<tr><th></th><th scope=col>PID</th><th scope=col>gender</th><th scope=col>race</th><th scope=col>dorm</th><th scope=col>life_satisfaction_t1</th><th scope=col>empathy</th><th scope=col>loneliness_t1</th><th scope=col>stress_t1</th><th scope=col>BFI_E</th><th scope=col>BFI_A</th><th scope=col>BFI_C</th><th scope=col>BFI_N</th><th scope=col>BFI_O</th><th scope=col>intl_student</th><th scope=col>family_income</th><th scope=col>life_satisfaction_t2</th><th scope=col>loneliness_t2</th><th scope=col>stress_t2</th><th scope=col>parent_education_highest</th></tr>\n",
       "\t<tr><th></th><th scope=col>&lt;int&gt;</th><th scope=col>&lt;fct&gt;</th><th scope=col>&lt;fct&gt;</th><th scope=col>&lt;fct&gt;</th><th scope=col>&lt;dbl&gt;</th><th scope=col>&lt;dbl&gt;</th><th scope=col>&lt;dbl&gt;</th><th scope=col>&lt;dbl&gt;</th><th scope=col>&lt;dbl&gt;</th><th scope=col>&lt;dbl&gt;</th><th scope=col>&lt;dbl&gt;</th><th scope=col>&lt;dbl&gt;</th><th scope=col>&lt;dbl&gt;</th><th scope=col>&lt;dbl[,1]&gt;</th><th scope=col>&lt;dbl&gt;</th><th scope=col>&lt;dbl&gt;</th><th scope=col>&lt;dbl&gt;</th><th scope=col>&lt;dbl&gt;</th><th scope=col>&lt;dbl&gt;</th></tr>\n",
       "</thead>\n",
       "<tbody>\n",
       "\t<tr><th scope=row>1</th><td>1001</td><td>male  </td><td>south_asian   </td><td>Rinconada</td><td>4.833333</td><td>6.375</td><td>1.333333</td><td>2.5</td><td>6.5</td><td>6.0</td><td>5.5</td><td>3.5</td><td>6.5</td><td>0</td><td> 70000</td><td>6.166667</td><td>2.000000</td><td>1.5</td><td>5</td></tr>\n",
       "\t<tr><th scope=row>2</th><td>1004</td><td>female</td><td>south_asian   </td><td>Donner   </td><td>2.833333</td><td>6.000</td><td>2.000000</td><td>2.0</td><td>4.0</td><td>5.5</td><td>4.5</td><td>3.0</td><td>5.5</td><td>1</td><td> 10000</td><td>3.000000</td><td>2.666667</td><td>3.0</td><td>1</td></tr>\n",
       "\t<tr><th scope=row>3</th><td>1047</td><td>female</td><td>other_or_mixed</td><td>Twain    </td><td>5.333333</td><td>6.500</td><td>2.000000</td><td>2.5</td><td>5.5</td><td>6.5</td><td>7.0</td><td>3.0</td><td>6.5</td><td>0</td><td>210000</td><td>5.166667</td><td>2.000000</td><td>3.0</td><td>5</td></tr>\n",
       "\t<tr><th scope=row>4</th><td>1078</td><td>female</td><td>east_asian    </td><td>Loro     </td><td>5.500000</td><td>6.250</td><td>1.333333</td><td>2.0</td><td>4.5</td><td>6.5</td><td>6.5</td><td>1.5</td><td>6.5</td><td>0</td><td>130000</td><td>5.500000</td><td>2.333333</td><td>3.0</td><td>6</td></tr>\n",
       "\t<tr><th scope=row>5</th><td>1097</td><td>male  </td><td>east_asian    </td><td>Otero    </td><td>6.000000</td><td>5.000</td><td>2.000000</td><td>2.0</td><td>3.0</td><td>4.0</td><td>5.5</td><td>1.5</td><td>4.5</td><td>0</td><td> 90000</td><td>5.833333</td><td>2.000000</td><td>2.5</td><td>6</td></tr>\n",
       "\t<tr><th scope=row>6</th><td>1105</td><td>female</td><td>white         </td><td>Larkin   </td><td>6.666667</td><td>5.750</td><td>2.000000</td><td>2.0</td><td>4.5</td><td>5.0</td><td>5.0</td><td>2.0</td><td>4.5</td><td>0</td><td>170000</td><td>6.666667</td><td>2.000000</td><td>2.0</td><td>4</td></tr>\n",
       "</tbody>\n",
       "</table>\n"
      ],
      "text/latex": [
       "A data.frame: 6 × 19\n",
       "\\begin{tabular}{r|lllllllllllllllllll}\n",
       "  & PID & gender & race & dorm & life\\_satisfaction\\_t1 & empathy & loneliness\\_t1 & stress\\_t1 & BFI\\_E & BFI\\_A & BFI\\_C & BFI\\_N & BFI\\_O & intl\\_student & family\\_income & life\\_satisfaction\\_t2 & loneliness\\_t2 & stress\\_t2 & parent\\_education\\_highest\\\\\n",
       "  & <int> & <fct> & <fct> & <fct> & <dbl> & <dbl> & <dbl> & <dbl> & <dbl> & <dbl> & <dbl> & <dbl> & <dbl> & <dbl{[},1{]}> & <dbl> & <dbl> & <dbl> & <dbl> & <dbl>\\\\\n",
       "\\hline\n",
       "\t1 & 1001 & male   & south\\_asian    & Rinconada & 4.833333 & 6.375 & 1.333333 & 2.5 & 6.5 & 6.0 & 5.5 & 3.5 & 6.5 & 0 &  70000 & 6.166667 & 2.000000 & 1.5 & 5\\\\\n",
       "\t2 & 1004 & female & south\\_asian    & Donner    & 2.833333 & 6.000 & 2.000000 & 2.0 & 4.0 & 5.5 & 4.5 & 3.0 & 5.5 & 1 &  10000 & 3.000000 & 2.666667 & 3.0 & 1\\\\\n",
       "\t3 & 1047 & female & other\\_or\\_mixed & Twain     & 5.333333 & 6.500 & 2.000000 & 2.5 & 5.5 & 6.5 & 7.0 & 3.0 & 6.5 & 0 & 210000 & 5.166667 & 2.000000 & 3.0 & 5\\\\\n",
       "\t4 & 1078 & female & east\\_asian     & Loro      & 5.500000 & 6.250 & 1.333333 & 2.0 & 4.5 & 6.5 & 6.5 & 1.5 & 6.5 & 0 & 130000 & 5.500000 & 2.333333 & 3.0 & 6\\\\\n",
       "\t5 & 1097 & male   & east\\_asian     & Otero     & 6.000000 & 5.000 & 2.000000 & 2.0 & 3.0 & 4.0 & 5.5 & 1.5 & 4.5 & 0 &  90000 & 5.833333 & 2.000000 & 2.5 & 6\\\\\n",
       "\t6 & 1105 & female & white          & Larkin    & 6.666667 & 5.750 & 2.000000 & 2.0 & 4.5 & 5.0 & 5.0 & 2.0 & 4.5 & 0 & 170000 & 6.666667 & 2.000000 & 2.0 & 4\\\\\n",
       "\\end{tabular}\n"
      ],
      "text/markdown": [
       "\n",
       "A data.frame: 6 × 19\n",
       "\n",
       "| <!--/--> | PID &lt;int&gt; | gender &lt;fct&gt; | race &lt;fct&gt; | dorm &lt;fct&gt; | life_satisfaction_t1 &lt;dbl&gt; | empathy &lt;dbl&gt; | loneliness_t1 &lt;dbl&gt; | stress_t1 &lt;dbl&gt; | BFI_E &lt;dbl&gt; | BFI_A &lt;dbl&gt; | BFI_C &lt;dbl&gt; | BFI_N &lt;dbl&gt; | BFI_O &lt;dbl&gt; | intl_student &lt;dbl[,1]&gt; | family_income &lt;dbl&gt; | life_satisfaction_t2 &lt;dbl&gt; | loneliness_t2 &lt;dbl&gt; | stress_t2 &lt;dbl&gt; | parent_education_highest &lt;dbl&gt; |\n",
       "|---|---|---|---|---|---|---|---|---|---|---|---|---|---|---|---|---|---|---|---|\n",
       "| 1 | 1001 | male   | south_asian    | Rinconada | 4.833333 | 6.375 | 1.333333 | 2.5 | 6.5 | 6.0 | 5.5 | 3.5 | 6.5 | 0 |  70000 | 6.166667 | 2.000000 | 1.5 | 5 |\n",
       "| 2 | 1004 | female | south_asian    | Donner    | 2.833333 | 6.000 | 2.000000 | 2.0 | 4.0 | 5.5 | 4.5 | 3.0 | 5.5 | 1 |  10000 | 3.000000 | 2.666667 | 3.0 | 1 |\n",
       "| 3 | 1047 | female | other_or_mixed | Twain     | 5.333333 | 6.500 | 2.000000 | 2.5 | 5.5 | 6.5 | 7.0 | 3.0 | 6.5 | 0 | 210000 | 5.166667 | 2.000000 | 3.0 | 5 |\n",
       "| 4 | 1078 | female | east_asian     | Loro      | 5.500000 | 6.250 | 1.333333 | 2.0 | 4.5 | 6.5 | 6.5 | 1.5 | 6.5 | 0 | 130000 | 5.500000 | 2.333333 | 3.0 | 6 |\n",
       "| 5 | 1097 | male   | east_asian     | Otero     | 6.000000 | 5.000 | 2.000000 | 2.0 | 3.0 | 4.0 | 5.5 | 1.5 | 4.5 | 0 |  90000 | 5.833333 | 2.000000 | 2.5 | 6 |\n",
       "| 6 | 1105 | female | white          | Larkin    | 6.666667 | 5.750 | 2.000000 | 2.0 | 4.5 | 5.0 | 5.0 | 2.0 | 4.5 | 0 | 170000 | 6.666667 | 2.000000 | 2.0 | 4 |\n",
       "\n"
      ],
      "text/plain": [
       "  PID  gender race           dorm      life_satisfaction_t1 empathy\n",
       "1 1001 male   south_asian    Rinconada 4.833333             6.375  \n",
       "2 1004 female south_asian    Donner    2.833333             6.000  \n",
       "3 1047 female other_or_mixed Twain     5.333333             6.500  \n",
       "4 1078 female east_asian     Loro      5.500000             6.250  \n",
       "5 1097 male   east_asian     Otero     6.000000             5.000  \n",
       "6 1105 female white          Larkin    6.666667             5.750  \n",
       "  loneliness_t1 stress_t1 BFI_E BFI_A BFI_C BFI_N BFI_O intl_student\n",
       "1 1.333333      2.5       6.5   6.0   5.5   3.5   6.5   0           \n",
       "2 2.000000      2.0       4.0   5.5   4.5   3.0   5.5   1           \n",
       "3 2.000000      2.5       5.5   6.5   7.0   3.0   6.5   0           \n",
       "4 1.333333      2.0       4.5   6.5   6.5   1.5   6.5   0           \n",
       "5 2.000000      2.0       3.0   4.0   5.5   1.5   4.5   0           \n",
       "6 2.000000      2.0       4.5   5.0   5.0   2.0   4.5   0           \n",
       "  family_income life_satisfaction_t2 loneliness_t2 stress_t2\n",
       "1  70000        6.166667             2.000000      1.5      \n",
       "2  10000        3.000000             2.666667      3.0      \n",
       "3 210000        5.166667             2.000000      3.0      \n",
       "4 130000        5.500000             2.333333      3.0      \n",
       "5  90000        5.833333             2.000000      2.5      \n",
       "6 170000        6.666667             2.000000      2.0      \n",
       "  parent_education_highest\n",
       "1 5                       \n",
       "2 1                       \n",
       "3 5                       \n",
       "4 6                       \n",
       "5 6                       \n",
       "6 4                       "
      ]
     },
     "metadata": {},
     "output_type": "display_data"
    }
   ],
   "source": [
    "df = merge(prefrosh, network, by=\"PID\", all.x=FALSE, all.y=FALSE)\n",
    "dim(df)\n",
    "head(df)"
   ]
  },
  {
   "cell_type": "code",
   "execution_count": 43,
   "metadata": {},
   "outputs": [
    {
     "name": "stdout",
     "output_type": "stream",
     "text": [
      "[1] \"1091 Ps in prefrosh data\"\n",
      "[1] \"1157 Ps in network data\"\n",
      "[1] \"702 Ps in merged data\"\n"
     ]
    }
   ],
   "source": [
    "print(paste(nrow(prefrosh), \"Ps in prefrosh data\"))\n",
    "print(paste(nrow(network), \"Ps in network data\"))\n",
    "print(paste(nrow(df), \"Ps in merged data\"))"
   ]
  },
  {
   "cell_type": "markdown",
   "metadata": {},
   "source": [
    "## Create composite well-being columns"
   ]
  },
  {
   "cell_type": "code",
   "execution_count": 44,
   "metadata": {},
   "outputs": [
    {
     "name": "stdout",
     "output_type": "stream",
     "text": [
      "[1] \"life_satisfaction_t1\"\n",
      "[1] -3.741097e-16  1.000000e+00\n",
      "[1] \"loneliness_t1\"\n",
      "[1] -1.22009e-16  1.00000e+00\n",
      "[1] \"stress_t1\"\n",
      "[1] 2.977936e-16 1.000000e+00\n",
      "[1] \"wellbeing_composite_t1\" \"-1.93435876488774e-17\"  \"1\"                     \n",
      "[1] \"life_satisfaction_t2\"\n",
      "[1] -1.271938e-16  1.000000e+00\n",
      "[1] \"loneliness_t2\"\n",
      "[1] -1.309932e-16  1.000000e+00\n",
      "[1] \"stress_t2\"\n",
      "[1] 1.523828e-16 1.000000e+00\n",
      "[1] \"wellbeing_composite_t2\" \"-3.9104954322773e-17\"   \"1\"                     \n"
     ]
    },
    {
     "data": {
      "text/html": [
       "<table>\n",
       "<caption>A data.frame: 6 × 21</caption>\n",
       "<thead>\n",
       "\t<tr><th></th><th scope=col>PID</th><th scope=col>gender</th><th scope=col>race</th><th scope=col>dorm</th><th scope=col>life_satisfaction_t1</th><th scope=col>empathy</th><th scope=col>loneliness_t1</th><th scope=col>stress_t1</th><th scope=col>BFI_E</th><th scope=col>BFI_A</th><th scope=col>BFI_C</th><th scope=col>BFI_N</th><th scope=col>BFI_O</th><th scope=col>intl_student</th><th scope=col>family_income</th><th scope=col>life_satisfaction_t2</th><th scope=col>loneliness_t2</th><th scope=col>stress_t2</th><th scope=col>parent_education_highest</th><th scope=col>wellbeing_composite_t1</th><th scope=col>wellbeing_composite_t2</th></tr>\n",
       "\t<tr><th></th><th scope=col>&lt;int&gt;</th><th scope=col>&lt;fct&gt;</th><th scope=col>&lt;fct&gt;</th><th scope=col>&lt;fct&gt;</th><th scope=col>&lt;dbl&gt;</th><th scope=col>&lt;dbl&gt;</th><th scope=col>&lt;dbl&gt;</th><th scope=col>&lt;dbl&gt;</th><th scope=col>&lt;dbl&gt;</th><th scope=col>&lt;dbl&gt;</th><th scope=col>&lt;dbl&gt;</th><th scope=col>&lt;dbl&gt;</th><th scope=col>&lt;dbl&gt;</th><th scope=col>&lt;dbl[,1]&gt;</th><th scope=col>&lt;dbl&gt;</th><th scope=col>&lt;dbl&gt;</th><th scope=col>&lt;dbl&gt;</th><th scope=col>&lt;dbl&gt;</th><th scope=col>&lt;dbl&gt;</th><th scope=col>&lt;dbl&gt;</th><th scope=col>&lt;dbl&gt;</th></tr>\n",
       "</thead>\n",
       "<tbody>\n",
       "\t<tr><th scope=row>1</th><td>1001</td><td>male  </td><td>south_asian   </td><td>Rinconada</td><td>4.833333</td><td>6.375</td><td>1.333333</td><td>2.5</td><td>6.5</td><td>6.0</td><td>5.5</td><td>3.5</td><td>6.5</td><td>0</td><td> 70000</td><td>6.166667</td><td>2.000000</td><td>1.5</td><td>5</td><td>-0.05862651</td><td> 0.83993983</td></tr>\n",
       "\t<tr><th scope=row>2</th><td>1004</td><td>female</td><td>south_asian   </td><td>Donner   </td><td>2.833333</td><td>6.000</td><td>2.000000</td><td>2.0</td><td>4.0</td><td>5.5</td><td>4.5</td><td>3.0</td><td>5.5</td><td>1</td><td> 10000</td><td>3.000000</td><td>2.666667</td><td>3.0</td><td>1</td><td>-0.98138408</td><td>-1.95722956</td></tr>\n",
       "\t<tr><th scope=row>3</th><td>1047</td><td>female</td><td>other_or_mixed</td><td>Twain    </td><td>5.333333</td><td>6.500</td><td>2.000000</td><td>2.5</td><td>5.5</td><td>6.5</td><td>7.0</td><td>3.0</td><td>6.5</td><td>0</td><td>210000</td><td>5.166667</td><td>2.000000</td><td>3.0</td><td>5</td><td>-0.44690440</td><td>-0.66253028</td></tr>\n",
       "\t<tr><th scope=row>4</th><td>1078</td><td>female</td><td>east_asian    </td><td>Loro     </td><td>5.500000</td><td>6.250</td><td>1.333333</td><td>2.0</td><td>4.5</td><td>6.5</td><td>6.5</td><td>1.5</td><td>6.5</td><td>0</td><td>130000</td><td>5.500000</td><td>2.333333</td><td>3.0</td><td>6</td><td> 0.61446613</td><td>-0.79801599</td></tr>\n",
       "\t<tr><th scope=row>5</th><td>1097</td><td>male  </td><td>east_asian    </td><td>Otero    </td><td>6.000000</td><td>5.000</td><td>2.000000</td><td>2.0</td><td>3.0</td><td>4.0</td><td>5.5</td><td>1.5</td><td>4.5</td><td>0</td><td> 90000</td><td>5.833333</td><td>2.000000</td><td>2.5</td><td>6</td><td> 0.22618824</td><td>-0.04126834</td></tr>\n",
       "\t<tr><th scope=row>6</th><td>1105</td><td>female</td><td>white         </td><td>Larkin   </td><td>6.666667</td><td>5.750</td><td>2.000000</td><td>2.0</td><td>4.5</td><td>5.0</td><td>5.0</td><td>2.0</td><td>4.5</td><td>0</td><td>170000</td><td>6.666667</td><td>2.000000</td><td>2.0</td><td>4</td><td> 0.48041399</td><td> 0.64021289</td></tr>\n",
       "</tbody>\n",
       "</table>\n"
      ],
      "text/latex": [
       "A data.frame: 6 × 21\n",
       "\\begin{tabular}{r|lllllllllllllllllllll}\n",
       "  & PID & gender & race & dorm & life\\_satisfaction\\_t1 & empathy & loneliness\\_t1 & stress\\_t1 & BFI\\_E & BFI\\_A & BFI\\_C & BFI\\_N & BFI\\_O & intl\\_student & family\\_income & life\\_satisfaction\\_t2 & loneliness\\_t2 & stress\\_t2 & parent\\_education\\_highest & wellbeing\\_composite\\_t1 & wellbeing\\_composite\\_t2\\\\\n",
       "  & <int> & <fct> & <fct> & <fct> & <dbl> & <dbl> & <dbl> & <dbl> & <dbl> & <dbl> & <dbl> & <dbl> & <dbl> & <dbl{[},1{]}> & <dbl> & <dbl> & <dbl> & <dbl> & <dbl> & <dbl> & <dbl>\\\\\n",
       "\\hline\n",
       "\t1 & 1001 & male   & south\\_asian    & Rinconada & 4.833333 & 6.375 & 1.333333 & 2.5 & 6.5 & 6.0 & 5.5 & 3.5 & 6.5 & 0 &  70000 & 6.166667 & 2.000000 & 1.5 & 5 & -0.05862651 &  0.83993983\\\\\n",
       "\t2 & 1004 & female & south\\_asian    & Donner    & 2.833333 & 6.000 & 2.000000 & 2.0 & 4.0 & 5.5 & 4.5 & 3.0 & 5.5 & 1 &  10000 & 3.000000 & 2.666667 & 3.0 & 1 & -0.98138408 & -1.95722956\\\\\n",
       "\t3 & 1047 & female & other\\_or\\_mixed & Twain     & 5.333333 & 6.500 & 2.000000 & 2.5 & 5.5 & 6.5 & 7.0 & 3.0 & 6.5 & 0 & 210000 & 5.166667 & 2.000000 & 3.0 & 5 & -0.44690440 & -0.66253028\\\\\n",
       "\t4 & 1078 & female & east\\_asian     & Loro      & 5.500000 & 6.250 & 1.333333 & 2.0 & 4.5 & 6.5 & 6.5 & 1.5 & 6.5 & 0 & 130000 & 5.500000 & 2.333333 & 3.0 & 6 &  0.61446613 & -0.79801599\\\\\n",
       "\t5 & 1097 & male   & east\\_asian     & Otero     & 6.000000 & 5.000 & 2.000000 & 2.0 & 3.0 & 4.0 & 5.5 & 1.5 & 4.5 & 0 &  90000 & 5.833333 & 2.000000 & 2.5 & 6 &  0.22618824 & -0.04126834\\\\\n",
       "\t6 & 1105 & female & white          & Larkin    & 6.666667 & 5.750 & 2.000000 & 2.0 & 4.5 & 5.0 & 5.0 & 2.0 & 4.5 & 0 & 170000 & 6.666667 & 2.000000 & 2.0 & 4 &  0.48041399 &  0.64021289\\\\\n",
       "\\end{tabular}\n"
      ],
      "text/markdown": [
       "\n",
       "A data.frame: 6 × 21\n",
       "\n",
       "| <!--/--> | PID &lt;int&gt; | gender &lt;fct&gt; | race &lt;fct&gt; | dorm &lt;fct&gt; | life_satisfaction_t1 &lt;dbl&gt; | empathy &lt;dbl&gt; | loneliness_t1 &lt;dbl&gt; | stress_t1 &lt;dbl&gt; | BFI_E &lt;dbl&gt; | BFI_A &lt;dbl&gt; | BFI_C &lt;dbl&gt; | BFI_N &lt;dbl&gt; | BFI_O &lt;dbl&gt; | intl_student &lt;dbl[,1]&gt; | family_income &lt;dbl&gt; | life_satisfaction_t2 &lt;dbl&gt; | loneliness_t2 &lt;dbl&gt; | stress_t2 &lt;dbl&gt; | parent_education_highest &lt;dbl&gt; | wellbeing_composite_t1 &lt;dbl&gt; | wellbeing_composite_t2 &lt;dbl&gt; |\n",
       "|---|---|---|---|---|---|---|---|---|---|---|---|---|---|---|---|---|---|---|---|---|---|\n",
       "| 1 | 1001 | male   | south_asian    | Rinconada | 4.833333 | 6.375 | 1.333333 | 2.5 | 6.5 | 6.0 | 5.5 | 3.5 | 6.5 | 0 |  70000 | 6.166667 | 2.000000 | 1.5 | 5 | -0.05862651 |  0.83993983 |\n",
       "| 2 | 1004 | female | south_asian    | Donner    | 2.833333 | 6.000 | 2.000000 | 2.0 | 4.0 | 5.5 | 4.5 | 3.0 | 5.5 | 1 |  10000 | 3.000000 | 2.666667 | 3.0 | 1 | -0.98138408 | -1.95722956 |\n",
       "| 3 | 1047 | female | other_or_mixed | Twain     | 5.333333 | 6.500 | 2.000000 | 2.5 | 5.5 | 6.5 | 7.0 | 3.0 | 6.5 | 0 | 210000 | 5.166667 | 2.000000 | 3.0 | 5 | -0.44690440 | -0.66253028 |\n",
       "| 4 | 1078 | female | east_asian     | Loro      | 5.500000 | 6.250 | 1.333333 | 2.0 | 4.5 | 6.5 | 6.5 | 1.5 | 6.5 | 0 | 130000 | 5.500000 | 2.333333 | 3.0 | 6 |  0.61446613 | -0.79801599 |\n",
       "| 5 | 1097 | male   | east_asian     | Otero     | 6.000000 | 5.000 | 2.000000 | 2.0 | 3.0 | 4.0 | 5.5 | 1.5 | 4.5 | 0 |  90000 | 5.833333 | 2.000000 | 2.5 | 6 |  0.22618824 | -0.04126834 |\n",
       "| 6 | 1105 | female | white          | Larkin    | 6.666667 | 5.750 | 2.000000 | 2.0 | 4.5 | 5.0 | 5.0 | 2.0 | 4.5 | 0 | 170000 | 6.666667 | 2.000000 | 2.0 | 4 |  0.48041399 |  0.64021289 |\n",
       "\n"
      ],
      "text/plain": [
       "  PID  gender race           dorm      life_satisfaction_t1 empathy\n",
       "1 1001 male   south_asian    Rinconada 4.833333             6.375  \n",
       "2 1004 female south_asian    Donner    2.833333             6.000  \n",
       "3 1047 female other_or_mixed Twain     5.333333             6.500  \n",
       "4 1078 female east_asian     Loro      5.500000             6.250  \n",
       "5 1097 male   east_asian     Otero     6.000000             5.000  \n",
       "6 1105 female white          Larkin    6.666667             5.750  \n",
       "  loneliness_t1 stress_t1 BFI_E BFI_A BFI_C BFI_N BFI_O intl_student\n",
       "1 1.333333      2.5       6.5   6.0   5.5   3.5   6.5   0           \n",
       "2 2.000000      2.0       4.0   5.5   4.5   3.0   5.5   1           \n",
       "3 2.000000      2.5       5.5   6.5   7.0   3.0   6.5   0           \n",
       "4 1.333333      2.0       4.5   6.5   6.5   1.5   6.5   0           \n",
       "5 2.000000      2.0       3.0   4.0   5.5   1.5   4.5   0           \n",
       "6 2.000000      2.0       4.5   5.0   5.0   2.0   4.5   0           \n",
       "  family_income life_satisfaction_t2 loneliness_t2 stress_t2\n",
       "1  70000        6.166667             2.000000      1.5      \n",
       "2  10000        3.000000             2.666667      3.0      \n",
       "3 210000        5.166667             2.000000      3.0      \n",
       "4 130000        5.500000             2.333333      3.0      \n",
       "5  90000        5.833333             2.000000      2.5      \n",
       "6 170000        6.666667             2.000000      2.0      \n",
       "  parent_education_highest wellbeing_composite_t1 wellbeing_composite_t2\n",
       "1 5                        -0.05862651             0.83993983           \n",
       "2 1                        -0.98138408            -1.95722956           \n",
       "3 5                        -0.44690440            -0.66253028           \n",
       "4 6                         0.61446613            -0.79801599           \n",
       "5 6                         0.22618824            -0.04126834           \n",
       "6 4                         0.48041399             0.64021289           "
      ]
     },
     "metadata": {},
     "output_type": "display_data"
    }
   ],
   "source": [
    "components = c('life_satisfaction', 'loneliness', 'stress')\n",
    "timepoints = c('t1', 't2')\n",
    "for (t in timepoints) {\n",
    "    wb_colname = paste('wellbeing_composite_', t, sep='')\n",
    "    df[wb_colname] = 0\n",
    "    for (comp in components) {\n",
    "        component_colname = paste(comp, t, sep='_')\n",
    "        print(component_colname)\n",
    "        s = (df[[component_colname]] - mean(df[[component_colname]], na.rm=TRUE)) / sd(df[[component_colname]], na.rm=TRUE)\n",
    "        print(c(mean(s, na.rm=TRUE), sd(s, na.rm=TRUE)))\n",
    "        if (comp != 'life_satisfaction') {\n",
    "            # stress and loneliness are *negative* well-being measures\n",
    "            s = -s\n",
    "        }\n",
    "        df[wb_colname] = df[wb_colname] + s\n",
    "    }\n",
    "    df[wb_colname] = (df[[wb_colname]] - mean(df[[wb_colname]], na.rm=TRUE)) / sd(df[[wb_colname]], na.rm=TRUE)\n",
    "    print(c(wb_colname, mean(df[[wb_colname]], na.rm=TRUE), sd(df[[wb_colname]], na.rm=TRUE)))\n",
    "}\n",
    "head(df)"
   ]
  },
  {
   "cell_type": "code",
   "execution_count": 45,
   "metadata": {},
   "outputs": [
    {
     "data": {
      "image/png": "[encoded data removed]",
      "text/plain": [
       "Plot with title “Histogram of df$wellbeing_composite_t1”"
      ]
     },
     "metadata": {
      "image/png": {
       "height": 420,
       "width": 420
      },
      "text/plain": {
       "height": 420,
       "width": 420
      }
     },
     "output_type": "display_data"
    }
   ],
   "source": [
    "hist(df$wellbeing_composite_t1)"
   ]
  },
  {
   "cell_type": "code",
   "execution_count": 46,
   "metadata": {},
   "outputs": [
    {
     "data": {
      "image/png": "[encoded data removed]",
      "text/plain": [
       "Plot with title “Histogram of df$wellbeing_composite_t2”"
      ]
     },
     "metadata": {
      "image/png": {
       "height": 420,
       "width": 420
      },
      "text/plain": {
       "height": 420,
       "width": 420
      }
     },
     "output_type": "display_data"
    }
   ],
   "source": [
    "hist(df$wellbeing_composite_t2)"
   ]
  },
  {
   "cell_type": "markdown",
   "metadata": {},
   "source": [
    "## Load nominations and compute network in/out degree for each P and each network"
   ]
  },
  {
   "cell_type": "code",
   "execution_count": 47,
   "metadata": {},
   "outputs": [
    {
     "data": {
      "text/html": [
       "<ol class=list-inline>\n",
       "\t<li>33676</li>\n",
       "\t<li>4</li>\n",
       "</ol>\n"
      ],
      "text/latex": [
       "\\begin{enumerate*}\n",
       "\\item 33676\n",
       "\\item 4\n",
       "\\end{enumerate*}\n"
      ],
      "text/markdown": [
       "1. 33676\n",
       "2. 4\n",
       "\n",
       "\n"
      ],
      "text/plain": [
       "[1] 33676     4"
      ]
     },
     "metadata": {},
     "output_type": "display_data"
    },
    {
     "name": "stdout",
     "output_type": "stream",
     "text": [
      "'data.frame':\t33676 obs. of  4 variables:\n",
      " $ PID         : int  1001 1004 1006 1014 1017 1047 1061 1065 1078 1080 ...\n",
      " $ DID         : int  30 35 21 70 73 76 24 75 32 30 ...\n",
      " $ Nominations : int  4966 7123 5092 4963 7475 3123 2992 3946 3315 6207 ...\n",
      " $ Network_Type: Factor w/ 10 levels \"CloseFrds\",\"EmpSupp\",..: 1 1 1 1 1 1 1 1 1 1 ...\n"
     ]
    },
    {
     "data": {
      "text/html": [
       "<table>\n",
       "<caption>A data.frame: 6 × 4</caption>\n",
       "<thead>\n",
       "\t<tr><th></th><th scope=col>PID</th><th scope=col>DID</th><th scope=col>Nominations</th><th scope=col>Network_Type</th></tr>\n",
       "\t<tr><th></th><th scope=col>&lt;int&gt;</th><th scope=col>&lt;int&gt;</th><th scope=col>&lt;int&gt;</th><th scope=col>&lt;fct&gt;</th></tr>\n",
       "</thead>\n",
       "<tbody>\n",
       "\t<tr><th scope=row>1</th><td>1001</td><td>30</td><td>4966</td><td>CloseFrds</td></tr>\n",
       "\t<tr><th scope=row>2</th><td>1004</td><td>35</td><td>7123</td><td>CloseFrds</td></tr>\n",
       "\t<tr><th scope=row>3</th><td>1006</td><td>21</td><td>5092</td><td>CloseFrds</td></tr>\n",
       "\t<tr><th scope=row>4</th><td>1014</td><td>70</td><td>4963</td><td>CloseFrds</td></tr>\n",
       "\t<tr><th scope=row>5</th><td>1017</td><td>73</td><td>7475</td><td>CloseFrds</td></tr>\n",
       "\t<tr><th scope=row>6</th><td>1047</td><td>76</td><td>3123</td><td>CloseFrds</td></tr>\n",
       "</tbody>\n",
       "</table>\n"
      ],
      "text/latex": [
       "A data.frame: 6 × 4\n",
       "\\begin{tabular}{r|llll}\n",
       "  & PID & DID & Nominations & Network\\_Type\\\\\n",
       "  & <int> & <int> & <int> & <fct>\\\\\n",
       "\\hline\n",
       "\t1 & 1001 & 30 & 4966 & CloseFrds\\\\\n",
       "\t2 & 1004 & 35 & 7123 & CloseFrds\\\\\n",
       "\t3 & 1006 & 21 & 5092 & CloseFrds\\\\\n",
       "\t4 & 1014 & 70 & 4963 & CloseFrds\\\\\n",
       "\t5 & 1017 & 73 & 7475 & CloseFrds\\\\\n",
       "\t6 & 1047 & 76 & 3123 & CloseFrds\\\\\n",
       "\\end{tabular}\n"
      ],
      "text/markdown": [
       "\n",
       "A data.frame: 6 × 4\n",
       "\n",
       "| <!--/--> | PID &lt;int&gt; | DID &lt;int&gt; | Nominations &lt;int&gt; | Network_Type &lt;fct&gt; |\n",
       "|---|---|---|---|---|\n",
       "| 1 | 1001 | 30 | 4966 | CloseFrds |\n",
       "| 2 | 1004 | 35 | 7123 | CloseFrds |\n",
       "| 3 | 1006 | 21 | 5092 | CloseFrds |\n",
       "| 4 | 1014 | 70 | 4963 | CloseFrds |\n",
       "| 5 | 1017 | 73 | 7475 | CloseFrds |\n",
       "| 6 | 1047 | 76 | 3123 | CloseFrds |\n",
       "\n"
      ],
      "text/plain": [
       "  PID  DID Nominations Network_Type\n",
       "1 1001 30  4966        CloseFrds   \n",
       "2 1004 35  7123        CloseFrds   \n",
       "3 1006 21  5092        CloseFrds   \n",
       "4 1014 70  4963        CloseFrds   \n",
       "5 1017 73  7475        CloseFrds   \n",
       "6 1047 76  3123        CloseFrds   "
      ]
     },
     "metadata": {},
     "output_type": "display_data"
    }
   ],
   "source": [
    "nominations = read.csv(paste(DATA_DIR, 'Network_Survey/network_df.csv', sep=\"\"), na.strings=c(\"\", \" \", \"NA\", \"#N/A\"))\n",
    "# Drop first column (which is just a row number)\n",
    "nominations = nominations[,2:length(nominations)]\n",
    "dim(nominations)\n",
    "str(nominations)\n",
    "head(nominations)"
   ]
  },
  {
   "cell_type": "markdown",
   "metadata": {},
   "source": [
    "### Sanity check for missing values - we aren't using the DID (dorm) column so that's fine"
   ]
  },
  {
   "cell_type": "code",
   "execution_count": 48,
   "metadata": {},
   "outputs": [
    {
     "data": {
      "text/html": [
       "<dl class=dl-horizontal>\n",
       "\t<dt>PID</dt>\n",
       "\t\t<dd>0</dd>\n",
       "\t<dt>DID</dt>\n",
       "\t\t<dd>15</dd>\n",
       "\t<dt>Nominations</dt>\n",
       "\t\t<dd>0</dd>\n",
       "\t<dt>Network_Type</dt>\n",
       "\t\t<dd>0</dd>\n",
       "</dl>\n"
      ],
      "text/latex": [
       "\\begin{description*}\n",
       "\\item[PID] 0\n",
       "\\item[DID] 15\n",
       "\\item[Nominations] 0\n",
       "\\item[Network\\textbackslash{}\\_Type] 0\n",
       "\\end{description*}\n"
      ],
      "text/markdown": [
       "PID\n",
       ":   0DID\n",
       ":   15Nominations\n",
       ":   0Network_Type\n",
       ":   0\n",
       "\n"
      ],
      "text/plain": [
       "         PID          DID  Nominations Network_Type \n",
       "           0           15            0            0 "
      ]
     },
     "metadata": {},
     "output_type": "display_data"
    }
   ],
   "source": [
    "colSums(is.na(nominations))"
   ]
  },
  {
   "cell_type": "markdown",
   "metadata": {},
   "source": [
    "### Make a function to compute in/out degrees for any given set of nominations"
   ]
  },
  {
   "cell_type": "code",
   "execution_count": 49,
   "metadata": {},
   "outputs": [],
   "source": [
    "add_network_columns = function(df, df_nominations, suffix) {\n",
    "    # Filter for unique person-nominee pairs for this network\n",
    "    # (since, if df_nominations includes multiple networks,\n",
    "    #  person A may nominate person B more than once)\n",
    "    df_nominations = df_nominations %>% group_by(PID, Nominations) %>% filter(row_number() == 1)\n",
    "\n",
    "    # Add a column for the empathy of the nominee\n",
    "    emp_frame = df[c('PID', 'empathy')]\n",
    "    df_nominations = merge(df_nominations, emp_frame, by.x='Nominations', by.y='PID', all.x=FALSE, all.y=FALSE)\n",
    "    \n",
    "    s = tapply(df_nominations$PID, df_nominations$Nominations, length)\n",
    "    s = as.data.frame(s)\n",
    "    in_colname = paste('degree_in', suffix, sep='_')\n",
    "    colnames(s) = in_colname\n",
    "    df = merge(df, s, by.x=\"PID\", by.y=\"row.names\", all.x=TRUE, all.y=FALSE)\n",
    "#     df = column_to_rownames(df, \"Row.names\")\n",
    "    \n",
    "    s = tapply(df_nominations$Nominations, df_nominations$PID, length)\n",
    "    s = as.data.frame(s)\n",
    "    out_colname = paste('degree_out', suffix, sep='_')\n",
    "    colnames(s) = out_colname\n",
    "    df = merge(df, s, by.x=\"PID\", by.y=\"row.names\", all.x=TRUE, all.y=FALSE)\n",
    "#     df = column_to_rownames(df, \"Row.names\")\n",
    "\n",
    "    df[[in_colname]] = df[[in_colname]] %>% replace_na(0)\n",
    "    df[[out_colname]] = df[[out_colname]] %>% replace_na(0)\n",
    "\n",
    "    s = tapply(df_nominations$empathy, df_nominations$PID, mean)\n",
    "    s = as.data.frame(s)\n",
    "    out_colname = paste('empathy', suffix, sep='_')\n",
    "    colnames(s) = out_colname\n",
    "    df = merge(df, s, by.x=\"PID\", by.y=\"row.names\", all.x=TRUE, all.y=FALSE)\n",
    "#     df = column_to_rownames(df, \"Row.names\")\n",
    "    \n",
    "    return(df)\n",
    "}"
   ]
  },
  {
   "cell_type": "markdown",
   "metadata": {},
   "source": [
    "### Compute the union network"
   ]
  },
  {
   "cell_type": "code",
   "execution_count": 50,
   "metadata": {},
   "outputs": [
    {
     "data": {
      "text/html": [
       "<table>\n",
       "<caption>A data.frame: 6 × 24</caption>\n",
       "<thead>\n",
       "\t<tr><th></th><th scope=col>PID</th><th scope=col>gender</th><th scope=col>race</th><th scope=col>dorm</th><th scope=col>life_satisfaction_t1</th><th scope=col>empathy</th><th scope=col>loneliness_t1</th><th scope=col>stress_t1</th><th scope=col>BFI_E</th><th scope=col>BFI_A</th><th scope=col>BFI_C</th><th scope=col>BFI_N</th><th scope=col>BFI_O</th><th scope=col>intl_student</th><th scope=col>family_income</th><th scope=col>life_satisfaction_t2</th><th scope=col>loneliness_t2</th><th scope=col>stress_t2</th><th scope=col>parent_education_highest</th><th scope=col>wellbeing_composite_t1</th><th scope=col>wellbeing_composite_t2</th><th scope=col>degree_in_UNION</th><th scope=col>degree_out_UNION</th><th scope=col>empathy_UNION</th></tr>\n",
       "\t<tr><th></th><th scope=col>&lt;int&gt;</th><th scope=col>&lt;fct&gt;</th><th scope=col>&lt;fct&gt;</th><th scope=col>&lt;fct&gt;</th><th scope=col>&lt;dbl&gt;</th><th scope=col>&lt;dbl&gt;</th><th scope=col>&lt;dbl&gt;</th><th scope=col>&lt;dbl&gt;</th><th scope=col>&lt;dbl&gt;</th><th scope=col>&lt;dbl&gt;</th><th scope=col>&lt;dbl&gt;</th><th scope=col>&lt;dbl&gt;</th><th scope=col>&lt;dbl&gt;</th><th scope=col>&lt;dbl[,1]&gt;</th><th scope=col>&lt;dbl&gt;</th><th scope=col>&lt;dbl&gt;</th><th scope=col>&lt;dbl&gt;</th><th scope=col>&lt;dbl&gt;</th><th scope=col>&lt;dbl&gt;</th><th scope=col>&lt;dbl&gt;</th><th scope=col>&lt;dbl&gt;</th><th scope=col>&lt;dbl&gt;</th><th scope=col>&lt;dbl&gt;</th><th scope=col>&lt;dbl&gt;</th></tr>\n",
       "</thead>\n",
       "<tbody>\n",
       "\t<tr><th scope=row>1</th><td>1001</td><td>male  </td><td>south_asian   </td><td>Rinconada</td><td>4.833333</td><td>6.375</td><td>1.333333</td><td>2.5</td><td>6.5</td><td>6.0</td><td>5.5</td><td>3.5</td><td>6.5</td><td>0</td><td> 70000</td><td>6.166667</td><td>2.000000</td><td>1.5</td><td>5</td><td>-0.05862651</td><td> 0.83993983</td><td>3</td><td>0</td><td>      NA</td></tr>\n",
       "\t<tr><th scope=row>2</th><td>1004</td><td>female</td><td>south_asian   </td><td>Donner   </td><td>2.833333</td><td>6.000</td><td>2.000000</td><td>2.0</td><td>4.0</td><td>5.5</td><td>4.5</td><td>3.0</td><td>5.5</td><td>1</td><td> 10000</td><td>3.000000</td><td>2.666667</td><td>3.0</td><td>1</td><td>-0.98138408</td><td>-1.95722956</td><td>7</td><td>6</td><td>5.479167</td></tr>\n",
       "\t<tr><th scope=row>3</th><td>1047</td><td>female</td><td>other_or_mixed</td><td>Twain    </td><td>5.333333</td><td>6.500</td><td>2.000000</td><td>2.5</td><td>5.5</td><td>6.5</td><td>7.0</td><td>3.0</td><td>6.5</td><td>0</td><td>210000</td><td>5.166667</td><td>2.000000</td><td>3.0</td><td>5</td><td>-0.44690440</td><td>-0.66253028</td><td>6</td><td>4</td><td>6.437500</td></tr>\n",
       "\t<tr><th scope=row>4</th><td>1078</td><td>female</td><td>east_asian    </td><td>Loro     </td><td>5.500000</td><td>6.250</td><td>1.333333</td><td>2.0</td><td>4.5</td><td>6.5</td><td>6.5</td><td>1.5</td><td>6.5</td><td>0</td><td>130000</td><td>5.500000</td><td>2.333333</td><td>3.0</td><td>6</td><td> 0.61446613</td><td>-0.79801599</td><td>1</td><td>0</td><td>      NA</td></tr>\n",
       "\t<tr><th scope=row>5</th><td>1097</td><td>male  </td><td>east_asian    </td><td>Otero    </td><td>6.000000</td><td>5.000</td><td>2.000000</td><td>2.0</td><td>3.0</td><td>4.0</td><td>5.5</td><td>1.5</td><td>4.5</td><td>0</td><td> 90000</td><td>5.833333</td><td>2.000000</td><td>2.5</td><td>6</td><td> 0.22618824</td><td>-0.04126834</td><td>6</td><td>4</td><td>5.812500</td></tr>\n",
       "\t<tr><th scope=row>6</th><td>1105</td><td>female</td><td>white         </td><td>Larkin   </td><td>6.666667</td><td>5.750</td><td>2.000000</td><td>2.0</td><td>4.5</td><td>5.0</td><td>5.0</td><td>2.0</td><td>4.5</td><td>0</td><td>170000</td><td>6.666667</td><td>2.000000</td><td>2.0</td><td>4</td><td> 0.48041399</td><td> 0.64021289</td><td>6</td><td>9</td><td>5.847222</td></tr>\n",
       "</tbody>\n",
       "</table>\n"
      ],
      "text/latex": [
       "A data.frame: 6 × 24\n",
       "\\begin{tabular}{r|llllllllllllllllllllllll}\n",
       "  & PID & gender & race & dorm & life\\_satisfaction\\_t1 & empathy & loneliness\\_t1 & stress\\_t1 & BFI\\_E & BFI\\_A & BFI\\_C & BFI\\_N & BFI\\_O & intl\\_student & family\\_income & life\\_satisfaction\\_t2 & loneliness\\_t2 & stress\\_t2 & parent\\_education\\_highest & wellbeing\\_composite\\_t1 & wellbeing\\_composite\\_t2 & degree\\_in\\_UNION & degree\\_out\\_UNION & empathy\\_UNION\\\\\n",
       "  & <int> & <fct> & <fct> & <fct> & <dbl> & <dbl> & <dbl> & <dbl> & <dbl> & <dbl> & <dbl> & <dbl> & <dbl> & <dbl{[},1{]}> & <dbl> & <dbl> & <dbl> & <dbl> & <dbl> & <dbl> & <dbl> & <dbl> & <dbl> & <dbl>\\\\\n",
       "\\hline\n",
       "\t1 & 1001 & male   & south\\_asian    & Rinconada & 4.833333 & 6.375 & 1.333333 & 2.5 & 6.5 & 6.0 & 5.5 & 3.5 & 6.5 & 0 &  70000 & 6.166667 & 2.000000 & 1.5 & 5 & -0.05862651 &  0.83993983 & 3 & 0 &       NA\\\\\n",
       "\t2 & 1004 & female & south\\_asian    & Donner    & 2.833333 & 6.000 & 2.000000 & 2.0 & 4.0 & 5.5 & 4.5 & 3.0 & 5.5 & 1 &  10000 & 3.000000 & 2.666667 & 3.0 & 1 & -0.98138408 & -1.95722956 & 7 & 6 & 5.479167\\\\\n",
       "\t3 & 1047 & female & other\\_or\\_mixed & Twain     & 5.333333 & 6.500 & 2.000000 & 2.5 & 5.5 & 6.5 & 7.0 & 3.0 & 6.5 & 0 & 210000 & 5.166667 & 2.000000 & 3.0 & 5 & -0.44690440 & -0.66253028 & 6 & 4 & 6.437500\\\\\n",
       "\t4 & 1078 & female & east\\_asian     & Loro      & 5.500000 & 6.250 & 1.333333 & 2.0 & 4.5 & 6.5 & 6.5 & 1.5 & 6.5 & 0 & 130000 & 5.500000 & 2.333333 & 3.0 & 6 &  0.61446613 & -0.79801599 & 1 & 0 &       NA\\\\\n",
       "\t5 & 1097 & male   & east\\_asian     & Otero     & 6.000000 & 5.000 & 2.000000 & 2.0 & 3.0 & 4.0 & 5.5 & 1.5 & 4.5 & 0 &  90000 & 5.833333 & 2.000000 & 2.5 & 6 &  0.22618824 & -0.04126834 & 6 & 4 & 5.812500\\\\\n",
       "\t6 & 1105 & female & white          & Larkin    & 6.666667 & 5.750 & 2.000000 & 2.0 & 4.5 & 5.0 & 5.0 & 2.0 & 4.5 & 0 & 170000 & 6.666667 & 2.000000 & 2.0 & 4 &  0.48041399 &  0.64021289 & 6 & 9 & 5.847222\\\\\n",
       "\\end{tabular}\n"
      ],
      "text/markdown": [
       "\n",
       "A data.frame: 6 × 24\n",
       "\n",
       "| <!--/--> | PID &lt;int&gt; | gender &lt;fct&gt; | race &lt;fct&gt; | dorm &lt;fct&gt; | life_satisfaction_t1 &lt;dbl&gt; | empathy &lt;dbl&gt; | loneliness_t1 &lt;dbl&gt; | stress_t1 &lt;dbl&gt; | BFI_E &lt;dbl&gt; | BFI_A &lt;dbl&gt; | BFI_C &lt;dbl&gt; | BFI_N &lt;dbl&gt; | BFI_O &lt;dbl&gt; | intl_student &lt;dbl[,1]&gt; | family_income &lt;dbl&gt; | life_satisfaction_t2 &lt;dbl&gt; | loneliness_t2 &lt;dbl&gt; | stress_t2 &lt;dbl&gt; | parent_education_highest &lt;dbl&gt; | wellbeing_composite_t1 &lt;dbl&gt; | wellbeing_composite_t2 &lt;dbl&gt; | degree_in_UNION &lt;dbl&gt; | degree_out_UNION &lt;dbl&gt; | empathy_UNION &lt;dbl&gt; |\n",
       "|---|---|---|---|---|---|---|---|---|---|---|---|---|---|---|---|---|---|---|---|---|---|---|---|---|\n",
       "| 1 | 1001 | male   | south_asian    | Rinconada | 4.833333 | 6.375 | 1.333333 | 2.5 | 6.5 | 6.0 | 5.5 | 3.5 | 6.5 | 0 |  70000 | 6.166667 | 2.000000 | 1.5 | 5 | -0.05862651 |  0.83993983 | 3 | 0 |       NA |\n",
       "| 2 | 1004 | female | south_asian    | Donner    | 2.833333 | 6.000 | 2.000000 | 2.0 | 4.0 | 5.5 | 4.5 | 3.0 | 5.5 | 1 |  10000 | 3.000000 | 2.666667 | 3.0 | 1 | -0.98138408 | -1.95722956 | 7 | 6 | 5.479167 |\n",
       "| 3 | 1047 | female | other_or_mixed | Twain     | 5.333333 | 6.500 | 2.000000 | 2.5 | 5.5 | 6.5 | 7.0 | 3.0 | 6.5 | 0 | 210000 | 5.166667 | 2.000000 | 3.0 | 5 | -0.44690440 | -0.66253028 | 6 | 4 | 6.437500 |\n",
       "| 4 | 1078 | female | east_asian     | Loro      | 5.500000 | 6.250 | 1.333333 | 2.0 | 4.5 | 6.5 | 6.5 | 1.5 | 6.5 | 0 | 130000 | 5.500000 | 2.333333 | 3.0 | 6 |  0.61446613 | -0.79801599 | 1 | 0 |       NA |\n",
       "| 5 | 1097 | male   | east_asian     | Otero     | 6.000000 | 5.000 | 2.000000 | 2.0 | 3.0 | 4.0 | 5.5 | 1.5 | 4.5 | 0 |  90000 | 5.833333 | 2.000000 | 2.5 | 6 |  0.22618824 | -0.04126834 | 6 | 4 | 5.812500 |\n",
       "| 6 | 1105 | female | white          | Larkin    | 6.666667 | 5.750 | 2.000000 | 2.0 | 4.5 | 5.0 | 5.0 | 2.0 | 4.5 | 0 | 170000 | 6.666667 | 2.000000 | 2.0 | 4 |  0.48041399 |  0.64021289 | 6 | 9 | 5.847222 |\n",
       "\n"
      ],
      "text/plain": [
       "  PID  gender race           dorm      life_satisfaction_t1 empathy\n",
       "1 1001 male   south_asian    Rinconada 4.833333             6.375  \n",
       "2 1004 female south_asian    Donner    2.833333             6.000  \n",
       "3 1047 female other_or_mixed Twain     5.333333             6.500  \n",
       "4 1078 female east_asian     Loro      5.500000             6.250  \n",
       "5 1097 male   east_asian     Otero     6.000000             5.000  \n",
       "6 1105 female white          Larkin    6.666667             5.750  \n",
       "  loneliness_t1 stress_t1 BFI_E BFI_A BFI_C BFI_N BFI_O intl_student\n",
       "1 1.333333      2.5       6.5   6.0   5.5   3.5   6.5   0           \n",
       "2 2.000000      2.0       4.0   5.5   4.5   3.0   5.5   1           \n",
       "3 2.000000      2.5       5.5   6.5   7.0   3.0   6.5   0           \n",
       "4 1.333333      2.0       4.5   6.5   6.5   1.5   6.5   0           \n",
       "5 2.000000      2.0       3.0   4.0   5.5   1.5   4.5   0           \n",
       "6 2.000000      2.0       4.5   5.0   5.0   2.0   4.5   0           \n",
       "  family_income life_satisfaction_t2 loneliness_t2 stress_t2\n",
       "1  70000        6.166667             2.000000      1.5      \n",
       "2  10000        3.000000             2.666667      3.0      \n",
       "3 210000        5.166667             2.000000      3.0      \n",
       "4 130000        5.500000             2.333333      3.0      \n",
       "5  90000        5.833333             2.000000      2.5      \n",
       "6 170000        6.666667             2.000000      2.0      \n",
       "  parent_education_highest wellbeing_composite_t1 wellbeing_composite_t2\n",
       "1 5                        -0.05862651             0.83993983           \n",
       "2 1                        -0.98138408            -1.95722956           \n",
       "3 5                        -0.44690440            -0.66253028           \n",
       "4 6                         0.61446613            -0.79801599           \n",
       "5 6                         0.22618824            -0.04126834           \n",
       "6 4                         0.48041399             0.64021289           \n",
       "  degree_in_UNION degree_out_UNION empathy_UNION\n",
       "1 3               0                      NA     \n",
       "2 7               6                5.479167     \n",
       "3 6               4                6.437500     \n",
       "4 1               0                      NA     \n",
       "5 6               4                5.812500     \n",
       "6 6               9                5.847222     "
      ]
     },
     "metadata": {},
     "output_type": "display_data"
    }
   ],
   "source": [
    "tmp = nominations %>% filter(Network_Type != \"Liked\" & Network_Type != \"NegAff\")\n",
    "df = add_network_columns(df, tmp, \"UNION\")\n",
    "head(df)"
   ]
  },
  {
   "cell_type": "markdown",
   "metadata": {},
   "source": [
    "#### Spot check the first P"
   ]
  },
  {
   "cell_type": "code",
   "execution_count": 51,
   "metadata": {},
   "outputs": [
    {
     "data": {
      "text/html": [
       "<table>\n",
       "<caption>A data.frame: 7 × 4</caption>\n",
       "<thead>\n",
       "\t<tr><th></th><th scope=col>PID</th><th scope=col>DID</th><th scope=col>Nominations</th><th scope=col>Network_Type</th></tr>\n",
       "\t<tr><th></th><th scope=col>&lt;int&gt;</th><th scope=col>&lt;int&gt;</th><th scope=col>&lt;int&gt;</th><th scope=col>&lt;fct&gt;</th></tr>\n",
       "</thead>\n",
       "<tbody>\n",
       "\t<tr><th scope=row>519</th><td>4440</td><td>30</td><td>1001</td><td>CloseFrds </td></tr>\n",
       "\t<tr><th scope=row>11280</th><td>7718</td><td>30</td><td>1001</td><td>PosEmoSupp</td></tr>\n",
       "\t<tr><th scope=row>11767</th><td>5395</td><td>30</td><td>1001</td><td>PosEmoSupp</td></tr>\n",
       "\t<tr><th scope=row>19900</th><td>4440</td><td>30</td><td>1001</td><td>PosAff    </td></tr>\n",
       "\t<tr><th scope=row>24999</th><td>4440</td><td>30</td><td>1001</td><td>Gossip    </td></tr>\n",
       "\t<tr><th scope=row>29671</th><td>5395</td><td>30</td><td>1001</td><td>Liked     </td></tr>\n",
       "\t<tr><th scope=row>32602</th><td>4440</td><td>30</td><td>1001</td><td>StudyWith </td></tr>\n",
       "</tbody>\n",
       "</table>\n"
      ],
      "text/latex": [
       "A data.frame: 7 × 4\n",
       "\\begin{tabular}{r|llll}\n",
       "  & PID & DID & Nominations & Network\\_Type\\\\\n",
       "  & <int> & <int> & <int> & <fct>\\\\\n",
       "\\hline\n",
       "\t519 & 4440 & 30 & 1001 & CloseFrds \\\\\n",
       "\t11280 & 7718 & 30 & 1001 & PosEmoSupp\\\\\n",
       "\t11767 & 5395 & 30 & 1001 & PosEmoSupp\\\\\n",
       "\t19900 & 4440 & 30 & 1001 & PosAff    \\\\\n",
       "\t24999 & 4440 & 30 & 1001 & Gossip    \\\\\n",
       "\t29671 & 5395 & 30 & 1001 & Liked     \\\\\n",
       "\t32602 & 4440 & 30 & 1001 & StudyWith \\\\\n",
       "\\end{tabular}\n"
      ],
      "text/markdown": [
       "\n",
       "A data.frame: 7 × 4\n",
       "\n",
       "| <!--/--> | PID &lt;int&gt; | DID &lt;int&gt; | Nominations &lt;int&gt; | Network_Type &lt;fct&gt; |\n",
       "|---|---|---|---|---|\n",
       "| 519 | 4440 | 30 | 1001 | CloseFrds  |\n",
       "| 11280 | 7718 | 30 | 1001 | PosEmoSupp |\n",
       "| 11767 | 5395 | 30 | 1001 | PosEmoSupp |\n",
       "| 19900 | 4440 | 30 | 1001 | PosAff     |\n",
       "| 24999 | 4440 | 30 | 1001 | Gossip     |\n",
       "| 29671 | 5395 | 30 | 1001 | Liked      |\n",
       "| 32602 | 4440 | 30 | 1001 | StudyWith  |\n",
       "\n"
      ],
      "text/plain": [
       "      PID  DID Nominations Network_Type\n",
       "519   4440 30  1001        CloseFrds   \n",
       "11280 7718 30  1001        PosEmoSupp  \n",
       "11767 5395 30  1001        PosEmoSupp  \n",
       "19900 4440 30  1001        PosAff      \n",
       "24999 4440 30  1001        Gossip      \n",
       "29671 5395 30  1001        Liked       \n",
       "32602 4440 30  1001        StudyWith   "
      ]
     },
     "metadata": {},
     "output_type": "display_data"
    }
   ],
   "source": [
    "nominations[nominations$Nominations == 1001,]"
   ]
  },
  {
   "cell_type": "markdown",
   "metadata": {},
   "source": [
    "### Compute the 'intimate' network (close friends and bad news)"
   ]
  },
  {
   "cell_type": "code",
   "execution_count": 52,
   "metadata": {},
   "outputs": [
    {
     "data": {
      "text/html": [
       "<table>\n",
       "<caption>A data.frame: 6 × 27</caption>\n",
       "<thead>\n",
       "\t<tr><th></th><th scope=col>PID</th><th scope=col>gender</th><th scope=col>race</th><th scope=col>dorm</th><th scope=col>life_satisfaction_t1</th><th scope=col>empathy</th><th scope=col>loneliness_t1</th><th scope=col>stress_t1</th><th scope=col>BFI_E</th><th scope=col>BFI_A</th><th scope=col>BFI_C</th><th scope=col>BFI_N</th><th scope=col>BFI_O</th><th scope=col>intl_student</th><th scope=col>family_income</th><th scope=col>life_satisfaction_t2</th><th scope=col>loneliness_t2</th><th scope=col>stress_t2</th><th scope=col>parent_education_highest</th><th scope=col>wellbeing_composite_t1</th><th scope=col>wellbeing_composite_t2</th><th scope=col>degree_in_UNION</th><th scope=col>degree_out_UNION</th><th scope=col>empathy_UNION</th><th scope=col>degree_in_INTIMATE</th><th scope=col>degree_out_INTIMATE</th><th scope=col>empathy_INTIMATE</th></tr>\n",
       "\t<tr><th></th><th scope=col>&lt;int&gt;</th><th scope=col>&lt;fct&gt;</th><th scope=col>&lt;fct&gt;</th><th scope=col>&lt;fct&gt;</th><th scope=col>&lt;dbl&gt;</th><th scope=col>&lt;dbl&gt;</th><th scope=col>&lt;dbl&gt;</th><th scope=col>&lt;dbl&gt;</th><th scope=col>&lt;dbl&gt;</th><th scope=col>&lt;dbl&gt;</th><th scope=col>&lt;dbl&gt;</th><th scope=col>&lt;dbl&gt;</th><th scope=col>&lt;dbl&gt;</th><th scope=col>&lt;dbl[,1]&gt;</th><th scope=col>&lt;dbl&gt;</th><th scope=col>&lt;dbl&gt;</th><th scope=col>&lt;dbl&gt;</th><th scope=col>&lt;dbl&gt;</th><th scope=col>&lt;dbl&gt;</th><th scope=col>&lt;dbl&gt;</th><th scope=col>&lt;dbl&gt;</th><th scope=col>&lt;dbl&gt;</th><th scope=col>&lt;dbl&gt;</th><th scope=col>&lt;dbl&gt;</th><th scope=col>&lt;dbl&gt;</th><th scope=col>&lt;dbl&gt;</th><th scope=col>&lt;dbl&gt;</th></tr>\n",
       "</thead>\n",
       "<tbody>\n",
       "\t<tr><th scope=row>1</th><td>1001</td><td>male  </td><td>south_asian   </td><td>Rinconada</td><td>4.833333</td><td>6.375</td><td>1.333333</td><td>2.5</td><td>6.5</td><td>6.0</td><td>5.5</td><td>3.5</td><td>6.5</td><td>0</td><td> 70000</td><td>6.166667</td><td>2.000000</td><td>1.5</td><td>5</td><td>-0.05862651</td><td> 0.83993983</td><td>3</td><td>0</td><td>      NA</td><td>1</td><td>0</td><td>    NA</td></tr>\n",
       "\t<tr><th scope=row>2</th><td>1004</td><td>female</td><td>south_asian   </td><td>Donner   </td><td>2.833333</td><td>6.000</td><td>2.000000</td><td>2.0</td><td>4.0</td><td>5.5</td><td>4.5</td><td>3.0</td><td>5.5</td><td>1</td><td> 10000</td><td>3.000000</td><td>2.666667</td><td>3.0</td><td>1</td><td>-0.98138408</td><td>-1.95722956</td><td>7</td><td>6</td><td>5.479167</td><td>5</td><td>4</td><td>5.6250</td></tr>\n",
       "\t<tr><th scope=row>3</th><td>1047</td><td>female</td><td>other_or_mixed</td><td>Twain    </td><td>5.333333</td><td>6.500</td><td>2.000000</td><td>2.5</td><td>5.5</td><td>6.5</td><td>7.0</td><td>3.0</td><td>6.5</td><td>0</td><td>210000</td><td>5.166667</td><td>2.000000</td><td>3.0</td><td>5</td><td>-0.44690440</td><td>-0.66253028</td><td>6</td><td>4</td><td>6.437500</td><td>4</td><td>4</td><td>6.4375</td></tr>\n",
       "\t<tr><th scope=row>4</th><td>1078</td><td>female</td><td>east_asian    </td><td>Loro     </td><td>5.500000</td><td>6.250</td><td>1.333333</td><td>2.0</td><td>4.5</td><td>6.5</td><td>6.5</td><td>1.5</td><td>6.5</td><td>0</td><td>130000</td><td>5.500000</td><td>2.333333</td><td>3.0</td><td>6</td><td> 0.61446613</td><td>-0.79801599</td><td>1</td><td>0</td><td>      NA</td><td>1</td><td>0</td><td>    NA</td></tr>\n",
       "\t<tr><th scope=row>5</th><td>1097</td><td>male  </td><td>east_asian    </td><td>Otero    </td><td>6.000000</td><td>5.000</td><td>2.000000</td><td>2.0</td><td>3.0</td><td>4.0</td><td>5.5</td><td>1.5</td><td>4.5</td><td>0</td><td> 90000</td><td>5.833333</td><td>2.000000</td><td>2.5</td><td>6</td><td> 0.22618824</td><td>-0.04126834</td><td>6</td><td>4</td><td>5.812500</td><td>3</td><td>1</td><td>5.6250</td></tr>\n",
       "\t<tr><th scope=row>6</th><td>1105</td><td>female</td><td>white         </td><td>Larkin   </td><td>6.666667</td><td>5.750</td><td>2.000000</td><td>2.0</td><td>4.5</td><td>5.0</td><td>5.0</td><td>2.0</td><td>4.5</td><td>0</td><td>170000</td><td>6.666667</td><td>2.000000</td><td>2.0</td><td>4</td><td> 0.48041399</td><td> 0.64021289</td><td>6</td><td>9</td><td>5.847222</td><td>4</td><td>5</td><td>6.0250</td></tr>\n",
       "</tbody>\n",
       "</table>\n"
      ],
      "text/latex": [
       "A data.frame: 6 × 27\n",
       "\\begin{tabular}{r|lllllllllllllllllllllllllll}\n",
       "  & PID & gender & race & dorm & life\\_satisfaction\\_t1 & empathy & loneliness\\_t1 & stress\\_t1 & BFI\\_E & BFI\\_A & BFI\\_C & BFI\\_N & BFI\\_O & intl\\_student & family\\_income & life\\_satisfaction\\_t2 & loneliness\\_t2 & stress\\_t2 & parent\\_education\\_highest & wellbeing\\_composite\\_t1 & wellbeing\\_composite\\_t2 & degree\\_in\\_UNION & degree\\_out\\_UNION & empathy\\_UNION & degree\\_in\\_INTIMATE & degree\\_out\\_INTIMATE & empathy\\_INTIMATE\\\\\n",
       "  & <int> & <fct> & <fct> & <fct> & <dbl> & <dbl> & <dbl> & <dbl> & <dbl> & <dbl> & <dbl> & <dbl> & <dbl> & <dbl{[},1{]}> & <dbl> & <dbl> & <dbl> & <dbl> & <dbl> & <dbl> & <dbl> & <dbl> & <dbl> & <dbl> & <dbl> & <dbl> & <dbl>\\\\\n",
       "\\hline\n",
       "\t1 & 1001 & male   & south\\_asian    & Rinconada & 4.833333 & 6.375 & 1.333333 & 2.5 & 6.5 & 6.0 & 5.5 & 3.5 & 6.5 & 0 &  70000 & 6.166667 & 2.000000 & 1.5 & 5 & -0.05862651 &  0.83993983 & 3 & 0 &       NA & 1 & 0 &     NA\\\\\n",
       "\t2 & 1004 & female & south\\_asian    & Donner    & 2.833333 & 6.000 & 2.000000 & 2.0 & 4.0 & 5.5 & 4.5 & 3.0 & 5.5 & 1 &  10000 & 3.000000 & 2.666667 & 3.0 & 1 & -0.98138408 & -1.95722956 & 7 & 6 & 5.479167 & 5 & 4 & 5.6250\\\\\n",
       "\t3 & 1047 & female & other\\_or\\_mixed & Twain     & 5.333333 & 6.500 & 2.000000 & 2.5 & 5.5 & 6.5 & 7.0 & 3.0 & 6.5 & 0 & 210000 & 5.166667 & 2.000000 & 3.0 & 5 & -0.44690440 & -0.66253028 & 6 & 4 & 6.437500 & 4 & 4 & 6.4375\\\\\n",
       "\t4 & 1078 & female & east\\_asian     & Loro      & 5.500000 & 6.250 & 1.333333 & 2.0 & 4.5 & 6.5 & 6.5 & 1.5 & 6.5 & 0 & 130000 & 5.500000 & 2.333333 & 3.0 & 6 &  0.61446613 & -0.79801599 & 1 & 0 &       NA & 1 & 0 &     NA\\\\\n",
       "\t5 & 1097 & male   & east\\_asian     & Otero     & 6.000000 & 5.000 & 2.000000 & 2.0 & 3.0 & 4.0 & 5.5 & 1.5 & 4.5 & 0 &  90000 & 5.833333 & 2.000000 & 2.5 & 6 &  0.22618824 & -0.04126834 & 6 & 4 & 5.812500 & 3 & 1 & 5.6250\\\\\n",
       "\t6 & 1105 & female & white          & Larkin    & 6.666667 & 5.750 & 2.000000 & 2.0 & 4.5 & 5.0 & 5.0 & 2.0 & 4.5 & 0 & 170000 & 6.666667 & 2.000000 & 2.0 & 4 &  0.48041399 &  0.64021289 & 6 & 9 & 5.847222 & 4 & 5 & 6.0250\\\\\n",
       "\\end{tabular}\n"
      ],
      "text/markdown": [
       "\n",
       "A data.frame: 6 × 27\n",
       "\n",
       "| <!--/--> | PID &lt;int&gt; | gender &lt;fct&gt; | race &lt;fct&gt; | dorm &lt;fct&gt; | life_satisfaction_t1 &lt;dbl&gt; | empathy &lt;dbl&gt; | loneliness_t1 &lt;dbl&gt; | stress_t1 &lt;dbl&gt; | BFI_E &lt;dbl&gt; | BFI_A &lt;dbl&gt; | BFI_C &lt;dbl&gt; | BFI_N &lt;dbl&gt; | BFI_O &lt;dbl&gt; | intl_student &lt;dbl[,1]&gt; | family_income &lt;dbl&gt; | life_satisfaction_t2 &lt;dbl&gt; | loneliness_t2 &lt;dbl&gt; | stress_t2 &lt;dbl&gt; | parent_education_highest &lt;dbl&gt; | wellbeing_composite_t1 &lt;dbl&gt; | wellbeing_composite_t2 &lt;dbl&gt; | degree_in_UNION &lt;dbl&gt; | degree_out_UNION &lt;dbl&gt; | empathy_UNION &lt;dbl&gt; | degree_in_INTIMATE &lt;dbl&gt; | degree_out_INTIMATE &lt;dbl&gt; | empathy_INTIMATE &lt;dbl&gt; |\n",
       "|---|---|---|---|---|---|---|---|---|---|---|---|---|---|---|---|---|---|---|---|---|---|---|---|---|---|---|---|\n",
       "| 1 | 1001 | male   | south_asian    | Rinconada | 4.833333 | 6.375 | 1.333333 | 2.5 | 6.5 | 6.0 | 5.5 | 3.5 | 6.5 | 0 |  70000 | 6.166667 | 2.000000 | 1.5 | 5 | -0.05862651 |  0.83993983 | 3 | 0 |       NA | 1 | 0 |     NA |\n",
       "| 2 | 1004 | female | south_asian    | Donner    | 2.833333 | 6.000 | 2.000000 | 2.0 | 4.0 | 5.5 | 4.5 | 3.0 | 5.5 | 1 |  10000 | 3.000000 | 2.666667 | 3.0 | 1 | -0.98138408 | -1.95722956 | 7 | 6 | 5.479167 | 5 | 4 | 5.6250 |\n",
       "| 3 | 1047 | female | other_or_mixed | Twain     | 5.333333 | 6.500 | 2.000000 | 2.5 | 5.5 | 6.5 | 7.0 | 3.0 | 6.5 | 0 | 210000 | 5.166667 | 2.000000 | 3.0 | 5 | -0.44690440 | -0.66253028 | 6 | 4 | 6.437500 | 4 | 4 | 6.4375 |\n",
       "| 4 | 1078 | female | east_asian     | Loro      | 5.500000 | 6.250 | 1.333333 | 2.0 | 4.5 | 6.5 | 6.5 | 1.5 | 6.5 | 0 | 130000 | 5.500000 | 2.333333 | 3.0 | 6 |  0.61446613 | -0.79801599 | 1 | 0 |       NA | 1 | 0 |     NA |\n",
       "| 5 | 1097 | male   | east_asian     | Otero     | 6.000000 | 5.000 | 2.000000 | 2.0 | 3.0 | 4.0 | 5.5 | 1.5 | 4.5 | 0 |  90000 | 5.833333 | 2.000000 | 2.5 | 6 |  0.22618824 | -0.04126834 | 6 | 4 | 5.812500 | 3 | 1 | 5.6250 |\n",
       "| 6 | 1105 | female | white          | Larkin    | 6.666667 | 5.750 | 2.000000 | 2.0 | 4.5 | 5.0 | 5.0 | 2.0 | 4.5 | 0 | 170000 | 6.666667 | 2.000000 | 2.0 | 4 |  0.48041399 |  0.64021289 | 6 | 9 | 5.847222 | 4 | 5 | 6.0250 |\n",
       "\n"
      ],
      "text/plain": [
       "  PID  gender race           dorm      life_satisfaction_t1 empathy\n",
       "1 1001 male   south_asian    Rinconada 4.833333             6.375  \n",
       "2 1004 female south_asian    Donner    2.833333             6.000  \n",
       "3 1047 female other_or_mixed Twain     5.333333             6.500  \n",
       "4 1078 female east_asian     Loro      5.500000             6.250  \n",
       "5 1097 male   east_asian     Otero     6.000000             5.000  \n",
       "6 1105 female white          Larkin    6.666667             5.750  \n",
       "  loneliness_t1 stress_t1 BFI_E BFI_A BFI_C BFI_N BFI_O intl_student\n",
       "1 1.333333      2.5       6.5   6.0   5.5   3.5   6.5   0           \n",
       "2 2.000000      2.0       4.0   5.5   4.5   3.0   5.5   1           \n",
       "3 2.000000      2.5       5.5   6.5   7.0   3.0   6.5   0           \n",
       "4 1.333333      2.0       4.5   6.5   6.5   1.5   6.5   0           \n",
       "5 2.000000      2.0       3.0   4.0   5.5   1.5   4.5   0           \n",
       "6 2.000000      2.0       4.5   5.0   5.0   2.0   4.5   0           \n",
       "  family_income life_satisfaction_t2 loneliness_t2 stress_t2\n",
       "1  70000        6.166667             2.000000      1.5      \n",
       "2  10000        3.000000             2.666667      3.0      \n",
       "3 210000        5.166667             2.000000      3.0      \n",
       "4 130000        5.500000             2.333333      3.0      \n",
       "5  90000        5.833333             2.000000      2.5      \n",
       "6 170000        6.666667             2.000000      2.0      \n",
       "  parent_education_highest wellbeing_composite_t1 wellbeing_composite_t2\n",
       "1 5                        -0.05862651             0.83993983           \n",
       "2 1                        -0.98138408            -1.95722956           \n",
       "3 5                        -0.44690440            -0.66253028           \n",
       "4 6                         0.61446613            -0.79801599           \n",
       "5 6                         0.22618824            -0.04126834           \n",
       "6 4                         0.48041399             0.64021289           \n",
       "  degree_in_UNION degree_out_UNION empathy_UNION degree_in_INTIMATE\n",
       "1 3               0                      NA      1                 \n",
       "2 7               6                5.479167      5                 \n",
       "3 6               4                6.437500      4                 \n",
       "4 1               0                      NA      1                 \n",
       "5 6               4                5.812500      3                 \n",
       "6 6               9                5.847222      4                 \n",
       "  degree_out_INTIMATE empathy_INTIMATE\n",
       "1 0                       NA          \n",
       "2 4                   5.6250          \n",
       "3 4                   6.4375          \n",
       "4 0                       NA          \n",
       "5 1                   5.6250          \n",
       "6 5                   6.0250          "
      ]
     },
     "metadata": {},
     "output_type": "display_data"
    }
   ],
   "source": [
    "tmp = nominations %>% filter(Network_Type == \"CloseFrds\" | Network_Type == \"NegEmoSupp\" )\n",
    "df = add_network_columns(df, tmp, \"INTIMATE\")\n",
    "head(df)"
   ]
  },
  {
   "cell_type": "markdown",
   "metadata": {},
   "source": [
    "#### Spot check the first P"
   ]
  },
  {
   "cell_type": "code",
   "execution_count": 53,
   "metadata": {},
   "outputs": [
    {
     "data": {
      "text/html": [
       "<table>\n",
       "<caption>A data.frame: 1 × 4</caption>\n",
       "<thead>\n",
       "\t<tr><th></th><th scope=col>PID</th><th scope=col>DID</th><th scope=col>Nominations</th><th scope=col>Network_Type</th></tr>\n",
       "\t<tr><th></th><th scope=col>&lt;int&gt;</th><th scope=col>&lt;int&gt;</th><th scope=col>&lt;int&gt;</th><th scope=col>&lt;fct&gt;</th></tr>\n",
       "</thead>\n",
       "<tbody>\n",
       "\t<tr><th scope=row>519</th><td>4440</td><td>30</td><td>1001</td><td>CloseFrds</td></tr>\n",
       "</tbody>\n",
       "</table>\n"
      ],
      "text/latex": [
       "A data.frame: 1 × 4\n",
       "\\begin{tabular}{r|llll}\n",
       "  & PID & DID & Nominations & Network\\_Type\\\\\n",
       "  & <int> & <int> & <int> & <fct>\\\\\n",
       "\\hline\n",
       "\t519 & 4440 & 30 & 1001 & CloseFrds\\\\\n",
       "\\end{tabular}\n"
      ],
      "text/markdown": [
       "\n",
       "A data.frame: 1 × 4\n",
       "\n",
       "| <!--/--> | PID &lt;int&gt; | DID &lt;int&gt; | Nominations &lt;int&gt; | Network_Type &lt;fct&gt; |\n",
       "|---|---|---|---|---|\n",
       "| 519 | 4440 | 30 | 1001 | CloseFrds |\n",
       "\n"
      ],
      "text/plain": [
       "    PID  DID Nominations Network_Type\n",
       "519 4440 30  1001        CloseFrds   "
      ]
     },
     "metadata": {},
     "output_type": "display_data"
    }
   ],
   "source": [
    "tmp[tmp$Nominations == 1001,]"
   ]
  },
  {
   "cell_type": "markdown",
   "metadata": {},
   "source": [
    "### Compute all other networks individually, in case we want to use them in a subsequent analysis"
   ]
  },
  {
   "cell_type": "code",
   "execution_count": 54,
   "metadata": {},
   "outputs": [
    {
     "name": "stdout",
     "output_type": "stream",
     "text": [
      "[1] \"CloseFrds\"\n",
      "[1] \"NegEmoSupp\"\n",
      "[1] \"PosEmoSupp\"\n",
      "[1] \"Responsive\"\n",
      "[1] \"EmpSupp\"\n",
      "[1] \"PosAff\"\n",
      "[1] \"NegAff\"\n",
      "[1] \"Gossip\"\n",
      "[1] \"Liked\"\n",
      "[1] \"StudyWith\"\n"
     ]
    },
    {
     "data": {
      "text/html": [
       "<table>\n",
       "<caption>A data.frame: 6 × 57</caption>\n",
       "<thead>\n",
       "\t<tr><th></th><th scope=col>PID</th><th scope=col>gender</th><th scope=col>race</th><th scope=col>dorm</th><th scope=col>life_satisfaction_t1</th><th scope=col>empathy</th><th scope=col>loneliness_t1</th><th scope=col>stress_t1</th><th scope=col>BFI_E</th><th scope=col>BFI_A</th><th scope=col>BFI_C</th><th scope=col>BFI_N</th><th scope=col>BFI_O</th><th scope=col>intl_student</th><th scope=col>family_income</th><th scope=col>life_satisfaction_t2</th><th scope=col>loneliness_t2</th><th scope=col>stress_t2</th><th scope=col>parent_education_highest</th><th scope=col>wellbeing_composite_t1</th><th scope=col>wellbeing_composite_t2</th><th scope=col>degree_in_UNION</th><th scope=col>degree_out_UNION</th><th scope=col>empathy_UNION</th><th scope=col>degree_in_INTIMATE</th><th scope=col>degree_out_INTIMATE</th><th scope=col>empathy_INTIMATE</th><th scope=col>degree_in_CloseFrds</th><th scope=col>degree_out_CloseFrds</th><th scope=col>empathy_CloseFrds</th><th scope=col>degree_in_NegEmoSupp</th><th scope=col>degree_out_NegEmoSupp</th><th scope=col>empathy_NegEmoSupp</th><th scope=col>degree_in_PosEmoSupp</th><th scope=col>degree_out_PosEmoSupp</th><th scope=col>empathy_PosEmoSupp</th><th scope=col>degree_in_Responsive</th><th scope=col>degree_out_Responsive</th><th scope=col>empathy_Responsive</th><th scope=col>degree_in_EmpSupp</th><th scope=col>degree_out_EmpSupp</th><th scope=col>empathy_EmpSupp</th><th scope=col>degree_in_PosAff</th><th scope=col>degree_out_PosAff</th><th scope=col>empathy_PosAff</th><th scope=col>degree_in_NegAff</th><th scope=col>degree_out_NegAff</th><th scope=col>empathy_NegAff</th><th scope=col>degree_in_Gossip</th><th scope=col>degree_out_Gossip</th><th scope=col>empathy_Gossip</th><th scope=col>degree_in_Liked</th><th scope=col>degree_out_Liked</th><th scope=col>empathy_Liked</th><th scope=col>degree_in_StudyWith</th><th scope=col>degree_out_StudyWith</th><th scope=col>empathy_StudyWith</th></tr>\n",
       "\t<tr><th></th><th scope=col>&lt;int&gt;</th><th scope=col>&lt;fct&gt;</th><th scope=col>&lt;fct&gt;</th><th scope=col>&lt;fct&gt;</th><th scope=col>&lt;dbl&gt;</th><th scope=col>&lt;dbl&gt;</th><th scope=col>&lt;dbl&gt;</th><th scope=col>&lt;dbl&gt;</th><th scope=col>&lt;dbl&gt;</th><th scope=col>&lt;dbl&gt;</th><th scope=col>&lt;dbl&gt;</th><th scope=col>&lt;dbl&gt;</th><th scope=col>&lt;dbl&gt;</th><th scope=col>&lt;dbl[,1]&gt;</th><th scope=col>&lt;dbl&gt;</th><th scope=col>&lt;dbl&gt;</th><th scope=col>&lt;dbl&gt;</th><th scope=col>&lt;dbl&gt;</th><th scope=col>&lt;dbl&gt;</th><th scope=col>&lt;dbl&gt;</th><th scope=col>&lt;dbl&gt;</th><th scope=col>&lt;dbl&gt;</th><th scope=col>&lt;dbl&gt;</th><th scope=col>&lt;dbl&gt;</th><th scope=col>&lt;dbl&gt;</th><th scope=col>&lt;dbl&gt;</th><th scope=col>&lt;dbl&gt;</th><th scope=col>&lt;dbl&gt;</th><th scope=col>&lt;dbl&gt;</th><th scope=col>&lt;dbl&gt;</th><th scope=col>&lt;dbl&gt;</th><th scope=col>&lt;dbl&gt;</th><th scope=col>&lt;dbl&gt;</th><th scope=col>&lt;dbl&gt;</th><th scope=col>&lt;dbl&gt;</th><th scope=col>&lt;dbl&gt;</th><th scope=col>&lt;dbl&gt;</th><th scope=col>&lt;dbl&gt;</th><th scope=col>&lt;dbl&gt;</th><th scope=col>&lt;dbl&gt;</th><th scope=col>&lt;dbl&gt;</th><th scope=col>&lt;dbl&gt;</th><th scope=col>&lt;dbl&gt;</th><th scope=col>&lt;dbl&gt;</th><th scope=col>&lt;dbl&gt;</th><th scope=col>&lt;dbl&gt;</th><th scope=col>&lt;dbl&gt;</th><th scope=col>&lt;dbl&gt;</th><th scope=col>&lt;dbl&gt;</th><th scope=col>&lt;dbl&gt;</th><th scope=col>&lt;dbl&gt;</th><th scope=col>&lt;dbl&gt;</th><th scope=col>&lt;dbl&gt;</th><th scope=col>&lt;dbl&gt;</th><th scope=col>&lt;dbl&gt;</th><th scope=col>&lt;dbl&gt;</th><th scope=col>&lt;dbl&gt;</th></tr>\n",
       "</thead>\n",
       "<tbody>\n",
       "\t<tr><th scope=row>1</th><td>1001</td><td>male  </td><td>south_asian   </td><td>Rinconada</td><td>4.833333</td><td>6.375</td><td>1.333333</td><td>2.5</td><td>6.5</td><td>6.0</td><td>5.5</td><td>3.5</td><td>6.5</td><td>0</td><td> 70000</td><td>6.166667</td><td>2.000000</td><td>1.5</td><td>5</td><td>-0.05862651</td><td> 0.83993983</td><td>3</td><td>0</td><td>      NA</td><td>1</td><td>0</td><td>    NA</td><td>1</td><td>0</td><td>    NA</td><td>0</td><td>0</td><td>      NA</td><td>2</td><td>0</td><td>    NA</td><td>0</td><td>0</td><td>    NA</td><td>0</td><td>0</td><td>    NA</td><td>1</td><td>0</td><td>    NA</td><td>0</td><td>0</td><td> NA</td><td>1</td><td>0</td><td>      NA</td><td>1</td><td>0</td><td>   NA</td><td>1</td><td>0</td><td>    NA</td></tr>\n",
       "\t<tr><th scope=row>2</th><td>1004</td><td>female</td><td>south_asian   </td><td>Donner   </td><td>2.833333</td><td>6.000</td><td>2.000000</td><td>2.0</td><td>4.0</td><td>5.5</td><td>4.5</td><td>3.0</td><td>5.5</td><td>1</td><td> 10000</td><td>3.000000</td><td>2.666667</td><td>3.0</td><td>1</td><td>-0.98138408</td><td>-1.95722956</td><td>7</td><td>6</td><td>5.479167</td><td>5</td><td>4</td><td>5.6250</td><td>4</td><td>4</td><td>5.6250</td><td>5</td><td>1</td><td>4.750000</td><td>4</td><td>4</td><td>5.4375</td><td>2</td><td>2</td><td>5.5000</td><td>3</td><td>1</td><td>4.7500</td><td>2</td><td>1</td><td>4.7500</td><td>1</td><td>0</td><td> NA</td><td>1</td><td>1</td><td>4.750000</td><td>1</td><td>1</td><td>4.750</td><td>3</td><td>2</td><td>5.5625</td></tr>\n",
       "\t<tr><th scope=row>3</th><td>1047</td><td>female</td><td>other_or_mixed</td><td>Twain    </td><td>5.333333</td><td>6.500</td><td>2.000000</td><td>2.5</td><td>5.5</td><td>6.5</td><td>7.0</td><td>3.0</td><td>6.5</td><td>0</td><td>210000</td><td>5.166667</td><td>2.000000</td><td>3.0</td><td>5</td><td>-0.44690440</td><td>-0.66253028</td><td>6</td><td>4</td><td>6.437500</td><td>4</td><td>4</td><td>6.4375</td><td>4</td><td>4</td><td>6.4375</td><td>4</td><td>3</td><td>6.541667</td><td>3</td><td>4</td><td>6.4375</td><td>2</td><td>2</td><td>6.5625</td><td>1</td><td>2</td><td>6.5625</td><td>3</td><td>4</td><td>6.4375</td><td>1</td><td>1</td><td>6.5</td><td>4</td><td>3</td><td>6.541667</td><td>1</td><td>2</td><td>6.000</td><td>2</td><td>1</td><td>6.6250</td></tr>\n",
       "\t<tr><th scope=row>4</th><td>1078</td><td>female</td><td>east_asian    </td><td>Loro     </td><td>5.500000</td><td>6.250</td><td>1.333333</td><td>2.0</td><td>4.5</td><td>6.5</td><td>6.5</td><td>1.5</td><td>6.5</td><td>0</td><td>130000</td><td>5.500000</td><td>2.333333</td><td>3.0</td><td>6</td><td> 0.61446613</td><td>-0.79801599</td><td>1</td><td>0</td><td>      NA</td><td>1</td><td>0</td><td>    NA</td><td>1</td><td>0</td><td>    NA</td><td>0</td><td>0</td><td>      NA</td><td>1</td><td>0</td><td>    NA</td><td>1</td><td>0</td><td>    NA</td><td>0</td><td>0</td><td>    NA</td><td>0</td><td>0</td><td>    NA</td><td>0</td><td>1</td><td>5.0</td><td>0</td><td>0</td><td>      NA</td><td>0</td><td>0</td><td>   NA</td><td>0</td><td>0</td><td>    NA</td></tr>\n",
       "\t<tr><th scope=row>5</th><td>1097</td><td>male  </td><td>east_asian    </td><td>Otero    </td><td>6.000000</td><td>5.000</td><td>2.000000</td><td>2.0</td><td>3.0</td><td>4.0</td><td>5.5</td><td>1.5</td><td>4.5</td><td>0</td><td> 90000</td><td>5.833333</td><td>2.000000</td><td>2.5</td><td>6</td><td> 0.22618824</td><td>-0.04126834</td><td>6</td><td>4</td><td>5.812500</td><td>3</td><td>1</td><td>5.6250</td><td>2</td><td>1</td><td>5.6250</td><td>1</td><td>1</td><td>5.625000</td><td>1</td><td>1</td><td>6.6250</td><td>0</td><td>1</td><td>5.6250</td><td>0</td><td>1</td><td>4.8750</td><td>1</td><td>1</td><td>6.1250</td><td>0</td><td>0</td><td> NA</td><td>0</td><td>1</td><td>5.625000</td><td>0</td><td>1</td><td>6.000</td><td>3</td><td>1</td><td>6.6250</td></tr>\n",
       "\t<tr><th scope=row>6</th><td>1105</td><td>female</td><td>white         </td><td>Larkin   </td><td>6.666667</td><td>5.750</td><td>2.000000</td><td>2.0</td><td>4.5</td><td>5.0</td><td>5.0</td><td>2.0</td><td>4.5</td><td>0</td><td>170000</td><td>6.666667</td><td>2.000000</td><td>2.0</td><td>4</td><td> 0.48041399</td><td> 0.64021289</td><td>6</td><td>9</td><td>5.847222</td><td>4</td><td>5</td><td>6.0250</td><td>3</td><td>4</td><td>5.8125</td><td>2</td><td>3</td><td>6.125000</td><td>2</td><td>2</td><td>5.3750</td><td>2</td><td>2</td><td>6.3125</td><td>1</td><td>4</td><td>6.1875</td><td>2</td><td>1</td><td>6.8750</td><td>1</td><td>0</td><td> NA</td><td>2</td><td>3</td><td>5.750000</td><td>1</td><td>1</td><td>5.125</td><td>4</td><td>2</td><td>6.1875</td></tr>\n",
       "</tbody>\n",
       "</table>\n"
      ],
      "text/latex": [
       "A data.frame: 6 × 57\n",
       "\\begin{tabular}{r|lllllllllllllllllllllllllllllllllllllllllllllllllllllllll}\n",
       "  & PID & gender & race & dorm & life\\_satisfaction\\_t1 & empathy & loneliness\\_t1 & stress\\_t1 & BFI\\_E & BFI\\_A & BFI\\_C & BFI\\_N & BFI\\_O & intl\\_student & family\\_income & life\\_satisfaction\\_t2 & loneliness\\_t2 & stress\\_t2 & parent\\_education\\_highest & wellbeing\\_composite\\_t1 & wellbeing\\_composite\\_t2 & degree\\_in\\_UNION & degree\\_out\\_UNION & empathy\\_UNION & degree\\_in\\_INTIMATE & degree\\_out\\_INTIMATE & empathy\\_INTIMATE & degree\\_in\\_CloseFrds & degree\\_out\\_CloseFrds & empathy\\_CloseFrds & degree\\_in\\_NegEmoSupp & degree\\_out\\_NegEmoSupp & empathy\\_NegEmoSupp & degree\\_in\\_PosEmoSupp & degree\\_out\\_PosEmoSupp & empathy\\_PosEmoSupp & degree\\_in\\_Responsive & degree\\_out\\_Responsive & empathy\\_Responsive & degree\\_in\\_EmpSupp & degree\\_out\\_EmpSupp & empathy\\_EmpSupp & degree\\_in\\_PosAff & degree\\_out\\_PosAff & empathy\\_PosAff & degree\\_in\\_NegAff & degree\\_out\\_NegAff & empathy\\_NegAff & degree\\_in\\_Gossip & degree\\_out\\_Gossip & empathy\\_Gossip & degree\\_in\\_Liked & degree\\_out\\_Liked & empathy\\_Liked & degree\\_in\\_StudyWith & degree\\_out\\_StudyWith & empathy\\_StudyWith\\\\\n",
       "  & <int> & <fct> & <fct> & <fct> & <dbl> & <dbl> & <dbl> & <dbl> & <dbl> & <dbl> & <dbl> & <dbl> & <dbl> & <dbl{[},1{]}> & <dbl> & <dbl> & <dbl> & <dbl> & <dbl> & <dbl> & <dbl> & <dbl> & <dbl> & <dbl> & <dbl> & <dbl> & <dbl> & <dbl> & <dbl> & <dbl> & <dbl> & <dbl> & <dbl> & <dbl> & <dbl> & <dbl> & <dbl> & <dbl> & <dbl> & <dbl> & <dbl> & <dbl> & <dbl> & <dbl> & <dbl> & <dbl> & <dbl> & <dbl> & <dbl> & <dbl> & <dbl> & <dbl> & <dbl> & <dbl> & <dbl> & <dbl> & <dbl>\\\\\n",
       "\\hline\n",
       "\t1 & 1001 & male   & south\\_asian    & Rinconada & 4.833333 & 6.375 & 1.333333 & 2.5 & 6.5 & 6.0 & 5.5 & 3.5 & 6.5 & 0 &  70000 & 6.166667 & 2.000000 & 1.5 & 5 & -0.05862651 &  0.83993983 & 3 & 0 &       NA & 1 & 0 &     NA & 1 & 0 &     NA & 0 & 0 &       NA & 2 & 0 &     NA & 0 & 0 &     NA & 0 & 0 &     NA & 1 & 0 &     NA & 0 & 0 &  NA & 1 & 0 &       NA & 1 & 0 &    NA & 1 & 0 &     NA\\\\\n",
       "\t2 & 1004 & female & south\\_asian    & Donner    & 2.833333 & 6.000 & 2.000000 & 2.0 & 4.0 & 5.5 & 4.5 & 3.0 & 5.5 & 1 &  10000 & 3.000000 & 2.666667 & 3.0 & 1 & -0.98138408 & -1.95722956 & 7 & 6 & 5.479167 & 5 & 4 & 5.6250 & 4 & 4 & 5.6250 & 5 & 1 & 4.750000 & 4 & 4 & 5.4375 & 2 & 2 & 5.5000 & 3 & 1 & 4.7500 & 2 & 1 & 4.7500 & 1 & 0 &  NA & 1 & 1 & 4.750000 & 1 & 1 & 4.750 & 3 & 2 & 5.5625\\\\\n",
       "\t3 & 1047 & female & other\\_or\\_mixed & Twain     & 5.333333 & 6.500 & 2.000000 & 2.5 & 5.5 & 6.5 & 7.0 & 3.0 & 6.5 & 0 & 210000 & 5.166667 & 2.000000 & 3.0 & 5 & -0.44690440 & -0.66253028 & 6 & 4 & 6.437500 & 4 & 4 & 6.4375 & 4 & 4 & 6.4375 & 4 & 3 & 6.541667 & 3 & 4 & 6.4375 & 2 & 2 & 6.5625 & 1 & 2 & 6.5625 & 3 & 4 & 6.4375 & 1 & 1 & 6.5 & 4 & 3 & 6.541667 & 1 & 2 & 6.000 & 2 & 1 & 6.6250\\\\\n",
       "\t4 & 1078 & female & east\\_asian     & Loro      & 5.500000 & 6.250 & 1.333333 & 2.0 & 4.5 & 6.5 & 6.5 & 1.5 & 6.5 & 0 & 130000 & 5.500000 & 2.333333 & 3.0 & 6 &  0.61446613 & -0.79801599 & 1 & 0 &       NA & 1 & 0 &     NA & 1 & 0 &     NA & 0 & 0 &       NA & 1 & 0 &     NA & 1 & 0 &     NA & 0 & 0 &     NA & 0 & 0 &     NA & 0 & 1 & 5.0 & 0 & 0 &       NA & 0 & 0 &    NA & 0 & 0 &     NA\\\\\n",
       "\t5 & 1097 & male   & east\\_asian     & Otero     & 6.000000 & 5.000 & 2.000000 & 2.0 & 3.0 & 4.0 & 5.5 & 1.5 & 4.5 & 0 &  90000 & 5.833333 & 2.000000 & 2.5 & 6 &  0.22618824 & -0.04126834 & 6 & 4 & 5.812500 & 3 & 1 & 5.6250 & 2 & 1 & 5.6250 & 1 & 1 & 5.625000 & 1 & 1 & 6.6250 & 0 & 1 & 5.6250 & 0 & 1 & 4.8750 & 1 & 1 & 6.1250 & 0 & 0 &  NA & 0 & 1 & 5.625000 & 0 & 1 & 6.000 & 3 & 1 & 6.6250\\\\\n",
       "\t6 & 1105 & female & white          & Larkin    & 6.666667 & 5.750 & 2.000000 & 2.0 & 4.5 & 5.0 & 5.0 & 2.0 & 4.5 & 0 & 170000 & 6.666667 & 2.000000 & 2.0 & 4 &  0.48041399 &  0.64021289 & 6 & 9 & 5.847222 & 4 & 5 & 6.0250 & 3 & 4 & 5.8125 & 2 & 3 & 6.125000 & 2 & 2 & 5.3750 & 2 & 2 & 6.3125 & 1 & 4 & 6.1875 & 2 & 1 & 6.8750 & 1 & 0 &  NA & 2 & 3 & 5.750000 & 1 & 1 & 5.125 & 4 & 2 & 6.1875\\\\\n",
       "\\end{tabular}\n"
      ],
      "text/markdown": [
       "\n",
       "A data.frame: 6 × 57\n",
       "\n",
       "| <!--/--> | PID &lt;int&gt; | gender &lt;fct&gt; | race &lt;fct&gt; | dorm &lt;fct&gt; | life_satisfaction_t1 &lt;dbl&gt; | empathy &lt;dbl&gt; | loneliness_t1 &lt;dbl&gt; | stress_t1 &lt;dbl&gt; | BFI_E &lt;dbl&gt; | BFI_A &lt;dbl&gt; | BFI_C &lt;dbl&gt; | BFI_N &lt;dbl&gt; | BFI_O &lt;dbl&gt; | intl_student &lt;dbl[,1]&gt; | family_income &lt;dbl&gt; | life_satisfaction_t2 &lt;dbl&gt; | loneliness_t2 &lt;dbl&gt; | stress_t2 &lt;dbl&gt; | parent_education_highest &lt;dbl&gt; | wellbeing_composite_t1 &lt;dbl&gt; | wellbeing_composite_t2 &lt;dbl&gt; | degree_in_UNION &lt;dbl&gt; | degree_out_UNION &lt;dbl&gt; | empathy_UNION &lt;dbl&gt; | degree_in_INTIMATE &lt;dbl&gt; | degree_out_INTIMATE &lt;dbl&gt; | empathy_INTIMATE &lt;dbl&gt; | degree_in_CloseFrds &lt;dbl&gt; | degree_out_CloseFrds &lt;dbl&gt; | empathy_CloseFrds &lt;dbl&gt; | degree_in_NegEmoSupp &lt;dbl&gt; | degree_out_NegEmoSupp &lt;dbl&gt; | empathy_NegEmoSupp &lt;dbl&gt; | degree_in_PosEmoSupp &lt;dbl&gt; | degree_out_PosEmoSupp &lt;dbl&gt; | empathy_PosEmoSupp &lt;dbl&gt; | degree_in_Responsive &lt;dbl&gt; | degree_out_Responsive &lt;dbl&gt; | empathy_Responsive &lt;dbl&gt; | degree_in_EmpSupp &lt;dbl&gt; | degree_out_EmpSupp &lt;dbl&gt; | empathy_EmpSupp &lt;dbl&gt; | degree_in_PosAff &lt;dbl&gt; | degree_out_PosAff &lt;dbl&gt; | empathy_PosAff &lt;dbl&gt; | degree_in_NegAff &lt;dbl&gt; | degree_out_NegAff &lt;dbl&gt; | empathy_NegAff &lt;dbl&gt; | degree_in_Gossip &lt;dbl&gt; | degree_out_Gossip &lt;dbl&gt; | empathy_Gossip &lt;dbl&gt; | degree_in_Liked &lt;dbl&gt; | degree_out_Liked &lt;dbl&gt; | empathy_Liked &lt;dbl&gt; | degree_in_StudyWith &lt;dbl&gt; | degree_out_StudyWith &lt;dbl&gt; | empathy_StudyWith &lt;dbl&gt; |\n",
       "|---|---|---|---|---|---|---|---|---|---|---|---|---|---|---|---|---|---|---|---|---|---|---|---|---|---|---|---|---|---|---|---|---|---|---|---|---|---|---|---|---|---|---|---|---|---|---|---|---|---|---|---|---|---|---|---|---|---|\n",
       "| 1 | 1001 | male   | south_asian    | Rinconada | 4.833333 | 6.375 | 1.333333 | 2.5 | 6.5 | 6.0 | 5.5 | 3.5 | 6.5 | 0 |  70000 | 6.166667 | 2.000000 | 1.5 | 5 | -0.05862651 |  0.83993983 | 3 | 0 |       NA | 1 | 0 |     NA | 1 | 0 |     NA | 0 | 0 |       NA | 2 | 0 |     NA | 0 | 0 |     NA | 0 | 0 |     NA | 1 | 0 |     NA | 0 | 0 |  NA | 1 | 0 |       NA | 1 | 0 |    NA | 1 | 0 |     NA |\n",
       "| 2 | 1004 | female | south_asian    | Donner    | 2.833333 | 6.000 | 2.000000 | 2.0 | 4.0 | 5.5 | 4.5 | 3.0 | 5.5 | 1 |  10000 | 3.000000 | 2.666667 | 3.0 | 1 | -0.98138408 | -1.95722956 | 7 | 6 | 5.479167 | 5 | 4 | 5.6250 | 4 | 4 | 5.6250 | 5 | 1 | 4.750000 | 4 | 4 | 5.4375 | 2 | 2 | 5.5000 | 3 | 1 | 4.7500 | 2 | 1 | 4.7500 | 1 | 0 |  NA | 1 | 1 | 4.750000 | 1 | 1 | 4.750 | 3 | 2 | 5.5625 |\n",
       "| 3 | 1047 | female | other_or_mixed | Twain     | 5.333333 | 6.500 | 2.000000 | 2.5 | 5.5 | 6.5 | 7.0 | 3.0 | 6.5 | 0 | 210000 | 5.166667 | 2.000000 | 3.0 | 5 | -0.44690440 | -0.66253028 | 6 | 4 | 6.437500 | 4 | 4 | 6.4375 | 4 | 4 | 6.4375 | 4 | 3 | 6.541667 | 3 | 4 | 6.4375 | 2 | 2 | 6.5625 | 1 | 2 | 6.5625 | 3 | 4 | 6.4375 | 1 | 1 | 6.5 | 4 | 3 | 6.541667 | 1 | 2 | 6.000 | 2 | 1 | 6.6250 |\n",
       "| 4 | 1078 | female | east_asian     | Loro      | 5.500000 | 6.250 | 1.333333 | 2.0 | 4.5 | 6.5 | 6.5 | 1.5 | 6.5 | 0 | 130000 | 5.500000 | 2.333333 | 3.0 | 6 |  0.61446613 | -0.79801599 | 1 | 0 |       NA | 1 | 0 |     NA | 1 | 0 |     NA | 0 | 0 |       NA | 1 | 0 |     NA | 1 | 0 |     NA | 0 | 0 |     NA | 0 | 0 |     NA | 0 | 1 | 5.0 | 0 | 0 |       NA | 0 | 0 |    NA | 0 | 0 |     NA |\n",
       "| 5 | 1097 | male   | east_asian     | Otero     | 6.000000 | 5.000 | 2.000000 | 2.0 | 3.0 | 4.0 | 5.5 | 1.5 | 4.5 | 0 |  90000 | 5.833333 | 2.000000 | 2.5 | 6 |  0.22618824 | -0.04126834 | 6 | 4 | 5.812500 | 3 | 1 | 5.6250 | 2 | 1 | 5.6250 | 1 | 1 | 5.625000 | 1 | 1 | 6.6250 | 0 | 1 | 5.6250 | 0 | 1 | 4.8750 | 1 | 1 | 6.1250 | 0 | 0 |  NA | 0 | 1 | 5.625000 | 0 | 1 | 6.000 | 3 | 1 | 6.6250 |\n",
       "| 6 | 1105 | female | white          | Larkin    | 6.666667 | 5.750 | 2.000000 | 2.0 | 4.5 | 5.0 | 5.0 | 2.0 | 4.5 | 0 | 170000 | 6.666667 | 2.000000 | 2.0 | 4 |  0.48041399 |  0.64021289 | 6 | 9 | 5.847222 | 4 | 5 | 6.0250 | 3 | 4 | 5.8125 | 2 | 3 | 6.125000 | 2 | 2 | 5.3750 | 2 | 2 | 6.3125 | 1 | 4 | 6.1875 | 2 | 1 | 6.8750 | 1 | 0 |  NA | 2 | 3 | 5.750000 | 1 | 1 | 5.125 | 4 | 2 | 6.1875 |\n",
       "\n"
      ],
      "text/plain": [
       "  PID  gender race           dorm      life_satisfaction_t1 empathy\n",
       "1 1001 male   south_asian    Rinconada 4.833333             6.375  \n",
       "2 1004 female south_asian    Donner    2.833333             6.000  \n",
       "3 1047 female other_or_mixed Twain     5.333333             6.500  \n",
       "4 1078 female east_asian     Loro      5.500000             6.250  \n",
       "5 1097 male   east_asian     Otero     6.000000             5.000  \n",
       "6 1105 female white          Larkin    6.666667             5.750  \n",
       "  loneliness_t1 stress_t1 BFI_E BFI_A BFI_C BFI_N BFI_O intl_student\n",
       "1 1.333333      2.5       6.5   6.0   5.5   3.5   6.5   0           \n",
       "2 2.000000      2.0       4.0   5.5   4.5   3.0   5.5   1           \n",
       "3 2.000000      2.5       5.5   6.5   7.0   3.0   6.5   0           \n",
       "4 1.333333      2.0       4.5   6.5   6.5   1.5   6.5   0           \n",
       "5 2.000000      2.0       3.0   4.0   5.5   1.5   4.5   0           \n",
       "6 2.000000      2.0       4.5   5.0   5.0   2.0   4.5   0           \n",
       "  family_income life_satisfaction_t2 loneliness_t2 stress_t2\n",
       "1  70000        6.166667             2.000000      1.5      \n",
       "2  10000        3.000000             2.666667      3.0      \n",
       "3 210000        5.166667             2.000000      3.0      \n",
       "4 130000        5.500000             2.333333      3.0      \n",
       "5  90000        5.833333             2.000000      2.5      \n",
       "6 170000        6.666667             2.000000      2.0      \n",
       "  parent_education_highest wellbeing_composite_t1 wellbeing_composite_t2\n",
       "1 5                        -0.05862651             0.83993983           \n",
       "2 1                        -0.98138408            -1.95722956           \n",
       "3 5                        -0.44690440            -0.66253028           \n",
       "4 6                         0.61446613            -0.79801599           \n",
       "5 6                         0.22618824            -0.04126834           \n",
       "6 4                         0.48041399             0.64021289           \n",
       "  degree_in_UNION degree_out_UNION empathy_UNION degree_in_INTIMATE\n",
       "1 3               0                      NA      1                 \n",
       "2 7               6                5.479167      5                 \n",
       "3 6               4                6.437500      4                 \n",
       "4 1               0                      NA      1                 \n",
       "5 6               4                5.812500      3                 \n",
       "6 6               9                5.847222      4                 \n",
       "  degree_out_INTIMATE empathy_INTIMATE degree_in_CloseFrds degree_out_CloseFrds\n",
       "1 0                       NA           1                   0                   \n",
       "2 4                   5.6250           4                   4                   \n",
       "3 4                   6.4375           4                   4                   \n",
       "4 0                       NA           1                   0                   \n",
       "5 1                   5.6250           2                   1                   \n",
       "6 5                   6.0250           3                   4                   \n",
       "  empathy_CloseFrds degree_in_NegEmoSupp degree_out_NegEmoSupp\n",
       "1     NA            0                    0                    \n",
       "2 5.6250            5                    1                    \n",
       "3 6.4375            4                    3                    \n",
       "4     NA            0                    0                    \n",
       "5 5.6250            1                    1                    \n",
       "6 5.8125            2                    3                    \n",
       "  empathy_NegEmoSupp degree_in_PosEmoSupp degree_out_PosEmoSupp\n",
       "1       NA           2                    0                    \n",
       "2 4.750000           4                    4                    \n",
       "3 6.541667           3                    4                    \n",
       "4       NA           1                    0                    \n",
       "5 5.625000           1                    1                    \n",
       "6 6.125000           2                    2                    \n",
       "  empathy_PosEmoSupp degree_in_Responsive degree_out_Responsive\n",
       "1     NA             0                    0                    \n",
       "2 5.4375             2                    2                    \n",
       "3 6.4375             2                    2                    \n",
       "4     NA             1                    0                    \n",
       "5 6.6250             0                    1                    \n",
       "6 5.3750             2                    2                    \n",
       "  empathy_Responsive degree_in_EmpSupp degree_out_EmpSupp empathy_EmpSupp\n",
       "1     NA             0                 0                      NA         \n",
       "2 5.5000             3                 1                  4.7500         \n",
       "3 6.5625             1                 2                  6.5625         \n",
       "4     NA             0                 0                      NA         \n",
       "5 5.6250             0                 1                  4.8750         \n",
       "6 6.3125             1                 4                  6.1875         \n",
       "  degree_in_PosAff degree_out_PosAff empathy_PosAff degree_in_NegAff\n",
       "1 1                0                     NA         0               \n",
       "2 2                1                 4.7500         1               \n",
       "3 3                4                 6.4375         1               \n",
       "4 0                0                     NA         0               \n",
       "5 1                1                 6.1250         0               \n",
       "6 2                1                 6.8750         1               \n",
       "  degree_out_NegAff empathy_NegAff degree_in_Gossip degree_out_Gossip\n",
       "1 0                  NA            1                0                \n",
       "2 0                  NA            1                1                \n",
       "3 1                 6.5            4                3                \n",
       "4 1                 5.0            0                0                \n",
       "5 0                  NA            0                1                \n",
       "6 0                  NA            2                3                \n",
       "  empathy_Gossip degree_in_Liked degree_out_Liked empathy_Liked\n",
       "1       NA       1               0                   NA        \n",
       "2 4.750000       1               1                4.750        \n",
       "3 6.541667       1               2                6.000        \n",
       "4       NA       0               0                   NA        \n",
       "5 5.625000       0               1                6.000        \n",
       "6 5.750000       1               1                5.125        \n",
       "  degree_in_StudyWith degree_out_StudyWith empathy_StudyWith\n",
       "1 1                   0                        NA           \n",
       "2 3                   2                    5.5625           \n",
       "3 2                   1                    6.6250           \n",
       "4 0                   0                        NA           \n",
       "5 3                   1                    6.6250           \n",
       "6 4                   2                    6.1875           "
      ]
     },
     "metadata": {},
     "output_type": "display_data"
    }
   ],
   "source": [
    "for (nt in unique(nominations$Network_Type)) {\n",
    "    print(nt)\n",
    "    tmp = nominations %>% filter(Network_Type == nt)\n",
    "    df = add_network_columns(df, tmp, nt)\n",
    "}\n",
    "head(df)"
   ]
  },
  {
   "cell_type": "markdown",
   "metadata": {},
   "source": [
    "### A look at in and out degree distributions, to be sure they seem sane"
   ]
  },
  {
   "cell_type": "code",
   "execution_count": 55,
   "metadata": {},
   "outputs": [
    {
     "data": {
      "image/png": "[encoded data removed]",
      "text/plain": [
       "plot without title"
      ]
     },
     "metadata": {
      "image/png": {
       "height": 420,
       "width": 420
      },
      "text/plain": {
       "height": 420,
       "width": 420
      }
     },
     "output_type": "display_data"
    }
   ],
   "source": [
    "ggplot(df) +\n",
    "  geom_histogram(aes(x=degree_in_UNION), binwidth=1) +\n",
    "  ggtitle(\"In-degree distribution (UNION)\")"
   ]
  },
  {
   "cell_type": "code",
   "execution_count": 56,
   "metadata": {},
   "outputs": [
    {
     "data": {
      "image/png": "[encoded data removed]",
      "text/plain": [
       "plot without title"
      ]
     },
     "metadata": {
      "image/png": {
       "height": 420,
       "width": 420
      },
      "text/plain": {
       "height": 420,
       "width": 420
      }
     },
     "output_type": "display_data"
    }
   ],
   "source": [
    "ggplot(df) +\n",
    "  geom_histogram(aes(x=degree_out_UNION), binwidth=1) +\n",
    "  ggtitle(\"In-degree distribution (UNION)\")"
   ]
  },
  {
   "cell_type": "markdown",
   "metadata": {},
   "source": [
    "## Train-test split and write"
   ]
  },
  {
   "cell_type": "code",
   "execution_count": 57,
   "metadata": {},
   "outputs": [
    {
     "data": {
      "text/plain": [
       "\n",
       "         Larkin           Roble            Soto         FroSoCo         Burbank \n",
       "             55              49              47              42              39 \n",
       "          Twain           Otero          Donner        Junipero           Cedro \n",
       "             39              37              36              33              31 \n",
       "         Arroyo       Rinconada           Meier      Sally Ride         Alondra \n",
       "             30              30              28              26              24 \n",
       "      Norcliffe          Ujamaa        Cardenal          Faisan           Okada \n",
       "             24              21              20              16              15 \n",
       "           Loro       Eucalipto         Granada          Zapata         Gavilan \n",
       "             13              12              11               9               8 \n",
       "Muwekma-Tah-Ruk            #N/A      664 Lomita \n",
       "              7               0               0 "
      ]
     },
     "metadata": {},
     "output_type": "display_data"
    }
   ],
   "source": [
    "dorm_counts = sort(table(df$dorm), decreasing=TRUE)\n",
    "dorm_counts"
   ]
  },
  {
   "cell_type": "code",
   "execution_count": 58,
   "metadata": {},
   "outputs": [
    {
     "data": {
      "text/html": [
       "<ol class=list-inline>\n",
       "\t<li>'Larkin'</li>\n",
       "\t<li>'Roble'</li>\n",
       "\t<li>'FroSoCo'</li>\n",
       "\t<li>'Burbank'</li>\n",
       "\t<li>'Twain'</li>\n",
       "\t<li>'Otero'</li>\n",
       "\t<li>'Junipero'</li>\n",
       "\t<li>'Cedro'</li>\n",
       "\t<li>'Arroyo'</li>\n",
       "\t<li>'Rinconada'</li>\n",
       "\t<li>'Sally Ride'</li>\n",
       "\t<li>'Alondra'</li>\n",
       "\t<li>'Norcliffe'</li>\n",
       "\t<li>'Ujamaa'</li>\n",
       "\t<li>'Faisan'</li>\n",
       "\t<li>'Okada'</li>\n",
       "\t<li>'Loro'</li>\n",
       "\t<li>'Eucalipto'</li>\n",
       "\t<li>'Zapata'</li>\n",
       "\t<li>'Gavilan'</li>\n",
       "\t<li>'Muwekma-Tah-Ruk'</li>\n",
       "\t<li>'#N/A'</li>\n",
       "</ol>\n"
      ],
      "text/latex": [
       "\\begin{enumerate*}\n",
       "\\item 'Larkin'\n",
       "\\item 'Roble'\n",
       "\\item 'FroSoCo'\n",
       "\\item 'Burbank'\n",
       "\\item 'Twain'\n",
       "\\item 'Otero'\n",
       "\\item 'Junipero'\n",
       "\\item 'Cedro'\n",
       "\\item 'Arroyo'\n",
       "\\item 'Rinconada'\n",
       "\\item 'Sally Ride'\n",
       "\\item 'Alondra'\n",
       "\\item 'Norcliffe'\n",
       "\\item 'Ujamaa'\n",
       "\\item 'Faisan'\n",
       "\\item 'Okada'\n",
       "\\item 'Loro'\n",
       "\\item 'Eucalipto'\n",
       "\\item 'Zapata'\n",
       "\\item 'Gavilan'\n",
       "\\item 'Muwekma-Tah-Ruk'\n",
       "\\item '\\#N/A'\n",
       "\\end{enumerate*}\n"
      ],
      "text/markdown": [
       "1. 'Larkin'\n",
       "2. 'Roble'\n",
       "3. 'FroSoCo'\n",
       "4. 'Burbank'\n",
       "5. 'Twain'\n",
       "6. 'Otero'\n",
       "7. 'Junipero'\n",
       "8. 'Cedro'\n",
       "9. 'Arroyo'\n",
       "10. 'Rinconada'\n",
       "11. 'Sally Ride'\n",
       "12. 'Alondra'\n",
       "13. 'Norcliffe'\n",
       "14. 'Ujamaa'\n",
       "15. 'Faisan'\n",
       "16. 'Okada'\n",
       "17. 'Loro'\n",
       "18. 'Eucalipto'\n",
       "19. 'Zapata'\n",
       "20. 'Gavilan'\n",
       "21. 'Muwekma-Tah-Ruk'\n",
       "22. '#N/A'\n",
       "\n",
       "\n"
      ],
      "text/plain": [
       " [1] \"Larkin\"          \"Roble\"           \"FroSoCo\"         \"Burbank\"        \n",
       " [5] \"Twain\"           \"Otero\"           \"Junipero\"        \"Cedro\"          \n",
       " [9] \"Arroyo\"          \"Rinconada\"       \"Sally Ride\"      \"Alondra\"        \n",
       "[13] \"Norcliffe\"       \"Ujamaa\"          \"Faisan\"          \"Okada\"          \n",
       "[17] \"Loro\"            \"Eucalipto\"       \"Zapata\"          \"Gavilan\"        \n",
       "[21] \"Muwekma-Tah-Ruk\" \"#N/A\"           "
      ]
     },
     "metadata": {},
     "output_type": "display_data"
    }
   ],
   "source": [
    "train_dorms = row.names(dorm_counts[c(TRUE, TRUE, FALSE, TRUE, TRUE)])\n",
    "train_dorms"
   ]
  },
  {
   "cell_type": "code",
   "execution_count": 59,
   "metadata": {},
   "outputs": [
    {
     "data": {
      "text/html": [
       "<ol class=list-inline>\n",
       "\t<li>'Soto'</li>\n",
       "\t<li>'Donner'</li>\n",
       "\t<li>'Meier'</li>\n",
       "\t<li>'Cardenal'</li>\n",
       "\t<li>'Granada'</li>\n",
       "\t<li>'664 Lomita'</li>\n",
       "</ol>\n"
      ],
      "text/latex": [
       "\\begin{enumerate*}\n",
       "\\item 'Soto'\n",
       "\\item 'Donner'\n",
       "\\item 'Meier'\n",
       "\\item 'Cardenal'\n",
       "\\item 'Granada'\n",
       "\\item '664 Lomita'\n",
       "\\end{enumerate*}\n"
      ],
      "text/markdown": [
       "1. 'Soto'\n",
       "2. 'Donner'\n",
       "3. 'Meier'\n",
       "4. 'Cardenal'\n",
       "5. 'Granada'\n",
       "6. '664 Lomita'\n",
       "\n",
       "\n"
      ],
      "text/plain": [
       "[1] \"Soto\"       \"Donner\"     \"Meier\"      \"Cardenal\"   \"Granada\"   \n",
       "[6] \"664 Lomita\""
      ]
     },
     "metadata": {},
     "output_type": "display_data"
    }
   ],
   "source": [
    "test_dorms = row.names(dorm_counts[c(FALSE, FALSE, TRUE, FALSE, FALSE)])\n",
    "test_dorms"
   ]
  },
  {
   "cell_type": "code",
   "execution_count": 60,
   "metadata": {},
   "outputs": [],
   "source": [
    "df_train = df %>% filter(dorm %in% train_dorms)\n",
    "df_test = df %>% filter(dorm %in% test_dorms)\n",
    "\n",
    "write.csv(df_train, paste(DATA_DIR, 'postprocessed/df_Rcleaned_train.csv', sep=''))\n",
    "write.csv(df_test, paste(DATA_DIR, 'postprocessed/df_Rcleaned_test.csv', sep=''))"
   ]
  },
  {
   "cell_type": "code",
   "execution_count": null,
   "metadata": {},
   "outputs": [],
   "source": []
  },
  {
   "cell_type": "code",
   "execution_count": null,
   "metadata": {},
   "outputs": [],
   "source": []
  }
 ],
 "metadata": {
  "kernelspec": {
   "display_name": "R",
   "language": "R",
   "name": "r-3.6.2"
  },
  "language_info": {
   "codemirror_mode": "r",
   "file_extension": ".r",
   "mimetype": "text/x-r-source",
   "name": "R",
   "pygments_lexer": "r",
   "version": "3.6.2"
  },
  "toc": {
   "base_numbering": 1,
   "nav_menu": {},
   "number_sections": true,
   "sideBar": true,
   "skip_h1_title": true,
   "title_cell": "Table of Contents",
   "title_sidebar": "Contents",
   "toc_cell": true,
   "toc_position": {
    "height": "calc(100% - 180px)",
    "left": "10px",
    "top": "150px",
    "width": "198.906px"
   },
   "toc_section_display": true,
   "toc_window_display": true
  }
 },
 "nbformat": 4,
 "nbformat_minor": 2
}
